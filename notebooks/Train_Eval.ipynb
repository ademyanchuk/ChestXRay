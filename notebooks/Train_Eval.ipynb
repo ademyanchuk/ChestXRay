{
 "cells": [
  {
   "cell_type": "markdown",
   "metadata": {},
   "source": [
    "### Imports"
   ]
  },
  {
   "cell_type": "code",
   "execution_count": 1,
   "metadata": {},
   "outputs": [],
   "source": [
    "%load_ext autoreload\n",
    "%autoreload 2"
   ]
  },
  {
   "cell_type": "code",
   "execution_count": 2,
   "metadata": {},
   "outputs": [],
   "source": [
    "import random\n",
    "import os\n",
    "from collections import Counter\n",
    "import numpy as np\n",
    "import pandas as pd\n",
    "import matplotlib.pyplot as plt\n",
    "from tqdm import tqdm\n",
    "\n",
    "import torch\n",
    "import torch.nn as nn\n",
    "import torch.nn.functional as F\n",
    "from torch.utils.data import DataLoader, Dataset\n",
    "from torch.utils.tensorboard import SummaryWriter\n",
    "from torch.optim.lr_scheduler import ReduceLROnPlateau, StepLR\n",
    "import torchvision\n",
    "from torchvision import models\n",
    "from apex import amp\n",
    "\n",
    "from albumentations import Compose, Normalize\n",
    "from albumentations.pytorch import ToTensorV2, ToTensor\n",
    "\n",
    "from sklearn.metrics import cohen_kappa_score\n",
    "from sklearn.model_selection import StratifiedKFold\n",
    "from sklearn.metrics import confusion_matrix\n",
    "\n",
    "import cv2\n",
    "import skimage.io\n",
    "import IPython.display as display\n",
    "from PIL import Image\n",
    "\n",
    "plt.ion()\n",
    "%matplotlib inline\n",
    "%config InlineBackend.figure_format='retina'"
   ]
  },
  {
   "cell_type": "markdown",
   "metadata": {},
   "source": [
    "#### Local Imports"
   ]
  },
  {
   "cell_type": "code",
   "execution_count": 3,
   "metadata": {},
   "outputs": [],
   "source": [
    "# Paths\n",
    "from chestxray.config import (PANDA_PATH,\n",
    "                              MODEL_PATH,\n",
    "                              PANDA_IMGS,\n",
    "                              PANDA_MASKS,\n",
    "                              TRAIN_CSV)\n",
    "# Competition related config\n",
    "from chestxray.config import CFG\n",
    "\n",
    "# Misc\n",
    "from chestxray.misc import seed_torch\n",
    "\n",
    "# Datasets\n",
    "from chestxray.datasets import get_transforms, TrainDataset, TilesTrainDataset, LazyTilesDataset\n",
    "\n",
    "# Viz\n",
    "from chestxray.visualize import (show_from_ids, show_batch, imshow, \n",
    "                                 plot_classes_preds, reverse_show_img, \n",
    "                                 plot_confusion_matrix)\n",
    "\n",
    "# Nets\n",
    "from chestxray.nets import TinyV2ConvNet, make_RN50_cls\n",
    "from chestxray.model_utils import (trainable_params, cce_loss_at_init, \n",
    "                                   init_last_layer_bias)"
   ]
  },
  {
   "cell_type": "code",
   "execution_count": 4,
   "metadata": {},
   "outputs": [
    {
     "name": "stdout",
     "output_type": "stream",
     "text": [
      "cuda:0\n"
     ]
    }
   ],
   "source": [
    "device = torch.device(\"cuda:0\" if torch.cuda.is_available() else \"cpu\")\n",
    "print(device)"
   ]
  },
  {
   "cell_type": "code",
   "execution_count": 5,
   "metadata": {},
   "outputs": [
    {
     "name": "stdout",
     "output_type": "stream",
     "text": [
      "_CudaDeviceProperties(name='GeForce RTX 2070 SUPER', major=7, minor=5, total_memory=7979MB, multi_processor_count=40)\n"
     ]
    }
   ],
   "source": [
    "print(torch.cuda.get_device_properties(device))"
   ]
  },
  {
   "cell_type": "markdown",
   "metadata": {},
   "source": [
    "### Config"
   ]
  },
  {
   "cell_type": "code",
   "execution_count": 6,
   "metadata": {},
   "outputs": [],
   "source": [
    "# This notebook is debug only (to check all moving parts make sense)\n",
    "CFG.debug = False\n",
    "EXP_NAME = \"rn50_36tiles_rnd_medium_ilghtaug_lrdec\""
   ]
  },
  {
   "cell_type": "markdown",
   "metadata": {},
   "source": [
    "### Fix Random Seed"
   ]
  },
  {
   "cell_type": "code",
   "execution_count": 7,
   "metadata": {},
   "outputs": [],
   "source": [
    "seed_torch()"
   ]
  },
  {
   "cell_type": "markdown",
   "metadata": {},
   "source": [
    "#### Define Writer for Run\n"
   ]
  },
  {
   "cell_type": "code",
   "execution_count": 8,
   "metadata": {},
   "outputs": [],
   "source": [
    "# default `log_dir` is \"runs\" - we'll be more specific here\n",
    "writer = SummaryWriter(f'runs/{EXP_NAME}')"
   ]
  },
  {
   "cell_type": "markdown",
   "metadata": {},
   "source": [
    "### Load Data"
   ]
  },
  {
   "cell_type": "code",
   "execution_count": 9,
   "metadata": {},
   "outputs": [
    {
     "data": {
      "text/html": [
       "<div>\n",
       "<style scoped>\n",
       "    .dataframe tbody tr th:only-of-type {\n",
       "        vertical-align: middle;\n",
       "    }\n",
       "\n",
       "    .dataframe tbody tr th {\n",
       "        vertical-align: top;\n",
       "    }\n",
       "\n",
       "    .dataframe thead th {\n",
       "        text-align: right;\n",
       "    }\n",
       "</style>\n",
       "<table border=\"1\" class=\"dataframe\">\n",
       "  <thead>\n",
       "    <tr style=\"text-align: right;\">\n",
       "      <th></th>\n",
       "      <th>image_id</th>\n",
       "      <th>data_provider</th>\n",
       "      <th>isup_grade</th>\n",
       "      <th>gleason_score</th>\n",
       "    </tr>\n",
       "  </thead>\n",
       "  <tbody>\n",
       "    <tr>\n",
       "      <th>0</th>\n",
       "      <td>0005f7aaab2800f6170c399693a96917</td>\n",
       "      <td>karolinska</td>\n",
       "      <td>0</td>\n",
       "      <td>0+0</td>\n",
       "    </tr>\n",
       "    <tr>\n",
       "      <th>1</th>\n",
       "      <td>000920ad0b612851f8e01bcc880d9b3d</td>\n",
       "      <td>karolinska</td>\n",
       "      <td>0</td>\n",
       "      <td>0+0</td>\n",
       "    </tr>\n",
       "    <tr>\n",
       "      <th>2</th>\n",
       "      <td>0018ae58b01bdadc8e347995b69f99aa</td>\n",
       "      <td>radboud</td>\n",
       "      <td>4</td>\n",
       "      <td>4+4</td>\n",
       "    </tr>\n",
       "    <tr>\n",
       "      <th>3</th>\n",
       "      <td>001c62abd11fa4b57bf7a6c603a11bb9</td>\n",
       "      <td>karolinska</td>\n",
       "      <td>4</td>\n",
       "      <td>4+4</td>\n",
       "    </tr>\n",
       "    <tr>\n",
       "      <th>4</th>\n",
       "      <td>001d865e65ef5d2579c190a0e0350d8f</td>\n",
       "      <td>karolinska</td>\n",
       "      <td>0</td>\n",
       "      <td>0+0</td>\n",
       "    </tr>\n",
       "  </tbody>\n",
       "</table>\n",
       "</div>"
      ],
      "text/plain": [
       "                           image_id data_provider  isup_grade gleason_score\n",
       "0  0005f7aaab2800f6170c399693a96917    karolinska           0           0+0\n",
       "1  000920ad0b612851f8e01bcc880d9b3d    karolinska           0           0+0\n",
       "2  0018ae58b01bdadc8e347995b69f99aa       radboud           4           4+4\n",
       "3  001c62abd11fa4b57bf7a6c603a11bb9    karolinska           4           4+4\n",
       "4  001d865e65ef5d2579c190a0e0350d8f    karolinska           0           0+0"
      ]
     },
     "execution_count": 9,
     "metadata": {},
     "output_type": "execute_result"
    }
   ],
   "source": [
    "TRAIN_DF = pd.read_csv(TRAIN_CSV)\n",
    "TRAIN_DF.head()"
   ]
  },
  {
   "cell_type": "code",
   "execution_count": 10,
   "metadata": {},
   "outputs": [
    {
     "data": {
      "image/png": "[encoded data removed]",
      "text/plain": [
       "<Figure size 432x288 with 1 Axes>"
      ]
     },
     "metadata": {
      "image/png": {
       "height": 249,
       "width": 381
      },
      "needs_background": "light"
     },
     "output_type": "display_data"
    }
   ],
   "source": [
    "_ = TRAIN_DF[CFG.target_col].hist()"
   ]
  },
  {
   "cell_type": "markdown",
   "metadata": {},
   "source": [
    "### Train Eval Loop"
   ]
  },
  {
   "cell_type": "code",
   "execution_count": 11,
   "metadata": {},
   "outputs": [],
   "source": [
    "def train_eval_loop(train_dataset, val_dataset, model, optimizer, criterion, batch_sz=CFG.batch_size, num_epochs=CFG.epoch, tb_tag=\"\", model_name=\"debug\"):\n",
    "    # Write first layer weights to TB\n",
    "    if not CFG.debug:\n",
    "        conv1_weight = model.conv1.weight.data.to(\"cpu\")\n",
    "        img_grid = torchvision.utils.make_grid(conv1_weight, normalize=True)\n",
    "        writer.add_image(tag=f\"Model conv1 weights {tb_tag}\", img_tensor=img_grid, global_step=0)\n",
    "    \n",
    "    # define a data loader\n",
    "    train_dataloader = DataLoader(train_dataset, batch_size=batch_sz, shuffle=True, num_workers=8)\n",
    "    val_dataloader = DataLoader(val_dataset, batch_size=batch_sz, shuffle=False, num_workers=8)\n",
    "    model.to(device)\n",
    "    if CFG.use_amp:\n",
    "        model, optimizer = amp.initialize(model, optimizer, opt_level=\"O1\")\n",
    "    \n",
    "    scheduler = ReduceLROnPlateau(optimizer, 'min', factor=0.5, patience=3, verbose=True)\n",
    "#     scheduler = StepLR(optimizer, step_size=5, gamma=0.5)\n",
    "    # Define epochs numbers to look into input images and predictions\n",
    "    # No more than 10 times per full training\n",
    "    vis_step = np.ceil(num_epochs/10).astype(int)\n",
    "    visual_epochs = list(range(0, num_epochs, vis_step))\n",
    "    \n",
    "    best_qwk = -100\n",
    "    best_val_loss = np.inf\n",
    "    \n",
    "    for epoch in range(num_epochs):\n",
    "        print(f'Epoch {epoch}/{num_epochs - 1}')\n",
    "        print('=' * 10)\n",
    "        \n",
    "        # Training Phase\n",
    "        # Set training mode\n",
    "        model.train();\n",
    "        train_running_loss = 0.0\n",
    "        train_epoch_preds, train_epoch_labels = [], []\n",
    "        # create random step\n",
    "        rand_step = np.random.randint(0, len(train_dataloader))\n",
    "        \n",
    "        # Iterate over train data.\n",
    "        tk_train = tqdm(enumerate(train_dataloader), total=len(train_dataloader))\n",
    "        for i, data in tk_train:\n",
    "            # Calculate global step\n",
    "            train_global_step = epoch * len(train_dataloader) + i\n",
    "            \n",
    "            inputs, labels = data\n",
    "            # Visualize input to the model:\n",
    "            if epoch in visual_epochs and i == rand_step:\n",
    "                img = reverse_show_img(inputs[0])\n",
    "                writer.add_image(tag=f\"Input Image {tb_tag}\", img_tensor=img, global_step=train_global_step, dataformats=\"HWC\")\n",
    "                del img\n",
    "            \n",
    "            inputs = inputs.to(device)\n",
    "            labels = labels.to(device)\n",
    "\n",
    "            # zero the parameter gradients\n",
    "            optimizer.zero_grad()\n",
    "\n",
    "            outputs = model(inputs)\n",
    "            \n",
    "            loss = criterion(outputs, labels)\n",
    "            if CFG.use_amp:\n",
    "                with amp.scale_loss(loss, optimizer) as scaled_loss:\n",
    "                    scaled_loss.backward()\n",
    "            else:\n",
    "                loss.backward()\n",
    "            optimizer.step()\n",
    "            # loss is mean across batch, multiply by batch size\n",
    "            # divide by number of steps in epoch (so loss is normalized)\n",
    "            train_running_loss += loss.item() / len(train_dataloader)\n",
    "            # tensorboarding loss\n",
    "            writer.add_scalar(tag=f\"Training loss {tb_tag}\", scalar_value=loss.item(), global_step=train_global_step)\n",
    "            \n",
    "            # collect train preds and labels for QWK\n",
    "            train_epoch_preds.append(outputs.data.to('cpu').numpy().argmax(1))\n",
    "            train_epoch_labels.append(labels.to('cpu').numpy())\n",
    "        \n",
    "        # Validation Phase\n",
    "        # Set evaluation mode\n",
    "        model.eval();\n",
    "        val_running_loss = 0.0\n",
    "        val_epoch_preds, val_epoch_labels = [], []\n",
    "        # Iterate over val data\n",
    "        tk_val = tqdm(enumerate(val_dataloader), total=len(val_dataloader))\n",
    "        for j, data in tk_val:\n",
    "            # Calculate global step\n",
    "            val_global_step = epoch * len(val_dataloader) + j\n",
    "            inputs, labels = data\n",
    "            inputs = inputs.to(device)\n",
    "            labels = labels.to(device)\n",
    "            with torch.no_grad():\n",
    "                outputs = model(inputs)\n",
    "            loss = criterion(outputs, labels)\n",
    "            val_running_loss += loss.item() / len(val_dataloader)\n",
    "            # tensorboarding loss\n",
    "            writer.add_scalar(tag=f\"Validation loss {tb_tag}\", scalar_value=loss.item(), global_step=val_global_step)\n",
    "            \n",
    "            # collect validation preds and labels for QWK\n",
    "            val_epoch_preds.append(outputs.data.to('cpu').numpy().argmax(1))\n",
    "            val_epoch_labels.append(labels.to('cpu').numpy())\n",
    "            \n",
    "            # visualise predictions for 0th validation batch\n",
    "            if epoch in visual_epochs and j == 0:\n",
    "                writer.add_figure(tag=f\"Actuals vs Predictions {tb_tag}\", figure=plot_classes_preds(outputs.to('cpu'), inputs.to('cpu'), labels.to('cpu')), \n",
    "                                  global_step=val_global_step)\n",
    "        \n",
    "        # Schedulers\n",
    "        scheduler.step(val_running_loss)\n",
    "        # Write lr to TBD\n",
    "        writer.add_scalar(tag=f\"lr {tb_tag}:\", scalar_value=optimizer.param_groups[0][\"lr\"], global_step=train_global_step)\n",
    "        \n",
    "        # \"End of Epoch\" Phase\n",
    "        print(f'Training Loss: {train_running_loss:.4f}\\tValidation Loss: {val_running_loss:.4f}')\n",
    "        \n",
    "        # Calculate epoch QWK and preds distribution\n",
    "        train_epoch_preds = np.concatenate(train_epoch_preds)\n",
    "        train_epoch_labels = np.concatenate(train_epoch_labels)\n",
    "        val_epoch_preds = np.concatenate(val_epoch_preds)\n",
    "        val_epoch_labels = np.concatenate(val_epoch_labels)\n",
    "        print(f'Counter train preds: {Counter(train_epoch_preds)}\\tCounter val preds: {Counter(val_epoch_preds)}')\n",
    "        \n",
    "        train_qwk = cohen_kappa_score(train_epoch_preds, train_epoch_labels, weights='quadratic')\n",
    "        val_qwk = cohen_kappa_score(val_epoch_preds, val_epoch_labels, weights='quadratic')\n",
    "        print(f\"Epoch train QWK: {train_qwk:.3f}\\tval QWK: {val_qwk:.3f}\")\n",
    "        writer.add_scalar(tag=f\"Training QWK {tb_tag}\", scalar_value=train_qwk, global_step=epoch)\n",
    "        writer.add_scalar(tag=f\"Validation QWK {tb_tag}\", scalar_value=val_qwk, global_step=epoch)\n",
    "        \n",
    "        # On the best val loss do:\n",
    "        if val_running_loss < best_val_loss:\n",
    "            # update best and save model\n",
    "            best_val_loss = val_running_loss\n",
    "            print(f'  Epoch {epoch} - Save Best Loss: {best_val_loss:.4f} Model')\n",
    "            torch.save(model.state_dict(), f'{MODEL_PATH}/{model_name}_loss.pth')\n",
    "            \n",
    "            # add losses as text to TB\n",
    "            writer.add_text(\"On save:\", \n",
    "                            f\"tr_loss: {train_running_loss:.4f}, tr_qwk: {train_qwk:.4f}, val_loss: {val_running_loss:.4f}, val_qwk: {val_qwk:.4f}\",\n",
    "                            global_step=val_global_step)\n",
    "            \n",
    "            # add image of conv1 weights to TB\n",
    "            if not CFG.debug:\n",
    "                conv1_weight = model.conv1.weight.data.to(\"cpu\")\n",
    "                img_grid = torchvision.utils.make_grid(conv1_weight, normalize=True)\n",
    "                writer.add_image(tag=f\"Model conv1 weights {tb_tag}\", img_tensor=img_grid, global_step=val_global_step)\n",
    "            \n",
    "            # add confusion matrix to TB\n",
    "            writer.add_figure(tag=f\"Confusion matrix {tb_tag}\", figure=plot_confusion_matrix(val_epoch_labels, val_epoch_preds), \n",
    "                                  global_step=val_global_step)\n",
    "        # On the best QWK\n",
    "        if val_qwk > best_qwk:\n",
    "            # update best and save model\n",
    "            best_qwk = val_qwk\n",
    "            print(f'  Epoch {epoch} - Save Best QWK: {best_qwk:.4f} Model')\n",
    "            torch.save(model.state_dict(), f'{MODEL_PATH}/{model_name}_qwk.pth')\n",
    "            \n",
    "            # add losses and qwk as text to TB\n",
    "            writer.add_text(\"On save:\", \n",
    "                            f\"tr_loss: {train_running_loss:.4f}, tr_qwk: {train_qwk:.4f}, val_loss: {val_running_loss:.4f}, val_qwk: {val_qwk:.4f}\",\n",
    "                            global_step=val_global_step)\n",
    "            # add image of conv1 weights to TB\n",
    "            if not CFG.debug:\n",
    "                conv1_weight = model.conv1.weight.data.to(\"cpu\")\n",
    "                img_grid = torchvision.utils.make_grid(conv1_weight, normalize=True)\n",
    "                writer.add_image(tag=f\"Model conv1 weights {tb_tag}\", img_tensor=img_grid, global_step=val_global_step)\n",
    "            \n",
    "            # add confusion matrix to TB\n",
    "            writer.add_figure(tag=f\"Confusion matrix {tb_tag}\", figure=plot_confusion_matrix(val_epoch_labels, val_epoch_preds), \n",
    "                                  global_step=val_global_step)\n",
    "    \n",
    "    writer.close()"
   ]
  },
  {
   "cell_type": "markdown",
   "metadata": {},
   "source": [
    "### Prepare CV - strategy"
   ]
  },
  {
   "cell_type": "code",
   "execution_count": 12,
   "metadata": {},
   "outputs": [],
   "source": [
    "if CFG.debug:\n",
    "    folds_fn = \"folds_db.csv\"\n",
    "    try: \n",
    "        folds = pd.read_csv(PANDA_PATH/folds_fn)\n",
    "    except FileNotFoundError:\n",
    "        folds = TRAIN_DF.sample(n=100, random_state=CFG.seed).reset_index(drop=True).copy()\n",
    "else:\n",
    "    folds_fn = \"folds.csv\"\n",
    "    try:\n",
    "        folds = pd.read_csv(PANDA_PATH/folds_fn)\n",
    "    except FileNotFoundError:\n",
    "        folds = TRAIN_DF.copy()"
   ]
  },
  {
   "cell_type": "code",
   "execution_count": 13,
   "metadata": {},
   "outputs": [],
   "source": [
    "if not (PANDA_PATH/folds_fn).exists():\n",
    "    train_labels = folds[CFG.target_col].values\n",
    "    kf = StratifiedKFold(n_splits=CFG.n_fold, shuffle=True, random_state=CFG.seed)\n",
    "    for fold, (train_index, val_index) in enumerate(kf.split(folds.values, train_labels)):\n",
    "        folds.loc[val_index, 'fold'] = int(fold)\n",
    "    folds['fold'] = folds['fold'].astype(int)\n",
    "    folds.to_csv(PANDA_PATH/folds_fn, index=None)\n",
    "    folds.head()"
   ]
  },
  {
   "cell_type": "code",
   "execution_count": 14,
   "metadata": {},
   "outputs": [
    {
     "name": "stdout",
     "output_type": "stream",
     "text": [
      "<class 'pandas.core.frame.DataFrame'>\n",
      "RangeIndex: 10616 entries, 0 to 10615\n",
      "Data columns (total 5 columns):\n",
      " #   Column         Non-Null Count  Dtype \n",
      "---  ------         --------------  ----- \n",
      " 0   image_id       10616 non-null  object\n",
      " 1   data_provider  10616 non-null  object\n",
      " 2   isup_grade     10616 non-null  int64 \n",
      " 3   gleason_score  10616 non-null  object\n",
      " 4   fold           10616 non-null  int64 \n",
      "dtypes: int64(2), object(3)\n",
      "memory usage: 414.8+ KB\n"
     ]
    }
   ],
   "source": [
    "folds.info()"
   ]
  },
  {
   "cell_type": "markdown",
   "metadata": {},
   "source": [
    "### Debug Runs"
   ]
  },
  {
   "cell_type": "code",
   "execution_count": 14,
   "metadata": {},
   "outputs": [],
   "source": [
    "# default `log_dir` is \"runs\" - we'll be more specific here\n",
    "writer = SummaryWriter(f'runs/debug')"
   ]
  },
  {
   "cell_type": "code",
   "execution_count": 15,
   "metadata": {},
   "outputs": [],
   "source": [
    "writer.add_text(\"Experiment Description:\", \" \".join([f\"{key}: {val}\" for key, val in CFG.__dict__.items() if not key.startswith(\"__\")]))"
   ]
  },
  {
   "cell_type": "code",
   "execution_count": 16,
   "metadata": {
    "collapsed": true,
    "jupyter": {
     "outputs_hidden": true
    }
   },
   "outputs": [
    {
     "name": "stdout",
     "output_type": "stream",
     "text": [
      "Selected optimization level O1:  Insert automatic casts around Pytorch functions and Tensor methods.\n",
      "\n",
      "Defaults for this optimization level are:\n",
      "enabled                : True\n",
      "opt_level              : O1\n",
      "cast_model_type        : None\n",
      "patch_torch_functions  : True\n",
      "keep_batchnorm_fp32    : None\n",
      "master_weights         : None\n",
      "loss_scale             : dynamic\n",
      "Processing user overrides (additional kwargs that are not None)...\n",
      "After processing overrides, optimization options are:\n",
      "enabled                : True\n",
      "opt_level              : O1\n",
      "cast_model_type        : None\n",
      "patch_torch_functions  : True\n",
      "keep_batchnorm_fp32    : None\n",
      "master_weights         : None\n",
      "loss_scale             : dynamic\n",
      "Warning:  multi_tensor_applier fused unscale kernel is unavailable, possibly because apex was installed without --cuda_ext --cpp_ext. Using Python fallback.  Original ImportError was: ModuleNotFoundError(\"No module named 'amp_C'\")\n",
      "Epoch 0/9\n",
      "==========\n"
     ]
    },
    {
     "name": "stderr",
     "output_type": "stream",
     "text": [
      "100%|██████████| 498/498 [02:30<00:00,  3.31it/s]\n",
      "100%|██████████| 166/166 [00:15<00:00, 10.68it/s]\n"
     ]
    },
    {
     "name": "stdout",
     "output_type": "stream",
     "text": [
      "Training Loss: 1.3295\tValidation Loss: 1.1828\n",
      "Counter train preds: Counter({0: 3139, 1: 2181, 5: 989, 4: 583, 3: 578, 2: 492})\tCounter val preds: Counter({0: 988, 1: 803, 2: 264, 4: 249, 3: 189, 5: 161})\n",
      "Epoch train QWK: 0.592\tval QWK: 0.679\n",
      "  Epoch 0 - Save Best Loss: 1.1828 Model\n",
      "Confusion matrix, without normalization\n",
      "[[633  78   2   1   5   4]\n",
      " [192 423  36   5   8   2]\n",
      " [ 39 187  84  15   9   1]\n",
      " [ 40  61  82  81  31  16]\n",
      " [ 44  42  32  39 126  30]\n",
      " [ 40  12  28  48  70 108]]\n",
      "  Epoch 0 - Save Best QWK: 0.6792 Model\n",
      "Confusion matrix, without normalization\n",
      "[[633  78   2   1   5   4]\n",
      " [192 423  36   5   8   2]\n",
      " [ 39 187  84  15   9   1]\n",
      " [ 40  61  82  81  31  16]\n",
      " [ 44  42  32  39 126  30]\n",
      " [ 40  12  28  48  70 108]]\n",
      "Epoch 1/9\n",
      "==========\n"
     ]
    },
    {
     "name": "stderr",
     "output_type": "stream",
     "text": [
      "100%|██████████| 498/498 [02:30<00:00,  3.30it/s]\n",
      "100%|██████████| 166/166 [00:15<00:00, 10.57it/s]\n"
     ]
    },
    {
     "name": "stdout",
     "output_type": "stream",
     "text": [
      "Training Loss: 1.2105\tValidation Loss: 1.1365\n",
      "Counter train preds: Counter({0: 2998, 1: 2131, 5: 939, 3: 666, 4: 648, 2: 580})\tCounter val preds: Counter({0: 1220, 5: 408, 1: 401, 2: 258, 3: 195, 4: 172})\n",
      "Epoch train QWK: 0.665\tval QWK: 0.708\n",
      "  Epoch 1 - Save Best Loss: 1.1365 Model\n",
      "Confusion matrix, without normalization\n",
      "[[695  11   3   1   7   6]\n",
      " [285 264  88  14  14   1]\n",
      " [ 75  79 113  46  14   8]\n",
      " [ 60  23  33  85  28  82]\n",
      " [ 63  20  13  27  82 108]\n",
      " [ 42   4   8  22  27 203]]\n",
      "  Epoch 1 - Save Best QWK: 0.7078 Model\n",
      "Confusion matrix, without normalization\n",
      "[[695  11   3   1   7   6]\n",
      " [285 264  88  14  14   1]\n",
      " [ 75  79 113  46  14   8]\n",
      " [ 60  23  33  85  28  82]\n",
      " [ 63  20  13  27  82 108]\n",
      " [ 42   4   8  22  27 203]]\n",
      "Epoch 2/9\n",
      "==========\n"
     ]
    },
    {
     "name": "stderr",
     "output_type": "stream",
     "text": [
      "100%|██████████| 498/498 [02:29<00:00,  3.33it/s]\n",
      "100%|██████████| 166/166 [00:16<00:00,  9.90it/s]\n"
     ]
    },
    {
     "name": "stdout",
     "output_type": "stream",
     "text": [
      "Training Loss: 1.1466\tValidation Loss: 1.0919\n",
      "Counter train preds: Counter({0: 2957, 1: 2043, 5: 921, 4: 718, 2: 685, 3: 638})\tCounter val preds: Counter({0: 1004, 1: 684, 5: 488, 3: 237, 2: 128, 4: 113})\n",
      "Epoch train QWK: 0.697\tval QWK: 0.736\n",
      "  Epoch 2 - Save Best Loss: 1.0919 Model\n",
      "Confusion matrix, without normalization\n",
      "[[666  46   1   2   1   7]\n",
      " [175 429  27  17   7  11]\n",
      " [ 39 140  69  53  11  23]\n",
      " [ 49  35  14  97  17  99]\n",
      " [ 37  30  11  46  60 129]\n",
      " [ 38   4   6  22  17 219]]\n",
      "  Epoch 2 - Save Best QWK: 0.7355 Model\n",
      "Confusion matrix, without normalization\n",
      "[[666  46   1   2   1   7]\n",
      " [175 429  27  17   7  11]\n",
      " [ 39 140  69  53  11  23]\n",
      " [ 49  35  14  97  17  99]\n",
      " [ 37  30  11  46  60 129]\n",
      " [ 38   4   6  22  17 219]]\n",
      "Epoch 3/9\n",
      "==========\n"
     ]
    },
    {
     "name": "stderr",
     "output_type": "stream",
     "text": [
      "100%|██████████| 498/498 [02:33<00:00,  3.24it/s]\n",
      "100%|██████████| 166/166 [00:15<00:00, 10.64it/s]\n"
     ]
    },
    {
     "name": "stdout",
     "output_type": "stream",
     "text": [
      "Training Loss: 1.1210\tValidation Loss: 1.0817\n",
      "Counter train preds: Counter({0: 2903, 1: 2082, 5: 939, 3: 737, 4: 693, 2: 608})\tCounter val preds: Counter({1: 914, 0: 747, 3: 288, 4: 270, 5: 269, 2: 166})\n",
      "Epoch train QWK: 0.715\tval QWK: 0.763\n",
      "  Epoch 3 - Save Best Loss: 1.0817 Model\n",
      "Confusion matrix, without normalization\n",
      "[[546 164   3   3   4   3]\n",
      " [109 486  49  13   9   0]\n",
      " [ 18 154  77  71  10   5]\n",
      " [ 28  47  23 126  52  35]\n",
      " [ 20  50  10  47 133  53]\n",
      " [ 26  13   4  28  62 173]]\n",
      "  Epoch 3 - Save Best QWK: 0.7634 Model\n",
      "Confusion matrix, without normalization\n",
      "[[546 164   3   3   4   3]\n",
      " [109 486  49  13   9   0]\n",
      " [ 18 154  77  71  10   5]\n",
      " [ 28  47  23 126  52  35]\n",
      " [ 20  50  10  47 133  53]\n",
      " [ 26  13   4  28  62 173]]\n",
      "Epoch 4/9\n",
      "==========\n"
     ]
    },
    {
     "name": "stderr",
     "output_type": "stream",
     "text": [
      "100%|██████████| 498/498 [02:28<00:00,  3.35it/s]\n",
      "100%|██████████| 166/166 [00:15<00:00, 10.83it/s]\n"
     ]
    },
    {
     "name": "stdout",
     "output_type": "stream",
     "text": [
      "Training Loss: 1.0793\tValidation Loss: 1.0670\n",
      "Counter train preds: Counter({0: 2850, 1: 2100, 5: 960, 4: 693, 2: 681, 3: 678})\tCounter val preds: Counter({0: 1062, 1: 625, 4: 373, 5: 257, 3: 212, 2: 125})\n",
      "Epoch train QWK: 0.734\tval QWK: 0.752\n",
      "  Epoch 4 - Save Best Loss: 1.0670 Model\n",
      "Confusion matrix, without normalization\n",
      "[[687  22   0   3   8   3]\n",
      " [213 390  28  18  17   0]\n",
      " [ 47 152  57  51  25   3]\n",
      " [ 44  31  22  84  95  35]\n",
      " [ 38  23   9  36 159  48]\n",
      " [ 33   7   9  20  69 168]]\n",
      "Epoch 5/9\n",
      "==========\n"
     ]
    },
    {
     "name": "stderr",
     "output_type": "stream",
     "text": [
      " 30%|███       | 150/498 [00:44<01:39,  3.49it/s]"
     ]
    },
    {
     "name": "stdout",
     "output_type": "stream",
     "text": [
      "Gradient overflow.  Skipping step, loss scaler 0 reducing loss scale to 65536.0\n"
     ]
    },
    {
     "name": "stderr",
     "output_type": "stream",
     "text": [
      "100%|██████████| 498/498 [02:30<00:00,  3.31it/s]\n",
      "100%|██████████| 166/166 [00:15<00:00, 10.66it/s]\n"
     ]
    },
    {
     "name": "stdout",
     "output_type": "stream",
     "text": [
      "Training Loss: 1.0708\tValidation Loss: 1.0582\n",
      "Counter train preds: Counter({0: 2866, 1: 2091, 5: 912, 3: 748, 4: 722, 2: 623})\tCounter val preds: Counter({0: 905, 1: 840, 3: 358, 2: 213, 4: 176, 5: 162})\n",
      "Epoch train QWK: 0.738\tval QWK: 0.714\n",
      "  Epoch 5 - Save Best Loss: 1.0582 Model\n",
      "Confusion matrix, without normalization\n",
      "[[636  72   1   5   4   5]\n",
      " [141 488  17  16   2   2]\n",
      " [ 26 193  85  26   2   3]\n",
      " [ 37  38  66 142  12  16]\n",
      " [ 32  39  26  88 103  25]\n",
      " [ 33  10  18  81  53 111]]\n",
      "Epoch 6/9\n",
      "==========\n"
     ]
    },
    {
     "name": "stderr",
     "output_type": "stream",
     "text": [
      "100%|██████████| 498/498 [02:32<00:00,  3.27it/s]\n",
      "100%|██████████| 166/166 [00:15<00:00, 10.41it/s]"
     ]
    },
    {
     "name": "stdout",
     "output_type": "stream",
     "text": [
      "Training Loss: 1.0294\tValidation Loss: 1.0607\n",
      "Counter train preds: Counter({0: 2787, 1: 2104, 5: 935, 3: 761, 4: 716, 2: 659})\tCounter val preds: Counter({0: 888, 1: 854, 3: 280, 5: 254, 2: 232, 4: 146})\n",
      "Epoch train QWK: 0.752\tval QWK: 0.742\n",
      "Epoch 7/9\n",
      "==========\n"
     ]
    },
    {
     "name": "stderr",
     "output_type": "stream",
     "text": [
      "\n",
      "100%|██████████| 498/498 [02:30<00:00,  3.32it/s]\n",
      "100%|██████████| 166/166 [00:15<00:00, 10.74it/s]"
     ]
    },
    {
     "name": "stdout",
     "output_type": "stream",
     "text": [
      "Training Loss: 1.0140\tValidation Loss: 1.1763\n",
      "Counter train preds: Counter({0: 2767, 1: 2091, 5: 933, 4: 744, 3: 714, 2: 713})\tCounter val preds: Counter({0: 1122, 1: 404, 4: 403, 5: 337, 2: 227, 3: 161})\n",
      "Epoch train QWK: 0.769\tval QWK: 0.735\n",
      "Epoch 8/9\n",
      "==========\n"
     ]
    },
    {
     "name": "stderr",
     "output_type": "stream",
     "text": [
      "\n",
      "100%|██████████| 498/498 [02:28<00:00,  3.36it/s]\n",
      "100%|██████████| 166/166 [00:17<00:00,  9.61it/s]"
     ]
    },
    {
     "name": "stdout",
     "output_type": "stream",
     "text": [
      "Epoch     9: reducing learning rate of group 0 to 5.0000e-05.\n",
      "Training Loss: 0.9926\tValidation Loss: 1.0619\n",
      "Counter train preds: Counter({0: 2760, 1: 2079, 5: 929, 4: 753, 3: 739, 2: 702})\tCounter val preds: Counter({0: 930, 1: 722, 4: 346, 5: 252, 2: 207, 3: 197})\n",
      "Epoch train QWK: 0.775\tval QWK: 0.753\n",
      "Epoch 9/9\n",
      "==========\n"
     ]
    },
    {
     "name": "stderr",
     "output_type": "stream",
     "text": [
      "\n",
      "100%|██████████| 498/498 [02:28<00:00,  3.36it/s]\n",
      "100%|██████████| 166/166 [00:15<00:00, 10.74it/s]\n"
     ]
    },
    {
     "name": "stdout",
     "output_type": "stream",
     "text": [
      "Training Loss: 0.9339\tValidation Loss: 1.0145\n",
      "Counter train preds: Counter({0: 2693, 1: 2064, 5: 907, 3: 791, 4: 777, 2: 730})\tCounter val preds: Counter({0: 921, 1: 774, 5: 352, 2: 204, 3: 203, 4: 200})\n",
      "Epoch train QWK: 0.789\tval QWK: 0.763\n",
      "  Epoch 9 - Save Best Loss: 1.0145 Model\n",
      "Confusion matrix, without normalization\n",
      "[[652  57   0   2   3   9]\n",
      " [155 461  31  10   5   4]\n",
      " [ 26 178  90  25   8   8]\n",
      " [ 29  38  54  92  29  69]\n",
      " [ 35  32  20  50 108  68]\n",
      " [ 24   8   9  24  47 194]]\n"
     ]
    }
   ],
   "source": [
    "train_df = folds[folds[\"fold\"] != 0].copy()\n",
    "val_df = folds[folds[\"fold\"] == 0].copy()\n",
    "train_ds = LazyTilesDataset(train_df, transform=get_transforms(data=\"train\"), debug=False)\n",
    "val_ds = LazyTilesDataset(val_df, transform=get_transforms(data=\"valid\"), debug=False)\n",
    "\n",
    "model_ft = make_RN50_cls()\n",
    "# initialize bias in the model\n",
    "cls_probas = (train_df[CFG.target_col].value_counts() / len(train_df)).values\n",
    "model_ft = init_last_layer_bias(model_ft, cls_probas)\n",
    "\n",
    "criterion = nn.CrossEntropyLoss()\n",
    "optimizer = torch.optim.Adam(model_ft.parameters(), lr=CFG.lr, amsgrad=False)\n",
    "train_eval_loop(train_ds, val_ds, model_ft, optimizer, criterion, num_epochs=10)"
   ]
  },
  {
   "cell_type": "markdown",
   "metadata": {},
   "source": [
    "### Experiment Run"
   ]
  },
  {
   "cell_type": "code",
   "execution_count": 15,
   "metadata": {},
   "outputs": [
    {
     "name": "stdout",
     "output_type": "stream",
     "text": [
      "debug: False use_amp: True img_height: 512 img_width: 512 lr: 0.0001 batch_size: 16 epoch: 50 seed: 1982 target_size: 6 img_id_col: image_id target_col: isup_grade n_fold: 4 tiff_layer: 1\n"
     ]
    }
   ],
   "source": [
    "print(\" \".join([f\"{key}: {val}\" for key, val in CFG.__dict__.items() if not key.startswith(\"__\")]))"
   ]
  },
  {
   "cell_type": "code",
   "execution_count": 16,
   "metadata": {},
   "outputs": [],
   "source": [
    "writer.add_text(\"Experiment Description:\", \" \".join([f\"{key}: {val}\" for key, val in CFG.__dict__.items() if not key.startswith(\"__\")]))"
   ]
  },
  {
   "cell_type": "code",
   "execution_count": 17,
   "metadata": {},
   "outputs": [
    {
     "name": "stdout",
     "output_type": "stream",
     "text": [
      "Selected optimization level O1:  Insert automatic casts around Pytorch functions and Tensor methods.\n",
      "\n",
      "Defaults for this optimization level are:\n",
      "enabled                : True\n",
      "opt_level              : O1\n",
      "cast_model_type        : None\n",
      "patch_torch_functions  : True\n",
      "keep_batchnorm_fp32    : None\n",
      "master_weights         : None\n",
      "loss_scale             : dynamic\n",
      "Processing user overrides (additional kwargs that are not None)...\n",
      "After processing overrides, optimization options are:\n",
      "enabled                : True\n",
      "opt_level              : O1\n",
      "cast_model_type        : None\n",
      "patch_torch_functions  : True\n",
      "keep_batchnorm_fp32    : None\n",
      "master_weights         : None\n",
      "loss_scale             : dynamic\n",
      "Warning:  multi_tensor_applier fused unscale kernel is unavailable, possibly because apex was installed without --cuda_ext --cpp_ext. Using Python fallback.  Original ImportError was: ModuleNotFoundError(\"No module named 'amp_C'\")\n",
      "Epoch 0/49\n",
      "==========\n"
     ]
    },
    {
     "name": "stderr",
     "output_type": "stream",
     "text": [
      "100%|██████████| 498/498 [05:18<00:00,  1.56it/s]\n",
      "100%|██████████| 166/166 [01:38<00:00,  1.68it/s]\n"
     ]
    },
    {
     "name": "stdout",
     "output_type": "stream",
     "text": [
      "Training Loss: 1.2682\tValidation Loss: 1.1733\n",
      "Counter train preds: Counter({0: 3077, 1: 2151, 5: 909, 4: 675, 3: 628, 2: 522})\tCounter val preds: Counter({0: 1047, 1: 903, 3: 259, 5: 231, 4: 107, 2: 107})\n",
      "Epoch train QWK: 0.619\tval QWK: 0.649\n",
      "  Epoch 0 - Save Best Loss: 1.1733 Model\n",
      "Confusion matrix, without normalization\n",
      "[[644  76   0   0   0   3]\n",
      " [185 469   8   2   1   1]\n",
      " [ 51 214  42  23   1   4]\n",
      " [ 52  73  38 111   5  32]\n",
      " [ 61  51  10  63  72  56]\n",
      " [ 54  20   9  60  28 135]]\n",
      "  Epoch 0 - Save Best QWK: 0.6487 Model\n",
      "Confusion matrix, without normalization\n",
      "[[644  76   0   0   0   3]\n",
      " [185 469   8   2   1   1]\n",
      " [ 51 214  42  23   1   4]\n",
      " [ 52  73  38 111   5  32]\n",
      " [ 61  51  10  63  72  56]\n",
      " [ 54  20   9  60  28 135]]\n",
      "Epoch 1/49\n",
      "==========\n"
     ]
    },
    {
     "name": "stderr",
     "output_type": "stream",
     "text": [
      "100%|██████████| 498/498 [05:12<00:00,  1.59it/s]\n",
      "100%|██████████| 166/166 [01:39<00:00,  1.67it/s]\n"
     ]
    },
    {
     "name": "stdout",
     "output_type": "stream",
     "text": [
      "Training Loss: 1.1346\tValidation Loss: 1.0746\n",
      "Counter train preds: Counter({0: 2840, 1: 2193, 5: 939, 3: 687, 4: 674, 2: 629})\tCounter val preds: Counter({0: 828, 1: 604, 2: 480, 5: 427, 4: 176, 3: 139})\n",
      "Epoch train QWK: 0.702\tval QWK: 0.748\n",
      "  Epoch 1 - Save Best Loss: 1.0746 Model\n",
      "Confusion matrix, without normalization\n",
      "[[607  92   3   1   8  12]\n",
      " [115 360 174   8   5   4]\n",
      " [ 21  87 191  15   7  14]\n",
      " [ 30  30  72  66  25  88]\n",
      " [ 27  24  24  37  99 102]\n",
      " [ 28  11  16  12  32 207]]\n",
      "  Epoch 1 - Save Best QWK: 0.7477 Model\n",
      "Confusion matrix, without normalization\n",
      "[[607  92   3   1   8  12]\n",
      " [115 360 174   8   5   4]\n",
      " [ 21  87 191  15   7  14]\n",
      " [ 30  30  72  66  25  88]\n",
      " [ 27  24  24  37  99 102]\n",
      " [ 28  11  16  12  32 207]]\n",
      "Epoch 2/49\n",
      "==========\n"
     ]
    },
    {
     "name": "stderr",
     "output_type": "stream",
     "text": [
      "100%|██████████| 498/498 [05:15<00:00,  1.58it/s]\n",
      "100%|██████████| 166/166 [01:45<00:00,  1.57it/s]\n"
     ]
    },
    {
     "name": "stdout",
     "output_type": "stream",
     "text": [
      "Training Loss: 1.0957\tValidation Loss: 1.0593\n",
      "Counter train preds: Counter({0: 2828, 1: 2126, 5: 874, 4: 769, 2: 693, 3: 672})\tCounter val preds: Counter({0: 826, 1: 748, 5: 543, 3: 201, 2: 196, 4: 140})\n",
      "Epoch train QWK: 0.711\tval QWK: 0.756\n",
      "  Epoch 2 - Save Best Loss: 1.0593 Model\n",
      "Confusion matrix, without normalization\n",
      "[[614  92   1   0  10   6]\n",
      " [106 459  70  17   3  11]\n",
      " [ 20 125  90  49  12  39]\n",
      " [ 35  31  24  87  11 123]\n",
      " [ 24  30   8  35  83 133]\n",
      " [ 27  11   3  13  21 231]]\n",
      "  Epoch 2 - Save Best QWK: 0.7559 Model\n",
      "Confusion matrix, without normalization\n",
      "[[614  92   1   0  10   6]\n",
      " [106 459  70  17   3  11]\n",
      " [ 20 125  90  49  12  39]\n",
      " [ 35  31  24  87  11 123]\n",
      " [ 24  30   8  35  83 133]\n",
      " [ 27  11   3  13  21 231]]\n",
      "Epoch 3/49\n",
      "==========\n"
     ]
    },
    {
     "name": "stderr",
     "output_type": "stream",
     "text": [
      "100%|██████████| 498/498 [05:26<00:00,  1.53it/s]\n",
      "100%|██████████| 166/166 [01:40<00:00,  1.66it/s]\n"
     ]
    },
    {
     "name": "stdout",
     "output_type": "stream",
     "text": [
      "Training Loss: 1.0589\tValidation Loss: 1.0040\n",
      "Counter train preds: Counter({0: 2778, 1: 2159, 5: 892, 3: 749, 4: 745, 2: 639})\tCounter val preds: Counter({0: 814, 1: 778, 5: 433, 4: 233, 3: 218, 2: 178})\n",
      "Epoch train QWK: 0.735\tval QWK: 0.789\n",
      "  Epoch 3 - Save Best Loss: 1.0040 Model\n",
      "Confusion matrix, without normalization\n",
      "[[621  87   2   1   8   4]\n",
      " [110 474  49  21   7   5]\n",
      " [ 19 138  92  58  15  13]\n",
      " [ 27  34  22  90  44  94]\n",
      " [ 17  33   9  30 125  99]\n",
      " [ 20  12   4  18  34 218]]\n",
      "  Epoch 3 - Save Best QWK: 0.7893 Model\n",
      "Confusion matrix, without normalization\n",
      "[[621  87   2   1   8   4]\n",
      " [110 474  49  21   7   5]\n",
      " [ 19 138  92  58  15  13]\n",
      " [ 27  34  22  90  44  94]\n",
      " [ 17  33   9  30 125  99]\n",
      " [ 20  12   4  18  34 218]]\n",
      "Epoch 4/49\n",
      "==========\n"
     ]
    },
    {
     "name": "stderr",
     "output_type": "stream",
     "text": [
      " 48%|████▊     | 237/498 [02:30<02:21,  1.85it/s]"
     ]
    },
    {
     "name": "stdout",
     "output_type": "stream",
     "text": [
      "Gradient overflow.  Skipping step, loss scaler 0 reducing loss scale to 65536.0\n"
     ]
    },
    {
     "name": "stderr",
     "output_type": "stream",
     "text": [
      "100%|██████████| 498/498 [05:13<00:00,  1.59it/s]\n",
      "100%|██████████| 166/166 [01:40<00:00,  1.64it/s]"
     ]
    },
    {
     "name": "stdout",
     "output_type": "stream",
     "text": [
      "Training Loss: 1.0402\tValidation Loss: 1.0086\n",
      "Counter train preds: Counter({0: 2737, 1: 2170, 5: 905, 2: 730, 4: 719, 3: 701})\tCounter val preds: Counter({0: 907, 1: 697, 5: 384, 3: 285, 2: 194, 4: 187})\n",
      "Epoch train QWK: 0.742\tval QWK: 0.772\n",
      "Epoch 5/49\n",
      "==========\n"
     ]
    },
    {
     "name": "stderr",
     "output_type": "stream",
     "text": [
      "\n",
      "100%|██████████| 498/498 [05:15<00:00,  1.58it/s]\n",
      "100%|██████████| 166/166 [01:42<00:00,  1.62it/s]\n"
     ]
    },
    {
     "name": "stdout",
     "output_type": "stream",
     "text": [
      "Training Loss: 1.0190\tValidation Loss: 0.9723\n",
      "Counter train preds: Counter({0: 2698, 1: 2165, 5: 906, 3: 752, 4: 745, 2: 696})\tCounter val preds: Counter({0: 881, 1: 771, 3: 319, 5: 238, 4: 224, 2: 221})\n",
      "Epoch train QWK: 0.759\tval QWK: 0.767\n",
      "  Epoch 5 - Save Best Loss: 0.9723 Model\n",
      "Confusion matrix, without normalization\n",
      "[[654  60   2   2   3   2]\n",
      " [120 491  36  15   2   2]\n",
      " [ 19 148 118  36   7   7]\n",
      " [ 31  31  41 146  21  41]\n",
      " [ 27  32  16  65 126  47]\n",
      " [ 30   9   8  55  65 139]]\n",
      "Epoch 6/49\n",
      "==========\n"
     ]
    },
    {
     "name": "stderr",
     "output_type": "stream",
     "text": [
      "100%|██████████| 498/498 [05:16<00:00,  1.57it/s]\n",
      "100%|██████████| 166/166 [01:42<00:00,  1.61it/s]"
     ]
    },
    {
     "name": "stdout",
     "output_type": "stream",
     "text": [
      "Training Loss: 1.0054\tValidation Loss: 1.0434\n",
      "Counter train preds: Counter({0: 2704, 1: 2147, 5: 894, 4: 778, 2: 723, 3: 716})\tCounter val preds: Counter({1: 951, 0: 758, 2: 332, 5: 328, 3: 209, 4: 76})\n",
      "Epoch train QWK: 0.757\tval QWK: 0.750\n",
      "Epoch 7/49\n",
      "==========\n"
     ]
    },
    {
     "name": "stderr",
     "output_type": "stream",
     "text": [
      "\n",
      "100%|██████████| 498/498 [05:15<00:00,  1.58it/s]\n",
      "100%|██████████| 166/166 [01:42<00:00,  1.62it/s]"
     ]
    },
    {
     "name": "stdout",
     "output_type": "stream",
     "text": [
      "Training Loss: 0.9919\tValidation Loss: 1.0117\n",
      "Counter train preds: Counter({0: 2663, 1: 2153, 5: 890, 4: 791, 3: 761, 2: 704})\tCounter val preds: Counter({0: 932, 1: 672, 2: 375, 5: 316, 4: 209, 3: 150})\n",
      "Epoch train QWK: 0.764\tval QWK: 0.771\n",
      "Epoch 8/49\n",
      "==========\n"
     ]
    },
    {
     "name": "stderr",
     "output_type": "stream",
     "text": [
      "\n",
      " 60%|█████▉    | 297/498 [03:09<01:14,  2.71it/s]"
     ]
    },
    {
     "name": "stdout",
     "output_type": "stream",
     "text": [
      "Gradient overflow.  Skipping step, loss scaler 0 reducing loss scale to 65536.0\n"
     ]
    },
    {
     "name": "stderr",
     "output_type": "stream",
     "text": [
      "100%|██████████| 498/498 [05:11<00:00,  1.60it/s]\n",
      "100%|██████████| 166/166 [01:39<00:00,  1.67it/s]\n"
     ]
    },
    {
     "name": "stdout",
     "output_type": "stream",
     "text": [
      "Training Loss: 0.9727\tValidation Loss: 0.9679\n",
      "Counter train preds: Counter({0: 2664, 1: 2136, 5: 916, 4: 775, 2: 743, 3: 728})\tCounter val preds: Counter({0: 902, 1: 738, 4: 298, 3: 278, 5: 268, 2: 170})\n",
      "Epoch train QWK: 0.770\tval QWK: 0.794\n",
      "  Epoch 8 - Save Best Loss: 0.9679 Model\n",
      "Confusion matrix, without normalization\n",
      "[[666  45   1   1   8   2]\n",
      " [134 489  26  10   7   0]\n",
      " [ 23 142  98  54  13   5]\n",
      " [ 29  29  25 143  39  46]\n",
      " [ 24  25  11  43 163  47]\n",
      " [ 26   8   9  27  68 168]]\n",
      "  Epoch 8 - Save Best QWK: 0.7937 Model\n",
      "Confusion matrix, without normalization\n",
      "[[666  45   1   1   8   2]\n",
      " [134 489  26  10   7   0]\n",
      " [ 23 142  98  54  13   5]\n",
      " [ 29  29  25 143  39  46]\n",
      " [ 24  25  11  43 163  47]\n",
      " [ 26   8   9  27  68 168]]\n",
      "Epoch 9/49\n",
      "==========\n"
     ]
    },
    {
     "name": "stderr",
     "output_type": "stream",
     "text": [
      "100%|██████████| 498/498 [05:12<00:00,  1.60it/s]\n",
      "100%|██████████| 166/166 [01:39<00:00,  1.67it/s]"
     ]
    },
    {
     "name": "stdout",
     "output_type": "stream",
     "text": [
      "Training Loss: 0.9800\tValidation Loss: 0.9977\n",
      "Counter train preds: Counter({0: 2664, 1: 2138, 5: 896, 4: 813, 3: 727, 2: 724})\tCounter val preds: Counter({1: 925, 0: 789, 5: 346, 3: 273, 2: 215, 4: 106})\n",
      "Epoch train QWK: 0.766\tval QWK: 0.781\n",
      "Epoch 10/49\n",
      "==========\n"
     ]
    },
    {
     "name": "stderr",
     "output_type": "stream",
     "text": [
      "\n",
      "100%|██████████| 498/498 [05:06<00:00,  1.62it/s]\n",
      "100%|██████████| 166/166 [01:38<00:00,  1.68it/s]\n"
     ]
    },
    {
     "name": "stdout",
     "output_type": "stream",
     "text": [
      "Training Loss: 0.9444\tValidation Loss: 0.9629\n",
      "Counter train preds: Counter({0: 2611, 1: 2186, 5: 898, 4: 786, 2: 743, 3: 738})\tCounter val preds: Counter({0: 841, 1: 696, 3: 362, 5: 335, 2: 212, 4: 208})\n",
      "Epoch train QWK: 0.786\tval QWK: 0.797\n",
      "  Epoch 10 - Save Best Loss: 0.9629 Model\n",
      "Confusion matrix, without normalization\n",
      "[[647  65   1   6   2   2]\n",
      " [100 467  65  27   5   2]\n",
      " [ 17 122 108  60  13  15]\n",
      " [ 29  19  25 155  26  57]\n",
      " [ 25  18  10  70 121  69]\n",
      " [ 23   5   3  44  41 190]]\n",
      "  Epoch 10 - Save Best QWK: 0.7974 Model\n",
      "Confusion matrix, without normalization\n",
      "[[647  65   1   6   2   2]\n",
      " [100 467  65  27   5   2]\n",
      " [ 17 122 108  60  13  15]\n",
      " [ 29  19  25 155  26  57]\n",
      " [ 25  18  10  70 121  69]\n",
      " [ 23   5   3  44  41 190]]\n",
      "Epoch 11/49\n",
      "==========\n"
     ]
    },
    {
     "name": "stderr",
     "output_type": "stream",
     "text": [
      "100%|██████████| 498/498 [05:05<00:00,  1.63it/s]\n",
      "100%|██████████| 166/166 [01:38<00:00,  1.69it/s]"
     ]
    },
    {
     "name": "stdout",
     "output_type": "stream",
     "text": [
      "Training Loss: 0.9464\tValidation Loss: 1.0399\n",
      "Counter train preds: Counter({0: 2639, 1: 2107, 5: 893, 4: 801, 2: 765, 3: 757})\tCounter val preds: Counter({0: 873, 1: 570, 3: 433, 5: 430, 4: 253, 2: 95})\n",
      "Epoch train QWK: 0.784\tval QWK: 0.790\n",
      "Epoch 12/49\n",
      "==========\n"
     ]
    },
    {
     "name": "stderr",
     "output_type": "stream",
     "text": [
      "\n",
      " 68%|██████▊   | 341/498 [03:26<01:07,  2.32it/s]"
     ]
    },
    {
     "name": "stdout",
     "output_type": "stream",
     "text": [
      "Gradient overflow.  Skipping step, loss scaler 0 reducing loss scale to 65536.0\n"
     ]
    },
    {
     "name": "stderr",
     "output_type": "stream",
     "text": [
      "100%|██████████| 498/498 [05:01<00:00,  1.65it/s]\n",
      "100%|██████████| 166/166 [01:38<00:00,  1.69it/s]"
     ]
    },
    {
     "name": "stdout",
     "output_type": "stream",
     "text": [
      "Training Loss: 0.9436\tValidation Loss: 0.9990\n",
      "Counter train preds: Counter({0: 2646, 1: 2148, 5: 878, 4: 798, 3: 755, 2: 737})\tCounter val preds: Counter({0: 888, 1: 743, 3: 491, 5: 227, 2: 196, 4: 109})\n",
      "Epoch train QWK: 0.780\tval QWK: 0.764\n",
      "Epoch 13/49\n",
      "==========\n"
     ]
    },
    {
     "name": "stderr",
     "output_type": "stream",
     "text": [
      "\n",
      "100%|██████████| 498/498 [05:01<00:00,  1.65it/s]\n",
      "100%|██████████| 166/166 [01:37<00:00,  1.70it/s]"
     ]
    },
    {
     "name": "stdout",
     "output_type": "stream",
     "text": [
      "Training Loss: 0.9163\tValidation Loss: 0.9659\n",
      "Counter train preds: Counter({0: 2614, 1: 2124, 5: 897, 4: 818, 3: 771, 2: 738})\tCounter val preds: Counter({0: 888, 1: 830, 2: 269, 3: 264, 5: 257, 4: 146})\n",
      "Epoch train QWK: 0.789\tval QWK: 0.778\n",
      "Epoch 14/49\n",
      "==========\n"
     ]
    },
    {
     "name": "stderr",
     "output_type": "stream",
     "text": [
      "\n",
      "100%|██████████| 498/498 [05:02<00:00,  1.65it/s]\n",
      "100%|██████████| 166/166 [01:37<00:00,  1.70it/s]"
     ]
    },
    {
     "name": "stdout",
     "output_type": "stream",
     "text": [
      "Epoch    15: reducing learning rate of group 0 to 5.0000e-05.\n",
      "Training Loss: 0.9136\tValidation Loss: 0.9840\n",
      "Counter train preds: Counter({0: 2606, 1: 2124, 5: 884, 4: 817, 2: 771, 3: 760})\tCounter val preds: Counter({1: 910, 0: 751, 5: 413, 4: 243, 2: 194, 3: 143})\n",
      "Epoch train QWK: 0.794\tval QWK: 0.787\n",
      "Epoch 15/49\n",
      "==========\n"
     ]
    },
    {
     "name": "stderr",
     "output_type": "stream",
     "text": [
      "\n",
      "100%|██████████| 498/498 [05:02<00:00,  1.65it/s]\n",
      "100%|██████████| 166/166 [01:37<00:00,  1.70it/s]\n"
     ]
    },
    {
     "name": "stdout",
     "output_type": "stream",
     "text": [
      "Training Loss: 0.8502\tValidation Loss: 0.9008\n",
      "Counter train preds: Counter({0: 2608, 1: 2107, 5: 898, 4: 821, 2: 811, 3: 717})\tCounter val preds: Counter({0: 838, 1: 754, 5: 322, 3: 300, 4: 229, 2: 211})\n",
      "Epoch train QWK: 0.814\tval QWK: 0.811\n",
      "  Epoch 15 - Save Best Loss: 0.9008 Model\n",
      "Confusion matrix, without normalization\n",
      "[[658  57   1   6   1   0]\n",
      " [103 499  34  22   3   5]\n",
      " [ 11 142 119  39  15   9]\n",
      " [ 27  27  32 135  44  46]\n",
      " [ 17  22  18  60 132  64]\n",
      " [ 22   7   7  38  34 198]]\n",
      "  Epoch 15 - Save Best QWK: 0.8109 Model\n",
      "Confusion matrix, without normalization\n",
      "[[658  57   1   6   1   0]\n",
      " [103 499  34  22   3   5]\n",
      " [ 11 142 119  39  15   9]\n",
      " [ 27  27  32 135  44  46]\n",
      " [ 17  22  18  60 132  64]\n",
      " [ 22   7   7  38  34 198]]\n",
      "Epoch 16/49\n",
      "==========\n"
     ]
    },
    {
     "name": "stderr",
     "output_type": "stream",
     "text": [
      " 75%|███████▍  | 373/498 [03:50<01:08,  1.82it/s]"
     ]
    },
    {
     "name": "stdout",
     "output_type": "stream",
     "text": [
      "Gradient overflow.  Skipping step, loss scaler 0 reducing loss scale to 65536.0\n"
     ]
    },
    {
     "name": "stderr",
     "output_type": "stream",
     "text": [
      "100%|██████████| 498/498 [05:02<00:00,  1.65it/s]\n",
      "100%|██████████| 166/166 [01:37<00:00,  1.70it/s]\n"
     ]
    },
    {
     "name": "stdout",
     "output_type": "stream",
     "text": [
      "Training Loss: 0.8307\tValidation Loss: 0.9067\n",
      "Counter train preds: Counter({0: 2576, 1: 2121, 5: 882, 4: 834, 2: 792, 3: 757})\tCounter val preds: Counter({1: 834, 0: 790, 5: 323, 2: 315, 3: 207, 4: 185})\n",
      "Epoch train QWK: 0.828\tval QWK: 0.819\n",
      "  Epoch 16 - Save Best QWK: 0.8186 Model\n",
      "Confusion matrix, without normalization\n",
      "[[641  77   0   4   1   0]\n",
      " [ 86 533  28  11   3   5]\n",
      " [  9 155 148  11   5   7]\n",
      " [ 24  32  95 102  25  33]\n",
      " [ 14  28  29  47 123  72]\n",
      " [ 16   9  15  32  28 206]]\n",
      "Epoch 17/49\n",
      "==========\n"
     ]
    },
    {
     "name": "stderr",
     "output_type": "stream",
     "text": [
      " 95%|█████████▍| 473/498 [04:51<00:19,  1.27it/s]"
     ]
    },
    {
     "name": "stdout",
     "output_type": "stream",
     "text": [
      "Gradient overflow.  Skipping step, loss scaler 0 reducing loss scale to 32768.0\n"
     ]
    },
    {
     "name": "stderr",
     "output_type": "stream",
     "text": [
      "100%|██████████| 498/498 [05:02<00:00,  1.65it/s]\n",
      "100%|██████████| 166/166 [01:37<00:00,  1.70it/s]"
     ]
    },
    {
     "name": "stdout",
     "output_type": "stream",
     "text": [
      "Training Loss: 0.8066\tValidation Loss: 0.9725\n",
      "Counter train preds: Counter({0: 2529, 1: 2139, 5: 869, 4: 833, 2: 800, 3: 792})\tCounter val preds: Counter({0: 821, 1: 664, 4: 379, 5: 379, 3: 236, 2: 175})\n",
      "Epoch train QWK: 0.831\tval QWK: 0.809\n",
      "Epoch 18/49\n",
      "==========\n"
     ]
    },
    {
     "name": "stderr",
     "output_type": "stream",
     "text": [
      "\n",
      "100%|██████████| 498/498 [05:02<00:00,  1.65it/s]\n",
      "100%|██████████| 166/166 [01:37<00:00,  1.70it/s]"
     ]
    },
    {
     "name": "stdout",
     "output_type": "stream",
     "text": [
      "Training Loss: 0.8150\tValidation Loss: 0.9031\n",
      "Counter train preds: Counter({0: 2534, 1: 2097, 5: 887, 4: 842, 2: 823, 3: 779})\tCounter val preds: Counter({0: 834, 1: 657, 5: 386, 2: 318, 3: 233, 4: 226})\n",
      "Epoch train QWK: 0.831\tval QWK: 0.815\n",
      "Epoch 19/49\n",
      "==========\n"
     ]
    },
    {
     "name": "stderr",
     "output_type": "stream",
     "text": [
      "\n",
      "100%|██████████| 498/498 [05:02<00:00,  1.64it/s]\n",
      "100%|██████████| 166/166 [01:37<00:00,  1.70it/s]"
     ]
    },
    {
     "name": "stdout",
     "output_type": "stream",
     "text": [
      "Epoch    20: reducing learning rate of group 0 to 2.5000e-05.\n",
      "Training Loss: 0.7934\tValidation Loss: 0.9196\n",
      "Counter train preds: Counter({0: 2529, 1: 2100, 5: 898, 4: 833, 2: 825, 3: 777})\tCounter val preds: Counter({0: 812, 1: 658, 4: 336, 2: 302, 3: 275, 5: 271})\n",
      "Epoch train QWK: 0.837\tval QWK: 0.814\n",
      "Epoch 20/49\n",
      "==========\n"
     ]
    },
    {
     "name": "stderr",
     "output_type": "stream",
     "text": [
      "\n",
      "100%|██████████| 498/498 [05:02<00:00,  1.65it/s]\n",
      "100%|██████████| 166/166 [01:37<00:00,  1.70it/s]\n"
     ]
    },
    {
     "name": "stdout",
     "output_type": "stream",
     "text": [
      "Training Loss: 0.7477\tValidation Loss: 0.8812\n",
      "Counter train preds: Counter({0: 2505, 1: 2060, 5: 893, 2: 879, 4: 852, 3: 773})\tCounter val preds: Counter({0: 802, 1: 735, 5: 386, 2: 272, 4: 263, 3: 196})\n",
      "Epoch train QWK: 0.846\tval QWK: 0.828\n",
      "  Epoch 20 - Save Best Loss: 0.8812 Model\n",
      "Confusion matrix, without normalization\n",
      "[[648  68   1   3   2   1]\n",
      " [ 89 489  61  15   7   5]\n",
      " [ 12 124 148  23  16  12]\n",
      " [ 19  27  40 106  56  63]\n",
      " [ 17  22  14  31 147  82]\n",
      " [ 17   5   8  18  35 223]]\n",
      "  Epoch 20 - Save Best QWK: 0.8282 Model\n",
      "Confusion matrix, without normalization\n",
      "[[648  68   1   3   2   1]\n",
      " [ 89 489  61  15   7   5]\n",
      " [ 12 124 148  23  16  12]\n",
      " [ 19  27  40 106  56  63]\n",
      " [ 17  22  14  31 147  82]\n",
      " [ 17   5   8  18  35 223]]\n",
      "Epoch 21/49\n",
      "==========\n"
     ]
    },
    {
     "name": "stderr",
     "output_type": "stream",
     "text": [
      "100%|██████████| 498/498 [05:01<00:00,  1.65it/s]\n",
      "100%|██████████| 166/166 [01:37<00:00,  1.70it/s]\n"
     ]
    },
    {
     "name": "stdout",
     "output_type": "stream",
     "text": [
      "Training Loss: 0.7431\tValidation Loss: 0.8997\n",
      "Counter train preds: Counter({0: 2530, 1: 2066, 5: 888, 4: 863, 2: 808, 3: 807})\tCounter val preds: Counter({0: 781, 1: 692, 2: 370, 5: 356, 4: 243, 3: 212})\n",
      "Epoch train QWK: 0.847\tval QWK: 0.832\n",
      "  Epoch 21 - Save Best QWK: 0.8315 Model\n",
      "Confusion matrix, without normalization\n",
      "[[640  74   3   3   3   0]\n",
      " [ 81 466  97  17   2   3]\n",
      " [  9 102 180  21  13  10]\n",
      " [ 19  24  60 110  40  58]\n",
      " [ 16  21  19  40 153  64]\n",
      " [ 16   5  11  21  32 221]]\n",
      "Epoch 22/49\n",
      "==========\n"
     ]
    },
    {
     "name": "stderr",
     "output_type": "stream",
     "text": [
      " 18%|█▊        | 89/498 [00:59<02:29,  2.74it/s]"
     ]
    },
    {
     "name": "stdout",
     "output_type": "stream",
     "text": [
      "Gradient overflow.  Skipping step, loss scaler 0 reducing loss scale to 32768.0\n"
     ]
    },
    {
     "name": "stderr",
     "output_type": "stream",
     "text": [
      "100%|██████████| 498/498 [05:01<00:00,  1.65it/s]\n",
      "100%|██████████| 166/166 [01:37<00:00,  1.69it/s]"
     ]
    },
    {
     "name": "stdout",
     "output_type": "stream",
     "text": [
      "Training Loss: 0.7308\tValidation Loss: 0.9016\n",
      "Counter train preds: Counter({0: 2503, 1: 2077, 5: 902, 4: 863, 2: 846, 3: 771})\tCounter val preds: Counter({1: 785, 0: 755, 5: 439, 2: 269, 4: 208, 3: 198})\n",
      "Epoch train QWK: 0.854\tval QWK: 0.824\n",
      "Epoch 23/49\n",
      "==========\n"
     ]
    },
    {
     "name": "stderr",
     "output_type": "stream",
     "text": [
      "\n",
      "100%|██████████| 498/498 [05:01<00:00,  1.65it/s]\n",
      "100%|██████████| 166/166 [01:37<00:00,  1.70it/s]\n"
     ]
    },
    {
     "name": "stdout",
     "output_type": "stream",
     "text": [
      "Training Loss: 0.7198\tValidation Loss: 0.8691\n",
      "Counter train preds: Counter({0: 2500, 1: 2086, 5: 904, 4: 856, 2: 819, 3: 797})\tCounter val preds: Counter({0: 775, 1: 714, 4: 313, 5: 303, 2: 285, 3: 264})\n",
      "Epoch train QWK: 0.860\tval QWK: 0.841\n",
      "  Epoch 23 - Save Best Loss: 0.8691 Model\n",
      "Confusion matrix, without normalization\n",
      "[[639  73   2   5   3   1]\n",
      " [ 80 493  58  26   5   4]\n",
      " [ 11 101 164  39  15   5]\n",
      " [ 16  23  41 133  62  36]\n",
      " [ 13  20  13  36 184  47]\n",
      " [ 16   4   7  25  44 210]]\n",
      "  Epoch 23 - Save Best QWK: 0.8412 Model\n",
      "Confusion matrix, without normalization\n",
      "[[639  73   2   5   3   1]\n",
      " [ 80 493  58  26   5   4]\n",
      " [ 11 101 164  39  15   5]\n",
      " [ 16  23  41 133  62  36]\n",
      " [ 13  20  13  36 184  47]\n",
      " [ 16   4   7  25  44 210]]\n",
      "Epoch 24/49\n",
      "==========\n"
     ]
    },
    {
     "name": "stderr",
     "output_type": "stream",
     "text": [
      "100%|██████████| 498/498 [05:01<00:00,  1.65it/s]\n",
      "100%|██████████| 166/166 [01:37<00:00,  1.70it/s]"
     ]
    },
    {
     "name": "stdout",
     "output_type": "stream",
     "text": [
      "Training Loss: 0.7060\tValidation Loss: 0.8811\n",
      "Counter train preds: Counter({0: 2499, 1: 2074, 5: 880, 4: 868, 2: 830, 3: 811})\tCounter val preds: Counter({1: 752, 0: 738, 5: 394, 2: 297, 4: 259, 3: 214})\n",
      "Epoch train QWK: 0.862\tval QWK: 0.828\n",
      "Epoch 25/49\n",
      "==========\n"
     ]
    },
    {
     "name": "stderr",
     "output_type": "stream",
     "text": [
      "\n",
      "100%|██████████| 498/498 [05:02<00:00,  1.65it/s]\n",
      "100%|██████████| 166/166 [01:38<00:00,  1.68it/s]"
     ]
    },
    {
     "name": "stdout",
     "output_type": "stream",
     "text": [
      "Training Loss: 0.7044\tValidation Loss: 0.9029\n",
      "Counter train preds: Counter({0: 2484, 1: 2063, 5: 897, 4: 871, 2: 847, 3: 800})\tCounter val preds: Counter({1: 807, 0: 705, 3: 339, 5: 304, 4: 261, 2: 238})\n",
      "Epoch train QWK: 0.857\tval QWK: 0.833\n",
      "Epoch 26/49\n",
      "==========\n"
     ]
    },
    {
     "name": "stderr",
     "output_type": "stream",
     "text": [
      "\n",
      " 27%|██▋       | 134/498 [01:27<04:24,  1.38it/s]"
     ]
    },
    {
     "name": "stdout",
     "output_type": "stream",
     "text": [
      "Gradient overflow.  Skipping step, loss scaler 0 reducing loss scale to 32768.0\n"
     ]
    },
    {
     "name": "stderr",
     "output_type": "stream",
     "text": [
      " 87%|████████▋ | 434/498 [04:25<00:28,  2.25it/s]"
     ]
    },
    {
     "name": "stdout",
     "output_type": "stream",
     "text": [
      "Gradient overflow.  Skipping step, loss scaler 0 reducing loss scale to 16384.0\n"
     ]
    },
    {
     "name": "stderr",
     "output_type": "stream",
     "text": [
      "100%|██████████| 498/498 [05:01<00:00,  1.65it/s]\n",
      "100%|██████████| 166/166 [01:38<00:00,  1.69it/s]"
     ]
    },
    {
     "name": "stdout",
     "output_type": "stream",
     "text": [
      "Training Loss: 0.6972\tValidation Loss: 0.9076\n",
      "Counter train preds: Counter({0: 2486, 1: 2081, 5: 904, 4: 837, 3: 832, 2: 822})\tCounter val preds: Counter({0: 794, 1: 702, 5: 339, 2: 307, 3: 280, 4: 232})\n",
      "Epoch train QWK: 0.863\tval QWK: 0.822\n",
      "Epoch 27/49\n",
      "==========\n"
     ]
    },
    {
     "name": "stderr",
     "output_type": "stream",
     "text": [
      "\n",
      "100%|██████████| 498/498 [05:01<00:00,  1.65it/s]\n",
      "100%|██████████| 166/166 [01:37<00:00,  1.70it/s]"
     ]
    },
    {
     "name": "stdout",
     "output_type": "stream",
     "text": [
      "Epoch    28: reducing learning rate of group 0 to 1.2500e-05.\n",
      "Training Loss: 0.6910\tValidation Loss: 0.9146\n",
      "Counter train preds: Counter({0: 2443, 1: 2082, 5: 909, 2: 881, 4: 847, 3: 800})\tCounter val preds: Counter({0: 794, 1: 740, 5: 348, 4: 295, 2: 261, 3: 216})\n",
      "Epoch train QWK: 0.870\tval QWK: 0.828\n",
      "Epoch 28/49\n",
      "==========\n"
     ]
    },
    {
     "name": "stderr",
     "output_type": "stream",
     "text": [
      "\n",
      "100%|██████████| 498/498 [05:01<00:00,  1.65it/s]\n",
      "100%|██████████| 166/166 [01:38<00:00,  1.69it/s]"
     ]
    },
    {
     "name": "stdout",
     "output_type": "stream",
     "text": [
      "Training Loss: 0.6610\tValidation Loss: 0.9050\n",
      "Counter train preds: Counter({0: 2440, 1: 2096, 4: 881, 5: 875, 2: 860, 3: 810})\tCounter val preds: Counter({0: 784, 1: 716, 5: 379, 2: 285, 4: 247, 3: 243})\n",
      "Epoch train QWK: 0.878\tval QWK: 0.834\n",
      "Epoch 29/49\n",
      "==========\n"
     ]
    },
    {
     "name": "stderr",
     "output_type": "stream",
     "text": [
      "\n",
      "100%|██████████| 498/498 [05:01<00:00,  1.65it/s]\n",
      "100%|██████████| 166/166 [01:37<00:00,  1.70it/s]"
     ]
    },
    {
     "name": "stdout",
     "output_type": "stream",
     "text": [
      "Training Loss: 0.6452\tValidation Loss: 0.8964\n",
      "Counter train preds: Counter({0: 2479, 1: 2046, 5: 884, 4: 878, 2: 863, 3: 812})\tCounter val preds: Counter({0: 763, 1: 724, 5: 414, 2: 289, 4: 237, 3: 227})\n",
      "Epoch train QWK: 0.881\tval QWK: 0.826\n",
      "Epoch 30/49\n",
      "==========\n"
     ]
    },
    {
     "name": "stderr",
     "output_type": "stream",
     "text": [
      "\n",
      "100%|██████████| 498/498 [05:02<00:00,  1.65it/s]\n",
      "100%|██████████| 166/166 [01:38<00:00,  1.69it/s]"
     ]
    },
    {
     "name": "stdout",
     "output_type": "stream",
     "text": [
      "Training Loss: 0.6468\tValidation Loss: 0.8720\n",
      "Counter train preds: Counter({0: 2458, 1: 2050, 5: 884, 4: 860, 3: 856, 2: 854})\tCounter val preds: Counter({0: 795, 1: 720, 5: 360, 2: 312, 4: 277, 3: 190})\n",
      "Epoch train QWK: 0.875\tval QWK: 0.835\n",
      "Epoch 31/49\n",
      "==========\n"
     ]
    },
    {
     "name": "stderr",
     "output_type": "stream",
     "text": [
      "\n",
      "100%|██████████| 498/498 [05:01<00:00,  1.65it/s]\n",
      "100%|██████████| 166/166 [01:37<00:00,  1.70it/s]"
     ]
    },
    {
     "name": "stdout",
     "output_type": "stream",
     "text": [
      "Epoch    32: reducing learning rate of group 0 to 6.2500e-06.\n",
      "Training Loss: 0.6430\tValidation Loss: 0.8868\n",
      "Counter train preds: Counter({0: 2486, 1: 2033, 5: 905, 4: 898, 2: 827, 3: 813})\tCounter val preds: Counter({0: 798, 1: 680, 5: 321, 3: 319, 4: 284, 2: 252})\n",
      "Epoch train QWK: 0.872\tval QWK: 0.836\n",
      "Epoch 32/49\n",
      "==========\n"
     ]
    },
    {
     "name": "stderr",
     "output_type": "stream",
     "text": [
      "\n",
      "100%|██████████| 498/498 [05:03<00:00,  1.64it/s]\n",
      "100%|██████████| 166/166 [01:37<00:00,  1.70it/s]"
     ]
    },
    {
     "name": "stdout",
     "output_type": "stream",
     "text": [
      "Training Loss: 0.6385\tValidation Loss: 0.8813\n",
      "Counter train preds: Counter({0: 2451, 1: 2072, 5: 868, 2: 861, 4: 859, 3: 851})\tCounter val preds: Counter({1: 763, 0: 758, 5: 313, 4: 297, 2: 285, 3: 238})\n",
      "Epoch train QWK: 0.877\tval QWK: 0.834\n",
      "Epoch 33/49\n",
      "==========\n"
     ]
    },
    {
     "name": "stderr",
     "output_type": "stream",
     "text": [
      "\n",
      "100%|██████████| 498/498 [05:02<00:00,  1.65it/s]\n",
      "100%|██████████| 166/166 [01:37<00:00,  1.71it/s]"
     ]
    },
    {
     "name": "stdout",
     "output_type": "stream",
     "text": [
      "Training Loss: 0.6157\tValidation Loss: 0.8950\n",
      "Counter train preds: Counter({0: 2438, 1: 2067, 4: 899, 5: 864, 2: 858, 3: 836})\tCounter val preds: Counter({0: 763, 1: 698, 5: 377, 2: 320, 4: 249, 3: 247})\n",
      "Epoch train QWK: 0.874\tval QWK: 0.832\n",
      "Epoch 34/49\n",
      "==========\n"
     ]
    },
    {
     "name": "stderr",
     "output_type": "stream",
     "text": [
      "\n",
      " 91%|█████████ | 453/498 [04:39<00:24,  1.86it/s]"
     ]
    },
    {
     "name": "stdout",
     "output_type": "stream",
     "text": [
      "Gradient overflow.  Skipping step, loss scaler 0 reducing loss scale to 32768.0\n"
     ]
    },
    {
     "name": "stderr",
     "output_type": "stream",
     "text": [
      "100%|██████████| 498/498 [05:00<00:00,  1.65it/s]\n",
      "100%|██████████| 166/166 [01:37<00:00,  1.70it/s]\n"
     ]
    },
    {
     "name": "stdout",
     "output_type": "stream",
     "text": [
      "Training Loss: 0.6228\tValidation Loss: 0.8766\n",
      "Counter train preds: Counter({0: 2447, 1: 2023, 5: 905, 2: 900, 4: 865, 3: 822})\tCounter val preds: Counter({0: 779, 1: 693, 5: 365, 2: 300, 4: 261, 3: 256})\n",
      "Epoch train QWK: 0.881\tval QWK: 0.844\n",
      "  Epoch 34 - Save Best QWK: 0.8438 Model\n",
      "Confusion matrix, without normalization\n",
      "[[654  61   1   2   4   1]\n",
      " [ 77 480  75  21   7   6]\n",
      " [  8 107 163  33  12  12]\n",
      " [ 14  23  34 139  50  51]\n",
      " [ 13  18  18  39 162  63]\n",
      " [ 13   4   9  22  26 232]]\n",
      "Epoch 35/49\n",
      "==========\n"
     ]
    },
    {
     "name": "stderr",
     "output_type": "stream",
     "text": [
      " 58%|█████▊    | 291/498 [03:02<01:45,  1.96it/s]"
     ]
    },
    {
     "name": "stdout",
     "output_type": "stream",
     "text": [
      "Gradient overflow.  Skipping step, loss scaler 0 reducing loss scale to 16384.0\n"
     ]
    },
    {
     "name": "stderr",
     "output_type": "stream",
     "text": [
      "100%|██████████| 498/498 [05:02<00:00,  1.65it/s]\n",
      "100%|██████████| 166/166 [01:38<00:00,  1.69it/s]"
     ]
    },
    {
     "name": "stdout",
     "output_type": "stream",
     "text": [
      "Epoch    36: reducing learning rate of group 0 to 3.1250e-06.\n",
      "Training Loss: 0.6049\tValidation Loss: 0.8868\n",
      "Counter train preds: Counter({0: 2443, 1: 2039, 5: 888, 2: 872, 4: 872, 3: 848})\tCounter val preds: Counter({0: 766, 1: 746, 5: 357, 2: 308, 4: 254, 3: 223})\n",
      "Epoch train QWK: 0.889\tval QWK: 0.838\n",
      "Epoch 36/49\n",
      "==========\n"
     ]
    },
    {
     "name": "stderr",
     "output_type": "stream",
     "text": [
      "\n",
      "100%|██████████| 498/498 [05:01<00:00,  1.65it/s]\n",
      "100%|██████████| 166/166 [01:37<00:00,  1.70it/s]\n"
     ]
    },
    {
     "name": "stdout",
     "output_type": "stream",
     "text": [
      "Training Loss: 0.6106\tValidation Loss: 0.8690\n",
      "Counter train preds: Counter({0: 2436, 1: 2055, 5: 899, 4: 871, 2: 865, 3: 836})\tCounter val preds: Counter({0: 802, 1: 715, 5: 313, 2: 309, 4: 269, 3: 246})\n",
      "Epoch train QWK: 0.878\tval QWK: 0.838\n",
      "  Epoch 36 - Save Best Loss: 0.8690 Model\n",
      "Confusion matrix, without normalization\n",
      "[[661  54   1   2   3   2]\n",
      " [ 84 492  63  14   7   6]\n",
      " [  9 118 170  22  11   5]\n",
      " [ 17  27  44 141  49  33]\n",
      " [ 14  18  23  45 167  46]\n",
      " [ 17   6   8  22  32 221]]\n",
      "Epoch 37/49\n",
      "==========\n"
     ]
    },
    {
     "name": "stderr",
     "output_type": "stream",
     "text": [
      "100%|██████████| 498/498 [05:01<00:00,  1.65it/s]\n",
      "100%|██████████| 166/166 [01:37<00:00,  1.70it/s]"
     ]
    },
    {
     "name": "stdout",
     "output_type": "stream",
     "text": [
      "Training Loss: 0.5946\tValidation Loss: 0.8803\n",
      "Counter train preds: Counter({0: 2419, 1: 2070, 5: 913, 4: 872, 3: 845, 2: 843})\tCounter val preds: Counter({0: 781, 1: 722, 3: 315, 2: 306, 5: 272, 4: 258})\n",
      "Epoch train QWK: 0.887\tval QWK: 0.832\n",
      "Epoch 38/49\n",
      "==========\n"
     ]
    },
    {
     "name": "stderr",
     "output_type": "stream",
     "text": [
      "\n",
      "100%|██████████| 498/498 [05:00<00:00,  1.66it/s]\n",
      "100%|██████████| 166/166 [01:37<00:00,  1.70it/s]"
     ]
    },
    {
     "name": "stdout",
     "output_type": "stream",
     "text": [
      "Training Loss: 0.6059\tValidation Loss: 0.8890\n",
      "Counter train preds: Counter({0: 2430, 1: 2052, 5: 889, 4: 882, 2: 870, 3: 839})\tCounter val preds: Counter({0: 772, 1: 749, 5: 325, 2: 285, 4: 276, 3: 247})\n",
      "Epoch train QWK: 0.885\tval QWK: 0.832\n",
      "Epoch 39/49\n",
      "==========\n"
     ]
    },
    {
     "name": "stderr",
     "output_type": "stream",
     "text": [
      "\n",
      "100%|██████████| 498/498 [05:01<00:00,  1.65it/s]\n",
      "100%|██████████| 166/166 [01:37<00:00,  1.71it/s]"
     ]
    },
    {
     "name": "stdout",
     "output_type": "stream",
     "text": [
      "Epoch    40: reducing learning rate of group 0 to 1.5625e-06.\n",
      "Training Loss: 0.6047\tValidation Loss: 0.8783\n",
      "Counter train preds: Counter({0: 2431, 1: 2074, 4: 895, 5: 864, 2: 853, 3: 845})\tCounter val preds: Counter({0: 766, 1: 720, 5: 321, 2: 307, 4: 299, 3: 241})\n",
      "Epoch train QWK: 0.886\tval QWK: 0.833\n",
      "Epoch 40/49\n",
      "==========\n"
     ]
    },
    {
     "name": "stderr",
     "output_type": "stream",
     "text": [
      "\n",
      "100%|██████████| 498/498 [05:01<00:00,  1.65it/s]\n",
      "100%|██████████| 166/166 [01:37<00:00,  1.70it/s]"
     ]
    },
    {
     "name": "stdout",
     "output_type": "stream",
     "text": [
      "Training Loss: 0.5852\tValidation Loss: 0.8760\n",
      "Counter train preds: Counter({0: 2415, 1: 2065, 5: 913, 4: 882, 2: 859, 3: 828})\tCounter val preds: Counter({0: 775, 1: 690, 5: 337, 2: 310, 4: 283, 3: 259})\n",
      "Epoch train QWK: 0.893\tval QWK: 0.834\n",
      "Epoch 41/49\n",
      "==========\n"
     ]
    },
    {
     "name": "stderr",
     "output_type": "stream",
     "text": [
      "\n",
      "100%|██████████| 498/498 [05:01<00:00,  1.65it/s]\n",
      "100%|██████████| 166/166 [01:37<00:00,  1.70it/s]"
     ]
    },
    {
     "name": "stdout",
     "output_type": "stream",
     "text": [
      "Training Loss: 0.5887\tValidation Loss: 0.8849\n",
      "Counter train preds: Counter({0: 2434, 1: 2071, 5: 892, 4: 880, 2: 856, 3: 829})\tCounter val preds: Counter({0: 763, 1: 681, 5: 348, 2: 340, 4: 264, 3: 258})\n",
      "Epoch train QWK: 0.883\tval QWK: 0.833\n",
      "Epoch 42/49\n",
      "==========\n"
     ]
    },
    {
     "name": "stderr",
     "output_type": "stream",
     "text": [
      "\n",
      " 33%|███▎      | 162/498 [01:40<03:58,  1.41it/s]"
     ]
    },
    {
     "name": "stdout",
     "output_type": "stream",
     "text": [
      "Gradient overflow.  Skipping step, loss scaler 0 reducing loss scale to 16384.0\n"
     ]
    },
    {
     "name": "stderr",
     "output_type": "stream",
     "text": [
      "100%|██████████| 498/498 [05:02<00:00,  1.65it/s]\n",
      "100%|██████████| 166/166 [01:38<00:00,  1.69it/s]"
     ]
    },
    {
     "name": "stdout",
     "output_type": "stream",
     "text": [
      "Training Loss: 0.5850\tValidation Loss: 0.8832\n",
      "Counter train preds: Counter({0: 2436, 1: 2022, 5: 900, 4: 882, 2: 880, 3: 842})\tCounter val preds: Counter({0: 755, 1: 740, 5: 342, 2: 292, 4: 275, 3: 250})\n",
      "Epoch train QWK: 0.887\tval QWK: 0.838\n",
      "Epoch 43/49\n",
      "==========\n"
     ]
    },
    {
     "name": "stderr",
     "output_type": "stream",
     "text": [
      "\n",
      "100%|██████████| 498/498 [05:01<00:00,  1.65it/s]\n",
      "100%|██████████| 166/166 [01:37<00:00,  1.70it/s]"
     ]
    },
    {
     "name": "stdout",
     "output_type": "stream",
     "text": [
      "Epoch    44: reducing learning rate of group 0 to 7.8125e-07.\n",
      "Training Loss: 0.5942\tValidation Loss: 0.8818\n",
      "Counter train preds: Counter({0: 2427, 1: 2047, 5: 891, 2: 889, 3: 866, 4: 842})\tCounter val preds: Counter({0: 759, 1: 676, 5: 332, 2: 308, 4: 291, 3: 288})\n",
      "Epoch train QWK: 0.893\tval QWK: 0.833\n",
      "Epoch 44/49\n",
      "==========\n"
     ]
    },
    {
     "name": "stderr",
     "output_type": "stream",
     "text": [
      "\n",
      "100%|██████████| 498/498 [05:02<00:00,  1.65it/s]\n",
      "100%|██████████| 166/166 [01:37<00:00,  1.70it/s]"
     ]
    },
    {
     "name": "stdout",
     "output_type": "stream",
     "text": [
      "Training Loss: 0.5897\tValidation Loss: 0.8836\n",
      "Counter train preds: Counter({0: 2431, 1: 2065, 5: 907, 4: 876, 2: 859, 3: 824})\tCounter val preds: Counter({0: 781, 1: 687, 5: 361, 2: 324, 4: 254, 3: 247})\n",
      "Epoch train QWK: 0.884\tval QWK: 0.837\n",
      "Epoch 45/49\n",
      "==========\n"
     ]
    },
    {
     "name": "stderr",
     "output_type": "stream",
     "text": [
      "\n",
      "100%|██████████| 498/498 [05:01<00:00,  1.65it/s]\n",
      "100%|██████████| 166/166 [01:37<00:00,  1.70it/s]"
     ]
    },
    {
     "name": "stdout",
     "output_type": "stream",
     "text": [
      "Training Loss: 0.5892\tValidation Loss: 0.8814\n",
      "Counter train preds: Counter({0: 2414, 1: 2082, 4: 902, 5: 893, 2: 859, 3: 812})\tCounter val preds: Counter({0: 768, 1: 704, 5: 331, 2: 302, 4: 288, 3: 261})\n",
      "Epoch train QWK: 0.890\tval QWK: 0.838\n",
      "Epoch 46/49\n",
      "==========\n"
     ]
    },
    {
     "name": "stderr",
     "output_type": "stream",
     "text": [
      "\n",
      "100%|██████████| 498/498 [05:01<00:00,  1.65it/s]\n",
      "100%|██████████| 166/166 [01:38<00:00,  1.69it/s]"
     ]
    },
    {
     "name": "stdout",
     "output_type": "stream",
     "text": [
      "Training Loss: 0.5883\tValidation Loss: 0.8743\n",
      "Counter train preds: Counter({0: 2436, 1: 2045, 4: 887, 5: 880, 2: 869, 3: 845})\tCounter val preds: Counter({0: 776, 1: 708, 5: 319, 4: 291, 2: 290, 3: 270})\n",
      "Epoch train QWK: 0.891\tval QWK: 0.835\n",
      "Epoch 47/49\n",
      "==========\n"
     ]
    },
    {
     "name": "stderr",
     "output_type": "stream",
     "text": [
      "\n",
      " 46%|████▌     | 230/498 [02:22<01:43,  2.60it/s]"
     ]
    },
    {
     "name": "stdout",
     "output_type": "stream",
     "text": [
      "Gradient overflow.  Skipping step, loss scaler 0 reducing loss scale to 16384.0\n"
     ]
    },
    {
     "name": "stderr",
     "output_type": "stream",
     "text": [
      "100%|██████████| 498/498 [05:01<00:00,  1.65it/s]\n",
      "100%|██████████| 166/166 [01:37<00:00,  1.71it/s]"
     ]
    },
    {
     "name": "stdout",
     "output_type": "stream",
     "text": [
      "Epoch    48: reducing learning rate of group 0 to 3.9063e-07.\n",
      "Training Loss: 0.5944\tValidation Loss: 0.8851\n",
      "Counter train preds: Counter({0: 2435, 1: 2028, 5: 900, 4: 882, 2: 867, 3: 850})\tCounter val preds: Counter({0: 776, 1: 686, 5: 319, 2: 317, 4: 290, 3: 266})\n",
      "Epoch train QWK: 0.890\tval QWK: 0.836\n",
      "Epoch 48/49\n",
      "==========\n"
     ]
    },
    {
     "name": "stderr",
     "output_type": "stream",
     "text": [
      "\n",
      "100%|██████████| 498/498 [05:02<00:00,  1.65it/s]\n",
      "100%|██████████| 166/166 [01:37<00:00,  1.70it/s]"
     ]
    },
    {
     "name": "stdout",
     "output_type": "stream",
     "text": [
      "Training Loss: 0.5905\tValidation Loss: 0.8838\n",
      "Counter train preds: Counter({0: 2456, 1: 2040, 5: 906, 4: 863, 2: 862, 3: 835})\tCounter val preds: Counter({0: 779, 1: 707, 2: 313, 5: 310, 3: 290, 4: 255})\n",
      "Epoch train QWK: 0.889\tval QWK: 0.838\n",
      "Epoch 49/49\n",
      "==========\n"
     ]
    },
    {
     "name": "stderr",
     "output_type": "stream",
     "text": [
      "\n",
      "100%|██████████| 498/498 [05:00<00:00,  1.66it/s]\n",
      "100%|██████████| 166/166 [01:37<00:00,  1.70it/s]\n"
     ]
    },
    {
     "name": "stdout",
     "output_type": "stream",
     "text": [
      "Training Loss: 0.5830\tValidation Loss: 0.8785\n",
      "Counter train preds: Counter({0: 2430, 1: 2039, 4: 897, 2: 884, 5: 863, 3: 849})\tCounter val preds: Counter({0: 775, 1: 732, 5: 338, 2: 288, 4: 264, 3: 257})\n",
      "Epoch train QWK: 0.889\tval QWK: 0.835\n"
     ]
    }
   ],
   "source": [
    "train_df = folds[folds[\"fold\"] != 0].copy()\n",
    "val_df = folds[folds[\"fold\"] == 0].copy()\n",
    "train_ds = TilesTrainDataset(train_df, is_train=True, transform=get_transforms(data=\"train\"), debug=False)\n",
    "val_ds = TilesTrainDataset(val_df, is_train=False, transform=get_transforms(data=\"valid\"), debug=False)\n",
    "\n",
    "model_ft = make_RN50_cls()\n",
    "# initialize bias in the model\n",
    "cls_probas = (train_df[CFG.target_col].value_counts() / len(train_df)).values\n",
    "model_ft = init_last_layer_bias(model_ft, cls_probas)\n",
    "\n",
    "criterion = nn.CrossEntropyLoss()\n",
    "optimizer = torch.optim.Adam(model_ft.parameters(), lr=CFG.lr, amsgrad=False)\n",
    "train_eval_loop(train_ds, val_ds, model_ft, optimizer, criterion, model_name=EXP_NAME)"
   ]
  },
  {
   "cell_type": "markdown",
   "metadata": {},
   "source": [
    "### Train with CV"
   ]
  },
  {
   "cell_type": "code",
   "execution_count": 34,
   "metadata": {
    "collapsed": true,
    "jupyter": {
     "outputs_hidden": true
    }
   },
   "outputs": [
    {
     "name": "stdout",
     "output_type": "stream",
     "text": [
      "Train with CV, on fold 0\n",
      "Epoch 0/9\n",
      "----------\n"
     ]
    },
    {
     "name": "stderr",
     "output_type": "stream",
     "text": [
      "100%|██████████| 5/5 [00:00<00:00,  7.61it/s]"
     ]
    },
    {
     "name": "stdout",
     "output_type": "stream",
     "text": [
      "Visualising input\n"
     ]
    },
    {
     "name": "stderr",
     "output_type": "stream",
     "text": [
      "\n",
      "100%|██████████| 2/2 [00:00<00:00,  3.84it/s]"
     ]
    },
    {
     "name": "stdout",
     "output_type": "stream",
     "text": [
      "Training Loss: 1.7832\tValidation Loss: 1.6735\n",
      "Counter train preds: Counter({1: 50, 4: 11, 3: 8, 0: 6})\tCounter val preds: Counter({0: 25})\n",
      "Epoch train QWK: 0.193\tval QWK: 0.000\n",
      "Epoch 1/9\n",
      "----------\n"
     ]
    },
    {
     "name": "stderr",
     "output_type": "stream",
     "text": [
      "\n",
      "100%|██████████| 5/5 [00:00<00:00,  7.82it/s]"
     ]
    },
    {
     "name": "stdout",
     "output_type": "stream",
     "text": [
      "Visualising input\n"
     ]
    },
    {
     "name": "stderr",
     "output_type": "stream",
     "text": [
      "\n",
      "100%|██████████| 2/2 [00:00<00:00,  4.13it/s]"
     ]
    },
    {
     "name": "stdout",
     "output_type": "stream",
     "text": [
      "Training Loss: 1.5393\tValidation Loss: 1.6932\n",
      "Counter train preds: Counter({1: 39, 0: 21, 3: 7, 4: 6, 5: 2})\tCounter val preds: Counter({1: 25})\n",
      "Epoch train QWK: 0.236\tval QWK: 0.000\n",
      "Epoch 2/9\n",
      "----------\n"
     ]
    },
    {
     "name": "stderr",
     "output_type": "stream",
     "text": [
      "\n",
      "100%|██████████| 5/5 [00:00<00:00,  7.61it/s]"
     ]
    },
    {
     "name": "stdout",
     "output_type": "stream",
     "text": [
      "Visualising input\n"
     ]
    },
    {
     "name": "stderr",
     "output_type": "stream",
     "text": [
      "\n",
      "100%|██████████| 2/2 [00:00<00:00,  4.02it/s]"
     ]
    },
    {
     "name": "stdout",
     "output_type": "stream",
     "text": [
      "Training Loss: 1.4436\tValidation Loss: 1.7056\n",
      "Counter train preds: Counter({1: 34, 0: 26, 3: 7, 5: 5, 4: 3})\tCounter val preds: Counter({1: 25})\n",
      "Epoch train QWK: 0.321\tval QWK: 0.000\n",
      "Epoch 3/9\n",
      "----------\n"
     ]
    },
    {
     "name": "stderr",
     "output_type": "stream",
     "text": [
      "\n",
      "100%|██████████| 5/5 [00:00<00:00,  5.05it/s]"
     ]
    },
    {
     "name": "stdout",
     "output_type": "stream",
     "text": [
      "Visualising input\n"
     ]
    },
    {
     "name": "stderr",
     "output_type": "stream",
     "text": [
      "100%|██████████| 5/5 [00:00<00:00,  7.88it/s]\n",
      "100%|██████████| 2/2 [00:00<00:00,  2.04it/s]"
     ]
    },
    {
     "name": "stdout",
     "output_type": "stream",
     "text": [
      "Training Loss: 1.4152\tValidation Loss: 1.6723\n",
      "Counter train preds: Counter({0: 33, 1: 31, 3: 5, 4: 5, 5: 1})\tCounter val preds: Counter({1: 25})\n",
      "Epoch train QWK: 0.282\tval QWK: 0.000\n",
      "Epoch 4/9\n",
      "----------\n"
     ]
    },
    {
     "name": "stderr",
     "output_type": "stream",
     "text": [
      "\n",
      " 20%|██        | 1/5 [00:00<00:01,  2.74it/s]"
     ]
    },
    {
     "name": "stdout",
     "output_type": "stream",
     "text": [
      "Visualising input\n"
     ]
    },
    {
     "name": "stderr",
     "output_type": "stream",
     "text": [
      "100%|██████████| 5/5 [00:00<00:00,  7.80it/s]\n",
      "100%|██████████| 2/2 [00:00<00:00,  3.81it/s]"
     ]
    },
    {
     "name": "stdout",
     "output_type": "stream",
     "text": [
      "Training Loss: 1.3904\tValidation Loss: 1.6386\n",
      "Counter train preds: Counter({1: 33, 0: 28, 4: 6, 3: 5, 5: 3})\tCounter val preds: Counter({1: 15, 5: 3, 0: 3, 2: 2, 4: 1, 3: 1})\n",
      "Epoch train QWK: 0.393\tval QWK: 0.186\n",
      "Epoch 5/9\n",
      "----------\n"
     ]
    },
    {
     "name": "stderr",
     "output_type": "stream",
     "text": [
      "\n",
      " 20%|██        | 1/5 [00:00<00:01,  2.53it/s]"
     ]
    },
    {
     "name": "stdout",
     "output_type": "stream",
     "text": [
      "Visualising input\n"
     ]
    },
    {
     "name": "stderr",
     "output_type": "stream",
     "text": [
      "100%|██████████| 5/5 [00:00<00:00,  7.49it/s]\n",
      "100%|██████████| 2/2 [00:00<00:00,  3.79it/s]"
     ]
    },
    {
     "name": "stdout",
     "output_type": "stream",
     "text": [
      "Training Loss: 1.3730\tValidation Loss: 1.6927\n",
      "Counter train preds: Counter({0: 33, 1: 26, 5: 7, 3: 4, 4: 4, 2: 1})\tCounter val preds: Counter({1: 13, 5: 6, 2: 4, 3: 1, 0: 1})\n",
      "Epoch train QWK: 0.517\tval QWK: 0.545\n",
      "Epoch 6/9\n",
      "----------\n"
     ]
    },
    {
     "name": "stderr",
     "output_type": "stream",
     "text": [
      "\n",
      "100%|██████████| 5/5 [00:00<00:00,  4.96it/s]"
     ]
    },
    {
     "name": "stdout",
     "output_type": "stream",
     "text": [
      "Visualising input\n"
     ]
    },
    {
     "name": "stderr",
     "output_type": "stream",
     "text": [
      "100%|██████████| 5/5 [00:00<00:00,  7.91it/s]\n",
      "100%|██████████| 2/2 [00:00<00:00,  3.81it/s]"
     ]
    },
    {
     "name": "stdout",
     "output_type": "stream",
     "text": [
      "Training Loss: 1.3238\tValidation Loss: 1.8837\n",
      "Counter train preds: Counter({0: 30, 1: 29, 5: 6, 3: 6, 4: 4})\tCounter val preds: Counter({1: 9, 5: 7, 2: 6, 3: 3})\n",
      "Epoch train QWK: 0.438\tval QWK: 0.329\n",
      "Epoch 7/9\n",
      "----------\n"
     ]
    },
    {
     "name": "stderr",
     "output_type": "stream",
     "text": [
      "\n",
      "100%|██████████| 5/5 [00:00<00:00,  7.85it/s]"
     ]
    },
    {
     "name": "stdout",
     "output_type": "stream",
     "text": [
      "Visualising input\n"
     ]
    },
    {
     "name": "stderr",
     "output_type": "stream",
     "text": [
      "\n",
      "100%|██████████| 2/2 [00:00<00:00,  3.89it/s]"
     ]
    },
    {
     "name": "stdout",
     "output_type": "stream",
     "text": [
      "Training Loss: 1.3055\tValidation Loss: 2.0990\n",
      "Counter train preds: Counter({1: 34, 0: 22, 5: 8, 3: 7, 4: 2, 2: 2})\tCounter val preds: Counter({2: 12, 5: 5, 3: 5, 1: 2, 4: 1})\n",
      "Epoch train QWK: 0.552\tval QWK: 0.326\n",
      "Epoch 8/9\n",
      "----------\n"
     ]
    },
    {
     "name": "stderr",
     "output_type": "stream",
     "text": [
      "\n",
      " 20%|██        | 1/5 [00:00<00:01,  2.66it/s]"
     ]
    },
    {
     "name": "stdout",
     "output_type": "stream",
     "text": [
      "Visualising input\n"
     ]
    },
    {
     "name": "stderr",
     "output_type": "stream",
     "text": [
      "100%|██████████| 5/5 [00:00<00:00,  7.53it/s]\n",
      "100%|██████████| 2/2 [00:00<00:00,  3.87it/s]"
     ]
    },
    {
     "name": "stdout",
     "output_type": "stream",
     "text": [
      "Training Loss: 1.3063\tValidation Loss: 2.0883\n",
      "Counter train preds: Counter({1: 35, 0: 25, 4: 7, 3: 5, 5: 3})\tCounter val preds: Counter({2: 13, 5: 5, 1: 3, 3: 2, 4: 1, 0: 1})\n",
      "Epoch train QWK: 0.549\tval QWK: 0.199\n",
      "Epoch 9/9\n",
      "----------\n"
     ]
    },
    {
     "name": "stderr",
     "output_type": "stream",
     "text": [
      "\n",
      "100%|██████████| 5/5 [00:00<00:00,  4.77it/s]"
     ]
    },
    {
     "name": "stdout",
     "output_type": "stream",
     "text": [
      "Visualising input\n"
     ]
    },
    {
     "name": "stderr",
     "output_type": "stream",
     "text": [
      "100%|██████████| 5/5 [00:00<00:00,  7.73it/s]\n",
      "100%|██████████| 2/2 [00:00<00:00,  3.86it/s]"
     ]
    },
    {
     "name": "stdout",
     "output_type": "stream",
     "text": [
      "Training Loss: 1.3191\tValidation Loss: 1.8377\n",
      "Counter train preds: Counter({1: 37, 0: 24, 5: 7, 4: 3, 3: 3, 2: 1})\tCounter val preds: Counter({1: 21, 3: 2, 2: 1, 5: 1})\n",
      "Epoch train QWK: 0.435\tval QWK: 0.305\n",
      "Train with CV, on fold 1\n",
      "Epoch 0/9\n",
      "----------\n"
     ]
    },
    {
     "name": "stderr",
     "output_type": "stream",
     "text": [
      "\n",
      "100%|██████████| 5/5 [00:00<00:00,  4.80it/s]"
     ]
    },
    {
     "name": "stdout",
     "output_type": "stream",
     "text": [
      "Visualising input\n"
     ]
    },
    {
     "name": "stderr",
     "output_type": "stream",
     "text": [
      "100%|██████████| 5/5 [00:00<00:00,  7.69it/s]\n",
      "100%|██████████| 2/2 [00:00<00:00,  3.71it/s]"
     ]
    },
    {
     "name": "stdout",
     "output_type": "stream",
     "text": [
      "Training Loss: 1.7209\tValidation Loss: 1.7380\n",
      "Counter train preds: Counter({0: 59, 3: 15, 1: 1})\tCounter val preds: Counter({0: 25})\n",
      "Epoch train QWK: 0.263\tval QWK: 0.000\n",
      "Epoch 1/9\n",
      "----------\n"
     ]
    },
    {
     "name": "stderr",
     "output_type": "stream",
     "text": [
      "\n",
      "100%|██████████| 5/5 [00:00<00:00,  7.81it/s]"
     ]
    },
    {
     "name": "stdout",
     "output_type": "stream",
     "text": [
      "Visualising input\n"
     ]
    },
    {
     "name": "stderr",
     "output_type": "stream",
     "text": [
      "\n",
      "100%|██████████| 2/2 [00:00<00:00,  3.62it/s]"
     ]
    },
    {
     "name": "stdout",
     "output_type": "stream",
     "text": [
      "Training Loss: 1.5459\tValidation Loss: 1.7958\n",
      "Counter train preds: Counter({0: 36, 1: 32, 3: 5, 4: 2})\tCounter val preds: Counter({0: 25})\n",
      "Epoch train QWK: 0.331\tval QWK: 0.000\n",
      "Epoch 2/9\n",
      "----------\n"
     ]
    },
    {
     "name": "stderr",
     "output_type": "stream",
     "text": [
      "\n",
      " 60%|██████    | 3/5 [00:00<00:00,  3.30it/s]"
     ]
    },
    {
     "name": "stdout",
     "output_type": "stream",
     "text": [
      "Visualising input\n"
     ]
    },
    {
     "name": "stderr",
     "output_type": "stream",
     "text": [
      "100%|██████████| 5/5 [00:00<00:00,  7.36it/s]\n",
      "100%|██████████| 2/2 [00:00<00:00,  3.74it/s]"
     ]
    },
    {
     "name": "stdout",
     "output_type": "stream",
     "text": [
      "Training Loss: 1.4606\tValidation Loss: 1.9763\n",
      "Counter train preds: Counter({1: 34, 0: 29, 4: 8, 3: 4})\tCounter val preds: Counter({0: 25})\n",
      "Epoch train QWK: 0.388\tval QWK: 0.000\n",
      "Epoch 3/9\n",
      "----------\n"
     ]
    },
    {
     "name": "stderr",
     "output_type": "stream",
     "text": [
      "\n",
      " 60%|██████    | 3/5 [00:00<00:00,  3.59it/s]"
     ]
    },
    {
     "name": "stdout",
     "output_type": "stream",
     "text": [
      "Visualising input\n"
     ]
    },
    {
     "name": "stderr",
     "output_type": "stream",
     "text": [
      "100%|██████████| 5/5 [00:00<00:00,  7.80it/s]\n",
      "100%|██████████| 2/2 [00:00<00:00,  3.66it/s]"
     ]
    },
    {
     "name": "stdout",
     "output_type": "stream",
     "text": [
      "Training Loss: 1.4206\tValidation Loss: 1.8872\n",
      "Counter train preds: Counter({1: 32, 0: 24, 4: 8, 3: 6, 5: 3, 2: 2})\tCounter val preds: Counter({0: 25})\n",
      "Epoch train QWK: 0.441\tval QWK: 0.000\n",
      "Epoch 4/9\n",
      "----------\n"
     ]
    },
    {
     "name": "stderr",
     "output_type": "stream",
     "text": [
      "\n",
      "100%|██████████| 5/5 [00:00<00:00,  5.28it/s]"
     ]
    },
    {
     "name": "stdout",
     "output_type": "stream",
     "text": [
      "Visualising input\n"
     ]
    },
    {
     "name": "stderr",
     "output_type": "stream",
     "text": [
      "100%|██████████| 5/5 [00:00<00:00,  8.24it/s]\n",
      "100%|██████████| 2/2 [00:00<00:00,  3.60it/s]"
     ]
    },
    {
     "name": "stdout",
     "output_type": "stream",
     "text": [
      "Training Loss: 1.4067\tValidation Loss: 2.2129\n",
      "Counter train preds: Counter({1: 36, 0: 25, 3: 10, 5: 2, 2: 1, 4: 1})\tCounter val preds: Counter({0: 25})\n",
      "Epoch train QWK: 0.388\tval QWK: 0.000\n",
      "Epoch 5/9\n",
      "----------\n"
     ]
    },
    {
     "name": "stderr",
     "output_type": "stream",
     "text": [
      "\n",
      "100%|██████████| 5/5 [00:00<00:00,  8.12it/s]"
     ]
    },
    {
     "name": "stdout",
     "output_type": "stream",
     "text": [
      "Visualising input\n"
     ]
    },
    {
     "name": "stderr",
     "output_type": "stream",
     "text": [
      "\n",
      "100%|██████████| 2/2 [00:00<00:00,  3.64it/s]"
     ]
    },
    {
     "name": "stdout",
     "output_type": "stream",
     "text": [
      "Training Loss: 1.3640\tValidation Loss: 2.9000\n",
      "Counter train preds: Counter({1: 33, 0: 24, 3: 12, 2: 4, 4: 2})\tCounter val preds: Counter({0: 25})\n",
      "Epoch train QWK: 0.364\tval QWK: 0.000\n",
      "Epoch 6/9\n",
      "----------\n"
     ]
    },
    {
     "name": "stderr",
     "output_type": "stream",
     "text": [
      "\n",
      "100%|██████████| 5/5 [00:00<00:00,  4.87it/s]"
     ]
    },
    {
     "name": "stdout",
     "output_type": "stream",
     "text": [
      "Visualising input\n"
     ]
    },
    {
     "name": "stderr",
     "output_type": "stream",
     "text": [
      "100%|██████████| 5/5 [00:00<00:00,  7.86it/s]\n",
      "100%|██████████| 2/2 [00:00<00:00,  3.44it/s]"
     ]
    },
    {
     "name": "stdout",
     "output_type": "stream",
     "text": [
      "Training Loss: 1.3085\tValidation Loss: 2.7819\n",
      "Counter train preds: Counter({1: 33, 0: 20, 3: 11, 2: 4, 4: 4, 5: 3})\tCounter val preds: Counter({0: 25})\n",
      "Epoch train QWK: 0.568\tval QWK: 0.000\n",
      "Epoch 7/9\n",
      "----------\n"
     ]
    },
    {
     "name": "stderr",
     "output_type": "stream",
     "text": [
      "\n",
      "100%|██████████| 5/5 [00:00<00:00,  7.36it/s]"
     ]
    },
    {
     "name": "stdout",
     "output_type": "stream",
     "text": [
      "Visualising input\n"
     ]
    },
    {
     "name": "stderr",
     "output_type": "stream",
     "text": [
      "\n",
      "100%|██████████| 2/2 [00:00<00:00,  2.55it/s]"
     ]
    },
    {
     "name": "stdout",
     "output_type": "stream",
     "text": [
      "Training Loss: 1.3142\tValidation Loss: 2.3783\n",
      "Counter train preds: Counter({1: 36, 0: 21, 3: 9, 2: 5, 5: 3, 4: 1})\tCounter val preds: Counter({0: 18, 1: 5, 2: 2})\n",
      "Epoch train QWK: 0.435\tval QWK: 0.116\n",
      "Epoch 8/9\n",
      "----------\n"
     ]
    },
    {
     "name": "stderr",
     "output_type": "stream",
     "text": [
      "\n",
      "100%|██████████| 5/5 [00:00<00:00,  5.30it/s]"
     ]
    },
    {
     "name": "stdout",
     "output_type": "stream",
     "text": [
      "Visualising input\n"
     ]
    },
    {
     "name": "stderr",
     "output_type": "stream",
     "text": [
      "100%|██████████| 5/5 [00:00<00:00,  8.07it/s]\n",
      "100%|██████████| 2/2 [00:00<00:00,  3.62it/s]"
     ]
    },
    {
     "name": "stdout",
     "output_type": "stream",
     "text": [
      "Training Loss: 1.2917\tValidation Loss: 3.1009\n",
      "Counter train preds: Counter({1: 38, 0: 19, 2: 6, 4: 5, 3: 4, 5: 3})\tCounter val preds: Counter({0: 23, 2: 2})\n",
      "Epoch train QWK: 0.433\tval QWK: 0.009\n",
      "Epoch 9/9\n",
      "----------\n"
     ]
    },
    {
     "name": "stderr",
     "output_type": "stream",
     "text": [
      "\n",
      "100%|██████████| 5/5 [00:00<00:00,  7.24it/s]"
     ]
    },
    {
     "name": "stdout",
     "output_type": "stream",
     "text": [
      "Visualising input\n"
     ]
    },
    {
     "name": "stderr",
     "output_type": "stream",
     "text": [
      "\n",
      "100%|██████████| 2/2 [00:00<00:00,  3.73it/s]"
     ]
    },
    {
     "name": "stdout",
     "output_type": "stream",
     "text": [
      "Training Loss: 1.2545\tValidation Loss: 2.9466\n",
      "Counter train preds: Counter({1: 32, 0: 20, 3: 10, 4: 5, 2: 5, 5: 3})\tCounter val preds: Counter({0: 23, 2: 2})\n",
      "Epoch train QWK: 0.635\tval QWK: 0.009\n",
      "Train with CV, on fold 2\n",
      "Epoch 0/9\n",
      "----------\n"
     ]
    },
    {
     "name": "stderr",
     "output_type": "stream",
     "text": [
      "\n",
      "100%|██████████| 5/5 [00:00<00:00,  7.96it/s]"
     ]
    },
    {
     "name": "stdout",
     "output_type": "stream",
     "text": [
      "Visualising input\n"
     ]
    },
    {
     "name": "stderr",
     "output_type": "stream",
     "text": [
      "\n",
      "100%|██████████| 2/2 [00:00<00:00,  3.70it/s]"
     ]
    },
    {
     "name": "stdout",
     "output_type": "stream",
     "text": [
      "Training Loss: 1.6856\tValidation Loss: 1.8174\n",
      "Counter train preds: Counter({1: 48, 3: 15, 0: 12})\tCounter val preds: Counter({0: 25})\n",
      "Epoch train QWK: 0.208\tval QWK: 0.000\n",
      "Epoch 1/9\n",
      "----------\n"
     ]
    },
    {
     "name": "stderr",
     "output_type": "stream",
     "text": [
      "\n",
      " 60%|██████    | 3/5 [00:00<00:00,  3.45it/s]"
     ]
    },
    {
     "name": "stdout",
     "output_type": "stream",
     "text": [
      "Visualising input\n"
     ]
    },
    {
     "name": "stderr",
     "output_type": "stream",
     "text": [
      "100%|██████████| 5/5 [00:00<00:00,  7.56it/s]\n",
      "100%|██████████| 2/2 [00:00<00:00,  3.71it/s]"
     ]
    },
    {
     "name": "stdout",
     "output_type": "stream",
     "text": [
      "Training Loss: 1.5455\tValidation Loss: 2.4182\n",
      "Counter train preds: Counter({1: 37, 0: 21, 3: 16, 2: 1})\tCounter val preds: Counter({0: 25})\n",
      "Epoch train QWK: 0.313\tval QWK: 0.000\n",
      "Epoch 2/9\n",
      "----------\n"
     ]
    },
    {
     "name": "stderr",
     "output_type": "stream",
     "text": [
      "\n",
      "100%|██████████| 5/5 [00:00<00:00,  8.02it/s]"
     ]
    },
    {
     "name": "stdout",
     "output_type": "stream",
     "text": [
      "Visualising input\n"
     ]
    },
    {
     "name": "stderr",
     "output_type": "stream",
     "text": [
      "\n",
      "100%|██████████| 2/2 [00:00<00:00,  3.73it/s]"
     ]
    },
    {
     "name": "stdout",
     "output_type": "stream",
     "text": [
      "Training Loss: 1.4741\tValidation Loss: 2.2700\n",
      "Counter train preds: Counter({1: 33, 0: 26, 3: 14, 2: 2})\tCounter val preds: Counter({0: 25})\n",
      "Epoch train QWK: 0.287\tval QWK: 0.000\n",
      "Epoch 3/9\n",
      "----------\n"
     ]
    },
    {
     "name": "stderr",
     "output_type": "stream",
     "text": [
      "\n",
      "100%|██████████| 5/5 [00:00<00:00,  7.64it/s]"
     ]
    },
    {
     "name": "stdout",
     "output_type": "stream",
     "text": [
      "Visualising input\n"
     ]
    },
    {
     "name": "stderr",
     "output_type": "stream",
     "text": [
      "\n",
      "100%|██████████| 2/2 [00:00<00:00,  3.60it/s]"
     ]
    },
    {
     "name": "stdout",
     "output_type": "stream",
     "text": [
      "Training Loss: 1.4289\tValidation Loss: 2.4097\n",
      "Counter train preds: Counter({1: 35, 0: 28, 3: 7, 2: 5})\tCounter val preds: Counter({0: 25})\n",
      "Epoch train QWK: 0.247\tval QWK: 0.000\n",
      "Epoch 4/9\n",
      "----------\n"
     ]
    },
    {
     "name": "stderr",
     "output_type": "stream",
     "text": [
      "\n",
      " 20%|██        | 1/5 [00:00<00:01,  2.55it/s]"
     ]
    },
    {
     "name": "stdout",
     "output_type": "stream",
     "text": [
      "Visualising input\n"
     ]
    },
    {
     "name": "stderr",
     "output_type": "stream",
     "text": [
      "100%|██████████| 5/5 [00:00<00:00,  7.52it/s]\n",
      "100%|██████████| 2/2 [00:00<00:00,  3.67it/s]"
     ]
    },
    {
     "name": "stdout",
     "output_type": "stream",
     "text": [
      "Training Loss: 1.3615\tValidation Loss: 2.0392\n",
      "Counter train preds: Counter({1: 39, 0: 25, 3: 7, 2: 4})\tCounter val preds: Counter({0: 24, 2: 1})\n",
      "Epoch train QWK: 0.307\tval QWK: 0.064\n",
      "Epoch 5/9\n",
      "----------\n"
     ]
    },
    {
     "name": "stderr",
     "output_type": "stream",
     "text": [
      "\n",
      "100%|██████████| 5/5 [00:00<00:00,  7.67it/s]"
     ]
    },
    {
     "name": "stdout",
     "output_type": "stream",
     "text": [
      "Visualising input\n"
     ]
    },
    {
     "name": "stderr",
     "output_type": "stream",
     "text": [
      "\n",
      "100%|██████████| 2/2 [00:00<00:00,  3.69it/s]"
     ]
    },
    {
     "name": "stdout",
     "output_type": "stream",
     "text": [
      "Training Loss: 1.4250\tValidation Loss: 1.6867\n",
      "Counter train preds: Counter({1: 41, 0: 26, 3: 8})\tCounter val preds: Counter({0: 20, 2: 3, 1: 2})\n",
      "Epoch train QWK: 0.266\tval QWK: 0.214\n",
      "Epoch 6/9\n",
      "----------\n"
     ]
    },
    {
     "name": "stderr",
     "output_type": "stream",
     "text": [
      "\n",
      "100%|██████████| 5/5 [00:00<00:00,  7.91it/s]"
     ]
    },
    {
     "name": "stdout",
     "output_type": "stream",
     "text": [
      "Visualising input\n"
     ]
    },
    {
     "name": "stderr",
     "output_type": "stream",
     "text": [
      "\n",
      "100%|██████████| 2/2 [00:00<00:00,  3.60it/s]"
     ]
    },
    {
     "name": "stdout",
     "output_type": "stream",
     "text": [
      "Training Loss: 1.3328\tValidation Loss: 1.7360\n",
      "Counter train preds: Counter({1: 34, 0: 24, 3: 12, 2: 4, 5: 1})\tCounter val preds: Counter({0: 18, 1: 5, 2: 2})\n",
      "Epoch train QWK: 0.365\tval QWK: 0.130\n",
      "Epoch 7/9\n",
      "----------\n"
     ]
    },
    {
     "name": "stderr",
     "output_type": "stream",
     "text": [
      "\n",
      " 60%|██████    | 3/5 [00:00<00:00,  3.21it/s]"
     ]
    },
    {
     "name": "stdout",
     "output_type": "stream",
     "text": [
      "Visualising input\n"
     ]
    },
    {
     "name": "stderr",
     "output_type": "stream",
     "text": [
      "100%|██████████| 5/5 [00:00<00:00,  7.17it/s]\n",
      "100%|██████████| 2/2 [00:00<00:00,  3.71it/s]"
     ]
    },
    {
     "name": "stdout",
     "output_type": "stream",
     "text": [
      "Training Loss: 1.3236\tValidation Loss: 1.8248\n",
      "Counter train preds: Counter({1: 33, 0: 21, 2: 13, 3: 6, 5: 2})\tCounter val preds: Counter({0: 17, 1: 5, 2: 3})\n",
      "Epoch train QWK: 0.316\tval QWK: 0.272\n",
      "Epoch 8/9\n",
      "----------\n"
     ]
    },
    {
     "name": "stderr",
     "output_type": "stream",
     "text": [
      "\n",
      "100%|██████████| 5/5 [00:00<00:00,  4.99it/s]"
     ]
    },
    {
     "name": "stdout",
     "output_type": "stream",
     "text": [
      "Visualising input\n"
     ]
    },
    {
     "name": "stderr",
     "output_type": "stream",
     "text": [
      "100%|██████████| 5/5 [00:00<00:00,  7.91it/s]\n",
      "100%|██████████| 2/2 [00:00<00:00,  3.63it/s]"
     ]
    },
    {
     "name": "stdout",
     "output_type": "stream",
     "text": [
      "Training Loss: 1.2498\tValidation Loss: 2.4719\n",
      "Counter train preds: Counter({1: 34, 0: 24, 2: 8, 3: 8, 5: 1})\tCounter val preds: Counter({0: 22, 2: 3})\n",
      "Epoch train QWK: 0.392\tval QWK: 0.259\n",
      "Epoch 9/9\n",
      "----------\n"
     ]
    },
    {
     "name": "stderr",
     "output_type": "stream",
     "text": [
      "\n",
      "100%|██████████| 5/5 [00:00<00:00,  8.02it/s]"
     ]
    },
    {
     "name": "stdout",
     "output_type": "stream",
     "text": [
      "Visualising input\n"
     ]
    },
    {
     "name": "stderr",
     "output_type": "stream",
     "text": [
      "\n",
      "100%|██████████| 2/2 [00:00<00:00,  3.74it/s]"
     ]
    },
    {
     "name": "stdout",
     "output_type": "stream",
     "text": [
      "Training Loss: 1.2657\tValidation Loss: 2.4212\n",
      "Counter train preds: Counter({1: 39, 0: 21, 2: 6, 3: 6, 5: 3})\tCounter val preds: Counter({0: 22, 2: 3})\n",
      "Epoch train QWK: 0.409\tval QWK: 0.259\n",
      "Train with CV, on fold 3\n",
      "Epoch 0/9\n",
      "----------\n"
     ]
    },
    {
     "name": "stderr",
     "output_type": "stream",
     "text": [
      "\n",
      " 60%|██████    | 3/5 [00:00<00:00,  3.76it/s]"
     ]
    },
    {
     "name": "stdout",
     "output_type": "stream",
     "text": [
      "Visualising input\n"
     ]
    },
    {
     "name": "stderr",
     "output_type": "stream",
     "text": [
      "100%|██████████| 5/5 [00:00<00:00,  7.78it/s]\n",
      "100%|██████████| 2/2 [00:00<00:00,  4.08it/s]"
     ]
    },
    {
     "name": "stdout",
     "output_type": "stream",
     "text": [
      "Training Loss: 1.7337\tValidation Loss: 1.6500\n",
      "Counter train preds: Counter({1: 49, 2: 14, 0: 6, 5: 3, 3: 3})\tCounter val preds: Counter({1: 24, 0: 1})\n",
      "Epoch train QWK: 0.123\tval QWK: -0.030\n",
      "Epoch 1/9\n",
      "----------\n"
     ]
    },
    {
     "name": "stderr",
     "output_type": "stream",
     "text": [
      "\n",
      "100%|██████████| 5/5 [00:00<00:00,  7.52it/s]"
     ]
    },
    {
     "name": "stdout",
     "output_type": "stream",
     "text": [
      "Visualising input\n"
     ]
    },
    {
     "name": "stderr",
     "output_type": "stream",
     "text": [
      "\n",
      "100%|██████████| 2/2 [00:00<00:00,  4.29it/s]"
     ]
    },
    {
     "name": "stdout",
     "output_type": "stream",
     "text": [
      "Training Loss: 1.5647\tValidation Loss: 1.7000\n",
      "Counter train preds: Counter({1: 40, 0: 18, 3: 12, 2: 5})\tCounter val preds: Counter({1: 25})\n",
      "Epoch train QWK: 0.232\tval QWK: 0.000\n",
      "Epoch 2/9\n",
      "----------\n"
     ]
    },
    {
     "name": "stderr",
     "output_type": "stream",
     "text": [
      "\n",
      " 60%|██████    | 3/5 [00:00<00:00,  3.84it/s]"
     ]
    },
    {
     "name": "stdout",
     "output_type": "stream",
     "text": [
      "Visualising input\n"
     ]
    },
    {
     "name": "stderr",
     "output_type": "stream",
     "text": [
      "100%|██████████| 5/5 [00:00<00:00,  7.87it/s]\n",
      "100%|██████████| 2/2 [00:00<00:00,  4.09it/s]"
     ]
    },
    {
     "name": "stdout",
     "output_type": "stream",
     "text": [
      "Training Loss: 1.4733\tValidation Loss: 1.6935\n",
      "Counter train preds: Counter({1: 33, 0: 27, 3: 13, 2: 2})\tCounter val preds: Counter({1: 25})\n",
      "Epoch train QWK: 0.337\tval QWK: 0.000\n",
      "Epoch 3/9\n",
      "----------\n"
     ]
    },
    {
     "name": "stderr",
     "output_type": "stream",
     "text": [
      "\n",
      " 60%|██████    | 3/5 [00:00<00:00,  3.67it/s]"
     ]
    },
    {
     "name": "stdout",
     "output_type": "stream",
     "text": [
      "Visualising input\n"
     ]
    },
    {
     "name": "stderr",
     "output_type": "stream",
     "text": [
      "100%|██████████| 5/5 [00:00<00:00,  7.66it/s]\n",
      "100%|██████████| 2/2 [00:00<00:00,  4.01it/s]"
     ]
    },
    {
     "name": "stdout",
     "output_type": "stream",
     "text": [
      "Training Loss: 1.4141\tValidation Loss: 1.6876\n",
      "Counter train preds: Counter({0: 29, 1: 28, 3: 10, 2: 6, 5: 2})\tCounter val preds: Counter({1: 25})\n",
      "Epoch train QWK: 0.475\tval QWK: 0.000\n",
      "Epoch 4/9\n",
      "----------\n"
     ]
    },
    {
     "name": "stderr",
     "output_type": "stream",
     "text": [
      "\n",
      " 60%|██████    | 3/5 [00:00<00:00,  3.46it/s]"
     ]
    },
    {
     "name": "stdout",
     "output_type": "stream",
     "text": [
      "Visualising input\n"
     ]
    },
    {
     "name": "stderr",
     "output_type": "stream",
     "text": [
      "100%|██████████| 5/5 [00:00<00:00,  7.39it/s]\n",
      "100%|██████████| 2/2 [00:00<00:00,  2.65it/s]"
     ]
    },
    {
     "name": "stdout",
     "output_type": "stream",
     "text": [
      "Training Loss: 1.3655\tValidation Loss: 1.6186\n",
      "Counter train preds: Counter({1: 35, 0: 26, 3: 7, 5: 4, 2: 3})\tCounter val preds: Counter({1: 21, 2: 3, 0: 1})\n",
      "Epoch train QWK: 0.395\tval QWK: 0.012\n",
      "Epoch 5/9\n",
      "----------\n"
     ]
    },
    {
     "name": "stderr",
     "output_type": "stream",
     "text": [
      "\n",
      "100%|██████████| 5/5 [00:00<00:00,  4.61it/s]"
     ]
    },
    {
     "name": "stdout",
     "output_type": "stream",
     "text": [
      "Visualising input\n"
     ]
    },
    {
     "name": "stderr",
     "output_type": "stream",
     "text": [
      "100%|██████████| 5/5 [00:00<00:00,  7.47it/s]\n",
      "100%|██████████| 2/2 [00:00<00:00,  3.97it/s]"
     ]
    },
    {
     "name": "stdout",
     "output_type": "stream",
     "text": [
      "Training Loss: 1.3591\tValidation Loss: 1.6763\n",
      "Counter train preds: Counter({1: 32, 0: 23, 3: 11, 2: 8, 5: 1})\tCounter val preds: Counter({2: 17, 0: 6, 1: 2})\n",
      "Epoch train QWK: 0.413\tval QWK: 0.313\n",
      "Epoch 6/9\n",
      "----------\n"
     ]
    },
    {
     "name": "stderr",
     "output_type": "stream",
     "text": [
      "\n",
      "100%|██████████| 5/5 [00:00<00:00,  4.59it/s]"
     ]
    },
    {
     "name": "stdout",
     "output_type": "stream",
     "text": [
      "Visualising input\n"
     ]
    },
    {
     "name": "stderr",
     "output_type": "stream",
     "text": [
      "100%|██████████| 5/5 [00:00<00:00,  7.40it/s]\n",
      "100%|██████████| 2/2 [00:00<00:00,  4.08it/s]"
     ]
    },
    {
     "name": "stdout",
     "output_type": "stream",
     "text": [
      "Training Loss: 1.3191\tValidation Loss: 1.6529\n",
      "Counter train preds: Counter({1: 34, 0: 26, 3: 5, 2: 4, 4: 4, 5: 2})\tCounter val preds: Counter({1: 12, 2: 9, 5: 2, 0: 2})\n",
      "Epoch train QWK: 0.424\tval QWK: 0.269\n",
      "Epoch 7/9\n",
      "----------\n"
     ]
    },
    {
     "name": "stderr",
     "output_type": "stream",
     "text": [
      "\n",
      "100%|██████████| 5/5 [00:00<00:00,  7.96it/s]"
     ]
    },
    {
     "name": "stdout",
     "output_type": "stream",
     "text": [
      "Visualising input\n"
     ]
    },
    {
     "name": "stderr",
     "output_type": "stream",
     "text": [
      "\n",
      "100%|██████████| 2/2 [00:00<00:00,  3.92it/s]"
     ]
    },
    {
     "name": "stdout",
     "output_type": "stream",
     "text": [
      "Training Loss: 1.3050\tValidation Loss: 1.7019\n",
      "Counter train preds: Counter({1: 36, 0: 21, 2: 6, 3: 5, 5: 4, 4: 3})\tCounter val preds: Counter({2: 13, 5: 7, 4: 3, 0: 2})\n",
      "Epoch train QWK: 0.454\tval QWK: 0.364\n",
      "Epoch 8/9\n",
      "----------\n"
     ]
    },
    {
     "name": "stderr",
     "output_type": "stream",
     "text": [
      "\n",
      " 60%|██████    | 3/5 [00:00<00:00,  3.98it/s]"
     ]
    },
    {
     "name": "stdout",
     "output_type": "stream",
     "text": [
      "Visualising input\n"
     ]
    },
    {
     "name": "stderr",
     "output_type": "stream",
     "text": [
      "100%|██████████| 5/5 [00:00<00:00,  7.99it/s]\n",
      "100%|██████████| 2/2 [00:00<00:00,  4.10it/s]"
     ]
    },
    {
     "name": "stdout",
     "output_type": "stream",
     "text": [
      "Training Loss: 1.2645\tValidation Loss: 1.7029\n",
      "Counter train preds: Counter({1: 36, 0: 22, 5: 7, 2: 5, 3: 4, 4: 1})\tCounter val preds: Counter({2: 10, 5: 5, 0: 5, 1: 4, 3: 1})\n",
      "Epoch train QWK: 0.461\tval QWK: 0.309\n",
      "Epoch 9/9\n",
      "----------\n"
     ]
    },
    {
     "name": "stderr",
     "output_type": "stream",
     "text": [
      "\n",
      "100%|██████████| 5/5 [00:00<00:00,  4.60it/s]"
     ]
    },
    {
     "name": "stdout",
     "output_type": "stream",
     "text": [
      "Visualising input\n"
     ]
    },
    {
     "name": "stderr",
     "output_type": "stream",
     "text": [
      "100%|██████████| 5/5 [00:00<00:00,  7.52it/s]\n",
      "100%|██████████| 2/2 [00:00<00:00,  4.03it/s]"
     ]
    },
    {
     "name": "stdout",
     "output_type": "stream",
     "text": [
      "Training Loss: 1.2169\tValidation Loss: 2.0975\n",
      "Counter train preds: Counter({1: 33, 0: 22, 2: 9, 3: 6, 5: 5})\tCounter val preds: Counter({4: 14, 5: 8, 0: 3})\n",
      "Epoch train QWK: 0.530\tval QWK: 0.218\n"
     ]
    },
    {
     "name": "stderr",
     "output_type": "stream",
     "text": [
      "\n"
     ]
    }
   ],
   "source": [
    "checkpoint = \"test_fold_{}.pth\"\n",
    "for fold in range(CFG.n_fold):\n",
    "    train_df = folds[folds[\"fold\"] != fold].copy()\n",
    "    val_df = folds[folds[\"fold\"] == fold].copy()\n",
    "    \n",
    "    train_ds = TrainDataset(train_df, transform=get_transforms(data=\"train\"), debug=False)\n",
    "    val_ds = TrainDataset(val_df, transform=get_transforms(data=\"valid\"), debug=False)\n",
    "    \n",
    "    model = TinyV2ConvNet(CFG.target_size)\n",
    "    # initialize bias in the model\n",
    "    cls_probas = (train_df[CFG.target_col].value_counts() / len(train_df)).values\n",
    "    model = init_last_layer_bias(model, cls_probas)\n",
    "    \n",
    "    criterion = nn.CrossEntropyLoss()\n",
    "    optimizer = torch.optim.Adam(model.parameters(), lr=CFG.lr, amsgrad=False)\n",
    "    print(f\"Train with CV, on fold {fold}\")\n",
    "    model = train_eval_loop(train_ds, val_ds, model, optimizer, criterion, tb_tag=fold)\n",
    "    torch.save(model.state_dict(), MODEL_PATH/checkpoint.format(fold))"
   ]
  },
  {
   "cell_type": "code",
   "execution_count": null,
   "metadata": {},
   "outputs": [],
   "source": []
  }
 ],
 "metadata": {
  "kernelspec": {
   "display_name": "chestxray",
   "language": "python",
   "name": "chestxray"
  },
  "language_info": {
   "codemirror_mode": {
    "name": "ipython",
    "version": 3
   },
   "file_extension": ".py",
   "mimetype": "text/x-python",
   "name": "python",
   "nbconvert_exporter": "python",
   "pygments_lexer": "ipython3",
   "version": "3.7.7"
  },
  "toc-autonumbering": false,
  "toc-showcode": false,
  "toc-showmarkdowntxt": false
 },
 "nbformat": 4,
 "nbformat_minor": 4
}
