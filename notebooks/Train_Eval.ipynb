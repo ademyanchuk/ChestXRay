{
 "cells": [
  {
   "cell_type": "markdown",
   "metadata": {},
   "source": [
    "### Imports"
   ]
  },
  {
   "cell_type": "code",
   "execution_count": 1,
   "metadata": {},
   "outputs": [],
   "source": [
    "%load_ext autoreload\n",
    "%autoreload 2"
   ]
  },
  {
   "cell_type": "code",
   "execution_count": 2,
   "metadata": {},
   "outputs": [],
   "source": [
    "import random\n",
    "import os\n",
    "from datetime import datetime\n",
    "from collections import Counter\n",
    "import numpy as np\n",
    "import pandas as pd\n",
    "import matplotlib.pyplot as plt\n",
    "from tqdm import tqdm\n",
    "\n",
    "import torch\n",
    "import torch.nn as nn\n",
    "import torch.nn.functional as F\n",
    "from torch.utils.data import DataLoader, Dataset\n",
    "from torch.utils.tensorboard import SummaryWriter\n",
    "from torch.optim.lr_scheduler import ReduceLROnPlateau, StepLR\n",
    "import torchvision\n",
    "from torchvision import models\n",
    "from apex import amp\n",
    "\n",
    "from albumentations import Compose, Normalize\n",
    "from albumentations.pytorch import ToTensorV2, ToTensor\n",
    "\n",
    "from sklearn.metrics import cohen_kappa_score\n",
    "from sklearn.model_selection import StratifiedKFold\n",
    "from sklearn.metrics import confusion_matrix\n",
    "\n",
    "import cv2\n",
    "import skimage.io\n",
    "import IPython.display as display\n",
    "from PIL import Image\n",
    "\n",
    "plt.ion()\n",
    "%matplotlib inline\n",
    "%config InlineBackend.figure_format='retina'"
   ]
  },
  {
   "cell_type": "markdown",
   "metadata": {},
   "source": [
    "#### Local Imports"
   ]
  },
  {
   "cell_type": "code",
   "execution_count": 3,
   "metadata": {},
   "outputs": [],
   "source": [
    "# Paths\n",
    "from chestxray.config import (PANDA_PATH,\n",
    "                              MODEL_PATH,\n",
    "                              PANDA_IMGS,\n",
    "                              PANDA_MASKS,\n",
    "                              TRAIN_CSV)\n",
    "# Competition related config\n",
    "from chestxray.config import CFG\n",
    "\n",
    "# Misc\n",
    "from chestxray.misc import seed_torch\n",
    "\n",
    "# Datasets\n",
    "from chestxray.datasets import get_transforms, TrainDataset, TilesTrainDataset, LazyTilesDataset\n",
    "\n",
    "# Viz\n",
    "from chestxray.visualize import (show_from_ids, show_batch, imshow, \n",
    "                                 plot_classes_preds, reverse_show_img, \n",
    "                                 plot_confusion_matrix)\n",
    "\n",
    "# Nets\n",
    "from chestxray.nets import TinyV2ConvNet, make_RN50_cls\n",
    "from chestxray.model_utils import (trainable_params, cce_loss_at_init, \n",
    "                                   init_last_layer_bias)\n",
    "# Losses\n",
    "from chestxray.losses import LabelSmoothSoftmaxCEV1"
   ]
  },
  {
   "cell_type": "code",
   "execution_count": 4,
   "metadata": {},
   "outputs": [
    {
     "name": "stdout",
     "output_type": "stream",
     "text": [
      "cuda:0\n"
     ]
    }
   ],
   "source": [
    "device = torch.device(\"cuda:0\" if torch.cuda.is_available() else \"cpu\")\n",
    "print(device)"
   ]
  },
  {
   "cell_type": "code",
   "execution_count": 5,
   "metadata": {},
   "outputs": [
    {
     "name": "stdout",
     "output_type": "stream",
     "text": [
      "_CudaDeviceProperties(name='GeForce RTX 2070 SUPER', major=7, minor=5, total_memory=7979MB, multi_processor_count=40)\n"
     ]
    }
   ],
   "source": [
    "print(torch.cuda.get_device_properties(device))"
   ]
  },
  {
   "cell_type": "markdown",
   "metadata": {},
   "source": [
    "### Config"
   ]
  },
  {
   "cell_type": "code",
   "execution_count": 8,
   "metadata": {},
   "outputs": [],
   "source": [
    "CFG.debug = False\n",
    "now = datetime.now()\n",
    "\n",
    "EXP_NAME = now.strftime(\"%d-%m-%Y-%H-%M\")"
   ]
  },
  {
   "cell_type": "code",
   "execution_count": 9,
   "metadata": {},
   "outputs": [
    {
     "data": {
      "text/plain": [
       "'14-05-2020-09-00'"
      ]
     },
     "execution_count": 9,
     "metadata": {},
     "output_type": "execute_result"
    }
   ],
   "source": [
    "EXP_NAME"
   ]
  },
  {
   "cell_type": "markdown",
   "metadata": {},
   "source": [
    "### Fix Random Seed"
   ]
  },
  {
   "cell_type": "code",
   "execution_count": 10,
   "metadata": {},
   "outputs": [],
   "source": [
    "seed_torch()"
   ]
  },
  {
   "cell_type": "markdown",
   "metadata": {},
   "source": [
    "#### Define Writer for Run\n"
   ]
  },
  {
   "cell_type": "code",
   "execution_count": 11,
   "metadata": {},
   "outputs": [],
   "source": [
    "# default `log_dir` is \"runs\" - we'll be more specific here\n",
    "writer = SummaryWriter(f'runs/{EXP_NAME}')"
   ]
  },
  {
   "cell_type": "markdown",
   "metadata": {},
   "source": [
    "### Load Data"
   ]
  },
  {
   "cell_type": "code",
   "execution_count": 12,
   "metadata": {},
   "outputs": [
    {
     "data": {
      "text/html": [
       "<div>\n",
       "<style scoped>\n",
       "    .dataframe tbody tr th:only-of-type {\n",
       "        vertical-align: middle;\n",
       "    }\n",
       "\n",
       "    .dataframe tbody tr th {\n",
       "        vertical-align: top;\n",
       "    }\n",
       "\n",
       "    .dataframe thead th {\n",
       "        text-align: right;\n",
       "    }\n",
       "</style>\n",
       "<table border=\"1\" class=\"dataframe\">\n",
       "  <thead>\n",
       "    <tr style=\"text-align: right;\">\n",
       "      <th></th>\n",
       "      <th>image_id</th>\n",
       "      <th>data_provider</th>\n",
       "      <th>isup_grade</th>\n",
       "      <th>gleason_score</th>\n",
       "    </tr>\n",
       "  </thead>\n",
       "  <tbody>\n",
       "    <tr>\n",
       "      <th>0</th>\n",
       "      <td>0005f7aaab2800f6170c399693a96917</td>\n",
       "      <td>karolinska</td>\n",
       "      <td>0</td>\n",
       "      <td>0+0</td>\n",
       "    </tr>\n",
       "    <tr>\n",
       "      <th>1</th>\n",
       "      <td>000920ad0b612851f8e01bcc880d9b3d</td>\n",
       "      <td>karolinska</td>\n",
       "      <td>0</td>\n",
       "      <td>0+0</td>\n",
       "    </tr>\n",
       "    <tr>\n",
       "      <th>2</th>\n",
       "      <td>0018ae58b01bdadc8e347995b69f99aa</td>\n",
       "      <td>radboud</td>\n",
       "      <td>4</td>\n",
       "      <td>4+4</td>\n",
       "    </tr>\n",
       "    <tr>\n",
       "      <th>3</th>\n",
       "      <td>001c62abd11fa4b57bf7a6c603a11bb9</td>\n",
       "      <td>karolinska</td>\n",
       "      <td>4</td>\n",
       "      <td>4+4</td>\n",
       "    </tr>\n",
       "    <tr>\n",
       "      <th>4</th>\n",
       "      <td>001d865e65ef5d2579c190a0e0350d8f</td>\n",
       "      <td>karolinska</td>\n",
       "      <td>0</td>\n",
       "      <td>0+0</td>\n",
       "    </tr>\n",
       "  </tbody>\n",
       "</table>\n",
       "</div>"
      ],
      "text/plain": [
       "                           image_id data_provider  isup_grade gleason_score\n",
       "0  0005f7aaab2800f6170c399693a96917    karolinska           0           0+0\n",
       "1  000920ad0b612851f8e01bcc880d9b3d    karolinska           0           0+0\n",
       "2  0018ae58b01bdadc8e347995b69f99aa       radboud           4           4+4\n",
       "3  001c62abd11fa4b57bf7a6c603a11bb9    karolinska           4           4+4\n",
       "4  001d865e65ef5d2579c190a0e0350d8f    karolinska           0           0+0"
      ]
     },
     "execution_count": 12,
     "metadata": {},
     "output_type": "execute_result"
    }
   ],
   "source": [
    "TRAIN_DF = pd.read_csv(TRAIN_CSV)\n",
    "TRAIN_DF.head()"
   ]
  },
  {
   "cell_type": "code",
   "execution_count": 13,
   "metadata": {},
   "outputs": [
    {
     "data": {
      "image/png": "[encoded data removed]",
      "text/plain": [
       "<Figure size 432x288 with 1 Axes>"
      ]
     },
     "metadata": {
      "image/png": {
       "height": 249,
       "width": 381
      },
      "needs_background": "light"
     },
     "output_type": "display_data"
    }
   ],
   "source": [
    "_ = TRAIN_DF[CFG.target_col].hist()"
   ]
  },
  {
   "cell_type": "markdown",
   "metadata": {},
   "source": [
    "### Train Eval Loop"
   ]
  },
  {
   "cell_type": "code",
   "execution_count": 14,
   "metadata": {},
   "outputs": [],
   "source": [
    "def train_eval_loop(train_dataset, val_dataset, model, optimizer, criterion, batch_sz=CFG.batch_size, num_epochs=CFG.epoch, tb_tag=\"\", model_name=\"debug\"):\n",
    "    # Write first layer weights to TB\n",
    "    if not CFG.debug:\n",
    "        conv1_weight = model.conv1.weight.data.to(\"cpu\")\n",
    "        img_grid = torchvision.utils.make_grid(conv1_weight, normalize=True)\n",
    "        writer.add_image(tag=f\"Model conv1 weights {tb_tag}\", img_tensor=img_grid, global_step=0)\n",
    "    \n",
    "    # define a data loader\n",
    "    train_dataloader = DataLoader(train_dataset, batch_size=batch_sz, shuffle=True, num_workers=8)\n",
    "    val_dataloader = DataLoader(val_dataset, batch_size=batch_sz, shuffle=False, num_workers=8)\n",
    "    model.to(device)\n",
    "    if CFG.use_amp:\n",
    "        model, optimizer = amp.initialize(model, optimizer, opt_level=\"O1\")\n",
    "    \n",
    "    scheduler = ReduceLROnPlateau(optimizer, 'min', factor=0.5, patience=CFG.rlopp, verbose=True)\n",
    "#     scheduler = StepLR(optimizer, step_size=5, gamma=0.5)\n",
    "    # Define epochs numbers to look into input images and predictions\n",
    "    # No more than 10 times per full training\n",
    "    vis_step = np.ceil(num_epochs/10).astype(int)\n",
    "    visual_epochs = list(range(0, num_epochs, vis_step))\n",
    "    \n",
    "    best_qwk = -100\n",
    "    best_val_loss = np.inf\n",
    "    \n",
    "    for epoch in range(num_epochs):\n",
    "        print(f'Epoch {epoch}/{num_epochs - 1}')\n",
    "        print('=' * 10)\n",
    "        \n",
    "        # Training Phase\n",
    "        # Set training mode\n",
    "        model.train();\n",
    "        train_running_loss = 0.0\n",
    "        train_epoch_preds, train_epoch_labels = [], []\n",
    "        # create random step\n",
    "        rand_step = np.random.randint(0, len(train_dataloader))\n",
    "        \n",
    "        # Iterate over train data.\n",
    "        tk_train = tqdm(enumerate(train_dataloader), total=len(train_dataloader))\n",
    "        for i, data in tk_train:\n",
    "            # Calculate global step\n",
    "            train_global_step = epoch * len(train_dataloader) + i\n",
    "            \n",
    "            inputs, labels = data\n",
    "            # Visualize input to the model:\n",
    "            if epoch in visual_epochs and i == rand_step:\n",
    "                img = reverse_show_img(inputs[0])\n",
    "                writer.add_image(tag=f\"Input Image {tb_tag}\", img_tensor=img, global_step=train_global_step, dataformats=\"HWC\")\n",
    "                del img\n",
    "            \n",
    "            inputs = inputs.to(device)\n",
    "            labels = labels.to(device)\n",
    "\n",
    "            # zero the parameter gradients\n",
    "            optimizer.zero_grad()\n",
    "\n",
    "            outputs = model(inputs)\n",
    "            \n",
    "            loss = criterion(outputs, labels)\n",
    "            if CFG.use_amp:\n",
    "                with amp.scale_loss(loss, optimizer) as scaled_loss:\n",
    "                    scaled_loss.backward()\n",
    "            else:\n",
    "                loss.backward()\n",
    "            optimizer.step()\n",
    "            # loss is mean across batch, multiply by batch size\n",
    "            # divide by number of steps in epoch (so loss is normalized)\n",
    "            train_running_loss += loss.item() / len(train_dataloader)\n",
    "            # tensorboarding loss\n",
    "            writer.add_scalar(tag=f\"Training loss {tb_tag}\", scalar_value=loss.item(), global_step=train_global_step)\n",
    "            \n",
    "            # collect train preds and labels for QWK\n",
    "            train_epoch_preds.append(outputs.data.to('cpu').numpy().argmax(1))\n",
    "            train_epoch_labels.append(labels.to('cpu').numpy())\n",
    "        \n",
    "        # Validation Phase\n",
    "        # Set evaluation mode\n",
    "        model.eval();\n",
    "        val_running_loss = 0.0\n",
    "        val_epoch_preds, val_epoch_labels = [], []\n",
    "        # Iterate over val data\n",
    "        tk_val = tqdm(enumerate(val_dataloader), total=len(val_dataloader))\n",
    "        for j, data in tk_val:\n",
    "            # Calculate global step\n",
    "            val_global_step = epoch * len(val_dataloader) + j\n",
    "            inputs, labels = data\n",
    "            inputs = inputs.to(device)\n",
    "            labels = labels.to(device)\n",
    "            with torch.no_grad():\n",
    "                outputs = model(inputs)\n",
    "            loss = criterion(outputs, labels)\n",
    "            val_running_loss += loss.item() / len(val_dataloader)\n",
    "            # tensorboarding loss\n",
    "            writer.add_scalar(tag=f\"Validation loss {tb_tag}\", scalar_value=loss.item(), global_step=val_global_step)\n",
    "            \n",
    "            # collect validation preds and labels for QWK\n",
    "            val_epoch_preds.append(outputs.data.to('cpu').numpy().argmax(1))\n",
    "            val_epoch_labels.append(labels.to('cpu').numpy())\n",
    "            \n",
    "            # visualise predictions for 0th validation batch\n",
    "            if epoch in visual_epochs and j == 0:\n",
    "                writer.add_figure(tag=f\"Actuals vs Predictions {tb_tag}\", figure=plot_classes_preds(outputs.to('cpu'), inputs.to('cpu'), labels.to('cpu')), \n",
    "                                  global_step=val_global_step)\n",
    "        \n",
    "        # Schedulers\n",
    "        scheduler.step(val_running_loss)\n",
    "        # Write lr to TBD\n",
    "        writer.add_scalar(tag=f\"lr {tb_tag}:\", scalar_value=optimizer.param_groups[0][\"lr\"], global_step=train_global_step)\n",
    "        \n",
    "        # \"End of Epoch\" Phase\n",
    "        print(f'Training Loss: {train_running_loss:.4f}\\tValidation Loss: {val_running_loss:.4f}')\n",
    "        \n",
    "        # Calculate epoch QWK and preds distribution\n",
    "        train_epoch_preds = np.concatenate(train_epoch_preds)\n",
    "        train_epoch_labels = np.concatenate(train_epoch_labels)\n",
    "        val_epoch_preds = np.concatenate(val_epoch_preds)\n",
    "        val_epoch_labels = np.concatenate(val_epoch_labels)\n",
    "        print(f'Counter train preds: {Counter(train_epoch_preds)}\\tCounter val preds: {Counter(val_epoch_preds)}')\n",
    "        \n",
    "        train_qwk = cohen_kappa_score(train_epoch_preds, train_epoch_labels, weights='quadratic')\n",
    "        val_qwk = cohen_kappa_score(val_epoch_preds, val_epoch_labels, weights='quadratic')\n",
    "        print(f\"Epoch train QWK: {train_qwk:.3f}\\tval QWK: {val_qwk:.3f}\")\n",
    "        writer.add_scalar(tag=f\"Training QWK {tb_tag}\", scalar_value=train_qwk, global_step=epoch)\n",
    "        writer.add_scalar(tag=f\"Validation QWK {tb_tag}\", scalar_value=val_qwk, global_step=epoch)\n",
    "        \n",
    "        # On the best val loss do:\n",
    "        if val_running_loss < best_val_loss:\n",
    "            # update best and save model\n",
    "            best_val_loss = val_running_loss\n",
    "            print(f'  Epoch {epoch} - Save Best Loss: {best_val_loss:.4f} Model')\n",
    "            torch.save(model.state_dict(), f'{MODEL_PATH}/{model_name}_loss.pth')\n",
    "            \n",
    "            # add losses as text to TB\n",
    "            writer.add_text(\"On save:\", \n",
    "                            f\"tr_loss: {train_running_loss:.4f}, tr_qwk: {train_qwk:.4f}, val_loss: {val_running_loss:.4f}, val_qwk: {val_qwk:.4f}\",\n",
    "                            global_step=val_global_step)\n",
    "            \n",
    "            # add image of conv1 weights to TB\n",
    "            if not CFG.debug:\n",
    "                conv1_weight = model.conv1.weight.data.to(\"cpu\")\n",
    "                img_grid = torchvision.utils.make_grid(conv1_weight, normalize=True)\n",
    "                writer.add_image(tag=f\"Model conv1 weights {tb_tag}\", img_tensor=img_grid, global_step=val_global_step)\n",
    "            \n",
    "            # add confusion matrix to TB\n",
    "            writer.add_figure(tag=f\"Confusion matrix {tb_tag}\", figure=plot_confusion_matrix(val_epoch_labels, val_epoch_preds), \n",
    "                                  global_step=val_global_step)\n",
    "        # On the best QWK\n",
    "        if val_qwk > best_qwk:\n",
    "            # update best and save model\n",
    "            best_qwk = val_qwk\n",
    "            print(f'  Epoch {epoch} - Save Best QWK: {best_qwk:.4f} Model')\n",
    "            torch.save(model.state_dict(), f'{MODEL_PATH}/{model_name}_qwk.pth')\n",
    "            \n",
    "            # add losses and qwk as text to TB\n",
    "            writer.add_text(\"On save:\", \n",
    "                            f\"tr_loss: {train_running_loss:.4f}, tr_qwk: {train_qwk:.4f}, val_loss: {val_running_loss:.4f}, val_qwk: {val_qwk:.4f}\",\n",
    "                            global_step=val_global_step)\n",
    "            # add image of conv1 weights to TB\n",
    "            if not CFG.debug:\n",
    "                conv1_weight = model.conv1.weight.data.to(\"cpu\")\n",
    "                img_grid = torchvision.utils.make_grid(conv1_weight, normalize=True)\n",
    "                writer.add_image(tag=f\"Model conv1 weights {tb_tag}\", img_tensor=img_grid, global_step=val_global_step)\n",
    "            \n",
    "            # add confusion matrix to TB\n",
    "            writer.add_figure(tag=f\"Confusion matrix {tb_tag}\", figure=plot_confusion_matrix(val_epoch_labels, val_epoch_preds), \n",
    "                                  global_step=val_global_step)\n",
    "    \n",
    "    writer.close()"
   ]
  },
  {
   "cell_type": "markdown",
   "metadata": {},
   "source": [
    "### Prepare CV - strategy"
   ]
  },
  {
   "cell_type": "code",
   "execution_count": 15,
   "metadata": {},
   "outputs": [],
   "source": [
    "if CFG.debug:\n",
    "    folds_fn = \"folds_db.csv\"\n",
    "    try: \n",
    "        folds = pd.read_csv(PANDA_PATH/folds_fn)\n",
    "    except FileNotFoundError:\n",
    "        folds = TRAIN_DF.sample(n=100, random_state=CFG.seed).reset_index(drop=True).copy()\n",
    "else:\n",
    "    folds_fn = \"folds.csv\"\n",
    "    try:\n",
    "        folds = pd.read_csv(PANDA_PATH/folds_fn)\n",
    "    except FileNotFoundError:\n",
    "        folds = TRAIN_DF.copy()"
   ]
  },
  {
   "cell_type": "code",
   "execution_count": 16,
   "metadata": {},
   "outputs": [],
   "source": [
    "if not (PANDA_PATH/folds_fn).exists():\n",
    "    train_labels = folds[CFG.target_col].values\n",
    "    kf = StratifiedKFold(n_splits=CFG.n_fold, shuffle=True, random_state=CFG.seed)\n",
    "    for fold, (train_index, val_index) in enumerate(kf.split(folds.values, train_labels)):\n",
    "        folds.loc[val_index, 'fold'] = int(fold)\n",
    "    folds['fold'] = folds['fold'].astype(int)\n",
    "    folds.to_csv(PANDA_PATH/folds_fn, index=None)\n",
    "    folds.head()"
   ]
  },
  {
   "cell_type": "code",
   "execution_count": 17,
   "metadata": {},
   "outputs": [
    {
     "name": "stdout",
     "output_type": "stream",
     "text": [
      "<class 'pandas.core.frame.DataFrame'>\n",
      "RangeIndex: 10616 entries, 0 to 10615\n",
      "Data columns (total 5 columns):\n",
      " #   Column         Non-Null Count  Dtype \n",
      "---  ------         --------------  ----- \n",
      " 0   image_id       10616 non-null  object\n",
      " 1   data_provider  10616 non-null  object\n",
      " 2   isup_grade     10616 non-null  int64 \n",
      " 3   gleason_score  10616 non-null  object\n",
      " 4   fold           10616 non-null  int64 \n",
      "dtypes: int64(2), object(3)\n",
      "memory usage: 414.8+ KB\n"
     ]
    }
   ],
   "source": [
    "folds.info()"
   ]
  },
  {
   "cell_type": "markdown",
   "metadata": {},
   "source": [
    "#### Define Losses"
   ]
  },
  {
   "cell_type": "code",
   "execution_count": 18,
   "metadata": {},
   "outputs": [],
   "source": [
    "losses_dict = {\n",
    "    \"cce\" : nn.CrossEntropyLoss(),\n",
    "    \"ls_soft_ce\" : LabelSmoothSoftmaxCEV1(),\n",
    "}"
   ]
  },
  {
   "cell_type": "markdown",
   "metadata": {},
   "source": [
    "### Debug Runs"
   ]
  },
  {
   "cell_type": "code",
   "execution_count": 18,
   "metadata": {},
   "outputs": [],
   "source": [
    "# default `log_dir` is \"runs\" - we'll be more specific here\n",
    "writer = SummaryWriter(f'runs/debug')"
   ]
  },
  {
   "cell_type": "code",
   "execution_count": 19,
   "metadata": {},
   "outputs": [
    {
     "name": "stdout",
     "output_type": "stream",
     "text": [
      "debug: False use_amp: True img_height: 512 img_width: 512 lr: 0.0001 batch_size: 16 epoch: 50 seed: 1982 target_size: 6 img_id_col: image_id target_col: isup_grade n_fold: 4 tiff_layer: 1 loss: ls_soft_ce\n"
     ]
    }
   ],
   "source": [
    "print(\" \".join([f\"{key}: {val}\" for key, val in CFG.__dict__.items() if not key.startswith(\"__\")]))"
   ]
  },
  {
   "cell_type": "code",
   "execution_count": 18,
   "metadata": {},
   "outputs": [],
   "source": [
    "writer.add_text(\"Experiment Description:\", \" \".join([f\"{key}: {val}\" for key, val in CFG.__dict__.items() if not key.startswith(\"__\")]))"
   ]
  },
  {
   "cell_type": "code",
   "execution_count": 22,
   "metadata": {
    "collapsed": true,
    "jupyter": {
     "outputs_hidden": true
    }
   },
   "outputs": [
    {
     "name": "stdout",
     "output_type": "stream",
     "text": [
      "Selected optimization level O1:  Insert automatic casts around Pytorch functions and Tensor methods.\n",
      "\n",
      "Defaults for this optimization level are:\n",
      "enabled                : True\n",
      "opt_level              : O1\n",
      "cast_model_type        : None\n",
      "patch_torch_functions  : True\n",
      "keep_batchnorm_fp32    : None\n",
      "master_weights         : None\n",
      "loss_scale             : dynamic\n",
      "Processing user overrides (additional kwargs that are not None)...\n",
      "After processing overrides, optimization options are:\n",
      "enabled                : True\n",
      "opt_level              : O1\n",
      "cast_model_type        : None\n",
      "patch_torch_functions  : True\n",
      "keep_batchnorm_fp32    : None\n",
      "master_weights         : None\n",
      "loss_scale             : dynamic\n",
      "Warning:  multi_tensor_applier fused unscale kernel is unavailable, possibly because apex was installed without --cuda_ext --cpp_ext. Using Python fallback.  Original ImportError was: ModuleNotFoundError(\"No module named 'amp_C'\")\n",
      "Epoch 0/29\n",
      "==========\n"
     ]
    },
    {
     "name": "stderr",
     "output_type": "stream",
     "text": [
      "100%|██████████| 498/498 [02:31<00:00,  3.29it/s]\n",
      "100%|██████████| 166/166 [00:15<00:00, 10.67it/s]\n"
     ]
    },
    {
     "name": "stdout",
     "output_type": "stream",
     "text": [
      "Training Loss: 1.4133\tValidation Loss: 1.3378\n",
      "Counter train preds: Counter({0: 3171, 1: 2178, 5: 974, 3: 583, 4: 559, 2: 497})\tCounter val preds: Counter({1: 964, 0: 951, 2: 237, 4: 185, 3: 164, 5: 153})\n",
      "Epoch train QWK: 0.590\tval QWK: 0.636\n",
      "  Epoch 0 - Save Best Loss: 1.3378 Model\n",
      "Confusion matrix, without normalization\n",
      "[[612 104   1   1   2   3]\n",
      " [171 461  26   6   1   1]\n",
      " [ 38 220  61  10   4   2]\n",
      " [ 41  82  90  60  23  15]\n",
      " [ 50  69  31  37  95  31]\n",
      " [ 39  28  28  50  60 101]]\n",
      "  Epoch 0 - Save Best QWK: 0.6357 Model\n",
      "Confusion matrix, without normalization\n",
      "[[612 104   1   1   2   3]\n",
      " [171 461  26   6   1   1]\n",
      " [ 38 220  61  10   4   2]\n",
      " [ 41  82  90  60  23  15]\n",
      " [ 50  69  31  37  95  31]\n",
      " [ 39  28  28  50  60 101]]\n",
      "Epoch 1/29\n",
      "==========\n"
     ]
    },
    {
     "name": "stderr",
     "output_type": "stream",
     "text": [
      "100%|██████████| 498/498 [02:33<00:00,  3.24it/s]\n",
      "100%|██████████| 166/166 [00:14<00:00, 11.12it/s]\n"
     ]
    },
    {
     "name": "stdout",
     "output_type": "stream",
     "text": [
      "Training Loss: 1.3243\tValidation Loss: 1.2604\n",
      "Counter train preds: Counter({0: 3068, 1: 2105, 5: 931, 3: 659, 4: 614, 2: 585})\tCounter val preds: Counter({0: 1165, 5: 408, 1: 357, 2: 345, 3: 195, 4: 184})\n",
      "Epoch train QWK: 0.663\tval QWK: 0.723\n",
      "  Epoch 1 - Save Best Loss: 1.2604 Model\n",
      "Confusion matrix, without normalization\n",
      "[[694  10   2   1   7   9]\n",
      " [271 243 116  20  13   3]\n",
      " [ 64  69 137  37  19   9]\n",
      " [ 47  18  54  85  32  75]\n",
      " [ 51  14  22  32  88 106]\n",
      " [ 38   3  14  20  25 206]]\n",
      "  Epoch 1 - Save Best QWK: 0.7233 Model\n",
      "Confusion matrix, without normalization\n",
      "[[694  10   2   1   7   9]\n",
      " [271 243 116  20  13   3]\n",
      " [ 64  69 137  37  19   9]\n",
      " [ 47  18  54  85  32  75]\n",
      " [ 51  14  22  32  88 106]\n",
      " [ 38   3  14  20  25 206]]\n",
      "Epoch 2/29\n",
      "==========\n"
     ]
    },
    {
     "name": "stderr",
     "output_type": "stream",
     "text": [
      "100%|██████████| 498/498 [02:32<00:00,  3.26it/s]\n",
      "100%|██████████| 166/166 [00:14<00:00, 11.36it/s]\n"
     ]
    },
    {
     "name": "stdout",
     "output_type": "stream",
     "text": [
      "Training Loss: 1.2768\tValidation Loss: 1.2445\n",
      "Counter train preds: Counter({0: 2990, 1: 2062, 5: 903, 4: 712, 2: 654, 3: 641})\tCounter val preds: Counter({0: 988, 1: 664, 5: 486, 3: 310, 4: 129, 2: 77})\n",
      "Epoch train QWK: 0.694\tval QWK: 0.724\n",
      "  Epoch 2 - Save Best Loss: 1.2445 Model\n",
      "Confusion matrix, without normalization\n",
      "[[652  50   1   2   7  11]\n",
      " [178 413  27  28  11   9]\n",
      " [ 37 139  36  81  13  29]\n",
      " [ 43  31   6 118  19  94]\n",
      " [ 40  26   6  55  64 122]\n",
      " [ 38   5   1  26  15 221]]\n",
      "  Epoch 2 - Save Best QWK: 0.7243 Model\n",
      "Confusion matrix, without normalization\n",
      "[[652  50   1   2   7  11]\n",
      " [178 413  27  28  11   9]\n",
      " [ 37 139  36  81  13  29]\n",
      " [ 43  31   6 118  19  94]\n",
      " [ 40  26   6  55  64 122]\n",
      " [ 38   5   1  26  15 221]]\n",
      "Epoch 3/29\n",
      "==========\n"
     ]
    },
    {
     "name": "stderr",
     "output_type": "stream",
     "text": [
      "100%|██████████| 498/498 [02:32<00:00,  3.26it/s]\n",
      "100%|██████████| 166/166 [00:16<00:00, 10.25it/s]\n"
     ]
    },
    {
     "name": "stdout",
     "output_type": "stream",
     "text": [
      "Training Loss: 1.2524\tValidation Loss: 1.2349\n",
      "Counter train preds: Counter({0: 2952, 1: 2107, 5: 934, 3: 729, 4: 638, 2: 602})\tCounter val preds: Counter({1: 836, 0: 797, 5: 349, 3: 253, 4: 229, 2: 190})\n",
      "Epoch train QWK: 0.708\tval QWK: 0.764\n",
      "  Epoch 3 - Save Best Loss: 1.2349 Model\n",
      "Confusion matrix, without normalization\n",
      "[[583 127   1   0   7   5]\n",
      " [118 459  66  14   9   0]\n",
      " [ 22 150  84  61  10   8]\n",
      " [ 25  42  21 112  56  55]\n",
      " [ 21  46  14  38 112  82]\n",
      " [ 28  12   4  28  35 199]]\n",
      "  Epoch 3 - Save Best QWK: 0.7642 Model\n",
      "Confusion matrix, without normalization\n",
      "[[583 127   1   0   7   5]\n",
      " [118 459  66  14   9   0]\n",
      " [ 22 150  84  61  10   8]\n",
      " [ 25  42  21 112  56  55]\n",
      " [ 21  46  14  38 112  82]\n",
      " [ 28  12   4  28  35 199]]\n",
      "Epoch 4/29\n",
      "==========\n"
     ]
    },
    {
     "name": "stderr",
     "output_type": "stream",
     "text": [
      "100%|██████████| 498/498 [02:33<00:00,  3.25it/s]\n",
      "100%|██████████| 166/166 [00:15<00:00, 10.78it/s]"
     ]
    },
    {
     "name": "stdout",
     "output_type": "stream",
     "text": [
      "Training Loss: 1.2235\tValidation Loss: 1.2475\n",
      "Counter train preds: Counter({0: 2866, 1: 2110, 5: 923, 4: 713, 3: 677, 2: 673})\tCounter val preds: Counter({0: 1068, 1: 627, 4: 370, 3: 248, 5: 245, 2: 96})\n",
      "Epoch train QWK: 0.727\tval QWK: 0.739\n",
      "Epoch 5/29\n",
      "==========\n"
     ]
    },
    {
     "name": "stderr",
     "output_type": "stream",
     "text": [
      "\n",
      "100%|██████████| 498/498 [02:28<00:00,  3.35it/s]\n",
      "100%|██████████| 166/166 [00:14<00:00, 11.65it/s]\n"
     ]
    },
    {
     "name": "stdout",
     "output_type": "stream",
     "text": [
      "Training Loss: 1.2193\tValidation Loss: 1.2217\n",
      "Counter train preds: Counter({0: 2865, 1: 2125, 5: 921, 3: 716, 4: 712, 2: 623})\tCounter val preds: Counter({1: 887, 0: 850, 3: 307, 4: 232, 2: 218, 5: 160})\n",
      "Epoch train QWK: 0.735\tval QWK: 0.727\n",
      "  Epoch 5 - Save Best Loss: 1.2217 Model\n",
      "Confusion matrix, without normalization\n",
      "[[616  87   2   3   9   6]\n",
      " [134 488  24  17   3   0]\n",
      " [ 20 209  74  22   7   3]\n",
      " [ 28  46  73 130  19  15]\n",
      " [ 26  48  24  68 123  24]\n",
      " [ 26   9  21  67  71 112]]\n",
      "Epoch 6/29\n",
      "==========\n"
     ]
    },
    {
     "name": "stderr",
     "output_type": "stream",
     "text": [
      "100%|██████████| 498/498 [02:31<00:00,  3.29it/s]\n",
      "100%|██████████| 166/166 [00:15<00:00, 10.50it/s]"
     ]
    },
    {
     "name": "stdout",
     "output_type": "stream",
     "text": [
      "Training Loss: 1.1916\tValidation Loss: 1.2237\n",
      "Counter train preds: Counter({0: 2830, 1: 2097, 5: 913, 3: 743, 4: 722, 2: 657})\tCounter val preds: Counter({1: 895, 0: 872, 3: 277, 5: 261, 2: 209, 4: 140})\n",
      "Epoch train QWK: 0.751\tval QWK: 0.734\n",
      "Epoch 7/29\n",
      "==========\n"
     ]
    },
    {
     "name": "stderr",
     "output_type": "stream",
     "text": [
      "\n",
      "100%|██████████| 498/498 [02:29<00:00,  3.32it/s]\n",
      "100%|██████████| 166/166 [00:14<00:00, 11.43it/s]"
     ]
    },
    {
     "name": "stdout",
     "output_type": "stream",
     "text": [
      "Training Loss: 1.1780\tValidation Loss: 1.2794\n",
      "Counter train preds: Counter({0: 2802, 1: 2125, 5: 923, 4: 728, 3: 724, 2: 660})\tCounter val preds: Counter({0: 1195, 1: 461, 5: 338, 4: 308, 2: 241, 3: 111})\n",
      "Epoch train QWK: 0.760\tval QWK: 0.724\n",
      "Epoch 8/29\n",
      "==========\n"
     ]
    },
    {
     "name": "stderr",
     "output_type": "stream",
     "text": [
      "\n",
      "  6%|▋         | 32/498 [00:10<02:30,  3.10it/s]"
     ]
    },
    {
     "name": "stdout",
     "output_type": "stream",
     "text": [
      "Gradient overflow.  Skipping step, loss scaler 0 reducing loss scale to 131072.0\n"
     ]
    },
    {
     "name": "stderr",
     "output_type": "stream",
     "text": [
      "100%|██████████| 498/498 [02:35<00:00,  3.20it/s]\n",
      "100%|██████████| 166/166 [00:14<00:00, 11.45it/s]"
     ]
    },
    {
     "name": "stdout",
     "output_type": "stream",
     "text": [
      "Training Loss: 1.1537\tValidation Loss: 1.2326\n",
      "Counter train preds: Counter({0: 2766, 1: 2073, 5: 922, 4: 753, 2: 727, 3: 721})\tCounter val preds: Counter({0: 970, 1: 600, 4: 415, 5: 261, 2: 222, 3: 186})\n",
      "Epoch train QWK: 0.775\tval QWK: 0.742\n",
      "Epoch 9/29\n",
      "==========\n"
     ]
    },
    {
     "name": "stderr",
     "output_type": "stream",
     "text": [
      "\n",
      "100%|██████████| 498/498 [02:32<00:00,  3.27it/s]\n",
      "100%|██████████| 166/166 [00:17<00:00,  9.62it/s]"
     ]
    },
    {
     "name": "stdout",
     "output_type": "stream",
     "text": [
      "Epoch    10: reducing learning rate of group 0 to 5.0000e-05.\n",
      "Training Loss: 1.1571\tValidation Loss: 1.2449\n",
      "Counter train preds: Counter({0: 2746, 1: 2079, 5: 912, 3: 791, 4: 745, 2: 689})\tCounter val preds: Counter({1: 1001, 0: 814, 5: 246, 2: 221, 3: 219, 4: 153})\n",
      "Epoch train QWK: 0.767\tval QWK: 0.717\n",
      "Epoch 10/29\n",
      "==========\n"
     ]
    },
    {
     "name": "stderr",
     "output_type": "stream",
     "text": [
      "\n",
      "100%|██████████| 498/498 [02:31<00:00,  3.28it/s]\n",
      "100%|██████████| 166/166 [00:14<00:00, 11.80it/s]\n"
     ]
    },
    {
     "name": "stdout",
     "output_type": "stream",
     "text": [
      "Training Loss: 1.0783\tValidation Loss: 1.1852\n",
      "Counter train preds: Counter({0: 2674, 1: 2077, 5: 928, 4: 786, 3: 769, 2: 728})\tCounter val preds: Counter({0: 872, 1: 686, 5: 383, 4: 269, 3: 233, 2: 211})\n",
      "Epoch train QWK: 0.814\tval QWK: 0.762\n",
      "  Epoch 10 - Save Best Loss: 1.1852 Model\n",
      "Confusion matrix, without normalization\n",
      "[[633  62   2   5  11  10]\n",
      " [139 424  55  26  22   0]\n",
      " [ 22 136  95  43  22  17]\n",
      " [ 27  31  33 110  43  67]\n",
      " [ 27  27  19  35 128  77]\n",
      " [ 24   6   7  14  43 212]]\n",
      "Epoch 11/29\n",
      "==========\n"
     ]
    },
    {
     "name": "stderr",
     "output_type": "stream",
     "text": [
      "100%|██████████| 498/498 [02:26<00:00,  3.40it/s]\n",
      "100%|██████████| 166/166 [00:14<00:00, 11.79it/s]\n"
     ]
    },
    {
     "name": "stdout",
     "output_type": "stream",
     "text": [
      "Training Loss: 1.0550\tValidation Loss: 1.2170\n",
      "Counter train preds: Counter({0: 2645, 1: 2025, 5: 936, 4: 803, 2: 797, 3: 756})\tCounter val preds: Counter({0: 968, 1: 566, 5: 453, 2: 265, 3: 220, 4: 182})\n",
      "Epoch train QWK: 0.819\tval QWK: 0.766\n",
      "  Epoch 11 - Save Best QWK: 0.7663 Model\n",
      "Confusion matrix, without normalization\n",
      "[[662  45   2   4   3   7]\n",
      " [181 366  84  13  15   7]\n",
      " [ 35  99 121  45  16  19]\n",
      " [ 32  23  34 109  27  86]\n",
      " [ 31  29  15  38  97 103]\n",
      " [ 27   4   9  11  24 231]]\n",
      "Epoch 12/29\n",
      "==========\n"
     ]
    },
    {
     "name": "stderr",
     "output_type": "stream",
     "text": [
      "  8%|▊         | 42/498 [00:13<02:11,  3.47it/s]"
     ]
    },
    {
     "name": "stdout",
     "output_type": "stream",
     "text": [
      "Gradient overflow.  Skipping step, loss scaler 0 reducing loss scale to 131072.0\n"
     ]
    },
    {
     "name": "stderr",
     "output_type": "stream",
     "text": [
      "100%|██████████| 498/498 [02:27<00:00,  3.37it/s]\n",
      "100%|██████████| 166/166 [00:16<00:00, 10.31it/s]"
     ]
    },
    {
     "name": "stdout",
     "output_type": "stream",
     "text": [
      "Training Loss: 1.0295\tValidation Loss: 1.2241\n",
      "Counter train preds: Counter({0: 2631, 1: 2021, 5: 895, 2: 815, 4: 801, 3: 799})\tCounter val preds: Counter({0: 921, 1: 797, 5: 258, 3: 255, 4: 222, 2: 201})\n",
      "Epoch train QWK: 0.821\tval QWK: 0.754\n",
      "Epoch 13/29\n",
      "==========\n"
     ]
    },
    {
     "name": "stderr",
     "output_type": "stream",
     "text": [
      "\n",
      "100%|██████████| 498/498 [02:34<00:00,  3.22it/s]\n",
      "100%|██████████| 166/166 [00:14<00:00, 11.82it/s]"
     ]
    },
    {
     "name": "stdout",
     "output_type": "stream",
     "text": [
      "Training Loss: 1.0086\tValidation Loss: 1.2355\n",
      "Counter train preds: Counter({0: 2553, 1: 2047, 5: 940, 2: 815, 4: 813, 3: 794})\tCounter val preds: Counter({0: 995, 1: 581, 2: 387, 5: 293, 3: 214, 4: 184})\n",
      "Epoch train QWK: 0.843\tval QWK: 0.752\n",
      "Epoch 14/29\n",
      "==========\n"
     ]
    },
    {
     "name": "stderr",
     "output_type": "stream",
     "text": [
      "\n",
      "100%|██████████| 498/498 [02:30<00:00,  3.32it/s]\n",
      "100%|██████████| 166/166 [00:14<00:00, 11.78it/s]"
     ]
    },
    {
     "name": "stdout",
     "output_type": "stream",
     "text": [
      "Epoch    15: reducing learning rate of group 0 to 2.5000e-05.\n",
      "Training Loss: 0.9891\tValidation Loss: 1.2672\n",
      "Counter train preds: Counter({0: 2550, 1: 2031, 5: 919, 3: 833, 2: 832, 4: 797})\tCounter val preds: Counter({0: 854, 1: 731, 4: 385, 5: 364, 2: 190, 3: 130})\n",
      "Epoch train QWK: 0.844\tval QWK: 0.763\n",
      "Epoch 15/29\n",
      "==========\n"
     ]
    },
    {
     "name": "stderr",
     "output_type": "stream",
     "text": [
      "\n",
      "100%|██████████| 498/498 [02:34<00:00,  3.23it/s]\n",
      "100%|██████████| 166/166 [00:15<00:00, 10.71it/s]\n"
     ]
    },
    {
     "name": "stdout",
     "output_type": "stream",
     "text": [
      "Training Loss: 0.9256\tValidation Loss: 1.2372\n",
      "Counter train preds: Counter({0: 2517, 1: 2001, 5: 894, 2: 886, 4: 846, 3: 818})\tCounter val preds: Counter({0: 888, 1: 612, 3: 362, 2: 285, 5: 260, 4: 247})\n",
      "Epoch train QWK: 0.868\tval QWK: 0.767\n",
      "  Epoch 15 - Save Best QWK: 0.7666 Model\n",
      "Confusion matrix, without normalization\n",
      "[[631  70   3  13   2   4]\n",
      " [146 389  85  35   9   2]\n",
      " [ 27  98 137  56  13   4]\n",
      " [ 30  21  39 151  38  32]\n",
      " [ 30  21  15  67 135  45]\n",
      " [ 24  13   6  40  50 173]]\n",
      "Epoch 16/29\n",
      "==========\n"
     ]
    },
    {
     "name": "stderr",
     "output_type": "stream",
     "text": [
      " 13%|█▎        | 67/498 [00:20<02:05,  3.43it/s]"
     ]
    },
    {
     "name": "stdout",
     "output_type": "stream",
     "text": [
      "Gradient overflow.  Skipping step, loss scaler 0 reducing loss scale to 131072.0\n"
     ]
    },
    {
     "name": "stderr",
     "output_type": "stream",
     "text": [
      "100%|██████████| 498/498 [02:30<00:00,  3.31it/s]\n",
      "100%|██████████| 166/166 [00:14<00:00, 11.39it/s]"
     ]
    },
    {
     "name": "stdout",
     "output_type": "stream",
     "text": [
      "Training Loss: 0.9068\tValidation Loss: 1.2451\n",
      "Counter train preds: Counter({0: 2501, 1: 1981, 5: 924, 2: 901, 3: 831, 4: 824})\tCounter val preds: Counter({0: 868, 1: 740, 2: 287, 3: 280, 5: 247, 4: 232})\n",
      "Epoch train QWK: 0.876\tval QWK: 0.754\n",
      "Epoch 17/29\n",
      "==========\n"
     ]
    },
    {
     "name": "stderr",
     "output_type": "stream",
     "text": [
      "\n",
      "100%|██████████| 498/498 [02:32<00:00,  3.27it/s]\n",
      "100%|██████████| 166/166 [00:15<00:00, 10.44it/s]"
     ]
    },
    {
     "name": "stdout",
     "output_type": "stream",
     "text": [
      "Training Loss: 0.8845\tValidation Loss: 1.2586\n",
      "Counter train preds: Counter({0: 2483, 1: 1987, 5: 913, 2: 888, 4: 866, 3: 825})\tCounter val preds: Counter({0: 844, 1: 579, 5: 348, 3: 298, 2: 296, 4: 289})\n",
      "Epoch train QWK: 0.881\tval QWK: 0.764\n",
      "Epoch 18/29\n",
      "==========\n"
     ]
    },
    {
     "name": "stderr",
     "output_type": "stream",
     "text": [
      "\n",
      "100%|██████████| 498/498 [02:31<00:00,  3.29it/s]\n",
      "100%|██████████| 166/166 [00:15<00:00, 10.56it/s]"
     ]
    },
    {
     "name": "stdout",
     "output_type": "stream",
     "text": [
      "Epoch    19: reducing learning rate of group 0 to 1.2500e-05.\n",
      "Training Loss: 0.8628\tValidation Loss: 1.2978\n",
      "Counter train preds: Counter({0: 2465, 1: 1989, 5: 915, 2: 894, 4: 864, 3: 835})\tCounter val preds: Counter({0: 817, 1: 634, 2: 407, 5: 305, 3: 289, 4: 202})\n",
      "Epoch train QWK: 0.893\tval QWK: 0.763\n",
      "Epoch 19/29\n",
      "==========\n"
     ]
    },
    {
     "name": "stderr",
     "output_type": "stream",
     "text": [
      "\n",
      "100%|██████████| 498/498 [02:34<00:00,  3.23it/s]\n",
      "100%|██████████| 166/166 [00:14<00:00, 11.44it/s]\n"
     ]
    },
    {
     "name": "stdout",
     "output_type": "stream",
     "text": [
      "Training Loss: 0.8329\tValidation Loss: 1.2674\n",
      "Counter train preds: Counter({0: 2413, 1: 2033, 2: 935, 5: 906, 4: 867, 3: 808})\tCounter val preds: Counter({0: 843, 1: 638, 2: 380, 5: 292, 4: 253, 3: 248})\n",
      "Epoch train QWK: 0.897\tval QWK: 0.771\n",
      "  Epoch 19 - Save Best QWK: 0.7708 Model\n",
      "Confusion matrix, without normalization\n",
      "[[617  87   7   4   3   5]\n",
      " [127 398 113  17   7   4]\n",
      " [ 23  95 157  44  13   3]\n",
      " [ 25  24  64 112  44  42]\n",
      " [ 24  25  26  42 135  61]\n",
      " [ 27   9  13  29  51 177]]\n",
      "Epoch 20/29\n",
      "==========\n"
     ]
    },
    {
     "name": "stderr",
     "output_type": "stream",
     "text": [
      " 18%|█▊        | 90/498 [00:28<02:00,  3.39it/s]"
     ]
    },
    {
     "name": "stdout",
     "output_type": "stream",
     "text": [
      "Gradient overflow.  Skipping step, loss scaler 0 reducing loss scale to 131072.0\n"
     ]
    },
    {
     "name": "stderr",
     "output_type": "stream",
     "text": [
      "100%|██████████| 498/498 [02:30<00:00,  3.30it/s]\n",
      "100%|██████████| 166/166 [00:14<00:00, 11.74it/s]\n"
     ]
    },
    {
     "name": "stdout",
     "output_type": "stream",
     "text": [
      "Training Loss: 0.8309\tValidation Loss: 1.2587\n",
      "Counter train preds: Counter({0: 2444, 1: 1971, 2: 946, 5: 906, 4: 855, 3: 840})\tCounter val preds: Counter({0: 905, 1: 645, 5: 348, 2: 288, 4: 254, 3: 214})\n",
      "Epoch train QWK: 0.895\tval QWK: 0.772\n",
      "  Epoch 20 - Save Best QWK: 0.7721 Model\n",
      "Confusion matrix, without normalization\n",
      "[[638  67   7   5   2   4]\n",
      " [156 399  82  11  13   5]\n",
      " [ 27 112 129  38  19  10]\n",
      " [ 30  31  46 104  49  51]\n",
      " [ 29  25  16  32 137  74]\n",
      " [ 25  11   8  24  34 204]]\n",
      "Epoch 21/29\n",
      "==========\n"
     ]
    },
    {
     "name": "stderr",
     "output_type": "stream",
     "text": [
      "100%|██████████| 498/498 [02:33<00:00,  3.25it/s]\n",
      "100%|██████████| 166/166 [00:16<00:00, 10.07it/s]"
     ]
    },
    {
     "name": "stdout",
     "output_type": "stream",
     "text": [
      "Training Loss: 0.8118\tValidation Loss: 1.2990\n",
      "Counter train preds: Counter({0: 2425, 1: 1992, 2: 920, 5: 913, 4: 863, 3: 849})\tCounter val preds: Counter({0: 863, 1: 560, 2: 397, 4: 287, 3: 274, 5: 273})\n",
      "Epoch train QWK: 0.904\tval QWK: 0.766\n",
      "Epoch 22/29\n",
      "==========\n"
     ]
    },
    {
     "name": "stderr",
     "output_type": "stream",
     "text": [
      "\n",
      "100%|██████████| 498/498 [02:27<00:00,  3.37it/s]\n",
      "100%|██████████| 166/166 [00:14<00:00, 11.43it/s]\n"
     ]
    },
    {
     "name": "stdout",
     "output_type": "stream",
     "text": [
      "Epoch    23: reducing learning rate of group 0 to 6.2500e-06.\n",
      "Training Loss: 0.8106\tValidation Loss: 1.2867\n",
      "Counter train preds: Counter({0: 2392, 1: 2022, 2: 934, 5: 910, 4: 880, 3: 824})\tCounter val preds: Counter({0: 844, 1: 588, 2: 388, 5: 310, 4: 274, 3: 250})\n",
      "Epoch train QWK: 0.898\tval QWK: 0.773\n",
      "  Epoch 22 - Save Best QWK: 0.7731 Model\n",
      "Confusion matrix, without normalization\n",
      "[[610  87  10   6   5   5]\n",
      " [139 365 121  26  10   5]\n",
      " [ 24  80 164  46  17   4]\n",
      " [ 21  24  62 114  45  45]\n",
      " [ 25  24  18  39 147  60]\n",
      " [ 25   8  13  19  50 191]]\n",
      "Epoch 23/29\n",
      "==========\n"
     ]
    },
    {
     "name": "stderr",
     "output_type": "stream",
     "text": [
      "100%|██████████| 498/498 [02:29<00:00,  3.33it/s]\n",
      "100%|██████████| 166/166 [00:14<00:00, 11.55it/s]"
     ]
    },
    {
     "name": "stdout",
     "output_type": "stream",
     "text": [
      "Training Loss: 0.7927\tValidation Loss: 1.2908\n",
      "Counter train preds: Counter({0: 2397, 1: 1984, 5: 944, 2: 931, 3: 874, 4: 832})\tCounter val preds: Counter({0: 840, 1: 644, 2: 377, 5: 274, 3: 270, 4: 249})\n",
      "Epoch train QWK: 0.906\tval QWK: 0.766\n",
      "Epoch 24/29\n",
      "==========\n"
     ]
    },
    {
     "name": "stderr",
     "output_type": "stream",
     "text": [
      "\n",
      " 41%|████      | 204/498 [01:01<01:24,  3.47it/s]"
     ]
    },
    {
     "name": "stdout",
     "output_type": "stream",
     "text": [
      "Gradient overflow.  Skipping step, loss scaler 0 reducing loss scale to 131072.0\n"
     ]
    },
    {
     "name": "stderr",
     "output_type": "stream",
     "text": [
      "100%|██████████| 498/498 [02:30<00:00,  3.30it/s]\n",
      "100%|██████████| 166/166 [00:15<00:00, 10.47it/s]"
     ]
    },
    {
     "name": "stdout",
     "output_type": "stream",
     "text": [
      "Training Loss: 0.7887\tValidation Loss: 1.2833\n",
      "Counter train preds: Counter({0: 2403, 1: 1975, 2: 947, 5: 891, 4: 890, 3: 856})\tCounter val preds: Counter({0: 863, 1: 672, 2: 376, 4: 297, 5: 265, 3: 181})\n",
      "Epoch train QWK: 0.906\tval QWK: 0.760\n",
      "Epoch 25/29\n",
      "==========\n"
     ]
    },
    {
     "name": "stderr",
     "output_type": "stream",
     "text": [
      "\n",
      "100%|██████████| 498/498 [02:29<00:00,  3.33it/s]\n",
      "100%|██████████| 166/166 [00:14<00:00, 11.74it/s]"
     ]
    },
    {
     "name": "stdout",
     "output_type": "stream",
     "text": [
      "Training Loss: 0.7820\tValidation Loss: 1.2766\n",
      "Counter train preds: Counter({0: 2399, 1: 1977, 2: 951, 5: 904, 4: 874, 3: 857})\tCounter val preds: Counter({0: 859, 1: 629, 2: 323, 3: 313, 5: 275, 4: 255})\n",
      "Epoch train QWK: 0.907\tval QWK: 0.765\n",
      "Epoch 26/29\n",
      "==========\n"
     ]
    },
    {
     "name": "stderr",
     "output_type": "stream",
     "text": [
      "\n",
      "100%|██████████| 498/498 [02:28<00:00,  3.35it/s]\n",
      "100%|██████████| 166/166 [00:14<00:00, 11.55it/s]"
     ]
    },
    {
     "name": "stdout",
     "output_type": "stream",
     "text": [
      "Epoch    27: reducing learning rate of group 0 to 3.1250e-06.\n",
      "Training Loss: 0.7875\tValidation Loss: 1.2824\n",
      "Counter train preds: Counter({0: 2443, 1: 1964, 2: 935, 5: 905, 3: 877, 4: 838})\tCounter val preds: Counter({0: 838, 1: 655, 2: 371, 5: 292, 3: 290, 4: 208})\n",
      "Epoch train QWK: 0.906\tval QWK: 0.759\n",
      "Epoch 27/29\n",
      "==========\n"
     ]
    },
    {
     "name": "stderr",
     "output_type": "stream",
     "text": [
      "\n",
      "100%|██████████| 498/498 [02:29<00:00,  3.32it/s]\n",
      "100%|██████████| 166/166 [00:15<00:00, 10.60it/s]"
     ]
    },
    {
     "name": "stdout",
     "output_type": "stream",
     "text": [
      "Training Loss: 0.7610\tValidation Loss: 1.3068\n",
      "Counter train preds: Counter({0: 2411, 1: 1954, 2: 952, 5: 937, 4: 861, 3: 847})\tCounter val preds: Counter({0: 886, 1: 561, 2: 348, 3: 338, 5: 284, 4: 237})\n",
      "Epoch train QWK: 0.917\tval QWK: 0.759\n",
      "Epoch 28/29\n",
      "==========\n"
     ]
    },
    {
     "name": "stderr",
     "output_type": "stream",
     "text": [
      "\n",
      " 51%|█████▏    | 256/498 [01:17<01:09,  3.46it/s]"
     ]
    },
    {
     "name": "stdout",
     "output_type": "stream",
     "text": [
      "Gradient overflow.  Skipping step, loss scaler 0 reducing loss scale to 131072.0\n"
     ]
    },
    {
     "name": "stderr",
     "output_type": "stream",
     "text": [
      "100%|██████████| 498/498 [02:29<00:00,  3.34it/s]\n",
      "100%|██████████| 166/166 [00:14<00:00, 11.39it/s]"
     ]
    },
    {
     "name": "stdout",
     "output_type": "stream",
     "text": [
      "Training Loss: 0.7612\tValidation Loss: 1.2853\n",
      "Counter train preds: Counter({0: 2396, 1: 1962, 2: 947, 5: 916, 4: 880, 3: 861})\tCounter val preds: Counter({0: 855, 1: 665, 2: 342, 5: 313, 3: 248, 4: 231})\n",
      "Epoch train QWK: 0.917\tval QWK: 0.764\n",
      "Epoch 29/29\n",
      "==========\n"
     ]
    },
    {
     "name": "stderr",
     "output_type": "stream",
     "text": [
      "\n",
      "100%|██████████| 498/498 [02:27<00:00,  3.38it/s]\n",
      "100%|██████████| 166/166 [00:14<00:00, 11.73it/s]"
     ]
    },
    {
     "name": "stdout",
     "output_type": "stream",
     "text": [
      "Training Loss: 0.7683\tValidation Loss: 1.2812\n",
      "Counter train preds: Counter({0: 2405, 1: 1990, 2: 934, 5: 886, 4: 880, 3: 867})\tCounter val preds: Counter({0: 888, 1: 609, 2: 364, 5: 295, 3: 262, 4: 236})\n",
      "Epoch train QWK: 0.914\tval QWK: 0.762\n"
     ]
    },
    {
     "name": "stderr",
     "output_type": "stream",
     "text": [
      "\n"
     ]
    }
   ],
   "source": [
    "train_df = folds[folds[\"fold\"] != 0].copy()\n",
    "val_df = folds[folds[\"fold\"] == 0].copy()\n",
    "train_ds = LazyTilesDataset(train_df, transform=get_transforms(data=\"train\", aug=\"heavy\"), debug=False) # NOTE! it is predefined 36-tiles images\n",
    "val_ds = LazyTilesDataset(val_df, transform=get_transforms(data=\"valid\"), debug=False)\n",
    "\n",
    "model_ft = make_RN50_cls()\n",
    "# initialize bias in the model\n",
    "cls_probas = (train_df[CFG.target_col].value_counts() / len(train_df)).values\n",
    "model_ft = init_last_layer_bias(model_ft, cls_probas)\n",
    "\n",
    "criterion = losses_dict[CFG.loss]\n",
    "optimizer = torch.optim.Adam(model_ft.parameters(), lr=CFG.lr, amsgrad=False)\n",
    "train_eval_loop(train_ds, val_ds, model_ft, optimizer, criterion, num_epochs=30)"
   ]
  },
  {
   "cell_type": "markdown",
   "metadata": {},
   "source": [
    "### Experiment Run"
   ]
  },
  {
   "cell_type": "code",
   "execution_count": 20,
   "metadata": {},
   "outputs": [
    {
     "name": "stdout",
     "output_type": "stream",
     "text": [
      "debug: False\n",
      " use_amp: True\n",
      " img_height: 768\n",
      " img_width: 768\n",
      " lr: 5e-05\n",
      " rlopp: 3\n",
      " batch_size: 8\n",
      " epoch: 50\n",
      " seed: 1982\n",
      " target_size: 6\n",
      " img_id_col: image_id\n",
      " target_col: isup_grade\n",
      " n_fold: 4\n",
      " tiff_layer: 1\n",
      " loss: ls_soft_ce\n",
      " stoch_sample: True\n",
      " num_tiles: 144\n",
      " tile_sz: 64\n",
      "\n"
     ]
    }
   ],
   "source": [
    "print(\" \".join([f\"{key}: {val}\\n\" for key, val in CFG.__dict__.items() if not key.startswith(\"__\")]))"
   ]
  },
  {
   "cell_type": "code",
   "execution_count": 21,
   "metadata": {},
   "outputs": [],
   "source": [
    "writer.add_text(\"Experiment Description:\", \" \".join([f\"{key}: {val}\\n\" for key, val in CFG.__dict__.items() if not key.startswith(\"__\")]))"
   ]
  },
  {
   "cell_type": "code",
   "execution_count": 22,
   "metadata": {},
   "outputs": [
    {
     "name": "stdout",
     "output_type": "stream",
     "text": [
      "Selected optimization level O1:  Insert automatic casts around Pytorch functions and Tensor methods.\n",
      "\n",
      "Defaults for this optimization level are:\n",
      "enabled                : True\n",
      "opt_level              : O1\n",
      "cast_model_type        : None\n",
      "patch_torch_functions  : True\n",
      "keep_batchnorm_fp32    : None\n",
      "master_weights         : None\n",
      "loss_scale             : dynamic\n",
      "Processing user overrides (additional kwargs that are not None)...\n",
      "After processing overrides, optimization options are:\n",
      "enabled                : True\n",
      "opt_level              : O1\n",
      "cast_model_type        : None\n",
      "patch_torch_functions  : True\n",
      "keep_batchnorm_fp32    : None\n",
      "master_weights         : None\n",
      "loss_scale             : dynamic\n",
      "Warning:  multi_tensor_applier fused unscale kernel is unavailable, possibly because apex was installed without --cuda_ext --cpp_ext. Using Python fallback.  Original ImportError was: ModuleNotFoundError(\"No module named 'amp_C'\")\n",
      "Epoch 0/49\n",
      "==========\n"
     ]
    },
    {
     "name": "stderr",
     "output_type": "stream",
     "text": [
      "100%|██████████| 996/996 [06:13<00:00,  2.67it/s]\n",
      "100%|██████████| 332/332 [01:55<00:00,  2.87it/s]\n"
     ]
    },
    {
     "name": "stdout",
     "output_type": "stream",
     "text": [
      "Training Loss: 1.3755\tValidation Loss: 1.2732\n",
      "Counter train preds: Counter({0: 3083, 1: 2200, 5: 946, 3: 596, 4: 586, 2: 551})\tCounter val preds: Counter({1: 1005, 0: 920, 5: 292, 3: 156, 2: 153, 4: 128})\n",
      "Epoch train QWK: 0.600\tval QWK: 0.671\n",
      "  Epoch 0 - Save Best Loss: 1.2732 Model\n",
      "Confusion matrix, without normalization\n",
      "[[622  88   1   0   9   3]\n",
      " [141 511   9   3   1   1]\n",
      " [ 30 228  56   9   1  11]\n",
      " [ 40  93  57  62  10  49]\n",
      " [ 46  61  20  46  71  69]\n",
      " [ 41  24  10  36  36 159]]\n",
      "  Epoch 0 - Save Best QWK: 0.6713 Model\n",
      "Confusion matrix, without normalization\n",
      "[[622  88   1   0   9   3]\n",
      " [141 511   9   3   1   1]\n",
      " [ 30 228  56   9   1  11]\n",
      " [ 40  93  57  62  10  49]\n",
      " [ 46  61  20  46  71  69]\n",
      " [ 41  24  10  36  36 159]]\n",
      "Epoch 1/49\n",
      "==========\n"
     ]
    },
    {
     "name": "stderr",
     "output_type": "stream",
     "text": [
      "100%|██████████| 996/996 [06:14<00:00,  2.66it/s]\n",
      "100%|██████████| 332/332 [01:55<00:00,  2.88it/s]\n"
     ]
    },
    {
     "name": "stdout",
     "output_type": "stream",
     "text": [
      "Training Loss: 1.2677\tValidation Loss: 1.2512\n",
      "Counter train preds: Counter({0: 2887, 1: 2165, 5: 938, 4: 715, 3: 629, 2: 628})\tCounter val preds: Counter({0: 979, 5: 544, 1: 447, 2: 320, 4: 205, 3: 159})\n",
      "Epoch train QWK: 0.691\tval QWK: 0.738\n",
      "  Epoch 1 - Save Best Loss: 1.2512 Model\n",
      "Confusion matrix, without normalization\n",
      "[[671  27   3   1  13   8]\n",
      " [162 318 148  15  17   6]\n",
      " [ 39  60 133  44  22  37]\n",
      " [ 38  19  18  61  34 141]\n",
      " [ 38  16  15  26  92 126]\n",
      " [ 31   7   3  12  27 226]]\n",
      "  Epoch 1 - Save Best QWK: 0.7376 Model\n",
      "Confusion matrix, without normalization\n",
      "[[671  27   3   1  13   8]\n",
      " [162 318 148  15  17   6]\n",
      " [ 39  60 133  44  22  37]\n",
      " [ 38  19  18  61  34 141]\n",
      " [ 38  16  15  26  92 126]\n",
      " [ 31   7   3  12  27 226]]\n",
      "Epoch 2/49\n",
      "==========\n"
     ]
    },
    {
     "name": "stderr",
     "output_type": "stream",
     "text": [
      "  3%|▎         | 34/996 [00:17<06:14,  2.57it/s]"
     ]
    },
    {
     "name": "stdout",
     "output_type": "stream",
     "text": [
      "Gradient overflow.  Skipping step, loss scaler 0 reducing loss scale to 65536.0\n"
     ]
    },
    {
     "name": "stderr",
     "output_type": "stream",
     "text": [
      "100%|██████████| 996/996 [06:26<00:00,  2.58it/s]\n",
      "100%|██████████| 332/332 [01:55<00:00,  2.88it/s]\n"
     ]
    },
    {
     "name": "stdout",
     "output_type": "stream",
     "text": [
      "Training Loss: 1.2324\tValidation Loss: 1.1762\n",
      "Counter train preds: Counter({0: 2772, 1: 2182, 5: 904, 4: 768, 2: 691, 3: 645})\tCounter val preds: Counter({0: 873, 1: 690, 5: 463, 3: 298, 4: 180, 2: 150})\n",
      "Epoch train QWK: 0.716\tval QWK: 0.777\n",
      "  Epoch 2 - Save Best Loss: 1.1762 Model\n",
      "Confusion matrix, without normalization\n",
      "[[651  52   1   3  12   4]\n",
      " [129 444  39  37  10   7]\n",
      " [ 16 130  83  72  12  22]\n",
      " [ 33  28  16 120  35  79]\n",
      " [ 21  27   8  39  91 127]\n",
      " [ 23   9   3  27  20 224]]\n",
      "  Epoch 2 - Save Best QWK: 0.7768 Model\n",
      "Confusion matrix, without normalization\n",
      "[[651  52   1   3  12   4]\n",
      " [129 444  39  37  10   7]\n",
      " [ 16 130  83  72  12  22]\n",
      " [ 33  28  16 120  35  79]\n",
      " [ 21  27   8  39  91 127]\n",
      " [ 23   9   3  27  20 224]]\n",
      "Epoch 3/49\n",
      "==========\n"
     ]
    },
    {
     "name": "stderr",
     "output_type": "stream",
     "text": [
      "100%|██████████| 996/996 [06:15<00:00,  2.65it/s]\n",
      "100%|██████████| 332/332 [01:55<00:00,  2.87it/s]\n"
     ]
    },
    {
     "name": "stdout",
     "output_type": "stream",
     "text": [
      "Training Loss: 1.2092\tValidation Loss: 1.1752\n",
      "Counter train preds: Counter({0: 2779, 1: 2142, 5: 981, 4: 716, 2: 674, 3: 670})\tCounter val preds: Counter({1: 783, 0: 758, 5: 392, 3: 269, 4: 236, 2: 216})\n",
      "Epoch train QWK: 0.735\tval QWK: 0.789\n",
      "  Epoch 3 - Save Best Loss: 1.1752 Model\n",
      "Confusion matrix, without normalization\n",
      "[[602 103   2   2   7   7]\n",
      " [ 84 476  73  22   8   3]\n",
      " [ 14 122 101  80  12   6]\n",
      " [ 23  37  25 105  46  75]\n",
      " [ 17  28  10  41 124  93]\n",
      " [ 18  17   5  19  39 208]]\n",
      "  Epoch 3 - Save Best QWK: 0.7893 Model\n",
      "Confusion matrix, without normalization\n",
      "[[602 103   2   2   7   7]\n",
      " [ 84 476  73  22   8   3]\n",
      " [ 14 122 101  80  12   6]\n",
      " [ 23  37  25 105  46  75]\n",
      " [ 17  28  10  41 124  93]\n",
      " [ 18  17   5  19  39 208]]\n",
      "Epoch 4/49\n",
      "==========\n"
     ]
    },
    {
     "name": "stderr",
     "output_type": "stream",
     "text": [
      "  8%|▊         | 77/996 [00:32<05:35,  2.74it/s]"
     ]
    },
    {
     "name": "stdout",
     "output_type": "stream",
     "text": [
      "Gradient overflow.  Skipping step, loss scaler 0 reducing loss scale to 65536.0\n"
     ]
    },
    {
     "name": "stderr",
     "output_type": "stream",
     "text": [
      "100%|██████████| 996/996 [06:06<00:00,  2.71it/s]\n",
      "100%|██████████| 332/332 [01:54<00:00,  2.91it/s]"
     ]
    },
    {
     "name": "stdout",
     "output_type": "stream",
     "text": [
      "Training Loss: 1.1868\tValidation Loss: 1.1781\n",
      "Counter train preds: Counter({0: 2724, 1: 2134, 5: 942, 4: 733, 2: 726, 3: 703})\tCounter val preds: Counter({0: 942, 1: 714, 5: 306, 3: 295, 4: 208, 2: 189})\n",
      "Epoch train QWK: 0.752\tval QWK: 0.759\n",
      "Epoch 5/49\n",
      "==========\n"
     ]
    },
    {
     "name": "stderr",
     "output_type": "stream",
     "text": [
      "\n",
      "100%|██████████| 996/996 [06:16<00:00,  2.64it/s]\n",
      "100%|██████████| 332/332 [01:56<00:00,  2.86it/s]\n"
     ]
    },
    {
     "name": "stdout",
     "output_type": "stream",
     "text": [
      "Training Loss: 1.1618\tValidation Loss: 1.1471\n",
      "Counter train preds: Counter({0: 2717, 1: 2150, 5: 925, 4: 756, 3: 724, 2: 690})\tCounter val preds: Counter({0: 864, 1: 724, 3: 415, 4: 298, 5: 185, 2: 168})\n",
      "Epoch train QWK: 0.759\tval QWK: 0.773\n",
      "  Epoch 5 - Save Best Loss: 1.1471 Model\n",
      "Confusion matrix, without normalization\n",
      "[[653  62   2   3   0   3]\n",
      " [105 482  46  27   5   1]\n",
      " [ 13 120  87  98  13   4]\n",
      " [ 38  20  19 164  50  20]\n",
      " [ 28  31  11  67 151  25]\n",
      " [ 27   9   3  56  79 132]]\n",
      "Epoch 6/49\n",
      "==========\n"
     ]
    },
    {
     "name": "stderr",
     "output_type": "stream",
     "text": [
      " 30%|██▉       | 297/996 [01:56<04:24,  2.64it/s]"
     ]
    },
    {
     "name": "stdout",
     "output_type": "stream",
     "text": [
      "Gradient overflow.  Skipping step, loss scaler 0 reducing loss scale to 65536.0\n"
     ]
    },
    {
     "name": "stderr",
     "output_type": "stream",
     "text": [
      "100%|██████████| 996/996 [06:17<00:00,  2.64it/s]\n",
      "100%|██████████| 332/332 [01:55<00:00,  2.87it/s]"
     ]
    },
    {
     "name": "stdout",
     "output_type": "stream",
     "text": [
      "Training Loss: 1.1403\tValidation Loss: 1.1501\n",
      "Counter train preds: Counter({0: 2654, 1: 2186, 5: 918, 4: 749, 2: 739, 3: 716})\tCounter val preds: Counter({1: 850, 0: 808, 5: 342, 3: 283, 4: 186, 2: 185})\n",
      "Epoch train QWK: 0.781\tval QWK: 0.788\n",
      "Epoch 7/49\n",
      "==========\n"
     ]
    },
    {
     "name": "stderr",
     "output_type": "stream",
     "text": [
      "\n",
      "100%|██████████| 996/996 [06:16<00:00,  2.65it/s]\n",
      "100%|██████████| 332/332 [01:56<00:00,  2.86it/s]"
     ]
    },
    {
     "name": "stdout",
     "output_type": "stream",
     "text": [
      "Training Loss: 1.1391\tValidation Loss: 1.2099\n",
      "Counter train preds: Counter({0: 2676, 1: 2153, 5: 895, 4: 785, 3: 736, 2: 717})\tCounter val preds: Counter({0: 921, 1: 539, 5: 411, 4: 400, 2: 241, 3: 142})\n",
      "Epoch train QWK: 0.780\tval QWK: 0.775\n",
      "Epoch 8/49\n",
      "==========\n"
     ]
    },
    {
     "name": "stderr",
     "output_type": "stream",
     "text": [
      "\n",
      " 77%|███████▋  | 768/996 [04:51<01:28,  2.59it/s]"
     ]
    },
    {
     "name": "stdout",
     "output_type": "stream",
     "text": [
      "Gradient overflow.  Skipping step, loss scaler 0 reducing loss scale to 65536.0\n"
     ]
    },
    {
     "name": "stderr",
     "output_type": "stream",
     "text": [
      "100%|██████████| 996/996 [06:18<00:00,  2.63it/s]\n",
      "100%|██████████| 332/332 [01:55<00:00,  2.87it/s]"
     ]
    },
    {
     "name": "stdout",
     "output_type": "stream",
     "text": [
      "Training Loss: 1.1192\tValidation Loss: 1.1520\n",
      "Counter train preds: Counter({0: 2638, 1: 2149, 5: 917, 4: 784, 2: 754, 3: 720})\tCounter val preds: Counter({0: 809, 1: 794, 4: 294, 5: 283, 2: 275, 3: 199})\n",
      "Epoch train QWK: 0.790\tval QWK: 0.788\n",
      "Epoch 9/49\n",
      "==========\n"
     ]
    },
    {
     "name": "stderr",
     "output_type": "stream",
     "text": [
      "\n",
      "100%|██████████| 996/996 [06:17<00:00,  2.64it/s]\n",
      "100%|██████████| 332/332 [02:00<00:00,  2.76it/s]\n"
     ]
    },
    {
     "name": "stdout",
     "output_type": "stream",
     "text": [
      "Training Loss: 1.1123\tValidation Loss: 1.1279\n",
      "Counter train preds: Counter({0: 2642, 1: 2144, 5: 926, 4: 785, 2: 742, 3: 723})\tCounter val preds: Counter({0: 838, 1: 813, 3: 409, 5: 275, 4: 189, 2: 130})\n",
      "Epoch train QWK: 0.790\tval QWK: 0.788\n",
      "  Epoch 9 - Save Best Loss: 1.1279 Model\n",
      "Confusion matrix, without normalization\n",
      "[[653  55   0   3   8   4]\n",
      " [106 508  24  22   5   1]\n",
      " [ 13 165  72  75   7   3]\n",
      " [ 27  39  20 175  21  29]\n",
      " [ 21  28   9  81 115  59]\n",
      " [ 18  18   5  53  33 179]]\n",
      "Epoch 10/49\n",
      "==========\n"
     ]
    },
    {
     "name": "stderr",
     "output_type": "stream",
     "text": [
      "100%|██████████| 996/996 [06:18<00:00,  2.63it/s]"
     ]
    },
    {
     "name": "stdout",
     "output_type": "stream",
     "text": [
      "Gradient overflow.  Skipping step, loss scaler 0 reducing loss scale to 65536.0\n"
     ]
    },
    {
     "name": "stderr",
     "output_type": "stream",
     "text": [
      "\n",
      "100%|██████████| 332/332 [02:00<00:00,  2.76it/s]\n"
     ]
    },
    {
     "name": "stdout",
     "output_type": "stream",
     "text": [
      "Training Loss: 1.0982\tValidation Loss: 1.1536\n",
      "Counter train preds: Counter({0: 2609, 1: 2166, 5: 931, 4: 780, 2: 741, 3: 735})\tCounter val preds: Counter({0: 769, 1: 762, 5: 378, 3: 304, 2: 223, 4: 218})\n",
      "Epoch train QWK: 0.800\tval QWK: 0.790\n",
      "  Epoch 10 - Save Best QWK: 0.7898 Model\n",
      "Confusion matrix, without normalization\n",
      "[[627  65   6   7  10   8]\n",
      " [ 76 507  44  20   7  12]\n",
      " [ 10 141 106  49  11  18]\n",
      " [ 21  21  46 136  32  55]\n",
      " [ 18  22  14  63 113  83]\n",
      " [ 17   6   7  29  45 202]]\n",
      "Epoch 11/49\n",
      "==========\n"
     ]
    },
    {
     "name": "stderr",
     "output_type": "stream",
     "text": [
      "100%|██████████| 996/996 [06:22<00:00,  2.60it/s]\n",
      "100%|██████████| 332/332 [01:54<00:00,  2.89it/s]\n"
     ]
    },
    {
     "name": "stdout",
     "output_type": "stream",
     "text": [
      "Training Loss: 1.0942\tValidation Loss: 1.1428\n",
      "Counter train preds: Counter({0: 2596, 1: 2179, 5: 938, 4: 774, 2: 743, 3: 732})\tCounter val preds: Counter({1: 829, 0: 816, 5: 462, 3: 315, 2: 128, 4: 104})\n",
      "Epoch train QWK: 0.798\tval QWK: 0.806\n",
      "  Epoch 11 - Save Best QWK: 0.8056 Model\n",
      "Confusion matrix, without normalization\n",
      "[[646  65   1   6   2   3]\n",
      " [106 509  27  18   3   3]\n",
      " [ 14 172  70  49   6  24]\n",
      " [ 17  38  19 142  12  83]\n",
      " [ 18  29   7  70  71 118]\n",
      " [ 15  16   4  30  10 231]]\n",
      "Epoch 12/49\n",
      "==========\n"
     ]
    },
    {
     "name": "stderr",
     "output_type": "stream",
     "text": [
      "100%|██████████| 996/996 [06:10<00:00,  2.69it/s]\n",
      "100%|██████████| 332/332 [01:55<00:00,  2.88it/s]"
     ]
    },
    {
     "name": "stdout",
     "output_type": "stream",
     "text": [
      "Training Loss: 1.0848\tValidation Loss: 1.1564\n",
      "Counter train preds: Counter({0: 2587, 1: 2186, 5: 874, 4: 784, 3: 781, 2: 750})\tCounter val preds: Counter({0: 839, 1: 667, 3: 417, 5: 296, 2: 273, 4: 162})\n",
      "Epoch train QWK: 0.810\tval QWK: 0.791\n",
      "Epoch 13/49\n",
      "==========\n"
     ]
    },
    {
     "name": "stderr",
     "output_type": "stream",
     "text": [
      "\n",
      "  3%|▎         | 31/996 [00:15<06:14,  2.58it/s] "
     ]
    },
    {
     "name": "stdout",
     "output_type": "stream",
     "text": [
      "Gradient overflow.  Skipping step, loss scaler 0 reducing loss scale to 65536.0\n"
     ]
    },
    {
     "name": "stderr",
     "output_type": "stream",
     "text": [
      "100%|██████████| 996/996 [06:24<00:00,  2.59it/s]\n",
      "100%|██████████| 332/332 [02:01<00:00,  2.72it/s]"
     ]
    },
    {
     "name": "stdout",
     "output_type": "stream",
     "text": [
      "Epoch    14: reducing learning rate of group 0 to 2.5000e-05.\n",
      "Training Loss: 1.0746\tValidation Loss: 1.1286\n",
      "Counter train preds: Counter({0: 2574, 1: 2153, 5: 915, 4: 789, 3: 773, 2: 758})\tCounter val preds: Counter({0: 945, 1: 665, 3: 384, 5: 307, 4: 183, 2: 170})\n",
      "Epoch train QWK: 0.813\tval QWK: 0.776\n",
      "Epoch 14/49\n",
      "==========\n"
     ]
    },
    {
     "name": "stderr",
     "output_type": "stream",
     "text": [
      "\n",
      "100%|██████████| 996/996 [06:17<00:00,  2.64it/s]\n",
      "100%|██████████| 332/332 [01:55<00:00,  2.87it/s]"
     ]
    },
    {
     "name": "stdout",
     "output_type": "stream",
     "text": [
      "Training Loss: 1.0312\tValidation Loss: 1.1527\n",
      "Counter train preds: Counter({0: 2531, 1: 2144, 5: 913, 3: 804, 2: 787, 4: 783})\tCounter val preds: Counter({1: 1012, 0: 692, 5: 315, 3: 266, 4: 223, 2: 146})\n",
      "Epoch train QWK: 0.837\tval QWK: 0.805\n",
      "Epoch 15/49\n",
      "==========\n"
     ]
    },
    {
     "name": "stderr",
     "output_type": "stream",
     "text": [
      "\n",
      "  7%|▋         | 70/996 [00:29<05:33,  2.78it/s] "
     ]
    },
    {
     "name": "stdout",
     "output_type": "stream",
     "text": [
      "Gradient overflow.  Skipping step, loss scaler 0 reducing loss scale to 65536.0\n"
     ]
    },
    {
     "name": "stderr",
     "output_type": "stream",
     "text": [
      "100%|██████████| 996/996 [06:15<00:00,  2.65it/s]\n",
      "100%|██████████| 332/332 [02:02<00:00,  2.71it/s]\n"
     ]
    },
    {
     "name": "stdout",
     "output_type": "stream",
     "text": [
      "Training Loss: 1.0147\tValidation Loss: 1.0987\n",
      "Counter train preds: Counter({0: 2542, 1: 2116, 5: 897, 2: 813, 4: 813, 3: 781})\tCounter val preds: Counter({0: 810, 1: 769, 5: 339, 3: 312, 4: 238, 2: 186})\n",
      "Epoch train QWK: 0.840\tval QWK: 0.810\n",
      "  Epoch 15 - Save Best Loss: 1.0987 Model\n",
      "Confusion matrix, without normalization\n",
      "[[654  58   2   4   3   2]\n",
      " [ 88 502  45  19   8   4]\n",
      " [ 10 138 104  57  12  14]\n",
      " [ 21  34  26 140  38  52]\n",
      " [ 18  28   7  58 134  68]\n",
      " [ 19   9   2  34  43 199]]\n",
      "  Epoch 15 - Save Best QWK: 0.8097 Model\n",
      "Confusion matrix, without normalization\n",
      "[[654  58   2   4   3   2]\n",
      " [ 88 502  45  19   8   4]\n",
      " [ 10 138 104  57  12  14]\n",
      " [ 21  34  26 140  38  52]\n",
      " [ 18  28   7  58 134  68]\n",
      " [ 19   9   2  34  43 199]]\n",
      "Epoch 16/49\n",
      "==========\n"
     ]
    },
    {
     "name": "stderr",
     "output_type": "stream",
     "text": [
      "100%|██████████| 996/996 [06:27<00:00,  2.57it/s]\n",
      "100%|██████████| 332/332 [02:00<00:00,  2.75it/s]\n"
     ]
    },
    {
     "name": "stdout",
     "output_type": "stream",
     "text": [
      "Training Loss: 1.0045\tValidation Loss: 1.1057\n",
      "Counter train preds: Counter({0: 2534, 1: 2124, 5: 874, 4: 826, 2: 815, 3: 789})\tCounter val preds: Counter({1: 864, 0: 694, 3: 354, 4: 267, 5: 258, 2: 217})\n",
      "Epoch train QWK: 0.841\tval QWK: 0.818\n",
      "  Epoch 16 - Save Best QWK: 0.8185 Model\n",
      "Confusion matrix, without normalization\n",
      "[[595 112   1   4   6   5]\n",
      " [ 56 540  40  23   4   3]\n",
      " [  5 136 119  63   8   4]\n",
      " [ 16  32  36 167  36  24]\n",
      " [  9  31  12  64 157  40]\n",
      " [ 13  13   9  33  56 182]]\n",
      "Epoch 17/49\n",
      "==========\n"
     ]
    },
    {
     "name": "stderr",
     "output_type": "stream",
     "text": [
      " 12%|█▏        | 117/996 [00:48<06:09,  2.38it/s]"
     ]
    },
    {
     "name": "stdout",
     "output_type": "stream",
     "text": [
      "Gradient overflow.  Skipping step, loss scaler 0 reducing loss scale to 65536.0\n"
     ]
    },
    {
     "name": "stderr",
     "output_type": "stream",
     "text": [
      "100%|██████████| 996/996 [06:26<00:00,  2.58it/s]\n",
      "100%|██████████| 332/332 [01:57<00:00,  2.83it/s]"
     ]
    },
    {
     "name": "stdout",
     "output_type": "stream",
     "text": [
      "Training Loss: 0.9913\tValidation Loss: 1.1283\n",
      "Counter train preds: Counter({0: 2499, 1: 2098, 5: 887, 4: 850, 2: 833, 3: 795})\tCounter val preds: Counter({0: 759, 1: 748, 4: 321, 3: 315, 5: 306, 2: 205})\n",
      "Epoch train QWK: 0.843\tval QWK: 0.812\n",
      "Epoch 18/49\n",
      "==========\n"
     ]
    },
    {
     "name": "stderr",
     "output_type": "stream",
     "text": [
      "\n",
      "100%|██████████| 996/996 [06:18<00:00,  2.63it/s]\n",
      "100%|██████████| 332/332 [01:59<00:00,  2.78it/s]"
     ]
    },
    {
     "name": "stdout",
     "output_type": "stream",
     "text": [
      "Training Loss: 0.9867\tValidation Loss: 1.1085\n",
      "Counter train preds: Counter({0: 2478, 1: 2141, 5: 901, 3: 822, 4: 812, 2: 808})\tCounter val preds: Counter({0: 807, 1: 688, 3: 402, 5: 296, 2: 257, 4: 204})\n",
      "Epoch train QWK: 0.847\tval QWK: 0.816\n",
      "Epoch 19/49\n",
      "==========\n"
     ]
    },
    {
     "name": "stderr",
     "output_type": "stream",
     "text": [
      "\n",
      " 30%|██▉       | 295/996 [02:02<04:10,  2.80it/s]"
     ]
    },
    {
     "name": "stdout",
     "output_type": "stream",
     "text": [
      "Gradient overflow.  Skipping step, loss scaler 0 reducing loss scale to 65536.0\n"
     ]
    },
    {
     "name": "stderr",
     "output_type": "stream",
     "text": [
      "100%|██████████| 996/996 [06:34<00:00,  2.52it/s]\n",
      "100%|██████████| 332/332 [01:54<00:00,  2.89it/s]"
     ]
    },
    {
     "name": "stdout",
     "output_type": "stream",
     "text": [
      "Epoch    20: reducing learning rate of group 0 to 1.2500e-05.\n",
      "Training Loss: 0.9804\tValidation Loss: 1.1356\n",
      "Counter train preds: Counter({0: 2505, 1: 2125, 5: 876, 3: 827, 4: 821, 2: 808})\tCounter val preds: Counter({0: 819, 1: 623, 3: 408, 2: 305, 4: 257, 5: 242})\n",
      "Epoch train QWK: 0.855\tval QWK: 0.817\n",
      "Epoch 20/49\n",
      "==========\n"
     ]
    },
    {
     "name": "stderr",
     "output_type": "stream",
     "text": [
      "\n",
      "100%|██████████| 996/996 [06:10<00:00,  2.69it/s]\n",
      "100%|██████████| 332/332 [01:55<00:00,  2.87it/s]\n"
     ]
    },
    {
     "name": "stdout",
     "output_type": "stream",
     "text": [
      "Training Loss: 0.9634\tValidation Loss: 1.0877\n",
      "Counter train preds: Counter({0: 2502, 1: 2091, 5: 909, 2: 854, 4: 816, 3: 790})\tCounter val preds: Counter({0: 792, 1: 741, 5: 327, 3: 299, 4: 261, 2: 234})\n",
      "Epoch train QWK: 0.859\tval QWK: 0.820\n",
      "  Epoch 20 - Save Best Loss: 1.0877 Model\n",
      "Confusion matrix, without normalization\n",
      "[[645  62   4   4   5   3]\n",
      " [ 80 505  56  17   4   4]\n",
      " [ 13 116 129  51  16  10]\n",
      " [ 19  26  27 155  46  38]\n",
      " [ 14  26  10  50 150  63]\n",
      " [ 21   6   8  22  40 209]]\n",
      "  Epoch 20 - Save Best QWK: 0.8198 Model\n",
      "Confusion matrix, without normalization\n",
      "[[645  62   4   4   5   3]\n",
      " [ 80 505  56  17   4   4]\n",
      " [ 13 116 129  51  16  10]\n",
      " [ 19  26  27 155  46  38]\n",
      " [ 14  26  10  50 150  63]\n",
      " [ 21   6   8  22  40 209]]\n",
      "Epoch 21/49\n",
      "==========\n"
     ]
    },
    {
     "name": "stderr",
     "output_type": "stream",
     "text": [
      " 32%|███▏      | 315/996 [02:02<04:05,  2.77it/s]"
     ]
    },
    {
     "name": "stdout",
     "output_type": "stream",
     "text": [
      "Gradient overflow.  Skipping step, loss scaler 0 reducing loss scale to 65536.0\n"
     ]
    },
    {
     "name": "stderr",
     "output_type": "stream",
     "text": [
      " 65%|██████▌   | 649/996 [04:10<02:01,  2.87it/s]"
     ]
    },
    {
     "name": "stdout",
     "output_type": "stream",
     "text": [
      "Gradient overflow.  Skipping step, loss scaler 0 reducing loss scale to 32768.0\n"
     ]
    },
    {
     "name": "stderr",
     "output_type": "stream",
     "text": [
      "100%|██████████| 996/996 [06:20<00:00,  2.61it/s]\n",
      "100%|██████████| 332/332 [01:58<00:00,  2.80it/s]"
     ]
    },
    {
     "name": "stdout",
     "output_type": "stream",
     "text": [
      "Training Loss: 0.9454\tValidation Loss: 1.1017\n",
      "Counter train preds: Counter({0: 2493, 1: 2081, 5: 894, 4: 850, 2: 847, 3: 797})\tCounter val preds: Counter({0: 808, 1: 738, 3: 349, 4: 278, 2: 242, 5: 239})\n",
      "Epoch train QWK: 0.866\tval QWK: 0.813\n",
      "Epoch 22/49\n",
      "==========\n"
     ]
    },
    {
     "name": "stderr",
     "output_type": "stream",
     "text": [
      "\n",
      "100%|██████████| 996/996 [06:17<00:00,  2.64it/s]\n",
      "100%|██████████| 332/332 [02:00<00:00,  2.76it/s]"
     ]
    },
    {
     "name": "stdout",
     "output_type": "stream",
     "text": [
      "Training Loss: 0.9367\tValidation Loss: 1.1418\n",
      "Counter train preds: Counter({0: 2459, 1: 2079, 5: 885, 4: 868, 2: 846, 3: 825})\tCounter val preds: Counter({1: 744, 0: 716, 5: 442, 3: 307, 2: 247, 4: 198})\n",
      "Epoch train QWK: 0.871\tval QWK: 0.819\n",
      "Epoch 23/49\n",
      "==========\n"
     ]
    },
    {
     "name": "stderr",
     "output_type": "stream",
     "text": [
      "\n",
      "100%|██████████| 996/996 [06:21<00:00,  2.61it/s]\n",
      "100%|██████████| 332/332 [01:58<00:00,  2.79it/s]\n"
     ]
    },
    {
     "name": "stdout",
     "output_type": "stream",
     "text": [
      "Training Loss: 0.9343\tValidation Loss: 1.1004\n",
      "Counter train preds: Counter({0: 2477, 1: 2078, 5: 902, 2: 866, 4: 823, 3: 816})\tCounter val preds: Counter({0: 810, 1: 676, 4: 364, 3: 320, 5: 291, 2: 193})\n",
      "Epoch train QWK: 0.864\tval QWK: 0.822\n",
      "  Epoch 23 - Save Best QWK: 0.8215 Model\n",
      "Confusion matrix, without normalization\n",
      "[[661  40   3   6   8   5]\n",
      " [ 88 480  52  27  14   5]\n",
      " [ 12 109 107  76  23   8]\n",
      " [ 19  20  18 147  79  28]\n",
      " [ 16  21   7  41 184  44]\n",
      " [ 14   6   6  23  56 201]]\n",
      "Epoch 24/49\n",
      "==========\n"
     ]
    },
    {
     "name": "stderr",
     "output_type": "stream",
     "text": [
      "100%|██████████| 996/996 [06:23<00:00,  2.60it/s]\n",
      "100%|██████████| 332/332 [01:57<00:00,  2.83it/s]"
     ]
    },
    {
     "name": "stdout",
     "output_type": "stream",
     "text": [
      "Epoch    25: reducing learning rate of group 0 to 6.2500e-06.\n",
      "Training Loss: 0.9302\tValidation Loss: 1.0924\n",
      "Counter train preds: Counter({0: 2471, 1: 2068, 5: 888, 2: 856, 4: 843, 3: 836})\tCounter val preds: Counter({0: 804, 1: 742, 5: 349, 3: 282, 4: 263, 2: 214})\n",
      "Epoch train QWK: 0.869\tval QWK: 0.821\n",
      "Epoch 25/49\n",
      "==========\n"
     ]
    },
    {
     "name": "stderr",
     "output_type": "stream",
     "text": [
      "\n",
      " 70%|███████   | 699/996 [04:24<01:44,  2.84it/s]"
     ]
    },
    {
     "name": "stdout",
     "output_type": "stream",
     "text": [
      "Gradient overflow.  Skipping step, loss scaler 0 reducing loss scale to 65536.0\n"
     ]
    },
    {
     "name": "stderr",
     "output_type": "stream",
     "text": [
      "100%|██████████| 996/996 [06:16<00:00,  2.65it/s]\n",
      "100%|██████████| 332/332 [02:01<00:00,  2.74it/s]\n"
     ]
    },
    {
     "name": "stdout",
     "output_type": "stream",
     "text": [
      "Training Loss: 0.9162\tValidation Loss: 1.1140\n",
      "Counter train preds: Counter({0: 2463, 1: 2087, 5: 886, 2: 874, 4: 852, 3: 800})\tCounter val preds: Counter({1: 757, 0: 747, 3: 419, 5: 276, 4: 246, 2: 209})\n",
      "Epoch train QWK: 0.874\tval QWK: 0.826\n",
      "  Epoch 25 - Save Best QWK: 0.8257 Model\n",
      "Confusion matrix, without normalization\n",
      "[[626  76   2  11   2   6]\n",
      " [ 76 496  56  27   6   5]\n",
      " [ 13 117 115  76  11   3]\n",
      " [ 12  31  20 185  38  25]\n",
      " [ 10  29   8  78 143  45]\n",
      " [ 10   8   8  42  46 192]]\n",
      "Epoch 26/49\n",
      "==========\n"
     ]
    },
    {
     "name": "stderr",
     "output_type": "stream",
     "text": [
      "100%|██████████| 996/996 [06:21<00:00,  2.61it/s]\n",
      "100%|██████████| 332/332 [02:03<00:00,  2.70it/s]"
     ]
    },
    {
     "name": "stdout",
     "output_type": "stream",
     "text": [
      "Training Loss: 0.9110\tValidation Loss: 1.1283\n",
      "Counter train preds: Counter({0: 2446, 1: 2117, 5: 884, 2: 857, 4: 832, 3: 826})\tCounter val preds: Counter({0: 787, 1: 714, 5: 340, 3: 335, 2: 258, 4: 220})\n",
      "Epoch train QWK: 0.876\tval QWK: 0.820\n",
      "Epoch 27/49\n",
      "==========\n"
     ]
    },
    {
     "name": "stderr",
     "output_type": "stream",
     "text": [
      "\n",
      " 48%|████▊     | 474/996 [03:04<03:06,  2.80it/s]"
     ]
    },
    {
     "name": "stdout",
     "output_type": "stream",
     "text": [
      "Gradient overflow.  Skipping step, loss scaler 0 reducing loss scale to 32768.0\n"
     ]
    },
    {
     "name": "stderr",
     "output_type": "stream",
     "text": [
      "100%|██████████| 996/996 [06:30<00:00,  2.55it/s]\n",
      "100%|██████████| 332/332 [02:01<00:00,  2.74it/s]"
     ]
    },
    {
     "name": "stdout",
     "output_type": "stream",
     "text": [
      "Training Loss: 0.9067\tValidation Loss: 1.1306\n",
      "Counter train preds: Counter({0: 2442, 1: 2098, 5: 895, 4: 853, 2: 849, 3: 825})\tCounter val preds: Counter({0: 814, 1: 643, 3: 381, 4: 276, 2: 273, 5: 267})\n",
      "Epoch train QWK: 0.876\tval QWK: 0.820\n",
      "Epoch 28/49\n",
      "==========\n"
     ]
    },
    {
     "name": "stderr",
     "output_type": "stream",
     "text": [
      "\n",
      "100%|██████████| 996/996 [06:24<00:00,  2.59it/s]\n",
      "100%|██████████| 332/332 [01:55<00:00,  2.87it/s]\n"
     ]
    },
    {
     "name": "stdout",
     "output_type": "stream",
     "text": [
      "Epoch    29: reducing learning rate of group 0 to 3.1250e-06.\n",
      "Training Loss: 0.8999\tValidation Loss: 1.1266\n",
      "Counter train preds: Counter({0: 2464, 1: 2088, 5: 870, 2: 854, 4: 845, 3: 841})\tCounter val preds: Counter({0: 790, 1: 666, 3: 368, 5: 306, 2: 264, 4: 260})\n",
      "Epoch train QWK: 0.877\tval QWK: 0.826\n",
      "  Epoch 28 - Save Best QWK: 0.8263 Model\n",
      "Confusion matrix, without normalization\n",
      "[[653  50   6   7   3   4]\n",
      " [ 80 474  80  21   9   2]\n",
      " [ 12 100 131  63  19  10]\n",
      " [ 14  18  28 165  55  31]\n",
      " [ 16  17  13  73 141  53]\n",
      " [ 15   7   6  39  33 206]]\n",
      "Epoch 29/49\n",
      "==========\n"
     ]
    },
    {
     "name": "stderr",
     "output_type": "stream",
     "text": [
      "100%|██████████| 996/996 [06:26<00:00,  2.58it/s]\n",
      "100%|██████████| 332/332 [01:55<00:00,  2.88it/s]\n"
     ]
    },
    {
     "name": "stdout",
     "output_type": "stream",
     "text": [
      "Training Loss: 0.8977\tValidation Loss: 1.1056\n",
      "Counter train preds: Counter({0: 2449, 1: 2066, 5: 900, 2: 869, 4: 857, 3: 821})\tCounter val preds: Counter({0: 783, 1: 717, 5: 368, 3: 319, 2: 252, 4: 215})\n",
      "Epoch train QWK: 0.887\tval QWK: 0.829\n",
      "  Epoch 29 - Save Best QWK: 0.8286 Model\n",
      "Confusion matrix, without normalization\n",
      "[[649  59   4   3   2   6]\n",
      " [ 78 497  69  16   3   3]\n",
      " [ 15 104 130  59  12  15]\n",
      " [ 13  25  30 150  46  47]\n",
      " [ 14  25   8  66 126  74]\n",
      " [ 14   7  11  25  26 223]]\n",
      "Epoch 30/49\n",
      "==========\n"
     ]
    },
    {
     "name": "stderr",
     "output_type": "stream",
     "text": [
      "100%|██████████| 996/996 [06:10<00:00,  2.69it/s]\n",
      "100%|██████████| 332/332 [01:55<00:00,  2.87it/s]"
     ]
    },
    {
     "name": "stdout",
     "output_type": "stream",
     "text": [
      "Training Loss: 0.8908\tValidation Loss: 1.0952\n",
      "Counter train preds: Counter({0: 2439, 1: 2080, 5: 892, 3: 879, 2: 839, 4: 833})\tCounter val preds: Counter({0: 799, 1: 725, 5: 323, 4: 289, 3: 278, 2: 240})\n",
      "Epoch train QWK: 0.885\tval QWK: 0.825\n",
      "Epoch 31/49\n",
      "==========\n"
     ]
    },
    {
     "name": "stderr",
     "output_type": "stream",
     "text": [
      "\n",
      " 61%|██████    | 609/996 [03:50<02:18,  2.79it/s]"
     ]
    },
    {
     "name": "stdout",
     "output_type": "stream",
     "text": [
      "Gradient overflow.  Skipping step, loss scaler 0 reducing loss scale to 65536.0\n"
     ]
    },
    {
     "name": "stderr",
     "output_type": "stream",
     "text": [
      "100%|██████████| 996/996 [06:10<00:00,  2.69it/s]\n",
      "100%|██████████| 332/332 [01:54<00:00,  2.90it/s]"
     ]
    },
    {
     "name": "stdout",
     "output_type": "stream",
     "text": [
      "Training Loss: 0.8860\tValidation Loss: 1.1355\n",
      "Counter train preds: Counter({0: 2448, 1: 2078, 5: 905, 2: 872, 4: 840, 3: 819})\tCounter val preds: Counter({0: 784, 1: 689, 3: 423, 5: 287, 4: 267, 2: 204})\n",
      "Epoch train QWK: 0.883\tval QWK: 0.823\n",
      "Epoch 32/49\n",
      "==========\n"
     ]
    },
    {
     "name": "stderr",
     "output_type": "stream",
     "text": [
      "\n",
      "100%|██████████| 996/996 [06:05<00:00,  2.73it/s]\n",
      "100%|██████████| 332/332 [01:54<00:00,  2.91it/s]"
     ]
    },
    {
     "name": "stdout",
     "output_type": "stream",
     "text": [
      "Epoch    33: reducing learning rate of group 0 to 1.5625e-06.\n",
      "Training Loss: 0.8859\tValidation Loss: 1.1334\n",
      "Counter train preds: Counter({0: 2434, 1: 2084, 5: 903, 2: 866, 3: 843, 4: 832})\tCounter val preds: Counter({0: 784, 1: 770, 3: 326, 5: 276, 4: 250, 2: 248})\n",
      "Epoch train QWK: 0.883\tval QWK: 0.819\n",
      "Epoch 33/49\n",
      "==========\n"
     ]
    },
    {
     "name": "stderr",
     "output_type": "stream",
     "text": [
      "\n",
      " 14%|█▍        | 142/996 [00:54<04:50,  2.94it/s]"
     ]
    },
    {
     "name": "stdout",
     "output_type": "stream",
     "text": [
      "Gradient overflow.  Skipping step, loss scaler 0 reducing loss scale to 32768.0\n"
     ]
    },
    {
     "name": "stderr",
     "output_type": "stream",
     "text": [
      "100%|██████████| 996/996 [06:19<00:00,  2.63it/s]\n",
      "100%|██████████| 332/332 [01:58<00:00,  2.79it/s]"
     ]
    },
    {
     "name": "stdout",
     "output_type": "stream",
     "text": [
      "Training Loss: 0.8768\tValidation Loss: 1.1178\n",
      "Counter train preds: Counter({0: 2470, 1: 2053, 2: 867, 5: 866, 4: 865, 3: 841})\tCounter val preds: Counter({0: 782, 1: 661, 5: 344, 3: 333, 2: 295, 4: 239})\n",
      "Epoch train QWK: 0.889\tval QWK: 0.827\n",
      "Epoch 34/49\n",
      "==========\n"
     ]
    },
    {
     "name": "stderr",
     "output_type": "stream",
     "text": [
      "\n",
      "100%|██████████| 996/996 [06:18<00:00,  2.63it/s]\n",
      "100%|██████████| 332/332 [01:57<00:00,  2.82it/s]"
     ]
    },
    {
     "name": "stdout",
     "output_type": "stream",
     "text": [
      "Training Loss: 0.8719\tValidation Loss: 1.1140\n",
      "Counter train preds: Counter({0: 2406, 1: 2053, 2: 912, 5: 888, 4: 871, 3: 832})\tCounter val preds: Counter({0: 788, 1: 670, 5: 340, 3: 325, 2: 293, 4: 238})\n",
      "Epoch train QWK: 0.890\tval QWK: 0.827\n",
      "Epoch 35/49\n",
      "==========\n"
     ]
    },
    {
     "name": "stderr",
     "output_type": "stream",
     "text": [
      "\n",
      "100%|██████████| 996/996 [06:25<00:00,  2.58it/s]\n",
      "100%|██████████| 332/332 [01:59<00:00,  2.78it/s]\n"
     ]
    },
    {
     "name": "stdout",
     "output_type": "stream",
     "text": [
      "Training Loss: 0.8701\tValidation Loss: 1.1075\n",
      "Counter train preds: Counter({0: 2425, 1: 2057, 2: 899, 5: 894, 3: 858, 4: 829})\tCounter val preds: Counter({0: 781, 1: 755, 3: 329, 4: 284, 5: 280, 2: 225})\n",
      "Epoch train QWK: 0.892\tval QWK: 0.830\n",
      "  Epoch 35 - Save Best QWK: 0.8298 Model\n",
      "Confusion matrix, without normalization\n",
      "[[652  59   1   3   4   4]\n",
      " [ 76 518  49  14   5   4]\n",
      " [ 12 116 125  59  15   8]\n",
      " [ 13  29  30 157  58  24]\n",
      " [ 14  25   9  62 161  42]\n",
      " [ 14   8  11  34  41 198]]\n",
      "Epoch 36/49\n",
      "==========\n"
     ]
    },
    {
     "name": "stderr",
     "output_type": "stream",
     "text": [
      "100%|██████████| 996/996 [06:24<00:00,  2.59it/s]\n",
      "100%|██████████| 332/332 [01:58<00:00,  2.81it/s]"
     ]
    },
    {
     "name": "stdout",
     "output_type": "stream",
     "text": [
      "Epoch    37: reducing learning rate of group 0 to 7.8125e-07.\n",
      "Training Loss: 0.8782\tValidation Loss: 1.1095\n",
      "Counter train preds: Counter({0: 2417, 1: 2095, 5: 913, 4: 855, 2: 855, 3: 827})\tCounter val preds: Counter({0: 796, 1: 678, 3: 361, 5: 282, 4: 274, 2: 263})\n",
      "Epoch train QWK: 0.891\tval QWK: 0.826\n",
      "Epoch 37/49\n",
      "==========\n"
     ]
    },
    {
     "name": "stderr",
     "output_type": "stream",
     "text": [
      "\n",
      " 23%|██▎       | 233/996 [01:30<04:41,  2.71it/s]"
     ]
    },
    {
     "name": "stdout",
     "output_type": "stream",
     "text": [
      "Gradient overflow.  Skipping step, loss scaler 0 reducing loss scale to 65536.0\n"
     ]
    },
    {
     "name": "stderr",
     "output_type": "stream",
     "text": [
      "100%|██████████| 996/996 [06:22<00:00,  2.60it/s]\n",
      "100%|██████████| 332/332 [02:00<00:00,  2.75it/s]"
     ]
    },
    {
     "name": "stdout",
     "output_type": "stream",
     "text": [
      "Training Loss: 0.8675\tValidation Loss: 1.1099\n",
      "Counter train preds: Counter({0: 2436, 1: 2108, 5: 891, 2: 848, 3: 844, 4: 835})\tCounter val preds: Counter({0: 783, 1: 694, 3: 360, 4: 279, 2: 271, 5: 267})\n",
      "Epoch train QWK: 0.892\tval QWK: 0.827\n",
      "Epoch 38/49\n",
      "==========\n"
     ]
    },
    {
     "name": "stderr",
     "output_type": "stream",
     "text": [
      "\n",
      "100%|██████████| 996/996 [06:24<00:00,  2.59it/s]\n",
      "100%|██████████| 332/332 [02:01<00:00,  2.74it/s]"
     ]
    },
    {
     "name": "stdout",
     "output_type": "stream",
     "text": [
      "Training Loss: 0.8761\tValidation Loss: 1.1298\n",
      "Counter train preds: Counter({0: 2426, 1: 2073, 5: 892, 2: 887, 4: 852, 3: 832})\tCounter val preds: Counter({0: 784, 1: 718, 3: 345, 5: 296, 4: 274, 2: 237})\n",
      "Epoch train QWK: 0.887\tval QWK: 0.824\n",
      "Epoch 39/49\n",
      "==========\n"
     ]
    },
    {
     "name": "stderr",
     "output_type": "stream",
     "text": [
      "\n",
      " 25%|██▍       | 246/996 [01:39<04:32,  2.75it/s]"
     ]
    },
    {
     "name": "stdout",
     "output_type": "stream",
     "text": [
      "Gradient overflow.  Skipping step, loss scaler 0 reducing loss scale to 65536.0\n"
     ]
    },
    {
     "name": "stderr",
     "output_type": "stream",
     "text": [
      "100%|██████████| 996/996 [06:23<00:00,  2.60it/s]\n",
      "100%|██████████| 332/332 [01:56<00:00,  2.85it/s]"
     ]
    },
    {
     "name": "stdout",
     "output_type": "stream",
     "text": [
      "Training Loss: 0.8762\tValidation Loss: 1.1064\n",
      "Counter train preds: Counter({0: 2430, 1: 2081, 5: 893, 4: 863, 2: 861, 3: 834})\tCounter val preds: Counter({0: 801, 1: 721, 3: 348, 4: 275, 5: 269, 2: 240})\n",
      "Epoch train QWK: 0.887\tval QWK: 0.824\n",
      "Epoch 40/49\n",
      "==========\n"
     ]
    },
    {
     "name": "stderr",
     "output_type": "stream",
     "text": [
      "\n",
      " 32%|███▏      | 316/996 [01:59<03:55,  2.89it/s]"
     ]
    },
    {
     "name": "stdout",
     "output_type": "stream",
     "text": [
      "Gradient overflow.  Skipping step, loss scaler 0 reducing loss scale to 32768.0\n"
     ]
    },
    {
     "name": "stderr",
     "output_type": "stream",
     "text": [
      "100%|██████████| 996/996 [06:12<00:00,  2.67it/s]\n",
      "100%|██████████| 332/332 [01:55<00:00,  2.87it/s]"
     ]
    },
    {
     "name": "stdout",
     "output_type": "stream",
     "text": [
      "Epoch    41: reducing learning rate of group 0 to 3.9063e-07.\n",
      "Training Loss: 0.8704\tValidation Loss: 1.1228\n",
      "Counter train preds: Counter({0: 2426, 1: 2068, 5: 894, 2: 872, 3: 853, 4: 849})\tCounter val preds: Counter({0: 776, 1: 666, 3: 346, 4: 334, 5: 270, 2: 262})\n",
      "Epoch train QWK: 0.894\tval QWK: 0.816\n",
      "Epoch 41/49\n",
      "==========\n"
     ]
    },
    {
     "name": "stderr",
     "output_type": "stream",
     "text": [
      "\n",
      "100%|██████████| 996/996 [06:24<00:00,  2.59it/s]\n",
      "100%|██████████| 332/332 [01:59<00:00,  2.78it/s]"
     ]
    },
    {
     "name": "stdout",
     "output_type": "stream",
     "text": [
      "Training Loss: 0.8704\tValidation Loss: 1.1214\n",
      "Counter train preds: Counter({0: 2432, 1: 2097, 5: 898, 2: 856, 4: 846, 3: 833})\tCounter val preds: Counter({0: 776, 1: 702, 3: 379, 5: 283, 2: 274, 4: 240})\n",
      "Epoch train QWK: 0.886\tval QWK: 0.822\n",
      "Epoch 42/49\n",
      "==========\n"
     ]
    },
    {
     "name": "stderr",
     "output_type": "stream",
     "text": [
      "\n",
      " 66%|██████▌   | 658/996 [04:17<02:01,  2.78it/s]"
     ]
    },
    {
     "name": "stdout",
     "output_type": "stream",
     "text": [
      "Gradient overflow.  Skipping step, loss scaler 0 reducing loss scale to 32768.0\n"
     ]
    },
    {
     "name": "stderr",
     "output_type": "stream",
     "text": [
      "100%|██████████| 996/996 [06:24<00:00,  2.59it/s]\n",
      "100%|██████████| 332/332 [01:58<00:00,  2.81it/s]"
     ]
    },
    {
     "name": "stdout",
     "output_type": "stream",
     "text": [
      "Training Loss: 0.8695\tValidation Loss: 1.1241\n",
      "Counter train preds: Counter({0: 2438, 1: 2061, 5: 896, 2: 888, 4: 848, 3: 831})\tCounter val preds: Counter({1: 780, 0: 778, 3: 348, 5: 267, 4: 259, 2: 222})\n",
      "Epoch train QWK: 0.890\tval QWK: 0.819\n",
      "Epoch 43/49\n",
      "==========\n"
     ]
    },
    {
     "name": "stderr",
     "output_type": "stream",
     "text": [
      "\n",
      "100%|██████████| 996/996 [06:24<00:00,  2.59it/s]\n",
      "100%|██████████| 332/332 [01:59<00:00,  2.78it/s]"
     ]
    },
    {
     "name": "stdout",
     "output_type": "stream",
     "text": [
      "Training Loss: 0.8737\tValidation Loss: 1.1090\n",
      "Counter train preds: Counter({0: 2401, 1: 2083, 5: 897, 2: 879, 3: 860, 4: 842})\tCounter val preds: Counter({0: 820, 1: 674, 3: 361, 4: 282, 5: 270, 2: 247})\n",
      "Epoch train QWK: 0.893\tval QWK: 0.825\n",
      "Epoch 44/49\n",
      "==========\n"
     ]
    },
    {
     "name": "stderr",
     "output_type": "stream",
     "text": [
      "\n",
      " 79%|███████▉  | 790/996 [05:02<01:13,  2.82it/s]"
     ]
    },
    {
     "name": "stdout",
     "output_type": "stream",
     "text": [
      "Gradient overflow.  Skipping step, loss scaler 0 reducing loss scale to 32768.0\n"
     ]
    },
    {
     "name": "stderr",
     "output_type": "stream",
     "text": [
      "100%|██████████| 996/996 [06:21<00:00,  2.61it/s]\n",
      "100%|██████████| 332/332 [01:59<00:00,  2.78it/s]"
     ]
    },
    {
     "name": "stdout",
     "output_type": "stream",
     "text": [
      "Epoch    45: reducing learning rate of group 0 to 1.9531e-07.\n",
      "Training Loss: 0.8697\tValidation Loss: 1.1201\n",
      "Counter train preds: Counter({0: 2451, 1: 2055, 5: 908, 2: 883, 4: 867, 3: 798})\tCounter val preds: Counter({0: 798, 1: 712, 5: 344, 3: 301, 2: 259, 4: 240})\n",
      "Epoch train QWK: 0.888\tval QWK: 0.820\n",
      "Epoch 45/49\n",
      "==========\n"
     ]
    },
    {
     "name": "stderr",
     "output_type": "stream",
     "text": [
      "\n",
      "100%|██████████| 996/996 [06:20<00:00,  2.62it/s]\n",
      "100%|██████████| 332/332 [01:57<00:00,  2.82it/s]"
     ]
    },
    {
     "name": "stdout",
     "output_type": "stream",
     "text": [
      "Training Loss: 0.8725\tValidation Loss: 1.1172\n",
      "Counter train preds: Counter({0: 2429, 1: 2051, 5: 911, 2: 872, 3: 858, 4: 841})\tCounter val preds: Counter({0: 781, 1: 684, 3: 336, 5: 298, 4: 292, 2: 263})\n",
      "Epoch train QWK: 0.894\tval QWK: 0.818\n",
      "Epoch 46/49\n",
      "==========\n"
     ]
    },
    {
     "name": "stderr",
     "output_type": "stream",
     "text": [
      "\n",
      "100%|██████████| 996/996 [06:23<00:00,  2.60it/s]\n",
      "100%|██████████| 332/332 [01:55<00:00,  2.87it/s]"
     ]
    },
    {
     "name": "stdout",
     "output_type": "stream",
     "text": [
      "Training Loss: 0.8664\tValidation Loss: 1.1231\n",
      "Counter train preds: Counter({0: 2413, 1: 2092, 5: 901, 4: 856, 2: 853, 3: 847})\tCounter val preds: Counter({0: 788, 1: 730, 3: 358, 4: 286, 5: 285, 2: 207})\n",
      "Epoch train QWK: 0.891\tval QWK: 0.826\n",
      "Epoch 47/49\n",
      "==========\n"
     ]
    },
    {
     "name": "stderr",
     "output_type": "stream",
     "text": [
      "\n",
      "100%|██████████| 996/996 [06:11<00:00,  2.68it/s]\n",
      "100%|██████████| 332/332 [01:55<00:00,  2.87it/s]"
     ]
    },
    {
     "name": "stdout",
     "output_type": "stream",
     "text": [
      "Training Loss: 0.8753\tValidation Loss: 1.1240\n",
      "Counter train preds: Counter({0: 2417, 1: 2079, 5: 902, 2: 884, 4: 874, 3: 806})\tCounter val preds: Counter({0: 760, 1: 709, 3: 348, 5: 283, 2: 279, 4: 275})\n",
      "Epoch train QWK: 0.887\tval QWK: 0.830\n",
      "Epoch 48/49\n",
      "==========\n"
     ]
    },
    {
     "name": "stderr",
     "output_type": "stream",
     "text": [
      "\n",
      " 10%|█         | 101/996 [00:41<05:07,  2.91it/s]"
     ]
    },
    {
     "name": "stdout",
     "output_type": "stream",
     "text": [
      "Gradient overflow.  Skipping step, loss scaler 0 reducing loss scale to 32768.0\n"
     ]
    },
    {
     "name": "stderr",
     "output_type": "stream",
     "text": [
      "100%|██████████| 996/996 [06:07<00:00,  2.71it/s]\n",
      "100%|██████████| 332/332 [01:54<00:00,  2.91it/s]"
     ]
    },
    {
     "name": "stdout",
     "output_type": "stream",
     "text": [
      "Epoch    49: reducing learning rate of group 0 to 9.7656e-08.\n",
      "Training Loss: 0.8735\tValidation Loss: 1.1217\n",
      "Counter train preds: Counter({0: 2410, 1: 2086, 2: 887, 5: 878, 3: 862, 4: 839})\tCounter val preds: Counter({0: 804, 1: 660, 3: 386, 5: 286, 2: 266, 4: 252})\n",
      "Epoch train QWK: 0.892\tval QWK: 0.825\n",
      "Epoch 49/49\n",
      "==========\n"
     ]
    },
    {
     "name": "stderr",
     "output_type": "stream",
     "text": [
      "\n",
      "100%|██████████| 996/996 [06:27<00:00,  2.57it/s]\n",
      "100%|██████████| 332/332 [02:05<00:00,  2.64it/s]"
     ]
    },
    {
     "name": "stdout",
     "output_type": "stream",
     "text": [
      "Training Loss: 0.8714\tValidation Loss: 1.1142\n",
      "Counter train preds: Counter({0: 2441, 1: 2041, 5: 899, 2: 886, 4: 866, 3: 829})\tCounter val preds: Counter({0: 793, 1: 700, 3: 332, 5: 298, 4: 277, 2: 254})\n",
      "Epoch train QWK: 0.893\tval QWK: 0.821\n"
     ]
    },
    {
     "name": "stderr",
     "output_type": "stream",
     "text": [
      "\n"
     ]
    }
   ],
   "source": [
    "train_df = folds[folds[\"fold\"] != 0].copy()\n",
    "val_df = folds[folds[\"fold\"] == 0].copy()\n",
    "train_ds = TilesTrainDataset(train_df, is_train=CFG.stoch_sample, transform=get_transforms(data=\"train\", aug=\"light\"), debug=False)\n",
    "val_ds = TilesTrainDataset(val_df, is_train=False, transform=get_transforms(data=\"valid\"), debug=False)\n",
    "\n",
    "model_ft = make_RN50_cls()\n",
    "# initialize bias in the model\n",
    "cls_probas = (train_df[CFG.target_col].value_counts() / len(train_df)).values\n",
    "model_ft = init_last_layer_bias(model_ft, cls_probas)\n",
    "\n",
    "criterion = losses_dict[CFG.loss]\n",
    "optimizer = torch.optim.Adam(model_ft.parameters(), lr=CFG.lr, amsgrad=False)\n",
    "train_eval_loop(train_ds, val_ds, model_ft, optimizer, criterion, model_name=EXP_NAME)"
   ]
  },
  {
   "cell_type": "markdown",
   "metadata": {},
   "source": [
    "### Train with CV"
   ]
  },
  {
   "cell_type": "code",
   "execution_count": 34,
   "metadata": {
    "collapsed": true,
    "jupyter": {
     "outputs_hidden": true
    }
   },
   "outputs": [
    {
     "name": "stdout",
     "output_type": "stream",
     "text": [
      "Train with CV, on fold 0\n",
      "Epoch 0/9\n",
      "----------\n"
     ]
    },
    {
     "name": "stderr",
     "output_type": "stream",
     "text": [
      "100%|██████████| 5/5 [00:00<00:00,  7.61it/s]"
     ]
    },
    {
     "name": "stdout",
     "output_type": "stream",
     "text": [
      "Visualising input\n"
     ]
    },
    {
     "name": "stderr",
     "output_type": "stream",
     "text": [
      "\n",
      "100%|██████████| 2/2 [00:00<00:00,  3.84it/s]"
     ]
    },
    {
     "name": "stdout",
     "output_type": "stream",
     "text": [
      "Training Loss: 1.7832\tValidation Loss: 1.6735\n",
      "Counter train preds: Counter({1: 50, 4: 11, 3: 8, 0: 6})\tCounter val preds: Counter({0: 25})\n",
      "Epoch train QWK: 0.193\tval QWK: 0.000\n",
      "Epoch 1/9\n",
      "----------\n"
     ]
    },
    {
     "name": "stderr",
     "output_type": "stream",
     "text": [
      "\n",
      "100%|██████████| 5/5 [00:00<00:00,  7.82it/s]"
     ]
    },
    {
     "name": "stdout",
     "output_type": "stream",
     "text": [
      "Visualising input\n"
     ]
    },
    {
     "name": "stderr",
     "output_type": "stream",
     "text": [
      "\n",
      "100%|██████████| 2/2 [00:00<00:00,  4.13it/s]"
     ]
    },
    {
     "name": "stdout",
     "output_type": "stream",
     "text": [
      "Training Loss: 1.5393\tValidation Loss: 1.6932\n",
      "Counter train preds: Counter({1: 39, 0: 21, 3: 7, 4: 6, 5: 2})\tCounter val preds: Counter({1: 25})\n",
      "Epoch train QWK: 0.236\tval QWK: 0.000\n",
      "Epoch 2/9\n",
      "----------\n"
     ]
    },
    {
     "name": "stderr",
     "output_type": "stream",
     "text": [
      "\n",
      "100%|██████████| 5/5 [00:00<00:00,  7.61it/s]"
     ]
    },
    {
     "name": "stdout",
     "output_type": "stream",
     "text": [
      "Visualising input\n"
     ]
    },
    {
     "name": "stderr",
     "output_type": "stream",
     "text": [
      "\n",
      "100%|██████████| 2/2 [00:00<00:00,  4.02it/s]"
     ]
    },
    {
     "name": "stdout",
     "output_type": "stream",
     "text": [
      "Training Loss: 1.4436\tValidation Loss: 1.7056\n",
      "Counter train preds: Counter({1: 34, 0: 26, 3: 7, 5: 5, 4: 3})\tCounter val preds: Counter({1: 25})\n",
      "Epoch train QWK: 0.321\tval QWK: 0.000\n",
      "Epoch 3/9\n",
      "----------\n"
     ]
    },
    {
     "name": "stderr",
     "output_type": "stream",
     "text": [
      "\n",
      "100%|██████████| 5/5 [00:00<00:00,  5.05it/s]"
     ]
    },
    {
     "name": "stdout",
     "output_type": "stream",
     "text": [
      "Visualising input\n"
     ]
    },
    {
     "name": "stderr",
     "output_type": "stream",
     "text": [
      "100%|██████████| 5/5 [00:00<00:00,  7.88it/s]\n",
      "100%|██████████| 2/2 [00:00<00:00,  2.04it/s]"
     ]
    },
    {
     "name": "stdout",
     "output_type": "stream",
     "text": [
      "Training Loss: 1.4152\tValidation Loss: 1.6723\n",
      "Counter train preds: Counter({0: 33, 1: 31, 3: 5, 4: 5, 5: 1})\tCounter val preds: Counter({1: 25})\n",
      "Epoch train QWK: 0.282\tval QWK: 0.000\n",
      "Epoch 4/9\n",
      "----------\n"
     ]
    },
    {
     "name": "stderr",
     "output_type": "stream",
     "text": [
      "\n",
      " 20%|██        | 1/5 [00:00<00:01,  2.74it/s]"
     ]
    },
    {
     "name": "stdout",
     "output_type": "stream",
     "text": [
      "Visualising input\n"
     ]
    },
    {
     "name": "stderr",
     "output_type": "stream",
     "text": [
      "100%|██████████| 5/5 [00:00<00:00,  7.80it/s]\n",
      "100%|██████████| 2/2 [00:00<00:00,  3.81it/s]"
     ]
    },
    {
     "name": "stdout",
     "output_type": "stream",
     "text": [
      "Training Loss: 1.3904\tValidation Loss: 1.6386\n",
      "Counter train preds: Counter({1: 33, 0: 28, 4: 6, 3: 5, 5: 3})\tCounter val preds: Counter({1: 15, 5: 3, 0: 3, 2: 2, 4: 1, 3: 1})\n",
      "Epoch train QWK: 0.393\tval QWK: 0.186\n",
      "Epoch 5/9\n",
      "----------\n"
     ]
    },
    {
     "name": "stderr",
     "output_type": "stream",
     "text": [
      "\n",
      " 20%|██        | 1/5 [00:00<00:01,  2.53it/s]"
     ]
    },
    {
     "name": "stdout",
     "output_type": "stream",
     "text": [
      "Visualising input\n"
     ]
    },
    {
     "name": "stderr",
     "output_type": "stream",
     "text": [
      "100%|██████████| 5/5 [00:00<00:00,  7.49it/s]\n",
      "100%|██████████| 2/2 [00:00<00:00,  3.79it/s]"
     ]
    },
    {
     "name": "stdout",
     "output_type": "stream",
     "text": [
      "Training Loss: 1.3730\tValidation Loss: 1.6927\n",
      "Counter train preds: Counter({0: 33, 1: 26, 5: 7, 3: 4, 4: 4, 2: 1})\tCounter val preds: Counter({1: 13, 5: 6, 2: 4, 3: 1, 0: 1})\n",
      "Epoch train QWK: 0.517\tval QWK: 0.545\n",
      "Epoch 6/9\n",
      "----------\n"
     ]
    },
    {
     "name": "stderr",
     "output_type": "stream",
     "text": [
      "\n",
      "100%|██████████| 5/5 [00:00<00:00,  4.96it/s]"
     ]
    },
    {
     "name": "stdout",
     "output_type": "stream",
     "text": [
      "Visualising input\n"
     ]
    },
    {
     "name": "stderr",
     "output_type": "stream",
     "text": [
      "100%|██████████| 5/5 [00:00<00:00,  7.91it/s]\n",
      "100%|██████████| 2/2 [00:00<00:00,  3.81it/s]"
     ]
    },
    {
     "name": "stdout",
     "output_type": "stream",
     "text": [
      "Training Loss: 1.3238\tValidation Loss: 1.8837\n",
      "Counter train preds: Counter({0: 30, 1: 29, 5: 6, 3: 6, 4: 4})\tCounter val preds: Counter({1: 9, 5: 7, 2: 6, 3: 3})\n",
      "Epoch train QWK: 0.438\tval QWK: 0.329\n",
      "Epoch 7/9\n",
      "----------\n"
     ]
    },
    {
     "name": "stderr",
     "output_type": "stream",
     "text": [
      "\n",
      "100%|██████████| 5/5 [00:00<00:00,  7.85it/s]"
     ]
    },
    {
     "name": "stdout",
     "output_type": "stream",
     "text": [
      "Visualising input\n"
     ]
    },
    {
     "name": "stderr",
     "output_type": "stream",
     "text": [
      "\n",
      "100%|██████████| 2/2 [00:00<00:00,  3.89it/s]"
     ]
    },
    {
     "name": "stdout",
     "output_type": "stream",
     "text": [
      "Training Loss: 1.3055\tValidation Loss: 2.0990\n",
      "Counter train preds: Counter({1: 34, 0: 22, 5: 8, 3: 7, 4: 2, 2: 2})\tCounter val preds: Counter({2: 12, 5: 5, 3: 5, 1: 2, 4: 1})\n",
      "Epoch train QWK: 0.552\tval QWK: 0.326\n",
      "Epoch 8/9\n",
      "----------\n"
     ]
    },
    {
     "name": "stderr",
     "output_type": "stream",
     "text": [
      "\n",
      " 20%|██        | 1/5 [00:00<00:01,  2.66it/s]"
     ]
    },
    {
     "name": "stdout",
     "output_type": "stream",
     "text": [
      "Visualising input\n"
     ]
    },
    {
     "name": "stderr",
     "output_type": "stream",
     "text": [
      "100%|██████████| 5/5 [00:00<00:00,  7.53it/s]\n",
      "100%|██████████| 2/2 [00:00<00:00,  3.87it/s]"
     ]
    },
    {
     "name": "stdout",
     "output_type": "stream",
     "text": [
      "Training Loss: 1.3063\tValidation Loss: 2.0883\n",
      "Counter train preds: Counter({1: 35, 0: 25, 4: 7, 3: 5, 5: 3})\tCounter val preds: Counter({2: 13, 5: 5, 1: 3, 3: 2, 4: 1, 0: 1})\n",
      "Epoch train QWK: 0.549\tval QWK: 0.199\n",
      "Epoch 9/9\n",
      "----------\n"
     ]
    },
    {
     "name": "stderr",
     "output_type": "stream",
     "text": [
      "\n",
      "100%|██████████| 5/5 [00:00<00:00,  4.77it/s]"
     ]
    },
    {
     "name": "stdout",
     "output_type": "stream",
     "text": [
      "Visualising input\n"
     ]
    },
    {
     "name": "stderr",
     "output_type": "stream",
     "text": [
      "100%|██████████| 5/5 [00:00<00:00,  7.73it/s]\n",
      "100%|██████████| 2/2 [00:00<00:00,  3.86it/s]"
     ]
    },
    {
     "name": "stdout",
     "output_type": "stream",
     "text": [
      "Training Loss: 1.3191\tValidation Loss: 1.8377\n",
      "Counter train preds: Counter({1: 37, 0: 24, 5: 7, 4: 3, 3: 3, 2: 1})\tCounter val preds: Counter({1: 21, 3: 2, 2: 1, 5: 1})\n",
      "Epoch train QWK: 0.435\tval QWK: 0.305\n",
      "Train with CV, on fold 1\n",
      "Epoch 0/9\n",
      "----------\n"
     ]
    },
    {
     "name": "stderr",
     "output_type": "stream",
     "text": [
      "\n",
      "100%|██████████| 5/5 [00:00<00:00,  4.80it/s]"
     ]
    },
    {
     "name": "stdout",
     "output_type": "stream",
     "text": [
      "Visualising input\n"
     ]
    },
    {
     "name": "stderr",
     "output_type": "stream",
     "text": [
      "100%|██████████| 5/5 [00:00<00:00,  7.69it/s]\n",
      "100%|██████████| 2/2 [00:00<00:00,  3.71it/s]"
     ]
    },
    {
     "name": "stdout",
     "output_type": "stream",
     "text": [
      "Training Loss: 1.7209\tValidation Loss: 1.7380\n",
      "Counter train preds: Counter({0: 59, 3: 15, 1: 1})\tCounter val preds: Counter({0: 25})\n",
      "Epoch train QWK: 0.263\tval QWK: 0.000\n",
      "Epoch 1/9\n",
      "----------\n"
     ]
    },
    {
     "name": "stderr",
     "output_type": "stream",
     "text": [
      "\n",
      "100%|██████████| 5/5 [00:00<00:00,  7.81it/s]"
     ]
    },
    {
     "name": "stdout",
     "output_type": "stream",
     "text": [
      "Visualising input\n"
     ]
    },
    {
     "name": "stderr",
     "output_type": "stream",
     "text": [
      "\n",
      "100%|██████████| 2/2 [00:00<00:00,  3.62it/s]"
     ]
    },
    {
     "name": "stdout",
     "output_type": "stream",
     "text": [
      "Training Loss: 1.5459\tValidation Loss: 1.7958\n",
      "Counter train preds: Counter({0: 36, 1: 32, 3: 5, 4: 2})\tCounter val preds: Counter({0: 25})\n",
      "Epoch train QWK: 0.331\tval QWK: 0.000\n",
      "Epoch 2/9\n",
      "----------\n"
     ]
    },
    {
     "name": "stderr",
     "output_type": "stream",
     "text": [
      "\n",
      " 60%|██████    | 3/5 [00:00<00:00,  3.30it/s]"
     ]
    },
    {
     "name": "stdout",
     "output_type": "stream",
     "text": [
      "Visualising input\n"
     ]
    },
    {
     "name": "stderr",
     "output_type": "stream",
     "text": [
      "100%|██████████| 5/5 [00:00<00:00,  7.36it/s]\n",
      "100%|██████████| 2/2 [00:00<00:00,  3.74it/s]"
     ]
    },
    {
     "name": "stdout",
     "output_type": "stream",
     "text": [
      "Training Loss: 1.4606\tValidation Loss: 1.9763\n",
      "Counter train preds: Counter({1: 34, 0: 29, 4: 8, 3: 4})\tCounter val preds: Counter({0: 25})\n",
      "Epoch train QWK: 0.388\tval QWK: 0.000\n",
      "Epoch 3/9\n",
      "----------\n"
     ]
    },
    {
     "name": "stderr",
     "output_type": "stream",
     "text": [
      "\n",
      " 60%|██████    | 3/5 [00:00<00:00,  3.59it/s]"
     ]
    },
    {
     "name": "stdout",
     "output_type": "stream",
     "text": [
      "Visualising input\n"
     ]
    },
    {
     "name": "stderr",
     "output_type": "stream",
     "text": [
      "100%|██████████| 5/5 [00:00<00:00,  7.80it/s]\n",
      "100%|██████████| 2/2 [00:00<00:00,  3.66it/s]"
     ]
    },
    {
     "name": "stdout",
     "output_type": "stream",
     "text": [
      "Training Loss: 1.4206\tValidation Loss: 1.8872\n",
      "Counter train preds: Counter({1: 32, 0: 24, 4: 8, 3: 6, 5: 3, 2: 2})\tCounter val preds: Counter({0: 25})\n",
      "Epoch train QWK: 0.441\tval QWK: 0.000\n",
      "Epoch 4/9\n",
      "----------\n"
     ]
    },
    {
     "name": "stderr",
     "output_type": "stream",
     "text": [
      "\n",
      "100%|██████████| 5/5 [00:00<00:00,  5.28it/s]"
     ]
    },
    {
     "name": "stdout",
     "output_type": "stream",
     "text": [
      "Visualising input\n"
     ]
    },
    {
     "name": "stderr",
     "output_type": "stream",
     "text": [
      "100%|██████████| 5/5 [00:00<00:00,  8.24it/s]\n",
      "100%|██████████| 2/2 [00:00<00:00,  3.60it/s]"
     ]
    },
    {
     "name": "stdout",
     "output_type": "stream",
     "text": [
      "Training Loss: 1.4067\tValidation Loss: 2.2129\n",
      "Counter train preds: Counter({1: 36, 0: 25, 3: 10, 5: 2, 2: 1, 4: 1})\tCounter val preds: Counter({0: 25})\n",
      "Epoch train QWK: 0.388\tval QWK: 0.000\n",
      "Epoch 5/9\n",
      "----------\n"
     ]
    },
    {
     "name": "stderr",
     "output_type": "stream",
     "text": [
      "\n",
      "100%|██████████| 5/5 [00:00<00:00,  8.12it/s]"
     ]
    },
    {
     "name": "stdout",
     "output_type": "stream",
     "text": [
      "Visualising input\n"
     ]
    },
    {
     "name": "stderr",
     "output_type": "stream",
     "text": [
      "\n",
      "100%|██████████| 2/2 [00:00<00:00,  3.64it/s]"
     ]
    },
    {
     "name": "stdout",
     "output_type": "stream",
     "text": [
      "Training Loss: 1.3640\tValidation Loss: 2.9000\n",
      "Counter train preds: Counter({1: 33, 0: 24, 3: 12, 2: 4, 4: 2})\tCounter val preds: Counter({0: 25})\n",
      "Epoch train QWK: 0.364\tval QWK: 0.000\n",
      "Epoch 6/9\n",
      "----------\n"
     ]
    },
    {
     "name": "stderr",
     "output_type": "stream",
     "text": [
      "\n",
      "100%|██████████| 5/5 [00:00<00:00,  4.87it/s]"
     ]
    },
    {
     "name": "stdout",
     "output_type": "stream",
     "text": [
      "Visualising input\n"
     ]
    },
    {
     "name": "stderr",
     "output_type": "stream",
     "text": [
      "100%|██████████| 5/5 [00:00<00:00,  7.86it/s]\n",
      "100%|██████████| 2/2 [00:00<00:00,  3.44it/s]"
     ]
    },
    {
     "name": "stdout",
     "output_type": "stream",
     "text": [
      "Training Loss: 1.3085\tValidation Loss: 2.7819\n",
      "Counter train preds: Counter({1: 33, 0: 20, 3: 11, 2: 4, 4: 4, 5: 3})\tCounter val preds: Counter({0: 25})\n",
      "Epoch train QWK: 0.568\tval QWK: 0.000\n",
      "Epoch 7/9\n",
      "----------\n"
     ]
    },
    {
     "name": "stderr",
     "output_type": "stream",
     "text": [
      "\n",
      "100%|██████████| 5/5 [00:00<00:00,  7.36it/s]"
     ]
    },
    {
     "name": "stdout",
     "output_type": "stream",
     "text": [
      "Visualising input\n"
     ]
    },
    {
     "name": "stderr",
     "output_type": "stream",
     "text": [
      "\n",
      "100%|██████████| 2/2 [00:00<00:00,  2.55it/s]"
     ]
    },
    {
     "name": "stdout",
     "output_type": "stream",
     "text": [
      "Training Loss: 1.3142\tValidation Loss: 2.3783\n",
      "Counter train preds: Counter({1: 36, 0: 21, 3: 9, 2: 5, 5: 3, 4: 1})\tCounter val preds: Counter({0: 18, 1: 5, 2: 2})\n",
      "Epoch train QWK: 0.435\tval QWK: 0.116\n",
      "Epoch 8/9\n",
      "----------\n"
     ]
    },
    {
     "name": "stderr",
     "output_type": "stream",
     "text": [
      "\n",
      "100%|██████████| 5/5 [00:00<00:00,  5.30it/s]"
     ]
    },
    {
     "name": "stdout",
     "output_type": "stream",
     "text": [
      "Visualising input\n"
     ]
    },
    {
     "name": "stderr",
     "output_type": "stream",
     "text": [
      "100%|██████████| 5/5 [00:00<00:00,  8.07it/s]\n",
      "100%|██████████| 2/2 [00:00<00:00,  3.62it/s]"
     ]
    },
    {
     "name": "stdout",
     "output_type": "stream",
     "text": [
      "Training Loss: 1.2917\tValidation Loss: 3.1009\n",
      "Counter train preds: Counter({1: 38, 0: 19, 2: 6, 4: 5, 3: 4, 5: 3})\tCounter val preds: Counter({0: 23, 2: 2})\n",
      "Epoch train QWK: 0.433\tval QWK: 0.009\n",
      "Epoch 9/9\n",
      "----------\n"
     ]
    },
    {
     "name": "stderr",
     "output_type": "stream",
     "text": [
      "\n",
      "100%|██████████| 5/5 [00:00<00:00,  7.24it/s]"
     ]
    },
    {
     "name": "stdout",
     "output_type": "stream",
     "text": [
      "Visualising input\n"
     ]
    },
    {
     "name": "stderr",
     "output_type": "stream",
     "text": [
      "\n",
      "100%|██████████| 2/2 [00:00<00:00,  3.73it/s]"
     ]
    },
    {
     "name": "stdout",
     "output_type": "stream",
     "text": [
      "Training Loss: 1.2545\tValidation Loss: 2.9466\n",
      "Counter train preds: Counter({1: 32, 0: 20, 3: 10, 4: 5, 2: 5, 5: 3})\tCounter val preds: Counter({0: 23, 2: 2})\n",
      "Epoch train QWK: 0.635\tval QWK: 0.009\n",
      "Train with CV, on fold 2\n",
      "Epoch 0/9\n",
      "----------\n"
     ]
    },
    {
     "name": "stderr",
     "output_type": "stream",
     "text": [
      "\n",
      "100%|██████████| 5/5 [00:00<00:00,  7.96it/s]"
     ]
    },
    {
     "name": "stdout",
     "output_type": "stream",
     "text": [
      "Visualising input\n"
     ]
    },
    {
     "name": "stderr",
     "output_type": "stream",
     "text": [
      "\n",
      "100%|██████████| 2/2 [00:00<00:00,  3.70it/s]"
     ]
    },
    {
     "name": "stdout",
     "output_type": "stream",
     "text": [
      "Training Loss: 1.6856\tValidation Loss: 1.8174\n",
      "Counter train preds: Counter({1: 48, 3: 15, 0: 12})\tCounter val preds: Counter({0: 25})\n",
      "Epoch train QWK: 0.208\tval QWK: 0.000\n",
      "Epoch 1/9\n",
      "----------\n"
     ]
    },
    {
     "name": "stderr",
     "output_type": "stream",
     "text": [
      "\n",
      " 60%|██████    | 3/5 [00:00<00:00,  3.45it/s]"
     ]
    },
    {
     "name": "stdout",
     "output_type": "stream",
     "text": [
      "Visualising input\n"
     ]
    },
    {
     "name": "stderr",
     "output_type": "stream",
     "text": [
      "100%|██████████| 5/5 [00:00<00:00,  7.56it/s]\n",
      "100%|██████████| 2/2 [00:00<00:00,  3.71it/s]"
     ]
    },
    {
     "name": "stdout",
     "output_type": "stream",
     "text": [
      "Training Loss: 1.5455\tValidation Loss: 2.4182\n",
      "Counter train preds: Counter({1: 37, 0: 21, 3: 16, 2: 1})\tCounter val preds: Counter({0: 25})\n",
      "Epoch train QWK: 0.313\tval QWK: 0.000\n",
      "Epoch 2/9\n",
      "----------\n"
     ]
    },
    {
     "name": "stderr",
     "output_type": "stream",
     "text": [
      "\n",
      "100%|██████████| 5/5 [00:00<00:00,  8.02it/s]"
     ]
    },
    {
     "name": "stdout",
     "output_type": "stream",
     "text": [
      "Visualising input\n"
     ]
    },
    {
     "name": "stderr",
     "output_type": "stream",
     "text": [
      "\n",
      "100%|██████████| 2/2 [00:00<00:00,  3.73it/s]"
     ]
    },
    {
     "name": "stdout",
     "output_type": "stream",
     "text": [
      "Training Loss: 1.4741\tValidation Loss: 2.2700\n",
      "Counter train preds: Counter({1: 33, 0: 26, 3: 14, 2: 2})\tCounter val preds: Counter({0: 25})\n",
      "Epoch train QWK: 0.287\tval QWK: 0.000\n",
      "Epoch 3/9\n",
      "----------\n"
     ]
    },
    {
     "name": "stderr",
     "output_type": "stream",
     "text": [
      "\n",
      "100%|██████████| 5/5 [00:00<00:00,  7.64it/s]"
     ]
    },
    {
     "name": "stdout",
     "output_type": "stream",
     "text": [
      "Visualising input\n"
     ]
    },
    {
     "name": "stderr",
     "output_type": "stream",
     "text": [
      "\n",
      "100%|██████████| 2/2 [00:00<00:00,  3.60it/s]"
     ]
    },
    {
     "name": "stdout",
     "output_type": "stream",
     "text": [
      "Training Loss: 1.4289\tValidation Loss: 2.4097\n",
      "Counter train preds: Counter({1: 35, 0: 28, 3: 7, 2: 5})\tCounter val preds: Counter({0: 25})\n",
      "Epoch train QWK: 0.247\tval QWK: 0.000\n",
      "Epoch 4/9\n",
      "----------\n"
     ]
    },
    {
     "name": "stderr",
     "output_type": "stream",
     "text": [
      "\n",
      " 20%|██        | 1/5 [00:00<00:01,  2.55it/s]"
     ]
    },
    {
     "name": "stdout",
     "output_type": "stream",
     "text": [
      "Visualising input\n"
     ]
    },
    {
     "name": "stderr",
     "output_type": "stream",
     "text": [
      "100%|██████████| 5/5 [00:00<00:00,  7.52it/s]\n",
      "100%|██████████| 2/2 [00:00<00:00,  3.67it/s]"
     ]
    },
    {
     "name": "stdout",
     "output_type": "stream",
     "text": [
      "Training Loss: 1.3615\tValidation Loss: 2.0392\n",
      "Counter train preds: Counter({1: 39, 0: 25, 3: 7, 2: 4})\tCounter val preds: Counter({0: 24, 2: 1})\n",
      "Epoch train QWK: 0.307\tval QWK: 0.064\n",
      "Epoch 5/9\n",
      "----------\n"
     ]
    },
    {
     "name": "stderr",
     "output_type": "stream",
     "text": [
      "\n",
      "100%|██████████| 5/5 [00:00<00:00,  7.67it/s]"
     ]
    },
    {
     "name": "stdout",
     "output_type": "stream",
     "text": [
      "Visualising input\n"
     ]
    },
    {
     "name": "stderr",
     "output_type": "stream",
     "text": [
      "\n",
      "100%|██████████| 2/2 [00:00<00:00,  3.69it/s]"
     ]
    },
    {
     "name": "stdout",
     "output_type": "stream",
     "text": [
      "Training Loss: 1.4250\tValidation Loss: 1.6867\n",
      "Counter train preds: Counter({1: 41, 0: 26, 3: 8})\tCounter val preds: Counter({0: 20, 2: 3, 1: 2})\n",
      "Epoch train QWK: 0.266\tval QWK: 0.214\n",
      "Epoch 6/9\n",
      "----------\n"
     ]
    },
    {
     "name": "stderr",
     "output_type": "stream",
     "text": [
      "\n",
      "100%|██████████| 5/5 [00:00<00:00,  7.91it/s]"
     ]
    },
    {
     "name": "stdout",
     "output_type": "stream",
     "text": [
      "Visualising input\n"
     ]
    },
    {
     "name": "stderr",
     "output_type": "stream",
     "text": [
      "\n",
      "100%|██████████| 2/2 [00:00<00:00,  3.60it/s]"
     ]
    },
    {
     "name": "stdout",
     "output_type": "stream",
     "text": [
      "Training Loss: 1.3328\tValidation Loss: 1.7360\n",
      "Counter train preds: Counter({1: 34, 0: 24, 3: 12, 2: 4, 5: 1})\tCounter val preds: Counter({0: 18, 1: 5, 2: 2})\n",
      "Epoch train QWK: 0.365\tval QWK: 0.130\n",
      "Epoch 7/9\n",
      "----------\n"
     ]
    },
    {
     "name": "stderr",
     "output_type": "stream",
     "text": [
      "\n",
      " 60%|██████    | 3/5 [00:00<00:00,  3.21it/s]"
     ]
    },
    {
     "name": "stdout",
     "output_type": "stream",
     "text": [
      "Visualising input\n"
     ]
    },
    {
     "name": "stderr",
     "output_type": "stream",
     "text": [
      "100%|██████████| 5/5 [00:00<00:00,  7.17it/s]\n",
      "100%|██████████| 2/2 [00:00<00:00,  3.71it/s]"
     ]
    },
    {
     "name": "stdout",
     "output_type": "stream",
     "text": [
      "Training Loss: 1.3236\tValidation Loss: 1.8248\n",
      "Counter train preds: Counter({1: 33, 0: 21, 2: 13, 3: 6, 5: 2})\tCounter val preds: Counter({0: 17, 1: 5, 2: 3})\n",
      "Epoch train QWK: 0.316\tval QWK: 0.272\n",
      "Epoch 8/9\n",
      "----------\n"
     ]
    },
    {
     "name": "stderr",
     "output_type": "stream",
     "text": [
      "\n",
      "100%|██████████| 5/5 [00:00<00:00,  4.99it/s]"
     ]
    },
    {
     "name": "stdout",
     "output_type": "stream",
     "text": [
      "Visualising input\n"
     ]
    },
    {
     "name": "stderr",
     "output_type": "stream",
     "text": [
      "100%|██████████| 5/5 [00:00<00:00,  7.91it/s]\n",
      "100%|██████████| 2/2 [00:00<00:00,  3.63it/s]"
     ]
    },
    {
     "name": "stdout",
     "output_type": "stream",
     "text": [
      "Training Loss: 1.2498\tValidation Loss: 2.4719\n",
      "Counter train preds: Counter({1: 34, 0: 24, 2: 8, 3: 8, 5: 1})\tCounter val preds: Counter({0: 22, 2: 3})\n",
      "Epoch train QWK: 0.392\tval QWK: 0.259\n",
      "Epoch 9/9\n",
      "----------\n"
     ]
    },
    {
     "name": "stderr",
     "output_type": "stream",
     "text": [
      "\n",
      "100%|██████████| 5/5 [00:00<00:00,  8.02it/s]"
     ]
    },
    {
     "name": "stdout",
     "output_type": "stream",
     "text": [
      "Visualising input\n"
     ]
    },
    {
     "name": "stderr",
     "output_type": "stream",
     "text": [
      "\n",
      "100%|██████████| 2/2 [00:00<00:00,  3.74it/s]"
     ]
    },
    {
     "name": "stdout",
     "output_type": "stream",
     "text": [
      "Training Loss: 1.2657\tValidation Loss: 2.4212\n",
      "Counter train preds: Counter({1: 39, 0: 21, 2: 6, 3: 6, 5: 3})\tCounter val preds: Counter({0: 22, 2: 3})\n",
      "Epoch train QWK: 0.409\tval QWK: 0.259\n",
      "Train with CV, on fold 3\n",
      "Epoch 0/9\n",
      "----------\n"
     ]
    },
    {
     "name": "stderr",
     "output_type": "stream",
     "text": [
      "\n",
      " 60%|██████    | 3/5 [00:00<00:00,  3.76it/s]"
     ]
    },
    {
     "name": "stdout",
     "output_type": "stream",
     "text": [
      "Visualising input\n"
     ]
    },
    {
     "name": "stderr",
     "output_type": "stream",
     "text": [
      "100%|██████████| 5/5 [00:00<00:00,  7.78it/s]\n",
      "100%|██████████| 2/2 [00:00<00:00,  4.08it/s]"
     ]
    },
    {
     "name": "stdout",
     "output_type": "stream",
     "text": [
      "Training Loss: 1.7337\tValidation Loss: 1.6500\n",
      "Counter train preds: Counter({1: 49, 2: 14, 0: 6, 5: 3, 3: 3})\tCounter val preds: Counter({1: 24, 0: 1})\n",
      "Epoch train QWK: 0.123\tval QWK: -0.030\n",
      "Epoch 1/9\n",
      "----------\n"
     ]
    },
    {
     "name": "stderr",
     "output_type": "stream",
     "text": [
      "\n",
      "100%|██████████| 5/5 [00:00<00:00,  7.52it/s]"
     ]
    },
    {
     "name": "stdout",
     "output_type": "stream",
     "text": [
      "Visualising input\n"
     ]
    },
    {
     "name": "stderr",
     "output_type": "stream",
     "text": [
      "\n",
      "100%|██████████| 2/2 [00:00<00:00,  4.29it/s]"
     ]
    },
    {
     "name": "stdout",
     "output_type": "stream",
     "text": [
      "Training Loss: 1.5647\tValidation Loss: 1.7000\n",
      "Counter train preds: Counter({1: 40, 0: 18, 3: 12, 2: 5})\tCounter val preds: Counter({1: 25})\n",
      "Epoch train QWK: 0.232\tval QWK: 0.000\n",
      "Epoch 2/9\n",
      "----------\n"
     ]
    },
    {
     "name": "stderr",
     "output_type": "stream",
     "text": [
      "\n",
      " 60%|██████    | 3/5 [00:00<00:00,  3.84it/s]"
     ]
    },
    {
     "name": "stdout",
     "output_type": "stream",
     "text": [
      "Visualising input\n"
     ]
    },
    {
     "name": "stderr",
     "output_type": "stream",
     "text": [
      "100%|██████████| 5/5 [00:00<00:00,  7.87it/s]\n",
      "100%|██████████| 2/2 [00:00<00:00,  4.09it/s]"
     ]
    },
    {
     "name": "stdout",
     "output_type": "stream",
     "text": [
      "Training Loss: 1.4733\tValidation Loss: 1.6935\n",
      "Counter train preds: Counter({1: 33, 0: 27, 3: 13, 2: 2})\tCounter val preds: Counter({1: 25})\n",
      "Epoch train QWK: 0.337\tval QWK: 0.000\n",
      "Epoch 3/9\n",
      "----------\n"
     ]
    },
    {
     "name": "stderr",
     "output_type": "stream",
     "text": [
      "\n",
      " 60%|██████    | 3/5 [00:00<00:00,  3.67it/s]"
     ]
    },
    {
     "name": "stdout",
     "output_type": "stream",
     "text": [
      "Visualising input\n"
     ]
    },
    {
     "name": "stderr",
     "output_type": "stream",
     "text": [
      "100%|██████████| 5/5 [00:00<00:00,  7.66it/s]\n",
      "100%|██████████| 2/2 [00:00<00:00,  4.01it/s]"
     ]
    },
    {
     "name": "stdout",
     "output_type": "stream",
     "text": [
      "Training Loss: 1.4141\tValidation Loss: 1.6876\n",
      "Counter train preds: Counter({0: 29, 1: 28, 3: 10, 2: 6, 5: 2})\tCounter val preds: Counter({1: 25})\n",
      "Epoch train QWK: 0.475\tval QWK: 0.000\n",
      "Epoch 4/9\n",
      "----------\n"
     ]
    },
    {
     "name": "stderr",
     "output_type": "stream",
     "text": [
      "\n",
      " 60%|██████    | 3/5 [00:00<00:00,  3.46it/s]"
     ]
    },
    {
     "name": "stdout",
     "output_type": "stream",
     "text": [
      "Visualising input\n"
     ]
    },
    {
     "name": "stderr",
     "output_type": "stream",
     "text": [
      "100%|██████████| 5/5 [00:00<00:00,  7.39it/s]\n",
      "100%|██████████| 2/2 [00:00<00:00,  2.65it/s]"
     ]
    },
    {
     "name": "stdout",
     "output_type": "stream",
     "text": [
      "Training Loss: 1.3655\tValidation Loss: 1.6186\n",
      "Counter train preds: Counter({1: 35, 0: 26, 3: 7, 5: 4, 2: 3})\tCounter val preds: Counter({1: 21, 2: 3, 0: 1})\n",
      "Epoch train QWK: 0.395\tval QWK: 0.012\n",
      "Epoch 5/9\n",
      "----------\n"
     ]
    },
    {
     "name": "stderr",
     "output_type": "stream",
     "text": [
      "\n",
      "100%|██████████| 5/5 [00:00<00:00,  4.61it/s]"
     ]
    },
    {
     "name": "stdout",
     "output_type": "stream",
     "text": [
      "Visualising input\n"
     ]
    },
    {
     "name": "stderr",
     "output_type": "stream",
     "text": [
      "100%|██████████| 5/5 [00:00<00:00,  7.47it/s]\n",
      "100%|██████████| 2/2 [00:00<00:00,  3.97it/s]"
     ]
    },
    {
     "name": "stdout",
     "output_type": "stream",
     "text": [
      "Training Loss: 1.3591\tValidation Loss: 1.6763\n",
      "Counter train preds: Counter({1: 32, 0: 23, 3: 11, 2: 8, 5: 1})\tCounter val preds: Counter({2: 17, 0: 6, 1: 2})\n",
      "Epoch train QWK: 0.413\tval QWK: 0.313\n",
      "Epoch 6/9\n",
      "----------\n"
     ]
    },
    {
     "name": "stderr",
     "output_type": "stream",
     "text": [
      "\n",
      "100%|██████████| 5/5 [00:00<00:00,  4.59it/s]"
     ]
    },
    {
     "name": "stdout",
     "output_type": "stream",
     "text": [
      "Visualising input\n"
     ]
    },
    {
     "name": "stderr",
     "output_type": "stream",
     "text": [
      "100%|██████████| 5/5 [00:00<00:00,  7.40it/s]\n",
      "100%|██████████| 2/2 [00:00<00:00,  4.08it/s]"
     ]
    },
    {
     "name": "stdout",
     "output_type": "stream",
     "text": [
      "Training Loss: 1.3191\tValidation Loss: 1.6529\n",
      "Counter train preds: Counter({1: 34, 0: 26, 3: 5, 2: 4, 4: 4, 5: 2})\tCounter val preds: Counter({1: 12, 2: 9, 5: 2, 0: 2})\n",
      "Epoch train QWK: 0.424\tval QWK: 0.269\n",
      "Epoch 7/9\n",
      "----------\n"
     ]
    },
    {
     "name": "stderr",
     "output_type": "stream",
     "text": [
      "\n",
      "100%|██████████| 5/5 [00:00<00:00,  7.96it/s]"
     ]
    },
    {
     "name": "stdout",
     "output_type": "stream",
     "text": [
      "Visualising input\n"
     ]
    },
    {
     "name": "stderr",
     "output_type": "stream",
     "text": [
      "\n",
      "100%|██████████| 2/2 [00:00<00:00,  3.92it/s]"
     ]
    },
    {
     "name": "stdout",
     "output_type": "stream",
     "text": [
      "Training Loss: 1.3050\tValidation Loss: 1.7019\n",
      "Counter train preds: Counter({1: 36, 0: 21, 2: 6, 3: 5, 5: 4, 4: 3})\tCounter val preds: Counter({2: 13, 5: 7, 4: 3, 0: 2})\n",
      "Epoch train QWK: 0.454\tval QWK: 0.364\n",
      "Epoch 8/9\n",
      "----------\n"
     ]
    },
    {
     "name": "stderr",
     "output_type": "stream",
     "text": [
      "\n",
      " 60%|██████    | 3/5 [00:00<00:00,  3.98it/s]"
     ]
    },
    {
     "name": "stdout",
     "output_type": "stream",
     "text": [
      "Visualising input\n"
     ]
    },
    {
     "name": "stderr",
     "output_type": "stream",
     "text": [
      "100%|██████████| 5/5 [00:00<00:00,  7.99it/s]\n",
      "100%|██████████| 2/2 [00:00<00:00,  4.10it/s]"
     ]
    },
    {
     "name": "stdout",
     "output_type": "stream",
     "text": [
      "Training Loss: 1.2645\tValidation Loss: 1.7029\n",
      "Counter train preds: Counter({1: 36, 0: 22, 5: 7, 2: 5, 3: 4, 4: 1})\tCounter val preds: Counter({2: 10, 5: 5, 0: 5, 1: 4, 3: 1})\n",
      "Epoch train QWK: 0.461\tval QWK: 0.309\n",
      "Epoch 9/9\n",
      "----------\n"
     ]
    },
    {
     "name": "stderr",
     "output_type": "stream",
     "text": [
      "\n",
      "100%|██████████| 5/5 [00:00<00:00,  4.60it/s]"
     ]
    },
    {
     "name": "stdout",
     "output_type": "stream",
     "text": [
      "Visualising input\n"
     ]
    },
    {
     "name": "stderr",
     "output_type": "stream",
     "text": [
      "100%|██████████| 5/5 [00:00<00:00,  7.52it/s]\n",
      "100%|██████████| 2/2 [00:00<00:00,  4.03it/s]"
     ]
    },
    {
     "name": "stdout",
     "output_type": "stream",
     "text": [
      "Training Loss: 1.2169\tValidation Loss: 2.0975\n",
      "Counter train preds: Counter({1: 33, 0: 22, 2: 9, 3: 6, 5: 5})\tCounter val preds: Counter({4: 14, 5: 8, 0: 3})\n",
      "Epoch train QWK: 0.530\tval QWK: 0.218\n"
     ]
    },
    {
     "name": "stderr",
     "output_type": "stream",
     "text": [
      "\n"
     ]
    }
   ],
   "source": [
    "checkpoint = \"test_fold_{}.pth\"\n",
    "for fold in range(CFG.n_fold):\n",
    "    train_df = folds[folds[\"fold\"] != fold].copy()\n",
    "    val_df = folds[folds[\"fold\"] == fold].copy()\n",
    "    \n",
    "    train_ds = TrainDataset(train_df, transform=get_transforms(data=\"train\"), debug=False)\n",
    "    val_ds = TrainDataset(val_df, transform=get_transforms(data=\"valid\"), debug=False)\n",
    "    \n",
    "    model = TinyV2ConvNet(CFG.target_size)\n",
    "    # initialize bias in the model\n",
    "    cls_probas = (train_df[CFG.target_col].value_counts() / len(train_df)).values\n",
    "    model = init_last_layer_bias(model, cls_probas)\n",
    "    \n",
    "    criterion = nn.CrossEntropyLoss()\n",
    "    optimizer = torch.optim.Adam(model.parameters(), lr=CFG.lr, amsgrad=False)\n",
    "    print(f\"Train with CV, on fold {fold}\")\n",
    "    model = train_eval_loop(train_ds, val_ds, model, optimizer, criterion, tb_tag=fold)\n",
    "    torch.save(model.state_dict(), MODEL_PATH/checkpoint.format(fold))"
   ]
  },
  {
   "cell_type": "code",
   "execution_count": null,
   "metadata": {},
   "outputs": [],
   "source": []
  }
 ],
 "metadata": {
  "kernelspec": {
   "display_name": "chestxray",
   "language": "python",
   "name": "chestxray"
  },
  "language_info": {
   "codemirror_mode": {
    "name": "ipython",
    "version": 3
   },
   "file_extension": ".py",
   "mimetype": "text/x-python",
   "name": "python",
   "nbconvert_exporter": "python",
   "pygments_lexer": "ipython3",
   "version": "3.7.7"
  },
  "toc-autonumbering": false,
  "toc-showcode": false,
  "toc-showmarkdowntxt": false
 },
 "nbformat": 4,
 "nbformat_minor": 4
}
