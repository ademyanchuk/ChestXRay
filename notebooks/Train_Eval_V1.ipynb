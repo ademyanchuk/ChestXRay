{
 "cells": [
  {
   "cell_type": "markdown",
   "metadata": {},
   "source": [
    "### Imports"
   ]
  },
  {
   "cell_type": "code",
   "execution_count": 1,
   "metadata": {},
   "outputs": [],
   "source": [
    "%load_ext autoreload\n",
    "%autoreload 2"
   ]
  },
  {
   "cell_type": "code",
   "execution_count": 2,
   "metadata": {},
   "outputs": [],
   "source": [
    "import random\n",
    "import os\n",
    "from datetime import datetime\n",
    "from collections import Counter\n",
    "import numpy as np\n",
    "import pandas as pd\n",
    "import matplotlib.pyplot as plt\n",
    "from tqdm import tqdm\n",
    "\n",
    "import torch\n",
    "import torch.nn as nn\n",
    "import torch.nn.functional as F\n",
    "from torch.utils.data import DataLoader, Dataset\n",
    "from torch.utils.tensorboard import SummaryWriter\n",
    "from torch.optim.lr_scheduler import ReduceLROnPlateau, OneCycleLR\n",
    "import torchvision\n",
    "from torchvision import models\n",
    "from apex import amp\n",
    "\n",
    "from albumentations import Compose, Normalize\n",
    "from albumentations.pytorch import ToTensorV2, ToTensor\n",
    "\n",
    "from sklearn.metrics import cohen_kappa_score\n",
    "from sklearn.model_selection import StratifiedKFold\n",
    "from sklearn.metrics import confusion_matrix\n",
    "\n",
    "import cv2\n",
    "import skimage.io\n",
    "import IPython.display as display\n",
    "from PIL import Image\n",
    "\n",
    "plt.ion()\n",
    "%matplotlib inline\n",
    "%config InlineBackend.figure_format='retina'"
   ]
  },
  {
   "cell_type": "markdown",
   "metadata": {},
   "source": [
    "#### Local Imports"
   ]
  },
  {
   "cell_type": "code",
   "execution_count": 3,
   "metadata": {},
   "outputs": [],
   "source": [
    "# Paths\n",
    "from chestxray.config import (PANDA_PATH,\n",
    "                              MODEL_PATH,\n",
    "                              PANDA_IMGS,\n",
    "                              PANDA_MASKS,\n",
    "                              TRAIN_CSV)\n",
    "# Competition related config\n",
    "from chestxray.config import CFG\n",
    "\n",
    "# Misc\n",
    "from chestxray.misc import seed_torch\n",
    "\n",
    "# Datasets\n",
    "from chestxray.datasets import get_transforms, TrainDataset, TilesTrainDataset, LazyTilesDataset\n",
    "\n",
    "# Viz\n",
    "from chestxray.visualize import (show_from_ids, show_batch, imshow, \n",
    "                                 plot_classes_preds, reverse_show_img, \n",
    "                                 plot_confusion_matrix)\n",
    "\n",
    "# Nets\n",
    "from chestxray.nets import TinyV2ConvNet, make_RN50_cls, freeze_botom\n",
    "from chestxray.model_utils import (trainable_params, cce_loss_at_init, \n",
    "                                   init_last_layer_bias)\n",
    "# Losses\n",
    "from chestxray.losses import LabelSmoothSoftmaxCEV1"
   ]
  },
  {
   "cell_type": "code",
   "execution_count": 4,
   "metadata": {},
   "outputs": [
    {
     "name": "stdout",
     "output_type": "stream",
     "text": [
      "cuda:0\n"
     ]
    }
   ],
   "source": [
    "device = torch.device(\"cuda:0\" if torch.cuda.is_available() else \"cpu\")\n",
    "print(device)"
   ]
  },
  {
   "cell_type": "code",
   "execution_count": 5,
   "metadata": {},
   "outputs": [
    {
     "name": "stdout",
     "output_type": "stream",
     "text": [
      "_CudaDeviceProperties(name='GeForce RTX 2070 SUPER', major=7, minor=5, total_memory=7979MB, multi_processor_count=40)\n"
     ]
    }
   ],
   "source": [
    "print(torch.cuda.get_device_properties(device))"
   ]
  },
  {
   "cell_type": "markdown",
   "metadata": {},
   "source": [
    "### Fix Random Seed"
   ]
  },
  {
   "cell_type": "code",
   "execution_count": 6,
   "metadata": {},
   "outputs": [],
   "source": [
    "seed_torch()"
   ]
  },
  {
   "cell_type": "markdown",
   "metadata": {},
   "source": [
    "### Load Data"
   ]
  },
  {
   "cell_type": "code",
   "execution_count": 7,
   "metadata": {},
   "outputs": [
    {
     "data": {
      "text/html": [
       "<div>\n",
       "<style scoped>\n",
       "    .dataframe tbody tr th:only-of-type {\n",
       "        vertical-align: middle;\n",
       "    }\n",
       "\n",
       "    .dataframe tbody tr th {\n",
       "        vertical-align: top;\n",
       "    }\n",
       "\n",
       "    .dataframe thead th {\n",
       "        text-align: right;\n",
       "    }\n",
       "</style>\n",
       "<table border=\"1\" class=\"dataframe\">\n",
       "  <thead>\n",
       "    <tr style=\"text-align: right;\">\n",
       "      <th></th>\n",
       "      <th>image_id</th>\n",
       "      <th>data_provider</th>\n",
       "      <th>isup_grade</th>\n",
       "      <th>gleason_score</th>\n",
       "    </tr>\n",
       "  </thead>\n",
       "  <tbody>\n",
       "    <tr>\n",
       "      <th>0</th>\n",
       "      <td>0005f7aaab2800f6170c399693a96917</td>\n",
       "      <td>karolinska</td>\n",
       "      <td>0</td>\n",
       "      <td>0+0</td>\n",
       "    </tr>\n",
       "    <tr>\n",
       "      <th>1</th>\n",
       "      <td>000920ad0b612851f8e01bcc880d9b3d</td>\n",
       "      <td>karolinska</td>\n",
       "      <td>0</td>\n",
       "      <td>0+0</td>\n",
       "    </tr>\n",
       "    <tr>\n",
       "      <th>2</th>\n",
       "      <td>0018ae58b01bdadc8e347995b69f99aa</td>\n",
       "      <td>radboud</td>\n",
       "      <td>4</td>\n",
       "      <td>4+4</td>\n",
       "    </tr>\n",
       "    <tr>\n",
       "      <th>3</th>\n",
       "      <td>001c62abd11fa4b57bf7a6c603a11bb9</td>\n",
       "      <td>karolinska</td>\n",
       "      <td>4</td>\n",
       "      <td>4+4</td>\n",
       "    </tr>\n",
       "    <tr>\n",
       "      <th>4</th>\n",
       "      <td>001d865e65ef5d2579c190a0e0350d8f</td>\n",
       "      <td>karolinska</td>\n",
       "      <td>0</td>\n",
       "      <td>0+0</td>\n",
       "    </tr>\n",
       "  </tbody>\n",
       "</table>\n",
       "</div>"
      ],
      "text/plain": [
       "                           image_id data_provider  isup_grade gleason_score\n",
       "0  0005f7aaab2800f6170c399693a96917    karolinska           0           0+0\n",
       "1  000920ad0b612851f8e01bcc880d9b3d    karolinska           0           0+0\n",
       "2  0018ae58b01bdadc8e347995b69f99aa       radboud           4           4+4\n",
       "3  001c62abd11fa4b57bf7a6c603a11bb9    karolinska           4           4+4\n",
       "4  001d865e65ef5d2579c190a0e0350d8f    karolinska           0           0+0"
      ]
     },
     "execution_count": 7,
     "metadata": {},
     "output_type": "execute_result"
    }
   ],
   "source": [
    "TRAIN_DF = pd.read_csv(TRAIN_CSV)\n",
    "TRAIN_DF.head()"
   ]
  },
  {
   "cell_type": "code",
   "execution_count": 8,
   "metadata": {},
   "outputs": [
    {
     "data": {
      "image/png": "[encoded data removed]",
      "text/plain": [
       "<Figure size 432x288 with 1 Axes>"
      ]
     },
     "metadata": {
      "image/png": {
       "height": 249,
       "width": 381
      },
      "needs_background": "light"
     },
     "output_type": "display_data"
    }
   ],
   "source": [
    "_ = TRAIN_DF[CFG.target_col].hist()"
   ]
  },
  {
   "cell_type": "markdown",
   "metadata": {},
   "source": [
    "### Define Global Variables"
   ]
  },
  {
   "cell_type": "code",
   "execution_count": 9,
   "metadata": {},
   "outputs": [
    {
     "name": "stdout",
     "output_type": "stream",
     "text": [
      "15-05-2020-20-37\n"
     ]
    }
   ],
   "source": [
    "CFG.debug = False\n",
    "now = datetime.now()\n",
    "\n",
    "EXP_NAME = now.strftime(\"%d-%m-%Y-%H-%M\")\n",
    "print(EXP_NAME)"
   ]
  },
  {
   "cell_type": "code",
   "execution_count": 10,
   "metadata": {},
   "outputs": [],
   "source": [
    "# default `log_dir` is \"runs\" - we'll be more specific here\n",
    "writer = SummaryWriter(f'runs/{EXP_NAME}')"
   ]
  },
  {
   "cell_type": "code",
   "execution_count": 11,
   "metadata": {},
   "outputs": [],
   "source": [
    "LOSSES = {\n",
    "    \"cce\" : nn.CrossEntropyLoss(),\n",
    "    \"ls_soft_ce\" : LabelSmoothSoftmaxCEV1(),\n",
    "}"
   ]
  },
  {
   "cell_type": "code",
   "execution_count": 12,
   "metadata": {},
   "outputs": [],
   "source": [
    "# key - string, value - tuple(sceduler, if it epoch type)\n",
    "epoch_type = True\n",
    "SCHEDULERS = {\n",
    "    \"reduce_on_plateau\" : (ReduceLROnPlateau, epoch_type),\n",
    "    \"one_cycle\": (OneCycleLR, not epoch_type),\n",
    "}"
   ]
  },
  {
   "cell_type": "markdown",
   "metadata": {},
   "source": [
    "### Train Eval Loop"
   ]
  },
  {
   "cell_type": "code",
   "execution_count": 13,
   "metadata": {},
   "outputs": [],
   "source": [
    "def train_eval_loop(train_dataloader, val_dataloader, model, optimizer, criterion, scheduler, sch_is_epoch_type,\n",
    "                    num_epochs=CFG.epoch, device=device, tb_tag=\"\", model_name=\"debug\"):\n",
    "    \"\"\"Split it into the set of inner functions to siplify the loop itself\"\"\"\n",
    "    # Inner Functions\n",
    "    # write to TensorBoard helpers\n",
    "    def weights_to_tb(step=0):\n",
    "        conv1_weight = model.conv1.weight.data.to(\"cpu\")\n",
    "        img_grid = torchvision.utils.make_grid(conv1_weight, normalize=True)\n",
    "        writer.add_image(tag=f\"Model conv1 weights {tb_tag}\", img_tensor=img_grid, global_step=step)\n",
    "    \n",
    "    def input_img_to_tb(inputs, step):\n",
    "        img = reverse_show_img(inputs[0])\n",
    "        writer.add_image(tag=f\"Input Image {tb_tag}\", img_tensor=img, global_step=step, dataformats=\"HWC\")\n",
    "        del img\n",
    "    \n",
    "    def preds_to_tb(outputs, inputs, labels, step):\n",
    "        figure=plot_classes_preds(outputs.to('cpu'), inputs.to('cpu'), labels.to('cpu'))\n",
    "        writer.add_figure(tag=f\"Actuals vs Predictions {tb_tag}\", figure=figure, global_step=step)\n",
    "        \n",
    "    def metrics_to_tb(mode, train_loss, train_score, val_loss, val_score, step):\n",
    "        writer.add_text(f\"On best {mode} save:\", \n",
    "                        f\"tr_loss: {train_loss:.4f}, tr_qwk: {train_score:.4f}, val_loss: {val_loss:.4f}, val_qwk: {val_score:.4f}\", \n",
    "                        global_step=step)\n",
    "    \n",
    "    def conf_matrix_to_tb(val_epoch_labels, val_epoch_preds, step):\n",
    "        writer.add_figure(tag=f\"Confusion matrix {tb_tag}\", figure=plot_confusion_matrix(val_epoch_labels, val_epoch_preds),\n",
    "                          global_step=step)\n",
    "        \n",
    "        \n",
    "    \n",
    "    # Train/Eval Loop\n",
    "    # write first layer weights to TB @ init phase\n",
    "    if not CFG.debug:\n",
    "        weights_to_tb()\n",
    "    \n",
    "    # prepare model and optimizer\n",
    "    model.to(device)\n",
    "    if CFG.use_amp: # automatic mixed precision\n",
    "        model, optimizer = amp.initialize(model, optimizer, opt_level=\"O1\")\n",
    "    # define epochs numbers to look into input images and predictions, no more than 10 times per full training\n",
    "    vis_step = np.ceil(num_epochs/10).astype(int)\n",
    "    visual_epochs = list(range(0, num_epochs, vis_step))\n",
    "    # metrics to wathch for model checkpointing\n",
    "    best_qwk = -100\n",
    "    best_val_loss = np.inf\n",
    "    \n",
    "    for epoch in range(num_epochs):\n",
    "        print(f'Epoch {epoch}/{num_epochs - 1}')\n",
    "        print('=' * 10)\n",
    "\n",
    "        # Training Phase\n",
    "        # Set training mode\n",
    "        model.train();\n",
    "        train_running_loss = 0.0\n",
    "        train_epoch_preds, train_epoch_labels = [], []\n",
    "\n",
    "        # Iterate over train data.\n",
    "        tk_train = tqdm(enumerate(train_dataloader), total=len(train_dataloader))\n",
    "        for i, data in tk_train:\n",
    "            # Calculate global step for TensorBoard\n",
    "            train_global_step = epoch * len(train_dataloader) + i\n",
    "\n",
    "            inputs, labels = data\n",
    "            # Visualize input before model at the middle of epoch:\n",
    "            if epoch in visual_epochs and i == len(train_dataloader) // 2:\n",
    "                input_img_to_tb(inputs, train_global_step)\n",
    "\n",
    "            inputs = inputs.to(device)\n",
    "            labels = labels.to(device)\n",
    "            # zero the parameter gradients\n",
    "            optimizer.zero_grad()\n",
    "\n",
    "            outputs = model(inputs)\n",
    "            loss = criterion(outputs, labels)\n",
    "            if CFG.use_amp:\n",
    "                with amp.scale_loss(loss, optimizer) as scaled_loss:\n",
    "                    scaled_loss.backward()\n",
    "            else:\n",
    "                loss.backward()\n",
    "            optimizer.step()\n",
    "            # loss is mean across batch, divide by number of steps in epoch (so loss is normalized)\n",
    "            train_running_loss += loss.item() / len(train_dataloader)\n",
    "            # tensorboarding loss\n",
    "            writer.add_scalar(tag=f\"Training loss {tb_tag}\", scalar_value=loss.item(), global_step=train_global_step)\n",
    "\n",
    "            # collect train preds and labels for QWK\n",
    "            train_epoch_preds.append(outputs.data.to('cpu').numpy().argmax(1))\n",
    "            train_epoch_labels.append(labels.to('cpu').numpy())\n",
    "            # Add Batch Type Scheduler step here:\n",
    "            if not sch_is_epoch_type:\n",
    "                scheduler.step()\n",
    "        # Validation Phase\n",
    "        # Set evaluation mode\n",
    "        model.eval();\n",
    "        val_running_loss = 0.0\n",
    "        val_epoch_preds, val_epoch_labels = [], []\n",
    "        # Iterate over val data\n",
    "        tk_val = tqdm(enumerate(val_dataloader), total=len(val_dataloader))\n",
    "        for j, data in tk_val:\n",
    "            # Calculate global step\n",
    "            val_global_step = epoch * len(val_dataloader) + j\n",
    "            inputs, labels = data\n",
    "            inputs = inputs.to(device)\n",
    "            labels = labels.to(device)\n",
    "            with torch.no_grad():\n",
    "                outputs = model(inputs)\n",
    "            loss = criterion(outputs, labels)\n",
    "            val_running_loss += loss.item() / len(val_dataloader)\n",
    "            # tensorboarding loss\n",
    "            writer.add_scalar(tag=f\"Validation loss {tb_tag}\", scalar_value=loss.item(), global_step=val_global_step)\n",
    "\n",
    "            # collect validation preds and labels for QWK\n",
    "            val_epoch_preds.append(outputs.data.to('cpu').numpy().argmax(1))\n",
    "            val_epoch_labels.append(labels.to('cpu').numpy())\n",
    "\n",
    "            # visualise predictions for 0th validation batch\n",
    "            if epoch in visual_epochs and j == 0:\n",
    "                preds_to_tb(outputs, inputs, labels, val_global_step)\n",
    "        \n",
    "        # Epoch type Schedulers\n",
    "        if sch_is_epoch_type:\n",
    "            scheduler.step(val_running_loss)\n",
    "        # Write lr to TBD\n",
    "        if CFG.finetune == \"1stage\":\n",
    "            writer.add_scalar(tag=f\"lr Interim {tb_tag}:\", scalar_value=optimizer.param_groups[0][\"lr\"], global_step=train_global_step)\n",
    "            writer.add_scalar(tag=f\"lr Classifier {tb_tag}:\", scalar_value=optimizer.param_groups[1][\"lr\"], global_step=train_global_step)\n",
    "            \n",
    "        else:\n",
    "            writer.add_scalar(tag=f\"lr {tb_tag}:\", scalar_value=optimizer.param_groups[0][\"lr\"], global_step=train_global_step)\n",
    "        \n",
    "        # \"End of Epoch\" Phase\n",
    "        print(f'Training Loss: {train_running_loss:.4f}\\tValidation Loss: {val_running_loss:.4f}')\n",
    "        \n",
    "        # Calculate epoch predictions distribution\n",
    "        train_epoch_preds = np.concatenate(train_epoch_preds)\n",
    "        train_epoch_labels = np.concatenate(train_epoch_labels)\n",
    "        val_epoch_preds = np.concatenate(val_epoch_preds)\n",
    "        val_epoch_labels = np.concatenate(val_epoch_labels)\n",
    "        print(f'Counter train preds: {Counter(train_epoch_preds)}\\tCounter val preds: {Counter(val_epoch_preds)}')\n",
    "        # Calculate epoch QWK\n",
    "        train_qwk = cohen_kappa_score(train_epoch_preds, train_epoch_labels, weights='quadratic')\n",
    "        val_qwk = cohen_kappa_score(val_epoch_preds, val_epoch_labels, weights='quadratic')\n",
    "        print(f\"Epoch train QWK: {train_qwk:.3f}\\tval QWK: {val_qwk:.3f}\")\n",
    "        writer.add_scalar(tag=f\"Training QWK {tb_tag}\", scalar_value=train_qwk, global_step=epoch)\n",
    "        writer.add_scalar(tag=f\"Validation QWK {tb_tag}\", scalar_value=val_qwk, global_step=epoch)\n",
    "        \n",
    "        # On the best val loss do:\n",
    "        if val_running_loss < best_val_loss:\n",
    "            # update best and save model\n",
    "            best_val_loss = val_running_loss\n",
    "            print(f'  Epoch {epoch} - Save Best Loss: {best_val_loss:.4f} Model')\n",
    "            torch.save(model.state_dict(), f'{MODEL_PATH}/{model_name}_loss.pth')\n",
    "            # add losses as text to TB\n",
    "            metrics_to_tb(\"loss\", train_running_loss, train_qwk, val_running_loss, val_qwk, val_global_step)\n",
    "            # add image of conv1 weights to TB\n",
    "            if not CFG.debug:\n",
    "                weights_to_tb(val_global_step)\n",
    "            # add confusion matrix to TB\n",
    "            conf_matrix_to_tb(val_epoch_labels, val_epoch_preds, val_global_step)\n",
    "        # On the best QWK\n",
    "        if val_qwk > best_qwk:\n",
    "            # update best and save model\n",
    "            best_qwk = val_qwk\n",
    "            print(f'  Epoch {epoch} - Save Best QWK: {best_qwk:.4f} Model')\n",
    "            torch.save(model.state_dict(), f'{MODEL_PATH}/{model_name}_qwk.pth')\n",
    "            # add losses and qwk as text to TB\n",
    "            metrics_to_tb(\"qwk\", train_running_loss, train_qwk, val_running_loss, val_qwk, val_global_step)\n",
    "            # add image of conv1 weights to TB\n",
    "            if not CFG.debug:\n",
    "                weights_to_tb(val_global_step)  \n",
    "            # add confusion matrix to TB\n",
    "            conf_matrix_to_tb(val_epoch_labels, val_epoch_preds, val_global_step)\n",
    "    # End of loop\n",
    "    writer.close()"
   ]
  },
  {
   "cell_type": "markdown",
   "metadata": {},
   "source": [
    "### Prepare CV - strategy"
   ]
  },
  {
   "cell_type": "code",
   "execution_count": 14,
   "metadata": {},
   "outputs": [],
   "source": [
    "if CFG.debug:\n",
    "    folds_fn = \"folds_db.csv\"\n",
    "    try: \n",
    "        folds = pd.read_csv(PANDA_PATH/folds_fn)\n",
    "    except FileNotFoundError:\n",
    "        folds = TRAIN_DF.sample(n=100, random_state=CFG.seed).reset_index(drop=True).copy()\n",
    "else:\n",
    "    folds_fn = \"folds.csv\"\n",
    "    try:\n",
    "        folds = pd.read_csv(PANDA_PATH/folds_fn)\n",
    "    except FileNotFoundError:\n",
    "        folds = TRAIN_DF.copy()"
   ]
  },
  {
   "cell_type": "code",
   "execution_count": 15,
   "metadata": {},
   "outputs": [],
   "source": [
    "if not (PANDA_PATH/folds_fn).exists():\n",
    "    train_labels = folds[CFG.target_col].values\n",
    "    kf = StratifiedKFold(n_splits=CFG.n_fold, shuffle=True, random_state=CFG.seed)\n",
    "    for fold, (train_index, val_index) in enumerate(kf.split(folds.values, train_labels)):\n",
    "        folds.loc[val_index, 'fold'] = int(fold)\n",
    "    folds['fold'] = folds['fold'].astype(int)\n",
    "    folds.to_csv(PANDA_PATH/folds_fn, index=None)\n",
    "    folds.head()"
   ]
  },
  {
   "cell_type": "code",
   "execution_count": 16,
   "metadata": {},
   "outputs": [
    {
     "name": "stdout",
     "output_type": "stream",
     "text": [
      "<class 'pandas.core.frame.DataFrame'>\n",
      "RangeIndex: 10616 entries, 0 to 10615\n",
      "Data columns (total 5 columns):\n",
      " #   Column         Non-Null Count  Dtype \n",
      "---  ------         --------------  ----- \n",
      " 0   image_id       10616 non-null  object\n",
      " 1   data_provider  10616 non-null  object\n",
      " 2   isup_grade     10616 non-null  int64 \n",
      " 3   gleason_score  10616 non-null  object\n",
      " 4   fold           10616 non-null  int64 \n",
      "dtypes: int64(2), object(3)\n",
      "memory usage: 414.8+ KB\n"
     ]
    }
   ],
   "source": [
    "folds.info()"
   ]
  },
  {
   "cell_type": "markdown",
   "metadata": {},
   "source": [
    "### Debug Runs"
   ]
  },
  {
   "cell_type": "code",
   "execution_count": 18,
   "metadata": {},
   "outputs": [],
   "source": [
    "# default `log_dir` is \"runs\" - we'll be more specific here\n",
    "writer = SummaryWriter(f'runs/debug')"
   ]
  },
  {
   "cell_type": "code",
   "execution_count": 19,
   "metadata": {},
   "outputs": [
    {
     "name": "stdout",
     "output_type": "stream",
     "text": [
      "debug: False use_amp: True img_height: 512 img_width: 512 lr: 0.0001 batch_size: 16 epoch: 50 seed: 1982 target_size: 6 img_id_col: image_id target_col: isup_grade n_fold: 4 tiff_layer: 1 loss: ls_soft_ce\n"
     ]
    }
   ],
   "source": [
    "print(\" \".join([f\"{key}: {val}\" for key, val in CFG.__dict__.items() if not key.startswith(\"__\")]))"
   ]
  },
  {
   "cell_type": "code",
   "execution_count": 18,
   "metadata": {},
   "outputs": [],
   "source": [
    "writer.add_text(\"Experiment Description:\", \" \".join([f\"{key}: {val}\" for key, val in CFG.__dict__.items() if not key.startswith(\"__\")]))"
   ]
  },
  {
   "cell_type": "code",
   "execution_count": 22,
   "metadata": {
    "collapsed": true,
    "jupyter": {
     "outputs_hidden": true
    }
   },
   "outputs": [
    {
     "name": "stdout",
     "output_type": "stream",
     "text": [
      "Selected optimization level O1:  Insert automatic casts around Pytorch functions and Tensor methods.\n",
      "\n",
      "Defaults for this optimization level are:\n",
      "enabled                : True\n",
      "opt_level              : O1\n",
      "cast_model_type        : None\n",
      "patch_torch_functions  : True\n",
      "keep_batchnorm_fp32    : None\n",
      "master_weights         : None\n",
      "loss_scale             : dynamic\n",
      "Processing user overrides (additional kwargs that are not None)...\n",
      "After processing overrides, optimization options are:\n",
      "enabled                : True\n",
      "opt_level              : O1\n",
      "cast_model_type        : None\n",
      "patch_torch_functions  : True\n",
      "keep_batchnorm_fp32    : None\n",
      "master_weights         : None\n",
      "loss_scale             : dynamic\n",
      "Warning:  multi_tensor_applier fused unscale kernel is unavailable, possibly because apex was installed without --cuda_ext --cpp_ext. Using Python fallback.  Original ImportError was: ModuleNotFoundError(\"No module named 'amp_C'\")\n",
      "Epoch 0/29\n",
      "==========\n"
     ]
    },
    {
     "name": "stderr",
     "output_type": "stream",
     "text": [
      "100%|██████████| 498/498 [02:31<00:00,  3.29it/s]\n",
      "100%|██████████| 166/166 [00:15<00:00, 10.67it/s]\n"
     ]
    },
    {
     "name": "stdout",
     "output_type": "stream",
     "text": [
      "Training Loss: 1.4133\tValidation Loss: 1.3378\n",
      "Counter train preds: Counter({0: 3171, 1: 2178, 5: 974, 3: 583, 4: 559, 2: 497})\tCounter val preds: Counter({1: 964, 0: 951, 2: 237, 4: 185, 3: 164, 5: 153})\n",
      "Epoch train QWK: 0.590\tval QWK: 0.636\n",
      "  Epoch 0 - Save Best Loss: 1.3378 Model\n",
      "Confusion matrix, without normalization\n",
      "[[612 104   1   1   2   3]\n",
      " [171 461  26   6   1   1]\n",
      " [ 38 220  61  10   4   2]\n",
      " [ 41  82  90  60  23  15]\n",
      " [ 50  69  31  37  95  31]\n",
      " [ 39  28  28  50  60 101]]\n",
      "  Epoch 0 - Save Best QWK: 0.6357 Model\n",
      "Confusion matrix, without normalization\n",
      "[[612 104   1   1   2   3]\n",
      " [171 461  26   6   1   1]\n",
      " [ 38 220  61  10   4   2]\n",
      " [ 41  82  90  60  23  15]\n",
      " [ 50  69  31  37  95  31]\n",
      " [ 39  28  28  50  60 101]]\n",
      "Epoch 1/29\n",
      "==========\n"
     ]
    },
    {
     "name": "stderr",
     "output_type": "stream",
     "text": [
      "100%|██████████| 498/498 [02:33<00:00,  3.24it/s]\n",
      "100%|██████████| 166/166 [00:14<00:00, 11.12it/s]\n"
     ]
    },
    {
     "name": "stdout",
     "output_type": "stream",
     "text": [
      "Training Loss: 1.3243\tValidation Loss: 1.2604\n",
      "Counter train preds: Counter({0: 3068, 1: 2105, 5: 931, 3: 659, 4: 614, 2: 585})\tCounter val preds: Counter({0: 1165, 5: 408, 1: 357, 2: 345, 3: 195, 4: 184})\n",
      "Epoch train QWK: 0.663\tval QWK: 0.723\n",
      "  Epoch 1 - Save Best Loss: 1.2604 Model\n",
      "Confusion matrix, without normalization\n",
      "[[694  10   2   1   7   9]\n",
      " [271 243 116  20  13   3]\n",
      " [ 64  69 137  37  19   9]\n",
      " [ 47  18  54  85  32  75]\n",
      " [ 51  14  22  32  88 106]\n",
      " [ 38   3  14  20  25 206]]\n",
      "  Epoch 1 - Save Best QWK: 0.7233 Model\n",
      "Confusion matrix, without normalization\n",
      "[[694  10   2   1   7   9]\n",
      " [271 243 116  20  13   3]\n",
      " [ 64  69 137  37  19   9]\n",
      " [ 47  18  54  85  32  75]\n",
      " [ 51  14  22  32  88 106]\n",
      " [ 38   3  14  20  25 206]]\n",
      "Epoch 2/29\n",
      "==========\n"
     ]
    },
    {
     "name": "stderr",
     "output_type": "stream",
     "text": [
      "100%|██████████| 498/498 [02:32<00:00,  3.26it/s]\n",
      "100%|██████████| 166/166 [00:14<00:00, 11.36it/s]\n"
     ]
    },
    {
     "name": "stdout",
     "output_type": "stream",
     "text": [
      "Training Loss: 1.2768\tValidation Loss: 1.2445\n",
      "Counter train preds: Counter({0: 2990, 1: 2062, 5: 903, 4: 712, 2: 654, 3: 641})\tCounter val preds: Counter({0: 988, 1: 664, 5: 486, 3: 310, 4: 129, 2: 77})\n",
      "Epoch train QWK: 0.694\tval QWK: 0.724\n",
      "  Epoch 2 - Save Best Loss: 1.2445 Model\n",
      "Confusion matrix, without normalization\n",
      "[[652  50   1   2   7  11]\n",
      " [178 413  27  28  11   9]\n",
      " [ 37 139  36  81  13  29]\n",
      " [ 43  31   6 118  19  94]\n",
      " [ 40  26   6  55  64 122]\n",
      " [ 38   5   1  26  15 221]]\n",
      "  Epoch 2 - Save Best QWK: 0.7243 Model\n",
      "Confusion matrix, without normalization\n",
      "[[652  50   1   2   7  11]\n",
      " [178 413  27  28  11   9]\n",
      " [ 37 139  36  81  13  29]\n",
      " [ 43  31   6 118  19  94]\n",
      " [ 40  26   6  55  64 122]\n",
      " [ 38   5   1  26  15 221]]\n",
      "Epoch 3/29\n",
      "==========\n"
     ]
    },
    {
     "name": "stderr",
     "output_type": "stream",
     "text": [
      "100%|██████████| 498/498 [02:32<00:00,  3.26it/s]\n",
      "100%|██████████| 166/166 [00:16<00:00, 10.25it/s]\n"
     ]
    },
    {
     "name": "stdout",
     "output_type": "stream",
     "text": [
      "Training Loss: 1.2524\tValidation Loss: 1.2349\n",
      "Counter train preds: Counter({0: 2952, 1: 2107, 5: 934, 3: 729, 4: 638, 2: 602})\tCounter val preds: Counter({1: 836, 0: 797, 5: 349, 3: 253, 4: 229, 2: 190})\n",
      "Epoch train QWK: 0.708\tval QWK: 0.764\n",
      "  Epoch 3 - Save Best Loss: 1.2349 Model\n",
      "Confusion matrix, without normalization\n",
      "[[583 127   1   0   7   5]\n",
      " [118 459  66  14   9   0]\n",
      " [ 22 150  84  61  10   8]\n",
      " [ 25  42  21 112  56  55]\n",
      " [ 21  46  14  38 112  82]\n",
      " [ 28  12   4  28  35 199]]\n",
      "  Epoch 3 - Save Best QWK: 0.7642 Model\n",
      "Confusion matrix, without normalization\n",
      "[[583 127   1   0   7   5]\n",
      " [118 459  66  14   9   0]\n",
      " [ 22 150  84  61  10   8]\n",
      " [ 25  42  21 112  56  55]\n",
      " [ 21  46  14  38 112  82]\n",
      " [ 28  12   4  28  35 199]]\n",
      "Epoch 4/29\n",
      "==========\n"
     ]
    },
    {
     "name": "stderr",
     "output_type": "stream",
     "text": [
      "100%|██████████| 498/498 [02:33<00:00,  3.25it/s]\n",
      "100%|██████████| 166/166 [00:15<00:00, 10.78it/s]"
     ]
    },
    {
     "name": "stdout",
     "output_type": "stream",
     "text": [
      "Training Loss: 1.2235\tValidation Loss: 1.2475\n",
      "Counter train preds: Counter({0: 2866, 1: 2110, 5: 923, 4: 713, 3: 677, 2: 673})\tCounter val preds: Counter({0: 1068, 1: 627, 4: 370, 3: 248, 5: 245, 2: 96})\n",
      "Epoch train QWK: 0.727\tval QWK: 0.739\n",
      "Epoch 5/29\n",
      "==========\n"
     ]
    },
    {
     "name": "stderr",
     "output_type": "stream",
     "text": [
      "\n",
      "100%|██████████| 498/498 [02:28<00:00,  3.35it/s]\n",
      "100%|██████████| 166/166 [00:14<00:00, 11.65it/s]\n"
     ]
    },
    {
     "name": "stdout",
     "output_type": "stream",
     "text": [
      "Training Loss: 1.2193\tValidation Loss: 1.2217\n",
      "Counter train preds: Counter({0: 2865, 1: 2125, 5: 921, 3: 716, 4: 712, 2: 623})\tCounter val preds: Counter({1: 887, 0: 850, 3: 307, 4: 232, 2: 218, 5: 160})\n",
      "Epoch train QWK: 0.735\tval QWK: 0.727\n",
      "  Epoch 5 - Save Best Loss: 1.2217 Model\n",
      "Confusion matrix, without normalization\n",
      "[[616  87   2   3   9   6]\n",
      " [134 488  24  17   3   0]\n",
      " [ 20 209  74  22   7   3]\n",
      " [ 28  46  73 130  19  15]\n",
      " [ 26  48  24  68 123  24]\n",
      " [ 26   9  21  67  71 112]]\n",
      "Epoch 6/29\n",
      "==========\n"
     ]
    },
    {
     "name": "stderr",
     "output_type": "stream",
     "text": [
      "100%|██████████| 498/498 [02:31<00:00,  3.29it/s]\n",
      "100%|██████████| 166/166 [00:15<00:00, 10.50it/s]"
     ]
    },
    {
     "name": "stdout",
     "output_type": "stream",
     "text": [
      "Training Loss: 1.1916\tValidation Loss: 1.2237\n",
      "Counter train preds: Counter({0: 2830, 1: 2097, 5: 913, 3: 743, 4: 722, 2: 657})\tCounter val preds: Counter({1: 895, 0: 872, 3: 277, 5: 261, 2: 209, 4: 140})\n",
      "Epoch train QWK: 0.751\tval QWK: 0.734\n",
      "Epoch 7/29\n",
      "==========\n"
     ]
    },
    {
     "name": "stderr",
     "output_type": "stream",
     "text": [
      "\n",
      "100%|██████████| 498/498 [02:29<00:00,  3.32it/s]\n",
      "100%|██████████| 166/166 [00:14<00:00, 11.43it/s]"
     ]
    },
    {
     "name": "stdout",
     "output_type": "stream",
     "text": [
      "Training Loss: 1.1780\tValidation Loss: 1.2794\n",
      "Counter train preds: Counter({0: 2802, 1: 2125, 5: 923, 4: 728, 3: 724, 2: 660})\tCounter val preds: Counter({0: 1195, 1: 461, 5: 338, 4: 308, 2: 241, 3: 111})\n",
      "Epoch train QWK: 0.760\tval QWK: 0.724\n",
      "Epoch 8/29\n",
      "==========\n"
     ]
    },
    {
     "name": "stderr",
     "output_type": "stream",
     "text": [
      "\n",
      "  6%|▋         | 32/498 [00:10<02:30,  3.10it/s]"
     ]
    },
    {
     "name": "stdout",
     "output_type": "stream",
     "text": [
      "Gradient overflow.  Skipping step, loss scaler 0 reducing loss scale to 131072.0\n"
     ]
    },
    {
     "name": "stderr",
     "output_type": "stream",
     "text": [
      "100%|██████████| 498/498 [02:35<00:00,  3.20it/s]\n",
      "100%|██████████| 166/166 [00:14<00:00, 11.45it/s]"
     ]
    },
    {
     "name": "stdout",
     "output_type": "stream",
     "text": [
      "Training Loss: 1.1537\tValidation Loss: 1.2326\n",
      "Counter train preds: Counter({0: 2766, 1: 2073, 5: 922, 4: 753, 2: 727, 3: 721})\tCounter val preds: Counter({0: 970, 1: 600, 4: 415, 5: 261, 2: 222, 3: 186})\n",
      "Epoch train QWK: 0.775\tval QWK: 0.742\n",
      "Epoch 9/29\n",
      "==========\n"
     ]
    },
    {
     "name": "stderr",
     "output_type": "stream",
     "text": [
      "\n",
      "100%|██████████| 498/498 [02:32<00:00,  3.27it/s]\n",
      "100%|██████████| 166/166 [00:17<00:00,  9.62it/s]"
     ]
    },
    {
     "name": "stdout",
     "output_type": "stream",
     "text": [
      "Epoch    10: reducing learning rate of group 0 to 5.0000e-05.\n",
      "Training Loss: 1.1571\tValidation Loss: 1.2449\n",
      "Counter train preds: Counter({0: 2746, 1: 2079, 5: 912, 3: 791, 4: 745, 2: 689})\tCounter val preds: Counter({1: 1001, 0: 814, 5: 246, 2: 221, 3: 219, 4: 153})\n",
      "Epoch train QWK: 0.767\tval QWK: 0.717\n",
      "Epoch 10/29\n",
      "==========\n"
     ]
    },
    {
     "name": "stderr",
     "output_type": "stream",
     "text": [
      "\n",
      "100%|██████████| 498/498 [02:31<00:00,  3.28it/s]\n",
      "100%|██████████| 166/166 [00:14<00:00, 11.80it/s]\n"
     ]
    },
    {
     "name": "stdout",
     "output_type": "stream",
     "text": [
      "Training Loss: 1.0783\tValidation Loss: 1.1852\n",
      "Counter train preds: Counter({0: 2674, 1: 2077, 5: 928, 4: 786, 3: 769, 2: 728})\tCounter val preds: Counter({0: 872, 1: 686, 5: 383, 4: 269, 3: 233, 2: 211})\n",
      "Epoch train QWK: 0.814\tval QWK: 0.762\n",
      "  Epoch 10 - Save Best Loss: 1.1852 Model\n",
      "Confusion matrix, without normalization\n",
      "[[633  62   2   5  11  10]\n",
      " [139 424  55  26  22   0]\n",
      " [ 22 136  95  43  22  17]\n",
      " [ 27  31  33 110  43  67]\n",
      " [ 27  27  19  35 128  77]\n",
      " [ 24   6   7  14  43 212]]\n",
      "Epoch 11/29\n",
      "==========\n"
     ]
    },
    {
     "name": "stderr",
     "output_type": "stream",
     "text": [
      "100%|██████████| 498/498 [02:26<00:00,  3.40it/s]\n",
      "100%|██████████| 166/166 [00:14<00:00, 11.79it/s]\n"
     ]
    },
    {
     "name": "stdout",
     "output_type": "stream",
     "text": [
      "Training Loss: 1.0550\tValidation Loss: 1.2170\n",
      "Counter train preds: Counter({0: 2645, 1: 2025, 5: 936, 4: 803, 2: 797, 3: 756})\tCounter val preds: Counter({0: 968, 1: 566, 5: 453, 2: 265, 3: 220, 4: 182})\n",
      "Epoch train QWK: 0.819\tval QWK: 0.766\n",
      "  Epoch 11 - Save Best QWK: 0.7663 Model\n",
      "Confusion matrix, without normalization\n",
      "[[662  45   2   4   3   7]\n",
      " [181 366  84  13  15   7]\n",
      " [ 35  99 121  45  16  19]\n",
      " [ 32  23  34 109  27  86]\n",
      " [ 31  29  15  38  97 103]\n",
      " [ 27   4   9  11  24 231]]\n",
      "Epoch 12/29\n",
      "==========\n"
     ]
    },
    {
     "name": "stderr",
     "output_type": "stream",
     "text": [
      "  8%|▊         | 42/498 [00:13<02:11,  3.47it/s]"
     ]
    },
    {
     "name": "stdout",
     "output_type": "stream",
     "text": [
      "Gradient overflow.  Skipping step, loss scaler 0 reducing loss scale to 131072.0\n"
     ]
    },
    {
     "name": "stderr",
     "output_type": "stream",
     "text": [
      "100%|██████████| 498/498 [02:27<00:00,  3.37it/s]\n",
      "100%|██████████| 166/166 [00:16<00:00, 10.31it/s]"
     ]
    },
    {
     "name": "stdout",
     "output_type": "stream",
     "text": [
      "Training Loss: 1.0295\tValidation Loss: 1.2241\n",
      "Counter train preds: Counter({0: 2631, 1: 2021, 5: 895, 2: 815, 4: 801, 3: 799})\tCounter val preds: Counter({0: 921, 1: 797, 5: 258, 3: 255, 4: 222, 2: 201})\n",
      "Epoch train QWK: 0.821\tval QWK: 0.754\n",
      "Epoch 13/29\n",
      "==========\n"
     ]
    },
    {
     "name": "stderr",
     "output_type": "stream",
     "text": [
      "\n",
      "100%|██████████| 498/498 [02:34<00:00,  3.22it/s]\n",
      "100%|██████████| 166/166 [00:14<00:00, 11.82it/s]"
     ]
    },
    {
     "name": "stdout",
     "output_type": "stream",
     "text": [
      "Training Loss: 1.0086\tValidation Loss: 1.2355\n",
      "Counter train preds: Counter({0: 2553, 1: 2047, 5: 940, 2: 815, 4: 813, 3: 794})\tCounter val preds: Counter({0: 995, 1: 581, 2: 387, 5: 293, 3: 214, 4: 184})\n",
      "Epoch train QWK: 0.843\tval QWK: 0.752\n",
      "Epoch 14/29\n",
      "==========\n"
     ]
    },
    {
     "name": "stderr",
     "output_type": "stream",
     "text": [
      "\n",
      "100%|██████████| 498/498 [02:30<00:00,  3.32it/s]\n",
      "100%|██████████| 166/166 [00:14<00:00, 11.78it/s]"
     ]
    },
    {
     "name": "stdout",
     "output_type": "stream",
     "text": [
      "Epoch    15: reducing learning rate of group 0 to 2.5000e-05.\n",
      "Training Loss: 0.9891\tValidation Loss: 1.2672\n",
      "Counter train preds: Counter({0: 2550, 1: 2031, 5: 919, 3: 833, 2: 832, 4: 797})\tCounter val preds: Counter({0: 854, 1: 731, 4: 385, 5: 364, 2: 190, 3: 130})\n",
      "Epoch train QWK: 0.844\tval QWK: 0.763\n",
      "Epoch 15/29\n",
      "==========\n"
     ]
    },
    {
     "name": "stderr",
     "output_type": "stream",
     "text": [
      "\n",
      "100%|██████████| 498/498 [02:34<00:00,  3.23it/s]\n",
      "100%|██████████| 166/166 [00:15<00:00, 10.71it/s]\n"
     ]
    },
    {
     "name": "stdout",
     "output_type": "stream",
     "text": [
      "Training Loss: 0.9256\tValidation Loss: 1.2372\n",
      "Counter train preds: Counter({0: 2517, 1: 2001, 5: 894, 2: 886, 4: 846, 3: 818})\tCounter val preds: Counter({0: 888, 1: 612, 3: 362, 2: 285, 5: 260, 4: 247})\n",
      "Epoch train QWK: 0.868\tval QWK: 0.767\n",
      "  Epoch 15 - Save Best QWK: 0.7666 Model\n",
      "Confusion matrix, without normalization\n",
      "[[631  70   3  13   2   4]\n",
      " [146 389  85  35   9   2]\n",
      " [ 27  98 137  56  13   4]\n",
      " [ 30  21  39 151  38  32]\n",
      " [ 30  21  15  67 135  45]\n",
      " [ 24  13   6  40  50 173]]\n",
      "Epoch 16/29\n",
      "==========\n"
     ]
    },
    {
     "name": "stderr",
     "output_type": "stream",
     "text": [
      " 13%|█▎        | 67/498 [00:20<02:05,  3.43it/s]"
     ]
    },
    {
     "name": "stdout",
     "output_type": "stream",
     "text": [
      "Gradient overflow.  Skipping step, loss scaler 0 reducing loss scale to 131072.0\n"
     ]
    },
    {
     "name": "stderr",
     "output_type": "stream",
     "text": [
      "100%|██████████| 498/498 [02:30<00:00,  3.31it/s]\n",
      "100%|██████████| 166/166 [00:14<00:00, 11.39it/s]"
     ]
    },
    {
     "name": "stdout",
     "output_type": "stream",
     "text": [
      "Training Loss: 0.9068\tValidation Loss: 1.2451\n",
      "Counter train preds: Counter({0: 2501, 1: 1981, 5: 924, 2: 901, 3: 831, 4: 824})\tCounter val preds: Counter({0: 868, 1: 740, 2: 287, 3: 280, 5: 247, 4: 232})\n",
      "Epoch train QWK: 0.876\tval QWK: 0.754\n",
      "Epoch 17/29\n",
      "==========\n"
     ]
    },
    {
     "name": "stderr",
     "output_type": "stream",
     "text": [
      "\n",
      "100%|██████████| 498/498 [02:32<00:00,  3.27it/s]\n",
      "100%|██████████| 166/166 [00:15<00:00, 10.44it/s]"
     ]
    },
    {
     "name": "stdout",
     "output_type": "stream",
     "text": [
      "Training Loss: 0.8845\tValidation Loss: 1.2586\n",
      "Counter train preds: Counter({0: 2483, 1: 1987, 5: 913, 2: 888, 4: 866, 3: 825})\tCounter val preds: Counter({0: 844, 1: 579, 5: 348, 3: 298, 2: 296, 4: 289})\n",
      "Epoch train QWK: 0.881\tval QWK: 0.764\n",
      "Epoch 18/29\n",
      "==========\n"
     ]
    },
    {
     "name": "stderr",
     "output_type": "stream",
     "text": [
      "\n",
      "100%|██████████| 498/498 [02:31<00:00,  3.29it/s]\n",
      "100%|██████████| 166/166 [00:15<00:00, 10.56it/s]"
     ]
    },
    {
     "name": "stdout",
     "output_type": "stream",
     "text": [
      "Epoch    19: reducing learning rate of group 0 to 1.2500e-05.\n",
      "Training Loss: 0.8628\tValidation Loss: 1.2978\n",
      "Counter train preds: Counter({0: 2465, 1: 1989, 5: 915, 2: 894, 4: 864, 3: 835})\tCounter val preds: Counter({0: 817, 1: 634, 2: 407, 5: 305, 3: 289, 4: 202})\n",
      "Epoch train QWK: 0.893\tval QWK: 0.763\n",
      "Epoch 19/29\n",
      "==========\n"
     ]
    },
    {
     "name": "stderr",
     "output_type": "stream",
     "text": [
      "\n",
      "100%|██████████| 498/498 [02:34<00:00,  3.23it/s]\n",
      "100%|██████████| 166/166 [00:14<00:00, 11.44it/s]\n"
     ]
    },
    {
     "name": "stdout",
     "output_type": "stream",
     "text": [
      "Training Loss: 0.8329\tValidation Loss: 1.2674\n",
      "Counter train preds: Counter({0: 2413, 1: 2033, 2: 935, 5: 906, 4: 867, 3: 808})\tCounter val preds: Counter({0: 843, 1: 638, 2: 380, 5: 292, 4: 253, 3: 248})\n",
      "Epoch train QWK: 0.897\tval QWK: 0.771\n",
      "  Epoch 19 - Save Best QWK: 0.7708 Model\n",
      "Confusion matrix, without normalization\n",
      "[[617  87   7   4   3   5]\n",
      " [127 398 113  17   7   4]\n",
      " [ 23  95 157  44  13   3]\n",
      " [ 25  24  64 112  44  42]\n",
      " [ 24  25  26  42 135  61]\n",
      " [ 27   9  13  29  51 177]]\n",
      "Epoch 20/29\n",
      "==========\n"
     ]
    },
    {
     "name": "stderr",
     "output_type": "stream",
     "text": [
      " 18%|█▊        | 90/498 [00:28<02:00,  3.39it/s]"
     ]
    },
    {
     "name": "stdout",
     "output_type": "stream",
     "text": [
      "Gradient overflow.  Skipping step, loss scaler 0 reducing loss scale to 131072.0\n"
     ]
    },
    {
     "name": "stderr",
     "output_type": "stream",
     "text": [
      "100%|██████████| 498/498 [02:30<00:00,  3.30it/s]\n",
      "100%|██████████| 166/166 [00:14<00:00, 11.74it/s]\n"
     ]
    },
    {
     "name": "stdout",
     "output_type": "stream",
     "text": [
      "Training Loss: 0.8309\tValidation Loss: 1.2587\n",
      "Counter train preds: Counter({0: 2444, 1: 1971, 2: 946, 5: 906, 4: 855, 3: 840})\tCounter val preds: Counter({0: 905, 1: 645, 5: 348, 2: 288, 4: 254, 3: 214})\n",
      "Epoch train QWK: 0.895\tval QWK: 0.772\n",
      "  Epoch 20 - Save Best QWK: 0.7721 Model\n",
      "Confusion matrix, without normalization\n",
      "[[638  67   7   5   2   4]\n",
      " [156 399  82  11  13   5]\n",
      " [ 27 112 129  38  19  10]\n",
      " [ 30  31  46 104  49  51]\n",
      " [ 29  25  16  32 137  74]\n",
      " [ 25  11   8  24  34 204]]\n",
      "Epoch 21/29\n",
      "==========\n"
     ]
    },
    {
     "name": "stderr",
     "output_type": "stream",
     "text": [
      "100%|██████████| 498/498 [02:33<00:00,  3.25it/s]\n",
      "100%|██████████| 166/166 [00:16<00:00, 10.07it/s]"
     ]
    },
    {
     "name": "stdout",
     "output_type": "stream",
     "text": [
      "Training Loss: 0.8118\tValidation Loss: 1.2990\n",
      "Counter train preds: Counter({0: 2425, 1: 1992, 2: 920, 5: 913, 4: 863, 3: 849})\tCounter val preds: Counter({0: 863, 1: 560, 2: 397, 4: 287, 3: 274, 5: 273})\n",
      "Epoch train QWK: 0.904\tval QWK: 0.766\n",
      "Epoch 22/29\n",
      "==========\n"
     ]
    },
    {
     "name": "stderr",
     "output_type": "stream",
     "text": [
      "\n",
      "100%|██████████| 498/498 [02:27<00:00,  3.37it/s]\n",
      "100%|██████████| 166/166 [00:14<00:00, 11.43it/s]\n"
     ]
    },
    {
     "name": "stdout",
     "output_type": "stream",
     "text": [
      "Epoch    23: reducing learning rate of group 0 to 6.2500e-06.\n",
      "Training Loss: 0.8106\tValidation Loss: 1.2867\n",
      "Counter train preds: Counter({0: 2392, 1: 2022, 2: 934, 5: 910, 4: 880, 3: 824})\tCounter val preds: Counter({0: 844, 1: 588, 2: 388, 5: 310, 4: 274, 3: 250})\n",
      "Epoch train QWK: 0.898\tval QWK: 0.773\n",
      "  Epoch 22 - Save Best QWK: 0.7731 Model\n",
      "Confusion matrix, without normalization\n",
      "[[610  87  10   6   5   5]\n",
      " [139 365 121  26  10   5]\n",
      " [ 24  80 164  46  17   4]\n",
      " [ 21  24  62 114  45  45]\n",
      " [ 25  24  18  39 147  60]\n",
      " [ 25   8  13  19  50 191]]\n",
      "Epoch 23/29\n",
      "==========\n"
     ]
    },
    {
     "name": "stderr",
     "output_type": "stream",
     "text": [
      "100%|██████████| 498/498 [02:29<00:00,  3.33it/s]\n",
      "100%|██████████| 166/166 [00:14<00:00, 11.55it/s]"
     ]
    },
    {
     "name": "stdout",
     "output_type": "stream",
     "text": [
      "Training Loss: 0.7927\tValidation Loss: 1.2908\n",
      "Counter train preds: Counter({0: 2397, 1: 1984, 5: 944, 2: 931, 3: 874, 4: 832})\tCounter val preds: Counter({0: 840, 1: 644, 2: 377, 5: 274, 3: 270, 4: 249})\n",
      "Epoch train QWK: 0.906\tval QWK: 0.766\n",
      "Epoch 24/29\n",
      "==========\n"
     ]
    },
    {
     "name": "stderr",
     "output_type": "stream",
     "text": [
      "\n",
      " 41%|████      | 204/498 [01:01<01:24,  3.47it/s]"
     ]
    },
    {
     "name": "stdout",
     "output_type": "stream",
     "text": [
      "Gradient overflow.  Skipping step, loss scaler 0 reducing loss scale to 131072.0\n"
     ]
    },
    {
     "name": "stderr",
     "output_type": "stream",
     "text": [
      "100%|██████████| 498/498 [02:30<00:00,  3.30it/s]\n",
      "100%|██████████| 166/166 [00:15<00:00, 10.47it/s]"
     ]
    },
    {
     "name": "stdout",
     "output_type": "stream",
     "text": [
      "Training Loss: 0.7887\tValidation Loss: 1.2833\n",
      "Counter train preds: Counter({0: 2403, 1: 1975, 2: 947, 5: 891, 4: 890, 3: 856})\tCounter val preds: Counter({0: 863, 1: 672, 2: 376, 4: 297, 5: 265, 3: 181})\n",
      "Epoch train QWK: 0.906\tval QWK: 0.760\n",
      "Epoch 25/29\n",
      "==========\n"
     ]
    },
    {
     "name": "stderr",
     "output_type": "stream",
     "text": [
      "\n",
      "100%|██████████| 498/498 [02:29<00:00,  3.33it/s]\n",
      "100%|██████████| 166/166 [00:14<00:00, 11.74it/s]"
     ]
    },
    {
     "name": "stdout",
     "output_type": "stream",
     "text": [
      "Training Loss: 0.7820\tValidation Loss: 1.2766\n",
      "Counter train preds: Counter({0: 2399, 1: 1977, 2: 951, 5: 904, 4: 874, 3: 857})\tCounter val preds: Counter({0: 859, 1: 629, 2: 323, 3: 313, 5: 275, 4: 255})\n",
      "Epoch train QWK: 0.907\tval QWK: 0.765\n",
      "Epoch 26/29\n",
      "==========\n"
     ]
    },
    {
     "name": "stderr",
     "output_type": "stream",
     "text": [
      "\n",
      "100%|██████████| 498/498 [02:28<00:00,  3.35it/s]\n",
      "100%|██████████| 166/166 [00:14<00:00, 11.55it/s]"
     ]
    },
    {
     "name": "stdout",
     "output_type": "stream",
     "text": [
      "Epoch    27: reducing learning rate of group 0 to 3.1250e-06.\n",
      "Training Loss: 0.7875\tValidation Loss: 1.2824\n",
      "Counter train preds: Counter({0: 2443, 1: 1964, 2: 935, 5: 905, 3: 877, 4: 838})\tCounter val preds: Counter({0: 838, 1: 655, 2: 371, 5: 292, 3: 290, 4: 208})\n",
      "Epoch train QWK: 0.906\tval QWK: 0.759\n",
      "Epoch 27/29\n",
      "==========\n"
     ]
    },
    {
     "name": "stderr",
     "output_type": "stream",
     "text": [
      "\n",
      "100%|██████████| 498/498 [02:29<00:00,  3.32it/s]\n",
      "100%|██████████| 166/166 [00:15<00:00, 10.60it/s]"
     ]
    },
    {
     "name": "stdout",
     "output_type": "stream",
     "text": [
      "Training Loss: 0.7610\tValidation Loss: 1.3068\n",
      "Counter train preds: Counter({0: 2411, 1: 1954, 2: 952, 5: 937, 4: 861, 3: 847})\tCounter val preds: Counter({0: 886, 1: 561, 2: 348, 3: 338, 5: 284, 4: 237})\n",
      "Epoch train QWK: 0.917\tval QWK: 0.759\n",
      "Epoch 28/29\n",
      "==========\n"
     ]
    },
    {
     "name": "stderr",
     "output_type": "stream",
     "text": [
      "\n",
      " 51%|█████▏    | 256/498 [01:17<01:09,  3.46it/s]"
     ]
    },
    {
     "name": "stdout",
     "output_type": "stream",
     "text": [
      "Gradient overflow.  Skipping step, loss scaler 0 reducing loss scale to 131072.0\n"
     ]
    },
    {
     "name": "stderr",
     "output_type": "stream",
     "text": [
      "100%|██████████| 498/498 [02:29<00:00,  3.34it/s]\n",
      "100%|██████████| 166/166 [00:14<00:00, 11.39it/s]"
     ]
    },
    {
     "name": "stdout",
     "output_type": "stream",
     "text": [
      "Training Loss: 0.7612\tValidation Loss: 1.2853\n",
      "Counter train preds: Counter({0: 2396, 1: 1962, 2: 947, 5: 916, 4: 880, 3: 861})\tCounter val preds: Counter({0: 855, 1: 665, 2: 342, 5: 313, 3: 248, 4: 231})\n",
      "Epoch train QWK: 0.917\tval QWK: 0.764\n",
      "Epoch 29/29\n",
      "==========\n"
     ]
    },
    {
     "name": "stderr",
     "output_type": "stream",
     "text": [
      "\n",
      "100%|██████████| 498/498 [02:27<00:00,  3.38it/s]\n",
      "100%|██████████| 166/166 [00:14<00:00, 11.73it/s]"
     ]
    },
    {
     "name": "stdout",
     "output_type": "stream",
     "text": [
      "Training Loss: 0.7683\tValidation Loss: 1.2812\n",
      "Counter train preds: Counter({0: 2405, 1: 1990, 2: 934, 5: 886, 4: 880, 3: 867})\tCounter val preds: Counter({0: 888, 1: 609, 2: 364, 5: 295, 3: 262, 4: 236})\n",
      "Epoch train QWK: 0.914\tval QWK: 0.762\n"
     ]
    },
    {
     "name": "stderr",
     "output_type": "stream",
     "text": [
      "\n"
     ]
    }
   ],
   "source": [
    "train_df = folds[folds[\"fold\"] != 0].copy()\n",
    "val_df = folds[folds[\"fold\"] == 0].copy()\n",
    "train_ds = LazyTilesDataset(train_df, transform=get_transforms(data=\"train\", aug=\"heavy\"), debug=False) # NOTE! it is predefined 36-tiles images\n",
    "val_ds = LazyTilesDataset(val_df, transform=get_transforms(data=\"valid\"), debug=False)\n",
    "\n",
    "model_ft = make_RN50_cls()\n",
    "# initialize bias in the model\n",
    "cls_probas = (train_df[CFG.target_col].value_counts() / len(train_df)).values\n",
    "model_ft = init_last_layer_bias(model_ft, cls_probas)\n",
    "\n",
    "criterion = LOSSES[CFG.loss]\n",
    "optimizer = torch.optim.Adam(model_ft.parameters(), lr=CFG.lr, amsgrad=False)\n",
    "train_eval_loop(train_ds, val_ds, model_ft, optimizer, criterion, num_epochs=30)"
   ]
  },
  {
   "cell_type": "markdown",
   "metadata": {},
   "source": [
    "### Experiment Run"
   ]
  },
  {
   "cell_type": "code",
   "execution_count": 17,
   "metadata": {},
   "outputs": [
    {
     "name": "stdout",
     "output_type": "stream",
     "text": [
      "debug: False\n",
      " seed: 1982\n",
      " img_height: 768\n",
      " img_width: 768\n",
      " target_size: 6\n",
      " img_id_col: image_id\n",
      " target_col: isup_grade\n",
      " tiff_layer: 1\n",
      " stoch_sample: True\n",
      " num_tiles: 36\n",
      " tile_sz: 128\n",
      " batch_size: 16\n",
      " use_lazy: True\n",
      " aug_type: light\n",
      " finetune: 1stage\n",
      " model_cls: deep\n",
      " schedule_type: one_cycle\n",
      " loss: ls_soft_ce\n",
      " lr: 5e-05\n",
      " rlopp: 3\n",
      " epoch: 70\n",
      " n_fold: 4\n",
      " use_amp: True\n",
      "\n"
     ]
    }
   ],
   "source": [
    "print(\" \".join([f\"{key}: {val}\\n\" for key, val in CFG.__dict__.items() if not key.startswith(\"__\")]))"
   ]
  },
  {
   "cell_type": "code",
   "execution_count": 18,
   "metadata": {},
   "outputs": [],
   "source": [
    "writer.add_text(\"Experiment Description:\", \" \".join([f\"{key}: {val}\\n\" for key, val in CFG.__dict__.items() if not key.startswith(\"__\")]))"
   ]
  },
  {
   "cell_type": "code",
   "execution_count": 19,
   "metadata": {},
   "outputs": [],
   "source": [
    "# schedulers\n",
    "def get_scheduler(optimizer,train_dataloader, schedule_type=CFG.schedule_type):\n",
    "    assert schedule_type in SCHEDULERS, f\"{schedule_type} not in SCHEDULERS\"\n",
    "    if schedule_type == \"reduce_on_plateau\":\n",
    "        return (SCHEDULERS[schedule_type][0](optimizer, 'min', factor=0.5, patience=CFG.rlopp, verbose=True), \n",
    "                SCHEDULERS[schedule_type][1])\n",
    "    if schedule_type == \"one_cycle\":\n",
    "        return (SCHEDULERS[schedule_type][0](optimizer, max_lr=[CFG.lr, CFG.lr*10] if CFG.finetune == \"1stage\" else CFG.lr,\n",
    "                                             steps_per_epoch=len(train_dataloader), epochs=CFG.epoch, pct_start=0.05),\n",
    "                SCHEDULERS[schedule_type][1])"
   ]
  },
  {
   "cell_type": "code",
   "execution_count": 20,
   "metadata": {},
   "outputs": [
    {
     "name": "stdout",
     "output_type": "stream",
     "text": [
      "Freezing layer conv1..\n",
      "Freezing layer bn1..\n",
      "Freezing layer relu..\n",
      "Freezing layer maxpool..\n",
      "Freezing layer layer1..\n",
      "Freezing layer layer2..\n",
      "Selected optimization level O1:  Insert automatic casts around Pytorch functions and Tensor methods.\n",
      "\n",
      "Defaults for this optimization level are:\n",
      "enabled                : True\n",
      "opt_level              : O1\n",
      "cast_model_type        : None\n",
      "patch_torch_functions  : True\n",
      "keep_batchnorm_fp32    : None\n",
      "master_weights         : None\n",
      "loss_scale             : dynamic\n",
      "Processing user overrides (additional kwargs that are not None)...\n",
      "After processing overrides, optimization options are:\n",
      "enabled                : True\n",
      "opt_level              : O1\n",
      "cast_model_type        : None\n",
      "patch_torch_functions  : True\n",
      "keep_batchnorm_fp32    : None\n",
      "master_weights         : None\n",
      "loss_scale             : dynamic\n",
      "Warning:  multi_tensor_applier fused unscale kernel is unavailable, possibly because apex was installed without --cuda_ext --cpp_ext. Using Python fallback.  Original ImportError was: ModuleNotFoundError(\"No module named 'amp_C'\")\n",
      "Epoch 0/69\n",
      "==========\n"
     ]
    },
    {
     "name": "stderr",
     "output_type": "stream",
     "text": [
      "  0%|          | 0/498 [00:00<?, ?it/s]/home/ademyanchuk/.cache/pypoetry/virtualenvs/chestxray-uNc73CMC-py3.7/lib/python3.7/site-packages/torch/optim/lr_scheduler.py:114: UserWarning: Seems like `optimizer.step()` has been overridden after learning rate scheduler initialization. Please, make sure to call `optimizer.step()` before `lr_scheduler.step()`. See more details at https://pytorch.org/docs/stable/optim.html#how-to-adjust-learning-rate\n",
      "  \"https://pytorch.org/docs/stable/optim.html#how-to-adjust-learning-rate\", UserWarning)\n",
      "  0%|          | 2/498 [00:01<07:10,  1.15it/s]"
     ]
    },
    {
     "name": "stdout",
     "output_type": "stream",
     "text": [
      "Gradient overflow.  Skipping step, loss scaler 0 reducing loss scale to 32768.0\n"
     ]
    },
    {
     "name": "stderr",
     "output_type": "stream",
     "text": [
      "  3%|▎         | 17/498 [00:06<02:37,  3.05it/s]"
     ]
    },
    {
     "name": "stdout",
     "output_type": "stream",
     "text": [
      "Gradient overflow.  Skipping step, loss scaler 0 reducing loss scale to 16384.0\n"
     ]
    },
    {
     "name": "stderr",
     "output_type": "stream",
     "text": [
      "100%|██████████| 498/498 [02:58<00:00,  2.79it/s]\n",
      "100%|██████████| 166/166 [01:53<00:00,  1.46it/s]\n"
     ]
    },
    {
     "name": "stdout",
     "output_type": "stream",
     "text": [
      "Training Loss: 1.4440\tValidation Loss: 1.4947\n",
      "Counter train preds: Counter({0: 3276, 1: 2094, 5: 995, 3: 637, 4: 519, 2: 441})\tCounter val preds: Counter({1: 1130, 0: 669, 5: 660, 3: 105, 4: 61, 2: 29})\n",
      "Epoch train QWK: 0.537\tval QWK: 0.635\n",
      "  Epoch 0 - Save Best Loss: 1.4947 Model\n",
      "Confusion matrix, without normalization\n",
      "[[450 228   1   3   9  32]\n",
      " [ 96 520  10  13   2  25]\n",
      " [ 29 195  15  33   5  58]\n",
      " [ 30  85   2  31   9 154]\n",
      " [ 31  74   1  20  32 155]\n",
      " [ 33  28   0   5   4 236]]\n",
      "  Epoch 0 - Save Best QWK: 0.6350 Model\n",
      "Confusion matrix, without normalization\n",
      "[[450 228   1   3   9  32]\n",
      " [ 96 520  10  13   2  25]\n",
      " [ 29 195  15  33   5  58]\n",
      " [ 30  85   2  31   9 154]\n",
      " [ 31  74   1  20  32 155]\n",
      " [ 33  28   0   5   4 236]]\n",
      "Epoch 1/69\n",
      "==========\n"
     ]
    },
    {
     "name": "stderr",
     "output_type": "stream",
     "text": [
      "100%|██████████| 498/498 [02:46<00:00,  2.99it/s]\n",
      "100%|██████████| 166/166 [01:50<00:00,  1.50it/s]\n"
     ]
    },
    {
     "name": "stdout",
     "output_type": "stream",
     "text": [
      "Training Loss: 1.3477\tValidation Loss: 1.3022\n",
      "Counter train preds: Counter({0: 3012, 1: 2113, 5: 964, 4: 686, 3: 659, 2: 528})\tCounter val preds: Counter({0: 1165, 3: 470, 1: 434, 5: 259, 2: 206, 4: 120})\n",
      "Epoch train QWK: 0.629\tval QWK: 0.668\n",
      "  Epoch 1 - Save Best Loss: 1.3022 Model\n",
      "Confusion matrix, without normalization\n",
      "[[676  24   5   5  10   3]\n",
      " [241 304  78  32   7   4]\n",
      " [ 67  63  90 102  11   2]\n",
      " [ 61  20  18 166  15  31]\n",
      " [ 76  14  10  96  54  63]\n",
      " [ 44   9   5  69  23 156]]\n",
      "  Epoch 1 - Save Best QWK: 0.6683 Model\n",
      "Confusion matrix, without normalization\n",
      "[[676  24   5   5  10   3]\n",
      " [241 304  78  32   7   4]\n",
      " [ 67  63  90 102  11   2]\n",
      " [ 61  20  18 166  15  31]\n",
      " [ 76  14  10  96  54  63]\n",
      " [ 44   9   5  69  23 156]]\n",
      "Epoch 2/69\n",
      "==========\n"
     ]
    },
    {
     "name": "stderr",
     "output_type": "stream",
     "text": [
      "100%|██████████| 498/498 [02:51<00:00,  2.90it/s]\n",
      "100%|██████████| 166/166 [01:49<00:00,  1.52it/s]\n"
     ]
    },
    {
     "name": "stdout",
     "output_type": "stream",
     "text": [
      "Training Loss: 1.2751\tValidation Loss: 1.3330\n",
      "Counter train preds: Counter({0: 2908, 1: 2144, 5: 908, 3: 723, 4: 669, 2: 610})\tCounter val preds: Counter({1: 1199, 0: 685, 4: 260, 5: 252, 3: 145, 2: 113})\n",
      "Epoch train QWK: 0.674\tval QWK: 0.709\n",
      "  Epoch 2 - Save Best QWK: 0.7085 Model\n",
      "Confusion matrix, without normalization\n",
      "[[530 165   2   7  12   7]\n",
      " [ 75 565   4   7  15   0]\n",
      " [ 20 278  20   7   7   3]\n",
      " [ 24 101  47  63  36  40]\n",
      " [ 17  65  20  34 122  55]\n",
      " [ 19  25  20  27  68 147]]\n",
      "Epoch 3/69\n",
      "==========\n"
     ]
    },
    {
     "name": "stderr",
     "output_type": "stream",
     "text": [
      "100%|██████████| 498/498 [02:51<00:00,  2.91it/s]\n",
      "100%|██████████| 166/166 [01:49<00:00,  1.52it/s]\n"
     ]
    },
    {
     "name": "stdout",
     "output_type": "stream",
     "text": [
      "Training Loss: 1.2222\tValidation Loss: 1.2843\n",
      "Counter train preds: Counter({0: 2748, 1: 2176, 5: 901, 4: 756, 3: 728, 2: 653})\tCounter val preds: Counter({0: 832, 1: 601, 5: 428, 3: 356, 4: 291, 2: 146})\n",
      "Epoch train QWK: 0.722\tval QWK: 0.728\n",
      "  Epoch 3 - Save Best Loss: 1.2843 Model\n",
      "Confusion matrix, without normalization\n",
      "[[585  97   1   5  13  22]\n",
      " [133 376  65  51  32   9]\n",
      " [ 32  83  65 108  31  16]\n",
      " [ 35  15   8 124  59  70]\n",
      " [ 20  23   5  41 127  97]\n",
      " [ 27   7   2  27  29 214]]\n",
      "  Epoch 3 - Save Best QWK: 0.7277 Model\n",
      "Confusion matrix, without normalization\n",
      "[[585  97   1   5  13  22]\n",
      " [133 376  65  51  32   9]\n",
      " [ 32  83  65 108  31  16]\n",
      " [ 35  15   8 124  59  70]\n",
      " [ 20  23   5  41 127  97]\n",
      " [ 27   7   2  27  29 214]]\n",
      "Epoch 4/69\n",
      "==========\n"
     ]
    },
    {
     "name": "stderr",
     "output_type": "stream",
     "text": [
      "100%|██████████| 498/498 [02:47<00:00,  2.96it/s]\n",
      "100%|██████████| 166/166 [01:45<00:00,  1.58it/s]\n"
     ]
    },
    {
     "name": "stdout",
     "output_type": "stream",
     "text": [
      "Training Loss: 1.1838\tValidation Loss: 1.2042\n",
      "Counter train preds: Counter({0: 2696, 1: 2192, 5: 920, 3: 761, 4: 752, 2: 641})\tCounter val preds: Counter({1: 823, 0: 780, 2: 309, 3: 269, 4: 254, 5: 219})\n",
      "Epoch train QWK: 0.746\tval QWK: 0.750\n",
      "  Epoch 4 - Save Best Loss: 1.2042 Model\n",
      "Confusion matrix, without normalization\n",
      "[[593 105   5   5  10   5]\n",
      " [ 99 487  58   9  11   2]\n",
      " [ 18 136 148  24   7   2]\n",
      " [ 23  42  61 126  37  22]\n",
      " [ 23  38  25  59 129  39]\n",
      " [ 24  15  12  46  60 149]]\n",
      "  Epoch 4 - Save Best QWK: 0.7503 Model\n",
      "Confusion matrix, without normalization\n",
      "[[593 105   5   5  10   5]\n",
      " [ 99 487  58   9  11   2]\n",
      " [ 18 136 148  24   7   2]\n",
      " [ 23  42  61 126  37  22]\n",
      " [ 23  38  25  59 129  39]\n",
      " [ 24  15  12  46  60 149]]\n",
      "Epoch 5/69\n",
      "==========\n"
     ]
    },
    {
     "name": "stderr",
     "output_type": "stream",
     "text": [
      "100%|██████████| 498/498 [02:40<00:00,  3.10it/s]\n",
      "100%|██████████| 166/166 [01:47<00:00,  1.54it/s]\n"
     ]
    },
    {
     "name": "stdout",
     "output_type": "stream",
     "text": [
      "Training Loss: 1.1368\tValidation Loss: 1.2091\n",
      "Counter train preds: Counter({0: 2624, 1: 2169, 5: 895, 4: 800, 3: 743, 2: 731})\tCounter val preds: Counter({1: 883, 0: 770, 5: 485, 2: 281, 4: 166, 3: 69})\n",
      "Epoch train QWK: 0.770\tval QWK: 0.754\n",
      "  Epoch 5 - Save Best QWK: 0.7540 Model\n",
      "Confusion matrix, without normalization\n",
      "[[582 118   3   8   7   5]\n",
      " [ 89 505  51   8   6   7]\n",
      " [ 14 171 116   3   9  22]\n",
      " [ 35  45  65  29  34 103]\n",
      " [ 27  36  32  15  86 117]\n",
      " [ 23   8  14   6  24 231]]\n",
      "Epoch 6/69\n",
      "==========\n"
     ]
    },
    {
     "name": "stderr",
     "output_type": "stream",
     "text": [
      "100%|██████████| 498/498 [02:41<00:00,  3.08it/s]\n",
      "100%|██████████| 166/166 [01:45<00:00,  1.58it/s]\n"
     ]
    },
    {
     "name": "stdout",
     "output_type": "stream",
     "text": [
      "Training Loss: 1.1029\tValidation Loss: 1.2214\n",
      "Counter train preds: Counter({0: 2538, 1: 2178, 5: 897, 4: 798, 2: 790, 3: 761})\tCounter val preds: Counter({0: 903, 1: 570, 5: 482, 3: 386, 2: 181, 4: 132})\n",
      "Epoch train QWK: 0.782\tval QWK: 0.775\n",
      "  Epoch 6 - Save Best QWK: 0.7747 Model\n",
      "Confusion matrix, without normalization\n",
      "[[649  43   3   6   6  16]\n",
      " [158 388  68  33   7  12]\n",
      " [ 32  91  88 102   8  14]\n",
      " [ 24  21  12 143  18  93]\n",
      " [ 21  20   7  71  76 118]\n",
      " [ 19   7   3  31  17 229]]\n",
      "Epoch 7/69\n",
      "==========\n"
     ]
    },
    {
     "name": "stderr",
     "output_type": "stream",
     "text": [
      " 83%|████████▎ | 412/498 [02:14<00:27,  3.16it/s]"
     ]
    },
    {
     "name": "stdout",
     "output_type": "stream",
     "text": [
      "Gradient overflow.  Skipping step, loss scaler 0 reducing loss scale to 16384.0\n"
     ]
    },
    {
     "name": "stderr",
     "output_type": "stream",
     "text": [
      "100%|██████████| 498/498 [02:42<00:00,  3.07it/s]\n",
      "100%|██████████| 166/166 [01:44<00:00,  1.59it/s]"
     ]
    },
    {
     "name": "stdout",
     "output_type": "stream",
     "text": [
      "Training Loss: 1.0600\tValidation Loss: 1.3239\n",
      "Counter train preds: Counter({0: 2527, 1: 2137, 5: 897, 2: 808, 4: 805, 3: 788})\tCounter val preds: Counter({0: 693, 1: 596, 3: 424, 2: 356, 4: 354, 5: 231})\n",
      "Epoch train QWK: 0.803\tval QWK: 0.732\n",
      "Epoch 8/69\n",
      "==========\n"
     ]
    },
    {
     "name": "stderr",
     "output_type": "stream",
     "text": [
      "\n",
      "100%|██████████| 498/498 [02:40<00:00,  3.11it/s]\n",
      "100%|██████████| 166/166 [01:44<00:00,  1.59it/s]\n"
     ]
    },
    {
     "name": "stdout",
     "output_type": "stream",
     "text": [
      "Training Loss: 1.0257\tValidation Loss: 1.1962\n",
      "Counter train preds: Counter({0: 2480, 1: 2129, 5: 883, 4: 850, 2: 827, 3: 793})\tCounter val preds: Counter({1: 880, 0: 815, 5: 390, 4: 227, 2: 217, 3: 125})\n",
      "Epoch train QWK: 0.806\tval QWK: 0.772\n",
      "  Epoch 8 - Save Best Loss: 1.1962 Model\n",
      "Confusion matrix, without normalization\n",
      "[[616  97   3   0   5   2]\n",
      " [ 99 515  42   4   6   0]\n",
      " [ 20 170 104  12   9  20]\n",
      " [ 28  54  34  70  30  95]\n",
      " [ 28  31  23  28 136  67]\n",
      " [ 24  13  11  11  41 206]]\n",
      "Epoch 9/69\n",
      "==========\n"
     ]
    },
    {
     "name": "stderr",
     "output_type": "stream",
     "text": [
      "100%|██████████| 498/498 [02:40<00:00,  3.11it/s]\n",
      "100%|██████████| 166/166 [01:44<00:00,  1.59it/s]"
     ]
    },
    {
     "name": "stdout",
     "output_type": "stream",
     "text": [
      "Training Loss: 0.9993\tValidation Loss: 1.2824\n",
      "Counter train preds: Counter({0: 2467, 1: 2127, 5: 919, 4: 834, 2: 820, 3: 795})\tCounter val preds: Counter({0: 1080, 1: 642, 4: 355, 5: 273, 3: 200, 2: 104})\n",
      "Epoch train QWK: 0.821\tval QWK: 0.749\n",
      "Epoch 10/69\n",
      "==========\n"
     ]
    },
    {
     "name": "stderr",
     "output_type": "stream",
     "text": [
      "\n",
      "100%|██████████| 498/498 [02:40<00:00,  3.11it/s]\n",
      "100%|██████████| 166/166 [01:44<00:00,  1.58it/s]"
     ]
    },
    {
     "name": "stdout",
     "output_type": "stream",
     "text": [
      "Training Loss: 0.9570\tValidation Loss: 1.2171\n",
      "Counter train preds: Counter({0: 2419, 1: 2129, 5: 900, 2: 871, 4: 839, 3: 804})\tCounter val preds: Counter({0: 933, 1: 762, 5: 449, 2: 209, 4: 160, 3: 141})\n",
      "Epoch train QWK: 0.834\tval QWK: 0.750\n",
      "Epoch 11/69\n",
      "==========\n"
     ]
    },
    {
     "name": "stderr",
     "output_type": "stream",
     "text": [
      "\n",
      "100%|██████████| 498/498 [02:40<00:00,  3.11it/s]\n",
      "100%|██████████| 166/166 [01:45<00:00,  1.58it/s]"
     ]
    },
    {
     "name": "stdout",
     "output_type": "stream",
     "text": [
      "Training Loss: 0.9151\tValidation Loss: 1.3483\n",
      "Counter train preds: Counter({0: 2403, 1: 2103, 2: 898, 5: 896, 4: 860, 3: 802})\tCounter val preds: Counter({1: 833, 0: 540, 2: 458, 4: 352, 3: 294, 5: 177})\n",
      "Epoch train QWK: 0.849\tval QWK: 0.748\n",
      "Epoch 12/69\n",
      "==========\n"
     ]
    },
    {
     "name": "stderr",
     "output_type": "stream",
     "text": [
      "\n",
      "100%|██████████| 498/498 [02:40<00:00,  3.11it/s]\n",
      "100%|██████████| 166/166 [01:44<00:00,  1.59it/s]"
     ]
    },
    {
     "name": "stdout",
     "output_type": "stream",
     "text": [
      "Training Loss: 0.8910\tValidation Loss: 1.2796\n",
      "Counter train preds: Counter({0: 2379, 1: 2079, 5: 913, 2: 895, 3: 855, 4: 841})\tCounter val preds: Counter({0: 836, 1: 740, 5: 531, 3: 289, 4: 129, 2: 129})\n",
      "Epoch train QWK: 0.866\tval QWK: 0.753\n",
      "Epoch 13/69\n",
      "==========\n"
     ]
    },
    {
     "name": "stderr",
     "output_type": "stream",
     "text": [
      "\n",
      "100%|██████████| 498/498 [02:40<00:00,  3.11it/s]\n",
      "100%|██████████| 166/166 [01:44<00:00,  1.58it/s]"
     ]
    },
    {
     "name": "stdout",
     "output_type": "stream",
     "text": [
      "Training Loss: 0.8494\tValidation Loss: 1.3338\n",
      "Counter train preds: Counter({0: 2367, 1: 2050, 2: 940, 5: 914, 4: 866, 3: 825})\tCounter val preds: Counter({0: 700, 2: 438, 1: 432, 5: 427, 3: 414, 4: 243})\n",
      "Epoch train QWK: 0.880\tval QWK: 0.713\n",
      "Epoch 14/69\n",
      "==========\n"
     ]
    },
    {
     "name": "stderr",
     "output_type": "stream",
     "text": [
      "\n",
      "100%|██████████| 498/498 [02:39<00:00,  3.12it/s]\n",
      "100%|██████████| 166/166 [01:45<00:00,  1.57it/s]"
     ]
    },
    {
     "name": "stdout",
     "output_type": "stream",
     "text": [
      "Training Loss: 0.8240\tValidation Loss: 1.2910\n",
      "Counter train preds: Counter({0: 2320, 1: 2058, 2: 939, 5: 907, 4: 883, 3: 855})\tCounter val preds: Counter({0: 1022, 1: 699, 5: 395, 4: 290, 3: 173, 2: 75})\n",
      "Epoch train QWK: 0.885\tval QWK: 0.767\n",
      "Epoch 15/69\n",
      "==========\n"
     ]
    },
    {
     "name": "stderr",
     "output_type": "stream",
     "text": [
      "\n",
      "100%|██████████| 498/498 [02:39<00:00,  3.13it/s]\n",
      "100%|██████████| 166/166 [01:44<00:00,  1.59it/s]"
     ]
    },
    {
     "name": "stdout",
     "output_type": "stream",
     "text": [
      "Training Loss: 0.8051\tValidation Loss: 1.4224\n",
      "Counter train preds: Counter({0: 2306, 1: 2079, 2: 929, 5: 908, 4: 891, 3: 849})\tCounter val preds: Counter({0: 974, 3: 614, 2: 360, 1: 305, 5: 276, 4: 125})\n",
      "Epoch train QWK: 0.898\tval QWK: 0.741\n",
      "Epoch 16/69\n",
      "==========\n"
     ]
    },
    {
     "name": "stderr",
     "output_type": "stream",
     "text": [
      "\n",
      "100%|██████████| 498/498 [02:39<00:00,  3.13it/s]\n",
      "100%|██████████| 166/166 [01:45<00:00,  1.58it/s]"
     ]
    },
    {
     "name": "stdout",
     "output_type": "stream",
     "text": [
      "Training Loss: 0.7819\tValidation Loss: 1.2794\n",
      "Counter train preds: Counter({0: 2311, 1: 2042, 2: 936, 5: 917, 4: 894, 3: 862})\tCounter val preds: Counter({1: 815, 0: 786, 5: 461, 2: 266, 4: 170, 3: 156})\n",
      "Epoch train QWK: 0.904\tval QWK: 0.773\n",
      "Epoch 17/69\n",
      "==========\n"
     ]
    },
    {
     "name": "stderr",
     "output_type": "stream",
     "text": [
      "\n",
      " 45%|████▍     | 224/498 [01:11<01:24,  3.22it/s]"
     ]
    },
    {
     "name": "stdout",
     "output_type": "stream",
     "text": [
      "Gradient overflow.  Skipping step, loss scaler 0 reducing loss scale to 32768.0\n"
     ]
    },
    {
     "name": "stderr",
     "output_type": "stream",
     "text": [
      "100%|██████████| 498/498 [02:39<00:00,  3.13it/s]\n",
      "100%|██████████| 166/166 [01:44<00:00,  1.59it/s]"
     ]
    },
    {
     "name": "stdout",
     "output_type": "stream",
     "text": [
      "Training Loss: 0.7566\tValidation Loss: 1.2917\n",
      "Counter train preds: Counter({0: 2294, 1: 2056, 2: 942, 5: 922, 4: 885, 3: 863})\tCounter val preds: Counter({0: 771, 1: 713, 5: 461, 3: 282, 2: 266, 4: 161})\n",
      "Epoch train QWK: 0.907\tval QWK: 0.767\n",
      "Epoch 18/69\n",
      "==========\n"
     ]
    },
    {
     "name": "stderr",
     "output_type": "stream",
     "text": [
      "\n",
      "100%|██████████| 498/498 [02:39<00:00,  3.12it/s]\n",
      "100%|██████████| 166/166 [01:45<00:00,  1.58it/s]"
     ]
    },
    {
     "name": "stdout",
     "output_type": "stream",
     "text": [
      "Training Loss: 0.7411\tValidation Loss: 1.3018\n",
      "Counter train preds: Counter({0: 2305, 1: 2052, 2: 931, 5: 921, 3: 892, 4: 861})\tCounter val preds: Counter({0: 901, 1: 664, 4: 417, 2: 244, 5: 229, 3: 199})\n",
      "Epoch train QWK: 0.908\tval QWK: 0.771\n",
      "Epoch 19/69\n",
      "==========\n"
     ]
    },
    {
     "name": "stderr",
     "output_type": "stream",
     "text": [
      "\n",
      "100%|██████████| 498/498 [02:39<00:00,  3.13it/s]\n",
      "100%|██████████| 166/166 [01:44<00:00,  1.58it/s]"
     ]
    },
    {
     "name": "stdout",
     "output_type": "stream",
     "text": [
      "Training Loss: 0.7361\tValidation Loss: 1.3536\n",
      "Counter train preds: Counter({0: 2267, 1: 2052, 2: 955, 5: 908, 4: 898, 3: 882})\tCounter val preds: Counter({1: 897, 0: 659, 5: 563, 4: 263, 3: 173, 2: 99})\n",
      "Epoch train QWK: 0.909\tval QWK: 0.743\n",
      "Epoch 20/69\n",
      "==========\n"
     ]
    },
    {
     "name": "stderr",
     "output_type": "stream",
     "text": [
      "\n",
      "100%|██████████| 498/498 [02:40<00:00,  3.11it/s]\n",
      "100%|██████████| 166/166 [01:45<00:00,  1.57it/s]"
     ]
    },
    {
     "name": "stdout",
     "output_type": "stream",
     "text": [
      "Training Loss: 0.7186\tValidation Loss: 1.3016\n",
      "Counter train preds: Counter({0: 2274, 1: 2037, 2: 947, 5: 915, 4: 901, 3: 888})\tCounter val preds: Counter({1: 873, 0: 761, 5: 435, 4: 321, 2: 133, 3: 131})\n",
      "Epoch train QWK: 0.918\tval QWK: 0.771\n",
      "Epoch 21/69\n",
      "==========\n"
     ]
    },
    {
     "name": "stderr",
     "output_type": "stream",
     "text": [
      "\n",
      "100%|██████████| 498/498 [02:48<00:00,  2.95it/s]\n",
      "100%|██████████| 166/166 [01:45<00:00,  1.58it/s]"
     ]
    },
    {
     "name": "stdout",
     "output_type": "stream",
     "text": [
      "Training Loss: 0.6955\tValidation Loss: 1.3506\n",
      "Counter train preds: Counter({0: 2286, 1: 1993, 2: 975, 4: 921, 5: 899, 3: 888})\tCounter val preds: Counter({0: 741, 1: 688, 5: 540, 2: 330, 3: 232, 4: 123})\n",
      "Epoch train QWK: 0.921\tval QWK: 0.753\n",
      "Epoch 22/69\n",
      "==========\n"
     ]
    },
    {
     "name": "stderr",
     "output_type": "stream",
     "text": [
      "\n",
      "100%|██████████| 498/498 [02:39<00:00,  3.12it/s]\n",
      "100%|██████████| 166/166 [01:45<00:00,  1.57it/s]"
     ]
    },
    {
     "name": "stdout",
     "output_type": "stream",
     "text": [
      "Training Loss: 0.6847\tValidation Loss: 1.3001\n",
      "Counter train preds: Counter({0: 2231, 1: 2062, 2: 948, 5: 916, 4: 916, 3: 889})\tCounter val preds: Counter({0: 839, 1: 595, 3: 385, 4: 306, 5: 295, 2: 234})\n",
      "Epoch train QWK: 0.927\tval QWK: 0.767\n",
      "Epoch 23/69\n",
      "==========\n"
     ]
    },
    {
     "name": "stderr",
     "output_type": "stream",
     "text": [
      "\n",
      "100%|██████████| 498/498 [02:39<00:00,  3.12it/s]\n",
      "100%|██████████| 166/166 [01:45<00:00,  1.58it/s]"
     ]
    },
    {
     "name": "stdout",
     "output_type": "stream",
     "text": [
      "Training Loss: 0.6800\tValidation Loss: 1.3285\n",
      "Counter train preds: Counter({0: 2265, 1: 2024, 2: 968, 5: 939, 4: 885, 3: 881})\tCounter val preds: Counter({0: 853, 1: 469, 4: 401, 3: 380, 2: 342, 5: 209})\n",
      "Epoch train QWK: 0.932\tval QWK: 0.755\n",
      "Epoch 24/69\n",
      "==========\n"
     ]
    },
    {
     "name": "stderr",
     "output_type": "stream",
     "text": [
      "\n",
      "100%|██████████| 498/498 [02:39<00:00,  3.12it/s]\n",
      "100%|██████████| 166/166 [01:45<00:00,  1.58it/s]\n"
     ]
    },
    {
     "name": "stdout",
     "output_type": "stream",
     "text": [
      "Training Loss: 0.6708\tValidation Loss: 1.2912\n",
      "Counter train preds: Counter({0: 2268, 1: 2026, 2: 966, 5: 907, 3: 907, 4: 888})\tCounter val preds: Counter({1: 802, 0: 797, 3: 335, 4: 309, 5: 274, 2: 137})\n",
      "Epoch train QWK: 0.935\tval QWK: 0.775\n",
      "  Epoch 24 - Save Best QWK: 0.7748 Model\n",
      "Confusion matrix, without normalization\n",
      "[[611  84   1   4  12  11]\n",
      " [ 97 506  33  13  14   3]\n",
      " [ 24 144  77  66  16   8]\n",
      " [ 22  33  15 160  47  34]\n",
      " [ 24  22   7  56 158  46]\n",
      " [ 19  13   4  36  62 172]]\n",
      "Epoch 25/69\n",
      "==========\n"
     ]
    },
    {
     "name": "stderr",
     "output_type": "stream",
     "text": [
      "100%|██████████| 498/498 [02:39<00:00,  3.13it/s]\n",
      "100%|██████████| 166/166 [01:45<00:00,  1.57it/s]"
     ]
    },
    {
     "name": "stdout",
     "output_type": "stream",
     "text": [
      "Training Loss: 0.6676\tValidation Loss: 1.2760\n",
      "Counter train preds: Counter({0: 2248, 1: 2024, 2: 964, 5: 923, 4: 902, 3: 901})\tCounter val preds: Counter({0: 837, 1: 721, 2: 333, 4: 280, 5: 280, 3: 203})\n",
      "Epoch train QWK: 0.935\tval QWK: 0.770\n",
      "Epoch 26/69\n",
      "==========\n"
     ]
    },
    {
     "name": "stderr",
     "output_type": "stream",
     "text": [
      "\n",
      "100%|██████████| 498/498 [02:39<00:00,  3.12it/s]\n",
      "100%|██████████| 166/166 [01:45<00:00,  1.57it/s]"
     ]
    },
    {
     "name": "stdout",
     "output_type": "stream",
     "text": [
      "Training Loss: 0.6537\tValidation Loss: 1.2503\n",
      "Counter train preds: Counter({0: 2228, 1: 2046, 2: 967, 4: 913, 5: 905, 3: 903})\tCounter val preds: Counter({0: 813, 1: 609, 2: 395, 4: 300, 5: 281, 3: 256})\n",
      "Epoch train QWK: 0.944\tval QWK: 0.773\n",
      "Epoch 27/69\n",
      "==========\n"
     ]
    },
    {
     "name": "stderr",
     "output_type": "stream",
     "text": [
      "\n",
      "100%|██████████| 498/498 [02:39<00:00,  3.12it/s]\n",
      "100%|██████████| 166/166 [01:46<00:00,  1.57it/s]"
     ]
    },
    {
     "name": "stdout",
     "output_type": "stream",
     "text": [
      "Training Loss: 0.6427\tValidation Loss: 1.3177\n",
      "Counter train preds: Counter({0: 2242, 1: 2020, 2: 985, 3: 908, 4: 904, 5: 903})\tCounter val preds: Counter({1: 842, 0: 717, 2: 401, 5: 268, 4: 255, 3: 171})\n",
      "Epoch train QWK: 0.942\tval QWK: 0.766\n",
      "Epoch 28/69\n",
      "==========\n"
     ]
    },
    {
     "name": "stderr",
     "output_type": "stream",
     "text": [
      "\n",
      "100%|██████████| 498/498 [02:39<00:00,  3.11it/s]\n",
      "100%|██████████| 166/166 [01:45<00:00,  1.57it/s]"
     ]
    },
    {
     "name": "stdout",
     "output_type": "stream",
     "text": [
      "Training Loss: 0.6394\tValidation Loss: 1.2873\n",
      "Counter train preds: Counter({0: 2247, 1: 2032, 2: 975, 4: 925, 5: 898, 3: 885})\tCounter val preds: Counter({0: 816, 1: 717, 5: 351, 2: 302, 4: 267, 3: 201})\n",
      "Epoch train QWK: 0.941\tval QWK: 0.760\n",
      "Epoch 29/69\n",
      "==========\n"
     ]
    },
    {
     "name": "stderr",
     "output_type": "stream",
     "text": [
      "\n",
      "100%|██████████| 498/498 [02:39<00:00,  3.12it/s]\n",
      "100%|██████████| 166/166 [01:45<00:00,  1.58it/s]\n"
     ]
    },
    {
     "name": "stdout",
     "output_type": "stream",
     "text": [
      "Training Loss: 0.6241\tValidation Loss: 1.2464\n",
      "Counter train preds: Counter({0: 2231, 1: 2001, 2: 985, 5: 950, 4: 913, 3: 882})\tCounter val preds: Counter({0: 786, 1: 775, 5: 364, 4: 260, 2: 235, 3: 234})\n",
      "Epoch train QWK: 0.950\tval QWK: 0.783\n",
      "  Epoch 29 - Save Best QWK: 0.7832 Model\n",
      "Confusion matrix, without normalization\n",
      "[[597  99   0  14   5   8]\n",
      " [100 490  51  12   8   5]\n",
      " [ 23 127 119  31  20  15]\n",
      " [ 24  35  41 101  41  69]\n",
      " [ 25  16  15  54 141  62]\n",
      " [ 17   8   9  22  45 205]]\n",
      "Epoch 30/69\n",
      "==========\n"
     ]
    },
    {
     "name": "stderr",
     "output_type": "stream",
     "text": [
      " 10%|█         | 50/498 [00:16<02:19,  3.21it/s]"
     ]
    },
    {
     "name": "stdout",
     "output_type": "stream",
     "text": [
      "Gradient overflow.  Skipping step, loss scaler 0 reducing loss scale to 131072.0\n"
     ]
    },
    {
     "name": "stderr",
     "output_type": "stream",
     "text": [
      "100%|██████████| 498/498 [02:39<00:00,  3.12it/s]\n",
      "100%|██████████| 166/166 [01:45<00:00,  1.58it/s]"
     ]
    },
    {
     "name": "stdout",
     "output_type": "stream",
     "text": [
      "Training Loss: 0.6267\tValidation Loss: 1.3265\n",
      "Counter train preds: Counter({0: 2226, 1: 2023, 2: 991, 4: 917, 3: 905, 5: 900})\tCounter val preds: Counter({0: 770, 1: 674, 5: 628, 2: 275, 4: 167, 3: 140})\n",
      "Epoch train QWK: 0.944\tval QWK: 0.750\n",
      "Epoch 31/69\n",
      "==========\n"
     ]
    },
    {
     "name": "stderr",
     "output_type": "stream",
     "text": [
      "\n",
      "100%|██████████| 498/498 [02:39<00:00,  3.12it/s]\n",
      "100%|██████████| 166/166 [01:45<00:00,  1.58it/s]\n"
     ]
    },
    {
     "name": "stdout",
     "output_type": "stream",
     "text": [
      "Training Loss: 0.6232\tValidation Loss: 1.2470\n",
      "Counter train preds: Counter({0: 2244, 1: 2030, 2: 963, 4: 912, 5: 908, 3: 905})\tCounter val preds: Counter({1: 809, 0: 742, 5: 390, 3: 300, 4: 226, 2: 187})\n",
      "Epoch train QWK: 0.951\tval QWK: 0.784\n",
      "  Epoch 31 - Save Best QWK: 0.7842 Model\n",
      "Confusion matrix, without normalization\n",
      "[[583 100   9  10  10  11]\n",
      " [ 85 502  36  23  18   2]\n",
      " [ 18 138 104  44  15  16]\n",
      " [ 20  42  21 149  26  53]\n",
      " [ 20  18  10  52 128  85]\n",
      " [ 16   9   7  22  29 223]]\n",
      "Epoch 32/69\n",
      "==========\n"
     ]
    },
    {
     "name": "stderr",
     "output_type": "stream",
     "text": [
      "100%|██████████| 498/498 [02:39<00:00,  3.12it/s]\n",
      "100%|██████████| 166/166 [01:45<00:00,  1.58it/s]"
     ]
    },
    {
     "name": "stdout",
     "output_type": "stream",
     "text": [
      "Training Loss: 0.5998\tValidation Loss: 1.3261\n",
      "Counter train preds: Counter({0: 2229, 1: 2016, 2: 972, 5: 920, 4: 915, 3: 910})\tCounter val preds: Counter({0: 848, 1: 713, 5: 398, 3: 289, 2: 210, 4: 196})\n",
      "Epoch train QWK: 0.957\tval QWK: 0.781\n",
      "Epoch 33/69\n",
      "==========\n"
     ]
    },
    {
     "name": "stderr",
     "output_type": "stream",
     "text": [
      "\n",
      "100%|██████████| 498/498 [02:39<00:00,  3.13it/s]\n",
      "100%|██████████| 166/166 [01:45<00:00,  1.57it/s]"
     ]
    },
    {
     "name": "stdout",
     "output_type": "stream",
     "text": [
      "Training Loss: 0.5978\tValidation Loss: 1.3179\n",
      "Counter train preds: Counter({0: 2237, 1: 2032, 2: 974, 4: 916, 5: 908, 3: 895})\tCounter val preds: Counter({0: 849, 1: 778, 5: 395, 2: 244, 4: 207, 3: 181})\n",
      "Epoch train QWK: 0.955\tval QWK: 0.779\n",
      "Epoch 34/69\n",
      "==========\n"
     ]
    },
    {
     "name": "stderr",
     "output_type": "stream",
     "text": [
      "\n",
      " 24%|██▎       | 118/498 [00:38<01:57,  3.22it/s]"
     ]
    },
    {
     "name": "stdout",
     "output_type": "stream",
     "text": [
      "Gradient overflow.  Skipping step, loss scaler 0 reducing loss scale to 131072.0\n"
     ]
    },
    {
     "name": "stderr",
     "output_type": "stream",
     "text": [
      "100%|██████████| 498/498 [02:39<00:00,  3.12it/s]\n",
      "100%|██████████| 166/166 [01:45<00:00,  1.58it/s]"
     ]
    },
    {
     "name": "stdout",
     "output_type": "stream",
     "text": [
      "Training Loss: 0.6022\tValidation Loss: 1.2897\n",
      "Counter train preds: Counter({0: 2228, 1: 2022, 2: 978, 4: 919, 5: 914, 3: 901})\tCounter val preds: Counter({0: 863, 1: 749, 5: 363, 4: 316, 2: 196, 3: 167})\n",
      "Epoch train QWK: 0.958\tval QWK: 0.776\n",
      "Epoch 35/69\n",
      "==========\n"
     ]
    },
    {
     "name": "stderr",
     "output_type": "stream",
     "text": [
      "\n",
      "100%|██████████| 498/498 [02:39<00:00,  3.12it/s]\n",
      "100%|██████████| 166/166 [01:45<00:00,  1.58it/s]"
     ]
    },
    {
     "name": "stdout",
     "output_type": "stream",
     "text": [
      "Training Loss: 0.5842\tValidation Loss: 1.2980\n",
      "Counter train preds: Counter({0: 2217, 1: 2013, 2: 989, 4: 920, 5: 917, 3: 906})\tCounter val preds: Counter({0: 920, 1: 566, 2: 385, 5: 356, 4: 295, 3: 132})\n",
      "Epoch train QWK: 0.965\tval QWK: 0.781\n",
      "Epoch 36/69\n",
      "==========\n"
     ]
    },
    {
     "name": "stderr",
     "output_type": "stream",
     "text": [
      "\n",
      "100%|██████████| 498/498 [02:39<00:00,  3.12it/s]\n",
      "100%|██████████| 166/166 [01:45<00:00,  1.58it/s]"
     ]
    },
    {
     "name": "stdout",
     "output_type": "stream",
     "text": [
      "Training Loss: 0.5848\tValidation Loss: 1.3233\n",
      "Counter train preds: Counter({0: 2212, 1: 2024, 2: 984, 4: 930, 5: 915, 3: 897})\tCounter val preds: Counter({0: 948, 1: 544, 2: 378, 5: 317, 3: 238, 4: 229})\n",
      "Epoch train QWK: 0.965\tval QWK: 0.774\n",
      "Epoch 37/69\n",
      "==========\n"
     ]
    },
    {
     "name": "stderr",
     "output_type": "stream",
     "text": [
      "\n",
      "100%|██████████| 498/498 [02:39<00:00,  3.12it/s]\n",
      "100%|██████████| 166/166 [01:45<00:00,  1.57it/s]"
     ]
    },
    {
     "name": "stdout",
     "output_type": "stream",
     "text": [
      "Training Loss: 0.5882\tValidation Loss: 1.2420\n",
      "Counter train preds: Counter({0: 2220, 1: 2018, 2: 974, 5: 924, 4: 918, 3: 908})\tCounter val preds: Counter({0: 849, 1: 711, 2: 327, 3: 292, 5: 278, 4: 197})\n",
      "Epoch train QWK: 0.964\tval QWK: 0.773\n",
      "Epoch 38/69\n",
      "==========\n"
     ]
    },
    {
     "name": "stderr",
     "output_type": "stream",
     "text": [
      "\n",
      " 53%|█████▎    | 265/498 [01:25<01:13,  3.15it/s]"
     ]
    },
    {
     "name": "stdout",
     "output_type": "stream",
     "text": [
      "Gradient overflow.  Skipping step, loss scaler 0 reducing loss scale to 131072.0\n"
     ]
    },
    {
     "name": "stderr",
     "output_type": "stream",
     "text": [
      "100%|██████████| 498/498 [02:39<00:00,  3.12it/s]\n",
      "100%|██████████| 166/166 [01:45<00:00,  1.58it/s]"
     ]
    },
    {
     "name": "stdout",
     "output_type": "stream",
     "text": [
      "Training Loss: 0.5658\tValidation Loss: 1.2767\n",
      "Counter train preds: Counter({0: 2223, 1: 2016, 2: 984, 3: 918, 5: 913, 4: 908})\tCounter val preds: Counter({0: 874, 1: 759, 5: 410, 3: 217, 4: 205, 2: 189})\n",
      "Epoch train QWK: 0.970\tval QWK: 0.780\n",
      "Epoch 39/69\n",
      "==========\n"
     ]
    },
    {
     "name": "stderr",
     "output_type": "stream",
     "text": [
      "\n",
      "100%|██████████| 498/498 [02:39<00:00,  3.12it/s]\n",
      "100%|██████████| 166/166 [01:45<00:00,  1.58it/s]"
     ]
    },
    {
     "name": "stdout",
     "output_type": "stream",
     "text": [
      "Training Loss: 0.5640\tValidation Loss: 1.2255\n",
      "Counter train preds: Counter({0: 2226, 1: 2010, 2: 972, 4: 925, 3: 920, 5: 909})\tCounter val preds: Counter({0: 856, 1: 707, 5: 327, 3: 279, 2: 265, 4: 220})\n",
      "Epoch train QWK: 0.969\tval QWK: 0.783\n",
      "Epoch 40/69\n",
      "==========\n"
     ]
    },
    {
     "name": "stderr",
     "output_type": "stream",
     "text": [
      "\n",
      "100%|██████████| 498/498 [02:39<00:00,  3.12it/s]\n",
      "100%|██████████| 166/166 [01:45<00:00,  1.57it/s]"
     ]
    },
    {
     "name": "stdout",
     "output_type": "stream",
     "text": [
      "Training Loss: 0.5628\tValidation Loss: 1.2443\n",
      "Counter train preds: Counter({0: 2201, 1: 2024, 2: 990, 4: 929, 5: 914, 3: 904})\tCounter val preds: Counter({0: 919, 1: 679, 5: 330, 4: 276, 2: 228, 3: 222})\n",
      "Epoch train QWK: 0.972\tval QWK: 0.779\n",
      "Epoch 41/69\n",
      "==========\n"
     ]
    },
    {
     "name": "stderr",
     "output_type": "stream",
     "text": [
      "\n",
      "100%|██████████| 498/498 [02:52<00:00,  2.88it/s]\n",
      "100%|██████████| 166/166 [01:53<00:00,  1.46it/s]"
     ]
    },
    {
     "name": "stdout",
     "output_type": "stream",
     "text": [
      "Training Loss: 0.5580\tValidation Loss: 1.2595\n",
      "Counter train preds: Counter({0: 2205, 1: 2033, 2: 969, 4: 929, 3: 920, 5: 906})\tCounter val preds: Counter({0: 807, 1: 770, 5: 391, 4: 300, 2: 234, 3: 152})\n",
      "Epoch train QWK: 0.971\tval QWK: 0.775\n",
      "Epoch 42/69\n",
      "==========\n"
     ]
    },
    {
     "name": "stderr",
     "output_type": "stream",
     "text": [
      "\n",
      " 72%|███████▏  | 359/498 [01:55<00:44,  3.13it/s]"
     ]
    },
    {
     "name": "stdout",
     "output_type": "stream",
     "text": [
      "Gradient overflow.  Skipping step, loss scaler 0 reducing loss scale to 131072.0\n"
     ]
    },
    {
     "name": "stderr",
     "output_type": "stream",
     "text": [
      "100%|██████████| 498/498 [02:40<00:00,  3.11it/s]\n",
      "100%|██████████| 166/166 [01:45<00:00,  1.58it/s]\n"
     ]
    },
    {
     "name": "stdout",
     "output_type": "stream",
     "text": [
      "Training Loss: 0.5607\tValidation Loss: 1.2209\n",
      "Counter train preds: Counter({0: 2211, 1: 1991, 2: 1013, 4: 925, 5: 911, 3: 911})\tCounter val preds: Counter({0: 851, 1: 656, 2: 350, 5: 311, 4: 286, 3: 200})\n",
      "Epoch train QWK: 0.970\tval QWK: 0.792\n",
      "  Epoch 42 - Save Best QWK: 0.7922 Model\n",
      "Confusion matrix, without normalization\n",
      "[[638  62   9   5   3   6]\n",
      " [112 444  95   6   8   1]\n",
      " [ 26  96 166  21  17   9]\n",
      " [ 27  29  51 109  54  41]\n",
      " [ 22  18  19  39 162  53]\n",
      " [ 26   7  10  20  42 201]]\n",
      "Epoch 43/69\n",
      "==========\n"
     ]
    },
    {
     "name": "stderr",
     "output_type": "stream",
     "text": [
      "100%|██████████| 498/498 [02:38<00:00,  3.13it/s]\n",
      "100%|██████████| 166/166 [01:44<00:00,  1.58it/s]"
     ]
    },
    {
     "name": "stdout",
     "output_type": "stream",
     "text": [
      "Training Loss: 0.5493\tValidation Loss: 1.2382\n",
      "Counter train preds: Counter({0: 2218, 1: 2002, 2: 992, 4: 929, 5: 921, 3: 900})\tCounter val preds: Counter({0: 884, 1: 622, 4: 388, 5: 323, 2: 263, 3: 174})\n",
      "Epoch train QWK: 0.973\tval QWK: 0.778\n",
      "Epoch 44/69\n",
      "==========\n"
     ]
    },
    {
     "name": "stderr",
     "output_type": "stream",
     "text": [
      "\n",
      "100%|██████████| 498/498 [02:39<00:00,  3.13it/s]\n",
      "100%|██████████| 166/166 [01:44<00:00,  1.58it/s]"
     ]
    },
    {
     "name": "stdout",
     "output_type": "stream",
     "text": [
      "Training Loss: 0.5492\tValidation Loss: 1.2512\n",
      "Counter train preds: Counter({0: 2211, 1: 2013, 2: 993, 4: 925, 3: 913, 5: 907})\tCounter val preds: Counter({0: 817, 1: 736, 5: 321, 3: 273, 2: 267, 4: 240})\n",
      "Epoch train QWK: 0.974\tval QWK: 0.791\n",
      "Epoch 45/69\n",
      "==========\n"
     ]
    },
    {
     "name": "stderr",
     "output_type": "stream",
     "text": [
      "\n",
      "100%|██████████| 498/498 [02:39<00:00,  3.13it/s]\n",
      "100%|██████████| 166/166 [01:45<00:00,  1.58it/s]\n"
     ]
    },
    {
     "name": "stdout",
     "output_type": "stream",
     "text": [
      "Training Loss: 0.5397\tValidation Loss: 1.2766\n",
      "Counter train preds: Counter({0: 2203, 1: 2009, 2: 1002, 4: 923, 3: 914, 5: 911})\tCounter val preds: Counter({0: 782, 1: 759, 5: 371, 2: 278, 3: 247, 4: 217})\n",
      "Epoch train QWK: 0.975\tval QWK: 0.794\n",
      "  Epoch 45 - Save Best QWK: 0.7941 Model\n",
      "Confusion matrix, without normalization\n",
      "[[601  96   9   7   4   6]\n",
      " [ 88 487  71  12   8   0]\n",
      " [ 23 115 138  30  16  13]\n",
      " [ 29  29  36 130  34  53]\n",
      " [ 23  22  16  45 129  78]\n",
      " [ 18  10   8  23  26 221]]\n",
      "Epoch 46/69\n",
      "==========\n"
     ]
    },
    {
     "name": "stderr",
     "output_type": "stream",
     "text": [
      "100%|██████████| 498/498 [02:39<00:00,  3.13it/s]\n",
      "100%|██████████| 166/166 [01:44<00:00,  1.59it/s]"
     ]
    },
    {
     "name": "stdout",
     "output_type": "stream",
     "text": [
      "Training Loss: 0.5336\tValidation Loss: 1.2424\n",
      "Counter train preds: Counter({0: 2208, 1: 2026, 2: 970, 3: 926, 4: 916, 5: 916})\tCounter val preds: Counter({0: 877, 1: 618, 5: 342, 2: 296, 3: 270, 4: 251})\n",
      "Epoch train QWK: 0.979\tval QWK: 0.780\n",
      "Epoch 47/69\n",
      "==========\n"
     ]
    },
    {
     "name": "stderr",
     "output_type": "stream",
     "text": [
      "\n",
      " 42%|████▏     | 210/498 [01:07<01:28,  3.24it/s]"
     ]
    },
    {
     "name": "stdout",
     "output_type": "stream",
     "text": [
      "Gradient overflow.  Skipping step, loss scaler 0 reducing loss scale to 131072.0\n"
     ]
    },
    {
     "name": "stderr",
     "output_type": "stream",
     "text": [
      "100%|██████████| 498/498 [02:39<00:00,  3.13it/s]\n",
      "100%|██████████| 166/166 [01:44<00:00,  1.59it/s]"
     ]
    },
    {
     "name": "stdout",
     "output_type": "stream",
     "text": [
      "Training Loss: 0.5357\tValidation Loss: 1.2468\n",
      "Counter train preds: Counter({0: 2198, 1: 2001, 2: 1000, 3: 925, 5: 920, 4: 918})\tCounter val preds: Counter({0: 833, 1: 622, 5: 369, 2: 333, 4: 286, 3: 211})\n",
      "Epoch train QWK: 0.976\tval QWK: 0.791\n",
      "Epoch 48/69\n",
      "==========\n"
     ]
    },
    {
     "name": "stderr",
     "output_type": "stream",
     "text": [
      "\n",
      "100%|██████████| 498/498 [02:38<00:00,  3.13it/s]\n",
      "100%|██████████| 166/166 [01:44<00:00,  1.58it/s]"
     ]
    },
    {
     "name": "stdout",
     "output_type": "stream",
     "text": [
      "Training Loss: 0.5300\tValidation Loss: 1.2505\n",
      "Counter train preds: Counter({0: 2207, 1: 2005, 2: 987, 4: 925, 3: 921, 5: 917})\tCounter val preds: Counter({0: 864, 1: 685, 5: 410, 2: 305, 3: 232, 4: 158})\n",
      "Epoch train QWK: 0.976\tval QWK: 0.782\n",
      "Epoch 49/69\n",
      "==========\n"
     ]
    },
    {
     "name": "stderr",
     "output_type": "stream",
     "text": [
      "\n",
      "100%|██████████| 498/498 [02:39<00:00,  3.13it/s]\n",
      "100%|██████████| 166/166 [01:44<00:00,  1.58it/s]"
     ]
    },
    {
     "name": "stdout",
     "output_type": "stream",
     "text": [
      "Training Loss: 0.5255\tValidation Loss: 1.2263\n",
      "Counter train preds: Counter({0: 2211, 1: 1998, 2: 985, 3: 933, 4: 922, 5: 913})\tCounter val preds: Counter({0: 860, 1: 639, 4: 322, 5: 321, 3: 262, 2: 250})\n",
      "Epoch train QWK: 0.979\tval QWK: 0.782\n",
      "Epoch 50/69\n",
      "==========\n"
     ]
    },
    {
     "name": "stderr",
     "output_type": "stream",
     "text": [
      "\n",
      "100%|██████████| 498/498 [02:38<00:00,  3.13it/s]\n",
      "100%|██████████| 166/166 [01:44<00:00,  1.59it/s]"
     ]
    },
    {
     "name": "stdout",
     "output_type": "stream",
     "text": [
      "Training Loss: 0.5191\tValidation Loss: 1.2223\n",
      "Counter train preds: Counter({0: 2201, 1: 2002, 2: 1000, 3: 925, 5: 920, 4: 914})\tCounter val preds: Counter({0: 821, 1: 681, 5: 352, 2: 317, 4: 260, 3: 223})\n",
      "Epoch train QWK: 0.978\tval QWK: 0.789\n",
      "Epoch 51/69\n",
      "==========\n"
     ]
    },
    {
     "name": "stderr",
     "output_type": "stream",
     "text": [
      "\n",
      "100%|██████████| 498/498 [02:39<00:00,  3.13it/s]\n",
      "100%|██████████| 166/166 [01:45<00:00,  1.58it/s]"
     ]
    },
    {
     "name": "stdout",
     "output_type": "stream",
     "text": [
      "Training Loss: 0.5231\tValidation Loss: 1.2042\n",
      "Counter train preds: Counter({0: 2196, 1: 2016, 2: 996, 3: 918, 4: 918, 5: 918})\tCounter val preds: Counter({0: 871, 1: 693, 5: 368, 4: 259, 3: 234, 2: 229})\n",
      "Epoch train QWK: 0.979\tval QWK: 0.792\n",
      "Epoch 52/69\n",
      "==========\n"
     ]
    },
    {
     "name": "stderr",
     "output_type": "stream",
     "text": [
      "\n",
      "100%|██████████| 498/498 [02:39<00:00,  3.13it/s]\n",
      "100%|██████████| 166/166 [01:45<00:00,  1.58it/s]\n"
     ]
    },
    {
     "name": "stdout",
     "output_type": "stream",
     "text": [
      "Training Loss: 0.5202\tValidation Loss: 1.2124\n",
      "Counter train preds: Counter({0: 2211, 1: 2005, 2: 992, 4: 926, 3: 917, 5: 911})\tCounter val preds: Counter({0: 834, 1: 772, 5: 327, 4: 267, 2: 238, 3: 216})\n",
      "Epoch train QWK: 0.982\tval QWK: 0.795\n",
      "  Epoch 52 - Save Best QWK: 0.7946 Model\n",
      "Confusion matrix, without normalization\n",
      "[[629  73   7   5   3   6]\n",
      " [111 496  42  11   5   1]\n",
      " [ 25 137 119  26  17  11]\n",
      " [ 25  34  45 119  36  52]\n",
      " [ 23  22  15  34 162  57]\n",
      " [ 21  10  10  21  44 200]]\n",
      "Epoch 53/69\n",
      "==========\n"
     ]
    },
    {
     "name": "stderr",
     "output_type": "stream",
     "text": [
      "100%|██████████| 498/498 [02:39<00:00,  3.13it/s]\n",
      "100%|██████████| 166/166 [01:44<00:00,  1.59it/s]"
     ]
    },
    {
     "name": "stdout",
     "output_type": "stream",
     "text": [
      "Training Loss: 0.5149\tValidation Loss: 1.2002\n",
      "Counter train preds: Counter({0: 2194, 1: 2013, 2: 1005, 4: 925, 3: 922, 5: 903})\tCounter val preds: Counter({0: 812, 1: 685, 5: 350, 2: 303, 4: 287, 3: 217})\n",
      "Epoch train QWK: 0.983\tval QWK: 0.794\n",
      "Epoch 54/69\n",
      "==========\n"
     ]
    },
    {
     "name": "stderr",
     "output_type": "stream",
     "text": [
      "\n",
      "100%|██████████| 498/498 [02:39<00:00,  3.13it/s]\n",
      "100%|██████████| 166/166 [01:44<00:00,  1.59it/s]"
     ]
    },
    {
     "name": "stdout",
     "output_type": "stream",
     "text": [
      "Training Loss: 0.5091\tValidation Loss: 1.2070\n",
      "Counter train preds: Counter({0: 2193, 1: 2012, 2: 992, 3: 926, 4: 923, 5: 916})\tCounter val preds: Counter({0: 846, 1: 743, 5: 331, 2: 276, 3: 249, 4: 209})\n",
      "Epoch train QWK: 0.986\tval QWK: 0.791\n",
      "Epoch 55/69\n",
      "==========\n"
     ]
    },
    {
     "name": "stderr",
     "output_type": "stream",
     "text": [
      "\n",
      " 46%|████▌     | 227/498 [01:12<01:25,  3.16it/s]"
     ]
    },
    {
     "name": "stdout",
     "output_type": "stream",
     "text": [
      "Gradient overflow.  Skipping step, loss scaler 0 reducing loss scale to 262144.0\n"
     ]
    },
    {
     "name": "stderr",
     "output_type": "stream",
     "text": [
      "100%|██████████| 498/498 [02:38<00:00,  3.13it/s]\n",
      "100%|██████████| 166/166 [01:44<00:00,  1.59it/s]\n"
     ]
    },
    {
     "name": "stdout",
     "output_type": "stream",
     "text": [
      "Training Loss: 0.5126\tValidation Loss: 1.2036\n",
      "Counter train preds: Counter({0: 2195, 1: 1997, 2: 1011, 3: 930, 5: 917, 4: 912})\tCounter val preds: Counter({0: 858, 1: 726, 5: 351, 4: 293, 2: 230, 3: 196})\n",
      "Epoch train QWK: 0.984\tval QWK: 0.795\n",
      "  Epoch 55 - Save Best QWK: 0.7947 Model\n",
      "Confusion matrix, without normalization\n",
      "[[639  62   7   4   6   5]\n",
      " [116 485  46   8   9   2]\n",
      " [ 25 127 115  30  28  10]\n",
      " [ 29  27  40 110  51  54]\n",
      " [ 27  16  16  28 159  67]\n",
      " [ 22   9   6  16  40 213]]\n",
      "Epoch 56/69\n",
      "==========\n"
     ]
    },
    {
     "name": "stderr",
     "output_type": "stream",
     "text": [
      " 18%|█▊        | 89/498 [00:28<02:10,  3.14it/s]"
     ]
    },
    {
     "name": "stdout",
     "output_type": "stream",
     "text": [
      "Gradient overflow.  Skipping step, loss scaler 0 reducing loss scale to 131072.0\n"
     ]
    },
    {
     "name": "stderr",
     "output_type": "stream",
     "text": [
      "100%|██████████| 498/498 [02:39<00:00,  3.13it/s]\n",
      "100%|██████████| 166/166 [01:44<00:00,  1.58it/s]"
     ]
    },
    {
     "name": "stdout",
     "output_type": "stream",
     "text": [
      "Training Loss: 0.5114\tValidation Loss: 1.2007\n",
      "Counter train preds: Counter({0: 2201, 1: 2021, 2: 982, 4: 922, 3: 922, 5: 914})\tCounter val preds: Counter({0: 830, 1: 645, 4: 343, 2: 330, 5: 297, 3: 209})\n",
      "Epoch train QWK: 0.985\tval QWK: 0.794\n",
      "Epoch 57/69\n",
      "==========\n"
     ]
    },
    {
     "name": "stderr",
     "output_type": "stream",
     "text": [
      "\n",
      "100%|██████████| 498/498 [02:39<00:00,  3.12it/s]\n",
      "100%|██████████| 166/166 [01:44<00:00,  1.58it/s]\n"
     ]
    },
    {
     "name": "stdout",
     "output_type": "stream",
     "text": [
      "Training Loss: 0.5086\tValidation Loss: 1.1928\n",
      "Counter train preds: Counter({0: 2204, 1: 1998, 2: 990, 4: 927, 3: 922, 5: 921})\tCounter val preds: Counter({0: 842, 1: 718, 5: 335, 4: 291, 2: 250, 3: 218})\n",
      "Epoch train QWK: 0.984\tval QWK: 0.783\n",
      "  Epoch 57 - Save Best Loss: 1.1928 Model\n",
      "Confusion matrix, without normalization\n",
      "[[630  66   9   3   6   9]\n",
      " [112 478  51   7  12   6]\n",
      " [ 24 127 122  29  23  10]\n",
      " [ 28  27  40 119  45  52]\n",
      " [ 26  13  15  41 163  55]\n",
      " [ 22   7  13  19  42 203]]\n",
      "Epoch 58/69\n",
      "==========\n"
     ]
    },
    {
     "name": "stderr",
     "output_type": "stream",
     "text": [
      "100%|██████████| 498/498 [02:39<00:00,  3.13it/s]\n",
      "100%|██████████| 166/166 [01:45<00:00,  1.58it/s]"
     ]
    },
    {
     "name": "stdout",
     "output_type": "stream",
     "text": [
      "Training Loss: 0.5073\tValidation Loss: 1.2004\n",
      "Counter train preds: Counter({0: 2191, 1: 2004, 2: 1005, 4: 924, 3: 919, 5: 919})\tCounter val preds: Counter({0: 857, 1: 663, 5: 376, 2: 303, 4: 258, 3: 197})\n",
      "Epoch train QWK: 0.983\tval QWK: 0.790\n",
      "Epoch 59/69\n",
      "==========\n"
     ]
    },
    {
     "name": "stderr",
     "output_type": "stream",
     "text": [
      "\n",
      "100%|██████████| 498/498 [02:39<00:00,  3.13it/s]\n",
      "100%|██████████| 166/166 [01:44<00:00,  1.59it/s]"
     ]
    },
    {
     "name": "stdout",
     "output_type": "stream",
     "text": [
      "Training Loss: 0.4995\tValidation Loss: 1.1994\n",
      "Counter train preds: Counter({0: 2191, 1: 2004, 2: 995, 3: 932, 4: 925, 5: 915})\tCounter val preds: Counter({0: 842, 1: 772, 5: 320, 4: 317, 2: 229, 3: 174})\n",
      "Epoch train QWK: 0.987\tval QWK: 0.794\n",
      "Epoch 60/69\n",
      "==========\n"
     ]
    },
    {
     "name": "stderr",
     "output_type": "stream",
     "text": [
      "\n",
      "100%|██████████| 498/498 [02:39<00:00,  3.13it/s]\n",
      "100%|██████████| 166/166 [01:44<00:00,  1.58it/s]"
     ]
    },
    {
     "name": "stdout",
     "output_type": "stream",
     "text": [
      "Training Loss: 0.5066\tValidation Loss: 1.1966\n",
      "Counter train preds: Counter({0: 2194, 1: 1994, 2: 995, 4: 933, 3: 931, 5: 915})\tCounter val preds: Counter({0: 790, 1: 771, 5: 354, 2: 267, 4: 266, 3: 206})\n",
      "Epoch train QWK: 0.986\tval QWK: 0.786\n",
      "Epoch 61/69\n",
      "==========\n"
     ]
    },
    {
     "name": "stderr",
     "output_type": "stream",
     "text": [
      "\n",
      " 17%|█▋        | 83/498 [00:27<02:10,  3.19it/s]"
     ]
    },
    {
     "name": "stdout",
     "output_type": "stream",
     "text": [
      "Gradient overflow.  Skipping step, loss scaler 0 reducing loss scale to 131072.0\n"
     ]
    },
    {
     "name": "stderr",
     "output_type": "stream",
     "text": [
      "100%|██████████| 498/498 [02:39<00:00,  3.13it/s]\n",
      "100%|██████████| 166/166 [01:44<00:00,  1.58it/s]\n"
     ]
    },
    {
     "name": "stdout",
     "output_type": "stream",
     "text": [
      "Training Loss: 0.5059\tValidation Loss: 1.2074\n",
      "Counter train preds: Counter({0: 2208, 1: 2016, 2: 980, 3: 926, 4: 922, 5: 910})\tCounter val preds: Counter({0: 834, 1: 677, 4: 328, 5: 323, 2: 307, 3: 185})\n",
      "Epoch train QWK: 0.983\tval QWK: 0.796\n",
      "  Epoch 61 - Save Best QWK: 0.7964 Model\n",
      "Confusion matrix, without normalization\n",
      "[[634  66   9   4   7   3]\n",
      " [109 455  78   9  11   4]\n",
      " [ 22 105 144  24  27  13]\n",
      " [ 26  28  47 105  57  48]\n",
      " [ 23  15  17  26 179  53]\n",
      " [ 20   8  12  17  47 202]]\n",
      "Epoch 62/69\n",
      "==========\n"
     ]
    },
    {
     "name": "stderr",
     "output_type": "stream",
     "text": [
      "100%|██████████| 498/498 [02:38<00:00,  3.14it/s]\n",
      "100%|██████████| 166/166 [01:44<00:00,  1.58it/s]\n"
     ]
    },
    {
     "name": "stdout",
     "output_type": "stream",
     "text": [
      "Training Loss: 0.5012\tValidation Loss: 1.1882\n",
      "Counter train preds: Counter({0: 2196, 1: 2017, 2: 991, 4: 932, 3: 914, 5: 912})\tCounter val preds: Counter({0: 792, 1: 772, 5: 318, 2: 290, 4: 271, 3: 211})\n",
      "Epoch train QWK: 0.985\tval QWK: 0.787\n",
      "  Epoch 62 - Save Best Loss: 1.1882 Model\n",
      "Confusion matrix, without normalization\n",
      "[[610  86  11   4   5   7]\n",
      " [ 97 491  61   9   5   3]\n",
      " [ 19 126 139  22  17  12]\n",
      " [ 26  31  49 119  44  42]\n",
      " [ 21  26  16  36 160  54]\n",
      " [ 19  12  14  21  40 200]]\n",
      "Epoch 63/69\n",
      "==========\n"
     ]
    },
    {
     "name": "stderr",
     "output_type": "stream",
     "text": [
      "100%|██████████| 498/498 [02:39<00:00,  3.13it/s]\n",
      "100%|██████████| 166/166 [01:44<00:00,  1.58it/s]"
     ]
    },
    {
     "name": "stdout",
     "output_type": "stream",
     "text": [
      "Training Loss: 0.5047\tValidation Loss: 1.1950\n",
      "Counter train preds: Counter({0: 2200, 1: 2004, 2: 1000, 3: 927, 4: 923, 5: 908})\tCounter val preds: Counter({0: 791, 1: 682, 5: 393, 2: 342, 4: 268, 3: 178})\n",
      "Epoch train QWK: 0.984\tval QWK: 0.787\n",
      "Epoch 64/69\n",
      "==========\n"
     ]
    },
    {
     "name": "stderr",
     "output_type": "stream",
     "text": [
      "\n",
      "100%|██████████| 498/498 [02:39<00:00,  3.13it/s]\n",
      "100%|██████████| 166/166 [01:44<00:00,  1.58it/s]"
     ]
    },
    {
     "name": "stdout",
     "output_type": "stream",
     "text": [
      "Training Loss: 0.5065\tValidation Loss: 1.2155\n",
      "Counter train preds: Counter({0: 2189, 1: 2012, 2: 1004, 5: 923, 4: 918, 3: 916})\tCounter val preds: Counter({0: 857, 1: 680, 5: 369, 4: 285, 2: 258, 3: 205})\n",
      "Epoch train QWK: 0.982\tval QWK: 0.790\n",
      "Epoch 65/69\n",
      "==========\n"
     ]
    },
    {
     "name": "stderr",
     "output_type": "stream",
     "text": [
      "\n",
      "100%|██████████| 498/498 [02:39<00:00,  3.13it/s]\n",
      "100%|██████████| 166/166 [01:44<00:00,  1.59it/s]"
     ]
    },
    {
     "name": "stdout",
     "output_type": "stream",
     "text": [
      "Training Loss: 0.4960\tValidation Loss: 1.2135\n",
      "Counter train preds: Counter({0: 2197, 1: 1996, 2: 998, 4: 933, 3: 925, 5: 913})\tCounter val preds: Counter({0: 813, 1: 753, 5: 401, 2: 257, 3: 231, 4: 199})\n",
      "Epoch train QWK: 0.989\tval QWK: 0.793\n",
      "Epoch 66/69\n",
      "==========\n"
     ]
    },
    {
     "name": "stderr",
     "output_type": "stream",
     "text": [
      "\n",
      "100%|██████████| 498/498 [02:38<00:00,  3.14it/s]\n",
      "100%|██████████| 166/166 [01:44<00:00,  1.59it/s]"
     ]
    },
    {
     "name": "stdout",
     "output_type": "stream",
     "text": [
      "Training Loss: 0.5009\tValidation Loss: 1.1946\n",
      "Counter train preds: Counter({0: 2193, 1: 1999, 2: 999, 3: 927, 4: 922, 5: 922})\tCounter val preds: Counter({0: 808, 1: 757, 5: 354, 4: 256, 3: 256, 2: 223})\n",
      "Epoch train QWK: 0.985\tval QWK: 0.795\n",
      "Epoch 67/69\n",
      "==========\n"
     ]
    },
    {
     "name": "stderr",
     "output_type": "stream",
     "text": [
      "\n",
      "100%|██████████| 498/498 [02:38<00:00,  3.13it/s]\n",
      "100%|██████████| 166/166 [01:44<00:00,  1.59it/s]"
     ]
    },
    {
     "name": "stdout",
     "output_type": "stream",
     "text": [
      "Training Loss: 0.5024\tValidation Loss: 1.2019\n",
      "Counter train preds: Counter({0: 2190, 1: 2009, 2: 994, 4: 932, 3: 929, 5: 908})\tCounter val preds: Counter({0: 856, 1: 684, 5: 404, 4: 255, 2: 237, 3: 218})\n",
      "Epoch train QWK: 0.986\tval QWK: 0.789\n",
      "Epoch 68/69\n",
      "==========\n"
     ]
    },
    {
     "name": "stderr",
     "output_type": "stream",
     "text": [
      "\n",
      " 94%|█████████▍| 468/498 [02:29<00:09,  3.23it/s]"
     ]
    },
    {
     "name": "stdout",
     "output_type": "stream",
     "text": [
      "Gradient overflow.  Skipping step, loss scaler 0 reducing loss scale to 131072.0\n"
     ]
    },
    {
     "name": "stderr",
     "output_type": "stream",
     "text": [
      "100%|██████████| 498/498 [02:39<00:00,  3.12it/s]\n",
      "100%|██████████| 166/166 [01:44<00:00,  1.59it/s]"
     ]
    },
    {
     "name": "stdout",
     "output_type": "stream",
     "text": [
      "Training Loss: 0.5030\tValidation Loss: 1.1945\n",
      "Counter train preds: Counter({0: 2209, 1: 2006, 2: 993, 4: 922, 5: 917, 3: 915})\tCounter val preds: Counter({0: 815, 1: 751, 5: 338, 3: 271, 2: 262, 4: 217})\n",
      "Epoch train QWK: 0.985\tval QWK: 0.791\n",
      "Epoch 69/69\n",
      "==========\n"
     ]
    },
    {
     "name": "stderr",
     "output_type": "stream",
     "text": [
      "\n",
      "100%|██████████| 498/498 [02:39<00:00,  3.13it/s]\n",
      "100%|██████████| 166/166 [01:44<00:00,  1.58it/s]"
     ]
    },
    {
     "name": "stdout",
     "output_type": "stream",
     "text": [
      "Training Loss: 0.4993\tValidation Loss: 1.1958\n",
      "Counter train preds: Counter({0: 2187, 1: 2011, 2: 988, 3: 934, 4: 932, 5: 910})\tCounter val preds: Counter({0: 813, 1: 772, 5: 337, 4: 262, 2: 250, 3: 220})\n",
      "Epoch train QWK: 0.988\tval QWK: 0.794\n"
     ]
    },
    {
     "name": "stderr",
     "output_type": "stream",
     "text": [
      "\n"
     ]
    }
   ],
   "source": [
    "# get folds\n",
    "train_df = folds[folds[\"fold\"] != 0].copy()\n",
    "val_df = folds[folds[\"fold\"] == 0].copy()\n",
    "# define datasets\n",
    "if CFG.use_lazy:\n",
    "    train_ds = LazyTilesDataset(train_df, transform=get_transforms(data=\"train\", aug=CFG.aug_type), debug=False)\n",
    "    val_ds = TilesTrainDataset(val_df, is_train=False, transform=get_transforms(data=\"valid\"), debug=False) # same allways to compare with previous results\n",
    "else:\n",
    "    train_ds = TilesTrainDataset(train_df, is_train=CFG.stoch_sample, transform=get_transforms(data=\"train\", aug=CFG.aug_type), debug=False)\n",
    "    val_ds = TilesTrainDataset(val_df, is_train=False, transform=get_transforms(data=\"valid\"), debug=False)\n",
    "# define a data loader\n",
    "train_dataloader = DataLoader(train_ds, batch_size=CFG.batch_size, shuffle=True, num_workers=8)\n",
    "val_dataloader = DataLoader(val_ds, batch_size=CFG.batch_size, shuffle=False, num_workers=6)\n",
    "\n",
    "model_ft = make_RN50_cls()\n",
    "# initialize bias in the model\n",
    "cls_probas = (train_df[CFG.target_col].value_counts() / len(train_df)).values\n",
    "model_ft = init_last_layer_bias(model_ft, cls_probas)\n",
    "\n",
    "criterion = LOSSES[CFG.loss]\n",
    "\n",
    "\n",
    "if CFG.finetune == \"1stage\":\n",
    "    freeze_botom(model_ft)\n",
    "    interm_params = [p[1] for p in model_ft.named_parameters() if (not p[0].startswith('fc') and p[1].requires_grad)]\n",
    "    optimizer = torch.optim.Adam([\n",
    "                {'params': interm_params, 'lr': CFG.lr},\n",
    "                {'params': model_ft.fc.parameters(), 'lr': CFG.lr*10}\n",
    "            ])\n",
    "else:\n",
    "    optimizer = torch.optim.Adam(model_ft.parameters(), lr=CFG.lr, amsgrad=False)\n",
    "    \n",
    "scheduler, sch_is_epoch_type = get_scheduler(optimizer, train_dataloader)\n",
    "\n",
    "train_eval_loop(train_dataloader, val_dataloader, model_ft, optimizer, criterion, scheduler, sch_is_epoch_type, model_name=EXP_NAME)"
   ]
  },
  {
   "cell_type": "markdown",
   "metadata": {},
   "source": [
    "### Train with CV"
   ]
  },
  {
   "cell_type": "code",
   "execution_count": 34,
   "metadata": {
    "collapsed": true,
    "jupyter": {
     "outputs_hidden": true
    }
   },
   "outputs": [
    {
     "name": "stdout",
     "output_type": "stream",
     "text": [
      "Train with CV, on fold 0\n",
      "Epoch 0/9\n",
      "----------\n"
     ]
    },
    {
     "name": "stderr",
     "output_type": "stream",
     "text": [
      "100%|██████████| 5/5 [00:00<00:00,  7.61it/s]"
     ]
    },
    {
     "name": "stdout",
     "output_type": "stream",
     "text": [
      "Visualising input\n"
     ]
    },
    {
     "name": "stderr",
     "output_type": "stream",
     "text": [
      "\n",
      "100%|██████████| 2/2 [00:00<00:00,  3.84it/s]"
     ]
    },
    {
     "name": "stdout",
     "output_type": "stream",
     "text": [
      "Training Loss: 1.7832\tValidation Loss: 1.6735\n",
      "Counter train preds: Counter({1: 50, 4: 11, 3: 8, 0: 6})\tCounter val preds: Counter({0: 25})\n",
      "Epoch train QWK: 0.193\tval QWK: 0.000\n",
      "Epoch 1/9\n",
      "----------\n"
     ]
    },
    {
     "name": "stderr",
     "output_type": "stream",
     "text": [
      "\n",
      "100%|██████████| 5/5 [00:00<00:00,  7.82it/s]"
     ]
    },
    {
     "name": "stdout",
     "output_type": "stream",
     "text": [
      "Visualising input\n"
     ]
    },
    {
     "name": "stderr",
     "output_type": "stream",
     "text": [
      "\n",
      "100%|██████████| 2/2 [00:00<00:00,  4.13it/s]"
     ]
    },
    {
     "name": "stdout",
     "output_type": "stream",
     "text": [
      "Training Loss: 1.5393\tValidation Loss: 1.6932\n",
      "Counter train preds: Counter({1: 39, 0: 21, 3: 7, 4: 6, 5: 2})\tCounter val preds: Counter({1: 25})\n",
      "Epoch train QWK: 0.236\tval QWK: 0.000\n",
      "Epoch 2/9\n",
      "----------\n"
     ]
    },
    {
     "name": "stderr",
     "output_type": "stream",
     "text": [
      "\n",
      "100%|██████████| 5/5 [00:00<00:00,  7.61it/s]"
     ]
    },
    {
     "name": "stdout",
     "output_type": "stream",
     "text": [
      "Visualising input\n"
     ]
    },
    {
     "name": "stderr",
     "output_type": "stream",
     "text": [
      "\n",
      "100%|██████████| 2/2 [00:00<00:00,  4.02it/s]"
     ]
    },
    {
     "name": "stdout",
     "output_type": "stream",
     "text": [
      "Training Loss: 1.4436\tValidation Loss: 1.7056\n",
      "Counter train preds: Counter({1: 34, 0: 26, 3: 7, 5: 5, 4: 3})\tCounter val preds: Counter({1: 25})\n",
      "Epoch train QWK: 0.321\tval QWK: 0.000\n",
      "Epoch 3/9\n",
      "----------\n"
     ]
    },
    {
     "name": "stderr",
     "output_type": "stream",
     "text": [
      "\n",
      "100%|██████████| 5/5 [00:00<00:00,  5.05it/s]"
     ]
    },
    {
     "name": "stdout",
     "output_type": "stream",
     "text": [
      "Visualising input\n"
     ]
    },
    {
     "name": "stderr",
     "output_type": "stream",
     "text": [
      "100%|██████████| 5/5 [00:00<00:00,  7.88it/s]\n",
      "100%|██████████| 2/2 [00:00<00:00,  2.04it/s]"
     ]
    },
    {
     "name": "stdout",
     "output_type": "stream",
     "text": [
      "Training Loss: 1.4152\tValidation Loss: 1.6723\n",
      "Counter train preds: Counter({0: 33, 1: 31, 3: 5, 4: 5, 5: 1})\tCounter val preds: Counter({1: 25})\n",
      "Epoch train QWK: 0.282\tval QWK: 0.000\n",
      "Epoch 4/9\n",
      "----------\n"
     ]
    },
    {
     "name": "stderr",
     "output_type": "stream",
     "text": [
      "\n",
      " 20%|██        | 1/5 [00:00<00:01,  2.74it/s]"
     ]
    },
    {
     "name": "stdout",
     "output_type": "stream",
     "text": [
      "Visualising input\n"
     ]
    },
    {
     "name": "stderr",
     "output_type": "stream",
     "text": [
      "100%|██████████| 5/5 [00:00<00:00,  7.80it/s]\n",
      "100%|██████████| 2/2 [00:00<00:00,  3.81it/s]"
     ]
    },
    {
     "name": "stdout",
     "output_type": "stream",
     "text": [
      "Training Loss: 1.3904\tValidation Loss: 1.6386\n",
      "Counter train preds: Counter({1: 33, 0: 28, 4: 6, 3: 5, 5: 3})\tCounter val preds: Counter({1: 15, 5: 3, 0: 3, 2: 2, 4: 1, 3: 1})\n",
      "Epoch train QWK: 0.393\tval QWK: 0.186\n",
      "Epoch 5/9\n",
      "----------\n"
     ]
    },
    {
     "name": "stderr",
     "output_type": "stream",
     "text": [
      "\n",
      " 20%|██        | 1/5 [00:00<00:01,  2.53it/s]"
     ]
    },
    {
     "name": "stdout",
     "output_type": "stream",
     "text": [
      "Visualising input\n"
     ]
    },
    {
     "name": "stderr",
     "output_type": "stream",
     "text": [
      "100%|██████████| 5/5 [00:00<00:00,  7.49it/s]\n",
      "100%|██████████| 2/2 [00:00<00:00,  3.79it/s]"
     ]
    },
    {
     "name": "stdout",
     "output_type": "stream",
     "text": [
      "Training Loss: 1.3730\tValidation Loss: 1.6927\n",
      "Counter train preds: Counter({0: 33, 1: 26, 5: 7, 3: 4, 4: 4, 2: 1})\tCounter val preds: Counter({1: 13, 5: 6, 2: 4, 3: 1, 0: 1})\n",
      "Epoch train QWK: 0.517\tval QWK: 0.545\n",
      "Epoch 6/9\n",
      "----------\n"
     ]
    },
    {
     "name": "stderr",
     "output_type": "stream",
     "text": [
      "\n",
      "100%|██████████| 5/5 [00:00<00:00,  4.96it/s]"
     ]
    },
    {
     "name": "stdout",
     "output_type": "stream",
     "text": [
      "Visualising input\n"
     ]
    },
    {
     "name": "stderr",
     "output_type": "stream",
     "text": [
      "100%|██████████| 5/5 [00:00<00:00,  7.91it/s]\n",
      "100%|██████████| 2/2 [00:00<00:00,  3.81it/s]"
     ]
    },
    {
     "name": "stdout",
     "output_type": "stream",
     "text": [
      "Training Loss: 1.3238\tValidation Loss: 1.8837\n",
      "Counter train preds: Counter({0: 30, 1: 29, 5: 6, 3: 6, 4: 4})\tCounter val preds: Counter({1: 9, 5: 7, 2: 6, 3: 3})\n",
      "Epoch train QWK: 0.438\tval QWK: 0.329\n",
      "Epoch 7/9\n",
      "----------\n"
     ]
    },
    {
     "name": "stderr",
     "output_type": "stream",
     "text": [
      "\n",
      "100%|██████████| 5/5 [00:00<00:00,  7.85it/s]"
     ]
    },
    {
     "name": "stdout",
     "output_type": "stream",
     "text": [
      "Visualising input\n"
     ]
    },
    {
     "name": "stderr",
     "output_type": "stream",
     "text": [
      "\n",
      "100%|██████████| 2/2 [00:00<00:00,  3.89it/s]"
     ]
    },
    {
     "name": "stdout",
     "output_type": "stream",
     "text": [
      "Training Loss: 1.3055\tValidation Loss: 2.0990\n",
      "Counter train preds: Counter({1: 34, 0: 22, 5: 8, 3: 7, 4: 2, 2: 2})\tCounter val preds: Counter({2: 12, 5: 5, 3: 5, 1: 2, 4: 1})\n",
      "Epoch train QWK: 0.552\tval QWK: 0.326\n",
      "Epoch 8/9\n",
      "----------\n"
     ]
    },
    {
     "name": "stderr",
     "output_type": "stream",
     "text": [
      "\n",
      " 20%|██        | 1/5 [00:00<00:01,  2.66it/s]"
     ]
    },
    {
     "name": "stdout",
     "output_type": "stream",
     "text": [
      "Visualising input\n"
     ]
    },
    {
     "name": "stderr",
     "output_type": "stream",
     "text": [
      "100%|██████████| 5/5 [00:00<00:00,  7.53it/s]\n",
      "100%|██████████| 2/2 [00:00<00:00,  3.87it/s]"
     ]
    },
    {
     "name": "stdout",
     "output_type": "stream",
     "text": [
      "Training Loss: 1.3063\tValidation Loss: 2.0883\n",
      "Counter train preds: Counter({1: 35, 0: 25, 4: 7, 3: 5, 5: 3})\tCounter val preds: Counter({2: 13, 5: 5, 1: 3, 3: 2, 4: 1, 0: 1})\n",
      "Epoch train QWK: 0.549\tval QWK: 0.199\n",
      "Epoch 9/9\n",
      "----------\n"
     ]
    },
    {
     "name": "stderr",
     "output_type": "stream",
     "text": [
      "\n",
      "100%|██████████| 5/5 [00:00<00:00,  4.77it/s]"
     ]
    },
    {
     "name": "stdout",
     "output_type": "stream",
     "text": [
      "Visualising input\n"
     ]
    },
    {
     "name": "stderr",
     "output_type": "stream",
     "text": [
      "100%|██████████| 5/5 [00:00<00:00,  7.73it/s]\n",
      "100%|██████████| 2/2 [00:00<00:00,  3.86it/s]"
     ]
    },
    {
     "name": "stdout",
     "output_type": "stream",
     "text": [
      "Training Loss: 1.3191\tValidation Loss: 1.8377\n",
      "Counter train preds: Counter({1: 37, 0: 24, 5: 7, 4: 3, 3: 3, 2: 1})\tCounter val preds: Counter({1: 21, 3: 2, 2: 1, 5: 1})\n",
      "Epoch train QWK: 0.435\tval QWK: 0.305\n",
      "Train with CV, on fold 1\n",
      "Epoch 0/9\n",
      "----------\n"
     ]
    },
    {
     "name": "stderr",
     "output_type": "stream",
     "text": [
      "\n",
      "100%|██████████| 5/5 [00:00<00:00,  4.80it/s]"
     ]
    },
    {
     "name": "stdout",
     "output_type": "stream",
     "text": [
      "Visualising input\n"
     ]
    },
    {
     "name": "stderr",
     "output_type": "stream",
     "text": [
      "100%|██████████| 5/5 [00:00<00:00,  7.69it/s]\n",
      "100%|██████████| 2/2 [00:00<00:00,  3.71it/s]"
     ]
    },
    {
     "name": "stdout",
     "output_type": "stream",
     "text": [
      "Training Loss: 1.7209\tValidation Loss: 1.7380\n",
      "Counter train preds: Counter({0: 59, 3: 15, 1: 1})\tCounter val preds: Counter({0: 25})\n",
      "Epoch train QWK: 0.263\tval QWK: 0.000\n",
      "Epoch 1/9\n",
      "----------\n"
     ]
    },
    {
     "name": "stderr",
     "output_type": "stream",
     "text": [
      "\n",
      "100%|██████████| 5/5 [00:00<00:00,  7.81it/s]"
     ]
    },
    {
     "name": "stdout",
     "output_type": "stream",
     "text": [
      "Visualising input\n"
     ]
    },
    {
     "name": "stderr",
     "output_type": "stream",
     "text": [
      "\n",
      "100%|██████████| 2/2 [00:00<00:00,  3.62it/s]"
     ]
    },
    {
     "name": "stdout",
     "output_type": "stream",
     "text": [
      "Training Loss: 1.5459\tValidation Loss: 1.7958\n",
      "Counter train preds: Counter({0: 36, 1: 32, 3: 5, 4: 2})\tCounter val preds: Counter({0: 25})\n",
      "Epoch train QWK: 0.331\tval QWK: 0.000\n",
      "Epoch 2/9\n",
      "----------\n"
     ]
    },
    {
     "name": "stderr",
     "output_type": "stream",
     "text": [
      "\n",
      " 60%|██████    | 3/5 [00:00<00:00,  3.30it/s]"
     ]
    },
    {
     "name": "stdout",
     "output_type": "stream",
     "text": [
      "Visualising input\n"
     ]
    },
    {
     "name": "stderr",
     "output_type": "stream",
     "text": [
      "100%|██████████| 5/5 [00:00<00:00,  7.36it/s]\n",
      "100%|██████████| 2/2 [00:00<00:00,  3.74it/s]"
     ]
    },
    {
     "name": "stdout",
     "output_type": "stream",
     "text": [
      "Training Loss: 1.4606\tValidation Loss: 1.9763\n",
      "Counter train preds: Counter({1: 34, 0: 29, 4: 8, 3: 4})\tCounter val preds: Counter({0: 25})\n",
      "Epoch train QWK: 0.388\tval QWK: 0.000\n",
      "Epoch 3/9\n",
      "----------\n"
     ]
    },
    {
     "name": "stderr",
     "output_type": "stream",
     "text": [
      "\n",
      " 60%|██████    | 3/5 [00:00<00:00,  3.59it/s]"
     ]
    },
    {
     "name": "stdout",
     "output_type": "stream",
     "text": [
      "Visualising input\n"
     ]
    },
    {
     "name": "stderr",
     "output_type": "stream",
     "text": [
      "100%|██████████| 5/5 [00:00<00:00,  7.80it/s]\n",
      "100%|██████████| 2/2 [00:00<00:00,  3.66it/s]"
     ]
    },
    {
     "name": "stdout",
     "output_type": "stream",
     "text": [
      "Training Loss: 1.4206\tValidation Loss: 1.8872\n",
      "Counter train preds: Counter({1: 32, 0: 24, 4: 8, 3: 6, 5: 3, 2: 2})\tCounter val preds: Counter({0: 25})\n",
      "Epoch train QWK: 0.441\tval QWK: 0.000\n",
      "Epoch 4/9\n",
      "----------\n"
     ]
    },
    {
     "name": "stderr",
     "output_type": "stream",
     "text": [
      "\n",
      "100%|██████████| 5/5 [00:00<00:00,  5.28it/s]"
     ]
    },
    {
     "name": "stdout",
     "output_type": "stream",
     "text": [
      "Visualising input\n"
     ]
    },
    {
     "name": "stderr",
     "output_type": "stream",
     "text": [
      "100%|██████████| 5/5 [00:00<00:00,  8.24it/s]\n",
      "100%|██████████| 2/2 [00:00<00:00,  3.60it/s]"
     ]
    },
    {
     "name": "stdout",
     "output_type": "stream",
     "text": [
      "Training Loss: 1.4067\tValidation Loss: 2.2129\n",
      "Counter train preds: Counter({1: 36, 0: 25, 3: 10, 5: 2, 2: 1, 4: 1})\tCounter val preds: Counter({0: 25})\n",
      "Epoch train QWK: 0.388\tval QWK: 0.000\n",
      "Epoch 5/9\n",
      "----------\n"
     ]
    },
    {
     "name": "stderr",
     "output_type": "stream",
     "text": [
      "\n",
      "100%|██████████| 5/5 [00:00<00:00,  8.12it/s]"
     ]
    },
    {
     "name": "stdout",
     "output_type": "stream",
     "text": [
      "Visualising input\n"
     ]
    },
    {
     "name": "stderr",
     "output_type": "stream",
     "text": [
      "\n",
      "100%|██████████| 2/2 [00:00<00:00,  3.64it/s]"
     ]
    },
    {
     "name": "stdout",
     "output_type": "stream",
     "text": [
      "Training Loss: 1.3640\tValidation Loss: 2.9000\n",
      "Counter train preds: Counter({1: 33, 0: 24, 3: 12, 2: 4, 4: 2})\tCounter val preds: Counter({0: 25})\n",
      "Epoch train QWK: 0.364\tval QWK: 0.000\n",
      "Epoch 6/9\n",
      "----------\n"
     ]
    },
    {
     "name": "stderr",
     "output_type": "stream",
     "text": [
      "\n",
      "100%|██████████| 5/5 [00:00<00:00,  4.87it/s]"
     ]
    },
    {
     "name": "stdout",
     "output_type": "stream",
     "text": [
      "Visualising input\n"
     ]
    },
    {
     "name": "stderr",
     "output_type": "stream",
     "text": [
      "100%|██████████| 5/5 [00:00<00:00,  7.86it/s]\n",
      "100%|██████████| 2/2 [00:00<00:00,  3.44it/s]"
     ]
    },
    {
     "name": "stdout",
     "output_type": "stream",
     "text": [
      "Training Loss: 1.3085\tValidation Loss: 2.7819\n",
      "Counter train preds: Counter({1: 33, 0: 20, 3: 11, 2: 4, 4: 4, 5: 3})\tCounter val preds: Counter({0: 25})\n",
      "Epoch train QWK: 0.568\tval QWK: 0.000\n",
      "Epoch 7/9\n",
      "----------\n"
     ]
    },
    {
     "name": "stderr",
     "output_type": "stream",
     "text": [
      "\n",
      "100%|██████████| 5/5 [00:00<00:00,  7.36it/s]"
     ]
    },
    {
     "name": "stdout",
     "output_type": "stream",
     "text": [
      "Visualising input\n"
     ]
    },
    {
     "name": "stderr",
     "output_type": "stream",
     "text": [
      "\n",
      "100%|██████████| 2/2 [00:00<00:00,  2.55it/s]"
     ]
    },
    {
     "name": "stdout",
     "output_type": "stream",
     "text": [
      "Training Loss: 1.3142\tValidation Loss: 2.3783\n",
      "Counter train preds: Counter({1: 36, 0: 21, 3: 9, 2: 5, 5: 3, 4: 1})\tCounter val preds: Counter({0: 18, 1: 5, 2: 2})\n",
      "Epoch train QWK: 0.435\tval QWK: 0.116\n",
      "Epoch 8/9\n",
      "----------\n"
     ]
    },
    {
     "name": "stderr",
     "output_type": "stream",
     "text": [
      "\n",
      "100%|██████████| 5/5 [00:00<00:00,  5.30it/s]"
     ]
    },
    {
     "name": "stdout",
     "output_type": "stream",
     "text": [
      "Visualising input\n"
     ]
    },
    {
     "name": "stderr",
     "output_type": "stream",
     "text": [
      "100%|██████████| 5/5 [00:00<00:00,  8.07it/s]\n",
      "100%|██████████| 2/2 [00:00<00:00,  3.62it/s]"
     ]
    },
    {
     "name": "stdout",
     "output_type": "stream",
     "text": [
      "Training Loss: 1.2917\tValidation Loss: 3.1009\n",
      "Counter train preds: Counter({1: 38, 0: 19, 2: 6, 4: 5, 3: 4, 5: 3})\tCounter val preds: Counter({0: 23, 2: 2})\n",
      "Epoch train QWK: 0.433\tval QWK: 0.009\n",
      "Epoch 9/9\n",
      "----------\n"
     ]
    },
    {
     "name": "stderr",
     "output_type": "stream",
     "text": [
      "\n",
      "100%|██████████| 5/5 [00:00<00:00,  7.24it/s]"
     ]
    },
    {
     "name": "stdout",
     "output_type": "stream",
     "text": [
      "Visualising input\n"
     ]
    },
    {
     "name": "stderr",
     "output_type": "stream",
     "text": [
      "\n",
      "100%|██████████| 2/2 [00:00<00:00,  3.73it/s]"
     ]
    },
    {
     "name": "stdout",
     "output_type": "stream",
     "text": [
      "Training Loss: 1.2545\tValidation Loss: 2.9466\n",
      "Counter train preds: Counter({1: 32, 0: 20, 3: 10, 4: 5, 2: 5, 5: 3})\tCounter val preds: Counter({0: 23, 2: 2})\n",
      "Epoch train QWK: 0.635\tval QWK: 0.009\n",
      "Train with CV, on fold 2\n",
      "Epoch 0/9\n",
      "----------\n"
     ]
    },
    {
     "name": "stderr",
     "output_type": "stream",
     "text": [
      "\n",
      "100%|██████████| 5/5 [00:00<00:00,  7.96it/s]"
     ]
    },
    {
     "name": "stdout",
     "output_type": "stream",
     "text": [
      "Visualising input\n"
     ]
    },
    {
     "name": "stderr",
     "output_type": "stream",
     "text": [
      "\n",
      "100%|██████████| 2/2 [00:00<00:00,  3.70it/s]"
     ]
    },
    {
     "name": "stdout",
     "output_type": "stream",
     "text": [
      "Training Loss: 1.6856\tValidation Loss: 1.8174\n",
      "Counter train preds: Counter({1: 48, 3: 15, 0: 12})\tCounter val preds: Counter({0: 25})\n",
      "Epoch train QWK: 0.208\tval QWK: 0.000\n",
      "Epoch 1/9\n",
      "----------\n"
     ]
    },
    {
     "name": "stderr",
     "output_type": "stream",
     "text": [
      "\n",
      " 60%|██████    | 3/5 [00:00<00:00,  3.45it/s]"
     ]
    },
    {
     "name": "stdout",
     "output_type": "stream",
     "text": [
      "Visualising input\n"
     ]
    },
    {
     "name": "stderr",
     "output_type": "stream",
     "text": [
      "100%|██████████| 5/5 [00:00<00:00,  7.56it/s]\n",
      "100%|██████████| 2/2 [00:00<00:00,  3.71it/s]"
     ]
    },
    {
     "name": "stdout",
     "output_type": "stream",
     "text": [
      "Training Loss: 1.5455\tValidation Loss: 2.4182\n",
      "Counter train preds: Counter({1: 37, 0: 21, 3: 16, 2: 1})\tCounter val preds: Counter({0: 25})\n",
      "Epoch train QWK: 0.313\tval QWK: 0.000\n",
      "Epoch 2/9\n",
      "----------\n"
     ]
    },
    {
     "name": "stderr",
     "output_type": "stream",
     "text": [
      "\n",
      "100%|██████████| 5/5 [00:00<00:00,  8.02it/s]"
     ]
    },
    {
     "name": "stdout",
     "output_type": "stream",
     "text": [
      "Visualising input\n"
     ]
    },
    {
     "name": "stderr",
     "output_type": "stream",
     "text": [
      "\n",
      "100%|██████████| 2/2 [00:00<00:00,  3.73it/s]"
     ]
    },
    {
     "name": "stdout",
     "output_type": "stream",
     "text": [
      "Training Loss: 1.4741\tValidation Loss: 2.2700\n",
      "Counter train preds: Counter({1: 33, 0: 26, 3: 14, 2: 2})\tCounter val preds: Counter({0: 25})\n",
      "Epoch train QWK: 0.287\tval QWK: 0.000\n",
      "Epoch 3/9\n",
      "----------\n"
     ]
    },
    {
     "name": "stderr",
     "output_type": "stream",
     "text": [
      "\n",
      "100%|██████████| 5/5 [00:00<00:00,  7.64it/s]"
     ]
    },
    {
     "name": "stdout",
     "output_type": "stream",
     "text": [
      "Visualising input\n"
     ]
    },
    {
     "name": "stderr",
     "output_type": "stream",
     "text": [
      "\n",
      "100%|██████████| 2/2 [00:00<00:00,  3.60it/s]"
     ]
    },
    {
     "name": "stdout",
     "output_type": "stream",
     "text": [
      "Training Loss: 1.4289\tValidation Loss: 2.4097\n",
      "Counter train preds: Counter({1: 35, 0: 28, 3: 7, 2: 5})\tCounter val preds: Counter({0: 25})\n",
      "Epoch train QWK: 0.247\tval QWK: 0.000\n",
      "Epoch 4/9\n",
      "----------\n"
     ]
    },
    {
     "name": "stderr",
     "output_type": "stream",
     "text": [
      "\n",
      " 20%|██        | 1/5 [00:00<00:01,  2.55it/s]"
     ]
    },
    {
     "name": "stdout",
     "output_type": "stream",
     "text": [
      "Visualising input\n"
     ]
    },
    {
     "name": "stderr",
     "output_type": "stream",
     "text": [
      "100%|██████████| 5/5 [00:00<00:00,  7.52it/s]\n",
      "100%|██████████| 2/2 [00:00<00:00,  3.67it/s]"
     ]
    },
    {
     "name": "stdout",
     "output_type": "stream",
     "text": [
      "Training Loss: 1.3615\tValidation Loss: 2.0392\n",
      "Counter train preds: Counter({1: 39, 0: 25, 3: 7, 2: 4})\tCounter val preds: Counter({0: 24, 2: 1})\n",
      "Epoch train QWK: 0.307\tval QWK: 0.064\n",
      "Epoch 5/9\n",
      "----------\n"
     ]
    },
    {
     "name": "stderr",
     "output_type": "stream",
     "text": [
      "\n",
      "100%|██████████| 5/5 [00:00<00:00,  7.67it/s]"
     ]
    },
    {
     "name": "stdout",
     "output_type": "stream",
     "text": [
      "Visualising input\n"
     ]
    },
    {
     "name": "stderr",
     "output_type": "stream",
     "text": [
      "\n",
      "100%|██████████| 2/2 [00:00<00:00,  3.69it/s]"
     ]
    },
    {
     "name": "stdout",
     "output_type": "stream",
     "text": [
      "Training Loss: 1.4250\tValidation Loss: 1.6867\n",
      "Counter train preds: Counter({1: 41, 0: 26, 3: 8})\tCounter val preds: Counter({0: 20, 2: 3, 1: 2})\n",
      "Epoch train QWK: 0.266\tval QWK: 0.214\n",
      "Epoch 6/9\n",
      "----------\n"
     ]
    },
    {
     "name": "stderr",
     "output_type": "stream",
     "text": [
      "\n",
      "100%|██████████| 5/5 [00:00<00:00,  7.91it/s]"
     ]
    },
    {
     "name": "stdout",
     "output_type": "stream",
     "text": [
      "Visualising input\n"
     ]
    },
    {
     "name": "stderr",
     "output_type": "stream",
     "text": [
      "\n",
      "100%|██████████| 2/2 [00:00<00:00,  3.60it/s]"
     ]
    },
    {
     "name": "stdout",
     "output_type": "stream",
     "text": [
      "Training Loss: 1.3328\tValidation Loss: 1.7360\n",
      "Counter train preds: Counter({1: 34, 0: 24, 3: 12, 2: 4, 5: 1})\tCounter val preds: Counter({0: 18, 1: 5, 2: 2})\n",
      "Epoch train QWK: 0.365\tval QWK: 0.130\n",
      "Epoch 7/9\n",
      "----------\n"
     ]
    },
    {
     "name": "stderr",
     "output_type": "stream",
     "text": [
      "\n",
      " 60%|██████    | 3/5 [00:00<00:00,  3.21it/s]"
     ]
    },
    {
     "name": "stdout",
     "output_type": "stream",
     "text": [
      "Visualising input\n"
     ]
    },
    {
     "name": "stderr",
     "output_type": "stream",
     "text": [
      "100%|██████████| 5/5 [00:00<00:00,  7.17it/s]\n",
      "100%|██████████| 2/2 [00:00<00:00,  3.71it/s]"
     ]
    },
    {
     "name": "stdout",
     "output_type": "stream",
     "text": [
      "Training Loss: 1.3236\tValidation Loss: 1.8248\n",
      "Counter train preds: Counter({1: 33, 0: 21, 2: 13, 3: 6, 5: 2})\tCounter val preds: Counter({0: 17, 1: 5, 2: 3})\n",
      "Epoch train QWK: 0.316\tval QWK: 0.272\n",
      "Epoch 8/9\n",
      "----------\n"
     ]
    },
    {
     "name": "stderr",
     "output_type": "stream",
     "text": [
      "\n",
      "100%|██████████| 5/5 [00:00<00:00,  4.99it/s]"
     ]
    },
    {
     "name": "stdout",
     "output_type": "stream",
     "text": [
      "Visualising input\n"
     ]
    },
    {
     "name": "stderr",
     "output_type": "stream",
     "text": [
      "100%|██████████| 5/5 [00:00<00:00,  7.91it/s]\n",
      "100%|██████████| 2/2 [00:00<00:00,  3.63it/s]"
     ]
    },
    {
     "name": "stdout",
     "output_type": "stream",
     "text": [
      "Training Loss: 1.2498\tValidation Loss: 2.4719\n",
      "Counter train preds: Counter({1: 34, 0: 24, 2: 8, 3: 8, 5: 1})\tCounter val preds: Counter({0: 22, 2: 3})\n",
      "Epoch train QWK: 0.392\tval QWK: 0.259\n",
      "Epoch 9/9\n",
      "----------\n"
     ]
    },
    {
     "name": "stderr",
     "output_type": "stream",
     "text": [
      "\n",
      "100%|██████████| 5/5 [00:00<00:00,  8.02it/s]"
     ]
    },
    {
     "name": "stdout",
     "output_type": "stream",
     "text": [
      "Visualising input\n"
     ]
    },
    {
     "name": "stderr",
     "output_type": "stream",
     "text": [
      "\n",
      "100%|██████████| 2/2 [00:00<00:00,  3.74it/s]"
     ]
    },
    {
     "name": "stdout",
     "output_type": "stream",
     "text": [
      "Training Loss: 1.2657\tValidation Loss: 2.4212\n",
      "Counter train preds: Counter({1: 39, 0: 21, 2: 6, 3: 6, 5: 3})\tCounter val preds: Counter({0: 22, 2: 3})\n",
      "Epoch train QWK: 0.409\tval QWK: 0.259\n",
      "Train with CV, on fold 3\n",
      "Epoch 0/9\n",
      "----------\n"
     ]
    },
    {
     "name": "stderr",
     "output_type": "stream",
     "text": [
      "\n",
      " 60%|██████    | 3/5 [00:00<00:00,  3.76it/s]"
     ]
    },
    {
     "name": "stdout",
     "output_type": "stream",
     "text": [
      "Visualising input\n"
     ]
    },
    {
     "name": "stderr",
     "output_type": "stream",
     "text": [
      "100%|██████████| 5/5 [00:00<00:00,  7.78it/s]\n",
      "100%|██████████| 2/2 [00:00<00:00,  4.08it/s]"
     ]
    },
    {
     "name": "stdout",
     "output_type": "stream",
     "text": [
      "Training Loss: 1.7337\tValidation Loss: 1.6500\n",
      "Counter train preds: Counter({1: 49, 2: 14, 0: 6, 5: 3, 3: 3})\tCounter val preds: Counter({1: 24, 0: 1})\n",
      "Epoch train QWK: 0.123\tval QWK: -0.030\n",
      "Epoch 1/9\n",
      "----------\n"
     ]
    },
    {
     "name": "stderr",
     "output_type": "stream",
     "text": [
      "\n",
      "100%|██████████| 5/5 [00:00<00:00,  7.52it/s]"
     ]
    },
    {
     "name": "stdout",
     "output_type": "stream",
     "text": [
      "Visualising input\n"
     ]
    },
    {
     "name": "stderr",
     "output_type": "stream",
     "text": [
      "\n",
      "100%|██████████| 2/2 [00:00<00:00,  4.29it/s]"
     ]
    },
    {
     "name": "stdout",
     "output_type": "stream",
     "text": [
      "Training Loss: 1.5647\tValidation Loss: 1.7000\n",
      "Counter train preds: Counter({1: 40, 0: 18, 3: 12, 2: 5})\tCounter val preds: Counter({1: 25})\n",
      "Epoch train QWK: 0.232\tval QWK: 0.000\n",
      "Epoch 2/9\n",
      "----------\n"
     ]
    },
    {
     "name": "stderr",
     "output_type": "stream",
     "text": [
      "\n",
      " 60%|██████    | 3/5 [00:00<00:00,  3.84it/s]"
     ]
    },
    {
     "name": "stdout",
     "output_type": "stream",
     "text": [
      "Visualising input\n"
     ]
    },
    {
     "name": "stderr",
     "output_type": "stream",
     "text": [
      "100%|██████████| 5/5 [00:00<00:00,  7.87it/s]\n",
      "100%|██████████| 2/2 [00:00<00:00,  4.09it/s]"
     ]
    },
    {
     "name": "stdout",
     "output_type": "stream",
     "text": [
      "Training Loss: 1.4733\tValidation Loss: 1.6935\n",
      "Counter train preds: Counter({1: 33, 0: 27, 3: 13, 2: 2})\tCounter val preds: Counter({1: 25})\n",
      "Epoch train QWK: 0.337\tval QWK: 0.000\n",
      "Epoch 3/9\n",
      "----------\n"
     ]
    },
    {
     "name": "stderr",
     "output_type": "stream",
     "text": [
      "\n",
      " 60%|██████    | 3/5 [00:00<00:00,  3.67it/s]"
     ]
    },
    {
     "name": "stdout",
     "output_type": "stream",
     "text": [
      "Visualising input\n"
     ]
    },
    {
     "name": "stderr",
     "output_type": "stream",
     "text": [
      "100%|██████████| 5/5 [00:00<00:00,  7.66it/s]\n",
      "100%|██████████| 2/2 [00:00<00:00,  4.01it/s]"
     ]
    },
    {
     "name": "stdout",
     "output_type": "stream",
     "text": [
      "Training Loss: 1.4141\tValidation Loss: 1.6876\n",
      "Counter train preds: Counter({0: 29, 1: 28, 3: 10, 2: 6, 5: 2})\tCounter val preds: Counter({1: 25})\n",
      "Epoch train QWK: 0.475\tval QWK: 0.000\n",
      "Epoch 4/9\n",
      "----------\n"
     ]
    },
    {
     "name": "stderr",
     "output_type": "stream",
     "text": [
      "\n",
      " 60%|██████    | 3/5 [00:00<00:00,  3.46it/s]"
     ]
    },
    {
     "name": "stdout",
     "output_type": "stream",
     "text": [
      "Visualising input\n"
     ]
    },
    {
     "name": "stderr",
     "output_type": "stream",
     "text": [
      "100%|██████████| 5/5 [00:00<00:00,  7.39it/s]\n",
      "100%|██████████| 2/2 [00:00<00:00,  2.65it/s]"
     ]
    },
    {
     "name": "stdout",
     "output_type": "stream",
     "text": [
      "Training Loss: 1.3655\tValidation Loss: 1.6186\n",
      "Counter train preds: Counter({1: 35, 0: 26, 3: 7, 5: 4, 2: 3})\tCounter val preds: Counter({1: 21, 2: 3, 0: 1})\n",
      "Epoch train QWK: 0.395\tval QWK: 0.012\n",
      "Epoch 5/9\n",
      "----------\n"
     ]
    },
    {
     "name": "stderr",
     "output_type": "stream",
     "text": [
      "\n",
      "100%|██████████| 5/5 [00:00<00:00,  4.61it/s]"
     ]
    },
    {
     "name": "stdout",
     "output_type": "stream",
     "text": [
      "Visualising input\n"
     ]
    },
    {
     "name": "stderr",
     "output_type": "stream",
     "text": [
      "100%|██████████| 5/5 [00:00<00:00,  7.47it/s]\n",
      "100%|██████████| 2/2 [00:00<00:00,  3.97it/s]"
     ]
    },
    {
     "name": "stdout",
     "output_type": "stream",
     "text": [
      "Training Loss: 1.3591\tValidation Loss: 1.6763\n",
      "Counter train preds: Counter({1: 32, 0: 23, 3: 11, 2: 8, 5: 1})\tCounter val preds: Counter({2: 17, 0: 6, 1: 2})\n",
      "Epoch train QWK: 0.413\tval QWK: 0.313\n",
      "Epoch 6/9\n",
      "----------\n"
     ]
    },
    {
     "name": "stderr",
     "output_type": "stream",
     "text": [
      "\n",
      "100%|██████████| 5/5 [00:00<00:00,  4.59it/s]"
     ]
    },
    {
     "name": "stdout",
     "output_type": "stream",
     "text": [
      "Visualising input\n"
     ]
    },
    {
     "name": "stderr",
     "output_type": "stream",
     "text": [
      "100%|██████████| 5/5 [00:00<00:00,  7.40it/s]\n",
      "100%|██████████| 2/2 [00:00<00:00,  4.08it/s]"
     ]
    },
    {
     "name": "stdout",
     "output_type": "stream",
     "text": [
      "Training Loss: 1.3191\tValidation Loss: 1.6529\n",
      "Counter train preds: Counter({1: 34, 0: 26, 3: 5, 2: 4, 4: 4, 5: 2})\tCounter val preds: Counter({1: 12, 2: 9, 5: 2, 0: 2})\n",
      "Epoch train QWK: 0.424\tval QWK: 0.269\n",
      "Epoch 7/9\n",
      "----------\n"
     ]
    },
    {
     "name": "stderr",
     "output_type": "stream",
     "text": [
      "\n",
      "100%|██████████| 5/5 [00:00<00:00,  7.96it/s]"
     ]
    },
    {
     "name": "stdout",
     "output_type": "stream",
     "text": [
      "Visualising input\n"
     ]
    },
    {
     "name": "stderr",
     "output_type": "stream",
     "text": [
      "\n",
      "100%|██████████| 2/2 [00:00<00:00,  3.92it/s]"
     ]
    },
    {
     "name": "stdout",
     "output_type": "stream",
     "text": [
      "Training Loss: 1.3050\tValidation Loss: 1.7019\n",
      "Counter train preds: Counter({1: 36, 0: 21, 2: 6, 3: 5, 5: 4, 4: 3})\tCounter val preds: Counter({2: 13, 5: 7, 4: 3, 0: 2})\n",
      "Epoch train QWK: 0.454\tval QWK: 0.364\n",
      "Epoch 8/9\n",
      "----------\n"
     ]
    },
    {
     "name": "stderr",
     "output_type": "stream",
     "text": [
      "\n",
      " 60%|██████    | 3/5 [00:00<00:00,  3.98it/s]"
     ]
    },
    {
     "name": "stdout",
     "output_type": "stream",
     "text": [
      "Visualising input\n"
     ]
    },
    {
     "name": "stderr",
     "output_type": "stream",
     "text": [
      "100%|██████████| 5/5 [00:00<00:00,  7.99it/s]\n",
      "100%|██████████| 2/2 [00:00<00:00,  4.10it/s]"
     ]
    },
    {
     "name": "stdout",
     "output_type": "stream",
     "text": [
      "Training Loss: 1.2645\tValidation Loss: 1.7029\n",
      "Counter train preds: Counter({1: 36, 0: 22, 5: 7, 2: 5, 3: 4, 4: 1})\tCounter val preds: Counter({2: 10, 5: 5, 0: 5, 1: 4, 3: 1})\n",
      "Epoch train QWK: 0.461\tval QWK: 0.309\n",
      "Epoch 9/9\n",
      "----------\n"
     ]
    },
    {
     "name": "stderr",
     "output_type": "stream",
     "text": [
      "\n",
      "100%|██████████| 5/5 [00:00<00:00,  4.60it/s]"
     ]
    },
    {
     "name": "stdout",
     "output_type": "stream",
     "text": [
      "Visualising input\n"
     ]
    },
    {
     "name": "stderr",
     "output_type": "stream",
     "text": [
      "100%|██████████| 5/5 [00:00<00:00,  7.52it/s]\n",
      "100%|██████████| 2/2 [00:00<00:00,  4.03it/s]"
     ]
    },
    {
     "name": "stdout",
     "output_type": "stream",
     "text": [
      "Training Loss: 1.2169\tValidation Loss: 2.0975\n",
      "Counter train preds: Counter({1: 33, 0: 22, 2: 9, 3: 6, 5: 5})\tCounter val preds: Counter({4: 14, 5: 8, 0: 3})\n",
      "Epoch train QWK: 0.530\tval QWK: 0.218\n"
     ]
    },
    {
     "name": "stderr",
     "output_type": "stream",
     "text": [
      "\n"
     ]
    }
   ],
   "source": [
    "checkpoint = \"test_fold_{}.pth\"\n",
    "for fold in range(CFG.n_fold):\n",
    "    train_df = folds[folds[\"fold\"] != fold].copy()\n",
    "    val_df = folds[folds[\"fold\"] == fold].copy()\n",
    "    \n",
    "    train_ds = TrainDataset(train_df, transform=get_transforms(data=\"train\"), debug=False)\n",
    "    val_ds = TrainDataset(val_df, transform=get_transforms(data=\"valid\"), debug=False)\n",
    "    \n",
    "    model = TinyV2ConvNet(CFG.target_size)\n",
    "    # initialize bias in the model\n",
    "    cls_probas = (train_df[CFG.target_col].value_counts() / len(train_df)).values\n",
    "    model = init_last_layer_bias(model, cls_probas)\n",
    "    \n",
    "    criterion = nn.CrossEntropyLoss()\n",
    "    optimizer = torch.optim.Adam(model.parameters(), lr=CFG.lr, amsgrad=False)\n",
    "    print(f\"Train with CV, on fold {fold}\")\n",
    "    model = train_eval_loop(train_ds, val_ds, model, optimizer, criterion, tb_tag=fold)\n",
    "    torch.save(model.state_dict(), MODEL_PATH/checkpoint.format(fold))"
   ]
  },
  {
   "cell_type": "code",
   "execution_count": null,
   "metadata": {},
   "outputs": [],
   "source": []
  }
 ],
 "metadata": {
  "kernelspec": {
   "display_name": "chestxray",
   "language": "python",
   "name": "chestxray"
  },
  "language_info": {
   "codemirror_mode": {
    "name": "ipython",
    "version": 3
   },
   "file_extension": ".py",
   "mimetype": "text/x-python",
   "name": "python",
   "nbconvert_exporter": "python",
   "pygments_lexer": "ipython3",
   "version": "3.7.7"
  },
  "toc-autonumbering": false,
  "toc-showcode": false,
  "toc-showmarkdowntxt": false
 },
 "nbformat": 4,
 "nbformat_minor": 4
}
