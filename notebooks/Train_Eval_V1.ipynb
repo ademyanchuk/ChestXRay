{
 "cells": [
  {
   "cell_type": "markdown",
   "metadata": {},
   "source": [
    "### Imports"
   ]
  },
  {
   "cell_type": "code",
   "execution_count": 1,
   "metadata": {},
   "outputs": [],
   "source": [
    "%load_ext autoreload\n",
    "%autoreload 2"
   ]
  },
  {
   "cell_type": "code",
   "execution_count": 2,
   "metadata": {},
   "outputs": [],
   "source": [
    "import random\n",
    "import os\n",
    "from datetime import datetime\n",
    "from collections import Counter\n",
    "import numpy as np\n",
    "import pandas as pd\n",
    "import matplotlib.pyplot as plt\n",
    "from tqdm import tqdm\n",
    "\n",
    "import torch\n",
    "import torch.nn as nn\n",
    "import torch.nn.functional as F\n",
    "from torch.utils.data import DataLoader, Dataset\n",
    "from torch.utils.tensorboard import SummaryWriter\n",
    "from torch.optim.lr_scheduler import ReduceLROnPlateau, OneCycleLR\n",
    "import torchvision\n",
    "from torchvision import models\n",
    "from apex import amp\n",
    "\n",
    "from albumentations import Compose, Normalize\n",
    "from albumentations.pytorch import ToTensorV2, ToTensor\n",
    "\n",
    "from sklearn.metrics import cohen_kappa_score\n",
    "from sklearn.model_selection import StratifiedKFold\n",
    "from sklearn.metrics import confusion_matrix\n",
    "\n",
    "import cv2\n",
    "import skimage.io\n",
    "import IPython.display as display\n",
    "from PIL import Image\n",
    "\n",
    "plt.ion()\n",
    "%matplotlib inline\n",
    "%config InlineBackend.figure_format='retina'"
   ]
  },
  {
   "cell_type": "markdown",
   "metadata": {},
   "source": [
    "#### Local Imports"
   ]
  },
  {
   "cell_type": "code",
   "execution_count": 3,
   "metadata": {},
   "outputs": [],
   "source": [
    "# Paths\n",
    "from chestxray.config import (PANDA_PATH,\n",
    "                              MODEL_PATH,\n",
    "                              PANDA_IMGS,\n",
    "                              PANDA_MASKS,\n",
    "                              TRAIN_CSV)\n",
    "# Competition related config\n",
    "from chestxray.config import CFG\n",
    "\n",
    "# Misc\n",
    "from chestxray.misc import seed_torch\n",
    "\n",
    "# Datasets\n",
    "from chestxray.datasets import get_transforms, TrainDataset, TilesTrainDataset, LazyTilesDataset\n",
    "\n",
    "# Viz\n",
    "from chestxray.visualize import (show_from_ids, show_batch, imshow, \n",
    "                                 plot_classes_preds, reverse_show_img, \n",
    "                                 plot_confusion_matrix)\n",
    "\n",
    "# Nets\n",
    "from chestxray.nets import TinyV2ConvNet, make_RN50_cls\n",
    "from chestxray.model_utils import (trainable_params, cce_loss_at_init, \n",
    "                                   init_last_layer_bias)\n",
    "# Losses\n",
    "from chestxray.losses import LabelSmoothSoftmaxCEV1"
   ]
  },
  {
   "cell_type": "code",
   "execution_count": 4,
   "metadata": {},
   "outputs": [
    {
     "name": "stdout",
     "output_type": "stream",
     "text": [
      "cuda:0\n"
     ]
    }
   ],
   "source": [
    "device = torch.device(\"cuda:0\" if torch.cuda.is_available() else \"cpu\")\n",
    "print(device)"
   ]
  },
  {
   "cell_type": "code",
   "execution_count": 5,
   "metadata": {},
   "outputs": [
    {
     "name": "stdout",
     "output_type": "stream",
     "text": [
      "_CudaDeviceProperties(name='GeForce RTX 2070 SUPER', major=7, minor=5, total_memory=7979MB, multi_processor_count=40)\n"
     ]
    }
   ],
   "source": [
    "print(torch.cuda.get_device_properties(device))"
   ]
  },
  {
   "cell_type": "markdown",
   "metadata": {},
   "source": [
    "### Fix Random Seed"
   ]
  },
  {
   "cell_type": "code",
   "execution_count": 6,
   "metadata": {},
   "outputs": [],
   "source": [
    "seed_torch()"
   ]
  },
  {
   "cell_type": "markdown",
   "metadata": {},
   "source": [
    "### Load Data"
   ]
  },
  {
   "cell_type": "code",
   "execution_count": 7,
   "metadata": {},
   "outputs": [
    {
     "data": {
      "text/html": [
       "<div>\n",
       "<style scoped>\n",
       "    .dataframe tbody tr th:only-of-type {\n",
       "        vertical-align: middle;\n",
       "    }\n",
       "\n",
       "    .dataframe tbody tr th {\n",
       "        vertical-align: top;\n",
       "    }\n",
       "\n",
       "    .dataframe thead th {\n",
       "        text-align: right;\n",
       "    }\n",
       "</style>\n",
       "<table border=\"1\" class=\"dataframe\">\n",
       "  <thead>\n",
       "    <tr style=\"text-align: right;\">\n",
       "      <th></th>\n",
       "      <th>image_id</th>\n",
       "      <th>data_provider</th>\n",
       "      <th>isup_grade</th>\n",
       "      <th>gleason_score</th>\n",
       "    </tr>\n",
       "  </thead>\n",
       "  <tbody>\n",
       "    <tr>\n",
       "      <th>0</th>\n",
       "      <td>0005f7aaab2800f6170c399693a96917</td>\n",
       "      <td>karolinska</td>\n",
       "      <td>0</td>\n",
       "      <td>0+0</td>\n",
       "    </tr>\n",
       "    <tr>\n",
       "      <th>1</th>\n",
       "      <td>000920ad0b612851f8e01bcc880d9b3d</td>\n",
       "      <td>karolinska</td>\n",
       "      <td>0</td>\n",
       "      <td>0+0</td>\n",
       "    </tr>\n",
       "    <tr>\n",
       "      <th>2</th>\n",
       "      <td>0018ae58b01bdadc8e347995b69f99aa</td>\n",
       "      <td>radboud</td>\n",
       "      <td>4</td>\n",
       "      <td>4+4</td>\n",
       "    </tr>\n",
       "    <tr>\n",
       "      <th>3</th>\n",
       "      <td>001c62abd11fa4b57bf7a6c603a11bb9</td>\n",
       "      <td>karolinska</td>\n",
       "      <td>4</td>\n",
       "      <td>4+4</td>\n",
       "    </tr>\n",
       "    <tr>\n",
       "      <th>4</th>\n",
       "      <td>001d865e65ef5d2579c190a0e0350d8f</td>\n",
       "      <td>karolinska</td>\n",
       "      <td>0</td>\n",
       "      <td>0+0</td>\n",
       "    </tr>\n",
       "  </tbody>\n",
       "</table>\n",
       "</div>"
      ],
      "text/plain": [
       "                           image_id data_provider  isup_grade gleason_score\n",
       "0  0005f7aaab2800f6170c399693a96917    karolinska           0           0+0\n",
       "1  000920ad0b612851f8e01bcc880d9b3d    karolinska           0           0+0\n",
       "2  0018ae58b01bdadc8e347995b69f99aa       radboud           4           4+4\n",
       "3  001c62abd11fa4b57bf7a6c603a11bb9    karolinska           4           4+4\n",
       "4  001d865e65ef5d2579c190a0e0350d8f    karolinska           0           0+0"
      ]
     },
     "execution_count": 7,
     "metadata": {},
     "output_type": "execute_result"
    }
   ],
   "source": [
    "TRAIN_DF = pd.read_csv(TRAIN_CSV)\n",
    "TRAIN_DF.head()"
   ]
  },
  {
   "cell_type": "code",
   "execution_count": 8,
   "metadata": {},
   "outputs": [
    {
     "data": {
      "image/png": "[encoded data removed]",
      "text/plain": [
       "<Figure size 432x288 with 1 Axes>"
      ]
     },
     "metadata": {
      "image/png": {
       "height": 249,
       "width": 381
      },
      "needs_background": "light"
     },
     "output_type": "display_data"
    }
   ],
   "source": [
    "_ = TRAIN_DF[CFG.target_col].hist()"
   ]
  },
  {
   "cell_type": "markdown",
   "metadata": {},
   "source": [
    "### Define Global Variables"
   ]
  },
  {
   "cell_type": "code",
   "execution_count": 9,
   "metadata": {},
   "outputs": [
    {
     "name": "stdout",
     "output_type": "stream",
     "text": [
      "14-05-2020-16-47\n"
     ]
    }
   ],
   "source": [
    "CFG.debug = False\n",
    "now = datetime.now()\n",
    "\n",
    "EXP_NAME = now.strftime(\"%d-%m-%Y-%H-%M\")\n",
    "print(EXP_NAME)"
   ]
  },
  {
   "cell_type": "code",
   "execution_count": 10,
   "metadata": {},
   "outputs": [],
   "source": [
    "# default `log_dir` is \"runs\" - we'll be more specific here\n",
    "writer = SummaryWriter(f'runs/{EXP_NAME}')"
   ]
  },
  {
   "cell_type": "code",
   "execution_count": 11,
   "metadata": {},
   "outputs": [],
   "source": [
    "LOSSES = {\n",
    "    \"cce\" : nn.CrossEntropyLoss(),\n",
    "    \"ls_soft_ce\" : LabelSmoothSoftmaxCEV1(),\n",
    "}"
   ]
  },
  {
   "cell_type": "code",
   "execution_count": 12,
   "metadata": {},
   "outputs": [],
   "source": [
    "# key - string, value - tuple(sceduler, if it epoch type)\n",
    "epoch_type = True\n",
    "SCHEDULERS = {\n",
    "    \"reduce_on_plateau\" : (ReduceLROnPlateau, epoch_type),\n",
    "    \"one_cycle\": (OneCycleLR, not epoch_type),\n",
    "}"
   ]
  },
  {
   "cell_type": "markdown",
   "metadata": {},
   "source": [
    "### Train Eval Loop"
   ]
  },
  {
   "cell_type": "code",
   "execution_count": 13,
   "metadata": {},
   "outputs": [],
   "source": [
    "def train_eval_loop(train_dataloader, val_dataloader, model, optimizer, criterion, \n",
    "                    schedule_type=CFG.schedule_type, num_epochs=CFG.epoch, device=device, tb_tag=\"\", model_name=\"debug\"):\n",
    "    \"\"\"Split it into the set of inner functions to siplify the loop itself\"\"\"\n",
    "    # Inner Functions\n",
    "    # write to TensorBoard helpers\n",
    "    def weights_to_tb(step=0):\n",
    "        conv1_weight = model.conv1.weight.data.to(\"cpu\")\n",
    "        img_grid = torchvision.utils.make_grid(conv1_weight, normalize=True)\n",
    "        writer.add_image(tag=f\"Model conv1 weights {tb_tag}\", img_tensor=img_grid, global_step=step)\n",
    "    \n",
    "    def input_img_to_tb(inputs, step):\n",
    "        img = reverse_show_img(inputs[0])\n",
    "        writer.add_image(tag=f\"Input Image {tb_tag}\", img_tensor=img, global_step=step, dataformats=\"HWC\")\n",
    "        del img\n",
    "    \n",
    "    def preds_to_tb(outputs, inputs, labels, step):\n",
    "        figure=plot_classes_preds(outputs.to('cpu'), inputs.to('cpu'), labels.to('cpu'))\n",
    "        writer.add_figure(tag=f\"Actuals vs Predictions {tb_tag}\", figure=figure, global_step=step)\n",
    "        \n",
    "    def metrics_to_tb(mode, train_loss, train_score, val_loss, val_score, step):\n",
    "        writer.add_text(f\"On best {mode} save at epoch:\", \n",
    "                        f\"tr_loss: {train_loss:.4f}, tr_qwk: {train_score:.4f}, val_loss: {val_loss:.4f}, val_qwk: {val_score:.4f}\", \n",
    "                        global_step=step)\n",
    "    \n",
    "    def conf_matrix_to_tb(val_epoch_labels, val_epoch_preds, step):\n",
    "        writer.add_figure(tag=f\"Confusion matrix {tb_tag}\", figure=plot_confusion_matrix(val_epoch_labels, val_epoch_preds),\n",
    "                          global_step=step)\n",
    "        \n",
    "    # schedulers\n",
    "    def get_scheduler(schedule_type=schedule_type):\n",
    "        assert schedule_type in SCHEDULERS, f\"{schedule_type} not in SCHEDULERS\"\n",
    "        if schedule_type == \"reduce_on_plateau\":\n",
    "            return (SCHEDULERS[schedule_type][0](optimizer, 'min', factor=0.5, patience=CFG.rlopp, verbose=True), \n",
    "                    SCHEDULERS[schedule_type][1])\n",
    "        if schedule_type == \"one_cycle\":\n",
    "            return (SCHEDULERS[schedule_type][0](optimizer, max_lr=CFG.lr, steps_per_epoch=len(train_dataloader), epochs=num_epochs, pct_start=0.2),\n",
    "                    SCHEDULERS[schedule_type][1])\n",
    "        \n",
    "        \n",
    "    \n",
    "    # Train/Eval Loop\n",
    "    # write first layer weights to TB @ init phase\n",
    "    if not CFG.debug:\n",
    "        weights_to_tb()\n",
    "    \n",
    "    # prepare model and optimizer\n",
    "    model.to(device)\n",
    "    if CFG.use_amp: # automatic mixed precision\n",
    "        model, optimizer = amp.initialize(model, optimizer, opt_level=\"O1\")\n",
    "    scheduler, sch_is_epoch_type = get_scheduler()\n",
    "    # define epochs numbers to look into input images and predictions, no more than 10 times per full training\n",
    "    vis_step = np.ceil(num_epochs/10).astype(int)\n",
    "    visual_epochs = list(range(0, num_epochs, vis_step))\n",
    "    # metrics to wathch for model checkpointing\n",
    "    best_qwk = -100\n",
    "    best_val_loss = np.inf\n",
    "    \n",
    "    for epoch in range(num_epochs):\n",
    "        print(f'Epoch {epoch}/{num_epochs - 1}')\n",
    "        print('=' * 10)\n",
    "\n",
    "        # Training Phase\n",
    "        # Set training mode\n",
    "        model.train();\n",
    "        train_running_loss = 0.0\n",
    "        train_epoch_preds, train_epoch_labels = [], []\n",
    "\n",
    "        # Iterate over train data.\n",
    "        tk_train = tqdm(enumerate(train_dataloader), total=len(train_dataloader))\n",
    "        for i, data in tk_train:\n",
    "            # Calculate global step for TensorBoard\n",
    "            train_global_step = epoch * len(train_dataloader) + i\n",
    "\n",
    "            inputs, labels = data\n",
    "            # Visualize input before model at the middle of epoch:\n",
    "            if epoch in visual_epochs and i == len(train_dataloader) // 2:\n",
    "                input_img_to_tb(inputs, train_global_step)\n",
    "\n",
    "            inputs = inputs.to(device)\n",
    "            labels = labels.to(device)\n",
    "            # zero the parameter gradients\n",
    "            optimizer.zero_grad()\n",
    "\n",
    "            outputs = model(inputs)\n",
    "            loss = criterion(outputs, labels)\n",
    "            if CFG.use_amp:\n",
    "                with amp.scale_loss(loss, optimizer) as scaled_loss:\n",
    "                    scaled_loss.backward()\n",
    "            else:\n",
    "                loss.backward()\n",
    "            optimizer.step()\n",
    "            # loss is mean across batch, divide by number of steps in epoch (so loss is normalized)\n",
    "            train_running_loss += loss.item() / len(train_dataloader)\n",
    "            # tensorboarding loss\n",
    "            writer.add_scalar(tag=f\"Training loss {tb_tag}\", scalar_value=loss.item(), global_step=train_global_step)\n",
    "\n",
    "            # collect train preds and labels for QWK\n",
    "            train_epoch_preds.append(outputs.data.to('cpu').numpy().argmax(1))\n",
    "            train_epoch_labels.append(labels.to('cpu').numpy())\n",
    "            # Add Batch Type Scheduler step here:\n",
    "            if not sch_is_epoch_type:\n",
    "                scheduler.step()\n",
    "        # Validation Phase\n",
    "        # Set evaluation mode\n",
    "        model.eval();\n",
    "        val_running_loss = 0.0\n",
    "        val_epoch_preds, val_epoch_labels = [], []\n",
    "        # Iterate over val data\n",
    "        tk_val = tqdm(enumerate(val_dataloader), total=len(val_dataloader))\n",
    "        for j, data in tk_val:\n",
    "            # Calculate global step\n",
    "            val_global_step = epoch * len(val_dataloader) + j\n",
    "            inputs, labels = data\n",
    "            inputs = inputs.to(device)\n",
    "            labels = labels.to(device)\n",
    "            with torch.no_grad():\n",
    "                outputs = model(inputs)\n",
    "            loss = criterion(outputs, labels)\n",
    "            val_running_loss += loss.item() / len(val_dataloader)\n",
    "            # tensorboarding loss\n",
    "            writer.add_scalar(tag=f\"Validation loss {tb_tag}\", scalar_value=loss.item(), global_step=val_global_step)\n",
    "\n",
    "            # collect validation preds and labels for QWK\n",
    "            val_epoch_preds.append(outputs.data.to('cpu').numpy().argmax(1))\n",
    "            val_epoch_labels.append(labels.to('cpu').numpy())\n",
    "\n",
    "            # visualise predictions for 0th validation batch\n",
    "            if epoch in visual_epochs and j == 0:\n",
    "                preds_to_tb(outputs, inputs, labels, val_global_step)\n",
    "        \n",
    "        # Epoch type Schedulers\n",
    "        if sch_is_epoch_type:\n",
    "            scheduler.step(val_running_loss)\n",
    "        # Write lr to TBD\n",
    "        writer.add_scalar(tag=f\"lr {tb_tag}:\", scalar_value=optimizer.param_groups[0][\"lr\"], global_step=train_global_step)\n",
    "        \n",
    "        # \"End of Epoch\" Phase\n",
    "        print(f'Training Loss: {train_running_loss:.4f}\\tValidation Loss: {val_running_loss:.4f}')\n",
    "        \n",
    "        # Calculate epoch predictions distribution\n",
    "        train_epoch_preds = np.concatenate(train_epoch_preds)\n",
    "        train_epoch_labels = np.concatenate(train_epoch_labels)\n",
    "        val_epoch_preds = np.concatenate(val_epoch_preds)\n",
    "        val_epoch_labels = np.concatenate(val_epoch_labels)\n",
    "        print(f'Counter train preds: {Counter(train_epoch_preds)}\\tCounter val preds: {Counter(val_epoch_preds)}')\n",
    "        # Calculate epoch QWK\n",
    "        train_qwk = cohen_kappa_score(train_epoch_preds, train_epoch_labels, weights='quadratic')\n",
    "        val_qwk = cohen_kappa_score(val_epoch_preds, val_epoch_labels, weights='quadratic')\n",
    "        print(f\"Epoch train QWK: {train_qwk:.3f}\\tval QWK: {val_qwk:.3f}\")\n",
    "        writer.add_scalar(tag=f\"Training QWK {tb_tag}\", scalar_value=train_qwk, global_step=epoch)\n",
    "        writer.add_scalar(tag=f\"Validation QWK {tb_tag}\", scalar_value=val_qwk, global_step=epoch)\n",
    "        \n",
    "        # On the best val loss do:\n",
    "        if val_running_loss < best_val_loss:\n",
    "            # update best and save model\n",
    "            best_val_loss = val_running_loss\n",
    "            print(f'  Epoch {epoch} - Save Best Loss: {best_val_loss:.4f} Model')\n",
    "            torch.save(model.state_dict(), f'{MODEL_PATH}/{model_name}_loss.pth')\n",
    "            # add losses as text to TB\n",
    "            metrics_to_tb(\"loss\", train_running_loss, train_qwk, val_running_loss, val_qwk, val_global_step)\n",
    "            # add image of conv1 weights to TB\n",
    "            if not CFG.debug:\n",
    "                weights_to_tb(val_global_step)\n",
    "            # add confusion matrix to TB\n",
    "            conf_matrix_to_tb(val_epoch_labels, val_epoch_preds, val_global_step)\n",
    "        # On the best QWK\n",
    "        if val_qwk > best_qwk:\n",
    "            # update best and save model\n",
    "            best_qwk = val_qwk\n",
    "            print(f'  Epoch {epoch} - Save Best QWK: {best_qwk:.4f} Model')\n",
    "            torch.save(model.state_dict(), f'{MODEL_PATH}/{model_name}_qwk.pth')\n",
    "            # add losses and qwk as text to TB\n",
    "            metrics_to_tb(\"qwk\", train_running_loss, train_qwk, val_running_loss, val_qwk, val_global_step)\n",
    "            # add image of conv1 weights to TB\n",
    "            if not CFG.debug:\n",
    "                weights_to_tb(val_global_step)  \n",
    "            # add confusion matrix to TB\n",
    "            conf_matrix_to_tb(val_epoch_labels, val_epoch_preds, val_global_step)\n",
    "    # End of loop\n",
    "    writer.close()"
   ]
  },
  {
   "cell_type": "markdown",
   "metadata": {},
   "source": [
    "### Prepare CV - strategy"
   ]
  },
  {
   "cell_type": "code",
   "execution_count": 14,
   "metadata": {},
   "outputs": [],
   "source": [
    "if CFG.debug:\n",
    "    folds_fn = \"folds_db.csv\"\n",
    "    try: \n",
    "        folds = pd.read_csv(PANDA_PATH/folds_fn)\n",
    "    except FileNotFoundError:\n",
    "        folds = TRAIN_DF.sample(n=100, random_state=CFG.seed).reset_index(drop=True).copy()\n",
    "else:\n",
    "    folds_fn = \"folds.csv\"\n",
    "    try:\n",
    "        folds = pd.read_csv(PANDA_PATH/folds_fn)\n",
    "    except FileNotFoundError:\n",
    "        folds = TRAIN_DF.copy()"
   ]
  },
  {
   "cell_type": "code",
   "execution_count": 15,
   "metadata": {},
   "outputs": [],
   "source": [
    "if not (PANDA_PATH/folds_fn).exists():\n",
    "    train_labels = folds[CFG.target_col].values\n",
    "    kf = StratifiedKFold(n_splits=CFG.n_fold, shuffle=True, random_state=CFG.seed)\n",
    "    for fold, (train_index, val_index) in enumerate(kf.split(folds.values, train_labels)):\n",
    "        folds.loc[val_index, 'fold'] = int(fold)\n",
    "    folds['fold'] = folds['fold'].astype(int)\n",
    "    folds.to_csv(PANDA_PATH/folds_fn, index=None)\n",
    "    folds.head()"
   ]
  },
  {
   "cell_type": "code",
   "execution_count": 16,
   "metadata": {},
   "outputs": [
    {
     "name": "stdout",
     "output_type": "stream",
     "text": [
      "<class 'pandas.core.frame.DataFrame'>\n",
      "RangeIndex: 10616 entries, 0 to 10615\n",
      "Data columns (total 5 columns):\n",
      " #   Column         Non-Null Count  Dtype \n",
      "---  ------         --------------  ----- \n",
      " 0   image_id       10616 non-null  object\n",
      " 1   data_provider  10616 non-null  object\n",
      " 2   isup_grade     10616 non-null  int64 \n",
      " 3   gleason_score  10616 non-null  object\n",
      " 4   fold           10616 non-null  int64 \n",
      "dtypes: int64(2), object(3)\n",
      "memory usage: 414.8+ KB\n"
     ]
    }
   ],
   "source": [
    "folds.info()"
   ]
  },
  {
   "cell_type": "markdown",
   "metadata": {},
   "source": [
    "### Debug Runs"
   ]
  },
  {
   "cell_type": "code",
   "execution_count": 18,
   "metadata": {},
   "outputs": [],
   "source": [
    "# default `log_dir` is \"runs\" - we'll be more specific here\n",
    "writer = SummaryWriter(f'runs/debug')"
   ]
  },
  {
   "cell_type": "code",
   "execution_count": 19,
   "metadata": {},
   "outputs": [
    {
     "name": "stdout",
     "output_type": "stream",
     "text": [
      "debug: False use_amp: True img_height: 512 img_width: 512 lr: 0.0001 batch_size: 16 epoch: 50 seed: 1982 target_size: 6 img_id_col: image_id target_col: isup_grade n_fold: 4 tiff_layer: 1 loss: ls_soft_ce\n"
     ]
    }
   ],
   "source": [
    "print(\" \".join([f\"{key}: {val}\" for key, val in CFG.__dict__.items() if not key.startswith(\"__\")]))"
   ]
  },
  {
   "cell_type": "code",
   "execution_count": 18,
   "metadata": {},
   "outputs": [],
   "source": [
    "writer.add_text(\"Experiment Description:\", \" \".join([f\"{key}: {val}\" for key, val in CFG.__dict__.items() if not key.startswith(\"__\")]))"
   ]
  },
  {
   "cell_type": "code",
   "execution_count": 22,
   "metadata": {
    "collapsed": true,
    "jupyter": {
     "outputs_hidden": true
    }
   },
   "outputs": [
    {
     "name": "stdout",
     "output_type": "stream",
     "text": [
      "Selected optimization level O1:  Insert automatic casts around Pytorch functions and Tensor methods.\n",
      "\n",
      "Defaults for this optimization level are:\n",
      "enabled                : True\n",
      "opt_level              : O1\n",
      "cast_model_type        : None\n",
      "patch_torch_functions  : True\n",
      "keep_batchnorm_fp32    : None\n",
      "master_weights         : None\n",
      "loss_scale             : dynamic\n",
      "Processing user overrides (additional kwargs that are not None)...\n",
      "After processing overrides, optimization options are:\n",
      "enabled                : True\n",
      "opt_level              : O1\n",
      "cast_model_type        : None\n",
      "patch_torch_functions  : True\n",
      "keep_batchnorm_fp32    : None\n",
      "master_weights         : None\n",
      "loss_scale             : dynamic\n",
      "Warning:  multi_tensor_applier fused unscale kernel is unavailable, possibly because apex was installed without --cuda_ext --cpp_ext. Using Python fallback.  Original ImportError was: ModuleNotFoundError(\"No module named 'amp_C'\")\n",
      "Epoch 0/29\n",
      "==========\n"
     ]
    },
    {
     "name": "stderr",
     "output_type": "stream",
     "text": [
      "100%|██████████| 498/498 [02:31<00:00,  3.29it/s]\n",
      "100%|██████████| 166/166 [00:15<00:00, 10.67it/s]\n"
     ]
    },
    {
     "name": "stdout",
     "output_type": "stream",
     "text": [
      "Training Loss: 1.4133\tValidation Loss: 1.3378\n",
      "Counter train preds: Counter({0: 3171, 1: 2178, 5: 974, 3: 583, 4: 559, 2: 497})\tCounter val preds: Counter({1: 964, 0: 951, 2: 237, 4: 185, 3: 164, 5: 153})\n",
      "Epoch train QWK: 0.590\tval QWK: 0.636\n",
      "  Epoch 0 - Save Best Loss: 1.3378 Model\n",
      "Confusion matrix, without normalization\n",
      "[[612 104   1   1   2   3]\n",
      " [171 461  26   6   1   1]\n",
      " [ 38 220  61  10   4   2]\n",
      " [ 41  82  90  60  23  15]\n",
      " [ 50  69  31  37  95  31]\n",
      " [ 39  28  28  50  60 101]]\n",
      "  Epoch 0 - Save Best QWK: 0.6357 Model\n",
      "Confusion matrix, without normalization\n",
      "[[612 104   1   1   2   3]\n",
      " [171 461  26   6   1   1]\n",
      " [ 38 220  61  10   4   2]\n",
      " [ 41  82  90  60  23  15]\n",
      " [ 50  69  31  37  95  31]\n",
      " [ 39  28  28  50  60 101]]\n",
      "Epoch 1/29\n",
      "==========\n"
     ]
    },
    {
     "name": "stderr",
     "output_type": "stream",
     "text": [
      "100%|██████████| 498/498 [02:33<00:00,  3.24it/s]\n",
      "100%|██████████| 166/166 [00:14<00:00, 11.12it/s]\n"
     ]
    },
    {
     "name": "stdout",
     "output_type": "stream",
     "text": [
      "Training Loss: 1.3243\tValidation Loss: 1.2604\n",
      "Counter train preds: Counter({0: 3068, 1: 2105, 5: 931, 3: 659, 4: 614, 2: 585})\tCounter val preds: Counter({0: 1165, 5: 408, 1: 357, 2: 345, 3: 195, 4: 184})\n",
      "Epoch train QWK: 0.663\tval QWK: 0.723\n",
      "  Epoch 1 - Save Best Loss: 1.2604 Model\n",
      "Confusion matrix, without normalization\n",
      "[[694  10   2   1   7   9]\n",
      " [271 243 116  20  13   3]\n",
      " [ 64  69 137  37  19   9]\n",
      " [ 47  18  54  85  32  75]\n",
      " [ 51  14  22  32  88 106]\n",
      " [ 38   3  14  20  25 206]]\n",
      "  Epoch 1 - Save Best QWK: 0.7233 Model\n",
      "Confusion matrix, without normalization\n",
      "[[694  10   2   1   7   9]\n",
      " [271 243 116  20  13   3]\n",
      " [ 64  69 137  37  19   9]\n",
      " [ 47  18  54  85  32  75]\n",
      " [ 51  14  22  32  88 106]\n",
      " [ 38   3  14  20  25 206]]\n",
      "Epoch 2/29\n",
      "==========\n"
     ]
    },
    {
     "name": "stderr",
     "output_type": "stream",
     "text": [
      "100%|██████████| 498/498 [02:32<00:00,  3.26it/s]\n",
      "100%|██████████| 166/166 [00:14<00:00, 11.36it/s]\n"
     ]
    },
    {
     "name": "stdout",
     "output_type": "stream",
     "text": [
      "Training Loss: 1.2768\tValidation Loss: 1.2445\n",
      "Counter train preds: Counter({0: 2990, 1: 2062, 5: 903, 4: 712, 2: 654, 3: 641})\tCounter val preds: Counter({0: 988, 1: 664, 5: 486, 3: 310, 4: 129, 2: 77})\n",
      "Epoch train QWK: 0.694\tval QWK: 0.724\n",
      "  Epoch 2 - Save Best Loss: 1.2445 Model\n",
      "Confusion matrix, without normalization\n",
      "[[652  50   1   2   7  11]\n",
      " [178 413  27  28  11   9]\n",
      " [ 37 139  36  81  13  29]\n",
      " [ 43  31   6 118  19  94]\n",
      " [ 40  26   6  55  64 122]\n",
      " [ 38   5   1  26  15 221]]\n",
      "  Epoch 2 - Save Best QWK: 0.7243 Model\n",
      "Confusion matrix, without normalization\n",
      "[[652  50   1   2   7  11]\n",
      " [178 413  27  28  11   9]\n",
      " [ 37 139  36  81  13  29]\n",
      " [ 43  31   6 118  19  94]\n",
      " [ 40  26   6  55  64 122]\n",
      " [ 38   5   1  26  15 221]]\n",
      "Epoch 3/29\n",
      "==========\n"
     ]
    },
    {
     "name": "stderr",
     "output_type": "stream",
     "text": [
      "100%|██████████| 498/498 [02:32<00:00,  3.26it/s]\n",
      "100%|██████████| 166/166 [00:16<00:00, 10.25it/s]\n"
     ]
    },
    {
     "name": "stdout",
     "output_type": "stream",
     "text": [
      "Training Loss: 1.2524\tValidation Loss: 1.2349\n",
      "Counter train preds: Counter({0: 2952, 1: 2107, 5: 934, 3: 729, 4: 638, 2: 602})\tCounter val preds: Counter({1: 836, 0: 797, 5: 349, 3: 253, 4: 229, 2: 190})\n",
      "Epoch train QWK: 0.708\tval QWK: 0.764\n",
      "  Epoch 3 - Save Best Loss: 1.2349 Model\n",
      "Confusion matrix, without normalization\n",
      "[[583 127   1   0   7   5]\n",
      " [118 459  66  14   9   0]\n",
      " [ 22 150  84  61  10   8]\n",
      " [ 25  42  21 112  56  55]\n",
      " [ 21  46  14  38 112  82]\n",
      " [ 28  12   4  28  35 199]]\n",
      "  Epoch 3 - Save Best QWK: 0.7642 Model\n",
      "Confusion matrix, without normalization\n",
      "[[583 127   1   0   7   5]\n",
      " [118 459  66  14   9   0]\n",
      " [ 22 150  84  61  10   8]\n",
      " [ 25  42  21 112  56  55]\n",
      " [ 21  46  14  38 112  82]\n",
      " [ 28  12   4  28  35 199]]\n",
      "Epoch 4/29\n",
      "==========\n"
     ]
    },
    {
     "name": "stderr",
     "output_type": "stream",
     "text": [
      "100%|██████████| 498/498 [02:33<00:00,  3.25it/s]\n",
      "100%|██████████| 166/166 [00:15<00:00, 10.78it/s]"
     ]
    },
    {
     "name": "stdout",
     "output_type": "stream",
     "text": [
      "Training Loss: 1.2235\tValidation Loss: 1.2475\n",
      "Counter train preds: Counter({0: 2866, 1: 2110, 5: 923, 4: 713, 3: 677, 2: 673})\tCounter val preds: Counter({0: 1068, 1: 627, 4: 370, 3: 248, 5: 245, 2: 96})\n",
      "Epoch train QWK: 0.727\tval QWK: 0.739\n",
      "Epoch 5/29\n",
      "==========\n"
     ]
    },
    {
     "name": "stderr",
     "output_type": "stream",
     "text": [
      "\n",
      "100%|██████████| 498/498 [02:28<00:00,  3.35it/s]\n",
      "100%|██████████| 166/166 [00:14<00:00, 11.65it/s]\n"
     ]
    },
    {
     "name": "stdout",
     "output_type": "stream",
     "text": [
      "Training Loss: 1.2193\tValidation Loss: 1.2217\n",
      "Counter train preds: Counter({0: 2865, 1: 2125, 5: 921, 3: 716, 4: 712, 2: 623})\tCounter val preds: Counter({1: 887, 0: 850, 3: 307, 4: 232, 2: 218, 5: 160})\n",
      "Epoch train QWK: 0.735\tval QWK: 0.727\n",
      "  Epoch 5 - Save Best Loss: 1.2217 Model\n",
      "Confusion matrix, without normalization\n",
      "[[616  87   2   3   9   6]\n",
      " [134 488  24  17   3   0]\n",
      " [ 20 209  74  22   7   3]\n",
      " [ 28  46  73 130  19  15]\n",
      " [ 26  48  24  68 123  24]\n",
      " [ 26   9  21  67  71 112]]\n",
      "Epoch 6/29\n",
      "==========\n"
     ]
    },
    {
     "name": "stderr",
     "output_type": "stream",
     "text": [
      "100%|██████████| 498/498 [02:31<00:00,  3.29it/s]\n",
      "100%|██████████| 166/166 [00:15<00:00, 10.50it/s]"
     ]
    },
    {
     "name": "stdout",
     "output_type": "stream",
     "text": [
      "Training Loss: 1.1916\tValidation Loss: 1.2237\n",
      "Counter train preds: Counter({0: 2830, 1: 2097, 5: 913, 3: 743, 4: 722, 2: 657})\tCounter val preds: Counter({1: 895, 0: 872, 3: 277, 5: 261, 2: 209, 4: 140})\n",
      "Epoch train QWK: 0.751\tval QWK: 0.734\n",
      "Epoch 7/29\n",
      "==========\n"
     ]
    },
    {
     "name": "stderr",
     "output_type": "stream",
     "text": [
      "\n",
      "100%|██████████| 498/498 [02:29<00:00,  3.32it/s]\n",
      "100%|██████████| 166/166 [00:14<00:00, 11.43it/s]"
     ]
    },
    {
     "name": "stdout",
     "output_type": "stream",
     "text": [
      "Training Loss: 1.1780\tValidation Loss: 1.2794\n",
      "Counter train preds: Counter({0: 2802, 1: 2125, 5: 923, 4: 728, 3: 724, 2: 660})\tCounter val preds: Counter({0: 1195, 1: 461, 5: 338, 4: 308, 2: 241, 3: 111})\n",
      "Epoch train QWK: 0.760\tval QWK: 0.724\n",
      "Epoch 8/29\n",
      "==========\n"
     ]
    },
    {
     "name": "stderr",
     "output_type": "stream",
     "text": [
      "\n",
      "  6%|▋         | 32/498 [00:10<02:30,  3.10it/s]"
     ]
    },
    {
     "name": "stdout",
     "output_type": "stream",
     "text": [
      "Gradient overflow.  Skipping step, loss scaler 0 reducing loss scale to 131072.0\n"
     ]
    },
    {
     "name": "stderr",
     "output_type": "stream",
     "text": [
      "100%|██████████| 498/498 [02:35<00:00,  3.20it/s]\n",
      "100%|██████████| 166/166 [00:14<00:00, 11.45it/s]"
     ]
    },
    {
     "name": "stdout",
     "output_type": "stream",
     "text": [
      "Training Loss: 1.1537\tValidation Loss: 1.2326\n",
      "Counter train preds: Counter({0: 2766, 1: 2073, 5: 922, 4: 753, 2: 727, 3: 721})\tCounter val preds: Counter({0: 970, 1: 600, 4: 415, 5: 261, 2: 222, 3: 186})\n",
      "Epoch train QWK: 0.775\tval QWK: 0.742\n",
      "Epoch 9/29\n",
      "==========\n"
     ]
    },
    {
     "name": "stderr",
     "output_type": "stream",
     "text": [
      "\n",
      "100%|██████████| 498/498 [02:32<00:00,  3.27it/s]\n",
      "100%|██████████| 166/166 [00:17<00:00,  9.62it/s]"
     ]
    },
    {
     "name": "stdout",
     "output_type": "stream",
     "text": [
      "Epoch    10: reducing learning rate of group 0 to 5.0000e-05.\n",
      "Training Loss: 1.1571\tValidation Loss: 1.2449\n",
      "Counter train preds: Counter({0: 2746, 1: 2079, 5: 912, 3: 791, 4: 745, 2: 689})\tCounter val preds: Counter({1: 1001, 0: 814, 5: 246, 2: 221, 3: 219, 4: 153})\n",
      "Epoch train QWK: 0.767\tval QWK: 0.717\n",
      "Epoch 10/29\n",
      "==========\n"
     ]
    },
    {
     "name": "stderr",
     "output_type": "stream",
     "text": [
      "\n",
      "100%|██████████| 498/498 [02:31<00:00,  3.28it/s]\n",
      "100%|██████████| 166/166 [00:14<00:00, 11.80it/s]\n"
     ]
    },
    {
     "name": "stdout",
     "output_type": "stream",
     "text": [
      "Training Loss: 1.0783\tValidation Loss: 1.1852\n",
      "Counter train preds: Counter({0: 2674, 1: 2077, 5: 928, 4: 786, 3: 769, 2: 728})\tCounter val preds: Counter({0: 872, 1: 686, 5: 383, 4: 269, 3: 233, 2: 211})\n",
      "Epoch train QWK: 0.814\tval QWK: 0.762\n",
      "  Epoch 10 - Save Best Loss: 1.1852 Model\n",
      "Confusion matrix, without normalization\n",
      "[[633  62   2   5  11  10]\n",
      " [139 424  55  26  22   0]\n",
      " [ 22 136  95  43  22  17]\n",
      " [ 27  31  33 110  43  67]\n",
      " [ 27  27  19  35 128  77]\n",
      " [ 24   6   7  14  43 212]]\n",
      "Epoch 11/29\n",
      "==========\n"
     ]
    },
    {
     "name": "stderr",
     "output_type": "stream",
     "text": [
      "100%|██████████| 498/498 [02:26<00:00,  3.40it/s]\n",
      "100%|██████████| 166/166 [00:14<00:00, 11.79it/s]\n"
     ]
    },
    {
     "name": "stdout",
     "output_type": "stream",
     "text": [
      "Training Loss: 1.0550\tValidation Loss: 1.2170\n",
      "Counter train preds: Counter({0: 2645, 1: 2025, 5: 936, 4: 803, 2: 797, 3: 756})\tCounter val preds: Counter({0: 968, 1: 566, 5: 453, 2: 265, 3: 220, 4: 182})\n",
      "Epoch train QWK: 0.819\tval QWK: 0.766\n",
      "  Epoch 11 - Save Best QWK: 0.7663 Model\n",
      "Confusion matrix, without normalization\n",
      "[[662  45   2   4   3   7]\n",
      " [181 366  84  13  15   7]\n",
      " [ 35  99 121  45  16  19]\n",
      " [ 32  23  34 109  27  86]\n",
      " [ 31  29  15  38  97 103]\n",
      " [ 27   4   9  11  24 231]]\n",
      "Epoch 12/29\n",
      "==========\n"
     ]
    },
    {
     "name": "stderr",
     "output_type": "stream",
     "text": [
      "  8%|▊         | 42/498 [00:13<02:11,  3.47it/s]"
     ]
    },
    {
     "name": "stdout",
     "output_type": "stream",
     "text": [
      "Gradient overflow.  Skipping step, loss scaler 0 reducing loss scale to 131072.0\n"
     ]
    },
    {
     "name": "stderr",
     "output_type": "stream",
     "text": [
      "100%|██████████| 498/498 [02:27<00:00,  3.37it/s]\n",
      "100%|██████████| 166/166 [00:16<00:00, 10.31it/s]"
     ]
    },
    {
     "name": "stdout",
     "output_type": "stream",
     "text": [
      "Training Loss: 1.0295\tValidation Loss: 1.2241\n",
      "Counter train preds: Counter({0: 2631, 1: 2021, 5: 895, 2: 815, 4: 801, 3: 799})\tCounter val preds: Counter({0: 921, 1: 797, 5: 258, 3: 255, 4: 222, 2: 201})\n",
      "Epoch train QWK: 0.821\tval QWK: 0.754\n",
      "Epoch 13/29\n",
      "==========\n"
     ]
    },
    {
     "name": "stderr",
     "output_type": "stream",
     "text": [
      "\n",
      "100%|██████████| 498/498 [02:34<00:00,  3.22it/s]\n",
      "100%|██████████| 166/166 [00:14<00:00, 11.82it/s]"
     ]
    },
    {
     "name": "stdout",
     "output_type": "stream",
     "text": [
      "Training Loss: 1.0086\tValidation Loss: 1.2355\n",
      "Counter train preds: Counter({0: 2553, 1: 2047, 5: 940, 2: 815, 4: 813, 3: 794})\tCounter val preds: Counter({0: 995, 1: 581, 2: 387, 5: 293, 3: 214, 4: 184})\n",
      "Epoch train QWK: 0.843\tval QWK: 0.752\n",
      "Epoch 14/29\n",
      "==========\n"
     ]
    },
    {
     "name": "stderr",
     "output_type": "stream",
     "text": [
      "\n",
      "100%|██████████| 498/498 [02:30<00:00,  3.32it/s]\n",
      "100%|██████████| 166/166 [00:14<00:00, 11.78it/s]"
     ]
    },
    {
     "name": "stdout",
     "output_type": "stream",
     "text": [
      "Epoch    15: reducing learning rate of group 0 to 2.5000e-05.\n",
      "Training Loss: 0.9891\tValidation Loss: 1.2672\n",
      "Counter train preds: Counter({0: 2550, 1: 2031, 5: 919, 3: 833, 2: 832, 4: 797})\tCounter val preds: Counter({0: 854, 1: 731, 4: 385, 5: 364, 2: 190, 3: 130})\n",
      "Epoch train QWK: 0.844\tval QWK: 0.763\n",
      "Epoch 15/29\n",
      "==========\n"
     ]
    },
    {
     "name": "stderr",
     "output_type": "stream",
     "text": [
      "\n",
      "100%|██████████| 498/498 [02:34<00:00,  3.23it/s]\n",
      "100%|██████████| 166/166 [00:15<00:00, 10.71it/s]\n"
     ]
    },
    {
     "name": "stdout",
     "output_type": "stream",
     "text": [
      "Training Loss: 0.9256\tValidation Loss: 1.2372\n",
      "Counter train preds: Counter({0: 2517, 1: 2001, 5: 894, 2: 886, 4: 846, 3: 818})\tCounter val preds: Counter({0: 888, 1: 612, 3: 362, 2: 285, 5: 260, 4: 247})\n",
      "Epoch train QWK: 0.868\tval QWK: 0.767\n",
      "  Epoch 15 - Save Best QWK: 0.7666 Model\n",
      "Confusion matrix, without normalization\n",
      "[[631  70   3  13   2   4]\n",
      " [146 389  85  35   9   2]\n",
      " [ 27  98 137  56  13   4]\n",
      " [ 30  21  39 151  38  32]\n",
      " [ 30  21  15  67 135  45]\n",
      " [ 24  13   6  40  50 173]]\n",
      "Epoch 16/29\n",
      "==========\n"
     ]
    },
    {
     "name": "stderr",
     "output_type": "stream",
     "text": [
      " 13%|█▎        | 67/498 [00:20<02:05,  3.43it/s]"
     ]
    },
    {
     "name": "stdout",
     "output_type": "stream",
     "text": [
      "Gradient overflow.  Skipping step, loss scaler 0 reducing loss scale to 131072.0\n"
     ]
    },
    {
     "name": "stderr",
     "output_type": "stream",
     "text": [
      "100%|██████████| 498/498 [02:30<00:00,  3.31it/s]\n",
      "100%|██████████| 166/166 [00:14<00:00, 11.39it/s]"
     ]
    },
    {
     "name": "stdout",
     "output_type": "stream",
     "text": [
      "Training Loss: 0.9068\tValidation Loss: 1.2451\n",
      "Counter train preds: Counter({0: 2501, 1: 1981, 5: 924, 2: 901, 3: 831, 4: 824})\tCounter val preds: Counter({0: 868, 1: 740, 2: 287, 3: 280, 5: 247, 4: 232})\n",
      "Epoch train QWK: 0.876\tval QWK: 0.754\n",
      "Epoch 17/29\n",
      "==========\n"
     ]
    },
    {
     "name": "stderr",
     "output_type": "stream",
     "text": [
      "\n",
      "100%|██████████| 498/498 [02:32<00:00,  3.27it/s]\n",
      "100%|██████████| 166/166 [00:15<00:00, 10.44it/s]"
     ]
    },
    {
     "name": "stdout",
     "output_type": "stream",
     "text": [
      "Training Loss: 0.8845\tValidation Loss: 1.2586\n",
      "Counter train preds: Counter({0: 2483, 1: 1987, 5: 913, 2: 888, 4: 866, 3: 825})\tCounter val preds: Counter({0: 844, 1: 579, 5: 348, 3: 298, 2: 296, 4: 289})\n",
      "Epoch train QWK: 0.881\tval QWK: 0.764\n",
      "Epoch 18/29\n",
      "==========\n"
     ]
    },
    {
     "name": "stderr",
     "output_type": "stream",
     "text": [
      "\n",
      "100%|██████████| 498/498 [02:31<00:00,  3.29it/s]\n",
      "100%|██████████| 166/166 [00:15<00:00, 10.56it/s]"
     ]
    },
    {
     "name": "stdout",
     "output_type": "stream",
     "text": [
      "Epoch    19: reducing learning rate of group 0 to 1.2500e-05.\n",
      "Training Loss: 0.8628\tValidation Loss: 1.2978\n",
      "Counter train preds: Counter({0: 2465, 1: 1989, 5: 915, 2: 894, 4: 864, 3: 835})\tCounter val preds: Counter({0: 817, 1: 634, 2: 407, 5: 305, 3: 289, 4: 202})\n",
      "Epoch train QWK: 0.893\tval QWK: 0.763\n",
      "Epoch 19/29\n",
      "==========\n"
     ]
    },
    {
     "name": "stderr",
     "output_type": "stream",
     "text": [
      "\n",
      "100%|██████████| 498/498 [02:34<00:00,  3.23it/s]\n",
      "100%|██████████| 166/166 [00:14<00:00, 11.44it/s]\n"
     ]
    },
    {
     "name": "stdout",
     "output_type": "stream",
     "text": [
      "Training Loss: 0.8329\tValidation Loss: 1.2674\n",
      "Counter train preds: Counter({0: 2413, 1: 2033, 2: 935, 5: 906, 4: 867, 3: 808})\tCounter val preds: Counter({0: 843, 1: 638, 2: 380, 5: 292, 4: 253, 3: 248})\n",
      "Epoch train QWK: 0.897\tval QWK: 0.771\n",
      "  Epoch 19 - Save Best QWK: 0.7708 Model\n",
      "Confusion matrix, without normalization\n",
      "[[617  87   7   4   3   5]\n",
      " [127 398 113  17   7   4]\n",
      " [ 23  95 157  44  13   3]\n",
      " [ 25  24  64 112  44  42]\n",
      " [ 24  25  26  42 135  61]\n",
      " [ 27   9  13  29  51 177]]\n",
      "Epoch 20/29\n",
      "==========\n"
     ]
    },
    {
     "name": "stderr",
     "output_type": "stream",
     "text": [
      " 18%|█▊        | 90/498 [00:28<02:00,  3.39it/s]"
     ]
    },
    {
     "name": "stdout",
     "output_type": "stream",
     "text": [
      "Gradient overflow.  Skipping step, loss scaler 0 reducing loss scale to 131072.0\n"
     ]
    },
    {
     "name": "stderr",
     "output_type": "stream",
     "text": [
      "100%|██████████| 498/498 [02:30<00:00,  3.30it/s]\n",
      "100%|██████████| 166/166 [00:14<00:00, 11.74it/s]\n"
     ]
    },
    {
     "name": "stdout",
     "output_type": "stream",
     "text": [
      "Training Loss: 0.8309\tValidation Loss: 1.2587\n",
      "Counter train preds: Counter({0: 2444, 1: 1971, 2: 946, 5: 906, 4: 855, 3: 840})\tCounter val preds: Counter({0: 905, 1: 645, 5: 348, 2: 288, 4: 254, 3: 214})\n",
      "Epoch train QWK: 0.895\tval QWK: 0.772\n",
      "  Epoch 20 - Save Best QWK: 0.7721 Model\n",
      "Confusion matrix, without normalization\n",
      "[[638  67   7   5   2   4]\n",
      " [156 399  82  11  13   5]\n",
      " [ 27 112 129  38  19  10]\n",
      " [ 30  31  46 104  49  51]\n",
      " [ 29  25  16  32 137  74]\n",
      " [ 25  11   8  24  34 204]]\n",
      "Epoch 21/29\n",
      "==========\n"
     ]
    },
    {
     "name": "stderr",
     "output_type": "stream",
     "text": [
      "100%|██████████| 498/498 [02:33<00:00,  3.25it/s]\n",
      "100%|██████████| 166/166 [00:16<00:00, 10.07it/s]"
     ]
    },
    {
     "name": "stdout",
     "output_type": "stream",
     "text": [
      "Training Loss: 0.8118\tValidation Loss: 1.2990\n",
      "Counter train preds: Counter({0: 2425, 1: 1992, 2: 920, 5: 913, 4: 863, 3: 849})\tCounter val preds: Counter({0: 863, 1: 560, 2: 397, 4: 287, 3: 274, 5: 273})\n",
      "Epoch train QWK: 0.904\tval QWK: 0.766\n",
      "Epoch 22/29\n",
      "==========\n"
     ]
    },
    {
     "name": "stderr",
     "output_type": "stream",
     "text": [
      "\n",
      "100%|██████████| 498/498 [02:27<00:00,  3.37it/s]\n",
      "100%|██████████| 166/166 [00:14<00:00, 11.43it/s]\n"
     ]
    },
    {
     "name": "stdout",
     "output_type": "stream",
     "text": [
      "Epoch    23: reducing learning rate of group 0 to 6.2500e-06.\n",
      "Training Loss: 0.8106\tValidation Loss: 1.2867\n",
      "Counter train preds: Counter({0: 2392, 1: 2022, 2: 934, 5: 910, 4: 880, 3: 824})\tCounter val preds: Counter({0: 844, 1: 588, 2: 388, 5: 310, 4: 274, 3: 250})\n",
      "Epoch train QWK: 0.898\tval QWK: 0.773\n",
      "  Epoch 22 - Save Best QWK: 0.7731 Model\n",
      "Confusion matrix, without normalization\n",
      "[[610  87  10   6   5   5]\n",
      " [139 365 121  26  10   5]\n",
      " [ 24  80 164  46  17   4]\n",
      " [ 21  24  62 114  45  45]\n",
      " [ 25  24  18  39 147  60]\n",
      " [ 25   8  13  19  50 191]]\n",
      "Epoch 23/29\n",
      "==========\n"
     ]
    },
    {
     "name": "stderr",
     "output_type": "stream",
     "text": [
      "100%|██████████| 498/498 [02:29<00:00,  3.33it/s]\n",
      "100%|██████████| 166/166 [00:14<00:00, 11.55it/s]"
     ]
    },
    {
     "name": "stdout",
     "output_type": "stream",
     "text": [
      "Training Loss: 0.7927\tValidation Loss: 1.2908\n",
      "Counter train preds: Counter({0: 2397, 1: 1984, 5: 944, 2: 931, 3: 874, 4: 832})\tCounter val preds: Counter({0: 840, 1: 644, 2: 377, 5: 274, 3: 270, 4: 249})\n",
      "Epoch train QWK: 0.906\tval QWK: 0.766\n",
      "Epoch 24/29\n",
      "==========\n"
     ]
    },
    {
     "name": "stderr",
     "output_type": "stream",
     "text": [
      "\n",
      " 41%|████      | 204/498 [01:01<01:24,  3.47it/s]"
     ]
    },
    {
     "name": "stdout",
     "output_type": "stream",
     "text": [
      "Gradient overflow.  Skipping step, loss scaler 0 reducing loss scale to 131072.0\n"
     ]
    },
    {
     "name": "stderr",
     "output_type": "stream",
     "text": [
      "100%|██████████| 498/498 [02:30<00:00,  3.30it/s]\n",
      "100%|██████████| 166/166 [00:15<00:00, 10.47it/s]"
     ]
    },
    {
     "name": "stdout",
     "output_type": "stream",
     "text": [
      "Training Loss: 0.7887\tValidation Loss: 1.2833\n",
      "Counter train preds: Counter({0: 2403, 1: 1975, 2: 947, 5: 891, 4: 890, 3: 856})\tCounter val preds: Counter({0: 863, 1: 672, 2: 376, 4: 297, 5: 265, 3: 181})\n",
      "Epoch train QWK: 0.906\tval QWK: 0.760\n",
      "Epoch 25/29\n",
      "==========\n"
     ]
    },
    {
     "name": "stderr",
     "output_type": "stream",
     "text": [
      "\n",
      "100%|██████████| 498/498 [02:29<00:00,  3.33it/s]\n",
      "100%|██████████| 166/166 [00:14<00:00, 11.74it/s]"
     ]
    },
    {
     "name": "stdout",
     "output_type": "stream",
     "text": [
      "Training Loss: 0.7820\tValidation Loss: 1.2766\n",
      "Counter train preds: Counter({0: 2399, 1: 1977, 2: 951, 5: 904, 4: 874, 3: 857})\tCounter val preds: Counter({0: 859, 1: 629, 2: 323, 3: 313, 5: 275, 4: 255})\n",
      "Epoch train QWK: 0.907\tval QWK: 0.765\n",
      "Epoch 26/29\n",
      "==========\n"
     ]
    },
    {
     "name": "stderr",
     "output_type": "stream",
     "text": [
      "\n",
      "100%|██████████| 498/498 [02:28<00:00,  3.35it/s]\n",
      "100%|██████████| 166/166 [00:14<00:00, 11.55it/s]"
     ]
    },
    {
     "name": "stdout",
     "output_type": "stream",
     "text": [
      "Epoch    27: reducing learning rate of group 0 to 3.1250e-06.\n",
      "Training Loss: 0.7875\tValidation Loss: 1.2824\n",
      "Counter train preds: Counter({0: 2443, 1: 1964, 2: 935, 5: 905, 3: 877, 4: 838})\tCounter val preds: Counter({0: 838, 1: 655, 2: 371, 5: 292, 3: 290, 4: 208})\n",
      "Epoch train QWK: 0.906\tval QWK: 0.759\n",
      "Epoch 27/29\n",
      "==========\n"
     ]
    },
    {
     "name": "stderr",
     "output_type": "stream",
     "text": [
      "\n",
      "100%|██████████| 498/498 [02:29<00:00,  3.32it/s]\n",
      "100%|██████████| 166/166 [00:15<00:00, 10.60it/s]"
     ]
    },
    {
     "name": "stdout",
     "output_type": "stream",
     "text": [
      "Training Loss: 0.7610\tValidation Loss: 1.3068\n",
      "Counter train preds: Counter({0: 2411, 1: 1954, 2: 952, 5: 937, 4: 861, 3: 847})\tCounter val preds: Counter({0: 886, 1: 561, 2: 348, 3: 338, 5: 284, 4: 237})\n",
      "Epoch train QWK: 0.917\tval QWK: 0.759\n",
      "Epoch 28/29\n",
      "==========\n"
     ]
    },
    {
     "name": "stderr",
     "output_type": "stream",
     "text": [
      "\n",
      " 51%|█████▏    | 256/498 [01:17<01:09,  3.46it/s]"
     ]
    },
    {
     "name": "stdout",
     "output_type": "stream",
     "text": [
      "Gradient overflow.  Skipping step, loss scaler 0 reducing loss scale to 131072.0\n"
     ]
    },
    {
     "name": "stderr",
     "output_type": "stream",
     "text": [
      "100%|██████████| 498/498 [02:29<00:00,  3.34it/s]\n",
      "100%|██████████| 166/166 [00:14<00:00, 11.39it/s]"
     ]
    },
    {
     "name": "stdout",
     "output_type": "stream",
     "text": [
      "Training Loss: 0.7612\tValidation Loss: 1.2853\n",
      "Counter train preds: Counter({0: 2396, 1: 1962, 2: 947, 5: 916, 4: 880, 3: 861})\tCounter val preds: Counter({0: 855, 1: 665, 2: 342, 5: 313, 3: 248, 4: 231})\n",
      "Epoch train QWK: 0.917\tval QWK: 0.764\n",
      "Epoch 29/29\n",
      "==========\n"
     ]
    },
    {
     "name": "stderr",
     "output_type": "stream",
     "text": [
      "\n",
      "100%|██████████| 498/498 [02:27<00:00,  3.38it/s]\n",
      "100%|██████████| 166/166 [00:14<00:00, 11.73it/s]"
     ]
    },
    {
     "name": "stdout",
     "output_type": "stream",
     "text": [
      "Training Loss: 0.7683\tValidation Loss: 1.2812\n",
      "Counter train preds: Counter({0: 2405, 1: 1990, 2: 934, 5: 886, 4: 880, 3: 867})\tCounter val preds: Counter({0: 888, 1: 609, 2: 364, 5: 295, 3: 262, 4: 236})\n",
      "Epoch train QWK: 0.914\tval QWK: 0.762\n"
     ]
    },
    {
     "name": "stderr",
     "output_type": "stream",
     "text": [
      "\n"
     ]
    }
   ],
   "source": [
    "train_df = folds[folds[\"fold\"] != 0].copy()\n",
    "val_df = folds[folds[\"fold\"] == 0].copy()\n",
    "train_ds = LazyTilesDataset(train_df, transform=get_transforms(data=\"train\", aug=\"heavy\"), debug=False) # NOTE! it is predefined 36-tiles images\n",
    "val_ds = LazyTilesDataset(val_df, transform=get_transforms(data=\"valid\"), debug=False)\n",
    "\n",
    "model_ft = make_RN50_cls()\n",
    "# initialize bias in the model\n",
    "cls_probas = (train_df[CFG.target_col].value_counts() / len(train_df)).values\n",
    "model_ft = init_last_layer_bias(model_ft, cls_probas)\n",
    "\n",
    "criterion = LOSSES[CFG.loss]\n",
    "optimizer = torch.optim.Adam(model_ft.parameters(), lr=CFG.lr, amsgrad=False)\n",
    "train_eval_loop(train_ds, val_ds, model_ft, optimizer, criterion, num_epochs=30)"
   ]
  },
  {
   "cell_type": "markdown",
   "metadata": {},
   "source": [
    "### Experiment Run"
   ]
  },
  {
   "cell_type": "code",
   "execution_count": 17,
   "metadata": {},
   "outputs": [
    {
     "name": "stdout",
     "output_type": "stream",
     "text": [
      "debug: False\n",
      " use_amp: True\n",
      " img_height: 768\n",
      " img_width: 768\n",
      " lr: 0.0005\n",
      " rlopp: 3\n",
      " batch_size: 8\n",
      " epoch: 100\n",
      " seed: 1982\n",
      " target_size: 6\n",
      " img_id_col: image_id\n",
      " target_col: isup_grade\n",
      " n_fold: 4\n",
      " tiff_layer: 1\n",
      " loss: ls_soft_ce\n",
      " stoch_sample: True\n",
      " num_tiles: 36\n",
      " tile_sz: 128\n",
      " schedule_type: one_cycle\n",
      "\n"
     ]
    }
   ],
   "source": [
    "print(\" \".join([f\"{key}: {val}\\n\" for key, val in CFG.__dict__.items() if not key.startswith(\"__\")]))"
   ]
  },
  {
   "cell_type": "code",
   "execution_count": 18,
   "metadata": {},
   "outputs": [],
   "source": [
    "writer.add_text(\"Experiment Description:\", \" \".join([f\"{key}: {val}\\n\" for key, val in CFG.__dict__.items() if not key.startswith(\"__\")]))"
   ]
  },
  {
   "cell_type": "code",
   "execution_count": 20,
   "metadata": {},
   "outputs": [
    {
     "name": "stdout",
     "output_type": "stream",
     "text": [
      "Selected optimization level O1:  Insert automatic casts around Pytorch functions and Tensor methods.\n",
      "\n",
      "Defaults for this optimization level are:\n",
      "enabled                : True\n",
      "opt_level              : O1\n",
      "cast_model_type        : None\n",
      "patch_torch_functions  : True\n",
      "keep_batchnorm_fp32    : None\n",
      "master_weights         : None\n",
      "loss_scale             : dynamic\n",
      "Processing user overrides (additional kwargs that are not None)...\n",
      "After processing overrides, optimization options are:\n",
      "enabled                : True\n",
      "opt_level              : O1\n",
      "cast_model_type        : None\n",
      "patch_torch_functions  : True\n",
      "keep_batchnorm_fp32    : None\n",
      "master_weights         : None\n",
      "loss_scale             : dynamic\n",
      "Warning:  multi_tensor_applier fused unscale kernel is unavailable, possibly because apex was installed without --cuda_ext --cpp_ext. Using Python fallback.  Original ImportError was: ModuleNotFoundError(\"No module named 'amp_C'\")\n",
      "Epoch 0/99\n",
      "==========\n"
     ]
    },
    {
     "name": "stderr",
     "output_type": "stream",
     "text": [
      "100%|██████████| 996/996 [06:15<00:00,  2.65it/s]\n",
      "100%|██████████| 332/332 [02:09<00:00,  2.57it/s]\n"
     ]
    },
    {
     "name": "stdout",
     "output_type": "stream",
     "text": [
      "Training Loss: 1.3795\tValidation Loss: 1.2491\n",
      "Counter train preds: Counter({0: 3211, 1: 2274, 5: 968, 4: 569, 3: 508, 2: 432})\tCounter val preds: Counter({1: 902, 0: 886, 3: 263, 5: 239, 2: 221, 4: 143})\n",
      "Epoch train QWK: 0.580\tval QWK: 0.706\n",
      "  Epoch 0 - Save Best Loss: 1.2491 Model\n",
      "Confusion matrix, without normalization\n",
      "[[622  90   1   1   4   5]\n",
      " [126 486  42   6   3   3]\n",
      " [ 28 196  86  19   3   3]\n",
      " [ 37  72  57 105  13  27]\n",
      " [ 36  47  22  74  85  49]\n",
      " [ 37  11  13  58  35 152]]\n",
      "  Epoch 0 - Save Best QWK: 0.7061 Model\n",
      "Confusion matrix, without normalization\n",
      "[[622  90   1   1   4   5]\n",
      " [126 486  42   6   3   3]\n",
      " [ 28 196  86  19   3   3]\n",
      " [ 37  72  57 105  13  27]\n",
      " [ 36  47  22  74  85  49]\n",
      " [ 37  11  13  58  35 152]]\n",
      "Epoch 1/99\n",
      "==========\n"
     ]
    },
    {
     "name": "stderr",
     "output_type": "stream",
     "text": [
      "100%|██████████| 996/996 [06:07<00:00,  2.71it/s]\n",
      "100%|██████████| 332/332 [02:07<00:00,  2.61it/s]\n"
     ]
    },
    {
     "name": "stdout",
     "output_type": "stream",
     "text": [
      "Training Loss: 1.2702\tValidation Loss: 1.2184\n",
      "Counter train preds: Counter({0: 2891, 1: 2223, 5: 923, 4: 715, 3: 606, 2: 604})\tCounter val preds: Counter({0: 876, 1: 687, 5: 453, 2: 230, 4: 224, 3: 184})\n",
      "Epoch train QWK: 0.685\tval QWK: 0.757\n",
      "  Epoch 1 - Save Best Loss: 1.2184 Model\n",
      "Confusion matrix, without normalization\n",
      "[[628  69   1   1   9  15]\n",
      " [133 427  75  17   6   8]\n",
      " [ 33 120 105  40  19  18]\n",
      " [ 38  32  26  88  37  90]\n",
      " [ 19  31  16  23 118 106]\n",
      " [ 25   8   7  15  35 216]]\n",
      "  Epoch 1 - Save Best QWK: 0.7567 Model\n",
      "Confusion matrix, without normalization\n",
      "[[628  69   1   1   9  15]\n",
      " [133 427  75  17   6   8]\n",
      " [ 33 120 105  40  19  18]\n",
      " [ 38  32  26  88  37  90]\n",
      " [ 19  31  16  23 118 106]\n",
      " [ 25   8   7  15  35 216]]\n",
      "Epoch 2/99\n",
      "==========\n"
     ]
    },
    {
     "name": "stderr",
     "output_type": "stream",
     "text": [
      "  4%|▎         | 36/996 [00:20<06:55,  2.31it/s]"
     ]
    },
    {
     "name": "stdout",
     "output_type": "stream",
     "text": [
      "Gradient overflow.  Skipping step, loss scaler 0 reducing loss scale to 65536.0\n"
     ]
    },
    {
     "name": "stderr",
     "output_type": "stream",
     "text": [
      "100%|██████████| 996/996 [06:07<00:00,  2.71it/s]\n",
      "100%|██████████| 332/332 [02:02<00:00,  2.71it/s]\n"
     ]
    },
    {
     "name": "stdout",
     "output_type": "stream",
     "text": [
      "Training Loss: 1.2492\tValidation Loss: 1.1923\n",
      "Counter train preds: Counter({0: 2826, 1: 2187, 5: 893, 4: 747, 2: 657, 3: 652})\tCounter val preds: Counter({0: 823, 1: 806, 5: 494, 3: 250, 2: 149, 4: 132})\n",
      "Epoch train QWK: 0.700\tval QWK: 0.774\n",
      "  Epoch 2 - Save Best Loss: 1.1923 Model\n",
      "Confusion matrix, without normalization\n",
      "[[621  91   3   0   4   4]\n",
      " [103 485  51  14   4   9]\n",
      " [ 18 152  70  55  15  25]\n",
      " [ 32  40  14 105  22  98]\n",
      " [ 23  29   9  52  70 130]\n",
      " [ 26   9   2  24  17 228]]\n",
      "  Epoch 2 - Save Best QWK: 0.7739 Model\n",
      "Confusion matrix, without normalization\n",
      "[[621  91   3   0   4   4]\n",
      " [103 485  51  14   4   9]\n",
      " [ 18 152  70  55  15  25]\n",
      " [ 32  40  14 105  22  98]\n",
      " [ 23  29   9  52  70 130]\n",
      " [ 26   9   2  24  17 228]]\n",
      "Epoch 3/99\n",
      "==========\n"
     ]
    },
    {
     "name": "stderr",
     "output_type": "stream",
     "text": [
      "100%|██████████| 996/996 [05:59<00:00,  2.77it/s]\n",
      "100%|██████████| 332/332 [02:04<00:00,  2.67it/s]"
     ]
    },
    {
     "name": "stdout",
     "output_type": "stream",
     "text": [
      "Training Loss: 1.2372\tValidation Loss: 1.3405\n",
      "Counter train preds: Counter({0: 2831, 1: 2190, 5: 938, 4: 680, 3: 678, 2: 645})\tCounter val preds: Counter({0: 742, 1: 646, 5: 467, 3: 304, 4: 290, 2: 205})\n",
      "Epoch train QWK: 0.702\tval QWK: 0.757\n",
      "Epoch 4/99\n",
      "==========\n"
     ]
    },
    {
     "name": "stderr",
     "output_type": "stream",
     "text": [
      "\n",
      "  9%|▊         | 85/996 [00:34<05:23,  2.82it/s]"
     ]
    },
    {
     "name": "stdout",
     "output_type": "stream",
     "text": [
      "Gradient overflow.  Skipping step, loss scaler 0 reducing loss scale to 65536.0\n"
     ]
    },
    {
     "name": "stderr",
     "output_type": "stream",
     "text": [
      "100%|██████████| 996/996 [06:02<00:00,  2.75it/s]\n",
      "100%|██████████| 332/332 [02:02<00:00,  2.71it/s]"
     ]
    },
    {
     "name": "stdout",
     "output_type": "stream",
     "text": [
      "Training Loss: 1.2354\tValidation Loss: 1.2378\n",
      "Counter train preds: Counter({0: 2847, 1: 2201, 5: 907, 4: 722, 3: 648, 2: 637})\tCounter val preds: Counter({0: 947, 1: 770, 3: 354, 5: 253, 2: 187, 4: 143})\n",
      "Epoch train QWK: 0.713\tval QWK: 0.742\n",
      "Epoch 5/99\n",
      "==========\n"
     ]
    },
    {
     "name": "stderr",
     "output_type": "stream",
     "text": [
      "\n",
      "100%|██████████| 996/996 [06:24<00:00,  2.59it/s]\n",
      "100%|██████████| 332/332 [02:06<00:00,  2.63it/s]\n"
     ]
    },
    {
     "name": "stdout",
     "output_type": "stream",
     "text": [
      "Training Loss: 1.2391\tValidation Loss: 1.2145\n",
      "Counter train preds: Counter({0: 2840, 1: 2199, 5: 890, 4: 760, 3: 680, 2: 593})\tCounter val preds: Counter({0: 910, 1: 648, 3: 449, 4: 400, 5: 170, 2: 77})\n",
      "Epoch train QWK: 0.712\tval QWK: 0.784\n",
      "  Epoch 5 - Save Best QWK: 0.7843 Model\n",
      "Confusion matrix, without normalization\n",
      "[[655  58   1   3   2   4]\n",
      " [154 422  24  51  10   5]\n",
      " [ 26 118  38 137  13   3]\n",
      " [ 31  22   9 157  66  26]\n",
      " [ 18  22   3  70 178  22]\n",
      " [ 26   6   2  31 131 110]]\n",
      "Epoch 6/99\n",
      "==========\n"
     ]
    },
    {
     "name": "stderr",
     "output_type": "stream",
     "text": [
      " 20%|██        | 200/996 [01:20<05:02,  2.63it/s]"
     ]
    },
    {
     "name": "stdout",
     "output_type": "stream",
     "text": [
      "Gradient overflow.  Skipping step, loss scaler 0 reducing loss scale to 65536.0\n"
     ]
    },
    {
     "name": "stderr",
     "output_type": "stream",
     "text": [
      "100%|██████████| 996/996 [06:35<00:00,  2.52it/s]\n",
      "100%|██████████| 332/332 [02:14<00:00,  2.47it/s]"
     ]
    },
    {
     "name": "stdout",
     "output_type": "stream",
     "text": [
      "Training Loss: 1.2347\tValidation Loss: 1.2485\n",
      "Counter train preds: Counter({0: 2873, 1: 2144, 5: 927, 4: 692, 2: 686, 3: 640})\tCounter val preds: Counter({1: 1135, 0: 673, 5: 278, 3: 273, 4: 182, 2: 113})\n",
      "Epoch train QWK: 0.723\tval QWK: 0.744\n",
      "Epoch 7/99\n",
      "==========\n"
     ]
    },
    {
     "name": "stderr",
     "output_type": "stream",
     "text": [
      "\n",
      "100%|██████████| 996/996 [06:36<00:00,  2.51it/s]\n",
      "100%|██████████| 332/332 [02:12<00:00,  2.50it/s]"
     ]
    },
    {
     "name": "stdout",
     "output_type": "stream",
     "text": [
      "Training Loss: 1.2466\tValidation Loss: 1.4599\n",
      "Counter train preds: Counter({0: 2873, 1: 2183, 5: 908, 4: 750, 3: 639, 2: 609})\tCounter val preds: Counter({0: 878, 5: 789, 1: 292, 4: 288, 2: 253, 3: 154})\n",
      "Epoch train QWK: 0.707\tval QWK: 0.661\n",
      "Epoch 8/99\n",
      "==========\n"
     ]
    },
    {
     "name": "stderr",
     "output_type": "stream",
     "text": [
      "\n",
      "100%|██████████| 996/996 [06:07<00:00,  2.71it/s]"
     ]
    },
    {
     "name": "stdout",
     "output_type": "stream",
     "text": [
      "Gradient overflow.  Skipping step, loss scaler 0 reducing loss scale to 65536.0\n"
     ]
    },
    {
     "name": "stderr",
     "output_type": "stream",
     "text": [
      "\n",
      "100%|██████████| 332/332 [02:01<00:00,  2.74it/s]"
     ]
    },
    {
     "name": "stdout",
     "output_type": "stream",
     "text": [
      "Training Loss: 1.2436\tValidation Loss: 1.3141\n",
      "Counter train preds: Counter({0: 2837, 1: 2204, 5: 921, 4: 736, 2: 666, 3: 598})\tCounter val preds: Counter({0: 948, 1: 825, 2: 367, 5: 269, 4: 189, 3: 56})\n",
      "Epoch train QWK: 0.715\tval QWK: 0.708\n",
      "Epoch 9/99\n",
      "==========\n"
     ]
    },
    {
     "name": "stderr",
     "output_type": "stream",
     "text": [
      "\n",
      "100%|██████████| 996/996 [05:49<00:00,  2.85it/s]\n",
      "100%|██████████| 332/332 [02:01<00:00,  2.73it/s]"
     ]
    },
    {
     "name": "stdout",
     "output_type": "stream",
     "text": [
      "Training Loss: 1.2501\tValidation Loss: 1.5761\n",
      "Counter train preds: Counter({0: 2925, 1: 2149, 5: 925, 4: 744, 3: 637, 2: 582})\tCounter val preds: Counter({1: 1513, 0: 511, 2: 351, 5: 132, 4: 86, 3: 61})\n",
      "Epoch train QWK: 0.706\tval QWK: 0.549\n",
      "Epoch 10/99\n",
      "==========\n"
     ]
    },
    {
     "name": "stderr",
     "output_type": "stream",
     "text": [
      "\n",
      "100%|██████████| 996/996 [05:51<00:00,  2.84it/s]\n",
      "100%|██████████| 332/332 [02:01<00:00,  2.74it/s]"
     ]
    },
    {
     "name": "stdout",
     "output_type": "stream",
     "text": [
      "Training Loss: 1.2513\tValidation Loss: 1.3329\n",
      "Counter train preds: Counter({0: 2884, 1: 2206, 5: 946, 4: 707, 3: 615, 2: 604})\tCounter val preds: Counter({0: 737, 1: 654, 5: 551, 4: 369, 3: 207, 2: 136})\n",
      "Epoch train QWK: 0.707\tval QWK: 0.674\n",
      "Epoch 11/99\n",
      "==========\n"
     ]
    },
    {
     "name": "stderr",
     "output_type": "stream",
     "text": [
      "\n",
      "100%|██████████| 996/996 [05:49<00:00,  2.85it/s]\n",
      "100%|██████████| 332/332 [02:00<00:00,  2.76it/s]"
     ]
    },
    {
     "name": "stdout",
     "output_type": "stream",
     "text": [
      "Training Loss: 1.2525\tValidation Loss: 2.4569\n",
      "Counter train preds: Counter({0: 2828, 1: 2243, 5: 933, 4: 726, 3: 642, 2: 590})\tCounter val preds: Counter({1: 1485, 0: 767, 2: 207, 5: 127, 4: 35, 3: 33})\n",
      "Epoch train QWK: 0.709\tval QWK: 0.492\n",
      "Epoch 12/99\n",
      "==========\n"
     ]
    },
    {
     "name": "stderr",
     "output_type": "stream",
     "text": [
      "\n",
      " 52%|█████▏    | 519/996 [03:03<02:47,  2.85it/s]"
     ]
    },
    {
     "name": "stdout",
     "output_type": "stream",
     "text": [
      "Gradient overflow.  Skipping step, loss scaler 0 reducing loss scale to 65536.0\n"
     ]
    },
    {
     "name": "stderr",
     "output_type": "stream",
     "text": [
      "100%|██████████| 996/996 [05:49<00:00,  2.85it/s]\n",
      "100%|██████████| 332/332 [02:01<00:00,  2.73it/s]"
     ]
    },
    {
     "name": "stdout",
     "output_type": "stream",
     "text": [
      "Training Loss: 1.2496\tValidation Loss: 1.3106\n",
      "Counter train preds: Counter({0: 2884, 1: 2192, 5: 900, 4: 715, 3: 660, 2: 611})\tCounter val preds: Counter({0: 910, 1: 642, 5: 365, 2: 335, 3: 330, 4: 72})\n",
      "Epoch train QWK: 0.701\tval QWK: 0.716\n",
      "Epoch 13/99\n",
      "==========\n"
     ]
    },
    {
     "name": "stderr",
     "output_type": "stream",
     "text": [
      "\n",
      "100%|██████████| 996/996 [05:48<00:00,  2.86it/s]\n",
      "100%|██████████| 332/332 [02:01<00:00,  2.73it/s]"
     ]
    },
    {
     "name": "stdout",
     "output_type": "stream",
     "text": [
      "Training Loss: 1.2421\tValidation Loss: 1.2464\n",
      "Counter train preds: Counter({0: 2902, 1: 2163, 5: 920, 4: 719, 3: 653, 2: 605})\tCounter val preds: Counter({0: 1132, 1: 643, 5: 334, 4: 260, 2: 166, 3: 119})\n",
      "Epoch train QWK: 0.697\tval QWK: 0.711\n",
      "Epoch 14/99\n",
      "==========\n"
     ]
    },
    {
     "name": "stderr",
     "output_type": "stream",
     "text": [
      "\n",
      " 82%|████████▏ | 816/996 [04:47<00:59,  3.05it/s]"
     ]
    },
    {
     "name": "stdout",
     "output_type": "stream",
     "text": [
      "Gradient overflow.  Skipping step, loss scaler 0 reducing loss scale to 65536.0\n"
     ]
    },
    {
     "name": "stderr",
     "output_type": "stream",
     "text": [
      "100%|██████████| 996/996 [05:48<00:00,  2.86it/s]\n",
      "100%|██████████| 332/332 [02:02<00:00,  2.72it/s]"
     ]
    },
    {
     "name": "stdout",
     "output_type": "stream",
     "text": [
      "Training Loss: 1.2324\tValidation Loss: 1.2642\n",
      "Counter train preds: Counter({0: 2873, 1: 2175, 5: 956, 4: 705, 2: 629, 3: 624})\tCounter val preds: Counter({1: 1086, 0: 808, 2: 215, 3: 201, 5: 178, 4: 166})\n",
      "Epoch train QWK: 0.722\tval QWK: 0.691\n",
      "Epoch 15/99\n",
      "==========\n"
     ]
    },
    {
     "name": "stderr",
     "output_type": "stream",
     "text": [
      "\n",
      "100%|██████████| 996/996 [05:50<00:00,  2.84it/s]\n",
      "100%|██████████| 332/332 [02:02<00:00,  2.72it/s]\n"
     ]
    },
    {
     "name": "stdout",
     "output_type": "stream",
     "text": [
      "Training Loss: 1.2256\tValidation Loss: 1.1724\n",
      "Counter train preds: Counter({0: 2836, 1: 2226, 5: 921, 4: 750, 3: 640, 2: 589})\tCounter val preds: Counter({0: 850, 1: 804, 5: 371, 4: 215, 2: 208, 3: 206})\n",
      "Epoch train QWK: 0.724\tval QWK: 0.782\n",
      "  Epoch 15 - Save Best Loss: 1.1724 Model\n",
      "Confusion matrix, without normalization\n",
      "[[649  60   1   8   2   3]\n",
      " [105 499  40  15   3   4]\n",
      " [ 23 155 102  35   8  12]\n",
      " [ 26  41  41  90  54  59]\n",
      " [ 23  34  18  37 116  85]\n",
      " [ 24  15   6  21  32 208]]\n",
      "Epoch 16/99\n",
      "==========\n"
     ]
    },
    {
     "name": "stderr",
     "output_type": "stream",
     "text": [
      " 89%|████████▉ | 889/996 [05:13<00:37,  2.85it/s]"
     ]
    },
    {
     "name": "stdout",
     "output_type": "stream",
     "text": [
      "Gradient overflow.  Skipping step, loss scaler 0 reducing loss scale to 65536.0\n"
     ]
    },
    {
     "name": "stderr",
     "output_type": "stream",
     "text": [
      "100%|██████████| 996/996 [05:50<00:00,  2.84it/s]\n",
      "100%|██████████| 332/332 [02:02<00:00,  2.72it/s]"
     ]
    },
    {
     "name": "stdout",
     "output_type": "stream",
     "text": [
      "Training Loss: 1.2301\tValidation Loss: 1.2414\n",
      "Counter train preds: Counter({0: 2864, 1: 2175, 5: 938, 4: 697, 3: 662, 2: 626})\tCounter val preds: Counter({0: 863, 1: 655, 4: 345, 3: 313, 5: 313, 2: 165})\n",
      "Epoch train QWK: 0.718\tval QWK: 0.762\n",
      "Epoch 17/99\n",
      "==========\n"
     ]
    },
    {
     "name": "stderr",
     "output_type": "stream",
     "text": [
      "\n",
      "100%|██████████| 996/996 [05:53<00:00,  2.82it/s]\n",
      "100%|██████████| 332/332 [02:03<00:00,  2.69it/s]"
     ]
    },
    {
     "name": "stdout",
     "output_type": "stream",
     "text": [
      "Training Loss: 1.2118\tValidation Loss: 1.3460\n",
      "Counter train preds: Counter({0: 2823, 1: 2188, 5: 921, 4: 735, 3: 677, 2: 618})\tCounter val preds: Counter({1: 1213, 0: 475, 5: 353, 2: 266, 3: 233, 4: 114})\n",
      "Epoch train QWK: 0.725\tval QWK: 0.759\n",
      "Epoch 18/99\n",
      "==========\n"
     ]
    },
    {
     "name": "stderr",
     "output_type": "stream",
     "text": [
      "\n",
      "100%|██████████| 996/996 [06:05<00:00,  2.73it/s]\n",
      "100%|██████████| 332/332 [02:02<00:00,  2.71it/s]\n"
     ]
    },
    {
     "name": "stdout",
     "output_type": "stream",
     "text": [
      "Training Loss: 1.2083\tValidation Loss: 1.1859\n",
      "Counter train preds: Counter({0: 2818, 1: 2199, 5: 923, 4: 723, 3: 715, 2: 584})\tCounter val preds: Counter({0: 825, 1: 757, 4: 398, 2: 283, 5: 255, 3: 136})\n",
      "Epoch train QWK: 0.739\tval QWK: 0.785\n",
      "  Epoch 18 - Save Best QWK: 0.7854 Model\n",
      "Confusion matrix, without normalization\n",
      "[[626  86   1   3   5   2]\n",
      " [106 476  62  14   6   2]\n",
      " [ 22 122 139  24  19   9]\n",
      " [ 27  31  48  56 112  37]\n",
      " [ 21  31  22  24 168  47]\n",
      " [ 23  11  11  15  88 158]]\n",
      "Epoch 19/99\n",
      "==========\n"
     ]
    },
    {
     "name": "stderr",
     "output_type": "stream",
     "text": [
      "100%|██████████| 996/996 [06:08<00:00,  2.70it/s]"
     ]
    },
    {
     "name": "stdout",
     "output_type": "stream",
     "text": [
      "Gradient overflow.  Skipping step, loss scaler 0 reducing loss scale to 65536.0\n"
     ]
    },
    {
     "name": "stderr",
     "output_type": "stream",
     "text": [
      "\n",
      "100%|██████████| 332/332 [02:06<00:00,  2.62it/s]"
     ]
    },
    {
     "name": "stdout",
     "output_type": "stream",
     "text": [
      "Training Loss: 1.1946\tValidation Loss: 1.3916\n",
      "Counter train preds: Counter({0: 2796, 1: 2183, 5: 949, 4: 696, 2: 671, 3: 667})\tCounter val preds: Counter({0: 1118, 1: 797, 2: 345, 3: 213, 4: 147, 5: 34})\n",
      "Epoch train QWK: 0.737\tval QWK: 0.529\n",
      "Epoch 20/99\n",
      "==========\n"
     ]
    },
    {
     "name": "stderr",
     "output_type": "stream",
     "text": [
      "\n",
      "100%|██████████| 996/996 [06:34<00:00,  2.52it/s]\n",
      "100%|██████████| 332/332 [02:10<00:00,  2.54it/s]"
     ]
    },
    {
     "name": "stdout",
     "output_type": "stream",
     "text": [
      "Training Loss: 1.1905\tValidation Loss: 1.2486\n",
      "Counter train preds: Counter({0: 2814, 1: 2168, 5: 904, 4: 748, 3: 692, 2: 636})\tCounter val preds: Counter({0: 909, 4: 536, 1: 506, 2: 295, 5: 293, 3: 115})\n",
      "Epoch train QWK: 0.742\tval QWK: 0.770\n",
      "Epoch 21/99\n",
      "==========\n"
     ]
    },
    {
     "name": "stderr",
     "output_type": "stream",
     "text": [
      "\n",
      "100%|██████████| 996/996 [06:03<00:00,  2.74it/s]\n",
      "100%|██████████| 332/332 [02:01<00:00,  2.72it/s]"
     ]
    },
    {
     "name": "stdout",
     "output_type": "stream",
     "text": [
      "Training Loss: 1.1742\tValidation Loss: 1.1863\n",
      "Counter train preds: Counter({0: 2789, 1: 2175, 5: 905, 4: 734, 3: 706, 2: 653})\tCounter val preds: Counter({0: 899, 1: 570, 5: 401, 3: 362, 2: 224, 4: 198})\n",
      "Epoch train QWK: 0.748\tval QWK: 0.772\n",
      "Epoch 22/99\n",
      "==========\n"
     ]
    },
    {
     "name": "stderr",
     "output_type": "stream",
     "text": [
      "\n",
      "  2%|▏         | 23/996 [00:12<05:41,  2.85it/s]"
     ]
    },
    {
     "name": "stdout",
     "output_type": "stream",
     "text": [
      "Gradient overflow.  Skipping step, loss scaler 0 reducing loss scale to 65536.0\n"
     ]
    },
    {
     "name": "stderr",
     "output_type": "stream",
     "text": [
      "100%|██████████| 996/996 [05:49<00:00,  2.85it/s]\n",
      "100%|██████████| 332/332 [02:01<00:00,  2.74it/s]"
     ]
    },
    {
     "name": "stdout",
     "output_type": "stream",
     "text": [
      "Training Loss: 1.1696\tValidation Loss: 1.2511\n",
      "Counter train preds: Counter({0: 2757, 1: 2173, 5: 919, 4: 741, 3: 717, 2: 655})\tCounter val preds: Counter({0: 994, 5: 577, 1: 434, 2: 323, 4: 169, 3: 157})\n",
      "Epoch train QWK: 0.758\tval QWK: 0.757\n",
      "Epoch 23/99\n",
      "==========\n"
     ]
    },
    {
     "name": "stderr",
     "output_type": "stream",
     "text": [
      "\n",
      "100%|██████████| 996/996 [05:48<00:00,  2.86it/s]\n",
      "100%|██████████| 332/332 [02:02<00:00,  2.71it/s]"
     ]
    },
    {
     "name": "stdout",
     "output_type": "stream",
     "text": [
      "Training Loss: 1.1589\tValidation Loss: 1.1947\n",
      "Counter train preds: Counter({0: 2724, 1: 2186, 5: 901, 4: 738, 2: 718, 3: 695})\tCounter val preds: Counter({0: 868, 1: 808, 5: 442, 4: 340, 3: 100, 2: 96})\n",
      "Epoch train QWK: 0.761\tval QWK: 0.785\n",
      "Epoch 24/99\n",
      "==========\n"
     ]
    },
    {
     "name": "stderr",
     "output_type": "stream",
     "text": [
      "\n",
      " 48%|████▊     | 482/996 [02:51<02:54,  2.95it/s]"
     ]
    },
    {
     "name": "stdout",
     "output_type": "stream",
     "text": [
      "Gradient overflow.  Skipping step, loss scaler 0 reducing loss scale to 65536.0\n"
     ]
    },
    {
     "name": "stderr",
     "output_type": "stream",
     "text": [
      "100%|██████████| 996/996 [05:49<00:00,  2.85it/s]\n",
      "100%|██████████| 332/332 [02:01<00:00,  2.73it/s]"
     ]
    },
    {
     "name": "stdout",
     "output_type": "stream",
     "text": [
      "Training Loss: 1.1599\tValidation Loss: 1.1961\n",
      "Counter train preds: Counter({0: 2756, 1: 2158, 5: 921, 4: 752, 2: 699, 3: 676})\tCounter val preds: Counter({0: 947, 1: 728, 5: 438, 3: 294, 4: 142, 2: 105})\n",
      "Epoch train QWK: 0.762\tval QWK: 0.766\n",
      "Epoch 25/99\n",
      "==========\n"
     ]
    },
    {
     "name": "stderr",
     "output_type": "stream",
     "text": [
      "\n",
      "100%|██████████| 996/996 [05:48<00:00,  2.86it/s]\n",
      "100%|██████████| 332/332 [02:01<00:00,  2.72it/s]\n"
     ]
    },
    {
     "name": "stdout",
     "output_type": "stream",
     "text": [
      "Training Loss: 1.1539\tValidation Loss: 1.2303\n",
      "Counter train preds: Counter({0: 2742, 1: 2164, 5: 879, 4: 787, 2: 699, 3: 691})\tCounter val preds: Counter({0: 816, 1: 688, 3: 456, 5: 373, 2: 185, 4: 136})\n",
      "Epoch train QWK: 0.764\tval QWK: 0.789\n",
      "  Epoch 25 - Save Best QWK: 0.7888 Model\n",
      "Confusion matrix, without normalization\n",
      "[[631  48   2  28   7   7]\n",
      " [114 461  40  45   2   4]\n",
      " [ 18 130  89  87   2   9]\n",
      " [ 24  19  38 156  19  55]\n",
      " [ 15  19  11  84  92  92]\n",
      " [ 14  11   5  56  14 206]]\n",
      "Epoch 26/99\n",
      "==========\n"
     ]
    },
    {
     "name": "stderr",
     "output_type": "stream",
     "text": [
      "100%|██████████| 996/996 [05:47<00:00,  2.86it/s]\n",
      "100%|██████████| 332/332 [02:00<00:00,  2.75it/s]"
     ]
    },
    {
     "name": "stdout",
     "output_type": "stream",
     "text": [
      "Training Loss: 1.1445\tValidation Loss: 1.1829\n",
      "Counter train preds: Counter({0: 2769, 1: 2136, 5: 901, 4: 752, 3: 719, 2: 685})\tCounter val preds: Counter({1: 940, 0: 764, 3: 282, 2: 246, 5: 225, 4: 197})\n",
      "Epoch train QWK: 0.767\tval QWK: 0.774\n",
      "Epoch 27/99\n",
      "==========\n"
     ]
    },
    {
     "name": "stderr",
     "output_type": "stream",
     "text": [
      "\n",
      " 55%|█████▍    | 545/996 [03:12<02:55,  2.57it/s]"
     ]
    },
    {
     "name": "stdout",
     "output_type": "stream",
     "text": [
      "Gradient overflow.  Skipping step, loss scaler 0 reducing loss scale to 65536.0\n"
     ]
    },
    {
     "name": "stderr",
     "output_type": "stream",
     "text": [
      "100%|██████████| 996/996 [05:48<00:00,  2.86it/s]\n",
      "100%|██████████| 332/332 [02:01<00:00,  2.72it/s]\n"
     ]
    },
    {
     "name": "stdout",
     "output_type": "stream",
     "text": [
      "Training Loss: 1.1428\tValidation Loss: 1.1604\n",
      "Counter train preds: Counter({0: 2722, 1: 2169, 5: 916, 4: 765, 3: 730, 2: 660})\tCounter val preds: Counter({0: 860, 1: 747, 4: 391, 2: 262, 5: 199, 3: 195})\n",
      "Epoch train QWK: 0.764\tval QWK: 0.798\n",
      "  Epoch 27 - Save Best Loss: 1.1604 Model\n",
      "Confusion matrix, without normalization\n",
      "[[661  58   1   2   1   0]\n",
      " [ 96 498  51  14   6   1]\n",
      " [ 19 137 131  32  14   2]\n",
      " [ 34  21  46  98  96  16]\n",
      " [ 22  24  23  25 189  30]\n",
      " [ 28   9  10  24  85 150]]\n",
      "  Epoch 27 - Save Best QWK: 0.7983 Model\n",
      "Confusion matrix, without normalization\n",
      "[[661  58   1   2   1   0]\n",
      " [ 96 498  51  14   6   1]\n",
      " [ 19 137 131  32  14   2]\n",
      " [ 34  21  46  98  96  16]\n",
      " [ 22  24  23  25 189  30]\n",
      " [ 28   9  10  24  85 150]]\n",
      "Epoch 28/99\n",
      "==========\n"
     ]
    },
    {
     "name": "stderr",
     "output_type": "stream",
     "text": [
      "100%|██████████| 996/996 [05:47<00:00,  2.86it/s]\n",
      "100%|██████████| 332/332 [02:01<00:00,  2.73it/s]"
     ]
    },
    {
     "name": "stdout",
     "output_type": "stream",
     "text": [
      "Training Loss: 1.1308\tValidation Loss: 1.2325\n",
      "Counter train preds: Counter({0: 2699, 1: 2183, 5: 905, 4: 755, 3: 712, 2: 708})\tCounter val preds: Counter({0: 945, 1: 617, 5: 495, 3: 229, 4: 212, 2: 156})\n",
      "Epoch train QWK: 0.773\tval QWK: 0.766\n",
      "Epoch 29/99\n",
      "==========\n"
     ]
    },
    {
     "name": "stderr",
     "output_type": "stream",
     "text": [
      "\n",
      "100%|██████████| 996/996 [05:49<00:00,  2.85it/s]\n",
      "100%|██████████| 332/332 [02:01<00:00,  2.73it/s]\n"
     ]
    },
    {
     "name": "stdout",
     "output_type": "stream",
     "text": [
      "Training Loss: 1.1240\tValidation Loss: 1.1472\n",
      "Counter train preds: Counter({0: 2725, 1: 2151, 5: 884, 4: 783, 3: 718, 2: 701})\tCounter val preds: Counter({0: 916, 1: 672, 5: 379, 3: 322, 2: 189, 4: 176})\n",
      "Epoch train QWK: 0.785\tval QWK: 0.801\n",
      "  Epoch 29 - Save Best Loss: 1.1472 Model\n",
      "Confusion matrix, without normalization\n",
      "[[676  36   4   3   2   2]\n",
      " [139 448  51  21   5   2]\n",
      " [ 23 139  94  59  10  10]\n",
      " [ 30  20  28 139  29  65]\n",
      " [ 23  21   9  65 104  91]\n",
      " [ 25   8   3  35  26 209]]\n",
      "  Epoch 29 - Save Best QWK: 0.8005 Model\n",
      "Confusion matrix, without normalization\n",
      "[[676  36   4   3   2   2]\n",
      " [139 448  51  21   5   2]\n",
      " [ 23 139  94  59  10  10]\n",
      " [ 30  20  28 139  29  65]\n",
      " [ 23  21   9  65 104  91]\n",
      " [ 25   8   3  35  26 209]]\n",
      "Epoch 30/99\n",
      "==========\n"
     ]
    },
    {
     "name": "stderr",
     "output_type": "stream",
     "text": [
      " 85%|████████▌ | 848/996 [05:14<00:54,  2.71it/s]"
     ]
    },
    {
     "name": "stdout",
     "output_type": "stream",
     "text": [
      "Gradient overflow.  Skipping step, loss scaler 0 reducing loss scale to 65536.0\n"
     ]
    },
    {
     "name": "stderr",
     "output_type": "stream",
     "text": [
      "100%|██████████| 996/996 [06:08<00:00,  2.70it/s]\n",
      "100%|██████████| 332/332 [02:01<00:00,  2.74it/s]\n"
     ]
    },
    {
     "name": "stdout",
     "output_type": "stream",
     "text": [
      "Training Loss: 1.1186\tValidation Loss: 1.1396\n",
      "Counter train preds: Counter({0: 2694, 1: 2174, 5: 887, 4: 769, 3: 725, 2: 713})\tCounter val preds: Counter({0: 789, 1: 767, 2: 307, 4: 284, 5: 258, 3: 249})\n",
      "Epoch train QWK: 0.787\tval QWK: 0.797\n",
      "  Epoch 30 - Save Best Loss: 1.1396 Model\n",
      "Confusion matrix, without normalization\n",
      "[[625  79   1   4  10   4]\n",
      " [ 93 497  52  13   9   2]\n",
      " [ 15 130 150  29   9   2]\n",
      " [ 24  27  61 119  55  25]\n",
      " [ 13  21  28  48 151  52]\n",
      " [ 19  13  15  36  50 173]]\n",
      "Epoch 31/99\n",
      "==========\n"
     ]
    },
    {
     "name": "stderr",
     "output_type": "stream",
     "text": [
      "100%|██████████| 996/996 [06:05<00:00,  2.72it/s]\n",
      "100%|██████████| 332/332 [02:04<00:00,  2.67it/s]"
     ]
    },
    {
     "name": "stdout",
     "output_type": "stream",
     "text": [
      "Training Loss: 1.1183\tValidation Loss: 1.2216\n",
      "Counter train preds: Counter({0: 2713, 1: 2165, 5: 875, 4: 764, 2: 726, 3: 719})\tCounter val preds: Counter({0: 865, 1: 765, 4: 387, 3: 382, 5: 146, 2: 109})\n",
      "Epoch train QWK: 0.786\tval QWK: 0.782\n",
      "Epoch 32/99\n",
      "==========\n"
     ]
    },
    {
     "name": "stderr",
     "output_type": "stream",
     "text": [
      "\n",
      "100%|██████████| 996/996 [06:22<00:00,  2.60it/s]\n",
      "100%|██████████| 332/332 [02:07<00:00,  2.60it/s]"
     ]
    },
    {
     "name": "stdout",
     "output_type": "stream",
     "text": [
      "Training Loss: 1.1178\tValidation Loss: 1.1489\n",
      "Counter train preds: Counter({0: 2668, 1: 2160, 5: 874, 4: 788, 2: 754, 3: 718})\tCounter val preds: Counter({0: 932, 1: 644, 3: 360, 2: 282, 5: 255, 4: 181})\n",
      "Epoch train QWK: 0.783\tval QWK: 0.785\n",
      "Epoch 33/99\n",
      "==========\n"
     ]
    },
    {
     "name": "stderr",
     "output_type": "stream",
     "text": [
      "\n",
      " 74%|███████▍  | 736/996 [04:43<01:26,  3.00it/s]"
     ]
    },
    {
     "name": "stdout",
     "output_type": "stream",
     "text": [
      "Gradient overflow.  Skipping step, loss scaler 0 reducing loss scale to 65536.0\n"
     ]
    },
    {
     "name": "stderr",
     "output_type": "stream",
     "text": [
      "100%|██████████| 996/996 [06:12<00:00,  2.67it/s]\n",
      "100%|██████████| 332/332 [02:01<00:00,  2.73it/s]"
     ]
    },
    {
     "name": "stdout",
     "output_type": "stream",
     "text": [
      "Training Loss: 1.1085\tValidation Loss: 1.1618\n",
      "Counter train preds: Counter({0: 2661, 1: 2165, 5: 901, 4: 779, 3: 740, 2: 716})\tCounter val preds: Counter({0: 836, 1: 590, 2: 377, 3: 341, 5: 281, 4: 229})\n",
      "Epoch train QWK: 0.786\tval QWK: 0.792\n",
      "Epoch 34/99\n",
      "==========\n"
     ]
    },
    {
     "name": "stderr",
     "output_type": "stream",
     "text": [
      "\n",
      "100%|██████████| 996/996 [05:50<00:00,  2.84it/s]\n",
      "100%|██████████| 332/332 [02:00<00:00,  2.75it/s]\n"
     ]
    },
    {
     "name": "stdout",
     "output_type": "stream",
     "text": [
      "Training Loss: 1.1042\tValidation Loss: 1.1307\n",
      "Counter train preds: Counter({0: 2681, 1: 2142, 5: 865, 4: 806, 2: 737, 3: 731})\tCounter val preds: Counter({0: 864, 1: 804, 3: 340, 5: 234, 2: 227, 4: 185})\n",
      "Epoch train QWK: 0.786\tval QWK: 0.772\n",
      "  Epoch 34 - Save Best Loss: 1.1307 Model\n",
      "Confusion matrix, without normalization\n",
      "[[661  58   1   3   0   0]\n",
      " [ 99 514  33  16   2   2]\n",
      " [ 13 154 118  44   5   1]\n",
      " [ 27  35  44 160  25  20]\n",
      " [ 32  33  18  73 110  47]\n",
      " [ 32  10  13  44  43 164]]\n",
      "Epoch 35/99\n",
      "==========\n"
     ]
    },
    {
     "name": "stderr",
     "output_type": "stream",
     "text": [
      " 88%|████████▊ | 875/996 [05:06<00:40,  2.96it/s]"
     ]
    },
    {
     "name": "stdout",
     "output_type": "stream",
     "text": [
      "Gradient overflow.  Skipping step, loss scaler 0 reducing loss scale to 65536.0\n"
     ]
    },
    {
     "name": "stderr",
     "output_type": "stream",
     "text": [
      "100%|██████████| 996/996 [05:48<00:00,  2.86it/s]\n",
      "100%|██████████| 332/332 [02:01<00:00,  2.73it/s]\n"
     ]
    },
    {
     "name": "stdout",
     "output_type": "stream",
     "text": [
      "Training Loss: 1.0995\tValidation Loss: 1.1352\n",
      "Counter train preds: Counter({0: 2677, 1: 2133, 5: 860, 4: 775, 2: 763, 3: 754})\tCounter val preds: Counter({0: 787, 1: 691, 5: 365, 4: 308, 2: 265, 3: 238})\n",
      "Epoch train QWK: 0.792\tval QWK: 0.808\n",
      "  Epoch 35 - Save Best QWK: 0.8084 Model\n",
      "Confusion matrix, without normalization\n",
      "[[628  81   3   4   4   3]\n",
      " [ 80 466  92  16   7   5]\n",
      " [ 13  96 137  55  15  19]\n",
      " [ 30  19  20 106  76  60]\n",
      " [ 17  20   8  37 161  70]\n",
      " [ 19   9   5  20  45 208]]\n",
      "Epoch 36/99\n",
      "==========\n"
     ]
    },
    {
     "name": "stderr",
     "output_type": "stream",
     "text": [
      "100%|██████████| 996/996 [05:48<00:00,  2.86it/s]\n",
      "100%|██████████| 332/332 [02:01<00:00,  2.73it/s]"
     ]
    },
    {
     "name": "stdout",
     "output_type": "stream",
     "text": [
      "Training Loss: 1.0978\tValidation Loss: 1.1618\n",
      "Counter train preds: Counter({0: 2652, 1: 2129, 5: 892, 4: 793, 2: 756, 3: 740})\tCounter val preds: Counter({0: 875, 1: 839, 3: 353, 2: 256, 5: 256, 4: 75})\n",
      "Epoch train QWK: 0.798\tval QWK: 0.754\n",
      "Epoch 37/99\n",
      "==========\n"
     ]
    },
    {
     "name": "stderr",
     "output_type": "stream",
     "text": [
      "\n",
      "100%|██████████| 996/996 [05:48<00:00,  2.86it/s]\n",
      "100%|██████████| 332/332 [02:01<00:00,  2.74it/s]"
     ]
    },
    {
     "name": "stdout",
     "output_type": "stream",
     "text": [
      "Training Loss: 1.0852\tValidation Loss: 1.2028\n",
      "Counter train preds: Counter({0: 2636, 1: 2149, 5: 871, 3: 776, 4: 771, 2: 759})\tCounter val preds: Counter({1: 804, 0: 732, 2: 394, 3: 283, 4: 256, 5: 185})\n",
      "Epoch train QWK: 0.796\tval QWK: 0.786\n",
      "Epoch 38/99\n",
      "==========\n"
     ]
    },
    {
     "name": "stderr",
     "output_type": "stream",
     "text": [
      "\n",
      " 51%|█████     | 510/996 [02:59<02:41,  3.01it/s]"
     ]
    },
    {
     "name": "stdout",
     "output_type": "stream",
     "text": [
      "Gradient overflow.  Skipping step, loss scaler 0 reducing loss scale to 65536.0\n"
     ]
    },
    {
     "name": "stderr",
     "output_type": "stream",
     "text": [
      "100%|██████████| 996/996 [05:48<00:00,  2.86it/s]\n",
      "100%|██████████| 332/332 [02:01<00:00,  2.74it/s]"
     ]
    },
    {
     "name": "stdout",
     "output_type": "stream",
     "text": [
      "Training Loss: 1.0918\tValidation Loss: 1.1428\n",
      "Counter train preds: Counter({0: 2644, 1: 2114, 5: 920, 2: 793, 4: 775, 3: 716})\tCounter val preds: Counter({0: 981, 1: 604, 5: 396, 3: 345, 2: 189, 4: 139})\n",
      "Epoch train QWK: 0.795\tval QWK: 0.776\n",
      "Epoch 39/99\n",
      "==========\n"
     ]
    },
    {
     "name": "stderr",
     "output_type": "stream",
     "text": [
      "\n",
      "100%|██████████| 996/996 [05:48<00:00,  2.86it/s]\n",
      "100%|██████████| 332/332 [02:01<00:00,  2.73it/s]"
     ]
    },
    {
     "name": "stdout",
     "output_type": "stream",
     "text": [
      "Training Loss: 1.0793\tValidation Loss: 1.1427\n",
      "Counter train preds: Counter({0: 2651, 1: 2104, 5: 889, 4: 798, 2: 766, 3: 754})\tCounter val preds: Counter({0: 889, 1: 777, 5: 352, 3: 310, 4: 163, 2: 163})\n",
      "Epoch train QWK: 0.802\tval QWK: 0.793\n",
      "Epoch 40/99\n",
      "==========\n"
     ]
    },
    {
     "name": "stderr",
     "output_type": "stream",
     "text": [
      "\n",
      " 81%|████████▏ | 811/996 [04:44<01:00,  3.08it/s]"
     ]
    },
    {
     "name": "stdout",
     "output_type": "stream",
     "text": [
      "Gradient overflow.  Skipping step, loss scaler 0 reducing loss scale to 65536.0\n"
     ]
    },
    {
     "name": "stderr",
     "output_type": "stream",
     "text": [
      "100%|██████████| 996/996 [05:48<00:00,  2.86it/s]\n",
      "100%|██████████| 332/332 [02:02<00:00,  2.72it/s]"
     ]
    },
    {
     "name": "stdout",
     "output_type": "stream",
     "text": [
      "Training Loss: 1.0769\tValidation Loss: 1.2231\n",
      "Counter train preds: Counter({0: 2617, 1: 2146, 5: 872, 4: 794, 3: 782, 2: 751})\tCounter val preds: Counter({0: 812, 1: 534, 4: 457, 3: 308, 5: 287, 2: 256})\n",
      "Epoch train QWK: 0.809\tval QWK: 0.802\n",
      "Epoch 41/99\n",
      "==========\n"
     ]
    },
    {
     "name": "stderr",
     "output_type": "stream",
     "text": [
      "\n",
      "100%|██████████| 996/996 [05:55<00:00,  2.80it/s]\n",
      "100%|██████████| 332/332 [02:05<00:00,  2.64it/s]\n"
     ]
    },
    {
     "name": "stdout",
     "output_type": "stream",
     "text": [
      "Training Loss: 1.0722\tValidation Loss: 1.1255\n",
      "Counter train preds: Counter({0: 2629, 1: 2140, 5: 861, 4: 792, 3: 770, 2: 770})\tCounter val preds: Counter({0: 767, 1: 682, 2: 320, 3: 306, 5: 302, 4: 277})\n",
      "Epoch train QWK: 0.810\tval QWK: 0.811\n",
      "  Epoch 41 - Save Best Loss: 1.1255 Model\n",
      "Confusion matrix, without normalization\n",
      "[[629  82   2   5   2   3]\n",
      " [ 69 455 100  23  14   5]\n",
      " [  8  99 157  49  13   9]\n",
      " [ 27  22  41 133  53  35]\n",
      " [ 17  18  14  59 150  55]\n",
      " [ 17   6   6  37  45 195]]\n",
      "  Epoch 41 - Save Best QWK: 0.8112 Model\n",
      "Confusion matrix, without normalization\n",
      "[[629  82   2   5   2   3]\n",
      " [ 69 455 100  23  14   5]\n",
      " [  8  99 157  49  13   9]\n",
      " [ 27  22  41 133  53  35]\n",
      " [ 17  18  14  59 150  55]\n",
      " [ 17   6   6  37  45 195]]\n",
      "Epoch 42/99\n",
      "==========\n"
     ]
    },
    {
     "name": "stderr",
     "output_type": "stream",
     "text": [
      "100%|██████████| 996/996 [06:20<00:00,  2.62it/s]\n",
      "100%|██████████| 332/332 [02:06<00:00,  2.63it/s]\n"
     ]
    },
    {
     "name": "stdout",
     "output_type": "stream",
     "text": [
      "Training Loss: 1.0599\tValidation Loss: 1.1115\n",
      "Counter train preds: Counter({0: 2635, 1: 2119, 5: 862, 4: 807, 3: 773, 2: 766})\tCounter val preds: Counter({0: 836, 1: 676, 5: 340, 3: 338, 2: 290, 4: 174})\n",
      "Epoch train QWK: 0.810\tval QWK: 0.821\n",
      "  Epoch 42 - Save Best Loss: 1.1115 Model\n",
      "Confusion matrix, without normalization\n",
      "[[660  53   3   4   1   2]\n",
      " [100 462  74  21   4   5]\n",
      " [ 13 109 155  47   5   6]\n",
      " [ 24  26  42 152  28  39]\n",
      " [ 23  20  10  75 110  75]\n",
      " [ 16   6   6  39  26 213]]\n",
      "  Epoch 42 - Save Best QWK: 0.8210 Model\n",
      "Confusion matrix, without normalization\n",
      "[[660  53   3   4   1   2]\n",
      " [100 462  74  21   4   5]\n",
      " [ 13 109 155  47   5   6]\n",
      " [ 24  26  42 152  28  39]\n",
      " [ 23  20  10  75 110  75]\n",
      " [ 16   6   6  39  26 213]]\n",
      "Epoch 43/99\n",
      "==========\n"
     ]
    },
    {
     "name": "stderr",
     "output_type": "stream",
     "text": [
      "100%|██████████| 996/996 [06:16<00:00,  2.65it/s]\n",
      "100%|██████████| 332/332 [02:07<00:00,  2.61it/s]"
     ]
    },
    {
     "name": "stdout",
     "output_type": "stream",
     "text": [
      "Training Loss: 1.0634\tValidation Loss: 1.1746\n",
      "Counter train preds: Counter({0: 2637, 1: 2092, 5: 887, 4: 783, 2: 782, 3: 781})\tCounter val preds: Counter({0: 821, 1: 776, 4: 337, 3: 313, 2: 242, 5: 165})\n",
      "Epoch train QWK: 0.814\tval QWK: 0.787\n",
      "Epoch 44/99\n",
      "==========\n"
     ]
    },
    {
     "name": "stderr",
     "output_type": "stream",
     "text": [
      "\n",
      " 83%|████████▎ | 831/996 [05:23<01:00,  2.74it/s]"
     ]
    },
    {
     "name": "stdout",
     "output_type": "stream",
     "text": [
      "Gradient overflow.  Skipping step, loss scaler 0 reducing loss scale to 131072.0\n"
     ]
    },
    {
     "name": "stderr",
     "output_type": "stream",
     "text": [
      "100%|██████████| 996/996 [06:28<00:00,  2.56it/s]\n",
      "100%|██████████| 332/332 [02:10<00:00,  2.54it/s]"
     ]
    },
    {
     "name": "stdout",
     "output_type": "stream",
     "text": [
      "Training Loss: 1.0543\tValidation Loss: 1.1314\n",
      "Counter train preds: Counter({0: 2606, 1: 2136, 5: 854, 3: 801, 4: 797, 2: 768})\tCounter val preds: Counter({0: 826, 1: 671, 3: 364, 4: 324, 5: 252, 2: 217})\n",
      "Epoch train QWK: 0.810\tval QWK: 0.814\n",
      "Epoch 45/99\n",
      "==========\n"
     ]
    },
    {
     "name": "stderr",
     "output_type": "stream",
     "text": [
      "\n",
      "100%|██████████| 996/996 [05:59<00:00,  2.77it/s]\n",
      "100%|██████████| 332/332 [02:00<00:00,  2.75it/s]"
     ]
    },
    {
     "name": "stdout",
     "output_type": "stream",
     "text": [
      "Training Loss: 1.0457\tValidation Loss: 1.1599\n",
      "Counter train preds: Counter({0: 2609, 1: 2145, 5: 848, 4: 819, 2: 777, 3: 764})\tCounter val preds: Counter({0: 822, 1: 709, 3: 374, 2: 311, 5: 230, 4: 208})\n",
      "Epoch train QWK: 0.822\tval QWK: 0.799\n",
      "Epoch 46/99\n",
      "==========\n"
     ]
    },
    {
     "name": "stderr",
     "output_type": "stream",
     "text": [
      "\n",
      " 81%|████████  | 804/996 [04:42<01:04,  2.97it/s]"
     ]
    },
    {
     "name": "stdout",
     "output_type": "stream",
     "text": [
      "Gradient overflow.  Skipping step, loss scaler 0 reducing loss scale to 65536.0\n"
     ]
    },
    {
     "name": "stderr",
     "output_type": "stream",
     "text": [
      "100%|██████████| 996/996 [05:48<00:00,  2.86it/s]\n",
      "100%|██████████| 332/332 [02:00<00:00,  2.76it/s]"
     ]
    },
    {
     "name": "stdout",
     "output_type": "stream",
     "text": [
      "Training Loss: 1.0450\tValidation Loss: 1.1712\n",
      "Counter train preds: Counter({0: 2605, 1: 2120, 4: 857, 5: 833, 3: 793, 2: 754})\tCounter val preds: Counter({1: 1009, 0: 670, 3: 360, 5: 245, 4: 195, 2: 175})\n",
      "Epoch train QWK: 0.820\tval QWK: 0.795\n",
      "Epoch 47/99\n",
      "==========\n"
     ]
    },
    {
     "name": "stderr",
     "output_type": "stream",
     "text": [
      "\n",
      "100%|██████████| 996/996 [05:48<00:00,  2.86it/s]\n",
      "100%|██████████| 332/332 [02:00<00:00,  2.76it/s]"
     ]
    },
    {
     "name": "stdout",
     "output_type": "stream",
     "text": [
      "Training Loss: 1.0407\tValidation Loss: 1.1541\n",
      "Counter train preds: Counter({0: 2604, 1: 2137, 5: 831, 2: 800, 4: 799, 3: 791})\tCounter val preds: Counter({0: 806, 1: 702, 3: 382, 5: 360, 4: 234, 2: 170})\n",
      "Epoch train QWK: 0.822\tval QWK: 0.818\n",
      "Epoch 48/99\n",
      "==========\n"
     ]
    },
    {
     "name": "stderr",
     "output_type": "stream",
     "text": [
      "\n",
      "100%|██████████| 996/996 [05:47<00:00,  2.86it/s]\n",
      "100%|██████████| 332/332 [02:01<00:00,  2.74it/s]"
     ]
    },
    {
     "name": "stdout",
     "output_type": "stream",
     "text": [
      "Training Loss: 1.0389\tValidation Loss: 1.1245\n",
      "Counter train preds: Counter({0: 2586, 1: 2098, 5: 851, 2: 847, 4: 819, 3: 761})\tCounter val preds: Counter({0: 883, 1: 669, 3: 300, 2: 300, 5: 267, 4: 235})\n",
      "Epoch train QWK: 0.823\tval QWK: 0.806\n",
      "Epoch 49/99\n",
      "==========\n"
     ]
    },
    {
     "name": "stderr",
     "output_type": "stream",
     "text": [
      "\n",
      " 61%|██████    | 604/996 [03:32<02:10,  3.00it/s]"
     ]
    },
    {
     "name": "stdout",
     "output_type": "stream",
     "text": [
      "Gradient overflow.  Skipping step, loss scaler 0 reducing loss scale to 65536.0\n"
     ]
    },
    {
     "name": "stderr",
     "output_type": "stream",
     "text": [
      "100%|██████████| 996/996 [05:47<00:00,  2.86it/s]\n",
      "100%|██████████| 332/332 [02:00<00:00,  2.76it/s]"
     ]
    },
    {
     "name": "stdout",
     "output_type": "stream",
     "text": [
      "Training Loss: 1.0295\tValidation Loss: 1.1180\n",
      "Counter train preds: Counter({0: 2593, 1: 2112, 5: 870, 4: 827, 3: 783, 2: 777})\tCounter val preds: Counter({1: 810, 0: 767, 2: 345, 5: 276, 3: 243, 4: 213})\n",
      "Epoch train QWK: 0.834\tval QWK: 0.818\n",
      "Epoch 50/99\n",
      "==========\n"
     ]
    },
    {
     "name": "stderr",
     "output_type": "stream",
     "text": [
      "\n",
      "100%|██████████| 996/996 [05:47<00:00,  2.86it/s]\n",
      "100%|██████████| 332/332 [02:00<00:00,  2.75it/s]"
     ]
    },
    {
     "name": "stdout",
     "output_type": "stream",
     "text": [
      "Training Loss: 1.0166\tValidation Loss: 1.1240\n",
      "Counter train preds: Counter({0: 2557, 1: 2145, 5: 872, 2: 806, 4: 796, 3: 786})\tCounter val preds: Counter({0: 830, 1: 681, 5: 402, 2: 285, 3: 229, 4: 227})\n",
      "Epoch train QWK: 0.837\tval QWK: 0.816\n",
      "Epoch 51/99\n",
      "==========\n"
     ]
    },
    {
     "name": "stderr",
     "output_type": "stream",
     "text": [
      "\n",
      " 71%|███████▏  | 711/996 [04:10<01:38,  2.89it/s]"
     ]
    },
    {
     "name": "stdout",
     "output_type": "stream",
     "text": [
      "Gradient overflow.  Skipping step, loss scaler 0 reducing loss scale to 65536.0\n"
     ]
    },
    {
     "name": "stderr",
     "output_type": "stream",
     "text": [
      "100%|██████████| 996/996 [05:47<00:00,  2.86it/s]\n",
      "100%|██████████| 332/332 [02:00<00:00,  2.75it/s]"
     ]
    },
    {
     "name": "stdout",
     "output_type": "stream",
     "text": [
      "Training Loss: 1.0118\tValidation Loss: 1.1645\n",
      "Counter train preds: Counter({0: 2554, 1: 2108, 5: 860, 2: 838, 4: 804, 3: 798})\tCounter val preds: Counter({1: 854, 0: 787, 5: 307, 4: 302, 2: 255, 3: 149})\n",
      "Epoch train QWK: 0.824\tval QWK: 0.782\n",
      "Epoch 52/99\n",
      "==========\n"
     ]
    },
    {
     "name": "stderr",
     "output_type": "stream",
     "text": [
      "\n",
      "100%|██████████| 996/996 [05:48<00:00,  2.86it/s]\n",
      "100%|██████████| 332/332 [02:00<00:00,  2.76it/s]"
     ]
    },
    {
     "name": "stdout",
     "output_type": "stream",
     "text": [
      "Training Loss: 1.0057\tValidation Loss: 1.1391\n",
      "Counter train preds: Counter({0: 2555, 1: 2101, 5: 862, 4: 838, 2: 819, 3: 787})\tCounter val preds: Counter({0: 834, 1: 821, 4: 283, 5: 273, 3: 252, 2: 191})\n",
      "Epoch train QWK: 0.833\tval QWK: 0.817\n",
      "Epoch 53/99\n",
      "==========\n"
     ]
    },
    {
     "name": "stderr",
     "output_type": "stream",
     "text": [
      "\n",
      "100%|██████████| 996/996 [05:47<00:00,  2.86it/s]\n",
      "100%|██████████| 332/332 [01:59<00:00,  2.79it/s]\n"
     ]
    },
    {
     "name": "stdout",
     "output_type": "stream",
     "text": [
      "Training Loss: 1.0046\tValidation Loss: 1.1549\n",
      "Counter train preds: Counter({0: 2551, 1: 2089, 5: 863, 4: 837, 2: 816, 3: 806})\tCounter val preds: Counter({1: 789, 0: 751, 3: 327, 5: 292, 4: 282, 2: 213})\n",
      "Epoch train QWK: 0.839\tval QWK: 0.837\n",
      "  Epoch 53 - Save Best QWK: 0.8366 Model\n",
      "Confusion matrix, without normalization\n",
      "[[626  84   1   6   4   2]\n",
      " [ 76 514  50  18   6   2]\n",
      " [  8 126 122  64   8   7]\n",
      " [ 18  31  27 149  52  34]\n",
      " [ 12  24  11  57 158  51]\n",
      " [ 11  10   2  33  54 196]]\n",
      "Epoch 54/99\n",
      "==========\n"
     ]
    },
    {
     "name": "stderr",
     "output_type": "stream",
     "text": [
      "100%|██████████| 996/996 [05:47<00:00,  2.87it/s]\n",
      "100%|██████████| 332/332 [02:00<00:00,  2.76it/s]"
     ]
    },
    {
     "name": "stdout",
     "output_type": "stream",
     "text": [
      "Training Loss: 1.0015\tValidation Loss: 1.1639\n",
      "Counter train preds: Counter({0: 2554, 1: 2122, 5: 863, 4: 848, 2: 788, 3: 787})\tCounter val preds: Counter({0: 755, 1: 712, 5: 451, 2: 351, 3: 220, 4: 165})\n",
      "Epoch train QWK: 0.843\tval QWK: 0.817\n",
      "Epoch 55/99\n",
      "==========\n"
     ]
    },
    {
     "name": "stderr",
     "output_type": "stream",
     "text": [
      "\n",
      " 66%|██████▋   | 662/996 [03:52<01:54,  2.92it/s]"
     ]
    },
    {
     "name": "stdout",
     "output_type": "stream",
     "text": [
      "Gradient overflow.  Skipping step, loss scaler 0 reducing loss scale to 65536.0\n"
     ]
    },
    {
     "name": "stderr",
     "output_type": "stream",
     "text": [
      "100%|██████████| 996/996 [05:47<00:00,  2.86it/s]\n",
      "100%|██████████| 332/332 [02:00<00:00,  2.75it/s]"
     ]
    },
    {
     "name": "stdout",
     "output_type": "stream",
     "text": [
      "Training Loss: 0.9984\tValidation Loss: 1.1180\n",
      "Counter train preds: Counter({0: 2561, 1: 2104, 5: 858, 4: 843, 2: 827, 3: 769})\tCounter val preds: Counter({0: 787, 1: 760, 5: 399, 3: 264, 2: 234, 4: 210})\n",
      "Epoch train QWK: 0.847\tval QWK: 0.835\n",
      "Epoch 56/99\n",
      "==========\n"
     ]
    },
    {
     "name": "stderr",
     "output_type": "stream",
     "text": [
      "\n",
      "100%|██████████| 996/996 [05:48<00:00,  2.86it/s]\n",
      "100%|██████████| 332/332 [02:00<00:00,  2.76it/s]"
     ]
    },
    {
     "name": "stdout",
     "output_type": "stream",
     "text": [
      "Training Loss: 0.9874\tValidation Loss: 1.1277\n",
      "Counter train preds: Counter({0: 2544, 1: 2097, 5: 862, 2: 835, 4: 822, 3: 802})\tCounter val preds: Counter({0: 845, 1: 795, 5: 297, 2: 291, 3: 276, 4: 150})\n",
      "Epoch train QWK: 0.844\tval QWK: 0.805\n",
      "Epoch 57/99\n",
      "==========\n"
     ]
    },
    {
     "name": "stderr",
     "output_type": "stream",
     "text": [
      "\n",
      " 81%|████████  | 809/996 [04:43<01:00,  3.10it/s]"
     ]
    },
    {
     "name": "stdout",
     "output_type": "stream",
     "text": [
      "Gradient overflow.  Skipping step, loss scaler 0 reducing loss scale to 65536.0\n"
     ]
    },
    {
     "name": "stderr",
     "output_type": "stream",
     "text": [
      "100%|██████████| 996/996 [05:47<00:00,  2.86it/s]\n",
      "100%|██████████| 332/332 [02:00<00:00,  2.77it/s]"
     ]
    },
    {
     "name": "stdout",
     "output_type": "stream",
     "text": [
      "Training Loss: 0.9831\tValidation Loss: 1.1488\n",
      "Counter train preds: Counter({0: 2545, 1: 2086, 5: 852, 4: 840, 2: 831, 3: 808})\tCounter val preds: Counter({0: 876, 1: 682, 5: 473, 2: 303, 4: 164, 3: 156})\n",
      "Epoch train QWK: 0.848\tval QWK: 0.819\n",
      "Epoch 58/99\n",
      "==========\n"
     ]
    },
    {
     "name": "stderr",
     "output_type": "stream",
     "text": [
      "\n",
      "100%|██████████| 996/996 [05:47<00:00,  2.86it/s]\n",
      "100%|██████████| 332/332 [02:00<00:00,  2.76it/s]"
     ]
    },
    {
     "name": "stdout",
     "output_type": "stream",
     "text": [
      "Training Loss: 0.9801\tValidation Loss: 1.1751\n",
      "Counter train preds: Counter({0: 2530, 1: 2093, 5: 884, 2: 847, 4: 814, 3: 794})\tCounter val preds: Counter({0: 829, 1: 805, 3: 360, 4: 307, 2: 195, 5: 158})\n",
      "Epoch train QWK: 0.847\tval QWK: 0.806\n",
      "Epoch 59/99\n",
      "==========\n"
     ]
    },
    {
     "name": "stderr",
     "output_type": "stream",
     "text": [
      "\n",
      "100%|██████████| 996/996 [05:47<00:00,  2.86it/s]\n",
      "100%|██████████| 332/332 [01:59<00:00,  2.77it/s]"
     ]
    },
    {
     "name": "stdout",
     "output_type": "stream",
     "text": [
      "Training Loss: 0.9725\tValidation Loss: 1.1639\n",
      "Counter train preds: Counter({0: 2527, 1: 2089, 5: 856, 4: 836, 2: 833, 3: 821})\tCounter val preds: Counter({1: 777, 0: 717, 5: 333, 4: 301, 3: 280, 2: 246})\n",
      "Epoch train QWK: 0.856\tval QWK: 0.834\n",
      "Epoch 60/99\n",
      "==========\n"
     ]
    },
    {
     "name": "stderr",
     "output_type": "stream",
     "text": [
      "\n",
      "100%|██████████| 996/996 [05:48<00:00,  2.86it/s]"
     ]
    },
    {
     "name": "stdout",
     "output_type": "stream",
     "text": [
      "Gradient overflow.  Skipping step, loss scaler 0 reducing loss scale to 65536.0\n"
     ]
    },
    {
     "name": "stderr",
     "output_type": "stream",
     "text": [
      "\n",
      "100%|██████████| 332/332 [02:00<00:00,  2.76it/s]"
     ]
    },
    {
     "name": "stdout",
     "output_type": "stream",
     "text": [
      "Training Loss: 0.9671\tValidation Loss: 1.1351\n",
      "Counter train preds: Counter({0: 2531, 1: 2077, 4: 863, 2: 861, 5: 841, 3: 789})\tCounter val preds: Counter({0: 825, 1: 646, 3: 438, 5: 300, 2: 254, 4: 191})\n",
      "Epoch train QWK: 0.851\tval QWK: 0.834\n",
      "Epoch 61/99\n",
      "==========\n"
     ]
    },
    {
     "name": "stderr",
     "output_type": "stream",
     "text": [
      "\n",
      "100%|██████████| 996/996 [05:48<00:00,  2.86it/s]\n",
      "100%|██████████| 332/332 [02:00<00:00,  2.76it/s]"
     ]
    },
    {
     "name": "stdout",
     "output_type": "stream",
     "text": [
      "Training Loss: 0.9660\tValidation Loss: 1.1149\n",
      "Counter train preds: Counter({0: 2524, 1: 2065, 4: 885, 2: 871, 5: 838, 3: 779})\tCounter val preds: Counter({0: 808, 1: 694, 5: 383, 3: 274, 4: 262, 2: 233})\n",
      "Epoch train QWK: 0.858\tval QWK: 0.834\n",
      "Epoch 62/99\n",
      "==========\n"
     ]
    },
    {
     "name": "stderr",
     "output_type": "stream",
     "text": [
      "\n",
      "100%|██████████| 996/996 [05:48<00:00,  2.86it/s]\n",
      "100%|██████████| 332/332 [01:59<00:00,  2.77it/s]"
     ]
    },
    {
     "name": "stdout",
     "output_type": "stream",
     "text": [
      "Training Loss: 0.9530\tValidation Loss: 1.1505\n",
      "Counter train preds: Counter({0: 2529, 1: 2062, 5: 861, 2: 850, 4: 836, 3: 824})\tCounter val preds: Counter({1: 870, 0: 814, 5: 299, 4: 287, 3: 243, 2: 141})\n",
      "Epoch train QWK: 0.866\tval QWK: 0.808\n",
      "Epoch 63/99\n",
      "==========\n"
     ]
    },
    {
     "name": "stderr",
     "output_type": "stream",
     "text": [
      "\n",
      " 85%|████████▍ | 845/996 [04:55<00:49,  3.06it/s]"
     ]
    },
    {
     "name": "stdout",
     "output_type": "stream",
     "text": [
      "Gradient overflow.  Skipping step, loss scaler 0 reducing loss scale to 65536.0\n"
     ]
    },
    {
     "name": "stderr",
     "output_type": "stream",
     "text": [
      "100%|██████████| 996/996 [05:47<00:00,  2.87it/s]\n",
      "100%|██████████| 332/332 [01:59<00:00,  2.78it/s]"
     ]
    },
    {
     "name": "stdout",
     "output_type": "stream",
     "text": [
      "Training Loss: 0.9517\tValidation Loss: 1.1552\n",
      "Counter train preds: Counter({0: 2518, 1: 2078, 5: 863, 4: 859, 2: 834, 3: 810})\tCounter val preds: Counter({0: 789, 1: 686, 5: 416, 2: 323, 4: 226, 3: 214})\n",
      "Epoch train QWK: 0.857\tval QWK: 0.825\n",
      "Epoch 64/99\n",
      "==========\n"
     ]
    },
    {
     "name": "stderr",
     "output_type": "stream",
     "text": [
      "\n",
      "100%|██████████| 996/996 [05:48<00:00,  2.86it/s]\n",
      "100%|██████████| 332/332 [01:59<00:00,  2.77it/s]"
     ]
    },
    {
     "name": "stdout",
     "output_type": "stream",
     "text": [
      "Training Loss: 0.9413\tValidation Loss: 1.1524\n",
      "Counter train preds: Counter({0: 2502, 1: 2076, 5: 881, 2: 859, 4: 846, 3: 798})\tCounter val preds: Counter({0: 774, 1: 742, 4: 304, 5: 293, 2: 284, 3: 257})\n",
      "Epoch train QWK: 0.865\tval QWK: 0.834\n",
      "Epoch 65/99\n",
      "==========\n"
     ]
    },
    {
     "name": "stderr",
     "output_type": "stream",
     "text": [
      "\n",
      "100%|██████████| 996/996 [05:48<00:00,  2.86it/s]"
     ]
    },
    {
     "name": "stdout",
     "output_type": "stream",
     "text": [
      "Gradient overflow.  Skipping step, loss scaler 0 reducing loss scale to 65536.0\n"
     ]
    },
    {
     "name": "stderr",
     "output_type": "stream",
     "text": [
      "\n",
      "100%|██████████| 332/332 [02:00<00:00,  2.76it/s]"
     ]
    },
    {
     "name": "stdout",
     "output_type": "stream",
     "text": [
      "Training Loss: 0.9389\tValidation Loss: 1.1788\n",
      "Counter train preds: Counter({0: 2506, 1: 2061, 2: 878, 4: 869, 5: 855, 3: 793})\tCounter val preds: Counter({0: 808, 1: 634, 5: 466, 2: 342, 3: 247, 4: 157})\n",
      "Epoch train QWK: 0.864\tval QWK: 0.827\n",
      "Epoch 66/99\n",
      "==========\n"
     ]
    },
    {
     "name": "stderr",
     "output_type": "stream",
     "text": [
      "\n",
      "100%|██████████| 996/996 [05:47<00:00,  2.87it/s]\n",
      "100%|██████████| 332/332 [01:59<00:00,  2.78it/s]"
     ]
    },
    {
     "name": "stdout",
     "output_type": "stream",
     "text": [
      "Training Loss: 0.9398\tValidation Loss: 1.1862\n",
      "Counter train preds: Counter({0: 2516, 1: 2058, 5: 872, 4: 869, 2: 844, 3: 803})\tCounter val preds: Counter({0: 779, 1: 669, 4: 342, 5: 314, 3: 296, 2: 254})\n",
      "Epoch train QWK: 0.864\tval QWK: 0.814\n",
      "Epoch 67/99\n",
      "==========\n"
     ]
    },
    {
     "name": "stderr",
     "output_type": "stream",
     "text": [
      "\n",
      "100%|██████████| 996/996 [05:47<00:00,  2.86it/s]\n",
      "100%|██████████| 332/332 [01:59<00:00,  2.78it/s]"
     ]
    },
    {
     "name": "stdout",
     "output_type": "stream",
     "text": [
      "Training Loss: 0.9198\tValidation Loss: 1.1824\n",
      "Counter train preds: Counter({0: 2505, 1: 2048, 2: 880, 4: 871, 5: 851, 3: 807})\tCounter val preds: Counter({0: 802, 1: 738, 2: 389, 5: 312, 4: 215, 3: 198})\n",
      "Epoch train QWK: 0.871\tval QWK: 0.824\n",
      "Epoch 68/99\n",
      "==========\n"
     ]
    },
    {
     "name": "stderr",
     "output_type": "stream",
     "text": [
      "\n",
      "  8%|▊         | 78/996 [00:30<05:09,  2.97it/s]"
     ]
    },
    {
     "name": "stdout",
     "output_type": "stream",
     "text": [
      "Gradient overflow.  Skipping step, loss scaler 0 reducing loss scale to 65536.0\n"
     ]
    },
    {
     "name": "stderr",
     "output_type": "stream",
     "text": [
      "100%|██████████| 996/996 [05:48<00:00,  2.86it/s]\n",
      "100%|██████████| 332/332 [02:00<00:00,  2.75it/s]"
     ]
    },
    {
     "name": "stdout",
     "output_type": "stream",
     "text": [
      "Training Loss: 0.9142\tValidation Loss: 1.1786\n",
      "Counter train preds: Counter({0: 2502, 1: 2014, 2: 913, 5: 875, 4: 864, 3: 794})\tCounter val preds: Counter({0: 735, 1: 731, 2: 388, 3: 311, 4: 267, 5: 222})\n",
      "Epoch train QWK: 0.871\tval QWK: 0.831\n",
      "Epoch 69/99\n",
      "==========\n"
     ]
    },
    {
     "name": "stderr",
     "output_type": "stream",
     "text": [
      "\n",
      "100%|██████████| 996/996 [05:46<00:00,  2.87it/s]\n",
      "100%|██████████| 332/332 [01:59<00:00,  2.77it/s]"
     ]
    },
    {
     "name": "stdout",
     "output_type": "stream",
     "text": [
      "Training Loss: 0.9141\tValidation Loss: 1.1360\n",
      "Counter train preds: Counter({0: 2480, 1: 2044, 2: 888, 4: 871, 5: 853, 3: 826})\tCounter val preds: Counter({0: 839, 1: 697, 2: 323, 4: 309, 3: 250, 5: 236})\n",
      "Epoch train QWK: 0.875\tval QWK: 0.828\n",
      "Epoch 70/99\n",
      "==========\n"
     ]
    },
    {
     "name": "stderr",
     "output_type": "stream",
     "text": [
      "\n",
      " 59%|█████▉    | 592/996 [03:29<02:12,  3.04it/s]"
     ]
    },
    {
     "name": "stdout",
     "output_type": "stream",
     "text": [
      "Gradient overflow.  Skipping step, loss scaler 0 reducing loss scale to 65536.0\n"
     ]
    },
    {
     "name": "stderr",
     "output_type": "stream",
     "text": [
      "100%|██████████| 996/996 [05:49<00:00,  2.85it/s]\n",
      "100%|██████████| 332/332 [01:59<00:00,  2.78it/s]"
     ]
    },
    {
     "name": "stdout",
     "output_type": "stream",
     "text": [
      "Training Loss: 0.9046\tValidation Loss: 1.1398\n",
      "Counter train preds: Counter({0: 2493, 1: 2062, 4: 863, 5: 855, 2: 850, 3: 839})\tCounter val preds: Counter({1: 786, 0: 764, 5: 346, 3: 277, 2: 250, 4: 231})\n",
      "Epoch train QWK: 0.881\tval QWK: 0.826\n",
      "Epoch 71/99\n",
      "==========\n"
     ]
    },
    {
     "name": "stderr",
     "output_type": "stream",
     "text": [
      "\n",
      "100%|██████████| 996/996 [05:47<00:00,  2.86it/s]\n",
      "100%|██████████| 332/332 [01:59<00:00,  2.77it/s]"
     ]
    },
    {
     "name": "stdout",
     "output_type": "stream",
     "text": [
      "Training Loss: 0.9021\tValidation Loss: 1.1499\n",
      "Counter train preds: Counter({0: 2487, 1: 2036, 2: 888, 5: 885, 4: 872, 3: 794})\tCounter val preds: Counter({0: 782, 1: 667, 2: 410, 5: 331, 4: 239, 3: 225})\n",
      "Epoch train QWK: 0.880\tval QWK: 0.825\n",
      "Epoch 72/99\n",
      "==========\n"
     ]
    },
    {
     "name": "stderr",
     "output_type": "stream",
     "text": [
      "\n",
      "100%|██████████| 996/996 [05:47<00:00,  2.86it/s]\n",
      "100%|██████████| 332/332 [02:00<00:00,  2.76it/s]"
     ]
    },
    {
     "name": "stdout",
     "output_type": "stream",
     "text": [
      "Training Loss: 0.8942\tValidation Loss: 1.1353\n",
      "Counter train preds: Counter({0: 2478, 1: 2039, 2: 889, 4: 880, 5: 843, 3: 833})\tCounter val preds: Counter({0: 780, 1: 762, 4: 347, 3: 278, 5: 245, 2: 242})\n",
      "Epoch train QWK: 0.880\tval QWK: 0.820\n",
      "Epoch 73/99\n",
      "==========\n"
     ]
    },
    {
     "name": "stderr",
     "output_type": "stream",
     "text": [
      "\n",
      " 47%|████▋     | 473/996 [02:47<02:54,  3.00it/s]"
     ]
    },
    {
     "name": "stdout",
     "output_type": "stream",
     "text": [
      "Gradient overflow.  Skipping step, loss scaler 0 reducing loss scale to 65536.0\n"
     ]
    },
    {
     "name": "stderr",
     "output_type": "stream",
     "text": [
      "100%|██████████| 996/996 [05:47<00:00,  2.86it/s]\n",
      "100%|██████████| 332/332 [01:59<00:00,  2.79it/s]"
     ]
    },
    {
     "name": "stdout",
     "output_type": "stream",
     "text": [
      "Training Loss: 0.8915\tValidation Loss: 1.1250\n",
      "Counter train preds: Counter({0: 2476, 1: 2014, 2: 898, 5: 874, 4: 869, 3: 831})\tCounter val preds: Counter({0: 784, 1: 722, 4: 352, 2: 295, 5: 262, 3: 239})\n",
      "Epoch train QWK: 0.888\tval QWK: 0.833\n",
      "Epoch 74/99\n",
      "==========\n"
     ]
    },
    {
     "name": "stderr",
     "output_type": "stream",
     "text": [
      "\n",
      "100%|██████████| 996/996 [05:47<00:00,  2.86it/s]\n",
      "100%|██████████| 332/332 [02:00<00:00,  2.76it/s]"
     ]
    },
    {
     "name": "stdout",
     "output_type": "stream",
     "text": [
      "Training Loss: 0.8812\tValidation Loss: 1.1313\n",
      "Counter train preds: Counter({0: 2470, 1: 2030, 2: 910, 4: 873, 5: 855, 3: 824})\tCounter val preds: Counter({0: 820, 1: 735, 5: 313, 2: 269, 3: 263, 4: 254})\n",
      "Epoch train QWK: 0.883\tval QWK: 0.823\n",
      "Epoch 75/99\n",
      "==========\n"
     ]
    },
    {
     "name": "stderr",
     "output_type": "stream",
     "text": [
      "\n",
      " 81%|████████  | 807/996 [04:42<01:04,  2.91it/s]"
     ]
    },
    {
     "name": "stdout",
     "output_type": "stream",
     "text": [
      "Gradient overflow.  Skipping step, loss scaler 0 reducing loss scale to 65536.0\n"
     ]
    },
    {
     "name": "stderr",
     "output_type": "stream",
     "text": [
      "100%|██████████| 996/996 [05:47<00:00,  2.87it/s]\n",
      "100%|██████████| 332/332 [01:59<00:00,  2.77it/s]"
     ]
    },
    {
     "name": "stdout",
     "output_type": "stream",
     "text": [
      "Training Loss: 0.8819\tValidation Loss: 1.1214\n",
      "Counter train preds: Counter({0: 2469, 1: 2029, 2: 895, 5: 874, 4: 863, 3: 832})\tCounter val preds: Counter({0: 782, 1: 763, 2: 340, 4: 301, 5: 251, 3: 217})\n",
      "Epoch train QWK: 0.889\tval QWK: 0.828\n",
      "Epoch 76/99\n",
      "==========\n"
     ]
    },
    {
     "name": "stderr",
     "output_type": "stream",
     "text": [
      "\n",
      "100%|██████████| 996/996 [05:48<00:00,  2.86it/s]"
     ]
    },
    {
     "name": "stdout",
     "output_type": "stream",
     "text": [
      "Gradient overflow.  Skipping step, loss scaler 0 reducing loss scale to 32768.0\n"
     ]
    },
    {
     "name": "stderr",
     "output_type": "stream",
     "text": [
      "\n",
      "100%|██████████| 332/332 [02:00<00:00,  2.76it/s]\n"
     ]
    },
    {
     "name": "stdout",
     "output_type": "stream",
     "text": [
      "Training Loss: 0.8776\tValidation Loss: 1.1424\n",
      "Counter train preds: Counter({0: 2477, 1: 2046, 2: 904, 4: 872, 5: 853, 3: 810})\tCounter val preds: Counter({0: 755, 1: 738, 2: 311, 3: 308, 4: 272, 5: 270})\n",
      "Epoch train QWK: 0.881\tval QWK: 0.837\n",
      "  Epoch 76 - Save Best QWK: 0.8370 Model\n",
      "Confusion matrix, without normalization\n",
      "[[631  81   1   2   5   3]\n",
      " [ 68 504  71  15   6   2]\n",
      " [  8 103 173  37   9   5]\n",
      " [ 22  24  40 165  40  20]\n",
      " [ 12  19  17  61 156  48]\n",
      " [ 14   7   9  28  56 192]]\n",
      "Epoch 77/99\n",
      "==========\n"
     ]
    },
    {
     "name": "stderr",
     "output_type": "stream",
     "text": [
      "100%|██████████| 996/996 [05:47<00:00,  2.87it/s]\n",
      "100%|██████████| 332/332 [02:00<00:00,  2.76it/s]"
     ]
    },
    {
     "name": "stdout",
     "output_type": "stream",
     "text": [
      "Training Loss: 0.8680\tValidation Loss: 1.1478\n",
      "Counter train preds: Counter({0: 2465, 1: 2042, 2: 916, 4: 862, 5: 848, 3: 829})\tCounter val preds: Counter({0: 835, 1: 586, 4: 345, 2: 329, 5: 325, 3: 234})\n",
      "Epoch train QWK: 0.896\tval QWK: 0.834\n",
      "Epoch 78/99\n",
      "==========\n"
     ]
    },
    {
     "name": "stderr",
     "output_type": "stream",
     "text": [
      "\n",
      "100%|██████████| 996/996 [05:47<00:00,  2.86it/s]\n",
      "100%|██████████| 332/332 [02:00<00:00,  2.77it/s]"
     ]
    },
    {
     "name": "stdout",
     "output_type": "stream",
     "text": [
      "Training Loss: 0.8655\tValidation Loss: 1.1513\n",
      "Counter train preds: Counter({0: 2475, 1: 1999, 2: 925, 4: 887, 5: 855, 3: 821})\tCounter val preds: Counter({0: 815, 1: 684, 2: 351, 5: 330, 4: 255, 3: 219})\n",
      "Epoch train QWK: 0.892\tval QWK: 0.823\n",
      "Epoch 79/99\n",
      "==========\n"
     ]
    },
    {
     "name": "stderr",
     "output_type": "stream",
     "text": [
      "\n",
      "100%|██████████| 996/996 [05:47<00:00,  2.86it/s]\n",
      "100%|██████████| 332/332 [02:00<00:00,  2.76it/s]"
     ]
    },
    {
     "name": "stdout",
     "output_type": "stream",
     "text": [
      "Training Loss: 0.8566\tValidation Loss: 1.1726\n",
      "Counter train preds: Counter({0: 2440, 1: 2037, 2: 923, 5: 882, 4: 851, 3: 829})\tCounter val preds: Counter({0: 803, 1: 696, 4: 333, 5: 281, 2: 273, 3: 268})\n",
      "Epoch train QWK: 0.890\tval QWK: 0.824\n",
      "Epoch 80/99\n",
      "==========\n"
     ]
    },
    {
     "name": "stderr",
     "output_type": "stream",
     "text": [
      "\n",
      "100%|██████████| 996/996 [05:46<00:00,  2.87it/s]\n",
      "100%|██████████| 332/332 [02:01<00:00,  2.74it/s]\n"
     ]
    },
    {
     "name": "stdout",
     "output_type": "stream",
     "text": [
      "Training Loss: 0.8672\tValidation Loss: 1.1343\n",
      "Counter train preds: Counter({0: 2462, 1: 2012, 2: 932, 5: 878, 4: 859, 3: 819})\tCounter val preds: Counter({0: 764, 1: 738, 4: 310, 5: 301, 2: 272, 3: 269})\n",
      "Epoch train QWK: 0.890\tval QWK: 0.840\n",
      "  Epoch 80 - Save Best QWK: 0.8404 Model\n",
      "Confusion matrix, without normalization\n",
      "[[636  75   2   3   4   3]\n",
      " [ 76 504  59  16   7   4]\n",
      " [  8 107 158  43  13   6]\n",
      " [ 20  24  34 141  60  32]\n",
      " [ 10  19  12  47 175  50]\n",
      " [ 14   9   7  19  51 206]]\n",
      "Epoch 81/99\n",
      "==========\n"
     ]
    },
    {
     "name": "stderr",
     "output_type": "stream",
     "text": [
      "  7%|▋         | 71/996 [00:27<05:07,  3.01it/s]"
     ]
    },
    {
     "name": "stdout",
     "output_type": "stream",
     "text": [
      "Gradient overflow.  Skipping step, loss scaler 0 reducing loss scale to 65536.0\n"
     ]
    },
    {
     "name": "stderr",
     "output_type": "stream",
     "text": [
      "100%|██████████| 996/996 [05:46<00:00,  2.87it/s]\n",
      "100%|██████████| 332/332 [02:00<00:00,  2.75it/s]"
     ]
    },
    {
     "name": "stdout",
     "output_type": "stream",
     "text": [
      "Training Loss: 0.8593\tValidation Loss: 1.1633\n",
      "Counter train preds: Counter({0: 2459, 1: 2010, 2: 916, 4: 902, 5: 851, 3: 824})\tCounter val preds: Counter({0: 773, 1: 715, 2: 331, 3: 298, 4: 276, 5: 261})\n",
      "Epoch train QWK: 0.891\tval QWK: 0.838\n",
      "Epoch 82/99\n",
      "==========\n"
     ]
    },
    {
     "name": "stderr",
     "output_type": "stream",
     "text": [
      "\n",
      "100%|██████████| 996/996 [05:46<00:00,  2.87it/s]\n",
      "100%|██████████| 332/332 [02:00<00:00,  2.75it/s]"
     ]
    },
    {
     "name": "stdout",
     "output_type": "stream",
     "text": [
      "Training Loss: 0.8476\tValidation Loss: 1.1775\n",
      "Counter train preds: Counter({0: 2426, 1: 2047, 2: 912, 4: 880, 5: 861, 3: 836})\tCounter val preds: Counter({0: 778, 1: 681, 2: 360, 3: 292, 4: 291, 5: 252})\n",
      "Epoch train QWK: 0.894\tval QWK: 0.827\n",
      "Epoch 83/99\n",
      "==========\n"
     ]
    },
    {
     "name": "stderr",
     "output_type": "stream",
     "text": [
      "\n",
      " 10%|█         | 103/996 [00:37<04:55,  3.02it/s]"
     ]
    },
    {
     "name": "stdout",
     "output_type": "stream",
     "text": [
      "Gradient overflow.  Skipping step, loss scaler 0 reducing loss scale to 65536.0\n"
     ]
    },
    {
     "name": "stderr",
     "output_type": "stream",
     "text": [
      "100%|██████████| 996/996 [05:46<00:00,  2.87it/s]\n",
      "100%|██████████| 332/332 [02:00<00:00,  2.76it/s]"
     ]
    },
    {
     "name": "stdout",
     "output_type": "stream",
     "text": [
      "Training Loss: 0.8406\tValidation Loss: 1.2018\n",
      "Counter train preds: Counter({0: 2416, 1: 2058, 2: 909, 5: 889, 4: 855, 3: 835})\tCounter val preds: Counter({0: 807, 1: 656, 2: 362, 3: 308, 5: 281, 4: 240})\n",
      "Epoch train QWK: 0.899\tval QWK: 0.829\n",
      "Epoch 84/99\n",
      "==========\n"
     ]
    },
    {
     "name": "stderr",
     "output_type": "stream",
     "text": [
      "\n",
      "100%|██████████| 996/996 [05:47<00:00,  2.86it/s]\n",
      "100%|██████████| 332/332 [02:00<00:00,  2.76it/s]\n"
     ]
    },
    {
     "name": "stdout",
     "output_type": "stream",
     "text": [
      "Training Loss: 0.8392\tValidation Loss: 1.1703\n",
      "Counter train preds: Counter({0: 2447, 1: 2007, 2: 942, 5: 873, 4: 872, 3: 821})\tCounter val preds: Counter({0: 770, 1: 759, 5: 306, 2: 285, 4: 279, 3: 255})\n",
      "Epoch train QWK: 0.895\tval QWK: 0.844\n",
      "  Epoch 84 - Save Best QWK: 0.8440 Model\n",
      "Confusion matrix, without normalization\n",
      "[[645  72   2   1   1   2]\n",
      " [ 72 513  61  13   5   2]\n",
      " [  6 117 156  38  10   8]\n",
      " [ 22  29  39 139  45  37]\n",
      " [ 12  20  20  41 170  50]\n",
      " [ 13   8   7  23  48 207]]\n",
      "Epoch 85/99\n",
      "==========\n"
     ]
    },
    {
     "name": "stderr",
     "output_type": "stream",
     "text": [
      " 28%|██▊       | 278/996 [01:38<03:54,  3.07it/s]"
     ]
    },
    {
     "name": "stdout",
     "output_type": "stream",
     "text": [
      "Gradient overflow.  Skipping step, loss scaler 0 reducing loss scale to 65536.0\n"
     ]
    },
    {
     "name": "stderr",
     "output_type": "stream",
     "text": [
      "100%|██████████| 996/996 [05:47<00:00,  2.87it/s]\n",
      "100%|██████████| 332/332 [02:00<00:00,  2.76it/s]"
     ]
    },
    {
     "name": "stdout",
     "output_type": "stream",
     "text": [
      "Training Loss: 0.8363\tValidation Loss: 1.1434\n",
      "Counter train preds: Counter({0: 2431, 1: 2009, 2: 944, 5: 877, 4: 865, 3: 836})\tCounter val preds: Counter({0: 778, 1: 653, 2: 380, 5: 322, 3: 263, 4: 258})\n",
      "Epoch train QWK: 0.892\tval QWK: 0.841\n",
      "Epoch 86/99\n",
      "==========\n"
     ]
    },
    {
     "name": "stderr",
     "output_type": "stream",
     "text": [
      "\n",
      "100%|██████████| 996/996 [05:47<00:00,  2.86it/s]\n",
      "100%|██████████| 332/332 [02:00<00:00,  2.74it/s]"
     ]
    },
    {
     "name": "stdout",
     "output_type": "stream",
     "text": [
      "Training Loss: 0.8263\tValidation Loss: 1.1754\n",
      "Counter train preds: Counter({0: 2433, 1: 2024, 2: 934, 5: 885, 4: 866, 3: 820})\tCounter val preds: Counter({0: 802, 1: 678, 2: 325, 4: 288, 5: 283, 3: 278})\n",
      "Epoch train QWK: 0.895\tval QWK: 0.837\n",
      "Epoch 87/99\n",
      "==========\n"
     ]
    },
    {
     "name": "stderr",
     "output_type": "stream",
     "text": [
      "\n",
      " 31%|███▏      | 313/996 [01:53<03:50,  2.96it/s]"
     ]
    },
    {
     "name": "stdout",
     "output_type": "stream",
     "text": [
      "Gradient overflow.  Skipping step, loss scaler 0 reducing loss scale to 65536.0\n"
     ]
    },
    {
     "name": "stderr",
     "output_type": "stream",
     "text": [
      "100%|██████████| 996/996 [05:48<00:00,  2.86it/s]"
     ]
    },
    {
     "name": "stdout",
     "output_type": "stream",
     "text": [
      "Gradient overflow.  Skipping step, loss scaler 0 reducing loss scale to 32768.0\n"
     ]
    },
    {
     "name": "stderr",
     "output_type": "stream",
     "text": [
      "\n",
      "100%|██████████| 332/332 [02:00<00:00,  2.75it/s]"
     ]
    },
    {
     "name": "stdout",
     "output_type": "stream",
     "text": [
      "Training Loss: 0.8300\tValidation Loss: 1.2010\n",
      "Counter train preds: Counter({0: 2442, 1: 1999, 2: 937, 5: 881, 4: 861, 3: 842})\tCounter val preds: Counter({0: 801, 1: 696, 2: 335, 3: 310, 5: 277, 4: 235})\n",
      "Epoch train QWK: 0.900\tval QWK: 0.836\n",
      "Epoch 88/99\n",
      "==========\n"
     ]
    },
    {
     "name": "stderr",
     "output_type": "stream",
     "text": [
      "\n",
      "100%|██████████| 996/996 [05:47<00:00,  2.86it/s]\n",
      "100%|██████████| 332/332 [02:00<00:00,  2.75it/s]"
     ]
    },
    {
     "name": "stdout",
     "output_type": "stream",
     "text": [
      "Training Loss: 0.8315\tValidation Loss: 1.1682\n",
      "Counter train preds: Counter({0: 2409, 1: 2035, 2: 930, 5: 903, 4: 854, 3: 831})\tCounter val preds: Counter({0: 801, 1: 693, 2: 331, 5: 294, 4: 287, 3: 248})\n",
      "Epoch train QWK: 0.899\tval QWK: 0.835\n",
      "Epoch 89/99\n",
      "==========\n"
     ]
    },
    {
     "name": "stderr",
     "output_type": "stream",
     "text": [
      "\n",
      "100%|██████████| 996/996 [05:46<00:00,  2.87it/s]\n",
      "100%|██████████| 332/332 [02:00<00:00,  2.75it/s]"
     ]
    },
    {
     "name": "stdout",
     "output_type": "stream",
     "text": [
      "Training Loss: 0.8306\tValidation Loss: 1.1428\n",
      "Counter train preds: Counter({0: 2433, 1: 2003, 2: 950, 4: 876, 5: 874, 3: 826})\tCounter val preds: Counter({0: 791, 1: 708, 5: 308, 2: 304, 4: 287, 3: 256})\n",
      "Epoch train QWK: 0.899\tval QWK: 0.832\n",
      "Epoch 90/99\n",
      "==========\n"
     ]
    },
    {
     "name": "stderr",
     "output_type": "stream",
     "text": [
      "\n",
      "100%|██████████| 996/996 [05:48<00:00,  2.86it/s]\n",
      "100%|██████████| 332/332 [02:00<00:00,  2.76it/s]"
     ]
    },
    {
     "name": "stdout",
     "output_type": "stream",
     "text": [
      "Training Loss: 0.8246\tValidation Loss: 1.1582\n",
      "Counter train preds: Counter({0: 2435, 1: 2019, 2: 931, 4: 886, 5: 874, 3: 817})\tCounter val preds: Counter({0: 790, 1: 676, 2: 326, 3: 294, 5: 292, 4: 276})\n",
      "Epoch train QWK: 0.902\tval QWK: 0.840\n",
      "Epoch 91/99\n",
      "==========\n"
     ]
    },
    {
     "name": "stderr",
     "output_type": "stream",
     "text": [
      "\n",
      "100%|██████████| 996/996 [05:47<00:00,  2.87it/s]\n",
      "100%|██████████| 332/332 [02:00<00:00,  2.75it/s]"
     ]
    },
    {
     "name": "stdout",
     "output_type": "stream",
     "text": [
      "Training Loss: 0.8187\tValidation Loss: 1.1463\n",
      "Counter train preds: Counter({0: 2434, 1: 2013, 2: 953, 4: 866, 5: 861, 3: 835})\tCounter val preds: Counter({0: 802, 1: 649, 2: 357, 3: 317, 5: 294, 4: 235})\n",
      "Epoch train QWK: 0.902\tval QWK: 0.830\n",
      "Epoch 92/99\n",
      "==========\n"
     ]
    },
    {
     "name": "stderr",
     "output_type": "stream",
     "text": [
      "\n",
      "  9%|▉         | 90/996 [00:34<04:59,  3.02it/s]"
     ]
    },
    {
     "name": "stdout",
     "output_type": "stream",
     "text": [
      "Gradient overflow.  Skipping step, loss scaler 0 reducing loss scale to 65536.0\n"
     ]
    },
    {
     "name": "stderr",
     "output_type": "stream",
     "text": [
      "100%|██████████| 996/996 [05:47<00:00,  2.86it/s]\n",
      "100%|██████████| 332/332 [02:01<00:00,  2.74it/s]"
     ]
    },
    {
     "name": "stdout",
     "output_type": "stream",
     "text": [
      "Training Loss: 0.8200\tValidation Loss: 1.1616\n",
      "Counter train preds: Counter({0: 2411, 1: 2053, 2: 910, 5: 892, 4: 875, 3: 821})\tCounter val preds: Counter({0: 796, 1: 662, 2: 360, 5: 307, 4: 267, 3: 262})\n",
      "Epoch train QWK: 0.904\tval QWK: 0.833\n",
      "Epoch 93/99\n",
      "==========\n"
     ]
    },
    {
     "name": "stderr",
     "output_type": "stream",
     "text": [
      "\n",
      "100%|██████████| 996/996 [05:46<00:00,  2.87it/s]\n",
      "100%|██████████| 332/332 [02:00<00:00,  2.75it/s]"
     ]
    },
    {
     "name": "stdout",
     "output_type": "stream",
     "text": [
      "Training Loss: 0.8174\tValidation Loss: 1.1710\n",
      "Counter train preds: Counter({0: 2439, 1: 1994, 2: 924, 5: 898, 4: 857, 3: 850})\tCounter val preds: Counter({0: 775, 1: 719, 2: 317, 3: 311, 4: 280, 5: 252})\n",
      "Epoch train QWK: 0.901\tval QWK: 0.827\n",
      "Epoch 94/99\n",
      "==========\n"
     ]
    },
    {
     "name": "stderr",
     "output_type": "stream",
     "text": [
      "\n",
      " 19%|█▉        | 194/996 [01:10<04:18,  3.10it/s]"
     ]
    },
    {
     "name": "stdout",
     "output_type": "stream",
     "text": [
      "Gradient overflow.  Skipping step, loss scaler 0 reducing loss scale to 65536.0\n"
     ]
    },
    {
     "name": "stderr",
     "output_type": "stream",
     "text": [
      "100%|██████████| 996/996 [05:47<00:00,  2.87it/s]\n",
      "100%|██████████| 332/332 [02:00<00:00,  2.75it/s]"
     ]
    },
    {
     "name": "stdout",
     "output_type": "stream",
     "text": [
      "Training Loss: 0.8207\tValidation Loss: 1.1685\n",
      "Counter train preds: Counter({0: 2416, 1: 2011, 2: 944, 4: 875, 5: 865, 3: 851})\tCounter val preds: Counter({0: 798, 1: 693, 2: 342, 5: 304, 3: 272, 4: 245})\n",
      "Epoch train QWK: 0.907\tval QWK: 0.831\n",
      "Epoch 95/99\n",
      "==========\n"
     ]
    },
    {
     "name": "stderr",
     "output_type": "stream",
     "text": [
      "\n",
      "100%|██████████| 996/996 [05:47<00:00,  2.86it/s]\n",
      "100%|██████████| 332/332 [01:59<00:00,  2.77it/s]"
     ]
    },
    {
     "name": "stdout",
     "output_type": "stream",
     "text": [
      "Training Loss: 0.8207\tValidation Loss: 1.1819\n",
      "Counter train preds: Counter({0: 2446, 1: 2009, 2: 922, 4: 886, 5: 862, 3: 837})\tCounter val preds: Counter({0: 794, 1: 693, 3: 311, 2: 303, 5: 285, 4: 268})\n",
      "Epoch train QWK: 0.905\tval QWK: 0.834\n",
      "Epoch 96/99\n",
      "==========\n"
     ]
    },
    {
     "name": "stderr",
     "output_type": "stream",
     "text": [
      "\n",
      " 25%|██▍       | 246/996 [01:28<04:02,  3.10it/s]"
     ]
    },
    {
     "name": "stdout",
     "output_type": "stream",
     "text": [
      "Gradient overflow.  Skipping step, loss scaler 0 reducing loss scale to 65536.0\n"
     ]
    },
    {
     "name": "stderr",
     "output_type": "stream",
     "text": [
      "100%|██████████| 996/996 [05:47<00:00,  2.87it/s]\n",
      "100%|██████████| 332/332 [02:00<00:00,  2.74it/s]"
     ]
    },
    {
     "name": "stdout",
     "output_type": "stream",
     "text": [
      "Training Loss: 0.8176\tValidation Loss: 1.2029\n",
      "Counter train preds: Counter({0: 2445, 1: 1992, 2: 938, 4: 867, 5: 865, 3: 855})\tCounter val preds: Counter({0: 776, 1: 718, 2: 327, 5: 306, 3: 288, 4: 239})\n",
      "Epoch train QWK: 0.911\tval QWK: 0.833\n",
      "Epoch 97/99\n",
      "==========\n"
     ]
    },
    {
     "name": "stderr",
     "output_type": "stream",
     "text": [
      "\n",
      "100%|██████████| 996/996 [05:48<00:00,  2.86it/s]\n",
      "100%|██████████| 332/332 [02:00<00:00,  2.76it/s]"
     ]
    },
    {
     "name": "stdout",
     "output_type": "stream",
     "text": [
      "Training Loss: 0.8211\tValidation Loss: 1.1876\n",
      "Counter train preds: Counter({0: 2436, 1: 2043, 2: 892, 5: 877, 3: 858, 4: 856})\tCounter val preds: Counter({0: 776, 1: 681, 2: 351, 5: 293, 3: 284, 4: 269})\n",
      "Epoch train QWK: 0.909\tval QWK: 0.832\n",
      "Epoch 98/99\n",
      "==========\n"
     ]
    },
    {
     "name": "stderr",
     "output_type": "stream",
     "text": [
      "\n",
      " 47%|████▋     | 468/996 [02:44<02:59,  2.94it/s]"
     ]
    },
    {
     "name": "stdout",
     "output_type": "stream",
     "text": [
      "Gradient overflow.  Skipping step, loss scaler 0 reducing loss scale to 65536.0\n"
     ]
    },
    {
     "name": "stderr",
     "output_type": "stream",
     "text": [
      "100%|██████████| 996/996 [05:47<00:00,  2.87it/s]\n",
      "100%|██████████| 332/332 [02:00<00:00,  2.75it/s]"
     ]
    },
    {
     "name": "stdout",
     "output_type": "stream",
     "text": [
      "Training Loss: 0.8155\tValidation Loss: 1.1648\n",
      "Counter train preds: Counter({0: 2440, 1: 2016, 2: 931, 5: 894, 4: 872, 3: 809})\tCounter val preds: Counter({0: 787, 1: 684, 2: 323, 3: 310, 5: 302, 4: 248})\n",
      "Epoch train QWK: 0.910\tval QWK: 0.840\n",
      "Epoch 99/99\n",
      "==========\n"
     ]
    },
    {
     "name": "stderr",
     "output_type": "stream",
     "text": [
      "\n",
      "100%|██████████| 996/996 [05:47<00:00,  2.86it/s]\n",
      "100%|██████████| 332/332 [02:01<00:00,  2.74it/s]"
     ]
    },
    {
     "name": "stdout",
     "output_type": "stream",
     "text": [
      "Training Loss: 0.8205\tValidation Loss: 1.1812\n",
      "Counter train preds: Counter({0: 2443, 1: 2012, 2: 922, 4: 881, 5: 862, 3: 842})\tCounter val preds: Counter({0: 793, 1: 693, 2: 319, 3: 302, 5: 286, 4: 261})\n",
      "Epoch train QWK: 0.905\tval QWK: 0.832\n"
     ]
    },
    {
     "name": "stderr",
     "output_type": "stream",
     "text": [
      "\n"
     ]
    }
   ],
   "source": [
    "# get folds\n",
    "train_df = folds[folds[\"fold\"] != 0].copy()\n",
    "val_df = folds[folds[\"fold\"] == 0].copy()\n",
    "# define datasets\n",
    "train_ds = TilesTrainDataset(train_df, is_train=CFG.stoch_sample, transform=get_transforms(data=\"train\", aug=\"light\"), debug=False)\n",
    "val_ds = TilesTrainDataset(val_df, is_train=False, transform=get_transforms(data=\"valid\"), debug=False)\n",
    "# define a data loader\n",
    "train_dataloader = DataLoader(train_ds, batch_size=CFG.batch_size, shuffle=True, num_workers=8)\n",
    "val_dataloader = DataLoader(val_ds, batch_size=CFG.batch_size, shuffle=False, num_workers=4)\n",
    "\n",
    "model_ft = make_RN50_cls()\n",
    "# initialize bias in the model\n",
    "cls_probas = (train_df[CFG.target_col].value_counts() / len(train_df)).values\n",
    "model_ft = init_last_layer_bias(model_ft, cls_probas)\n",
    "\n",
    "criterion = LOSSES[CFG.loss]\n",
    "optimizer = torch.optim.Adam(model_ft.parameters(), lr=CFG.lr, amsgrad=False)\n",
    "train_eval_loop(train_dataloader, val_dataloader, model_ft, optimizer, criterion, model_name=EXP_NAME)"
   ]
  },
  {
   "cell_type": "markdown",
   "metadata": {},
   "source": [
    "### Train with CV"
   ]
  },
  {
   "cell_type": "code",
   "execution_count": 34,
   "metadata": {
    "collapsed": true,
    "jupyter": {
     "outputs_hidden": true
    }
   },
   "outputs": [
    {
     "name": "stdout",
     "output_type": "stream",
     "text": [
      "Train with CV, on fold 0\n",
      "Epoch 0/9\n",
      "----------\n"
     ]
    },
    {
     "name": "stderr",
     "output_type": "stream",
     "text": [
      "100%|██████████| 5/5 [00:00<00:00,  7.61it/s]"
     ]
    },
    {
     "name": "stdout",
     "output_type": "stream",
     "text": [
      "Visualising input\n"
     ]
    },
    {
     "name": "stderr",
     "output_type": "stream",
     "text": [
      "\n",
      "100%|██████████| 2/2 [00:00<00:00,  3.84it/s]"
     ]
    },
    {
     "name": "stdout",
     "output_type": "stream",
     "text": [
      "Training Loss: 1.7832\tValidation Loss: 1.6735\n",
      "Counter train preds: Counter({1: 50, 4: 11, 3: 8, 0: 6})\tCounter val preds: Counter({0: 25})\n",
      "Epoch train QWK: 0.193\tval QWK: 0.000\n",
      "Epoch 1/9\n",
      "----------\n"
     ]
    },
    {
     "name": "stderr",
     "output_type": "stream",
     "text": [
      "\n",
      "100%|██████████| 5/5 [00:00<00:00,  7.82it/s]"
     ]
    },
    {
     "name": "stdout",
     "output_type": "stream",
     "text": [
      "Visualising input\n"
     ]
    },
    {
     "name": "stderr",
     "output_type": "stream",
     "text": [
      "\n",
      "100%|██████████| 2/2 [00:00<00:00,  4.13it/s]"
     ]
    },
    {
     "name": "stdout",
     "output_type": "stream",
     "text": [
      "Training Loss: 1.5393\tValidation Loss: 1.6932\n",
      "Counter train preds: Counter({1: 39, 0: 21, 3: 7, 4: 6, 5: 2})\tCounter val preds: Counter({1: 25})\n",
      "Epoch train QWK: 0.236\tval QWK: 0.000\n",
      "Epoch 2/9\n",
      "----------\n"
     ]
    },
    {
     "name": "stderr",
     "output_type": "stream",
     "text": [
      "\n",
      "100%|██████████| 5/5 [00:00<00:00,  7.61it/s]"
     ]
    },
    {
     "name": "stdout",
     "output_type": "stream",
     "text": [
      "Visualising input\n"
     ]
    },
    {
     "name": "stderr",
     "output_type": "stream",
     "text": [
      "\n",
      "100%|██████████| 2/2 [00:00<00:00,  4.02it/s]"
     ]
    },
    {
     "name": "stdout",
     "output_type": "stream",
     "text": [
      "Training Loss: 1.4436\tValidation Loss: 1.7056\n",
      "Counter train preds: Counter({1: 34, 0: 26, 3: 7, 5: 5, 4: 3})\tCounter val preds: Counter({1: 25})\n",
      "Epoch train QWK: 0.321\tval QWK: 0.000\n",
      "Epoch 3/9\n",
      "----------\n"
     ]
    },
    {
     "name": "stderr",
     "output_type": "stream",
     "text": [
      "\n",
      "100%|██████████| 5/5 [00:00<00:00,  5.05it/s]"
     ]
    },
    {
     "name": "stdout",
     "output_type": "stream",
     "text": [
      "Visualising input\n"
     ]
    },
    {
     "name": "stderr",
     "output_type": "stream",
     "text": [
      "100%|██████████| 5/5 [00:00<00:00,  7.88it/s]\n",
      "100%|██████████| 2/2 [00:00<00:00,  2.04it/s]"
     ]
    },
    {
     "name": "stdout",
     "output_type": "stream",
     "text": [
      "Training Loss: 1.4152\tValidation Loss: 1.6723\n",
      "Counter train preds: Counter({0: 33, 1: 31, 3: 5, 4: 5, 5: 1})\tCounter val preds: Counter({1: 25})\n",
      "Epoch train QWK: 0.282\tval QWK: 0.000\n",
      "Epoch 4/9\n",
      "----------\n"
     ]
    },
    {
     "name": "stderr",
     "output_type": "stream",
     "text": [
      "\n",
      " 20%|██        | 1/5 [00:00<00:01,  2.74it/s]"
     ]
    },
    {
     "name": "stdout",
     "output_type": "stream",
     "text": [
      "Visualising input\n"
     ]
    },
    {
     "name": "stderr",
     "output_type": "stream",
     "text": [
      "100%|██████████| 5/5 [00:00<00:00,  7.80it/s]\n",
      "100%|██████████| 2/2 [00:00<00:00,  3.81it/s]"
     ]
    },
    {
     "name": "stdout",
     "output_type": "stream",
     "text": [
      "Training Loss: 1.3904\tValidation Loss: 1.6386\n",
      "Counter train preds: Counter({1: 33, 0: 28, 4: 6, 3: 5, 5: 3})\tCounter val preds: Counter({1: 15, 5: 3, 0: 3, 2: 2, 4: 1, 3: 1})\n",
      "Epoch train QWK: 0.393\tval QWK: 0.186\n",
      "Epoch 5/9\n",
      "----------\n"
     ]
    },
    {
     "name": "stderr",
     "output_type": "stream",
     "text": [
      "\n",
      " 20%|██        | 1/5 [00:00<00:01,  2.53it/s]"
     ]
    },
    {
     "name": "stdout",
     "output_type": "stream",
     "text": [
      "Visualising input\n"
     ]
    },
    {
     "name": "stderr",
     "output_type": "stream",
     "text": [
      "100%|██████████| 5/5 [00:00<00:00,  7.49it/s]\n",
      "100%|██████████| 2/2 [00:00<00:00,  3.79it/s]"
     ]
    },
    {
     "name": "stdout",
     "output_type": "stream",
     "text": [
      "Training Loss: 1.3730\tValidation Loss: 1.6927\n",
      "Counter train preds: Counter({0: 33, 1: 26, 5: 7, 3: 4, 4: 4, 2: 1})\tCounter val preds: Counter({1: 13, 5: 6, 2: 4, 3: 1, 0: 1})\n",
      "Epoch train QWK: 0.517\tval QWK: 0.545\n",
      "Epoch 6/9\n",
      "----------\n"
     ]
    },
    {
     "name": "stderr",
     "output_type": "stream",
     "text": [
      "\n",
      "100%|██████████| 5/5 [00:00<00:00,  4.96it/s]"
     ]
    },
    {
     "name": "stdout",
     "output_type": "stream",
     "text": [
      "Visualising input\n"
     ]
    },
    {
     "name": "stderr",
     "output_type": "stream",
     "text": [
      "100%|██████████| 5/5 [00:00<00:00,  7.91it/s]\n",
      "100%|██████████| 2/2 [00:00<00:00,  3.81it/s]"
     ]
    },
    {
     "name": "stdout",
     "output_type": "stream",
     "text": [
      "Training Loss: 1.3238\tValidation Loss: 1.8837\n",
      "Counter train preds: Counter({0: 30, 1: 29, 5: 6, 3: 6, 4: 4})\tCounter val preds: Counter({1: 9, 5: 7, 2: 6, 3: 3})\n",
      "Epoch train QWK: 0.438\tval QWK: 0.329\n",
      "Epoch 7/9\n",
      "----------\n"
     ]
    },
    {
     "name": "stderr",
     "output_type": "stream",
     "text": [
      "\n",
      "100%|██████████| 5/5 [00:00<00:00,  7.85it/s]"
     ]
    },
    {
     "name": "stdout",
     "output_type": "stream",
     "text": [
      "Visualising input\n"
     ]
    },
    {
     "name": "stderr",
     "output_type": "stream",
     "text": [
      "\n",
      "100%|██████████| 2/2 [00:00<00:00,  3.89it/s]"
     ]
    },
    {
     "name": "stdout",
     "output_type": "stream",
     "text": [
      "Training Loss: 1.3055\tValidation Loss: 2.0990\n",
      "Counter train preds: Counter({1: 34, 0: 22, 5: 8, 3: 7, 4: 2, 2: 2})\tCounter val preds: Counter({2: 12, 5: 5, 3: 5, 1: 2, 4: 1})\n",
      "Epoch train QWK: 0.552\tval QWK: 0.326\n",
      "Epoch 8/9\n",
      "----------\n"
     ]
    },
    {
     "name": "stderr",
     "output_type": "stream",
     "text": [
      "\n",
      " 20%|██        | 1/5 [00:00<00:01,  2.66it/s]"
     ]
    },
    {
     "name": "stdout",
     "output_type": "stream",
     "text": [
      "Visualising input\n"
     ]
    },
    {
     "name": "stderr",
     "output_type": "stream",
     "text": [
      "100%|██████████| 5/5 [00:00<00:00,  7.53it/s]\n",
      "100%|██████████| 2/2 [00:00<00:00,  3.87it/s]"
     ]
    },
    {
     "name": "stdout",
     "output_type": "stream",
     "text": [
      "Training Loss: 1.3063\tValidation Loss: 2.0883\n",
      "Counter train preds: Counter({1: 35, 0: 25, 4: 7, 3: 5, 5: 3})\tCounter val preds: Counter({2: 13, 5: 5, 1: 3, 3: 2, 4: 1, 0: 1})\n",
      "Epoch train QWK: 0.549\tval QWK: 0.199\n",
      "Epoch 9/9\n",
      "----------\n"
     ]
    },
    {
     "name": "stderr",
     "output_type": "stream",
     "text": [
      "\n",
      "100%|██████████| 5/5 [00:00<00:00,  4.77it/s]"
     ]
    },
    {
     "name": "stdout",
     "output_type": "stream",
     "text": [
      "Visualising input\n"
     ]
    },
    {
     "name": "stderr",
     "output_type": "stream",
     "text": [
      "100%|██████████| 5/5 [00:00<00:00,  7.73it/s]\n",
      "100%|██████████| 2/2 [00:00<00:00,  3.86it/s]"
     ]
    },
    {
     "name": "stdout",
     "output_type": "stream",
     "text": [
      "Training Loss: 1.3191\tValidation Loss: 1.8377\n",
      "Counter train preds: Counter({1: 37, 0: 24, 5: 7, 4: 3, 3: 3, 2: 1})\tCounter val preds: Counter({1: 21, 3: 2, 2: 1, 5: 1})\n",
      "Epoch train QWK: 0.435\tval QWK: 0.305\n",
      "Train with CV, on fold 1\n",
      "Epoch 0/9\n",
      "----------\n"
     ]
    },
    {
     "name": "stderr",
     "output_type": "stream",
     "text": [
      "\n",
      "100%|██████████| 5/5 [00:00<00:00,  4.80it/s]"
     ]
    },
    {
     "name": "stdout",
     "output_type": "stream",
     "text": [
      "Visualising input\n"
     ]
    },
    {
     "name": "stderr",
     "output_type": "stream",
     "text": [
      "100%|██████████| 5/5 [00:00<00:00,  7.69it/s]\n",
      "100%|██████████| 2/2 [00:00<00:00,  3.71it/s]"
     ]
    },
    {
     "name": "stdout",
     "output_type": "stream",
     "text": [
      "Training Loss: 1.7209\tValidation Loss: 1.7380\n",
      "Counter train preds: Counter({0: 59, 3: 15, 1: 1})\tCounter val preds: Counter({0: 25})\n",
      "Epoch train QWK: 0.263\tval QWK: 0.000\n",
      "Epoch 1/9\n",
      "----------\n"
     ]
    },
    {
     "name": "stderr",
     "output_type": "stream",
     "text": [
      "\n",
      "100%|██████████| 5/5 [00:00<00:00,  7.81it/s]"
     ]
    },
    {
     "name": "stdout",
     "output_type": "stream",
     "text": [
      "Visualising input\n"
     ]
    },
    {
     "name": "stderr",
     "output_type": "stream",
     "text": [
      "\n",
      "100%|██████████| 2/2 [00:00<00:00,  3.62it/s]"
     ]
    },
    {
     "name": "stdout",
     "output_type": "stream",
     "text": [
      "Training Loss: 1.5459\tValidation Loss: 1.7958\n",
      "Counter train preds: Counter({0: 36, 1: 32, 3: 5, 4: 2})\tCounter val preds: Counter({0: 25})\n",
      "Epoch train QWK: 0.331\tval QWK: 0.000\n",
      "Epoch 2/9\n",
      "----------\n"
     ]
    },
    {
     "name": "stderr",
     "output_type": "stream",
     "text": [
      "\n",
      " 60%|██████    | 3/5 [00:00<00:00,  3.30it/s]"
     ]
    },
    {
     "name": "stdout",
     "output_type": "stream",
     "text": [
      "Visualising input\n"
     ]
    },
    {
     "name": "stderr",
     "output_type": "stream",
     "text": [
      "100%|██████████| 5/5 [00:00<00:00,  7.36it/s]\n",
      "100%|██████████| 2/2 [00:00<00:00,  3.74it/s]"
     ]
    },
    {
     "name": "stdout",
     "output_type": "stream",
     "text": [
      "Training Loss: 1.4606\tValidation Loss: 1.9763\n",
      "Counter train preds: Counter({1: 34, 0: 29, 4: 8, 3: 4})\tCounter val preds: Counter({0: 25})\n",
      "Epoch train QWK: 0.388\tval QWK: 0.000\n",
      "Epoch 3/9\n",
      "----------\n"
     ]
    },
    {
     "name": "stderr",
     "output_type": "stream",
     "text": [
      "\n",
      " 60%|██████    | 3/5 [00:00<00:00,  3.59it/s]"
     ]
    },
    {
     "name": "stdout",
     "output_type": "stream",
     "text": [
      "Visualising input\n"
     ]
    },
    {
     "name": "stderr",
     "output_type": "stream",
     "text": [
      "100%|██████████| 5/5 [00:00<00:00,  7.80it/s]\n",
      "100%|██████████| 2/2 [00:00<00:00,  3.66it/s]"
     ]
    },
    {
     "name": "stdout",
     "output_type": "stream",
     "text": [
      "Training Loss: 1.4206\tValidation Loss: 1.8872\n",
      "Counter train preds: Counter({1: 32, 0: 24, 4: 8, 3: 6, 5: 3, 2: 2})\tCounter val preds: Counter({0: 25})\n",
      "Epoch train QWK: 0.441\tval QWK: 0.000\n",
      "Epoch 4/9\n",
      "----------\n"
     ]
    },
    {
     "name": "stderr",
     "output_type": "stream",
     "text": [
      "\n",
      "100%|██████████| 5/5 [00:00<00:00,  5.28it/s]"
     ]
    },
    {
     "name": "stdout",
     "output_type": "stream",
     "text": [
      "Visualising input\n"
     ]
    },
    {
     "name": "stderr",
     "output_type": "stream",
     "text": [
      "100%|██████████| 5/5 [00:00<00:00,  8.24it/s]\n",
      "100%|██████████| 2/2 [00:00<00:00,  3.60it/s]"
     ]
    },
    {
     "name": "stdout",
     "output_type": "stream",
     "text": [
      "Training Loss: 1.4067\tValidation Loss: 2.2129\n",
      "Counter train preds: Counter({1: 36, 0: 25, 3: 10, 5: 2, 2: 1, 4: 1})\tCounter val preds: Counter({0: 25})\n",
      "Epoch train QWK: 0.388\tval QWK: 0.000\n",
      "Epoch 5/9\n",
      "----------\n"
     ]
    },
    {
     "name": "stderr",
     "output_type": "stream",
     "text": [
      "\n",
      "100%|██████████| 5/5 [00:00<00:00,  8.12it/s]"
     ]
    },
    {
     "name": "stdout",
     "output_type": "stream",
     "text": [
      "Visualising input\n"
     ]
    },
    {
     "name": "stderr",
     "output_type": "stream",
     "text": [
      "\n",
      "100%|██████████| 2/2 [00:00<00:00,  3.64it/s]"
     ]
    },
    {
     "name": "stdout",
     "output_type": "stream",
     "text": [
      "Training Loss: 1.3640\tValidation Loss: 2.9000\n",
      "Counter train preds: Counter({1: 33, 0: 24, 3: 12, 2: 4, 4: 2})\tCounter val preds: Counter({0: 25})\n",
      "Epoch train QWK: 0.364\tval QWK: 0.000\n",
      "Epoch 6/9\n",
      "----------\n"
     ]
    },
    {
     "name": "stderr",
     "output_type": "stream",
     "text": [
      "\n",
      "100%|██████████| 5/5 [00:00<00:00,  4.87it/s]"
     ]
    },
    {
     "name": "stdout",
     "output_type": "stream",
     "text": [
      "Visualising input\n"
     ]
    },
    {
     "name": "stderr",
     "output_type": "stream",
     "text": [
      "100%|██████████| 5/5 [00:00<00:00,  7.86it/s]\n",
      "100%|██████████| 2/2 [00:00<00:00,  3.44it/s]"
     ]
    },
    {
     "name": "stdout",
     "output_type": "stream",
     "text": [
      "Training Loss: 1.3085\tValidation Loss: 2.7819\n",
      "Counter train preds: Counter({1: 33, 0: 20, 3: 11, 2: 4, 4: 4, 5: 3})\tCounter val preds: Counter({0: 25})\n",
      "Epoch train QWK: 0.568\tval QWK: 0.000\n",
      "Epoch 7/9\n",
      "----------\n"
     ]
    },
    {
     "name": "stderr",
     "output_type": "stream",
     "text": [
      "\n",
      "100%|██████████| 5/5 [00:00<00:00,  7.36it/s]"
     ]
    },
    {
     "name": "stdout",
     "output_type": "stream",
     "text": [
      "Visualising input\n"
     ]
    },
    {
     "name": "stderr",
     "output_type": "stream",
     "text": [
      "\n",
      "100%|██████████| 2/2 [00:00<00:00,  2.55it/s]"
     ]
    },
    {
     "name": "stdout",
     "output_type": "stream",
     "text": [
      "Training Loss: 1.3142\tValidation Loss: 2.3783\n",
      "Counter train preds: Counter({1: 36, 0: 21, 3: 9, 2: 5, 5: 3, 4: 1})\tCounter val preds: Counter({0: 18, 1: 5, 2: 2})\n",
      "Epoch train QWK: 0.435\tval QWK: 0.116\n",
      "Epoch 8/9\n",
      "----------\n"
     ]
    },
    {
     "name": "stderr",
     "output_type": "stream",
     "text": [
      "\n",
      "100%|██████████| 5/5 [00:00<00:00,  5.30it/s]"
     ]
    },
    {
     "name": "stdout",
     "output_type": "stream",
     "text": [
      "Visualising input\n"
     ]
    },
    {
     "name": "stderr",
     "output_type": "stream",
     "text": [
      "100%|██████████| 5/5 [00:00<00:00,  8.07it/s]\n",
      "100%|██████████| 2/2 [00:00<00:00,  3.62it/s]"
     ]
    },
    {
     "name": "stdout",
     "output_type": "stream",
     "text": [
      "Training Loss: 1.2917\tValidation Loss: 3.1009\n",
      "Counter train preds: Counter({1: 38, 0: 19, 2: 6, 4: 5, 3: 4, 5: 3})\tCounter val preds: Counter({0: 23, 2: 2})\n",
      "Epoch train QWK: 0.433\tval QWK: 0.009\n",
      "Epoch 9/9\n",
      "----------\n"
     ]
    },
    {
     "name": "stderr",
     "output_type": "stream",
     "text": [
      "\n",
      "100%|██████████| 5/5 [00:00<00:00,  7.24it/s]"
     ]
    },
    {
     "name": "stdout",
     "output_type": "stream",
     "text": [
      "Visualising input\n"
     ]
    },
    {
     "name": "stderr",
     "output_type": "stream",
     "text": [
      "\n",
      "100%|██████████| 2/2 [00:00<00:00,  3.73it/s]"
     ]
    },
    {
     "name": "stdout",
     "output_type": "stream",
     "text": [
      "Training Loss: 1.2545\tValidation Loss: 2.9466\n",
      "Counter train preds: Counter({1: 32, 0: 20, 3: 10, 4: 5, 2: 5, 5: 3})\tCounter val preds: Counter({0: 23, 2: 2})\n",
      "Epoch train QWK: 0.635\tval QWK: 0.009\n",
      "Train with CV, on fold 2\n",
      "Epoch 0/9\n",
      "----------\n"
     ]
    },
    {
     "name": "stderr",
     "output_type": "stream",
     "text": [
      "\n",
      "100%|██████████| 5/5 [00:00<00:00,  7.96it/s]"
     ]
    },
    {
     "name": "stdout",
     "output_type": "stream",
     "text": [
      "Visualising input\n"
     ]
    },
    {
     "name": "stderr",
     "output_type": "stream",
     "text": [
      "\n",
      "100%|██████████| 2/2 [00:00<00:00,  3.70it/s]"
     ]
    },
    {
     "name": "stdout",
     "output_type": "stream",
     "text": [
      "Training Loss: 1.6856\tValidation Loss: 1.8174\n",
      "Counter train preds: Counter({1: 48, 3: 15, 0: 12})\tCounter val preds: Counter({0: 25})\n",
      "Epoch train QWK: 0.208\tval QWK: 0.000\n",
      "Epoch 1/9\n",
      "----------\n"
     ]
    },
    {
     "name": "stderr",
     "output_type": "stream",
     "text": [
      "\n",
      " 60%|██████    | 3/5 [00:00<00:00,  3.45it/s]"
     ]
    },
    {
     "name": "stdout",
     "output_type": "stream",
     "text": [
      "Visualising input\n"
     ]
    },
    {
     "name": "stderr",
     "output_type": "stream",
     "text": [
      "100%|██████████| 5/5 [00:00<00:00,  7.56it/s]\n",
      "100%|██████████| 2/2 [00:00<00:00,  3.71it/s]"
     ]
    },
    {
     "name": "stdout",
     "output_type": "stream",
     "text": [
      "Training Loss: 1.5455\tValidation Loss: 2.4182\n",
      "Counter train preds: Counter({1: 37, 0: 21, 3: 16, 2: 1})\tCounter val preds: Counter({0: 25})\n",
      "Epoch train QWK: 0.313\tval QWK: 0.000\n",
      "Epoch 2/9\n",
      "----------\n"
     ]
    },
    {
     "name": "stderr",
     "output_type": "stream",
     "text": [
      "\n",
      "100%|██████████| 5/5 [00:00<00:00,  8.02it/s]"
     ]
    },
    {
     "name": "stdout",
     "output_type": "stream",
     "text": [
      "Visualising input\n"
     ]
    },
    {
     "name": "stderr",
     "output_type": "stream",
     "text": [
      "\n",
      "100%|██████████| 2/2 [00:00<00:00,  3.73it/s]"
     ]
    },
    {
     "name": "stdout",
     "output_type": "stream",
     "text": [
      "Training Loss: 1.4741\tValidation Loss: 2.2700\n",
      "Counter train preds: Counter({1: 33, 0: 26, 3: 14, 2: 2})\tCounter val preds: Counter({0: 25})\n",
      "Epoch train QWK: 0.287\tval QWK: 0.000\n",
      "Epoch 3/9\n",
      "----------\n"
     ]
    },
    {
     "name": "stderr",
     "output_type": "stream",
     "text": [
      "\n",
      "100%|██████████| 5/5 [00:00<00:00,  7.64it/s]"
     ]
    },
    {
     "name": "stdout",
     "output_type": "stream",
     "text": [
      "Visualising input\n"
     ]
    },
    {
     "name": "stderr",
     "output_type": "stream",
     "text": [
      "\n",
      "100%|██████████| 2/2 [00:00<00:00,  3.60it/s]"
     ]
    },
    {
     "name": "stdout",
     "output_type": "stream",
     "text": [
      "Training Loss: 1.4289\tValidation Loss: 2.4097\n",
      "Counter train preds: Counter({1: 35, 0: 28, 3: 7, 2: 5})\tCounter val preds: Counter({0: 25})\n",
      "Epoch train QWK: 0.247\tval QWK: 0.000\n",
      "Epoch 4/9\n",
      "----------\n"
     ]
    },
    {
     "name": "stderr",
     "output_type": "stream",
     "text": [
      "\n",
      " 20%|██        | 1/5 [00:00<00:01,  2.55it/s]"
     ]
    },
    {
     "name": "stdout",
     "output_type": "stream",
     "text": [
      "Visualising input\n"
     ]
    },
    {
     "name": "stderr",
     "output_type": "stream",
     "text": [
      "100%|██████████| 5/5 [00:00<00:00,  7.52it/s]\n",
      "100%|██████████| 2/2 [00:00<00:00,  3.67it/s]"
     ]
    },
    {
     "name": "stdout",
     "output_type": "stream",
     "text": [
      "Training Loss: 1.3615\tValidation Loss: 2.0392\n",
      "Counter train preds: Counter({1: 39, 0: 25, 3: 7, 2: 4})\tCounter val preds: Counter({0: 24, 2: 1})\n",
      "Epoch train QWK: 0.307\tval QWK: 0.064\n",
      "Epoch 5/9\n",
      "----------\n"
     ]
    },
    {
     "name": "stderr",
     "output_type": "stream",
     "text": [
      "\n",
      "100%|██████████| 5/5 [00:00<00:00,  7.67it/s]"
     ]
    },
    {
     "name": "stdout",
     "output_type": "stream",
     "text": [
      "Visualising input\n"
     ]
    },
    {
     "name": "stderr",
     "output_type": "stream",
     "text": [
      "\n",
      "100%|██████████| 2/2 [00:00<00:00,  3.69it/s]"
     ]
    },
    {
     "name": "stdout",
     "output_type": "stream",
     "text": [
      "Training Loss: 1.4250\tValidation Loss: 1.6867\n",
      "Counter train preds: Counter({1: 41, 0: 26, 3: 8})\tCounter val preds: Counter({0: 20, 2: 3, 1: 2})\n",
      "Epoch train QWK: 0.266\tval QWK: 0.214\n",
      "Epoch 6/9\n",
      "----------\n"
     ]
    },
    {
     "name": "stderr",
     "output_type": "stream",
     "text": [
      "\n",
      "100%|██████████| 5/5 [00:00<00:00,  7.91it/s]"
     ]
    },
    {
     "name": "stdout",
     "output_type": "stream",
     "text": [
      "Visualising input\n"
     ]
    },
    {
     "name": "stderr",
     "output_type": "stream",
     "text": [
      "\n",
      "100%|██████████| 2/2 [00:00<00:00,  3.60it/s]"
     ]
    },
    {
     "name": "stdout",
     "output_type": "stream",
     "text": [
      "Training Loss: 1.3328\tValidation Loss: 1.7360\n",
      "Counter train preds: Counter({1: 34, 0: 24, 3: 12, 2: 4, 5: 1})\tCounter val preds: Counter({0: 18, 1: 5, 2: 2})\n",
      "Epoch train QWK: 0.365\tval QWK: 0.130\n",
      "Epoch 7/9\n",
      "----------\n"
     ]
    },
    {
     "name": "stderr",
     "output_type": "stream",
     "text": [
      "\n",
      " 60%|██████    | 3/5 [00:00<00:00,  3.21it/s]"
     ]
    },
    {
     "name": "stdout",
     "output_type": "stream",
     "text": [
      "Visualising input\n"
     ]
    },
    {
     "name": "stderr",
     "output_type": "stream",
     "text": [
      "100%|██████████| 5/5 [00:00<00:00,  7.17it/s]\n",
      "100%|██████████| 2/2 [00:00<00:00,  3.71it/s]"
     ]
    },
    {
     "name": "stdout",
     "output_type": "stream",
     "text": [
      "Training Loss: 1.3236\tValidation Loss: 1.8248\n",
      "Counter train preds: Counter({1: 33, 0: 21, 2: 13, 3: 6, 5: 2})\tCounter val preds: Counter({0: 17, 1: 5, 2: 3})\n",
      "Epoch train QWK: 0.316\tval QWK: 0.272\n",
      "Epoch 8/9\n",
      "----------\n"
     ]
    },
    {
     "name": "stderr",
     "output_type": "stream",
     "text": [
      "\n",
      "100%|██████████| 5/5 [00:00<00:00,  4.99it/s]"
     ]
    },
    {
     "name": "stdout",
     "output_type": "stream",
     "text": [
      "Visualising input\n"
     ]
    },
    {
     "name": "stderr",
     "output_type": "stream",
     "text": [
      "100%|██████████| 5/5 [00:00<00:00,  7.91it/s]\n",
      "100%|██████████| 2/2 [00:00<00:00,  3.63it/s]"
     ]
    },
    {
     "name": "stdout",
     "output_type": "stream",
     "text": [
      "Training Loss: 1.2498\tValidation Loss: 2.4719\n",
      "Counter train preds: Counter({1: 34, 0: 24, 2: 8, 3: 8, 5: 1})\tCounter val preds: Counter({0: 22, 2: 3})\n",
      "Epoch train QWK: 0.392\tval QWK: 0.259\n",
      "Epoch 9/9\n",
      "----------\n"
     ]
    },
    {
     "name": "stderr",
     "output_type": "stream",
     "text": [
      "\n",
      "100%|██████████| 5/5 [00:00<00:00,  8.02it/s]"
     ]
    },
    {
     "name": "stdout",
     "output_type": "stream",
     "text": [
      "Visualising input\n"
     ]
    },
    {
     "name": "stderr",
     "output_type": "stream",
     "text": [
      "\n",
      "100%|██████████| 2/2 [00:00<00:00,  3.74it/s]"
     ]
    },
    {
     "name": "stdout",
     "output_type": "stream",
     "text": [
      "Training Loss: 1.2657\tValidation Loss: 2.4212\n",
      "Counter train preds: Counter({1: 39, 0: 21, 2: 6, 3: 6, 5: 3})\tCounter val preds: Counter({0: 22, 2: 3})\n",
      "Epoch train QWK: 0.409\tval QWK: 0.259\n",
      "Train with CV, on fold 3\n",
      "Epoch 0/9\n",
      "----------\n"
     ]
    },
    {
     "name": "stderr",
     "output_type": "stream",
     "text": [
      "\n",
      " 60%|██████    | 3/5 [00:00<00:00,  3.76it/s]"
     ]
    },
    {
     "name": "stdout",
     "output_type": "stream",
     "text": [
      "Visualising input\n"
     ]
    },
    {
     "name": "stderr",
     "output_type": "stream",
     "text": [
      "100%|██████████| 5/5 [00:00<00:00,  7.78it/s]\n",
      "100%|██████████| 2/2 [00:00<00:00,  4.08it/s]"
     ]
    },
    {
     "name": "stdout",
     "output_type": "stream",
     "text": [
      "Training Loss: 1.7337\tValidation Loss: 1.6500\n",
      "Counter train preds: Counter({1: 49, 2: 14, 0: 6, 5: 3, 3: 3})\tCounter val preds: Counter({1: 24, 0: 1})\n",
      "Epoch train QWK: 0.123\tval QWK: -0.030\n",
      "Epoch 1/9\n",
      "----------\n"
     ]
    },
    {
     "name": "stderr",
     "output_type": "stream",
     "text": [
      "\n",
      "100%|██████████| 5/5 [00:00<00:00,  7.52it/s]"
     ]
    },
    {
     "name": "stdout",
     "output_type": "stream",
     "text": [
      "Visualising input\n"
     ]
    },
    {
     "name": "stderr",
     "output_type": "stream",
     "text": [
      "\n",
      "100%|██████████| 2/2 [00:00<00:00,  4.29it/s]"
     ]
    },
    {
     "name": "stdout",
     "output_type": "stream",
     "text": [
      "Training Loss: 1.5647\tValidation Loss: 1.7000\n",
      "Counter train preds: Counter({1: 40, 0: 18, 3: 12, 2: 5})\tCounter val preds: Counter({1: 25})\n",
      "Epoch train QWK: 0.232\tval QWK: 0.000\n",
      "Epoch 2/9\n",
      "----------\n"
     ]
    },
    {
     "name": "stderr",
     "output_type": "stream",
     "text": [
      "\n",
      " 60%|██████    | 3/5 [00:00<00:00,  3.84it/s]"
     ]
    },
    {
     "name": "stdout",
     "output_type": "stream",
     "text": [
      "Visualising input\n"
     ]
    },
    {
     "name": "stderr",
     "output_type": "stream",
     "text": [
      "100%|██████████| 5/5 [00:00<00:00,  7.87it/s]\n",
      "100%|██████████| 2/2 [00:00<00:00,  4.09it/s]"
     ]
    },
    {
     "name": "stdout",
     "output_type": "stream",
     "text": [
      "Training Loss: 1.4733\tValidation Loss: 1.6935\n",
      "Counter train preds: Counter({1: 33, 0: 27, 3: 13, 2: 2})\tCounter val preds: Counter({1: 25})\n",
      "Epoch train QWK: 0.337\tval QWK: 0.000\n",
      "Epoch 3/9\n",
      "----------\n"
     ]
    },
    {
     "name": "stderr",
     "output_type": "stream",
     "text": [
      "\n",
      " 60%|██████    | 3/5 [00:00<00:00,  3.67it/s]"
     ]
    },
    {
     "name": "stdout",
     "output_type": "stream",
     "text": [
      "Visualising input\n"
     ]
    },
    {
     "name": "stderr",
     "output_type": "stream",
     "text": [
      "100%|██████████| 5/5 [00:00<00:00,  7.66it/s]\n",
      "100%|██████████| 2/2 [00:00<00:00,  4.01it/s]"
     ]
    },
    {
     "name": "stdout",
     "output_type": "stream",
     "text": [
      "Training Loss: 1.4141\tValidation Loss: 1.6876\n",
      "Counter train preds: Counter({0: 29, 1: 28, 3: 10, 2: 6, 5: 2})\tCounter val preds: Counter({1: 25})\n",
      "Epoch train QWK: 0.475\tval QWK: 0.000\n",
      "Epoch 4/9\n",
      "----------\n"
     ]
    },
    {
     "name": "stderr",
     "output_type": "stream",
     "text": [
      "\n",
      " 60%|██████    | 3/5 [00:00<00:00,  3.46it/s]"
     ]
    },
    {
     "name": "stdout",
     "output_type": "stream",
     "text": [
      "Visualising input\n"
     ]
    },
    {
     "name": "stderr",
     "output_type": "stream",
     "text": [
      "100%|██████████| 5/5 [00:00<00:00,  7.39it/s]\n",
      "100%|██████████| 2/2 [00:00<00:00,  2.65it/s]"
     ]
    },
    {
     "name": "stdout",
     "output_type": "stream",
     "text": [
      "Training Loss: 1.3655\tValidation Loss: 1.6186\n",
      "Counter train preds: Counter({1: 35, 0: 26, 3: 7, 5: 4, 2: 3})\tCounter val preds: Counter({1: 21, 2: 3, 0: 1})\n",
      "Epoch train QWK: 0.395\tval QWK: 0.012\n",
      "Epoch 5/9\n",
      "----------\n"
     ]
    },
    {
     "name": "stderr",
     "output_type": "stream",
     "text": [
      "\n",
      "100%|██████████| 5/5 [00:00<00:00,  4.61it/s]"
     ]
    },
    {
     "name": "stdout",
     "output_type": "stream",
     "text": [
      "Visualising input\n"
     ]
    },
    {
     "name": "stderr",
     "output_type": "stream",
     "text": [
      "100%|██████████| 5/5 [00:00<00:00,  7.47it/s]\n",
      "100%|██████████| 2/2 [00:00<00:00,  3.97it/s]"
     ]
    },
    {
     "name": "stdout",
     "output_type": "stream",
     "text": [
      "Training Loss: 1.3591\tValidation Loss: 1.6763\n",
      "Counter train preds: Counter({1: 32, 0: 23, 3: 11, 2: 8, 5: 1})\tCounter val preds: Counter({2: 17, 0: 6, 1: 2})\n",
      "Epoch train QWK: 0.413\tval QWK: 0.313\n",
      "Epoch 6/9\n",
      "----------\n"
     ]
    },
    {
     "name": "stderr",
     "output_type": "stream",
     "text": [
      "\n",
      "100%|██████████| 5/5 [00:00<00:00,  4.59it/s]"
     ]
    },
    {
     "name": "stdout",
     "output_type": "stream",
     "text": [
      "Visualising input\n"
     ]
    },
    {
     "name": "stderr",
     "output_type": "stream",
     "text": [
      "100%|██████████| 5/5 [00:00<00:00,  7.40it/s]\n",
      "100%|██████████| 2/2 [00:00<00:00,  4.08it/s]"
     ]
    },
    {
     "name": "stdout",
     "output_type": "stream",
     "text": [
      "Training Loss: 1.3191\tValidation Loss: 1.6529\n",
      "Counter train preds: Counter({1: 34, 0: 26, 3: 5, 2: 4, 4: 4, 5: 2})\tCounter val preds: Counter({1: 12, 2: 9, 5: 2, 0: 2})\n",
      "Epoch train QWK: 0.424\tval QWK: 0.269\n",
      "Epoch 7/9\n",
      "----------\n"
     ]
    },
    {
     "name": "stderr",
     "output_type": "stream",
     "text": [
      "\n",
      "100%|██████████| 5/5 [00:00<00:00,  7.96it/s]"
     ]
    },
    {
     "name": "stdout",
     "output_type": "stream",
     "text": [
      "Visualising input\n"
     ]
    },
    {
     "name": "stderr",
     "output_type": "stream",
     "text": [
      "\n",
      "100%|██████████| 2/2 [00:00<00:00,  3.92it/s]"
     ]
    },
    {
     "name": "stdout",
     "output_type": "stream",
     "text": [
      "Training Loss: 1.3050\tValidation Loss: 1.7019\n",
      "Counter train preds: Counter({1: 36, 0: 21, 2: 6, 3: 5, 5: 4, 4: 3})\tCounter val preds: Counter({2: 13, 5: 7, 4: 3, 0: 2})\n",
      "Epoch train QWK: 0.454\tval QWK: 0.364\n",
      "Epoch 8/9\n",
      "----------\n"
     ]
    },
    {
     "name": "stderr",
     "output_type": "stream",
     "text": [
      "\n",
      " 60%|██████    | 3/5 [00:00<00:00,  3.98it/s]"
     ]
    },
    {
     "name": "stdout",
     "output_type": "stream",
     "text": [
      "Visualising input\n"
     ]
    },
    {
     "name": "stderr",
     "output_type": "stream",
     "text": [
      "100%|██████████| 5/5 [00:00<00:00,  7.99it/s]\n",
      "100%|██████████| 2/2 [00:00<00:00,  4.10it/s]"
     ]
    },
    {
     "name": "stdout",
     "output_type": "stream",
     "text": [
      "Training Loss: 1.2645\tValidation Loss: 1.7029\n",
      "Counter train preds: Counter({1: 36, 0: 22, 5: 7, 2: 5, 3: 4, 4: 1})\tCounter val preds: Counter({2: 10, 5: 5, 0: 5, 1: 4, 3: 1})\n",
      "Epoch train QWK: 0.461\tval QWK: 0.309\n",
      "Epoch 9/9\n",
      "----------\n"
     ]
    },
    {
     "name": "stderr",
     "output_type": "stream",
     "text": [
      "\n",
      "100%|██████████| 5/5 [00:00<00:00,  4.60it/s]"
     ]
    },
    {
     "name": "stdout",
     "output_type": "stream",
     "text": [
      "Visualising input\n"
     ]
    },
    {
     "name": "stderr",
     "output_type": "stream",
     "text": [
      "100%|██████████| 5/5 [00:00<00:00,  7.52it/s]\n",
      "100%|██████████| 2/2 [00:00<00:00,  4.03it/s]"
     ]
    },
    {
     "name": "stdout",
     "output_type": "stream",
     "text": [
      "Training Loss: 1.2169\tValidation Loss: 2.0975\n",
      "Counter train preds: Counter({1: 33, 0: 22, 2: 9, 3: 6, 5: 5})\tCounter val preds: Counter({4: 14, 5: 8, 0: 3})\n",
      "Epoch train QWK: 0.530\tval QWK: 0.218\n"
     ]
    },
    {
     "name": "stderr",
     "output_type": "stream",
     "text": [
      "\n"
     ]
    }
   ],
   "source": [
    "checkpoint = \"test_fold_{}.pth\"\n",
    "for fold in range(CFG.n_fold):\n",
    "    train_df = folds[folds[\"fold\"] != fold].copy()\n",
    "    val_df = folds[folds[\"fold\"] == fold].copy()\n",
    "    \n",
    "    train_ds = TrainDataset(train_df, transform=get_transforms(data=\"train\"), debug=False)\n",
    "    val_ds = TrainDataset(val_df, transform=get_transforms(data=\"valid\"), debug=False)\n",
    "    \n",
    "    model = TinyV2ConvNet(CFG.target_size)\n",
    "    # initialize bias in the model\n",
    "    cls_probas = (train_df[CFG.target_col].value_counts() / len(train_df)).values\n",
    "    model = init_last_layer_bias(model, cls_probas)\n",
    "    \n",
    "    criterion = nn.CrossEntropyLoss()\n",
    "    optimizer = torch.optim.Adam(model.parameters(), lr=CFG.lr, amsgrad=False)\n",
    "    print(f\"Train with CV, on fold {fold}\")\n",
    "    model = train_eval_loop(train_ds, val_ds, model, optimizer, criterion, tb_tag=fold)\n",
    "    torch.save(model.state_dict(), MODEL_PATH/checkpoint.format(fold))"
   ]
  },
  {
   "cell_type": "code",
   "execution_count": null,
   "metadata": {},
   "outputs": [],
   "source": []
  }
 ],
 "metadata": {
  "kernelspec": {
   "display_name": "chestxray",
   "language": "python",
   "name": "chestxray"
  },
  "language_info": {
   "codemirror_mode": {
    "name": "ipython",
    "version": 3
   },
   "file_extension": ".py",
   "mimetype": "text/x-python",
   "name": "python",
   "nbconvert_exporter": "python",
   "pygments_lexer": "ipython3",
   "version": "3.7.7"
  },
  "toc-autonumbering": false,
  "toc-showcode": false,
  "toc-showmarkdowntxt": false
 },
 "nbformat": 4,
 "nbformat_minor": 4
}
