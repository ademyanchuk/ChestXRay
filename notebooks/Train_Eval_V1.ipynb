{
 "cells": [
  {
   "cell_type": "markdown",
   "metadata": {},
   "source": [
    "### Imports"
   ]
  },
  {
   "cell_type": "code",
   "execution_count": 1,
   "metadata": {},
   "outputs": [],
   "source": [
    "%load_ext autoreload\n",
    "%autoreload 2"
   ]
  },
  {
   "cell_type": "code",
   "execution_count": 2,
   "metadata": {},
   "outputs": [],
   "source": [
    "import random\n",
    "import os\n",
    "from datetime import datetime\n",
    "from collections import Counter\n",
    "import numpy as np\n",
    "import pandas as pd\n",
    "import matplotlib.pyplot as plt\n",
    "from tqdm import tqdm\n",
    "\n",
    "import torch\n",
    "import torch.nn as nn\n",
    "import torch.nn.functional as F\n",
    "from torch.utils.data import DataLoader, Dataset\n",
    "from torch.utils.tensorboard import SummaryWriter\n",
    "from torch.optim.lr_scheduler import ReduceLROnPlateau, OneCycleLR, CosineAnnealingWarmRestarts\n",
    "import torchvision\n",
    "from torchvision import models\n",
    "from apex import amp\n",
    "\n",
    "from albumentations import Compose, Normalize\n",
    "from albumentations.pytorch import ToTensorV2, ToTensor\n",
    "\n",
    "from sklearn.metrics import cohen_kappa_score\n",
    "from sklearn.model_selection import StratifiedKFold\n",
    "from sklearn.metrics import confusion_matrix\n",
    "\n",
    "import cv2\n",
    "import skimage.io\n",
    "import IPython.display as display\n",
    "from PIL import Image\n",
    "\n",
    "plt.ion()\n",
    "%matplotlib inline\n",
    "%config InlineBackend.figure_format='retina'"
   ]
  },
  {
   "cell_type": "markdown",
   "metadata": {},
   "source": [
    "#### Local Imports"
   ]
  },
  {
   "cell_type": "code",
   "execution_count": 3,
   "metadata": {},
   "outputs": [],
   "source": [
    "# Paths\n",
    "from chestxray.config import (PANDA_PATH,\n",
    "                              MODEL_PATH,\n",
    "                              PANDA_IMGS,\n",
    "                              PANDA_MASKS,\n",
    "                              TRAIN_CSV)\n",
    "# Competition related config\n",
    "from chestxray.config import CFG\n",
    "\n",
    "# Misc\n",
    "from chestxray.misc import seed_torch\n",
    "\n",
    "# Datasets\n",
    "from chestxray.datasets import get_transforms, TrainDataset, TilesTrainDataset, LazyTilesDataset\n",
    "\n",
    "# Viz\n",
    "from chestxray.visualize import (show_from_ids, show_batch, imshow, \n",
    "                                 plot_classes_preds, reverse_show_img, \n",
    "                                 plot_confusion_matrix)\n",
    "\n",
    "# Nets\n",
    "from chestxray.nets import TinyV2ConvNet, make_RN50_cls, freeze_botom\n",
    "from chestxray.model_utils import (trainable_params, cce_loss_at_init, \n",
    "                                   init_last_layer_bias)\n",
    "# Losses\n",
    "from chestxray.losses import LabelSmoothSoftmaxCEV1\n",
    "\n",
    "# Optim\n",
    "from chestxray.optimizers import RAdam"
   ]
  },
  {
   "cell_type": "code",
   "execution_count": 4,
   "metadata": {},
   "outputs": [
    {
     "name": "stdout",
     "output_type": "stream",
     "text": [
      "cuda:0\n"
     ]
    }
   ],
   "source": [
    "device = torch.device(\"cuda:0\" if torch.cuda.is_available() else \"cpu\")\n",
    "print(device)"
   ]
  },
  {
   "cell_type": "code",
   "execution_count": 5,
   "metadata": {},
   "outputs": [
    {
     "name": "stdout",
     "output_type": "stream",
     "text": [
      "_CudaDeviceProperties(name='GeForce RTX 2070 SUPER', major=7, minor=5, total_memory=7979MB, multi_processor_count=40)\n"
     ]
    }
   ],
   "source": [
    "print(torch.cuda.get_device_properties(device))"
   ]
  },
  {
   "cell_type": "markdown",
   "metadata": {},
   "source": [
    "### Fix Random Seed"
   ]
  },
  {
   "cell_type": "code",
   "execution_count": 6,
   "metadata": {},
   "outputs": [],
   "source": [
    "seed_torch()"
   ]
  },
  {
   "cell_type": "markdown",
   "metadata": {},
   "source": [
    "### Load Data"
   ]
  },
  {
   "cell_type": "code",
   "execution_count": 7,
   "metadata": {},
   "outputs": [
    {
     "data": {
      "text/html": [
       "<div>\n",
       "<style scoped>\n",
       "    .dataframe tbody tr th:only-of-type {\n",
       "        vertical-align: middle;\n",
       "    }\n",
       "\n",
       "    .dataframe tbody tr th {\n",
       "        vertical-align: top;\n",
       "    }\n",
       "\n",
       "    .dataframe thead th {\n",
       "        text-align: right;\n",
       "    }\n",
       "</style>\n",
       "<table border=\"1\" class=\"dataframe\">\n",
       "  <thead>\n",
       "    <tr style=\"text-align: right;\">\n",
       "      <th></th>\n",
       "      <th>image_id</th>\n",
       "      <th>data_provider</th>\n",
       "      <th>isup_grade</th>\n",
       "      <th>gleason_score</th>\n",
       "    </tr>\n",
       "  </thead>\n",
       "  <tbody>\n",
       "    <tr>\n",
       "      <th>0</th>\n",
       "      <td>0005f7aaab2800f6170c399693a96917</td>\n",
       "      <td>karolinska</td>\n",
       "      <td>0</td>\n",
       "      <td>0+0</td>\n",
       "    </tr>\n",
       "    <tr>\n",
       "      <th>1</th>\n",
       "      <td>000920ad0b612851f8e01bcc880d9b3d</td>\n",
       "      <td>karolinska</td>\n",
       "      <td>0</td>\n",
       "      <td>0+0</td>\n",
       "    </tr>\n",
       "    <tr>\n",
       "      <th>2</th>\n",
       "      <td>0018ae58b01bdadc8e347995b69f99aa</td>\n",
       "      <td>radboud</td>\n",
       "      <td>4</td>\n",
       "      <td>4+4</td>\n",
       "    </tr>\n",
       "    <tr>\n",
       "      <th>3</th>\n",
       "      <td>001c62abd11fa4b57bf7a6c603a11bb9</td>\n",
       "      <td>karolinska</td>\n",
       "      <td>4</td>\n",
       "      <td>4+4</td>\n",
       "    </tr>\n",
       "    <tr>\n",
       "      <th>4</th>\n",
       "      <td>001d865e65ef5d2579c190a0e0350d8f</td>\n",
       "      <td>karolinska</td>\n",
       "      <td>0</td>\n",
       "      <td>0+0</td>\n",
       "    </tr>\n",
       "  </tbody>\n",
       "</table>\n",
       "</div>"
      ],
      "text/plain": [
       "                           image_id data_provider  isup_grade gleason_score\n",
       "0  0005f7aaab2800f6170c399693a96917    karolinska           0           0+0\n",
       "1  000920ad0b612851f8e01bcc880d9b3d    karolinska           0           0+0\n",
       "2  0018ae58b01bdadc8e347995b69f99aa       radboud           4           4+4\n",
       "3  001c62abd11fa4b57bf7a6c603a11bb9    karolinska           4           4+4\n",
       "4  001d865e65ef5d2579c190a0e0350d8f    karolinska           0           0+0"
      ]
     },
     "execution_count": 7,
     "metadata": {},
     "output_type": "execute_result"
    }
   ],
   "source": [
    "TRAIN_DF = pd.read_csv(TRAIN_CSV)\n",
    "TRAIN_DF.head()"
   ]
  },
  {
   "cell_type": "code",
   "execution_count": 8,
   "metadata": {},
   "outputs": [
    {
     "data": {
      "image/png": "[encoded data removed]",
      "text/plain": [
       "<Figure size 432x288 with 1 Axes>"
      ]
     },
     "metadata": {
      "image/png": {
       "height": 249,
       "width": 381
      },
      "needs_background": "light"
     },
     "output_type": "display_data"
    }
   ],
   "source": [
    "_ = TRAIN_DF[CFG.target_col].hist()"
   ]
  },
  {
   "cell_type": "markdown",
   "metadata": {},
   "source": [
    "### Define Global Variables"
   ]
  },
  {
   "cell_type": "code",
   "execution_count": 9,
   "metadata": {},
   "outputs": [
    {
     "name": "stdout",
     "output_type": "stream",
     "text": [
      "17-05-2020-18-14\n"
     ]
    }
   ],
   "source": [
    "CFG.debug = False\n",
    "now = datetime.now()\n",
    "\n",
    "EXP_NAME = now.strftime(\"%d-%m-%Y-%H-%M\")\n",
    "print(EXP_NAME)"
   ]
  },
  {
   "cell_type": "code",
   "execution_count": 10,
   "metadata": {},
   "outputs": [],
   "source": [
    "# default `log_dir` is \"runs\" - we'll be more specific here\n",
    "writer = SummaryWriter(f'runs/{EXP_NAME}')"
   ]
  },
  {
   "cell_type": "code",
   "execution_count": 11,
   "metadata": {},
   "outputs": [],
   "source": [
    "LOSSES = {\n",
    "    \"cce\" : nn.CrossEntropyLoss(),\n",
    "    \"ls_soft_ce\" : LabelSmoothSoftmaxCEV1(),\n",
    "}"
   ]
  },
  {
   "cell_type": "code",
   "execution_count": 12,
   "metadata": {},
   "outputs": [],
   "source": [
    "# key - string, value - tuple(sceduler, if it epoch type)\n",
    "epoch_type = True\n",
    "SCHEDULERS = {\n",
    "    \"reduce_on_plateau\" : (ReduceLROnPlateau, epoch_type),\n",
    "    \"one_cycle\": (OneCycleLR, not epoch_type),\n",
    "    \"cawr\": (CosineAnnealingWarmRestarts, not epoch_type)\n",
    "}"
   ]
  },
  {
   "cell_type": "markdown",
   "metadata": {},
   "source": [
    "### Train Eval Loop"
   ]
  },
  {
   "cell_type": "code",
   "execution_count": 22,
   "metadata": {},
   "outputs": [],
   "source": [
    "def train_eval_loop(train_dataloader, val_dataloader, model, optimizer, criterion, scheduler, sch_is_epoch_type, checkpoint=False,\n",
    "                    num_epochs=CFG.epoch, device=device, tb_tag=\"\", model_name=\"debug\"):\n",
    "    \"\"\"Split it into the set of inner functions to siplify the loop itself\"\"\"\n",
    "    # Inner Functions\n",
    "    # write to TensorBoard helpers\n",
    "    def weights_to_tb(step=0):\n",
    "        conv1_weight = model.conv1.weight.data.to(\"cpu\")\n",
    "        img_grid = torchvision.utils.make_grid(conv1_weight, normalize=True)\n",
    "        writer.add_image(tag=f\"Model conv1 weights {tb_tag}\", img_tensor=img_grid, global_step=step)\n",
    "    \n",
    "    def input_img_to_tb(inputs, step):\n",
    "        img = reverse_show_img(inputs[0])\n",
    "        writer.add_image(tag=f\"Input Image {tb_tag}\", img_tensor=img, global_step=step, dataformats=\"HWC\")\n",
    "        del img\n",
    "    \n",
    "    def preds_to_tb(outputs, inputs, labels, step):\n",
    "        figure=plot_classes_preds(outputs.to('cpu'), inputs.to('cpu'), labels.to('cpu'))\n",
    "        writer.add_figure(tag=f\"Actuals vs Predictions {tb_tag}\", figure=figure, global_step=step)\n",
    "        \n",
    "    def metrics_to_tb(mode, train_loss, train_score, val_loss, val_score, step):\n",
    "        writer.add_text(f\"On best {mode} save:\", \n",
    "                        f\"tr_loss: {train_loss:.4f}, tr_qwk: {train_score:.4f}, val_loss: {val_loss:.4f}, val_qwk: {val_score:.4f}\", \n",
    "                        global_step=step)\n",
    "    \n",
    "    def conf_matrix_to_tb(val_epoch_labels, val_epoch_preds, step):\n",
    "        writer.add_figure(tag=f\"Confusion matrix {tb_tag}\", figure=plot_confusion_matrix(val_epoch_labels, val_epoch_preds),\n",
    "                          global_step=step)\n",
    "        \n",
    "        \n",
    "    \n",
    "    # Train/Eval Loop\n",
    "    # write first layer weights to TB @ init phase\n",
    "    if not CFG.debug:\n",
    "        weights_to_tb()\n",
    "    \n",
    "    # prepare model and optimizer\n",
    "    model.to(device)\n",
    "    if CFG.use_amp: # automatic mixed precision\n",
    "        model, optimizer = amp.initialize(model, optimizer, opt_level=\"O1\")\n",
    "    # define epochs numbers to look into input images and predictions, no more than 10 times per full training\n",
    "    vis_step = np.ceil(num_epochs/10).astype(int)\n",
    "    visual_epochs = list(range(0, num_epochs, vis_step))\n",
    "    # metrics to wathch for model checkpointing\n",
    "    best_qwk = -100 if not checkpoint else checkpoint['best_qwk']\n",
    "    best_val_loss = np.inf if not checkpoint else checkpoint[\"best_val_loss\"]\n",
    "    \n",
    "    start_epoch = 0 if not checkpoint else checkpoint[\"epoch\"] + 1\n",
    "    for epoch in range(start_epoch, num_epochs):\n",
    "        print(f'Epoch {epoch}/{num_epochs - 1}')\n",
    "        print('=' * 10)\n",
    "\n",
    "        # Training Phase\n",
    "        # Set training mode\n",
    "        model.train();\n",
    "        train_running_loss = 0.0\n",
    "        train_epoch_preds, train_epoch_labels = [], []\n",
    "\n",
    "        # Iterate over train data.\n",
    "        tk_train = tqdm(enumerate(train_dataloader), total=len(train_dataloader))\n",
    "        for i, data in tk_train:\n",
    "            # Calculate global step for TensorBoard\n",
    "            train_global_step = epoch * len(train_dataloader) + i\n",
    "\n",
    "            inputs, labels = data\n",
    "            # Visualize input before model at the middle of epoch:\n",
    "            if epoch in visual_epochs and i == len(train_dataloader) // 2:\n",
    "                input_img_to_tb(inputs, train_global_step)\n",
    "\n",
    "            inputs = inputs.to(device)\n",
    "            labels = labels.to(device)\n",
    "            # zero the parameter gradients\n",
    "            optimizer.zero_grad()\n",
    "\n",
    "            outputs = model(inputs)\n",
    "            loss = criterion(outputs, labels)\n",
    "            if CFG.use_amp:\n",
    "                with amp.scale_loss(loss, optimizer) as scaled_loss:\n",
    "                    scaled_loss.backward()\n",
    "            else:\n",
    "                loss.backward()\n",
    "            optimizer.step()\n",
    "            # loss is mean across batch, divide by number of steps in epoch (so loss is normalized)\n",
    "            train_running_loss += loss.item() / len(train_dataloader)\n",
    "            # tensorboarding loss\n",
    "            writer.add_scalar(tag=f\"Training loss {tb_tag}\", scalar_value=loss.item(), global_step=train_global_step)\n",
    "\n",
    "            # collect train preds and labels for QWK\n",
    "            train_epoch_preds.append(outputs.data.to('cpu').numpy().argmax(1))\n",
    "            train_epoch_labels.append(labels.to('cpu').numpy())\n",
    "            # Add Batch Type Scheduler step here:\n",
    "            if not sch_is_epoch_type:\n",
    "                scheduler.step()\n",
    "        # Validation Phase\n",
    "        # Set evaluation mode\n",
    "        model.eval();\n",
    "        val_running_loss = 0.0\n",
    "        val_epoch_preds, val_epoch_labels = [], []\n",
    "        # Iterate over val data\n",
    "        tk_val = tqdm(enumerate(val_dataloader), total=len(val_dataloader))\n",
    "        for j, data in tk_val:\n",
    "            # Calculate global step\n",
    "            val_global_step = epoch * len(val_dataloader) + j\n",
    "            inputs, labels = data\n",
    "            inputs = inputs.to(device)\n",
    "            labels = labels.to(device)\n",
    "            with torch.no_grad():\n",
    "                outputs = model(inputs)\n",
    "            loss = criterion(outputs, labels)\n",
    "            val_running_loss += loss.item() / len(val_dataloader)\n",
    "            # tensorboarding loss\n",
    "            writer.add_scalar(tag=f\"Validation loss {tb_tag}\", scalar_value=loss.item(), global_step=val_global_step)\n",
    "\n",
    "            # collect validation preds and labels for QWK\n",
    "            val_epoch_preds.append(outputs.data.to('cpu').numpy().argmax(1))\n",
    "            val_epoch_labels.append(labels.to('cpu').numpy())\n",
    "\n",
    "            # visualise predictions for 0th validation batch\n",
    "            if epoch in visual_epochs and j == 0:\n",
    "                preds_to_tb(outputs, inputs, labels, val_global_step)\n",
    "        \n",
    "        # Epoch type Schedulers\n",
    "        if sch_is_epoch_type:\n",
    "            scheduler.step(val_running_loss)\n",
    "        # Write lr to TBD\n",
    "        if CFG.finetune == \"1stage\":\n",
    "            writer.add_scalar(tag=f\"lr Interim {tb_tag}:\", scalar_value=optimizer.param_groups[0][\"lr\"], global_step=train_global_step)\n",
    "            writer.add_scalar(tag=f\"lr Classifier {tb_tag}:\", scalar_value=optimizer.param_groups[1][\"lr\"], global_step=train_global_step)\n",
    "            \n",
    "        else:\n",
    "            writer.add_scalar(tag=f\"lr {tb_tag}:\", scalar_value=optimizer.param_groups[0][\"lr\"], global_step=train_global_step)\n",
    "        \n",
    "        # \"End of Epoch\" Phase\n",
    "        print(f'Training Loss: {train_running_loss:.4f}\\tValidation Loss: {val_running_loss:.4f}')\n",
    "        \n",
    "        # Calculate epoch predictions distribution\n",
    "        train_epoch_preds = np.concatenate(train_epoch_preds)\n",
    "        train_epoch_labels = np.concatenate(train_epoch_labels)\n",
    "        val_epoch_preds = np.concatenate(val_epoch_preds)\n",
    "        val_epoch_labels = np.concatenate(val_epoch_labels)\n",
    "        print(f'Counter train preds: {Counter(train_epoch_preds)}\\tCounter val preds: {Counter(val_epoch_preds)}')\n",
    "        # Calculate epoch QWK\n",
    "        train_qwk = cohen_kappa_score(train_epoch_preds, train_epoch_labels, weights='quadratic')\n",
    "        val_qwk = cohen_kappa_score(val_epoch_preds, val_epoch_labels, weights='quadratic')\n",
    "        print(f\"Epoch train QWK: {train_qwk:.3f}\\tval QWK: {val_qwk:.3f}\")\n",
    "        writer.add_scalar(tag=f\"Training QWK {tb_tag}\", scalar_value=train_qwk, global_step=epoch)\n",
    "        writer.add_scalar(tag=f\"Validation QWK {tb_tag}\", scalar_value=val_qwk, global_step=epoch)\n",
    "        \n",
    "        # On the best val loss do:\n",
    "        if val_running_loss < best_val_loss:\n",
    "            # update best and save model\n",
    "            best_val_loss = val_running_loss\n",
    "            print(f'  Epoch {epoch} - Save Best Loss: {best_val_loss:.4f} Model')\n",
    "            torch.save({\n",
    "                'epoch': epoch,\n",
    "                'model_state_dict': model.state_dict(),\n",
    "                'optimizer_state_dict': optimizer.state_dict(),\n",
    "                'best_val_loss': best_val_loss,\n",
    "                'best_qwk': best_qwk,\n",
    "            }, f'{MODEL_PATH}/{model_name}_loss.pth')\n",
    "            # add losses as text to TB\n",
    "            metrics_to_tb(\"loss\", train_running_loss, train_qwk, val_running_loss, val_qwk, val_global_step)\n",
    "            # add image of conv1 weights to TB\n",
    "            if not CFG.debug:\n",
    "                weights_to_tb(val_global_step)\n",
    "            # add confusion matrix to TB\n",
    "            conf_matrix_to_tb(val_epoch_labels, val_epoch_preds, val_global_step)\n",
    "        # On the best QWK\n",
    "        if val_qwk > best_qwk:\n",
    "            # update best and save model\n",
    "            best_qwk = val_qwk\n",
    "            print(f'  Epoch {epoch} - Save Best QWK: {best_qwk:.4f} Model')\n",
    "            torch.save({\n",
    "                'epoch': epoch,\n",
    "                'model_state_dict': model.state_dict(),\n",
    "                'optimizer_state_dict': optimizer.state_dict(),\n",
    "                'best_val_loss': best_val_loss,\n",
    "                'best_qwk': best_qwk,\n",
    "            }, f'{MODEL_PATH}/{model_name}_qwk.pth')\n",
    "            # add losses and qwk as text to TB\n",
    "            metrics_to_tb(\"qwk\", train_running_loss, train_qwk, val_running_loss, val_qwk, val_global_step)\n",
    "            # add image of conv1 weights to TB\n",
    "            if not CFG.debug:\n",
    "                weights_to_tb(val_global_step)  \n",
    "            # add confusion matrix to TB\n",
    "            conf_matrix_to_tb(val_epoch_labels, val_epoch_preds, val_global_step)\n",
    "    # End of loop\n",
    "    writer.close()"
   ]
  },
  {
   "cell_type": "markdown",
   "metadata": {},
   "source": [
    "### Prepare CV - strategy"
   ]
  },
  {
   "cell_type": "code",
   "execution_count": 14,
   "metadata": {},
   "outputs": [],
   "source": [
    "if CFG.debug:\n",
    "    folds_fn = \"folds_db.csv\"\n",
    "    try: \n",
    "        folds = pd.read_csv(PANDA_PATH/folds_fn)\n",
    "    except FileNotFoundError:\n",
    "        folds = TRAIN_DF.sample(n=100, random_state=CFG.seed).reset_index(drop=True).copy()\n",
    "else:\n",
    "    folds_fn = \"folds.csv\"\n",
    "    try:\n",
    "        folds = pd.read_csv(PANDA_PATH/folds_fn)\n",
    "    except FileNotFoundError:\n",
    "        folds = TRAIN_DF.copy()"
   ]
  },
  {
   "cell_type": "code",
   "execution_count": 15,
   "metadata": {},
   "outputs": [],
   "source": [
    "if not (PANDA_PATH/folds_fn).exists():\n",
    "    train_labels = folds[CFG.target_col].values\n",
    "    kf = StratifiedKFold(n_splits=CFG.n_fold, shuffle=True, random_state=CFG.seed)\n",
    "    for fold, (train_index, val_index) in enumerate(kf.split(folds.values, train_labels)):\n",
    "        folds.loc[val_index, 'fold'] = int(fold)\n",
    "    folds['fold'] = folds['fold'].astype(int)\n",
    "    folds.to_csv(PANDA_PATH/folds_fn, index=None)\n",
    "    folds.head()"
   ]
  },
  {
   "cell_type": "code",
   "execution_count": 16,
   "metadata": {},
   "outputs": [
    {
     "name": "stdout",
     "output_type": "stream",
     "text": [
      "<class 'pandas.core.frame.DataFrame'>\n",
      "RangeIndex: 10616 entries, 0 to 10615\n",
      "Data columns (total 5 columns):\n",
      " #   Column         Non-Null Count  Dtype \n",
      "---  ------         --------------  ----- \n",
      " 0   image_id       10616 non-null  object\n",
      " 1   data_provider  10616 non-null  object\n",
      " 2   isup_grade     10616 non-null  int64 \n",
      " 3   gleason_score  10616 non-null  object\n",
      " 4   fold           10616 non-null  int64 \n",
      "dtypes: int64(2), object(3)\n",
      "memory usage: 414.8+ KB\n"
     ]
    }
   ],
   "source": [
    "folds.info()"
   ]
  },
  {
   "cell_type": "markdown",
   "metadata": {},
   "source": [
    "### Debug Runs"
   ]
  },
  {
   "cell_type": "code",
   "execution_count": 18,
   "metadata": {},
   "outputs": [],
   "source": [
    "# default `log_dir` is \"runs\" - we'll be more specific here\n",
    "writer = SummaryWriter(f'runs/debug')"
   ]
  },
  {
   "cell_type": "code",
   "execution_count": 19,
   "metadata": {},
   "outputs": [
    {
     "name": "stdout",
     "output_type": "stream",
     "text": [
      "debug: False use_amp: True img_height: 512 img_width: 512 lr: 0.0001 batch_size: 16 epoch: 50 seed: 1982 target_size: 6 img_id_col: image_id target_col: isup_grade n_fold: 4 tiff_layer: 1 loss: ls_soft_ce\n"
     ]
    }
   ],
   "source": [
    "print(\" \".join([f\"{key}: {val}\" for key, val in CFG.__dict__.items() if not key.startswith(\"__\")]))"
   ]
  },
  {
   "cell_type": "code",
   "execution_count": 18,
   "metadata": {},
   "outputs": [],
   "source": [
    "writer.add_text(\"Experiment Description:\", \" \".join([f\"{key}: {val}\" for key, val in CFG.__dict__.items() if not key.startswith(\"__\")]))"
   ]
  },
  {
   "cell_type": "code",
   "execution_count": 22,
   "metadata": {
    "collapsed": true,
    "jupyter": {
     "outputs_hidden": true
    }
   },
   "outputs": [
    {
     "name": "stdout",
     "output_type": "stream",
     "text": [
      "Selected optimization level O1:  Insert automatic casts around Pytorch functions and Tensor methods.\n",
      "\n",
      "Defaults for this optimization level are:\n",
      "enabled                : True\n",
      "opt_level              : O1\n",
      "cast_model_type        : None\n",
      "patch_torch_functions  : True\n",
      "keep_batchnorm_fp32    : None\n",
      "master_weights         : None\n",
      "loss_scale             : dynamic\n",
      "Processing user overrides (additional kwargs that are not None)...\n",
      "After processing overrides, optimization options are:\n",
      "enabled                : True\n",
      "opt_level              : O1\n",
      "cast_model_type        : None\n",
      "patch_torch_functions  : True\n",
      "keep_batchnorm_fp32    : None\n",
      "master_weights         : None\n",
      "loss_scale             : dynamic\n",
      "Warning:  multi_tensor_applier fused unscale kernel is unavailable, possibly because apex was installed without --cuda_ext --cpp_ext. Using Python fallback.  Original ImportError was: ModuleNotFoundError(\"No module named 'amp_C'\")\n",
      "Epoch 0/29\n",
      "==========\n"
     ]
    },
    {
     "name": "stderr",
     "output_type": "stream",
     "text": [
      "100%|██████████| 498/498 [02:31<00:00,  3.29it/s]\n",
      "100%|██████████| 166/166 [00:15<00:00, 10.67it/s]\n"
     ]
    },
    {
     "name": "stdout",
     "output_type": "stream",
     "text": [
      "Training Loss: 1.4133\tValidation Loss: 1.3378\n",
      "Counter train preds: Counter({0: 3171, 1: 2178, 5: 974, 3: 583, 4: 559, 2: 497})\tCounter val preds: Counter({1: 964, 0: 951, 2: 237, 4: 185, 3: 164, 5: 153})\n",
      "Epoch train QWK: 0.590\tval QWK: 0.636\n",
      "  Epoch 0 - Save Best Loss: 1.3378 Model\n",
      "Confusion matrix, without normalization\n",
      "[[612 104   1   1   2   3]\n",
      " [171 461  26   6   1   1]\n",
      " [ 38 220  61  10   4   2]\n",
      " [ 41  82  90  60  23  15]\n",
      " [ 50  69  31  37  95  31]\n",
      " [ 39  28  28  50  60 101]]\n",
      "  Epoch 0 - Save Best QWK: 0.6357 Model\n",
      "Confusion matrix, without normalization\n",
      "[[612 104   1   1   2   3]\n",
      " [171 461  26   6   1   1]\n",
      " [ 38 220  61  10   4   2]\n",
      " [ 41  82  90  60  23  15]\n",
      " [ 50  69  31  37  95  31]\n",
      " [ 39  28  28  50  60 101]]\n",
      "Epoch 1/29\n",
      "==========\n"
     ]
    },
    {
     "name": "stderr",
     "output_type": "stream",
     "text": [
      "100%|██████████| 498/498 [02:33<00:00,  3.24it/s]\n",
      "100%|██████████| 166/166 [00:14<00:00, 11.12it/s]\n"
     ]
    },
    {
     "name": "stdout",
     "output_type": "stream",
     "text": [
      "Training Loss: 1.3243\tValidation Loss: 1.2604\n",
      "Counter train preds: Counter({0: 3068, 1: 2105, 5: 931, 3: 659, 4: 614, 2: 585})\tCounter val preds: Counter({0: 1165, 5: 408, 1: 357, 2: 345, 3: 195, 4: 184})\n",
      "Epoch train QWK: 0.663\tval QWK: 0.723\n",
      "  Epoch 1 - Save Best Loss: 1.2604 Model\n",
      "Confusion matrix, without normalization\n",
      "[[694  10   2   1   7   9]\n",
      " [271 243 116  20  13   3]\n",
      " [ 64  69 137  37  19   9]\n",
      " [ 47  18  54  85  32  75]\n",
      " [ 51  14  22  32  88 106]\n",
      " [ 38   3  14  20  25 206]]\n",
      "  Epoch 1 - Save Best QWK: 0.7233 Model\n",
      "Confusion matrix, without normalization\n",
      "[[694  10   2   1   7   9]\n",
      " [271 243 116  20  13   3]\n",
      " [ 64  69 137  37  19   9]\n",
      " [ 47  18  54  85  32  75]\n",
      " [ 51  14  22  32  88 106]\n",
      " [ 38   3  14  20  25 206]]\n",
      "Epoch 2/29\n",
      "==========\n"
     ]
    },
    {
     "name": "stderr",
     "output_type": "stream",
     "text": [
      "100%|██████████| 498/498 [02:32<00:00,  3.26it/s]\n",
      "100%|██████████| 166/166 [00:14<00:00, 11.36it/s]\n"
     ]
    },
    {
     "name": "stdout",
     "output_type": "stream",
     "text": [
      "Training Loss: 1.2768\tValidation Loss: 1.2445\n",
      "Counter train preds: Counter({0: 2990, 1: 2062, 5: 903, 4: 712, 2: 654, 3: 641})\tCounter val preds: Counter({0: 988, 1: 664, 5: 486, 3: 310, 4: 129, 2: 77})\n",
      "Epoch train QWK: 0.694\tval QWK: 0.724\n",
      "  Epoch 2 - Save Best Loss: 1.2445 Model\n",
      "Confusion matrix, without normalization\n",
      "[[652  50   1   2   7  11]\n",
      " [178 413  27  28  11   9]\n",
      " [ 37 139  36  81  13  29]\n",
      " [ 43  31   6 118  19  94]\n",
      " [ 40  26   6  55  64 122]\n",
      " [ 38   5   1  26  15 221]]\n",
      "  Epoch 2 - Save Best QWK: 0.7243 Model\n",
      "Confusion matrix, without normalization\n",
      "[[652  50   1   2   7  11]\n",
      " [178 413  27  28  11   9]\n",
      " [ 37 139  36  81  13  29]\n",
      " [ 43  31   6 118  19  94]\n",
      " [ 40  26   6  55  64 122]\n",
      " [ 38   5   1  26  15 221]]\n",
      "Epoch 3/29\n",
      "==========\n"
     ]
    },
    {
     "name": "stderr",
     "output_type": "stream",
     "text": [
      "100%|██████████| 498/498 [02:32<00:00,  3.26it/s]\n",
      "100%|██████████| 166/166 [00:16<00:00, 10.25it/s]\n"
     ]
    },
    {
     "name": "stdout",
     "output_type": "stream",
     "text": [
      "Training Loss: 1.2524\tValidation Loss: 1.2349\n",
      "Counter train preds: Counter({0: 2952, 1: 2107, 5: 934, 3: 729, 4: 638, 2: 602})\tCounter val preds: Counter({1: 836, 0: 797, 5: 349, 3: 253, 4: 229, 2: 190})\n",
      "Epoch train QWK: 0.708\tval QWK: 0.764\n",
      "  Epoch 3 - Save Best Loss: 1.2349 Model\n",
      "Confusion matrix, without normalization\n",
      "[[583 127   1   0   7   5]\n",
      " [118 459  66  14   9   0]\n",
      " [ 22 150  84  61  10   8]\n",
      " [ 25  42  21 112  56  55]\n",
      " [ 21  46  14  38 112  82]\n",
      " [ 28  12   4  28  35 199]]\n",
      "  Epoch 3 - Save Best QWK: 0.7642 Model\n",
      "Confusion matrix, without normalization\n",
      "[[583 127   1   0   7   5]\n",
      " [118 459  66  14   9   0]\n",
      " [ 22 150  84  61  10   8]\n",
      " [ 25  42  21 112  56  55]\n",
      " [ 21  46  14  38 112  82]\n",
      " [ 28  12   4  28  35 199]]\n",
      "Epoch 4/29\n",
      "==========\n"
     ]
    },
    {
     "name": "stderr",
     "output_type": "stream",
     "text": [
      "100%|██████████| 498/498 [02:33<00:00,  3.25it/s]\n",
      "100%|██████████| 166/166 [00:15<00:00, 10.78it/s]"
     ]
    },
    {
     "name": "stdout",
     "output_type": "stream",
     "text": [
      "Training Loss: 1.2235\tValidation Loss: 1.2475\n",
      "Counter train preds: Counter({0: 2866, 1: 2110, 5: 923, 4: 713, 3: 677, 2: 673})\tCounter val preds: Counter({0: 1068, 1: 627, 4: 370, 3: 248, 5: 245, 2: 96})\n",
      "Epoch train QWK: 0.727\tval QWK: 0.739\n",
      "Epoch 5/29\n",
      "==========\n"
     ]
    },
    {
     "name": "stderr",
     "output_type": "stream",
     "text": [
      "\n",
      "100%|██████████| 498/498 [02:28<00:00,  3.35it/s]\n",
      "100%|██████████| 166/166 [00:14<00:00, 11.65it/s]\n"
     ]
    },
    {
     "name": "stdout",
     "output_type": "stream",
     "text": [
      "Training Loss: 1.2193\tValidation Loss: 1.2217\n",
      "Counter train preds: Counter({0: 2865, 1: 2125, 5: 921, 3: 716, 4: 712, 2: 623})\tCounter val preds: Counter({1: 887, 0: 850, 3: 307, 4: 232, 2: 218, 5: 160})\n",
      "Epoch train QWK: 0.735\tval QWK: 0.727\n",
      "  Epoch 5 - Save Best Loss: 1.2217 Model\n",
      "Confusion matrix, without normalization\n",
      "[[616  87   2   3   9   6]\n",
      " [134 488  24  17   3   0]\n",
      " [ 20 209  74  22   7   3]\n",
      " [ 28  46  73 130  19  15]\n",
      " [ 26  48  24  68 123  24]\n",
      " [ 26   9  21  67  71 112]]\n",
      "Epoch 6/29\n",
      "==========\n"
     ]
    },
    {
     "name": "stderr",
     "output_type": "stream",
     "text": [
      "100%|██████████| 498/498 [02:31<00:00,  3.29it/s]\n",
      "100%|██████████| 166/166 [00:15<00:00, 10.50it/s]"
     ]
    },
    {
     "name": "stdout",
     "output_type": "stream",
     "text": [
      "Training Loss: 1.1916\tValidation Loss: 1.2237\n",
      "Counter train preds: Counter({0: 2830, 1: 2097, 5: 913, 3: 743, 4: 722, 2: 657})\tCounter val preds: Counter({1: 895, 0: 872, 3: 277, 5: 261, 2: 209, 4: 140})\n",
      "Epoch train QWK: 0.751\tval QWK: 0.734\n",
      "Epoch 7/29\n",
      "==========\n"
     ]
    },
    {
     "name": "stderr",
     "output_type": "stream",
     "text": [
      "\n",
      "100%|██████████| 498/498 [02:29<00:00,  3.32it/s]\n",
      "100%|██████████| 166/166 [00:14<00:00, 11.43it/s]"
     ]
    },
    {
     "name": "stdout",
     "output_type": "stream",
     "text": [
      "Training Loss: 1.1780\tValidation Loss: 1.2794\n",
      "Counter train preds: Counter({0: 2802, 1: 2125, 5: 923, 4: 728, 3: 724, 2: 660})\tCounter val preds: Counter({0: 1195, 1: 461, 5: 338, 4: 308, 2: 241, 3: 111})\n",
      "Epoch train QWK: 0.760\tval QWK: 0.724\n",
      "Epoch 8/29\n",
      "==========\n"
     ]
    },
    {
     "name": "stderr",
     "output_type": "stream",
     "text": [
      "\n",
      "  6%|▋         | 32/498 [00:10<02:30,  3.10it/s]"
     ]
    },
    {
     "name": "stdout",
     "output_type": "stream",
     "text": [
      "Gradient overflow.  Skipping step, loss scaler 0 reducing loss scale to 131072.0\n"
     ]
    },
    {
     "name": "stderr",
     "output_type": "stream",
     "text": [
      "100%|██████████| 498/498 [02:35<00:00,  3.20it/s]\n",
      "100%|██████████| 166/166 [00:14<00:00, 11.45it/s]"
     ]
    },
    {
     "name": "stdout",
     "output_type": "stream",
     "text": [
      "Training Loss: 1.1537\tValidation Loss: 1.2326\n",
      "Counter train preds: Counter({0: 2766, 1: 2073, 5: 922, 4: 753, 2: 727, 3: 721})\tCounter val preds: Counter({0: 970, 1: 600, 4: 415, 5: 261, 2: 222, 3: 186})\n",
      "Epoch train QWK: 0.775\tval QWK: 0.742\n",
      "Epoch 9/29\n",
      "==========\n"
     ]
    },
    {
     "name": "stderr",
     "output_type": "stream",
     "text": [
      "\n",
      "100%|██████████| 498/498 [02:32<00:00,  3.27it/s]\n",
      "100%|██████████| 166/166 [00:17<00:00,  9.62it/s]"
     ]
    },
    {
     "name": "stdout",
     "output_type": "stream",
     "text": [
      "Epoch    10: reducing learning rate of group 0 to 5.0000e-05.\n",
      "Training Loss: 1.1571\tValidation Loss: 1.2449\n",
      "Counter train preds: Counter({0: 2746, 1: 2079, 5: 912, 3: 791, 4: 745, 2: 689})\tCounter val preds: Counter({1: 1001, 0: 814, 5: 246, 2: 221, 3: 219, 4: 153})\n",
      "Epoch train QWK: 0.767\tval QWK: 0.717\n",
      "Epoch 10/29\n",
      "==========\n"
     ]
    },
    {
     "name": "stderr",
     "output_type": "stream",
     "text": [
      "\n",
      "100%|██████████| 498/498 [02:31<00:00,  3.28it/s]\n",
      "100%|██████████| 166/166 [00:14<00:00, 11.80it/s]\n"
     ]
    },
    {
     "name": "stdout",
     "output_type": "stream",
     "text": [
      "Training Loss: 1.0783\tValidation Loss: 1.1852\n",
      "Counter train preds: Counter({0: 2674, 1: 2077, 5: 928, 4: 786, 3: 769, 2: 728})\tCounter val preds: Counter({0: 872, 1: 686, 5: 383, 4: 269, 3: 233, 2: 211})\n",
      "Epoch train QWK: 0.814\tval QWK: 0.762\n",
      "  Epoch 10 - Save Best Loss: 1.1852 Model\n",
      "Confusion matrix, without normalization\n",
      "[[633  62   2   5  11  10]\n",
      " [139 424  55  26  22   0]\n",
      " [ 22 136  95  43  22  17]\n",
      " [ 27  31  33 110  43  67]\n",
      " [ 27  27  19  35 128  77]\n",
      " [ 24   6   7  14  43 212]]\n",
      "Epoch 11/29\n",
      "==========\n"
     ]
    },
    {
     "name": "stderr",
     "output_type": "stream",
     "text": [
      "100%|██████████| 498/498 [02:26<00:00,  3.40it/s]\n",
      "100%|██████████| 166/166 [00:14<00:00, 11.79it/s]\n"
     ]
    },
    {
     "name": "stdout",
     "output_type": "stream",
     "text": [
      "Training Loss: 1.0550\tValidation Loss: 1.2170\n",
      "Counter train preds: Counter({0: 2645, 1: 2025, 5: 936, 4: 803, 2: 797, 3: 756})\tCounter val preds: Counter({0: 968, 1: 566, 5: 453, 2: 265, 3: 220, 4: 182})\n",
      "Epoch train QWK: 0.819\tval QWK: 0.766\n",
      "  Epoch 11 - Save Best QWK: 0.7663 Model\n",
      "Confusion matrix, without normalization\n",
      "[[662  45   2   4   3   7]\n",
      " [181 366  84  13  15   7]\n",
      " [ 35  99 121  45  16  19]\n",
      " [ 32  23  34 109  27  86]\n",
      " [ 31  29  15  38  97 103]\n",
      " [ 27   4   9  11  24 231]]\n",
      "Epoch 12/29\n",
      "==========\n"
     ]
    },
    {
     "name": "stderr",
     "output_type": "stream",
     "text": [
      "  8%|▊         | 42/498 [00:13<02:11,  3.47it/s]"
     ]
    },
    {
     "name": "stdout",
     "output_type": "stream",
     "text": [
      "Gradient overflow.  Skipping step, loss scaler 0 reducing loss scale to 131072.0\n"
     ]
    },
    {
     "name": "stderr",
     "output_type": "stream",
     "text": [
      "100%|██████████| 498/498 [02:27<00:00,  3.37it/s]\n",
      "100%|██████████| 166/166 [00:16<00:00, 10.31it/s]"
     ]
    },
    {
     "name": "stdout",
     "output_type": "stream",
     "text": [
      "Training Loss: 1.0295\tValidation Loss: 1.2241\n",
      "Counter train preds: Counter({0: 2631, 1: 2021, 5: 895, 2: 815, 4: 801, 3: 799})\tCounter val preds: Counter({0: 921, 1: 797, 5: 258, 3: 255, 4: 222, 2: 201})\n",
      "Epoch train QWK: 0.821\tval QWK: 0.754\n",
      "Epoch 13/29\n",
      "==========\n"
     ]
    },
    {
     "name": "stderr",
     "output_type": "stream",
     "text": [
      "\n",
      "100%|██████████| 498/498 [02:34<00:00,  3.22it/s]\n",
      "100%|██████████| 166/166 [00:14<00:00, 11.82it/s]"
     ]
    },
    {
     "name": "stdout",
     "output_type": "stream",
     "text": [
      "Training Loss: 1.0086\tValidation Loss: 1.2355\n",
      "Counter train preds: Counter({0: 2553, 1: 2047, 5: 940, 2: 815, 4: 813, 3: 794})\tCounter val preds: Counter({0: 995, 1: 581, 2: 387, 5: 293, 3: 214, 4: 184})\n",
      "Epoch train QWK: 0.843\tval QWK: 0.752\n",
      "Epoch 14/29\n",
      "==========\n"
     ]
    },
    {
     "name": "stderr",
     "output_type": "stream",
     "text": [
      "\n",
      "100%|██████████| 498/498 [02:30<00:00,  3.32it/s]\n",
      "100%|██████████| 166/166 [00:14<00:00, 11.78it/s]"
     ]
    },
    {
     "name": "stdout",
     "output_type": "stream",
     "text": [
      "Epoch    15: reducing learning rate of group 0 to 2.5000e-05.\n",
      "Training Loss: 0.9891\tValidation Loss: 1.2672\n",
      "Counter train preds: Counter({0: 2550, 1: 2031, 5: 919, 3: 833, 2: 832, 4: 797})\tCounter val preds: Counter({0: 854, 1: 731, 4: 385, 5: 364, 2: 190, 3: 130})\n",
      "Epoch train QWK: 0.844\tval QWK: 0.763\n",
      "Epoch 15/29\n",
      "==========\n"
     ]
    },
    {
     "name": "stderr",
     "output_type": "stream",
     "text": [
      "\n",
      "100%|██████████| 498/498 [02:34<00:00,  3.23it/s]\n",
      "100%|██████████| 166/166 [00:15<00:00, 10.71it/s]\n"
     ]
    },
    {
     "name": "stdout",
     "output_type": "stream",
     "text": [
      "Training Loss: 0.9256\tValidation Loss: 1.2372\n",
      "Counter train preds: Counter({0: 2517, 1: 2001, 5: 894, 2: 886, 4: 846, 3: 818})\tCounter val preds: Counter({0: 888, 1: 612, 3: 362, 2: 285, 5: 260, 4: 247})\n",
      "Epoch train QWK: 0.868\tval QWK: 0.767\n",
      "  Epoch 15 - Save Best QWK: 0.7666 Model\n",
      "Confusion matrix, without normalization\n",
      "[[631  70   3  13   2   4]\n",
      " [146 389  85  35   9   2]\n",
      " [ 27  98 137  56  13   4]\n",
      " [ 30  21  39 151  38  32]\n",
      " [ 30  21  15  67 135  45]\n",
      " [ 24  13   6  40  50 173]]\n",
      "Epoch 16/29\n",
      "==========\n"
     ]
    },
    {
     "name": "stderr",
     "output_type": "stream",
     "text": [
      " 13%|█▎        | 67/498 [00:20<02:05,  3.43it/s]"
     ]
    },
    {
     "name": "stdout",
     "output_type": "stream",
     "text": [
      "Gradient overflow.  Skipping step, loss scaler 0 reducing loss scale to 131072.0\n"
     ]
    },
    {
     "name": "stderr",
     "output_type": "stream",
     "text": [
      "100%|██████████| 498/498 [02:30<00:00,  3.31it/s]\n",
      "100%|██████████| 166/166 [00:14<00:00, 11.39it/s]"
     ]
    },
    {
     "name": "stdout",
     "output_type": "stream",
     "text": [
      "Training Loss: 0.9068\tValidation Loss: 1.2451\n",
      "Counter train preds: Counter({0: 2501, 1: 1981, 5: 924, 2: 901, 3: 831, 4: 824})\tCounter val preds: Counter({0: 868, 1: 740, 2: 287, 3: 280, 5: 247, 4: 232})\n",
      "Epoch train QWK: 0.876\tval QWK: 0.754\n",
      "Epoch 17/29\n",
      "==========\n"
     ]
    },
    {
     "name": "stderr",
     "output_type": "stream",
     "text": [
      "\n",
      "100%|██████████| 498/498 [02:32<00:00,  3.27it/s]\n",
      "100%|██████████| 166/166 [00:15<00:00, 10.44it/s]"
     ]
    },
    {
     "name": "stdout",
     "output_type": "stream",
     "text": [
      "Training Loss: 0.8845\tValidation Loss: 1.2586\n",
      "Counter train preds: Counter({0: 2483, 1: 1987, 5: 913, 2: 888, 4: 866, 3: 825})\tCounter val preds: Counter({0: 844, 1: 579, 5: 348, 3: 298, 2: 296, 4: 289})\n",
      "Epoch train QWK: 0.881\tval QWK: 0.764\n",
      "Epoch 18/29\n",
      "==========\n"
     ]
    },
    {
     "name": "stderr",
     "output_type": "stream",
     "text": [
      "\n",
      "100%|██████████| 498/498 [02:31<00:00,  3.29it/s]\n",
      "100%|██████████| 166/166 [00:15<00:00, 10.56it/s]"
     ]
    },
    {
     "name": "stdout",
     "output_type": "stream",
     "text": [
      "Epoch    19: reducing learning rate of group 0 to 1.2500e-05.\n",
      "Training Loss: 0.8628\tValidation Loss: 1.2978\n",
      "Counter train preds: Counter({0: 2465, 1: 1989, 5: 915, 2: 894, 4: 864, 3: 835})\tCounter val preds: Counter({0: 817, 1: 634, 2: 407, 5: 305, 3: 289, 4: 202})\n",
      "Epoch train QWK: 0.893\tval QWK: 0.763\n",
      "Epoch 19/29\n",
      "==========\n"
     ]
    },
    {
     "name": "stderr",
     "output_type": "stream",
     "text": [
      "\n",
      "100%|██████████| 498/498 [02:34<00:00,  3.23it/s]\n",
      "100%|██████████| 166/166 [00:14<00:00, 11.44it/s]\n"
     ]
    },
    {
     "name": "stdout",
     "output_type": "stream",
     "text": [
      "Training Loss: 0.8329\tValidation Loss: 1.2674\n",
      "Counter train preds: Counter({0: 2413, 1: 2033, 2: 935, 5: 906, 4: 867, 3: 808})\tCounter val preds: Counter({0: 843, 1: 638, 2: 380, 5: 292, 4: 253, 3: 248})\n",
      "Epoch train QWK: 0.897\tval QWK: 0.771\n",
      "  Epoch 19 - Save Best QWK: 0.7708 Model\n",
      "Confusion matrix, without normalization\n",
      "[[617  87   7   4   3   5]\n",
      " [127 398 113  17   7   4]\n",
      " [ 23  95 157  44  13   3]\n",
      " [ 25  24  64 112  44  42]\n",
      " [ 24  25  26  42 135  61]\n",
      " [ 27   9  13  29  51 177]]\n",
      "Epoch 20/29\n",
      "==========\n"
     ]
    },
    {
     "name": "stderr",
     "output_type": "stream",
     "text": [
      " 18%|█▊        | 90/498 [00:28<02:00,  3.39it/s]"
     ]
    },
    {
     "name": "stdout",
     "output_type": "stream",
     "text": [
      "Gradient overflow.  Skipping step, loss scaler 0 reducing loss scale to 131072.0\n"
     ]
    },
    {
     "name": "stderr",
     "output_type": "stream",
     "text": [
      "100%|██████████| 498/498 [02:30<00:00,  3.30it/s]\n",
      "100%|██████████| 166/166 [00:14<00:00, 11.74it/s]\n"
     ]
    },
    {
     "name": "stdout",
     "output_type": "stream",
     "text": [
      "Training Loss: 0.8309\tValidation Loss: 1.2587\n",
      "Counter train preds: Counter({0: 2444, 1: 1971, 2: 946, 5: 906, 4: 855, 3: 840})\tCounter val preds: Counter({0: 905, 1: 645, 5: 348, 2: 288, 4: 254, 3: 214})\n",
      "Epoch train QWK: 0.895\tval QWK: 0.772\n",
      "  Epoch 20 - Save Best QWK: 0.7721 Model\n",
      "Confusion matrix, without normalization\n",
      "[[638  67   7   5   2   4]\n",
      " [156 399  82  11  13   5]\n",
      " [ 27 112 129  38  19  10]\n",
      " [ 30  31  46 104  49  51]\n",
      " [ 29  25  16  32 137  74]\n",
      " [ 25  11   8  24  34 204]]\n",
      "Epoch 21/29\n",
      "==========\n"
     ]
    },
    {
     "name": "stderr",
     "output_type": "stream",
     "text": [
      "100%|██████████| 498/498 [02:33<00:00,  3.25it/s]\n",
      "100%|██████████| 166/166 [00:16<00:00, 10.07it/s]"
     ]
    },
    {
     "name": "stdout",
     "output_type": "stream",
     "text": [
      "Training Loss: 0.8118\tValidation Loss: 1.2990\n",
      "Counter train preds: Counter({0: 2425, 1: 1992, 2: 920, 5: 913, 4: 863, 3: 849})\tCounter val preds: Counter({0: 863, 1: 560, 2: 397, 4: 287, 3: 274, 5: 273})\n",
      "Epoch train QWK: 0.904\tval QWK: 0.766\n",
      "Epoch 22/29\n",
      "==========\n"
     ]
    },
    {
     "name": "stderr",
     "output_type": "stream",
     "text": [
      "\n",
      "100%|██████████| 498/498 [02:27<00:00,  3.37it/s]\n",
      "100%|██████████| 166/166 [00:14<00:00, 11.43it/s]\n"
     ]
    },
    {
     "name": "stdout",
     "output_type": "stream",
     "text": [
      "Epoch    23: reducing learning rate of group 0 to 6.2500e-06.\n",
      "Training Loss: 0.8106\tValidation Loss: 1.2867\n",
      "Counter train preds: Counter({0: 2392, 1: 2022, 2: 934, 5: 910, 4: 880, 3: 824})\tCounter val preds: Counter({0: 844, 1: 588, 2: 388, 5: 310, 4: 274, 3: 250})\n",
      "Epoch train QWK: 0.898\tval QWK: 0.773\n",
      "  Epoch 22 - Save Best QWK: 0.7731 Model\n",
      "Confusion matrix, without normalization\n",
      "[[610  87  10   6   5   5]\n",
      " [139 365 121  26  10   5]\n",
      " [ 24  80 164  46  17   4]\n",
      " [ 21  24  62 114  45  45]\n",
      " [ 25  24  18  39 147  60]\n",
      " [ 25   8  13  19  50 191]]\n",
      "Epoch 23/29\n",
      "==========\n"
     ]
    },
    {
     "name": "stderr",
     "output_type": "stream",
     "text": [
      "100%|██████████| 498/498 [02:29<00:00,  3.33it/s]\n",
      "100%|██████████| 166/166 [00:14<00:00, 11.55it/s]"
     ]
    },
    {
     "name": "stdout",
     "output_type": "stream",
     "text": [
      "Training Loss: 0.7927\tValidation Loss: 1.2908\n",
      "Counter train preds: Counter({0: 2397, 1: 1984, 5: 944, 2: 931, 3: 874, 4: 832})\tCounter val preds: Counter({0: 840, 1: 644, 2: 377, 5: 274, 3: 270, 4: 249})\n",
      "Epoch train QWK: 0.906\tval QWK: 0.766\n",
      "Epoch 24/29\n",
      "==========\n"
     ]
    },
    {
     "name": "stderr",
     "output_type": "stream",
     "text": [
      "\n",
      " 41%|████      | 204/498 [01:01<01:24,  3.47it/s]"
     ]
    },
    {
     "name": "stdout",
     "output_type": "stream",
     "text": [
      "Gradient overflow.  Skipping step, loss scaler 0 reducing loss scale to 131072.0\n"
     ]
    },
    {
     "name": "stderr",
     "output_type": "stream",
     "text": [
      "100%|██████████| 498/498 [02:30<00:00,  3.30it/s]\n",
      "100%|██████████| 166/166 [00:15<00:00, 10.47it/s]"
     ]
    },
    {
     "name": "stdout",
     "output_type": "stream",
     "text": [
      "Training Loss: 0.7887\tValidation Loss: 1.2833\n",
      "Counter train preds: Counter({0: 2403, 1: 1975, 2: 947, 5: 891, 4: 890, 3: 856})\tCounter val preds: Counter({0: 863, 1: 672, 2: 376, 4: 297, 5: 265, 3: 181})\n",
      "Epoch train QWK: 0.906\tval QWK: 0.760\n",
      "Epoch 25/29\n",
      "==========\n"
     ]
    },
    {
     "name": "stderr",
     "output_type": "stream",
     "text": [
      "\n",
      "100%|██████████| 498/498 [02:29<00:00,  3.33it/s]\n",
      "100%|██████████| 166/166 [00:14<00:00, 11.74it/s]"
     ]
    },
    {
     "name": "stdout",
     "output_type": "stream",
     "text": [
      "Training Loss: 0.7820\tValidation Loss: 1.2766\n",
      "Counter train preds: Counter({0: 2399, 1: 1977, 2: 951, 5: 904, 4: 874, 3: 857})\tCounter val preds: Counter({0: 859, 1: 629, 2: 323, 3: 313, 5: 275, 4: 255})\n",
      "Epoch train QWK: 0.907\tval QWK: 0.765\n",
      "Epoch 26/29\n",
      "==========\n"
     ]
    },
    {
     "name": "stderr",
     "output_type": "stream",
     "text": [
      "\n",
      "100%|██████████| 498/498 [02:28<00:00,  3.35it/s]\n",
      "100%|██████████| 166/166 [00:14<00:00, 11.55it/s]"
     ]
    },
    {
     "name": "stdout",
     "output_type": "stream",
     "text": [
      "Epoch    27: reducing learning rate of group 0 to 3.1250e-06.\n",
      "Training Loss: 0.7875\tValidation Loss: 1.2824\n",
      "Counter train preds: Counter({0: 2443, 1: 1964, 2: 935, 5: 905, 3: 877, 4: 838})\tCounter val preds: Counter({0: 838, 1: 655, 2: 371, 5: 292, 3: 290, 4: 208})\n",
      "Epoch train QWK: 0.906\tval QWK: 0.759\n",
      "Epoch 27/29\n",
      "==========\n"
     ]
    },
    {
     "name": "stderr",
     "output_type": "stream",
     "text": [
      "\n",
      "100%|██████████| 498/498 [02:29<00:00,  3.32it/s]\n",
      "100%|██████████| 166/166 [00:15<00:00, 10.60it/s]"
     ]
    },
    {
     "name": "stdout",
     "output_type": "stream",
     "text": [
      "Training Loss: 0.7610\tValidation Loss: 1.3068\n",
      "Counter train preds: Counter({0: 2411, 1: 1954, 2: 952, 5: 937, 4: 861, 3: 847})\tCounter val preds: Counter({0: 886, 1: 561, 2: 348, 3: 338, 5: 284, 4: 237})\n",
      "Epoch train QWK: 0.917\tval QWK: 0.759\n",
      "Epoch 28/29\n",
      "==========\n"
     ]
    },
    {
     "name": "stderr",
     "output_type": "stream",
     "text": [
      "\n",
      " 51%|█████▏    | 256/498 [01:17<01:09,  3.46it/s]"
     ]
    },
    {
     "name": "stdout",
     "output_type": "stream",
     "text": [
      "Gradient overflow.  Skipping step, loss scaler 0 reducing loss scale to 131072.0\n"
     ]
    },
    {
     "name": "stderr",
     "output_type": "stream",
     "text": [
      "100%|██████████| 498/498 [02:29<00:00,  3.34it/s]\n",
      "100%|██████████| 166/166 [00:14<00:00, 11.39it/s]"
     ]
    },
    {
     "name": "stdout",
     "output_type": "stream",
     "text": [
      "Training Loss: 0.7612\tValidation Loss: 1.2853\n",
      "Counter train preds: Counter({0: 2396, 1: 1962, 2: 947, 5: 916, 4: 880, 3: 861})\tCounter val preds: Counter({0: 855, 1: 665, 2: 342, 5: 313, 3: 248, 4: 231})\n",
      "Epoch train QWK: 0.917\tval QWK: 0.764\n",
      "Epoch 29/29\n",
      "==========\n"
     ]
    },
    {
     "name": "stderr",
     "output_type": "stream",
     "text": [
      "\n",
      "100%|██████████| 498/498 [02:27<00:00,  3.38it/s]\n",
      "100%|██████████| 166/166 [00:14<00:00, 11.73it/s]"
     ]
    },
    {
     "name": "stdout",
     "output_type": "stream",
     "text": [
      "Training Loss: 0.7683\tValidation Loss: 1.2812\n",
      "Counter train preds: Counter({0: 2405, 1: 1990, 2: 934, 5: 886, 4: 880, 3: 867})\tCounter val preds: Counter({0: 888, 1: 609, 2: 364, 5: 295, 3: 262, 4: 236})\n",
      "Epoch train QWK: 0.914\tval QWK: 0.762\n"
     ]
    },
    {
     "name": "stderr",
     "output_type": "stream",
     "text": [
      "\n"
     ]
    }
   ],
   "source": [
    "train_df = folds[folds[\"fold\"] != 0].copy()\n",
    "val_df = folds[folds[\"fold\"] == 0].copy()\n",
    "train_ds = LazyTilesDataset(train_df, transform=get_transforms(data=\"train\", aug=\"heavy\"), debug=False) # NOTE! it is predefined 36-tiles images\n",
    "val_ds = LazyTilesDataset(val_df, transform=get_transforms(data=\"valid\"), debug=False)\n",
    "\n",
    "model_ft = make_RN50_cls()\n",
    "# initialize bias in the model\n",
    "cls_probas = (train_df[CFG.target_col].value_counts() / len(train_df)).values\n",
    "model_ft = init_last_layer_bias(model_ft, cls_probas)\n",
    "\n",
    "criterion = LOSSES[CFG.loss]\n",
    "optimizer = torch.optim.Adam(model_ft.parameters(), lr=CFG.lr, amsgrad=False)\n",
    "train_eval_loop(train_ds, val_ds, model_ft, optimizer, criterion, num_epochs=30)"
   ]
  },
  {
   "cell_type": "markdown",
   "metadata": {},
   "source": [
    "### Experiment Run"
   ]
  },
  {
   "cell_type": "code",
   "execution_count": 17,
   "metadata": {},
   "outputs": [
    {
     "name": "stdout",
     "output_type": "stream",
     "text": [
      "debug: False\n",
      " seed: 1982\n",
      " img_height: 768\n",
      " img_width: 768\n",
      " target_size: 6\n",
      " img_id_col: image_id\n",
      " target_col: isup_grade\n",
      " tiff_layer: 1\n",
      " stoch_sample: True\n",
      " num_tiles: 36\n",
      " tile_sz: 128\n",
      " batch_size: 8\n",
      " use_lazy: False\n",
      " aug_type: light\n",
      " finetune: False\n",
      " model_cls: one_layer\n",
      " schedule_type: reduce_on_plateau\n",
      " cawr_T: 1\n",
      " cawr_Tmult: 2\n",
      " loss: ls_soft_ce\n",
      " optim: radam\n",
      " lr: 0.0003\n",
      " rlopp: 1\n",
      " epoch: 50\n",
      " n_fold: 4\n",
      " use_amp: True\n",
      "\n"
     ]
    }
   ],
   "source": [
    "print(\" \".join([f\"{key}: {val}\\n\" for key, val in CFG.__dict__.items() if not key.startswith(\"__\")]))"
   ]
  },
  {
   "cell_type": "code",
   "execution_count": 18,
   "metadata": {},
   "outputs": [],
   "source": [
    "writer.add_text(\"Experiment Description:\", \" \".join([f\"{key}: {val}\\n\" for key, val in CFG.__dict__.items() if not key.startswith(\"__\")]))"
   ]
  },
  {
   "cell_type": "code",
   "execution_count": 21,
   "metadata": {},
   "outputs": [],
   "source": [
    "# schedulers\n",
    "def get_scheduler(optimizer,train_dataloader, schedule_type=CFG.schedule_type, resume=False):\n",
    "    assert schedule_type in SCHEDULERS, f\"{schedule_type} not in SCHEDULERS\"\n",
    "    if schedule_type == \"reduce_on_plateau\":\n",
    "        return (SCHEDULERS[schedule_type][0](optimizer, 'min', factor=0.5, patience=CFG.rlopp if not resume else CFG.rlopp + 2, verbose=True), \n",
    "                SCHEDULERS[schedule_type][1])\n",
    "    if schedule_type == \"one_cycle\":\n",
    "        return (SCHEDULERS[schedule_type][0](optimizer, max_lr=[CFG.lr, CFG.lr*10] if CFG.finetune == \"1stage\" else CFG.lr,\n",
    "                                             steps_per_epoch=len(train_dataloader), epochs=CFG.epoch, pct_start=0.05),\n",
    "                SCHEDULERS[schedule_type][1])\n",
    "    if schedule_type == \"cawr\":\n",
    "        return (SCHEDULERS[schedule_type][0](optimizer, T_0=len(train_dataloader)*CFG.cawr_T, T_mult=CFG.cawr_Tmult),\n",
    "                SCHEDULERS[schedule_type][1])"
   ]
  },
  {
   "cell_type": "code",
   "execution_count": 20,
   "metadata": {
    "collapsed": true,
    "jupyter": {
     "outputs_hidden": true
    }
   },
   "outputs": [
    {
     "name": "stdout",
     "output_type": "stream",
     "text": [
      "Selected optimization level O1:  Insert automatic casts around Pytorch functions and Tensor methods.\n",
      "\n",
      "Defaults for this optimization level are:\n",
      "enabled                : True\n",
      "opt_level              : O1\n",
      "cast_model_type        : None\n",
      "patch_torch_functions  : True\n",
      "keep_batchnorm_fp32    : None\n",
      "master_weights         : None\n",
      "loss_scale             : dynamic\n",
      "Processing user overrides (additional kwargs that are not None)...\n",
      "After processing overrides, optimization options are:\n",
      "enabled                : True\n",
      "opt_level              : O1\n",
      "cast_model_type        : None\n",
      "patch_torch_functions  : True\n",
      "keep_batchnorm_fp32    : None\n",
      "master_weights         : None\n",
      "loss_scale             : dynamic\n",
      "Warning:  multi_tensor_applier fused unscale kernel is unavailable, possibly because apex was installed without --cuda_ext --cpp_ext. Using Python fallback.  Original ImportError was: ModuleNotFoundError(\"No module named 'amp_C'\")\n",
      "Epoch 0/49\n",
      "==========\n"
     ]
    },
    {
     "name": "stderr",
     "output_type": "stream",
     "text": [
      "  0%|          | 0/996 [00:00<?, ?it/s]/pytorch/torch/csrc/utils/python_arg_parser.cpp:756: UserWarning: This overload of addcmul_ is deprecated:\n",
      "\taddcmul_(Number value, Tensor tensor1, Tensor tensor2)\n",
      "Consider using one of the following signatures instead:\n",
      "\taddcmul_(Tensor tensor1, Tensor tensor2, *, Number value)\n",
      "100%|██████████| 996/996 [06:08<00:00,  2.70it/s]\n",
      "100%|██████████| 332/332 [01:54<00:00,  2.91it/s]\n"
     ]
    },
    {
     "name": "stdout",
     "output_type": "stream",
     "text": [
      "Training Loss: 1.4196\tValidation Loss: 1.4186\n",
      "Counter train preds: Counter({0: 3206, 1: 2206, 5: 933, 4: 569, 3: 564, 2: 484})\tCounter val preds: Counter({0: 1457, 1: 633, 2: 256, 5: 241, 4: 35, 3: 32})\n",
      "Epoch train QWK: 0.564\tval QWK: 0.461\n",
      "  Epoch 0 - Save Best Loss: 1.4186 Model\n",
      "Confusion matrix, without normalization\n",
      "[[708  13   1   0   0   1]\n",
      " [291 330  43   1   1   0]\n",
      " [ 89 155  85   2   0   4]\n",
      " [102  76  80  12   2  39]\n",
      " [152  45  28  12  23  53]\n",
      " [115  14  19   5   9 144]]\n",
      "  Epoch 0 - Save Best QWK: 0.4606 Model\n",
      "Confusion matrix, without normalization\n",
      "[[708  13   1   0   0   1]\n",
      " [291 330  43   1   1   0]\n",
      " [ 89 155  85   2   0   4]\n",
      " [102  76  80  12   2  39]\n",
      " [152  45  28  12  23  53]\n",
      " [115  14  19   5   9 144]]\n",
      "Epoch 1/49\n",
      "==========\n"
     ]
    },
    {
     "name": "stderr",
     "output_type": "stream",
     "text": [
      "100%|██████████| 996/996 [06:10<00:00,  2.69it/s]\n",
      "100%|██████████| 332/332 [01:51<00:00,  2.99it/s]\n"
     ]
    },
    {
     "name": "stdout",
     "output_type": "stream",
     "text": [
      "Training Loss: 1.3354\tValidation Loss: 1.2961\n",
      "Counter train preds: Counter({0: 2990, 1: 2210, 5: 955, 4: 689, 3: 569, 2: 549})\tCounter val preds: Counter({0: 973, 1: 391, 5: 381, 2: 356, 4: 303, 3: 250})\n",
      "Epoch train QWK: 0.646\tval QWK: 0.725\n",
      "  Epoch 1 - Save Best Loss: 1.2961 Model\n",
      "Confusion matrix, without normalization\n",
      "[[662  30   7   7  10   7]\n",
      " [166 269 166  47  11   7]\n",
      " [ 40  53 123  82  14  23]\n",
      " [ 34  16  34  66  59 102]\n",
      " [ 38  16  17  34 142  66]\n",
      " [ 33   7   9  14  67 176]]\n",
      "  Epoch 1 - Save Best QWK: 0.7246 Model\n",
      "Confusion matrix, without normalization\n",
      "[[662  30   7   7  10   7]\n",
      " [166 269 166  47  11   7]\n",
      " [ 40  53 123  82  14  23]\n",
      " [ 34  16  34  66  59 102]\n",
      " [ 38  16  17  34 142  66]\n",
      " [ 33   7   9  14  67 176]]\n",
      "Epoch 2/49\n",
      "==========\n"
     ]
    },
    {
     "name": "stderr",
     "output_type": "stream",
     "text": [
      " 47%|████▋     | 465/996 [02:47<03:05,  2.86it/s]"
     ]
    },
    {
     "name": "stdout",
     "output_type": "stream",
     "text": [
      "Gradient overflow.  Skipping step, loss scaler 0 reducing loss scale to 65536.0\n"
     ]
    },
    {
     "name": "stderr",
     "output_type": "stream",
     "text": [
      "100%|██████████| 996/996 [05:52<00:00,  2.83it/s]\n",
      "100%|██████████| 332/332 [01:46<00:00,  3.11it/s]\n"
     ]
    },
    {
     "name": "stdout",
     "output_type": "stream",
     "text": [
      "Training Loss: 1.3099\tValidation Loss: 1.2313\n",
      "Counter train preds: Counter({0: 2983, 1: 2195, 5: 965, 4: 675, 3: 608, 2: 536})\tCounter val preds: Counter({0: 948, 1: 767, 5: 508, 3: 226, 2: 119, 4: 86})\n",
      "Epoch train QWK: 0.665\tval QWK: 0.724\n",
      "  Epoch 2 - Save Best Loss: 1.2313 Model\n",
      "Confusion matrix, without normalization\n",
      "[[650  66   1   1   2   3]\n",
      " [136 470  33  22   3   2]\n",
      " [ 26 145  66  62   3  33]\n",
      " [ 45  38  10  88  14 116]\n",
      " [ 45  39   6  40  53 130]\n",
      " [ 46   9   3  13  11 224]]\n",
      "Epoch 3/49\n",
      "==========\n"
     ]
    },
    {
     "name": "stderr",
     "output_type": "stream",
     "text": [
      "100%|██████████| 996/996 [05:50<00:00,  2.84it/s]\n",
      "100%|██████████| 332/332 [01:47<00:00,  3.08it/s]\n"
     ]
    },
    {
     "name": "stdout",
     "output_type": "stream",
     "text": [
      "Training Loss: 1.2812\tValidation Loss: 1.2633\n",
      "Counter train preds: Counter({0: 2942, 1: 2196, 5: 1003, 4: 673, 3: 601, 2: 547})\tCounter val preds: Counter({1: 1008, 0: 760, 5: 480, 2: 188, 3: 146, 4: 72})\n",
      "Epoch train QWK: 0.677\tval QWK: 0.742\n",
      "  Epoch 3 - Save Best QWK: 0.7417 Model\n",
      "Confusion matrix, without normalization\n",
      "[[589 112   1   1   2  18]\n",
      " [ 90 551  11   4   2   8]\n",
      " [ 15 203  79  23   2  13]\n",
      " [ 23  68  64  62  10  84]\n",
      " [ 25  59  18  37  37 137]\n",
      " [ 18  15  15  19  19 220]]\n",
      "Epoch 4/49\n",
      "==========\n"
     ]
    },
    {
     "name": "stderr",
     "output_type": "stream",
     "text": [
      " 60%|█████▉    | 595/996 [03:30<02:19,  2.87it/s]"
     ]
    },
    {
     "name": "stdout",
     "output_type": "stream",
     "text": [
      "Gradient overflow.  Skipping step, loss scaler 0 reducing loss scale to 65536.0\n"
     ]
    },
    {
     "name": "stderr",
     "output_type": "stream",
     "text": [
      "100%|██████████| 996/996 [05:50<00:00,  2.84it/s]\n",
      "100%|██████████| 332/332 [01:46<00:00,  3.11it/s]"
     ]
    },
    {
     "name": "stdout",
     "output_type": "stream",
     "text": [
      "Epoch     5: reducing learning rate of group 0 to 1.5000e-04.\n",
      "Training Loss: 1.2646\tValidation Loss: 1.2980\n",
      "Counter train preds: Counter({0: 2921, 1: 2294, 5: 964, 4: 653, 3: 606, 2: 524})\tCounter val preds: Counter({0: 1050, 1: 822, 3: 383, 4: 178, 5: 142, 2: 79})\n",
      "Epoch train QWK: 0.684\tval QWK: 0.681\n",
      "Epoch 5/49\n",
      "==========\n"
     ]
    },
    {
     "name": "stderr",
     "output_type": "stream",
     "text": [
      "\n",
      "100%|██████████| 996/996 [05:49<00:00,  2.85it/s]\n",
      "100%|██████████| 332/332 [01:46<00:00,  3.10it/s]\n"
     ]
    },
    {
     "name": "stdout",
     "output_type": "stream",
     "text": [
      "Training Loss: 1.2017\tValidation Loss: 1.2230\n",
      "Counter train preds: Counter({0: 2849, 1: 2213, 5: 929, 4: 735, 3: 643, 2: 593})\tCounter val preds: Counter({0: 873, 1: 510, 3: 411, 5: 391, 4: 307, 2: 162})\n",
      "Epoch train QWK: 0.741\tval QWK: 0.785\n",
      "  Epoch 5 - Save Best Loss: 1.2230 Model\n",
      "Confusion matrix, without normalization\n",
      "[[649  48   2   5   7  12]\n",
      " [143 360  75  72  10   6]\n",
      " [ 19  71  70 133  22  20]\n",
      " [ 28  14   9 117  69  74]\n",
      " [ 15  14   4  56 145  79]\n",
      " [ 19   3   2  28  54 200]]\n",
      "  Epoch 5 - Save Best QWK: 0.7851 Model\n",
      "Confusion matrix, without normalization\n",
      "[[649  48   2   5   7  12]\n",
      " [143 360  75  72  10   6]\n",
      " [ 19  71  70 133  22  20]\n",
      " [ 28  14   9 117  69  74]\n",
      " [ 15  14   4  56 145  79]\n",
      " [ 19   3   2  28  54 200]]\n",
      "Epoch 6/49\n",
      "==========\n"
     ]
    },
    {
     "name": "stderr",
     "output_type": "stream",
     "text": [
      "100%|██████████| 996/996 [05:47<00:00,  2.87it/s]\n",
      "100%|██████████| 332/332 [01:46<00:00,  3.13it/s]\n"
     ]
    },
    {
     "name": "stdout",
     "output_type": "stream",
     "text": [
      "Training Loss: 1.1781\tValidation Loss: 1.1740\n",
      "Counter train preds: Counter({0: 2801, 1: 2170, 5: 912, 4: 759, 3: 672, 2: 648})\tCounter val preds: Counter({1: 921, 0: 798, 3: 299, 5: 299, 2: 201, 4: 136})\n",
      "Epoch train QWK: 0.756\tval QWK: 0.773\n",
      "  Epoch 6 - Save Best Loss: 1.1740 Model\n",
      "Confusion matrix, without normalization\n",
      "[[611 105   1   2   0   4]\n",
      " [ 90 534  29  11   2   0]\n",
      " [ 16 183  90  41   3   2]\n",
      " [ 34  44  47 138  17  31]\n",
      " [ 23  42  21  63  93  71]\n",
      " [ 24  13  13  44  21 191]]\n",
      "Epoch 7/49\n",
      "==========\n"
     ]
    },
    {
     "name": "stderr",
     "output_type": "stream",
     "text": [
      "100%|██████████| 996/996 [05:47<00:00,  2.87it/s]\n",
      "100%|██████████| 332/332 [01:45<00:00,  3.14it/s]"
     ]
    },
    {
     "name": "stdout",
     "output_type": "stream",
     "text": [
      "Training Loss: 1.1733\tValidation Loss: 1.2070\n",
      "Counter train preds: Counter({0: 2786, 1: 2199, 5: 925, 4: 735, 3: 671, 2: 646})\tCounter val preds: Counter({0: 768, 1: 672, 5: 512, 2: 309, 4: 241, 3: 152})\n",
      "Epoch train QWK: 0.755\tval QWK: 0.771\n",
      "Epoch 8/49\n",
      "==========\n"
     ]
    },
    {
     "name": "stderr",
     "output_type": "stream",
     "text": [
      "\n",
      "  0%|          | 1/996 [00:02<42:16,  2.55s/it]"
     ]
    },
    {
     "name": "stdout",
     "output_type": "stream",
     "text": [
      "Gradient overflow.  Skipping step, loss scaler 0 reducing loss scale to 65536.0\n"
     ]
    },
    {
     "name": "stderr",
     "output_type": "stream",
     "text": [
      "100%|██████████| 996/996 [05:48<00:00,  2.86it/s]\n",
      "100%|██████████| 332/332 [01:46<00:00,  3.12it/s]\n"
     ]
    },
    {
     "name": "stdout",
     "output_type": "stream",
     "text": [
      "Training Loss: 1.1565\tValidation Loss: 1.1575\n",
      "Counter train preds: Counter({0: 2722, 1: 2183, 5: 930, 4: 767, 2: 713, 3: 647})\tCounter val preds: Counter({0: 880, 1: 764, 5: 365, 2: 288, 4: 234, 3: 123})\n",
      "Epoch train QWK: 0.768\tval QWK: 0.774\n",
      "  Epoch 8 - Save Best Loss: 1.1575 Model\n",
      "Confusion matrix, without normalization\n",
      "[[663  39   1   0  11   9]\n",
      " [124 496  28   5  12   1]\n",
      " [ 18 160 130   6  10  11]\n",
      " [ 26  41  80  71  33  60]\n",
      " [ 22  23  31  24 128  85]\n",
      " [ 27   5  18  17  40 199]]\n",
      "Epoch 9/49\n",
      "==========\n"
     ]
    },
    {
     "name": "stderr",
     "output_type": "stream",
     "text": [
      "100%|██████████| 996/996 [05:47<00:00,  2.86it/s]\n",
      "100%|██████████| 332/332 [01:46<00:00,  3.11it/s]\n"
     ]
    },
    {
     "name": "stdout",
     "output_type": "stream",
     "text": [
      "Training Loss: 1.1546\tValidation Loss: 1.1800\n",
      "Counter train preds: Counter({0: 2765, 1: 2160, 5: 915, 4: 749, 3: 719, 2: 654})\tCounter val preds: Counter({1: 1020, 0: 793, 5: 290, 4: 245, 3: 184, 2: 122})\n",
      "Epoch train QWK: 0.766\tval QWK: 0.786\n",
      "  Epoch 9 - Save Best QWK: 0.7859 Model\n",
      "Confusion matrix, without normalization\n",
      "[[624  95   1   1   1   1]\n",
      " [ 88 557  10   5   6   0]\n",
      " [ 18 233  50  27   5   2]\n",
      " [ 21  68  43  97  40  42]\n",
      " [ 22  45  12  35 135  64]\n",
      " [ 20  22   6  19  58 181]]\n",
      "Epoch 10/49\n",
      "==========\n"
     ]
    },
    {
     "name": "stderr",
     "output_type": "stream",
     "text": [
      " 67%|██████▋   | 664/996 [03:55<01:50,  3.01it/s]"
     ]
    },
    {
     "name": "stdout",
     "output_type": "stream",
     "text": [
      "Gradient overflow.  Skipping step, loss scaler 0 reducing loss scale to 65536.0\n"
     ]
    },
    {
     "name": "stderr",
     "output_type": "stream",
     "text": [
      "100%|██████████| 996/996 [05:49<00:00,  2.85it/s]\n",
      "100%|██████████| 332/332 [01:46<00:00,  3.11it/s]"
     ]
    },
    {
     "name": "stdout",
     "output_type": "stream",
     "text": [
      "Epoch    11: reducing learning rate of group 0 to 7.5000e-05.\n",
      "Training Loss: 1.1425\tValidation Loss: 1.1803\n",
      "Counter train preds: Counter({0: 2750, 1: 2146, 5: 940, 4: 733, 3: 702, 2: 691})\tCounter val preds: Counter({0: 755, 1: 749, 5: 433, 4: 267, 2: 240, 3: 210})\n",
      "Epoch train QWK: 0.781\tval QWK: 0.770\n",
      "Epoch 11/49\n",
      "==========\n"
     ]
    },
    {
     "name": "stderr",
     "output_type": "stream",
     "text": [
      "\n",
      "100%|██████████| 996/996 [05:47<00:00,  2.87it/s]\n",
      "100%|██████████| 332/332 [01:46<00:00,  3.12it/s]\n"
     ]
    },
    {
     "name": "stdout",
     "output_type": "stream",
     "text": [
      "Training Loss: 1.1084\tValidation Loss: 1.1177\n",
      "Counter train preds: Counter({0: 2702, 1: 2160, 5: 908, 4: 757, 2: 732, 3: 703})\tCounter val preds: Counter({0: 899, 1: 769, 5: 383, 3: 242, 2: 188, 4: 173})\n",
      "Epoch train QWK: 0.790\tval QWK: 0.802\n",
      "  Epoch 11 - Save Best Loss: 1.1177 Model\n",
      "Confusion matrix, without normalization\n",
      "[[675  39   2   4   1   2]\n",
      " [123 506  23  10   1   3]\n",
      " [ 21 162 100  38   2  12]\n",
      " [ 32  30  41 116  24  68]\n",
      " [ 23  24  15  49 117  85]\n",
      " [ 25   8   7  25  28 213]]\n",
      "  Epoch 11 - Save Best QWK: 0.8020 Model\n",
      "Confusion matrix, without normalization\n",
      "[[675  39   2   4   1   2]\n",
      " [123 506  23  10   1   3]\n",
      " [ 21 162 100  38   2  12]\n",
      " [ 32  30  41 116  24  68]\n",
      " [ 23  24  15  49 117  85]\n",
      " [ 25   8   7  25  28 213]]\n",
      "Epoch 12/49\n",
      "==========\n"
     ]
    },
    {
     "name": "stderr",
     "output_type": "stream",
     "text": [
      "100%|██████████| 996/996 [05:47<00:00,  2.87it/s]\n",
      "100%|██████████| 332/332 [01:46<00:00,  3.13it/s]"
     ]
    },
    {
     "name": "stdout",
     "output_type": "stream",
     "text": [
      "Training Loss: 1.0942\tValidation Loss: 1.1240\n",
      "Counter train preds: Counter({0: 2670, 1: 2138, 5: 892, 4: 786, 2: 746, 3: 730})\tCounter val preds: Counter({0: 903, 1: 604, 3: 330, 5: 307, 2: 303, 4: 207})\n",
      "Epoch train QWK: 0.799\tval QWK: 0.801\n",
      "Epoch 13/49\n",
      "==========\n"
     ]
    },
    {
     "name": "stderr",
     "output_type": "stream",
     "text": [
      "\n",
      "100%|██████████| 996/996 [05:50<00:00,  2.84it/s]\n",
      "100%|██████████| 332/332 [01:52<00:00,  2.94it/s]\n"
     ]
    },
    {
     "name": "stdout",
     "output_type": "stream",
     "text": [
      "Training Loss: 1.0820\tValidation Loss: 1.1044\n",
      "Counter train preds: Counter({0: 2638, 1: 2148, 5: 900, 4: 802, 3: 738, 2: 736})\tCounter val preds: Counter({0: 945, 1: 654, 5: 341, 2: 287, 3: 236, 4: 191})\n",
      "Epoch train QWK: 0.804\tval QWK: 0.796\n",
      "  Epoch 13 - Save Best Loss: 1.1044 Model\n",
      "Confusion matrix, without normalization\n",
      "[[688  29   2   3   0   1]\n",
      " [142 457  49  14   4   0]\n",
      " [ 23 126 143  33   2   8]\n",
      " [ 32  16  63 109  32  59]\n",
      " [ 30  19  21  54 121  68]\n",
      " [ 30   7   9  23  32 205]]\n",
      "Epoch 14/49\n",
      "==========\n"
     ]
    },
    {
     "name": "stderr",
     "output_type": "stream",
     "text": [
      " 62%|██████▏   | 620/996 [03:44<02:07,  2.96it/s]"
     ]
    },
    {
     "name": "stdout",
     "output_type": "stream",
     "text": [
      "Gradient overflow.  Skipping step, loss scaler 0 reducing loss scale to 65536.0\n"
     ]
    },
    {
     "name": "stderr",
     "output_type": "stream",
     "text": [
      "100%|██████████| 996/996 [05:54<00:00,  2.81it/s]\n",
      "100%|██████████| 332/332 [01:46<00:00,  3.13it/s]\n"
     ]
    },
    {
     "name": "stdout",
     "output_type": "stream",
     "text": [
      "Training Loss: 1.0783\tValidation Loss: 1.1592\n",
      "Counter train preds: Counter({0: 2674, 1: 2084, 5: 906, 2: 781, 4: 772, 3: 745})\tCounter val preds: Counter({1: 1005, 0: 739, 5: 272, 4: 223, 3: 219, 2: 196})\n",
      "Epoch train QWK: 0.814\tval QWK: 0.802\n",
      "  Epoch 14 - Save Best QWK: 0.8023 Model\n",
      "Confusion matrix, without normalization\n",
      "[[607 110   2   3   0   1]\n",
      " [ 66 578   8  11   2   1]\n",
      " [  9 219  82  20   3   2]\n",
      " [ 22  47  65 105  38  34]\n",
      " [ 18  39  23  50 136  47]\n",
      " [ 17  12  16  30  44 187]]\n",
      "Epoch 15/49\n",
      "==========\n"
     ]
    },
    {
     "name": "stderr",
     "output_type": "stream",
     "text": [
      "100%|██████████| 996/996 [05:47<00:00,  2.86it/s]\n",
      "100%|██████████| 332/332 [01:46<00:00,  3.12it/s]\n"
     ]
    },
    {
     "name": "stdout",
     "output_type": "stream",
     "text": [
      "Epoch    16: reducing learning rate of group 0 to 3.7500e-05.\n",
      "Training Loss: 1.0711\tValidation Loss: 1.1192\n",
      "Counter train preds: Counter({0: 2663, 1: 2135, 5: 899, 4: 796, 2: 755, 3: 714})\tCounter val preds: Counter({1: 812, 0: 767, 5: 401, 3: 261, 4: 212, 2: 201})\n",
      "Epoch train QWK: 0.816\tval QWK: 0.820\n",
      "  Epoch 15 - Save Best QWK: 0.8204 Model\n",
      "Confusion matrix, without normalization\n",
      "[[624  87   1   5   3   3]\n",
      " [ 77 526  36  18   6   3]\n",
      " [ 11 145 110  47  11  11]\n",
      " [ 21  25  38 121  39  67]\n",
      " [ 17  22  10  44 119 101]\n",
      " [ 17   7   6  26  34 216]]\n",
      "Epoch 16/49\n",
      "==========\n"
     ]
    },
    {
     "name": "stderr",
     "output_type": "stream",
     "text": [
      "100%|██████████| 996/996 [05:47<00:00,  2.86it/s]\n",
      "100%|██████████| 332/332 [01:45<00:00,  3.14it/s]\n"
     ]
    },
    {
     "name": "stdout",
     "output_type": "stream",
     "text": [
      "Training Loss: 1.0524\tValidation Loss: 1.0801\n",
      "Counter train preds: Counter({0: 2633, 1: 2094, 5: 881, 4: 805, 2: 802, 3: 747})\tCounter val preds: Counter({0: 822, 1: 818, 2: 268, 4: 252, 5: 251, 3: 243})\n",
      "Epoch train QWK: 0.832\tval QWK: 0.816\n",
      "  Epoch 16 - Save Best Loss: 1.0801 Model\n",
      "Confusion matrix, without normalization\n",
      "[[655  62   2   2   1   1]\n",
      " [ 86 537  29  12   1   1]\n",
      " [ 14 157 126  32   5   1]\n",
      " [ 27  31  69 118  43  23]\n",
      " [ 20  23  28  49 151  42]\n",
      " [ 20   8  14  30  51 183]]\n",
      "Epoch 17/49\n",
      "==========\n"
     ]
    },
    {
     "name": "stderr",
     "output_type": "stream",
     "text": [
      " 27%|██▋       | 267/996 [01:35<04:03,  3.00it/s]"
     ]
    },
    {
     "name": "stdout",
     "output_type": "stream",
     "text": [
      "Gradient overflow.  Skipping step, loss scaler 0 reducing loss scale to 65536.0\n"
     ]
    },
    {
     "name": "stderr",
     "output_type": "stream",
     "text": [
      "100%|██████████| 996/996 [05:46<00:00,  2.87it/s]\n",
      "100%|██████████| 332/332 [01:46<00:00,  3.13it/s]\n"
     ]
    },
    {
     "name": "stdout",
     "output_type": "stream",
     "text": [
      "Training Loss: 1.0321\tValidation Loss: 1.0940\n",
      "Counter train preds: Counter({0: 2603, 1: 2119, 5: 862, 4: 835, 2: 779, 3: 764})\tCounter val preds: Counter({0: 803, 1: 714, 5: 324, 3: 323, 4: 255, 2: 235})\n",
      "Epoch train QWK: 0.835\tval QWK: 0.827\n",
      "  Epoch 17 - Save Best QWK: 0.8266 Model\n",
      "Confusion matrix, without normalization\n",
      "[[642  73   2   5   0   1]\n",
      " [ 85 485  68  20   5   3]\n",
      " [ 14 114 120  68  14   5]\n",
      " [ 24  19  29 152  48  39]\n",
      " [ 18  15  11  47 147  75]\n",
      " [ 20   8   5  31  41 201]]\n",
      "Epoch 18/49\n",
      "==========\n"
     ]
    },
    {
     "name": "stderr",
     "output_type": "stream",
     "text": [
      "100%|██████████| 996/996 [05:47<00:00,  2.87it/s]\n",
      "100%|██████████| 332/332 [01:45<00:00,  3.13it/s]"
     ]
    },
    {
     "name": "stdout",
     "output_type": "stream",
     "text": [
      "Epoch    19: reducing learning rate of group 0 to 1.8750e-05.\n",
      "Training Loss: 1.0322\tValidation Loss: 1.0833\n",
      "Counter train preds: Counter({0: 2597, 1: 2119, 5: 883, 4: 832, 3: 767, 2: 764})\tCounter val preds: Counter({0: 841, 1: 714, 5: 318, 2: 276, 3: 257, 4: 248})\n",
      "Epoch train QWK: 0.830\tval QWK: 0.824\n",
      "Epoch 19/49\n",
      "==========\n"
     ]
    },
    {
     "name": "stderr",
     "output_type": "stream",
     "text": [
      "\n",
      " 60%|█████▉    | 596/996 [03:28<02:11,  3.05it/s]"
     ]
    },
    {
     "name": "stdout",
     "output_type": "stream",
     "text": [
      "Gradient overflow.  Skipping step, loss scaler 0 reducing loss scale to 65536.0\n"
     ]
    },
    {
     "name": "stderr",
     "output_type": "stream",
     "text": [
      "100%|██████████| 996/996 [05:47<00:00,  2.87it/s]\n",
      "100%|██████████| 332/332 [01:46<00:00,  3.12it/s]"
     ]
    },
    {
     "name": "stdout",
     "output_type": "stream",
     "text": [
      "Training Loss: 1.0145\tValidation Loss: 1.0876\n",
      "Counter train preds: Counter({0: 2557, 1: 2099, 5: 885, 2: 838, 4: 819, 3: 764})\tCounter val preds: Counter({0: 849, 1: 630, 2: 327, 3: 326, 5: 297, 4: 225})\n",
      "Epoch train QWK: 0.842\tval QWK: 0.825\n",
      "Epoch 20/49\n",
      "==========\n"
     ]
    },
    {
     "name": "stderr",
     "output_type": "stream",
     "text": [
      "\n",
      "100%|██████████| 996/996 [05:49<00:00,  2.85it/s]\n",
      "100%|██████████| 332/332 [01:52<00:00,  2.96it/s]"
     ]
    },
    {
     "name": "stdout",
     "output_type": "stream",
     "text": [
      "Epoch    21: reducing learning rate of group 0 to 9.3750e-06.\n",
      "Training Loss: 1.0154\tValidation Loss: 1.0816\n",
      "Counter train preds: Counter({0: 2595, 1: 2123, 5: 864, 4: 810, 2: 800, 3: 770})\tCounter val preds: Counter({0: 804, 1: 724, 5: 317, 2: 294, 3: 270, 4: 245})\n",
      "Epoch train QWK: 0.836\tval QWK: 0.825\n",
      "Epoch 21/49\n",
      "==========\n"
     ]
    },
    {
     "name": "stderr",
     "output_type": "stream",
     "text": [
      "\n",
      " 82%|████████▏ | 815/996 [05:06<01:00,  2.99it/s]"
     ]
    },
    {
     "name": "stdout",
     "output_type": "stream",
     "text": [
      "Gradient overflow.  Skipping step, loss scaler 0 reducing loss scale to 65536.0\n"
     ]
    },
    {
     "name": "stderr",
     "output_type": "stream",
     "text": [
      "100%|██████████| 996/996 [06:11<00:00,  2.68it/s]\n",
      "100%|██████████| 332/332 [01:52<00:00,  2.96it/s]"
     ]
    },
    {
     "name": "stdout",
     "output_type": "stream",
     "text": [
      "Training Loss: 0.9981\tValidation Loss: 1.0816\n",
      "Counter train preds: Counter({0: 2581, 1: 2095, 5: 861, 4: 835, 3: 795, 2: 795})\tCounter val preds: Counter({0: 794, 1: 765, 3: 340, 2: 261, 5: 259, 4: 235})\n",
      "Epoch train QWK: 0.846\tval QWK: 0.826\n",
      "Epoch 22/49\n",
      "==========\n"
     ]
    },
    {
     "name": "stderr",
     "output_type": "stream",
     "text": [
      "\n",
      "100%|██████████| 996/996 [06:04<00:00,  2.73it/s]"
     ]
    },
    {
     "name": "stdout",
     "output_type": "stream",
     "text": [
      "Gradient overflow.  Skipping step, loss scaler 0 reducing loss scale to 32768.0\n"
     ]
    },
    {
     "name": "stderr",
     "output_type": "stream",
     "text": [
      "\n",
      "100%|██████████| 332/332 [01:51<00:00,  2.98it/s]\n"
     ]
    },
    {
     "name": "stdout",
     "output_type": "stream",
     "text": [
      "Epoch    23: reducing learning rate of group 0 to 4.6875e-06.\n",
      "Training Loss: 1.0011\tValidation Loss: 1.0856\n",
      "Counter train preds: Counter({0: 2565, 1: 2087, 5: 857, 4: 853, 2: 812, 3: 788})\tCounter val preds: Counter({0: 776, 1: 733, 5: 353, 3: 310, 2: 245, 4: 237})\n",
      "Epoch train QWK: 0.847\tval QWK: 0.837\n",
      "  Epoch 22 - Save Best QWK: 0.8371 Model\n",
      "Confusion matrix, without normalization\n",
      "[[639  75   2   5   1   1]\n",
      " [ 74 506  64  15   4   3]\n",
      " [ 12 105 134  62  11  11]\n",
      " [ 19  23  27 151  43  48]\n",
      " [ 18  15  13  51 140  76]\n",
      " [ 14   9   5  26  38 214]]\n",
      "Epoch 23/49\n",
      "==========\n"
     ]
    },
    {
     "name": "stderr",
     "output_type": "stream",
     "text": [
      "100%|██████████| 996/996 [06:05<00:00,  2.73it/s]\n",
      "100%|██████████| 332/332 [01:52<00:00,  2.96it/s]\n"
     ]
    },
    {
     "name": "stdout",
     "output_type": "stream",
     "text": [
      "Training Loss: 0.9927\tValidation Loss: 1.0720\n",
      "Counter train preds: Counter({0: 2574, 1: 2081, 5: 900, 4: 819, 2: 808, 3: 780})\tCounter val preds: Counter({0: 802, 1: 741, 5: 297, 2: 276, 4: 275, 3: 263})\n",
      "Epoch train QWK: 0.849\tval QWK: 0.830\n",
      "  Epoch 23 - Save Best Loss: 1.0720 Model\n",
      "Confusion matrix, without normalization\n",
      "[[648  68   2   3   1   1]\n",
      " [ 83 507  59  11   3   3]\n",
      " [ 11 119 146  42  10   7]\n",
      " [ 23  22  46 135  50  35]\n",
      " [ 19  15  15  46 162  56]\n",
      " [ 18  10   8  26  49 195]]\n",
      "Epoch 24/49\n",
      "==========\n"
     ]
    },
    {
     "name": "stderr",
     "output_type": "stream",
     "text": [
      "100%|██████████| 996/996 [06:11<00:00,  2.68it/s]\n",
      "100%|██████████| 332/332 [01:47<00:00,  3.08it/s]"
     ]
    },
    {
     "name": "stdout",
     "output_type": "stream",
     "text": [
      "Training Loss: 0.9907\tValidation Loss: 1.0770\n",
      "Counter train preds: Counter({0: 2568, 1: 2080, 5: 873, 4: 842, 2: 821, 3: 778})\tCounter val preds: Counter({0: 817, 1: 707, 5: 325, 4: 289, 2: 265, 3: 251})\n",
      "Epoch train QWK: 0.846\tval QWK: 0.835\n",
      "Epoch 25/49\n",
      "==========\n"
     ]
    },
    {
     "name": "stderr",
     "output_type": "stream",
     "text": [
      "\n",
      "100%|██████████| 996/996 [05:58<00:00,  2.78it/s]\n",
      "100%|██████████| 332/332 [01:48<00:00,  3.06it/s]"
     ]
    },
    {
     "name": "stdout",
     "output_type": "stream",
     "text": [
      "Epoch    26: reducing learning rate of group 0 to 2.3437e-06.\n",
      "Training Loss: 0.9941\tValidation Loss: 1.0792\n",
      "Counter train preds: Counter({0: 2571, 1: 2105, 5: 856, 4: 843, 2: 821, 3: 766})\tCounter val preds: Counter({0: 793, 1: 724, 3: 339, 5: 301, 4: 249, 2: 248})\n",
      "Epoch train QWK: 0.847\tval QWK: 0.833\n",
      "Epoch 26/49\n",
      "==========\n"
     ]
    },
    {
     "name": "stderr",
     "output_type": "stream",
     "text": [
      "\n",
      "100%|██████████| 996/996 [05:57<00:00,  2.79it/s]\n",
      "100%|██████████| 332/332 [01:49<00:00,  3.02it/s]"
     ]
    },
    {
     "name": "stdout",
     "output_type": "stream",
     "text": [
      "Training Loss: 0.9926\tValidation Loss: 1.0862\n",
      "Counter train preds: Counter({0: 2534, 1: 2126, 5: 887, 2: 825, 4: 807, 3: 783})\tCounter val preds: Counter({0: 795, 1: 715, 5: 357, 3: 287, 2: 260, 4: 240})\n",
      "Epoch train QWK: 0.852\tval QWK: 0.832\n",
      "Epoch 27/49\n",
      "==========\n"
     ]
    },
    {
     "name": "stderr",
     "output_type": "stream",
     "text": [
      "\n",
      "  9%|▊         | 85/996 [00:34<06:16,  2.42it/s]"
     ]
    },
    {
     "name": "stdout",
     "output_type": "stream",
     "text": [
      "Gradient overflow.  Skipping step, loss scaler 0 reducing loss scale to 65536.0\n"
     ]
    },
    {
     "name": "stderr",
     "output_type": "stream",
     "text": [
      "100%|██████████| 996/996 [06:01<00:00,  2.76it/s]\n",
      "100%|██████████| 332/332 [01:48<00:00,  3.06it/s]"
     ]
    },
    {
     "name": "stdout",
     "output_type": "stream",
     "text": [
      "Epoch    28: reducing learning rate of group 0 to 1.1719e-06.\n",
      "Training Loss: 0.9896\tValidation Loss: 1.0800\n",
      "Counter train preds: Counter({0: 2567, 1: 2075, 5: 905, 4: 811, 3: 804, 2: 800})\tCounter val preds: Counter({0: 805, 1: 712, 3: 322, 5: 286, 4: 268, 2: 261})\n",
      "Epoch train QWK: 0.851\tval QWK: 0.831\n",
      "Epoch 28/49\n",
      "==========\n"
     ]
    },
    {
     "name": "stderr",
     "output_type": "stream",
     "text": [
      "\n",
      "100%|██████████| 996/996 [05:56<00:00,  2.79it/s]\n",
      "100%|██████████| 332/332 [01:49<00:00,  3.02it/s]"
     ]
    },
    {
     "name": "stdout",
     "output_type": "stream",
     "text": [
      "Training Loss: 0.9833\tValidation Loss: 1.0807\n",
      "Counter train preds: Counter({0: 2528, 1: 2134, 5: 867, 4: 834, 2: 809, 3: 790})\tCounter val preds: Counter({0: 795, 1: 748, 5: 325, 3: 273, 4: 258, 2: 255})\n",
      "Epoch train QWK: 0.856\tval QWK: 0.830\n",
      "Epoch 29/49\n",
      "==========\n"
     ]
    },
    {
     "name": "stderr",
     "output_type": "stream",
     "text": [
      "\n",
      " 39%|███▉      | 388/996 [02:21<03:24,  2.98it/s]"
     ]
    },
    {
     "name": "stdout",
     "output_type": "stream",
     "text": [
      "Gradient overflow.  Skipping step, loss scaler 0 reducing loss scale to 65536.0\n"
     ]
    },
    {
     "name": "stderr",
     "output_type": "stream",
     "text": [
      "100%|██████████| 996/996 [05:58<00:00,  2.78it/s]\n",
      "100%|██████████| 332/332 [01:52<00:00,  2.95it/s]\n"
     ]
    },
    {
     "name": "stdout",
     "output_type": "stream",
     "text": [
      "Training Loss: 0.9882\tValidation Loss: 1.0693\n",
      "Counter train preds: Counter({0: 2540, 1: 2123, 5: 885, 4: 849, 2: 790, 3: 775})\tCounter val preds: Counter({0: 821, 1: 715, 3: 307, 5: 303, 2: 263, 4: 245})\n",
      "Epoch train QWK: 0.854\tval QWK: 0.829\n",
      "  Epoch 29 - Save Best Loss: 1.0693 Model\n",
      "Confusion matrix, without normalization\n",
      "[[656  61   2   3   0   1]\n",
      " [ 88 496  63  14   2   3]\n",
      " [ 12 116 139  51  10   7]\n",
      " [ 24  21  38 152  42  34]\n",
      " [ 21  14  15  58 146  59]\n",
      " [ 20   7   6  29  45 199]]\n",
      "Epoch 30/49\n",
      "==========\n"
     ]
    },
    {
     "name": "stderr",
     "output_type": "stream",
     "text": [
      "100%|██████████| 996/996 [05:59<00:00,  2.77it/s]\n",
      "100%|██████████| 332/332 [01:49<00:00,  3.04it/s]"
     ]
    },
    {
     "name": "stdout",
     "output_type": "stream",
     "text": [
      "Training Loss: 0.9798\tValidation Loss: 1.0750\n",
      "Counter train preds: Counter({0: 2544, 1: 2100, 5: 885, 4: 835, 3: 813, 2: 785})\tCounter val preds: Counter({0: 786, 1: 754, 5: 316, 2: 277, 3: 261, 4: 260})\n",
      "Epoch train QWK: 0.856\tval QWK: 0.830\n",
      "Epoch 31/49\n",
      "==========\n"
     ]
    },
    {
     "name": "stderr",
     "output_type": "stream",
     "text": [
      "\n",
      " 50%|████▉     | 496/996 [03:05<02:46,  3.00it/s]"
     ]
    },
    {
     "name": "stdout",
     "output_type": "stream",
     "text": [
      "Gradient overflow.  Skipping step, loss scaler 0 reducing loss scale to 65536.0\n"
     ]
    },
    {
     "name": "stderr",
     "output_type": "stream",
     "text": [
      "100%|██████████| 996/996 [05:58<00:00,  2.78it/s]\n",
      "100%|██████████| 332/332 [01:46<00:00,  3.12it/s]"
     ]
    },
    {
     "name": "stdout",
     "output_type": "stream",
     "text": [
      "Epoch    32: reducing learning rate of group 0 to 5.8594e-07.\n",
      "Training Loss: 0.9851\tValidation Loss: 1.0793\n",
      "Counter train preds: Counter({0: 2545, 1: 2098, 5: 872, 4: 846, 2: 825, 3: 776})\tCounter val preds: Counter({0: 809, 1: 703, 3: 310, 5: 303, 2: 277, 4: 252})\n",
      "Epoch train QWK: 0.858\tval QWK: 0.828\n",
      "Epoch 32/49\n",
      "==========\n"
     ]
    },
    {
     "name": "stderr",
     "output_type": "stream",
     "text": [
      "\n",
      "100%|██████████| 996/996 [05:48<00:00,  2.86it/s]\n",
      "100%|██████████| 332/332 [01:46<00:00,  3.12it/s]"
     ]
    },
    {
     "name": "stdout",
     "output_type": "stream",
     "text": [
      "Training Loss: 0.9897\tValidation Loss: 1.0783\n",
      "Counter train preds: Counter({0: 2580, 1: 2043, 5: 881, 4: 850, 2: 806, 3: 802})\tCounter val preds: Counter({0: 807, 1: 768, 5: 299, 3: 269, 4: 258, 2: 253})\n",
      "Epoch train QWK: 0.848\tval QWK: 0.828\n",
      "Epoch 33/49\n",
      "==========\n"
     ]
    },
    {
     "name": "stderr",
     "output_type": "stream",
     "text": [
      "\n",
      "100%|██████████| 996/996 [05:47<00:00,  2.86it/s]\n",
      "100%|██████████| 332/332 [01:47<00:00,  3.10it/s]"
     ]
    },
    {
     "name": "stdout",
     "output_type": "stream",
     "text": [
      "Epoch    34: reducing learning rate of group 0 to 2.9297e-07.\n",
      "Training Loss: 0.9864\tValidation Loss: 1.0803\n",
      "Counter train preds: Counter({0: 2555, 1: 2095, 5: 863, 4: 822, 3: 819, 2: 808})\tCounter val preds: Counter({0: 802, 1: 725, 5: 324, 4: 275, 2: 267, 3: 261})\n",
      "Epoch train QWK: 0.852\tval QWK: 0.830\n",
      "Epoch 34/49\n",
      "==========\n"
     ]
    },
    {
     "name": "stderr",
     "output_type": "stream",
     "text": [
      "\n",
      "  6%|▌         | 62/996 [00:24<05:01,  3.09it/s]"
     ]
    },
    {
     "name": "stdout",
     "output_type": "stream",
     "text": [
      "Gradient overflow.  Skipping step, loss scaler 0 reducing loss scale to 65536.0\n"
     ]
    },
    {
     "name": "stderr",
     "output_type": "stream",
     "text": [
      "100%|██████████| 996/996 [05:47<00:00,  2.87it/s]\n",
      "100%|██████████| 332/332 [01:46<00:00,  3.12it/s]"
     ]
    },
    {
     "name": "stdout",
     "output_type": "stream",
     "text": [
      "Training Loss: 0.9883\tValidation Loss: 1.0853\n",
      "Counter train preds: Counter({0: 2547, 1: 2137, 5: 867, 2: 813, 4: 806, 3: 792})\tCounter val preds: Counter({0: 803, 1: 676, 5: 320, 2: 296, 3: 296, 4: 263})\n",
      "Epoch train QWK: 0.846\tval QWK: 0.834\n",
      "Epoch 35/49\n",
      "==========\n"
     ]
    },
    {
     "name": "stderr",
     "output_type": "stream",
     "text": [
      "\n",
      " 95%|█████████▌| 950/996 [05:32<00:15,  3.06it/s]"
     ]
    },
    {
     "name": "stdout",
     "output_type": "stream",
     "text": [
      "Gradient overflow.  Skipping step, loss scaler 0 reducing loss scale to 32768.0\n"
     ]
    },
    {
     "name": "stderr",
     "output_type": "stream",
     "text": [
      "100%|██████████| 996/996 [05:48<00:00,  2.86it/s]\n",
      "100%|██████████| 332/332 [01:46<00:00,  3.11it/s]"
     ]
    },
    {
     "name": "stdout",
     "output_type": "stream",
     "text": [
      "Epoch    36: reducing learning rate of group 0 to 1.4648e-07.\n",
      "Training Loss: 0.9843\tValidation Loss: 1.0735\n",
      "Counter train preds: Counter({0: 2550, 1: 2095, 5: 860, 4: 836, 2: 822, 3: 799})\tCounter val preds: Counter({0: 796, 1: 737, 4: 295, 2: 281, 3: 275, 5: 270})\n",
      "Epoch train QWK: 0.854\tval QWK: 0.836\n",
      "Epoch 36/49\n",
      "==========\n"
     ]
    },
    {
     "name": "stderr",
     "output_type": "stream",
     "text": [
      "\n",
      "100%|██████████| 996/996 [05:47<00:00,  2.87it/s]\n",
      "100%|██████████| 332/332 [01:46<00:00,  3.12it/s]"
     ]
    },
    {
     "name": "stdout",
     "output_type": "stream",
     "text": [
      "Training Loss: 0.9903\tValidation Loss: 1.0711\n",
      "Counter train preds: Counter({0: 2552, 1: 2098, 5: 867, 4: 832, 2: 830, 3: 783})\tCounter val preds: Counter({0: 828, 1: 690, 3: 302, 5: 287, 2: 274, 4: 273})\n",
      "Epoch train QWK: 0.845\tval QWK: 0.832\n",
      "Epoch 37/49\n",
      "==========\n"
     ]
    },
    {
     "name": "stderr",
     "output_type": "stream",
     "text": [
      "\n",
      "100%|██████████| 996/996 [05:48<00:00,  2.86it/s]\n",
      "100%|██████████| 332/332 [01:46<00:00,  3.13it/s]"
     ]
    },
    {
     "name": "stdout",
     "output_type": "stream",
     "text": [
      "Epoch    38: reducing learning rate of group 0 to 7.3242e-08.\n",
      "Training Loss: 0.9835\tValidation Loss: 1.0820\n",
      "Counter train preds: Counter({0: 2560, 1: 2102, 5: 864, 4: 834, 2: 801, 3: 801})\tCounter val preds: Counter({0: 796, 1: 695, 3: 323, 2: 292, 5: 289, 4: 259})\n",
      "Epoch train QWK: 0.852\tval QWK: 0.837\n",
      "Epoch 38/49\n",
      "==========\n"
     ]
    },
    {
     "name": "stderr",
     "output_type": "stream",
     "text": [
      "\n",
      "100%|██████████| 996/996 [05:47<00:00,  2.86it/s]\n",
      "100%|██████████| 332/332 [01:46<00:00,  3.12it/s]"
     ]
    },
    {
     "name": "stdout",
     "output_type": "stream",
     "text": [
      "Training Loss: 0.9881\tValidation Loss: 1.0768\n",
      "Counter train preds: Counter({0: 2573, 1: 2059, 5: 868, 2: 860, 4: 842, 3: 760})\tCounter val preds: Counter({0: 813, 1: 758, 5: 297, 4: 285, 3: 277, 2: 224})\n",
      "Epoch train QWK: 0.853\tval QWK: 0.833\n",
      "Epoch 39/49\n",
      "==========\n"
     ]
    },
    {
     "name": "stderr",
     "output_type": "stream",
     "text": [
      "\n",
      " 98%|█████████▊| 977/996 [05:41<00:06,  3.03it/s]"
     ]
    },
    {
     "name": "stdout",
     "output_type": "stream",
     "text": [
      "Gradient overflow.  Skipping step, loss scaler 0 reducing loss scale to 65536.0\n"
     ]
    },
    {
     "name": "stderr",
     "output_type": "stream",
     "text": [
      "100%|██████████| 996/996 [05:47<00:00,  2.87it/s]\n",
      "100%|██████████| 332/332 [01:46<00:00,  3.11it/s]"
     ]
    },
    {
     "name": "stdout",
     "output_type": "stream",
     "text": [
      "Epoch    40: reducing learning rate of group 0 to 3.6621e-08.\n",
      "Training Loss: 0.9863\tValidation Loss: 1.0715\n",
      "Counter train preds: Counter({0: 2541, 1: 2114, 5: 861, 4: 858, 2: 796, 3: 792})\tCounter val preds: Counter({0: 819, 1: 734, 5: 308, 3: 279, 4: 258, 2: 256})\n",
      "Epoch train QWK: 0.853\tval QWK: 0.830\n",
      "Epoch 40/49\n",
      "==========\n"
     ]
    },
    {
     "name": "stderr",
     "output_type": "stream",
     "text": [
      "\n",
      "100%|██████████| 996/996 [05:47<00:00,  2.87it/s]\n",
      "100%|██████████| 332/332 [01:46<00:00,  3.11it/s]"
     ]
    },
    {
     "name": "stdout",
     "output_type": "stream",
     "text": [
      "Training Loss: 0.9853\tValidation Loss: 1.0805\n",
      "Counter train preds: Counter({0: 2555, 1: 2106, 5: 865, 4: 854, 2: 799, 3: 783})\tCounter val preds: Counter({0: 814, 1: 679, 3: 308, 4: 303, 2: 290, 5: 260})\n",
      "Epoch train QWK: 0.855\tval QWK: 0.836\n",
      "Epoch 41/49\n",
      "==========\n"
     ]
    },
    {
     "name": "stderr",
     "output_type": "stream",
     "text": [
      "\n",
      "100%|██████████| 996/996 [05:48<00:00,  2.86it/s]"
     ]
    },
    {
     "name": "stdout",
     "output_type": "stream",
     "text": [
      "Gradient overflow.  Skipping step, loss scaler 0 reducing loss scale to 65536.0\n"
     ]
    },
    {
     "name": "stderr",
     "output_type": "stream",
     "text": [
      "\n",
      "100%|██████████| 332/332 [01:46<00:00,  3.13it/s]\n"
     ]
    },
    {
     "name": "stdout",
     "output_type": "stream",
     "text": [
      "Epoch    42: reducing learning rate of group 0 to 1.8311e-08.\n",
      "Training Loss: 0.9878\tValidation Loss: 1.0777\n",
      "Counter train preds: Counter({0: 2557, 1: 2097, 5: 872, 4: 840, 2: 832, 3: 764})\tCounter val preds: Counter({0: 780, 1: 731, 3: 326, 2: 283, 5: 269, 4: 265})\n",
      "Epoch train QWK: 0.847\tval QWK: 0.837\n",
      "  Epoch 41 - Save Best QWK: 0.8373 Model\n",
      "Confusion matrix, without normalization\n",
      "[[640  75   2   5   1   0]\n",
      " [ 79 499  69  14   1   4]\n",
      " [  9 112 147  54   8   5]\n",
      " [ 19  22  40 163  42  25]\n",
      " [ 15  15  18  58 164  43]\n",
      " [ 18   8   7  32  49 192]]\n",
      "Epoch 42/49\n",
      "==========\n"
     ]
    },
    {
     "name": "stderr",
     "output_type": "stream",
     "text": [
      "100%|██████████| 996/996 [05:47<00:00,  2.87it/s]\n",
      "100%|██████████| 332/332 [01:46<00:00,  3.12it/s]"
     ]
    },
    {
     "name": "stdout",
     "output_type": "stream",
     "text": [
      "Training Loss: 0.9850\tValidation Loss: 1.0767\n",
      "Counter train preds: Counter({0: 2536, 1: 2112, 5: 872, 4: 833, 2: 831, 3: 778})\tCounter val preds: Counter({0: 811, 1: 767, 5: 309, 3: 283, 2: 247, 4: 237})\n",
      "Epoch train QWK: 0.854\tval QWK: 0.831\n",
      "Epoch 43/49\n",
      "==========\n"
     ]
    },
    {
     "name": "stderr",
     "output_type": "stream",
     "text": [
      "\n",
      "100%|██████████| 996/996 [05:47<00:00,  2.87it/s]\n",
      "100%|██████████| 332/332 [01:46<00:00,  3.11it/s]"
     ]
    },
    {
     "name": "stdout",
     "output_type": "stream",
     "text": [
      "Training Loss: 0.9909\tValidation Loss: 1.0720\n",
      "Counter train preds: Counter({0: 2568, 1: 2077, 5: 878, 4: 846, 2: 810, 3: 783})\tCounter val preds: Counter({0: 805, 1: 719, 5: 296, 3: 291, 2: 283, 4: 260})\n",
      "Epoch train QWK: 0.846\tval QWK: 0.834\n",
      "Epoch 44/49\n",
      "==========\n"
     ]
    },
    {
     "name": "stderr",
     "output_type": "stream",
     "text": [
      "\n",
      "  2%|▏         | 22/996 [00:11<05:36,  2.89it/s]"
     ]
    },
    {
     "name": "stdout",
     "output_type": "stream",
     "text": [
      "Gradient overflow.  Skipping step, loss scaler 0 reducing loss scale to 65536.0\n"
     ]
    },
    {
     "name": "stderr",
     "output_type": "stream",
     "text": [
      "100%|██████████| 996/996 [05:48<00:00,  2.86it/s]\n",
      "100%|██████████| 332/332 [01:47<00:00,  3.08it/s]"
     ]
    },
    {
     "name": "stdout",
     "output_type": "stream",
     "text": [
      "Training Loss: 0.9902\tValidation Loss: 1.0825\n",
      "Counter train preds: Counter({0: 2553, 1: 2099, 5: 879, 4: 827, 2: 816, 3: 788})\tCounter val preds: Counter({0: 801, 1: 735, 5: 339, 2: 262, 3: 261, 4: 256})\n",
      "Epoch train QWK: 0.847\tval QWK: 0.832\n",
      "Epoch 45/49\n",
      "==========\n"
     ]
    },
    {
     "name": "stderr",
     "output_type": "stream",
     "text": [
      "\n",
      "100%|██████████| 996/996 [05:47<00:00,  2.86it/s]\n",
      "100%|██████████| 332/332 [01:46<00:00,  3.12it/s]"
     ]
    },
    {
     "name": "stdout",
     "output_type": "stream",
     "text": [
      "Training Loss: 0.9848\tValidation Loss: 1.0770\n",
      "Counter train preds: Counter({0: 2547, 1: 2120, 5: 852, 2: 836, 4: 824, 3: 783})\tCounter val preds: Counter({0: 788, 1: 725, 5: 300, 3: 295, 4: 289, 2: 257})\n",
      "Epoch train QWK: 0.854\tval QWK: 0.831\n",
      "Epoch 46/49\n",
      "==========\n"
     ]
    },
    {
     "name": "stderr",
     "output_type": "stream",
     "text": [
      "\n",
      " 22%|██▏       | 217/996 [01:18<04:14,  3.06it/s]"
     ]
    },
    {
     "name": "stdout",
     "output_type": "stream",
     "text": [
      "Gradient overflow.  Skipping step, loss scaler 0 reducing loss scale to 65536.0\n"
     ]
    },
    {
     "name": "stderr",
     "output_type": "stream",
     "text": [
      "100%|██████████| 996/996 [05:47<00:00,  2.86it/s]\n",
      "100%|██████████| 332/332 [01:45<00:00,  3.13it/s]"
     ]
    },
    {
     "name": "stdout",
     "output_type": "stream",
     "text": [
      "Training Loss: 0.9861\tValidation Loss: 1.0774\n",
      "Counter train preds: Counter({0: 2537, 1: 2129, 5: 883, 4: 819, 2: 803, 3: 791})\tCounter val preds: Counter({0: 803, 1: 752, 5: 310, 3: 307, 4: 255, 2: 227})\n",
      "Epoch train QWK: 0.850\tval QWK: 0.833\n",
      "Epoch 47/49\n",
      "==========\n"
     ]
    },
    {
     "name": "stderr",
     "output_type": "stream",
     "text": [
      "\n",
      "100%|██████████| 996/996 [05:47<00:00,  2.87it/s]\n",
      "100%|██████████| 332/332 [01:46<00:00,  3.13it/s]"
     ]
    },
    {
     "name": "stdout",
     "output_type": "stream",
     "text": [
      "Training Loss: 0.9917\tValidation Loss: 1.0783\n",
      "Counter train preds: Counter({0: 2547, 1: 2139, 5: 864, 2: 819, 4: 816, 3: 777})\tCounter val preds: Counter({0: 789, 1: 714, 3: 319, 5: 293, 2: 280, 4: 259})\n",
      "Epoch train QWK: 0.847\tval QWK: 0.833\n",
      "Epoch 48/49\n",
      "==========\n"
     ]
    },
    {
     "name": "stderr",
     "output_type": "stream",
     "text": [
      "\n",
      " 27%|██▋       | 273/996 [01:38<04:03,  2.97it/s]"
     ]
    },
    {
     "name": "stdout",
     "output_type": "stream",
     "text": [
      "Gradient overflow.  Skipping step, loss scaler 0 reducing loss scale to 65536.0\n"
     ]
    },
    {
     "name": "stderr",
     "output_type": "stream",
     "text": [
      "100%|██████████| 996/996 [05:47<00:00,  2.86it/s]\n",
      "100%|██████████| 332/332 [01:46<00:00,  3.11it/s]"
     ]
    },
    {
     "name": "stdout",
     "output_type": "stream",
     "text": [
      "Training Loss: 0.9881\tValidation Loss: 1.0755\n",
      "Counter train preds: Counter({0: 2533, 1: 2118, 5: 868, 2: 838, 4: 818, 3: 787})\tCounter val preds: Counter({0: 833, 1: 677, 3: 324, 5: 301, 2: 288, 4: 231})\n",
      "Epoch train QWK: 0.852\tval QWK: 0.831\n",
      "Epoch 49/49\n",
      "==========\n"
     ]
    },
    {
     "name": "stderr",
     "output_type": "stream",
     "text": [
      "\n",
      "100%|██████████| 996/996 [05:47<00:00,  2.87it/s]\n",
      "100%|██████████| 332/332 [01:46<00:00,  3.12it/s]"
     ]
    },
    {
     "name": "stdout",
     "output_type": "stream",
     "text": [
      "Training Loss: 0.9900\tValidation Loss: 1.0701\n",
      "Counter train preds: Counter({0: 2552, 1: 2097, 5: 890, 4: 842, 2: 799, 3: 782})\tCounter val preds: Counter({0: 821, 1: 722, 5: 310, 3: 293, 2: 257, 4: 251})\n",
      "Epoch train QWK: 0.851\tval QWK: 0.832\n"
     ]
    },
    {
     "name": "stderr",
     "output_type": "stream",
     "text": [
      "\n"
     ]
    }
   ],
   "source": [
    "# get folds\n",
    "train_df = folds[folds[\"fold\"] != 0].copy()\n",
    "val_df = folds[folds[\"fold\"] == 0].copy()\n",
    "# define datasets\n",
    "if CFG.use_lazy:\n",
    "    train_ds = LazyTilesDataset(train_df, transform=get_transforms(data=\"train\", aug=CFG.aug_type), debug=False)\n",
    "    val_ds = TilesTrainDataset(val_df, is_train=False, transform=get_transforms(data=\"valid\"), debug=False) # same allways to compare with previous results\n",
    "else:\n",
    "    train_ds = TilesTrainDataset(train_df, is_train=CFG.stoch_sample, transform=get_transforms(data=\"train\", aug=CFG.aug_type), debug=False)\n",
    "    val_ds = TilesTrainDataset(val_df, is_train=False, transform=get_transforms(data=\"valid\"), debug=False)\n",
    "# define a data loader\n",
    "train_dataloader = DataLoader(train_ds, batch_size=CFG.batch_size, shuffle=True, num_workers=8)\n",
    "val_dataloader = DataLoader(val_ds, batch_size=CFG.batch_size, shuffle=False, num_workers=6)\n",
    "\n",
    "model_ft = make_RN50_cls()\n",
    "# initialize bias in the model\n",
    "cls_probas = (train_df[CFG.target_col].value_counts() / len(train_df)).values\n",
    "model_ft = init_last_layer_bias(model_ft, cls_probas)\n",
    "\n",
    "criterion = LOSSES[CFG.loss]\n",
    "\n",
    "\n",
    "if CFG.finetune == \"1stage\":\n",
    "    freeze_botom(model_ft)\n",
    "    interm_params = [p[1] for p in model_ft.named_parameters() if (not p[0].startswith('fc') and p[1].requires_grad)]\n",
    "    if CFG.optim == \"adam\":\n",
    "        optimizer = torch.optim.Adam([\n",
    "                    {'params': interm_params, 'lr': CFG.lr},\n",
    "                    {'params': model_ft.fc.parameters(), 'lr': CFG.lr*10}\n",
    "                ])\n",
    "    elif CFG.optim == \"sgd\":\n",
    "        optimizer = torch.optim.SGD([\n",
    "                    {'params': interm_params, 'lr': CFG.lr},\n",
    "                    {'params': model_ft.fc.parameters(), 'lr': CFG.lr*10}\n",
    "            ], momentum=0.9, nesterov=True)\n",
    "else:\n",
    "    if CFG.optim == \"adam\":\n",
    "        optimizer = torch.optim.Adam(model_ft.parameters(), lr=CFG.lr, amsgrad=False)\n",
    "    elif CFG.optim == \"sgd\":\n",
    "        optimizer = torch.optim.SGD(model_ft.parameters(), lr=CFG.lr, momentum=0.9, nesterov=True)\n",
    "    elif CFG.optim == \"radam\":\n",
    "        optimizer = RAdam(model_ft.parameters(), lr=CFG.lr)\n",
    "    \n",
    "scheduler, sch_is_epoch_type = get_scheduler(optimizer, train_dataloader)\n",
    "\n",
    "train_eval_loop(train_dataloader, val_dataloader, model_ft, optimizer, criterion, scheduler, sch_is_epoch_type, model_name=EXP_NAME)"
   ]
  },
  {
   "cell_type": "markdown",
   "metadata": {},
   "source": [
    "#### Resume Training"
   ]
  },
  {
   "cell_type": "code",
   "execution_count": 23,
   "metadata": {},
   "outputs": [
    {
     "name": "stdout",
     "output_type": "stream",
     "text": [
      "Selected optimization level O1:  Insert automatic casts around Pytorch functions and Tensor methods.\n",
      "\n",
      "Defaults for this optimization level are:\n",
      "enabled                : True\n",
      "opt_level              : O1\n",
      "cast_model_type        : None\n",
      "patch_torch_functions  : True\n",
      "keep_batchnorm_fp32    : None\n",
      "master_weights         : None\n",
      "loss_scale             : dynamic\n",
      "Processing user overrides (additional kwargs that are not None)...\n",
      "After processing overrides, optimization options are:\n",
      "enabled                : True\n",
      "opt_level              : O1\n",
      "cast_model_type        : None\n",
      "patch_torch_functions  : True\n",
      "keep_batchnorm_fp32    : None\n",
      "master_weights         : None\n",
      "loss_scale             : dynamic\n",
      "Epoch 30/49\n",
      "==========\n"
     ]
    },
    {
     "name": "stderr",
     "output_type": "stream",
     "text": [
      "100%|██████████| 996/996 [06:07<00:00,  2.71it/s]\n",
      "100%|██████████| 332/332 [01:48<00:00,  3.06it/s]\n"
     ]
    },
    {
     "name": "stdout",
     "output_type": "stream",
     "text": [
      "Training Loss: 0.9926\tValidation Loss: 1.0806\n",
      "Counter train preds: Counter({0: 2575, 1: 2067, 5: 907, 4: 824, 2: 819, 3: 770})\tCounter val preds: Counter({0: 776, 1: 716, 3: 305, 2: 304, 5: 299, 4: 254})\n",
      "Epoch train QWK: 0.848\tval QWK: 0.832\n",
      "  Epoch 30 - Save Best QWK: 0.8318 Model\n",
      "Confusion matrix, without normalization\n",
      "[[636  77   3   5   0   2]\n",
      " [ 79 488  77  12   4   6]\n",
      " [  8 107 157  48  10   5]\n",
      " [ 20  22  42 150  44  33]\n",
      " [ 16  15  17  61 150  54]\n",
      " [ 17   7   8  29  46 199]]\n",
      "Epoch 31/49\n",
      "==========\n"
     ]
    },
    {
     "name": "stderr",
     "output_type": "stream",
     "text": [
      "100%|██████████| 996/996 [06:09<00:00,  2.69it/s]\n",
      "100%|██████████| 332/332 [01:50<00:00,  3.00it/s]\n"
     ]
    },
    {
     "name": "stdout",
     "output_type": "stream",
     "text": [
      "Training Loss: 0.9908\tValidation Loss: 1.0810\n",
      "Counter train preds: Counter({0: 2555, 1: 2113, 5: 850, 4: 828, 2: 812, 3: 804})\tCounter val preds: Counter({0: 788, 1: 718, 2: 302, 3: 299, 5: 296, 4: 251})\n",
      "Epoch train QWK: 0.849\tval QWK: 0.832\n",
      "  Epoch 31 - Save Best QWK: 0.8323 Model\n",
      "Confusion matrix, without normalization\n",
      "[[642  72   3   4   1   1]\n",
      " [ 80 495  70  12   4   5]\n",
      " [  9 107 161  45   7   6]\n",
      " [ 21  23  44 151  40  32]\n",
      " [ 17  15  17  58 155  51]\n",
      " [ 19   6   7  29  44 201]]\n",
      "Epoch 32/49\n",
      "==========\n"
     ]
    },
    {
     "name": "stderr",
     "output_type": "stream",
     "text": [
      "100%|██████████| 996/996 [05:56<00:00,  2.79it/s]\n",
      "100%|██████████| 332/332 [01:46<00:00,  3.11it/s]"
     ]
    },
    {
     "name": "stdout",
     "output_type": "stream",
     "text": [
      "Training Loss: 0.9844\tValidation Loss: 1.0706\n",
      "Counter train preds: Counter({0: 2555, 1: 2093, 5: 861, 4: 855, 2: 814, 3: 784})\tCounter val preds: Counter({0: 820, 1: 703, 5: 329, 3: 313, 2: 261, 4: 228})\n",
      "Epoch train QWK: 0.851\tval QWK: 0.827\n",
      "Epoch 33/49\n",
      "==========\n"
     ]
    },
    {
     "name": "stderr",
     "output_type": "stream",
     "text": [
      "\n",
      " 33%|███▎      | 328/996 [01:58<03:45,  2.96it/s]"
     ]
    },
    {
     "name": "stdout",
     "output_type": "stream",
     "text": [
      "Gradient overflow.  Skipping step, loss scaler 0 reducing loss scale to 65536.0\n"
     ]
    },
    {
     "name": "stderr",
     "output_type": "stream",
     "text": [
      "100%|██████████| 996/996 [05:52<00:00,  2.82it/s]\n",
      "100%|██████████| 332/332 [01:46<00:00,  3.12it/s]\n"
     ]
    },
    {
     "name": "stdout",
     "output_type": "stream",
     "text": [
      "Training Loss: 0.9917\tValidation Loss: 1.0760\n",
      "Counter train preds: Counter({0: 2577, 1: 2083, 5: 891, 4: 830, 2: 812, 3: 769})\tCounter val preds: Counter({0: 797, 1: 752, 3: 312, 5: 302, 4: 248, 2: 243})\n",
      "Epoch train QWK: 0.849\tval QWK: 0.834\n",
      "  Epoch 33 - Save Best QWK: 0.8345 Model\n",
      "Confusion matrix, without normalization\n",
      "[[648  69   2   4   0   0]\n",
      " [ 81 511  54  13   2   5]\n",
      " [ 10 125 132  55   7   6]\n",
      " [ 22  23  35 155  41  35]\n",
      " [ 17  17  13  57 154  55]\n",
      " [ 19   7   7  28  44 201]]\n",
      "Epoch 34/49\n",
      "==========\n"
     ]
    },
    {
     "name": "stderr",
     "output_type": "stream",
     "text": [
      "100%|██████████| 996/996 [05:52<00:00,  2.83it/s]\n",
      "100%|██████████| 332/332 [01:45<00:00,  3.14it/s]"
     ]
    },
    {
     "name": "stdout",
     "output_type": "stream",
     "text": [
      "Training Loss: 0.9894\tValidation Loss: 1.0862\n",
      "Counter train preds: Counter({0: 2541, 1: 2098, 5: 887, 2: 818, 3: 811, 4: 807})\tCounter val preds: Counter({0: 805, 1: 684, 3: 338, 5: 291, 2: 286, 4: 250})\n",
      "Epoch train QWK: 0.858\tval QWK: 0.833\n",
      "Epoch 35/49\n",
      "==========\n"
     ]
    },
    {
     "name": "stderr",
     "output_type": "stream",
     "text": [
      "\n",
      " 56%|█████▌    | 553/996 [03:17<02:29,  2.97it/s]"
     ]
    },
    {
     "name": "stdout",
     "output_type": "stream",
     "text": [
      "Gradient overflow.  Skipping step, loss scaler 0 reducing loss scale to 65536.0\n"
     ]
    },
    {
     "name": "stderr",
     "output_type": "stream",
     "text": [
      "100%|██████████| 996/996 [05:52<00:00,  2.83it/s]\n",
      "100%|██████████| 332/332 [01:45<00:00,  3.14it/s]"
     ]
    },
    {
     "name": "stdout",
     "output_type": "stream",
     "text": [
      "Training Loss: 0.9810\tValidation Loss: 1.0723\n",
      "Counter train preds: Counter({0: 2572, 1: 2073, 5: 866, 2: 835, 4: 823, 3: 793})\tCounter val preds: Counter({0: 810, 1: 740, 5: 319, 3: 277, 4: 259, 2: 249})\n",
      "Epoch train QWK: 0.856\tval QWK: 0.826\n",
      "Epoch 36/49\n",
      "==========\n"
     ]
    },
    {
     "name": "stderr",
     "output_type": "stream",
     "text": [
      "\n",
      "100%|██████████| 996/996 [05:53<00:00,  2.82it/s]\n",
      "100%|██████████| 332/332 [01:46<00:00,  3.12it/s]"
     ]
    },
    {
     "name": "stdout",
     "output_type": "stream",
     "text": [
      "Epoch     7: reducing learning rate of group 0 to 7.5000e-07.\n",
      "Training Loss: 0.9867\tValidation Loss: 1.0749\n",
      "Counter train preds: Counter({0: 2532, 1: 2109, 5: 855, 2: 837, 4: 830, 3: 799})\tCounter val preds: Counter({0: 816, 1: 680, 2: 316, 5: 298, 3: 279, 4: 265})\n",
      "Epoch train QWK: 0.855\tval QWK: 0.834\n",
      "Epoch 37/49\n",
      "==========\n"
     ]
    },
    {
     "name": "stderr",
     "output_type": "stream",
     "text": [
      "\n",
      " 82%|████████▏ | 821/996 [04:51<00:59,  2.95it/s]"
     ]
    },
    {
     "name": "stdout",
     "output_type": "stream",
     "text": [
      "Gradient overflow.  Skipping step, loss scaler 0 reducing loss scale to 65536.0\n"
     ]
    },
    {
     "name": "stderr",
     "output_type": "stream",
     "text": [
      "100%|██████████| 996/996 [05:52<00:00,  2.83it/s]\n",
      "100%|██████████| 332/332 [01:46<00:00,  3.13it/s]"
     ]
    },
    {
     "name": "stdout",
     "output_type": "stream",
     "text": [
      "Training Loss: 0.9805\tValidation Loss: 1.0735\n",
      "Counter train preds: Counter({0: 2544, 1: 2070, 5: 908, 2: 831, 4: 805, 3: 804})\tCounter val preds: Counter({0: 802, 1: 734, 3: 312, 5: 279, 4: 265, 2: 262})\n",
      "Epoch train QWK: 0.860\tval QWK: 0.833\n",
      "Epoch 38/49\n",
      "==========\n"
     ]
    },
    {
     "name": "stderr",
     "output_type": "stream",
     "text": [
      "\n",
      "100%|██████████| 996/996 [05:52<00:00,  2.82it/s]\n",
      "100%|██████████| 332/332 [01:46<00:00,  3.12it/s]"
     ]
    },
    {
     "name": "stdout",
     "output_type": "stream",
     "text": [
      "Training Loss: 0.9795\tValidation Loss: 1.0737\n",
      "Counter train preds: Counter({0: 2557, 1: 2093, 5: 885, 4: 832, 2: 812, 3: 783})\tCounter val preds: Counter({0: 802, 1: 718, 5: 303, 3: 296, 2: 276, 4: 259})\n",
      "Epoch train QWK: 0.859\tval QWK: 0.834\n",
      "Epoch 39/49\n",
      "==========\n"
     ]
    },
    {
     "name": "stderr",
     "output_type": "stream",
     "text": [
      "\n",
      " 94%|█████████▍| 939/996 [05:32<00:19,  2.92it/s]"
     ]
    },
    {
     "name": "stdout",
     "output_type": "stream",
     "text": [
      "Gradient overflow.  Skipping step, loss scaler 0 reducing loss scale to 65536.0\n"
     ]
    },
    {
     "name": "stderr",
     "output_type": "stream",
     "text": [
      "100%|██████████| 996/996 [05:52<00:00,  2.83it/s]\n",
      "100%|██████████| 332/332 [01:46<00:00,  3.12it/s]"
     ]
    },
    {
     "name": "stdout",
     "output_type": "stream",
     "text": [
      "Training Loss: 0.9903\tValidation Loss: 1.0803\n",
      "Counter train preds: Counter({0: 2567, 1: 2059, 5: 853, 4: 839, 2: 837, 3: 807})\tCounter val preds: Counter({0: 803, 1: 702, 5: 311, 3: 299, 2: 281, 4: 258})\n",
      "Epoch train QWK: 0.847\tval QWK: 0.829\n",
      "Epoch 40/49\n",
      "==========\n"
     ]
    },
    {
     "name": "stderr",
     "output_type": "stream",
     "text": [
      "\n",
      "100%|██████████| 996/996 [05:53<00:00,  2.82it/s]\n",
      "100%|██████████| 332/332 [01:45<00:00,  3.13it/s]"
     ]
    },
    {
     "name": "stdout",
     "output_type": "stream",
     "text": [
      "Epoch    11: reducing learning rate of group 0 to 3.7500e-07.\n",
      "Training Loss: 0.9860\tValidation Loss: 1.0793\n",
      "Counter train preds: Counter({0: 2552, 1: 2092, 5: 883, 4: 830, 2: 815, 3: 790})\tCounter val preds: Counter({0: 811, 1: 711, 5: 316, 3: 292, 4: 274, 2: 250})\n",
      "Epoch train QWK: 0.850\tval QWK: 0.832\n",
      "Epoch 41/49\n",
      "==========\n"
     ]
    },
    {
     "name": "stderr",
     "output_type": "stream",
     "text": [
      "\n",
      "100%|██████████| 996/996 [05:53<00:00,  2.82it/s]\n",
      "100%|██████████| 332/332 [01:47<00:00,  3.10it/s]"
     ]
    },
    {
     "name": "stdout",
     "output_type": "stream",
     "text": [
      "Training Loss: 0.9883\tValidation Loss: 1.0810\n",
      "Counter train preds: Counter({0: 2580, 1: 2094, 5: 875, 4: 860, 2: 796, 3: 757})\tCounter val preds: Counter({0: 795, 1: 767, 5: 311, 3: 302, 4: 255, 2: 224})\n",
      "Epoch train QWK: 0.844\tval QWK: 0.831\n",
      "Epoch 42/49\n",
      "==========\n"
     ]
    },
    {
     "name": "stderr",
     "output_type": "stream",
     "text": [
      "\n",
      "  3%|▎         | 26/996 [00:13<06:35,  2.45it/s]"
     ]
    },
    {
     "name": "stdout",
     "output_type": "stream",
     "text": [
      "Gradient overflow.  Skipping step, loss scaler 0 reducing loss scale to 65536.0\n"
     ]
    },
    {
     "name": "stderr",
     "output_type": "stream",
     "text": [
      "100%|██████████| 996/996 [05:53<00:00,  2.82it/s]\n",
      "100%|██████████| 332/332 [01:46<00:00,  3.11it/s]"
     ]
    },
    {
     "name": "stdout",
     "output_type": "stream",
     "text": [
      "Training Loss: 0.9828\tValidation Loss: 1.0761\n",
      "Counter train preds: Counter({0: 2558, 1: 2102, 5: 868, 4: 833, 2: 815, 3: 786})\tCounter val preds: Counter({0: 829, 1: 713, 3: 333, 5: 305, 2: 249, 4: 225})\n",
      "Epoch train QWK: 0.857\tval QWK: 0.830\n",
      "Epoch 43/49\n",
      "==========\n"
     ]
    },
    {
     "name": "stderr",
     "output_type": "stream",
     "text": [
      "\n",
      "100%|██████████| 996/996 [05:52<00:00,  2.82it/s]\n",
      "100%|██████████| 332/332 [01:46<00:00,  3.12it/s]"
     ]
    },
    {
     "name": "stdout",
     "output_type": "stream",
     "text": [
      "Training Loss: 0.9740\tValidation Loss: 1.0741\n",
      "Counter train preds: Counter({0: 2554, 1: 2064, 4: 847, 5: 847, 2: 838, 3: 812})\tCounter val preds: Counter({0: 793, 1: 744, 5: 313, 3: 296, 4: 258, 2: 250})\n",
      "Epoch train QWK: 0.859\tval QWK: 0.833\n",
      "Epoch 44/49\n",
      "==========\n"
     ]
    },
    {
     "name": "stderr",
     "output_type": "stream",
     "text": [
      "\n",
      " 61%|██████    | 604/996 [03:35<02:08,  3.05it/s]"
     ]
    },
    {
     "name": "stdout",
     "output_type": "stream",
     "text": [
      "Gradient overflow.  Skipping step, loss scaler 0 reducing loss scale to 65536.0\n"
     ]
    },
    {
     "name": "stderr",
     "output_type": "stream",
     "text": [
      "100%|██████████| 996/996 [05:53<00:00,  2.82it/s]\n",
      "100%|██████████| 332/332 [01:46<00:00,  3.12it/s]"
     ]
    },
    {
     "name": "stdout",
     "output_type": "stream",
     "text": [
      "Epoch    15: reducing learning rate of group 0 to 1.8750e-07.\n",
      "Training Loss: 0.9796\tValidation Loss: 1.0790\n",
      "Counter train preds: Counter({0: 2547, 1: 2100, 5: 861, 4: 828, 2: 816, 3: 810})\tCounter val preds: Counter({0: 815, 1: 702, 3: 316, 5: 308, 2: 277, 4: 236})\n",
      "Epoch train QWK: 0.855\tval QWK: 0.832\n",
      "Epoch 45/49\n",
      "==========\n"
     ]
    },
    {
     "name": "stderr",
     "output_type": "stream",
     "text": [
      "\n",
      "100%|██████████| 996/996 [05:52<00:00,  2.82it/s]\n",
      "100%|██████████| 332/332 [01:46<00:00,  3.13it/s]"
     ]
    },
    {
     "name": "stdout",
     "output_type": "stream",
     "text": [
      "Training Loss: 0.9852\tValidation Loss: 1.0728\n",
      "Counter train preds: Counter({0: 2553, 1: 2095, 5: 889, 2: 821, 4: 819, 3: 785})\tCounter val preds: Counter({0: 786, 1: 761, 5: 328, 3: 285, 2: 259, 4: 235})\n",
      "Epoch train QWK: 0.856\tval QWK: 0.831\n",
      "Epoch 46/49\n",
      "==========\n"
     ]
    },
    {
     "name": "stderr",
     "output_type": "stream",
     "text": [
      "\n",
      " 77%|███████▋  | 768/996 [04:32<01:19,  2.86it/s]"
     ]
    },
    {
     "name": "stdout",
     "output_type": "stream",
     "text": [
      "Gradient overflow.  Skipping step, loss scaler 0 reducing loss scale to 65536.0\n"
     ]
    },
    {
     "name": "stderr",
     "output_type": "stream",
     "text": [
      "100%|██████████| 996/996 [05:51<00:00,  2.83it/s]\n",
      "100%|██████████| 332/332 [01:46<00:00,  3.13it/s]"
     ]
    },
    {
     "name": "stdout",
     "output_type": "stream",
     "text": [
      "Training Loss: 0.9853\tValidation Loss: 1.0897\n",
      "Counter train preds: Counter({0: 2566, 1: 2083, 5: 884, 4: 825, 2: 805, 3: 799})\tCounter val preds: Counter({0: 793, 1: 701, 3: 317, 2: 299, 4: 272, 5: 272})\n",
      "Epoch train QWK: 0.854\tval QWK: 0.831\n",
      "Epoch 47/49\n",
      "==========\n"
     ]
    },
    {
     "name": "stderr",
     "output_type": "stream",
     "text": [
      "\n",
      "100%|██████████| 996/996 [05:52<00:00,  2.82it/s]"
     ]
    },
    {
     "name": "stdout",
     "output_type": "stream",
     "text": [
      "Gradient overflow.  Skipping step, loss scaler 0 reducing loss scale to 32768.0\n"
     ]
    },
    {
     "name": "stderr",
     "output_type": "stream",
     "text": [
      "\n",
      "100%|██████████| 332/332 [01:46<00:00,  3.13it/s]\n"
     ]
    },
    {
     "name": "stdout",
     "output_type": "stream",
     "text": [
      "Training Loss: 0.9806\tValidation Loss: 1.0799\n",
      "Counter train preds: Counter({0: 2556, 1: 2087, 5: 871, 2: 843, 4: 826, 3: 779})\tCounter val preds: Counter({0: 811, 1: 704, 3: 336, 5: 312, 2: 252, 4: 239})\n",
      "Epoch train QWK: 0.857\tval QWK: 0.835\n",
      "  Epoch 47 - Save Best QWK: 0.8349 Model\n",
      "Confusion matrix, without normalization\n",
      "[[656  59   2   6   0   0]\n",
      " [ 87 492  65  15   1   6]\n",
      " [ 12 111 132  65   9   6]\n",
      " [ 21  21  33 158  39  39]\n",
      " [ 17  14  13  62 148  59]\n",
      " [ 18   7   7  30  42 202]]\n",
      "Epoch 48/49\n",
      "==========\n"
     ]
    },
    {
     "name": "stderr",
     "output_type": "stream",
     "text": [
      "100%|██████████| 996/996 [05:52<00:00,  2.82it/s]\n",
      "100%|██████████| 332/332 [01:45<00:00,  3.13it/s]"
     ]
    },
    {
     "name": "stdout",
     "output_type": "stream",
     "text": [
      "Epoch    19: reducing learning rate of group 0 to 9.3750e-08.\n",
      "Training Loss: 0.9819\tValidation Loss: 1.0937\n",
      "Counter train preds: Counter({0: 2559, 1: 2111, 5: 867, 3: 814, 4: 807, 2: 804})\tCounter val preds: Counter({0: 808, 1: 656, 3: 325, 4: 292, 2: 288, 5: 285})\n",
      "Epoch train QWK: 0.851\tval QWK: 0.831\n",
      "Epoch 49/49\n",
      "==========\n"
     ]
    },
    {
     "name": "stderr",
     "output_type": "stream",
     "text": [
      "\n",
      "100%|██████████| 996/996 [05:53<00:00,  2.82it/s]\n",
      "100%|██████████| 332/332 [01:46<00:00,  3.12it/s]"
     ]
    },
    {
     "name": "stdout",
     "output_type": "stream",
     "text": [
      "Training Loss: 0.9873\tValidation Loss: 1.0718\n",
      "Counter train preds: Counter({0: 2549, 1: 2076, 5: 870, 4: 845, 2: 828, 3: 794})\tCounter val preds: Counter({0: 824, 1: 730, 5: 330, 3: 273, 2: 257, 4: 240})\n",
      "Epoch train QWK: 0.851\tval QWK: 0.831\n"
     ]
    },
    {
     "name": "stderr",
     "output_type": "stream",
     "text": [
      "\n"
     ]
    }
   ],
   "source": [
    "# get folds\n",
    "train_df = folds[folds[\"fold\"] != 0].copy()\n",
    "val_df = folds[folds[\"fold\"] == 0].copy()\n",
    "# define datasets\n",
    "if CFG.use_lazy:\n",
    "    train_ds = LazyTilesDataset(train_df, transform=get_transforms(data=\"train\", aug=CFG.aug_type), debug=False)\n",
    "    val_ds = TilesTrainDataset(val_df, is_train=False, transform=get_transforms(data=\"valid\"), debug=False) # same allways to compare with previous results\n",
    "else:\n",
    "    train_ds = TilesTrainDataset(train_df, is_train=CFG.stoch_sample, transform=get_transforms(data=\"train\", aug=CFG.aug_type), debug=False)\n",
    "    val_ds = TilesTrainDataset(val_df, is_train=False, transform=get_transforms(data=\"valid\"), debug=False)\n",
    "# define a data loader\n",
    "train_dataloader = DataLoader(train_ds, batch_size=CFG.batch_size, shuffle=True, num_workers=8)\n",
    "val_dataloader = DataLoader(val_ds, batch_size=CFG.batch_size, shuffle=False, num_workers=6)\n",
    "\n",
    "\n",
    "# checkpoint = torch.load(PATH)\n",
    "checkpoint = {\n",
    "    'epoch': 29,\n",
    "#     'model_state_dict': model.state_dict(),\n",
    "#     'optimizer_state_dict': optimizer.state_dict(),\n",
    "    'best_val_loss': 1.0693,\n",
    "    'best_qwk': 0.829,}\n",
    "\n",
    "model_ft = make_RN50_cls()\n",
    "model_ft.load_state_dict(torch.load(f'{MODEL_PATH}/{EXP_NAME}_loss.pth'))\n",
    "criterion = LOSSES[CFG.loss]\n",
    "# model_ft.load_state_dict(checkpoint['model_state_dict'])\n",
    "# maybe model_ft.to(device) call here\n",
    "# optimizer = RAdam(model_ft.parameters(), lr=CFG.lr)\n",
    "# optimizer.load_state_dict(checkpoint['optimizer_state_dict'])\n",
    "# manualy set optimizer\n",
    "optimizer = RAdam(model_ft.parameters(), lr=1.5e-6)\n",
    "scheduler, sch_is_epoch_type = get_scheduler(optimizer, train_dataloader, resume=True)\n",
    "\n",
    "train_eval_loop(train_dataloader, val_dataloader, model_ft, optimizer, criterion, scheduler, sch_is_epoch_type, model_name=EXP_NAME, checkpoint=checkpoint)"
   ]
  },
  {
   "cell_type": "markdown",
   "metadata": {},
   "source": [
    "### Train with CV"
   ]
  },
  {
   "cell_type": "code",
   "execution_count": 34,
   "metadata": {
    "collapsed": true,
    "jupyter": {
     "outputs_hidden": true
    }
   },
   "outputs": [
    {
     "name": "stdout",
     "output_type": "stream",
     "text": [
      "Train with CV, on fold 0\n",
      "Epoch 0/9\n",
      "----------\n"
     ]
    },
    {
     "name": "stderr",
     "output_type": "stream",
     "text": [
      "100%|██████████| 5/5 [00:00<00:00,  7.61it/s]"
     ]
    },
    {
     "name": "stdout",
     "output_type": "stream",
     "text": [
      "Visualising input\n"
     ]
    },
    {
     "name": "stderr",
     "output_type": "stream",
     "text": [
      "\n",
      "100%|██████████| 2/2 [00:00<00:00,  3.84it/s]"
     ]
    },
    {
     "name": "stdout",
     "output_type": "stream",
     "text": [
      "Training Loss: 1.7832\tValidation Loss: 1.6735\n",
      "Counter train preds: Counter({1: 50, 4: 11, 3: 8, 0: 6})\tCounter val preds: Counter({0: 25})\n",
      "Epoch train QWK: 0.193\tval QWK: 0.000\n",
      "Epoch 1/9\n",
      "----------\n"
     ]
    },
    {
     "name": "stderr",
     "output_type": "stream",
     "text": [
      "\n",
      "100%|██████████| 5/5 [00:00<00:00,  7.82it/s]"
     ]
    },
    {
     "name": "stdout",
     "output_type": "stream",
     "text": [
      "Visualising input\n"
     ]
    },
    {
     "name": "stderr",
     "output_type": "stream",
     "text": [
      "\n",
      "100%|██████████| 2/2 [00:00<00:00,  4.13it/s]"
     ]
    },
    {
     "name": "stdout",
     "output_type": "stream",
     "text": [
      "Training Loss: 1.5393\tValidation Loss: 1.6932\n",
      "Counter train preds: Counter({1: 39, 0: 21, 3: 7, 4: 6, 5: 2})\tCounter val preds: Counter({1: 25})\n",
      "Epoch train QWK: 0.236\tval QWK: 0.000\n",
      "Epoch 2/9\n",
      "----------\n"
     ]
    },
    {
     "name": "stderr",
     "output_type": "stream",
     "text": [
      "\n",
      "100%|██████████| 5/5 [00:00<00:00,  7.61it/s]"
     ]
    },
    {
     "name": "stdout",
     "output_type": "stream",
     "text": [
      "Visualising input\n"
     ]
    },
    {
     "name": "stderr",
     "output_type": "stream",
     "text": [
      "\n",
      "100%|██████████| 2/2 [00:00<00:00,  4.02it/s]"
     ]
    },
    {
     "name": "stdout",
     "output_type": "stream",
     "text": [
      "Training Loss: 1.4436\tValidation Loss: 1.7056\n",
      "Counter train preds: Counter({1: 34, 0: 26, 3: 7, 5: 5, 4: 3})\tCounter val preds: Counter({1: 25})\n",
      "Epoch train QWK: 0.321\tval QWK: 0.000\n",
      "Epoch 3/9\n",
      "----------\n"
     ]
    },
    {
     "name": "stderr",
     "output_type": "stream",
     "text": [
      "\n",
      "100%|██████████| 5/5 [00:00<00:00,  5.05it/s]"
     ]
    },
    {
     "name": "stdout",
     "output_type": "stream",
     "text": [
      "Visualising input\n"
     ]
    },
    {
     "name": "stderr",
     "output_type": "stream",
     "text": [
      "100%|██████████| 5/5 [00:00<00:00,  7.88it/s]\n",
      "100%|██████████| 2/2 [00:00<00:00,  2.04it/s]"
     ]
    },
    {
     "name": "stdout",
     "output_type": "stream",
     "text": [
      "Training Loss: 1.4152\tValidation Loss: 1.6723\n",
      "Counter train preds: Counter({0: 33, 1: 31, 3: 5, 4: 5, 5: 1})\tCounter val preds: Counter({1: 25})\n",
      "Epoch train QWK: 0.282\tval QWK: 0.000\n",
      "Epoch 4/9\n",
      "----------\n"
     ]
    },
    {
     "name": "stderr",
     "output_type": "stream",
     "text": [
      "\n",
      " 20%|██        | 1/5 [00:00<00:01,  2.74it/s]"
     ]
    },
    {
     "name": "stdout",
     "output_type": "stream",
     "text": [
      "Visualising input\n"
     ]
    },
    {
     "name": "stderr",
     "output_type": "stream",
     "text": [
      "100%|██████████| 5/5 [00:00<00:00,  7.80it/s]\n",
      "100%|██████████| 2/2 [00:00<00:00,  3.81it/s]"
     ]
    },
    {
     "name": "stdout",
     "output_type": "stream",
     "text": [
      "Training Loss: 1.3904\tValidation Loss: 1.6386\n",
      "Counter train preds: Counter({1: 33, 0: 28, 4: 6, 3: 5, 5: 3})\tCounter val preds: Counter({1: 15, 5: 3, 0: 3, 2: 2, 4: 1, 3: 1})\n",
      "Epoch train QWK: 0.393\tval QWK: 0.186\n",
      "Epoch 5/9\n",
      "----------\n"
     ]
    },
    {
     "name": "stderr",
     "output_type": "stream",
     "text": [
      "\n",
      " 20%|██        | 1/5 [00:00<00:01,  2.53it/s]"
     ]
    },
    {
     "name": "stdout",
     "output_type": "stream",
     "text": [
      "Visualising input\n"
     ]
    },
    {
     "name": "stderr",
     "output_type": "stream",
     "text": [
      "100%|██████████| 5/5 [00:00<00:00,  7.49it/s]\n",
      "100%|██████████| 2/2 [00:00<00:00,  3.79it/s]"
     ]
    },
    {
     "name": "stdout",
     "output_type": "stream",
     "text": [
      "Training Loss: 1.3730\tValidation Loss: 1.6927\n",
      "Counter train preds: Counter({0: 33, 1: 26, 5: 7, 3: 4, 4: 4, 2: 1})\tCounter val preds: Counter({1: 13, 5: 6, 2: 4, 3: 1, 0: 1})\n",
      "Epoch train QWK: 0.517\tval QWK: 0.545\n",
      "Epoch 6/9\n",
      "----------\n"
     ]
    },
    {
     "name": "stderr",
     "output_type": "stream",
     "text": [
      "\n",
      "100%|██████████| 5/5 [00:00<00:00,  4.96it/s]"
     ]
    },
    {
     "name": "stdout",
     "output_type": "stream",
     "text": [
      "Visualising input\n"
     ]
    },
    {
     "name": "stderr",
     "output_type": "stream",
     "text": [
      "100%|██████████| 5/5 [00:00<00:00,  7.91it/s]\n",
      "100%|██████████| 2/2 [00:00<00:00,  3.81it/s]"
     ]
    },
    {
     "name": "stdout",
     "output_type": "stream",
     "text": [
      "Training Loss: 1.3238\tValidation Loss: 1.8837\n",
      "Counter train preds: Counter({0: 30, 1: 29, 5: 6, 3: 6, 4: 4})\tCounter val preds: Counter({1: 9, 5: 7, 2: 6, 3: 3})\n",
      "Epoch train QWK: 0.438\tval QWK: 0.329\n",
      "Epoch 7/9\n",
      "----------\n"
     ]
    },
    {
     "name": "stderr",
     "output_type": "stream",
     "text": [
      "\n",
      "100%|██████████| 5/5 [00:00<00:00,  7.85it/s]"
     ]
    },
    {
     "name": "stdout",
     "output_type": "stream",
     "text": [
      "Visualising input\n"
     ]
    },
    {
     "name": "stderr",
     "output_type": "stream",
     "text": [
      "\n",
      "100%|██████████| 2/2 [00:00<00:00,  3.89it/s]"
     ]
    },
    {
     "name": "stdout",
     "output_type": "stream",
     "text": [
      "Training Loss: 1.3055\tValidation Loss: 2.0990\n",
      "Counter train preds: Counter({1: 34, 0: 22, 5: 8, 3: 7, 4: 2, 2: 2})\tCounter val preds: Counter({2: 12, 5: 5, 3: 5, 1: 2, 4: 1})\n",
      "Epoch train QWK: 0.552\tval QWK: 0.326\n",
      "Epoch 8/9\n",
      "----------\n"
     ]
    },
    {
     "name": "stderr",
     "output_type": "stream",
     "text": [
      "\n",
      " 20%|██        | 1/5 [00:00<00:01,  2.66it/s]"
     ]
    },
    {
     "name": "stdout",
     "output_type": "stream",
     "text": [
      "Visualising input\n"
     ]
    },
    {
     "name": "stderr",
     "output_type": "stream",
     "text": [
      "100%|██████████| 5/5 [00:00<00:00,  7.53it/s]\n",
      "100%|██████████| 2/2 [00:00<00:00,  3.87it/s]"
     ]
    },
    {
     "name": "stdout",
     "output_type": "stream",
     "text": [
      "Training Loss: 1.3063\tValidation Loss: 2.0883\n",
      "Counter train preds: Counter({1: 35, 0: 25, 4: 7, 3: 5, 5: 3})\tCounter val preds: Counter({2: 13, 5: 5, 1: 3, 3: 2, 4: 1, 0: 1})\n",
      "Epoch train QWK: 0.549\tval QWK: 0.199\n",
      "Epoch 9/9\n",
      "----------\n"
     ]
    },
    {
     "name": "stderr",
     "output_type": "stream",
     "text": [
      "\n",
      "100%|██████████| 5/5 [00:00<00:00,  4.77it/s]"
     ]
    },
    {
     "name": "stdout",
     "output_type": "stream",
     "text": [
      "Visualising input\n"
     ]
    },
    {
     "name": "stderr",
     "output_type": "stream",
     "text": [
      "100%|██████████| 5/5 [00:00<00:00,  7.73it/s]\n",
      "100%|██████████| 2/2 [00:00<00:00,  3.86it/s]"
     ]
    },
    {
     "name": "stdout",
     "output_type": "stream",
     "text": [
      "Training Loss: 1.3191\tValidation Loss: 1.8377\n",
      "Counter train preds: Counter({1: 37, 0: 24, 5: 7, 4: 3, 3: 3, 2: 1})\tCounter val preds: Counter({1: 21, 3: 2, 2: 1, 5: 1})\n",
      "Epoch train QWK: 0.435\tval QWK: 0.305\n",
      "Train with CV, on fold 1\n",
      "Epoch 0/9\n",
      "----------\n"
     ]
    },
    {
     "name": "stderr",
     "output_type": "stream",
     "text": [
      "\n",
      "100%|██████████| 5/5 [00:00<00:00,  4.80it/s]"
     ]
    },
    {
     "name": "stdout",
     "output_type": "stream",
     "text": [
      "Visualising input\n"
     ]
    },
    {
     "name": "stderr",
     "output_type": "stream",
     "text": [
      "100%|██████████| 5/5 [00:00<00:00,  7.69it/s]\n",
      "100%|██████████| 2/2 [00:00<00:00,  3.71it/s]"
     ]
    },
    {
     "name": "stdout",
     "output_type": "stream",
     "text": [
      "Training Loss: 1.7209\tValidation Loss: 1.7380\n",
      "Counter train preds: Counter({0: 59, 3: 15, 1: 1})\tCounter val preds: Counter({0: 25})\n",
      "Epoch train QWK: 0.263\tval QWK: 0.000\n",
      "Epoch 1/9\n",
      "----------\n"
     ]
    },
    {
     "name": "stderr",
     "output_type": "stream",
     "text": [
      "\n",
      "100%|██████████| 5/5 [00:00<00:00,  7.81it/s]"
     ]
    },
    {
     "name": "stdout",
     "output_type": "stream",
     "text": [
      "Visualising input\n"
     ]
    },
    {
     "name": "stderr",
     "output_type": "stream",
     "text": [
      "\n",
      "100%|██████████| 2/2 [00:00<00:00,  3.62it/s]"
     ]
    },
    {
     "name": "stdout",
     "output_type": "stream",
     "text": [
      "Training Loss: 1.5459\tValidation Loss: 1.7958\n",
      "Counter train preds: Counter({0: 36, 1: 32, 3: 5, 4: 2})\tCounter val preds: Counter({0: 25})\n",
      "Epoch train QWK: 0.331\tval QWK: 0.000\n",
      "Epoch 2/9\n",
      "----------\n"
     ]
    },
    {
     "name": "stderr",
     "output_type": "stream",
     "text": [
      "\n",
      " 60%|██████    | 3/5 [00:00<00:00,  3.30it/s]"
     ]
    },
    {
     "name": "stdout",
     "output_type": "stream",
     "text": [
      "Visualising input\n"
     ]
    },
    {
     "name": "stderr",
     "output_type": "stream",
     "text": [
      "100%|██████████| 5/5 [00:00<00:00,  7.36it/s]\n",
      "100%|██████████| 2/2 [00:00<00:00,  3.74it/s]"
     ]
    },
    {
     "name": "stdout",
     "output_type": "stream",
     "text": [
      "Training Loss: 1.4606\tValidation Loss: 1.9763\n",
      "Counter train preds: Counter({1: 34, 0: 29, 4: 8, 3: 4})\tCounter val preds: Counter({0: 25})\n",
      "Epoch train QWK: 0.388\tval QWK: 0.000\n",
      "Epoch 3/9\n",
      "----------\n"
     ]
    },
    {
     "name": "stderr",
     "output_type": "stream",
     "text": [
      "\n",
      " 60%|██████    | 3/5 [00:00<00:00,  3.59it/s]"
     ]
    },
    {
     "name": "stdout",
     "output_type": "stream",
     "text": [
      "Visualising input\n"
     ]
    },
    {
     "name": "stderr",
     "output_type": "stream",
     "text": [
      "100%|██████████| 5/5 [00:00<00:00,  7.80it/s]\n",
      "100%|██████████| 2/2 [00:00<00:00,  3.66it/s]"
     ]
    },
    {
     "name": "stdout",
     "output_type": "stream",
     "text": [
      "Training Loss: 1.4206\tValidation Loss: 1.8872\n",
      "Counter train preds: Counter({1: 32, 0: 24, 4: 8, 3: 6, 5: 3, 2: 2})\tCounter val preds: Counter({0: 25})\n",
      "Epoch train QWK: 0.441\tval QWK: 0.000\n",
      "Epoch 4/9\n",
      "----------\n"
     ]
    },
    {
     "name": "stderr",
     "output_type": "stream",
     "text": [
      "\n",
      "100%|██████████| 5/5 [00:00<00:00,  5.28it/s]"
     ]
    },
    {
     "name": "stdout",
     "output_type": "stream",
     "text": [
      "Visualising input\n"
     ]
    },
    {
     "name": "stderr",
     "output_type": "stream",
     "text": [
      "100%|██████████| 5/5 [00:00<00:00,  8.24it/s]\n",
      "100%|██████████| 2/2 [00:00<00:00,  3.60it/s]"
     ]
    },
    {
     "name": "stdout",
     "output_type": "stream",
     "text": [
      "Training Loss: 1.4067\tValidation Loss: 2.2129\n",
      "Counter train preds: Counter({1: 36, 0: 25, 3: 10, 5: 2, 2: 1, 4: 1})\tCounter val preds: Counter({0: 25})\n",
      "Epoch train QWK: 0.388\tval QWK: 0.000\n",
      "Epoch 5/9\n",
      "----------\n"
     ]
    },
    {
     "name": "stderr",
     "output_type": "stream",
     "text": [
      "\n",
      "100%|██████████| 5/5 [00:00<00:00,  8.12it/s]"
     ]
    },
    {
     "name": "stdout",
     "output_type": "stream",
     "text": [
      "Visualising input\n"
     ]
    },
    {
     "name": "stderr",
     "output_type": "stream",
     "text": [
      "\n",
      "100%|██████████| 2/2 [00:00<00:00,  3.64it/s]"
     ]
    },
    {
     "name": "stdout",
     "output_type": "stream",
     "text": [
      "Training Loss: 1.3640\tValidation Loss: 2.9000\n",
      "Counter train preds: Counter({1: 33, 0: 24, 3: 12, 2: 4, 4: 2})\tCounter val preds: Counter({0: 25})\n",
      "Epoch train QWK: 0.364\tval QWK: 0.000\n",
      "Epoch 6/9\n",
      "----------\n"
     ]
    },
    {
     "name": "stderr",
     "output_type": "stream",
     "text": [
      "\n",
      "100%|██████████| 5/5 [00:00<00:00,  4.87it/s]"
     ]
    },
    {
     "name": "stdout",
     "output_type": "stream",
     "text": [
      "Visualising input\n"
     ]
    },
    {
     "name": "stderr",
     "output_type": "stream",
     "text": [
      "100%|██████████| 5/5 [00:00<00:00,  7.86it/s]\n",
      "100%|██████████| 2/2 [00:00<00:00,  3.44it/s]"
     ]
    },
    {
     "name": "stdout",
     "output_type": "stream",
     "text": [
      "Training Loss: 1.3085\tValidation Loss: 2.7819\n",
      "Counter train preds: Counter({1: 33, 0: 20, 3: 11, 2: 4, 4: 4, 5: 3})\tCounter val preds: Counter({0: 25})\n",
      "Epoch train QWK: 0.568\tval QWK: 0.000\n",
      "Epoch 7/9\n",
      "----------\n"
     ]
    },
    {
     "name": "stderr",
     "output_type": "stream",
     "text": [
      "\n",
      "100%|██████████| 5/5 [00:00<00:00,  7.36it/s]"
     ]
    },
    {
     "name": "stdout",
     "output_type": "stream",
     "text": [
      "Visualising input\n"
     ]
    },
    {
     "name": "stderr",
     "output_type": "stream",
     "text": [
      "\n",
      "100%|██████████| 2/2 [00:00<00:00,  2.55it/s]"
     ]
    },
    {
     "name": "stdout",
     "output_type": "stream",
     "text": [
      "Training Loss: 1.3142\tValidation Loss: 2.3783\n",
      "Counter train preds: Counter({1: 36, 0: 21, 3: 9, 2: 5, 5: 3, 4: 1})\tCounter val preds: Counter({0: 18, 1: 5, 2: 2})\n",
      "Epoch train QWK: 0.435\tval QWK: 0.116\n",
      "Epoch 8/9\n",
      "----------\n"
     ]
    },
    {
     "name": "stderr",
     "output_type": "stream",
     "text": [
      "\n",
      "100%|██████████| 5/5 [00:00<00:00,  5.30it/s]"
     ]
    },
    {
     "name": "stdout",
     "output_type": "stream",
     "text": [
      "Visualising input\n"
     ]
    },
    {
     "name": "stderr",
     "output_type": "stream",
     "text": [
      "100%|██████████| 5/5 [00:00<00:00,  8.07it/s]\n",
      "100%|██████████| 2/2 [00:00<00:00,  3.62it/s]"
     ]
    },
    {
     "name": "stdout",
     "output_type": "stream",
     "text": [
      "Training Loss: 1.2917\tValidation Loss: 3.1009\n",
      "Counter train preds: Counter({1: 38, 0: 19, 2: 6, 4: 5, 3: 4, 5: 3})\tCounter val preds: Counter({0: 23, 2: 2})\n",
      "Epoch train QWK: 0.433\tval QWK: 0.009\n",
      "Epoch 9/9\n",
      "----------\n"
     ]
    },
    {
     "name": "stderr",
     "output_type": "stream",
     "text": [
      "\n",
      "100%|██████████| 5/5 [00:00<00:00,  7.24it/s]"
     ]
    },
    {
     "name": "stdout",
     "output_type": "stream",
     "text": [
      "Visualising input\n"
     ]
    },
    {
     "name": "stderr",
     "output_type": "stream",
     "text": [
      "\n",
      "100%|██████████| 2/2 [00:00<00:00,  3.73it/s]"
     ]
    },
    {
     "name": "stdout",
     "output_type": "stream",
     "text": [
      "Training Loss: 1.2545\tValidation Loss: 2.9466\n",
      "Counter train preds: Counter({1: 32, 0: 20, 3: 10, 4: 5, 2: 5, 5: 3})\tCounter val preds: Counter({0: 23, 2: 2})\n",
      "Epoch train QWK: 0.635\tval QWK: 0.009\n",
      "Train with CV, on fold 2\n",
      "Epoch 0/9\n",
      "----------\n"
     ]
    },
    {
     "name": "stderr",
     "output_type": "stream",
     "text": [
      "\n",
      "100%|██████████| 5/5 [00:00<00:00,  7.96it/s]"
     ]
    },
    {
     "name": "stdout",
     "output_type": "stream",
     "text": [
      "Visualising input\n"
     ]
    },
    {
     "name": "stderr",
     "output_type": "stream",
     "text": [
      "\n",
      "100%|██████████| 2/2 [00:00<00:00,  3.70it/s]"
     ]
    },
    {
     "name": "stdout",
     "output_type": "stream",
     "text": [
      "Training Loss: 1.6856\tValidation Loss: 1.8174\n",
      "Counter train preds: Counter({1: 48, 3: 15, 0: 12})\tCounter val preds: Counter({0: 25})\n",
      "Epoch train QWK: 0.208\tval QWK: 0.000\n",
      "Epoch 1/9\n",
      "----------\n"
     ]
    },
    {
     "name": "stderr",
     "output_type": "stream",
     "text": [
      "\n",
      " 60%|██████    | 3/5 [00:00<00:00,  3.45it/s]"
     ]
    },
    {
     "name": "stdout",
     "output_type": "stream",
     "text": [
      "Visualising input\n"
     ]
    },
    {
     "name": "stderr",
     "output_type": "stream",
     "text": [
      "100%|██████████| 5/5 [00:00<00:00,  7.56it/s]\n",
      "100%|██████████| 2/2 [00:00<00:00,  3.71it/s]"
     ]
    },
    {
     "name": "stdout",
     "output_type": "stream",
     "text": [
      "Training Loss: 1.5455\tValidation Loss: 2.4182\n",
      "Counter train preds: Counter({1: 37, 0: 21, 3: 16, 2: 1})\tCounter val preds: Counter({0: 25})\n",
      "Epoch train QWK: 0.313\tval QWK: 0.000\n",
      "Epoch 2/9\n",
      "----------\n"
     ]
    },
    {
     "name": "stderr",
     "output_type": "stream",
     "text": [
      "\n",
      "100%|██████████| 5/5 [00:00<00:00,  8.02it/s]"
     ]
    },
    {
     "name": "stdout",
     "output_type": "stream",
     "text": [
      "Visualising input\n"
     ]
    },
    {
     "name": "stderr",
     "output_type": "stream",
     "text": [
      "\n",
      "100%|██████████| 2/2 [00:00<00:00,  3.73it/s]"
     ]
    },
    {
     "name": "stdout",
     "output_type": "stream",
     "text": [
      "Training Loss: 1.4741\tValidation Loss: 2.2700\n",
      "Counter train preds: Counter({1: 33, 0: 26, 3: 14, 2: 2})\tCounter val preds: Counter({0: 25})\n",
      "Epoch train QWK: 0.287\tval QWK: 0.000\n",
      "Epoch 3/9\n",
      "----------\n"
     ]
    },
    {
     "name": "stderr",
     "output_type": "stream",
     "text": [
      "\n",
      "100%|██████████| 5/5 [00:00<00:00,  7.64it/s]"
     ]
    },
    {
     "name": "stdout",
     "output_type": "stream",
     "text": [
      "Visualising input\n"
     ]
    },
    {
     "name": "stderr",
     "output_type": "stream",
     "text": [
      "\n",
      "100%|██████████| 2/2 [00:00<00:00,  3.60it/s]"
     ]
    },
    {
     "name": "stdout",
     "output_type": "stream",
     "text": [
      "Training Loss: 1.4289\tValidation Loss: 2.4097\n",
      "Counter train preds: Counter({1: 35, 0: 28, 3: 7, 2: 5})\tCounter val preds: Counter({0: 25})\n",
      "Epoch train QWK: 0.247\tval QWK: 0.000\n",
      "Epoch 4/9\n",
      "----------\n"
     ]
    },
    {
     "name": "stderr",
     "output_type": "stream",
     "text": [
      "\n",
      " 20%|██        | 1/5 [00:00<00:01,  2.55it/s]"
     ]
    },
    {
     "name": "stdout",
     "output_type": "stream",
     "text": [
      "Visualising input\n"
     ]
    },
    {
     "name": "stderr",
     "output_type": "stream",
     "text": [
      "100%|██████████| 5/5 [00:00<00:00,  7.52it/s]\n",
      "100%|██████████| 2/2 [00:00<00:00,  3.67it/s]"
     ]
    },
    {
     "name": "stdout",
     "output_type": "stream",
     "text": [
      "Training Loss: 1.3615\tValidation Loss: 2.0392\n",
      "Counter train preds: Counter({1: 39, 0: 25, 3: 7, 2: 4})\tCounter val preds: Counter({0: 24, 2: 1})\n",
      "Epoch train QWK: 0.307\tval QWK: 0.064\n",
      "Epoch 5/9\n",
      "----------\n"
     ]
    },
    {
     "name": "stderr",
     "output_type": "stream",
     "text": [
      "\n",
      "100%|██████████| 5/5 [00:00<00:00,  7.67it/s]"
     ]
    },
    {
     "name": "stdout",
     "output_type": "stream",
     "text": [
      "Visualising input\n"
     ]
    },
    {
     "name": "stderr",
     "output_type": "stream",
     "text": [
      "\n",
      "100%|██████████| 2/2 [00:00<00:00,  3.69it/s]"
     ]
    },
    {
     "name": "stdout",
     "output_type": "stream",
     "text": [
      "Training Loss: 1.4250\tValidation Loss: 1.6867\n",
      "Counter train preds: Counter({1: 41, 0: 26, 3: 8})\tCounter val preds: Counter({0: 20, 2: 3, 1: 2})\n",
      "Epoch train QWK: 0.266\tval QWK: 0.214\n",
      "Epoch 6/9\n",
      "----------\n"
     ]
    },
    {
     "name": "stderr",
     "output_type": "stream",
     "text": [
      "\n",
      "100%|██████████| 5/5 [00:00<00:00,  7.91it/s]"
     ]
    },
    {
     "name": "stdout",
     "output_type": "stream",
     "text": [
      "Visualising input\n"
     ]
    },
    {
     "name": "stderr",
     "output_type": "stream",
     "text": [
      "\n",
      "100%|██████████| 2/2 [00:00<00:00,  3.60it/s]"
     ]
    },
    {
     "name": "stdout",
     "output_type": "stream",
     "text": [
      "Training Loss: 1.3328\tValidation Loss: 1.7360\n",
      "Counter train preds: Counter({1: 34, 0: 24, 3: 12, 2: 4, 5: 1})\tCounter val preds: Counter({0: 18, 1: 5, 2: 2})\n",
      "Epoch train QWK: 0.365\tval QWK: 0.130\n",
      "Epoch 7/9\n",
      "----------\n"
     ]
    },
    {
     "name": "stderr",
     "output_type": "stream",
     "text": [
      "\n",
      " 60%|██████    | 3/5 [00:00<00:00,  3.21it/s]"
     ]
    },
    {
     "name": "stdout",
     "output_type": "stream",
     "text": [
      "Visualising input\n"
     ]
    },
    {
     "name": "stderr",
     "output_type": "stream",
     "text": [
      "100%|██████████| 5/5 [00:00<00:00,  7.17it/s]\n",
      "100%|██████████| 2/2 [00:00<00:00,  3.71it/s]"
     ]
    },
    {
     "name": "stdout",
     "output_type": "stream",
     "text": [
      "Training Loss: 1.3236\tValidation Loss: 1.8248\n",
      "Counter train preds: Counter({1: 33, 0: 21, 2: 13, 3: 6, 5: 2})\tCounter val preds: Counter({0: 17, 1: 5, 2: 3})\n",
      "Epoch train QWK: 0.316\tval QWK: 0.272\n",
      "Epoch 8/9\n",
      "----------\n"
     ]
    },
    {
     "name": "stderr",
     "output_type": "stream",
     "text": [
      "\n",
      "100%|██████████| 5/5 [00:00<00:00,  4.99it/s]"
     ]
    },
    {
     "name": "stdout",
     "output_type": "stream",
     "text": [
      "Visualising input\n"
     ]
    },
    {
     "name": "stderr",
     "output_type": "stream",
     "text": [
      "100%|██████████| 5/5 [00:00<00:00,  7.91it/s]\n",
      "100%|██████████| 2/2 [00:00<00:00,  3.63it/s]"
     ]
    },
    {
     "name": "stdout",
     "output_type": "stream",
     "text": [
      "Training Loss: 1.2498\tValidation Loss: 2.4719\n",
      "Counter train preds: Counter({1: 34, 0: 24, 2: 8, 3: 8, 5: 1})\tCounter val preds: Counter({0: 22, 2: 3})\n",
      "Epoch train QWK: 0.392\tval QWK: 0.259\n",
      "Epoch 9/9\n",
      "----------\n"
     ]
    },
    {
     "name": "stderr",
     "output_type": "stream",
     "text": [
      "\n",
      "100%|██████████| 5/5 [00:00<00:00,  8.02it/s]"
     ]
    },
    {
     "name": "stdout",
     "output_type": "stream",
     "text": [
      "Visualising input\n"
     ]
    },
    {
     "name": "stderr",
     "output_type": "stream",
     "text": [
      "\n",
      "100%|██████████| 2/2 [00:00<00:00,  3.74it/s]"
     ]
    },
    {
     "name": "stdout",
     "output_type": "stream",
     "text": [
      "Training Loss: 1.2657\tValidation Loss: 2.4212\n",
      "Counter train preds: Counter({1: 39, 0: 21, 2: 6, 3: 6, 5: 3})\tCounter val preds: Counter({0: 22, 2: 3})\n",
      "Epoch train QWK: 0.409\tval QWK: 0.259\n",
      "Train with CV, on fold 3\n",
      "Epoch 0/9\n",
      "----------\n"
     ]
    },
    {
     "name": "stderr",
     "output_type": "stream",
     "text": [
      "\n",
      " 60%|██████    | 3/5 [00:00<00:00,  3.76it/s]"
     ]
    },
    {
     "name": "stdout",
     "output_type": "stream",
     "text": [
      "Visualising input\n"
     ]
    },
    {
     "name": "stderr",
     "output_type": "stream",
     "text": [
      "100%|██████████| 5/5 [00:00<00:00,  7.78it/s]\n",
      "100%|██████████| 2/2 [00:00<00:00,  4.08it/s]"
     ]
    },
    {
     "name": "stdout",
     "output_type": "stream",
     "text": [
      "Training Loss: 1.7337\tValidation Loss: 1.6500\n",
      "Counter train preds: Counter({1: 49, 2: 14, 0: 6, 5: 3, 3: 3})\tCounter val preds: Counter({1: 24, 0: 1})\n",
      "Epoch train QWK: 0.123\tval QWK: -0.030\n",
      "Epoch 1/9\n",
      "----------\n"
     ]
    },
    {
     "name": "stderr",
     "output_type": "stream",
     "text": [
      "\n",
      "100%|██████████| 5/5 [00:00<00:00,  7.52it/s]"
     ]
    },
    {
     "name": "stdout",
     "output_type": "stream",
     "text": [
      "Visualising input\n"
     ]
    },
    {
     "name": "stderr",
     "output_type": "stream",
     "text": [
      "\n",
      "100%|██████████| 2/2 [00:00<00:00,  4.29it/s]"
     ]
    },
    {
     "name": "stdout",
     "output_type": "stream",
     "text": [
      "Training Loss: 1.5647\tValidation Loss: 1.7000\n",
      "Counter train preds: Counter({1: 40, 0: 18, 3: 12, 2: 5})\tCounter val preds: Counter({1: 25})\n",
      "Epoch train QWK: 0.232\tval QWK: 0.000\n",
      "Epoch 2/9\n",
      "----------\n"
     ]
    },
    {
     "name": "stderr",
     "output_type": "stream",
     "text": [
      "\n",
      " 60%|██████    | 3/5 [00:00<00:00,  3.84it/s]"
     ]
    },
    {
     "name": "stdout",
     "output_type": "stream",
     "text": [
      "Visualising input\n"
     ]
    },
    {
     "name": "stderr",
     "output_type": "stream",
     "text": [
      "100%|██████████| 5/5 [00:00<00:00,  7.87it/s]\n",
      "100%|██████████| 2/2 [00:00<00:00,  4.09it/s]"
     ]
    },
    {
     "name": "stdout",
     "output_type": "stream",
     "text": [
      "Training Loss: 1.4733\tValidation Loss: 1.6935\n",
      "Counter train preds: Counter({1: 33, 0: 27, 3: 13, 2: 2})\tCounter val preds: Counter({1: 25})\n",
      "Epoch train QWK: 0.337\tval QWK: 0.000\n",
      "Epoch 3/9\n",
      "----------\n"
     ]
    },
    {
     "name": "stderr",
     "output_type": "stream",
     "text": [
      "\n",
      " 60%|██████    | 3/5 [00:00<00:00,  3.67it/s]"
     ]
    },
    {
     "name": "stdout",
     "output_type": "stream",
     "text": [
      "Visualising input\n"
     ]
    },
    {
     "name": "stderr",
     "output_type": "stream",
     "text": [
      "100%|██████████| 5/5 [00:00<00:00,  7.66it/s]\n",
      "100%|██████████| 2/2 [00:00<00:00,  4.01it/s]"
     ]
    },
    {
     "name": "stdout",
     "output_type": "stream",
     "text": [
      "Training Loss: 1.4141\tValidation Loss: 1.6876\n",
      "Counter train preds: Counter({0: 29, 1: 28, 3: 10, 2: 6, 5: 2})\tCounter val preds: Counter({1: 25})\n",
      "Epoch train QWK: 0.475\tval QWK: 0.000\n",
      "Epoch 4/9\n",
      "----------\n"
     ]
    },
    {
     "name": "stderr",
     "output_type": "stream",
     "text": [
      "\n",
      " 60%|██████    | 3/5 [00:00<00:00,  3.46it/s]"
     ]
    },
    {
     "name": "stdout",
     "output_type": "stream",
     "text": [
      "Visualising input\n"
     ]
    },
    {
     "name": "stderr",
     "output_type": "stream",
     "text": [
      "100%|██████████| 5/5 [00:00<00:00,  7.39it/s]\n",
      "100%|██████████| 2/2 [00:00<00:00,  2.65it/s]"
     ]
    },
    {
     "name": "stdout",
     "output_type": "stream",
     "text": [
      "Training Loss: 1.3655\tValidation Loss: 1.6186\n",
      "Counter train preds: Counter({1: 35, 0: 26, 3: 7, 5: 4, 2: 3})\tCounter val preds: Counter({1: 21, 2: 3, 0: 1})\n",
      "Epoch train QWK: 0.395\tval QWK: 0.012\n",
      "Epoch 5/9\n",
      "----------\n"
     ]
    },
    {
     "name": "stderr",
     "output_type": "stream",
     "text": [
      "\n",
      "100%|██████████| 5/5 [00:00<00:00,  4.61it/s]"
     ]
    },
    {
     "name": "stdout",
     "output_type": "stream",
     "text": [
      "Visualising input\n"
     ]
    },
    {
     "name": "stderr",
     "output_type": "stream",
     "text": [
      "100%|██████████| 5/5 [00:00<00:00,  7.47it/s]\n",
      "100%|██████████| 2/2 [00:00<00:00,  3.97it/s]"
     ]
    },
    {
     "name": "stdout",
     "output_type": "stream",
     "text": [
      "Training Loss: 1.3591\tValidation Loss: 1.6763\n",
      "Counter train preds: Counter({1: 32, 0: 23, 3: 11, 2: 8, 5: 1})\tCounter val preds: Counter({2: 17, 0: 6, 1: 2})\n",
      "Epoch train QWK: 0.413\tval QWK: 0.313\n",
      "Epoch 6/9\n",
      "----------\n"
     ]
    },
    {
     "name": "stderr",
     "output_type": "stream",
     "text": [
      "\n",
      "100%|██████████| 5/5 [00:00<00:00,  4.59it/s]"
     ]
    },
    {
     "name": "stdout",
     "output_type": "stream",
     "text": [
      "Visualising input\n"
     ]
    },
    {
     "name": "stderr",
     "output_type": "stream",
     "text": [
      "100%|██████████| 5/5 [00:00<00:00,  7.40it/s]\n",
      "100%|██████████| 2/2 [00:00<00:00,  4.08it/s]"
     ]
    },
    {
     "name": "stdout",
     "output_type": "stream",
     "text": [
      "Training Loss: 1.3191\tValidation Loss: 1.6529\n",
      "Counter train preds: Counter({1: 34, 0: 26, 3: 5, 2: 4, 4: 4, 5: 2})\tCounter val preds: Counter({1: 12, 2: 9, 5: 2, 0: 2})\n",
      "Epoch train QWK: 0.424\tval QWK: 0.269\n",
      "Epoch 7/9\n",
      "----------\n"
     ]
    },
    {
     "name": "stderr",
     "output_type": "stream",
     "text": [
      "\n",
      "100%|██████████| 5/5 [00:00<00:00,  7.96it/s]"
     ]
    },
    {
     "name": "stdout",
     "output_type": "stream",
     "text": [
      "Visualising input\n"
     ]
    },
    {
     "name": "stderr",
     "output_type": "stream",
     "text": [
      "\n",
      "100%|██████████| 2/2 [00:00<00:00,  3.92it/s]"
     ]
    },
    {
     "name": "stdout",
     "output_type": "stream",
     "text": [
      "Training Loss: 1.3050\tValidation Loss: 1.7019\n",
      "Counter train preds: Counter({1: 36, 0: 21, 2: 6, 3: 5, 5: 4, 4: 3})\tCounter val preds: Counter({2: 13, 5: 7, 4: 3, 0: 2})\n",
      "Epoch train QWK: 0.454\tval QWK: 0.364\n",
      "Epoch 8/9\n",
      "----------\n"
     ]
    },
    {
     "name": "stderr",
     "output_type": "stream",
     "text": [
      "\n",
      " 60%|██████    | 3/5 [00:00<00:00,  3.98it/s]"
     ]
    },
    {
     "name": "stdout",
     "output_type": "stream",
     "text": [
      "Visualising input\n"
     ]
    },
    {
     "name": "stderr",
     "output_type": "stream",
     "text": [
      "100%|██████████| 5/5 [00:00<00:00,  7.99it/s]\n",
      "100%|██████████| 2/2 [00:00<00:00,  4.10it/s]"
     ]
    },
    {
     "name": "stdout",
     "output_type": "stream",
     "text": [
      "Training Loss: 1.2645\tValidation Loss: 1.7029\n",
      "Counter train preds: Counter({1: 36, 0: 22, 5: 7, 2: 5, 3: 4, 4: 1})\tCounter val preds: Counter({2: 10, 5: 5, 0: 5, 1: 4, 3: 1})\n",
      "Epoch train QWK: 0.461\tval QWK: 0.309\n",
      "Epoch 9/9\n",
      "----------\n"
     ]
    },
    {
     "name": "stderr",
     "output_type": "stream",
     "text": [
      "\n",
      "100%|██████████| 5/5 [00:00<00:00,  4.60it/s]"
     ]
    },
    {
     "name": "stdout",
     "output_type": "stream",
     "text": [
      "Visualising input\n"
     ]
    },
    {
     "name": "stderr",
     "output_type": "stream",
     "text": [
      "100%|██████████| 5/5 [00:00<00:00,  7.52it/s]\n",
      "100%|██████████| 2/2 [00:00<00:00,  4.03it/s]"
     ]
    },
    {
     "name": "stdout",
     "output_type": "stream",
     "text": [
      "Training Loss: 1.2169\tValidation Loss: 2.0975\n",
      "Counter train preds: Counter({1: 33, 0: 22, 2: 9, 3: 6, 5: 5})\tCounter val preds: Counter({4: 14, 5: 8, 0: 3})\n",
      "Epoch train QWK: 0.530\tval QWK: 0.218\n"
     ]
    },
    {
     "name": "stderr",
     "output_type": "stream",
     "text": [
      "\n"
     ]
    }
   ],
   "source": [
    "checkpoint = \"test_fold_{}.pth\"\n",
    "for fold in range(CFG.n_fold):\n",
    "    train_df = folds[folds[\"fold\"] != fold].copy()\n",
    "    val_df = folds[folds[\"fold\"] == fold].copy()\n",
    "    \n",
    "    train_ds = TrainDataset(train_df, transform=get_transforms(data=\"train\"), debug=False)\n",
    "    val_ds = TrainDataset(val_df, transform=get_transforms(data=\"valid\"), debug=False)\n",
    "    \n",
    "    model = TinyV2ConvNet(CFG.target_size)\n",
    "    # initialize bias in the model\n",
    "    cls_probas = (train_df[CFG.target_col].value_counts() / len(train_df)).values\n",
    "    model = init_last_layer_bias(model, cls_probas)\n",
    "    \n",
    "    criterion = nn.CrossEntropyLoss()\n",
    "    optimizer = torch.optim.Adam(model.parameters(), lr=CFG.lr, amsgrad=False)\n",
    "    print(f\"Train with CV, on fold {fold}\")\n",
    "    model = train_eval_loop(train_ds, val_ds, model, optimizer, criterion, tb_tag=fold)\n",
    "    torch.save(model.state_dict(), MODEL_PATH/checkpoint.format(fold))"
   ]
  },
  {
   "cell_type": "code",
   "execution_count": null,
   "metadata": {},
   "outputs": [],
   "source": []
  }
 ],
 "metadata": {
  "kernelspec": {
   "display_name": "chestxray",
   "language": "python",
   "name": "chestxray"
  },
  "language_info": {
   "codemirror_mode": {
    "name": "ipython",
    "version": 3
   },
   "file_extension": ".py",
   "mimetype": "text/x-python",
   "name": "python",
   "nbconvert_exporter": "python",
   "pygments_lexer": "ipython3",
   "version": "3.7.7"
  },
  "toc-autonumbering": false,
  "toc-showcode": false,
  "toc-showmarkdowntxt": false
 },
 "nbformat": 4,
 "nbformat_minor": 4
}
