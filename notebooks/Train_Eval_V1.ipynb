{
 "cells": [
  {
   "cell_type": "markdown",
   "metadata": {},
   "source": [
    "### Imports"
   ]
  },
  {
   "cell_type": "code",
   "execution_count": 1,
   "metadata": {},
   "outputs": [],
   "source": [
    "%load_ext autoreload\n",
    "%autoreload 2"
   ]
  },
  {
   "cell_type": "code",
   "execution_count": 2,
   "metadata": {},
   "outputs": [],
   "source": [
    "import random\n",
    "import logging\n",
    "import subprocess\n",
    "import os\n",
    "from datetime import datetime\n",
    "from collections import Counter, OrderedDict\n",
    "import numpy as np\n",
    "import pandas as pd\n",
    "import matplotlib.pyplot as plt\n",
    "from tqdm import tqdm\n",
    "\n",
    "import torch\n",
    "import torch.nn as nn\n",
    "import torch.nn.functional as F\n",
    "from torch.utils.data import DataLoader, Dataset\n",
    "from torch.utils.tensorboard import SummaryWriter\n",
    "from torch.optim.lr_scheduler import ReduceLROnPlateau, OneCycleLR, CosineAnnealingWarmRestarts\n",
    "import torchvision\n",
    "from torchvision import models\n",
    "from apex import amp\n",
    "\n",
    "from torch_lr_finder import LRFinder\n",
    "\n",
    "from albumentations import Compose, Normalize\n",
    "from albumentations.pytorch import ToTensorV2, ToTensor\n",
    "\n",
    "from sklearn.metrics import cohen_kappa_score\n",
    "from sklearn.model_selection import StratifiedKFold\n",
    "from sklearn.metrics import confusion_matrix\n",
    "\n",
    "import cv2\n",
    "import skimage.io\n",
    "import IPython.display as display\n",
    "from PIL import Image\n",
    "\n",
    "plt.ion()\n",
    "%matplotlib inline\n",
    "%config InlineBackend.figure_format='retina'"
   ]
  },
  {
   "cell_type": "markdown",
   "metadata": {},
   "source": [
    "#### Local Imports"
   ]
  },
  {
   "cell_type": "code",
   "execution_count": 3,
   "metadata": {},
   "outputs": [],
   "source": [
    "# Paths\n",
    "from chestxray.config import (PROJ_PATH,\n",
    "                              PANDA_PATH,\n",
    "                              MODEL_PATH,\n",
    "                              PANDA_IMGS,\n",
    "                              PANDA_MASKS,\n",
    "                              TRAIN_CSV)\n",
    "# Competition related config\n",
    "from chestxray.config import CFG\n",
    "\n",
    "# Misc\n",
    "from chestxray.misc import seed_torch\n",
    "\n",
    "# Datasets\n",
    "from chestxray.datasets import get_transforms, TrainDataset, TilesTrainDataset, LazyTilesDataset, PatchTrainDataset, H5PatchDataset, SeqenceRandomSampler\n",
    "\n",
    "# Viz\n",
    "from chestxray.visualize import (show_from_ids, show_batch, imshow, \n",
    "                                 plot_classes_preds, reverse_show_img, \n",
    "                                 plot_confusion_matrix, text_classes_preds)\n",
    "\n",
    "# Nets\n",
    "from chestxray.nets import TinyV2ConvNet, freeze_botom, PatchModel, PatchEnetModel, PatchBiTModel, TilesModel, AttentionModel\n",
    "from chestxray.model_utils import (trainable_params, cce_loss_at_init, \n",
    "                                   init_last_layer_bias)\n",
    "# Losses\n",
    "from chestxray.losses import LabelSmoothSoftmaxCEV1, TopkCrossEntropy, TopkBCEWithLogitsLoss\n",
    "\n",
    "# Optim\n",
    "from chestxray.optimizers import RAdam\n",
    "\n",
    "# Schedulers\n",
    "from chestxray.schedulers import CosineAnnealingWarmUpRestarts\n",
    "\n",
    "# postproc\n",
    "from chestxray.postprocess import OptimizedRounder"
   ]
  },
  {
   "cell_type": "code",
   "execution_count": 4,
   "metadata": {},
   "outputs": [
    {
     "name": "stdout",
     "output_type": "stream",
     "text": [
      "cuda:0\n"
     ]
    }
   ],
   "source": [
    "device = torch.device(\"cuda:0\" if torch.cuda.is_available() else \"cpu\")\n",
    "print(device)"
   ]
  },
  {
   "cell_type": "code",
   "execution_count": 5,
   "metadata": {},
   "outputs": [
    {
     "name": "stdout",
     "output_type": "stream",
     "text": [
      "_CudaDeviceProperties(name='GeForce RTX 2070 SUPER', major=7, minor=5, total_memory=7979MB, multi_processor_count=40)\n"
     ]
    }
   ],
   "source": [
    "print(torch.cuda.get_device_properties(device))"
   ]
  },
  {
   "cell_type": "markdown",
   "metadata": {},
   "source": [
    "### Fix Random Seed"
   ]
  },
  {
   "cell_type": "code",
   "execution_count": 6,
   "metadata": {},
   "outputs": [],
   "source": [
    "seed_torch()"
   ]
  },
  {
   "cell_type": "code",
   "execution_count": 7,
   "metadata": {},
   "outputs": [],
   "source": [
    "# torch.backends.cudnn.benchmark = True"
   ]
  },
  {
   "cell_type": "markdown",
   "metadata": {},
   "source": [
    "### Load Data"
   ]
  },
  {
   "cell_type": "code",
   "execution_count": 8,
   "metadata": {},
   "outputs": [
    {
     "data": {
      "text/html": [
       "<div>\n",
       "<style scoped>\n",
       "    .dataframe tbody tr th:only-of-type {\n",
       "        vertical-align: middle;\n",
       "    }\n",
       "\n",
       "    .dataframe tbody tr th {\n",
       "        vertical-align: top;\n",
       "    }\n",
       "\n",
       "    .dataframe thead th {\n",
       "        text-align: right;\n",
       "    }\n",
       "</style>\n",
       "<table border=\"1\" class=\"dataframe\">\n",
       "  <thead>\n",
       "    <tr style=\"text-align: right;\">\n",
       "      <th></th>\n",
       "      <th>image_id</th>\n",
       "      <th>data_provider</th>\n",
       "      <th>isup_grade</th>\n",
       "      <th>gleason_score</th>\n",
       "    </tr>\n",
       "  </thead>\n",
       "  <tbody>\n",
       "    <tr>\n",
       "      <th>0</th>\n",
       "      <td>0005f7aaab2800f6170c399693a96917</td>\n",
       "      <td>karolinska</td>\n",
       "      <td>0</td>\n",
       "      <td>0+0</td>\n",
       "    </tr>\n",
       "    <tr>\n",
       "      <th>1</th>\n",
       "      <td>000920ad0b612851f8e01bcc880d9b3d</td>\n",
       "      <td>karolinska</td>\n",
       "      <td>0</td>\n",
       "      <td>0+0</td>\n",
       "    </tr>\n",
       "    <tr>\n",
       "      <th>2</th>\n",
       "      <td>0018ae58b01bdadc8e347995b69f99aa</td>\n",
       "      <td>radboud</td>\n",
       "      <td>4</td>\n",
       "      <td>4+4</td>\n",
       "    </tr>\n",
       "    <tr>\n",
       "      <th>3</th>\n",
       "      <td>001c62abd11fa4b57bf7a6c603a11bb9</td>\n",
       "      <td>karolinska</td>\n",
       "      <td>4</td>\n",
       "      <td>4+4</td>\n",
       "    </tr>\n",
       "    <tr>\n",
       "      <th>4</th>\n",
       "      <td>001d865e65ef5d2579c190a0e0350d8f</td>\n",
       "      <td>karolinska</td>\n",
       "      <td>0</td>\n",
       "      <td>0+0</td>\n",
       "    </tr>\n",
       "  </tbody>\n",
       "</table>\n",
       "</div>"
      ],
      "text/plain": [
       "                           image_id data_provider  isup_grade gleason_score\n",
       "0  0005f7aaab2800f6170c399693a96917    karolinska           0           0+0\n",
       "1  000920ad0b612851f8e01bcc880d9b3d    karolinska           0           0+0\n",
       "2  0018ae58b01bdadc8e347995b69f99aa       radboud           4           4+4\n",
       "3  001c62abd11fa4b57bf7a6c603a11bb9    karolinska           4           4+4\n",
       "4  001d865e65ef5d2579c190a0e0350d8f    karolinska           0           0+0"
      ]
     },
     "execution_count": 8,
     "metadata": {},
     "output_type": "execute_result"
    }
   ],
   "source": [
    "TRAIN_DF = pd.read_csv(TRAIN_CSV)\n",
    "TRAIN_DF.head()"
   ]
  },
  {
   "cell_type": "code",
   "execution_count": 9,
   "metadata": {},
   "outputs": [
    {
     "name": "stdout",
     "output_type": "stream",
     "text": [
      "<class 'pandas.core.frame.DataFrame'>\n",
      "RangeIndex: 10616 entries, 0 to 10615\n",
      "Data columns (total 4 columns):\n",
      " #   Column         Non-Null Count  Dtype \n",
      "---  ------         --------------  ----- \n",
      " 0   image_id       10616 non-null  object\n",
      " 1   data_provider  10616 non-null  object\n",
      " 2   isup_grade     10616 non-null  int64 \n",
      " 3   gleason_score  10616 non-null  object\n",
      "dtypes: int64(1), object(3)\n",
      "memory usage: 331.9+ KB\n"
     ]
    }
   ],
   "source": [
    "TRAIN_DF.info()"
   ]
  },
  {
   "cell_type": "code",
   "execution_count": 10,
   "metadata": {},
   "outputs": [
    {
     "data": {
      "image/png": "[encoded data removed]",
      "text/plain": [
       "<Figure size 432x288 with 1 Axes>"
      ]
     },
     "metadata": {
      "image/png": {
       "height": 249,
       "width": 381
      },
      "needs_background": "light"
     },
     "output_type": "display_data"
    }
   ],
   "source": [
    "_ = TRAIN_DF[CFG.target_col].hist()"
   ]
  },
  {
   "cell_type": "markdown",
   "metadata": {},
   "source": [
    "### Define Global Variables"
   ]
  },
  {
   "cell_type": "code",
   "execution_count": 11,
   "metadata": {},
   "outputs": [
    {
     "name": "stdout",
     "output_type": "stream",
     "text": [
      "Start experiment: 07-07-2020-07-58\n"
     ]
    }
   ],
   "source": [
    "if CFG.debug:\n",
    "    EXP_NAME = \"debug\"\n",
    "    writer = SummaryWriter(f\"runs_v1/{EXP_NAME}\")\n",
    "    print(f\"Start experiment: {EXP_NAME}\")\n",
    "else:\n",
    "    if not CFG.resume:\n",
    "        now = datetime.now()\n",
    "        EXP_NAME = now.strftime(\"%d-%m-%Y-%H-%M\")\n",
    "        print(f\"Start experiment: {EXP_NAME}\")\n",
    "\n",
    "        writer = SummaryWriter(f\"runs_v1/{EXP_NAME}\")\n",
    "    else:\n",
    "        # if resume should define from what to start\n",
    "        PREV_NAME = CFG.prev_exp\n",
    "        writer = SummaryWriter(f\"runs_v1/{PREV_NAME}_{CFG.stage}\")\n",
    "        print(f\"Continue experiment: {PREV_NAME}_{CFG.stage}\")"
   ]
  },
  {
   "cell_type": "code",
   "execution_count": 12,
   "metadata": {},
   "outputs": [],
   "source": [
    "# Set logger\n",
    "logger = logging.getLogger()\n",
    "logger.setLevel(logging.INFO)\n",
    "\n",
    "log_format = logging.Formatter('%(message)s')\n",
    "stream_handler = logging.StreamHandler()\n",
    "stream_handler.setFormatter(log_format)\n",
    "logger.handlers = [stream_handler]\n",
    "# add logging handler to save training to the file\n",
    "NAME = EXP_NAME if not CFG.resume else PREV_NAME\n",
    "log_fname = f\"{PROJ_PATH/'logs'}/{NAME}.log\"\n",
    "file_handler = logging.FileHandler(log_fname, mode=\"a\")\n",
    "file_handler.setFormatter(log_format)\n",
    "logger.handlers.append(file_handler)"
   ]
  },
  {
   "cell_type": "code",
   "execution_count": 13,
   "metadata": {},
   "outputs": [],
   "source": [
    "LOSSES = {\n",
    "    \"cce\" : nn.CrossEntropyLoss(),\n",
    "    \"mse\" : nn.MSELoss(),\n",
    "    \"ls_soft_ce\" : LabelSmoothSoftmaxCEV1(),\n",
    "    \"ohem\" : TopkCrossEntropy(),\n",
    "    \"bce\" : TopkBCEWithLogitsLoss() if CFG.ohem else nn.BCEWithLogitsLoss(),\n",
    "}"
   ]
  },
  {
   "cell_type": "code",
   "execution_count": 14,
   "metadata": {},
   "outputs": [],
   "source": [
    "# key - string, value - tuple(sceduler, if it epoch type)\n",
    "epoch_type = True\n",
    "SCHEDULERS = {\n",
    "    \"reduce_on_plateau\" : (ReduceLROnPlateau, epoch_type),\n",
    "    \"one_cycle\": (OneCycleLR, not epoch_type),\n",
    "    \"cawr\": (CosineAnnealingWarmUpRestarts, not epoch_type),\n",
    "    \"none\": (None, None)\n",
    "}"
   ]
  },
  {
   "cell_type": "code",
   "execution_count": 15,
   "metadata": {},
   "outputs": [],
   "source": [
    "# schedulers\n",
    "def get_scheduler(optimizer,train_dataloader, schedule_type=CFG.schedule_type, resume=False):\n",
    "    assert schedule_type in SCHEDULERS, f\"{schedule_type} not in SCHEDULERS\"\n",
    "    if schedule_type == \"reduce_on_plateau\":\n",
    "        return (SCHEDULERS[schedule_type][0](optimizer, 'min', factor=0.5, patience=CFG.rlopp if not resume else CFG.rlopp + 2, verbose=True), \n",
    "                SCHEDULERS[schedule_type][1])\n",
    "    elif schedule_type == \"one_cycle\":\n",
    "        return (SCHEDULERS[schedule_type][0](optimizer, max_lr=[CFG.lr, CFG.lr*10] if CFG.finetune == \"1stage\" else CFG.lr,\n",
    "                                             steps_per_epoch=int(len(train_dataloader) / CFG.accum_step), epochs=CFG.epoch, pct_start=1/CFG.epoch, \n",
    "                                             cycle_momentum=False, final_div_factor=CFG.oc_final_div_factor),\n",
    "                SCHEDULERS[schedule_type][1])\n",
    "    elif schedule_type == \"cawr\":\n",
    "        return (SCHEDULERS[schedule_type][0](optimizer, T_0=CFG.cawr_T_0, T_mult=CFG.cawr_T_mult, eta_max=CFG.lr, T_up=CFG.cawr_T_up, gamma=CFG.cawr_gamma),\n",
    "                SCHEDULERS[schedule_type][1])\n",
    "    else:\n",
    "        return (SCHEDULERS[schedule_type][0],\n",
    "                SCHEDULERS[schedule_type][1])"
   ]
  },
  {
   "cell_type": "markdown",
   "metadata": {},
   "source": [
    "### Train Eval Loop"
   ]
  },
  {
   "cell_type": "code",
   "execution_count": 16,
   "metadata": {},
   "outputs": [],
   "source": [
    "# Train Eval Loop\n",
    "def train_eval_loop(\n",
    "    train_dataloader,\n",
    "    val_dataloader,\n",
    "    model,\n",
    "    optimizer,\n",
    "    criterion,\n",
    "    accum_step=CFG.accum_step,\n",
    "    checkpoint=False,\n",
    "    num_epochs=CFG.epoch,\n",
    "    device=device,\n",
    "    tb_tag=\"\",\n",
    "    model_name=\"debug\",\n",
    "):\n",
    "    \"\"\"Split it into the set of inner functions to siplify the loop itself\"\"\"\n",
    "    # Inner Functions\n",
    "    # write to TensorBoard helpers\n",
    "    def weights_to_tb(step=0):\n",
    "        conv1_weight = list(model.parameters())[0].data.to(\"cpu\")\n",
    "        img_grid = torchvision.utils.make_grid(conv1_weight.float(), normalize=True)\n",
    "        writer.add_image(\n",
    "            tag=f\"Model conv1 weights {tb_tag}\", img_tensor=img_grid, global_step=step\n",
    "        )\n",
    "\n",
    "    def input_img_to_tb(inputs, step):\n",
    "        img = reverse_show_img(inputs[0], denorm=True)\n",
    "        writer.add_image(\n",
    "            tag=f\"Input Image {tb_tag}\",\n",
    "            img_tensor=img,\n",
    "            global_step=step,\n",
    "            dataformats=\"HWC\",\n",
    "        )\n",
    "        del img\n",
    "\n",
    "    def preds_to_tb(outputs, inputs, labels, step):\n",
    "        figure = plot_classes_preds(\n",
    "            outputs.to(\"cpu\"), inputs.to(\"cpu\"), labels.to(\"cpu\")\n",
    "        )\n",
    "        writer.add_figure(\n",
    "            tag=f\"Actuals vs Predictions {tb_tag}\", figure=figure, global_step=step\n",
    "        )\n",
    "\n",
    "    def text_preds_to_tb(outputs, labels, step):\n",
    "        preds, targs = compute_preds(outputs, labels)\n",
    "        preds_text = f\"targs: {targs}, preds: {preds}\"\n",
    "        writer.add_text(\n",
    "            f\"Actuals vs Predictions {tb_tag}\", preds_text, global_step=step\n",
    "        )\n",
    "\n",
    "    def metrics_to_tb(mode, train_loss, train_score, val_loss, val_score, step):\n",
    "        writer.add_text(\n",
    "            f\"On best {mode} save:\",\n",
    "            f\"tr_loss: {train_loss:.4f}, tr_qwk: {train_score:.4f}, val_loss: {val_loss:.4f}, val_qwk: {val_score:.4f}\",  # noqa\n",
    "            global_step=step,\n",
    "        )\n",
    "\n",
    "    def conf_matrix_to_tb(val_epoch_labels, val_epoch_preds, step):\n",
    "        writer.add_figure(\n",
    "            tag=f\"Confusion matrix {tb_tag}\",\n",
    "            figure=plot_confusion_matrix(\n",
    "                val_epoch_labels, val_epoch_preds, normalize=True\n",
    "            ),\n",
    "            global_step=step,\n",
    "        )\n",
    "        \n",
    "    def attention_to_tb(att, step):\n",
    "        att_arr = att.data.cpu().numpy()[0, 0]\n",
    "        text = f\"{np.around(att_arr, decimals=3)}\"\n",
    "        writer.add_text(f\"Attention Map for Oth Val sample {tb_tag}\", text, global_step=step)\n",
    "        \n",
    "        \n",
    "    def compute_preds(outputs, labels, loss_type=CFG.loss):\n",
    "        if loss_type == \"bce\":\n",
    "            preds = outputs.detach().sigmoid().sum(1).round()\n",
    "            targs = labels.sum(1)\n",
    "        elif loss_type == \"mse\":\n",
    "            preds = outputs.detach().round()\n",
    "            targs = labels\n",
    "        else:\n",
    "            preds = outputs.detach().argmax(1)\n",
    "            targs = labels\n",
    "        return preds.int(), targs.int()\n",
    "        \n",
    "\n",
    "    # Train/Eval Loop\n",
    "    # write first layer weights to TB @ init phase\n",
    "    if not CFG.debug:\n",
    "        weights_to_tb()\n",
    "\n",
    "    # prepare model and optimizer\n",
    "    model.to(device)\n",
    "    if CFG.use_amp:  # automatic mixed precision\n",
    "        model, optimizer = amp.initialize(model, optimizer, opt_level=\"O2\")\n",
    "        \n",
    "    # init scheduler after amp init of optimizer\n",
    "    scheduler, sch_is_epoch_type = get_scheduler(optimizer, train_dataloader, resume=CFG.resume)\n",
    "    \n",
    "    # define epochs numbers to look into input images and predictions,\n",
    "    # no more than 30 times per full training\n",
    "    vis_step = np.ceil(num_epochs / 30).astype(int)\n",
    "    visual_epochs = list(range(0, num_epochs, vis_step))\n",
    "    # metrics to wathch for model checkpointing\n",
    "    best_qwk = -100 if not checkpoint else checkpoint[\"best_qwk\"]\n",
    "    best_val_loss = np.inf if not checkpoint else checkpoint[\"best_val_loss\"]\n",
    "\n",
    "    start_epoch = 0 if not checkpoint else checkpoint[\"epoch\"] + 1\n",
    "    for epoch in range(start_epoch, num_epochs):\n",
    "        logging.info(f\"Epoch {epoch}/{num_epochs - 1}\")\n",
    "        logging.info(\"=\" * 10)\n",
    "\n",
    "        # Training Phase\n",
    "        # Set training mode\n",
    "        model.train()\n",
    "        train_running_loss = 0.0\n",
    "        accum_train_loss = 0.0\n",
    "        train_epoch_preds, train_epoch_labels = [], []\n",
    "\n",
    "        # We accumulate, zero at training epoch begins\n",
    "        optimizer.zero_grad()\n",
    "\n",
    "        # Iterate over train data.\n",
    "        tk_train = tqdm(enumerate(train_dataloader), total=len(train_dataloader))\n",
    "        for i, data in tk_train:\n",
    "            # Calculate global step for TensorBoard\n",
    "            train_global_step = epoch * len(train_dataloader) + i\n",
    "\n",
    "            inputs, labels = data\n",
    "            # Visualize input before model at the middle of epoch:\n",
    "            if epoch in visual_epochs and i == len(train_dataloader) // 2:\n",
    "                input_img_to_tb(inputs, train_global_step)\n",
    "\n",
    "            inputs = inputs.to(device)\n",
    "            labels = labels.to(device)\n",
    "\n",
    "            if CFG.att:\n",
    "                outputs, _ = model(inputs) # don't need att map here\n",
    "            else:\n",
    "                outputs = model(inputs)\n",
    "            \n",
    "            # then usimg accumulated gradients they sum up every loss.backward, we want mean of gradients\n",
    "            # and so pararameter updates will be the same in case of accum_step > 1\n",
    "            loss = criterion(outputs, labels) / accum_step\n",
    "            if CFG.use_amp:\n",
    "                with amp.scale_loss(loss, optimizer) as scaled_loss:\n",
    "                    scaled_loss.backward()\n",
    "            else:\n",
    "                loss.backward()\n",
    "            \n",
    "            accum_train_loss += loss.item()\n",
    "            # we accumulate gradients and make optimization step once per\n",
    "            # # of accum_step\n",
    "            if (i + 1) % accum_step == 0:\n",
    "                optimizer.step()\n",
    "                optimizer.zero_grad()\n",
    "                # Add Batch Type Scheduler step here (update lr only after optimizer step):\n",
    "                if scheduler and not sch_is_epoch_type:\n",
    "                    if CFG.schedule_type == \"cawr\":\n",
    "                        scheduler.step(epoch + i / len(train_dataloader))\n",
    "                    else:\n",
    "                        scheduler.step()\n",
    "\n",
    "                # loss is mean across batch, divide by number of steps in epoch\n",
    "                # (so loss is normalized) + we only update train_running_loss every accum_step\n",
    "                train_running_loss += accum_train_loss / (len(train_dataloader) / accum_step)\n",
    "                # tensorboarding loss\n",
    "                writer.add_scalar(\n",
    "                    tag=f\"Training loss {tb_tag}\",\n",
    "                    scalar_value=accum_train_loss,\n",
    "                    global_step=train_global_step,\n",
    "                )\n",
    "                # zero accum_train_loss \n",
    "                accum_train_loss = 0.\n",
    "\n",
    "            # collect train preds and labels for QWK\n",
    "            preds, targs = compute_preds(outputs, labels)\n",
    "            train_epoch_preds.append(preds)\n",
    "            train_epoch_labels.append(targs)\n",
    "        \n",
    "        if CFG.use_validation:\n",
    "            # Validation Phase\n",
    "            # Set evaluation mode\n",
    "            model.eval()\n",
    "            val_running_loss = 0.0\n",
    "            val_epoch_preds, val_epoch_labels = [], []\n",
    "            # Iterate over val data\n",
    "            tk_val = tqdm(enumerate(val_dataloader), total=len(val_dataloader))\n",
    "            for j, data in tk_val:\n",
    "                # Calculate global step\n",
    "                val_global_step = epoch * len(val_dataloader) + j\n",
    "                inputs, labels = data\n",
    "                if CFG.aux_tile:\n",
    "                    inp_main, inp_aux = inputs\n",
    "                    inp_main, inp_aux = inp_main.to(device), inp_aux.to(device)\n",
    "                else:\n",
    "                    inputs = inputs.to(device)\n",
    "\n",
    "                labels = labels.to(device)\n",
    "                with torch.no_grad():\n",
    "                    if CFG.aux_tile:\n",
    "                        out_main = model(inp_main)\n",
    "                        out_aux = model(inp_aux)\n",
    "                        outputs = (out_main + out_aux) / 2\n",
    "                    else:\n",
    "                        if CFG.att:\n",
    "                            outputs, att = model(inputs)\n",
    "                        else:\n",
    "                            outputs = model(inputs)\n",
    "                if CFG.ohem:\n",
    "                    loss = criterion(outputs, labels, valid=True)\n",
    "                else:\n",
    "                    loss = criterion(outputs, labels)\n",
    "\n",
    "                val_running_loss += loss.item() / len(val_dataloader)\n",
    "                # tensorboarding loss\n",
    "                writer.add_scalar(\n",
    "                    tag=f\"Validation loss {tb_tag}\",\n",
    "                    scalar_value=loss.item(),\n",
    "                    global_step=val_global_step,\n",
    "                )\n",
    "\n",
    "                # collect validation preds and labels for QWK\n",
    "                preds, targs = compute_preds(outputs, labels)\n",
    "                val_epoch_preds.append(preds)\n",
    "                val_epoch_labels.append(targs)\n",
    "\n",
    "                # visualise predictions for 0th validation batch\n",
    "                if epoch in visual_epochs and j == 0:\n",
    "                    text_preds_to_tb(outputs, labels, val_global_step)\n",
    "\n",
    "                    # look into attention map if use it\n",
    "                    if CFG.att:\n",
    "                        attention_to_tb(att, val_global_step)\n",
    "\n",
    "            # Epoch type Schedulers\n",
    "            if scheduler and sch_is_epoch_type:\n",
    "                scheduler.step(val_running_loss)\n",
    "        \n",
    "        # Write lr to TBD\n",
    "        if CFG.finetune == \"1stage\":\n",
    "            writer.add_scalar(\n",
    "                tag=f\"lr Interim {tb_tag}:\",\n",
    "                scalar_value=optimizer.param_groups[0][\"lr\"],\n",
    "                global_step=train_global_step,\n",
    "            )\n",
    "            writer.add_scalar(\n",
    "                tag=f\"lr Classifier {tb_tag}:\",\n",
    "                scalar_value=optimizer.param_groups[1][\"lr\"],\n",
    "                global_step=train_global_step,\n",
    "            )\n",
    "\n",
    "        else:\n",
    "            writer.add_scalar(\n",
    "                tag=f\"lr {tb_tag}:\",\n",
    "                scalar_value=optimizer.param_groups[0][\"lr\"],\n",
    "                global_step=train_global_step,\n",
    "            )\n",
    "\n",
    "        # \"End of Epoch\" Phase\n",
    "        logging.info(f\"Training Loss: {train_running_loss:.4f}\")\n",
    "        if CFG.use_validation:\n",
    "            logging.info(f\"Validation Loss: {val_running_loss:.4f}\")\n",
    "\n",
    "        # Calculate epoch predictions distribution\n",
    "        train_epoch_preds = torch.cat(train_epoch_preds).cpu().numpy()\n",
    "        train_epoch_labels = torch.cat(train_epoch_labels).cpu().numpy()\n",
    "        if CFG.use_validation:\n",
    "            val_epoch_preds = torch.cat(val_epoch_preds).cpu().numpy()\n",
    "            val_epoch_labels = torch.cat(val_epoch_labels).cpu().numpy()\n",
    "        logging.info(f\"Counter train preds: {Counter(train_epoch_preds)}\")\n",
    "        if CFG.use_validation:\n",
    "            logging.info(f\"Counter val preds: {Counter(val_epoch_preds)}\")\n",
    "        \n",
    "        # Calculate epoch QWK\n",
    "        train_qwk = cohen_kappa_score(train_epoch_preds, train_epoch_labels, weights=\"quadratic\")\n",
    "        if CFG.use_validation:\n",
    "            val_qwk = cohen_kappa_score(val_epoch_preds, val_epoch_labels, weights=\"quadratic\")\n",
    "        logging.info(f\"Epoch train QWK: {train_qwk:.3f}\")\n",
    "        if CFG.use_validation:\n",
    "            logging.info(f\"Epoch val QWK: {val_qwk:.3f}\")\n",
    "        writer.add_scalar(tag=f\"Training QWK {tb_tag}\", scalar_value=train_qwk, global_step=epoch)\n",
    "        if CFG.use_validation:\n",
    "            writer.add_scalar(tag=f\"Validation QWK {tb_tag}\", scalar_value=val_qwk, global_step=epoch)\n",
    "\n",
    "        if CFG.use_validation:\n",
    "            # On the best val loss do:\n",
    "            if val_running_loss < best_val_loss:\n",
    "                # update best and save model\n",
    "                best_val_loss = val_running_loss\n",
    "                logging.info(f\"  Epoch {epoch} - Save Best Loss: {best_val_loss:.4f} Model\")\n",
    "                torch.save(\n",
    "                    {\n",
    "                        \"epoch\": epoch,\n",
    "                        \"model_state_dict\": model.state_dict(),\n",
    "                        \"optimizer_state_dict\": optimizer.state_dict(),\n",
    "                        \"best_val_loss\": best_val_loss,\n",
    "                        \"best_qwk\": val_qwk,\n",
    "                    },\n",
    "                    f\"{MODEL_PATH}/{model_name}_{epoch}_loss.pth\",\n",
    "                )\n",
    "                # add losses as text to TB\n",
    "                metrics_to_tb(\n",
    "                    \"loss\",\n",
    "                    train_running_loss,\n",
    "                    train_qwk,\n",
    "                    val_running_loss,\n",
    "                    val_qwk,\n",
    "                    val_global_step,\n",
    "                )\n",
    "                # add image of conv1 weights to TB\n",
    "                if not CFG.debug:\n",
    "                    weights_to_tb(val_global_step)\n",
    "                # add confusion matrix to TB\n",
    "                conf_matrix_to_tb(val_epoch_labels, val_epoch_preds, val_global_step)\n",
    "\n",
    "            # On the best val loss do:\n",
    "            if val_qwk > best_qwk:\n",
    "                # update best and save model\n",
    "                best_qwk = val_qwk\n",
    "                logging.info(f\"  Epoch {epoch} - Save Best QWK: {best_qwk:.4f} Model\")\n",
    "                torch.save(\n",
    "                    {\n",
    "                        \"epoch\": epoch,\n",
    "                        \"model_state_dict\": model.state_dict(),\n",
    "                        \"optimizer_state_dict\": optimizer.state_dict(),\n",
    "                        \"best_val_loss\": val_running_loss,\n",
    "                        \"best_qwk\": best_qwk,\n",
    "                    },\n",
    "                    f\"{MODEL_PATH}/{model_name}_{epoch}_qwk.pth\",\n",
    "                )\n",
    "                # add losses as text to TB\n",
    "                metrics_to_tb(\n",
    "                    \"qwk\",\n",
    "                    train_running_loss,\n",
    "                    train_qwk,\n",
    "                    val_running_loss,\n",
    "                    val_qwk,\n",
    "                    val_global_step,\n",
    "                )\n",
    "                # add image of conv1 weights to TB\n",
    "                if not CFG.debug:\n",
    "                    weights_to_tb(val_global_step)\n",
    "                # add confusion matrix to TB\n",
    "                conf_matrix_to_tb(val_epoch_labels, val_epoch_preds, val_global_step)\n",
    "        \n",
    "        # not using validation, save checkpoints each epoch after 65% of training \n",
    "        if not CFG.use_validation and (epoch / num_epochs) >= 0.65:\n",
    "            logging.info(f\"  Epoch {epoch} - Save Model\")\n",
    "            torch.save(\n",
    "                {\n",
    "                    \"epoch\": epoch,\n",
    "                    \"model_state_dict\": model.state_dict(),\n",
    "                    \"optimizer_state_dict\": optimizer.state_dict(),\n",
    "                },\n",
    "                f\"{MODEL_PATH}/{model_name}_{epoch}.pth\",\n",
    "            )\n",
    "\n",
    "    # End of loop\n",
    "    if not CFG.use_validation:\n",
    "        return model\n",
    "    \n",
    "    return model, best_val_loss, best_qwk"
   ]
  },
  {
   "cell_type": "markdown",
   "metadata": {},
   "source": [
    "### Prepare CV - strategy"
   ]
  },
  {
   "cell_type": "code",
   "execution_count": 17,
   "metadata": {},
   "outputs": [],
   "source": [
    "CFG.debug = True"
   ]
  },
  {
   "cell_type": "code",
   "execution_count": 17,
   "metadata": {},
   "outputs": [],
   "source": [
    "# That for the first time"
   ]
  },
  {
   "cell_type": "code",
   "execution_count": 28,
   "metadata": {},
   "outputs": [],
   "source": [
    "if CFG.debug:\n",
    "    folds_fn = \"folds_db.csv\"\n",
    "    try: \n",
    "        folds = pd.read_csv(PANDA_PATH/folds_fn)\n",
    "    except FileNotFoundError:\n",
    "        folds = TRAIN_DF.sample(n=500, random_state=CFG.seed).reset_index(drop=True).copy()\n",
    "else:\n",
    "    folds_fn = \"folds.csv\"\n",
    "    try:\n",
    "        folds = pd.read_csv(PANDA_PATH/folds_fn)\n",
    "    except FileNotFoundError:\n",
    "        folds = TRAIN_DF.copy()"
   ]
  },
  {
   "cell_type": "code",
   "execution_count": 16,
   "metadata": {
    "collapsed": true,
    "jupyter": {
     "outputs_hidden": true
    }
   },
   "outputs": [
    {
     "ename": "NameError",
     "evalue": "name 'folds_fn' is not defined",
     "output_type": "error",
     "traceback": [
      "\u001b[0;31m---------------------------------------------------------------------------\u001b[0m",
      "\u001b[0;31mNameError\u001b[0m                                 Traceback (most recent call last)",
      "\u001b[0;32m<ipython-input-16-09b993832388>\u001b[0m in \u001b[0;36m<module>\u001b[0;34m\u001b[0m\n\u001b[0;32m----> 1\u001b[0;31m \u001b[0;32mif\u001b[0m \u001b[0;32mnot\u001b[0m \u001b[0;34m(\u001b[0m\u001b[0mPANDA_PATH\u001b[0m\u001b[0;34m/\u001b[0m\u001b[0mfolds_fn\u001b[0m\u001b[0;34m)\u001b[0m\u001b[0;34m.\u001b[0m\u001b[0mexists\u001b[0m\u001b[0;34m(\u001b[0m\u001b[0;34m)\u001b[0m\u001b[0;34m:\u001b[0m\u001b[0;34m\u001b[0m\u001b[0;34m\u001b[0m\u001b[0m\n\u001b[0m\u001b[1;32m      2\u001b[0m     \u001b[0mtrain_labels\u001b[0m \u001b[0;34m=\u001b[0m \u001b[0mfolds\u001b[0m\u001b[0;34m[\u001b[0m\u001b[0mCFG\u001b[0m\u001b[0;34m.\u001b[0m\u001b[0mtarget_col\u001b[0m\u001b[0;34m]\u001b[0m\u001b[0;34m.\u001b[0m\u001b[0mvalues\u001b[0m\u001b[0;34m\u001b[0m\u001b[0;34m\u001b[0m\u001b[0m\n\u001b[1;32m      3\u001b[0m     \u001b[0mkf\u001b[0m \u001b[0;34m=\u001b[0m \u001b[0mStratifiedKFold\u001b[0m\u001b[0;34m(\u001b[0m\u001b[0mn_splits\u001b[0m\u001b[0;34m=\u001b[0m\u001b[0mCFG\u001b[0m\u001b[0;34m.\u001b[0m\u001b[0mn_fold\u001b[0m\u001b[0;34m,\u001b[0m \u001b[0mshuffle\u001b[0m\u001b[0;34m=\u001b[0m\u001b[0;32mTrue\u001b[0m\u001b[0;34m,\u001b[0m \u001b[0mrandom_state\u001b[0m\u001b[0;34m=\u001b[0m\u001b[0mCFG\u001b[0m\u001b[0;34m.\u001b[0m\u001b[0mseed\u001b[0m\u001b[0;34m)\u001b[0m\u001b[0;34m\u001b[0m\u001b[0;34m\u001b[0m\u001b[0m\n\u001b[1;32m      4\u001b[0m     \u001b[0;32mfor\u001b[0m \u001b[0mfold\u001b[0m\u001b[0;34m,\u001b[0m \u001b[0;34m(\u001b[0m\u001b[0mtrain_index\u001b[0m\u001b[0;34m,\u001b[0m \u001b[0mval_index\u001b[0m\u001b[0;34m)\u001b[0m \u001b[0;32min\u001b[0m \u001b[0menumerate\u001b[0m\u001b[0;34m(\u001b[0m\u001b[0mkf\u001b[0m\u001b[0;34m.\u001b[0m\u001b[0msplit\u001b[0m\u001b[0;34m(\u001b[0m\u001b[0mfolds\u001b[0m\u001b[0;34m.\u001b[0m\u001b[0mvalues\u001b[0m\u001b[0;34m,\u001b[0m \u001b[0mtrain_labels\u001b[0m\u001b[0;34m)\u001b[0m\u001b[0;34m)\u001b[0m\u001b[0;34m:\u001b[0m\u001b[0;34m\u001b[0m\u001b[0;34m\u001b[0m\u001b[0m\n\u001b[1;32m      5\u001b[0m         \u001b[0mfolds\u001b[0m\u001b[0;34m.\u001b[0m\u001b[0mloc\u001b[0m\u001b[0;34m[\u001b[0m\u001b[0mval_index\u001b[0m\u001b[0;34m,\u001b[0m \u001b[0;34m'fold'\u001b[0m\u001b[0;34m]\u001b[0m \u001b[0;34m=\u001b[0m \u001b[0mint\u001b[0m\u001b[0;34m(\u001b[0m\u001b[0mfold\u001b[0m\u001b[0;34m)\u001b[0m\u001b[0;34m\u001b[0m\u001b[0;34m\u001b[0m\u001b[0m\n",
      "\u001b[0;31mNameError\u001b[0m: name 'folds_fn' is not defined"
     ]
    }
   ],
   "source": [
    "if not (PANDA_PATH/folds_fn).exists():\n",
    "    train_labels = folds[CFG.target_col].values\n",
    "    kf = StratifiedKFold(n_splits=CFG.n_fold, shuffle=True, random_state=CFG.seed)\n",
    "    for fold, (train_index, val_index) in enumerate(kf.split(folds.values, train_labels)):\n",
    "        folds.loc[val_index, 'fold'] = int(fold)\n",
    "    folds['fold'] = folds['fold'].astype(int)\n",
    "    folds.to_csv(PANDA_PATH/folds_fn, index=None)\n",
    "    folds.head()"
   ]
  },
  {
   "cell_type": "code",
   "execution_count": 17,
   "metadata": {},
   "outputs": [],
   "source": [
    "# Here use existing (folds_dedup is folds_cleaned + dropped duplicates)\n",
    "# See corresponding notebooks: Suspicious_Input for cleaning\n",
    "# and Find_Drop_Duplicates for duplicates"
   ]
  },
  {
   "cell_type": "code",
   "execution_count": 17,
   "metadata": {},
   "outputs": [],
   "source": [
    "if CFG.debug:\n",
    "    folds = pd.read_csv(PANDA_PATH/\"folds_db.csv\")\n",
    "else:\n",
    "    folds = pd.read_csv(PANDA_PATH/\"folds_dedup_v1.csv\")"
   ]
  },
  {
   "cell_type": "code",
   "execution_count": 18,
   "metadata": {},
   "outputs": [
    {
     "name": "stdout",
     "output_type": "stream",
     "text": [
      "<class 'pandas.core.frame.DataFrame'>\n",
      "RangeIndex: 9983 entries, 0 to 9982\n",
      "Data columns (total 6 columns):\n",
      " #   Column         Non-Null Count  Dtype  \n",
      "---  ------         --------------  -----  \n",
      " 0   image_id       9983 non-null   object \n",
      " 1   data_provider  9983 non-null   object \n",
      " 2   isup_grade     9983 non-null   int64  \n",
      " 3   gleason_score  9983 non-null   object \n",
      " 4   fold           9983 non-null   int64  \n",
      " 5   class_weight   9983 non-null   float64\n",
      "dtypes: float64(1), int64(2), object(3)\n",
      "memory usage: 468.1+ KB\n"
     ]
    }
   ],
   "source": [
    "folds.info()"
   ]
  },
  {
   "cell_type": "code",
   "execution_count": 19,
   "metadata": {},
   "outputs": [],
   "source": [
    "# folds = folds.sample(20)"
   ]
  },
  {
   "cell_type": "markdown",
   "metadata": {},
   "source": [
    "### Init Data"
   ]
  },
  {
   "cell_type": "code",
   "execution_count": 20,
   "metadata": {},
   "outputs": [],
   "source": [
    "# get folds (all experiments validated on fold 0)\n",
    "if CFG.use_validation:\n",
    "    train_df = folds[folds[\"fold\"] != 0].copy()\n",
    "    val_df = folds[folds[\"fold\"] == 0].copy()\n",
    "if not CFG.use_validation:\n",
    "    ids = np.random.choice(np.arange(len(folds)), size=500, replace=False)\n",
    "    train_df = folds.drop(ids).copy()\n",
    "    val_df = folds.loc[ids].copy() # for later threshold optimization\n",
    "\n",
    "# define datasets\n",
    "if CFG.dataset == \"lazy\":\n",
    "    train_ds = LazyTilesDataset(train_df, transform=get_transforms(data=\"train\", aug=CFG.aug_type), debug=False)\n",
    "    val_ds = TilesTrainDataset(val_df, is_train=False, transform=get_transforms(data=\"valid\"), debug=False) # same allways to compare with previous results\n",
    "elif CFG.dataset == \"tiles\":\n",
    "    train_ds = TilesTrainDataset(train_df, transform=get_transforms(data=\"train\", aug=CFG.aug_type), transform_stacked=get_transforms(data=\"train\", aug=CFG.aug_concat),\n",
    "                                 debug=False, aux_tile=CFG.aux_tile, w_sample=CFG.w_sample, regression=CFG.regression, loss=CFG.loss)\n",
    "    val_ds = TilesTrainDataset(val_df, is_train=False, transform=get_transforms(data=\"valid\"), debug=False, aux_tile=CFG.aux_tile, regression=CFG.regression, loss=CFG.loss)\n",
    "elif CFG.dataset == \"patch\":\n",
    "    train_ds = PatchTrainDataset(train_df, transform=get_transforms(data=\"train\", aug=CFG.aug_type), debug=False)\n",
    "    val_ds = PatchTrainDataset(val_df, is_train=False, debug=False)\n",
    "elif CFG.dataset == \"hdf5\":\n",
    "    train_ds = H5PatchDataset(file_path=PANDA_PATH / \"hdf5\", fnames=[\"patch256x16x1_fold_1.h5\", \"patch256x16x1_fold_2.h5\", \"patch256x16x1_fold_3.h5\"])\n",
    "    val_ds = H5PatchDataset(file_path=PANDA_PATH / \"hdf5\", fnames=[\"patch256x16x1_fold_0.h5\"])\n",
    "else:\n",
    "    print(f\"No such dataset {CFG.dataset}\")\n",
    "    \n",
    "# define a data loader\n",
    "if CFG.dataset == \"hdf5\":\n",
    "    # use specific sampler (so not to load hdf5 files to memory too frequently)\n",
    "    sampler = SeqenceRandomSampler(len(train_ds), train_ds._common_len)\n",
    "    train_dataloader = DataLoader(train_ds, batch_size=CFG.batch_size, sampler=sampler, num_workers=min(CFG.batch_size, 8), pin_memory=True)\n",
    "    val_dataloader = DataLoader(val_ds, batch_size=CFG.batch_size, shuffle=False, num_workers=min(CFG.batch_size, 8), pin_memory=True)\n",
    "else:\n",
    "    train_dataloader = DataLoader(train_ds, batch_size=CFG.batch_size, shuffle=True, num_workers=min(CFG.batch_size+2, 6), pin_memory=True)\n",
    "    val_dataloader = DataLoader(val_ds, batch_size=CFG.batch_size, shuffle=False, num_workers=min(CFG.batch_size+2, 6), pin_memory=False)"
   ]
  },
  {
   "cell_type": "markdown",
   "metadata": {},
   "source": [
    "### Init Functions"
   ]
  },
  {
   "cell_type": "code",
   "execution_count": 21,
   "metadata": {},
   "outputs": [],
   "source": [
    "def init_model(train_df=train_df, arch=CFG.arch, pre_init_fc_bias=CFG.pre_init_fc_bias, pretrained=True):\n",
    "    # For now only torchvision models ok for attention\n",
    "    if CFG.att:\n",
    "        assert arch in [\"resnet50\", \"resnet34\"]\n",
    "    \n",
    "    # MIL variant\n",
    "    if CFG.dataset == \"patch\":\n",
    "        if arch == \"efnet\":\n",
    "            model_ft = PatchEnetModel(backbone=CFG.enet_bone, pretrained=pretrained)\n",
    "        elif arch == \"bitM\":\n",
    "            model_ft = PatchBiTModel(pretrained=pretrained)\n",
    "        else:\n",
    "            if CFG.att:\n",
    "                model_ft = AttentionModel(arch=arch, pretrained=pretrained)\n",
    "            else:\n",
    "                model_ft = PatchModel(arch=arch, pretrained=pretrained)\n",
    "            if pre_init_fc_bias:\n",
    "                if CFG.loss in [\"cce\", \"ls_soft_ce\", \"ohem\"]:\n",
    "                    # initialize bias in the model\n",
    "                    cls_probas = (train_df[CFG.target_col].value_counts() / len(train_df)).values\n",
    "                    model_ft = init_last_layer_bias(model_ft, cls_probas)\n",
    "    # Stitched Tiles variant\n",
    "    elif CFG.dataset == \"tiles\":\n",
    "        if arch in [\"resnet50\", \"resnet34\"]:\n",
    "            model_ft = TilesModel(arch=arch, pretrained=pretrained, loss=CFG.loss, regression=CFG.regression)\n",
    "        else:\n",
    "            print(f\"Tiles model for {arch} is not yet implemented!\")\n",
    "    \n",
    "    return model_ft\n",
    "\n",
    "\n",
    "def init_optimizer(model_ft):\n",
    "    if CFG.finetune == \"1stage\":\n",
    "        freeze_botom(model_ft)\n",
    "        interm_params = [\n",
    "            p[1]\n",
    "            for p in model_ft.named_parameters()\n",
    "            if (not p[0].startswith(\"fc\") and p[1].requires_grad)\n",
    "        ]\n",
    "        if CFG.optim == \"adam\":\n",
    "            optimizer = torch.optim.Adam(\n",
    "                [\n",
    "                    {\"params\": interm_params, \"lr\": CFG.lr},\n",
    "                    {\"params\": model_ft.fc.parameters(), \"lr\": CFG.lr * 10},\n",
    "                ]\n",
    "            )\n",
    "        elif CFG.optim == \"sgd\":\n",
    "            optimizer = torch.optim.SGD(\n",
    "                [\n",
    "                    {\"params\": interm_params, \"lr\": CFG.lr},\n",
    "                    {\"params\": model_ft.fc.parameters(), \"lr\": CFG.lr * 10},\n",
    "                ],\n",
    "                momentum=0.9,\n",
    "                nesterov=True,\n",
    "            )\n",
    "    else:\n",
    "        LR = CFG.lr / 1000 if CFG.schedule_type == \"cawr\" else CFG.lr\n",
    "        if CFG.optim == \"adam\":\n",
    "            optimizer = torch.optim.Adam(\n",
    "                model_ft.parameters(), lr=LR, amsgrad=False\n",
    "            )\n",
    "        elif CFG.optim == \"adamw\":\n",
    "            optimizer = torch.optim.AdamW(model_ft.parameters(), lr=LR, \n",
    "                                          weight_decay=CFG.wd)\n",
    "        elif CFG.optim == \"sgd\":\n",
    "            optimizer = torch.optim.SGD(\n",
    "                model_ft.parameters(), lr=LR, momentum=0.9, nesterov=True\n",
    "            )\n",
    "        elif CFG.optim == \"radam\":\n",
    "            optimizer = RAdam(model_ft.parameters(), lr=LR)\n",
    "\n",
    "    return optimizer\n",
    "\n",
    "criterion = LOSSES[CFG.loss]"
   ]
  },
  {
   "cell_type": "markdown",
   "metadata": {},
   "source": [
    "### Debug Runs"
   ]
  },
  {
   "cell_type": "code",
   "execution_count": 23,
   "metadata": {},
   "outputs": [
    {
     "name": "stdout",
     "output_type": "stream",
     "text": [
      "debug: True seed: 1982 img_height: 224 img_width: 224 target_size: 6 img_id_col: image_id target_col: isup_grade tiff_layer: 1 stoch_sample: True num_tiles: 36 tile_sz: 224 batch_size: 8 accum_step: 1 dataset: tiles aux_tile: False aux_tile_sz: 0 aux_tile_num: 0 aug_type: light regression: True att: False arch: resnet34 enet_bone: efficientnet-b0 finetune: False model_cls: deep pre_init_fc_bias: False ohem: False loss: mse optim: adamw lr: 3e-05 wd: 0.0 schedule_type: none oc_final_div_factor: 10.0 cawr_T_0: 10 cawr_T_mult: 2 cawr_T_up: 3 cawr_gamma: 0.8 rlopp: 1 resume: False prev_exp: None from_epoch: 0 stage: 0 epoch: 45 n_fold: 4 use_amp: True descript: bce-ohem + rn34 + 224x36 tiles + OC + weighted data\n"
     ]
    }
   ],
   "source": [
    "print(\" \".join([f\"{key}: {val}\" for key, val in CFG.__dict__.items() if not key.startswith(\"__\")]))"
   ]
  },
  {
   "cell_type": "code",
   "execution_count": 24,
   "metadata": {
    "collapsed": true,
    "jupyter": {
     "outputs_hidden": true
    }
   },
   "outputs": [
    {
     "name": "stderr",
     "output_type": "stream",
     "text": [
      "Start: 04-07-2020-20-35\n",
      "Epoch 0/34\n",
      "==========\n"
     ]
    },
    {
     "name": "stdout",
     "output_type": "stream",
     "text": [
      "Selected optimization level O2:  FP16 training with FP32 batchnorm and FP32 master weights.\n",
      "\n",
      "Defaults for this optimization level are:\n",
      "enabled                : True\n",
      "opt_level              : O2\n",
      "cast_model_type        : torch.float16\n",
      "patch_torch_functions  : False\n",
      "keep_batchnorm_fp32    : True\n",
      "master_weights         : True\n",
      "loss_scale             : dynamic\n",
      "Processing user overrides (additional kwargs that are not None)...\n",
      "After processing overrides, optimization options are:\n",
      "enabled                : True\n",
      "opt_level              : O2\n",
      "cast_model_type        : torch.float16\n",
      "patch_torch_functions  : False\n",
      "keep_batchnorm_fp32    : True\n",
      "master_weights         : True\n",
      "loss_scale             : dynamic\n",
      "Warning:  multi_tensor_applier fused unscale kernel is unavailable, possibly because apex was installed without --cuda_ext --cpp_ext. Using Python fallback.  Original ImportError was: ModuleNotFoundError(\"No module named 'amp_C'\")\n"
     ]
    },
    {
     "name": "stderr",
     "output_type": "stream",
     "text": [
      " 50%|█████     | 1/2 [00:01<00:01,  1.94s/it]"
     ]
    },
    {
     "name": "stdout",
     "output_type": "stream",
     "text": [
      "Gradient overflow.  Skipping step, loss scaler 0 reducing loss scale to 32768.0\n"
     ]
    },
    {
     "name": "stderr",
     "output_type": "stream",
     "text": [
      "100%|██████████| 2/2 [00:03<00:00,  1.65s/it]"
     ]
    },
    {
     "name": "stdout",
     "output_type": "stream",
     "text": [
      "Gradient overflow.  Skipping step, loss scaler 0 reducing loss scale to 16384.0\n"
     ]
    },
    {
     "name": "stderr",
     "output_type": "stream",
     "text": [
      "\n",
      "100%|██████████| 1/1 [00:00<00:00,  2.04it/s]\n",
      "Training Loss: 3.5146\tValidation Loss: 2.1982\n",
      "Counter train preds: Counter({3: 10, 2: 6})\tCounter val preds: Counter({2: 3, 1: 1})\n",
      "Epoch train QWK: -0.021\tval QWK: 0.385\n",
      "  Epoch 0 - Save Best Loss: 2.1982 Model\n",
      "/home/ademyanchuk/Projects/ChestXRay/chestxray/visualize.py:155: RuntimeWarning: invalid value encountered in true_divide\n",
      "  cm = cm.astype(\"float\") / cm.sum(axis=1)[:, np.newaxis]\n",
      "  Epoch 0 - Save Best QWK: 0.3846 Model\n"
     ]
    },
    {
     "name": "stdout",
     "output_type": "stream",
     "text": [
      "Normalized confusion matrix\n",
      "[[ 0.  1.  0.  0.]\n",
      " [ 0.  0.  1.  0.]\n",
      " [nan nan nan nan]\n",
      " [ 0.  0.  1.  0.]]\n"
     ]
    },
    {
     "name": "stderr",
     "output_type": "stream",
     "text": [
      "Epoch 1/34\n",
      "==========\n"
     ]
    },
    {
     "name": "stdout",
     "output_type": "stream",
     "text": [
      "Normalized confusion matrix\n",
      "[[ 0.  1.  0.  0.]\n",
      " [ 0.  0.  1.  0.]\n",
      " [nan nan nan nan]\n",
      " [ 0.  0.  1.  0.]]\n"
     ]
    },
    {
     "name": "stderr",
     "output_type": "stream",
     "text": [
      "100%|██████████| 2/2 [00:02<00:00,  1.25s/it]\n",
      "100%|██████████| 1/1 [00:00<00:00,  2.01it/s]\n",
      "Training Loss: 3.4604\tValidation Loss: 2.1138\n",
      "Counter train preds: Counter({3: 11, 2: 5})\tCounter val preds: Counter({2: 3, 1: 1})\n",
      "Epoch train QWK: 0.076\tval QWK: 0.385\n",
      "  Epoch 1 - Save Best Loss: 2.1138 Model\n",
      "Epoch 2/34\n",
      "==========\n"
     ]
    },
    {
     "name": "stdout",
     "output_type": "stream",
     "text": [
      "Normalized confusion matrix\n",
      "[[ 0.  1.  0.  0.]\n",
      " [ 0.  0.  1.  0.]\n",
      " [nan nan nan nan]\n",
      " [ 0.  0.  1.  0.]]\n"
     ]
    },
    {
     "name": "stderr",
     "output_type": "stream",
     "text": [
      "100%|██████████| 2/2 [00:03<00:00,  1.53s/it]\n",
      "100%|██████████| 1/1 [00:00<00:00,  1.91it/s]\n",
      "Training Loss: 3.0892\tValidation Loss: 2.0689\n",
      "Counter train preds: Counter({3: 10, 2: 6})\tCounter val preds: Counter({2: 2, 3: 1, 1: 1})\n",
      "Epoch train QWK: 0.113\tval QWK: 0.167\n",
      "  Epoch 2 - Save Best Loss: 2.0689 Model\n",
      "Epoch 3/34\n",
      "==========\n"
     ]
    },
    {
     "name": "stdout",
     "output_type": "stream",
     "text": [
      "Normalized confusion matrix\n",
      "[[0.  1.  0.  0.  0. ]\n",
      " [0.  0.  0.5 0.5 0. ]\n",
      " [nan nan nan nan nan]\n",
      " [nan nan nan nan nan]\n",
      " [0.  0.  1.  0.  0. ]]\n"
     ]
    },
    {
     "name": "stderr",
     "output_type": "stream",
     "text": [
      "100%|██████████| 2/2 [00:02<00:00,  1.38s/it]\n",
      "100%|██████████| 1/1 [00:00<00:00,  1.68it/s]\n",
      "Training Loss: 2.9369\tValidation Loss: 2.0173\n",
      "Counter train preds: Counter({3: 10, 2: 6})\tCounter val preds: Counter({2: 2, 3: 1, 1: 1})\n",
      "Epoch train QWK: 0.314\tval QWK: 0.167\n",
      "  Epoch 3 - Save Best Loss: 2.0173 Model\n",
      "Epoch 4/34\n",
      "==========\n"
     ]
    },
    {
     "name": "stdout",
     "output_type": "stream",
     "text": [
      "Normalized confusion matrix\n",
      "[[0.  1.  0.  0.  0. ]\n",
      " [0.  0.  0.5 0.5 0. ]\n",
      " [nan nan nan nan nan]\n",
      " [nan nan nan nan nan]\n",
      " [0.  0.  1.  0.  0. ]]\n"
     ]
    },
    {
     "name": "stderr",
     "output_type": "stream",
     "text": [
      "100%|██████████| 2/2 [00:03<00:00,  1.62s/it]\n",
      "100%|██████████| 1/1 [00:00<00:00,  2.01it/s]\n",
      "Training Loss: 2.3764\tValidation Loss: 1.9679\n",
      "Counter train preds: Counter({2: 9, 3: 7})\tCounter val preds: Counter({2: 2, 3: 1, 1: 1})\n",
      "Epoch train QWK: 0.405\tval QWK: 0.167\n",
      "  Epoch 4 - Save Best Loss: 1.9679 Model\n",
      "Epoch 5/34\n",
      "==========\n"
     ]
    },
    {
     "name": "stdout",
     "output_type": "stream",
     "text": [
      "Normalized confusion matrix\n",
      "[[0.  1.  0.  0.  0. ]\n",
      " [0.  0.  0.5 0.5 0. ]\n",
      " [nan nan nan nan nan]\n",
      " [nan nan nan nan nan]\n",
      " [0.  0.  1.  0.  0. ]]\n"
     ]
    },
    {
     "name": "stderr",
     "output_type": "stream",
     "text": [
      "100%|██████████| 2/2 [00:02<00:00,  1.16s/it]\n",
      "100%|██████████| 1/1 [00:00<00:00,  1.99it/s]\n",
      "Training Loss: 2.0838\tValidation Loss: 1.7719\n",
      "Counter train preds: Counter({3: 9, 2: 5, 1: 2})\tCounter val preds: Counter({2: 3, 1: 1})\n",
      "Epoch train QWK: 0.411\tval QWK: 0.385\n",
      "  Epoch 5 - Save Best Loss: 1.7719 Model\n",
      "Epoch 6/34\n",
      "==========\n"
     ]
    },
    {
     "name": "stdout",
     "output_type": "stream",
     "text": [
      "Normalized confusion matrix\n",
      "[[ 0.  1.  0.  0.]\n",
      " [ 0.  0.  1.  0.]\n",
      " [nan nan nan nan]\n",
      " [ 0.  0.  1.  0.]]\n"
     ]
    },
    {
     "name": "stderr",
     "output_type": "stream",
     "text": [
      "100%|██████████| 2/2 [00:03<00:00,  1.52s/it]\n",
      "100%|██████████| 1/1 [00:00<00:00,  2.01it/s]\n",
      "Training Loss: 2.2472\tValidation Loss: 1.6648\n",
      "Counter train preds: Counter({3: 9, 2: 5, 1: 1, 4: 1})\tCounter val preds: Counter({2: 3, 1: 1})\n",
      "Epoch train QWK: 0.420\tval QWK: 0.385\n",
      "  Epoch 6 - Save Best Loss: 1.6648 Model\n",
      "Epoch 7/34\n",
      "==========\n"
     ]
    },
    {
     "name": "stdout",
     "output_type": "stream",
     "text": [
      "Normalized confusion matrix\n",
      "[[ 0.  1.  0.  0.]\n",
      " [ 0.  0.  1.  0.]\n",
      " [nan nan nan nan]\n",
      " [ 0.  0.  1.  0.]]\n"
     ]
    },
    {
     "name": "stderr",
     "output_type": "stream",
     "text": [
      "100%|██████████| 2/2 [00:02<00:00,  1.40s/it]\n",
      "100%|██████████| 1/1 [00:00<00:00,  2.04it/s]\n",
      "Training Loss: 1.6982\tValidation Loss: 1.6867\n",
      "Counter train preds: Counter({2: 7, 3: 5, 4: 3, 1: 1})\tCounter val preds: Counter({2: 3, 1: 1})\n",
      "Epoch train QWK: 0.601\tval QWK: 0.385\n",
      "Epoch 8/34\n",
      "==========\n",
      "100%|██████████| 2/2 [00:03<00:00,  1.57s/it]\n",
      "100%|██████████| 1/1 [00:00<00:00,  1.99it/s]\n",
      "Training Loss: 1.6647\tValidation Loss: 1.7778\n",
      "Counter train preds: Counter({2: 7, 3: 6, 4: 2, 1: 1})\tCounter val preds: Counter({2: 2, 3: 1, 1: 1})\n",
      "Epoch train QWK: 0.568\tval QWK: 0.667\n",
      "  Epoch 8 - Save Best QWK: 0.6667 Model\n",
      "Epoch 9/34\n",
      "==========\n"
     ]
    },
    {
     "name": "stdout",
     "output_type": "stream",
     "text": [
      "Normalized confusion matrix\n",
      "[[ 0.  1.  0.  0.  0.]\n",
      " [ 0.  0.  1.  0.  0.]\n",
      " [nan nan nan nan nan]\n",
      " [nan nan nan nan nan]\n",
      " [ 0.  0.  0.  1.  0.]]\n"
     ]
    },
    {
     "name": "stderr",
     "output_type": "stream",
     "text": [
      "100%|██████████| 2/2 [00:02<00:00,  1.13s/it]\n",
      "100%|██████████| 1/1 [00:00<00:00,  2.04it/s]\n",
      "Training Loss: 1.3790\tValidation Loss: 1.7448\n",
      "Counter train preds: Counter({2: 5, 3: 5, 4: 3, 1: 3})\tCounter val preds: Counter({3: 2, 2: 1, 1: 1})\n",
      "Epoch train QWK: 0.643\tval QWK: 0.500\n",
      "Epoch 10/34\n",
      "==========\n",
      "100%|██████████| 2/2 [00:03<00:00,  1.77s/it]\n",
      "100%|██████████| 1/1 [00:00<00:00,  1.86it/s]\n",
      "Training Loss: 1.2459\tValidation Loss: 1.7717\n",
      "Counter train preds: Counter({2: 6, 4: 5, 1: 3, 3: 2})\tCounter val preds: Counter({3: 2, 2: 1, 1: 1})\n",
      "Epoch train QWK: 0.760\tval QWK: 0.500\n",
      "Epoch 11/34\n",
      "==========\n",
      "100%|██████████| 2/2 [00:02<00:00,  1.31s/it]\n",
      "100%|██████████| 1/1 [00:00<00:00,  2.05it/s]\n",
      "Training Loss: 1.1314\tValidation Loss: 1.8888\n",
      "Counter train preds: Counter({2: 8, 4: 3, 3: 3, 5: 1, 0: 1})\tCounter val preds: Counter({3: 2, 2: 1, 1: 1})\n",
      "Epoch train QWK: 0.730\tval QWK: 0.500\n",
      "Epoch 12/34\n",
      "==========\n",
      "100%|██████████| 2/2 [00:03<00:00,  1.52s/it]\n",
      "100%|██████████| 1/1 [00:00<00:00,  1.99it/s]\n",
      "Training Loss: 0.9647\tValidation Loss: 1.9763\n",
      "Counter train preds: Counter({2: 6, 4: 5, 1: 3, 3: 2})\tCounter val preds: Counter({3: 2, 2: 1, 1: 1})\n",
      "Epoch train QWK: 0.786\tval QWK: 0.500\n",
      "Epoch 13/34\n",
      "==========\n",
      "100%|██████████| 2/2 [00:02<00:00,  1.22s/it]\n",
      "100%|██████████| 1/1 [00:00<00:00,  2.00it/s]\n",
      "Training Loss: 0.7431\tValidation Loss: 2.0448\n",
      "Counter train preds: Counter({2: 5, 4: 4, 1: 4, 3: 2, 5: 1})\tCounter val preds: Counter({3: 2, 2: 1, 1: 1})\n",
      "Epoch train QWK: 0.827\tval QWK: 0.500\n",
      "Epoch 14/34\n",
      "==========\n",
      "100%|██████████| 2/2 [00:03<00:00,  1.60s/it]\n",
      "100%|██████████| 1/1 [00:00<00:00,  2.03it/s]\n",
      "Training Loss: 0.6046\tValidation Loss: 2.1140\n",
      "Counter train preds: Counter({1: 6, 2: 3, 4: 3, 3: 3, 5: 1})\tCounter val preds: Counter({3: 2, 2: 1, 1: 1})\n",
      "Epoch train QWK: 0.863\tval QWK: 0.500\n",
      "Epoch 15/34\n",
      "==========\n",
      "100%|██████████| 2/2 [00:02<00:00,  1.32s/it]\n",
      "100%|██████████| 1/1 [00:00<00:00,  1.98it/s]\n",
      "Training Loss: 0.9535\tValidation Loss: 2.1339\n",
      "Counter train preds: Counter({2: 6, 4: 5, 1: 4, 3: 1})\tCounter val preds: Counter({3: 2, 2: 1, 1: 1})\n",
      "Epoch train QWK: 0.760\tval QWK: 0.500\n",
      "Epoch 16/34\n",
      "==========\n",
      "100%|██████████| 2/2 [00:03<00:00,  1.70s/it]\n",
      "100%|██████████| 1/1 [00:00<00:00,  1.99it/s]\n",
      "Training Loss: 0.6885\tValidation Loss: 2.1693\n",
      "Counter train preds: Counter({1: 6, 4: 5, 2: 3, 3: 2})\tCounter val preds: Counter({3: 2, 2: 1, 1: 1})\n",
      "Epoch train QWK: 0.834\tval QWK: 0.500\n",
      "Epoch 17/34\n",
      "==========\n",
      "100%|██████████| 2/2 [00:02<00:00,  1.25s/it]\n",
      "100%|██████████| 1/1 [00:00<00:00,  2.04it/s]\n",
      "Training Loss: 0.8572\tValidation Loss: 2.1607\n",
      "Counter train preds: Counter({1: 7, 4: 5, 3: 3, 2: 1})\tCounter val preds: Counter({3: 2, 2: 1, 1: 1})\n",
      "Epoch train QWK: 0.813\tval QWK: 0.500\n",
      "Epoch 18/34\n",
      "==========\n",
      "100%|██████████| 2/2 [00:03<00:00,  1.64s/it]\n",
      "100%|██████████| 1/1 [00:00<00:00,  1.69it/s]\n",
      "Training Loss: 0.6600\tValidation Loss: 2.2574\n",
      "Counter train preds: Counter({4: 6, 2: 5, 1: 5})\tCounter val preds: Counter({3: 2, 2: 1, 1: 1})\n",
      "Epoch train QWK: 0.848\tval QWK: 0.500\n",
      "Epoch 19/34\n",
      "==========\n",
      "100%|██████████| 2/2 [00:02<00:00,  1.09s/it]\n",
      "100%|██████████| 1/1 [00:00<00:00,  1.98it/s]\n",
      "Training Loss: 0.4608\tValidation Loss: 2.3318\n",
      "Counter train preds: Counter({1: 6, 4: 4, 2: 3, 3: 2, 5: 1})\tCounter val preds: Counter({3: 2, 2: 1, 1: 1})\n",
      "Epoch train QWK: 0.904\tval QWK: 0.500\n",
      "Epoch 20/34\n",
      "==========\n",
      "100%|██████████| 2/2 [00:03<00:00,  1.67s/it]\n",
      "100%|██████████| 1/1 [00:00<00:00,  1.90it/s]\n",
      "Training Loss: 0.4190\tValidation Loss: 2.3311\n",
      "Counter train preds: Counter({1: 5, 2: 5, 4: 4, 5: 1, 3: 1})\tCounter val preds: Counter({3: 2, 2: 1, 1: 1})\n",
      "Epoch train QWK: 0.901\tval QWK: 0.500\n",
      "Epoch 21/34\n",
      "==========\n",
      "100%|██████████| 2/2 [00:02<00:00,  1.21s/it]\n",
      "100%|██████████| 1/1 [00:00<00:00,  2.00it/s]\n",
      "Training Loss: 1.0136\tValidation Loss: 2.3471\n",
      "Counter train preds: Counter({1: 6, 4: 5, 2: 4, 5: 1})\tCounter val preds: Counter({3: 2, 2: 1, 1: 1})\n",
      "Epoch train QWK: 0.789\tval QWK: 0.500\n",
      "Epoch 22/34\n",
      "==========\n",
      "100%|██████████| 2/2 [00:02<00:00,  1.50s/it]\n",
      "100%|██████████| 1/1 [00:00<00:00,  1.99it/s]\n",
      "Training Loss: 0.3189\tValidation Loss: 2.4012\n",
      "Counter train preds: Counter({2: 5, 1: 5, 4: 3, 5: 2, 3: 1})\tCounter val preds: Counter({3: 2, 2: 1, 1: 1})\n",
      "Epoch train QWK: 0.919\tval QWK: 0.500\n",
      "Epoch 23/34\n",
      "==========\n",
      "100%|██████████| 2/2 [00:02<00:00,  1.24s/it]\n",
      "100%|██████████| 1/1 [00:00<00:00,  2.01it/s]\n",
      "Training Loss: 0.5098\tValidation Loss: 2.4403\n",
      "Counter train preds: Counter({1: 5, 2: 5, 4: 4, 3: 1, 5: 1})\tCounter val preds: Counter({3: 2, 2: 1, 1: 1})\n",
      "Epoch train QWK: 0.852\tval QWK: 0.500\n",
      "Epoch 24/34\n",
      "==========\n",
      "100%|██████████| 2/2 [00:03<00:00,  1.59s/it]\n",
      "100%|██████████| 1/1 [00:00<00:00,  2.00it/s]\n",
      "Training Loss: 0.4516\tValidation Loss: 2.3758\n",
      "Counter train preds: Counter({2: 5, 1: 5, 4: 4, 3: 1, 5: 1})\tCounter val preds: Counter({3: 2, 2: 1, 1: 1})\n",
      "Epoch train QWK: 0.877\tval QWK: 0.500\n",
      "Epoch 25/34\n",
      "==========\n",
      "100%|██████████| 2/2 [00:02<00:00,  1.14s/it]\n",
      "100%|██████████| 1/1 [00:00<00:00,  2.01it/s]\n",
      "Training Loss: 1.1535\tValidation Loss: 2.4264\n",
      "Counter train preds: Counter({1: 5, 4: 4, 2: 4, 3: 2, 5: 1})\tCounter val preds: Counter({3: 2, 2: 1, 1: 1})\n",
      "Epoch train QWK: 0.744\tval QWK: 0.500\n",
      "Epoch 26/34\n",
      "==========\n",
      "100%|██████████| 2/2 [00:03<00:00,  1.65s/it]\n",
      "100%|██████████| 1/1 [00:00<00:00,  1.88it/s]\n",
      "Training Loss: 0.4790\tValidation Loss: 2.4223\n",
      "Counter train preds: Counter({1: 6, 4: 5, 2: 4, 5: 1})\tCounter val preds: Counter({3: 2, 2: 1, 1: 1})\n",
      "Epoch train QWK: 0.906\tval QWK: 0.500\n",
      "Epoch 27/34\n",
      "==========\n",
      "100%|██████████| 2/2 [00:02<00:00,  1.34s/it]\n",
      "100%|██████████| 1/1 [00:00<00:00,  2.01it/s]\n",
      "Training Loss: 0.4245\tValidation Loss: 2.4068\n",
      "Counter train preds: Counter({1: 8, 4: 5, 2: 2, 3: 1})\tCounter val preds: Counter({3: 2, 2: 1, 1: 1})\n",
      "Epoch train QWK: 0.874\tval QWK: 0.500\n",
      "Epoch 28/34\n",
      "==========\n",
      "100%|██████████| 2/2 [00:03<00:00,  1.81s/it]\n",
      "100%|██████████| 1/1 [00:00<00:00,  1.96it/s]\n",
      "Training Loss: 0.3057\tValidation Loss: 2.5038\n",
      "Counter train preds: Counter({1: 6, 4: 5, 2: 3, 5: 1, 0: 1})\tCounter val preds: Counter({3: 2, 2: 1, 1: 1})\n",
      "Epoch train QWK: 0.933\tval QWK: 0.500\n",
      "Epoch 29/34\n",
      "==========\n",
      "100%|██████████| 2/2 [00:02<00:00,  1.09s/it]\n",
      "100%|██████████| 1/1 [00:00<00:00,  1.96it/s]\n",
      "Training Loss: 0.6875\tValidation Loss: 2.6144\n",
      "Counter train preds: Counter({1: 5, 4: 4, 2: 3, 3: 2, 0: 1, 5: 1})\tCounter val preds: Counter({3: 2, 2: 1, 1: 1})\n",
      "Epoch train QWK: 0.872\tval QWK: 0.500\n",
      "Epoch 30/34\n",
      "==========\n",
      "100%|██████████| 2/2 [00:03<00:00,  1.55s/it]\n",
      "100%|██████████| 1/1 [00:00<00:00,  2.01it/s]\n",
      "Training Loss: 0.3764\tValidation Loss: 2.6060\n",
      "Counter train preds: Counter({4: 5, 1: 5, 2: 4, 0: 1, 5: 1})\tCounter val preds: Counter({3: 2, 2: 1, 1: 1})\n",
      "Epoch train QWK: 0.921\tval QWK: 0.500\n",
      "Epoch 31/34\n",
      "==========\n",
      "100%|██████████| 2/2 [00:02<00:00,  1.30s/it]\n",
      "100%|██████████| 1/1 [00:00<00:00,  2.00it/s]\n",
      "Training Loss: 0.3730\tValidation Loss: 2.5712\n",
      "Counter train preds: Counter({1: 6, 2: 4, 5: 3, 4: 2, 0: 1})\tCounter val preds: Counter({3: 2, 2: 1, 1: 1})\n",
      "Epoch train QWK: 0.916\tval QWK: 0.500\n",
      "Epoch 32/34\n",
      "==========\n",
      "100%|██████████| 2/2 [00:03<00:00,  1.58s/it]\n",
      "100%|██████████| 1/1 [00:00<00:00,  1.99it/s]\n",
      "Training Loss: 0.2758\tValidation Loss: 2.5752\n",
      "Counter train preds: Counter({4: 5, 1: 5, 2: 4, 0: 1, 5: 1})\tCounter val preds: Counter({3: 2, 2: 1, 1: 1})\n",
      "Epoch train QWK: 0.921\tval QWK: 0.500\n",
      "Epoch 33/34\n",
      "==========\n",
      "100%|██████████| 2/2 [00:02<00:00,  1.15s/it]\n",
      "100%|██████████| 1/1 [00:00<00:00,  2.00it/s]\n",
      "Training Loss: 0.2481\tValidation Loss: 2.5951\n",
      "Counter train preds: Counter({1: 9, 4: 4, 3: 1, 5: 1, 2: 1})\tCounter val preds: Counter({3: 2, 2: 1, 1: 1})\n",
      "Epoch train QWK: 0.930\tval QWK: 0.500\n",
      "Epoch 34/34\n",
      "==========\n",
      "100%|██████████| 2/2 [00:03<00:00,  1.63s/it]\n",
      "100%|██████████| 1/1 [00:00<00:00,  1.99it/s]\n",
      "Training Loss: 0.2029\tValidation Loss: 2.6073\n",
      "Counter train preds: Counter({1: 6, 5: 4, 0: 2, 2: 2, 4: 2})\tCounter val preds: Counter({3: 2, 2: 1, 1: 1})\n",
      "Epoch train QWK: 0.954\tval QWK: 0.500\n",
      "Finish: 04-07-2020-20-37\n"
     ]
    }
   ],
   "source": [
    "logging.info(f'Start: {datetime.now().strftime(\"%d-%m-%Y-%H-%M\")}')\n",
    "model_ft = init_model()\n",
    "optimizer = init_optimizer(model_ft)\n",
    "    \n",
    "scheduler, sch_is_epoch_type = get_scheduler(optimizer, train_dataloader)\n",
    "\n",
    "_ = train_eval_loop(train_dataloader, val_dataloader, model_ft, optimizer, criterion, num_epochs=35)\n",
    "logging.info(f'Finish: {datetime.now().strftime(\"%d-%m-%Y-%H-%M\")}')"
   ]
  },
  {
   "cell_type": "markdown",
   "metadata": {},
   "source": [
    "### Experiment Run"
   ]
  },
  {
   "cell_type": "markdown",
   "metadata": {
    "toc-hr-collapsed": true,
    "toc-nb-collapsed": true
   },
   "source": [
    "#### Learning Rate Finder"
   ]
  },
  {
   "cell_type": "code",
   "execution_count": 17,
   "metadata": {
    "collapsed": true,
    "jupyter": {
     "outputs_hidden": true
    }
   },
   "outputs": [
    {
     "name": "stdout",
     "output_type": "stream",
     "text": [
      "Selected optimization level O1:  Insert automatic casts around Pytorch functions and Tensor methods.\n",
      "\n",
      "Defaults for this optimization level are:\n",
      "enabled                : True\n",
      "opt_level              : O1\n",
      "cast_model_type        : None\n",
      "patch_torch_functions  : True\n",
      "keep_batchnorm_fp32    : None\n",
      "master_weights         : None\n",
      "loss_scale             : dynamic\n",
      "Processing user overrides (additional kwargs that are not None)...\n",
      "After processing overrides, optimization options are:\n",
      "enabled                : True\n",
      "opt_level              : O1\n",
      "cast_model_type        : None\n",
      "patch_torch_functions  : True\n",
      "keep_batchnorm_fp32    : None\n",
      "master_weights         : None\n",
      "loss_scale             : dynamic\n",
      "Warning:  multi_tensor_applier fused unscale kernel is unavailable, possibly because apex was installed without --cuda_ext --cpp_ext. Using Python fallback.  Original ImportError was: ModuleNotFoundError(\"No module named 'amp_C'\")\n"
     ]
    },
    {
     "data": {
      "application/vnd.jupyter.widget-view+json": {
       "model_id": "39527bfec9a5472097e0dcab65b96d62",
       "version_major": 2,
       "version_minor": 0
      },
      "text/plain": [
       "HBox(children=(FloatProgress(value=0.0, max=200.0), HTML(value='')))"
      ]
     },
     "metadata": {},
     "output_type": "display_data"
    },
    {
     "name": "stdout",
     "output_type": "stream",
     "text": [
      "\n",
      "Learning rate search finished. See the graph with {finder_name}.plot()\n"
     ]
    },
    {
     "data": {
      "image/png": "[encoded data removed]",
      "text/plain": [
       "<Figure size 432x288 with 1 Axes>"
      ]
     },
     "metadata": {
      "image/png": {
       "height": 263,
       "width": 401
      },
      "needs_background": "light"
     },
     "output_type": "display_data"
    }
   ],
   "source": [
    "# get folds\n",
    "train_df = folds[folds[\"fold\"] != 0].copy()\n",
    "# define datasets\n",
    "if CFG.dataset == \"lazy\":\n",
    "    train_ds = LazyTilesDataset(train_df, transform=get_transforms(data=\"train\", aug=CFG.aug_type), debug=False)\n",
    "elif CFG.dataset == \"tiles\":\n",
    "    train_ds = TilesTrainDataset(train_df, is_train=CFG.stoch_sample, transform=get_transforms(data=\"train\", aug=CFG.aug_type), debug=False)\n",
    "elif CFG.dataset == \"patch\":\n",
    "    train_ds = PatchTrainDataset(train_df, transform=get_transforms(data=\"train\", aug=CFG.aug_type), debug=False)\n",
    "    \n",
    "# define a data loader\n",
    "train_dataloader = DataLoader(train_ds, batch_size=CFG.batch_size, shuffle=True, num_workers=min(CFG.batch_size, 10), pin_memory=True)\n",
    "\n",
    "model_ft = Model(arch=\"resnet34\")\n",
    "# initialize bias in the model\n",
    "cls_probas = (train_df[CFG.target_col].value_counts() / len(train_df)).values\n",
    "model_ft = init_last_layer_bias(model_ft, cls_probas)\n",
    "model_ft.to(device)\n",
    "\n",
    "criterion = LOSSES[CFG.loss]\n",
    "\n",
    "\n",
    "if CFG.finetune == \"1stage\":\n",
    "    freeze_botom(model_ft)\n",
    "    interm_params = [p[1] for p in model_ft.named_parameters() if (not p[0].startswith('fc') and p[1].requires_grad)]\n",
    "    if CFG.optim == \"adam\":\n",
    "        optimizer = torch.optim.Adam([\n",
    "                    {'params': interm_params, 'lr': CFG.lr},\n",
    "                    {'params': model_ft.fc.parameters(), 'lr': CFG.lr*10}\n",
    "                ])\n",
    "    elif CFG.optim == \"sgd\":\n",
    "        optimizer = torch.optim.SGD([\n",
    "                    {'params': interm_params, 'lr': CFG.lr},\n",
    "                    {'params': model_ft.fc.parameters(), 'lr': CFG.lr*10}\n",
    "            ], momentum=0.9, nesterov=True)\n",
    "else:\n",
    "    if CFG.optim == \"adam\":\n",
    "        optimizer = torch.optim.Adam(model_ft.parameters(), lr=CFG.lr * 1e-4, amsgrad=False)\n",
    "    elif CFG.optim == \"sgd\":\n",
    "        optimizer = torch.optim.SGD(model_ft.parameters(), lr=CFG.lr * 1e-4, momentum=0.9, nesterov=True)\n",
    "    elif CFG.optim == \"radam\":\n",
    "        optimizer = RAdam(model_ft.parameters(), lr=CFG.lr * 1e-4)\n",
    "    \n",
    "if CFG.use_amp:\n",
    "    model_ft, optimizer = amp.initialize(model_ft, optimizer, opt_level='O1')\n",
    "    \n",
    "lr_finder = LRFinder(model_ft, optimizer, criterion, device=device)\n",
    "lr_finder.range_test(train_dataloader, end_lr=1e-2, num_iter=200, step_mode=\"exp\", accumulation_steps=CFG.accum_step)\n",
    "lr_finder.plot()\n",
    "lr_finder.reset()"
   ]
  },
  {
   "cell_type": "markdown",
   "metadata": {},
   "source": [
    "#### Experiment"
   ]
  },
  {
   "cell_type": "code",
   "execution_count": 22,
   "metadata": {},
   "outputs": [
    {
     "name": "stdout",
     "output_type": "stream",
     "text": [
      "debug: False\n",
      " seed: 1982\n",
      " img_height: 224\n",
      " img_width: 224\n",
      " target_size: 6\n",
      " img_id_col: image_id\n",
      " target_col: isup_grade\n",
      " tiff_layer: 1\n",
      " stoch_sample: True\n",
      " num_tiles: 36\n",
      " tile_sz: 224\n",
      " batch_size: 8\n",
      " accum_step: 1\n",
      " dataset: tiles\n",
      " w_sample: False\n",
      " aux_tile: False\n",
      " aux_tile_sz: 0\n",
      " aux_tile_num: 0\n",
      " aug_type: light\n",
      " aug_concat: light\n",
      " regression: False\n",
      " att: False\n",
      " arch: resnet34\n",
      " enet_bone: efficientnet-b0\n",
      " finetune: False\n",
      " model_cls: deep\n",
      " pre_init_fc_bias: False\n",
      " ohem: True\n",
      " loss: bce\n",
      " optim: adamw\n",
      " lr: 0.0003\n",
      " wd: 0.0\n",
      " schedule_type: one_cycle\n",
      " oc_final_div_factor: 10.0\n",
      " cawr_T_0: 10\n",
      " cawr_T_mult: 2\n",
      " cawr_T_up: 3\n",
      " cawr_gamma: 0.8\n",
      " rlopp: 1\n",
      " use_validation: False\n",
      " resume: False\n",
      " chp: loss\n",
      " prev_exp: None\n",
      " from_epoch: 0\n",
      " stage: 0\n",
      " epoch: 55\n",
      " n_fold: 4\n",
      " use_amp: True\n",
      " descript: bce-ohem + rn34 + 224x36 tiles + OC + 2augs light + only train\n",
      "\n"
     ]
    }
   ],
   "source": [
    "print(\" \".join([f\"{key}: {val}\\n\" for key, val in CFG.__dict__.items() if not key.startswith(\"__\")]))"
   ]
  },
  {
   "cell_type": "code",
   "execution_count": 23,
   "metadata": {},
   "outputs": [],
   "source": [
    "writer.add_text(\"Experiment Description:\", CFG.descript)"
   ]
  },
  {
   "cell_type": "code",
   "execution_count": 24,
   "metadata": {},
   "outputs": [],
   "source": [
    "model_ft = init_model()\n",
    "optimizer = init_optimizer(model_ft)"
   ]
  },
  {
   "cell_type": "code",
   "execution_count": null,
   "metadata": {},
   "outputs": [
    {
     "name": "stderr",
     "output_type": "stream",
     "text": [
      "Start: 07-07-2020-08-00\n",
      "Epoch 0/54\n",
      "==========\n"
     ]
    },
    {
     "name": "stdout",
     "output_type": "stream",
     "text": [
      "Selected optimization level O2:  FP16 training with FP32 batchnorm and FP32 master weights.\n",
      "\n",
      "Defaults for this optimization level are:\n",
      "enabled                : True\n",
      "opt_level              : O2\n",
      "cast_model_type        : torch.float16\n",
      "patch_torch_functions  : False\n",
      "keep_batchnorm_fp32    : True\n",
      "master_weights         : True\n",
      "loss_scale             : dynamic\n",
      "Processing user overrides (additional kwargs that are not None)...\n",
      "After processing overrides, optimization options are:\n",
      "enabled                : True\n",
      "opt_level              : O2\n",
      "cast_model_type        : torch.float16\n",
      "patch_torch_functions  : False\n",
      "keep_batchnorm_fp32    : True\n",
      "master_weights         : True\n",
      "loss_scale             : dynamic\n",
      "Warning:  multi_tensor_applier fused unscale kernel is unavailable, possibly because apex was installed without --cuda_ext --cpp_ext. Using Python fallback.  Original ImportError was: ModuleNotFoundError(\"No module named 'amp_C'\")\n"
     ]
    },
    {
     "name": "stderr",
     "output_type": "stream",
     "text": [
      " 19%|█▉        | 227/1186 [02:12<09:13,  1.73it/s]"
     ]
    }
   ],
   "source": [
    "logging.info(f'Start: {datetime.now().strftime(\"%d-%m-%Y-%H-%M\")}')\n",
    "# Start Train/Eval Experiment\n",
    "model_ft, best_loss, best_qwk = train_eval_loop(train_dataloader, val_dataloader, model_ft, optimizer, criterion, model_name=EXP_NAME)\n",
    "logging.info(f'Finish: {datetime.now().strftime(\"%d-%m-%Y-%H-%M\")}')"
   ]
  },
  {
   "cell_type": "code",
   "execution_count": 51,
   "metadata": {},
   "outputs": [],
   "source": [
    "# After finish collect hyperparams used, best metrics and write to TensorBoard\n",
    "hparam_dict = {key:val for key, val in CFG.__dict__.items() if not key.startswith(\"__\")}\n",
    "metric_dict = {\"hp/best_loss\": best_loss, \"hp/best_qwk\": best_qwk}\n",
    "writer.add_hparams(hparam_dict=hparam_dict, metric_dict=metric_dict)\n",
    "\n",
    "# Get the current git commit hash to add it in Tensorboard, to know exp code version\n",
    "label = subprocess.check_output([\"git\", \"describe\", \"--always\"]).strip()\n",
    "writer.add_text(\"Git commit hash:\", label.decode())"
   ]
  },
  {
   "cell_type": "code",
   "execution_count": 29,
   "metadata": {},
   "outputs": [],
   "source": [
    "torch.save(\n",
    "            {\n",
    "                \"model_state_dict\": model_ft.state_dict(),\n",
    "                \"optimizer_state_dict\": optimizer.state_dict(),\n",
    "                \"best_val_loss\": best_loss,\n",
    "                \"best_qwk\": best_qwk,\n",
    "            },\n",
    "            f\"{MODEL_PATH}/{EXP_NAME}_last_loss.pth\",\n",
    "            )"
   ]
  },
  {
   "cell_type": "markdown",
   "metadata": {},
   "source": [
    "#### Resume Training"
   ]
  },
  {
   "cell_type": "code",
   "execution_count": 22,
   "metadata": {},
   "outputs": [],
   "source": [
    "writer.add_text(\"Experiment Description:\", CFG.descript)\n",
    "checkpoint = torch.load(f\"{MODEL_PATH}/{PREV_NAME}_{CFG.from_epoch}_{CFG.chp}.pth\")\n",
    "\n",
    "model_ft = init_model()\n",
    "model_ft.load_state_dict(checkpoint[\"model_state_dict\"])\n",
    "model_ft.to(device)\n",
    "\n",
    "optimizer = init_optimizer(model_ft)\n",
    "optimizer.load_state_dict(checkpoint[\"optimizer_state_dict\"])\n",
    "\n",
    "# set smaller lr here\n",
    "for param_group in optimizer.param_groups:\n",
    "    param_group[\"lr\"] = CFG.lr"
   ]
  },
  {
   "cell_type": "code",
   "execution_count": 23,
   "metadata": {},
   "outputs": [
    {
     "name": "stdout",
     "output_type": "stream",
     "text": [
      "0.0001\n"
     ]
    }
   ],
   "source": [
    "for param_group in optimizer.param_groups:\n",
    "    print(param_group['lr'])"
   ]
  },
  {
   "cell_type": "code",
   "execution_count": 24,
   "metadata": {},
   "outputs": [
    {
     "name": "stderr",
     "output_type": "stream",
     "text": [
      "Start: 06-07-2020-08-35\n",
      "Epoch 60/119\n",
      "==========\n"
     ]
    },
    {
     "name": "stdout",
     "output_type": "stream",
     "text": [
      "Selected optimization level O2:  FP16 training with FP32 batchnorm and FP32 master weights.\n",
      "\n",
      "Defaults for this optimization level are:\n",
      "enabled                : True\n",
      "opt_level              : O2\n",
      "cast_model_type        : torch.float16\n",
      "patch_torch_functions  : False\n",
      "keep_batchnorm_fp32    : True\n",
      "master_weights         : True\n",
      "loss_scale             : dynamic\n",
      "Processing user overrides (additional kwargs that are not None)...\n",
      "After processing overrides, optimization options are:\n",
      "enabled                : True\n",
      "opt_level              : O2\n",
      "cast_model_type        : torch.float16\n",
      "patch_torch_functions  : False\n",
      "keep_batchnorm_fp32    : True\n",
      "master_weights         : True\n",
      "loss_scale             : dynamic\n",
      "Warning:  multi_tensor_applier fused unscale kernel is unavailable, possibly because apex was installed without --cuda_ext --cpp_ext. Using Python fallback.  Original ImportError was: ModuleNotFoundError(\"No module named 'amp_C'\")\n"
     ]
    },
    {
     "name": "stderr",
     "output_type": "stream",
     "text": [
      "100%|██████████| 936/936 [08:33<00:00,  1.82it/s]\n",
      "100%|██████████| 313/313 [02:24<00:00,  2.17it/s]\n",
      "Training Loss: 0.2595\tValidation Loss: 0.2062\n",
      "Counter train preds: Counter({1: 2210, 0: 1715, 4: 1270, 2: 1095, 3: 832, 5: 360})\tCounter val preds: Counter({1: 798, 0: 607, 4: 366, 2: 287, 3: 284, 5: 159})\n",
      "Epoch train QWK: 0.892\tval QWK: 0.881\n",
      "Epoch 61/119\n",
      "==========\n",
      "100%|██████████| 936/936 [08:16<00:00,  1.89it/s]\n",
      "100%|██████████| 313/313 [02:24<00:00,  2.16it/s]\n",
      "Training Loss: 0.2788\tValidation Loss: 0.2169\n",
      "Counter train preds: Counter({1: 2200, 0: 1702, 4: 1276, 2: 1138, 3: 833, 5: 333})\tCounter val preds: Counter({1: 646, 0: 588, 4: 465, 2: 400, 3: 285, 5: 117})\n",
      "Epoch train QWK: 0.882\tval QWK: 0.872\n",
      "Epoch 62/119\n",
      "==========\n",
      " 16%|█▌        | 149/936 [01:22<06:43,  1.95it/s]"
     ]
    },
    {
     "name": "stdout",
     "output_type": "stream",
     "text": [
      "Gradient overflow.  Skipping step, loss scaler 0 reducing loss scale to 65536.0\n"
     ]
    },
    {
     "name": "stderr",
     "output_type": "stream",
     "text": [
      "100%|██████████| 936/936 [08:15<00:00,  1.89it/s]"
     ]
    },
    {
     "name": "stdout",
     "output_type": "stream",
     "text": [
      "Gradient overflow.  Skipping step, loss scaler 0 reducing loss scale to 32768.0\n"
     ]
    },
    {
     "name": "stderr",
     "output_type": "stream",
     "text": [
      "\n",
      "100%|██████████| 313/313 [02:24<00:00,  2.17it/s]\n",
      "Training Loss: 0.2770\tValidation Loss: 0.2123\n",
      "Counter train preds: Counter({1: 2238, 0: 1627, 4: 1290, 2: 1192, 3: 841, 5: 294})\tCounter val preds: Counter({1: 794, 0: 510, 4: 452, 2: 343, 3: 239, 5: 163})\n",
      "Epoch train QWK: 0.877\tval QWK: 0.875\n",
      "Epoch 63/119\n",
      "==========\n",
      "100%|██████████| 936/936 [08:16<00:00,  1.88it/s]"
     ]
    },
    {
     "name": "stdout",
     "output_type": "stream",
     "text": [
      "Gradient overflow.  Skipping step, loss scaler 0 reducing loss scale to 16384.0\n"
     ]
    },
    {
     "name": "stderr",
     "output_type": "stream",
     "text": [
      "\n",
      "100%|██████████| 313/313 [02:25<00:00,  2.15it/s]\n",
      "Training Loss: 0.2680\tValidation Loss: 0.2118\n",
      "Counter train preds: Counter({1: 2182, 0: 1679, 4: 1282, 2: 1190, 3: 812, 5: 337})\tCounter val preds: Counter({1: 697, 0: 609, 4: 464, 2: 346, 3: 235, 5: 150})\n",
      "Epoch train QWK: 0.886\tval QWK: 0.878\n",
      "Epoch 64/119\n",
      "==========\n",
      "100%|██████████| 936/936 [08:17<00:00,  1.88it/s]\n",
      "100%|██████████| 313/313 [02:24<00:00,  2.16it/s]\n",
      "Training Loss: 0.2732\tValidation Loss: 0.2154\n",
      "Counter train preds: Counter({1: 2187, 0: 1679, 4: 1294, 2: 1156, 3: 857, 5: 309})\tCounter val preds: Counter({1: 771, 0: 622, 4: 379, 2: 330, 3: 247, 5: 152})\n",
      "Epoch train QWK: 0.883\tval QWK: 0.873\n",
      "Epoch 65/119\n",
      "==========\n",
      "100%|██████████| 936/936 [08:15<00:00,  1.89it/s]\n",
      "100%|██████████| 313/313 [02:25<00:00,  2.16it/s]\n",
      "Training Loss: 0.2706\tValidation Loss: 0.2104\n",
      "Counter train preds: Counter({1: 2170, 0: 1656, 4: 1249, 2: 1239, 3: 828, 5: 340})\tCounter val preds: Counter({1: 698, 0: 625, 4: 395, 2: 363, 3: 245, 5: 175})\n",
      "Epoch train QWK: 0.882\tval QWK: 0.878\n",
      "Epoch 66/119\n",
      "==========\n",
      "100%|██████████| 936/936 [08:14<00:00,  1.89it/s]\n",
      "100%|██████████| 313/313 [02:24<00:00,  2.16it/s]\n",
      "Training Loss: 0.2620\tValidation Loss: 0.2123\n",
      "Counter train preds: Counter({1: 2171, 0: 1725, 4: 1277, 2: 1138, 3: 812, 5: 359})\tCounter val preds: Counter({1: 677, 0: 638, 4: 420, 2: 390, 3: 258, 5: 118})\n",
      "Epoch train QWK: 0.892\tval QWK: 0.872\n",
      "Epoch 67/119\n",
      "==========\n",
      "100%|██████████| 936/936 [08:15<00:00,  1.89it/s]\n",
      "100%|██████████| 313/313 [02:25<00:00,  2.16it/s]\n",
      "Training Loss: 0.2681\tValidation Loss: 0.2154\n",
      "Counter train preds: Counter({1: 2160, 0: 1723, 4: 1272, 2: 1175, 3: 814, 5: 338})\tCounter val preds: Counter({1: 668, 0: 573, 4: 427, 2: 393, 3: 287, 5: 153})\n",
      "Epoch train QWK: 0.891\tval QWK: 0.869\n",
      "Epoch 68/119\n",
      "==========\n",
      "100%|██████████| 936/936 [08:15<00:00,  1.89it/s]"
     ]
    },
    {
     "name": "stdout",
     "output_type": "stream",
     "text": [
      "Gradient overflow.  Skipping step, loss scaler 0 reducing loss scale to 32768.0\n"
     ]
    },
    {
     "name": "stderr",
     "output_type": "stream",
     "text": [
      "\n",
      "100%|██████████| 313/313 [02:25<00:00,  2.15it/s]\n",
      "Training Loss: 0.2662\tValidation Loss: 0.2127\n",
      "Counter train preds: Counter({1: 2197, 0: 1688, 4: 1287, 2: 1166, 3: 800, 5: 344})\tCounter val preds: Counter({1: 825, 0: 449, 4: 418, 2: 396, 3: 296, 5: 117})\n",
      "Epoch train QWK: 0.887\tval QWK: 0.871\n",
      "Epoch 69/119\n",
      "==========\n",
      "100%|██████████| 936/936 [08:16<00:00,  1.89it/s]\n",
      "100%|██████████| 313/313 [02:25<00:00,  2.15it/s]\n",
      "Training Loss: 0.2666\tValidation Loss: 0.2081\n",
      "Counter train preds: Counter({1: 2106, 0: 1763, 4: 1248, 2: 1155, 3: 848, 5: 362})\tCounter val preds: Counter({1: 890, 0: 500, 4: 397, 2: 291, 3: 263, 5: 160})\n",
      "Epoch train QWK: 0.892\tval QWK: 0.875\n",
      "Epoch 70/119\n",
      "==========\n",
      "100%|██████████| 936/936 [08:14<00:00,  1.89it/s]\n",
      "100%|██████████| 313/313 [02:25<00:00,  2.14it/s]\n",
      "Training Loss: 0.2595\tValidation Loss: 0.2039\n",
      "Counter train preds: Counter({1: 2176, 0: 1767, 4: 1232, 2: 1090, 3: 838, 5: 379})\tCounter val preds: Counter({1: 759, 0: 597, 4: 419, 2: 335, 3: 257, 5: 134})\n",
      "Epoch train QWK: 0.895\tval QWK: 0.876\n",
      "Epoch 71/119\n",
      "==========\n",
      "100%|██████████| 936/936 [08:15<00:00,  1.89it/s]\n",
      "100%|██████████| 313/313 [02:25<00:00,  2.15it/s]\n",
      "Training Loss: 0.2574\tValidation Loss: 0.2147\n",
      "Counter train preds: Counter({1: 2160, 0: 1770, 4: 1263, 2: 1097, 3: 827, 5: 365})\tCounter val preds: Counter({1: 718, 0: 702, 4: 389, 2: 293, 3: 238, 5: 161})\n",
      "Epoch train QWK: 0.897\tval QWK: 0.871\n",
      "Epoch 72/119\n",
      "==========\n",
      "  1%|▏         | 13/936 [00:10<08:58,  1.71it/s]"
     ]
    },
    {
     "name": "stdout",
     "output_type": "stream",
     "text": [
      "Gradient overflow.  Skipping step, loss scaler 0 reducing loss scale to 32768.0\n"
     ]
    },
    {
     "name": "stderr",
     "output_type": "stream",
     "text": [
      "100%|██████████| 936/936 [08:18<00:00,  1.88it/s]\n",
      "100%|██████████| 313/313 [02:24<00:00,  2.16it/s]\n",
      "Training Loss: 0.2537\tValidation Loss: 0.2058\n",
      "Counter train preds: Counter({1: 2148, 0: 1758, 4: 1283, 2: 1138, 3: 796, 5: 359})\tCounter val preds: Counter({1: 656, 0: 648, 4: 387, 2: 361, 3: 277, 5: 172})\n",
      "Epoch train QWK: 0.899\tval QWK: 0.882\n",
      "Epoch 73/119\n",
      "==========\n",
      "100%|██████████| 936/936 [08:16<00:00,  1.89it/s]"
     ]
    },
    {
     "name": "stdout",
     "output_type": "stream",
     "text": [
      "Gradient overflow.  Skipping step, loss scaler 0 reducing loss scale to 16384.0\n"
     ]
    },
    {
     "name": "stderr",
     "output_type": "stream",
     "text": [
      "\n",
      "100%|██████████| 313/313 [02:25<00:00,  2.15it/s]\n",
      "Training Loss: 0.2584\tValidation Loss: 0.2088\n",
      "Counter train preds: Counter({1: 2073, 0: 1810, 4: 1245, 2: 1162, 3: 793, 5: 399})\tCounter val preds: Counter({1: 742, 0: 560, 4: 417, 2: 389, 3: 287, 5: 106})\n",
      "Epoch train QWK: 0.897\tval QWK: 0.869\n",
      "Epoch 74/119\n",
      "==========\n",
      "100%|██████████| 936/936 [08:15<00:00,  1.89it/s]"
     ]
    },
    {
     "name": "stdout",
     "output_type": "stream",
     "text": [
      "Gradient overflow.  Skipping step, loss scaler 0 reducing loss scale to 8192.0\n"
     ]
    },
    {
     "name": "stderr",
     "output_type": "stream",
     "text": [
      "\n",
      "100%|██████████| 313/313 [02:25<00:00,  2.16it/s]\n",
      "Training Loss: 0.2568\tValidation Loss: 0.2104\n",
      "Counter train preds: Counter({1: 2148, 0: 1771, 4: 1248, 2: 1123, 3: 811, 5: 381})\tCounter val preds: Counter({1: 754, 0: 666, 4: 383, 2: 314, 3: 267, 5: 117})\n",
      "Epoch train QWK: 0.900\tval QWK: 0.874\n",
      "Epoch 75/119\n",
      "==========\n",
      "100%|██████████| 936/936 [08:15<00:00,  1.89it/s]\n",
      "100%|██████████| 313/313 [02:25<00:00,  2.15it/s]\n",
      "Training Loss: 0.2469\tValidation Loss: 0.2074\n",
      "Counter train preds: Counter({1: 2116, 0: 1823, 4: 1219, 2: 1084, 3: 833, 5: 407})\tCounter val preds: Counter({1: 788, 0: 585, 4: 434, 2: 294, 3: 247, 5: 153})\n",
      "Epoch train QWK: 0.903\tval QWK: 0.879\n",
      "Epoch 76/119\n",
      "==========\n",
      "100%|██████████| 936/936 [08:16<00:00,  1.88it/s]\n",
      "100%|██████████| 313/313 [02:25<00:00,  2.15it/s]\n",
      "Training Loss: 0.2533\tValidation Loss: 0.2141\n",
      "Counter train preds: Counter({1: 2054, 0: 1852, 4: 1247, 2: 1132, 3: 807, 5: 390})\tCounter val preds: Counter({1: 845, 4: 443, 0: 422, 2: 365, 3: 274, 5: 152})\n",
      "Epoch train QWK: 0.900\tval QWK: 0.870\n",
      "Epoch 77/119\n",
      "==========\n",
      "100%|██████████| 936/936 [08:16<00:00,  1.89it/s]\n",
      "100%|██████████| 313/313 [02:25<00:00,  2.15it/s]\n",
      "Training Loss: 0.2506\tValidation Loss: 0.2152\n",
      "Counter train preds: Counter({1: 2074, 0: 1868, 4: 1216, 2: 1074, 3: 831, 5: 419})\tCounter val preds: Counter({1: 978, 0: 448, 4: 359, 2: 304, 3: 286, 5: 126})\n",
      "Epoch train QWK: 0.905\tval QWK: 0.866\n",
      "Epoch 78/119\n",
      "==========\n",
      "100%|██████████| 936/936 [08:15<00:00,  1.89it/s]\n",
      "100%|██████████| 313/313 [02:25<00:00,  2.15it/s]\n",
      "Training Loss: 0.2459\tValidation Loss: 0.2061\n",
      "Counter train preds: Counter({1: 2084, 0: 1856, 4: 1225, 2: 1074, 3: 836, 5: 407})\tCounter val preds: Counter({1: 825, 0: 612, 4: 383, 2: 271, 3: 266, 5: 144})\n",
      "Epoch train QWK: 0.905\tval QWK: 0.875\n",
      "Epoch 79/119\n",
      "==========\n",
      "100%|██████████| 936/936 [08:17<00:00,  1.88it/s]\n",
      "100%|██████████| 313/313 [02:24<00:00,  2.16it/s]\n",
      "Training Loss: 0.2413\tValidation Loss: 0.2125\n",
      "Counter train preds: Counter({1: 2023, 0: 1916, 4: 1195, 2: 1072, 3: 842, 5: 434})\tCounter val preds: Counter({1: 738, 0: 572, 2: 403, 4: 387, 3: 303, 5: 98})\n",
      "Epoch train QWK: 0.907\tval QWK: 0.868\n",
      "Epoch 80/119\n",
      "==========\n",
      "100%|██████████| 936/936 [08:17<00:00,  1.88it/s]\n",
      "100%|██████████| 313/313 [02:25<00:00,  2.15it/s]\n",
      "Training Loss: 0.2453\tValidation Loss: 0.2247\n",
      "Counter train preds: Counter({1: 2049, 0: 1904, 4: 1190, 2: 1048, 3: 856, 5: 435})\tCounter val preds: Counter({0: 745, 1: 643, 4: 367, 2: 307, 3: 289, 5: 150})\n",
      "Epoch train QWK: 0.908\tval QWK: 0.860\n",
      "Epoch 81/119\n",
      "==========\n",
      " 67%|██████▋   | 626/936 [05:32<02:42,  1.91it/s]"
     ]
    },
    {
     "name": "stdout",
     "output_type": "stream",
     "text": [
      "Gradient overflow.  Skipping step, loss scaler 0 reducing loss scale to 32768.0\n"
     ]
    },
    {
     "name": "stderr",
     "output_type": "stream",
     "text": [
      "100%|██████████| 936/936 [08:15<00:00,  1.89it/s]\n",
      "100%|██████████| 313/313 [02:25<00:00,  2.15it/s]\n",
      "Training Loss: 0.2451\tValidation Loss: 0.2155\n",
      "Counter train preds: Counter({1: 2100, 0: 1870, 4: 1244, 2: 1046, 3: 802, 5: 420})\tCounter val preds: Counter({1: 685, 0: 528, 4: 429, 2: 402, 3: 294, 5: 163})\n",
      "Epoch train QWK: 0.909\tval QWK: 0.869\n",
      "Epoch 82/119\n",
      "==========\n",
      "100%|██████████| 936/936 [08:17<00:00,  1.88it/s]\n",
      "100%|██████████| 313/313 [02:25<00:00,  2.14it/s]\n",
      "Training Loss: 0.2327\tValidation Loss: 0.2120\n",
      "Counter train preds: Counter({1: 1988, 0: 1914, 4: 1218, 2: 1103, 3: 826, 5: 433})\tCounter val preds: Counter({1: 668, 0: 591, 4: 438, 2: 348, 3: 257, 5: 199})\n",
      "Epoch train QWK: 0.913\tval QWK: 0.878\n",
      "Epoch 83/119\n",
      "==========\n",
      "100%|██████████| 936/936 [08:15<00:00,  1.89it/s]\n",
      "100%|██████████| 313/313 [02:25<00:00,  2.15it/s]\n",
      "Training Loss: 0.2384\tValidation Loss: 0.2197\n",
      "Counter train preds: Counter({1: 2064, 0: 1936, 4: 1217, 2: 1020, 3: 806, 5: 439})\tCounter val preds: Counter({1: 608, 0: 506, 2: 503, 4: 427, 3: 311, 5: 146})\n",
      "Epoch train QWK: 0.912\tval QWK: 0.866\n",
      "Epoch 84/119\n",
      "==========\n",
      "100%|██████████| 936/936 [08:17<00:00,  1.88it/s]\n",
      "100%|██████████| 313/313 [02:25<00:00,  2.15it/s]\n",
      "Training Loss: 0.2305\tValidation Loss: 0.2150\n",
      "Counter train preds: Counter({1: 2070, 0: 1932, 4: 1233, 2: 1023, 3: 775, 5: 449})\tCounter val preds: Counter({0: 689, 1: 550, 2: 415, 4: 386, 3: 314, 5: 147})\n",
      "Epoch train QWK: 0.916\tval QWK: 0.871\n",
      "Epoch 85/119\n",
      "==========\n",
      "100%|██████████| 936/936 [08:16<00:00,  1.89it/s]"
     ]
    },
    {
     "name": "stdout",
     "output_type": "stream",
     "text": [
      "Gradient overflow.  Skipping step, loss scaler 0 reducing loss scale to 65536.0\n"
     ]
    },
    {
     "name": "stderr",
     "output_type": "stream",
     "text": [
      "\n",
      "100%|██████████| 313/313 [02:25<00:00,  2.15it/s]\n",
      "Training Loss: 0.2321\tValidation Loss: 0.2232\n",
      "Counter train preds: Counter({1: 1997, 0: 1967, 4: 1206, 2: 1053, 3: 790, 5: 469})\tCounter val preds: Counter({0: 731, 1: 687, 4: 438, 2: 284, 3: 231, 5: 130})\n",
      "Epoch train QWK: 0.918\tval QWK: 0.872\n",
      "Epoch 86/119\n",
      "==========\n",
      "100%|██████████| 936/936 [08:15<00:00,  1.89it/s]\n",
      "100%|██████████| 313/313 [02:25<00:00,  2.15it/s]\n",
      "Training Loss: 0.2313\tValidation Loss: 0.2119\n",
      "Counter train preds: Counter({1: 2085, 0: 1931, 4: 1230, 2: 1003, 3: 781, 5: 452})\tCounter val preds: Counter({1: 718, 0: 617, 4: 405, 2: 339, 3: 304, 5: 118})\n",
      "Epoch train QWK: 0.917\tval QWK: 0.873\n",
      "Epoch 87/119\n",
      "==========\n",
      "100%|██████████| 936/936 [08:15<00:00,  1.89it/s]\n",
      "100%|██████████| 313/313 [02:25<00:00,  2.15it/s]\n",
      "Training Loss: 0.2305\tValidation Loss: 0.2087\n",
      "Counter train preds: Counter({1: 2048, 0: 1938, 4: 1224, 2: 1036, 3: 798, 5: 438})\tCounter val preds: Counter({1: 684, 0: 635, 2: 389, 4: 367, 3: 246, 5: 180})\n",
      "Epoch train QWK: 0.915\tval QWK: 0.876\n",
      "Epoch 88/119\n",
      "==========\n",
      " 75%|███████▌  | 706/936 [06:16<01:58,  1.94it/s]"
     ]
    },
    {
     "name": "stdout",
     "output_type": "stream",
     "text": [
      "Gradient overflow.  Skipping step, loss scaler 0 reducing loss scale to 65536.0\n"
     ]
    },
    {
     "name": "stderr",
     "output_type": "stream",
     "text": [
      "100%|██████████| 936/936 [08:16<00:00,  1.89it/s]\n",
      "100%|██████████| 313/313 [02:24<00:00,  2.16it/s]\n",
      "Training Loss: 0.2218\tValidation Loss: 0.2013\n",
      "Counter train preds: Counter({1: 1989, 0: 1986, 4: 1141, 2: 1046, 3: 813, 5: 507})\tCounter val preds: Counter({0: 696, 1: 679, 4: 388, 2: 324, 3: 270, 5: 144})\n",
      "Epoch train QWK: 0.921\tval QWK: 0.881\n",
      "Epoch 89/119\n",
      "==========\n",
      "100%|██████████| 936/936 [08:16<00:00,  1.89it/s]\n",
      "100%|██████████| 313/313 [02:25<00:00,  2.16it/s]\n",
      "Training Loss: 0.2208\tValidation Loss: 0.2182\n",
      "Counter train preds: Counter({0: 1997, 1: 1973, 4: 1187, 2: 1052, 3: 780, 5: 493})\tCounter val preds: Counter({1: 809, 0: 659, 4: 350, 2: 295, 3: 270, 5: 118})\n",
      "Epoch train QWK: 0.924\tval QWK: 0.866\n",
      "Epoch 90/119\n",
      "==========\n",
      " 93%|█████████▎| 872/936 [07:42<00:32,  1.95it/s]"
     ]
    },
    {
     "name": "stdout",
     "output_type": "stream",
     "text": [
      "Gradient overflow.  Skipping step, loss scaler 0 reducing loss scale to 65536.0\n"
     ]
    },
    {
     "name": "stderr",
     "output_type": "stream",
     "text": [
      "100%|██████████| 936/936 [08:15<00:00,  1.89it/s]"
     ]
    },
    {
     "name": "stdout",
     "output_type": "stream",
     "text": [
      "Gradient overflow.  Skipping step, loss scaler 0 reducing loss scale to 32768.0\n"
     ]
    },
    {
     "name": "stderr",
     "output_type": "stream",
     "text": [
      "\n",
      "100%|██████████| 313/313 [02:25<00:00,  2.16it/s]\n",
      "Training Loss: 0.2219\tValidation Loss: 0.2137\n",
      "Counter train preds: Counter({1: 2007, 0: 1964, 4: 1190, 2: 1049, 3: 794, 5: 478})\tCounter val preds: Counter({1: 796, 0: 522, 4: 435, 3: 330, 2: 314, 5: 104})\n",
      "Epoch train QWK: 0.921\tval QWK: 0.873\n",
      "Epoch 91/119\n",
      "==========\n",
      "100%|██████████| 936/936 [08:16<00:00,  1.88it/s]\n",
      "100%|██████████| 313/313 [02:25<00:00,  2.16it/s]\n",
      "Training Loss: 0.2170\tValidation Loss: 0.2023\n",
      "Counter train preds: Counter({1: 2020, 0: 1995, 4: 1224, 2: 986, 3: 779, 5: 478})\tCounter val preds: Counter({0: 703, 1: 655, 4: 422, 3: 269, 2: 253, 5: 199})\n",
      "Epoch train QWK: 0.926\tval QWK: 0.885\n",
      "  Epoch 91 - Save Best QWK: 0.8848 Model\n",
      "Epoch 92/119\n",
      "==========\n"
     ]
    },
    {
     "name": "stdout",
     "output_type": "stream",
     "text": [
      "Normalized confusion matrix\n",
      "[[0.89466292 0.09269663 0.01123596 0.         0.00140449 0.        ]\n",
      " [0.06329114 0.77848101 0.12816456 0.02531646 0.00474684 0.        ]\n",
      " [0.02229299 0.22292994 0.37261146 0.29299363 0.08598726 0.00318471]\n",
      " [0.04181185 0.05574913 0.08362369 0.34494774 0.41463415 0.05923345]\n",
      " [0.0034965  0.02797203 0.06293706 0.16783217 0.5979021  0.13986014]\n",
      " [0.02222222 0.01111111 0.01851852 0.05185185 0.37407407 0.52222222]]\n"
     ]
    },
    {
     "name": "stderr",
     "output_type": "stream",
     "text": [
      "100%|██████████| 936/936 [08:17<00:00,  1.88it/s]"
     ]
    },
    {
     "name": "stdout",
     "output_type": "stream",
     "text": [
      "Gradient overflow.  Skipping step, loss scaler 0 reducing loss scale to 16384.0\n"
     ]
    },
    {
     "name": "stderr",
     "output_type": "stream",
     "text": [
      "\n",
      "100%|██████████| 313/313 [02:26<00:00,  2.14it/s]\n",
      "Training Loss: 0.2194\tValidation Loss: 0.2121\n",
      "Counter train preds: Counter({1: 2002, 0: 1994, 4: 1135, 2: 1029, 3: 802, 5: 520})\tCounter val preds: Counter({1: 677, 0: 572, 4: 433, 2: 385, 3: 307, 5: 127})\n",
      "Epoch train QWK: 0.927\tval QWK: 0.868\n",
      "Epoch 93/119\n",
      "==========\n",
      "100%|██████████| 936/936 [08:16<00:00,  1.88it/s]\n",
      "100%|██████████| 313/313 [02:25<00:00,  2.15it/s]\n",
      "Training Loss: 0.2260\tValidation Loss: 0.2197\n",
      "Counter train preds: Counter({1: 2033, 0: 1959, 4: 1141, 2: 1004, 3: 837, 5: 508})\tCounter val preds: Counter({1: 670, 0: 518, 4: 463, 2: 396, 3: 333, 5: 121})\n",
      "Epoch train QWK: 0.921\tval QWK: 0.862\n",
      "Epoch 94/119\n",
      "==========\n",
      "100%|██████████| 936/936 [08:15<00:00,  1.89it/s]\n",
      "100%|██████████| 313/313 [02:25<00:00,  2.15it/s]\n",
      "Training Loss: 0.2216\tValidation Loss: 0.2120\n",
      "Counter train preds: Counter({1: 2024, 0: 1992, 4: 1178, 2: 1009, 3: 791, 5: 488})\tCounter val preds: Counter({1: 720, 0: 694, 4: 408, 2: 259, 3: 215, 5: 205})\n",
      "Epoch train QWK: 0.922\tval QWK: 0.883\n",
      "Epoch 95/119\n",
      "==========\n",
      "100%|██████████| 936/936 [08:15<00:00,  1.89it/s]\n",
      "100%|██████████| 313/313 [02:25<00:00,  2.15it/s]\n",
      "Training Loss: 0.2202\tValidation Loss: 0.2104\n",
      "Counter train preds: Counter({1: 2036, 0: 2004, 4: 1214, 2: 968, 3: 764, 5: 496})\tCounter val preds: Counter({0: 664, 1: 554, 2: 443, 4: 403, 3: 269, 5: 168})\n",
      "Epoch train QWK: 0.925\tval QWK: 0.875\n",
      "Epoch 96/119\n",
      "==========\n",
      "100%|██████████| 936/936 [08:17<00:00,  1.88it/s]\n",
      "100%|██████████| 313/313 [02:25<00:00,  2.15it/s]\n",
      "Training Loss: 0.2158\tValidation Loss: 0.2074\n",
      "Counter train preds: Counter({0: 2026, 1: 1965, 4: 1194, 2: 1010, 3: 799, 5: 488})\tCounter val preds: Counter({0: 695, 1: 665, 4: 370, 2: 351, 3: 295, 5: 125})\n",
      "Epoch train QWK: 0.927\tval QWK: 0.876\n",
      "Epoch 97/119\n",
      "==========\n",
      "100%|██████████| 936/936 [08:14<00:00,  1.89it/s]\n",
      "100%|██████████| 313/313 [02:25<00:00,  2.15it/s]\n",
      "Training Loss: 0.2184\tValidation Loss: 0.2083\n",
      "Counter train preds: Counter({1: 2018, 0: 2005, 4: 1149, 2: 1001, 3: 807, 5: 502})\tCounter val preds: Counter({0: 671, 1: 627, 2: 407, 4: 343, 3: 250, 5: 203})\n",
      "Epoch train QWK: 0.924\tval QWK: 0.879\n",
      "Epoch 98/119\n",
      "==========\n",
      " 28%|██▊       | 260/936 [02:30<06:02,  1.86it/s]"
     ]
    },
    {
     "name": "stdout",
     "output_type": "stream",
     "text": [
      "Gradient overflow.  Skipping step, loss scaler 0 reducing loss scale to 32768.0\n"
     ]
    },
    {
     "name": "stderr",
     "output_type": "stream",
     "text": [
      "100%|██████████| 936/936 [08:48<00:00,  1.77it/s]\n",
      "100%|██████████| 313/313 [02:27<00:00,  2.13it/s]\n",
      "Training Loss: 0.2086\tValidation Loss: 0.2093\n",
      "Counter train preds: Counter({0: 2035, 1: 1973, 4: 1144, 2: 998, 3: 789, 5: 543})\tCounter val preds: Counter({0: 681, 1: 631, 2: 385, 4: 356, 3: 293, 5: 155})\n",
      "Epoch train QWK: 0.928\tval QWK: 0.877\n",
      "Epoch 99/119\n",
      "==========\n",
      "100%|██████████| 936/936 [08:41<00:00,  1.79it/s]\n",
      "100%|██████████| 313/313 [02:27<00:00,  2.13it/s]\n",
      "Training Loss: 0.2163\tValidation Loss: 0.2131\n",
      "Counter train preds: Counter({1: 2020, 0: 1997, 4: 1168, 2: 974, 3: 820, 5: 503})\tCounter val preds: Counter({1: 791, 0: 681, 4: 351, 3: 298, 2: 277, 5: 103})\n",
      "Epoch train QWK: 0.926\tval QWK: 0.872\n",
      "Epoch 100/119\n",
      "==========\n",
      "100%|██████████| 936/936 [08:18<00:00,  1.88it/s]\n",
      "100%|██████████| 313/313 [02:25<00:00,  2.14it/s]\n",
      "Training Loss: 0.2092\tValidation Loss: 0.2040\n",
      "Counter train preds: Counter({1: 2039, 0: 2015, 4: 1168, 2: 952, 3: 810, 5: 498})\tCounter val preds: Counter({0: 725, 1: 718, 4: 389, 3: 255, 2: 248, 5: 166})\n",
      "Epoch train QWK: 0.930\tval QWK: 0.879\n",
      "Epoch 101/119\n",
      "==========\n",
      "100%|██████████| 936/936 [08:15<00:00,  1.89it/s]"
     ]
    },
    {
     "name": "stdout",
     "output_type": "stream",
     "text": [
      "Gradient overflow.  Skipping step, loss scaler 0 reducing loss scale to 32768.0\n"
     ]
    },
    {
     "name": "stderr",
     "output_type": "stream",
     "text": [
      "\n",
      "100%|██████████| 313/313 [02:25<00:00,  2.15it/s]\n",
      "Training Loss: 0.2169\tValidation Loss: 0.2075\n",
      "Counter train preds: Counter({0: 2029, 1: 1988, 4: 1166, 2: 1006, 3: 780, 5: 513})\tCounter val preds: Counter({1: 618, 0: 616, 4: 425, 2: 377, 3: 316, 5: 149})\n",
      "Epoch train QWK: 0.926\tval QWK: 0.880\n",
      "Epoch 102/119\n",
      "==========\n",
      "100%|██████████| 936/936 [08:15<00:00,  1.89it/s]\n",
      "100%|██████████| 313/313 [02:26<00:00,  2.14it/s]\n",
      "Training Loss: 0.2100\tValidation Loss: 0.2006\n",
      "Counter train preds: Counter({0: 2027, 1: 1962, 4: 1152, 2: 1026, 3: 787, 5: 528})\tCounter val preds: Counter({1: 691, 0: 644, 4: 411, 2: 331, 3: 289, 5: 135})\n",
      "Epoch train QWK: 0.931\tval QWK: 0.885\n",
      "  Epoch 102 - Save Best Loss: 0.2006 Model\n",
      "  Epoch 102 - Save Best QWK: 0.8850 Model\n"
     ]
    },
    {
     "name": "stdout",
     "output_type": "stream",
     "text": [
      "Normalized confusion matrix\n",
      "[[0.83146067 0.13904494 0.02247191 0.00280899 0.00421348 0.        ]\n",
      " [0.05379747 0.77373418 0.14082278 0.02848101 0.00316456 0.        ]\n",
      " [0.01273885 0.26433121 0.49681529 0.18471338 0.03821656 0.00318471]\n",
      " [0.03484321 0.03832753 0.14982578 0.46689895 0.29616725 0.01393728]\n",
      " [0.0034965  0.01748252 0.06993007 0.20979021 0.60839161 0.09090909]\n",
      " [0.01111111 0.01481481 0.02592593 0.06296296 0.5        0.38518519]]\n"
     ]
    },
    {
     "name": "stderr",
     "output_type": "stream",
     "text": [
      "Epoch 103/119\n",
      "==========\n"
     ]
    },
    {
     "name": "stdout",
     "output_type": "stream",
     "text": [
      "Normalized confusion matrix\n",
      "[[0.83146067 0.13904494 0.02247191 0.00280899 0.00421348 0.        ]\n",
      " [0.05379747 0.77373418 0.14082278 0.02848101 0.00316456 0.        ]\n",
      " [0.01273885 0.26433121 0.49681529 0.18471338 0.03821656 0.00318471]\n",
      " [0.03484321 0.03832753 0.14982578 0.46689895 0.29616725 0.01393728]\n",
      " [0.0034965  0.01748252 0.06993007 0.20979021 0.60839161 0.09090909]\n",
      " [0.01111111 0.01481481 0.02592593 0.06296296 0.5        0.38518519]]\n"
     ]
    },
    {
     "name": "stderr",
     "output_type": "stream",
     "text": [
      "100%|██████████| 936/936 [08:15<00:00,  1.89it/s]\n",
      "100%|██████████| 313/313 [02:25<00:00,  2.15it/s]\n",
      "Training Loss: 0.2120\tValidation Loss: 0.2031\n",
      "Counter train preds: Counter({1: 2016, 0: 2004, 4: 1119, 2: 1000, 3: 790, 5: 553})\tCounter val preds: Counter({0: 687, 1: 666, 4: 415, 2: 261, 3: 239, 5: 233})\n",
      "Epoch train QWK: 0.928\tval QWK: 0.889\n",
      "  Epoch 103 - Save Best QWK: 0.8889 Model\n",
      "Epoch 104/119\n",
      "==========\n"
     ]
    },
    {
     "name": "stdout",
     "output_type": "stream",
     "text": [
      "Normalized confusion matrix\n",
      "[[0.88202247 0.10393258 0.00702247 0.00280899 0.00421348 0.        ]\n",
      " [0.05537975 0.77848101 0.12816456 0.03006329 0.00791139 0.        ]\n",
      " [0.02229299 0.24840764 0.4044586  0.24203822 0.07643312 0.00636943]\n",
      " [0.04181185 0.04529617 0.09407666 0.32752613 0.42508711 0.06620209]\n",
      " [0.0034965  0.01048951 0.05944056 0.13986014 0.61188811 0.17482517]\n",
      " [0.01481481 0.02222222 0.01481481 0.02962963 0.31851852 0.6       ]]\n"
     ]
    },
    {
     "name": "stderr",
     "output_type": "stream",
     "text": [
      "100%|██████████| 936/936 [08:19<00:00,  1.88it/s]\n",
      "100%|██████████| 313/313 [02:25<00:00,  2.15it/s]\n",
      "Training Loss: 0.2062\tValidation Loss: 0.2039\n",
      "Counter train preds: Counter({0: 2035, 1: 1957, 4: 1157, 2: 1004, 3: 809, 5: 520})\tCounter val preds: Counter({1: 735, 0: 616, 4: 386, 2: 350, 3: 251, 5: 163})\n",
      "Epoch train QWK: 0.931\tval QWK: 0.885\n",
      "Epoch 105/119\n",
      "==========\n",
      " 12%|█▏        | 116/936 [01:04<07:07,  1.92it/s]"
     ]
    },
    {
     "name": "stdout",
     "output_type": "stream",
     "text": [
      "Gradient overflow.  Skipping step, loss scaler 0 reducing loss scale to 32768.0\n"
     ]
    },
    {
     "name": "stderr",
     "output_type": "stream",
     "text": [
      "100%|██████████| 936/936 [08:15<00:00,  1.89it/s]\n",
      "100%|██████████| 313/313 [02:25<00:00,  2.15it/s]\n",
      "Training Loss: 0.2123\tValidation Loss: 0.2047\n",
      "Counter train preds: Counter({0: 2022, 1: 1989, 4: 1139, 2: 1018, 3: 776, 5: 538})\tCounter val preds: Counter({0: 734, 1: 658, 4: 396, 2: 312, 3: 277, 5: 124})\n",
      "Epoch train QWK: 0.929\tval QWK: 0.877\n",
      "Epoch 106/119\n",
      "==========\n",
      "100%|██████████| 936/936 [08:16<00:00,  1.89it/s]\n",
      "100%|██████████| 313/313 [02:25<00:00,  2.15it/s]\n",
      "Training Loss: 0.2088\tValidation Loss: 0.2092\n",
      "Counter train preds: Counter({1: 2022, 0: 1996, 4: 1145, 2: 979, 3: 810, 5: 530})\tCounter val preds: Counter({1: 702, 0: 594, 4: 433, 2: 322, 3: 307, 5: 143})\n",
      "Epoch train QWK: 0.930\tval QWK: 0.876\n",
      "Epoch 107/119\n",
      "==========\n",
      "100%|██████████| 936/936 [08:16<00:00,  1.89it/s]\n",
      "100%|██████████| 313/313 [02:29<00:00,  2.09it/s]\n",
      "Training Loss: 0.2109\tValidation Loss: 0.2135\n",
      "Counter train preds: Counter({0: 2033, 1: 2001, 4: 1123, 2: 941, 3: 844, 5: 540})\tCounter val preds: Counter({1: 745, 0: 651, 4: 378, 2: 346, 3: 311, 5: 70})\n",
      "Epoch train QWK: 0.930\tval QWK: 0.870\n",
      "Epoch 108/119\n",
      "==========\n",
      " 22%|██▏       | 209/936 [02:01<06:34,  1.84it/s]"
     ]
    },
    {
     "name": "stdout",
     "output_type": "stream",
     "text": [
      "Gradient overflow.  Skipping step, loss scaler 0 reducing loss scale to 32768.0\n"
     ]
    },
    {
     "name": "stderr",
     "output_type": "stream",
     "text": [
      "100%|██████████| 936/936 [08:57<00:00,  1.74it/s]\n",
      "100%|██████████| 313/313 [02:35<00:00,  2.01it/s]\n",
      "Training Loss: 0.2055\tValidation Loss: 0.2041\n",
      "Counter train preds: Counter({0: 2038, 1: 2022, 4: 1081, 2: 948, 3: 833, 5: 560})\tCounter val preds: Counter({1: 711, 0: 675, 4: 412, 2: 298, 3: 285, 5: 120})\n",
      "Epoch train QWK: 0.930\tval QWK: 0.882\n",
      "Epoch 109/119\n",
      "==========\n",
      "100%|██████████| 936/936 [09:03<00:00,  1.72it/s]"
     ]
    },
    {
     "name": "stdout",
     "output_type": "stream",
     "text": [
      "Gradient overflow.  Skipping step, loss scaler 0 reducing loss scale to 16384.0\n"
     ]
    },
    {
     "name": "stderr",
     "output_type": "stream",
     "text": [
      "\n",
      "100%|██████████| 313/313 [02:33<00:00,  2.05it/s]\n",
      "Training Loss: 0.2126\tValidation Loss: 0.2083\n",
      "Counter train preds: Counter({1: 2014, 0: 2010, 4: 1142, 2: 965, 3: 824, 5: 527})\tCounter val preds: Counter({1: 768, 0: 643, 4: 374, 2: 295, 3: 288, 5: 133})\n",
      "Epoch train QWK: 0.926\tval QWK: 0.879\n",
      "Epoch 110/119\n",
      "==========\n",
      "100%|██████████| 936/936 [09:08<00:00,  1.71it/s]\n",
      "100%|██████████| 313/313 [02:30<00:00,  2.07it/s]\n",
      "Training Loss: 0.2085\tValidation Loss: 0.1993\n",
      "Counter train preds: Counter({0: 2006, 1: 1986, 4: 1097, 2: 1024, 3: 807, 5: 562})\tCounter val preds: Counter({0: 720, 1: 709, 4: 353, 3: 317, 2: 257, 5: 145})\n",
      "Epoch train QWK: 0.928\tval QWK: 0.883\n",
      "  Epoch 110 - Save Best Loss: 0.1993 Model\n",
      "Epoch 111/119\n",
      "==========\n"
     ]
    },
    {
     "name": "stdout",
     "output_type": "stream",
     "text": [
      "Normalized confusion matrix\n",
      "[[0.90730337 0.07865169 0.00702247 0.00561798 0.00140449 0.        ]\n",
      " [0.07278481 0.82278481 0.08386076 0.01740506 0.00316456 0.        ]\n",
      " [0.02229299 0.31847134 0.42675159 0.19426752 0.03503185 0.00318471]\n",
      " [0.04878049 0.05226481 0.15679443 0.49825784 0.22648084 0.0174216 ]\n",
      " [0.01048951 0.04545455 0.05594406 0.24825175 0.55244755 0.08741259]\n",
      " [0.01481481 0.01851852 0.01481481 0.1        0.42962963 0.42222222]]\n"
     ]
    },
    {
     "name": "stderr",
     "output_type": "stream",
     "text": [
      "100%|██████████| 936/936 [08:48<00:00,  1.77it/s]\n",
      "100%|██████████| 313/313 [02:30<00:00,  2.08it/s]\n",
      "Training Loss: 0.2002\tValidation Loss: 0.1989\n",
      "Counter train preds: Counter({0: 2011, 1: 2007, 4: 1103, 2: 984, 3: 809, 5: 568})\tCounter val preds: Counter({1: 706, 0: 684, 4: 365, 2: 280, 3: 264, 5: 202})\n",
      "Epoch train QWK: 0.933\tval QWK: 0.888\n",
      "  Epoch 111 - Save Best Loss: 0.1989 Model\n",
      "Epoch 112/119\n",
      "==========\n"
     ]
    },
    {
     "name": "stdout",
     "output_type": "stream",
     "text": [
      "Normalized confusion matrix\n",
      "[[0.87921348 0.0997191  0.00983146 0.00421348 0.00702247 0.        ]\n",
      " [0.06170886 0.80696203 0.10126582 0.02373418 0.00632911 0.        ]\n",
      " [0.01910828 0.29936306 0.45541401 0.1910828  0.02866242 0.00636943]\n",
      " [0.03484321 0.06271777 0.13240418 0.41114983 0.32404181 0.03484321]\n",
      " [0.00699301 0.02447552 0.08391608 0.17132867 0.55944056 0.15384615]\n",
      " [0.0037037  0.02222222 0.01481481 0.07037037 0.34814815 0.54074074]]\n"
     ]
    },
    {
     "name": "stderr",
     "output_type": "stream",
     "text": [
      " 31%|███       | 292/936 [02:47<05:52,  1.82it/s]"
     ]
    },
    {
     "name": "stdout",
     "output_type": "stream",
     "text": [
      "Gradient overflow.  Skipping step, loss scaler 0 reducing loss scale to 16384.0\n"
     ]
    },
    {
     "name": "stderr",
     "output_type": "stream",
     "text": [
      "100%|██████████| 936/936 [08:49<00:00,  1.77it/s]"
     ]
    },
    {
     "name": "stdout",
     "output_type": "stream",
     "text": [
      "Gradient overflow.  Skipping step, loss scaler 0 reducing loss scale to 8192.0\n"
     ]
    },
    {
     "name": "stderr",
     "output_type": "stream",
     "text": [
      "\n",
      "100%|██████████| 313/313 [02:29<00:00,  2.09it/s]\n",
      "Training Loss: 0.2001\tValidation Loss: 0.2093\n",
      "Counter train preds: Counter({0: 2061, 1: 1938, 4: 1097, 2: 1013, 3: 807, 5: 566})\tCounter val preds: Counter({0: 750, 1: 668, 4: 397, 2: 272, 3: 251, 5: 163})\n",
      "Epoch train QWK: 0.935\tval QWK: 0.877\n",
      "Epoch 113/119\n",
      "==========\n",
      "100%|██████████| 936/936 [08:41<00:00,  1.80it/s]\n",
      "100%|██████████| 313/313 [02:27<00:00,  2.12it/s]\n",
      "Training Loss: 0.1996\tValidation Loss: 0.2081\n",
      "Counter train preds: Counter({0: 2073, 1: 1920, 4: 1102, 2: 1016, 3: 796, 5: 575})\tCounter val preds: Counter({1: 680, 0: 666, 4: 418, 2: 291, 3: 278, 5: 168})\n",
      "Epoch train QWK: 0.936\tval QWK: 0.884\n",
      "Epoch 114/119\n",
      "==========\n",
      "100%|██████████| 936/936 [08:44<00:00,  1.79it/s]\n",
      "100%|██████████| 313/313 [02:26<00:00,  2.13it/s]\n",
      "Training Loss: 0.2017\tValidation Loss: 0.2071\n",
      "Counter train preds: Counter({0: 2044, 1: 2006, 4: 1091, 2: 961, 3: 812, 5: 568})\tCounter val preds: Counter({0: 765, 1: 736, 4: 390, 2: 242, 3: 238, 5: 130})\n",
      "Epoch train QWK: 0.934\tval QWK: 0.875\n",
      "Epoch 115/119\n",
      "==========\n",
      "100%|██████████| 936/936 [08:51<00:00,  1.76it/s]\n",
      "100%|██████████| 313/313 [02:36<00:00,  1.99it/s]\n",
      "Training Loss: 0.2073\tValidation Loss: 0.2069\n",
      "Counter train preds: Counter({0: 2031, 1: 1988, 4: 1114, 2: 999, 3: 797, 5: 553})\tCounter val preds: Counter({1: 688, 0: 622, 4: 418, 2: 322, 3: 316, 5: 135})\n",
      "Epoch train QWK: 0.930\tval QWK: 0.880\n",
      "Epoch 116/119\n",
      "==========\n",
      "100%|██████████| 936/936 [09:33<00:00,  1.63it/s]\n",
      "100%|██████████| 313/313 [02:24<00:00,  2.16it/s]\n",
      "Training Loss: 0.1976\tValidation Loss: 0.1970\n",
      "Counter train preds: Counter({0: 2040, 1: 1976, 4: 1078, 2: 974, 3: 830, 5: 584})\tCounter val preds: Counter({0: 699, 1: 658, 4: 418, 2: 281, 3: 267, 5: 178})\n",
      "Epoch train QWK: 0.936\tval QWK: 0.890\n",
      "  Epoch 116 - Save Best Loss: 0.1970 Model\n",
      "  Epoch 116 - Save Best QWK: 0.8902 Model\n"
     ]
    },
    {
     "name": "stdout",
     "output_type": "stream",
     "text": [
      "Normalized confusion matrix\n",
      "[[0.89606742 0.08426966 0.01404494 0.00421348 0.00140449 0.        ]\n",
      " [0.0664557  0.76740506 0.13132911 0.02689873 0.00791139 0.        ]\n",
      " [0.01910828 0.27070064 0.42356688 0.22611465 0.05732484 0.00318471]\n",
      " [0.03135889 0.05226481 0.11149826 0.41114983 0.36236934 0.03135889]\n",
      " [0.00699301 0.02097902 0.06293706 0.15734266 0.63286713 0.11888112]\n",
      " [0.00740741 0.02592593 0.01851852 0.04814815 0.4037037  0.4962963 ]]\n"
     ]
    },
    {
     "name": "stderr",
     "output_type": "stream",
     "text": [
      "Epoch 117/119\n",
      "==========\n"
     ]
    },
    {
     "name": "stdout",
     "output_type": "stream",
     "text": [
      "Normalized confusion matrix\n",
      "[[0.89606742 0.08426966 0.01404494 0.00421348 0.00140449 0.        ]\n",
      " [0.0664557  0.76740506 0.13132911 0.02689873 0.00791139 0.        ]\n",
      " [0.01910828 0.27070064 0.42356688 0.22611465 0.05732484 0.00318471]\n",
      " [0.03135889 0.05226481 0.11149826 0.41114983 0.36236934 0.03135889]\n",
      " [0.00699301 0.02097902 0.06293706 0.15734266 0.63286713 0.11888112]\n",
      " [0.00740741 0.02592593 0.01851852 0.04814815 0.4037037  0.4962963 ]]\n"
     ]
    },
    {
     "name": "stderr",
     "output_type": "stream",
     "text": [
      " 75%|███████▍  | 698/936 [06:30<02:13,  1.79it/s]\n"
     ]
    },
    {
     "ename": "KeyboardInterrupt",
     "evalue": "",
     "output_type": "error",
     "traceback": [
      "\u001b[0;31m---------------------------------------------------------------------------\u001b[0m",
      "\u001b[0;31mKeyboardInterrupt\u001b[0m                         Traceback (most recent call last)",
      "\u001b[0;32m<ipython-input-24-00c28ca98432>\u001b[0m in \u001b[0;36m<module>\u001b[0;34m\u001b[0m\n\u001b[1;32m      1\u001b[0m \u001b[0;31m# Start Train/Eval Experiment\u001b[0m\u001b[0;34m\u001b[0m\u001b[0;34m\u001b[0m\u001b[0;34m\u001b[0m\u001b[0m\n\u001b[1;32m      2\u001b[0m \u001b[0mlogging\u001b[0m\u001b[0;34m.\u001b[0m\u001b[0minfo\u001b[0m\u001b[0;34m(\u001b[0m\u001b[0;34mf'Start: {datetime.now().strftime(\"%d-%m-%Y-%H-%M\")}'\u001b[0m\u001b[0;34m)\u001b[0m\u001b[0;34m\u001b[0m\u001b[0;34m\u001b[0m\u001b[0m\n\u001b[0;32m----> 3\u001b[0;31m \u001b[0mmodel_ft\u001b[0m\u001b[0;34m,\u001b[0m \u001b[0mbest_loss\u001b[0m\u001b[0;34m,\u001b[0m \u001b[0mbest_qwk\u001b[0m \u001b[0;34m=\u001b[0m \u001b[0mtrain_eval_loop\u001b[0m\u001b[0;34m(\u001b[0m\u001b[0mtrain_dataloader\u001b[0m\u001b[0;34m,\u001b[0m \u001b[0mval_dataloader\u001b[0m\u001b[0;34m,\u001b[0m \u001b[0mmodel_ft\u001b[0m\u001b[0;34m,\u001b[0m \u001b[0moptimizer\u001b[0m\u001b[0;34m,\u001b[0m \u001b[0mcriterion\u001b[0m\u001b[0;34m,\u001b[0m \u001b[0mcheckpoint\u001b[0m\u001b[0;34m=\u001b[0m\u001b[0mcheckpoint\u001b[0m\u001b[0;34m,\u001b[0m \u001b[0mmodel_name\u001b[0m\u001b[0;34m=\u001b[0m\u001b[0mPREV_NAME\u001b[0m\u001b[0;34m)\u001b[0m\u001b[0;34m\u001b[0m\u001b[0;34m\u001b[0m\u001b[0m\n\u001b[0m\u001b[1;32m      4\u001b[0m \u001b[0mlogging\u001b[0m\u001b[0;34m.\u001b[0m\u001b[0minfo\u001b[0m\u001b[0;34m(\u001b[0m\u001b[0;34mf'Finish: {datetime.now().strftime(\"%d-%m-%Y-%H-%M\")}'\u001b[0m\u001b[0;34m)\u001b[0m\u001b[0;34m\u001b[0m\u001b[0;34m\u001b[0m\u001b[0m\n",
      "\u001b[0;32m<ipython-input-16-bde0d7e6610f>\u001b[0m in \u001b[0;36mtrain_eval_loop\u001b[0;34m(train_dataloader, val_dataloader, model, optimizer, criterion, accum_step, checkpoint, num_epochs, device, tb_tag, model_name)\u001b[0m\n\u001b[1;32m    143\u001b[0m             \u001b[0;32mif\u001b[0m \u001b[0mCFG\u001b[0m\u001b[0;34m.\u001b[0m\u001b[0muse_amp\u001b[0m\u001b[0;34m:\u001b[0m\u001b[0;34m\u001b[0m\u001b[0;34m\u001b[0m\u001b[0m\n\u001b[1;32m    144\u001b[0m                 \u001b[0;32mwith\u001b[0m \u001b[0mamp\u001b[0m\u001b[0;34m.\u001b[0m\u001b[0mscale_loss\u001b[0m\u001b[0;34m(\u001b[0m\u001b[0mloss\u001b[0m\u001b[0;34m,\u001b[0m \u001b[0moptimizer\u001b[0m\u001b[0;34m)\u001b[0m \u001b[0;32mas\u001b[0m \u001b[0mscaled_loss\u001b[0m\u001b[0;34m:\u001b[0m\u001b[0;34m\u001b[0m\u001b[0;34m\u001b[0m\u001b[0m\n\u001b[0;32m--> 145\u001b[0;31m                     \u001b[0mscaled_loss\u001b[0m\u001b[0;34m.\u001b[0m\u001b[0mbackward\u001b[0m\u001b[0;34m(\u001b[0m\u001b[0;34m)\u001b[0m\u001b[0;34m\u001b[0m\u001b[0;34m\u001b[0m\u001b[0m\n\u001b[0m\u001b[1;32m    146\u001b[0m             \u001b[0;32melse\u001b[0m\u001b[0;34m:\u001b[0m\u001b[0;34m\u001b[0m\u001b[0;34m\u001b[0m\u001b[0m\n\u001b[1;32m    147\u001b[0m                 \u001b[0mloss\u001b[0m\u001b[0;34m.\u001b[0m\u001b[0mbackward\u001b[0m\u001b[0;34m(\u001b[0m\u001b[0;34m)\u001b[0m\u001b[0;34m\u001b[0m\u001b[0;34m\u001b[0m\u001b[0m\n",
      "\u001b[0;32m~/.pyenv/versions/3.7.7/lib/python3.7/contextlib.py\u001b[0m in \u001b[0;36m__exit__\u001b[0;34m(self, type, value, traceback)\u001b[0m\n\u001b[1;32m    117\u001b[0m         \u001b[0;32mif\u001b[0m \u001b[0mtype\u001b[0m \u001b[0;32mis\u001b[0m \u001b[0;32mNone\u001b[0m\u001b[0;34m:\u001b[0m\u001b[0;34m\u001b[0m\u001b[0;34m\u001b[0m\u001b[0m\n\u001b[1;32m    118\u001b[0m             \u001b[0;32mtry\u001b[0m\u001b[0;34m:\u001b[0m\u001b[0;34m\u001b[0m\u001b[0;34m\u001b[0m\u001b[0m\n\u001b[0;32m--> 119\u001b[0;31m                 \u001b[0mnext\u001b[0m\u001b[0;34m(\u001b[0m\u001b[0mself\u001b[0m\u001b[0;34m.\u001b[0m\u001b[0mgen\u001b[0m\u001b[0;34m)\u001b[0m\u001b[0;34m\u001b[0m\u001b[0;34m\u001b[0m\u001b[0m\n\u001b[0m\u001b[1;32m    120\u001b[0m             \u001b[0;32mexcept\u001b[0m \u001b[0mStopIteration\u001b[0m\u001b[0;34m:\u001b[0m\u001b[0;34m\u001b[0m\u001b[0;34m\u001b[0m\u001b[0m\n\u001b[1;32m    121\u001b[0m                 \u001b[0;32mreturn\u001b[0m \u001b[0;32mFalse\u001b[0m\u001b[0;34m\u001b[0m\u001b[0;34m\u001b[0m\u001b[0m\n",
      "\u001b[0;32m~/.cache/pypoetry/virtualenvs/chestxray-uNc73CMC-py3.7/src/apex/apex/amp/handle.py\u001b[0m in \u001b[0;36mscale_loss\u001b[0;34m(loss, optimizers, loss_id, model, delay_unscale, delay_overflow_check)\u001b[0m\n\u001b[1;32m    121\u001b[0m             \u001b[0mloss_scaler\u001b[0m\u001b[0;34m.\u001b[0m\u001b[0mclear_overflow_state\u001b[0m\u001b[0;34m(\u001b[0m\u001b[0;34m)\u001b[0m\u001b[0;34m\u001b[0m\u001b[0;34m\u001b[0m\u001b[0m\n\u001b[1;32m    122\u001b[0m             \u001b[0;32mfor\u001b[0m \u001b[0moptimizer\u001b[0m \u001b[0;32min\u001b[0m \u001b[0moptimizers\u001b[0m\u001b[0;34m:\u001b[0m\u001b[0;34m\u001b[0m\u001b[0;34m\u001b[0m\u001b[0m\n\u001b[0;32m--> 123\u001b[0;31m                 \u001b[0moptimizer\u001b[0m\u001b[0;34m.\u001b[0m\u001b[0m_post_amp_backward\u001b[0m\u001b[0;34m(\u001b[0m\u001b[0mloss_scaler\u001b[0m\u001b[0;34m)\u001b[0m\u001b[0;34m\u001b[0m\u001b[0;34m\u001b[0m\u001b[0m\n\u001b[0m\u001b[1;32m    124\u001b[0m                 \u001b[0moptimizer\u001b[0m\u001b[0;34m.\u001b[0m\u001b[0m_amp_stash\u001b[0m\u001b[0;34m.\u001b[0m\u001b[0mparams_have_scaled_gradients\u001b[0m \u001b[0;34m=\u001b[0m \u001b[0;32mFalse\u001b[0m\u001b[0;34m\u001b[0m\u001b[0;34m\u001b[0m\u001b[0m\n\u001b[1;32m    125\u001b[0m             \u001b[0;31m# For future fused optimizers that enable sync-free dynamic loss scaling,\u001b[0m\u001b[0;34m\u001b[0m\u001b[0;34m\u001b[0m\u001b[0;34m\u001b[0m\u001b[0m\n",
      "\u001b[0;32m~/.cache/pypoetry/virtualenvs/chestxray-uNc73CMC-py3.7/src/apex/apex/amp/_process_optimizer.py\u001b[0m in \u001b[0;36mpost_backward_with_master_weights\u001b[0;34m(self, scaler)\u001b[0m\n\u001b[1;32m    188\u001b[0m             \u001b[0mnew_fp32_grads\u001b[0m\u001b[0;34m,\u001b[0m\u001b[0;34m\u001b[0m\u001b[0;34m\u001b[0m\u001b[0m\n\u001b[1;32m    189\u001b[0m             \u001b[0mscaler\u001b[0m\u001b[0;34m.\u001b[0m\u001b[0mloss_scale\u001b[0m\u001b[0;34m(\u001b[0m\u001b[0;34m)\u001b[0m\u001b[0;34m,\u001b[0m\u001b[0;34m\u001b[0m\u001b[0;34m\u001b[0m\u001b[0m\n\u001b[0;32m--> 190\u001b[0;31m             models_are_masters=False)\n\u001b[0m\u001b[1;32m    191\u001b[0m \u001b[0;34m\u001b[0m\u001b[0m\n\u001b[1;32m    192\u001b[0m     \u001b[0;32mif\u001b[0m \u001b[0mlen\u001b[0m\u001b[0;34m(\u001b[0m\u001b[0mfp16_grads_needing_unscale_with_stash\u001b[0m\u001b[0;34m)\u001b[0m \u001b[0;34m>\u001b[0m \u001b[0;36m0\u001b[0m\u001b[0;34m:\u001b[0m\u001b[0;34m\u001b[0m\u001b[0;34m\u001b[0m\u001b[0m\n",
      "\u001b[0;32m~/.cache/pypoetry/virtualenvs/chestxray-uNc73CMC-py3.7/src/apex/apex/amp/scaler.py\u001b[0m in \u001b[0;36munscale\u001b[0;34m(self, model_grads, master_grads, unused_scale, models_are_masters, scale_override)\u001b[0m\n\u001b[1;32m    117\u001b[0m                                  1./scale)\n\u001b[1;32m    118\u001b[0m         \u001b[0;32melse\u001b[0m\u001b[0;34m:\u001b[0m\u001b[0;34m\u001b[0m\u001b[0;34m\u001b[0m\u001b[0m\n\u001b[0;32m--> 119\u001b[0;31m             \u001b[0mself\u001b[0m\u001b[0;34m.\u001b[0m\u001b[0munscale_python\u001b[0m\u001b[0;34m(\u001b[0m\u001b[0mmodel_grads\u001b[0m\u001b[0;34m,\u001b[0m \u001b[0mmaster_grads\u001b[0m\u001b[0;34m,\u001b[0m \u001b[0mscale\u001b[0m\u001b[0;34m)\u001b[0m\u001b[0;34m\u001b[0m\u001b[0;34m\u001b[0m\u001b[0m\n\u001b[0m\u001b[1;32m    120\u001b[0m \u001b[0;34m\u001b[0m\u001b[0m\n\u001b[1;32m    121\u001b[0m         \u001b[0;31m# Defer to update_scale\u001b[0m\u001b[0;34m\u001b[0m\u001b[0;34m\u001b[0m\u001b[0;34m\u001b[0m\u001b[0m\n",
      "\u001b[0;32m~/.cache/pypoetry/virtualenvs/chestxray-uNc73CMC-py3.7/src/apex/apex/amp/scaler.py\u001b[0m in \u001b[0;36munscale_python\u001b[0;34m(self, model_grads, master_grads, scale)\u001b[0m\n\u001b[1;32m     87\u001b[0m                                                                  \u001b[0mmaster\u001b[0m\u001b[0;34m,\u001b[0m\u001b[0;34m\u001b[0m\u001b[0;34m\u001b[0m\u001b[0m\n\u001b[1;32m     88\u001b[0m                                                                  \u001b[0;36m1.\u001b[0m\u001b[0;34m/\u001b[0m\u001b[0mscale\u001b[0m\u001b[0;34m,\u001b[0m\u001b[0;34m\u001b[0m\u001b[0;34m\u001b[0m\u001b[0m\n\u001b[0;32m---> 89\u001b[0;31m                                                                  self.dynamic)\n\u001b[0m\u001b[1;32m     90\u001b[0m                 \u001b[0;32mif\u001b[0m \u001b[0mself\u001b[0m\u001b[0;34m.\u001b[0m\u001b[0m_has_overflow\u001b[0m \u001b[0;32mand\u001b[0m \u001b[0mself\u001b[0m\u001b[0;34m.\u001b[0m\u001b[0mdynamic\u001b[0m\u001b[0;34m:\u001b[0m\u001b[0;34m\u001b[0m\u001b[0;34m\u001b[0m\u001b[0m\n\u001b[1;32m     91\u001b[0m                     \u001b[0;32mbreak\u001b[0m\u001b[0;34m\u001b[0m\u001b[0;34m\u001b[0m\u001b[0m\n",
      "\u001b[0;32m~/.cache/pypoetry/virtualenvs/chestxray-uNc73CMC-py3.7/src/apex/apex/amp/scaler.py\u001b[0m in \u001b[0;36mscale_check_overflow_python\u001b[0;34m(model_grad, master_grad, scale, check_overflow)\u001b[0m\n\u001b[1;32m      7\u001b[0m     \u001b[0;31m# Exception handling for 18.04 compatibility\u001b[0m\u001b[0;34m\u001b[0m\u001b[0;34m\u001b[0m\u001b[0;34m\u001b[0m\u001b[0m\n\u001b[1;32m      8\u001b[0m     \u001b[0;32mif\u001b[0m \u001b[0mcheck_overflow\u001b[0m\u001b[0;34m:\u001b[0m\u001b[0;34m\u001b[0m\u001b[0;34m\u001b[0m\u001b[0m\n\u001b[0;32m----> 9\u001b[0;31m         \u001b[0mcpu_sum\u001b[0m \u001b[0;34m=\u001b[0m \u001b[0mfloat\u001b[0m\u001b[0;34m(\u001b[0m\u001b[0mmodel_grad\u001b[0m\u001b[0;34m.\u001b[0m\u001b[0mfloat\u001b[0m\u001b[0;34m(\u001b[0m\u001b[0;34m)\u001b[0m\u001b[0;34m.\u001b[0m\u001b[0msum\u001b[0m\u001b[0;34m(\u001b[0m\u001b[0;34m)\u001b[0m\u001b[0;34m)\u001b[0m\u001b[0;34m\u001b[0m\u001b[0;34m\u001b[0m\u001b[0m\n\u001b[0m\u001b[1;32m     10\u001b[0m         \u001b[0;32mif\u001b[0m \u001b[0mcpu_sum\u001b[0m \u001b[0;34m==\u001b[0m \u001b[0mfloat\u001b[0m\u001b[0;34m(\u001b[0m\u001b[0;34m'inf'\u001b[0m\u001b[0;34m)\u001b[0m \u001b[0;32mor\u001b[0m \u001b[0mcpu_sum\u001b[0m \u001b[0;34m==\u001b[0m \u001b[0;34m-\u001b[0m\u001b[0mfloat\u001b[0m\u001b[0;34m(\u001b[0m\u001b[0;34m'inf'\u001b[0m\u001b[0;34m)\u001b[0m \u001b[0;32mor\u001b[0m \u001b[0mcpu_sum\u001b[0m \u001b[0;34m!=\u001b[0m \u001b[0mcpu_sum\u001b[0m\u001b[0;34m:\u001b[0m\u001b[0;34m\u001b[0m\u001b[0;34m\u001b[0m\u001b[0m\n\u001b[1;32m     11\u001b[0m             \u001b[0;32mreturn\u001b[0m \u001b[0;32mTrue\u001b[0m\u001b[0;34m\u001b[0m\u001b[0;34m\u001b[0m\u001b[0m\n",
      "\u001b[0;31mKeyboardInterrupt\u001b[0m: "
     ]
    }
   ],
   "source": [
    "# Start Train/Eval Experiment\n",
    "logging.info(f'Start: {datetime.now().strftime(\"%d-%m-%Y-%H-%M\")}')\n",
    "model_ft, best_loss, best_qwk = train_eval_loop(train_dataloader, val_dataloader, model_ft, optimizer, criterion, checkpoint=checkpoint, model_name=PREV_NAME)\n",
    "logging.info(f'Finish: {datetime.now().strftime(\"%d-%m-%Y-%H-%M\")}')"
   ]
  },
  {
   "cell_type": "code",
   "execution_count": null,
   "metadata": {},
   "outputs": [],
   "source": [
    "# After finish collect hyperparams used, best metrics and write to TensorBoard\n",
    "hparam_dict = {key:val for key, val in CFG.__dict__.items() if not key.startswith(\"__\")}\n",
    "metric_dict = {\"hp/best_loss\": best_loss, \"hp/best_qwk\": best_qwk}\n",
    "writer.add_hparams(hparam_dict=hparam_dict, metric_dict=metric_dict)\n",
    "\n",
    "# Get the current git commit hash to add it in Tensorboard, to know exp code version\n",
    "label = subprocess.check_output([\"git\", \"describe\", \"--always\"]).strip()\n",
    "writer.add_text(\"Git commit hash:\", label.decode())"
   ]
  },
  {
   "cell_type": "markdown",
   "metadata": {},
   "source": [
    "### Train with CV"
   ]
  },
  {
   "cell_type": "code",
   "execution_count": 34,
   "metadata": {
    "collapsed": true,
    "jupyter": {
     "outputs_hidden": true
    }
   },
   "outputs": [
    {
     "name": "stdout",
     "output_type": "stream",
     "text": [
      "Train with CV, on fold 0\n",
      "Epoch 0/9\n",
      "----------\n"
     ]
    },
    {
     "name": "stderr",
     "output_type": "stream",
     "text": [
      "100%|██████████| 5/5 [00:00<00:00,  7.61it/s]"
     ]
    },
    {
     "name": "stdout",
     "output_type": "stream",
     "text": [
      "Visualising input\n"
     ]
    },
    {
     "name": "stderr",
     "output_type": "stream",
     "text": [
      "\n",
      "100%|██████████| 2/2 [00:00<00:00,  3.84it/s]"
     ]
    },
    {
     "name": "stdout",
     "output_type": "stream",
     "text": [
      "Training Loss: 1.7832\tValidation Loss: 1.6735\n",
      "Counter train preds: Counter({1: 50, 4: 11, 3: 8, 0: 6})\tCounter val preds: Counter({0: 25})\n",
      "Epoch train QWK: 0.193\tval QWK: 0.000\n",
      "Epoch 1/9\n",
      "----------\n"
     ]
    },
    {
     "name": "stderr",
     "output_type": "stream",
     "text": [
      "\n",
      "100%|██████████| 5/5 [00:00<00:00,  7.82it/s]"
     ]
    },
    {
     "name": "stdout",
     "output_type": "stream",
     "text": [
      "Visualising input\n"
     ]
    },
    {
     "name": "stderr",
     "output_type": "stream",
     "text": [
      "\n",
      "100%|██████████| 2/2 [00:00<00:00,  4.13it/s]"
     ]
    },
    {
     "name": "stdout",
     "output_type": "stream",
     "text": [
      "Training Loss: 1.5393\tValidation Loss: 1.6932\n",
      "Counter train preds: Counter({1: 39, 0: 21, 3: 7, 4: 6, 5: 2})\tCounter val preds: Counter({1: 25})\n",
      "Epoch train QWK: 0.236\tval QWK: 0.000\n",
      "Epoch 2/9\n",
      "----------\n"
     ]
    },
    {
     "name": "stderr",
     "output_type": "stream",
     "text": [
      "\n",
      "100%|██████████| 5/5 [00:00<00:00,  7.61it/s]"
     ]
    },
    {
     "name": "stdout",
     "output_type": "stream",
     "text": [
      "Visualising input\n"
     ]
    },
    {
     "name": "stderr",
     "output_type": "stream",
     "text": [
      "\n",
      "100%|██████████| 2/2 [00:00<00:00,  4.02it/s]"
     ]
    },
    {
     "name": "stdout",
     "output_type": "stream",
     "text": [
      "Training Loss: 1.4436\tValidation Loss: 1.7056\n",
      "Counter train preds: Counter({1: 34, 0: 26, 3: 7, 5: 5, 4: 3})\tCounter val preds: Counter({1: 25})\n",
      "Epoch train QWK: 0.321\tval QWK: 0.000\n",
      "Epoch 3/9\n",
      "----------\n"
     ]
    },
    {
     "name": "stderr",
     "output_type": "stream",
     "text": [
      "\n",
      "100%|██████████| 5/5 [00:00<00:00,  5.05it/s]"
     ]
    },
    {
     "name": "stdout",
     "output_type": "stream",
     "text": [
      "Visualising input\n"
     ]
    },
    {
     "name": "stderr",
     "output_type": "stream",
     "text": [
      "100%|██████████| 5/5 [00:00<00:00,  7.88it/s]\n",
      "100%|██████████| 2/2 [00:00<00:00,  2.04it/s]"
     ]
    },
    {
     "name": "stdout",
     "output_type": "stream",
     "text": [
      "Training Loss: 1.4152\tValidation Loss: 1.6723\n",
      "Counter train preds: Counter({0: 33, 1: 31, 3: 5, 4: 5, 5: 1})\tCounter val preds: Counter({1: 25})\n",
      "Epoch train QWK: 0.282\tval QWK: 0.000\n",
      "Epoch 4/9\n",
      "----------\n"
     ]
    },
    {
     "name": "stderr",
     "output_type": "stream",
     "text": [
      "\n",
      " 20%|██        | 1/5 [00:00<00:01,  2.74it/s]"
     ]
    },
    {
     "name": "stdout",
     "output_type": "stream",
     "text": [
      "Visualising input\n"
     ]
    },
    {
     "name": "stderr",
     "output_type": "stream",
     "text": [
      "100%|██████████| 5/5 [00:00<00:00,  7.80it/s]\n",
      "100%|██████████| 2/2 [00:00<00:00,  3.81it/s]"
     ]
    },
    {
     "name": "stdout",
     "output_type": "stream",
     "text": [
      "Training Loss: 1.3904\tValidation Loss: 1.6386\n",
      "Counter train preds: Counter({1: 33, 0: 28, 4: 6, 3: 5, 5: 3})\tCounter val preds: Counter({1: 15, 5: 3, 0: 3, 2: 2, 4: 1, 3: 1})\n",
      "Epoch train QWK: 0.393\tval QWK: 0.186\n",
      "Epoch 5/9\n",
      "----------\n"
     ]
    },
    {
     "name": "stderr",
     "output_type": "stream",
     "text": [
      "\n",
      " 20%|██        | 1/5 [00:00<00:01,  2.53it/s]"
     ]
    },
    {
     "name": "stdout",
     "output_type": "stream",
     "text": [
      "Visualising input\n"
     ]
    },
    {
     "name": "stderr",
     "output_type": "stream",
     "text": [
      "100%|██████████| 5/5 [00:00<00:00,  7.49it/s]\n",
      "100%|██████████| 2/2 [00:00<00:00,  3.79it/s]"
     ]
    },
    {
     "name": "stdout",
     "output_type": "stream",
     "text": [
      "Training Loss: 1.3730\tValidation Loss: 1.6927\n",
      "Counter train preds: Counter({0: 33, 1: 26, 5: 7, 3: 4, 4: 4, 2: 1})\tCounter val preds: Counter({1: 13, 5: 6, 2: 4, 3: 1, 0: 1})\n",
      "Epoch train QWK: 0.517\tval QWK: 0.545\n",
      "Epoch 6/9\n",
      "----------\n"
     ]
    },
    {
     "name": "stderr",
     "output_type": "stream",
     "text": [
      "\n",
      "100%|██████████| 5/5 [00:00<00:00,  4.96it/s]"
     ]
    },
    {
     "name": "stdout",
     "output_type": "stream",
     "text": [
      "Visualising input\n"
     ]
    },
    {
     "name": "stderr",
     "output_type": "stream",
     "text": [
      "100%|██████████| 5/5 [00:00<00:00,  7.91it/s]\n",
      "100%|██████████| 2/2 [00:00<00:00,  3.81it/s]"
     ]
    },
    {
     "name": "stdout",
     "output_type": "stream",
     "text": [
      "Training Loss: 1.3238\tValidation Loss: 1.8837\n",
      "Counter train preds: Counter({0: 30, 1: 29, 5: 6, 3: 6, 4: 4})\tCounter val preds: Counter({1: 9, 5: 7, 2: 6, 3: 3})\n",
      "Epoch train QWK: 0.438\tval QWK: 0.329\n",
      "Epoch 7/9\n",
      "----------\n"
     ]
    },
    {
     "name": "stderr",
     "output_type": "stream",
     "text": [
      "\n",
      "100%|██████████| 5/5 [00:00<00:00,  7.85it/s]"
     ]
    },
    {
     "name": "stdout",
     "output_type": "stream",
     "text": [
      "Visualising input\n"
     ]
    },
    {
     "name": "stderr",
     "output_type": "stream",
     "text": [
      "\n",
      "100%|██████████| 2/2 [00:00<00:00,  3.89it/s]"
     ]
    },
    {
     "name": "stdout",
     "output_type": "stream",
     "text": [
      "Training Loss: 1.3055\tValidation Loss: 2.0990\n",
      "Counter train preds: Counter({1: 34, 0: 22, 5: 8, 3: 7, 4: 2, 2: 2})\tCounter val preds: Counter({2: 12, 5: 5, 3: 5, 1: 2, 4: 1})\n",
      "Epoch train QWK: 0.552\tval QWK: 0.326\n",
      "Epoch 8/9\n",
      "----------\n"
     ]
    },
    {
     "name": "stderr",
     "output_type": "stream",
     "text": [
      "\n",
      " 20%|██        | 1/5 [00:00<00:01,  2.66it/s]"
     ]
    },
    {
     "name": "stdout",
     "output_type": "stream",
     "text": [
      "Visualising input\n"
     ]
    },
    {
     "name": "stderr",
     "output_type": "stream",
     "text": [
      "100%|██████████| 5/5 [00:00<00:00,  7.53it/s]\n",
      "100%|██████████| 2/2 [00:00<00:00,  3.87it/s]"
     ]
    },
    {
     "name": "stdout",
     "output_type": "stream",
     "text": [
      "Training Loss: 1.3063\tValidation Loss: 2.0883\n",
      "Counter train preds: Counter({1: 35, 0: 25, 4: 7, 3: 5, 5: 3})\tCounter val preds: Counter({2: 13, 5: 5, 1: 3, 3: 2, 4: 1, 0: 1})\n",
      "Epoch train QWK: 0.549\tval QWK: 0.199\n",
      "Epoch 9/9\n",
      "----------\n"
     ]
    },
    {
     "name": "stderr",
     "output_type": "stream",
     "text": [
      "\n",
      "100%|██████████| 5/5 [00:00<00:00,  4.77it/s]"
     ]
    },
    {
     "name": "stdout",
     "output_type": "stream",
     "text": [
      "Visualising input\n"
     ]
    },
    {
     "name": "stderr",
     "output_type": "stream",
     "text": [
      "100%|██████████| 5/5 [00:00<00:00,  7.73it/s]\n",
      "100%|██████████| 2/2 [00:00<00:00,  3.86it/s]"
     ]
    },
    {
     "name": "stdout",
     "output_type": "stream",
     "text": [
      "Training Loss: 1.3191\tValidation Loss: 1.8377\n",
      "Counter train preds: Counter({1: 37, 0: 24, 5: 7, 4: 3, 3: 3, 2: 1})\tCounter val preds: Counter({1: 21, 3: 2, 2: 1, 5: 1})\n",
      "Epoch train QWK: 0.435\tval QWK: 0.305\n",
      "Train with CV, on fold 1\n",
      "Epoch 0/9\n",
      "----------\n"
     ]
    },
    {
     "name": "stderr",
     "output_type": "stream",
     "text": [
      "\n",
      "100%|██████████| 5/5 [00:00<00:00,  4.80it/s]"
     ]
    },
    {
     "name": "stdout",
     "output_type": "stream",
     "text": [
      "Visualising input\n"
     ]
    },
    {
     "name": "stderr",
     "output_type": "stream",
     "text": [
      "100%|██████████| 5/5 [00:00<00:00,  7.69it/s]\n",
      "100%|██████████| 2/2 [00:00<00:00,  3.71it/s]"
     ]
    },
    {
     "name": "stdout",
     "output_type": "stream",
     "text": [
      "Training Loss: 1.7209\tValidation Loss: 1.7380\n",
      "Counter train preds: Counter({0: 59, 3: 15, 1: 1})\tCounter val preds: Counter({0: 25})\n",
      "Epoch train QWK: 0.263\tval QWK: 0.000\n",
      "Epoch 1/9\n",
      "----------\n"
     ]
    },
    {
     "name": "stderr",
     "output_type": "stream",
     "text": [
      "\n",
      "100%|██████████| 5/5 [00:00<00:00,  7.81it/s]"
     ]
    },
    {
     "name": "stdout",
     "output_type": "stream",
     "text": [
      "Visualising input\n"
     ]
    },
    {
     "name": "stderr",
     "output_type": "stream",
     "text": [
      "\n",
      "100%|██████████| 2/2 [00:00<00:00,  3.62it/s]"
     ]
    },
    {
     "name": "stdout",
     "output_type": "stream",
     "text": [
      "Training Loss: 1.5459\tValidation Loss: 1.7958\n",
      "Counter train preds: Counter({0: 36, 1: 32, 3: 5, 4: 2})\tCounter val preds: Counter({0: 25})\n",
      "Epoch train QWK: 0.331\tval QWK: 0.000\n",
      "Epoch 2/9\n",
      "----------\n"
     ]
    },
    {
     "name": "stderr",
     "output_type": "stream",
     "text": [
      "\n",
      " 60%|██████    | 3/5 [00:00<00:00,  3.30it/s]"
     ]
    },
    {
     "name": "stdout",
     "output_type": "stream",
     "text": [
      "Visualising input\n"
     ]
    },
    {
     "name": "stderr",
     "output_type": "stream",
     "text": [
      "100%|██████████| 5/5 [00:00<00:00,  7.36it/s]\n",
      "100%|██████████| 2/2 [00:00<00:00,  3.74it/s]"
     ]
    },
    {
     "name": "stdout",
     "output_type": "stream",
     "text": [
      "Training Loss: 1.4606\tValidation Loss: 1.9763\n",
      "Counter train preds: Counter({1: 34, 0: 29, 4: 8, 3: 4})\tCounter val preds: Counter({0: 25})\n",
      "Epoch train QWK: 0.388\tval QWK: 0.000\n",
      "Epoch 3/9\n",
      "----------\n"
     ]
    },
    {
     "name": "stderr",
     "output_type": "stream",
     "text": [
      "\n",
      " 60%|██████    | 3/5 [00:00<00:00,  3.59it/s]"
     ]
    },
    {
     "name": "stdout",
     "output_type": "stream",
     "text": [
      "Visualising input\n"
     ]
    },
    {
     "name": "stderr",
     "output_type": "stream",
     "text": [
      "100%|██████████| 5/5 [00:00<00:00,  7.80it/s]\n",
      "100%|██████████| 2/2 [00:00<00:00,  3.66it/s]"
     ]
    },
    {
     "name": "stdout",
     "output_type": "stream",
     "text": [
      "Training Loss: 1.4206\tValidation Loss: 1.8872\n",
      "Counter train preds: Counter({1: 32, 0: 24, 4: 8, 3: 6, 5: 3, 2: 2})\tCounter val preds: Counter({0: 25})\n",
      "Epoch train QWK: 0.441\tval QWK: 0.000\n",
      "Epoch 4/9\n",
      "----------\n"
     ]
    },
    {
     "name": "stderr",
     "output_type": "stream",
     "text": [
      "\n",
      "100%|██████████| 5/5 [00:00<00:00,  5.28it/s]"
     ]
    },
    {
     "name": "stdout",
     "output_type": "stream",
     "text": [
      "Visualising input\n"
     ]
    },
    {
     "name": "stderr",
     "output_type": "stream",
     "text": [
      "100%|██████████| 5/5 [00:00<00:00,  8.24it/s]\n",
      "100%|██████████| 2/2 [00:00<00:00,  3.60it/s]"
     ]
    },
    {
     "name": "stdout",
     "output_type": "stream",
     "text": [
      "Training Loss: 1.4067\tValidation Loss: 2.2129\n",
      "Counter train preds: Counter({1: 36, 0: 25, 3: 10, 5: 2, 2: 1, 4: 1})\tCounter val preds: Counter({0: 25})\n",
      "Epoch train QWK: 0.388\tval QWK: 0.000\n",
      "Epoch 5/9\n",
      "----------\n"
     ]
    },
    {
     "name": "stderr",
     "output_type": "stream",
     "text": [
      "\n",
      "100%|██████████| 5/5 [00:00<00:00,  8.12it/s]"
     ]
    },
    {
     "name": "stdout",
     "output_type": "stream",
     "text": [
      "Visualising input\n"
     ]
    },
    {
     "name": "stderr",
     "output_type": "stream",
     "text": [
      "\n",
      "100%|██████████| 2/2 [00:00<00:00,  3.64it/s]"
     ]
    },
    {
     "name": "stdout",
     "output_type": "stream",
     "text": [
      "Training Loss: 1.3640\tValidation Loss: 2.9000\n",
      "Counter train preds: Counter({1: 33, 0: 24, 3: 12, 2: 4, 4: 2})\tCounter val preds: Counter({0: 25})\n",
      "Epoch train QWK: 0.364\tval QWK: 0.000\n",
      "Epoch 6/9\n",
      "----------\n"
     ]
    },
    {
     "name": "stderr",
     "output_type": "stream",
     "text": [
      "\n",
      "100%|██████████| 5/5 [00:00<00:00,  4.87it/s]"
     ]
    },
    {
     "name": "stdout",
     "output_type": "stream",
     "text": [
      "Visualising input\n"
     ]
    },
    {
     "name": "stderr",
     "output_type": "stream",
     "text": [
      "100%|██████████| 5/5 [00:00<00:00,  7.86it/s]\n",
      "100%|██████████| 2/2 [00:00<00:00,  3.44it/s]"
     ]
    },
    {
     "name": "stdout",
     "output_type": "stream",
     "text": [
      "Training Loss: 1.3085\tValidation Loss: 2.7819\n",
      "Counter train preds: Counter({1: 33, 0: 20, 3: 11, 2: 4, 4: 4, 5: 3})\tCounter val preds: Counter({0: 25})\n",
      "Epoch train QWK: 0.568\tval QWK: 0.000\n",
      "Epoch 7/9\n",
      "----------\n"
     ]
    },
    {
     "name": "stderr",
     "output_type": "stream",
     "text": [
      "\n",
      "100%|██████████| 5/5 [00:00<00:00,  7.36it/s]"
     ]
    },
    {
     "name": "stdout",
     "output_type": "stream",
     "text": [
      "Visualising input\n"
     ]
    },
    {
     "name": "stderr",
     "output_type": "stream",
     "text": [
      "\n",
      "100%|██████████| 2/2 [00:00<00:00,  2.55it/s]"
     ]
    },
    {
     "name": "stdout",
     "output_type": "stream",
     "text": [
      "Training Loss: 1.3142\tValidation Loss: 2.3783\n",
      "Counter train preds: Counter({1: 36, 0: 21, 3: 9, 2: 5, 5: 3, 4: 1})\tCounter val preds: Counter({0: 18, 1: 5, 2: 2})\n",
      "Epoch train QWK: 0.435\tval QWK: 0.116\n",
      "Epoch 8/9\n",
      "----------\n"
     ]
    },
    {
     "name": "stderr",
     "output_type": "stream",
     "text": [
      "\n",
      "100%|██████████| 5/5 [00:00<00:00,  5.30it/s]"
     ]
    },
    {
     "name": "stdout",
     "output_type": "stream",
     "text": [
      "Visualising input\n"
     ]
    },
    {
     "name": "stderr",
     "output_type": "stream",
     "text": [
      "100%|██████████| 5/5 [00:00<00:00,  8.07it/s]\n",
      "100%|██████████| 2/2 [00:00<00:00,  3.62it/s]"
     ]
    },
    {
     "name": "stdout",
     "output_type": "stream",
     "text": [
      "Training Loss: 1.2917\tValidation Loss: 3.1009\n",
      "Counter train preds: Counter({1: 38, 0: 19, 2: 6, 4: 5, 3: 4, 5: 3})\tCounter val preds: Counter({0: 23, 2: 2})\n",
      "Epoch train QWK: 0.433\tval QWK: 0.009\n",
      "Epoch 9/9\n",
      "----------\n"
     ]
    },
    {
     "name": "stderr",
     "output_type": "stream",
     "text": [
      "\n",
      "100%|██████████| 5/5 [00:00<00:00,  7.24it/s]"
     ]
    },
    {
     "name": "stdout",
     "output_type": "stream",
     "text": [
      "Visualising input\n"
     ]
    },
    {
     "name": "stderr",
     "output_type": "stream",
     "text": [
      "\n",
      "100%|██████████| 2/2 [00:00<00:00,  3.73it/s]"
     ]
    },
    {
     "name": "stdout",
     "output_type": "stream",
     "text": [
      "Training Loss: 1.2545\tValidation Loss: 2.9466\n",
      "Counter train preds: Counter({1: 32, 0: 20, 3: 10, 4: 5, 2: 5, 5: 3})\tCounter val preds: Counter({0: 23, 2: 2})\n",
      "Epoch train QWK: 0.635\tval QWK: 0.009\n",
      "Train with CV, on fold 2\n",
      "Epoch 0/9\n",
      "----------\n"
     ]
    },
    {
     "name": "stderr",
     "output_type": "stream",
     "text": [
      "\n",
      "100%|██████████| 5/5 [00:00<00:00,  7.96it/s]"
     ]
    },
    {
     "name": "stdout",
     "output_type": "stream",
     "text": [
      "Visualising input\n"
     ]
    },
    {
     "name": "stderr",
     "output_type": "stream",
     "text": [
      "\n",
      "100%|██████████| 2/2 [00:00<00:00,  3.70it/s]"
     ]
    },
    {
     "name": "stdout",
     "output_type": "stream",
     "text": [
      "Training Loss: 1.6856\tValidation Loss: 1.8174\n",
      "Counter train preds: Counter({1: 48, 3: 15, 0: 12})\tCounter val preds: Counter({0: 25})\n",
      "Epoch train QWK: 0.208\tval QWK: 0.000\n",
      "Epoch 1/9\n",
      "----------\n"
     ]
    },
    {
     "name": "stderr",
     "output_type": "stream",
     "text": [
      "\n",
      " 60%|██████    | 3/5 [00:00<00:00,  3.45it/s]"
     ]
    },
    {
     "name": "stdout",
     "output_type": "stream",
     "text": [
      "Visualising input\n"
     ]
    },
    {
     "name": "stderr",
     "output_type": "stream",
     "text": [
      "100%|██████████| 5/5 [00:00<00:00,  7.56it/s]\n",
      "100%|██████████| 2/2 [00:00<00:00,  3.71it/s]"
     ]
    },
    {
     "name": "stdout",
     "output_type": "stream",
     "text": [
      "Training Loss: 1.5455\tValidation Loss: 2.4182\n",
      "Counter train preds: Counter({1: 37, 0: 21, 3: 16, 2: 1})\tCounter val preds: Counter({0: 25})\n",
      "Epoch train QWK: 0.313\tval QWK: 0.000\n",
      "Epoch 2/9\n",
      "----------\n"
     ]
    },
    {
     "name": "stderr",
     "output_type": "stream",
     "text": [
      "\n",
      "100%|██████████| 5/5 [00:00<00:00,  8.02it/s]"
     ]
    },
    {
     "name": "stdout",
     "output_type": "stream",
     "text": [
      "Visualising input\n"
     ]
    },
    {
     "name": "stderr",
     "output_type": "stream",
     "text": [
      "\n",
      "100%|██████████| 2/2 [00:00<00:00,  3.73it/s]"
     ]
    },
    {
     "name": "stdout",
     "output_type": "stream",
     "text": [
      "Training Loss: 1.4741\tValidation Loss: 2.2700\n",
      "Counter train preds: Counter({1: 33, 0: 26, 3: 14, 2: 2})\tCounter val preds: Counter({0: 25})\n",
      "Epoch train QWK: 0.287\tval QWK: 0.000\n",
      "Epoch 3/9\n",
      "----------\n"
     ]
    },
    {
     "name": "stderr",
     "output_type": "stream",
     "text": [
      "\n",
      "100%|██████████| 5/5 [00:00<00:00,  7.64it/s]"
     ]
    },
    {
     "name": "stdout",
     "output_type": "stream",
     "text": [
      "Visualising input\n"
     ]
    },
    {
     "name": "stderr",
     "output_type": "stream",
     "text": [
      "\n",
      "100%|██████████| 2/2 [00:00<00:00,  3.60it/s]"
     ]
    },
    {
     "name": "stdout",
     "output_type": "stream",
     "text": [
      "Training Loss: 1.4289\tValidation Loss: 2.4097\n",
      "Counter train preds: Counter({1: 35, 0: 28, 3: 7, 2: 5})\tCounter val preds: Counter({0: 25})\n",
      "Epoch train QWK: 0.247\tval QWK: 0.000\n",
      "Epoch 4/9\n",
      "----------\n"
     ]
    },
    {
     "name": "stderr",
     "output_type": "stream",
     "text": [
      "\n",
      " 20%|██        | 1/5 [00:00<00:01,  2.55it/s]"
     ]
    },
    {
     "name": "stdout",
     "output_type": "stream",
     "text": [
      "Visualising input\n"
     ]
    },
    {
     "name": "stderr",
     "output_type": "stream",
     "text": [
      "100%|██████████| 5/5 [00:00<00:00,  7.52it/s]\n",
      "100%|██████████| 2/2 [00:00<00:00,  3.67it/s]"
     ]
    },
    {
     "name": "stdout",
     "output_type": "stream",
     "text": [
      "Training Loss: 1.3615\tValidation Loss: 2.0392\n",
      "Counter train preds: Counter({1: 39, 0: 25, 3: 7, 2: 4})\tCounter val preds: Counter({0: 24, 2: 1})\n",
      "Epoch train QWK: 0.307\tval QWK: 0.064\n",
      "Epoch 5/9\n",
      "----------\n"
     ]
    },
    {
     "name": "stderr",
     "output_type": "stream",
     "text": [
      "\n",
      "100%|██████████| 5/5 [00:00<00:00,  7.67it/s]"
     ]
    },
    {
     "name": "stdout",
     "output_type": "stream",
     "text": [
      "Visualising input\n"
     ]
    },
    {
     "name": "stderr",
     "output_type": "stream",
     "text": [
      "\n",
      "100%|██████████| 2/2 [00:00<00:00,  3.69it/s]"
     ]
    },
    {
     "name": "stdout",
     "output_type": "stream",
     "text": [
      "Training Loss: 1.4250\tValidation Loss: 1.6867\n",
      "Counter train preds: Counter({1: 41, 0: 26, 3: 8})\tCounter val preds: Counter({0: 20, 2: 3, 1: 2})\n",
      "Epoch train QWK: 0.266\tval QWK: 0.214\n",
      "Epoch 6/9\n",
      "----------\n"
     ]
    },
    {
     "name": "stderr",
     "output_type": "stream",
     "text": [
      "\n",
      "100%|██████████| 5/5 [00:00<00:00,  7.91it/s]"
     ]
    },
    {
     "name": "stdout",
     "output_type": "stream",
     "text": [
      "Visualising input\n"
     ]
    },
    {
     "name": "stderr",
     "output_type": "stream",
     "text": [
      "\n",
      "100%|██████████| 2/2 [00:00<00:00,  3.60it/s]"
     ]
    },
    {
     "name": "stdout",
     "output_type": "stream",
     "text": [
      "Training Loss: 1.3328\tValidation Loss: 1.7360\n",
      "Counter train preds: Counter({1: 34, 0: 24, 3: 12, 2: 4, 5: 1})\tCounter val preds: Counter({0: 18, 1: 5, 2: 2})\n",
      "Epoch train QWK: 0.365\tval QWK: 0.130\n",
      "Epoch 7/9\n",
      "----------\n"
     ]
    },
    {
     "name": "stderr",
     "output_type": "stream",
     "text": [
      "\n",
      " 60%|██████    | 3/5 [00:00<00:00,  3.21it/s]"
     ]
    },
    {
     "name": "stdout",
     "output_type": "stream",
     "text": [
      "Visualising input\n"
     ]
    },
    {
     "name": "stderr",
     "output_type": "stream",
     "text": [
      "100%|██████████| 5/5 [00:00<00:00,  7.17it/s]\n",
      "100%|██████████| 2/2 [00:00<00:00,  3.71it/s]"
     ]
    },
    {
     "name": "stdout",
     "output_type": "stream",
     "text": [
      "Training Loss: 1.3236\tValidation Loss: 1.8248\n",
      "Counter train preds: Counter({1: 33, 0: 21, 2: 13, 3: 6, 5: 2})\tCounter val preds: Counter({0: 17, 1: 5, 2: 3})\n",
      "Epoch train QWK: 0.316\tval QWK: 0.272\n",
      "Epoch 8/9\n",
      "----------\n"
     ]
    },
    {
     "name": "stderr",
     "output_type": "stream",
     "text": [
      "\n",
      "100%|██████████| 5/5 [00:00<00:00,  4.99it/s]"
     ]
    },
    {
     "name": "stdout",
     "output_type": "stream",
     "text": [
      "Visualising input\n"
     ]
    },
    {
     "name": "stderr",
     "output_type": "stream",
     "text": [
      "100%|██████████| 5/5 [00:00<00:00,  7.91it/s]\n",
      "100%|██████████| 2/2 [00:00<00:00,  3.63it/s]"
     ]
    },
    {
     "name": "stdout",
     "output_type": "stream",
     "text": [
      "Training Loss: 1.2498\tValidation Loss: 2.4719\n",
      "Counter train preds: Counter({1: 34, 0: 24, 2: 8, 3: 8, 5: 1})\tCounter val preds: Counter({0: 22, 2: 3})\n",
      "Epoch train QWK: 0.392\tval QWK: 0.259\n",
      "Epoch 9/9\n",
      "----------\n"
     ]
    },
    {
     "name": "stderr",
     "output_type": "stream",
     "text": [
      "\n",
      "100%|██████████| 5/5 [00:00<00:00,  8.02it/s]"
     ]
    },
    {
     "name": "stdout",
     "output_type": "stream",
     "text": [
      "Visualising input\n"
     ]
    },
    {
     "name": "stderr",
     "output_type": "stream",
     "text": [
      "\n",
      "100%|██████████| 2/2 [00:00<00:00,  3.74it/s]"
     ]
    },
    {
     "name": "stdout",
     "output_type": "stream",
     "text": [
      "Training Loss: 1.2657\tValidation Loss: 2.4212\n",
      "Counter train preds: Counter({1: 39, 0: 21, 2: 6, 3: 6, 5: 3})\tCounter val preds: Counter({0: 22, 2: 3})\n",
      "Epoch train QWK: 0.409\tval QWK: 0.259\n",
      "Train with CV, on fold 3\n",
      "Epoch 0/9\n",
      "----------\n"
     ]
    },
    {
     "name": "stderr",
     "output_type": "stream",
     "text": [
      "\n",
      " 60%|██████    | 3/5 [00:00<00:00,  3.76it/s]"
     ]
    },
    {
     "name": "stdout",
     "output_type": "stream",
     "text": [
      "Visualising input\n"
     ]
    },
    {
     "name": "stderr",
     "output_type": "stream",
     "text": [
      "100%|██████████| 5/5 [00:00<00:00,  7.78it/s]\n",
      "100%|██████████| 2/2 [00:00<00:00,  4.08it/s]"
     ]
    },
    {
     "name": "stdout",
     "output_type": "stream",
     "text": [
      "Training Loss: 1.7337\tValidation Loss: 1.6500\n",
      "Counter train preds: Counter({1: 49, 2: 14, 0: 6, 5: 3, 3: 3})\tCounter val preds: Counter({1: 24, 0: 1})\n",
      "Epoch train QWK: 0.123\tval QWK: -0.030\n",
      "Epoch 1/9\n",
      "----------\n"
     ]
    },
    {
     "name": "stderr",
     "output_type": "stream",
     "text": [
      "\n",
      "100%|██████████| 5/5 [00:00<00:00,  7.52it/s]"
     ]
    },
    {
     "name": "stdout",
     "output_type": "stream",
     "text": [
      "Visualising input\n"
     ]
    },
    {
     "name": "stderr",
     "output_type": "stream",
     "text": [
      "\n",
      "100%|██████████| 2/2 [00:00<00:00,  4.29it/s]"
     ]
    },
    {
     "name": "stdout",
     "output_type": "stream",
     "text": [
      "Training Loss: 1.5647\tValidation Loss: 1.7000\n",
      "Counter train preds: Counter({1: 40, 0: 18, 3: 12, 2: 5})\tCounter val preds: Counter({1: 25})\n",
      "Epoch train QWK: 0.232\tval QWK: 0.000\n",
      "Epoch 2/9\n",
      "----------\n"
     ]
    },
    {
     "name": "stderr",
     "output_type": "stream",
     "text": [
      "\n",
      " 60%|██████    | 3/5 [00:00<00:00,  3.84it/s]"
     ]
    },
    {
     "name": "stdout",
     "output_type": "stream",
     "text": [
      "Visualising input\n"
     ]
    },
    {
     "name": "stderr",
     "output_type": "stream",
     "text": [
      "100%|██████████| 5/5 [00:00<00:00,  7.87it/s]\n",
      "100%|██████████| 2/2 [00:00<00:00,  4.09it/s]"
     ]
    },
    {
     "name": "stdout",
     "output_type": "stream",
     "text": [
      "Training Loss: 1.4733\tValidation Loss: 1.6935\n",
      "Counter train preds: Counter({1: 33, 0: 27, 3: 13, 2: 2})\tCounter val preds: Counter({1: 25})\n",
      "Epoch train QWK: 0.337\tval QWK: 0.000\n",
      "Epoch 3/9\n",
      "----------\n"
     ]
    },
    {
     "name": "stderr",
     "output_type": "stream",
     "text": [
      "\n",
      " 60%|██████    | 3/5 [00:00<00:00,  3.67it/s]"
     ]
    },
    {
     "name": "stdout",
     "output_type": "stream",
     "text": [
      "Visualising input\n"
     ]
    },
    {
     "name": "stderr",
     "output_type": "stream",
     "text": [
      "100%|██████████| 5/5 [00:00<00:00,  7.66it/s]\n",
      "100%|██████████| 2/2 [00:00<00:00,  4.01it/s]"
     ]
    },
    {
     "name": "stdout",
     "output_type": "stream",
     "text": [
      "Training Loss: 1.4141\tValidation Loss: 1.6876\n",
      "Counter train preds: Counter({0: 29, 1: 28, 3: 10, 2: 6, 5: 2})\tCounter val preds: Counter({1: 25})\n",
      "Epoch train QWK: 0.475\tval QWK: 0.000\n",
      "Epoch 4/9\n",
      "----------\n"
     ]
    },
    {
     "name": "stderr",
     "output_type": "stream",
     "text": [
      "\n",
      " 60%|██████    | 3/5 [00:00<00:00,  3.46it/s]"
     ]
    },
    {
     "name": "stdout",
     "output_type": "stream",
     "text": [
      "Visualising input\n"
     ]
    },
    {
     "name": "stderr",
     "output_type": "stream",
     "text": [
      "100%|██████████| 5/5 [00:00<00:00,  7.39it/s]\n",
      "100%|██████████| 2/2 [00:00<00:00,  2.65it/s]"
     ]
    },
    {
     "name": "stdout",
     "output_type": "stream",
     "text": [
      "Training Loss: 1.3655\tValidation Loss: 1.6186\n",
      "Counter train preds: Counter({1: 35, 0: 26, 3: 7, 5: 4, 2: 3})\tCounter val preds: Counter({1: 21, 2: 3, 0: 1})\n",
      "Epoch train QWK: 0.395\tval QWK: 0.012\n",
      "Epoch 5/9\n",
      "----------\n"
     ]
    },
    {
     "name": "stderr",
     "output_type": "stream",
     "text": [
      "\n",
      "100%|██████████| 5/5 [00:00<00:00,  4.61it/s]"
     ]
    },
    {
     "name": "stdout",
     "output_type": "stream",
     "text": [
      "Visualising input\n"
     ]
    },
    {
     "name": "stderr",
     "output_type": "stream",
     "text": [
      "100%|██████████| 5/5 [00:00<00:00,  7.47it/s]\n",
      "100%|██████████| 2/2 [00:00<00:00,  3.97it/s]"
     ]
    },
    {
     "name": "stdout",
     "output_type": "stream",
     "text": [
      "Training Loss: 1.3591\tValidation Loss: 1.6763\n",
      "Counter train preds: Counter({1: 32, 0: 23, 3: 11, 2: 8, 5: 1})\tCounter val preds: Counter({2: 17, 0: 6, 1: 2})\n",
      "Epoch train QWK: 0.413\tval QWK: 0.313\n",
      "Epoch 6/9\n",
      "----------\n"
     ]
    },
    {
     "name": "stderr",
     "output_type": "stream",
     "text": [
      "\n",
      "100%|██████████| 5/5 [00:00<00:00,  4.59it/s]"
     ]
    },
    {
     "name": "stdout",
     "output_type": "stream",
     "text": [
      "Visualising input\n"
     ]
    },
    {
     "name": "stderr",
     "output_type": "stream",
     "text": [
      "100%|██████████| 5/5 [00:00<00:00,  7.40it/s]\n",
      "100%|██████████| 2/2 [00:00<00:00,  4.08it/s]"
     ]
    },
    {
     "name": "stdout",
     "output_type": "stream",
     "text": [
      "Training Loss: 1.3191\tValidation Loss: 1.6529\n",
      "Counter train preds: Counter({1: 34, 0: 26, 3: 5, 2: 4, 4: 4, 5: 2})\tCounter val preds: Counter({1: 12, 2: 9, 5: 2, 0: 2})\n",
      "Epoch train QWK: 0.424\tval QWK: 0.269\n",
      "Epoch 7/9\n",
      "----------\n"
     ]
    },
    {
     "name": "stderr",
     "output_type": "stream",
     "text": [
      "\n",
      "100%|██████████| 5/5 [00:00<00:00,  7.96it/s]"
     ]
    },
    {
     "name": "stdout",
     "output_type": "stream",
     "text": [
      "Visualising input\n"
     ]
    },
    {
     "name": "stderr",
     "output_type": "stream",
     "text": [
      "\n",
      "100%|██████████| 2/2 [00:00<00:00,  3.92it/s]"
     ]
    },
    {
     "name": "stdout",
     "output_type": "stream",
     "text": [
      "Training Loss: 1.3050\tValidation Loss: 1.7019\n",
      "Counter train preds: Counter({1: 36, 0: 21, 2: 6, 3: 5, 5: 4, 4: 3})\tCounter val preds: Counter({2: 13, 5: 7, 4: 3, 0: 2})\n",
      "Epoch train QWK: 0.454\tval QWK: 0.364\n",
      "Epoch 8/9\n",
      "----------\n"
     ]
    },
    {
     "name": "stderr",
     "output_type": "stream",
     "text": [
      "\n",
      " 60%|██████    | 3/5 [00:00<00:00,  3.98it/s]"
     ]
    },
    {
     "name": "stdout",
     "output_type": "stream",
     "text": [
      "Visualising input\n"
     ]
    },
    {
     "name": "stderr",
     "output_type": "stream",
     "text": [
      "100%|██████████| 5/5 [00:00<00:00,  7.99it/s]\n",
      "100%|██████████| 2/2 [00:00<00:00,  4.10it/s]"
     ]
    },
    {
     "name": "stdout",
     "output_type": "stream",
     "text": [
      "Training Loss: 1.2645\tValidation Loss: 1.7029\n",
      "Counter train preds: Counter({1: 36, 0: 22, 5: 7, 2: 5, 3: 4, 4: 1})\tCounter val preds: Counter({2: 10, 5: 5, 0: 5, 1: 4, 3: 1})\n",
      "Epoch train QWK: 0.461\tval QWK: 0.309\n",
      "Epoch 9/9\n",
      "----------\n"
     ]
    },
    {
     "name": "stderr",
     "output_type": "stream",
     "text": [
      "\n",
      "100%|██████████| 5/5 [00:00<00:00,  4.60it/s]"
     ]
    },
    {
     "name": "stdout",
     "output_type": "stream",
     "text": [
      "Visualising input\n"
     ]
    },
    {
     "name": "stderr",
     "output_type": "stream",
     "text": [
      "100%|██████████| 5/5 [00:00<00:00,  7.52it/s]\n",
      "100%|██████████| 2/2 [00:00<00:00,  4.03it/s]"
     ]
    },
    {
     "name": "stdout",
     "output_type": "stream",
     "text": [
      "Training Loss: 1.2169\tValidation Loss: 2.0975\n",
      "Counter train preds: Counter({1: 33, 0: 22, 2: 9, 3: 6, 5: 5})\tCounter val preds: Counter({4: 14, 5: 8, 0: 3})\n",
      "Epoch train QWK: 0.530\tval QWK: 0.218\n"
     ]
    },
    {
     "name": "stderr",
     "output_type": "stream",
     "text": [
      "\n"
     ]
    }
   ],
   "source": [
    "checkpoint = \"test_fold_{}.pth\"\n",
    "for fold in range(CFG.n_fold):\n",
    "    train_df = folds[folds[\"fold\"] != fold].copy()\n",
    "    val_df = folds[folds[\"fold\"] == fold].copy()\n",
    "    \n",
    "    train_ds = TrainDataset(train_df, transform=get_transforms(data=\"train\"), debug=False)\n",
    "    val_ds = TrainDataset(val_df, transform=get_transforms(data=\"valid\"), debug=False)\n",
    "    \n",
    "    model = TinyV2ConvNet(CFG.target_size)\n",
    "    # initialize bias in the model\n",
    "    cls_probas = (train_df[CFG.target_col].value_counts() / len(train_df)).values\n",
    "    model = init_last_layer_bias(model, cls_probas)\n",
    "    \n",
    "    criterion = nn.CrossEntropyLoss()\n",
    "    optimizer = torch.optim.Adam(model.parameters(), lr=CFG.lr, amsgrad=False)\n",
    "    print(f\"Train with CV, on fold {fold}\")\n",
    "    model = train_eval_loop(train_ds, val_ds, model, optimizer, criterion, tb_tag=fold)\n",
    "    torch.save(model.state_dict(), MODEL_PATH/checkpoint.format(fold))"
   ]
  },
  {
   "cell_type": "markdown",
   "metadata": {},
   "source": [
    "### Evaluate on Validation Set"
   ]
  },
  {
   "cell_type": "code",
   "execution_count": 26,
   "metadata": {},
   "outputs": [],
   "source": [
    "model_fnames = [\n",
    "    \"05-07-2020-16-42_59_loss.pth\",\n",
    "    \"05-07-2020-16-42_57_qwk.pth\",\n",
    "]"
   ]
  },
  {
   "cell_type": "code",
   "execution_count": 27,
   "metadata": {},
   "outputs": [],
   "source": [
    "# Load Model/s\n",
    "models = []\n",
    "for name in model_fnames:\n",
    "    model = init_model(pretrained=False)\n",
    "\n",
    "    weights_path = MODEL_PATH/name\n",
    "    checkpoint = torch.load(weights_path, map_location=device)\n",
    "    model.load_state_dict(checkpoint['model_state_dict'])\n",
    "    models.append(model)"
   ]
  },
  {
   "cell_type": "code",
   "execution_count": 28,
   "metadata": {},
   "outputs": [],
   "source": [
    "# models = []\n",
    "# models.append(model_ft)"
   ]
  },
  {
   "cell_type": "code",
   "execution_count": 29,
   "metadata": {},
   "outputs": [
    {
     "data": {
      "text/plain": [
       "2"
      ]
     },
     "execution_count": 29,
     "metadata": {},
     "output_type": "execute_result"
    }
   ],
   "source": [
    "len(models)"
   ]
  },
  {
   "cell_type": "code",
   "execution_count": 30,
   "metadata": {},
   "outputs": [],
   "source": [
    "def threshold(x: float) -> int:\n",
    "    if x < 0.7:\n",
    "        return 0\n",
    "    elif x < 1.6:\n",
    "        return 1\n",
    "    elif x < 2.5:\n",
    "        return 2\n",
    "    elif x < 3.5:\n",
    "        return 3\n",
    "    elif x < 4.4:\n",
    "        return 4\n",
    "    else:\n",
    "        return 5\n",
    "    \n",
    "v_threshold = np.vectorize(threshold)"
   ]
  },
  {
   "cell_type": "code",
   "execution_count": 31,
   "metadata": {},
   "outputs": [],
   "source": [
    "def compute_preds(outputs, loss_type=CFG.loss, custom_th=False):\n",
    "        if loss_type == \"bce\":\n",
    "            raw_preds = outputs.sigmoid().sum(1).data.cpu().numpy()\n",
    "            if custom_th:\n",
    "                preds = v_threshold(raw_preds)\n",
    "            else:\n",
    "                preds = raw_preds.round()\n",
    "                \n",
    "        elif loss_type == \"mse\":\n",
    "            raw_preds = outputs.data.cpu().numpy()\n",
    "            if custom_th:\n",
    "                preds = v_threshold(raw_preds)\n",
    "            else:\n",
    "                preds = raw_preds.round()\n",
    "        else:\n",
    "            preds = outputs.data.to(\"cpu\").numpy().argmax(1)\n",
    "        return preds.astype(int), raw_preds"
   ]
  },
  {
   "cell_type": "code",
   "execution_count": 32,
   "metadata": {},
   "outputs": [],
   "source": [
    "TARGET_SZ = CFG.target_size\n",
    "\n",
    "if CFG.loss == \"bce\":\n",
    "    TARGET_SZ = CFG.target_size - 1\n",
    "    \n",
    "def inference(models, test_loader, device, *args, **kwargs):\n",
    "    \n",
    "    for model in models:\n",
    "        model.to(device)\n",
    "        model.eval()\n",
    "    \n",
    "    preds = []\n",
    "    raw_preds = []\n",
    "\n",
    "    for i, data in enumerate(test_loader):\n",
    "        images, _ = data\n",
    "        if CFG.aux_tile:\n",
    "            img_main, img_aux = images\n",
    "            img_main, img_aux = img_main.to(device), img_aux.to(device)\n",
    "            y_preds = torch.zeros((len(img_main), TARGET_SZ), device=device)\n",
    "        else:\n",
    "            images = images.to(device)\n",
    "            if CFG.loss == \"bce\":\n",
    "                y_preds = torch.zeros((len(images), TARGET_SZ), device=device)\n",
    "            elif CFG.loss == \"mse\":\n",
    "                y_preds = torch.zeros((len(images),), device=device)\n",
    "            \n",
    "        with torch.no_grad():\n",
    "            for model in models:\n",
    "                y_preds += model(images)\n",
    "            y_preds = y_preds / len(models)\n",
    "            \n",
    "        pred, raw_pred = compute_preds(y_preds, *args, **kwargs)\n",
    "        preds.append(pred)\n",
    "        raw_preds.append(raw_pred)\n",
    "\n",
    "    preds = np.concatenate(preds)\n",
    "    raw_preds = np.concatenate(raw_preds)\n",
    "    \n",
    "    return preds, raw_preds"
   ]
  },
  {
   "cell_type": "code",
   "execution_count": 33,
   "metadata": {},
   "outputs": [],
   "source": [
    "def submit(sample, test_loader, models, *args, **kwargs):\n",
    "    preds, raw_preds = inference(models, test_loader, device, *args, **kwargs)\n",
    "    sample['isup_pred'] = preds\n",
    "    sample['isup_raw_pred'] = raw_preds\n",
    "    return sample"
   ]
  },
  {
   "cell_type": "code",
   "execution_count": 34,
   "metadata": {},
   "outputs": [],
   "source": [
    "# Use Custom Thresholds\n",
    "CUSTOM_TH = False"
   ]
  },
  {
   "cell_type": "code",
   "execution_count": 35,
   "metadata": {},
   "outputs": [],
   "source": [
    "val_df = submit(val_df, val_dataloader, models, custom_th=CUSTOM_TH)"
   ]
  },
  {
   "cell_type": "code",
   "execution_count": 36,
   "metadata": {},
   "outputs": [
    {
     "data": {
      "text/html": [
       "<div>\n",
       "<style scoped>\n",
       "    .dataframe tbody tr th:only-of-type {\n",
       "        vertical-align: middle;\n",
       "    }\n",
       "\n",
       "    .dataframe tbody tr th {\n",
       "        vertical-align: top;\n",
       "    }\n",
       "\n",
       "    .dataframe thead th {\n",
       "        text-align: right;\n",
       "    }\n",
       "</style>\n",
       "<table border=\"1\" class=\"dataframe\">\n",
       "  <thead>\n",
       "    <tr style=\"text-align: right;\">\n",
       "      <th></th>\n",
       "      <th>image_id</th>\n",
       "      <th>data_provider</th>\n",
       "      <th>isup_grade</th>\n",
       "      <th>gleason_score</th>\n",
       "      <th>fold</th>\n",
       "      <th>class_weight</th>\n",
       "      <th>isup_pred</th>\n",
       "      <th>isup_raw_pred</th>\n",
       "    </tr>\n",
       "  </thead>\n",
       "  <tbody>\n",
       "    <tr>\n",
       "      <th>1</th>\n",
       "      <td>000920ad0b612851f8e01bcc880d9b3d</td>\n",
       "      <td>karolinska</td>\n",
       "      <td>0</td>\n",
       "      <td>0+0</td>\n",
       "      <td>0</td>\n",
       "      <td>1.000000</td>\n",
       "      <td>0</td>\n",
       "      <td>0.243519</td>\n",
       "    </tr>\n",
       "    <tr>\n",
       "      <th>3</th>\n",
       "      <td>001c62abd11fa4b57bf7a6c603a11bb9</td>\n",
       "      <td>karolinska</td>\n",
       "      <td>4</td>\n",
       "      <td>4+4</td>\n",
       "      <td>0</td>\n",
       "      <td>2.549582</td>\n",
       "      <td>4</td>\n",
       "      <td>4.449581</td>\n",
       "    </tr>\n",
       "    <tr>\n",
       "      <th>11</th>\n",
       "      <td>004391d48d58b18156f811087cd38abf</td>\n",
       "      <td>karolinska</td>\n",
       "      <td>1</td>\n",
       "      <td>3+3</td>\n",
       "      <td>0</td>\n",
       "      <td>1.126121</td>\n",
       "      <td>1</td>\n",
       "      <td>1.296619</td>\n",
       "    </tr>\n",
       "    <tr>\n",
       "      <th>15</th>\n",
       "      <td>006f6aa35a78965c92fffd1fbd53a058</td>\n",
       "      <td>radboud</td>\n",
       "      <td>3</td>\n",
       "      <td>4+3</td>\n",
       "      <td>0</td>\n",
       "      <td>2.490082</td>\n",
       "      <td>3</td>\n",
       "      <td>3.211575</td>\n",
       "    </tr>\n",
       "    <tr>\n",
       "      <th>17</th>\n",
       "      <td>0076bcb66e46fb485f5ba432b9a1fe8a</td>\n",
       "      <td>radboud</td>\n",
       "      <td>3</td>\n",
       "      <td>4+3</td>\n",
       "      <td>0</td>\n",
       "      <td>2.490082</td>\n",
       "      <td>4</td>\n",
       "      <td>4.291409</td>\n",
       "    </tr>\n",
       "  </tbody>\n",
       "</table>\n",
       "</div>"
      ],
      "text/plain": [
       "                            image_id data_provider  isup_grade gleason_score  \\\n",
       "1   000920ad0b612851f8e01bcc880d9b3d    karolinska           0           0+0   \n",
       "3   001c62abd11fa4b57bf7a6c603a11bb9    karolinska           4           4+4   \n",
       "11  004391d48d58b18156f811087cd38abf    karolinska           1           3+3   \n",
       "15  006f6aa35a78965c92fffd1fbd53a058       radboud           3           4+3   \n",
       "17  0076bcb66e46fb485f5ba432b9a1fe8a       radboud           3           4+3   \n",
       "\n",
       "    fold  class_weight  isup_pred  isup_raw_pred  \n",
       "1      0      1.000000          0       0.243519  \n",
       "3      0      2.549582          4       4.449581  \n",
       "11     0      1.126121          1       1.296619  \n",
       "15     0      2.490082          3       3.211575  \n",
       "17     0      2.490082          4       4.291409  "
      ]
     },
     "execution_count": 36,
     "metadata": {},
     "output_type": "execute_result"
    }
   ],
   "source": [
    "val_df.head()"
   ]
  },
  {
   "cell_type": "code",
   "execution_count": 37,
   "metadata": {},
   "outputs": [
    {
     "name": "stdout",
     "output_type": "stream",
     "text": [
      "Normalized confusion matrix\n",
      "[[0.78230337 0.18820225 0.02668539 0.00140449 0.00140449 0.        ]\n",
      " [0.03955696 0.76265823 0.18037975 0.00949367 0.00791139 0.        ]\n",
      " [0.00955414 0.2133758  0.52547771 0.22292994 0.02866242 0.        ]\n",
      " [0.03135889 0.05574913 0.13240418 0.41463415 0.35191638 0.01393728]\n",
      " [0.         0.02797203 0.07342657 0.17832168 0.64685315 0.07342657]\n",
      " [0.00740741 0.02592593 0.01481481 0.05555556 0.51111111 0.38518519]]\n"
     ]
    },
    {
     "data": {
      "image/png": "[encoded data removed]",
      "text/plain": [
       "<Figure size 432x288 with 2 Axes>"
      ]
     },
     "metadata": {
      "image/png": {
       "height": 279,
       "width": 313
      },
      "needs_background": "light"
     },
     "output_type": "display_data"
    }
   ],
   "source": [
    "_ = plot_confusion_matrix(val_df.isup_grade, val_df.isup_pred, normalize=True)"
   ]
  },
  {
   "cell_type": "code",
   "execution_count": 38,
   "metadata": {},
   "outputs": [
    {
     "name": "stderr",
     "output_type": "stream",
     "text": [
      "Models: ['05-07-2020-16-42_59_loss.pth', '05-07-2020-16-42_57_qwk.pth']\n"
     ]
    }
   ],
   "source": [
    "logging.info(f\"Models: {model_fnames}\")"
   ]
  },
  {
   "cell_type": "code",
   "execution_count": 39,
   "metadata": {},
   "outputs": [],
   "source": [
    "pred_kappa = cohen_kappa_score(val_df.isup_grade, val_df.isup_pred, weights=\"quadratic\")"
   ]
  },
  {
   "cell_type": "code",
   "execution_count": 40,
   "metadata": {},
   "outputs": [
    {
     "name": "stderr",
     "output_type": "stream",
     "text": [
      "Overall kapa: 0.8850430702883127\n"
     ]
    }
   ],
   "source": [
    "logging.info(f\"Overall kapa: {pred_kappa}\")"
   ]
  },
  {
   "cell_type": "code",
   "execution_count": 41,
   "metadata": {},
   "outputs": [
    {
     "name": "stderr",
     "output_type": "stream",
     "text": [
      "Karolinska kapa: 0.8852317764480986\n"
     ]
    }
   ],
   "source": [
    "karol_df = val_df[val_df.data_provider == \"karolinska\"].copy()\n",
    "kapa_karol = cohen_kappa_score(karol_df.isup_grade, karol_df.isup_pred, weights=\"quadratic\")\n",
    "logging.info(f\"Karolinska kapa: {kapa_karol}\")"
   ]
  },
  {
   "cell_type": "code",
   "execution_count": 42,
   "metadata": {},
   "outputs": [
    {
     "name": "stderr",
     "output_type": "stream",
     "text": [
      "Radboud kapa: 0.8575250442784352\n"
     ]
    }
   ],
   "source": [
    "radboud_df = val_df[val_df.data_provider == \"radboud\"].copy()\n",
    "kapa_radboud = cohen_kappa_score(radboud_df.isup_grade, radboud_df.isup_pred, weights=\"quadratic\")\n",
    "logging.info(f\"Radboud kapa: {kapa_radboud}\")"
   ]
  },
  {
   "cell_type": "markdown",
   "metadata": {},
   "source": [
    "#### Optimize Rounding"
   ]
  },
  {
   "cell_type": "code",
   "execution_count": 43,
   "metadata": {},
   "outputs": [],
   "source": [
    "rnd_sample_ids = val_df.sample(frac=0.5).index"
   ]
  },
  {
   "cell_type": "code",
   "execution_count": 44,
   "metadata": {},
   "outputs": [],
   "source": [
    "val_df[\"eval\"] = 0\n",
    "val_df.loc[rnd_sample_ids, \"eval\"] = 1"
   ]
  },
  {
   "cell_type": "code",
   "execution_count": 45,
   "metadata": {},
   "outputs": [],
   "source": [
    "dev_preds = val_df.loc[val_df[\"eval\"] == 0, \"isup_raw_pred\"].values\n",
    "dev_targs = val_df.loc[val_df[\"eval\"] == 0, \"isup_grade\"].values\n",
    "eval_preds = val_df.loc[val_df[\"eval\"] == 1, \"isup_raw_pred\"].values\n",
    "eval_targs = val_df.loc[val_df[\"eval\"] == 1, \"isup_grade\"].values"
   ]
  },
  {
   "cell_type": "code",
   "execution_count": 46,
   "metadata": {},
   "outputs": [],
   "source": [
    "opt_r = OptimizedRounder()\n",
    "opt_r.fit(dev_preds, dev_targs)"
   ]
  },
  {
   "cell_type": "code",
   "execution_count": 47,
   "metadata": {},
   "outputs": [
    {
     "name": "stderr",
     "output_type": "stream",
     "text": [
      "Optimized coefs: [0.51951755 1.52252951 2.53905103 3.56214501 4.30387148]\n"
     ]
    }
   ],
   "source": [
    "coefficients = opt_r.coefficients()\n",
    "logging.info(f\"Optimized coefs: {coefficients}\")"
   ]
  },
  {
   "cell_type": "code",
   "execution_count": 48,
   "metadata": {},
   "outputs": [],
   "source": [
    "eval_preds_round = opt_r.predict(val_df.isup_raw_pred, coefficients)"
   ]
  },
  {
   "cell_type": "code",
   "execution_count": 49,
   "metadata": {},
   "outputs": [],
   "source": [
    "round_opt_kapa = cohen_kappa_score(val_df.isup_grade, eval_preds_round, weights=\"quadratic\")"
   ]
  },
  {
   "cell_type": "code",
   "execution_count": 50,
   "metadata": {},
   "outputs": [
    {
     "name": "stderr",
     "output_type": "stream",
     "text": [
      "Optimized round kapa: 0.8886703136421089\n"
     ]
    }
   ],
   "source": [
    "logging.info(f\"Optimized round kapa: {round_opt_kapa}\")"
   ]
  },
  {
   "cell_type": "markdown",
   "metadata": {},
   "source": [
    "#### Check results with Hard Class Permutation"
   ]
  },
  {
   "cell_type": "code",
   "execution_count": 43,
   "metadata": {},
   "outputs": [],
   "source": [
    "hard_cls_values = val_df.loc[val_df.isup_pred.isin([2,3,4]), \"isup_pred\"].copy().values"
   ]
  },
  {
   "cell_type": "code",
   "execution_count": 44,
   "metadata": {},
   "outputs": [
    {
     "data": {
      "text/plain": [
       "array([4, 3, 4, 2, 3])"
      ]
     },
     "execution_count": 44,
     "metadata": {},
     "output_type": "execute_result"
    }
   ],
   "source": [
    "hard_cls_values[:5]"
   ]
  },
  {
   "cell_type": "code",
   "execution_count": 45,
   "metadata": {},
   "outputs": [],
   "source": [
    "np.random.shuffle(hard_cls_values)"
   ]
  },
  {
   "cell_type": "code",
   "execution_count": 46,
   "metadata": {},
   "outputs": [
    {
     "data": {
      "text/plain": [
       "array([3, 4, 3, 4, 2])"
      ]
     },
     "execution_count": 46,
     "metadata": {},
     "output_type": "execute_result"
    }
   ],
   "source": [
    "hard_cls_values[:5]"
   ]
  },
  {
   "cell_type": "code",
   "execution_count": 47,
   "metadata": {},
   "outputs": [],
   "source": [
    "val_df.loc[val_df.isup_pred.isin([2,3,4]), \"isup_pred\"] = hard_cls_values"
   ]
  },
  {
   "cell_type": "code",
   "execution_count": 48,
   "metadata": {},
   "outputs": [
    {
     "name": "stdout",
     "output_type": "stream",
     "text": [
      "Normalized confusion matrix\n",
      "[[0.94382022 0.03792135 0.00702247 0.00421348 0.00280899 0.00421348]\n",
      " [0.0830721  0.79937304 0.03605016 0.04702194 0.03291536 0.0015674 ]\n",
      " [0.04126984 0.27936508 0.25396825 0.22222222 0.18412698 0.01904762]\n",
      " [0.09310345 0.05862069 0.26896552 0.23793103 0.24482759 0.09655172]\n",
      " [0.0652921  0.03780069 0.26460481 0.25429553 0.2371134  0.14089347]\n",
      " [0.05818182 0.01454545 0.11636364 0.10545455 0.14909091 0.55636364]]\n"
     ]
    },
    {
     "data": {
      "image/png": "[encoded data removed]",
      "text/plain": [
       "<Figure size 432x288 with 2 Axes>"
      ]
     },
     "metadata": {
      "image/png": {
       "height": 279,
       "width": 313
      },
      "needs_background": "light"
     },
     "output_type": "display_data"
    }
   ],
   "source": [
    "_ = plot_confusion_matrix(val_df.isup_grade, val_df.isup_pred, normalize=True)"
   ]
  },
  {
   "cell_type": "code",
   "execution_count": 49,
   "metadata": {},
   "outputs": [
    {
     "data": {
      "text/plain": [
       "0.7659439769237075"
      ]
     },
     "execution_count": 49,
     "metadata": {},
     "output_type": "execute_result"
    }
   ],
   "source": [
    "permute_kapa = cohen_kappa_score(val_df.isup_grade, val_df.isup_pred, weights=\"quadratic\")\n",
    "permute_kapa"
   ]
  },
  {
   "cell_type": "code",
   "execution_count": 50,
   "metadata": {},
   "outputs": [
    {
     "name": "stdout",
     "output_type": "stream",
     "text": [
      "Permutation importance: 0.07017338008015972\n"
     ]
    }
   ],
   "source": [
    "print(f\"Permutation importance: {1 - (permute_kapa/pred_kappa)}\")"
   ]
  },
  {
   "cell_type": "code",
   "execution_count": 34,
   "metadata": {},
   "outputs": [
    {
     "name": "stdout",
     "output_type": "stream",
     "text": [
      "LB Permutation importance: 0.04761904761904756\n"
     ]
    }
   ],
   "source": [
    "# LB\n",
    "print(f\"LB Permutation importance: {1 - (0.80/0.84)}\")"
   ]
  },
  {
   "cell_type": "code",
   "execution_count": null,
   "metadata": {},
   "outputs": [],
   "source": []
  }
 ],
 "metadata": {
  "kernelspec": {
   "display_name": "chestxray",
   "language": "python",
   "name": "chestxray"
  },
  "language_info": {
   "codemirror_mode": {
    "name": "ipython",
    "version": 3
   },
   "file_extension": ".py",
   "mimetype": "text/x-python",
   "name": "python",
   "nbconvert_exporter": "python",
   "pygments_lexer": "ipython3",
   "version": "3.7.7"
  },
  "toc-autonumbering": false,
  "toc-showcode": false,
  "toc-showmarkdowntxt": false
 },
 "nbformat": 4,
 "nbformat_minor": 4
}
