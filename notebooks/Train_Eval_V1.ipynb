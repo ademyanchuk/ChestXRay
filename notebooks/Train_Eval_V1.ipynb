{
 "cells": [
  {
   "cell_type": "markdown",
   "metadata": {},
   "source": [
    "### Imports"
   ]
  },
  {
   "cell_type": "code",
   "execution_count": 1,
   "metadata": {},
   "outputs": [],
   "source": [
    "%load_ext autoreload\n",
    "%autoreload 2"
   ]
  },
  {
   "cell_type": "code",
   "execution_count": 2,
   "metadata": {},
   "outputs": [],
   "source": [
    "import random\n",
    "import logging\n",
    "import subprocess\n",
    "import os\n",
    "from datetime import datetime\n",
    "from collections import Counter, OrderedDict\n",
    "import numpy as np\n",
    "import pandas as pd\n",
    "import matplotlib.pyplot as plt\n",
    "from tqdm import tqdm\n",
    "\n",
    "import torch\n",
    "import torch.nn as nn\n",
    "import torch.nn.functional as F\n",
    "from torch.utils.data import DataLoader, Dataset\n",
    "from torch.utils.tensorboard import SummaryWriter\n",
    "from torch.optim.lr_scheduler import ReduceLROnPlateau, OneCycleLR, CosineAnnealingWarmRestarts\n",
    "import torchvision\n",
    "from torchvision import models\n",
    "from apex import amp\n",
    "\n",
    "from torch_lr_finder import LRFinder\n",
    "\n",
    "from albumentations import Compose, Normalize\n",
    "from albumentations.pytorch import ToTensorV2, ToTensor\n",
    "\n",
    "from sklearn.metrics import cohen_kappa_score\n",
    "from sklearn.model_selection import StratifiedKFold\n",
    "from sklearn.metrics import confusion_matrix\n",
    "\n",
    "import cv2\n",
    "import skimage.io\n",
    "import IPython.display as display\n",
    "from PIL import Image\n",
    "\n",
    "plt.ion()\n",
    "%matplotlib inline\n",
    "%config InlineBackend.figure_format='retina'"
   ]
  },
  {
   "cell_type": "markdown",
   "metadata": {},
   "source": [
    "#### Local Imports"
   ]
  },
  {
   "cell_type": "code",
   "execution_count": 3,
   "metadata": {},
   "outputs": [],
   "source": [
    "# Paths\n",
    "from chestxray.config import (PROJ_PATH,\n",
    "                              PANDA_PATH,\n",
    "                              MODEL_PATH,\n",
    "                              PANDA_IMGS,\n",
    "                              PANDA_MASKS,\n",
    "                              TRAIN_CSV)\n",
    "# Competition related config\n",
    "from chestxray.config import CFG\n",
    "\n",
    "# Misc\n",
    "from chestxray.misc import seed_torch\n",
    "\n",
    "# Datasets\n",
    "from chestxray.datasets import get_transforms, TrainDataset, TilesTrainDataset, LazyTilesDataset, PatchTrainDataset, H5PatchDataset, SeqenceRandomSampler\n",
    "\n",
    "# Viz\n",
    "from chestxray.visualize import (show_from_ids, show_batch, imshow, \n",
    "                                 plot_classes_preds, reverse_show_img, \n",
    "                                 plot_confusion_matrix, text_classes_preds)\n",
    "\n",
    "# Nets\n",
    "from chestxray.nets import TinyV2ConvNet, freeze_botom, PatchModel, PatchEnetModel, PatchBiTModel, TilesModel, AttentionModel\n",
    "from chestxray.model_utils import (trainable_params, cce_loss_at_init, \n",
    "                                   init_last_layer_bias)\n",
    "# Losses\n",
    "from chestxray.losses import LabelSmoothSoftmaxCEV1, TopkCrossEntropy, TopkBCEWithLogitsLoss\n",
    "\n",
    "# Optim\n",
    "from chestxray.optimizers import RAdam\n",
    "\n",
    "# Schedulers\n",
    "from chestxray.schedulers import CosineAnnealingWarmUpRestarts\n",
    "\n",
    "# postproc\n",
    "from chestxray.postprocess import OptimizedRounder"
   ]
  },
  {
   "cell_type": "code",
   "execution_count": 4,
   "metadata": {},
   "outputs": [
    {
     "name": "stdout",
     "output_type": "stream",
     "text": [
      "cuda:0\n"
     ]
    }
   ],
   "source": [
    "device = torch.device(\"cuda:0\" if torch.cuda.is_available() else \"cpu\")\n",
    "print(device)"
   ]
  },
  {
   "cell_type": "code",
   "execution_count": 5,
   "metadata": {},
   "outputs": [
    {
     "name": "stdout",
     "output_type": "stream",
     "text": [
      "_CudaDeviceProperties(name='GeForce RTX 2070 SUPER', major=7, minor=5, total_memory=7979MB, multi_processor_count=40)\n"
     ]
    }
   ],
   "source": [
    "print(torch.cuda.get_device_properties(device))"
   ]
  },
  {
   "cell_type": "markdown",
   "metadata": {},
   "source": [
    "### Fix Random Seed"
   ]
  },
  {
   "cell_type": "code",
   "execution_count": 6,
   "metadata": {},
   "outputs": [],
   "source": [
    "seed_torch()"
   ]
  },
  {
   "cell_type": "code",
   "execution_count": 7,
   "metadata": {},
   "outputs": [],
   "source": [
    "# torch.backends.cudnn.benchmark = True"
   ]
  },
  {
   "cell_type": "markdown",
   "metadata": {},
   "source": [
    "### Load Data"
   ]
  },
  {
   "cell_type": "code",
   "execution_count": 8,
   "metadata": {},
   "outputs": [
    {
     "data": {
      "text/html": [
       "<div>\n",
       "<style scoped>\n",
       "    .dataframe tbody tr th:only-of-type {\n",
       "        vertical-align: middle;\n",
       "    }\n",
       "\n",
       "    .dataframe tbody tr th {\n",
       "        vertical-align: top;\n",
       "    }\n",
       "\n",
       "    .dataframe thead th {\n",
       "        text-align: right;\n",
       "    }\n",
       "</style>\n",
       "<table border=\"1\" class=\"dataframe\">\n",
       "  <thead>\n",
       "    <tr style=\"text-align: right;\">\n",
       "      <th></th>\n",
       "      <th>image_id</th>\n",
       "      <th>data_provider</th>\n",
       "      <th>isup_grade</th>\n",
       "      <th>gleason_score</th>\n",
       "    </tr>\n",
       "  </thead>\n",
       "  <tbody>\n",
       "    <tr>\n",
       "      <th>0</th>\n",
       "      <td>0005f7aaab2800f6170c399693a96917</td>\n",
       "      <td>karolinska</td>\n",
       "      <td>0</td>\n",
       "      <td>0+0</td>\n",
       "    </tr>\n",
       "    <tr>\n",
       "      <th>1</th>\n",
       "      <td>000920ad0b612851f8e01bcc880d9b3d</td>\n",
       "      <td>karolinska</td>\n",
       "      <td>0</td>\n",
       "      <td>0+0</td>\n",
       "    </tr>\n",
       "    <tr>\n",
       "      <th>2</th>\n",
       "      <td>0018ae58b01bdadc8e347995b69f99aa</td>\n",
       "      <td>radboud</td>\n",
       "      <td>4</td>\n",
       "      <td>4+4</td>\n",
       "    </tr>\n",
       "    <tr>\n",
       "      <th>3</th>\n",
       "      <td>001c62abd11fa4b57bf7a6c603a11bb9</td>\n",
       "      <td>karolinska</td>\n",
       "      <td>4</td>\n",
       "      <td>4+4</td>\n",
       "    </tr>\n",
       "    <tr>\n",
       "      <th>4</th>\n",
       "      <td>001d865e65ef5d2579c190a0e0350d8f</td>\n",
       "      <td>karolinska</td>\n",
       "      <td>0</td>\n",
       "      <td>0+0</td>\n",
       "    </tr>\n",
       "  </tbody>\n",
       "</table>\n",
       "</div>"
      ],
      "text/plain": [
       "                           image_id data_provider  isup_grade gleason_score\n",
       "0  0005f7aaab2800f6170c399693a96917    karolinska           0           0+0\n",
       "1  000920ad0b612851f8e01bcc880d9b3d    karolinska           0           0+0\n",
       "2  0018ae58b01bdadc8e347995b69f99aa       radboud           4           4+4\n",
       "3  001c62abd11fa4b57bf7a6c603a11bb9    karolinska           4           4+4\n",
       "4  001d865e65ef5d2579c190a0e0350d8f    karolinska           0           0+0"
      ]
     },
     "execution_count": 8,
     "metadata": {},
     "output_type": "execute_result"
    }
   ],
   "source": [
    "TRAIN_DF = pd.read_csv(TRAIN_CSV)\n",
    "TRAIN_DF.head()"
   ]
  },
  {
   "cell_type": "code",
   "execution_count": 9,
   "metadata": {},
   "outputs": [
    {
     "name": "stdout",
     "output_type": "stream",
     "text": [
      "<class 'pandas.core.frame.DataFrame'>\n",
      "RangeIndex: 10616 entries, 0 to 10615\n",
      "Data columns (total 4 columns):\n",
      " #   Column         Non-Null Count  Dtype \n",
      "---  ------         --------------  ----- \n",
      " 0   image_id       10616 non-null  object\n",
      " 1   data_provider  10616 non-null  object\n",
      " 2   isup_grade     10616 non-null  int64 \n",
      " 3   gleason_score  10616 non-null  object\n",
      "dtypes: int64(1), object(3)\n",
      "memory usage: 331.9+ KB\n"
     ]
    }
   ],
   "source": [
    "TRAIN_DF.info()"
   ]
  },
  {
   "cell_type": "code",
   "execution_count": 10,
   "metadata": {},
   "outputs": [
    {
     "data": {
      "image/png": "[encoded data removed]",
      "text/plain": [
       "<Figure size 432x288 with 1 Axes>"
      ]
     },
     "metadata": {
      "image/png": {
       "height": 249,
       "width": 381
      },
      "needs_background": "light"
     },
     "output_type": "display_data"
    }
   ],
   "source": [
    "_ = TRAIN_DF[CFG.target_col].hist()"
   ]
  },
  {
   "cell_type": "markdown",
   "metadata": {},
   "source": [
    "### Define Global Variables"
   ]
  },
  {
   "cell_type": "code",
   "execution_count": 11,
   "metadata": {},
   "outputs": [
    {
     "name": "stdout",
     "output_type": "stream",
     "text": [
      "Start experiment: 01-07-2020-20-18\n"
     ]
    }
   ],
   "source": [
    "if CFG.debug:\n",
    "    EXP_NAME = \"debug\"\n",
    "    writer = SummaryWriter(f\"runs_v1/{EXP_NAME}\")\n",
    "    print(f\"Start experiment: {EXP_NAME}\")\n",
    "else:\n",
    "    if not CFG.resume:\n",
    "        now = datetime.now()\n",
    "        EXP_NAME = now.strftime(\"%d-%m-%Y-%H-%M\")\n",
    "        print(f\"Start experiment: {EXP_NAME}\")\n",
    "\n",
    "        writer = SummaryWriter(f\"runs_v1/{EXP_NAME}\")\n",
    "    else:\n",
    "        # if resume should define from what to start\n",
    "        PREV_NAME = CFG.prev_exp\n",
    "        writer = SummaryWriter(f\"runs_v1/{PREV_NAME}_{CFG.stage}\")"
   ]
  },
  {
   "cell_type": "code",
   "execution_count": 11,
   "metadata": {},
   "outputs": [],
   "source": [
    "EXP_NAME = \"21-06-2020-17-05+22-06-2020-21-27\""
   ]
  },
  {
   "cell_type": "code",
   "execution_count": 12,
   "metadata": {},
   "outputs": [],
   "source": [
    "# Set logger\n",
    "logger = logging.getLogger()\n",
    "logger.setLevel(logging.INFO)\n",
    "\n",
    "log_format = logging.Formatter('%(message)s')\n",
    "stream_handler = logging.StreamHandler()\n",
    "stream_handler.setFormatter(log_format)\n",
    "logger.handlers = [stream_handler]\n",
    "# add logging handler to save training to the file\n",
    "log_fname = f\"{PROJ_PATH/'logs'}/{EXP_NAME}.log\"\n",
    "file_handler = logging.FileHandler(log_fname, mode=\"a\")\n",
    "file_handler.setFormatter(log_format)\n",
    "logger.handlers.append(file_handler)"
   ]
  },
  {
   "cell_type": "code",
   "execution_count": 13,
   "metadata": {},
   "outputs": [],
   "source": [
    "LOSSES = {\n",
    "    \"cce\" : nn.CrossEntropyLoss(),\n",
    "    \"ls_soft_ce\" : LabelSmoothSoftmaxCEV1(),\n",
    "    \"ohem\" : TopkCrossEntropy(),\n",
    "    \"bce\" : TopkBCEWithLogitsLoss() if CFG.ohem else nn.BCEWithLogitsLoss(),\n",
    "}"
   ]
  },
  {
   "cell_type": "code",
   "execution_count": 14,
   "metadata": {},
   "outputs": [],
   "source": [
    "# key - string, value - tuple(sceduler, if it epoch type)\n",
    "epoch_type = True\n",
    "SCHEDULERS = {\n",
    "    \"reduce_on_plateau\" : (ReduceLROnPlateau, epoch_type),\n",
    "    \"one_cycle\": (OneCycleLR, not epoch_type),\n",
    "    \"cawr\": (CosineAnnealingWarmUpRestarts, not epoch_type),\n",
    "    \"none\": (None, None)\n",
    "}"
   ]
  },
  {
   "cell_type": "code",
   "execution_count": 15,
   "metadata": {},
   "outputs": [],
   "source": [
    "# schedulers\n",
    "def get_scheduler(optimizer,train_dataloader, schedule_type=CFG.schedule_type, resume=False):\n",
    "    assert schedule_type in SCHEDULERS, f\"{schedule_type} not in SCHEDULERS\"\n",
    "    if schedule_type == \"reduce_on_plateau\":\n",
    "        return (SCHEDULERS[schedule_type][0](optimizer, 'min', factor=0.5, patience=CFG.rlopp if not resume else CFG.rlopp + 2, verbose=True), \n",
    "                SCHEDULERS[schedule_type][1])\n",
    "    elif schedule_type == \"one_cycle\":\n",
    "        return (SCHEDULERS[schedule_type][0](optimizer, max_lr=[CFG.lr, CFG.lr*10] if CFG.finetune == \"1stage\" else CFG.lr,\n",
    "                                             steps_per_epoch=int(len(train_dataloader) / CFG.accum_step), epochs=CFG.epoch, pct_start=1/CFG.epoch, \n",
    "                                             cycle_momentum=False, final_div_factor=CFG.oc_final_div_factor),\n",
    "                SCHEDULERS[schedule_type][1])\n",
    "    elif schedule_type == \"cawr\":\n",
    "        return (SCHEDULERS[schedule_type][0](optimizer, T_0=CFG.cawr_T_0, T_mult=CFG.cawr_T_mult, eta_max=CFG.lr, T_up=CFG.cawr_T_up, gamma=CFG.cawr_gamma),\n",
    "                SCHEDULERS[schedule_type][1])\n",
    "    else:\n",
    "        return (SCHEDULERS[schedule_type][0],\n",
    "                SCHEDULERS[schedule_type][1])"
   ]
  },
  {
   "cell_type": "markdown",
   "metadata": {},
   "source": [
    "### Train Eval Loop"
   ]
  },
  {
   "cell_type": "code",
   "execution_count": 16,
   "metadata": {},
   "outputs": [],
   "source": [
    "# Train Eval Loop\n",
    "def train_eval_loop(\n",
    "    train_dataloader,\n",
    "    val_dataloader,\n",
    "    model,\n",
    "    optimizer,\n",
    "    criterion,\n",
    "    accum_step=CFG.accum_step,\n",
    "    checkpoint=False,\n",
    "    num_epochs=CFG.epoch,\n",
    "    device=device,\n",
    "    tb_tag=\"\",\n",
    "    model_name=\"debug\",\n",
    "):\n",
    "    \"\"\"Split it into the set of inner functions to siplify the loop itself\"\"\"\n",
    "    # Inner Functions\n",
    "    # write to TensorBoard helpers\n",
    "    def weights_to_tb(step=0):\n",
    "        conv1_weight = list(model.parameters())[0].data.to(\"cpu\")\n",
    "        img_grid = torchvision.utils.make_grid(conv1_weight.float(), normalize=True)\n",
    "        writer.add_image(\n",
    "            tag=f\"Model conv1 weights {tb_tag}\", img_tensor=img_grid, global_step=step\n",
    "        )\n",
    "\n",
    "    def input_img_to_tb(inputs, step):\n",
    "        img = reverse_show_img(inputs[0], denorm=True)\n",
    "        writer.add_image(\n",
    "            tag=f\"Input Image {tb_tag}\",\n",
    "            img_tensor=img,\n",
    "            global_step=step,\n",
    "            dataformats=\"HWC\",\n",
    "        )\n",
    "        del img\n",
    "\n",
    "    def preds_to_tb(outputs, inputs, labels, step):\n",
    "        figure = plot_classes_preds(\n",
    "            outputs.to(\"cpu\"), inputs.to(\"cpu\"), labels.to(\"cpu\")\n",
    "        )\n",
    "        writer.add_figure(\n",
    "            tag=f\"Actuals vs Predictions {tb_tag}\", figure=figure, global_step=step\n",
    "        )\n",
    "\n",
    "    def text_preds_to_tb(outputs, labels, step):\n",
    "        preds, targs = compute_preds(outputs, labels)\n",
    "        preds_text = f\"targs: {targs}, preds: {preds}\"\n",
    "        writer.add_text(\n",
    "            f\"Actuals vs Predictions {tb_tag}\", preds_text, global_step=step\n",
    "        )\n",
    "\n",
    "    def metrics_to_tb(mode, train_loss, train_score, val_loss, val_score, step):\n",
    "        writer.add_text(\n",
    "            f\"On best {mode} save:\",\n",
    "            f\"tr_loss: {train_loss:.4f}, tr_qwk: {train_score:.4f}, val_loss: {val_loss:.4f}, val_qwk: {val_score:.4f}\",  # noqa\n",
    "            global_step=step,\n",
    "        )\n",
    "\n",
    "    def conf_matrix_to_tb(val_epoch_labels, val_epoch_preds, step):\n",
    "        writer.add_figure(\n",
    "            tag=f\"Confusion matrix {tb_tag}\",\n",
    "            figure=plot_confusion_matrix(\n",
    "                val_epoch_labels, val_epoch_preds, normalize=True\n",
    "            ),\n",
    "            global_step=step,\n",
    "        )\n",
    "        \n",
    "    def attention_to_tb(att, step):\n",
    "        att_arr = att.data.cpu().numpy()[0, 0]\n",
    "        text = f\"{np.around(att_arr, decimals=3)}\"\n",
    "        writer.add_text(f\"Attention Map for Oth Val sample {tb_tag}\", text, global_step=step)\n",
    "        \n",
    "        \n",
    "    def compute_preds(outputs, labels, loss_type=CFG.loss):\n",
    "        if loss_type == \"bce\":\n",
    "            preds = outputs.detach().sigmoid().sum(1).round()\n",
    "            targs = labels.sum(1)\n",
    "        else:\n",
    "            preds = outputs.detach().argmax(1)\n",
    "            targs = labels\n",
    "        return preds.int(), targs.int()\n",
    "        \n",
    "\n",
    "    # Train/Eval Loop\n",
    "    # write first layer weights to TB @ init phase\n",
    "    if not CFG.debug:\n",
    "        weights_to_tb()\n",
    "\n",
    "    # prepare model and optimizer\n",
    "    model.to(device)\n",
    "    if CFG.use_amp:  # automatic mixed precision\n",
    "        model, optimizer = amp.initialize(model, optimizer, opt_level=\"O2\")\n",
    "        \n",
    "    # init scheduler after amp init of optimizer\n",
    "    scheduler, sch_is_epoch_type = get_scheduler(optimizer, train_dataloader, resume=CFG.resume)\n",
    "    \n",
    "    # define epochs numbers to look into input images and predictions,\n",
    "    # no more than 30 times per full training\n",
    "    vis_step = np.ceil(num_epochs / 30).astype(int)\n",
    "    visual_epochs = list(range(0, num_epochs, vis_step))\n",
    "    # metrics to wathch for model checkpointing\n",
    "    best_qwk = -100 if not checkpoint else checkpoint[\"best_qwk\"]\n",
    "    best_val_loss = np.inf if not checkpoint else checkpoint[\"best_val_loss\"]\n",
    "\n",
    "    start_epoch = 0 if not checkpoint else checkpoint[\"epoch\"] + 1\n",
    "    for epoch in range(start_epoch, num_epochs):\n",
    "        logging.info(f\"Epoch {epoch}/{num_epochs - 1}\")\n",
    "        logging.info(\"=\" * 10)\n",
    "\n",
    "        # Training Phase\n",
    "        # Set training mode\n",
    "        model.train()\n",
    "        train_running_loss = 0.0\n",
    "        accum_train_loss = 0.0\n",
    "        train_epoch_preds, train_epoch_labels = [], []\n",
    "\n",
    "        # We accumulate, zero at training epoch begins\n",
    "        optimizer.zero_grad()\n",
    "\n",
    "        # Iterate over train data.\n",
    "        tk_train = tqdm(enumerate(train_dataloader), total=len(train_dataloader))\n",
    "        for i, data in tk_train:\n",
    "            # Calculate global step for TensorBoard\n",
    "            train_global_step = epoch * len(train_dataloader) + i\n",
    "\n",
    "            inputs, labels = data\n",
    "            # Visualize input before model at the middle of epoch:\n",
    "            if epoch in visual_epochs and i == len(train_dataloader) // 2:\n",
    "                input_img_to_tb(inputs, train_global_step)\n",
    "\n",
    "            inputs = inputs.to(device)\n",
    "            labels = labels.to(device)\n",
    "\n",
    "            if CFG.att:\n",
    "                outputs, _ = model(inputs) # don't need att map here\n",
    "            else:\n",
    "                outputs = model(inputs)\n",
    "            \n",
    "            # then usimg accumulated gradients they sum up every loss.backward, we want mean of gradients\n",
    "            # and so pararameter updates will be the same in case of accum_step > 1\n",
    "            loss = criterion(outputs, labels) / accum_step\n",
    "            if CFG.use_amp:\n",
    "                with amp.scale_loss(loss, optimizer) as scaled_loss:\n",
    "                    scaled_loss.backward()\n",
    "            else:\n",
    "                loss.backward()\n",
    "            \n",
    "            accum_train_loss += loss.item()\n",
    "            # we accumulate gradients and make optimization step once per\n",
    "            # # of accum_step\n",
    "            if (i + 1) % accum_step == 0:\n",
    "                optimizer.step()\n",
    "                optimizer.zero_grad()\n",
    "                # Add Batch Type Scheduler step here (update lr only after optimizer step):\n",
    "                if scheduler and not sch_is_epoch_type:\n",
    "                    if CFG.schedule_type == \"cawr\":\n",
    "                        scheduler.step(epoch + i / len(train_dataloader))\n",
    "                    else:\n",
    "                        scheduler.step()\n",
    "\n",
    "                # loss is mean across batch, divide by number of steps in epoch\n",
    "                # (so loss is normalized) + we only update train_running_loss every accum_step\n",
    "                train_running_loss += accum_train_loss / (len(train_dataloader) / accum_step)\n",
    "                # tensorboarding loss\n",
    "                writer.add_scalar(\n",
    "                    tag=f\"Training loss {tb_tag}\",\n",
    "                    scalar_value=accum_train_loss,\n",
    "                    global_step=train_global_step,\n",
    "                )\n",
    "                # zero accum_train_loss \n",
    "                accum_train_loss = 0.\n",
    "\n",
    "            # collect train preds and labels for QWK\n",
    "            preds, targs = compute_preds(outputs, labels)\n",
    "            train_epoch_preds.append(preds)\n",
    "            train_epoch_labels.append(targs)\n",
    "            \n",
    "        # Validation Phase\n",
    "        # Set evaluation mode\n",
    "        model.eval()\n",
    "        val_running_loss = 0.0\n",
    "        val_epoch_preds, val_epoch_labels = [], []\n",
    "        # Iterate over val data\n",
    "        tk_val = tqdm(enumerate(val_dataloader), total=len(val_dataloader))\n",
    "        for j, data in tk_val:\n",
    "            # Calculate global step\n",
    "            val_global_step = epoch * len(val_dataloader) + j\n",
    "            inputs, labels = data\n",
    "            if CFG.aux_tile:\n",
    "                inp_main, inp_aux = inputs\n",
    "                inp_main, inp_aux = inp_main.to(device), inp_aux.to(device)\n",
    "            else:\n",
    "                inputs = inputs.to(device)\n",
    "            \n",
    "            labels = labels.to(device)\n",
    "            with torch.no_grad():\n",
    "                if CFG.aux_tile:\n",
    "                    out_main = model(inp_main)\n",
    "                    out_aux = model(inp_aux)\n",
    "                    outputs = (out_main + out_aux) / 2\n",
    "                else:\n",
    "                    if CFG.att:\n",
    "                        outputs, att = model(inputs)\n",
    "                    else:\n",
    "                        outputs = model(inputs)\n",
    "            if CFG.ohem:\n",
    "                loss = criterion(outputs, labels, valid=True)\n",
    "            else:\n",
    "                loss = criterion(outputs, labels)\n",
    "            \n",
    "            val_running_loss += loss.item() / len(val_dataloader)\n",
    "            # tensorboarding loss\n",
    "            writer.add_scalar(\n",
    "                tag=f\"Validation loss {tb_tag}\",\n",
    "                scalar_value=loss.item(),\n",
    "                global_step=val_global_step,\n",
    "            )\n",
    "\n",
    "            # collect validation preds and labels for QWK\n",
    "            preds, targs = compute_preds(outputs, labels)\n",
    "            val_epoch_preds.append(preds)\n",
    "            val_epoch_labels.append(targs)\n",
    "\n",
    "            # visualise predictions for 0th validation batch\n",
    "            if epoch in visual_epochs and j == 0:\n",
    "                text_preds_to_tb(outputs, labels, val_global_step)\n",
    "                \n",
    "                # look into attention map if use it\n",
    "                if CFG.att:\n",
    "                    attention_to_tb(att, val_global_step)\n",
    "\n",
    "        # Epoch type Schedulers\n",
    "        if scheduler and sch_is_epoch_type:\n",
    "            scheduler.step(val_running_loss)\n",
    "        # Write lr to TBD\n",
    "        if CFG.finetune == \"1stage\":\n",
    "            writer.add_scalar(\n",
    "                tag=f\"lr Interim {tb_tag}:\",\n",
    "                scalar_value=optimizer.param_groups[0][\"lr\"],\n",
    "                global_step=train_global_step,\n",
    "            )\n",
    "            writer.add_scalar(\n",
    "                tag=f\"lr Classifier {tb_tag}:\",\n",
    "                scalar_value=optimizer.param_groups[1][\"lr\"],\n",
    "                global_step=train_global_step,\n",
    "            )\n",
    "\n",
    "        else:\n",
    "            writer.add_scalar(\n",
    "                tag=f\"lr {tb_tag}:\",\n",
    "                scalar_value=optimizer.param_groups[0][\"lr\"],\n",
    "                global_step=train_global_step,\n",
    "            )\n",
    "\n",
    "        # \"End of Epoch\" Phase\n",
    "        logging.info(\n",
    "            f\"Training Loss: {train_running_loss:.4f}\\tValidation Loss: {val_running_loss:.4f}\"  # noqa\n",
    "        )\n",
    "\n",
    "        # Calculate epoch predictions distribution\n",
    "        train_epoch_preds = torch.cat(train_epoch_preds).cpu().numpy()\n",
    "        train_epoch_labels = torch.cat(train_epoch_labels).cpu().numpy()\n",
    "        val_epoch_preds = torch.cat(val_epoch_preds).cpu().numpy()\n",
    "        val_epoch_labels = torch.cat(val_epoch_labels).cpu().numpy()\n",
    "        logging.info(\n",
    "            f\"Counter train preds: {Counter(train_epoch_preds)}\\tCounter val preds: {Counter(val_epoch_preds)}\"  # noqa\n",
    "        )\n",
    "        # Calculate epoch QWK\n",
    "        train_qwk = cohen_kappa_score(\n",
    "            train_epoch_preds, train_epoch_labels, weights=\"quadratic\"\n",
    "        )\n",
    "        val_qwk = cohen_kappa_score(\n",
    "            val_epoch_preds, val_epoch_labels, weights=\"quadratic\"\n",
    "        )\n",
    "        logging.info(f\"Epoch train QWK: {train_qwk:.3f}\\tval QWK: {val_qwk:.3f}\")\n",
    "        writer.add_scalar(\n",
    "            tag=f\"Training QWK {tb_tag}\", scalar_value=train_qwk, global_step=epoch\n",
    "        )\n",
    "        writer.add_scalar(\n",
    "            tag=f\"Validation QWK {tb_tag}\", scalar_value=val_qwk, global_step=epoch\n",
    "        )\n",
    "\n",
    "        # On the best val loss do:\n",
    "        if val_running_loss < best_val_loss:\n",
    "            # update best and save model\n",
    "            best_val_loss = val_running_loss\n",
    "            logging.info(f\"  Epoch {epoch} - Save Best Loss: {best_val_loss:.4f} Model\")\n",
    "            torch.save(\n",
    "                {\n",
    "                    \"epoch\": epoch,\n",
    "                    \"model_state_dict\": model.state_dict(),\n",
    "                    \"optimizer_state_dict\": optimizer.state_dict(),\n",
    "                    \"best_val_loss\": best_val_loss,\n",
    "                    \"best_qwk\": val_qwk,\n",
    "                },\n",
    "                f\"{MODEL_PATH}/{model_name}_{epoch}_loss.pth\",\n",
    "            )\n",
    "            # add losses as text to TB\n",
    "            metrics_to_tb(\n",
    "                \"loss\",\n",
    "                train_running_loss,\n",
    "                train_qwk,\n",
    "                val_running_loss,\n",
    "                val_qwk,\n",
    "                val_global_step,\n",
    "            )\n",
    "            # add image of conv1 weights to TB\n",
    "            if not CFG.debug:\n",
    "                weights_to_tb(val_global_step)\n",
    "            # add confusion matrix to TB\n",
    "            conf_matrix_to_tb(val_epoch_labels, val_epoch_preds, val_global_step)\n",
    "            \n",
    "        # On the best val loss do:\n",
    "        if val_qwk > best_qwk:\n",
    "            # update best and save model\n",
    "            best_qwk = val_qwk\n",
    "            logging.info(f\"  Epoch {epoch} - Save Best QWK: {best_qwk:.4f} Model\")\n",
    "            torch.save(\n",
    "                {\n",
    "                    \"epoch\": epoch,\n",
    "                    \"model_state_dict\": model.state_dict(),\n",
    "                    \"optimizer_state_dict\": optimizer.state_dict(),\n",
    "                    \"best_val_loss\": val_running_loss,\n",
    "                    \"best_qwk\": best_qwk,\n",
    "                },\n",
    "                f\"{MODEL_PATH}/{model_name}_{epoch}_qwk.pth\",\n",
    "            )\n",
    "            # add losses as text to TB\n",
    "            metrics_to_tb(\n",
    "                \"qwk\",\n",
    "                train_running_loss,\n",
    "                train_qwk,\n",
    "                val_running_loss,\n",
    "                val_qwk,\n",
    "                val_global_step,\n",
    "            )\n",
    "            # add image of conv1 weights to TB\n",
    "            if not CFG.debug:\n",
    "                weights_to_tb(val_global_step)\n",
    "            # add confusion matrix to TB\n",
    "            conf_matrix_to_tb(val_epoch_labels, val_epoch_preds, val_global_step)\n",
    "        \n",
    "        # maybe it helps!\n",
    "#         torch.cuda.empty_cache()\n",
    "\n",
    "    # End of loop\n",
    "    return model, best_val_loss, best_qwk"
   ]
  },
  {
   "cell_type": "markdown",
   "metadata": {},
   "source": [
    "### Prepare CV - strategy"
   ]
  },
  {
   "cell_type": "code",
   "execution_count": 17,
   "metadata": {},
   "outputs": [],
   "source": [
    "CFG.debug = True"
   ]
  },
  {
   "cell_type": "code",
   "execution_count": 17,
   "metadata": {},
   "outputs": [],
   "source": [
    "# That for the first time"
   ]
  },
  {
   "cell_type": "code",
   "execution_count": 28,
   "metadata": {},
   "outputs": [],
   "source": [
    "if CFG.debug:\n",
    "    folds_fn = \"folds_db.csv\"\n",
    "    try: \n",
    "        folds = pd.read_csv(PANDA_PATH/folds_fn)\n",
    "    except FileNotFoundError:\n",
    "        folds = TRAIN_DF.sample(n=500, random_state=CFG.seed).reset_index(drop=True).copy()\n",
    "else:\n",
    "    folds_fn = \"folds.csv\"\n",
    "    try:\n",
    "        folds = pd.read_csv(PANDA_PATH/folds_fn)\n",
    "    except FileNotFoundError:\n",
    "        folds = TRAIN_DF.copy()"
   ]
  },
  {
   "cell_type": "code",
   "execution_count": 16,
   "metadata": {
    "collapsed": true,
    "jupyter": {
     "outputs_hidden": true
    }
   },
   "outputs": [
    {
     "ename": "NameError",
     "evalue": "name 'folds_fn' is not defined",
     "output_type": "error",
     "traceback": [
      "\u001b[0;31m---------------------------------------------------------------------------\u001b[0m",
      "\u001b[0;31mNameError\u001b[0m                                 Traceback (most recent call last)",
      "\u001b[0;32m<ipython-input-16-09b993832388>\u001b[0m in \u001b[0;36m<module>\u001b[0;34m\u001b[0m\n\u001b[0;32m----> 1\u001b[0;31m \u001b[0;32mif\u001b[0m \u001b[0;32mnot\u001b[0m \u001b[0;34m(\u001b[0m\u001b[0mPANDA_PATH\u001b[0m\u001b[0;34m/\u001b[0m\u001b[0mfolds_fn\u001b[0m\u001b[0;34m)\u001b[0m\u001b[0;34m.\u001b[0m\u001b[0mexists\u001b[0m\u001b[0;34m(\u001b[0m\u001b[0;34m)\u001b[0m\u001b[0;34m:\u001b[0m\u001b[0;34m\u001b[0m\u001b[0;34m\u001b[0m\u001b[0m\n\u001b[0m\u001b[1;32m      2\u001b[0m     \u001b[0mtrain_labels\u001b[0m \u001b[0;34m=\u001b[0m \u001b[0mfolds\u001b[0m\u001b[0;34m[\u001b[0m\u001b[0mCFG\u001b[0m\u001b[0;34m.\u001b[0m\u001b[0mtarget_col\u001b[0m\u001b[0;34m]\u001b[0m\u001b[0;34m.\u001b[0m\u001b[0mvalues\u001b[0m\u001b[0;34m\u001b[0m\u001b[0;34m\u001b[0m\u001b[0m\n\u001b[1;32m      3\u001b[0m     \u001b[0mkf\u001b[0m \u001b[0;34m=\u001b[0m \u001b[0mStratifiedKFold\u001b[0m\u001b[0;34m(\u001b[0m\u001b[0mn_splits\u001b[0m\u001b[0;34m=\u001b[0m\u001b[0mCFG\u001b[0m\u001b[0;34m.\u001b[0m\u001b[0mn_fold\u001b[0m\u001b[0;34m,\u001b[0m \u001b[0mshuffle\u001b[0m\u001b[0;34m=\u001b[0m\u001b[0;32mTrue\u001b[0m\u001b[0;34m,\u001b[0m \u001b[0mrandom_state\u001b[0m\u001b[0;34m=\u001b[0m\u001b[0mCFG\u001b[0m\u001b[0;34m.\u001b[0m\u001b[0mseed\u001b[0m\u001b[0;34m)\u001b[0m\u001b[0;34m\u001b[0m\u001b[0;34m\u001b[0m\u001b[0m\n\u001b[1;32m      4\u001b[0m     \u001b[0;32mfor\u001b[0m \u001b[0mfold\u001b[0m\u001b[0;34m,\u001b[0m \u001b[0;34m(\u001b[0m\u001b[0mtrain_index\u001b[0m\u001b[0;34m,\u001b[0m \u001b[0mval_index\u001b[0m\u001b[0;34m)\u001b[0m \u001b[0;32min\u001b[0m \u001b[0menumerate\u001b[0m\u001b[0;34m(\u001b[0m\u001b[0mkf\u001b[0m\u001b[0;34m.\u001b[0m\u001b[0msplit\u001b[0m\u001b[0;34m(\u001b[0m\u001b[0mfolds\u001b[0m\u001b[0;34m.\u001b[0m\u001b[0mvalues\u001b[0m\u001b[0;34m,\u001b[0m \u001b[0mtrain_labels\u001b[0m\u001b[0;34m)\u001b[0m\u001b[0;34m)\u001b[0m\u001b[0;34m:\u001b[0m\u001b[0;34m\u001b[0m\u001b[0;34m\u001b[0m\u001b[0m\n\u001b[1;32m      5\u001b[0m         \u001b[0mfolds\u001b[0m\u001b[0;34m.\u001b[0m\u001b[0mloc\u001b[0m\u001b[0;34m[\u001b[0m\u001b[0mval_index\u001b[0m\u001b[0;34m,\u001b[0m \u001b[0;34m'fold'\u001b[0m\u001b[0;34m]\u001b[0m \u001b[0;34m=\u001b[0m \u001b[0mint\u001b[0m\u001b[0;34m(\u001b[0m\u001b[0mfold\u001b[0m\u001b[0;34m)\u001b[0m\u001b[0;34m\u001b[0m\u001b[0;34m\u001b[0m\u001b[0m\n",
      "\u001b[0;31mNameError\u001b[0m: name 'folds_fn' is not defined"
     ]
    }
   ],
   "source": [
    "if not (PANDA_PATH/folds_fn).exists():\n",
    "    train_labels = folds[CFG.target_col].values\n",
    "    kf = StratifiedKFold(n_splits=CFG.n_fold, shuffle=True, random_state=CFG.seed)\n",
    "    for fold, (train_index, val_index) in enumerate(kf.split(folds.values, train_labels)):\n",
    "        folds.loc[val_index, 'fold'] = int(fold)\n",
    "    folds['fold'] = folds['fold'].astype(int)\n",
    "    folds.to_csv(PANDA_PATH/folds_fn, index=None)\n",
    "    folds.head()"
   ]
  },
  {
   "cell_type": "code",
   "execution_count": 15,
   "metadata": {},
   "outputs": [],
   "source": [
    "# Here use existing (folds_dedup is folds_cleaned + dropped duplicates)\n",
    "# See corresponding notebooks: Suspicious_Input for cleaning\n",
    "# and Find_Drop_Duplicates for duplicates"
   ]
  },
  {
   "cell_type": "code",
   "execution_count": 17,
   "metadata": {},
   "outputs": [],
   "source": [
    "if CFG.debug:\n",
    "    folds = pd.read_csv(PANDA_PATH/\"folds_db.csv\")\n",
    "else:\n",
    "    folds = pd.read_csv(PANDA_PATH/\"folds_dedup.csv\")"
   ]
  },
  {
   "cell_type": "code",
   "execution_count": 18,
   "metadata": {},
   "outputs": [
    {
     "name": "stdout",
     "output_type": "stream",
     "text": [
      "<class 'pandas.core.frame.DataFrame'>\n",
      "RangeIndex: 10061 entries, 0 to 10060\n",
      "Data columns (total 5 columns):\n",
      " #   Column         Non-Null Count  Dtype \n",
      "---  ------         --------------  ----- \n",
      " 0   image_id       10061 non-null  object\n",
      " 1   data_provider  10061 non-null  object\n",
      " 2   isup_grade     10061 non-null  int64 \n",
      " 3   gleason_score  10061 non-null  object\n",
      " 4   fold           10061 non-null  int64 \n",
      "dtypes: int64(2), object(3)\n",
      "memory usage: 393.1+ KB\n"
     ]
    }
   ],
   "source": [
    "folds.info()"
   ]
  },
  {
   "cell_type": "code",
   "execution_count": 19,
   "metadata": {},
   "outputs": [],
   "source": [
    "# folds = folds.sample(200)"
   ]
  },
  {
   "cell_type": "markdown",
   "metadata": {},
   "source": [
    "### Init Data"
   ]
  },
  {
   "cell_type": "code",
   "execution_count": 20,
   "metadata": {},
   "outputs": [],
   "source": [
    "# get folds (all experiments validated on fold 0)\n",
    "train_df = folds[folds[\"fold\"] != 0].copy()\n",
    "val_df = folds[folds[\"fold\"] == 0].copy()\n",
    "\n",
    "# define datasets\n",
    "if CFG.dataset == \"lazy\":\n",
    "    train_ds = LazyTilesDataset(train_df, transform=get_transforms(data=\"train\", aug=CFG.aug_type), debug=False)\n",
    "    val_ds = TilesTrainDataset(val_df, is_train=False, transform=get_transforms(data=\"valid\"), debug=False) # same allways to compare with previous results\n",
    "elif CFG.dataset == \"tiles\":\n",
    "    train_ds = TilesTrainDataset(train_df, transform=get_transforms(data=\"train\", aug=CFG.aug_type), debug=False, aux_tile=CFG.aux_tile)\n",
    "    val_ds = TilesTrainDataset(val_df, is_train=False, transform=get_transforms(data=\"valid\"), debug=False, aux_tile=CFG.aux_tile)\n",
    "elif CFG.dataset == \"patch\":\n",
    "    train_ds = PatchTrainDataset(train_df, transform=get_transforms(data=\"train\", aug=CFG.aug_type), debug=False)\n",
    "    val_ds = PatchTrainDataset(val_df, is_train=False, debug=False)\n",
    "elif CFG.dataset == \"hdf5\":\n",
    "    train_ds = H5PatchDataset(file_path=PANDA_PATH / \"hdf5\", fnames=[\"patch256x16x1_fold_1.h5\", \"patch256x16x1_fold_2.h5\", \"patch256x16x1_fold_3.h5\"])\n",
    "    val_ds = H5PatchDataset(file_path=PANDA_PATH / \"hdf5\", fnames=[\"patch256x16x1_fold_0.h5\"])\n",
    "else:\n",
    "    print(f\"No such dataset {CFG.dataset}\")\n",
    "    \n",
    "# define a data loader\n",
    "if CFG.dataset == \"hdf5\":\n",
    "    # use specific sampler (so not to load hdf5 files to memory too frequently)\n",
    "    sampler = SeqenceRandomSampler(len(train_ds), train_ds._common_len)\n",
    "    train_dataloader = DataLoader(train_ds, batch_size=CFG.batch_size, sampler=sampler, num_workers=min(CFG.batch_size, 8), pin_memory=True)\n",
    "    val_dataloader = DataLoader(val_ds, batch_size=CFG.batch_size, shuffle=False, num_workers=min(CFG.batch_size, 8), pin_memory=True)\n",
    "else:\n",
    "    train_dataloader = DataLoader(train_ds, batch_size=CFG.batch_size, shuffle=True, num_workers=min(CFG.batch_size+2, 6), pin_memory=True)\n",
    "    val_dataloader = DataLoader(val_ds, batch_size=CFG.batch_size, shuffle=False, num_workers=min(CFG.batch_size+2, 6), pin_memory=False)"
   ]
  },
  {
   "cell_type": "markdown",
   "metadata": {},
   "source": [
    "### Init Functions"
   ]
  },
  {
   "cell_type": "code",
   "execution_count": 21,
   "metadata": {},
   "outputs": [],
   "source": [
    "def init_model(train_df=train_df, arch=CFG.arch, pre_init_fc_bias=CFG.pre_init_fc_bias, pretrained=True):\n",
    "    # For now only torchvision models ok for attention\n",
    "    if CFG.att:\n",
    "        assert arch in [\"resnet50\", \"resnet34\"]\n",
    "    \n",
    "    # MIL variant\n",
    "    if CFG.dataset == \"patch\":\n",
    "        if arch == \"efnet\":\n",
    "            model_ft = PatchEnetModel(backbone=CFG.enet_bone, pretrained=pretrained)\n",
    "        elif arch == \"bitM\":\n",
    "            model_ft = PatchBiTModel(pretrained=pretrained)\n",
    "        else:\n",
    "            if CFG.att:\n",
    "                model_ft = AttentionModel(arch=arch, pretrained=pretrained)\n",
    "            else:\n",
    "                model_ft = PatchModel(arch=arch, pretrained=pretrained)\n",
    "            if pre_init_fc_bias:\n",
    "                if CFG.loss in [\"cce\", \"ls_soft_ce\", \"ohem\"]:\n",
    "                    # initialize bias in the model\n",
    "                    cls_probas = (train_df[CFG.target_col].value_counts() / len(train_df)).values\n",
    "                    model_ft = init_last_layer_bias(model_ft, cls_probas)\n",
    "    # Stitched Tiles variant\n",
    "    elif CFG.dataset == \"tiles\":\n",
    "        if arch in [\"resnet50\", \"resnet34\"]:\n",
    "            model_ft = TilesModel(arch=arch, pretrained=pretrained)\n",
    "        else:\n",
    "            print(f\"Tiles model for {arch} is not yet implemented!\")\n",
    "    \n",
    "    return model_ft\n",
    "\n",
    "\n",
    "def init_optimizer(model_ft):\n",
    "    if CFG.finetune == \"1stage\":\n",
    "        freeze_botom(model_ft)\n",
    "        interm_params = [\n",
    "            p[1]\n",
    "            for p in model_ft.named_parameters()\n",
    "            if (not p[0].startswith(\"fc\") and p[1].requires_grad)\n",
    "        ]\n",
    "        if CFG.optim == \"adam\":\n",
    "            optimizer = torch.optim.Adam(\n",
    "                [\n",
    "                    {\"params\": interm_params, \"lr\": CFG.lr},\n",
    "                    {\"params\": model_ft.fc.parameters(), \"lr\": CFG.lr * 10},\n",
    "                ]\n",
    "            )\n",
    "        elif CFG.optim == \"sgd\":\n",
    "            optimizer = torch.optim.SGD(\n",
    "                [\n",
    "                    {\"params\": interm_params, \"lr\": CFG.lr},\n",
    "                    {\"params\": model_ft.fc.parameters(), \"lr\": CFG.lr * 10},\n",
    "                ],\n",
    "                momentum=0.9,\n",
    "                nesterov=True,\n",
    "            )\n",
    "    else:\n",
    "        LR = CFG.lr / 100 if CFG.schedule_type == \"cawr\" else CFG.lr\n",
    "        if CFG.optim == \"adam\":\n",
    "            optimizer = torch.optim.Adam(\n",
    "                model_ft.parameters(), lr=LR, amsgrad=False\n",
    "            )\n",
    "        elif CFG.optim == \"adamw\":\n",
    "            optimizer = torch.optim.AdamW(model_ft.parameters(), lr=LR, \n",
    "                                          weight_decay=CFG.wd)\n",
    "        elif CFG.optim == \"sgd\":\n",
    "            optimizer = torch.optim.SGD(\n",
    "                model_ft.parameters(), lr=LR, momentum=0.9, nesterov=True\n",
    "            )\n",
    "        elif CFG.optim == \"radam\":\n",
    "            optimizer = RAdam(model_ft.parameters(), lr=LR)\n",
    "\n",
    "    return optimizer\n",
    "\n",
    "criterion = LOSSES[CFG.loss]"
   ]
  },
  {
   "cell_type": "markdown",
   "metadata": {},
   "source": [
    "### Debug Runs"
   ]
  },
  {
   "cell_type": "code",
   "execution_count": 23,
   "metadata": {},
   "outputs": [
    {
     "name": "stdout",
     "output_type": "stream",
     "text": [
      "debug: True seed: 1982 img_height: 224 img_width: 224 target_size: 6 img_id_col: image_id target_col: isup_grade tiff_layer: 1 stoch_sample: True num_tiles: 36 tile_sz: 224 batch_size: 8 accum_step: 1 dataset: tiles aux_tile: False aux_tile_sz: 0 aux_tile_num: 0 aug_type: light att: False arch: resnet34 enet_bone: efficientnet-b0 finetune: False model_cls: one_layer pre_init_fc_bias: False ohem: True loss: bce optim: radam lr: 0.0003 wd: 0.01 schedule_type: cawr oc_final_div_factor: 10.0 cawr_T_0: 5 cawr_T_mult: 2 cawr_T_up: 1 cawr_gamma: 1.0 rlopp: 1 resume: False prev_exp: None from_epoch: 0 stage: 0 epoch: 50 n_fold: 4 use_amp: True descript: bce-ohem + rn34 + one cycle + 224x36 tiles + AdamW\n"
     ]
    }
   ],
   "source": [
    "print(\" \".join([f\"{key}: {val}\" for key, val in CFG.__dict__.items() if not key.startswith(\"__\")]))"
   ]
  },
  {
   "cell_type": "code",
   "execution_count": 24,
   "metadata": {
    "collapsed": true,
    "jupyter": {
     "outputs_hidden": true
    }
   },
   "outputs": [
    {
     "name": "stderr",
     "output_type": "stream",
     "text": [
      "Start: 01-07-2020-19-52\n",
      "Epoch 0/34\n",
      "==========\n"
     ]
    },
    {
     "name": "stdout",
     "output_type": "stream",
     "text": [
      "Selected optimization level O2:  FP16 training with FP32 batchnorm and FP32 master weights.\n",
      "\n",
      "Defaults for this optimization level are:\n",
      "enabled                : True\n",
      "opt_level              : O2\n",
      "cast_model_type        : torch.float16\n",
      "patch_torch_functions  : False\n",
      "keep_batchnorm_fp32    : True\n",
      "master_weights         : True\n",
      "loss_scale             : dynamic\n",
      "Processing user overrides (additional kwargs that are not None)...\n",
      "After processing overrides, optimization options are:\n",
      "enabled                : True\n",
      "opt_level              : O2\n",
      "cast_model_type        : torch.float16\n",
      "patch_torch_functions  : False\n",
      "keep_batchnorm_fp32    : True\n",
      "master_weights         : True\n",
      "loss_scale             : dynamic\n",
      "Warning:  multi_tensor_applier fused unscale kernel is unavailable, possibly because apex was installed without --cuda_ext --cpp_ext. Using Python fallback.  Original ImportError was: ModuleNotFoundError(\"No module named 'amp_C'\")\n"
     ]
    },
    {
     "name": "stderr",
     "output_type": "stream",
     "text": [
      "  5%|▌         | 1/20 [00:04<01:19,  4.16s/it]"
     ]
    },
    {
     "name": "stdout",
     "output_type": "stream",
     "text": [
      "Gradient overflow.  Skipping step, loss scaler 0 reducing loss scale to 32768.0\n"
     ]
    },
    {
     "name": "stderr",
     "output_type": "stream",
     "text": [
      " 10%|█         | 2/20 [00:04<00:55,  3.10s/it]"
     ]
    },
    {
     "name": "stdout",
     "output_type": "stream",
     "text": [
      "Gradient overflow.  Skipping step, loss scaler 0 reducing loss scale to 16384.0\n"
     ]
    },
    {
     "name": "stderr",
     "output_type": "stream",
     "text": [
      "/pytorch/torch/csrc/utils/python_arg_parser.cpp:756: UserWarning: This overload of addcmul_ is deprecated:\n",
      "\taddcmul_(Number value, Tensor tensor1, Tensor tensor2)\n",
      "Consider using one of the following signatures instead:\n",
      "\taddcmul_(Tensor tensor1, Tensor tensor2, *, Number value)\n",
      "100%|██████████| 20/20 [00:15<00:00,  1.32it/s]\n",
      "100%|██████████| 6/6 [00:03<00:00,  1.77it/s]\n",
      "Training Loss: 1.2113\tValidation Loss: 0.5695\n",
      "Counter train preds: Counter({3: 97, 2: 36, 4: 21, 1: 1})\tCounter val preds: Counter({2: 37, 3: 7, 1: 1})\n",
      "Epoch train QWK: -0.022\tval QWK: 0.125\n",
      "  Epoch 0 - Save Best Loss: 0.5695 Model\n",
      "  Epoch 0 - Save Best QWK: 0.1245 Model\n"
     ]
    },
    {
     "name": "stdout",
     "output_type": "stream",
     "text": [
      "Normalized confusion matrix\n",
      "[[0.         0.         0.90909091 0.09090909 0.         0.        ]\n",
      " [0.         0.07692308 0.84615385 0.07692308 0.         0.        ]\n",
      " [0.         0.         0.81818182 0.18181818 0.         0.        ]\n",
      " [0.         0.         0.75       0.25       0.         0.        ]\n",
      " [0.         0.         0.8        0.2        0.         0.        ]\n",
      " [0.         0.         0.         1.         0.         0.        ]]\n"
     ]
    },
    {
     "name": "stderr",
     "output_type": "stream",
     "text": [
      "Epoch 1/34\n",
      "==========\n"
     ]
    },
    {
     "name": "stdout",
     "output_type": "stream",
     "text": [
      "Normalized confusion matrix\n",
      "[[0.         0.         0.90909091 0.09090909 0.         0.        ]\n",
      " [0.         0.07692308 0.84615385 0.07692308 0.         0.        ]\n",
      " [0.         0.         0.81818182 0.18181818 0.         0.        ]\n",
      " [0.         0.         0.75       0.25       0.         0.        ]\n",
      " [0.         0.         0.8        0.2        0.         0.        ]\n",
      " [0.         0.         0.         1.         0.         0.        ]]\n"
     ]
    },
    {
     "name": "stderr",
     "output_type": "stream",
     "text": [
      "100%|██████████| 20/20 [00:13<00:00,  1.45it/s]\n",
      "100%|██████████| 6/6 [00:03<00:00,  1.65it/s]\n",
      "Training Loss: 0.7313\tValidation Loss: 0.4664\n",
      "Counter train preds: Counter({2: 88, 1: 46, 3: 21})\tCounter val preds: Counter({2: 27, 1: 10, 3: 6, 0: 1, 4: 1})\n",
      "Epoch train QWK: 0.153\tval QWK: 0.386\n",
      "  Epoch 1 - Save Best Loss: 0.4664 Model\n",
      "  Epoch 1 - Save Best QWK: 0.3863 Model\n"
     ]
    },
    {
     "name": "stdout",
     "output_type": "stream",
     "text": [
      "Normalized confusion matrix\n",
      "[[0.09090909 0.45454545 0.45454545 0.         0.         0.        ]\n",
      " [0.         0.23076923 0.53846154 0.23076923 0.         0.        ]\n",
      " [0.         0.18181818 0.72727273 0.09090909 0.         0.        ]\n",
      " [0.         0.         0.75       0.25       0.         0.        ]\n",
      " [0.         0.         0.8        0.2        0.         0.        ]\n",
      " [0.         0.         0.         0.         1.         0.        ]]\n"
     ]
    },
    {
     "name": "stderr",
     "output_type": "stream",
     "text": [
      "Epoch 2/34\n",
      "==========\n"
     ]
    },
    {
     "name": "stdout",
     "output_type": "stream",
     "text": [
      "Normalized confusion matrix\n",
      "[[0.09090909 0.45454545 0.45454545 0.         0.         0.        ]\n",
      " [0.         0.23076923 0.53846154 0.23076923 0.         0.        ]\n",
      " [0.         0.18181818 0.72727273 0.09090909 0.         0.        ]\n",
      " [0.         0.         0.75       0.25       0.         0.        ]\n",
      " [0.         0.         0.8        0.2        0.         0.        ]\n",
      " [0.         0.         0.         0.         1.         0.        ]]\n"
     ]
    },
    {
     "name": "stderr",
     "output_type": "stream",
     "text": [
      "100%|██████████| 20/20 [00:14<00:00,  1.39it/s]\n",
      "100%|██████████| 6/6 [00:03<00:00,  1.66it/s]\n",
      "Training Loss: 0.6117\tValidation Loss: 0.5048\n",
      "Counter train preds: Counter({1: 62, 2: 61, 3: 30, 0: 2})\tCounter val preds: Counter({3: 18, 2: 18, 1: 7, 0: 1, 4: 1})\n",
      "Epoch train QWK: 0.409\tval QWK: 0.385\n",
      "Epoch 3/34\n",
      "==========\n",
      "100%|██████████| 20/20 [00:13<00:00,  1.54it/s]\n",
      "100%|██████████| 6/6 [00:03<00:00,  1.81it/s]\n",
      "Training Loss: 0.5338\tValidation Loss: 0.4780\n",
      "Counter train preds: Counter({2: 62, 1: 47, 3: 40, 4: 5, 0: 1})\tCounter val preds: Counter({2: 19, 3: 15, 1: 9, 0: 1, 4: 1})\n",
      "Epoch train QWK: 0.517\tval QWK: 0.338\n",
      "Epoch 4/34\n",
      "==========\n",
      "100%|██████████| 20/20 [00:14<00:00,  1.37it/s]\n",
      "100%|██████████| 6/6 [00:03<00:00,  1.85it/s]\n",
      "Training Loss: 0.5284\tValidation Loss: 0.4770\n",
      "Counter train preds: Counter({2: 61, 1: 54, 3: 34, 4: 5, 0: 1})\tCounter val preds: Counter({2: 21, 3: 11, 1: 11, 0: 1, 4: 1})\n",
      "Epoch train QWK: 0.536\tval QWK: 0.400\n",
      "  Epoch 4 - Save Best QWK: 0.4000 Model\n",
      "Epoch 5/34\n",
      "==========\n"
     ]
    },
    {
     "name": "stdout",
     "output_type": "stream",
     "text": [
      "Normalized confusion matrix\n",
      "[[0.09090909 0.54545455 0.27272727 0.09090909 0.         0.        ]\n",
      " [0.         0.23076923 0.46153846 0.30769231 0.         0.        ]\n",
      " [0.         0.18181818 0.63636364 0.18181818 0.         0.        ]\n",
      " [0.         0.         0.25       0.75       0.         0.        ]\n",
      " [0.         0.         0.8        0.2        0.         0.        ]\n",
      " [0.         0.         0.         0.         1.         0.        ]]\n"
     ]
    },
    {
     "name": "stderr",
     "output_type": "stream",
     "text": [
      "100%|██████████| 20/20 [00:14<00:00,  1.36it/s]\n",
      "100%|██████████| 6/6 [00:03<00:00,  1.72it/s]\n",
      "Training Loss: 0.5473\tValidation Loss: 0.4791\n",
      "Counter train preds: Counter({1: 65, 2: 54, 3: 29, 4: 6, 0: 1})\tCounter val preds: Counter({2: 17, 3: 14, 1: 10, 4: 2, 0: 2})\n",
      "Epoch train QWK: 0.549\tval QWK: 0.489\n",
      "  Epoch 5 - Save Best QWK: 0.4895 Model\n",
      "Epoch 6/34\n",
      "==========\n"
     ]
    },
    {
     "name": "stdout",
     "output_type": "stream",
     "text": [
      "Normalized confusion matrix\n",
      "[[0.09090909 0.54545455 0.36363636 0.         0.         0.        ]\n",
      " [0.         0.23076923 0.38461538 0.38461538 0.         0.        ]\n",
      " [0.09090909 0.09090909 0.45454545 0.36363636 0.         0.        ]\n",
      " [0.         0.         0.25       0.75       0.         0.        ]\n",
      " [0.         0.         0.4        0.4        0.2        0.        ]\n",
      " [0.         0.         0.         0.         1.         0.        ]]\n"
     ]
    },
    {
     "name": "stderr",
     "output_type": "stream",
     "text": [
      "100%|██████████| 20/20 [00:14<00:00,  1.41it/s]\n",
      "100%|██████████| 6/6 [00:03<00:00,  1.82it/s]\n",
      "Training Loss: 0.4666\tValidation Loss: 0.5216\n",
      "Counter train preds: Counter({1: 67, 2: 42, 3: 29, 0: 9, 4: 8})\tCounter val preds: Counter({3: 18, 2: 12, 1: 8, 4: 6, 0: 1})\n",
      "Epoch train QWK: 0.631\tval QWK: 0.338\n",
      "Epoch 7/34\n",
      "==========\n",
      "100%|██████████| 20/20 [00:17<00:00,  1.17it/s]\n",
      "100%|██████████| 6/6 [00:03<00:00,  1.77it/s]\n",
      "Training Loss: 0.4753\tValidation Loss: 0.4521\n",
      "Counter train preds: Counter({1: 60, 2: 46, 3: 29, 0: 9, 4: 9, 5: 2})\tCounter val preds: Counter({2: 21, 1: 14, 3: 7, 4: 3})\n",
      "Epoch train QWK: 0.647\tval QWK: 0.354\n",
      "  Epoch 7 - Save Best Loss: 0.4521 Model\n",
      "Epoch 8/34\n",
      "==========\n"
     ]
    },
    {
     "name": "stdout",
     "output_type": "stream",
     "text": [
      "Normalized confusion matrix\n",
      "[[0.         0.45454545 0.54545455 0.         0.         0.        ]\n",
      " [0.         0.30769231 0.46153846 0.15384615 0.07692308 0.        ]\n",
      " [0.         0.27272727 0.63636364 0.09090909 0.         0.        ]\n",
      " [0.         0.25       0.         0.75       0.         0.        ]\n",
      " [0.         0.2        0.4        0.2        0.2        0.        ]\n",
      " [0.         0.         0.         0.         1.         0.        ]]\n"
     ]
    },
    {
     "name": "stderr",
     "output_type": "stream",
     "text": [
      "100%|██████████| 20/20 [00:16<00:00,  1.24it/s]\n",
      "100%|██████████| 6/6 [00:03<00:00,  1.68it/s]\n",
      "Training Loss: 0.3996\tValidation Loss: 0.3822\n",
      "Counter train preds: Counter({1: 63, 2: 47, 3: 23, 4: 12, 0: 7, 5: 3})\tCounter val preds: Counter({2: 17, 1: 15, 3: 10, 0: 2, 4: 1})\n",
      "Epoch train QWK: 0.719\tval QWK: 0.547\n",
      "  Epoch 8 - Save Best Loss: 0.3822 Model\n",
      "  Epoch 8 - Save Best QWK: 0.5470 Model\n"
     ]
    },
    {
     "name": "stdout",
     "output_type": "stream",
     "text": [
      "Normalized confusion matrix\n",
      "[[0.09090909 0.63636364 0.27272727 0.         0.         0.        ]\n",
      " [0.         0.46153846 0.46153846 0.07692308 0.         0.        ]\n",
      " [0.09090909 0.09090909 0.54545455 0.27272727 0.         0.        ]\n",
      " [0.         0.         0.25       0.75       0.         0.        ]\n",
      " [0.         0.2        0.2        0.6        0.         0.        ]\n",
      " [0.         0.         0.         0.         1.         0.        ]]\n"
     ]
    },
    {
     "name": "stderr",
     "output_type": "stream",
     "text": [
      "Epoch 9/34\n",
      "==========\n"
     ]
    },
    {
     "name": "stdout",
     "output_type": "stream",
     "text": [
      "Normalized confusion matrix\n",
      "[[0.09090909 0.63636364 0.27272727 0.         0.         0.        ]\n",
      " [0.         0.46153846 0.46153846 0.07692308 0.         0.        ]\n",
      " [0.09090909 0.09090909 0.54545455 0.27272727 0.         0.        ]\n",
      " [0.         0.         0.25       0.75       0.         0.        ]\n",
      " [0.         0.2        0.2        0.6        0.         0.        ]\n",
      " [0.         0.         0.         0.         1.         0.        ]]\n"
     ]
    },
    {
     "name": "stderr",
     "output_type": "stream",
     "text": [
      "100%|██████████| 20/20 [00:13<00:00,  1.43it/s]\n",
      "100%|██████████| 6/6 [00:03<00:00,  1.52it/s]\n",
      "Training Loss: 0.3443\tValidation Loss: 0.4135\n",
      "Counter train preds: Counter({1: 61, 2: 42, 3: 21, 4: 16, 0: 13, 5: 2})\tCounter val preds: Counter({2: 13, 1: 12, 3: 10, 0: 6, 4: 4})\n",
      "Epoch train QWK: 0.766\tval QWK: 0.538\n",
      "Epoch 10/34\n",
      "==========\n",
      "100%|██████████| 20/20 [00:16<00:00,  1.24it/s]\n",
      "100%|██████████| 6/6 [00:03<00:00,  1.65it/s]\n",
      "Training Loss: 0.3211\tValidation Loss: 0.3954\n",
      "Counter train preds: Counter({1: 65, 3: 28, 2: 26, 0: 20, 4: 13, 5: 3})\tCounter val preds: Counter({1: 17, 2: 16, 3: 10, 0: 1, 5: 1})\n",
      "Epoch train QWK: 0.815\tval QWK: 0.553\n",
      "  Epoch 10 - Save Best QWK: 0.5527 Model\n",
      "Epoch 11/34\n",
      "==========\n"
     ]
    },
    {
     "name": "stdout",
     "output_type": "stream",
     "text": [
      "Normalized confusion matrix\n",
      "[[0.09090909 0.63636364 0.27272727 0.         0.         0.        ]\n",
      " [0.         0.38461538 0.46153846 0.15384615 0.         0.        ]\n",
      " [0.         0.36363636 0.45454545 0.18181818 0.         0.        ]\n",
      " [0.         0.         0.25       0.75       0.         0.        ]\n",
      " [0.         0.2        0.2        0.6        0.         0.        ]\n",
      " [0.         0.         0.         0.         0.         1.        ]]\n"
     ]
    },
    {
     "name": "stderr",
     "output_type": "stream",
     "text": [
      "100%|██████████| 20/20 [00:13<00:00,  1.46it/s]\n",
      "100%|██████████| 6/6 [00:03<00:00,  1.84it/s]\n",
      "Training Loss: 0.3685\tValidation Loss: 0.3964\n",
      "Counter train preds: Counter({1: 56, 2: 36, 0: 22, 3: 22, 4: 15, 5: 4})\tCounter val preds: Counter({1: 21, 2: 13, 3: 6, 4: 3, 0: 2})\n",
      "Epoch train QWK: 0.786\tval QWK: 0.597\n",
      "  Epoch 11 - Save Best QWK: 0.5972 Model\n",
      "Epoch 12/34\n",
      "==========\n"
     ]
    },
    {
     "name": "stdout",
     "output_type": "stream",
     "text": [
      "Normalized confusion matrix\n",
      "[[0.09090909 0.72727273 0.18181818 0.         0.         0.        ]\n",
      " [0.         0.69230769 0.15384615 0.15384615 0.         0.        ]\n",
      " [0.09090909 0.27272727 0.54545455 0.09090909 0.         0.        ]\n",
      " [0.         0.         0.5        0.5        0.         0.        ]\n",
      " [0.         0.2        0.2        0.2        0.4        0.        ]\n",
      " [0.         0.         0.         0.         1.         0.        ]]\n"
     ]
    },
    {
     "name": "stderr",
     "output_type": "stream",
     "text": [
      "100%|██████████| 20/20 [00:14<00:00,  1.38it/s]\n",
      "100%|██████████| 6/6 [00:03<00:00,  1.82it/s]\n",
      "Training Loss: 0.2705\tValidation Loss: 0.4307\n",
      "Counter train preds: Counter({1: 67, 2: 30, 3: 20, 4: 17, 0: 17, 5: 4})\tCounter val preds: Counter({2: 14, 1: 12, 3: 11, 4: 6, 0: 1, 5: 1})\n",
      "Epoch train QWK: 0.843\tval QWK: 0.499\n",
      "Epoch 13/34\n",
      "==========\n",
      "100%|██████████| 20/20 [00:12<00:00,  1.56it/s]\n",
      "100%|██████████| 6/6 [00:03<00:00,  1.85it/s]\n",
      "Training Loss: 0.2346\tValidation Loss: 0.3987\n",
      "Counter train preds: Counter({1: 60, 2: 32, 3: 21, 4: 21, 0: 19, 5: 2})\tCounter val preds: Counter({1: 16, 2: 13, 3: 9, 4: 5, 0: 1, 5: 1})\n",
      "Epoch train QWK: 0.879\tval QWK: 0.563\n",
      "Epoch 14/34\n",
      "==========\n",
      "100%|██████████| 20/20 [00:14<00:00,  1.42it/s]\n",
      "100%|██████████| 6/6 [00:03<00:00,  1.72it/s]\n",
      "Training Loss: 0.2177\tValidation Loss: 0.4026\n",
      "Counter train preds: Counter({1: 64, 2: 25, 0: 22, 4: 20, 3: 18, 5: 6})\tCounter val preds: Counter({1: 16, 2: 12, 3: 11, 4: 4, 0: 1, 5: 1})\n",
      "Epoch train QWK: 0.899\tval QWK: 0.584\n",
      "Epoch 15/34\n",
      "==========\n",
      "100%|██████████| 20/20 [00:15<00:00,  1.27it/s]\n",
      "100%|██████████| 6/6 [00:03<00:00,  1.84it/s]\n",
      "Training Loss: 0.2526\tValidation Loss: 0.4125\n",
      "Counter train preds: Counter({1: 62, 2: 34, 0: 21, 3: 18, 4: 16, 5: 4})\tCounter val preds: Counter({1: 16, 2: 14, 3: 11, 4: 3, 5: 1})\n",
      "Epoch train QWK: 0.863\tval QWK: 0.561\n",
      "Epoch 16/34\n",
      "==========\n",
      "100%|██████████| 20/20 [00:14<00:00,  1.34it/s]\n",
      "100%|██████████| 6/6 [00:03<00:00,  1.72it/s]\n",
      "Training Loss: 0.2754\tValidation Loss: 0.4484\n",
      "Counter train preds: Counter({1: 60, 2: 30, 0: 21, 3: 19, 4: 19, 5: 6})\tCounter val preds: Counter({2: 15, 3: 14, 1: 12, 0: 2, 4: 1, 5: 1})\n",
      "Epoch train QWK: 0.863\tval QWK: 0.591\n",
      "Epoch 17/34\n",
      "==========\n",
      "100%|██████████| 20/20 [00:14<00:00,  1.39it/s]\n",
      "100%|██████████| 6/6 [00:03<00:00,  1.75it/s]\n",
      "Training Loss: 0.2395\tValidation Loss: 0.4505\n",
      "Counter train preds: Counter({1: 57, 2: 30, 0: 27, 4: 19, 3: 17, 5: 5})\tCounter val preds: Counter({1: 17, 0: 9, 3: 8, 2: 8, 4: 2, 5: 1})\n",
      "Epoch train QWK: 0.888\tval QWK: 0.579\n",
      "Epoch 18/34\n",
      "==========\n",
      "100%|██████████| 20/20 [00:15<00:00,  1.27it/s]\n",
      "100%|██████████| 6/6 [00:03<00:00,  1.80it/s]\n",
      "Training Loss: 0.1825\tValidation Loss: 0.6224\n",
      "Counter train preds: Counter({1: 53, 0: 31, 2: 26, 3: 22, 4: 16, 5: 7})\tCounter val preds: Counter({4: 10, 1: 10, 2: 9, 3: 8, 0: 6, 5: 2})\n",
      "Epoch train QWK: 0.920\tval QWK: 0.529\n",
      "Epoch 19/34\n",
      "==========\n",
      "100%|██████████| 20/20 [00:14<00:00,  1.39it/s]\n",
      "100%|██████████| 6/6 [00:03<00:00,  1.70it/s]\n",
      "Training Loss: 0.2910\tValidation Loss: 0.4999\n",
      "Counter train preds: Counter({1: 54, 0: 35, 3: 22, 2: 20, 4: 15, 5: 9})\tCounter val preds: Counter({2: 13, 1: 12, 3: 10, 4: 4, 0: 4, 5: 2})\n",
      "Epoch train QWK: 0.888\tval QWK: 0.588\n",
      "Epoch 20/34\n",
      "==========\n",
      "100%|██████████| 20/20 [00:14<00:00,  1.36it/s]\n",
      "100%|██████████| 6/6 [00:03<00:00,  1.76it/s]\n",
      "Training Loss: 0.2070\tValidation Loss: 0.3995\n",
      "Counter train preds: Counter({1: 49, 0: 35, 2: 25, 3: 17, 5: 15, 4: 14})\tCounter val preds: Counter({1: 22, 2: 11, 0: 7, 3: 3, 4: 1, 5: 1})\n",
      "Epoch train QWK: 0.907\tval QWK: 0.671\n",
      "  Epoch 20 - Save Best QWK: 0.6707 Model\n",
      "Epoch 21/34\n",
      "==========\n"
     ]
    },
    {
     "name": "stdout",
     "output_type": "stream",
     "text": [
      "Normalized confusion matrix\n",
      "[[0.54545455 0.36363636 0.09090909 0.         0.         0.        ]\n",
      " [0.07692308 0.69230769 0.23076923 0.         0.         0.        ]\n",
      " [0.         0.54545455 0.36363636 0.09090909 0.         0.        ]\n",
      " [0.         0.5        0.5        0.         0.         0.        ]\n",
      " [0.         0.2        0.2        0.4        0.2        0.        ]\n",
      " [0.         0.         0.         0.         0.         1.        ]]\n"
     ]
    },
    {
     "name": "stderr",
     "output_type": "stream",
     "text": [
      "100%|██████████| 20/20 [00:15<00:00,  1.28it/s]\n",
      "100%|██████████| 6/6 [00:03<00:00,  1.79it/s]\n",
      "Training Loss: 0.2328\tValidation Loss: 0.5053\n",
      "Counter train preds: Counter({1: 48, 0: 35, 2: 25, 3: 25, 4: 12, 5: 10})\tCounter val preds: Counter({1: 13, 2: 12, 3: 8, 4: 7, 0: 3, 5: 2})\n",
      "Epoch train QWK: 0.885\tval QWK: 0.540\n",
      "Epoch 22/34\n",
      "==========\n",
      "100%|██████████| 20/20 [00:14<00:00,  1.43it/s]\n",
      "100%|██████████| 6/6 [00:03<00:00,  1.71it/s]\n",
      "Training Loss: 0.1490\tValidation Loss: 0.4902\n",
      "Counter train preds: Counter({1: 50, 0: 37, 2: 24, 3: 21, 4: 16, 5: 7})\tCounter val preds: Counter({1: 18, 2: 11, 0: 9, 3: 4, 4: 3})\n",
      "Epoch train QWK: 0.943\tval QWK: 0.641\n",
      "Epoch 23/34\n",
      "==========\n",
      "100%|██████████| 20/20 [00:14<00:00,  1.39it/s]\n",
      "100%|██████████| 6/6 [00:03<00:00,  1.64it/s]\n",
      "Training Loss: 0.1521\tValidation Loss: 0.4261\n",
      "Counter train preds: Counter({1: 57, 0: 34, 2: 21, 3: 18, 5: 14, 4: 11})\tCounter val preds: Counter({1: 15, 3: 10, 0: 9, 2: 8, 4: 3})\n",
      "Epoch train QWK: 0.942\tval QWK: 0.605\n",
      "Epoch 24/34\n",
      "==========\n",
      "100%|██████████| 20/20 [00:14<00:00,  1.34it/s]\n",
      "100%|██████████| 6/6 [00:03<00:00,  1.72it/s]\n",
      "Training Loss: 0.1211\tValidation Loss: 0.5228\n",
      "Counter train preds: Counter({1: 50, 0: 37, 2: 24, 3: 17, 4: 16, 5: 11})\tCounter val preds: Counter({0: 14, 1: 9, 3: 8, 2: 8, 4: 5, 5: 1})\n",
      "Epoch train QWK: 0.953\tval QWK: 0.621\n",
      "Epoch 25/34\n",
      "==========\n",
      "100%|██████████| 20/20 [00:13<00:00,  1.43it/s]\n",
      "100%|██████████| 6/6 [00:03<00:00,  1.67it/s]\n",
      "Training Loss: 0.0883\tValidation Loss: 0.5196\n",
      "Counter train preds: Counter({1: 48, 0: 42, 3: 19, 2: 19, 4: 14, 5: 13})\tCounter val preds: Counter({2: 13, 1: 10, 3: 9, 4: 6, 0: 4, 5: 3})\n",
      "Epoch train QWK: 0.972\tval QWK: 0.558\n",
      "Epoch 26/34\n",
      "==========\n",
      "100%|██████████| 20/20 [00:15<00:00,  1.26it/s]\n",
      "100%|██████████| 6/6 [00:03<00:00,  1.78it/s]\n",
      "Training Loss: 0.0701\tValidation Loss: 0.4361\n",
      "Counter train preds: Counter({1: 46, 0: 41, 2: 20, 4: 19, 3: 17, 5: 12})\tCounter val preds: Counter({1: 15, 0: 12, 3: 8, 2: 7, 4: 2, 5: 1})\n",
      "Epoch train QWK: 0.983\tval QWK: 0.597\n",
      "Epoch 27/34\n",
      "==========\n",
      "100%|██████████| 20/20 [00:13<00:00,  1.43it/s]\n",
      "100%|██████████| 6/6 [00:03<00:00,  1.62it/s]\n",
      "Training Loss: 0.0631\tValidation Loss: 0.4726\n",
      "Counter train preds: Counter({1: 43, 0: 43, 2: 22, 3: 20, 4: 15, 5: 12})\tCounter val preds: Counter({1: 13, 3: 11, 0: 9, 2: 7, 4: 3, 5: 2})\n",
      "Epoch train QWK: 0.983\tval QWK: 0.608\n",
      "Epoch 28/34\n",
      "==========\n",
      "100%|██████████| 20/20 [00:17<00:00,  1.15it/s]\n",
      "100%|██████████| 6/6 [00:03<00:00,  1.67it/s]\n",
      "Training Loss: 0.0571\tValidation Loss: 0.4690\n",
      "Counter train preds: Counter({1: 46, 0: 42, 2: 21, 3: 17, 5: 17, 4: 12})\tCounter val preds: Counter({1: 15, 2: 11, 3: 8, 0: 7, 4: 4})\n",
      "Epoch train QWK: 0.994\tval QWK: 0.584\n",
      "Epoch 29/34\n",
      "==========\n",
      "100%|██████████| 20/20 [00:13<00:00,  1.44it/s]\n",
      "100%|██████████| 6/6 [00:03<00:00,  1.67it/s]\n",
      "Training Loss: 0.0506\tValidation Loss: 0.4606\n",
      "Counter train preds: Counter({1: 44, 0: 43, 2: 23, 3: 16, 4: 16, 5: 13})\tCounter val preds: Counter({1: 15, 3: 9, 2: 9, 0: 7, 4: 4, 5: 1})\n",
      "Epoch train QWK: 0.990\tval QWK: 0.581\n",
      "Epoch 30/34\n",
      "==========\n",
      "100%|██████████| 20/20 [00:15<00:00,  1.30it/s]\n",
      "100%|██████████| 6/6 [00:03<00:00,  1.67it/s]\n",
      "Training Loss: 0.0378\tValidation Loss: 0.4510\n",
      "Counter train preds: Counter({0: 44, 1: 43, 2: 20, 3: 19, 5: 16, 4: 13})\tCounter val preds: Counter({1: 15, 2: 11, 3: 8, 0: 6, 5: 3, 4: 2})\n",
      "Epoch train QWK: 0.994\tval QWK: 0.605\n",
      "Epoch 31/34\n",
      "==========\n",
      "100%|██████████| 20/20 [00:14<00:00,  1.36it/s]\n",
      "100%|██████████| 6/6 [00:03<00:00,  1.79it/s]\n",
      "Training Loss: 0.0530\tValidation Loss: 0.4578\n",
      "Counter train preds: Counter({1: 45, 0: 42, 2: 24, 5: 16, 3: 15, 4: 13})\tCounter val preds: Counter({1: 14, 2: 10, 3: 9, 0: 7, 5: 3, 4: 2})\n",
      "Epoch train QWK: 0.987\tval QWK: 0.591\n",
      "Epoch 32/34\n",
      "==========\n",
      "100%|██████████| 20/20 [00:14<00:00,  1.34it/s]\n",
      "100%|██████████| 6/6 [00:03<00:00,  1.74it/s]\n",
      "Training Loss: 0.0394\tValidation Loss: 0.4586\n",
      "Counter train preds: Counter({0: 45, 1: 40, 2: 24, 3: 17, 5: 15, 4: 14})\tCounter val preds: Counter({1: 15, 2: 10, 3: 9, 0: 7, 5: 2, 4: 2})\n",
      "Epoch train QWK: 0.994\tval QWK: 0.638\n",
      "Epoch 33/34\n",
      "==========\n",
      "100%|██████████| 20/20 [00:13<00:00,  1.54it/s]\n",
      "100%|██████████| 6/6 [00:03<00:00,  1.85it/s]\n",
      "Training Loss: 0.0501\tValidation Loss: 0.4564\n",
      "Counter train preds: Counter({1: 46, 0: 42, 2: 22, 3: 16, 5: 15, 4: 14})\tCounter val preds: Counter({1: 14, 2: 10, 3: 9, 0: 8, 5: 2, 4: 2})\n",
      "Epoch train QWK: 0.993\tval QWK: 0.649\n",
      "Epoch 34/34\n",
      "==========\n",
      "100%|██████████| 20/20 [00:15<00:00,  1.30it/s]\n",
      "100%|██████████| 6/6 [00:03<00:00,  1.84it/s]\n",
      "Training Loss: 0.0408\tValidation Loss: 0.4612\n",
      "Counter train preds: Counter({1: 44, 0: 44, 2: 21, 3: 17, 5: 16, 4: 13})\tCounter val preds: Counter({1: 14, 3: 9, 2: 9, 0: 8, 4: 3, 5: 2})\n",
      "Epoch train QWK: 0.998\tval QWK: 0.589\n",
      "Finish: 01-07-2020-20-03\n"
     ]
    }
   ],
   "source": [
    "logging.info(f'Start: {datetime.now().strftime(\"%d-%m-%Y-%H-%M\")}')\n",
    "model_ft = init_model()\n",
    "optimizer = init_optimizer(model_ft)\n",
    "    \n",
    "scheduler, sch_is_epoch_type = get_scheduler(optimizer, train_dataloader)\n",
    "\n",
    "_ = train_eval_loop(train_dataloader, val_dataloader, model_ft, optimizer, criterion, num_epochs=35)\n",
    "logging.info(f'Finish: {datetime.now().strftime(\"%d-%m-%Y-%H-%M\")}')"
   ]
  },
  {
   "cell_type": "markdown",
   "metadata": {},
   "source": [
    "### Experiment Run"
   ]
  },
  {
   "cell_type": "markdown",
   "metadata": {
    "toc-hr-collapsed": true,
    "toc-nb-collapsed": true
   },
   "source": [
    "#### Learning Rate Finder"
   ]
  },
  {
   "cell_type": "code",
   "execution_count": 17,
   "metadata": {
    "collapsed": true,
    "jupyter": {
     "outputs_hidden": true
    }
   },
   "outputs": [
    {
     "name": "stdout",
     "output_type": "stream",
     "text": [
      "Selected optimization level O1:  Insert automatic casts around Pytorch functions and Tensor methods.\n",
      "\n",
      "Defaults for this optimization level are:\n",
      "enabled                : True\n",
      "opt_level              : O1\n",
      "cast_model_type        : None\n",
      "patch_torch_functions  : True\n",
      "keep_batchnorm_fp32    : None\n",
      "master_weights         : None\n",
      "loss_scale             : dynamic\n",
      "Processing user overrides (additional kwargs that are not None)...\n",
      "After processing overrides, optimization options are:\n",
      "enabled                : True\n",
      "opt_level              : O1\n",
      "cast_model_type        : None\n",
      "patch_torch_functions  : True\n",
      "keep_batchnorm_fp32    : None\n",
      "master_weights         : None\n",
      "loss_scale             : dynamic\n",
      "Warning:  multi_tensor_applier fused unscale kernel is unavailable, possibly because apex was installed without --cuda_ext --cpp_ext. Using Python fallback.  Original ImportError was: ModuleNotFoundError(\"No module named 'amp_C'\")\n"
     ]
    },
    {
     "data": {
      "application/vnd.jupyter.widget-view+json": {
       "model_id": "39527bfec9a5472097e0dcab65b96d62",
       "version_major": 2,
       "version_minor": 0
      },
      "text/plain": [
       "HBox(children=(FloatProgress(value=0.0, max=200.0), HTML(value='')))"
      ]
     },
     "metadata": {},
     "output_type": "display_data"
    },
    {
     "name": "stdout",
     "output_type": "stream",
     "text": [
      "\n",
      "Learning rate search finished. See the graph with {finder_name}.plot()\n"
     ]
    },
    {
     "data": {
      "image/png": "[encoded data removed]",
      "text/plain": [
       "<Figure size 432x288 with 1 Axes>"
      ]
     },
     "metadata": {
      "image/png": {
       "height": 263,
       "width": 401
      },
      "needs_background": "light"
     },
     "output_type": "display_data"
    }
   ],
   "source": [
    "# get folds\n",
    "train_df = folds[folds[\"fold\"] != 0].copy()\n",
    "# define datasets\n",
    "if CFG.dataset == \"lazy\":\n",
    "    train_ds = LazyTilesDataset(train_df, transform=get_transforms(data=\"train\", aug=CFG.aug_type), debug=False)\n",
    "elif CFG.dataset == \"tiles\":\n",
    "    train_ds = TilesTrainDataset(train_df, is_train=CFG.stoch_sample, transform=get_transforms(data=\"train\", aug=CFG.aug_type), debug=False)\n",
    "elif CFG.dataset == \"patch\":\n",
    "    train_ds = PatchTrainDataset(train_df, transform=get_transforms(data=\"train\", aug=CFG.aug_type), debug=False)\n",
    "    \n",
    "# define a data loader\n",
    "train_dataloader = DataLoader(train_ds, batch_size=CFG.batch_size, shuffle=True, num_workers=min(CFG.batch_size, 10), pin_memory=True)\n",
    "\n",
    "model_ft = Model(arch=\"resnet34\")\n",
    "# initialize bias in the model\n",
    "cls_probas = (train_df[CFG.target_col].value_counts() / len(train_df)).values\n",
    "model_ft = init_last_layer_bias(model_ft, cls_probas)\n",
    "model_ft.to(device)\n",
    "\n",
    "criterion = LOSSES[CFG.loss]\n",
    "\n",
    "\n",
    "if CFG.finetune == \"1stage\":\n",
    "    freeze_botom(model_ft)\n",
    "    interm_params = [p[1] for p in model_ft.named_parameters() if (not p[0].startswith('fc') and p[1].requires_grad)]\n",
    "    if CFG.optim == \"adam\":\n",
    "        optimizer = torch.optim.Adam([\n",
    "                    {'params': interm_params, 'lr': CFG.lr},\n",
    "                    {'params': model_ft.fc.parameters(), 'lr': CFG.lr*10}\n",
    "                ])\n",
    "    elif CFG.optim == \"sgd\":\n",
    "        optimizer = torch.optim.SGD([\n",
    "                    {'params': interm_params, 'lr': CFG.lr},\n",
    "                    {'params': model_ft.fc.parameters(), 'lr': CFG.lr*10}\n",
    "            ], momentum=0.9, nesterov=True)\n",
    "else:\n",
    "    if CFG.optim == \"adam\":\n",
    "        optimizer = torch.optim.Adam(model_ft.parameters(), lr=CFG.lr * 1e-4, amsgrad=False)\n",
    "    elif CFG.optim == \"sgd\":\n",
    "        optimizer = torch.optim.SGD(model_ft.parameters(), lr=CFG.lr * 1e-4, momentum=0.9, nesterov=True)\n",
    "    elif CFG.optim == \"radam\":\n",
    "        optimizer = RAdam(model_ft.parameters(), lr=CFG.lr * 1e-4)\n",
    "    \n",
    "if CFG.use_amp:\n",
    "    model_ft, optimizer = amp.initialize(model_ft, optimizer, opt_level='O1')\n",
    "    \n",
    "lr_finder = LRFinder(model_ft, optimizer, criterion, device=device)\n",
    "lr_finder.range_test(train_dataloader, end_lr=1e-2, num_iter=200, step_mode=\"exp\", accumulation_steps=CFG.accum_step)\n",
    "lr_finder.plot()\n",
    "lr_finder.reset()"
   ]
  },
  {
   "cell_type": "markdown",
   "metadata": {},
   "source": [
    "#### Experiment"
   ]
  },
  {
   "cell_type": "code",
   "execution_count": 22,
   "metadata": {},
   "outputs": [
    {
     "name": "stdout",
     "output_type": "stream",
     "text": [
      "debug: False\n",
      " seed: 1982\n",
      " img_height: 224\n",
      " img_width: 224\n",
      " target_size: 6\n",
      " img_id_col: image_id\n",
      " target_col: isup_grade\n",
      " tiff_layer: 1\n",
      " stoch_sample: True\n",
      " num_tiles: 36\n",
      " tile_sz: 224\n",
      " batch_size: 8\n",
      " accum_step: 1\n",
      " dataset: tiles\n",
      " aux_tile: False\n",
      " aux_tile_sz: 0\n",
      " aux_tile_num: 0\n",
      " aug_type: light\n",
      " att: False\n",
      " arch: resnet34\n",
      " enet_bone: efficientnet-b0\n",
      " finetune: False\n",
      " model_cls: one_layer\n",
      " pre_init_fc_bias: False\n",
      " ohem: True\n",
      " loss: bce\n",
      " optim: radam\n",
      " lr: 0.0003\n",
      " wd: 0.01\n",
      " schedule_type: cawr\n",
      " oc_final_div_factor: 10.0\n",
      " cawr_T_0: 10\n",
      " cawr_T_mult: 2\n",
      " cawr_T_up: 1\n",
      " cawr_gamma: 1.0\n",
      " rlopp: 1\n",
      " resume: False\n",
      " prev_exp: None\n",
      " from_epoch: 0\n",
      " stage: 0\n",
      " epoch: 70\n",
      " n_fold: 4\n",
      " use_amp: True\n",
      " descript: bce-ohem + rn34 + one cycle + 224x36 tiles + CAWUR\n",
      "\n"
     ]
    }
   ],
   "source": [
    "print(\" \".join([f\"{key}: {val}\\n\" for key, val in CFG.__dict__.items() if not key.startswith(\"__\")]))"
   ]
  },
  {
   "cell_type": "code",
   "execution_count": 23,
   "metadata": {},
   "outputs": [],
   "source": [
    "writer.add_text(\"Experiment Description:\", CFG.descript)"
   ]
  },
  {
   "cell_type": "code",
   "execution_count": 24,
   "metadata": {},
   "outputs": [],
   "source": [
    "model_ft = init_model()\n",
    "optimizer = init_optimizer(model_ft)"
   ]
  },
  {
   "cell_type": "code",
   "execution_count": 25,
   "metadata": {},
   "outputs": [
    {
     "name": "stderr",
     "output_type": "stream",
     "text": [
      "Start: 01-07-2020-20-18\n",
      "Epoch 0/69\n",
      "==========\n"
     ]
    },
    {
     "name": "stdout",
     "output_type": "stream",
     "text": [
      "Selected optimization level O2:  FP16 training with FP32 batchnorm and FP32 master weights.\n",
      "\n",
      "Defaults for this optimization level are:\n",
      "enabled                : True\n",
      "opt_level              : O2\n",
      "cast_model_type        : torch.float16\n",
      "patch_torch_functions  : False\n",
      "keep_batchnorm_fp32    : True\n",
      "master_weights         : True\n",
      "loss_scale             : dynamic\n",
      "Processing user overrides (additional kwargs that are not None)...\n",
      "After processing overrides, optimization options are:\n",
      "enabled                : True\n",
      "opt_level              : O2\n",
      "cast_model_type        : torch.float16\n",
      "patch_torch_functions  : False\n",
      "keep_batchnorm_fp32    : True\n",
      "master_weights         : True\n",
      "loss_scale             : dynamic\n",
      "Warning:  multi_tensor_applier fused unscale kernel is unavailable, possibly because apex was installed without --cuda_ext --cpp_ext. Using Python fallback.  Original ImportError was: ModuleNotFoundError(\"No module named 'amp_C'\")\n"
     ]
    },
    {
     "name": "stderr",
     "output_type": "stream",
     "text": [
      "  0%|          | 1/943 [00:03<59:45,  3.81s/it]"
     ]
    },
    {
     "name": "stdout",
     "output_type": "stream",
     "text": [
      "Gradient overflow.  Skipping step, loss scaler 0 reducing loss scale to 32768.0\n"
     ]
    },
    {
     "name": "stderr",
     "output_type": "stream",
     "text": [
      "  0%|          | 2/943 [00:04<45:11,  2.88s/it]"
     ]
    },
    {
     "name": "stdout",
     "output_type": "stream",
     "text": [
      "Gradient overflow.  Skipping step, loss scaler 0 reducing loss scale to 16384.0\n"
     ]
    },
    {
     "name": "stderr",
     "output_type": "stream",
     "text": [
      "/pytorch/torch/csrc/utils/python_arg_parser.cpp:756: UserWarning: This overload of addcmul_ is deprecated:\n",
      "\taddcmul_(Number value, Tensor tensor1, Tensor tensor2)\n",
      "Consider using one of the following signatures instead:\n",
      "\taddcmul_(Tensor tensor1, Tensor tensor2, *, Number value)\n",
      "  2%|▏         | 16/943 [00:12<08:38,  1.79it/s]"
     ]
    },
    {
     "name": "stdout",
     "output_type": "stream",
     "text": [
      "Gradient overflow.  Skipping step, loss scaler 0 reducing loss scale to 8192.0\n"
     ]
    },
    {
     "name": "stderr",
     "output_type": "stream",
     "text": [
      "100%|██████████| 943/943 [08:38<00:00,  1.82it/s]\n",
      "100%|██████████| 316/316 [02:25<00:00,  2.17it/s]\n",
      "Training Loss: 0.6741\tValidation Loss: 0.3707\n",
      "Counter train preds: Counter({2: 2516, 1: 2232, 3: 1715, 4: 807, 0: 213, 5: 57})\tCounter val preds: Counter({1: 698, 2: 694, 0: 338, 4: 318, 3: 318, 5: 155})\n",
      "Epoch train QWK: 0.455\tval QWK: 0.706\n",
      "  Epoch 0 - Save Best Loss: 0.3707 Model\n",
      "  Epoch 0 - Save Best QWK: 0.7063 Model\n"
     ]
    },
    {
     "name": "stdout",
     "output_type": "stream",
     "text": [
      "Normalized confusion matrix\n",
      "[[0.3511236  0.40168539 0.19241573 0.0491573  0.00561798 0.        ]\n",
      " [0.11912226 0.43260188 0.40438871 0.03918495 0.00470219 0.        ]\n",
      " [0.02539683 0.22857143 0.46984127 0.20952381 0.06349206 0.0031746 ]\n",
      " [0.00344828 0.09310345 0.24482759 0.25517241 0.33103448 0.07241379]\n",
      " [0.00687285 0.07216495 0.18556701 0.2371134  0.34020619 0.1580756 ]\n",
      " [0.00363636 0.05818182 0.09454545 0.17818182 0.34909091 0.31636364]]\n"
     ]
    },
    {
     "name": "stderr",
     "output_type": "stream",
     "text": [
      "Epoch 1/69\n",
      "==========\n"
     ]
    },
    {
     "name": "stdout",
     "output_type": "stream",
     "text": [
      "Normalized confusion matrix\n",
      "[[0.3511236  0.40168539 0.19241573 0.0491573  0.00561798 0.        ]\n",
      " [0.11912226 0.43260188 0.40438871 0.03918495 0.00470219 0.        ]\n",
      " [0.02539683 0.22857143 0.46984127 0.20952381 0.06349206 0.0031746 ]\n",
      " [0.00344828 0.09310345 0.24482759 0.25517241 0.33103448 0.07241379]\n",
      " [0.00687285 0.07216495 0.18556701 0.2371134  0.34020619 0.1580756 ]\n",
      " [0.00363636 0.05818182 0.09454545 0.17818182 0.34909091 0.31636364]]\n"
     ]
    },
    {
     "name": "stderr",
     "output_type": "stream",
     "text": [
      "100%|██████████| 943/943 [08:15<00:00,  1.90it/s]\n",
      "100%|██████████| 316/316 [02:22<00:00,  2.22it/s]\n",
      "Training Loss: 0.5057\tValidation Loss: 0.4108\n",
      "Counter train preds: Counter({1: 2742, 2: 1940, 3: 1184, 4: 912, 0: 595, 5: 167})\tCounter val preds: Counter({2: 723, 1: 670, 4: 430, 3: 405, 5: 289, 0: 4})\n",
      "Epoch train QWK: 0.664\tval QWK: 0.655\n",
      "Epoch 2/69\n",
      "==========\n",
      "100%|██████████| 943/943 [08:14<00:00,  1.91it/s]\n",
      "100%|██████████| 316/316 [02:22<00:00,  2.22it/s]\n",
      "Training Loss: 0.4576\tValidation Loss: 0.2971\n",
      "Counter train preds: Counter({1: 2803, 2: 1796, 3: 1119, 4: 987, 0: 638, 5: 197})\tCounter val preds: Counter({1: 1082, 2: 475, 4: 418, 3: 336, 0: 140, 5: 70})\n",
      "Epoch train QWK: 0.702\tval QWK: 0.744\n",
      "  Epoch 2 - Save Best Loss: 0.2971 Model\n",
      "  Epoch 2 - Save Best QWK: 0.7439 Model\n"
     ]
    },
    {
     "name": "stdout",
     "output_type": "stream",
     "text": [
      "Normalized confusion matrix\n",
      "[[0.17837079 0.72191011 0.08005618 0.01404494 0.00561798 0.        ]\n",
      " [0.01724138 0.64733542 0.29623824 0.03918495 0.         0.        ]\n",
      " [0.0031746  0.22857143 0.45714286 0.25714286 0.05396825 0.        ]\n",
      " [0.         0.13103448 0.1137931  0.36206897 0.37931034 0.0137931 ]\n",
      " [0.00343643 0.07560137 0.11340206 0.26460481 0.50515464 0.03780069]\n",
      " [0.         0.08363636 0.06909091 0.13818182 0.50909091 0.2       ]]\n"
     ]
    },
    {
     "name": "stderr",
     "output_type": "stream",
     "text": [
      "Epoch 3/69\n",
      "==========\n"
     ]
    },
    {
     "name": "stdout",
     "output_type": "stream",
     "text": [
      "Normalized confusion matrix\n",
      "[[0.17837079 0.72191011 0.08005618 0.01404494 0.00561798 0.        ]\n",
      " [0.01724138 0.64733542 0.29623824 0.03918495 0.         0.        ]\n",
      " [0.0031746  0.22857143 0.45714286 0.25714286 0.05396825 0.        ]\n",
      " [0.         0.13103448 0.1137931  0.36206897 0.37931034 0.0137931 ]\n",
      " [0.00343643 0.07560137 0.11340206 0.26460481 0.50515464 0.03780069]\n",
      " [0.         0.08363636 0.06909091 0.13818182 0.50909091 0.2       ]]\n"
     ]
    },
    {
     "name": "stderr",
     "output_type": "stream",
     "text": [
      "100%|██████████| 943/943 [08:14<00:00,  1.91it/s]\n",
      "100%|██████████| 316/316 [02:21<00:00,  2.23it/s]\n",
      "Training Loss: 0.4307\tValidation Loss: 0.2849\n",
      "Counter train preds: Counter({1: 2660, 2: 1760, 3: 1137, 4: 975, 0: 794, 5: 214})\tCounter val preds: Counter({1: 878, 0: 557, 2: 372, 4: 344, 3: 275, 5: 95})\n",
      "Epoch train QWK: 0.732\tval QWK: 0.795\n",
      "  Epoch 3 - Save Best Loss: 0.2849 Model\n",
      "  Epoch 3 - Save Best QWK: 0.7953 Model\n"
     ]
    },
    {
     "name": "stdout",
     "output_type": "stream",
     "text": [
      "Normalized confusion matrix\n",
      "[[0.63483146 0.33848315 0.02247191 0.00280899 0.00140449 0.        ]\n",
      " [0.11755486 0.69592476 0.17398119 0.01253918 0.         0.        ]\n",
      " [0.04126984 0.32063492 0.43492063 0.17142857 0.03174603 0.        ]\n",
      " [0.02413793 0.14827586 0.16206897 0.4        0.26206897 0.00344828]\n",
      " [0.01718213 0.10309278 0.14089347 0.21649485 0.45704467 0.0652921 ]\n",
      " [0.01818182 0.06909091 0.07272727 0.11636364 0.45090909 0.27272727]]\n"
     ]
    },
    {
     "name": "stderr",
     "output_type": "stream",
     "text": [
      "Epoch 4/69\n",
      "==========\n"
     ]
    },
    {
     "name": "stdout",
     "output_type": "stream",
     "text": [
      "Normalized confusion matrix\n",
      "[[0.63483146 0.33848315 0.02247191 0.00280899 0.00140449 0.        ]\n",
      " [0.11755486 0.69592476 0.17398119 0.01253918 0.         0.        ]\n",
      " [0.04126984 0.32063492 0.43492063 0.17142857 0.03174603 0.        ]\n",
      " [0.02413793 0.14827586 0.16206897 0.4        0.26206897 0.00344828]\n",
      " [0.01718213 0.10309278 0.14089347 0.21649485 0.45704467 0.0652921 ]\n",
      " [0.01818182 0.06909091 0.07272727 0.11636364 0.45090909 0.27272727]]\n"
     ]
    },
    {
     "name": "stderr",
     "output_type": "stream",
     "text": [
      " 32%|███▏      | 304/943 [02:43<05:32,  1.92it/s]"
     ]
    },
    {
     "name": "stdout",
     "output_type": "stream",
     "text": [
      "Gradient overflow.  Skipping step, loss scaler 0 reducing loss scale to 16384.0\n"
     ]
    },
    {
     "name": "stderr",
     "output_type": "stream",
     "text": [
      "100%|██████████| 943/943 [08:16<00:00,  1.90it/s]\n",
      "100%|██████████| 316/316 [02:22<00:00,  2.22it/s]\n",
      "Training Loss: 0.3992\tValidation Loss: 0.2907\n",
      "Counter train preds: Counter({1: 2627, 2: 1650, 4: 1055, 3: 1025, 0: 939, 5: 244})\tCounter val preds: Counter({1: 886, 2: 709, 4: 421, 3: 338, 0: 131, 5: 36})\n",
      "Epoch train QWK: 0.767\tval QWK: 0.747\n",
      "Epoch 5/69\n",
      "==========\n",
      "100%|██████████| 943/943 [08:14<00:00,  1.91it/s]\n",
      "100%|██████████| 316/316 [02:22<00:00,  2.22it/s]\n",
      "Training Loss: 0.3758\tValidation Loss: 0.2718\n",
      "Counter train preds: Counter({1: 2607, 2: 1488, 4: 1106, 0: 1055, 3: 1027, 5: 257})\tCounter val preds: Counter({1: 989, 0: 563, 2: 327, 4: 270, 3: 225, 5: 147})\n",
      "Epoch train QWK: 0.791\tval QWK: 0.808\n",
      "  Epoch 5 - Save Best Loss: 0.2718 Model\n",
      "  Epoch 5 - Save Best QWK: 0.8078 Model\n"
     ]
    },
    {
     "name": "stdout",
     "output_type": "stream",
     "text": [
      "Normalized confusion matrix\n",
      "[[0.68960674 0.29634831 0.01264045 0.         0.00140449 0.        ]\n",
      " [0.07836991 0.82601881 0.09247649 0.0031348  0.         0.        ]\n",
      " [0.01587302 0.47619048 0.37777778 0.0984127  0.03174603 0.        ]\n",
      " [0.03793103 0.16206897 0.23448276 0.33103448 0.20689655 0.02758621]\n",
      " [0.00343643 0.12371134 0.18556701 0.23024055 0.36426117 0.09278351]\n",
      " [0.01818182 0.06545455 0.06545455 0.10545455 0.33818182 0.40727273]]\n"
     ]
    },
    {
     "name": "stderr",
     "output_type": "stream",
     "text": [
      "Epoch 6/69\n",
      "==========\n"
     ]
    },
    {
     "name": "stdout",
     "output_type": "stream",
     "text": [
      "Normalized confusion matrix\n",
      "[[0.68960674 0.29634831 0.01264045 0.         0.00140449 0.        ]\n",
      " [0.07836991 0.82601881 0.09247649 0.0031348  0.         0.        ]\n",
      " [0.01587302 0.47619048 0.37777778 0.0984127  0.03174603 0.        ]\n",
      " [0.03793103 0.16206897 0.23448276 0.33103448 0.20689655 0.02758621]\n",
      " [0.00343643 0.12371134 0.18556701 0.23024055 0.36426117 0.09278351]\n",
      " [0.01818182 0.06545455 0.06545455 0.10545455 0.33818182 0.40727273]]\n"
     ]
    },
    {
     "name": "stderr",
     "output_type": "stream",
     "text": [
      "100%|██████████| 943/943 [08:28<00:00,  1.85it/s]\n",
      "100%|██████████| 316/316 [02:23<00:00,  2.20it/s]\n",
      "Training Loss: 0.3376\tValidation Loss: 0.2410\n",
      "Counter train preds: Counter({1: 2437, 2: 1437, 0: 1255, 4: 1144, 3: 970, 5: 297})\tCounter val preds: Counter({1: 793, 2: 556, 4: 395, 0: 382, 3: 337, 5: 58})\n",
      "Epoch train QWK: 0.825\tval QWK: 0.814\n",
      "  Epoch 6 - Save Best Loss: 0.2410 Model\n",
      "  Epoch 6 - Save Best QWK: 0.8136 Model\n"
     ]
    },
    {
     "name": "stdout",
     "output_type": "stream",
     "text": [
      "Normalized confusion matrix\n",
      "[[0.50140449 0.42696629 0.06320225 0.00561798 0.00280899 0.        ]\n",
      " [0.02664577 0.60188088 0.35266458 0.01724138 0.0015674  0.        ]\n",
      " [0.00952381 0.18730159 0.57460317 0.21269841 0.01587302 0.        ]\n",
      " [0.01034483 0.07586207 0.19655172 0.46206897 0.25517241 0.        ]\n",
      " [0.         0.04467354 0.12371134 0.28178694 0.51890034 0.03092784]\n",
      " [0.00727273 0.04       0.04363636 0.14181818 0.58909091 0.17818182]]\n"
     ]
    },
    {
     "name": "stderr",
     "output_type": "stream",
     "text": [
      "Epoch 7/69\n",
      "==========\n"
     ]
    },
    {
     "name": "stdout",
     "output_type": "stream",
     "text": [
      "Normalized confusion matrix\n",
      "[[0.50140449 0.42696629 0.06320225 0.00561798 0.00280899 0.        ]\n",
      " [0.02664577 0.60188088 0.35266458 0.01724138 0.0015674  0.        ]\n",
      " [0.00952381 0.18730159 0.57460317 0.21269841 0.01587302 0.        ]\n",
      " [0.01034483 0.07586207 0.19655172 0.46206897 0.25517241 0.        ]\n",
      " [0.         0.04467354 0.12371134 0.28178694 0.51890034 0.03092784]\n",
      " [0.00727273 0.04       0.04363636 0.14181818 0.58909091 0.17818182]]\n"
     ]
    },
    {
     "name": "stderr",
     "output_type": "stream",
     "text": [
      " 30%|███       | 283/943 [02:30<05:38,  1.95it/s]"
     ]
    },
    {
     "name": "stdout",
     "output_type": "stream",
     "text": [
      "Gradient overflow.  Skipping step, loss scaler 0 reducing loss scale to 16384.0\n"
     ]
    },
    {
     "name": "stderr",
     "output_type": "stream",
     "text": [
      "100%|██████████| 943/943 [08:14<00:00,  1.91it/s]\n",
      "100%|██████████| 316/316 [02:23<00:00,  2.20it/s]\n",
      "Training Loss: 0.3082\tValidation Loss: 0.2323\n",
      "Counter train preds: Counter({1: 2358, 0: 1416, 2: 1333, 4: 1147, 3: 943, 5: 343})\tCounter val preds: Counter({1: 818, 2: 505, 4: 367, 0: 349, 3: 271, 5: 211})\n",
      "Epoch train QWK: 0.849\tval QWK: 0.844\n",
      "  Epoch 7 - Save Best Loss: 0.2323 Model\n",
      "  Epoch 7 - Save Best QWK: 0.8440 Model\n"
     ]
    },
    {
     "name": "stdout",
     "output_type": "stream",
     "text": [
      "Normalized confusion matrix\n",
      "[[0.4761236  0.46769663 0.04775281 0.00561798 0.00280899 0.        ]\n",
      " [0.01253918 0.62225705 0.3338558  0.02821317 0.0031348  0.        ]\n",
      " [0.0031746  0.13650794 0.57142857 0.24761905 0.03809524 0.0031746 ]\n",
      " [0.00344828 0.06896552 0.15517241 0.33103448 0.39310345 0.04827586]\n",
      " [0.         0.04123711 0.08591065 0.19931271 0.5257732  0.14776632]\n",
      " [0.         0.04727273 0.02909091 0.06181818 0.30545455 0.55636364]]\n"
     ]
    },
    {
     "name": "stderr",
     "output_type": "stream",
     "text": [
      "Epoch 8/69\n",
      "==========\n"
     ]
    },
    {
     "name": "stdout",
     "output_type": "stream",
     "text": [
      "Normalized confusion matrix\n",
      "[[0.4761236  0.46769663 0.04775281 0.00561798 0.00280899 0.        ]\n",
      " [0.01253918 0.62225705 0.3338558  0.02821317 0.0031348  0.        ]\n",
      " [0.0031746  0.13650794 0.57142857 0.24761905 0.03809524 0.0031746 ]\n",
      " [0.00344828 0.06896552 0.15517241 0.33103448 0.39310345 0.04827586]\n",
      " [0.         0.04123711 0.08591065 0.19931271 0.5257732  0.14776632]\n",
      " [0.         0.04727273 0.02909091 0.06181818 0.30545455 0.55636364]]\n"
     ]
    },
    {
     "name": "stderr",
     "output_type": "stream",
     "text": [
      "100%|██████████| 943/943 [08:14<00:00,  1.91it/s]\n",
      "100%|██████████| 316/316 [02:23<00:00,  2.20it/s]\n",
      "Training Loss: 0.2743\tValidation Loss: 0.2153\n",
      "Counter train preds: Counter({1: 2308, 0: 1573, 2: 1232, 4: 1186, 3: 873, 5: 368})\tCounter val preds: Counter({1: 802, 0: 516, 2: 393, 4: 361, 3: 300, 5: 149})\n",
      "Epoch train QWK: 0.877\tval QWK: 0.858\n",
      "  Epoch 8 - Save Best Loss: 0.2153 Model\n",
      "  Epoch 8 - Save Best QWK: 0.8576 Model\n"
     ]
    },
    {
     "name": "stdout",
     "output_type": "stream",
     "text": [
      "Normalized confusion matrix\n",
      "[[0.6741573  0.29213483 0.03089888 0.00280899 0.         0.        ]\n",
      " [0.03448276 0.7476489  0.19905956 0.01724138 0.0015674  0.        ]\n",
      " [0.00634921 0.21904762 0.53968254 0.21587302 0.01904762 0.        ]\n",
      " [0.02758621 0.07241379 0.15862069 0.41724138 0.28965517 0.03448276]\n",
      " [0.00343643 0.05498282 0.07560137 0.23367698 0.54639175 0.08591065]\n",
      " [0.01090909 0.04       0.02181818 0.10909091 0.40363636 0.41454545]]\n"
     ]
    },
    {
     "name": "stderr",
     "output_type": "stream",
     "text": [
      "Epoch 9/69\n",
      "==========\n"
     ]
    },
    {
     "name": "stdout",
     "output_type": "stream",
     "text": [
      "Normalized confusion matrix\n",
      "[[0.6741573  0.29213483 0.03089888 0.00280899 0.         0.        ]\n",
      " [0.03448276 0.7476489  0.19905956 0.01724138 0.0015674  0.        ]\n",
      " [0.00634921 0.21904762 0.53968254 0.21587302 0.01904762 0.        ]\n",
      " [0.02758621 0.07241379 0.15862069 0.41724138 0.28965517 0.03448276]\n",
      " [0.00343643 0.05498282 0.07560137 0.23367698 0.54639175 0.08591065]\n",
      " [0.01090909 0.04       0.02181818 0.10909091 0.40363636 0.41454545]]\n"
     ]
    },
    {
     "name": "stderr",
     "output_type": "stream",
     "text": [
      " 89%|████████▉ | 839/943 [07:21<00:53,  1.95it/s]"
     ]
    },
    {
     "name": "stdout",
     "output_type": "stream",
     "text": [
      "Gradient overflow.  Skipping step, loss scaler 0 reducing loss scale to 16384.0\n"
     ]
    },
    {
     "name": "stderr",
     "output_type": "stream",
     "text": [
      "100%|██████████| 943/943 [08:15<00:00,  1.90it/s]\n",
      "100%|██████████| 316/316 [02:23<00:00,  2.20it/s]\n",
      "Training Loss: 0.2525\tValidation Loss: 0.2146\n",
      "Counter train preds: Counter({1: 2301, 0: 1617, 4: 1176, 2: 1136, 3: 906, 5: 404})\tCounter val preds: Counter({1: 820, 0: 499, 2: 409, 4: 359, 3: 264, 5: 170})\n",
      "Epoch train QWK: 0.891\tval QWK: 0.858\n",
      "  Epoch 9 - Save Best Loss: 0.2146 Model\n",
      "  Epoch 9 - Save Best QWK: 0.8582 Model\n"
     ]
    },
    {
     "name": "stdout",
     "output_type": "stream",
     "text": [
      "Normalized confusion matrix\n",
      "[[0.65449438 0.31039326 0.03230337 0.00280899 0.         0.        ]\n",
      " [0.03134796 0.7507837  0.19905956 0.01724138 0.0015674  0.        ]\n",
      " [0.00952381 0.22539683 0.56190476 0.17777778 0.02539683 0.        ]\n",
      " [0.02413793 0.08275862 0.15172414 0.3862069  0.32068966 0.03448276]\n",
      " [0.         0.05498282 0.08934708 0.20962199 0.53608247 0.10996564]\n",
      " [0.01090909 0.03272727 0.04363636 0.08       0.36727273 0.46545455]]\n"
     ]
    },
    {
     "name": "stderr",
     "output_type": "stream",
     "text": [
      "Epoch 10/69\n",
      "==========\n"
     ]
    },
    {
     "name": "stdout",
     "output_type": "stream",
     "text": [
      "Normalized confusion matrix\n",
      "[[0.65449438 0.31039326 0.03230337 0.00280899 0.         0.        ]\n",
      " [0.03134796 0.7507837  0.19905956 0.01724138 0.0015674  0.        ]\n",
      " [0.00952381 0.22539683 0.56190476 0.17777778 0.02539683 0.        ]\n",
      " [0.02413793 0.08275862 0.15172414 0.3862069  0.32068966 0.03448276]\n",
      " [0.         0.05498282 0.08934708 0.20962199 0.53608247 0.10996564]\n",
      " [0.01090909 0.03272727 0.04363636 0.08       0.36727273 0.46545455]]\n"
     ]
    },
    {
     "name": "stderr",
     "output_type": "stream",
     "text": [
      "100%|██████████| 943/943 [08:15<00:00,  1.90it/s]\n",
      "100%|██████████| 316/316 [02:31<00:00,  2.08it/s]\n",
      "Training Loss: 0.3480\tValidation Loss: 0.3122\n",
      "Counter train preds: Counter({1: 2345, 0: 1399, 2: 1351, 4: 1056, 3: 1022, 5: 367})\tCounter val preds: Counter({1: 920, 2: 769, 3: 355, 4: 238, 0: 233, 5: 6})\n",
      "Epoch train QWK: 0.830\tval QWK: 0.689\n",
      "Epoch 11/69\n",
      "==========\n",
      "100%|██████████| 943/943 [08:33<00:00,  1.84it/s]\n",
      "100%|██████████| 316/316 [02:27<00:00,  2.15it/s]\n",
      "Training Loss: 0.4082\tValidation Loss: 0.2655\n",
      "Counter train preds: Counter({1: 2522, 2: 1641, 3: 1052, 0: 1035, 4: 1002, 5: 288})\tCounter val preds: Counter({1: 856, 2: 509, 0: 392, 4: 338, 3: 301, 5: 125})\n",
      "Epoch train QWK: 0.768\tval QWK: 0.794\n",
      "Epoch 12/69\n",
      "==========\n",
      " 14%|█▍        | 135/943 [01:15<07:47,  1.73it/s]"
     ]
    },
    {
     "name": "stdout",
     "output_type": "stream",
     "text": [
      "Gradient overflow.  Skipping step, loss scaler 0 reducing loss scale to 16384.0\n"
     ]
    },
    {
     "name": "stderr",
     "output_type": "stream",
     "text": [
      "100%|██████████| 943/943 [08:18<00:00,  1.89it/s]\n",
      "100%|██████████| 316/316 [02:23<00:00,  2.20it/s]\n",
      "Training Loss: 0.3851\tValidation Loss: 0.3701\n",
      "Counter train preds: Counter({1: 2488, 2: 1509, 0: 1132, 4: 1084, 3: 1077, 5: 250})\tCounter val preds: Counter({1: 678, 2: 569, 4: 481, 5: 355, 3: 342, 0: 96})\n",
      "Epoch train QWK: 0.791\tval QWK: 0.735\n",
      "Epoch 13/69\n",
      "==========\n",
      "100%|██████████| 943/943 [08:15<00:00,  1.90it/s]\n",
      "100%|██████████| 316/316 [02:24<00:00,  2.19it/s]\n",
      "Training Loss: 0.3772\tValidation Loss: 0.2631\n",
      "Counter train preds: Counter({1: 2472, 2: 1558, 0: 1133, 4: 1081, 3: 1029, 5: 267})\tCounter val preds: Counter({1: 1078, 0: 366, 2: 355, 4: 333, 3: 222, 5: 167})\n",
      "Epoch train QWK: 0.791\tval QWK: 0.818\n",
      "Epoch 14/69\n",
      "==========\n",
      " 97%|█████████▋| 913/943 [07:59<00:15,  1.95it/s]"
     ]
    },
    {
     "name": "stdout",
     "output_type": "stream",
     "text": [
      "Gradient overflow.  Skipping step, loss scaler 0 reducing loss scale to 16384.0\n"
     ]
    },
    {
     "name": "stderr",
     "output_type": "stream",
     "text": [
      "100%|██████████| 943/943 [08:15<00:00,  1.90it/s]\n",
      "100%|██████████| 316/316 [02:23<00:00,  2.20it/s]\n",
      "Training Loss: 0.3606\tValidation Loss: 0.2572\n",
      "Counter train preds: Counter({1: 2472, 2: 1506, 0: 1204, 4: 1122, 3: 941, 5: 295})\tCounter val preds: Counter({1: 863, 2: 462, 4: 387, 0: 382, 3: 319, 5: 108})\n",
      "Epoch train QWK: 0.808\tval QWK: 0.804\n",
      "Epoch 15/69\n",
      "==========\n",
      "100%|██████████| 943/943 [08:15<00:00,  1.90it/s]\n",
      "100%|██████████| 316/316 [02:24<00:00,  2.19it/s]\n",
      "Training Loss: 0.3522\tValidation Loss: 0.2460\n",
      "Counter train preds: Counter({1: 2479, 2: 1471, 0: 1208, 4: 1049, 3: 997, 5: 336})\tCounter val preds: Counter({1: 858, 2: 550, 0: 459, 4: 280, 3: 280, 5: 94})\n",
      "Epoch train QWK: 0.814\tval QWK: 0.815\n",
      "Epoch 16/69\n",
      "==========\n",
      "100%|██████████| 943/943 [08:14<00:00,  1.91it/s]\n",
      "100%|██████████| 316/316 [02:24<00:00,  2.19it/s]\n",
      "Training Loss: 0.3319\tValidation Loss: 0.2555\n",
      "Counter train preds: Counter({1: 2342, 2: 1396, 0: 1379, 4: 1112, 3: 970, 5: 341})\tCounter val preds: Counter({1: 819, 0: 704, 2: 324, 4: 319, 3: 252, 5: 103})\n",
      "Epoch train QWK: 0.836\tval QWK: 0.817\n",
      "Epoch 17/69\n",
      "==========\n",
      " 33%|███▎      | 313/943 [02:46<05:24,  1.94it/s]"
     ]
    },
    {
     "name": "stdout",
     "output_type": "stream",
     "text": [
      "Gradient overflow.  Skipping step, loss scaler 0 reducing loss scale to 16384.0\n"
     ]
    },
    {
     "name": "stderr",
     "output_type": "stream",
     "text": [
      "100%|██████████| 943/943 [08:15<00:00,  1.90it/s]\n",
      "100%|██████████| 316/316 [02:24<00:00,  2.19it/s]\n",
      "Training Loss: 0.3268\tValidation Loss: 0.2340\n",
      "Counter train preds: Counter({1: 2356, 0: 1424, 2: 1322, 4: 1134, 3: 960, 5: 344})\tCounter val preds: Counter({1: 799, 0: 639, 4: 338, 2: 333, 3: 231, 5: 181})\n",
      "Epoch train QWK: 0.841\tval QWK: 0.844\n",
      "Epoch 18/69\n",
      "==========\n",
      "100%|██████████| 943/943 [08:16<00:00,  1.90it/s]\n",
      "100%|██████████| 316/316 [02:23<00:00,  2.20it/s]\n",
      "Training Loss: 0.3120\tValidation Loss: 0.2305\n",
      "Counter train preds: Counter({1: 2309, 0: 1495, 2: 1315, 4: 1161, 3: 900, 5: 360})\tCounter val preds: Counter({1: 799, 2: 522, 0: 413, 4: 359, 3: 323, 5: 105})\n",
      "Epoch train QWK: 0.852\tval QWK: 0.833\n",
      "Epoch 19/69\n",
      "==========\n",
      "100%|██████████| 943/943 [08:14<00:00,  1.91it/s]\n",
      "100%|██████████| 316/316 [02:24<00:00,  2.19it/s]\n",
      "Training Loss: 0.2960\tValidation Loss: 0.2286\n",
      "Counter train preds: Counter({1: 2256, 0: 1585, 2: 1260, 4: 1136, 3: 896, 5: 407})\tCounter val preds: Counter({1: 813, 0: 580, 4: 378, 2: 368, 3: 299, 5: 83})\n",
      "Epoch train QWK: 0.869\tval QWK: 0.836\n",
      "Epoch 20/69\n",
      "==========\n",
      " 74%|███████▍  | 696/943 [06:06<02:09,  1.90it/s]"
     ]
    },
    {
     "name": "stdout",
     "output_type": "stream",
     "text": [
      "Gradient overflow.  Skipping step, loss scaler 0 reducing loss scale to 16384.0\n"
     ]
    },
    {
     "name": "stderr",
     "output_type": "stream",
     "text": [
      "100%|██████████| 943/943 [08:15<00:00,  1.90it/s]\n",
      "100%|██████████| 316/316 [02:23<00:00,  2.20it/s]\n",
      "Training Loss: 0.2808\tValidation Loss: 0.2207\n",
      "Counter train preds: Counter({1: 2183, 0: 1711, 2: 1214, 4: 1161, 3: 864, 5: 407})\tCounter val preds: Counter({1: 915, 0: 512, 4: 343, 2: 334, 3: 304, 5: 113})\n",
      "Epoch train QWK: 0.880\tval QWK: 0.848\n",
      "Epoch 21/69\n",
      "==========\n",
      "100%|██████████| 943/943 [08:15<00:00,  1.90it/s]\n",
      "100%|██████████| 316/316 [02:23<00:00,  2.20it/s]\n",
      "Training Loss: 0.2650\tValidation Loss: 0.2152\n",
      "Counter train preds: Counter({1: 2198, 0: 1738, 4: 1172, 2: 1126, 3: 879, 5: 427})\tCounter val preds: Counter({1: 758, 0: 550, 2: 432, 4: 322, 3: 246, 5: 213})\n",
      "Epoch train QWK: 0.892\tval QWK: 0.865\n",
      "  Epoch 21 - Save Best QWK: 0.8654 Model\n",
      "Epoch 22/69\n",
      "==========\n"
     ]
    },
    {
     "name": "stdout",
     "output_type": "stream",
     "text": [
      "Normalized confusion matrix\n",
      "[[0.72191011 0.24297753 0.0252809  0.00983146 0.         0.        ]\n",
      " [0.03291536 0.73824451 0.21003135 0.01724138 0.         0.0015674 ]\n",
      " [0.00634921 0.24444444 0.56825397 0.14285714 0.02539683 0.01269841]\n",
      " [0.03103448 0.05862069 0.2        0.3862069  0.28965517 0.03448276]\n",
      " [0.00687285 0.03780069 0.10309278 0.18556701 0.53608247 0.13058419]\n",
      " [0.00727273 0.03272727 0.04727273 0.06181818 0.26909091 0.58181818]]\n"
     ]
    },
    {
     "name": "stderr",
     "output_type": "stream",
     "text": [
      "100%|██████████| 943/943 [08:16<00:00,  1.90it/s]\n",
      "100%|██████████| 316/316 [02:23<00:00,  2.19it/s]\n",
      "Training Loss: 0.2533\tValidation Loss: 0.2140\n",
      "Counter train preds: Counter({1: 2131, 0: 1820, 4: 1149, 2: 1097, 3: 893, 5: 450})\tCounter val preds: Counter({1: 797, 0: 617, 2: 364, 4: 341, 3: 292, 5: 110})\n",
      "Epoch train QWK: 0.903\tval QWK: 0.853\n",
      "  Epoch 22 - Save Best Loss: 0.2140 Model\n",
      "Epoch 23/69\n",
      "==========\n"
     ]
    },
    {
     "name": "stdout",
     "output_type": "stream",
     "text": [
      "Normalized confusion matrix\n",
      "[[0.79073034 0.18679775 0.01825843 0.00421348 0.         0.        ]\n",
      " [0.04388715 0.80877743 0.13949843 0.00626959 0.0015674  0.        ]\n",
      " [0.01269841 0.34285714 0.47936508 0.14920635 0.01587302 0.        ]\n",
      " [0.04482759 0.06551724 0.20689655 0.48965517 0.17931034 0.0137931 ]\n",
      " [0.0137457  0.04810997 0.10652921 0.23024055 0.53608247 0.0652921 ]\n",
      " [0.01818182 0.02545455 0.07272727 0.10545455 0.46181818 0.31636364]]\n"
     ]
    },
    {
     "name": "stderr",
     "output_type": "stream",
     "text": [
      "100%|██████████| 943/943 [08:14<00:00,  1.91it/s]\n",
      "100%|██████████| 316/316 [02:24<00:00,  2.19it/s]\n",
      "Training Loss: 0.2345\tValidation Loss: 0.2185\n",
      "Counter train preds: Counter({1: 2061, 0: 1887, 4: 1181, 2: 1095, 3: 843, 5: 473})\tCounter val preds: Counter({0: 701, 1: 679, 4: 332, 2: 296, 5: 290, 3: 223})\n",
      "Epoch train QWK: 0.912\tval QWK: 0.866\n",
      "  Epoch 23 - Save Best QWK: 0.8664 Model\n",
      "Epoch 24/69\n",
      "==========\n"
     ]
    },
    {
     "name": "stdout",
     "output_type": "stream",
     "text": [
      "Normalized confusion matrix\n",
      "[[0.875      0.1011236  0.01825843 0.00280899 0.00280899 0.        ]\n",
      " [0.07366771 0.75548589 0.14420063 0.02194357 0.00470219 0.        ]\n",
      " [0.01904762 0.27301587 0.41587302 0.21587302 0.06349206 0.01269841]\n",
      " [0.04482759 0.06551724 0.10344828 0.31724138 0.3862069  0.08275862]\n",
      " [0.02405498 0.03436426 0.07560137 0.11683849 0.4604811  0.28865979]\n",
      " [0.01818182 0.03636364 0.02909091 0.04727273 0.22181818 0.64727273]]\n"
     ]
    },
    {
     "name": "stderr",
     "output_type": "stream",
     "text": [
      " 99%|█████████▉| 934/943 [08:13<00:04,  1.96it/s]"
     ]
    },
    {
     "name": "stdout",
     "output_type": "stream",
     "text": [
      "Gradient overflow.  Skipping step, loss scaler 0 reducing loss scale to 32768.0\n"
     ]
    },
    {
     "name": "stderr",
     "output_type": "stream",
     "text": [
      "100%|██████████| 943/943 [08:17<00:00,  1.89it/s]\n",
      "100%|██████████| 316/316 [02:23<00:00,  2.20it/s]\n",
      "Training Loss: 0.2221\tValidation Loss: 0.2060\n",
      "Counter train preds: Counter({1: 2101, 0: 1918, 4: 1152, 2: 1019, 3: 844, 5: 506})\tCounter val preds: Counter({1: 740, 0: 585, 4: 384, 2: 332, 3: 285, 5: 195})\n",
      "Epoch train QWK: 0.918\tval QWK: 0.871\n",
      "  Epoch 24 - Save Best Loss: 0.2060 Model\n",
      "  Epoch 24 - Save Best QWK: 0.8713 Model\n"
     ]
    },
    {
     "name": "stdout",
     "output_type": "stream",
     "text": [
      "Normalized confusion matrix\n",
      "[[0.76264045 0.20224719 0.02668539 0.00702247 0.00140449 0.        ]\n",
      " [0.03605016 0.76489028 0.169279   0.02664577 0.0015674  0.0015674 ]\n",
      " [0.00952381 0.22539683 0.48253968 0.23174603 0.04444444 0.00634921]\n",
      " [0.03793103 0.05172414 0.11034483 0.42068966 0.34137931 0.03793103]\n",
      " [0.00687285 0.04467354 0.05498282 0.16838488 0.60137457 0.12371134]\n",
      " [0.01090909 0.03272727 0.01818182 0.06909091 0.34181818 0.52727273]]\n"
     ]
    },
    {
     "name": "stderr",
     "output_type": "stream",
     "text": [
      "Epoch 25/69\n",
      "==========\n"
     ]
    },
    {
     "name": "stdout",
     "output_type": "stream",
     "text": [
      "Normalized confusion matrix\n",
      "[[0.76264045 0.20224719 0.02668539 0.00702247 0.00140449 0.        ]\n",
      " [0.03605016 0.76489028 0.169279   0.02664577 0.0015674  0.0015674 ]\n",
      " [0.00952381 0.22539683 0.48253968 0.23174603 0.04444444 0.00634921]\n",
      " [0.03793103 0.05172414 0.11034483 0.42068966 0.34137931 0.03793103]\n",
      " [0.00687285 0.04467354 0.05498282 0.16838488 0.60137457 0.12371134]\n",
      " [0.01090909 0.03272727 0.01818182 0.06909091 0.34181818 0.52727273]]\n"
     ]
    },
    {
     "name": "stderr",
     "output_type": "stream",
     "text": [
      "100%|██████████| 943/943 [08:16<00:00,  1.90it/s]\n",
      "100%|██████████| 316/316 [02:23<00:00,  2.20it/s]\n",
      "Training Loss: 0.2048\tValidation Loss: 0.2081\n",
      "Counter train preds: Counter({1: 2015, 0: 1973, 4: 1142, 2: 1030, 3: 849, 5: 531})\tCounter val preds: Counter({1: 682, 0: 657, 4: 352, 2: 323, 3: 293, 5: 214})\n",
      "Epoch train QWK: 0.929\tval QWK: 0.872\n",
      "  Epoch 25 - Save Best QWK: 0.8720 Model\n",
      "Epoch 26/69\n",
      "==========\n"
     ]
    },
    {
     "name": "stdout",
     "output_type": "stream",
     "text": [
      "Normalized confusion matrix\n",
      "[[0.83146067 0.14185393 0.01966292 0.00561798 0.00140449 0.        ]\n",
      " [0.05956113 0.7492163  0.169279   0.01880878 0.0031348  0.        ]\n",
      " [0.01269841 0.22857143 0.44126984 0.27301587 0.03492063 0.00952381]\n",
      " [0.03793103 0.06206897 0.10689655 0.43448276 0.32068966 0.03793103]\n",
      " [0.02405498 0.0137457  0.08591065 0.15463918 0.57044674 0.15120275]\n",
      " [0.01818182 0.03272727 0.02181818 0.07272727 0.28727273 0.56727273]]\n"
     ]
    },
    {
     "name": "stderr",
     "output_type": "stream",
     "text": [
      " 89%|████████▊ | 835/943 [07:18<00:55,  1.96it/s]"
     ]
    },
    {
     "name": "stdout",
     "output_type": "stream",
     "text": [
      "Gradient overflow.  Skipping step, loss scaler 0 reducing loss scale to 16384.0\n"
     ]
    },
    {
     "name": "stderr",
     "output_type": "stream",
     "text": [
      "100%|██████████| 943/943 [08:14<00:00,  1.91it/s]\n",
      "100%|██████████| 316/316 [02:23<00:00,  2.20it/s]\n",
      "Training Loss: 0.1960\tValidation Loss: 0.2039\n",
      "Counter train preds: Counter({1: 2032, 0: 1981, 4: 1130, 2: 998, 3: 867, 5: 532})\tCounter val preds: Counter({1: 689, 0: 674, 4: 346, 2: 314, 3: 283, 5: 215})\n",
      "Epoch train QWK: 0.932\tval QWK: 0.874\n",
      "  Epoch 26 - Save Best Loss: 0.2039 Model\n",
      "  Epoch 26 - Save Best QWK: 0.8735 Model\n"
     ]
    },
    {
     "name": "stdout",
     "output_type": "stream",
     "text": [
      "Normalized confusion matrix\n",
      "[[0.85252809 0.11797753 0.02106742 0.00702247 0.00140449 0.        ]\n",
      " [0.06269592 0.76645768 0.14576803 0.02194357 0.0031348  0.        ]\n",
      " [0.00952381 0.26666667 0.46349206 0.21587302 0.03809524 0.00634921]\n",
      " [0.04137931 0.05517241 0.11034483 0.44827586 0.3137931  0.03103448]\n",
      " [0.02405498 0.02749141 0.07216495 0.16151203 0.5532646  0.16151203]\n",
      " [0.01818182 0.02909091 0.02545455 0.06909091 0.28727273 0.57090909]]\n"
     ]
    },
    {
     "name": "stderr",
     "output_type": "stream",
     "text": [
      "Epoch 27/69\n",
      "==========\n"
     ]
    },
    {
     "name": "stdout",
     "output_type": "stream",
     "text": [
      "Normalized confusion matrix\n",
      "[[0.85252809 0.11797753 0.02106742 0.00702247 0.00140449 0.        ]\n",
      " [0.06269592 0.76645768 0.14576803 0.02194357 0.0031348  0.        ]\n",
      " [0.00952381 0.26666667 0.46349206 0.21587302 0.03809524 0.00634921]\n",
      " [0.04137931 0.05517241 0.11034483 0.44827586 0.3137931  0.03103448]\n",
      " [0.02405498 0.02749141 0.07216495 0.16151203 0.5532646  0.16151203]\n",
      " [0.01818182 0.02909091 0.02545455 0.06909091 0.28727273 0.57090909]]\n"
     ]
    },
    {
     "name": "stderr",
     "output_type": "stream",
     "text": [
      "100%|██████████| 943/943 [08:15<00:00,  1.90it/s]\n",
      "100%|██████████| 316/316 [02:23<00:00,  2.20it/s]\n",
      "Training Loss: 0.1864\tValidation Loss: 0.2056\n",
      "Counter train preds: Counter({1: 2046, 0: 2007, 4: 1108, 2: 968, 3: 846, 5: 565})\tCounter val preds: Counter({1: 717, 0: 648, 2: 359, 4: 341, 3: 293, 5: 163})\n",
      "Epoch train QWK: 0.938\tval QWK: 0.872\n",
      "Epoch 28/69\n",
      "==========\n",
      "100%|██████████| 943/943 [08:15<00:00,  1.90it/s]\n",
      "100%|██████████| 316/316 [02:23<00:00,  2.20it/s]\n",
      "Training Loss: 0.1789\tValidation Loss: 0.2041\n",
      "Counter train preds: Counter({0: 2026, 1: 2009, 4: 1099, 2: 991, 3: 829, 5: 586})\tCounter val preds: Counter({1: 685, 0: 669, 4: 347, 2: 334, 3: 313, 5: 173})\n",
      "Epoch train QWK: 0.943\tval QWK: 0.872\n",
      "Epoch 29/69\n",
      "==========\n",
      "100%|██████████| 943/943 [08:14<00:00,  1.91it/s]\n",
      "100%|██████████| 316/316 [02:23<00:00,  2.20it/s]\n",
      "Training Loss: 0.1806\tValidation Loss: 0.2045\n",
      "Counter train preds: Counter({0: 2043, 1: 1993, 4: 1141, 2: 980, 3: 826, 5: 557})\tCounter val preds: Counter({1: 682, 0: 650, 4: 364, 2: 348, 3: 284, 5: 193})\n",
      "Epoch train QWK: 0.942\tval QWK: 0.875\n",
      "  Epoch 29 - Save Best QWK: 0.8747 Model\n"
     ]
    },
    {
     "name": "stdout",
     "output_type": "stream",
     "text": [
      "Normalized confusion matrix\n",
      "[[0.83286517 0.13904494 0.01825843 0.00842697 0.00140449 0.        ]\n",
      " [0.04858934 0.7539185  0.17398119 0.02037618 0.0031348  0.        ]\n",
      " [0.00634921 0.24444444 0.5015873  0.20952381 0.03174603 0.00634921]\n",
      " [0.04137931 0.04482759 0.12758621 0.44827586 0.3137931  0.02413793]\n",
      " [0.02405498 0.01718213 0.0790378  0.16494845 0.57731959 0.13745704]\n",
      " [0.01818182 0.02545455 0.02181818 0.07636364 0.33454545 0.52363636]]\n"
     ]
    },
    {
     "name": "stderr",
     "output_type": "stream",
     "text": [
      "Epoch 30/69\n",
      "==========\n",
      "100%|██████████| 943/943 [08:15<00:00,  1.90it/s]\n",
      "100%|██████████| 316/316 [02:23<00:00,  2.20it/s]\n",
      "Training Loss: 0.2330\tValidation Loss: 0.3191\n",
      "Counter train preds: Counter({1: 2083, 0: 1908, 4: 1110, 2: 1049, 3: 850, 5: 540})\tCounter val preds: Counter({2: 714, 1: 636, 4: 521, 3: 347, 0: 187, 5: 116})\n",
      "Epoch train QWK: 0.916\tval QWK: 0.750\n",
      "Epoch 31/69\n",
      "==========\n",
      " 13%|█▎        | 125/943 [01:08<06:59,  1.95it/s]"
     ]
    },
    {
     "name": "stdout",
     "output_type": "stream",
     "text": [
      "Gradient overflow.  Skipping step, loss scaler 0 reducing loss scale to 32768.0\n"
     ]
    },
    {
     "name": "stderr",
     "output_type": "stream",
     "text": [
      " 39%|███▉      | 372/943 [03:17<04:51,  1.96it/s]"
     ]
    },
    {
     "name": "stdout",
     "output_type": "stream",
     "text": [
      "Gradient overflow.  Skipping step, loss scaler 0 reducing loss scale to 16384.0\n"
     ]
    },
    {
     "name": "stderr",
     "output_type": "stream",
     "text": [
      "100%|██████████| 943/943 [08:14<00:00,  1.91it/s]\n",
      "100%|██████████| 316/316 [02:23<00:00,  2.20it/s]\n",
      "Training Loss: 0.3080\tValidation Loss: 0.2266\n",
      "Counter train preds: Counter({1: 2263, 0: 1598, 2: 1226, 4: 1115, 3: 917, 5: 421})\tCounter val preds: Counter({1: 912, 0: 516, 4: 365, 2: 358, 3: 295, 5: 75})\n",
      "Epoch train QWK: 0.864\tval QWK: 0.838\n",
      "Epoch 32/69\n",
      "==========\n",
      "100%|██████████| 943/943 [08:14<00:00,  1.91it/s]\n",
      "100%|██████████| 316/316 [02:23<00:00,  2.20it/s]\n",
      "Training Loss: 0.2917\tValidation Loss: 0.2261\n",
      "Counter train preds: Counter({1: 2168, 0: 1701, 2: 1226, 4: 1089, 3: 903, 5: 453})\tCounter val preds: Counter({1: 871, 0: 494, 2: 383, 4: 348, 3: 292, 5: 133})\n",
      "Epoch train QWK: 0.878\tval QWK: 0.845\n",
      "Epoch 33/69\n",
      "==========\n",
      "100%|██████████| 943/943 [08:16<00:00,  1.90it/s]\n",
      "100%|██████████| 316/316 [02:24<00:00,  2.19it/s]\n",
      "Training Loss: 0.2895\tValidation Loss: 0.2416\n",
      "Counter train preds: Counter({1: 2219, 0: 1666, 2: 1228, 4: 1088, 3: 886, 5: 453})\tCounter val preds: Counter({0: 719, 1: 710, 2: 332, 3: 326, 4: 316, 5: 118})\n",
      "Epoch train QWK: 0.876\tval QWK: 0.835\n",
      "Epoch 34/69\n",
      "==========\n",
      "100%|██████████| 943/943 [08:15<00:00,  1.90it/s]\n",
      "100%|██████████| 316/316 [02:24<00:00,  2.19it/s]\n",
      "Training Loss: 0.2896\tValidation Loss: 0.3119\n",
      "Counter train preds: Counter({1: 2163, 0: 1692, 2: 1224, 4: 1128, 3: 898, 5: 435})\tCounter val preds: Counter({1: 900, 0: 696, 2: 434, 3: 291, 4: 162, 5: 38})\n",
      "Epoch train QWK: 0.879\tval QWK: 0.759\n",
      "Epoch 35/69\n",
      "==========\n",
      " 66%|██████▌   | 623/943 [05:29<02:44,  1.95it/s]"
     ]
    },
    {
     "name": "stdout",
     "output_type": "stream",
     "text": [
      "Gradient overflow.  Skipping step, loss scaler 0 reducing loss scale to 32768.0\n"
     ]
    },
    {
     "name": "stderr",
     "output_type": "stream",
     "text": [
      "100%|██████████| 943/943 [08:15<00:00,  1.90it/s]\n",
      "100%|██████████| 316/316 [02:23<00:00,  2.19it/s]\n",
      "Training Loss: 0.2805\tValidation Loss: 0.2323\n",
      "Counter train preds: Counter({1: 2146, 0: 1724, 2: 1201, 4: 1101, 3: 919, 5: 449})\tCounter val preds: Counter({1: 858, 0: 529, 2: 363, 4: 303, 3: 250, 5: 218})\n",
      "Epoch train QWK: 0.884\tval QWK: 0.846\n",
      "Epoch 36/69\n",
      "==========\n",
      "100%|██████████| 943/943 [08:15<00:00,  1.90it/s]\n",
      "100%|██████████| 316/316 [02:23<00:00,  2.20it/s]\n",
      "Training Loss: 0.2775\tValidation Loss: 0.2884\n",
      "Counter train preds: Counter({1: 2128, 0: 1756, 2: 1208, 4: 1146, 3: 832, 5: 470})\tCounter val preds: Counter({2: 609, 1: 532, 4: 467, 0: 358, 3: 351, 5: 204})\n",
      "Epoch train QWK: 0.887\tval QWK: 0.810\n",
      "Epoch 37/69\n",
      "==========\n",
      " 29%|██▉       | 275/943 [02:26<05:46,  1.93it/s]"
     ]
    },
    {
     "name": "stdout",
     "output_type": "stream",
     "text": [
      "Gradient overflow.  Skipping step, loss scaler 0 reducing loss scale to 16384.0\n"
     ]
    },
    {
     "name": "stderr",
     "output_type": "stream",
     "text": [
      "100%|██████████| 943/943 [08:15<00:00,  1.90it/s]\n",
      "100%|██████████| 316/316 [02:24<00:00,  2.19it/s]\n",
      "Training Loss: 0.2660\tValidation Loss: 0.2346\n",
      "Counter train preds: Counter({1: 2168, 0: 1761, 4: 1153, 2: 1151, 3: 849, 5: 458})\tCounter val preds: Counter({1: 680, 0: 480, 2: 472, 4: 387, 3: 279, 5: 223})\n",
      "Epoch train QWK: 0.894\tval QWK: 0.847\n",
      "Epoch 38/69\n",
      "==========\n",
      "100%|██████████| 943/943 [08:15<00:00,  1.90it/s]\n",
      "100%|██████████| 316/316 [02:23<00:00,  2.20it/s]\n",
      "Training Loss: 0.2620\tValidation Loss: 0.2207\n",
      "Counter train preds: Counter({1: 2107, 0: 1803, 2: 1152, 4: 1124, 3: 869, 5: 485})\tCounter val preds: Counter({1: 675, 0: 552, 2: 464, 4: 328, 3: 302, 5: 200})\n",
      "Epoch train QWK: 0.895\tval QWK: 0.859\n",
      "Epoch 39/69\n",
      "==========\n",
      "100%|██████████| 943/943 [08:15<00:00,  1.91it/s]\n",
      "100%|██████████| 316/316 [02:23<00:00,  2.20it/s]\n",
      "Training Loss: 0.2530\tValidation Loss: 0.2553\n",
      "Counter train preds: Counter({1: 2135, 0: 1808, 4: 1120, 2: 1110, 3: 894, 5: 473})\tCounter val preds: Counter({1: 739, 2: 521, 4: 457, 3: 329, 0: 316, 5: 159})\n",
      "Epoch train QWK: 0.903\tval QWK: 0.818\n",
      "Epoch 40/69\n",
      "==========\n",
      "100%|██████████| 943/943 [08:15<00:00,  1.90it/s]\n",
      "100%|██████████| 316/316 [02:24<00:00,  2.19it/s]\n",
      "Training Loss: 0.2456\tValidation Loss: 0.2230\n",
      "Counter train preds: Counter({1: 2121, 0: 1848, 4: 1098, 2: 1098, 3: 859, 5: 516})\tCounter val preds: Counter({1: 729, 0: 609, 2: 394, 4: 390, 3: 254, 5: 145})\n",
      "Epoch train QWK: 0.911\tval QWK: 0.846\n",
      "Epoch 41/69\n",
      "==========\n",
      " 62%|██████▏   | 583/943 [05:07<03:05,  1.94it/s]"
     ]
    },
    {
     "name": "stdout",
     "output_type": "stream",
     "text": [
      "Gradient overflow.  Skipping step, loss scaler 0 reducing loss scale to 32768.0\n"
     ]
    },
    {
     "name": "stderr",
     "output_type": "stream",
     "text": [
      "100%|██████████| 943/943 [08:14<00:00,  1.91it/s]\n",
      "100%|██████████| 316/316 [02:23<00:00,  2.20it/s]\n",
      "Training Loss: 0.2416\tValidation Loss: 0.2487\n",
      "Counter train preds: Counter({1: 2093, 0: 1871, 2: 1089, 4: 1085, 3: 872, 5: 530})\tCounter val preds: Counter({1: 933, 0: 556, 2: 400, 4: 283, 3: 261, 5: 88})\n",
      "Epoch train QWK: 0.910\tval QWK: 0.826\n",
      "Epoch 42/69\n",
      "==========\n",
      "100%|██████████| 943/943 [08:16<00:00,  1.90it/s]\n",
      "100%|██████████| 316/316 [02:23<00:00,  2.21it/s]\n",
      "Training Loss: 0.2290\tValidation Loss: 0.2243\n",
      "Counter train preds: Counter({1: 2032, 0: 1936, 4: 1084, 2: 1083, 3: 856, 5: 549})\tCounter val preds: Counter({1: 698, 0: 658, 4: 435, 2: 323, 3: 313, 5: 94})\n",
      "Epoch train QWK: 0.919\tval QWK: 0.854\n",
      "Epoch 43/69\n",
      "==========\n",
      " 75%|███████▍  | 703/943 [06:10<02:01,  1.97it/s]"
     ]
    },
    {
     "name": "stdout",
     "output_type": "stream",
     "text": [
      "Gradient overflow.  Skipping step, loss scaler 0 reducing loss scale to 32768.0\n"
     ]
    },
    {
     "name": "stderr",
     "output_type": "stream",
     "text": [
      "100%|██████████| 943/943 [08:15<00:00,  1.90it/s]\n",
      "100%|██████████| 316/316 [02:23<00:00,  2.20it/s]\n",
      "Training Loss: 0.2226\tValidation Loss: 0.2236\n",
      "Counter train preds: Counter({1: 2035, 0: 1947, 4: 1111, 2: 1039, 3: 870, 5: 538})\tCounter val preds: Counter({1: 829, 0: 647, 2: 357, 4: 272, 3: 251, 5: 165})\n",
      "Epoch train QWK: 0.921\tval QWK: 0.855\n",
      "Epoch 44/69\n",
      "==========\n",
      "100%|██████████| 943/943 [08:14<00:00,  1.91it/s]\n",
      "100%|██████████| 316/316 [02:24<00:00,  2.19it/s]\n",
      "Training Loss: 0.2159\tValidation Loss: 0.2408\n",
      "Counter train preds: Counter({1: 2075, 0: 1949, 4: 1060, 2: 1017, 3: 846, 5: 593})\tCounter val preds: Counter({1: 796, 2: 512, 0: 482, 4: 333, 3: 284, 5: 114})\n",
      "Epoch train QWK: 0.924\tval QWK: 0.843\n",
      "Epoch 45/69\n",
      "==========\n",
      " 90%|█████████ | 851/943 [07:30<00:47,  1.93it/s]"
     ]
    },
    {
     "name": "stdout",
     "output_type": "stream",
     "text": [
      "Gradient overflow.  Skipping step, loss scaler 0 reducing loss scale to 32768.0\n"
     ]
    },
    {
     "name": "stderr",
     "output_type": "stream",
     "text": [
      "100%|██████████| 943/943 [08:18<00:00,  1.89it/s]\n",
      "100%|██████████| 316/316 [02:23<00:00,  2.20it/s]\n",
      "Training Loss: 0.2076\tValidation Loss: 0.2352\n",
      "Counter train preds: Counter({1: 2007, 0: 1992, 4: 1098, 2: 1033, 3: 834, 5: 576})\tCounter val preds: Counter({1: 695, 2: 526, 0: 469, 4: 323, 3: 270, 5: 238})\n",
      "Epoch train QWK: 0.930\tval QWK: 0.849\n",
      "Epoch 46/69\n",
      "==========\n",
      "100%|██████████| 943/943 [08:16<00:00,  1.90it/s]\n",
      "100%|██████████| 316/316 [02:23<00:00,  2.20it/s]\n",
      "Training Loss: 0.1952\tValidation Loss: 0.2212\n",
      "Counter train preds: Counter({1: 2046, 0: 1983, 4: 1041, 2: 1012, 3: 832, 5: 626})\tCounter val preds: Counter({0: 683, 1: 568, 2: 464, 4: 330, 3: 305, 5: 171})\n",
      "Epoch train QWK: 0.934\tval QWK: 0.863\n",
      "Epoch 47/69\n",
      "==========\n",
      "100%|██████████| 943/943 [08:14<00:00,  1.91it/s]\n",
      "100%|██████████| 316/316 [02:23<00:00,  2.20it/s]\n",
      "Training Loss: 0.1872\tValidation Loss: 0.2240\n",
      "Counter train preds: Counter({1: 2020, 0: 2019, 4: 1066, 2: 993, 3: 820, 5: 622})\tCounter val preds: Counter({0: 699, 1: 611, 4: 374, 2: 365, 3: 262, 5: 210})\n",
      "Epoch train QWK: 0.939\tval QWK: 0.865\n",
      "Epoch 48/69\n",
      "==========\n",
      " 12%|█▏        | 114/943 [01:03<07:08,  1.93it/s]"
     ]
    },
    {
     "name": "stdout",
     "output_type": "stream",
     "text": [
      "Gradient overflow.  Skipping step, loss scaler 0 reducing loss scale to 32768.0\n"
     ]
    },
    {
     "name": "stderr",
     "output_type": "stream",
     "text": [
      "100%|██████████| 943/943 [08:16<00:00,  1.90it/s]\n",
      "100%|██████████| 316/316 [02:23<00:00,  2.19it/s]\n",
      "Training Loss: 0.1774\tValidation Loss: 0.2380\n",
      "Counter train preds: Counter({0: 2031, 1: 2008, 4: 1103, 2: 967, 3: 835, 5: 596})\tCounter val preds: Counter({0: 676, 1: 558, 4: 442, 2: 343, 3: 314, 5: 188})\n",
      "Epoch train QWK: 0.943\tval QWK: 0.863\n",
      "Epoch 49/69\n",
      "==========\n",
      "100%|██████████| 943/943 [08:14<00:00,  1.91it/s]"
     ]
    },
    {
     "name": "stdout",
     "output_type": "stream",
     "text": [
      "Gradient overflow.  Skipping step, loss scaler 0 reducing loss scale to 16384.0\n"
     ]
    },
    {
     "name": "stderr",
     "output_type": "stream",
     "text": [
      "\n",
      "100%|██████████| 316/316 [02:24<00:00,  2.19it/s]\n",
      "Training Loss: 0.1733\tValidation Loss: 0.2240\n",
      "Counter train preds: Counter({0: 2022, 1: 2015, 4: 1019, 2: 1004, 3: 826, 5: 654})\tCounter val preds: Counter({1: 754, 0: 676, 2: 353, 4: 293, 3: 249, 5: 196})\n",
      "Epoch train QWK: 0.946\tval QWK: 0.864\n",
      "Epoch 50/69\n",
      "==========\n",
      "100%|██████████| 943/943 [08:16<00:00,  1.90it/s]\n",
      "100%|██████████| 316/316 [02:24<00:00,  2.19it/s]\n",
      "Training Loss: 0.1617\tValidation Loss: 0.2410\n",
      "Counter train preds: Counter({0: 2056, 1: 1988, 4: 995, 2: 988, 3: 836, 5: 677})\tCounter val preds: Counter({1: 858, 0: 606, 3: 332, 2: 323, 4: 277, 5: 125})\n",
      "Epoch train QWK: 0.950\tval QWK: 0.854\n",
      "Epoch 51/69\n",
      "==========\n",
      "100%|██████████| 943/943 [08:16<00:00,  1.90it/s]\n",
      "100%|██████████| 316/316 [02:23<00:00,  2.20it/s]\n",
      "Training Loss: 0.1526\tValidation Loss: 0.2319\n",
      "Counter train preds: Counter({0: 2080, 1: 1967, 4: 1036, 2: 979, 3: 818, 5: 660})\tCounter val preds: Counter({0: 715, 1: 632, 4: 327, 2: 325, 5: 302, 3: 220})\n",
      "Epoch train QWK: 0.956\tval QWK: 0.867\n",
      "Epoch 52/69\n",
      "==========\n",
      "100%|██████████| 943/943 [08:14<00:00,  1.91it/s]\n",
      "100%|██████████| 316/316 [02:22<00:00,  2.22it/s]\n",
      "Training Loss: 0.1429\tValidation Loss: 0.2099\n",
      "Counter train preds: Counter({0: 2097, 1: 1970, 4: 1005, 2: 967, 3: 804, 5: 697})\tCounter val preds: Counter({1: 693, 0: 669, 4: 334, 2: 327, 3: 293, 5: 205})\n",
      "Epoch train QWK: 0.960\tval QWK: 0.878\n",
      "  Epoch 52 - Save Best QWK: 0.8781 Model\n",
      "Epoch 53/69\n",
      "==========\n"
     ]
    },
    {
     "name": "stdout",
     "output_type": "stream",
     "text": [
      "Normalized confusion matrix\n",
      "[[0.85393258 0.11235955 0.02247191 0.00421348 0.00702247 0.        ]\n",
      " [0.06269592 0.77742947 0.14263323 0.01410658 0.0031348  0.        ]\n",
      " [0.01269841 0.26031746 0.47936508 0.2031746  0.04126984 0.0031746 ]\n",
      " [0.03793103 0.06896552 0.13793103 0.45517241 0.27931034 0.02068966]\n",
      " [0.01030928 0.03780069 0.07216495 0.19243986 0.52920962 0.1580756 ]\n",
      " [0.01090909 0.01454545 0.02909091 0.10545455 0.28727273 0.55272727]]\n"
     ]
    },
    {
     "name": "stderr",
     "output_type": "stream",
     "text": [
      "100%|██████████| 943/943 [08:14<00:00,  1.91it/s]\n",
      "100%|██████████| 316/316 [02:22<00:00,  2.22it/s]\n",
      "Training Loss: 0.1388\tValidation Loss: 0.2194\n",
      "Counter train preds: Counter({0: 2103, 1: 1962, 4: 995, 2: 943, 3: 832, 5: 705})\tCounter val preds: Counter({1: 707, 0: 661, 4: 356, 2: 317, 3: 277, 5: 203})\n",
      "Epoch train QWK: 0.961\tval QWK: 0.875\n",
      "Epoch 54/69\n",
      "==========\n",
      " 39%|███▊      | 364/943 [03:13<04:54,  1.97it/s]"
     ]
    },
    {
     "name": "stdout",
     "output_type": "stream",
     "text": [
      "Gradient overflow.  Skipping step, loss scaler 0 reducing loss scale to 32768.0\n"
     ]
    },
    {
     "name": "stderr",
     "output_type": "stream",
     "text": [
      "100%|██████████| 943/943 [08:15<00:00,  1.90it/s]\n",
      "100%|██████████| 316/316 [02:23<00:00,  2.21it/s]\n",
      "Training Loss: 0.1292\tValidation Loss: 0.2195\n",
      "Counter train preds: Counter({0: 2099, 1: 1987, 4: 993, 2: 919, 3: 821, 5: 721})\tCounter val preds: Counter({1: 721, 0: 583, 3: 390, 2: 363, 4: 294, 5: 170})\n",
      "Epoch train QWK: 0.965\tval QWK: 0.872\n",
      "Epoch 55/69\n",
      "==========\n",
      "100%|██████████| 943/943 [08:14<00:00,  1.91it/s]\n",
      "100%|██████████| 316/316 [02:23<00:00,  2.20it/s]\n",
      "Training Loss: 0.1236\tValidation Loss: 0.2273\n",
      "Counter train preds: Counter({0: 2098, 1: 1965, 4: 973, 2: 964, 3: 825, 5: 715})\tCounter val preds: Counter({0: 682, 1: 665, 2: 413, 4: 283, 3: 277, 5: 201})\n",
      "Epoch train QWK: 0.966\tval QWK: 0.870\n",
      "Epoch 56/69\n",
      "==========\n",
      " 59%|█████▉    | 555/943 [04:53<03:23,  1.91it/s]"
     ]
    },
    {
     "name": "stdout",
     "output_type": "stream",
     "text": [
      "Gradient overflow.  Skipping step, loss scaler 0 reducing loss scale to 32768.0\n"
     ]
    },
    {
     "name": "stderr",
     "output_type": "stream",
     "text": [
      "100%|██████████| 943/943 [08:14<00:00,  1.91it/s]\n",
      "100%|██████████| 316/316 [02:23<00:00,  2.20it/s]\n",
      "Training Loss: 0.1124\tValidation Loss: 0.2383\n",
      "Counter train preds: Counter({0: 2115, 1: 1965, 4: 947, 2: 933, 3: 836, 5: 744})\tCounter val preds: Counter({0: 706, 1: 659, 2: 359, 4: 327, 3: 272, 5: 198})\n",
      "Epoch train QWK: 0.970\tval QWK: 0.873\n",
      "Epoch 57/69\n",
      "==========\n",
      "100%|██████████| 943/943 [08:15<00:00,  1.90it/s]\n",
      "100%|██████████| 316/316 [02:23<00:00,  2.20it/s]\n",
      "Training Loss: 0.1085\tValidation Loss: 0.2281\n",
      "Counter train preds: Counter({0: 2120, 1: 1945, 2: 943, 4: 922, 3: 847, 5: 763})\tCounter val preds: Counter({1: 704, 0: 670, 4: 349, 2: 292, 3: 271, 5: 235})\n",
      "Epoch train QWK: 0.972\tval QWK: 0.875\n",
      "Epoch 58/69\n",
      "==========\n",
      " 75%|███████▍  | 703/943 [06:09<02:02,  1.96it/s]"
     ]
    },
    {
     "name": "stdout",
     "output_type": "stream",
     "text": [
      "Gradient overflow.  Skipping step, loss scaler 0 reducing loss scale to 32768.0\n"
     ]
    },
    {
     "name": "stderr",
     "output_type": "stream",
     "text": [
      "100%|██████████| 943/943 [08:14<00:00,  1.91it/s]\n",
      "100%|██████████| 316/316 [02:23<00:00,  2.20it/s]\n",
      "Training Loss: 0.1020\tValidation Loss: 0.2255\n",
      "Counter train preds: Counter({0: 2114, 1: 1962, 4: 924, 2: 917, 3: 868, 5: 755})\tCounter val preds: Counter({0: 699, 1: 676, 2: 350, 4: 312, 3: 272, 5: 212})\n",
      "Epoch train QWK: 0.975\tval QWK: 0.877\n",
      "Epoch 59/69\n",
      "==========\n",
      "100%|██████████| 943/943 [08:14<00:00,  1.91it/s]\n",
      "100%|██████████| 316/316 [02:23<00:00,  2.20it/s]\n",
      "Training Loss: 0.0956\tValidation Loss: 0.2326\n",
      "Counter train preds: Counter({0: 2111, 1: 1965, 4: 930, 2: 924, 3: 854, 5: 756})\tCounter val preds: Counter({1: 705, 0: 692, 2: 349, 4: 303, 3: 284, 5: 188})\n",
      "Epoch train QWK: 0.976\tval QWK: 0.872\n",
      "Epoch 60/69\n",
      "==========\n",
      "100%|██████████| 943/943 [08:14<00:00,  1.91it/s]"
     ]
    },
    {
     "name": "stdout",
     "output_type": "stream",
     "text": [
      "Gradient overflow.  Skipping step, loss scaler 0 reducing loss scale to 32768.0\n"
     ]
    },
    {
     "name": "stderr",
     "output_type": "stream",
     "text": [
      "\n",
      "100%|██████████| 316/316 [02:23<00:00,  2.21it/s]\n",
      "Training Loss: 0.0889\tValidation Loss: 0.2356\n",
      "Counter train preds: Counter({0: 2125, 1: 1950, 2: 939, 4: 937, 3: 820, 5: 769})\tCounter val preds: Counter({0: 691, 1: 630, 2: 346, 3: 322, 4: 305, 5: 227})\n",
      "Epoch train QWK: 0.978\tval QWK: 0.879\n",
      "  Epoch 60 - Save Best QWK: 0.8793 Model\n",
      "Epoch 61/69\n",
      "==========\n"
     ]
    },
    {
     "name": "stdout",
     "output_type": "stream",
     "text": [
      "Normalized confusion matrix\n",
      "[[0.87359551 0.09831461 0.01685393 0.00702247 0.00421348 0.        ]\n",
      " [0.06269592 0.73197492 0.18025078 0.02194357 0.0031348  0.        ]\n",
      " [0.02222222 0.2031746  0.51746032 0.21587302 0.03174603 0.00952381]\n",
      " [0.04827586 0.04827586 0.11724138 0.52068966 0.23103448 0.03448276]\n",
      " [0.0137457  0.02749141 0.05498282 0.21305842 0.5257732  0.16494845]\n",
      " [0.01454545 0.02545455 0.02181818 0.08       0.25454545 0.60363636]]\n"
     ]
    },
    {
     "name": "stderr",
     "output_type": "stream",
     "text": [
      "100%|██████████| 943/943 [08:15<00:00,  1.90it/s]\n",
      "100%|██████████| 316/316 [02:24<00:00,  2.19it/s]\n",
      "Training Loss: 0.0853\tValidation Loss: 0.2358\n",
      "Counter train preds: Counter({0: 2140, 1: 1915, 2: 947, 4: 926, 3: 828, 5: 784})\tCounter val preds: Counter({0: 717, 1: 713, 3: 307, 4: 292, 2: 283, 5: 209})\n",
      "Epoch train QWK: 0.981\tval QWK: 0.876\n",
      "Epoch 62/69\n",
      "==========\n",
      "100%|██████████| 943/943 [08:17<00:00,  1.90it/s]\n",
      "100%|██████████| 316/316 [02:31<00:00,  2.09it/s]\n",
      "Training Loss: 0.0820\tValidation Loss: 0.2354\n",
      "Counter train preds: Counter({0: 2144, 1: 1915, 2: 943, 4: 911, 3: 845, 5: 782})\tCounter val preds: Counter({0: 691, 1: 672, 2: 345, 4: 315, 3: 298, 5: 200})\n",
      "Epoch train QWK: 0.982\tval QWK: 0.880\n",
      "  Epoch 62 - Save Best QWK: 0.8803 Model\n",
      "Epoch 63/69\n",
      "==========\n"
     ]
    },
    {
     "name": "stdout",
     "output_type": "stream",
     "text": [
      "Normalized confusion matrix\n",
      "[[0.88061798 0.1011236  0.01123596 0.00421348 0.00280899 0.        ]\n",
      " [0.05642633 0.77115987 0.15203762 0.02037618 0.         0.        ]\n",
      " [0.02222222 0.23809524 0.52380952 0.18095238 0.02857143 0.00634921]\n",
      " [0.04827586 0.05172414 0.17241379 0.46206897 0.23448276 0.03103448]\n",
      " [0.00687285 0.04123711 0.05841924 0.2233677  0.54982818 0.12027491]\n",
      " [0.01818182 0.02181818 0.02909091 0.09454545 0.27636364 0.56      ]]\n"
     ]
    },
    {
     "name": "stderr",
     "output_type": "stream",
     "text": [
      " 18%|█▊        | 168/943 [01:35<06:53,  1.88it/s]"
     ]
    },
    {
     "name": "stdout",
     "output_type": "stream",
     "text": [
      "Gradient overflow.  Skipping step, loss scaler 0 reducing loss scale to 32768.0\n"
     ]
    },
    {
     "name": "stderr",
     "output_type": "stream",
     "text": [
      "100%|██████████| 943/943 [08:43<00:00,  1.80it/s]\n",
      "100%|██████████| 316/316 [02:24<00:00,  2.19it/s]\n",
      "Training Loss: 0.0787\tValidation Loss: 0.2342\n",
      "Counter train preds: Counter({0: 2144, 1: 1937, 2: 919, 4: 893, 3: 858, 5: 789})\tCounter val preds: Counter({0: 700, 1: 656, 2: 337, 4: 317, 3: 282, 5: 229})\n",
      "Epoch train QWK: 0.982\tval QWK: 0.884\n",
      "  Epoch 63 - Save Best QWK: 0.8838 Model\n",
      "Epoch 64/69\n",
      "==========\n"
     ]
    },
    {
     "name": "stdout",
     "output_type": "stream",
     "text": [
      "Normalized confusion matrix\n",
      "[[0.88764045 0.09410112 0.00983146 0.00561798 0.00280899 0.        ]\n",
      " [0.06112853 0.76175549 0.15517241 0.02037618 0.0015674  0.        ]\n",
      " [0.02222222 0.22222222 0.52380952 0.19365079 0.02857143 0.00952381]\n",
      " [0.04827586 0.06206897 0.14137931 0.45517241 0.25517241 0.03793103]\n",
      " [0.01030928 0.03092784 0.0652921  0.17525773 0.56357388 0.15463918]\n",
      " [0.01818182 0.02181818 0.02181818 0.07636364 0.24363636 0.61818182]]\n"
     ]
    },
    {
     "name": "stderr",
     "output_type": "stream",
     "text": [
      "100%|██████████| 943/943 [08:20<00:00,  1.88it/s]\n",
      "100%|██████████| 316/316 [02:26<00:00,  2.16it/s]\n",
      "Training Loss: 0.0771\tValidation Loss: 0.2395\n",
      "Counter train preds: Counter({0: 2141, 1: 1926, 2: 926, 4: 926, 3: 845, 5: 776})\tCounter val preds: Counter({0: 714, 1: 684, 2: 340, 4: 299, 3: 287, 5: 197})\n",
      "Epoch train QWK: 0.982\tval QWK: 0.873\n",
      "Epoch 65/69\n",
      "==========\n",
      " 30%|███       | 283/943 [02:32<05:42,  1.93it/s]"
     ]
    },
    {
     "name": "stdout",
     "output_type": "stream",
     "text": [
      "Gradient overflow.  Skipping step, loss scaler 0 reducing loss scale to 32768.0\n"
     ]
    },
    {
     "name": "stderr",
     "output_type": "stream",
     "text": [
      "100%|██████████| 943/943 [08:20<00:00,  1.89it/s]\n",
      "100%|██████████| 316/316 [02:26<00:00,  2.16it/s]\n",
      "Training Loss: 0.0735\tValidation Loss: 0.2413\n",
      "Counter train preds: Counter({0: 2144, 1: 1913, 2: 945, 4: 911, 3: 835, 5: 792})\tCounter val preds: Counter({0: 705, 1: 687, 4: 322, 2: 319, 3: 274, 5: 214})\n",
      "Epoch train QWK: 0.983\tval QWK: 0.883\n",
      "Epoch 66/69\n",
      "==========\n",
      "100%|██████████| 943/943 [08:44<00:00,  1.80it/s]\n",
      "100%|██████████| 316/316 [02:38<00:00,  2.00it/s]\n",
      "Training Loss: 0.0714\tValidation Loss: 0.2339\n",
      "Counter train preds: Counter({0: 2133, 1: 1952, 4: 919, 2: 917, 3: 826, 5: 793})\tCounter val preds: Counter({0: 690, 1: 681, 2: 331, 4: 328, 3: 299, 5: 192})\n",
      "Epoch train QWK: 0.983\tval QWK: 0.883\n",
      "Epoch 67/69\n",
      "==========\n",
      " 47%|████▋     | 441/943 [04:14<04:17,  1.95it/s]"
     ]
    },
    {
     "name": "stdout",
     "output_type": "stream",
     "text": [
      "Gradient overflow.  Skipping step, loss scaler 0 reducing loss scale to 32768.0\n"
     ]
    },
    {
     "name": "stderr",
     "output_type": "stream",
     "text": [
      "100%|██████████| 943/943 [08:52<00:00,  1.77it/s]\n",
      "100%|██████████| 316/316 [02:30<00:00,  2.10it/s]\n",
      "Training Loss: 0.0719\tValidation Loss: 0.2344\n",
      "Counter train preds: Counter({0: 2135, 1: 1917, 2: 955, 4: 914, 3: 831, 5: 788})\tCounter val preds: Counter({0: 690, 1: 662, 2: 341, 4: 314, 3: 308, 5: 206})\n",
      "Epoch train QWK: 0.984\tval QWK: 0.881\n",
      "Epoch 68/69\n",
      "==========\n",
      "100%|██████████| 943/943 [08:40<00:00,  1.81it/s]\n",
      "100%|██████████| 316/316 [02:24<00:00,  2.18it/s]\n",
      "Training Loss: 0.0686\tValidation Loss: 0.2407\n",
      "Counter train preds: Counter({0: 2132, 1: 1947, 2: 936, 4: 913, 3: 822, 5: 790})\tCounter val preds: Counter({0: 694, 1: 659, 2: 345, 4: 310, 3: 301, 5: 212})\n",
      "Epoch train QWK: 0.985\tval QWK: 0.882\n",
      "Epoch 69/69\n",
      "==========\n",
      " 59%|█████▉    | 561/943 [04:57<03:18,  1.93it/s]"
     ]
    },
    {
     "name": "stdout",
     "output_type": "stream",
     "text": [
      "Gradient overflow.  Skipping step, loss scaler 0 reducing loss scale to 32768.0\n"
     ]
    },
    {
     "name": "stderr",
     "output_type": "stream",
     "text": [
      "100%|██████████| 943/943 [08:16<00:00,  1.90it/s]\n",
      "100%|██████████| 316/316 [02:24<00:00,  2.18it/s]\n",
      "Training Loss: 0.0670\tValidation Loss: 0.2385\n",
      "Counter train preds: Counter({0: 2136, 1: 1929, 2: 938, 4: 926, 3: 829, 5: 782})\tCounter val preds: Counter({0: 700, 1: 667, 2: 329, 3: 304, 4: 294, 5: 227})\n",
      "Epoch train QWK: 0.985\tval QWK: 0.882\n",
      "Finish: 02-07-2020-08-48\n"
     ]
    }
   ],
   "source": [
    "logging.info(f'Start: {datetime.now().strftime(\"%d-%m-%Y-%H-%M\")}')\n",
    "# Start Train/Eval Experiment\n",
    "model_ft, best_loss, best_qwk = train_eval_loop(train_dataloader, val_dataloader, model_ft, optimizer, criterion, model_name=EXP_NAME)\n",
    "logging.info(f'Finish: {datetime.now().strftime(\"%d-%m-%Y-%H-%M\")}')"
   ]
  },
  {
   "cell_type": "code",
   "execution_count": 26,
   "metadata": {},
   "outputs": [],
   "source": [
    "# After finish collect hyperparams used, best metrics and write to TensorBoard\n",
    "hparam_dict = {key:val for key, val in CFG.__dict__.items() if not key.startswith(\"__\")}\n",
    "metric_dict = {\"hp/best_loss\": best_loss, \"hp/best_qwk\": best_qwk}\n",
    "writer.add_hparams(hparam_dict=hparam_dict, metric_dict=metric_dict)\n",
    "\n",
    "# Get the current git commit hash to add it in Tensorboard, to know exp code version\n",
    "label = subprocess.check_output([\"git\", \"describe\", \"--always\"]).strip()\n",
    "writer.add_text(\"Git commit hash:\", label.decode())"
   ]
  },
  {
   "cell_type": "code",
   "execution_count": 29,
   "metadata": {},
   "outputs": [],
   "source": [
    "torch.save(\n",
    "            {\n",
    "                \"model_state_dict\": model_ft.state_dict(),\n",
    "                \"optimizer_state_dict\": optimizer.state_dict(),\n",
    "                \"best_val_loss\": best_loss,\n",
    "                \"best_qwk\": best_qwk,\n",
    "            },\n",
    "            f\"{MODEL_PATH}/{EXP_NAME}_last_loss.pth\",\n",
    "            )"
   ]
  },
  {
   "cell_type": "markdown",
   "metadata": {},
   "source": [
    "#### Resume Training"
   ]
  },
  {
   "cell_type": "code",
   "execution_count": 19,
   "metadata": {},
   "outputs": [],
   "source": [
    "checkpoint = torch.load(f\"{MODEL_PATH}/{PREV_NAME}_{CFG.from_epoch}_loss.pth\")\n",
    "\n",
    "model_ft = PatchModel(arch=CFG.arch)\n",
    "model_ft.load_state_dict(checkpoint[\"model_state_dict\"])\n",
    "model_ft.to(device)\n",
    "\n",
    "optimizer = init_optimizer(model_ft)\n",
    "optimizer.load_state_dict(checkpoint[\"optimizer_state_dict\"])\n",
    "\n",
    "# set smaller lr here\n",
    "for param_group in optimizer.param_groups:\n",
    "    param_group[\"lr\"] = CFG.lr"
   ]
  },
  {
   "cell_type": "code",
   "execution_count": 20,
   "metadata": {},
   "outputs": [
    {
     "name": "stdout",
     "output_type": "stream",
     "text": [
      "5e-06\n"
     ]
    }
   ],
   "source": [
    "for param_group in optimizer.param_groups:\n",
    "    print(param_group['lr'])"
   ]
  },
  {
   "cell_type": "code",
   "execution_count": 21,
   "metadata": {
    "collapsed": true,
    "jupyter": {
     "outputs_hidden": true
    }
   },
   "outputs": [
    {
     "name": "stdout",
     "output_type": "stream",
     "text": [
      "Selected optimization level O2:  FP16 training with FP32 batchnorm and FP32 master weights.\n",
      "\n",
      "Defaults for this optimization level are:\n",
      "enabled                : True\n",
      "opt_level              : O2\n",
      "cast_model_type        : torch.float16\n",
      "patch_torch_functions  : False\n",
      "keep_batchnorm_fp32    : True\n",
      "master_weights         : True\n",
      "loss_scale             : dynamic\n",
      "Processing user overrides (additional kwargs that are not None)...\n",
      "After processing overrides, optimization options are:\n",
      "enabled                : True\n",
      "opt_level              : O2\n",
      "cast_model_type        : torch.float16\n",
      "patch_torch_functions  : False\n",
      "keep_batchnorm_fp32    : True\n",
      "master_weights         : True\n",
      "loss_scale             : dynamic\n",
      "Warning:  multi_tensor_applier fused unscale kernel is unavailable, possibly because apex was installed without --cuda_ext --cpp_ext. Using Python fallback.  Original ImportError was: ModuleNotFoundError(\"No module named 'amp_C'\")\n",
      "Epoch 18/29\n",
      "==========\n"
     ]
    },
    {
     "name": "stderr",
     "output_type": "stream",
     "text": [
      "  0%|          | 2/1991 [00:02<47:59,  1.45s/it]  "
     ]
    },
    {
     "name": "stdout",
     "output_type": "stream",
     "text": [
      "Gradient overflow.  Skipping step, loss scaler 0 reducing loss scale to 16384.0\n"
     ]
    },
    {
     "name": "stderr",
     "output_type": "stream",
     "text": [
      "  0%|          | 3/1991 [00:02<36:39,  1.11s/it]/pytorch/torch/csrc/utils/python_arg_parser.cpp:756: UserWarning: This overload of addcmul_ is deprecated:\n",
      "\taddcmul_(Number value, Tensor tensor1, Tensor tensor2)\n",
      "Consider using one of the following signatures instead:\n",
      "\taddcmul_(Tensor tensor1, Tensor tensor2, *, Number value)\n",
      "  1%|          | 20/1991 [00:08<10:34,  3.11it/s]"
     ]
    },
    {
     "name": "stdout",
     "output_type": "stream",
     "text": [
      "Gradient overflow.  Skipping step, loss scaler 0 reducing loss scale to 8192.0\n"
     ]
    },
    {
     "name": "stderr",
     "output_type": "stream",
     "text": [
      "100%|██████████| 1991/1991 [11:42<00:00,  2.83it/s]\n",
      "100%|██████████| 664/664 [02:48<00:00,  3.93it/s]"
     ]
    },
    {
     "name": "stdout",
     "output_type": "stream",
     "text": [
      "Training Loss: 0.7912\tValidation Loss: 1.0411\n",
      "Counter train preds: Counter({0: 2369, 1: 2107, 2: 919, 5: 874, 4: 857, 3: 836})\tCounter val preds: Counter({1: 801, 0: 785, 5: 329, 4: 296, 2: 236, 3: 207})\n",
      "Epoch train QWK: 0.899\tval QWK: 0.824\n",
      "Epoch 19/29\n",
      "==========\n"
     ]
    },
    {
     "name": "stderr",
     "output_type": "stream",
     "text": [
      "\n",
      "  2%|▏         | 30/1991 [00:11<10:15,  3.19it/s]"
     ]
    },
    {
     "name": "stdout",
     "output_type": "stream",
     "text": [
      "Gradient overflow.  Skipping step, loss scaler 0 reducing loss scale to 8192.0\n"
     ]
    },
    {
     "name": "stderr",
     "output_type": "stream",
     "text": [
      " 58%|█████▊    | 1158/1991 [06:40<04:27,  3.12it/s]"
     ]
    },
    {
     "name": "stdout",
     "output_type": "stream",
     "text": [
      "Gradient overflow.  Skipping step, loss scaler 0 reducing loss scale to 4096.0\n"
     ]
    },
    {
     "name": "stderr",
     "output_type": "stream",
     "text": [
      "100%|██████████| 1991/1991 [11:44<00:00,  2.83it/s]\n",
      "100%|██████████| 664/664 [02:52<00:00,  3.85it/s]"
     ]
    },
    {
     "name": "stdout",
     "output_type": "stream",
     "text": [
      "Training Loss: 0.7860\tValidation Loss: 1.0326\n",
      "Counter train preds: Counter({0: 2348, 1: 2076, 2: 946, 5: 895, 4: 865, 3: 832})\tCounter val preds: Counter({0: 810, 1: 757, 2: 311, 4: 276, 5: 261, 3: 239})\n",
      "Epoch train QWK: 0.902\tval QWK: 0.823\n",
      "Epoch 20/29\n",
      "==========\n"
     ]
    },
    {
     "name": "stderr",
     "output_type": "stream",
     "text": [
      "\n",
      " 65%|██████▍   | 1286/1991 [07:04<03:43,  3.15it/s]"
     ]
    },
    {
     "name": "stdout",
     "output_type": "stream",
     "text": [
      "Gradient overflow.  Skipping step, loss scaler 0 reducing loss scale to 4096.0\n"
     ]
    },
    {
     "name": "stderr",
     "output_type": "stream",
     "text": [
      "100%|██████████| 1991/1991 [10:55<00:00,  3.04it/s]\n",
      "100%|██████████| 664/664 [02:49<00:00,  3.91it/s]\n"
     ]
    },
    {
     "name": "stdout",
     "output_type": "stream",
     "text": [
      "Training Loss: 0.7739\tValidation Loss: 1.0376\n",
      "Counter train preds: Counter({0: 2346, 1: 2086, 2: 957, 5: 891, 4: 852, 3: 830})\tCounter val preds: Counter({0: 789, 1: 754, 4: 336, 5: 296, 3: 240, 2: 239})\n",
      "Epoch train QWK: 0.908\tval QWK: 0.832\n",
      "  Epoch 20 - Save Best QWK: 0.8318 Model\n",
      "Normalized confusion matrix\n",
      "[[0.9142462  0.07053942 0.00276625 0.00138313 0.00276625 0.00829876]\n",
      " [0.07507508 0.83333333 0.06306306 0.01651652 0.00900901 0.003003  ]\n",
      " [0.03283582 0.32238806 0.42686567 0.13134328 0.06268657 0.0238806 ]\n",
      " [0.09324759 0.05787781 0.11254019 0.45337621 0.17363344 0.10932476]\n",
      " [0.06389776 0.04792332 0.04792332 0.07348243 0.62939297 0.13738019]\n",
      " [0.05882353 0.02287582 0.00653595 0.06535948 0.18300654 0.66339869]]\n",
      "Epoch 21/29\n",
      "==========\n"
     ]
    },
    {
     "name": "stderr",
     "output_type": "stream",
     "text": [
      " 78%|███████▊  | 1560/1991 [08:07<02:12,  3.26it/s]"
     ]
    },
    {
     "name": "stdout",
     "output_type": "stream",
     "text": [
      "Gradient overflow.  Skipping step, loss scaler 0 reducing loss scale to 4096.0\n"
     ]
    },
    {
     "name": "stderr",
     "output_type": "stream",
     "text": [
      "100%|██████████| 1991/1991 [10:21<00:00,  3.20it/s]\n",
      "100%|██████████| 664/664 [02:46<00:00,  3.98it/s]"
     ]
    },
    {
     "name": "stdout",
     "output_type": "stream",
     "text": [
      "Training Loss: 0.7603\tValidation Loss: 1.0409\n",
      "Counter train preds: Counter({0: 2350, 1: 2056, 2: 916, 4: 881, 3: 881, 5: 878})\tCounter val preds: Counter({1: 823, 0: 772, 4: 322, 5: 297, 2: 238, 3: 202})\n",
      "Epoch train QWK: 0.913\tval QWK: 0.827\n",
      "Epoch 22/29\n",
      "==========\n"
     ]
    },
    {
     "name": "stderr",
     "output_type": "stream",
     "text": [
      "\n",
      "100%|██████████| 1991/1991 [11:03<00:00,  3.00it/s]\n",
      "100%|██████████| 664/664 [02:51<00:00,  3.88it/s]\n"
     ]
    },
    {
     "name": "stdout",
     "output_type": "stream",
     "text": [
      "Training Loss: 0.7578\tValidation Loss: 1.0242\n",
      "Counter train preds: Counter({0: 2364, 1: 2060, 2: 930, 5: 881, 3: 875, 4: 852})\tCounter val preds: Counter({0: 806, 1: 774, 3: 282, 2: 271, 4: 265, 5: 256})\n",
      "Epoch train QWK: 0.905\tval QWK: 0.819\n",
      "  Epoch 22 - Save Best Loss: 1.0242 Model\n",
      "Normalized confusion matrix\n",
      "[[0.91839557 0.06777317 0.00276625 0.00276625 0.00276625 0.0055325 ]\n",
      " [0.08258258 0.84234234 0.05555556 0.01201201 0.003003   0.0045045 ]\n",
      " [0.03283582 0.34925373 0.48358209 0.10447761 0.01791045 0.0119403 ]\n",
      " [0.09967846 0.06430868 0.14790997 0.49839228 0.10289389 0.08681672]\n",
      " [0.08306709 0.06070288 0.0543131  0.15974441 0.5399361  0.10223642]\n",
      " [0.0620915  0.02614379 0.02287582 0.10457516 0.17647059 0.60784314]]\n",
      "Epoch 23/29\n",
      "==========\n"
     ]
    },
    {
     "name": "stderr",
     "output_type": "stream",
     "text": [
      " 27%|██▋       | 532/1991 [02:55<07:40,  3.17it/s]"
     ]
    },
    {
     "name": "stdout",
     "output_type": "stream",
     "text": [
      "Gradient overflow.  Skipping step, loss scaler 0 reducing loss scale to 4096.0\n"
     ]
    },
    {
     "name": "stderr",
     "output_type": "stream",
     "text": [
      "100%|██████████| 1991/1991 [10:51<00:00,  3.06it/s]\n",
      "100%|██████████| 664/664 [02:51<00:00,  3.87it/s]"
     ]
    },
    {
     "name": "stdout",
     "output_type": "stream",
     "text": [
      "Training Loss: 0.7567\tValidation Loss: 1.0275\n",
      "Counter train preds: Counter({0: 2333, 1: 2082, 2: 934, 5: 883, 3: 871, 4: 859})\tCounter val preds: Counter({0: 810, 1: 695, 2: 351, 5: 290, 4: 287, 3: 221})\n",
      "Epoch train QWK: 0.910\tval QWK: 0.825\n",
      "Epoch 24/29\n",
      "==========\n"
     ]
    },
    {
     "name": "stderr",
     "output_type": "stream",
     "text": [
      "\n",
      "100%|██████████| 1991/1991 [11:17<00:00,  2.94it/s]\n",
      "100%|██████████| 664/664 [02:50<00:00,  3.90it/s]"
     ]
    },
    {
     "name": "stdout",
     "output_type": "stream",
     "text": [
      "Training Loss: 0.7417\tValidation Loss: 1.0299\n",
      "Counter train preds: Counter({0: 2346, 1: 2052, 2: 938, 5: 900, 3: 869, 4: 857})\tCounter val preds: Counter({0: 802, 1: 775, 5: 302, 3: 301, 4: 272, 2: 202})\n",
      "Epoch train QWK: 0.918\tval QWK: 0.829\n",
      "Epoch 25/29\n",
      "==========\n"
     ]
    },
    {
     "name": "stderr",
     "output_type": "stream",
     "text": [
      "\n",
      " 28%|██▊       | 552/1991 [02:54<07:19,  3.27it/s]"
     ]
    },
    {
     "name": "stdout",
     "output_type": "stream",
     "text": [
      "Gradient overflow.  Skipping step, loss scaler 0 reducing loss scale to 8192.0\n"
     ]
    },
    {
     "name": "stderr",
     "output_type": "stream",
     "text": [
      " 72%|███████▏  | 1424/1991 [07:37<02:50,  3.33it/s]"
     ]
    },
    {
     "name": "stdout",
     "output_type": "stream",
     "text": [
      "Gradient overflow.  Skipping step, loss scaler 0 reducing loss scale to 4096.0\n"
     ]
    },
    {
     "name": "stderr",
     "output_type": "stream",
     "text": [
      "100%|██████████| 1991/1991 [10:35<00:00,  3.13it/s]\n",
      "100%|██████████| 664/664 [02:47<00:00,  3.97it/s]"
     ]
    },
    {
     "name": "stdout",
     "output_type": "stream",
     "text": [
      "Training Loss: 0.7373\tValidation Loss: 1.0288\n",
      "Counter train preds: Counter({0: 2352, 1: 2050, 2: 920, 5: 899, 3: 876, 4: 865})\tCounter val preds: Counter({0: 794, 1: 760, 5: 304, 3: 277, 2: 275, 4: 244})\n",
      "Epoch train QWK: 0.914\tval QWK: 0.827\n",
      "Epoch 26/29\n",
      "==========\n"
     ]
    },
    {
     "name": "stderr",
     "output_type": "stream",
     "text": [
      "\n",
      " 75%|███████▍  | 1488/1991 [07:48<02:34,  3.26it/s]"
     ]
    },
    {
     "name": "stdout",
     "output_type": "stream",
     "text": [
      "Gradient overflow.  Skipping step, loss scaler 0 reducing loss scale to 4096.0\n"
     ]
    },
    {
     "name": "stderr",
     "output_type": "stream",
     "text": [
      "100%|██████████| 1991/1991 [10:30<00:00,  3.16it/s]\n",
      "100%|██████████| 664/664 [02:53<00:00,  3.83it/s]"
     ]
    },
    {
     "name": "stdout",
     "output_type": "stream",
     "text": [
      "Training Loss: 0.7313\tValidation Loss: 1.0301\n",
      "Counter train preds: Counter({0: 2340, 1: 2038, 2: 941, 5: 896, 3: 889, 4: 858})\tCounter val preds: Counter({0: 795, 1: 761, 4: 295, 5: 290, 3: 276, 2: 237})\n",
      "Epoch train QWK: 0.919\tval QWK: 0.828\n",
      "Epoch 27/29\n",
      "==========\n"
     ]
    },
    {
     "name": "stderr",
     "output_type": "stream",
     "text": [
      "\n",
      " 82%|████████▏ | 1630/1991 [09:15<01:51,  3.25it/s]"
     ]
    },
    {
     "name": "stdout",
     "output_type": "stream",
     "text": [
      "Gradient overflow.  Skipping step, loss scaler 0 reducing loss scale to 4096.0\n"
     ]
    },
    {
     "name": "stderr",
     "output_type": "stream",
     "text": [
      "100%|██████████| 1991/1991 [11:12<00:00,  2.96it/s]\n",
      "100%|██████████| 664/664 [02:48<00:00,  3.94it/s]"
     ]
    },
    {
     "name": "stdout",
     "output_type": "stream",
     "text": [
      "Training Loss: 0.7174\tValidation Loss: 1.0293\n",
      "Counter train preds: Counter({0: 2331, 1: 2038, 2: 968, 5: 887, 4: 876, 3: 862})\tCounter val preds: Counter({0: 806, 1: 744, 4: 304, 5: 297, 2: 271, 3: 232})\n",
      "Epoch train QWK: 0.928\tval QWK: 0.830\n",
      "Epoch 28/29\n",
      "==========\n"
     ]
    },
    {
     "name": "stderr",
     "output_type": "stream",
     "text": [
      "\n",
      " 93%|█████████▎| 1854/1991 [10:05<00:44,  3.11it/s]"
     ]
    },
    {
     "name": "stdout",
     "output_type": "stream",
     "text": [
      "Gradient overflow.  Skipping step, loss scaler 0 reducing loss scale to 4096.0\n"
     ]
    },
    {
     "name": "stderr",
     "output_type": "stream",
     "text": [
      "100%|██████████| 1991/1991 [10:49<00:00,  3.07it/s]\n",
      "100%|██████████| 664/664 [02:45<00:00,  4.01it/s]\n"
     ]
    },
    {
     "name": "stdout",
     "output_type": "stream",
     "text": [
      "Training Loss: 0.7082\tValidation Loss: 1.0334\n",
      "Counter train preds: Counter({0: 2310, 1: 2049, 2: 958, 5: 900, 4: 888, 3: 857})\tCounter val preds: Counter({0: 777, 1: 752, 4: 342, 2: 287, 3: 255, 5: 241})\n",
      "Epoch train QWK: 0.927\tval QWK: 0.836\n",
      "  Epoch 28 - Save Best QWK: 0.8358 Model\n",
      "Normalized confusion matrix\n",
      "[[0.90871369 0.07192254 0.00414938 0.00414938 0.0055325  0.0055325 ]\n",
      " [0.07657658 0.82432432 0.07207207 0.01951952 0.0045045  0.003003  ]\n",
      " [0.02686567 0.33432836 0.48955224 0.09850746 0.03880597 0.0119403 ]\n",
      " [0.08038585 0.06109325 0.15434084 0.45016077 0.17684887 0.07717042]\n",
      " [0.06070288 0.04472843 0.06070288 0.12140575 0.62619808 0.08626198]\n",
      " [0.05228758 0.01960784 0.01633987 0.09150327 0.23202614 0.58823529]]\n",
      "Epoch 29/29\n",
      "==========\n"
     ]
    },
    {
     "name": "stderr",
     "output_type": "stream",
     "text": [
      "100%|██████████| 1991/1991 [11:31<00:00,  2.88it/s]\n",
      "100%|██████████| 664/664 [02:57<00:00,  3.74it/s]"
     ]
    },
    {
     "name": "stdout",
     "output_type": "stream",
     "text": [
      "Training Loss: 0.6978\tValidation Loss: 1.0287\n",
      "Counter train preds: Counter({0: 2313, 1: 2049, 2: 946, 5: 895, 4: 891, 3: 868})\tCounter val preds: Counter({0: 819, 1: 726, 5: 297, 2: 274, 3: 270, 4: 268})\n",
      "Epoch train QWK: 0.932\tval QWK: 0.829\n"
     ]
    },
    {
     "name": "stderr",
     "output_type": "stream",
     "text": [
      "\n"
     ]
    }
   ],
   "source": [
    "# Start Train/Eval Experiment\n",
    "model_ft, best_loss, best_qwk = train_eval_loop(train_dataloader, val_dataloader, model_ft, optimizer, criterion, checkpoint=checkpoint, model_name=PREV_NAME)"
   ]
  },
  {
   "cell_type": "code",
   "execution_count": null,
   "metadata": {},
   "outputs": [],
   "source": [
    "# After finish collect hyperparams used, best metrics and write to TensorBoard\n",
    "hparam_dict = {key:val for key, val in CFG.__dict__.items() if not key.startswith(\"__\")}\n",
    "metric_dict = {\"hp/best_loss\": best_loss, \"hp/best_qwk\": best_qwk}\n",
    "writer.add_hparams(hparam_dict=hparam_dict, metric_dict=metric_dict)\n",
    "\n",
    "# Get the current git commit hash to add it in Tensorboard, to know exp code version\n",
    "label = subprocess.check_output([\"git\", \"describe\", \"--always\"]).strip()\n",
    "writer.add_text(\"Git commit hash:\", label.decode())"
   ]
  },
  {
   "cell_type": "markdown",
   "metadata": {},
   "source": [
    "### Train with CV"
   ]
  },
  {
   "cell_type": "code",
   "execution_count": 34,
   "metadata": {
    "collapsed": true,
    "jupyter": {
     "outputs_hidden": true
    }
   },
   "outputs": [
    {
     "name": "stdout",
     "output_type": "stream",
     "text": [
      "Train with CV, on fold 0\n",
      "Epoch 0/9\n",
      "----------\n"
     ]
    },
    {
     "name": "stderr",
     "output_type": "stream",
     "text": [
      "100%|██████████| 5/5 [00:00<00:00,  7.61it/s]"
     ]
    },
    {
     "name": "stdout",
     "output_type": "stream",
     "text": [
      "Visualising input\n"
     ]
    },
    {
     "name": "stderr",
     "output_type": "stream",
     "text": [
      "\n",
      "100%|██████████| 2/2 [00:00<00:00,  3.84it/s]"
     ]
    },
    {
     "name": "stdout",
     "output_type": "stream",
     "text": [
      "Training Loss: 1.7832\tValidation Loss: 1.6735\n",
      "Counter train preds: Counter({1: 50, 4: 11, 3: 8, 0: 6})\tCounter val preds: Counter({0: 25})\n",
      "Epoch train QWK: 0.193\tval QWK: 0.000\n",
      "Epoch 1/9\n",
      "----------\n"
     ]
    },
    {
     "name": "stderr",
     "output_type": "stream",
     "text": [
      "\n",
      "100%|██████████| 5/5 [00:00<00:00,  7.82it/s]"
     ]
    },
    {
     "name": "stdout",
     "output_type": "stream",
     "text": [
      "Visualising input\n"
     ]
    },
    {
     "name": "stderr",
     "output_type": "stream",
     "text": [
      "\n",
      "100%|██████████| 2/2 [00:00<00:00,  4.13it/s]"
     ]
    },
    {
     "name": "stdout",
     "output_type": "stream",
     "text": [
      "Training Loss: 1.5393\tValidation Loss: 1.6932\n",
      "Counter train preds: Counter({1: 39, 0: 21, 3: 7, 4: 6, 5: 2})\tCounter val preds: Counter({1: 25})\n",
      "Epoch train QWK: 0.236\tval QWK: 0.000\n",
      "Epoch 2/9\n",
      "----------\n"
     ]
    },
    {
     "name": "stderr",
     "output_type": "stream",
     "text": [
      "\n",
      "100%|██████████| 5/5 [00:00<00:00,  7.61it/s]"
     ]
    },
    {
     "name": "stdout",
     "output_type": "stream",
     "text": [
      "Visualising input\n"
     ]
    },
    {
     "name": "stderr",
     "output_type": "stream",
     "text": [
      "\n",
      "100%|██████████| 2/2 [00:00<00:00,  4.02it/s]"
     ]
    },
    {
     "name": "stdout",
     "output_type": "stream",
     "text": [
      "Training Loss: 1.4436\tValidation Loss: 1.7056\n",
      "Counter train preds: Counter({1: 34, 0: 26, 3: 7, 5: 5, 4: 3})\tCounter val preds: Counter({1: 25})\n",
      "Epoch train QWK: 0.321\tval QWK: 0.000\n",
      "Epoch 3/9\n",
      "----------\n"
     ]
    },
    {
     "name": "stderr",
     "output_type": "stream",
     "text": [
      "\n",
      "100%|██████████| 5/5 [00:00<00:00,  5.05it/s]"
     ]
    },
    {
     "name": "stdout",
     "output_type": "stream",
     "text": [
      "Visualising input\n"
     ]
    },
    {
     "name": "stderr",
     "output_type": "stream",
     "text": [
      "100%|██████████| 5/5 [00:00<00:00,  7.88it/s]\n",
      "100%|██████████| 2/2 [00:00<00:00,  2.04it/s]"
     ]
    },
    {
     "name": "stdout",
     "output_type": "stream",
     "text": [
      "Training Loss: 1.4152\tValidation Loss: 1.6723\n",
      "Counter train preds: Counter({0: 33, 1: 31, 3: 5, 4: 5, 5: 1})\tCounter val preds: Counter({1: 25})\n",
      "Epoch train QWK: 0.282\tval QWK: 0.000\n",
      "Epoch 4/9\n",
      "----------\n"
     ]
    },
    {
     "name": "stderr",
     "output_type": "stream",
     "text": [
      "\n",
      " 20%|██        | 1/5 [00:00<00:01,  2.74it/s]"
     ]
    },
    {
     "name": "stdout",
     "output_type": "stream",
     "text": [
      "Visualising input\n"
     ]
    },
    {
     "name": "stderr",
     "output_type": "stream",
     "text": [
      "100%|██████████| 5/5 [00:00<00:00,  7.80it/s]\n",
      "100%|██████████| 2/2 [00:00<00:00,  3.81it/s]"
     ]
    },
    {
     "name": "stdout",
     "output_type": "stream",
     "text": [
      "Training Loss: 1.3904\tValidation Loss: 1.6386\n",
      "Counter train preds: Counter({1: 33, 0: 28, 4: 6, 3: 5, 5: 3})\tCounter val preds: Counter({1: 15, 5: 3, 0: 3, 2: 2, 4: 1, 3: 1})\n",
      "Epoch train QWK: 0.393\tval QWK: 0.186\n",
      "Epoch 5/9\n",
      "----------\n"
     ]
    },
    {
     "name": "stderr",
     "output_type": "stream",
     "text": [
      "\n",
      " 20%|██        | 1/5 [00:00<00:01,  2.53it/s]"
     ]
    },
    {
     "name": "stdout",
     "output_type": "stream",
     "text": [
      "Visualising input\n"
     ]
    },
    {
     "name": "stderr",
     "output_type": "stream",
     "text": [
      "100%|██████████| 5/5 [00:00<00:00,  7.49it/s]\n",
      "100%|██████████| 2/2 [00:00<00:00,  3.79it/s]"
     ]
    },
    {
     "name": "stdout",
     "output_type": "stream",
     "text": [
      "Training Loss: 1.3730\tValidation Loss: 1.6927\n",
      "Counter train preds: Counter({0: 33, 1: 26, 5: 7, 3: 4, 4: 4, 2: 1})\tCounter val preds: Counter({1: 13, 5: 6, 2: 4, 3: 1, 0: 1})\n",
      "Epoch train QWK: 0.517\tval QWK: 0.545\n",
      "Epoch 6/9\n",
      "----------\n"
     ]
    },
    {
     "name": "stderr",
     "output_type": "stream",
     "text": [
      "\n",
      "100%|██████████| 5/5 [00:00<00:00,  4.96it/s]"
     ]
    },
    {
     "name": "stdout",
     "output_type": "stream",
     "text": [
      "Visualising input\n"
     ]
    },
    {
     "name": "stderr",
     "output_type": "stream",
     "text": [
      "100%|██████████| 5/5 [00:00<00:00,  7.91it/s]\n",
      "100%|██████████| 2/2 [00:00<00:00,  3.81it/s]"
     ]
    },
    {
     "name": "stdout",
     "output_type": "stream",
     "text": [
      "Training Loss: 1.3238\tValidation Loss: 1.8837\n",
      "Counter train preds: Counter({0: 30, 1: 29, 5: 6, 3: 6, 4: 4})\tCounter val preds: Counter({1: 9, 5: 7, 2: 6, 3: 3})\n",
      "Epoch train QWK: 0.438\tval QWK: 0.329\n",
      "Epoch 7/9\n",
      "----------\n"
     ]
    },
    {
     "name": "stderr",
     "output_type": "stream",
     "text": [
      "\n",
      "100%|██████████| 5/5 [00:00<00:00,  7.85it/s]"
     ]
    },
    {
     "name": "stdout",
     "output_type": "stream",
     "text": [
      "Visualising input\n"
     ]
    },
    {
     "name": "stderr",
     "output_type": "stream",
     "text": [
      "\n",
      "100%|██████████| 2/2 [00:00<00:00,  3.89it/s]"
     ]
    },
    {
     "name": "stdout",
     "output_type": "stream",
     "text": [
      "Training Loss: 1.3055\tValidation Loss: 2.0990\n",
      "Counter train preds: Counter({1: 34, 0: 22, 5: 8, 3: 7, 4: 2, 2: 2})\tCounter val preds: Counter({2: 12, 5: 5, 3: 5, 1: 2, 4: 1})\n",
      "Epoch train QWK: 0.552\tval QWK: 0.326\n",
      "Epoch 8/9\n",
      "----------\n"
     ]
    },
    {
     "name": "stderr",
     "output_type": "stream",
     "text": [
      "\n",
      " 20%|██        | 1/5 [00:00<00:01,  2.66it/s]"
     ]
    },
    {
     "name": "stdout",
     "output_type": "stream",
     "text": [
      "Visualising input\n"
     ]
    },
    {
     "name": "stderr",
     "output_type": "stream",
     "text": [
      "100%|██████████| 5/5 [00:00<00:00,  7.53it/s]\n",
      "100%|██████████| 2/2 [00:00<00:00,  3.87it/s]"
     ]
    },
    {
     "name": "stdout",
     "output_type": "stream",
     "text": [
      "Training Loss: 1.3063\tValidation Loss: 2.0883\n",
      "Counter train preds: Counter({1: 35, 0: 25, 4: 7, 3: 5, 5: 3})\tCounter val preds: Counter({2: 13, 5: 5, 1: 3, 3: 2, 4: 1, 0: 1})\n",
      "Epoch train QWK: 0.549\tval QWK: 0.199\n",
      "Epoch 9/9\n",
      "----------\n"
     ]
    },
    {
     "name": "stderr",
     "output_type": "stream",
     "text": [
      "\n",
      "100%|██████████| 5/5 [00:00<00:00,  4.77it/s]"
     ]
    },
    {
     "name": "stdout",
     "output_type": "stream",
     "text": [
      "Visualising input\n"
     ]
    },
    {
     "name": "stderr",
     "output_type": "stream",
     "text": [
      "100%|██████████| 5/5 [00:00<00:00,  7.73it/s]\n",
      "100%|██████████| 2/2 [00:00<00:00,  3.86it/s]"
     ]
    },
    {
     "name": "stdout",
     "output_type": "stream",
     "text": [
      "Training Loss: 1.3191\tValidation Loss: 1.8377\n",
      "Counter train preds: Counter({1: 37, 0: 24, 5: 7, 4: 3, 3: 3, 2: 1})\tCounter val preds: Counter({1: 21, 3: 2, 2: 1, 5: 1})\n",
      "Epoch train QWK: 0.435\tval QWK: 0.305\n",
      "Train with CV, on fold 1\n",
      "Epoch 0/9\n",
      "----------\n"
     ]
    },
    {
     "name": "stderr",
     "output_type": "stream",
     "text": [
      "\n",
      "100%|██████████| 5/5 [00:00<00:00,  4.80it/s]"
     ]
    },
    {
     "name": "stdout",
     "output_type": "stream",
     "text": [
      "Visualising input\n"
     ]
    },
    {
     "name": "stderr",
     "output_type": "stream",
     "text": [
      "100%|██████████| 5/5 [00:00<00:00,  7.69it/s]\n",
      "100%|██████████| 2/2 [00:00<00:00,  3.71it/s]"
     ]
    },
    {
     "name": "stdout",
     "output_type": "stream",
     "text": [
      "Training Loss: 1.7209\tValidation Loss: 1.7380\n",
      "Counter train preds: Counter({0: 59, 3: 15, 1: 1})\tCounter val preds: Counter({0: 25})\n",
      "Epoch train QWK: 0.263\tval QWK: 0.000\n",
      "Epoch 1/9\n",
      "----------\n"
     ]
    },
    {
     "name": "stderr",
     "output_type": "stream",
     "text": [
      "\n",
      "100%|██████████| 5/5 [00:00<00:00,  7.81it/s]"
     ]
    },
    {
     "name": "stdout",
     "output_type": "stream",
     "text": [
      "Visualising input\n"
     ]
    },
    {
     "name": "stderr",
     "output_type": "stream",
     "text": [
      "\n",
      "100%|██████████| 2/2 [00:00<00:00,  3.62it/s]"
     ]
    },
    {
     "name": "stdout",
     "output_type": "stream",
     "text": [
      "Training Loss: 1.5459\tValidation Loss: 1.7958\n",
      "Counter train preds: Counter({0: 36, 1: 32, 3: 5, 4: 2})\tCounter val preds: Counter({0: 25})\n",
      "Epoch train QWK: 0.331\tval QWK: 0.000\n",
      "Epoch 2/9\n",
      "----------\n"
     ]
    },
    {
     "name": "stderr",
     "output_type": "stream",
     "text": [
      "\n",
      " 60%|██████    | 3/5 [00:00<00:00,  3.30it/s]"
     ]
    },
    {
     "name": "stdout",
     "output_type": "stream",
     "text": [
      "Visualising input\n"
     ]
    },
    {
     "name": "stderr",
     "output_type": "stream",
     "text": [
      "100%|██████████| 5/5 [00:00<00:00,  7.36it/s]\n",
      "100%|██████████| 2/2 [00:00<00:00,  3.74it/s]"
     ]
    },
    {
     "name": "stdout",
     "output_type": "stream",
     "text": [
      "Training Loss: 1.4606\tValidation Loss: 1.9763\n",
      "Counter train preds: Counter({1: 34, 0: 29, 4: 8, 3: 4})\tCounter val preds: Counter({0: 25})\n",
      "Epoch train QWK: 0.388\tval QWK: 0.000\n",
      "Epoch 3/9\n",
      "----------\n"
     ]
    },
    {
     "name": "stderr",
     "output_type": "stream",
     "text": [
      "\n",
      " 60%|██████    | 3/5 [00:00<00:00,  3.59it/s]"
     ]
    },
    {
     "name": "stdout",
     "output_type": "stream",
     "text": [
      "Visualising input\n"
     ]
    },
    {
     "name": "stderr",
     "output_type": "stream",
     "text": [
      "100%|██████████| 5/5 [00:00<00:00,  7.80it/s]\n",
      "100%|██████████| 2/2 [00:00<00:00,  3.66it/s]"
     ]
    },
    {
     "name": "stdout",
     "output_type": "stream",
     "text": [
      "Training Loss: 1.4206\tValidation Loss: 1.8872\n",
      "Counter train preds: Counter({1: 32, 0: 24, 4: 8, 3: 6, 5: 3, 2: 2})\tCounter val preds: Counter({0: 25})\n",
      "Epoch train QWK: 0.441\tval QWK: 0.000\n",
      "Epoch 4/9\n",
      "----------\n"
     ]
    },
    {
     "name": "stderr",
     "output_type": "stream",
     "text": [
      "\n",
      "100%|██████████| 5/5 [00:00<00:00,  5.28it/s]"
     ]
    },
    {
     "name": "stdout",
     "output_type": "stream",
     "text": [
      "Visualising input\n"
     ]
    },
    {
     "name": "stderr",
     "output_type": "stream",
     "text": [
      "100%|██████████| 5/5 [00:00<00:00,  8.24it/s]\n",
      "100%|██████████| 2/2 [00:00<00:00,  3.60it/s]"
     ]
    },
    {
     "name": "stdout",
     "output_type": "stream",
     "text": [
      "Training Loss: 1.4067\tValidation Loss: 2.2129\n",
      "Counter train preds: Counter({1: 36, 0: 25, 3: 10, 5: 2, 2: 1, 4: 1})\tCounter val preds: Counter({0: 25})\n",
      "Epoch train QWK: 0.388\tval QWK: 0.000\n",
      "Epoch 5/9\n",
      "----------\n"
     ]
    },
    {
     "name": "stderr",
     "output_type": "stream",
     "text": [
      "\n",
      "100%|██████████| 5/5 [00:00<00:00,  8.12it/s]"
     ]
    },
    {
     "name": "stdout",
     "output_type": "stream",
     "text": [
      "Visualising input\n"
     ]
    },
    {
     "name": "stderr",
     "output_type": "stream",
     "text": [
      "\n",
      "100%|██████████| 2/2 [00:00<00:00,  3.64it/s]"
     ]
    },
    {
     "name": "stdout",
     "output_type": "stream",
     "text": [
      "Training Loss: 1.3640\tValidation Loss: 2.9000\n",
      "Counter train preds: Counter({1: 33, 0: 24, 3: 12, 2: 4, 4: 2})\tCounter val preds: Counter({0: 25})\n",
      "Epoch train QWK: 0.364\tval QWK: 0.000\n",
      "Epoch 6/9\n",
      "----------\n"
     ]
    },
    {
     "name": "stderr",
     "output_type": "stream",
     "text": [
      "\n",
      "100%|██████████| 5/5 [00:00<00:00,  4.87it/s]"
     ]
    },
    {
     "name": "stdout",
     "output_type": "stream",
     "text": [
      "Visualising input\n"
     ]
    },
    {
     "name": "stderr",
     "output_type": "stream",
     "text": [
      "100%|██████████| 5/5 [00:00<00:00,  7.86it/s]\n",
      "100%|██████████| 2/2 [00:00<00:00,  3.44it/s]"
     ]
    },
    {
     "name": "stdout",
     "output_type": "stream",
     "text": [
      "Training Loss: 1.3085\tValidation Loss: 2.7819\n",
      "Counter train preds: Counter({1: 33, 0: 20, 3: 11, 2: 4, 4: 4, 5: 3})\tCounter val preds: Counter({0: 25})\n",
      "Epoch train QWK: 0.568\tval QWK: 0.000\n",
      "Epoch 7/9\n",
      "----------\n"
     ]
    },
    {
     "name": "stderr",
     "output_type": "stream",
     "text": [
      "\n",
      "100%|██████████| 5/5 [00:00<00:00,  7.36it/s]"
     ]
    },
    {
     "name": "stdout",
     "output_type": "stream",
     "text": [
      "Visualising input\n"
     ]
    },
    {
     "name": "stderr",
     "output_type": "stream",
     "text": [
      "\n",
      "100%|██████████| 2/2 [00:00<00:00,  2.55it/s]"
     ]
    },
    {
     "name": "stdout",
     "output_type": "stream",
     "text": [
      "Training Loss: 1.3142\tValidation Loss: 2.3783\n",
      "Counter train preds: Counter({1: 36, 0: 21, 3: 9, 2: 5, 5: 3, 4: 1})\tCounter val preds: Counter({0: 18, 1: 5, 2: 2})\n",
      "Epoch train QWK: 0.435\tval QWK: 0.116\n",
      "Epoch 8/9\n",
      "----------\n"
     ]
    },
    {
     "name": "stderr",
     "output_type": "stream",
     "text": [
      "\n",
      "100%|██████████| 5/5 [00:00<00:00,  5.30it/s]"
     ]
    },
    {
     "name": "stdout",
     "output_type": "stream",
     "text": [
      "Visualising input\n"
     ]
    },
    {
     "name": "stderr",
     "output_type": "stream",
     "text": [
      "100%|██████████| 5/5 [00:00<00:00,  8.07it/s]\n",
      "100%|██████████| 2/2 [00:00<00:00,  3.62it/s]"
     ]
    },
    {
     "name": "stdout",
     "output_type": "stream",
     "text": [
      "Training Loss: 1.2917\tValidation Loss: 3.1009\n",
      "Counter train preds: Counter({1: 38, 0: 19, 2: 6, 4: 5, 3: 4, 5: 3})\tCounter val preds: Counter({0: 23, 2: 2})\n",
      "Epoch train QWK: 0.433\tval QWK: 0.009\n",
      "Epoch 9/9\n",
      "----------\n"
     ]
    },
    {
     "name": "stderr",
     "output_type": "stream",
     "text": [
      "\n",
      "100%|██████████| 5/5 [00:00<00:00,  7.24it/s]"
     ]
    },
    {
     "name": "stdout",
     "output_type": "stream",
     "text": [
      "Visualising input\n"
     ]
    },
    {
     "name": "stderr",
     "output_type": "stream",
     "text": [
      "\n",
      "100%|██████████| 2/2 [00:00<00:00,  3.73it/s]"
     ]
    },
    {
     "name": "stdout",
     "output_type": "stream",
     "text": [
      "Training Loss: 1.2545\tValidation Loss: 2.9466\n",
      "Counter train preds: Counter({1: 32, 0: 20, 3: 10, 4: 5, 2: 5, 5: 3})\tCounter val preds: Counter({0: 23, 2: 2})\n",
      "Epoch train QWK: 0.635\tval QWK: 0.009\n",
      "Train with CV, on fold 2\n",
      "Epoch 0/9\n",
      "----------\n"
     ]
    },
    {
     "name": "stderr",
     "output_type": "stream",
     "text": [
      "\n",
      "100%|██████████| 5/5 [00:00<00:00,  7.96it/s]"
     ]
    },
    {
     "name": "stdout",
     "output_type": "stream",
     "text": [
      "Visualising input\n"
     ]
    },
    {
     "name": "stderr",
     "output_type": "stream",
     "text": [
      "\n",
      "100%|██████████| 2/2 [00:00<00:00,  3.70it/s]"
     ]
    },
    {
     "name": "stdout",
     "output_type": "stream",
     "text": [
      "Training Loss: 1.6856\tValidation Loss: 1.8174\n",
      "Counter train preds: Counter({1: 48, 3: 15, 0: 12})\tCounter val preds: Counter({0: 25})\n",
      "Epoch train QWK: 0.208\tval QWK: 0.000\n",
      "Epoch 1/9\n",
      "----------\n"
     ]
    },
    {
     "name": "stderr",
     "output_type": "stream",
     "text": [
      "\n",
      " 60%|██████    | 3/5 [00:00<00:00,  3.45it/s]"
     ]
    },
    {
     "name": "stdout",
     "output_type": "stream",
     "text": [
      "Visualising input\n"
     ]
    },
    {
     "name": "stderr",
     "output_type": "stream",
     "text": [
      "100%|██████████| 5/5 [00:00<00:00,  7.56it/s]\n",
      "100%|██████████| 2/2 [00:00<00:00,  3.71it/s]"
     ]
    },
    {
     "name": "stdout",
     "output_type": "stream",
     "text": [
      "Training Loss: 1.5455\tValidation Loss: 2.4182\n",
      "Counter train preds: Counter({1: 37, 0: 21, 3: 16, 2: 1})\tCounter val preds: Counter({0: 25})\n",
      "Epoch train QWK: 0.313\tval QWK: 0.000\n",
      "Epoch 2/9\n",
      "----------\n"
     ]
    },
    {
     "name": "stderr",
     "output_type": "stream",
     "text": [
      "\n",
      "100%|██████████| 5/5 [00:00<00:00,  8.02it/s]"
     ]
    },
    {
     "name": "stdout",
     "output_type": "stream",
     "text": [
      "Visualising input\n"
     ]
    },
    {
     "name": "stderr",
     "output_type": "stream",
     "text": [
      "\n",
      "100%|██████████| 2/2 [00:00<00:00,  3.73it/s]"
     ]
    },
    {
     "name": "stdout",
     "output_type": "stream",
     "text": [
      "Training Loss: 1.4741\tValidation Loss: 2.2700\n",
      "Counter train preds: Counter({1: 33, 0: 26, 3: 14, 2: 2})\tCounter val preds: Counter({0: 25})\n",
      "Epoch train QWK: 0.287\tval QWK: 0.000\n",
      "Epoch 3/9\n",
      "----------\n"
     ]
    },
    {
     "name": "stderr",
     "output_type": "stream",
     "text": [
      "\n",
      "100%|██████████| 5/5 [00:00<00:00,  7.64it/s]"
     ]
    },
    {
     "name": "stdout",
     "output_type": "stream",
     "text": [
      "Visualising input\n"
     ]
    },
    {
     "name": "stderr",
     "output_type": "stream",
     "text": [
      "\n",
      "100%|██████████| 2/2 [00:00<00:00,  3.60it/s]"
     ]
    },
    {
     "name": "stdout",
     "output_type": "stream",
     "text": [
      "Training Loss: 1.4289\tValidation Loss: 2.4097\n",
      "Counter train preds: Counter({1: 35, 0: 28, 3: 7, 2: 5})\tCounter val preds: Counter({0: 25})\n",
      "Epoch train QWK: 0.247\tval QWK: 0.000\n",
      "Epoch 4/9\n",
      "----------\n"
     ]
    },
    {
     "name": "stderr",
     "output_type": "stream",
     "text": [
      "\n",
      " 20%|██        | 1/5 [00:00<00:01,  2.55it/s]"
     ]
    },
    {
     "name": "stdout",
     "output_type": "stream",
     "text": [
      "Visualising input\n"
     ]
    },
    {
     "name": "stderr",
     "output_type": "stream",
     "text": [
      "100%|██████████| 5/5 [00:00<00:00,  7.52it/s]\n",
      "100%|██████████| 2/2 [00:00<00:00,  3.67it/s]"
     ]
    },
    {
     "name": "stdout",
     "output_type": "stream",
     "text": [
      "Training Loss: 1.3615\tValidation Loss: 2.0392\n",
      "Counter train preds: Counter({1: 39, 0: 25, 3: 7, 2: 4})\tCounter val preds: Counter({0: 24, 2: 1})\n",
      "Epoch train QWK: 0.307\tval QWK: 0.064\n",
      "Epoch 5/9\n",
      "----------\n"
     ]
    },
    {
     "name": "stderr",
     "output_type": "stream",
     "text": [
      "\n",
      "100%|██████████| 5/5 [00:00<00:00,  7.67it/s]"
     ]
    },
    {
     "name": "stdout",
     "output_type": "stream",
     "text": [
      "Visualising input\n"
     ]
    },
    {
     "name": "stderr",
     "output_type": "stream",
     "text": [
      "\n",
      "100%|██████████| 2/2 [00:00<00:00,  3.69it/s]"
     ]
    },
    {
     "name": "stdout",
     "output_type": "stream",
     "text": [
      "Training Loss: 1.4250\tValidation Loss: 1.6867\n",
      "Counter train preds: Counter({1: 41, 0: 26, 3: 8})\tCounter val preds: Counter({0: 20, 2: 3, 1: 2})\n",
      "Epoch train QWK: 0.266\tval QWK: 0.214\n",
      "Epoch 6/9\n",
      "----------\n"
     ]
    },
    {
     "name": "stderr",
     "output_type": "stream",
     "text": [
      "\n",
      "100%|██████████| 5/5 [00:00<00:00,  7.91it/s]"
     ]
    },
    {
     "name": "stdout",
     "output_type": "stream",
     "text": [
      "Visualising input\n"
     ]
    },
    {
     "name": "stderr",
     "output_type": "stream",
     "text": [
      "\n",
      "100%|██████████| 2/2 [00:00<00:00,  3.60it/s]"
     ]
    },
    {
     "name": "stdout",
     "output_type": "stream",
     "text": [
      "Training Loss: 1.3328\tValidation Loss: 1.7360\n",
      "Counter train preds: Counter({1: 34, 0: 24, 3: 12, 2: 4, 5: 1})\tCounter val preds: Counter({0: 18, 1: 5, 2: 2})\n",
      "Epoch train QWK: 0.365\tval QWK: 0.130\n",
      "Epoch 7/9\n",
      "----------\n"
     ]
    },
    {
     "name": "stderr",
     "output_type": "stream",
     "text": [
      "\n",
      " 60%|██████    | 3/5 [00:00<00:00,  3.21it/s]"
     ]
    },
    {
     "name": "stdout",
     "output_type": "stream",
     "text": [
      "Visualising input\n"
     ]
    },
    {
     "name": "stderr",
     "output_type": "stream",
     "text": [
      "100%|██████████| 5/5 [00:00<00:00,  7.17it/s]\n",
      "100%|██████████| 2/2 [00:00<00:00,  3.71it/s]"
     ]
    },
    {
     "name": "stdout",
     "output_type": "stream",
     "text": [
      "Training Loss: 1.3236\tValidation Loss: 1.8248\n",
      "Counter train preds: Counter({1: 33, 0: 21, 2: 13, 3: 6, 5: 2})\tCounter val preds: Counter({0: 17, 1: 5, 2: 3})\n",
      "Epoch train QWK: 0.316\tval QWK: 0.272\n",
      "Epoch 8/9\n",
      "----------\n"
     ]
    },
    {
     "name": "stderr",
     "output_type": "stream",
     "text": [
      "\n",
      "100%|██████████| 5/5 [00:00<00:00,  4.99it/s]"
     ]
    },
    {
     "name": "stdout",
     "output_type": "stream",
     "text": [
      "Visualising input\n"
     ]
    },
    {
     "name": "stderr",
     "output_type": "stream",
     "text": [
      "100%|██████████| 5/5 [00:00<00:00,  7.91it/s]\n",
      "100%|██████████| 2/2 [00:00<00:00,  3.63it/s]"
     ]
    },
    {
     "name": "stdout",
     "output_type": "stream",
     "text": [
      "Training Loss: 1.2498\tValidation Loss: 2.4719\n",
      "Counter train preds: Counter({1: 34, 0: 24, 2: 8, 3: 8, 5: 1})\tCounter val preds: Counter({0: 22, 2: 3})\n",
      "Epoch train QWK: 0.392\tval QWK: 0.259\n",
      "Epoch 9/9\n",
      "----------\n"
     ]
    },
    {
     "name": "stderr",
     "output_type": "stream",
     "text": [
      "\n",
      "100%|██████████| 5/5 [00:00<00:00,  8.02it/s]"
     ]
    },
    {
     "name": "stdout",
     "output_type": "stream",
     "text": [
      "Visualising input\n"
     ]
    },
    {
     "name": "stderr",
     "output_type": "stream",
     "text": [
      "\n",
      "100%|██████████| 2/2 [00:00<00:00,  3.74it/s]"
     ]
    },
    {
     "name": "stdout",
     "output_type": "stream",
     "text": [
      "Training Loss: 1.2657\tValidation Loss: 2.4212\n",
      "Counter train preds: Counter({1: 39, 0: 21, 2: 6, 3: 6, 5: 3})\tCounter val preds: Counter({0: 22, 2: 3})\n",
      "Epoch train QWK: 0.409\tval QWK: 0.259\n",
      "Train with CV, on fold 3\n",
      "Epoch 0/9\n",
      "----------\n"
     ]
    },
    {
     "name": "stderr",
     "output_type": "stream",
     "text": [
      "\n",
      " 60%|██████    | 3/5 [00:00<00:00,  3.76it/s]"
     ]
    },
    {
     "name": "stdout",
     "output_type": "stream",
     "text": [
      "Visualising input\n"
     ]
    },
    {
     "name": "stderr",
     "output_type": "stream",
     "text": [
      "100%|██████████| 5/5 [00:00<00:00,  7.78it/s]\n",
      "100%|██████████| 2/2 [00:00<00:00,  4.08it/s]"
     ]
    },
    {
     "name": "stdout",
     "output_type": "stream",
     "text": [
      "Training Loss: 1.7337\tValidation Loss: 1.6500\n",
      "Counter train preds: Counter({1: 49, 2: 14, 0: 6, 5: 3, 3: 3})\tCounter val preds: Counter({1: 24, 0: 1})\n",
      "Epoch train QWK: 0.123\tval QWK: -0.030\n",
      "Epoch 1/9\n",
      "----------\n"
     ]
    },
    {
     "name": "stderr",
     "output_type": "stream",
     "text": [
      "\n",
      "100%|██████████| 5/5 [00:00<00:00,  7.52it/s]"
     ]
    },
    {
     "name": "stdout",
     "output_type": "stream",
     "text": [
      "Visualising input\n"
     ]
    },
    {
     "name": "stderr",
     "output_type": "stream",
     "text": [
      "\n",
      "100%|██████████| 2/2 [00:00<00:00,  4.29it/s]"
     ]
    },
    {
     "name": "stdout",
     "output_type": "stream",
     "text": [
      "Training Loss: 1.5647\tValidation Loss: 1.7000\n",
      "Counter train preds: Counter({1: 40, 0: 18, 3: 12, 2: 5})\tCounter val preds: Counter({1: 25})\n",
      "Epoch train QWK: 0.232\tval QWK: 0.000\n",
      "Epoch 2/9\n",
      "----------\n"
     ]
    },
    {
     "name": "stderr",
     "output_type": "stream",
     "text": [
      "\n",
      " 60%|██████    | 3/5 [00:00<00:00,  3.84it/s]"
     ]
    },
    {
     "name": "stdout",
     "output_type": "stream",
     "text": [
      "Visualising input\n"
     ]
    },
    {
     "name": "stderr",
     "output_type": "stream",
     "text": [
      "100%|██████████| 5/5 [00:00<00:00,  7.87it/s]\n",
      "100%|██████████| 2/2 [00:00<00:00,  4.09it/s]"
     ]
    },
    {
     "name": "stdout",
     "output_type": "stream",
     "text": [
      "Training Loss: 1.4733\tValidation Loss: 1.6935\n",
      "Counter train preds: Counter({1: 33, 0: 27, 3: 13, 2: 2})\tCounter val preds: Counter({1: 25})\n",
      "Epoch train QWK: 0.337\tval QWK: 0.000\n",
      "Epoch 3/9\n",
      "----------\n"
     ]
    },
    {
     "name": "stderr",
     "output_type": "stream",
     "text": [
      "\n",
      " 60%|██████    | 3/5 [00:00<00:00,  3.67it/s]"
     ]
    },
    {
     "name": "stdout",
     "output_type": "stream",
     "text": [
      "Visualising input\n"
     ]
    },
    {
     "name": "stderr",
     "output_type": "stream",
     "text": [
      "100%|██████████| 5/5 [00:00<00:00,  7.66it/s]\n",
      "100%|██████████| 2/2 [00:00<00:00,  4.01it/s]"
     ]
    },
    {
     "name": "stdout",
     "output_type": "stream",
     "text": [
      "Training Loss: 1.4141\tValidation Loss: 1.6876\n",
      "Counter train preds: Counter({0: 29, 1: 28, 3: 10, 2: 6, 5: 2})\tCounter val preds: Counter({1: 25})\n",
      "Epoch train QWK: 0.475\tval QWK: 0.000\n",
      "Epoch 4/9\n",
      "----------\n"
     ]
    },
    {
     "name": "stderr",
     "output_type": "stream",
     "text": [
      "\n",
      " 60%|██████    | 3/5 [00:00<00:00,  3.46it/s]"
     ]
    },
    {
     "name": "stdout",
     "output_type": "stream",
     "text": [
      "Visualising input\n"
     ]
    },
    {
     "name": "stderr",
     "output_type": "stream",
     "text": [
      "100%|██████████| 5/5 [00:00<00:00,  7.39it/s]\n",
      "100%|██████████| 2/2 [00:00<00:00,  2.65it/s]"
     ]
    },
    {
     "name": "stdout",
     "output_type": "stream",
     "text": [
      "Training Loss: 1.3655\tValidation Loss: 1.6186\n",
      "Counter train preds: Counter({1: 35, 0: 26, 3: 7, 5: 4, 2: 3})\tCounter val preds: Counter({1: 21, 2: 3, 0: 1})\n",
      "Epoch train QWK: 0.395\tval QWK: 0.012\n",
      "Epoch 5/9\n",
      "----------\n"
     ]
    },
    {
     "name": "stderr",
     "output_type": "stream",
     "text": [
      "\n",
      "100%|██████████| 5/5 [00:00<00:00,  4.61it/s]"
     ]
    },
    {
     "name": "stdout",
     "output_type": "stream",
     "text": [
      "Visualising input\n"
     ]
    },
    {
     "name": "stderr",
     "output_type": "stream",
     "text": [
      "100%|██████████| 5/5 [00:00<00:00,  7.47it/s]\n",
      "100%|██████████| 2/2 [00:00<00:00,  3.97it/s]"
     ]
    },
    {
     "name": "stdout",
     "output_type": "stream",
     "text": [
      "Training Loss: 1.3591\tValidation Loss: 1.6763\n",
      "Counter train preds: Counter({1: 32, 0: 23, 3: 11, 2: 8, 5: 1})\tCounter val preds: Counter({2: 17, 0: 6, 1: 2})\n",
      "Epoch train QWK: 0.413\tval QWK: 0.313\n",
      "Epoch 6/9\n",
      "----------\n"
     ]
    },
    {
     "name": "stderr",
     "output_type": "stream",
     "text": [
      "\n",
      "100%|██████████| 5/5 [00:00<00:00,  4.59it/s]"
     ]
    },
    {
     "name": "stdout",
     "output_type": "stream",
     "text": [
      "Visualising input\n"
     ]
    },
    {
     "name": "stderr",
     "output_type": "stream",
     "text": [
      "100%|██████████| 5/5 [00:00<00:00,  7.40it/s]\n",
      "100%|██████████| 2/2 [00:00<00:00,  4.08it/s]"
     ]
    },
    {
     "name": "stdout",
     "output_type": "stream",
     "text": [
      "Training Loss: 1.3191\tValidation Loss: 1.6529\n",
      "Counter train preds: Counter({1: 34, 0: 26, 3: 5, 2: 4, 4: 4, 5: 2})\tCounter val preds: Counter({1: 12, 2: 9, 5: 2, 0: 2})\n",
      "Epoch train QWK: 0.424\tval QWK: 0.269\n",
      "Epoch 7/9\n",
      "----------\n"
     ]
    },
    {
     "name": "stderr",
     "output_type": "stream",
     "text": [
      "\n",
      "100%|██████████| 5/5 [00:00<00:00,  7.96it/s]"
     ]
    },
    {
     "name": "stdout",
     "output_type": "stream",
     "text": [
      "Visualising input\n"
     ]
    },
    {
     "name": "stderr",
     "output_type": "stream",
     "text": [
      "\n",
      "100%|██████████| 2/2 [00:00<00:00,  3.92it/s]"
     ]
    },
    {
     "name": "stdout",
     "output_type": "stream",
     "text": [
      "Training Loss: 1.3050\tValidation Loss: 1.7019\n",
      "Counter train preds: Counter({1: 36, 0: 21, 2: 6, 3: 5, 5: 4, 4: 3})\tCounter val preds: Counter({2: 13, 5: 7, 4: 3, 0: 2})\n",
      "Epoch train QWK: 0.454\tval QWK: 0.364\n",
      "Epoch 8/9\n",
      "----------\n"
     ]
    },
    {
     "name": "stderr",
     "output_type": "stream",
     "text": [
      "\n",
      " 60%|██████    | 3/5 [00:00<00:00,  3.98it/s]"
     ]
    },
    {
     "name": "stdout",
     "output_type": "stream",
     "text": [
      "Visualising input\n"
     ]
    },
    {
     "name": "stderr",
     "output_type": "stream",
     "text": [
      "100%|██████████| 5/5 [00:00<00:00,  7.99it/s]\n",
      "100%|██████████| 2/2 [00:00<00:00,  4.10it/s]"
     ]
    },
    {
     "name": "stdout",
     "output_type": "stream",
     "text": [
      "Training Loss: 1.2645\tValidation Loss: 1.7029\n",
      "Counter train preds: Counter({1: 36, 0: 22, 5: 7, 2: 5, 3: 4, 4: 1})\tCounter val preds: Counter({2: 10, 5: 5, 0: 5, 1: 4, 3: 1})\n",
      "Epoch train QWK: 0.461\tval QWK: 0.309\n",
      "Epoch 9/9\n",
      "----------\n"
     ]
    },
    {
     "name": "stderr",
     "output_type": "stream",
     "text": [
      "\n",
      "100%|██████████| 5/5 [00:00<00:00,  4.60it/s]"
     ]
    },
    {
     "name": "stdout",
     "output_type": "stream",
     "text": [
      "Visualising input\n"
     ]
    },
    {
     "name": "stderr",
     "output_type": "stream",
     "text": [
      "100%|██████████| 5/5 [00:00<00:00,  7.52it/s]\n",
      "100%|██████████| 2/2 [00:00<00:00,  4.03it/s]"
     ]
    },
    {
     "name": "stdout",
     "output_type": "stream",
     "text": [
      "Training Loss: 1.2169\tValidation Loss: 2.0975\n",
      "Counter train preds: Counter({1: 33, 0: 22, 2: 9, 3: 6, 5: 5})\tCounter val preds: Counter({4: 14, 5: 8, 0: 3})\n",
      "Epoch train QWK: 0.530\tval QWK: 0.218\n"
     ]
    },
    {
     "name": "stderr",
     "output_type": "stream",
     "text": [
      "\n"
     ]
    }
   ],
   "source": [
    "checkpoint = \"test_fold_{}.pth\"\n",
    "for fold in range(CFG.n_fold):\n",
    "    train_df = folds[folds[\"fold\"] != fold].copy()\n",
    "    val_df = folds[folds[\"fold\"] == fold].copy()\n",
    "    \n",
    "    train_ds = TrainDataset(train_df, transform=get_transforms(data=\"train\"), debug=False)\n",
    "    val_ds = TrainDataset(val_df, transform=get_transforms(data=\"valid\"), debug=False)\n",
    "    \n",
    "    model = TinyV2ConvNet(CFG.target_size)\n",
    "    # initialize bias in the model\n",
    "    cls_probas = (train_df[CFG.target_col].value_counts() / len(train_df)).values\n",
    "    model = init_last_layer_bias(model, cls_probas)\n",
    "    \n",
    "    criterion = nn.CrossEntropyLoss()\n",
    "    optimizer = torch.optim.Adam(model.parameters(), lr=CFG.lr, amsgrad=False)\n",
    "    print(f\"Train with CV, on fold {fold}\")\n",
    "    model = train_eval_loop(train_ds, val_ds, model, optimizer, criterion, tb_tag=fold)\n",
    "    torch.save(model.state_dict(), MODEL_PATH/checkpoint.format(fold))"
   ]
  },
  {
   "cell_type": "markdown",
   "metadata": {},
   "source": [
    "### Evaluate on Validation Set"
   ]
  },
  {
   "cell_type": "code",
   "execution_count": 22,
   "metadata": {},
   "outputs": [],
   "source": [
    "model_fnames = [\n",
    "    \"22-06-2020-21-27_50_loss.pth\",\n",
    "    \"21-06-2020-17-05_28_loss.pth\",\n",
    "    \"21-06-2020-17-05_35_qwk.pth\",\n",
    "]"
   ]
  },
  {
   "cell_type": "code",
   "execution_count": 23,
   "metadata": {},
   "outputs": [],
   "source": [
    "# Load Model/s\n",
    "models = []\n",
    "for name in model_fnames:\n",
    "    model = init_model(pretrained=False)\n",
    "\n",
    "    weights_path = MODEL_PATH/name\n",
    "    checkpoint = torch.load(weights_path, map_location=device)\n",
    "    model.load_state_dict(checkpoint['model_state_dict'])\n",
    "    models.append(model)"
   ]
  },
  {
   "cell_type": "code",
   "execution_count": 24,
   "metadata": {},
   "outputs": [],
   "source": [
    "# models = []\n",
    "# models.append(model_ft)"
   ]
  },
  {
   "cell_type": "code",
   "execution_count": 25,
   "metadata": {},
   "outputs": [
    {
     "data": {
      "text/plain": [
       "3"
      ]
     },
     "execution_count": 25,
     "metadata": {},
     "output_type": "execute_result"
    }
   ],
   "source": [
    "len(models)"
   ]
  },
  {
   "cell_type": "code",
   "execution_count": 26,
   "metadata": {},
   "outputs": [],
   "source": [
    "def threshold(x: float) -> int:\n",
    "    if x < 0.7:\n",
    "        return 0\n",
    "    elif x < 1.6:\n",
    "        return 1\n",
    "    elif x < 2.5:\n",
    "        return 2\n",
    "    elif x < 3.5:\n",
    "        return 3\n",
    "    elif x < 4.4:\n",
    "        return 4\n",
    "    else:\n",
    "        return 5\n",
    "    \n",
    "v_threshold = np.vectorize(threshold)"
   ]
  },
  {
   "cell_type": "code",
   "execution_count": 27,
   "metadata": {},
   "outputs": [],
   "source": [
    "def compute_preds(outputs, loss_type=CFG.loss, custom_th=False):\n",
    "        if loss_type == \"bce\":\n",
    "            raw_preds = outputs.sigmoid().sum(1).data.cpu().numpy()\n",
    "            if custom_th:\n",
    "                preds = v_threshold(raw_preds)\n",
    "            else:\n",
    "                preds = raw_preds.round()\n",
    "        else:\n",
    "            preds = outputs.data.to(\"cpu\").numpy().argmax(1)\n",
    "        return preds.astype(int), raw_preds"
   ]
  },
  {
   "cell_type": "code",
   "execution_count": 28,
   "metadata": {},
   "outputs": [],
   "source": [
    "TARGET_SZ = CFG.target_size\n",
    "\n",
    "if CFG.loss == \"bce\":\n",
    "    TARGET_SZ = CFG.target_size - 1\n",
    "    \n",
    "def inference(models, test_loader, device, *args, **kwargs):\n",
    "    \n",
    "    for model in models:\n",
    "        model.to(device)\n",
    "        model.eval()\n",
    "    \n",
    "    preds = []\n",
    "    raw_preds = []\n",
    "\n",
    "    for i, data in enumerate(test_loader):\n",
    "        images, _ = data\n",
    "        if CFG.aux_tile:\n",
    "            img_main, img_aux = images\n",
    "            img_main, img_aux = img_main.to(device), img_aux.to(device)\n",
    "            y_preds = torch.zeros((len(img_main), TARGET_SZ), device=device)\n",
    "        else:\n",
    "            images = images.to(device)\n",
    "            y_preds = torch.zeros((len(images), TARGET_SZ), device=device)\n",
    "            \n",
    "        with torch.no_grad():\n",
    "            for model in models:\n",
    "                y_preds += model(images)\n",
    "            y_preds = y_preds / len(models)\n",
    "            \n",
    "        pred, raw_pred = compute_preds(y_preds, *args, **kwargs)\n",
    "        preds.append(pred)\n",
    "        raw_preds.append(raw_pred)\n",
    "\n",
    "    preds = np.concatenate(preds)\n",
    "    raw_preds = np.concatenate(raw_preds)\n",
    "    \n",
    "    return preds, raw_preds"
   ]
  },
  {
   "cell_type": "code",
   "execution_count": 29,
   "metadata": {},
   "outputs": [],
   "source": [
    "def submit(sample, test_loader, models, *args, **kwargs):\n",
    "    preds, raw_preds = inference(models, test_loader, device, *args, **kwargs)\n",
    "    sample['isup_pred'] = preds\n",
    "    sample['isup_raw_pred'] = raw_preds\n",
    "    return sample"
   ]
  },
  {
   "cell_type": "code",
   "execution_count": 30,
   "metadata": {},
   "outputs": [],
   "source": [
    "# Use Custom Thresholds\n",
    "CUSTOM_TH = False"
   ]
  },
  {
   "cell_type": "code",
   "execution_count": 31,
   "metadata": {},
   "outputs": [],
   "source": [
    "val_df = submit(val_df, val_dataloader, models, custom_th=CUSTOM_TH)"
   ]
  },
  {
   "cell_type": "code",
   "execution_count": 32,
   "metadata": {},
   "outputs": [
    {
     "data": {
      "text/html": [
       "<div>\n",
       "<style scoped>\n",
       "    .dataframe tbody tr th:only-of-type {\n",
       "        vertical-align: middle;\n",
       "    }\n",
       "\n",
       "    .dataframe tbody tr th {\n",
       "        vertical-align: top;\n",
       "    }\n",
       "\n",
       "    .dataframe thead th {\n",
       "        text-align: right;\n",
       "    }\n",
       "</style>\n",
       "<table border=\"1\" class=\"dataframe\">\n",
       "  <thead>\n",
       "    <tr style=\"text-align: right;\">\n",
       "      <th></th>\n",
       "      <th>image_id</th>\n",
       "      <th>data_provider</th>\n",
       "      <th>isup_grade</th>\n",
       "      <th>gleason_score</th>\n",
       "      <th>fold</th>\n",
       "      <th>isup_pred</th>\n",
       "      <th>isup_raw_pred</th>\n",
       "    </tr>\n",
       "  </thead>\n",
       "  <tbody>\n",
       "    <tr>\n",
       "      <th>1</th>\n",
       "      <td>000920ad0b612851f8e01bcc880d9b3d</td>\n",
       "      <td>karolinska</td>\n",
       "      <td>0</td>\n",
       "      <td>0+0</td>\n",
       "      <td>0</td>\n",
       "      <td>0</td>\n",
       "      <td>0.033331</td>\n",
       "    </tr>\n",
       "    <tr>\n",
       "      <th>3</th>\n",
       "      <td>001c62abd11fa4b57bf7a6c603a11bb9</td>\n",
       "      <td>karolinska</td>\n",
       "      <td>4</td>\n",
       "      <td>4+4</td>\n",
       "      <td>0</td>\n",
       "      <td>4</td>\n",
       "      <td>4.335208</td>\n",
       "    </tr>\n",
       "    <tr>\n",
       "      <th>11</th>\n",
       "      <td>004391d48d58b18156f811087cd38abf</td>\n",
       "      <td>karolinska</td>\n",
       "      <td>1</td>\n",
       "      <td>3+3</td>\n",
       "      <td>0</td>\n",
       "      <td>1</td>\n",
       "      <td>1.135780</td>\n",
       "    </tr>\n",
       "    <tr>\n",
       "      <th>16</th>\n",
       "      <td>006f6aa35a78965c92fffd1fbd53a058</td>\n",
       "      <td>radboud</td>\n",
       "      <td>3</td>\n",
       "      <td>4+3</td>\n",
       "      <td>0</td>\n",
       "      <td>3</td>\n",
       "      <td>3.451513</td>\n",
       "    </tr>\n",
       "    <tr>\n",
       "      <th>18</th>\n",
       "      <td>0076bcb66e46fb485f5ba432b9a1fe8a</td>\n",
       "      <td>radboud</td>\n",
       "      <td>3</td>\n",
       "      <td>4+3</td>\n",
       "      <td>0</td>\n",
       "      <td>4</td>\n",
       "      <td>4.007904</td>\n",
       "    </tr>\n",
       "  </tbody>\n",
       "</table>\n",
       "</div>"
      ],
      "text/plain": [
       "                            image_id data_provider  isup_grade gleason_score  \\\n",
       "1   000920ad0b612851f8e01bcc880d9b3d    karolinska           0           0+0   \n",
       "3   001c62abd11fa4b57bf7a6c603a11bb9    karolinska           4           4+4   \n",
       "11  004391d48d58b18156f811087cd38abf    karolinska           1           3+3   \n",
       "16  006f6aa35a78965c92fffd1fbd53a058       radboud           3           4+3   \n",
       "18  0076bcb66e46fb485f5ba432b9a1fe8a       radboud           3           4+3   \n",
       "\n",
       "    fold  isup_pred  isup_raw_pred  \n",
       "1      0          0       0.033331  \n",
       "3      0          4       4.335208  \n",
       "11     0          1       1.135780  \n",
       "16     0          3       3.451513  \n",
       "18     0          4       4.007904  "
      ]
     },
     "execution_count": 32,
     "metadata": {},
     "output_type": "execute_result"
    }
   ],
   "source": [
    "val_df.head()"
   ]
  },
  {
   "cell_type": "code",
   "execution_count": 33,
   "metadata": {},
   "outputs": [
    {
     "name": "stdout",
     "output_type": "stream",
     "text": [
      "Normalized confusion matrix\n",
      "[[0.87359551 0.10252809 0.02106742 0.00140449 0.00140449 0.        ]\n",
      " [0.05485893 0.80250784 0.12695925 0.01253918 0.0031348  0.        ]\n",
      " [0.01587302 0.2984127  0.46031746 0.18730159 0.03492063 0.0031746 ]\n",
      " [0.03793103 0.06206897 0.15172414 0.42413793 0.30689655 0.01724138]\n",
      " [0.0137457  0.03436426 0.07560137 0.15463918 0.60137457 0.12027491]\n",
      " [0.01454545 0.02181818 0.03636364 0.07272727 0.31272727 0.54181818]]\n"
     ]
    },
    {
     "data": {
      "image/png": "[encoded data removed]",
      "text/plain": [
       "<Figure size 432x288 with 2 Axes>"
      ]
     },
     "metadata": {
      "image/png": {
       "height": 279,
       "width": 313
      },
      "needs_background": "light"
     },
     "output_type": "display_data"
    }
   ],
   "source": [
    "_ = plot_confusion_matrix(val_df.isup_grade, val_df.isup_pred, normalize=True)"
   ]
  },
  {
   "cell_type": "code",
   "execution_count": 34,
   "metadata": {},
   "outputs": [
    {
     "name": "stderr",
     "output_type": "stream",
     "text": [
      "Models: ['22-06-2020-21-27_50_loss.pth', '21-06-2020-17-05_28_loss.pth', '21-06-2020-17-05_35_qwk.pth']\n"
     ]
    }
   ],
   "source": [
    "logging.info(f\"Models: {model_fnames}\")"
   ]
  },
  {
   "cell_type": "code",
   "execution_count": 35,
   "metadata": {},
   "outputs": [],
   "source": [
    "pred_kappa = cohen_kappa_score(val_df.isup_grade, val_df.isup_pred, weights=\"quadratic\")"
   ]
  },
  {
   "cell_type": "code",
   "execution_count": 36,
   "metadata": {},
   "outputs": [
    {
     "name": "stderr",
     "output_type": "stream",
     "text": [
      "Overall kapa: 0.8833120288647276\n"
     ]
    }
   ],
   "source": [
    "logging.info(f\"Overall kapa: {pred_kappa}\")"
   ]
  },
  {
   "cell_type": "code",
   "execution_count": 37,
   "metadata": {},
   "outputs": [
    {
     "name": "stderr",
     "output_type": "stream",
     "text": [
      "Karolinska kapa: 0.8880347736445314\n"
     ]
    }
   ],
   "source": [
    "karol_df = val_df[val_df.data_provider == \"karolinska\"].copy()\n",
    "kapa_karol = cohen_kappa_score(karol_df.isup_grade, karol_df.isup_pred, weights=\"quadratic\")\n",
    "logging.info(f\"Karolinska kapa: {kapa_karol}\")"
   ]
  },
  {
   "cell_type": "code",
   "execution_count": 38,
   "metadata": {},
   "outputs": [
    {
     "name": "stderr",
     "output_type": "stream",
     "text": [
      "Radboud kapa: 0.8523125500470996\n"
     ]
    }
   ],
   "source": [
    "radboud_df = val_df[val_df.data_provider == \"radboud\"].copy()\n",
    "kapa_radboud = cohen_kappa_score(radboud_df.isup_grade, radboud_df.isup_pred, weights=\"quadratic\")\n",
    "logging.info(f\"Radboud kapa: {kapa_radboud}\")"
   ]
  },
  {
   "cell_type": "markdown",
   "metadata": {},
   "source": [
    "#### Optimize Rounding"
   ]
  },
  {
   "cell_type": "code",
   "execution_count": 39,
   "metadata": {},
   "outputs": [],
   "source": [
    "rnd_sample_ids = val_df.sample(frac=0.5).index"
   ]
  },
  {
   "cell_type": "code",
   "execution_count": 40,
   "metadata": {},
   "outputs": [],
   "source": [
    "val_df[\"eval\"] = 0\n",
    "val_df.loc[rnd_sample_ids, \"eval\"] = 1"
   ]
  },
  {
   "cell_type": "code",
   "execution_count": 41,
   "metadata": {},
   "outputs": [],
   "source": [
    "dev_preds = val_df.loc[val_df[\"eval\"] == 0, \"isup_raw_pred\"].values\n",
    "dev_targs = val_df.loc[val_df[\"eval\"] == 0, \"isup_grade\"].values\n",
    "eval_preds = val_df.loc[val_df[\"eval\"] == 1, \"isup_raw_pred\"].values\n",
    "eval_targs = val_df.loc[val_df[\"eval\"] == 1, \"isup_grade\"].values"
   ]
  },
  {
   "cell_type": "code",
   "execution_count": 42,
   "metadata": {},
   "outputs": [],
   "source": [
    "opt_r = OptimizedRounder()\n",
    "opt_r.fit(dev_preds, dev_targs)"
   ]
  },
  {
   "cell_type": "code",
   "execution_count": 43,
   "metadata": {},
   "outputs": [
    {
     "name": "stderr",
     "output_type": "stream",
     "text": [
      "Optimized coefs: [0.56038102 1.44775224 2.51632209 3.3955281  4.23538726]\n"
     ]
    }
   ],
   "source": [
    "coefficients = opt_r.coefficients()\n",
    "logging.info(f\"Optimized coefs: {coefficients}\")"
   ]
  },
  {
   "cell_type": "code",
   "execution_count": 44,
   "metadata": {},
   "outputs": [],
   "source": [
    "eval_preds_round = opt_r.predict(val_df.isup_raw_pred, coefficients)"
   ]
  },
  {
   "cell_type": "code",
   "execution_count": 45,
   "metadata": {},
   "outputs": [],
   "source": [
    "round_opt_kapa = cohen_kappa_score(val_df.isup_grade, eval_preds_round, weights=\"quadratic\")"
   ]
  },
  {
   "cell_type": "code",
   "execution_count": 46,
   "metadata": {},
   "outputs": [
    {
     "name": "stderr",
     "output_type": "stream",
     "text": [
      "Optimized round kapa: 0.8876159481016987\n"
     ]
    }
   ],
   "source": [
    "logging.info(f\"Optimized round kapa: {round_opt_kapa}\")"
   ]
  },
  {
   "cell_type": "markdown",
   "metadata": {},
   "source": [
    "#### Check results with Hard Class Permutation"
   ]
  },
  {
   "cell_type": "code",
   "execution_count": 43,
   "metadata": {},
   "outputs": [],
   "source": [
    "hard_cls_values = val_df.loc[val_df.isup_pred.isin([2,3,4]), \"isup_pred\"].copy().values"
   ]
  },
  {
   "cell_type": "code",
   "execution_count": 44,
   "metadata": {},
   "outputs": [
    {
     "data": {
      "text/plain": [
       "array([4, 3, 4, 2, 3])"
      ]
     },
     "execution_count": 44,
     "metadata": {},
     "output_type": "execute_result"
    }
   ],
   "source": [
    "hard_cls_values[:5]"
   ]
  },
  {
   "cell_type": "code",
   "execution_count": 45,
   "metadata": {},
   "outputs": [],
   "source": [
    "np.random.shuffle(hard_cls_values)"
   ]
  },
  {
   "cell_type": "code",
   "execution_count": 46,
   "metadata": {},
   "outputs": [
    {
     "data": {
      "text/plain": [
       "array([3, 4, 3, 4, 2])"
      ]
     },
     "execution_count": 46,
     "metadata": {},
     "output_type": "execute_result"
    }
   ],
   "source": [
    "hard_cls_values[:5]"
   ]
  },
  {
   "cell_type": "code",
   "execution_count": 47,
   "metadata": {},
   "outputs": [],
   "source": [
    "val_df.loc[val_df.isup_pred.isin([2,3,4]), \"isup_pred\"] = hard_cls_values"
   ]
  },
  {
   "cell_type": "code",
   "execution_count": 48,
   "metadata": {},
   "outputs": [
    {
     "name": "stdout",
     "output_type": "stream",
     "text": [
      "Normalized confusion matrix\n",
      "[[0.94382022 0.03792135 0.00702247 0.00421348 0.00280899 0.00421348]\n",
      " [0.0830721  0.79937304 0.03605016 0.04702194 0.03291536 0.0015674 ]\n",
      " [0.04126984 0.27936508 0.25396825 0.22222222 0.18412698 0.01904762]\n",
      " [0.09310345 0.05862069 0.26896552 0.23793103 0.24482759 0.09655172]\n",
      " [0.0652921  0.03780069 0.26460481 0.25429553 0.2371134  0.14089347]\n",
      " [0.05818182 0.01454545 0.11636364 0.10545455 0.14909091 0.55636364]]\n"
     ]
    },
    {
     "data": {
      "image/png": "[encoded data removed]",
      "text/plain": [
       "<Figure size 432x288 with 2 Axes>"
      ]
     },
     "metadata": {
      "image/png": {
       "height": 279,
       "width": 313
      },
      "needs_background": "light"
     },
     "output_type": "display_data"
    }
   ],
   "source": [
    "_ = plot_confusion_matrix(val_df.isup_grade, val_df.isup_pred, normalize=True)"
   ]
  },
  {
   "cell_type": "code",
   "execution_count": 49,
   "metadata": {},
   "outputs": [
    {
     "data": {
      "text/plain": [
       "0.7659439769237075"
      ]
     },
     "execution_count": 49,
     "metadata": {},
     "output_type": "execute_result"
    }
   ],
   "source": [
    "permute_kapa = cohen_kappa_score(val_df.isup_grade, val_df.isup_pred, weights=\"quadratic\")\n",
    "permute_kapa"
   ]
  },
  {
   "cell_type": "code",
   "execution_count": 50,
   "metadata": {},
   "outputs": [
    {
     "name": "stdout",
     "output_type": "stream",
     "text": [
      "Permutation importance: 0.07017338008015972\n"
     ]
    }
   ],
   "source": [
    "print(f\"Permutation importance: {1 - (permute_kapa/pred_kappa)}\")"
   ]
  },
  {
   "cell_type": "code",
   "execution_count": 34,
   "metadata": {},
   "outputs": [
    {
     "name": "stdout",
     "output_type": "stream",
     "text": [
      "LB Permutation importance: 0.04761904761904756\n"
     ]
    }
   ],
   "source": [
    "# LB\n",
    "print(f\"LB Permutation importance: {1 - (0.80/0.84)}\")"
   ]
  },
  {
   "cell_type": "code",
   "execution_count": null,
   "metadata": {},
   "outputs": [],
   "source": []
  }
 ],
 "metadata": {
  "kernelspec": {
   "display_name": "chestxray",
   "language": "python",
   "name": "chestxray"
  },
  "language_info": {
   "codemirror_mode": {
    "name": "ipython",
    "version": 3
   },
   "file_extension": ".py",
   "mimetype": "text/x-python",
   "name": "python",
   "nbconvert_exporter": "python",
   "pygments_lexer": "ipython3",
   "version": "3.7.7"
  },
  "toc-autonumbering": false,
  "toc-showcode": false,
  "toc-showmarkdowntxt": false
 },
 "nbformat": 4,
 "nbformat_minor": 4
}
