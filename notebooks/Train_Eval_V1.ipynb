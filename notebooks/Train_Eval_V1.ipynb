{
 "cells": [
  {
   "cell_type": "markdown",
   "metadata": {},
   "source": [
    "### Imports"
   ]
  },
  {
   "cell_type": "code",
   "execution_count": 1,
   "metadata": {},
   "outputs": [],
   "source": [
    "%load_ext autoreload\n",
    "%autoreload 2"
   ]
  },
  {
   "cell_type": "code",
   "execution_count": 2,
   "metadata": {},
   "outputs": [],
   "source": [
    "import random\n",
    "import os\n",
    "from datetime import datetime\n",
    "from collections import Counter\n",
    "import numpy as np\n",
    "import pandas as pd\n",
    "import matplotlib.pyplot as plt\n",
    "from tqdm import tqdm\n",
    "\n",
    "import torch\n",
    "import torch.nn as nn\n",
    "import torch.nn.functional as F\n",
    "from torch.utils.data import DataLoader, Dataset\n",
    "from torch.utils.tensorboard import SummaryWriter\n",
    "from torch.optim.lr_scheduler import ReduceLROnPlateau, OneCycleLR, CosineAnnealingWarmRestarts\n",
    "import torchvision\n",
    "from torchvision import models\n",
    "from apex import amp\n",
    "\n",
    "from albumentations import Compose, Normalize\n",
    "from albumentations.pytorch import ToTensorV2, ToTensor\n",
    "\n",
    "from sklearn.metrics import cohen_kappa_score\n",
    "from sklearn.model_selection import StratifiedKFold\n",
    "from sklearn.metrics import confusion_matrix\n",
    "\n",
    "import cv2\n",
    "import skimage.io\n",
    "import IPython.display as display\n",
    "from PIL import Image\n",
    "\n",
    "plt.ion()\n",
    "%matplotlib inline\n",
    "%config InlineBackend.figure_format='retina'"
   ]
  },
  {
   "cell_type": "markdown",
   "metadata": {},
   "source": [
    "#### Local Imports"
   ]
  },
  {
   "cell_type": "code",
   "execution_count": 3,
   "metadata": {},
   "outputs": [],
   "source": [
    "# Paths\n",
    "from chestxray.config import (PANDA_PATH,\n",
    "                              MODEL_PATH,\n",
    "                              PANDA_IMGS,\n",
    "                              PANDA_MASKS,\n",
    "                              TRAIN_CSV)\n",
    "# Competition related config\n",
    "from chestxray.config import CFG\n",
    "\n",
    "# Misc\n",
    "from chestxray.misc import seed_torch\n",
    "\n",
    "# Datasets\n",
    "from chestxray.datasets import get_transforms, TrainDataset, TilesTrainDataset, LazyTilesDataset\n",
    "\n",
    "# Viz\n",
    "from chestxray.visualize import (show_from_ids, show_batch, imshow, \n",
    "                                 plot_classes_preds, reverse_show_img, \n",
    "                                 plot_confusion_matrix)\n",
    "\n",
    "# Nets\n",
    "from chestxray.nets import TinyV2ConvNet, make_RN50_cls, freeze_botom\n",
    "from chestxray.model_utils import (trainable_params, cce_loss_at_init, \n",
    "                                   init_last_layer_bias)\n",
    "# Losses\n",
    "from chestxray.losses import LabelSmoothSoftmaxCEV1"
   ]
  },
  {
   "cell_type": "code",
   "execution_count": 4,
   "metadata": {},
   "outputs": [
    {
     "name": "stdout",
     "output_type": "stream",
     "text": [
      "cuda:0\n"
     ]
    }
   ],
   "source": [
    "device = torch.device(\"cuda:0\" if torch.cuda.is_available() else \"cpu\")\n",
    "print(device)"
   ]
  },
  {
   "cell_type": "code",
   "execution_count": 5,
   "metadata": {},
   "outputs": [
    {
     "name": "stdout",
     "output_type": "stream",
     "text": [
      "_CudaDeviceProperties(name='GeForce RTX 2070 SUPER', major=7, minor=5, total_memory=7979MB, multi_processor_count=40)\n"
     ]
    }
   ],
   "source": [
    "print(torch.cuda.get_device_properties(device))"
   ]
  },
  {
   "cell_type": "markdown",
   "metadata": {},
   "source": [
    "### Fix Random Seed"
   ]
  },
  {
   "cell_type": "code",
   "execution_count": 6,
   "metadata": {},
   "outputs": [],
   "source": [
    "seed_torch()"
   ]
  },
  {
   "cell_type": "markdown",
   "metadata": {},
   "source": [
    "### Load Data"
   ]
  },
  {
   "cell_type": "code",
   "execution_count": 7,
   "metadata": {},
   "outputs": [
    {
     "data": {
      "text/html": [
       "<div>\n",
       "<style scoped>\n",
       "    .dataframe tbody tr th:only-of-type {\n",
       "        vertical-align: middle;\n",
       "    }\n",
       "\n",
       "    .dataframe tbody tr th {\n",
       "        vertical-align: top;\n",
       "    }\n",
       "\n",
       "    .dataframe thead th {\n",
       "        text-align: right;\n",
       "    }\n",
       "</style>\n",
       "<table border=\"1\" class=\"dataframe\">\n",
       "  <thead>\n",
       "    <tr style=\"text-align: right;\">\n",
       "      <th></th>\n",
       "      <th>image_id</th>\n",
       "      <th>data_provider</th>\n",
       "      <th>isup_grade</th>\n",
       "      <th>gleason_score</th>\n",
       "    </tr>\n",
       "  </thead>\n",
       "  <tbody>\n",
       "    <tr>\n",
       "      <th>0</th>\n",
       "      <td>0005f7aaab2800f6170c399693a96917</td>\n",
       "      <td>karolinska</td>\n",
       "      <td>0</td>\n",
       "      <td>0+0</td>\n",
       "    </tr>\n",
       "    <tr>\n",
       "      <th>1</th>\n",
       "      <td>000920ad0b612851f8e01bcc880d9b3d</td>\n",
       "      <td>karolinska</td>\n",
       "      <td>0</td>\n",
       "      <td>0+0</td>\n",
       "    </tr>\n",
       "    <tr>\n",
       "      <th>2</th>\n",
       "      <td>0018ae58b01bdadc8e347995b69f99aa</td>\n",
       "      <td>radboud</td>\n",
       "      <td>4</td>\n",
       "      <td>4+4</td>\n",
       "    </tr>\n",
       "    <tr>\n",
       "      <th>3</th>\n",
       "      <td>001c62abd11fa4b57bf7a6c603a11bb9</td>\n",
       "      <td>karolinska</td>\n",
       "      <td>4</td>\n",
       "      <td>4+4</td>\n",
       "    </tr>\n",
       "    <tr>\n",
       "      <th>4</th>\n",
       "      <td>001d865e65ef5d2579c190a0e0350d8f</td>\n",
       "      <td>karolinska</td>\n",
       "      <td>0</td>\n",
       "      <td>0+0</td>\n",
       "    </tr>\n",
       "  </tbody>\n",
       "</table>\n",
       "</div>"
      ],
      "text/plain": [
       "                           image_id data_provider  isup_grade gleason_score\n",
       "0  0005f7aaab2800f6170c399693a96917    karolinska           0           0+0\n",
       "1  000920ad0b612851f8e01bcc880d9b3d    karolinska           0           0+0\n",
       "2  0018ae58b01bdadc8e347995b69f99aa       radboud           4           4+4\n",
       "3  001c62abd11fa4b57bf7a6c603a11bb9    karolinska           4           4+4\n",
       "4  001d865e65ef5d2579c190a0e0350d8f    karolinska           0           0+0"
      ]
     },
     "execution_count": 7,
     "metadata": {},
     "output_type": "execute_result"
    }
   ],
   "source": [
    "TRAIN_DF = pd.read_csv(TRAIN_CSV)\n",
    "TRAIN_DF.head()"
   ]
  },
  {
   "cell_type": "code",
   "execution_count": 8,
   "metadata": {},
   "outputs": [
    {
     "data": {
      "image/png": "[encoded data removed]",
      "text/plain": [
       "<Figure size 432x288 with 1 Axes>"
      ]
     },
     "metadata": {
      "image/png": {
       "height": 249,
       "width": 381
      },
      "needs_background": "light"
     },
     "output_type": "display_data"
    }
   ],
   "source": [
    "_ = TRAIN_DF[CFG.target_col].hist()"
   ]
  },
  {
   "cell_type": "markdown",
   "metadata": {},
   "source": [
    "### Define Global Variables"
   ]
  },
  {
   "cell_type": "code",
   "execution_count": 9,
   "metadata": {},
   "outputs": [
    {
     "name": "stdout",
     "output_type": "stream",
     "text": [
      "16-05-2020-19-07\n"
     ]
    }
   ],
   "source": [
    "CFG.debug = False\n",
    "now = datetime.now()\n",
    "\n",
    "EXP_NAME = now.strftime(\"%d-%m-%Y-%H-%M\")\n",
    "print(EXP_NAME)"
   ]
  },
  {
   "cell_type": "code",
   "execution_count": 10,
   "metadata": {},
   "outputs": [],
   "source": [
    "# default `log_dir` is \"runs\" - we'll be more specific here\n",
    "writer = SummaryWriter(f'runs/{EXP_NAME}')"
   ]
  },
  {
   "cell_type": "code",
   "execution_count": 11,
   "metadata": {},
   "outputs": [],
   "source": [
    "LOSSES = {\n",
    "    \"cce\" : nn.CrossEntropyLoss(),\n",
    "    \"ls_soft_ce\" : LabelSmoothSoftmaxCEV1(),\n",
    "}"
   ]
  },
  {
   "cell_type": "code",
   "execution_count": 12,
   "metadata": {},
   "outputs": [],
   "source": [
    "# key - string, value - tuple(sceduler, if it epoch type)\n",
    "epoch_type = True\n",
    "SCHEDULERS = {\n",
    "    \"reduce_on_plateau\" : (ReduceLROnPlateau, epoch_type),\n",
    "    \"one_cycle\": (OneCycleLR, not epoch_type),\n",
    "    \"cawr\": (CosineAnnealingWarmRestarts, not epoch_type)\n",
    "}"
   ]
  },
  {
   "cell_type": "markdown",
   "metadata": {},
   "source": [
    "### Train Eval Loop"
   ]
  },
  {
   "cell_type": "code",
   "execution_count": 13,
   "metadata": {},
   "outputs": [],
   "source": [
    "def train_eval_loop(train_dataloader, val_dataloader, model, optimizer, criterion, scheduler, sch_is_epoch_type,\n",
    "                    num_epochs=CFG.epoch, device=device, tb_tag=\"\", model_name=\"debug\"):\n",
    "    \"\"\"Split it into the set of inner functions to siplify the loop itself\"\"\"\n",
    "    # Inner Functions\n",
    "    # write to TensorBoard helpers\n",
    "    def weights_to_tb(step=0):\n",
    "        conv1_weight = model.conv1.weight.data.to(\"cpu\")\n",
    "        img_grid = torchvision.utils.make_grid(conv1_weight, normalize=True)\n",
    "        writer.add_image(tag=f\"Model conv1 weights {tb_tag}\", img_tensor=img_grid, global_step=step)\n",
    "    \n",
    "    def input_img_to_tb(inputs, step):\n",
    "        img = reverse_show_img(inputs[0])\n",
    "        writer.add_image(tag=f\"Input Image {tb_tag}\", img_tensor=img, global_step=step, dataformats=\"HWC\")\n",
    "        del img\n",
    "    \n",
    "    def preds_to_tb(outputs, inputs, labels, step):\n",
    "        figure=plot_classes_preds(outputs.to('cpu'), inputs.to('cpu'), labels.to('cpu'))\n",
    "        writer.add_figure(tag=f\"Actuals vs Predictions {tb_tag}\", figure=figure, global_step=step)\n",
    "        \n",
    "    def metrics_to_tb(mode, train_loss, train_score, val_loss, val_score, step):\n",
    "        writer.add_text(f\"On best {mode} save:\", \n",
    "                        f\"tr_loss: {train_loss:.4f}, tr_qwk: {train_score:.4f}, val_loss: {val_loss:.4f}, val_qwk: {val_score:.4f}\", \n",
    "                        global_step=step)\n",
    "    \n",
    "    def conf_matrix_to_tb(val_epoch_labels, val_epoch_preds, step):\n",
    "        writer.add_figure(tag=f\"Confusion matrix {tb_tag}\", figure=plot_confusion_matrix(val_epoch_labels, val_epoch_preds),\n",
    "                          global_step=step)\n",
    "        \n",
    "        \n",
    "    \n",
    "    # Train/Eval Loop\n",
    "    # write first layer weights to TB @ init phase\n",
    "    if not CFG.debug:\n",
    "        weights_to_tb()\n",
    "    \n",
    "    # prepare model and optimizer\n",
    "    model.to(device)\n",
    "    if CFG.use_amp: # automatic mixed precision\n",
    "        model, optimizer = amp.initialize(model, optimizer, opt_level=\"O1\")\n",
    "    # define epochs numbers to look into input images and predictions, no more than 10 times per full training\n",
    "    vis_step = np.ceil(num_epochs/10).astype(int)\n",
    "    visual_epochs = list(range(0, num_epochs, vis_step))\n",
    "    # metrics to wathch for model checkpointing\n",
    "    best_qwk = -100\n",
    "    best_val_loss = np.inf\n",
    "    \n",
    "    for epoch in range(num_epochs):\n",
    "        print(f'Epoch {epoch}/{num_epochs - 1}')\n",
    "        print('=' * 10)\n",
    "\n",
    "        # Training Phase\n",
    "        # Set training mode\n",
    "        model.train();\n",
    "        train_running_loss = 0.0\n",
    "        train_epoch_preds, train_epoch_labels = [], []\n",
    "\n",
    "        # Iterate over train data.\n",
    "        tk_train = tqdm(enumerate(train_dataloader), total=len(train_dataloader))\n",
    "        for i, data in tk_train:\n",
    "            # Calculate global step for TensorBoard\n",
    "            train_global_step = epoch * len(train_dataloader) + i\n",
    "\n",
    "            inputs, labels = data\n",
    "            # Visualize input before model at the middle of epoch:\n",
    "            if epoch in visual_epochs and i == len(train_dataloader) // 2:\n",
    "                input_img_to_tb(inputs, train_global_step)\n",
    "\n",
    "            inputs = inputs.to(device)\n",
    "            labels = labels.to(device)\n",
    "            # zero the parameter gradients\n",
    "            optimizer.zero_grad()\n",
    "\n",
    "            outputs = model(inputs)\n",
    "            loss = criterion(outputs, labels)\n",
    "            if CFG.use_amp:\n",
    "                with amp.scale_loss(loss, optimizer) as scaled_loss:\n",
    "                    scaled_loss.backward()\n",
    "            else:\n",
    "                loss.backward()\n",
    "            optimizer.step()\n",
    "            # loss is mean across batch, divide by number of steps in epoch (so loss is normalized)\n",
    "            train_running_loss += loss.item() / len(train_dataloader)\n",
    "            # tensorboarding loss\n",
    "            writer.add_scalar(tag=f\"Training loss {tb_tag}\", scalar_value=loss.item(), global_step=train_global_step)\n",
    "\n",
    "            # collect train preds and labels for QWK\n",
    "            train_epoch_preds.append(outputs.data.to('cpu').numpy().argmax(1))\n",
    "            train_epoch_labels.append(labels.to('cpu').numpy())\n",
    "            # Add Batch Type Scheduler step here:\n",
    "            if not sch_is_epoch_type:\n",
    "                scheduler.step()\n",
    "        # Validation Phase\n",
    "        # Set evaluation mode\n",
    "        model.eval();\n",
    "        val_running_loss = 0.0\n",
    "        val_epoch_preds, val_epoch_labels = [], []\n",
    "        # Iterate over val data\n",
    "        tk_val = tqdm(enumerate(val_dataloader), total=len(val_dataloader))\n",
    "        for j, data in tk_val:\n",
    "            # Calculate global step\n",
    "            val_global_step = epoch * len(val_dataloader) + j\n",
    "            inputs, labels = data\n",
    "            inputs = inputs.to(device)\n",
    "            labels = labels.to(device)\n",
    "            with torch.no_grad():\n",
    "                outputs = model(inputs)\n",
    "            loss = criterion(outputs, labels)\n",
    "            val_running_loss += loss.item() / len(val_dataloader)\n",
    "            # tensorboarding loss\n",
    "            writer.add_scalar(tag=f\"Validation loss {tb_tag}\", scalar_value=loss.item(), global_step=val_global_step)\n",
    "\n",
    "            # collect validation preds and labels for QWK\n",
    "            val_epoch_preds.append(outputs.data.to('cpu').numpy().argmax(1))\n",
    "            val_epoch_labels.append(labels.to('cpu').numpy())\n",
    "\n",
    "            # visualise predictions for 0th validation batch\n",
    "            if epoch in visual_epochs and j == 0:\n",
    "                preds_to_tb(outputs, inputs, labels, val_global_step)\n",
    "        \n",
    "        # Epoch type Schedulers\n",
    "        if sch_is_epoch_type:\n",
    "            scheduler.step(val_running_loss)\n",
    "        # Write lr to TBD\n",
    "        if CFG.finetune == \"1stage\":\n",
    "            writer.add_scalar(tag=f\"lr Interim {tb_tag}:\", scalar_value=optimizer.param_groups[0][\"lr\"], global_step=train_global_step)\n",
    "            writer.add_scalar(tag=f\"lr Classifier {tb_tag}:\", scalar_value=optimizer.param_groups[1][\"lr\"], global_step=train_global_step)\n",
    "            \n",
    "        else:\n",
    "            writer.add_scalar(tag=f\"lr {tb_tag}:\", scalar_value=optimizer.param_groups[0][\"lr\"], global_step=train_global_step)\n",
    "        \n",
    "        # \"End of Epoch\" Phase\n",
    "        print(f'Training Loss: {train_running_loss:.4f}\\tValidation Loss: {val_running_loss:.4f}')\n",
    "        \n",
    "        # Calculate epoch predictions distribution\n",
    "        train_epoch_preds = np.concatenate(train_epoch_preds)\n",
    "        train_epoch_labels = np.concatenate(train_epoch_labels)\n",
    "        val_epoch_preds = np.concatenate(val_epoch_preds)\n",
    "        val_epoch_labels = np.concatenate(val_epoch_labels)\n",
    "        print(f'Counter train preds: {Counter(train_epoch_preds)}\\tCounter val preds: {Counter(val_epoch_preds)}')\n",
    "        # Calculate epoch QWK\n",
    "        train_qwk = cohen_kappa_score(train_epoch_preds, train_epoch_labels, weights='quadratic')\n",
    "        val_qwk = cohen_kappa_score(val_epoch_preds, val_epoch_labels, weights='quadratic')\n",
    "        print(f\"Epoch train QWK: {train_qwk:.3f}\\tval QWK: {val_qwk:.3f}\")\n",
    "        writer.add_scalar(tag=f\"Training QWK {tb_tag}\", scalar_value=train_qwk, global_step=epoch)\n",
    "        writer.add_scalar(tag=f\"Validation QWK {tb_tag}\", scalar_value=val_qwk, global_step=epoch)\n",
    "        \n",
    "        # On the best val loss do:\n",
    "        if val_running_loss < best_val_loss:\n",
    "            # update best and save model\n",
    "            best_val_loss = val_running_loss\n",
    "            print(f'  Epoch {epoch} - Save Best Loss: {best_val_loss:.4f} Model')\n",
    "            torch.save(model.state_dict(), f'{MODEL_PATH}/{model_name}_loss.pth')\n",
    "            # add losses as text to TB\n",
    "            metrics_to_tb(\"loss\", train_running_loss, train_qwk, val_running_loss, val_qwk, val_global_step)\n",
    "            # add image of conv1 weights to TB\n",
    "            if not CFG.debug:\n",
    "                weights_to_tb(val_global_step)\n",
    "            # add confusion matrix to TB\n",
    "            conf_matrix_to_tb(val_epoch_labels, val_epoch_preds, val_global_step)\n",
    "        # On the best QWK\n",
    "        if val_qwk > best_qwk:\n",
    "            # update best and save model\n",
    "            best_qwk = val_qwk\n",
    "            print(f'  Epoch {epoch} - Save Best QWK: {best_qwk:.4f} Model')\n",
    "            torch.save(model.state_dict(), f'{MODEL_PATH}/{model_name}_qwk.pth')\n",
    "            # add losses and qwk as text to TB\n",
    "            metrics_to_tb(\"qwk\", train_running_loss, train_qwk, val_running_loss, val_qwk, val_global_step)\n",
    "            # add image of conv1 weights to TB\n",
    "            if not CFG.debug:\n",
    "                weights_to_tb(val_global_step)  \n",
    "            # add confusion matrix to TB\n",
    "            conf_matrix_to_tb(val_epoch_labels, val_epoch_preds, val_global_step)\n",
    "    # End of loop\n",
    "    writer.close()"
   ]
  },
  {
   "cell_type": "markdown",
   "metadata": {},
   "source": [
    "### Prepare CV - strategy"
   ]
  },
  {
   "cell_type": "code",
   "execution_count": 14,
   "metadata": {},
   "outputs": [],
   "source": [
    "if CFG.debug:\n",
    "    folds_fn = \"folds_db.csv\"\n",
    "    try: \n",
    "        folds = pd.read_csv(PANDA_PATH/folds_fn)\n",
    "    except FileNotFoundError:\n",
    "        folds = TRAIN_DF.sample(n=100, random_state=CFG.seed).reset_index(drop=True).copy()\n",
    "else:\n",
    "    folds_fn = \"folds.csv\"\n",
    "    try:\n",
    "        folds = pd.read_csv(PANDA_PATH/folds_fn)\n",
    "    except FileNotFoundError:\n",
    "        folds = TRAIN_DF.copy()"
   ]
  },
  {
   "cell_type": "code",
   "execution_count": 15,
   "metadata": {},
   "outputs": [],
   "source": [
    "if not (PANDA_PATH/folds_fn).exists():\n",
    "    train_labels = folds[CFG.target_col].values\n",
    "    kf = StratifiedKFold(n_splits=CFG.n_fold, shuffle=True, random_state=CFG.seed)\n",
    "    for fold, (train_index, val_index) in enumerate(kf.split(folds.values, train_labels)):\n",
    "        folds.loc[val_index, 'fold'] = int(fold)\n",
    "    folds['fold'] = folds['fold'].astype(int)\n",
    "    folds.to_csv(PANDA_PATH/folds_fn, index=None)\n",
    "    folds.head()"
   ]
  },
  {
   "cell_type": "code",
   "execution_count": 16,
   "metadata": {},
   "outputs": [
    {
     "name": "stdout",
     "output_type": "stream",
     "text": [
      "<class 'pandas.core.frame.DataFrame'>\n",
      "RangeIndex: 10616 entries, 0 to 10615\n",
      "Data columns (total 5 columns):\n",
      " #   Column         Non-Null Count  Dtype \n",
      "---  ------         --------------  ----- \n",
      " 0   image_id       10616 non-null  object\n",
      " 1   data_provider  10616 non-null  object\n",
      " 2   isup_grade     10616 non-null  int64 \n",
      " 3   gleason_score  10616 non-null  object\n",
      " 4   fold           10616 non-null  int64 \n",
      "dtypes: int64(2), object(3)\n",
      "memory usage: 414.8+ KB\n"
     ]
    }
   ],
   "source": [
    "folds.info()"
   ]
  },
  {
   "cell_type": "markdown",
   "metadata": {},
   "source": [
    "### Debug Runs"
   ]
  },
  {
   "cell_type": "code",
   "execution_count": 18,
   "metadata": {},
   "outputs": [],
   "source": [
    "# default `log_dir` is \"runs\" - we'll be more specific here\n",
    "writer = SummaryWriter(f'runs/debug')"
   ]
  },
  {
   "cell_type": "code",
   "execution_count": 19,
   "metadata": {},
   "outputs": [
    {
     "name": "stdout",
     "output_type": "stream",
     "text": [
      "debug: False use_amp: True img_height: 512 img_width: 512 lr: 0.0001 batch_size: 16 epoch: 50 seed: 1982 target_size: 6 img_id_col: image_id target_col: isup_grade n_fold: 4 tiff_layer: 1 loss: ls_soft_ce\n"
     ]
    }
   ],
   "source": [
    "print(\" \".join([f\"{key}: {val}\" for key, val in CFG.__dict__.items() if not key.startswith(\"__\")]))"
   ]
  },
  {
   "cell_type": "code",
   "execution_count": 18,
   "metadata": {},
   "outputs": [],
   "source": [
    "writer.add_text(\"Experiment Description:\", \" \".join([f\"{key}: {val}\" for key, val in CFG.__dict__.items() if not key.startswith(\"__\")]))"
   ]
  },
  {
   "cell_type": "code",
   "execution_count": 22,
   "metadata": {
    "collapsed": true,
    "jupyter": {
     "outputs_hidden": true
    }
   },
   "outputs": [
    {
     "name": "stdout",
     "output_type": "stream",
     "text": [
      "Selected optimization level O1:  Insert automatic casts around Pytorch functions and Tensor methods.\n",
      "\n",
      "Defaults for this optimization level are:\n",
      "enabled                : True\n",
      "opt_level              : O1\n",
      "cast_model_type        : None\n",
      "patch_torch_functions  : True\n",
      "keep_batchnorm_fp32    : None\n",
      "master_weights         : None\n",
      "loss_scale             : dynamic\n",
      "Processing user overrides (additional kwargs that are not None)...\n",
      "After processing overrides, optimization options are:\n",
      "enabled                : True\n",
      "opt_level              : O1\n",
      "cast_model_type        : None\n",
      "patch_torch_functions  : True\n",
      "keep_batchnorm_fp32    : None\n",
      "master_weights         : None\n",
      "loss_scale             : dynamic\n",
      "Warning:  multi_tensor_applier fused unscale kernel is unavailable, possibly because apex was installed without --cuda_ext --cpp_ext. Using Python fallback.  Original ImportError was: ModuleNotFoundError(\"No module named 'amp_C'\")\n",
      "Epoch 0/29\n",
      "==========\n"
     ]
    },
    {
     "name": "stderr",
     "output_type": "stream",
     "text": [
      "100%|██████████| 498/498 [02:31<00:00,  3.29it/s]\n",
      "100%|██████████| 166/166 [00:15<00:00, 10.67it/s]\n"
     ]
    },
    {
     "name": "stdout",
     "output_type": "stream",
     "text": [
      "Training Loss: 1.4133\tValidation Loss: 1.3378\n",
      "Counter train preds: Counter({0: 3171, 1: 2178, 5: 974, 3: 583, 4: 559, 2: 497})\tCounter val preds: Counter({1: 964, 0: 951, 2: 237, 4: 185, 3: 164, 5: 153})\n",
      "Epoch train QWK: 0.590\tval QWK: 0.636\n",
      "  Epoch 0 - Save Best Loss: 1.3378 Model\n",
      "Confusion matrix, without normalization\n",
      "[[612 104   1   1   2   3]\n",
      " [171 461  26   6   1   1]\n",
      " [ 38 220  61  10   4   2]\n",
      " [ 41  82  90  60  23  15]\n",
      " [ 50  69  31  37  95  31]\n",
      " [ 39  28  28  50  60 101]]\n",
      "  Epoch 0 - Save Best QWK: 0.6357 Model\n",
      "Confusion matrix, without normalization\n",
      "[[612 104   1   1   2   3]\n",
      " [171 461  26   6   1   1]\n",
      " [ 38 220  61  10   4   2]\n",
      " [ 41  82  90  60  23  15]\n",
      " [ 50  69  31  37  95  31]\n",
      " [ 39  28  28  50  60 101]]\n",
      "Epoch 1/29\n",
      "==========\n"
     ]
    },
    {
     "name": "stderr",
     "output_type": "stream",
     "text": [
      "100%|██████████| 498/498 [02:33<00:00,  3.24it/s]\n",
      "100%|██████████| 166/166 [00:14<00:00, 11.12it/s]\n"
     ]
    },
    {
     "name": "stdout",
     "output_type": "stream",
     "text": [
      "Training Loss: 1.3243\tValidation Loss: 1.2604\n",
      "Counter train preds: Counter({0: 3068, 1: 2105, 5: 931, 3: 659, 4: 614, 2: 585})\tCounter val preds: Counter({0: 1165, 5: 408, 1: 357, 2: 345, 3: 195, 4: 184})\n",
      "Epoch train QWK: 0.663\tval QWK: 0.723\n",
      "  Epoch 1 - Save Best Loss: 1.2604 Model\n",
      "Confusion matrix, without normalization\n",
      "[[694  10   2   1   7   9]\n",
      " [271 243 116  20  13   3]\n",
      " [ 64  69 137  37  19   9]\n",
      " [ 47  18  54  85  32  75]\n",
      " [ 51  14  22  32  88 106]\n",
      " [ 38   3  14  20  25 206]]\n",
      "  Epoch 1 - Save Best QWK: 0.7233 Model\n",
      "Confusion matrix, without normalization\n",
      "[[694  10   2   1   7   9]\n",
      " [271 243 116  20  13   3]\n",
      " [ 64  69 137  37  19   9]\n",
      " [ 47  18  54  85  32  75]\n",
      " [ 51  14  22  32  88 106]\n",
      " [ 38   3  14  20  25 206]]\n",
      "Epoch 2/29\n",
      "==========\n"
     ]
    },
    {
     "name": "stderr",
     "output_type": "stream",
     "text": [
      "100%|██████████| 498/498 [02:32<00:00,  3.26it/s]\n",
      "100%|██████████| 166/166 [00:14<00:00, 11.36it/s]\n"
     ]
    },
    {
     "name": "stdout",
     "output_type": "stream",
     "text": [
      "Training Loss: 1.2768\tValidation Loss: 1.2445\n",
      "Counter train preds: Counter({0: 2990, 1: 2062, 5: 903, 4: 712, 2: 654, 3: 641})\tCounter val preds: Counter({0: 988, 1: 664, 5: 486, 3: 310, 4: 129, 2: 77})\n",
      "Epoch train QWK: 0.694\tval QWK: 0.724\n",
      "  Epoch 2 - Save Best Loss: 1.2445 Model\n",
      "Confusion matrix, without normalization\n",
      "[[652  50   1   2   7  11]\n",
      " [178 413  27  28  11   9]\n",
      " [ 37 139  36  81  13  29]\n",
      " [ 43  31   6 118  19  94]\n",
      " [ 40  26   6  55  64 122]\n",
      " [ 38   5   1  26  15 221]]\n",
      "  Epoch 2 - Save Best QWK: 0.7243 Model\n",
      "Confusion matrix, without normalization\n",
      "[[652  50   1   2   7  11]\n",
      " [178 413  27  28  11   9]\n",
      " [ 37 139  36  81  13  29]\n",
      " [ 43  31   6 118  19  94]\n",
      " [ 40  26   6  55  64 122]\n",
      " [ 38   5   1  26  15 221]]\n",
      "Epoch 3/29\n",
      "==========\n"
     ]
    },
    {
     "name": "stderr",
     "output_type": "stream",
     "text": [
      "100%|██████████| 498/498 [02:32<00:00,  3.26it/s]\n",
      "100%|██████████| 166/166 [00:16<00:00, 10.25it/s]\n"
     ]
    },
    {
     "name": "stdout",
     "output_type": "stream",
     "text": [
      "Training Loss: 1.2524\tValidation Loss: 1.2349\n",
      "Counter train preds: Counter({0: 2952, 1: 2107, 5: 934, 3: 729, 4: 638, 2: 602})\tCounter val preds: Counter({1: 836, 0: 797, 5: 349, 3: 253, 4: 229, 2: 190})\n",
      "Epoch train QWK: 0.708\tval QWK: 0.764\n",
      "  Epoch 3 - Save Best Loss: 1.2349 Model\n",
      "Confusion matrix, without normalization\n",
      "[[583 127   1   0   7   5]\n",
      " [118 459  66  14   9   0]\n",
      " [ 22 150  84  61  10   8]\n",
      " [ 25  42  21 112  56  55]\n",
      " [ 21  46  14  38 112  82]\n",
      " [ 28  12   4  28  35 199]]\n",
      "  Epoch 3 - Save Best QWK: 0.7642 Model\n",
      "Confusion matrix, without normalization\n",
      "[[583 127   1   0   7   5]\n",
      " [118 459  66  14   9   0]\n",
      " [ 22 150  84  61  10   8]\n",
      " [ 25  42  21 112  56  55]\n",
      " [ 21  46  14  38 112  82]\n",
      " [ 28  12   4  28  35 199]]\n",
      "Epoch 4/29\n",
      "==========\n"
     ]
    },
    {
     "name": "stderr",
     "output_type": "stream",
     "text": [
      "100%|██████████| 498/498 [02:33<00:00,  3.25it/s]\n",
      "100%|██████████| 166/166 [00:15<00:00, 10.78it/s]"
     ]
    },
    {
     "name": "stdout",
     "output_type": "stream",
     "text": [
      "Training Loss: 1.2235\tValidation Loss: 1.2475\n",
      "Counter train preds: Counter({0: 2866, 1: 2110, 5: 923, 4: 713, 3: 677, 2: 673})\tCounter val preds: Counter({0: 1068, 1: 627, 4: 370, 3: 248, 5: 245, 2: 96})\n",
      "Epoch train QWK: 0.727\tval QWK: 0.739\n",
      "Epoch 5/29\n",
      "==========\n"
     ]
    },
    {
     "name": "stderr",
     "output_type": "stream",
     "text": [
      "\n",
      "100%|██████████| 498/498 [02:28<00:00,  3.35it/s]\n",
      "100%|██████████| 166/166 [00:14<00:00, 11.65it/s]\n"
     ]
    },
    {
     "name": "stdout",
     "output_type": "stream",
     "text": [
      "Training Loss: 1.2193\tValidation Loss: 1.2217\n",
      "Counter train preds: Counter({0: 2865, 1: 2125, 5: 921, 3: 716, 4: 712, 2: 623})\tCounter val preds: Counter({1: 887, 0: 850, 3: 307, 4: 232, 2: 218, 5: 160})\n",
      "Epoch train QWK: 0.735\tval QWK: 0.727\n",
      "  Epoch 5 - Save Best Loss: 1.2217 Model\n",
      "Confusion matrix, without normalization\n",
      "[[616  87   2   3   9   6]\n",
      " [134 488  24  17   3   0]\n",
      " [ 20 209  74  22   7   3]\n",
      " [ 28  46  73 130  19  15]\n",
      " [ 26  48  24  68 123  24]\n",
      " [ 26   9  21  67  71 112]]\n",
      "Epoch 6/29\n",
      "==========\n"
     ]
    },
    {
     "name": "stderr",
     "output_type": "stream",
     "text": [
      "100%|██████████| 498/498 [02:31<00:00,  3.29it/s]\n",
      "100%|██████████| 166/166 [00:15<00:00, 10.50it/s]"
     ]
    },
    {
     "name": "stdout",
     "output_type": "stream",
     "text": [
      "Training Loss: 1.1916\tValidation Loss: 1.2237\n",
      "Counter train preds: Counter({0: 2830, 1: 2097, 5: 913, 3: 743, 4: 722, 2: 657})\tCounter val preds: Counter({1: 895, 0: 872, 3: 277, 5: 261, 2: 209, 4: 140})\n",
      "Epoch train QWK: 0.751\tval QWK: 0.734\n",
      "Epoch 7/29\n",
      "==========\n"
     ]
    },
    {
     "name": "stderr",
     "output_type": "stream",
     "text": [
      "\n",
      "100%|██████████| 498/498 [02:29<00:00,  3.32it/s]\n",
      "100%|██████████| 166/166 [00:14<00:00, 11.43it/s]"
     ]
    },
    {
     "name": "stdout",
     "output_type": "stream",
     "text": [
      "Training Loss: 1.1780\tValidation Loss: 1.2794\n",
      "Counter train preds: Counter({0: 2802, 1: 2125, 5: 923, 4: 728, 3: 724, 2: 660})\tCounter val preds: Counter({0: 1195, 1: 461, 5: 338, 4: 308, 2: 241, 3: 111})\n",
      "Epoch train QWK: 0.760\tval QWK: 0.724\n",
      "Epoch 8/29\n",
      "==========\n"
     ]
    },
    {
     "name": "stderr",
     "output_type": "stream",
     "text": [
      "\n",
      "  6%|▋         | 32/498 [00:10<02:30,  3.10it/s]"
     ]
    },
    {
     "name": "stdout",
     "output_type": "stream",
     "text": [
      "Gradient overflow.  Skipping step, loss scaler 0 reducing loss scale to 131072.0\n"
     ]
    },
    {
     "name": "stderr",
     "output_type": "stream",
     "text": [
      "100%|██████████| 498/498 [02:35<00:00,  3.20it/s]\n",
      "100%|██████████| 166/166 [00:14<00:00, 11.45it/s]"
     ]
    },
    {
     "name": "stdout",
     "output_type": "stream",
     "text": [
      "Training Loss: 1.1537\tValidation Loss: 1.2326\n",
      "Counter train preds: Counter({0: 2766, 1: 2073, 5: 922, 4: 753, 2: 727, 3: 721})\tCounter val preds: Counter({0: 970, 1: 600, 4: 415, 5: 261, 2: 222, 3: 186})\n",
      "Epoch train QWK: 0.775\tval QWK: 0.742\n",
      "Epoch 9/29\n",
      "==========\n"
     ]
    },
    {
     "name": "stderr",
     "output_type": "stream",
     "text": [
      "\n",
      "100%|██████████| 498/498 [02:32<00:00,  3.27it/s]\n",
      "100%|██████████| 166/166 [00:17<00:00,  9.62it/s]"
     ]
    },
    {
     "name": "stdout",
     "output_type": "stream",
     "text": [
      "Epoch    10: reducing learning rate of group 0 to 5.0000e-05.\n",
      "Training Loss: 1.1571\tValidation Loss: 1.2449\n",
      "Counter train preds: Counter({0: 2746, 1: 2079, 5: 912, 3: 791, 4: 745, 2: 689})\tCounter val preds: Counter({1: 1001, 0: 814, 5: 246, 2: 221, 3: 219, 4: 153})\n",
      "Epoch train QWK: 0.767\tval QWK: 0.717\n",
      "Epoch 10/29\n",
      "==========\n"
     ]
    },
    {
     "name": "stderr",
     "output_type": "stream",
     "text": [
      "\n",
      "100%|██████████| 498/498 [02:31<00:00,  3.28it/s]\n",
      "100%|██████████| 166/166 [00:14<00:00, 11.80it/s]\n"
     ]
    },
    {
     "name": "stdout",
     "output_type": "stream",
     "text": [
      "Training Loss: 1.0783\tValidation Loss: 1.1852\n",
      "Counter train preds: Counter({0: 2674, 1: 2077, 5: 928, 4: 786, 3: 769, 2: 728})\tCounter val preds: Counter({0: 872, 1: 686, 5: 383, 4: 269, 3: 233, 2: 211})\n",
      "Epoch train QWK: 0.814\tval QWK: 0.762\n",
      "  Epoch 10 - Save Best Loss: 1.1852 Model\n",
      "Confusion matrix, without normalization\n",
      "[[633  62   2   5  11  10]\n",
      " [139 424  55  26  22   0]\n",
      " [ 22 136  95  43  22  17]\n",
      " [ 27  31  33 110  43  67]\n",
      " [ 27  27  19  35 128  77]\n",
      " [ 24   6   7  14  43 212]]\n",
      "Epoch 11/29\n",
      "==========\n"
     ]
    },
    {
     "name": "stderr",
     "output_type": "stream",
     "text": [
      "100%|██████████| 498/498 [02:26<00:00,  3.40it/s]\n",
      "100%|██████████| 166/166 [00:14<00:00, 11.79it/s]\n"
     ]
    },
    {
     "name": "stdout",
     "output_type": "stream",
     "text": [
      "Training Loss: 1.0550\tValidation Loss: 1.2170\n",
      "Counter train preds: Counter({0: 2645, 1: 2025, 5: 936, 4: 803, 2: 797, 3: 756})\tCounter val preds: Counter({0: 968, 1: 566, 5: 453, 2: 265, 3: 220, 4: 182})\n",
      "Epoch train QWK: 0.819\tval QWK: 0.766\n",
      "  Epoch 11 - Save Best QWK: 0.7663 Model\n",
      "Confusion matrix, without normalization\n",
      "[[662  45   2   4   3   7]\n",
      " [181 366  84  13  15   7]\n",
      " [ 35  99 121  45  16  19]\n",
      " [ 32  23  34 109  27  86]\n",
      " [ 31  29  15  38  97 103]\n",
      " [ 27   4   9  11  24 231]]\n",
      "Epoch 12/29\n",
      "==========\n"
     ]
    },
    {
     "name": "stderr",
     "output_type": "stream",
     "text": [
      "  8%|▊         | 42/498 [00:13<02:11,  3.47it/s]"
     ]
    },
    {
     "name": "stdout",
     "output_type": "stream",
     "text": [
      "Gradient overflow.  Skipping step, loss scaler 0 reducing loss scale to 131072.0\n"
     ]
    },
    {
     "name": "stderr",
     "output_type": "stream",
     "text": [
      "100%|██████████| 498/498 [02:27<00:00,  3.37it/s]\n",
      "100%|██████████| 166/166 [00:16<00:00, 10.31it/s]"
     ]
    },
    {
     "name": "stdout",
     "output_type": "stream",
     "text": [
      "Training Loss: 1.0295\tValidation Loss: 1.2241\n",
      "Counter train preds: Counter({0: 2631, 1: 2021, 5: 895, 2: 815, 4: 801, 3: 799})\tCounter val preds: Counter({0: 921, 1: 797, 5: 258, 3: 255, 4: 222, 2: 201})\n",
      "Epoch train QWK: 0.821\tval QWK: 0.754\n",
      "Epoch 13/29\n",
      "==========\n"
     ]
    },
    {
     "name": "stderr",
     "output_type": "stream",
     "text": [
      "\n",
      "100%|██████████| 498/498 [02:34<00:00,  3.22it/s]\n",
      "100%|██████████| 166/166 [00:14<00:00, 11.82it/s]"
     ]
    },
    {
     "name": "stdout",
     "output_type": "stream",
     "text": [
      "Training Loss: 1.0086\tValidation Loss: 1.2355\n",
      "Counter train preds: Counter({0: 2553, 1: 2047, 5: 940, 2: 815, 4: 813, 3: 794})\tCounter val preds: Counter({0: 995, 1: 581, 2: 387, 5: 293, 3: 214, 4: 184})\n",
      "Epoch train QWK: 0.843\tval QWK: 0.752\n",
      "Epoch 14/29\n",
      "==========\n"
     ]
    },
    {
     "name": "stderr",
     "output_type": "stream",
     "text": [
      "\n",
      "100%|██████████| 498/498 [02:30<00:00,  3.32it/s]\n",
      "100%|██████████| 166/166 [00:14<00:00, 11.78it/s]"
     ]
    },
    {
     "name": "stdout",
     "output_type": "stream",
     "text": [
      "Epoch    15: reducing learning rate of group 0 to 2.5000e-05.\n",
      "Training Loss: 0.9891\tValidation Loss: 1.2672\n",
      "Counter train preds: Counter({0: 2550, 1: 2031, 5: 919, 3: 833, 2: 832, 4: 797})\tCounter val preds: Counter({0: 854, 1: 731, 4: 385, 5: 364, 2: 190, 3: 130})\n",
      "Epoch train QWK: 0.844\tval QWK: 0.763\n",
      "Epoch 15/29\n",
      "==========\n"
     ]
    },
    {
     "name": "stderr",
     "output_type": "stream",
     "text": [
      "\n",
      "100%|██████████| 498/498 [02:34<00:00,  3.23it/s]\n",
      "100%|██████████| 166/166 [00:15<00:00, 10.71it/s]\n"
     ]
    },
    {
     "name": "stdout",
     "output_type": "stream",
     "text": [
      "Training Loss: 0.9256\tValidation Loss: 1.2372\n",
      "Counter train preds: Counter({0: 2517, 1: 2001, 5: 894, 2: 886, 4: 846, 3: 818})\tCounter val preds: Counter({0: 888, 1: 612, 3: 362, 2: 285, 5: 260, 4: 247})\n",
      "Epoch train QWK: 0.868\tval QWK: 0.767\n",
      "  Epoch 15 - Save Best QWK: 0.7666 Model\n",
      "Confusion matrix, without normalization\n",
      "[[631  70   3  13   2   4]\n",
      " [146 389  85  35   9   2]\n",
      " [ 27  98 137  56  13   4]\n",
      " [ 30  21  39 151  38  32]\n",
      " [ 30  21  15  67 135  45]\n",
      " [ 24  13   6  40  50 173]]\n",
      "Epoch 16/29\n",
      "==========\n"
     ]
    },
    {
     "name": "stderr",
     "output_type": "stream",
     "text": [
      " 13%|█▎        | 67/498 [00:20<02:05,  3.43it/s]"
     ]
    },
    {
     "name": "stdout",
     "output_type": "stream",
     "text": [
      "Gradient overflow.  Skipping step, loss scaler 0 reducing loss scale to 131072.0\n"
     ]
    },
    {
     "name": "stderr",
     "output_type": "stream",
     "text": [
      "100%|██████████| 498/498 [02:30<00:00,  3.31it/s]\n",
      "100%|██████████| 166/166 [00:14<00:00, 11.39it/s]"
     ]
    },
    {
     "name": "stdout",
     "output_type": "stream",
     "text": [
      "Training Loss: 0.9068\tValidation Loss: 1.2451\n",
      "Counter train preds: Counter({0: 2501, 1: 1981, 5: 924, 2: 901, 3: 831, 4: 824})\tCounter val preds: Counter({0: 868, 1: 740, 2: 287, 3: 280, 5: 247, 4: 232})\n",
      "Epoch train QWK: 0.876\tval QWK: 0.754\n",
      "Epoch 17/29\n",
      "==========\n"
     ]
    },
    {
     "name": "stderr",
     "output_type": "stream",
     "text": [
      "\n",
      "100%|██████████| 498/498 [02:32<00:00,  3.27it/s]\n",
      "100%|██████████| 166/166 [00:15<00:00, 10.44it/s]"
     ]
    },
    {
     "name": "stdout",
     "output_type": "stream",
     "text": [
      "Training Loss: 0.8845\tValidation Loss: 1.2586\n",
      "Counter train preds: Counter({0: 2483, 1: 1987, 5: 913, 2: 888, 4: 866, 3: 825})\tCounter val preds: Counter({0: 844, 1: 579, 5: 348, 3: 298, 2: 296, 4: 289})\n",
      "Epoch train QWK: 0.881\tval QWK: 0.764\n",
      "Epoch 18/29\n",
      "==========\n"
     ]
    },
    {
     "name": "stderr",
     "output_type": "stream",
     "text": [
      "\n",
      "100%|██████████| 498/498 [02:31<00:00,  3.29it/s]\n",
      "100%|██████████| 166/166 [00:15<00:00, 10.56it/s]"
     ]
    },
    {
     "name": "stdout",
     "output_type": "stream",
     "text": [
      "Epoch    19: reducing learning rate of group 0 to 1.2500e-05.\n",
      "Training Loss: 0.8628\tValidation Loss: 1.2978\n",
      "Counter train preds: Counter({0: 2465, 1: 1989, 5: 915, 2: 894, 4: 864, 3: 835})\tCounter val preds: Counter({0: 817, 1: 634, 2: 407, 5: 305, 3: 289, 4: 202})\n",
      "Epoch train QWK: 0.893\tval QWK: 0.763\n",
      "Epoch 19/29\n",
      "==========\n"
     ]
    },
    {
     "name": "stderr",
     "output_type": "stream",
     "text": [
      "\n",
      "100%|██████████| 498/498 [02:34<00:00,  3.23it/s]\n",
      "100%|██████████| 166/166 [00:14<00:00, 11.44it/s]\n"
     ]
    },
    {
     "name": "stdout",
     "output_type": "stream",
     "text": [
      "Training Loss: 0.8329\tValidation Loss: 1.2674\n",
      "Counter train preds: Counter({0: 2413, 1: 2033, 2: 935, 5: 906, 4: 867, 3: 808})\tCounter val preds: Counter({0: 843, 1: 638, 2: 380, 5: 292, 4: 253, 3: 248})\n",
      "Epoch train QWK: 0.897\tval QWK: 0.771\n",
      "  Epoch 19 - Save Best QWK: 0.7708 Model\n",
      "Confusion matrix, without normalization\n",
      "[[617  87   7   4   3   5]\n",
      " [127 398 113  17   7   4]\n",
      " [ 23  95 157  44  13   3]\n",
      " [ 25  24  64 112  44  42]\n",
      " [ 24  25  26  42 135  61]\n",
      " [ 27   9  13  29  51 177]]\n",
      "Epoch 20/29\n",
      "==========\n"
     ]
    },
    {
     "name": "stderr",
     "output_type": "stream",
     "text": [
      " 18%|█▊        | 90/498 [00:28<02:00,  3.39it/s]"
     ]
    },
    {
     "name": "stdout",
     "output_type": "stream",
     "text": [
      "Gradient overflow.  Skipping step, loss scaler 0 reducing loss scale to 131072.0\n"
     ]
    },
    {
     "name": "stderr",
     "output_type": "stream",
     "text": [
      "100%|██████████| 498/498 [02:30<00:00,  3.30it/s]\n",
      "100%|██████████| 166/166 [00:14<00:00, 11.74it/s]\n"
     ]
    },
    {
     "name": "stdout",
     "output_type": "stream",
     "text": [
      "Training Loss: 0.8309\tValidation Loss: 1.2587\n",
      "Counter train preds: Counter({0: 2444, 1: 1971, 2: 946, 5: 906, 4: 855, 3: 840})\tCounter val preds: Counter({0: 905, 1: 645, 5: 348, 2: 288, 4: 254, 3: 214})\n",
      "Epoch train QWK: 0.895\tval QWK: 0.772\n",
      "  Epoch 20 - Save Best QWK: 0.7721 Model\n",
      "Confusion matrix, without normalization\n",
      "[[638  67   7   5   2   4]\n",
      " [156 399  82  11  13   5]\n",
      " [ 27 112 129  38  19  10]\n",
      " [ 30  31  46 104  49  51]\n",
      " [ 29  25  16  32 137  74]\n",
      " [ 25  11   8  24  34 204]]\n",
      "Epoch 21/29\n",
      "==========\n"
     ]
    },
    {
     "name": "stderr",
     "output_type": "stream",
     "text": [
      "100%|██████████| 498/498 [02:33<00:00,  3.25it/s]\n",
      "100%|██████████| 166/166 [00:16<00:00, 10.07it/s]"
     ]
    },
    {
     "name": "stdout",
     "output_type": "stream",
     "text": [
      "Training Loss: 0.8118\tValidation Loss: 1.2990\n",
      "Counter train preds: Counter({0: 2425, 1: 1992, 2: 920, 5: 913, 4: 863, 3: 849})\tCounter val preds: Counter({0: 863, 1: 560, 2: 397, 4: 287, 3: 274, 5: 273})\n",
      "Epoch train QWK: 0.904\tval QWK: 0.766\n",
      "Epoch 22/29\n",
      "==========\n"
     ]
    },
    {
     "name": "stderr",
     "output_type": "stream",
     "text": [
      "\n",
      "100%|██████████| 498/498 [02:27<00:00,  3.37it/s]\n",
      "100%|██████████| 166/166 [00:14<00:00, 11.43it/s]\n"
     ]
    },
    {
     "name": "stdout",
     "output_type": "stream",
     "text": [
      "Epoch    23: reducing learning rate of group 0 to 6.2500e-06.\n",
      "Training Loss: 0.8106\tValidation Loss: 1.2867\n",
      "Counter train preds: Counter({0: 2392, 1: 2022, 2: 934, 5: 910, 4: 880, 3: 824})\tCounter val preds: Counter({0: 844, 1: 588, 2: 388, 5: 310, 4: 274, 3: 250})\n",
      "Epoch train QWK: 0.898\tval QWK: 0.773\n",
      "  Epoch 22 - Save Best QWK: 0.7731 Model\n",
      "Confusion matrix, without normalization\n",
      "[[610  87  10   6   5   5]\n",
      " [139 365 121  26  10   5]\n",
      " [ 24  80 164  46  17   4]\n",
      " [ 21  24  62 114  45  45]\n",
      " [ 25  24  18  39 147  60]\n",
      " [ 25   8  13  19  50 191]]\n",
      "Epoch 23/29\n",
      "==========\n"
     ]
    },
    {
     "name": "stderr",
     "output_type": "stream",
     "text": [
      "100%|██████████| 498/498 [02:29<00:00,  3.33it/s]\n",
      "100%|██████████| 166/166 [00:14<00:00, 11.55it/s]"
     ]
    },
    {
     "name": "stdout",
     "output_type": "stream",
     "text": [
      "Training Loss: 0.7927\tValidation Loss: 1.2908\n",
      "Counter train preds: Counter({0: 2397, 1: 1984, 5: 944, 2: 931, 3: 874, 4: 832})\tCounter val preds: Counter({0: 840, 1: 644, 2: 377, 5: 274, 3: 270, 4: 249})\n",
      "Epoch train QWK: 0.906\tval QWK: 0.766\n",
      "Epoch 24/29\n",
      "==========\n"
     ]
    },
    {
     "name": "stderr",
     "output_type": "stream",
     "text": [
      "\n",
      " 41%|████      | 204/498 [01:01<01:24,  3.47it/s]"
     ]
    },
    {
     "name": "stdout",
     "output_type": "stream",
     "text": [
      "Gradient overflow.  Skipping step, loss scaler 0 reducing loss scale to 131072.0\n"
     ]
    },
    {
     "name": "stderr",
     "output_type": "stream",
     "text": [
      "100%|██████████| 498/498 [02:30<00:00,  3.30it/s]\n",
      "100%|██████████| 166/166 [00:15<00:00, 10.47it/s]"
     ]
    },
    {
     "name": "stdout",
     "output_type": "stream",
     "text": [
      "Training Loss: 0.7887\tValidation Loss: 1.2833\n",
      "Counter train preds: Counter({0: 2403, 1: 1975, 2: 947, 5: 891, 4: 890, 3: 856})\tCounter val preds: Counter({0: 863, 1: 672, 2: 376, 4: 297, 5: 265, 3: 181})\n",
      "Epoch train QWK: 0.906\tval QWK: 0.760\n",
      "Epoch 25/29\n",
      "==========\n"
     ]
    },
    {
     "name": "stderr",
     "output_type": "stream",
     "text": [
      "\n",
      "100%|██████████| 498/498 [02:29<00:00,  3.33it/s]\n",
      "100%|██████████| 166/166 [00:14<00:00, 11.74it/s]"
     ]
    },
    {
     "name": "stdout",
     "output_type": "stream",
     "text": [
      "Training Loss: 0.7820\tValidation Loss: 1.2766\n",
      "Counter train preds: Counter({0: 2399, 1: 1977, 2: 951, 5: 904, 4: 874, 3: 857})\tCounter val preds: Counter({0: 859, 1: 629, 2: 323, 3: 313, 5: 275, 4: 255})\n",
      "Epoch train QWK: 0.907\tval QWK: 0.765\n",
      "Epoch 26/29\n",
      "==========\n"
     ]
    },
    {
     "name": "stderr",
     "output_type": "stream",
     "text": [
      "\n",
      "100%|██████████| 498/498 [02:28<00:00,  3.35it/s]\n",
      "100%|██████████| 166/166 [00:14<00:00, 11.55it/s]"
     ]
    },
    {
     "name": "stdout",
     "output_type": "stream",
     "text": [
      "Epoch    27: reducing learning rate of group 0 to 3.1250e-06.\n",
      "Training Loss: 0.7875\tValidation Loss: 1.2824\n",
      "Counter train preds: Counter({0: 2443, 1: 1964, 2: 935, 5: 905, 3: 877, 4: 838})\tCounter val preds: Counter({0: 838, 1: 655, 2: 371, 5: 292, 3: 290, 4: 208})\n",
      "Epoch train QWK: 0.906\tval QWK: 0.759\n",
      "Epoch 27/29\n",
      "==========\n"
     ]
    },
    {
     "name": "stderr",
     "output_type": "stream",
     "text": [
      "\n",
      "100%|██████████| 498/498 [02:29<00:00,  3.32it/s]\n",
      "100%|██████████| 166/166 [00:15<00:00, 10.60it/s]"
     ]
    },
    {
     "name": "stdout",
     "output_type": "stream",
     "text": [
      "Training Loss: 0.7610\tValidation Loss: 1.3068\n",
      "Counter train preds: Counter({0: 2411, 1: 1954, 2: 952, 5: 937, 4: 861, 3: 847})\tCounter val preds: Counter({0: 886, 1: 561, 2: 348, 3: 338, 5: 284, 4: 237})\n",
      "Epoch train QWK: 0.917\tval QWK: 0.759\n",
      "Epoch 28/29\n",
      "==========\n"
     ]
    },
    {
     "name": "stderr",
     "output_type": "stream",
     "text": [
      "\n",
      " 51%|█████▏    | 256/498 [01:17<01:09,  3.46it/s]"
     ]
    },
    {
     "name": "stdout",
     "output_type": "stream",
     "text": [
      "Gradient overflow.  Skipping step, loss scaler 0 reducing loss scale to 131072.0\n"
     ]
    },
    {
     "name": "stderr",
     "output_type": "stream",
     "text": [
      "100%|██████████| 498/498 [02:29<00:00,  3.34it/s]\n",
      "100%|██████████| 166/166 [00:14<00:00, 11.39it/s]"
     ]
    },
    {
     "name": "stdout",
     "output_type": "stream",
     "text": [
      "Training Loss: 0.7612\tValidation Loss: 1.2853\n",
      "Counter train preds: Counter({0: 2396, 1: 1962, 2: 947, 5: 916, 4: 880, 3: 861})\tCounter val preds: Counter({0: 855, 1: 665, 2: 342, 5: 313, 3: 248, 4: 231})\n",
      "Epoch train QWK: 0.917\tval QWK: 0.764\n",
      "Epoch 29/29\n",
      "==========\n"
     ]
    },
    {
     "name": "stderr",
     "output_type": "stream",
     "text": [
      "\n",
      "100%|██████████| 498/498 [02:27<00:00,  3.38it/s]\n",
      "100%|██████████| 166/166 [00:14<00:00, 11.73it/s]"
     ]
    },
    {
     "name": "stdout",
     "output_type": "stream",
     "text": [
      "Training Loss: 0.7683\tValidation Loss: 1.2812\n",
      "Counter train preds: Counter({0: 2405, 1: 1990, 2: 934, 5: 886, 4: 880, 3: 867})\tCounter val preds: Counter({0: 888, 1: 609, 2: 364, 5: 295, 3: 262, 4: 236})\n",
      "Epoch train QWK: 0.914\tval QWK: 0.762\n"
     ]
    },
    {
     "name": "stderr",
     "output_type": "stream",
     "text": [
      "\n"
     ]
    }
   ],
   "source": [
    "train_df = folds[folds[\"fold\"] != 0].copy()\n",
    "val_df = folds[folds[\"fold\"] == 0].copy()\n",
    "train_ds = LazyTilesDataset(train_df, transform=get_transforms(data=\"train\", aug=\"heavy\"), debug=False) # NOTE! it is predefined 36-tiles images\n",
    "val_ds = LazyTilesDataset(val_df, transform=get_transforms(data=\"valid\"), debug=False)\n",
    "\n",
    "model_ft = make_RN50_cls()\n",
    "# initialize bias in the model\n",
    "cls_probas = (train_df[CFG.target_col].value_counts() / len(train_df)).values\n",
    "model_ft = init_last_layer_bias(model_ft, cls_probas)\n",
    "\n",
    "criterion = LOSSES[CFG.loss]\n",
    "optimizer = torch.optim.Adam(model_ft.parameters(), lr=CFG.lr, amsgrad=False)\n",
    "train_eval_loop(train_ds, val_ds, model_ft, optimizer, criterion, num_epochs=30)"
   ]
  },
  {
   "cell_type": "markdown",
   "metadata": {},
   "source": [
    "### Experiment Run"
   ]
  },
  {
   "cell_type": "code",
   "execution_count": 17,
   "metadata": {},
   "outputs": [
    {
     "name": "stdout",
     "output_type": "stream",
     "text": [
      "debug: False\n",
      " seed: 1982\n",
      " img_height: 768\n",
      " img_width: 768\n",
      " target_size: 6\n",
      " img_id_col: image_id\n",
      " target_col: isup_grade\n",
      " tiff_layer: 1\n",
      " stoch_sample: True\n",
      " num_tiles: 144\n",
      " tile_sz: 64\n",
      " batch_size: 8\n",
      " use_lazy: True\n",
      " aug_type: light\n",
      " finetune: False\n",
      " model_cls: deep\n",
      " schedule_type: cawr\n",
      " cawr_T: 1\n",
      " cawr_Tmult: 2\n",
      " loss: ls_soft_ce\n",
      " optim: sgd\n",
      " lr: 0.0015625\n",
      " rlopp: 3\n",
      " epoch: 50\n",
      " n_fold: 4\n",
      " use_amp: True\n",
      "\n"
     ]
    }
   ],
   "source": [
    "print(\" \".join([f\"{key}: {val}\\n\" for key, val in CFG.__dict__.items() if not key.startswith(\"__\")]))"
   ]
  },
  {
   "cell_type": "code",
   "execution_count": 18,
   "metadata": {},
   "outputs": [],
   "source": [
    "writer.add_text(\"Experiment Description:\", \" \".join([f\"{key}: {val}\\n\" for key, val in CFG.__dict__.items() if not key.startswith(\"__\")]))"
   ]
  },
  {
   "cell_type": "code",
   "execution_count": 18,
   "metadata": {},
   "outputs": [],
   "source": [
    "# schedulers\n",
    "def get_scheduler(optimizer,train_dataloader, schedule_type=CFG.schedule_type):\n",
    "    assert schedule_type in SCHEDULERS, f\"{schedule_type} not in SCHEDULERS\"\n",
    "    if schedule_type == \"reduce_on_plateau\":\n",
    "        return (SCHEDULERS[schedule_type][0](optimizer, 'min', factor=0.5, patience=CFG.rlopp, verbose=True), \n",
    "                SCHEDULERS[schedule_type][1])\n",
    "    if schedule_type == \"one_cycle\":\n",
    "        return (SCHEDULERS[schedule_type][0](optimizer, max_lr=[CFG.lr, CFG.lr*10] if CFG.finetune == \"1stage\" else CFG.lr,\n",
    "                                             steps_per_epoch=len(train_dataloader), epochs=CFG.epoch, pct_start=0.05),\n",
    "                SCHEDULERS[schedule_type][1])\n",
    "    if schedule_type == \"cawr\":\n",
    "        return (SCHEDULERS[schedule_type][0](optimizer, T_0=len(train_dataloader)*CFG.cawr_T, T_mult=CFG.cawr_Tmult),\n",
    "                SCHEDULERS[schedule_type][1])"
   ]
  },
  {
   "cell_type": "code",
   "execution_count": 19,
   "metadata": {},
   "outputs": [
    {
     "name": "stdout",
     "output_type": "stream",
     "text": [
      "Selected optimization level O1:  Insert automatic casts around Pytorch functions and Tensor methods.\n",
      "\n",
      "Defaults for this optimization level are:\n",
      "enabled                : True\n",
      "opt_level              : O1\n",
      "cast_model_type        : None\n",
      "patch_torch_functions  : True\n",
      "keep_batchnorm_fp32    : None\n",
      "master_weights         : None\n",
      "loss_scale             : dynamic\n",
      "Processing user overrides (additional kwargs that are not None)...\n",
      "After processing overrides, optimization options are:\n",
      "enabled                : True\n",
      "opt_level              : O1\n",
      "cast_model_type        : None\n",
      "patch_torch_functions  : True\n",
      "keep_batchnorm_fp32    : None\n",
      "master_weights         : None\n",
      "loss_scale             : dynamic\n",
      "Warning:  multi_tensor_applier fused unscale kernel is unavailable, possibly because apex was installed without --cuda_ext --cpp_ext. Using Python fallback.  Original ImportError was: ModuleNotFoundError(\"No module named 'amp_C'\")\n",
      "Epoch 0/49\n",
      "==========\n"
     ]
    },
    {
     "name": "stderr",
     "output_type": "stream",
     "text": [
      "  0%|          | 1/996 [00:00<11:25,  1.45it/s]"
     ]
    },
    {
     "name": "stdout",
     "output_type": "stream",
     "text": [
      "Gradient overflow.  Skipping step, loss scaler 0 reducing loss scale to 32768.0\n"
     ]
    },
    {
     "name": "stderr",
     "output_type": "stream",
     "text": [
      "  0%|          | 2/996 [00:00<09:25,  1.76it/s]"
     ]
    },
    {
     "name": "stdout",
     "output_type": "stream",
     "text": [
      "Gradient overflow.  Skipping step, loss scaler 0 reducing loss scale to 16384.0\n"
     ]
    },
    {
     "name": "stderr",
     "output_type": "stream",
     "text": [
      "  1%|          | 5/996 [00:02<07:44,  2.13it/s]"
     ]
    },
    {
     "name": "stdout",
     "output_type": "stream",
     "text": [
      "Gradient overflow.  Skipping step, loss scaler 0 reducing loss scale to 8192.0\n"
     ]
    },
    {
     "name": "stderr",
     "output_type": "stream",
     "text": [
      "100%|██████████| 996/996 [05:25<00:00,  3.06it/s]\n",
      "100%|██████████| 332/332 [02:02<00:00,  2.72it/s]\n"
     ]
    },
    {
     "name": "stdout",
     "output_type": "stream",
     "text": [
      "Training Loss: 1.4987\tValidation Loss: 1.3563\n",
      "Counter train preds: Counter({0: 3020, 1: 2182, 5: 961, 3: 630, 4: 605, 2: 564})\tCounter val preds: Counter({0: 1092, 5: 649, 1: 624, 2: 139, 4: 107, 3: 43})\n",
      "Epoch train QWK: 0.523\tval QWK: 0.663\n",
      "  Epoch 0 - Save Best Loss: 1.3563 Model\n",
      "Confusion matrix, without normalization\n",
      "[[642  44   2   1  14  20]\n",
      " [227 381  30   6   7  15]\n",
      " [ 62 116  79  11  15  52]\n",
      " [ 52  41  21  18  20 159]\n",
      " [ 61  34   6   5  39 168]\n",
      " [ 48   8   1   2  12 235]]\n",
      "  Epoch 0 - Save Best QWK: 0.6634 Model\n",
      "Confusion matrix, without normalization\n",
      "[[642  44   2   1  14  20]\n",
      " [227 381  30   6   7  15]\n",
      " [ 62 116  79  11  15  52]\n",
      " [ 52  41  21  18  20 159]\n",
      " [ 61  34   6   5  39 168]\n",
      " [ 48   8   1   2  12 235]]\n",
      "Epoch 1/49\n",
      "==========\n"
     ]
    },
    {
     "name": "stderr",
     "output_type": "stream",
     "text": [
      " 64%|██████▎   | 633/996 [03:21<01:55,  3.14it/s]"
     ]
    },
    {
     "name": "stdout",
     "output_type": "stream",
     "text": [
      "Gradient overflow.  Skipping step, loss scaler 0 reducing loss scale to 4096.0\n"
     ]
    },
    {
     "name": "stderr",
     "output_type": "stream",
     "text": [
      "100%|██████████| 996/996 [05:23<00:00,  3.08it/s]\n",
      "100%|██████████| 332/332 [02:05<00:00,  2.64it/s]\n"
     ]
    },
    {
     "name": "stdout",
     "output_type": "stream",
     "text": [
      "Training Loss: 1.4497\tValidation Loss: 1.2662\n",
      "Counter train preds: Counter({0: 2765, 1: 2239, 5: 952, 4: 705, 2: 660, 3: 641})\tCounter val preds: Counter({0: 929, 1: 874, 4: 337, 5: 267, 3: 184, 2: 63})\n",
      "Epoch train QWK: 0.594\tval QWK: 0.709\n",
      "  Epoch 1 - Save Best Loss: 1.2662 Model\n",
      "Confusion matrix, without normalization\n",
      "[[616  83   0   7   9   8]\n",
      " [153 482   9   5  15   2]\n",
      " [ 42 195  34  30  29   5]\n",
      " [ 37  61  12  81  88  32]\n",
      " [ 43  44   5  31 121  69]\n",
      " [ 38   9   3  30  75 151]]\n",
      "  Epoch 1 - Save Best QWK: 0.7086 Model\n",
      "Confusion matrix, without normalization\n",
      "[[616  83   0   7   9   8]\n",
      " [153 482   9   5  15   2]\n",
      " [ 42 195  34  30  29   5]\n",
      " [ 37  61  12  81  88  32]\n",
      " [ 43  44   5  31 121  69]\n",
      " [ 38   9   3  30  75 151]]\n",
      "Epoch 2/49\n",
      "==========\n"
     ]
    },
    {
     "name": "stderr",
     "output_type": "stream",
     "text": [
      "100%|██████████| 996/996 [05:29<00:00,  3.03it/s]\n",
      "100%|██████████| 332/332 [02:05<00:00,  2.64it/s]\n"
     ]
    },
    {
     "name": "stdout",
     "output_type": "stream",
     "text": [
      "Training Loss: 1.3020\tValidation Loss: 1.2263\n",
      "Counter train preds: Counter({0: 2741, 1: 2233, 5: 909, 4: 736, 3: 728, 2: 615})\tCounter val preds: Counter({0: 972, 1: 609, 5: 462, 3: 230, 4: 199, 2: 182})\n",
      "Epoch train QWK: 0.671\tval QWK: 0.737\n",
      "  Epoch 2 - Save Best Loss: 1.2263 Model\n",
      "Confusion matrix, without normalization\n",
      "[[645  56   2   2  11   7]\n",
      " [177 383  62  24  14   6]\n",
      " [ 43 103  93  58  14  24]\n",
      " [ 38  33  14  96  36  94]\n",
      " [ 35  25   9  32  92 120]\n",
      " [ 34   9   2  18  32 211]]\n",
      "  Epoch 2 - Save Best QWK: 0.7373 Model\n",
      "Confusion matrix, without normalization\n",
      "[[645  56   2   2  11   7]\n",
      " [177 383  62  24  14   6]\n",
      " [ 43 103  93  58  14  24]\n",
      " [ 38  33  14  96  36  94]\n",
      " [ 35  25   9  32  92 120]\n",
      " [ 34   9   2  18  32 211]]\n",
      "Epoch 3/49\n",
      "==========\n"
     ]
    },
    {
     "name": "stderr",
     "output_type": "stream",
     "text": [
      " 85%|████████▍ | 843/996 [04:29<00:47,  3.19it/s]"
     ]
    },
    {
     "name": "stdout",
     "output_type": "stream",
     "text": [
      "Gradient overflow.  Skipping step, loss scaler 0 reducing loss scale to 4096.0\n"
     ]
    },
    {
     "name": "stderr",
     "output_type": "stream",
     "text": [
      "100%|██████████| 996/996 [05:17<00:00,  3.14it/s]\n",
      "100%|██████████| 332/332 [02:01<00:00,  2.73it/s]\n"
     ]
    },
    {
     "name": "stdout",
     "output_type": "stream",
     "text": [
      "Training Loss: 1.3905\tValidation Loss: 1.2767\n",
      "Counter train preds: Counter({0: 2705, 1: 2199, 5: 892, 4: 765, 3: 709, 2: 692})\tCounter val preds: Counter({1: 998, 0: 703, 5: 478, 3: 221, 4: 173, 2: 81})\n",
      "Epoch train QWK: 0.635\tval QWK: 0.744\n",
      "  Epoch 3 - Save Best QWK: 0.7439 Model\n",
      "Confusion matrix, without normalization\n",
      "[[529 167   2   0   3  22]\n",
      " [104 507  20  15   8  12]\n",
      " [ 20 194  34  53  13  21]\n",
      " [ 17  61  19 101  33  80]\n",
      " [ 17  46   4  33  88 125]\n",
      " [ 16  23   2  19  28 218]]\n",
      "Epoch 4/49\n",
      "==========\n"
     ]
    },
    {
     "name": "stderr",
     "output_type": "stream",
     "text": [
      "100%|██████████| 996/996 [05:36<00:00,  2.96it/s]\n",
      "100%|██████████| 332/332 [02:05<00:00,  2.65it/s]\n"
     ]
    },
    {
     "name": "stdout",
     "output_type": "stream",
     "text": [
      "Training Loss: 1.3209\tValidation Loss: 1.2148\n",
      "Counter train preds: Counter({0: 2686, 1: 2166, 5: 961, 4: 763, 3: 699, 2: 687})\tCounter val preds: Counter({0: 774, 1: 741, 5: 342, 4: 320, 2: 243, 3: 234})\n",
      "Epoch train QWK: 0.684\tval QWK: 0.756\n",
      "  Epoch 4 - Save Best Loss: 1.2148 Model\n",
      "Confusion matrix, without normalization\n",
      "[[577 102   3  10  23   8]\n",
      " [129 434  63  16  24   0]\n",
      " [ 19 110 120  49  19  18]\n",
      " [ 21  39  38 102  56  55]\n",
      " [ 11  37  14  34 147  70]\n",
      " [ 17  19   5  23  51 191]]\n",
      "  Epoch 4 - Save Best QWK: 0.7559 Model\n",
      "Confusion matrix, without normalization\n",
      "[[577 102   3  10  23   8]\n",
      " [129 434  63  16  24   0]\n",
      " [ 19 110 120  49  19  18]\n",
      " [ 21  39  38 102  56  55]\n",
      " [ 11  37  14  34 147  70]\n",
      " [ 17  19   5  23  51 191]]\n",
      "Epoch 5/49\n",
      "==========\n"
     ]
    },
    {
     "name": "stderr",
     "output_type": "stream",
     "text": [
      "100%|██████████| 996/996 [05:24<00:00,  3.07it/s]\n",
      "100%|██████████| 332/332 [01:59<00:00,  2.78it/s]\n"
     ]
    },
    {
     "name": "stdout",
     "output_type": "stream",
     "text": [
      "Training Loss: 1.2321\tValidation Loss: 1.1582\n",
      "Counter train preds: Counter({0: 2647, 1: 2166, 5: 914, 4: 757, 2: 740, 3: 738})\tCounter val preds: Counter({0: 870, 1: 735, 5: 417, 4: 249, 2: 231, 3: 152})\n",
      "Epoch train QWK: 0.728\tval QWK: 0.770\n",
      "  Epoch 5 - Save Best Loss: 1.1582 Model\n",
      "Confusion matrix, without normalization\n",
      "[[641  64   2   1   8   7]\n",
      " [118 473  53   5   9   8]\n",
      " [ 23 130 118  34   8  22]\n",
      " [ 33  37  36  68  59  78]\n",
      " [ 28  26  18  29 122  90]\n",
      " [ 27   5   4  15  43 212]]\n",
      "  Epoch 5 - Save Best QWK: 0.7696 Model\n",
      "Confusion matrix, without normalization\n",
      "[[641  64   2   1   8   7]\n",
      " [118 473  53   5   9   8]\n",
      " [ 23 130 118  34   8  22]\n",
      " [ 33  37  36  68  59  78]\n",
      " [ 28  26  18  29 122  90]\n",
      " [ 27   5   4  15  43 212]]\n",
      "Epoch 6/49\n",
      "==========\n"
     ]
    },
    {
     "name": "stderr",
     "output_type": "stream",
     "text": [
      "100%|██████████| 996/996 [05:14<00:00,  3.17it/s]\n",
      "100%|██████████| 332/332 [01:58<00:00,  2.80it/s]\n"
     ]
    },
    {
     "name": "stdout",
     "output_type": "stream",
     "text": [
      "Training Loss: 1.1745\tValidation Loss: 1.1495\n",
      "Counter train preds: Counter({0: 2572, 1: 2206, 5: 900, 3: 805, 4: 752, 2: 727})\tCounter val preds: Counter({0: 830, 1: 780, 5: 423, 2: 230, 4: 198, 3: 193})\n",
      "Epoch train QWK: 0.753\tval QWK: 0.769\n",
      "  Epoch 6 - Save Best Loss: 1.1495 Model\n",
      "Confusion matrix, without normalization\n",
      "[[624  79   3   1  11   5]\n",
      " [107 487  50   7   8   7]\n",
      " [ 17 136 118  36   8  20]\n",
      " [ 33  36  37  93  36  76]\n",
      " [ 26  31  17  35 103 101]\n",
      " [ 23  11   5  21  32 214]]\n",
      "Epoch 7/49\n",
      "==========\n"
     ]
    },
    {
     "name": "stderr",
     "output_type": "stream",
     "text": [
      "100%|██████████| 996/996 [05:11<00:00,  3.20it/s]\n",
      "100%|██████████| 332/332 [01:59<00:00,  2.78it/s]"
     ]
    },
    {
     "name": "stdout",
     "output_type": "stream",
     "text": [
      "Training Loss: 1.3250\tValidation Loss: 1.2258\n",
      "Counter train preds: Counter({0: 2647, 1: 2161, 5: 932, 3: 760, 4: 750, 2: 712})\tCounter val preds: Counter({0: 918, 1: 843, 5: 389, 3: 249, 4: 216, 2: 39})\n",
      "Epoch train QWK: 0.688\tval QWK: 0.742\n",
      "Epoch 8/49\n",
      "==========\n"
     ]
    },
    {
     "name": "stderr",
     "output_type": "stream",
     "text": [
      "\n",
      "100%|██████████| 996/996 [05:20<00:00,  3.11it/s]\n",
      "100%|██████████| 332/332 [02:06<00:00,  2.63it/s]"
     ]
    },
    {
     "name": "stdout",
     "output_type": "stream",
     "text": [
      "Training Loss: 1.2890\tValidation Loss: 1.2803\n",
      "Counter train preds: Counter({0: 2551, 1: 2180, 5: 894, 4: 799, 2: 776, 3: 762})\tCounter val preds: Counter({0: 844, 1: 684, 5: 539, 4: 239, 3: 215, 2: 133})\n",
      "Epoch train QWK: 0.707\tval QWK: 0.751\n",
      "Epoch 9/49\n",
      "==========\n"
     ]
    },
    {
     "name": "stderr",
     "output_type": "stream",
     "text": [
      "\n",
      " 91%|█████████ | 907/996 [05:13<00:30,  2.96it/s]"
     ]
    },
    {
     "name": "stdout",
     "output_type": "stream",
     "text": [
      "Gradient overflow.  Skipping step, loss scaler 0 reducing loss scale to 16384.0\n"
     ]
    },
    {
     "name": "stderr",
     "output_type": "stream",
     "text": [
      "100%|██████████| 996/996 [05:42<00:00,  2.91it/s]\n",
      "100%|██████████| 332/332 [02:01<00:00,  2.73it/s]"
     ]
    },
    {
     "name": "stdout",
     "output_type": "stream",
     "text": [
      "Training Loss: 1.2485\tValidation Loss: 1.1913\n",
      "Counter train preds: Counter({0: 2604, 1: 2147, 5: 918, 4: 775, 2: 774, 3: 744})\tCounter val preds: Counter({0: 906, 1: 666, 3: 385, 5: 356, 4: 210, 2: 131})\n",
      "Epoch train QWK: 0.727\tval QWK: 0.767\n",
      "Epoch 10/49\n",
      "==========\n"
     ]
    },
    {
     "name": "stderr",
     "output_type": "stream",
     "text": [
      "\n",
      " 68%|██████▊   | 676/996 [03:32<01:38,  3.24it/s]"
     ]
    },
    {
     "name": "stdout",
     "output_type": "stream",
     "text": [
      "Gradient overflow.  Skipping step, loss scaler 0 reducing loss scale to 8192.0\n"
     ]
    },
    {
     "name": "stderr",
     "output_type": "stream",
     "text": [
      "100%|██████████| 996/996 [05:12<00:00,  3.19it/s]\n",
      "100%|██████████| 332/332 [01:59<00:00,  2.78it/s]\n"
     ]
    },
    {
     "name": "stdout",
     "output_type": "stream",
     "text": [
      "Training Loss: 1.1979\tValidation Loss: 1.2052\n",
      "Counter train preds: Counter({0: 2538, 1: 2152, 5: 889, 3: 804, 4: 798, 2: 781})\tCounter val preds: Counter({0: 846, 1: 758, 5: 557, 4: 201, 3: 172, 2: 120})\n",
      "Epoch train QWK: 0.748\tval QWK: 0.774\n",
      "  Epoch 10 - Save Best QWK: 0.7745 Model\n",
      "Confusion matrix, without normalization\n",
      "[[638  60   1   2   7  15]\n",
      " [122 475  28  18  10  13]\n",
      " [ 21 154  64  48  18  30]\n",
      " [ 27  36  19  62  55 112]\n",
      " [ 19  23   8  28  91 144]\n",
      " [ 19  10   0  14  20 243]]\n",
      "Epoch 11/49\n",
      "==========\n"
     ]
    },
    {
     "name": "stderr",
     "output_type": "stream",
     "text": [
      "100%|██████████| 996/996 [05:12<00:00,  3.19it/s]\n",
      "100%|██████████| 332/332 [02:02<00:00,  2.70it/s]\n"
     ]
    },
    {
     "name": "stdout",
     "output_type": "stream",
     "text": [
      "Training Loss: 1.1496\tValidation Loss: 1.1798\n",
      "Counter train preds: Counter({0: 2516, 1: 2111, 5: 912, 2: 836, 4: 802, 3: 785})\tCounter val preds: Counter({0: 820, 1: 703, 5: 385, 4: 361, 3: 227, 2: 158})\n",
      "Epoch train QWK: 0.779\tval QWK: 0.781\n",
      "  Epoch 11 - Save Best QWK: 0.7810 Model\n",
      "Confusion matrix, without normalization\n",
      "[[622  79   1   2  11   8]\n",
      " [116 449  51  21  23   6]\n",
      " [ 15 108  87  66  48  11]\n",
      " [ 32  27  13  97  84  58]\n",
      " [ 15  28   6  26 148  90]\n",
      " [ 20  12   0  15  47 212]]\n",
      "Epoch 12/49\n",
      "==========\n"
     ]
    },
    {
     "name": "stderr",
     "output_type": "stream",
     "text": [
      "100%|██████████| 996/996 [05:58<00:00,  2.78it/s]\n",
      "100%|██████████| 332/332 [02:20<00:00,  2.37it/s]\n"
     ]
    },
    {
     "name": "stdout",
     "output_type": "stream",
     "text": [
      "Training Loss: 1.1061\tValidation Loss: 1.1495\n",
      "Counter train preds: Counter({0: 2503, 1: 2159, 5: 864, 2: 814, 4: 812, 3: 810})\tCounter val preds: Counter({0: 879, 1: 758, 5: 391, 3: 277, 4: 232, 2: 117})\n",
      "Epoch train QWK: 0.793\tval QWK: 0.782\n",
      "  Epoch 12 - Save Best Loss: 1.1495 Model\n",
      "Confusion matrix, without normalization\n",
      "[[661  40   1   4  10   7]\n",
      " [121 489  25  15  13   3]\n",
      " [ 17 158  71  58  17  14]\n",
      " [ 32  39  13 128  38  61]\n",
      " [ 24  22   6  46 119  96]\n",
      " [ 24  10   1  26  35 210]]\n",
      "  Epoch 12 - Save Best QWK: 0.7816 Model\n",
      "Confusion matrix, without normalization\n",
      "[[661  40   1   4  10   7]\n",
      " [121 489  25  15  13   3]\n",
      " [ 17 158  71  58  17  14]\n",
      " [ 32  39  13 128  38  61]\n",
      " [ 24  22   6  46 119  96]\n",
      " [ 24  10   1  26  35 210]]\n",
      "Epoch 13/49\n",
      "==========\n"
     ]
    },
    {
     "name": "stderr",
     "output_type": "stream",
     "text": [
      "100%|██████████| 996/996 [05:52<00:00,  2.83it/s]\n",
      "100%|██████████| 332/332 [02:14<00:00,  2.47it/s]\n"
     ]
    },
    {
     "name": "stdout",
     "output_type": "stream",
     "text": [
      "Training Loss: 1.0662\tValidation Loss: 1.1620\n",
      "Counter train preds: Counter({0: 2455, 1: 2111, 5: 879, 2: 849, 4: 840, 3: 828})\tCounter val preds: Counter({0: 806, 1: 682, 5: 423, 3: 282, 4: 262, 2: 199})\n",
      "Epoch train QWK: 0.804\tval QWK: 0.782\n",
      "  Epoch 13 - Save Best QWK: 0.7821 Model\n",
      "Confusion matrix, without normalization\n",
      "[[631  51   4   7  12  18]\n",
      " [103 462  62  16  18   5]\n",
      " [ 14 117 102  64  19  19]\n",
      " [ 26  27  16 132  44  66]\n",
      " [ 16  17  10  43 128  99]\n",
      " [ 16   8   5  20  41 216]]\n",
      "Epoch 14/49\n",
      "==========\n"
     ]
    },
    {
     "name": "stderr",
     "output_type": "stream",
     "text": [
      "100%|██████████| 996/996 [05:58<00:00,  2.78it/s]\n",
      "100%|██████████| 332/332 [02:00<00:00,  2.76it/s]\n"
     ]
    },
    {
     "name": "stdout",
     "output_type": "stream",
     "text": [
      "Training Loss: 1.0464\tValidation Loss: 1.1491\n",
      "Counter train preds: Counter({0: 2444, 1: 2113, 5: 874, 2: 871, 3: 836, 4: 824})\tCounter val preds: Counter({0: 752, 1: 734, 5: 326, 4: 313, 2: 283, 3: 246})\n",
      "Epoch train QWK: 0.816\tval QWK: 0.790\n",
      "  Epoch 14 - Save Best Loss: 1.1491 Model\n",
      "Confusion matrix, without normalization\n",
      "[[606  79   5   6  15  12]\n",
      " [ 87 472  75  11  18   3]\n",
      " [ 12 118 133  47  20   5]\n",
      " [ 22  30  46 113  54  46]\n",
      " [ 12  25  17  44 149  66]\n",
      " [ 13  10   7  25  57 194]]\n",
      "  Epoch 14 - Save Best QWK: 0.7903 Model\n",
      "Confusion matrix, without normalization\n",
      "[[606  79   5   6  15  12]\n",
      " [ 87 472  75  11  18   3]\n",
      " [ 12 118 133  47  20   5]\n",
      " [ 22  30  46 113  54  46]\n",
      " [ 12  25  17  44 149  66]\n",
      " [ 13  10   7  25  57 194]]\n",
      "Epoch 15/49\n",
      "==========\n"
     ]
    },
    {
     "name": "stderr",
     "output_type": "stream",
     "text": [
      " 28%|██▊       | 275/996 [01:26<03:44,  3.21it/s]"
     ]
    },
    {
     "name": "stdout",
     "output_type": "stream",
     "text": [
      "Gradient overflow.  Skipping step, loss scaler 0 reducing loss scale to 16384.0\n"
     ]
    },
    {
     "name": "stderr",
     "output_type": "stream",
     "text": [
      "100%|██████████| 996/996 [05:14<00:00,  3.17it/s]\n",
      "100%|██████████| 332/332 [01:59<00:00,  2.77it/s]"
     ]
    },
    {
     "name": "stdout",
     "output_type": "stream",
     "text": [
      "Training Loss: 1.2202\tValidation Loss: 1.2908\n",
      "Counter train preds: Counter({0: 2529, 1: 2132, 5: 918, 2: 802, 3: 792, 4: 789})\tCounter val preds: Counter({0: 976, 1: 716, 4: 355, 3: 351, 5: 143, 2: 113})\n",
      "Epoch train QWK: 0.741\tval QWK: 0.740\n",
      "Epoch 16/49\n",
      "==========\n"
     ]
    },
    {
     "name": "stderr",
     "output_type": "stream",
     "text": [
      "\n",
      "100%|██████████| 996/996 [05:13<00:00,  3.18it/s]\n",
      "100%|██████████| 332/332 [01:58<00:00,  2.80it/s]"
     ]
    },
    {
     "name": "stdout",
     "output_type": "stream",
     "text": [
      "Training Loss: 1.2251\tValidation Loss: 1.2841\n",
      "Counter train preds: Counter({0: 2556, 1: 2161, 5: 885, 2: 802, 4: 790, 3: 768})\tCounter val preds: Counter({0: 723, 1: 718, 4: 467, 3: 323, 5: 302, 2: 121})\n",
      "Epoch train QWK: 0.745\tval QWK: 0.755\n",
      "Epoch 17/49\n",
      "==========\n"
     ]
    },
    {
     "name": "stderr",
     "output_type": "stream",
     "text": [
      "\n",
      " 86%|████████▌ | 854/996 [04:29<00:43,  3.30it/s]"
     ]
    },
    {
     "name": "stdout",
     "output_type": "stream",
     "text": [
      "Gradient overflow.  Skipping step, loss scaler 0 reducing loss scale to 16384.0\n"
     ]
    },
    {
     "name": "stderr",
     "output_type": "stream",
     "text": [
      "100%|██████████| 996/996 [05:13<00:00,  3.18it/s]\n",
      "100%|██████████| 332/332 [01:59<00:00,  2.79it/s]"
     ]
    },
    {
     "name": "stdout",
     "output_type": "stream",
     "text": [
      "Training Loss: 1.2022\tValidation Loss: 1.2296\n",
      "Counter train preds: Counter({0: 2509, 1: 2136, 5: 870, 3: 830, 4: 814, 2: 803})\tCounter val preds: Counter({0: 844, 1: 702, 4: 430, 5: 394, 2: 167, 3: 117})\n",
      "Epoch train QWK: 0.735\tval QWK: 0.764\n",
      "Epoch 18/49\n",
      "==========\n"
     ]
    },
    {
     "name": "stderr",
     "output_type": "stream",
     "text": [
      "\n",
      "100%|██████████| 996/996 [05:10<00:00,  3.21it/s]\n",
      "100%|██████████| 332/332 [01:59<00:00,  2.78it/s]"
     ]
    },
    {
     "name": "stdout",
     "output_type": "stream",
     "text": [
      "Training Loss: 1.1839\tValidation Loss: 1.3336\n",
      "Counter train preds: Counter({0: 2550, 1: 2142, 5: 878, 4: 820, 3: 790, 2: 782})\tCounter val preds: Counter({1: 857, 0: 698, 4: 673, 3: 184, 5: 144, 2: 98})\n",
      "Epoch train QWK: 0.758\tval QWK: 0.755\n",
      "Epoch 19/49\n",
      "==========\n"
     ]
    },
    {
     "name": "stderr",
     "output_type": "stream",
     "text": [
      "\n",
      "100%|██████████| 996/996 [05:09<00:00,  3.21it/s]\n",
      "100%|██████████| 332/332 [01:58<00:00,  2.80it/s]"
     ]
    },
    {
     "name": "stdout",
     "output_type": "stream",
     "text": [
      "Training Loss: 1.1558\tValidation Loss: 1.1982\n",
      "Counter train preds: Counter({0: 2451, 1: 2133, 5: 892, 3: 854, 2: 819, 4: 813})\tCounter val preds: Counter({0: 900, 1: 734, 5: 466, 4: 239, 2: 178, 3: 137})\n",
      "Epoch train QWK: 0.773\tval QWK: 0.755\n",
      "Epoch 20/49\n",
      "==========\n"
     ]
    },
    {
     "name": "stderr",
     "output_type": "stream",
     "text": [
      "\n",
      "100%|██████████| 996/996 [05:10<00:00,  3.21it/s]\n",
      "100%|██████████| 332/332 [01:59<00:00,  2.79it/s]"
     ]
    },
    {
     "name": "stdout",
     "output_type": "stream",
     "text": [
      "Training Loss: 1.1329\tValidation Loss: 1.2534\n",
      "Counter train preds: Counter({0: 2493, 1: 2112, 2: 860, 5: 860, 4: 838, 3: 799})\tCounter val preds: Counter({1: 1094, 0: 767, 5: 278, 4: 214, 3: 207, 2: 94})\n",
      "Epoch train QWK: 0.769\tval QWK: 0.747\n",
      "Epoch 21/49\n",
      "==========\n"
     ]
    },
    {
     "name": "stderr",
     "output_type": "stream",
     "text": [
      "\n",
      "100%|██████████| 996/996 [05:09<00:00,  3.22it/s]\n",
      "100%|██████████| 332/332 [01:59<00:00,  2.78it/s]"
     ]
    },
    {
     "name": "stdout",
     "output_type": "stream",
     "text": [
      "Training Loss: 1.0924\tValidation Loss: 1.3238\n",
      "Counter train preds: Counter({0: 2486, 1: 2071, 5: 872, 4: 871, 3: 834, 2: 828})\tCounter val preds: Counter({1: 877, 0: 736, 5: 525, 4: 236, 2: 181, 3: 99})\n",
      "Epoch train QWK: 0.799\tval QWK: 0.779\n",
      "Epoch 22/49\n",
      "==========\n"
     ]
    },
    {
     "name": "stderr",
     "output_type": "stream",
     "text": [
      "\n",
      "100%|██████████| 996/996 [05:09<00:00,  3.22it/s]\n",
      "100%|██████████| 332/332 [01:59<00:00,  2.79it/s]"
     ]
    },
    {
     "name": "stdout",
     "output_type": "stream",
     "text": [
      "Training Loss: 1.0577\tValidation Loss: 1.1994\n",
      "Counter train preds: Counter({0: 2431, 1: 2082, 5: 897, 4: 877, 2: 862, 3: 813})\tCounter val preds: Counter({0: 744, 1: 662, 4: 455, 5: 302, 2: 282, 3: 209})\n",
      "Epoch train QWK: 0.814\tval QWK: 0.785\n",
      "Epoch 23/49\n",
      "==========\n"
     ]
    },
    {
     "name": "stderr",
     "output_type": "stream",
     "text": [
      "\n",
      " 88%|████████▊ | 880/996 [04:33<00:35,  3.25it/s]"
     ]
    },
    {
     "name": "stdout",
     "output_type": "stream",
     "text": [
      "Gradient overflow.  Skipping step, loss scaler 0 reducing loss scale to 65536.0\n"
     ]
    },
    {
     "name": "stderr",
     "output_type": "stream",
     "text": [
      "100%|██████████| 996/996 [05:09<00:00,  3.21it/s]"
     ]
    },
    {
     "name": "stdout",
     "output_type": "stream",
     "text": [
      "Gradient overflow.  Skipping step, loss scaler 0 reducing loss scale to 32768.0\n"
     ]
    },
    {
     "name": "stderr",
     "output_type": "stream",
     "text": [
      "\n",
      "100%|██████████| 332/332 [01:59<00:00,  2.77it/s]\n"
     ]
    },
    {
     "name": "stdout",
     "output_type": "stream",
     "text": [
      "Training Loss: 1.0265\tValidation Loss: 1.2040\n",
      "Counter train preds: Counter({0: 2423, 1: 2089, 5: 920, 2: 892, 4: 840, 3: 798})\tCounter val preds: Counter({0: 777, 1: 679, 4: 408, 5: 338, 2: 275, 3: 177})\n",
      "Epoch train QWK: 0.824\tval QWK: 0.790\n",
      "  Epoch 23 - Save Best QWK: 0.7905 Model\n",
      "Confusion matrix, without normalization\n",
      "[[612  74   2  10  19   6]\n",
      " [109 432  92   8  16   9]\n",
      " [ 16  98 135  39  26  21]\n",
      " [ 22  34  28  81  94  52]\n",
      " [ 10  27  10  25 184  57]\n",
      " [  8  14   8  14  69 193]]\n",
      "Epoch 24/49\n",
      "==========\n"
     ]
    },
    {
     "name": "stderr",
     "output_type": "stream",
     "text": [
      "100%|██████████| 996/996 [05:16<00:00,  3.15it/s]\n",
      "100%|██████████| 332/332 [01:59<00:00,  2.79it/s]"
     ]
    },
    {
     "name": "stdout",
     "output_type": "stream",
     "text": [
      "Training Loss: 0.9862\tValidation Loss: 1.1747\n",
      "Counter train preds: Counter({0: 2394, 1: 2058, 4: 896, 5: 888, 2: 872, 3: 854})\tCounter val preds: Counter({1: 812, 0: 765, 3: 342, 4: 315, 5: 235, 2: 185})\n",
      "Epoch train QWK: 0.838\tval QWK: 0.784\n",
      "Epoch 25/49\n",
      "==========\n"
     ]
    },
    {
     "name": "stderr",
     "output_type": "stream",
     "text": [
      "\n",
      "100%|██████████| 996/996 [05:10<00:00,  3.21it/s]\n",
      "100%|██████████| 332/332 [01:58<00:00,  2.79it/s]\n"
     ]
    },
    {
     "name": "stdout",
     "output_type": "stream",
     "text": [
      "Training Loss: 0.9431\tValidation Loss: 1.2012\n",
      "Counter train preds: Counter({0: 2395, 1: 2024, 2: 917, 5: 884, 3: 871, 4: 871})\tCounter val preds: Counter({0: 807, 1: 701, 4: 350, 5: 345, 3: 240, 2: 211})\n",
      "Epoch train QWK: 0.852\tval QWK: 0.794\n",
      "  Epoch 25 - Save Best QWK: 0.7942 Model\n",
      "Confusion matrix, without normalization\n",
      "[[627  66   2   9  13   6]\n",
      " [114 453  60  20  17   2]\n",
      " [ 17 117 107  50  29  15]\n",
      " [ 24  22  29 101  76  59]\n",
      " [ 11  32   9  35 164  62]\n",
      " [ 14  11   4  25  51 201]]\n",
      "Epoch 26/49\n",
      "==========\n"
     ]
    },
    {
     "name": "stderr",
     "output_type": "stream",
     "text": [
      " 83%|████████▎ | 824/996 [04:24<00:52,  3.28it/s]"
     ]
    },
    {
     "name": "stdout",
     "output_type": "stream",
     "text": [
      "Gradient overflow.  Skipping step, loss scaler 0 reducing loss scale to 32768.0\n"
     ]
    },
    {
     "name": "stderr",
     "output_type": "stream",
     "text": [
      "100%|██████████| 996/996 [05:18<00:00,  3.13it/s]"
     ]
    },
    {
     "name": "stdout",
     "output_type": "stream",
     "text": [
      "Gradient overflow.  Skipping step, loss scaler 0 reducing loss scale to 16384.0\n"
     ]
    },
    {
     "name": "stderr",
     "output_type": "stream",
     "text": [
      "\n",
      "100%|██████████| 332/332 [01:59<00:00,  2.79it/s]"
     ]
    },
    {
     "name": "stdout",
     "output_type": "stream",
     "text": [
      "Training Loss: 0.9192\tValidation Loss: 1.1877\n",
      "Counter train preds: Counter({0: 2373, 1: 2072, 2: 899, 5: 889, 3: 880, 4: 849})\tCounter val preds: Counter({0: 870, 1: 637, 3: 374, 5: 309, 4: 263, 2: 201})\n",
      "Epoch train QWK: 0.862\tval QWK: 0.791\n",
      "Epoch 27/49\n",
      "==========\n"
     ]
    },
    {
     "name": "stderr",
     "output_type": "stream",
     "text": [
      "\n",
      " 13%|█▎        | 128/996 [00:40<04:25,  3.26it/s]"
     ]
    },
    {
     "name": "stdout",
     "output_type": "stream",
     "text": [
      "Gradient overflow.  Skipping step, loss scaler 0 reducing loss scale to 8192.0\n"
     ]
    },
    {
     "name": "stderr",
     "output_type": "stream",
     "text": [
      "100%|██████████| 996/996 [05:09<00:00,  3.22it/s]\n",
      "100%|██████████| 332/332 [01:58<00:00,  2.79it/s]"
     ]
    },
    {
     "name": "stdout",
     "output_type": "stream",
     "text": [
      "Training Loss: 0.8795\tValidation Loss: 1.2482\n",
      "Counter train preds: Counter({0: 2364, 1: 2008, 2: 966, 5: 902, 4: 868, 3: 854})\tCounter val preds: Counter({0: 870, 1: 610, 5: 466, 2: 249, 4: 242, 3: 217})\n",
      "Epoch train QWK: 0.876\tval QWK: 0.784\n",
      "Epoch 28/49\n",
      "==========\n"
     ]
    },
    {
     "name": "stderr",
     "output_type": "stream",
     "text": [
      "\n",
      "100%|██████████| 996/996 [05:09<00:00,  3.21it/s]\n",
      "100%|██████████| 332/332 [01:58<00:00,  2.80it/s]"
     ]
    },
    {
     "name": "stdout",
     "output_type": "stream",
     "text": [
      "Training Loss: 0.8537\tValidation Loss: 1.2185\n",
      "Counter train preds: Counter({0: 2330, 1: 2014, 2: 973, 5: 894, 4: 888, 3: 863})\tCounter val preds: Counter({0: 855, 1: 539, 5: 406, 4: 295, 2: 286, 3: 273})\n",
      "Epoch train QWK: 0.888\tval QWK: 0.780\n",
      "Epoch 29/49\n",
      "==========\n"
     ]
    },
    {
     "name": "stderr",
     "output_type": "stream",
     "text": [
      "\n",
      "100%|██████████| 996/996 [05:09<00:00,  3.21it/s]\n",
      "100%|██████████| 332/332 [01:58<00:00,  2.80it/s]"
     ]
    },
    {
     "name": "stdout",
     "output_type": "stream",
     "text": [
      "Training Loss: 0.8418\tValidation Loss: 1.2165\n",
      "Counter train preds: Counter({0: 2324, 1: 2037, 2: 948, 5: 903, 3: 882, 4: 868})\tCounter val preds: Counter({0: 830, 1: 631, 5: 359, 4: 336, 3: 285, 2: 213})\n",
      "Epoch train QWK: 0.884\tval QWK: 0.783\n",
      "Epoch 30/49\n",
      "==========\n"
     ]
    },
    {
     "name": "stderr",
     "output_type": "stream",
     "text": [
      "\n",
      "100%|██████████| 996/996 [05:09<00:00,  3.22it/s]\n",
      "100%|██████████| 332/332 [01:59<00:00,  2.79it/s]\n"
     ]
    },
    {
     "name": "stdout",
     "output_type": "stream",
     "text": [
      "Training Loss: 0.8362\tValidation Loss: 1.1890\n",
      "Counter train preds: Counter({0: 2317, 1: 2031, 2: 958, 3: 905, 5: 884, 4: 867})\tCounter val preds: Counter({0: 788, 1: 693, 4: 357, 5: 324, 2: 259, 3: 233})\n",
      "Epoch train QWK: 0.894\tval QWK: 0.797\n",
      "  Epoch 30 - Save Best QWK: 0.7970 Model\n",
      "Confusion matrix, without normalization\n",
      "[[622  72   4   6  13   6]\n",
      " [106 443  76  14  19   8]\n",
      " [ 15 118 126  40  24  12]\n",
      " [ 24  29  28 105  76  49]\n",
      " [  8  21  16  42 170  56]\n",
      " [ 13  10   9  26  55 193]]\n",
      "Epoch 31/49\n",
      "==========\n"
     ]
    },
    {
     "name": "stderr",
     "output_type": "stream",
     "text": [
      " 78%|███████▊  | 773/996 [04:00<01:09,  3.22it/s]"
     ]
    },
    {
     "name": "stdout",
     "output_type": "stream",
     "text": [
      "Gradient overflow.  Skipping step, loss scaler 0 reducing loss scale to 16384.0\n"
     ]
    },
    {
     "name": "stderr",
     "output_type": "stream",
     "text": [
      "100%|██████████| 996/996 [05:09<00:00,  3.22it/s]\n",
      "100%|██████████| 332/332 [01:58<00:00,  2.80it/s]"
     ]
    },
    {
     "name": "stdout",
     "output_type": "stream",
     "text": [
      "Training Loss: 1.1018\tValidation Loss: 1.2927\n",
      "Counter train preds: Counter({0: 2457, 1: 2081, 5: 922, 2: 872, 4: 820, 3: 810})\tCounter val preds: Counter({0: 718, 1: 620, 5: 422, 4: 405, 3: 310, 2: 179})\n",
      "Epoch train QWK: 0.792\tval QWK: 0.696\n",
      "Epoch 32/49\n",
      "==========\n"
     ]
    },
    {
     "name": "stderr",
     "output_type": "stream",
     "text": [
      "\n",
      "100%|██████████| 996/996 [05:09<00:00,  3.22it/s]\n",
      "100%|██████████| 332/332 [01:59<00:00,  2.79it/s]"
     ]
    },
    {
     "name": "stdout",
     "output_type": "stream",
     "text": [
      "Training Loss: 1.1129\tValidation Loss: 1.3144\n",
      "Counter train preds: Counter({0: 2464, 1: 2085, 5: 884, 2: 858, 4: 841, 3: 830})\tCounter val preds: Counter({1: 874, 0: 772, 4: 601, 5: 154, 3: 153, 2: 100})\n",
      "Epoch train QWK: 0.783\tval QWK: 0.740\n",
      "Epoch 33/49\n",
      "==========\n"
     ]
    },
    {
     "name": "stderr",
     "output_type": "stream",
     "text": [
      "\n",
      "100%|██████████| 996/996 [05:15<00:00,  3.16it/s]"
     ]
    },
    {
     "name": "stdout",
     "output_type": "stream",
     "text": [
      "Gradient overflow.  Skipping step, loss scaler 0 reducing loss scale to 16384.0\n"
     ]
    },
    {
     "name": "stderr",
     "output_type": "stream",
     "text": [
      "\n",
      "100%|██████████| 332/332 [01:57<00:00,  2.82it/s]"
     ]
    },
    {
     "name": "stdout",
     "output_type": "stream",
     "text": [
      "Training Loss: 1.1019\tValidation Loss: 1.2767\n",
      "Counter train preds: Counter({0: 2460, 1: 2056, 5: 923, 4: 864, 2: 847, 3: 812})\tCounter val preds: Counter({0: 961, 1: 645, 5: 627, 2: 207, 4: 157, 3: 57})\n",
      "Epoch train QWK: 0.790\tval QWK: 0.769\n",
      "Epoch 34/49\n",
      "==========\n"
     ]
    },
    {
     "name": "stderr",
     "output_type": "stream",
     "text": [
      "\n",
      "100%|██████████| 996/996 [05:09<00:00,  3.22it/s]\n",
      "100%|██████████| 332/332 [01:58<00:00,  2.81it/s]"
     ]
    },
    {
     "name": "stdout",
     "output_type": "stream",
     "text": [
      "Training Loss: 1.0801\tValidation Loss: 1.2290\n",
      "Counter train preds: Counter({0: 2443, 1: 2074, 5: 877, 2: 862, 4: 858, 3: 848})\tCounter val preds: Counter({0: 929, 2: 651, 1: 346, 3: 273, 5: 237, 4: 218})\n",
      "Epoch train QWK: 0.790\tval QWK: 0.770\n",
      "Epoch 35/49\n",
      "==========\n"
     ]
    },
    {
     "name": "stderr",
     "output_type": "stream",
     "text": [
      "\n",
      "100%|██████████| 996/996 [05:14<00:00,  3.17it/s]\n",
      "100%|██████████| 332/332 [01:59<00:00,  2.79it/s]"
     ]
    },
    {
     "name": "stdout",
     "output_type": "stream",
     "text": [
      "Training Loss: 1.0678\tValidation Loss: 1.3437\n",
      "Counter train preds: Counter({0: 2415, 1: 2061, 5: 894, 2: 876, 4: 860, 3: 856})\tCounter val preds: Counter({0: 764, 1: 716, 5: 639, 2: 342, 4: 110, 3: 83})\n",
      "Epoch train QWK: 0.806\tval QWK: 0.719\n",
      "Epoch 36/49\n",
      "==========\n"
     ]
    },
    {
     "name": "stderr",
     "output_type": "stream",
     "text": [
      "\n",
      "100%|██████████| 996/996 [05:09<00:00,  3.22it/s]"
     ]
    },
    {
     "name": "stdout",
     "output_type": "stream",
     "text": [
      "Gradient overflow.  Skipping step, loss scaler 0 reducing loss scale to 16384.0\n"
     ]
    },
    {
     "name": "stderr",
     "output_type": "stream",
     "text": [
      "\n",
      "100%|██████████| 332/332 [01:58<00:00,  2.81it/s]"
     ]
    },
    {
     "name": "stdout",
     "output_type": "stream",
     "text": [
      "Training Loss: 1.0554\tValidation Loss: 1.2714\n",
      "Counter train preds: Counter({0: 2465, 1: 2035, 5: 907, 2: 895, 3: 842, 4: 818})\tCounter val preds: Counter({0: 888, 5: 623, 1: 479, 2: 277, 3: 235, 4: 152})\n",
      "Epoch train QWK: 0.812\tval QWK: 0.735\n",
      "Epoch 37/49\n",
      "==========\n"
     ]
    },
    {
     "name": "stderr",
     "output_type": "stream",
     "text": [
      "\n",
      "100%|██████████| 996/996 [05:09<00:00,  3.22it/s]"
     ]
    },
    {
     "name": "stdout",
     "output_type": "stream",
     "text": [
      "Gradient overflow.  Skipping step, loss scaler 0 reducing loss scale to 8192.0\n"
     ]
    },
    {
     "name": "stderr",
     "output_type": "stream",
     "text": [
      "\n",
      "100%|██████████| 332/332 [01:58<00:00,  2.81it/s]"
     ]
    },
    {
     "name": "stdout",
     "output_type": "stream",
     "text": [
      "Training Loss: 1.0355\tValidation Loss: 1.2849\n",
      "Counter train preds: Counter({0: 2414, 1: 2053, 5: 894, 2: 884, 3: 868, 4: 849})\tCounter val preds: Counter({0: 874, 2: 514, 1: 394, 5: 389, 3: 325, 4: 158})\n",
      "Epoch train QWK: 0.817\tval QWK: 0.760\n",
      "Epoch 38/49\n",
      "==========\n"
     ]
    },
    {
     "name": "stderr",
     "output_type": "stream",
     "text": [
      "\n",
      "100%|██████████| 996/996 [05:09<00:00,  3.22it/s]\n",
      "100%|██████████| 332/332 [01:58<00:00,  2.81it/s]"
     ]
    },
    {
     "name": "stdout",
     "output_type": "stream",
     "text": [
      "Training Loss: 1.0128\tValidation Loss: 1.4975\n",
      "Counter train preds: Counter({0: 2433, 1: 2022, 2: 924, 5: 919, 3: 837, 4: 827})\tCounter val preds: Counter({1: 854, 5: 829, 0: 778, 2: 94, 3: 54, 4: 45})\n",
      "Epoch train QWK: 0.823\tval QWK: 0.734\n",
      "Epoch 39/49\n",
      "==========\n"
     ]
    },
    {
     "name": "stderr",
     "output_type": "stream",
     "text": [
      "\n",
      "100%|██████████| 996/996 [05:09<00:00,  3.21it/s]\n",
      "100%|██████████| 332/332 [01:58<00:00,  2.80it/s]"
     ]
    },
    {
     "name": "stdout",
     "output_type": "stream",
     "text": [
      "Training Loss: 1.0101\tValidation Loss: 1.2638\n",
      "Counter train preds: Counter({0: 2412, 1: 2047, 5: 894, 2: 877, 4: 872, 3: 860})\tCounter val preds: Counter({0: 858, 1: 774, 3: 409, 5: 312, 2: 157, 4: 144})\n",
      "Epoch train QWK: 0.810\tval QWK: 0.748\n",
      "Epoch 40/49\n",
      "==========\n"
     ]
    },
    {
     "name": "stderr",
     "output_type": "stream",
     "text": [
      "\n",
      "100%|██████████| 996/996 [05:09<00:00,  3.22it/s]"
     ]
    },
    {
     "name": "stdout",
     "output_type": "stream",
     "text": [
      "Gradient overflow.  Skipping step, loss scaler 0 reducing loss scale to 8192.0\n"
     ]
    },
    {
     "name": "stderr",
     "output_type": "stream",
     "text": [
      "\n",
      "100%|██████████| 332/332 [01:58<00:00,  2.81it/s]"
     ]
    },
    {
     "name": "stdout",
     "output_type": "stream",
     "text": [
      "Training Loss: 0.9976\tValidation Loss: 1.2657\n",
      "Counter train preds: Counter({0: 2416, 1: 2067, 2: 913, 5: 888, 3: 842, 4: 836})\tCounter val preds: Counter({0: 916, 1: 441, 2: 386, 3: 340, 4: 294, 5: 277})\n",
      "Epoch train QWK: 0.826\tval QWK: 0.753\n",
      "Epoch 41/49\n",
      "==========\n"
     ]
    },
    {
     "name": "stderr",
     "output_type": "stream",
     "text": [
      "\n",
      "100%|██████████| 996/996 [05:09<00:00,  3.22it/s]\n",
      "100%|██████████| 332/332 [01:58<00:00,  2.79it/s]"
     ]
    },
    {
     "name": "stdout",
     "output_type": "stream",
     "text": [
      "Training Loss: 0.9488\tValidation Loss: 1.3473\n",
      "Counter train preds: Counter({0: 2398, 1: 2022, 2: 922, 3: 885, 5: 881, 4: 854})\tCounter val preds: Counter({4: 646, 0: 644, 1: 586, 5: 330, 2: 279, 3: 169})\n",
      "Epoch train QWK: 0.843\tval QWK: 0.695\n",
      "Epoch 42/49\n",
      "==========\n"
     ]
    },
    {
     "name": "stderr",
     "output_type": "stream",
     "text": [
      "\n",
      "100%|██████████| 996/996 [05:09<00:00,  3.22it/s]\n",
      "100%|██████████| 332/332 [01:58<00:00,  2.81it/s]"
     ]
    },
    {
     "name": "stdout",
     "output_type": "stream",
     "text": [
      "Training Loss: 0.9435\tValidation Loss: 1.2672\n",
      "Counter train preds: Counter({0: 2376, 1: 2047, 2: 905, 5: 895, 3: 880, 4: 859})\tCounter val preds: Counter({0: 821, 2: 462, 1: 416, 3: 410, 5: 334, 4: 211})\n",
      "Epoch train QWK: 0.848\tval QWK: 0.757\n",
      "Epoch 43/49\n",
      "==========\n"
     ]
    },
    {
     "name": "stderr",
     "output_type": "stream",
     "text": [
      "\n",
      "100%|██████████| 996/996 [05:09<00:00,  3.22it/s]\n",
      "100%|██████████| 332/332 [01:58<00:00,  2.81it/s]"
     ]
    },
    {
     "name": "stdout",
     "output_type": "stream",
     "text": [
      "Training Loss: 0.9085\tValidation Loss: 1.2399\n",
      "Counter train preds: Counter({0: 2348, 1: 2025, 2: 952, 5: 885, 3: 877, 4: 875})\tCounter val preds: Counter({0: 860, 1: 734, 5: 534, 3: 222, 4: 203, 2: 101})\n",
      "Epoch train QWK: 0.856\tval QWK: 0.768\n",
      "Epoch 44/49\n",
      "==========\n"
     ]
    },
    {
     "name": "stderr",
     "output_type": "stream",
     "text": [
      "\n",
      "100%|██████████| 996/996 [05:09<00:00,  3.22it/s]\n",
      "100%|██████████| 332/332 [01:58<00:00,  2.81it/s]"
     ]
    },
    {
     "name": "stdout",
     "output_type": "stream",
     "text": [
      "Training Loss: 0.9014\tValidation Loss: 1.2882\n",
      "Counter train preds: Counter({0: 2375, 1: 2020, 2: 938, 5: 903, 4: 869, 3: 857})\tCounter val preds: Counter({0: 881, 1: 743, 5: 528, 4: 215, 2: 152, 3: 135})\n",
      "Epoch train QWK: 0.867\tval QWK: 0.774\n",
      "Epoch 45/49\n",
      "==========\n"
     ]
    },
    {
     "name": "stderr",
     "output_type": "stream",
     "text": [
      "\n",
      "100%|██████████| 996/996 [05:09<00:00,  3.21it/s]\n",
      "100%|██████████| 332/332 [01:58<00:00,  2.81it/s]"
     ]
    },
    {
     "name": "stdout",
     "output_type": "stream",
     "text": [
      "Training Loss: 0.8677\tValidation Loss: 1.2819\n",
      "Counter train preds: Counter({0: 2353, 1: 1990, 2: 949, 5: 900, 4: 886, 3: 884})\tCounter val preds: Counter({0: 838, 1: 536, 2: 447, 4: 412, 5: 281, 3: 140})\n",
      "Epoch train QWK: 0.868\tval QWK: 0.762\n",
      "Epoch 46/49\n",
      "==========\n"
     ]
    },
    {
     "name": "stderr",
     "output_type": "stream",
     "text": [
      "\n",
      "100%|██████████| 996/996 [05:09<00:00,  3.22it/s]"
     ]
    },
    {
     "name": "stdout",
     "output_type": "stream",
     "text": [
      "Gradient overflow.  Skipping step, loss scaler 0 reducing loss scale to 16384.0\n"
     ]
    },
    {
     "name": "stderr",
     "output_type": "stream",
     "text": [
      "\n",
      "100%|██████████| 332/332 [01:58<00:00,  2.81it/s]"
     ]
    },
    {
     "name": "stdout",
     "output_type": "stream",
     "text": [
      "Training Loss: 0.8447\tValidation Loss: 1.3050\n",
      "Counter train preds: Counter({0: 2330, 1: 2020, 2: 971, 5: 904, 3: 884, 4: 853})\tCounter val preds: Counter({1: 873, 0: 805, 5: 481, 4: 190, 2: 177, 3: 128})\n",
      "Epoch train QWK: 0.884\tval QWK: 0.756\n",
      "Epoch 47/49\n",
      "==========\n"
     ]
    },
    {
     "name": "stderr",
     "output_type": "stream",
     "text": [
      "\n",
      "100%|██████████| 996/996 [05:09<00:00,  3.22it/s]\n",
      "100%|██████████| 332/332 [01:59<00:00,  2.79it/s]"
     ]
    },
    {
     "name": "stdout",
     "output_type": "stream",
     "text": [
      "Training Loss: 0.8187\tValidation Loss: 1.2426\n",
      "Counter train preds: Counter({0: 2365, 1: 1988, 2: 957, 3: 898, 5: 877, 4: 877})\tCounter val preds: Counter({1: 897, 0: 820, 5: 324, 4: 291, 3: 189, 2: 133})\n",
      "Epoch train QWK: 0.888\tval QWK: 0.770\n",
      "Epoch 48/49\n",
      "==========\n"
     ]
    },
    {
     "name": "stderr",
     "output_type": "stream",
     "text": [
      "\n",
      "100%|██████████| 996/996 [05:09<00:00,  3.22it/s]\n",
      "100%|██████████| 332/332 [01:58<00:00,  2.80it/s]"
     ]
    },
    {
     "name": "stdout",
     "output_type": "stream",
     "text": [
      "Training Loss: 0.8079\tValidation Loss: 1.2792\n",
      "Counter train preds: Counter({0: 2284, 1: 2047, 2: 936, 3: 911, 5: 900, 4: 884})\tCounter val preds: Counter({0: 769, 1: 514, 3: 509, 4: 363, 5: 265, 2: 234})\n",
      "Epoch train QWK: 0.899\tval QWK: 0.722\n",
      "Epoch 49/49\n",
      "==========\n"
     ]
    },
    {
     "name": "stderr",
     "output_type": "stream",
     "text": [
      "\n",
      "100%|██████████| 996/996 [05:09<00:00,  3.22it/s]"
     ]
    },
    {
     "name": "stdout",
     "output_type": "stream",
     "text": [
      "Gradient overflow.  Skipping step, loss scaler 0 reducing loss scale to 16384.0\n"
     ]
    },
    {
     "name": "stderr",
     "output_type": "stream",
     "text": [
      "\n",
      "100%|██████████| 332/332 [01:58<00:00,  2.79it/s]"
     ]
    },
    {
     "name": "stdout",
     "output_type": "stream",
     "text": [
      "Training Loss: 0.7813\tValidation Loss: 1.2266\n",
      "Counter train preds: Counter({0: 2320, 1: 1980, 2: 965, 5: 917, 3: 895, 4: 885})\tCounter val preds: Counter({0: 884, 1: 657, 5: 416, 2: 259, 3: 257, 4: 181})\n",
      "Epoch train QWK: 0.909\tval QWK: 0.775\n"
     ]
    },
    {
     "name": "stderr",
     "output_type": "stream",
     "text": [
      "\n"
     ]
    }
   ],
   "source": [
    "# get folds\n",
    "train_df = folds[folds[\"fold\"] != 0].copy()\n",
    "val_df = folds[folds[\"fold\"] == 0].copy()\n",
    "# define datasets\n",
    "if CFG.use_lazy:\n",
    "    train_ds = LazyTilesDataset(train_df, transform=get_transforms(data=\"train\", aug=CFG.aug_type), debug=False)\n",
    "    val_ds = TilesTrainDataset(val_df, is_train=False, transform=get_transforms(data=\"valid\"), debug=False) # same allways to compare with previous results\n",
    "else:\n",
    "    train_ds = TilesTrainDataset(train_df, is_train=CFG.stoch_sample, transform=get_transforms(data=\"train\", aug=CFG.aug_type), debug=False)\n",
    "    val_ds = TilesTrainDataset(val_df, is_train=False, transform=get_transforms(data=\"valid\"), debug=False)\n",
    "# define a data loader\n",
    "train_dataloader = DataLoader(train_ds, batch_size=CFG.batch_size, shuffle=True, num_workers=8)\n",
    "val_dataloader = DataLoader(val_ds, batch_size=CFG.batch_size, shuffle=False, num_workers=6)\n",
    "\n",
    "model_ft = make_RN50_cls()\n",
    "# initialize bias in the model\n",
    "cls_probas = (train_df[CFG.target_col].value_counts() / len(train_df)).values\n",
    "model_ft = init_last_layer_bias(model_ft, cls_probas)\n",
    "\n",
    "criterion = LOSSES[CFG.loss]\n",
    "\n",
    "\n",
    "if CFG.finetune == \"1stage\":\n",
    "    freeze_botom(model_ft)\n",
    "    interm_params = [p[1] for p in model_ft.named_parameters() if (not p[0].startswith('fc') and p[1].requires_grad)]\n",
    "    if CFG.optim == \"adam\":\n",
    "        optimizer = torch.optim.Adam([\n",
    "                    {'params': interm_params, 'lr': CFG.lr},\n",
    "                    {'params': model_ft.fc.parameters(), 'lr': CFG.lr*10}\n",
    "                ])\n",
    "    elif CFG.optim == \"sgd\":\n",
    "        optimizer = torch.optim.SGD([\n",
    "                    {'params': interm_params, 'lr': CFG.lr},\n",
    "                    {'params': model_ft.fc.parameters(), 'lr': CFG.lr*10}\n",
    "            ], momentum=0.9, nesterov=True)\n",
    "else:\n",
    "    if CFG.optim == \"adam\":\n",
    "        optimizer = torch.optim.Adam(model_ft.parameters(), lr=CFG.lr, amsgrad=False)\n",
    "    elif CFG.optim == \"sgd\":\n",
    "        optimizer = torch.optim.SGD(model_ft.parameters(), lr=CFG.lr, momentum=0.9, nesterov=True)\n",
    "    \n",
    "scheduler, sch_is_epoch_type = get_scheduler(optimizer, train_dataloader)\n",
    "\n",
    "train_eval_loop(train_dataloader, val_dataloader, model_ft, optimizer, criterion, scheduler, sch_is_epoch_type, model_name=EXP_NAME)"
   ]
  },
  {
   "cell_type": "markdown",
   "metadata": {},
   "source": [
    "### Train with CV"
   ]
  },
  {
   "cell_type": "code",
   "execution_count": 34,
   "metadata": {
    "collapsed": true,
    "jupyter": {
     "outputs_hidden": true
    }
   },
   "outputs": [
    {
     "name": "stdout",
     "output_type": "stream",
     "text": [
      "Train with CV, on fold 0\n",
      "Epoch 0/9\n",
      "----------\n"
     ]
    },
    {
     "name": "stderr",
     "output_type": "stream",
     "text": [
      "100%|██████████| 5/5 [00:00<00:00,  7.61it/s]"
     ]
    },
    {
     "name": "stdout",
     "output_type": "stream",
     "text": [
      "Visualising input\n"
     ]
    },
    {
     "name": "stderr",
     "output_type": "stream",
     "text": [
      "\n",
      "100%|██████████| 2/2 [00:00<00:00,  3.84it/s]"
     ]
    },
    {
     "name": "stdout",
     "output_type": "stream",
     "text": [
      "Training Loss: 1.7832\tValidation Loss: 1.6735\n",
      "Counter train preds: Counter({1: 50, 4: 11, 3: 8, 0: 6})\tCounter val preds: Counter({0: 25})\n",
      "Epoch train QWK: 0.193\tval QWK: 0.000\n",
      "Epoch 1/9\n",
      "----------\n"
     ]
    },
    {
     "name": "stderr",
     "output_type": "stream",
     "text": [
      "\n",
      "100%|██████████| 5/5 [00:00<00:00,  7.82it/s]"
     ]
    },
    {
     "name": "stdout",
     "output_type": "stream",
     "text": [
      "Visualising input\n"
     ]
    },
    {
     "name": "stderr",
     "output_type": "stream",
     "text": [
      "\n",
      "100%|██████████| 2/2 [00:00<00:00,  4.13it/s]"
     ]
    },
    {
     "name": "stdout",
     "output_type": "stream",
     "text": [
      "Training Loss: 1.5393\tValidation Loss: 1.6932\n",
      "Counter train preds: Counter({1: 39, 0: 21, 3: 7, 4: 6, 5: 2})\tCounter val preds: Counter({1: 25})\n",
      "Epoch train QWK: 0.236\tval QWK: 0.000\n",
      "Epoch 2/9\n",
      "----------\n"
     ]
    },
    {
     "name": "stderr",
     "output_type": "stream",
     "text": [
      "\n",
      "100%|██████████| 5/5 [00:00<00:00,  7.61it/s]"
     ]
    },
    {
     "name": "stdout",
     "output_type": "stream",
     "text": [
      "Visualising input\n"
     ]
    },
    {
     "name": "stderr",
     "output_type": "stream",
     "text": [
      "\n",
      "100%|██████████| 2/2 [00:00<00:00,  4.02it/s]"
     ]
    },
    {
     "name": "stdout",
     "output_type": "stream",
     "text": [
      "Training Loss: 1.4436\tValidation Loss: 1.7056\n",
      "Counter train preds: Counter({1: 34, 0: 26, 3: 7, 5: 5, 4: 3})\tCounter val preds: Counter({1: 25})\n",
      "Epoch train QWK: 0.321\tval QWK: 0.000\n",
      "Epoch 3/9\n",
      "----------\n"
     ]
    },
    {
     "name": "stderr",
     "output_type": "stream",
     "text": [
      "\n",
      "100%|██████████| 5/5 [00:00<00:00,  5.05it/s]"
     ]
    },
    {
     "name": "stdout",
     "output_type": "stream",
     "text": [
      "Visualising input\n"
     ]
    },
    {
     "name": "stderr",
     "output_type": "stream",
     "text": [
      "100%|██████████| 5/5 [00:00<00:00,  7.88it/s]\n",
      "100%|██████████| 2/2 [00:00<00:00,  2.04it/s]"
     ]
    },
    {
     "name": "stdout",
     "output_type": "stream",
     "text": [
      "Training Loss: 1.4152\tValidation Loss: 1.6723\n",
      "Counter train preds: Counter({0: 33, 1: 31, 3: 5, 4: 5, 5: 1})\tCounter val preds: Counter({1: 25})\n",
      "Epoch train QWK: 0.282\tval QWK: 0.000\n",
      "Epoch 4/9\n",
      "----------\n"
     ]
    },
    {
     "name": "stderr",
     "output_type": "stream",
     "text": [
      "\n",
      " 20%|██        | 1/5 [00:00<00:01,  2.74it/s]"
     ]
    },
    {
     "name": "stdout",
     "output_type": "stream",
     "text": [
      "Visualising input\n"
     ]
    },
    {
     "name": "stderr",
     "output_type": "stream",
     "text": [
      "100%|██████████| 5/5 [00:00<00:00,  7.80it/s]\n",
      "100%|██████████| 2/2 [00:00<00:00,  3.81it/s]"
     ]
    },
    {
     "name": "stdout",
     "output_type": "stream",
     "text": [
      "Training Loss: 1.3904\tValidation Loss: 1.6386\n",
      "Counter train preds: Counter({1: 33, 0: 28, 4: 6, 3: 5, 5: 3})\tCounter val preds: Counter({1: 15, 5: 3, 0: 3, 2: 2, 4: 1, 3: 1})\n",
      "Epoch train QWK: 0.393\tval QWK: 0.186\n",
      "Epoch 5/9\n",
      "----------\n"
     ]
    },
    {
     "name": "stderr",
     "output_type": "stream",
     "text": [
      "\n",
      " 20%|██        | 1/5 [00:00<00:01,  2.53it/s]"
     ]
    },
    {
     "name": "stdout",
     "output_type": "stream",
     "text": [
      "Visualising input\n"
     ]
    },
    {
     "name": "stderr",
     "output_type": "stream",
     "text": [
      "100%|██████████| 5/5 [00:00<00:00,  7.49it/s]\n",
      "100%|██████████| 2/2 [00:00<00:00,  3.79it/s]"
     ]
    },
    {
     "name": "stdout",
     "output_type": "stream",
     "text": [
      "Training Loss: 1.3730\tValidation Loss: 1.6927\n",
      "Counter train preds: Counter({0: 33, 1: 26, 5: 7, 3: 4, 4: 4, 2: 1})\tCounter val preds: Counter({1: 13, 5: 6, 2: 4, 3: 1, 0: 1})\n",
      "Epoch train QWK: 0.517\tval QWK: 0.545\n",
      "Epoch 6/9\n",
      "----------\n"
     ]
    },
    {
     "name": "stderr",
     "output_type": "stream",
     "text": [
      "\n",
      "100%|██████████| 5/5 [00:00<00:00,  4.96it/s]"
     ]
    },
    {
     "name": "stdout",
     "output_type": "stream",
     "text": [
      "Visualising input\n"
     ]
    },
    {
     "name": "stderr",
     "output_type": "stream",
     "text": [
      "100%|██████████| 5/5 [00:00<00:00,  7.91it/s]\n",
      "100%|██████████| 2/2 [00:00<00:00,  3.81it/s]"
     ]
    },
    {
     "name": "stdout",
     "output_type": "stream",
     "text": [
      "Training Loss: 1.3238\tValidation Loss: 1.8837\n",
      "Counter train preds: Counter({0: 30, 1: 29, 5: 6, 3: 6, 4: 4})\tCounter val preds: Counter({1: 9, 5: 7, 2: 6, 3: 3})\n",
      "Epoch train QWK: 0.438\tval QWK: 0.329\n",
      "Epoch 7/9\n",
      "----------\n"
     ]
    },
    {
     "name": "stderr",
     "output_type": "stream",
     "text": [
      "\n",
      "100%|██████████| 5/5 [00:00<00:00,  7.85it/s]"
     ]
    },
    {
     "name": "stdout",
     "output_type": "stream",
     "text": [
      "Visualising input\n"
     ]
    },
    {
     "name": "stderr",
     "output_type": "stream",
     "text": [
      "\n",
      "100%|██████████| 2/2 [00:00<00:00,  3.89it/s]"
     ]
    },
    {
     "name": "stdout",
     "output_type": "stream",
     "text": [
      "Training Loss: 1.3055\tValidation Loss: 2.0990\n",
      "Counter train preds: Counter({1: 34, 0: 22, 5: 8, 3: 7, 4: 2, 2: 2})\tCounter val preds: Counter({2: 12, 5: 5, 3: 5, 1: 2, 4: 1})\n",
      "Epoch train QWK: 0.552\tval QWK: 0.326\n",
      "Epoch 8/9\n",
      "----------\n"
     ]
    },
    {
     "name": "stderr",
     "output_type": "stream",
     "text": [
      "\n",
      " 20%|██        | 1/5 [00:00<00:01,  2.66it/s]"
     ]
    },
    {
     "name": "stdout",
     "output_type": "stream",
     "text": [
      "Visualising input\n"
     ]
    },
    {
     "name": "stderr",
     "output_type": "stream",
     "text": [
      "100%|██████████| 5/5 [00:00<00:00,  7.53it/s]\n",
      "100%|██████████| 2/2 [00:00<00:00,  3.87it/s]"
     ]
    },
    {
     "name": "stdout",
     "output_type": "stream",
     "text": [
      "Training Loss: 1.3063\tValidation Loss: 2.0883\n",
      "Counter train preds: Counter({1: 35, 0: 25, 4: 7, 3: 5, 5: 3})\tCounter val preds: Counter({2: 13, 5: 5, 1: 3, 3: 2, 4: 1, 0: 1})\n",
      "Epoch train QWK: 0.549\tval QWK: 0.199\n",
      "Epoch 9/9\n",
      "----------\n"
     ]
    },
    {
     "name": "stderr",
     "output_type": "stream",
     "text": [
      "\n",
      "100%|██████████| 5/5 [00:00<00:00,  4.77it/s]"
     ]
    },
    {
     "name": "stdout",
     "output_type": "stream",
     "text": [
      "Visualising input\n"
     ]
    },
    {
     "name": "stderr",
     "output_type": "stream",
     "text": [
      "100%|██████████| 5/5 [00:00<00:00,  7.73it/s]\n",
      "100%|██████████| 2/2 [00:00<00:00,  3.86it/s]"
     ]
    },
    {
     "name": "stdout",
     "output_type": "stream",
     "text": [
      "Training Loss: 1.3191\tValidation Loss: 1.8377\n",
      "Counter train preds: Counter({1: 37, 0: 24, 5: 7, 4: 3, 3: 3, 2: 1})\tCounter val preds: Counter({1: 21, 3: 2, 2: 1, 5: 1})\n",
      "Epoch train QWK: 0.435\tval QWK: 0.305\n",
      "Train with CV, on fold 1\n",
      "Epoch 0/9\n",
      "----------\n"
     ]
    },
    {
     "name": "stderr",
     "output_type": "stream",
     "text": [
      "\n",
      "100%|██████████| 5/5 [00:00<00:00,  4.80it/s]"
     ]
    },
    {
     "name": "stdout",
     "output_type": "stream",
     "text": [
      "Visualising input\n"
     ]
    },
    {
     "name": "stderr",
     "output_type": "stream",
     "text": [
      "100%|██████████| 5/5 [00:00<00:00,  7.69it/s]\n",
      "100%|██████████| 2/2 [00:00<00:00,  3.71it/s]"
     ]
    },
    {
     "name": "stdout",
     "output_type": "stream",
     "text": [
      "Training Loss: 1.7209\tValidation Loss: 1.7380\n",
      "Counter train preds: Counter({0: 59, 3: 15, 1: 1})\tCounter val preds: Counter({0: 25})\n",
      "Epoch train QWK: 0.263\tval QWK: 0.000\n",
      "Epoch 1/9\n",
      "----------\n"
     ]
    },
    {
     "name": "stderr",
     "output_type": "stream",
     "text": [
      "\n",
      "100%|██████████| 5/5 [00:00<00:00,  7.81it/s]"
     ]
    },
    {
     "name": "stdout",
     "output_type": "stream",
     "text": [
      "Visualising input\n"
     ]
    },
    {
     "name": "stderr",
     "output_type": "stream",
     "text": [
      "\n",
      "100%|██████████| 2/2 [00:00<00:00,  3.62it/s]"
     ]
    },
    {
     "name": "stdout",
     "output_type": "stream",
     "text": [
      "Training Loss: 1.5459\tValidation Loss: 1.7958\n",
      "Counter train preds: Counter({0: 36, 1: 32, 3: 5, 4: 2})\tCounter val preds: Counter({0: 25})\n",
      "Epoch train QWK: 0.331\tval QWK: 0.000\n",
      "Epoch 2/9\n",
      "----------\n"
     ]
    },
    {
     "name": "stderr",
     "output_type": "stream",
     "text": [
      "\n",
      " 60%|██████    | 3/5 [00:00<00:00,  3.30it/s]"
     ]
    },
    {
     "name": "stdout",
     "output_type": "stream",
     "text": [
      "Visualising input\n"
     ]
    },
    {
     "name": "stderr",
     "output_type": "stream",
     "text": [
      "100%|██████████| 5/5 [00:00<00:00,  7.36it/s]\n",
      "100%|██████████| 2/2 [00:00<00:00,  3.74it/s]"
     ]
    },
    {
     "name": "stdout",
     "output_type": "stream",
     "text": [
      "Training Loss: 1.4606\tValidation Loss: 1.9763\n",
      "Counter train preds: Counter({1: 34, 0: 29, 4: 8, 3: 4})\tCounter val preds: Counter({0: 25})\n",
      "Epoch train QWK: 0.388\tval QWK: 0.000\n",
      "Epoch 3/9\n",
      "----------\n"
     ]
    },
    {
     "name": "stderr",
     "output_type": "stream",
     "text": [
      "\n",
      " 60%|██████    | 3/5 [00:00<00:00,  3.59it/s]"
     ]
    },
    {
     "name": "stdout",
     "output_type": "stream",
     "text": [
      "Visualising input\n"
     ]
    },
    {
     "name": "stderr",
     "output_type": "stream",
     "text": [
      "100%|██████████| 5/5 [00:00<00:00,  7.80it/s]\n",
      "100%|██████████| 2/2 [00:00<00:00,  3.66it/s]"
     ]
    },
    {
     "name": "stdout",
     "output_type": "stream",
     "text": [
      "Training Loss: 1.4206\tValidation Loss: 1.8872\n",
      "Counter train preds: Counter({1: 32, 0: 24, 4: 8, 3: 6, 5: 3, 2: 2})\tCounter val preds: Counter({0: 25})\n",
      "Epoch train QWK: 0.441\tval QWK: 0.000\n",
      "Epoch 4/9\n",
      "----------\n"
     ]
    },
    {
     "name": "stderr",
     "output_type": "stream",
     "text": [
      "\n",
      "100%|██████████| 5/5 [00:00<00:00,  5.28it/s]"
     ]
    },
    {
     "name": "stdout",
     "output_type": "stream",
     "text": [
      "Visualising input\n"
     ]
    },
    {
     "name": "stderr",
     "output_type": "stream",
     "text": [
      "100%|██████████| 5/5 [00:00<00:00,  8.24it/s]\n",
      "100%|██████████| 2/2 [00:00<00:00,  3.60it/s]"
     ]
    },
    {
     "name": "stdout",
     "output_type": "stream",
     "text": [
      "Training Loss: 1.4067\tValidation Loss: 2.2129\n",
      "Counter train preds: Counter({1: 36, 0: 25, 3: 10, 5: 2, 2: 1, 4: 1})\tCounter val preds: Counter({0: 25})\n",
      "Epoch train QWK: 0.388\tval QWK: 0.000\n",
      "Epoch 5/9\n",
      "----------\n"
     ]
    },
    {
     "name": "stderr",
     "output_type": "stream",
     "text": [
      "\n",
      "100%|██████████| 5/5 [00:00<00:00,  8.12it/s]"
     ]
    },
    {
     "name": "stdout",
     "output_type": "stream",
     "text": [
      "Visualising input\n"
     ]
    },
    {
     "name": "stderr",
     "output_type": "stream",
     "text": [
      "\n",
      "100%|██████████| 2/2 [00:00<00:00,  3.64it/s]"
     ]
    },
    {
     "name": "stdout",
     "output_type": "stream",
     "text": [
      "Training Loss: 1.3640\tValidation Loss: 2.9000\n",
      "Counter train preds: Counter({1: 33, 0: 24, 3: 12, 2: 4, 4: 2})\tCounter val preds: Counter({0: 25})\n",
      "Epoch train QWK: 0.364\tval QWK: 0.000\n",
      "Epoch 6/9\n",
      "----------\n"
     ]
    },
    {
     "name": "stderr",
     "output_type": "stream",
     "text": [
      "\n",
      "100%|██████████| 5/5 [00:00<00:00,  4.87it/s]"
     ]
    },
    {
     "name": "stdout",
     "output_type": "stream",
     "text": [
      "Visualising input\n"
     ]
    },
    {
     "name": "stderr",
     "output_type": "stream",
     "text": [
      "100%|██████████| 5/5 [00:00<00:00,  7.86it/s]\n",
      "100%|██████████| 2/2 [00:00<00:00,  3.44it/s]"
     ]
    },
    {
     "name": "stdout",
     "output_type": "stream",
     "text": [
      "Training Loss: 1.3085\tValidation Loss: 2.7819\n",
      "Counter train preds: Counter({1: 33, 0: 20, 3: 11, 2: 4, 4: 4, 5: 3})\tCounter val preds: Counter({0: 25})\n",
      "Epoch train QWK: 0.568\tval QWK: 0.000\n",
      "Epoch 7/9\n",
      "----------\n"
     ]
    },
    {
     "name": "stderr",
     "output_type": "stream",
     "text": [
      "\n",
      "100%|██████████| 5/5 [00:00<00:00,  7.36it/s]"
     ]
    },
    {
     "name": "stdout",
     "output_type": "stream",
     "text": [
      "Visualising input\n"
     ]
    },
    {
     "name": "stderr",
     "output_type": "stream",
     "text": [
      "\n",
      "100%|██████████| 2/2 [00:00<00:00,  2.55it/s]"
     ]
    },
    {
     "name": "stdout",
     "output_type": "stream",
     "text": [
      "Training Loss: 1.3142\tValidation Loss: 2.3783\n",
      "Counter train preds: Counter({1: 36, 0: 21, 3: 9, 2: 5, 5: 3, 4: 1})\tCounter val preds: Counter({0: 18, 1: 5, 2: 2})\n",
      "Epoch train QWK: 0.435\tval QWK: 0.116\n",
      "Epoch 8/9\n",
      "----------\n"
     ]
    },
    {
     "name": "stderr",
     "output_type": "stream",
     "text": [
      "\n",
      "100%|██████████| 5/5 [00:00<00:00,  5.30it/s]"
     ]
    },
    {
     "name": "stdout",
     "output_type": "stream",
     "text": [
      "Visualising input\n"
     ]
    },
    {
     "name": "stderr",
     "output_type": "stream",
     "text": [
      "100%|██████████| 5/5 [00:00<00:00,  8.07it/s]\n",
      "100%|██████████| 2/2 [00:00<00:00,  3.62it/s]"
     ]
    },
    {
     "name": "stdout",
     "output_type": "stream",
     "text": [
      "Training Loss: 1.2917\tValidation Loss: 3.1009\n",
      "Counter train preds: Counter({1: 38, 0: 19, 2: 6, 4: 5, 3: 4, 5: 3})\tCounter val preds: Counter({0: 23, 2: 2})\n",
      "Epoch train QWK: 0.433\tval QWK: 0.009\n",
      "Epoch 9/9\n",
      "----------\n"
     ]
    },
    {
     "name": "stderr",
     "output_type": "stream",
     "text": [
      "\n",
      "100%|██████████| 5/5 [00:00<00:00,  7.24it/s]"
     ]
    },
    {
     "name": "stdout",
     "output_type": "stream",
     "text": [
      "Visualising input\n"
     ]
    },
    {
     "name": "stderr",
     "output_type": "stream",
     "text": [
      "\n",
      "100%|██████████| 2/2 [00:00<00:00,  3.73it/s]"
     ]
    },
    {
     "name": "stdout",
     "output_type": "stream",
     "text": [
      "Training Loss: 1.2545\tValidation Loss: 2.9466\n",
      "Counter train preds: Counter({1: 32, 0: 20, 3: 10, 4: 5, 2: 5, 5: 3})\tCounter val preds: Counter({0: 23, 2: 2})\n",
      "Epoch train QWK: 0.635\tval QWK: 0.009\n",
      "Train with CV, on fold 2\n",
      "Epoch 0/9\n",
      "----------\n"
     ]
    },
    {
     "name": "stderr",
     "output_type": "stream",
     "text": [
      "\n",
      "100%|██████████| 5/5 [00:00<00:00,  7.96it/s]"
     ]
    },
    {
     "name": "stdout",
     "output_type": "stream",
     "text": [
      "Visualising input\n"
     ]
    },
    {
     "name": "stderr",
     "output_type": "stream",
     "text": [
      "\n",
      "100%|██████████| 2/2 [00:00<00:00,  3.70it/s]"
     ]
    },
    {
     "name": "stdout",
     "output_type": "stream",
     "text": [
      "Training Loss: 1.6856\tValidation Loss: 1.8174\n",
      "Counter train preds: Counter({1: 48, 3: 15, 0: 12})\tCounter val preds: Counter({0: 25})\n",
      "Epoch train QWK: 0.208\tval QWK: 0.000\n",
      "Epoch 1/9\n",
      "----------\n"
     ]
    },
    {
     "name": "stderr",
     "output_type": "stream",
     "text": [
      "\n",
      " 60%|██████    | 3/5 [00:00<00:00,  3.45it/s]"
     ]
    },
    {
     "name": "stdout",
     "output_type": "stream",
     "text": [
      "Visualising input\n"
     ]
    },
    {
     "name": "stderr",
     "output_type": "stream",
     "text": [
      "100%|██████████| 5/5 [00:00<00:00,  7.56it/s]\n",
      "100%|██████████| 2/2 [00:00<00:00,  3.71it/s]"
     ]
    },
    {
     "name": "stdout",
     "output_type": "stream",
     "text": [
      "Training Loss: 1.5455\tValidation Loss: 2.4182\n",
      "Counter train preds: Counter({1: 37, 0: 21, 3: 16, 2: 1})\tCounter val preds: Counter({0: 25})\n",
      "Epoch train QWK: 0.313\tval QWK: 0.000\n",
      "Epoch 2/9\n",
      "----------\n"
     ]
    },
    {
     "name": "stderr",
     "output_type": "stream",
     "text": [
      "\n",
      "100%|██████████| 5/5 [00:00<00:00,  8.02it/s]"
     ]
    },
    {
     "name": "stdout",
     "output_type": "stream",
     "text": [
      "Visualising input\n"
     ]
    },
    {
     "name": "stderr",
     "output_type": "stream",
     "text": [
      "\n",
      "100%|██████████| 2/2 [00:00<00:00,  3.73it/s]"
     ]
    },
    {
     "name": "stdout",
     "output_type": "stream",
     "text": [
      "Training Loss: 1.4741\tValidation Loss: 2.2700\n",
      "Counter train preds: Counter({1: 33, 0: 26, 3: 14, 2: 2})\tCounter val preds: Counter({0: 25})\n",
      "Epoch train QWK: 0.287\tval QWK: 0.000\n",
      "Epoch 3/9\n",
      "----------\n"
     ]
    },
    {
     "name": "stderr",
     "output_type": "stream",
     "text": [
      "\n",
      "100%|██████████| 5/5 [00:00<00:00,  7.64it/s]"
     ]
    },
    {
     "name": "stdout",
     "output_type": "stream",
     "text": [
      "Visualising input\n"
     ]
    },
    {
     "name": "stderr",
     "output_type": "stream",
     "text": [
      "\n",
      "100%|██████████| 2/2 [00:00<00:00,  3.60it/s]"
     ]
    },
    {
     "name": "stdout",
     "output_type": "stream",
     "text": [
      "Training Loss: 1.4289\tValidation Loss: 2.4097\n",
      "Counter train preds: Counter({1: 35, 0: 28, 3: 7, 2: 5})\tCounter val preds: Counter({0: 25})\n",
      "Epoch train QWK: 0.247\tval QWK: 0.000\n",
      "Epoch 4/9\n",
      "----------\n"
     ]
    },
    {
     "name": "stderr",
     "output_type": "stream",
     "text": [
      "\n",
      " 20%|██        | 1/5 [00:00<00:01,  2.55it/s]"
     ]
    },
    {
     "name": "stdout",
     "output_type": "stream",
     "text": [
      "Visualising input\n"
     ]
    },
    {
     "name": "stderr",
     "output_type": "stream",
     "text": [
      "100%|██████████| 5/5 [00:00<00:00,  7.52it/s]\n",
      "100%|██████████| 2/2 [00:00<00:00,  3.67it/s]"
     ]
    },
    {
     "name": "stdout",
     "output_type": "stream",
     "text": [
      "Training Loss: 1.3615\tValidation Loss: 2.0392\n",
      "Counter train preds: Counter({1: 39, 0: 25, 3: 7, 2: 4})\tCounter val preds: Counter({0: 24, 2: 1})\n",
      "Epoch train QWK: 0.307\tval QWK: 0.064\n",
      "Epoch 5/9\n",
      "----------\n"
     ]
    },
    {
     "name": "stderr",
     "output_type": "stream",
     "text": [
      "\n",
      "100%|██████████| 5/5 [00:00<00:00,  7.67it/s]"
     ]
    },
    {
     "name": "stdout",
     "output_type": "stream",
     "text": [
      "Visualising input\n"
     ]
    },
    {
     "name": "stderr",
     "output_type": "stream",
     "text": [
      "\n",
      "100%|██████████| 2/2 [00:00<00:00,  3.69it/s]"
     ]
    },
    {
     "name": "stdout",
     "output_type": "stream",
     "text": [
      "Training Loss: 1.4250\tValidation Loss: 1.6867\n",
      "Counter train preds: Counter({1: 41, 0: 26, 3: 8})\tCounter val preds: Counter({0: 20, 2: 3, 1: 2})\n",
      "Epoch train QWK: 0.266\tval QWK: 0.214\n",
      "Epoch 6/9\n",
      "----------\n"
     ]
    },
    {
     "name": "stderr",
     "output_type": "stream",
     "text": [
      "\n",
      "100%|██████████| 5/5 [00:00<00:00,  7.91it/s]"
     ]
    },
    {
     "name": "stdout",
     "output_type": "stream",
     "text": [
      "Visualising input\n"
     ]
    },
    {
     "name": "stderr",
     "output_type": "stream",
     "text": [
      "\n",
      "100%|██████████| 2/2 [00:00<00:00,  3.60it/s]"
     ]
    },
    {
     "name": "stdout",
     "output_type": "stream",
     "text": [
      "Training Loss: 1.3328\tValidation Loss: 1.7360\n",
      "Counter train preds: Counter({1: 34, 0: 24, 3: 12, 2: 4, 5: 1})\tCounter val preds: Counter({0: 18, 1: 5, 2: 2})\n",
      "Epoch train QWK: 0.365\tval QWK: 0.130\n",
      "Epoch 7/9\n",
      "----------\n"
     ]
    },
    {
     "name": "stderr",
     "output_type": "stream",
     "text": [
      "\n",
      " 60%|██████    | 3/5 [00:00<00:00,  3.21it/s]"
     ]
    },
    {
     "name": "stdout",
     "output_type": "stream",
     "text": [
      "Visualising input\n"
     ]
    },
    {
     "name": "stderr",
     "output_type": "stream",
     "text": [
      "100%|██████████| 5/5 [00:00<00:00,  7.17it/s]\n",
      "100%|██████████| 2/2 [00:00<00:00,  3.71it/s]"
     ]
    },
    {
     "name": "stdout",
     "output_type": "stream",
     "text": [
      "Training Loss: 1.3236\tValidation Loss: 1.8248\n",
      "Counter train preds: Counter({1: 33, 0: 21, 2: 13, 3: 6, 5: 2})\tCounter val preds: Counter({0: 17, 1: 5, 2: 3})\n",
      "Epoch train QWK: 0.316\tval QWK: 0.272\n",
      "Epoch 8/9\n",
      "----------\n"
     ]
    },
    {
     "name": "stderr",
     "output_type": "stream",
     "text": [
      "\n",
      "100%|██████████| 5/5 [00:00<00:00,  4.99it/s]"
     ]
    },
    {
     "name": "stdout",
     "output_type": "stream",
     "text": [
      "Visualising input\n"
     ]
    },
    {
     "name": "stderr",
     "output_type": "stream",
     "text": [
      "100%|██████████| 5/5 [00:00<00:00,  7.91it/s]\n",
      "100%|██████████| 2/2 [00:00<00:00,  3.63it/s]"
     ]
    },
    {
     "name": "stdout",
     "output_type": "stream",
     "text": [
      "Training Loss: 1.2498\tValidation Loss: 2.4719\n",
      "Counter train preds: Counter({1: 34, 0: 24, 2: 8, 3: 8, 5: 1})\tCounter val preds: Counter({0: 22, 2: 3})\n",
      "Epoch train QWK: 0.392\tval QWK: 0.259\n",
      "Epoch 9/9\n",
      "----------\n"
     ]
    },
    {
     "name": "stderr",
     "output_type": "stream",
     "text": [
      "\n",
      "100%|██████████| 5/5 [00:00<00:00,  8.02it/s]"
     ]
    },
    {
     "name": "stdout",
     "output_type": "stream",
     "text": [
      "Visualising input\n"
     ]
    },
    {
     "name": "stderr",
     "output_type": "stream",
     "text": [
      "\n",
      "100%|██████████| 2/2 [00:00<00:00,  3.74it/s]"
     ]
    },
    {
     "name": "stdout",
     "output_type": "stream",
     "text": [
      "Training Loss: 1.2657\tValidation Loss: 2.4212\n",
      "Counter train preds: Counter({1: 39, 0: 21, 2: 6, 3: 6, 5: 3})\tCounter val preds: Counter({0: 22, 2: 3})\n",
      "Epoch train QWK: 0.409\tval QWK: 0.259\n",
      "Train with CV, on fold 3\n",
      "Epoch 0/9\n",
      "----------\n"
     ]
    },
    {
     "name": "stderr",
     "output_type": "stream",
     "text": [
      "\n",
      " 60%|██████    | 3/5 [00:00<00:00,  3.76it/s]"
     ]
    },
    {
     "name": "stdout",
     "output_type": "stream",
     "text": [
      "Visualising input\n"
     ]
    },
    {
     "name": "stderr",
     "output_type": "stream",
     "text": [
      "100%|██████████| 5/5 [00:00<00:00,  7.78it/s]\n",
      "100%|██████████| 2/2 [00:00<00:00,  4.08it/s]"
     ]
    },
    {
     "name": "stdout",
     "output_type": "stream",
     "text": [
      "Training Loss: 1.7337\tValidation Loss: 1.6500\n",
      "Counter train preds: Counter({1: 49, 2: 14, 0: 6, 5: 3, 3: 3})\tCounter val preds: Counter({1: 24, 0: 1})\n",
      "Epoch train QWK: 0.123\tval QWK: -0.030\n",
      "Epoch 1/9\n",
      "----------\n"
     ]
    },
    {
     "name": "stderr",
     "output_type": "stream",
     "text": [
      "\n",
      "100%|██████████| 5/5 [00:00<00:00,  7.52it/s]"
     ]
    },
    {
     "name": "stdout",
     "output_type": "stream",
     "text": [
      "Visualising input\n"
     ]
    },
    {
     "name": "stderr",
     "output_type": "stream",
     "text": [
      "\n",
      "100%|██████████| 2/2 [00:00<00:00,  4.29it/s]"
     ]
    },
    {
     "name": "stdout",
     "output_type": "stream",
     "text": [
      "Training Loss: 1.5647\tValidation Loss: 1.7000\n",
      "Counter train preds: Counter({1: 40, 0: 18, 3: 12, 2: 5})\tCounter val preds: Counter({1: 25})\n",
      "Epoch train QWK: 0.232\tval QWK: 0.000\n",
      "Epoch 2/9\n",
      "----------\n"
     ]
    },
    {
     "name": "stderr",
     "output_type": "stream",
     "text": [
      "\n",
      " 60%|██████    | 3/5 [00:00<00:00,  3.84it/s]"
     ]
    },
    {
     "name": "stdout",
     "output_type": "stream",
     "text": [
      "Visualising input\n"
     ]
    },
    {
     "name": "stderr",
     "output_type": "stream",
     "text": [
      "100%|██████████| 5/5 [00:00<00:00,  7.87it/s]\n",
      "100%|██████████| 2/2 [00:00<00:00,  4.09it/s]"
     ]
    },
    {
     "name": "stdout",
     "output_type": "stream",
     "text": [
      "Training Loss: 1.4733\tValidation Loss: 1.6935\n",
      "Counter train preds: Counter({1: 33, 0: 27, 3: 13, 2: 2})\tCounter val preds: Counter({1: 25})\n",
      "Epoch train QWK: 0.337\tval QWK: 0.000\n",
      "Epoch 3/9\n",
      "----------\n"
     ]
    },
    {
     "name": "stderr",
     "output_type": "stream",
     "text": [
      "\n",
      " 60%|██████    | 3/5 [00:00<00:00,  3.67it/s]"
     ]
    },
    {
     "name": "stdout",
     "output_type": "stream",
     "text": [
      "Visualising input\n"
     ]
    },
    {
     "name": "stderr",
     "output_type": "stream",
     "text": [
      "100%|██████████| 5/5 [00:00<00:00,  7.66it/s]\n",
      "100%|██████████| 2/2 [00:00<00:00,  4.01it/s]"
     ]
    },
    {
     "name": "stdout",
     "output_type": "stream",
     "text": [
      "Training Loss: 1.4141\tValidation Loss: 1.6876\n",
      "Counter train preds: Counter({0: 29, 1: 28, 3: 10, 2: 6, 5: 2})\tCounter val preds: Counter({1: 25})\n",
      "Epoch train QWK: 0.475\tval QWK: 0.000\n",
      "Epoch 4/9\n",
      "----------\n"
     ]
    },
    {
     "name": "stderr",
     "output_type": "stream",
     "text": [
      "\n",
      " 60%|██████    | 3/5 [00:00<00:00,  3.46it/s]"
     ]
    },
    {
     "name": "stdout",
     "output_type": "stream",
     "text": [
      "Visualising input\n"
     ]
    },
    {
     "name": "stderr",
     "output_type": "stream",
     "text": [
      "100%|██████████| 5/5 [00:00<00:00,  7.39it/s]\n",
      "100%|██████████| 2/2 [00:00<00:00,  2.65it/s]"
     ]
    },
    {
     "name": "stdout",
     "output_type": "stream",
     "text": [
      "Training Loss: 1.3655\tValidation Loss: 1.6186\n",
      "Counter train preds: Counter({1: 35, 0: 26, 3: 7, 5: 4, 2: 3})\tCounter val preds: Counter({1: 21, 2: 3, 0: 1})\n",
      "Epoch train QWK: 0.395\tval QWK: 0.012\n",
      "Epoch 5/9\n",
      "----------\n"
     ]
    },
    {
     "name": "stderr",
     "output_type": "stream",
     "text": [
      "\n",
      "100%|██████████| 5/5 [00:00<00:00,  4.61it/s]"
     ]
    },
    {
     "name": "stdout",
     "output_type": "stream",
     "text": [
      "Visualising input\n"
     ]
    },
    {
     "name": "stderr",
     "output_type": "stream",
     "text": [
      "100%|██████████| 5/5 [00:00<00:00,  7.47it/s]\n",
      "100%|██████████| 2/2 [00:00<00:00,  3.97it/s]"
     ]
    },
    {
     "name": "stdout",
     "output_type": "stream",
     "text": [
      "Training Loss: 1.3591\tValidation Loss: 1.6763\n",
      "Counter train preds: Counter({1: 32, 0: 23, 3: 11, 2: 8, 5: 1})\tCounter val preds: Counter({2: 17, 0: 6, 1: 2})\n",
      "Epoch train QWK: 0.413\tval QWK: 0.313\n",
      "Epoch 6/9\n",
      "----------\n"
     ]
    },
    {
     "name": "stderr",
     "output_type": "stream",
     "text": [
      "\n",
      "100%|██████████| 5/5 [00:00<00:00,  4.59it/s]"
     ]
    },
    {
     "name": "stdout",
     "output_type": "stream",
     "text": [
      "Visualising input\n"
     ]
    },
    {
     "name": "stderr",
     "output_type": "stream",
     "text": [
      "100%|██████████| 5/5 [00:00<00:00,  7.40it/s]\n",
      "100%|██████████| 2/2 [00:00<00:00,  4.08it/s]"
     ]
    },
    {
     "name": "stdout",
     "output_type": "stream",
     "text": [
      "Training Loss: 1.3191\tValidation Loss: 1.6529\n",
      "Counter train preds: Counter({1: 34, 0: 26, 3: 5, 2: 4, 4: 4, 5: 2})\tCounter val preds: Counter({1: 12, 2: 9, 5: 2, 0: 2})\n",
      "Epoch train QWK: 0.424\tval QWK: 0.269\n",
      "Epoch 7/9\n",
      "----------\n"
     ]
    },
    {
     "name": "stderr",
     "output_type": "stream",
     "text": [
      "\n",
      "100%|██████████| 5/5 [00:00<00:00,  7.96it/s]"
     ]
    },
    {
     "name": "stdout",
     "output_type": "stream",
     "text": [
      "Visualising input\n"
     ]
    },
    {
     "name": "stderr",
     "output_type": "stream",
     "text": [
      "\n",
      "100%|██████████| 2/2 [00:00<00:00,  3.92it/s]"
     ]
    },
    {
     "name": "stdout",
     "output_type": "stream",
     "text": [
      "Training Loss: 1.3050\tValidation Loss: 1.7019\n",
      "Counter train preds: Counter({1: 36, 0: 21, 2: 6, 3: 5, 5: 4, 4: 3})\tCounter val preds: Counter({2: 13, 5: 7, 4: 3, 0: 2})\n",
      "Epoch train QWK: 0.454\tval QWK: 0.364\n",
      "Epoch 8/9\n",
      "----------\n"
     ]
    },
    {
     "name": "stderr",
     "output_type": "stream",
     "text": [
      "\n",
      " 60%|██████    | 3/5 [00:00<00:00,  3.98it/s]"
     ]
    },
    {
     "name": "stdout",
     "output_type": "stream",
     "text": [
      "Visualising input\n"
     ]
    },
    {
     "name": "stderr",
     "output_type": "stream",
     "text": [
      "100%|██████████| 5/5 [00:00<00:00,  7.99it/s]\n",
      "100%|██████████| 2/2 [00:00<00:00,  4.10it/s]"
     ]
    },
    {
     "name": "stdout",
     "output_type": "stream",
     "text": [
      "Training Loss: 1.2645\tValidation Loss: 1.7029\n",
      "Counter train preds: Counter({1: 36, 0: 22, 5: 7, 2: 5, 3: 4, 4: 1})\tCounter val preds: Counter({2: 10, 5: 5, 0: 5, 1: 4, 3: 1})\n",
      "Epoch train QWK: 0.461\tval QWK: 0.309\n",
      "Epoch 9/9\n",
      "----------\n"
     ]
    },
    {
     "name": "stderr",
     "output_type": "stream",
     "text": [
      "\n",
      "100%|██████████| 5/5 [00:00<00:00,  4.60it/s]"
     ]
    },
    {
     "name": "stdout",
     "output_type": "stream",
     "text": [
      "Visualising input\n"
     ]
    },
    {
     "name": "stderr",
     "output_type": "stream",
     "text": [
      "100%|██████████| 5/5 [00:00<00:00,  7.52it/s]\n",
      "100%|██████████| 2/2 [00:00<00:00,  4.03it/s]"
     ]
    },
    {
     "name": "stdout",
     "output_type": "stream",
     "text": [
      "Training Loss: 1.2169\tValidation Loss: 2.0975\n",
      "Counter train preds: Counter({1: 33, 0: 22, 2: 9, 3: 6, 5: 5})\tCounter val preds: Counter({4: 14, 5: 8, 0: 3})\n",
      "Epoch train QWK: 0.530\tval QWK: 0.218\n"
     ]
    },
    {
     "name": "stderr",
     "output_type": "stream",
     "text": [
      "\n"
     ]
    }
   ],
   "source": [
    "checkpoint = \"test_fold_{}.pth\"\n",
    "for fold in range(CFG.n_fold):\n",
    "    train_df = folds[folds[\"fold\"] != fold].copy()\n",
    "    val_df = folds[folds[\"fold\"] == fold].copy()\n",
    "    \n",
    "    train_ds = TrainDataset(train_df, transform=get_transforms(data=\"train\"), debug=False)\n",
    "    val_ds = TrainDataset(val_df, transform=get_transforms(data=\"valid\"), debug=False)\n",
    "    \n",
    "    model = TinyV2ConvNet(CFG.target_size)\n",
    "    # initialize bias in the model\n",
    "    cls_probas = (train_df[CFG.target_col].value_counts() / len(train_df)).values\n",
    "    model = init_last_layer_bias(model, cls_probas)\n",
    "    \n",
    "    criterion = nn.CrossEntropyLoss()\n",
    "    optimizer = torch.optim.Adam(model.parameters(), lr=CFG.lr, amsgrad=False)\n",
    "    print(f\"Train with CV, on fold {fold}\")\n",
    "    model = train_eval_loop(train_ds, val_ds, model, optimizer, criterion, tb_tag=fold)\n",
    "    torch.save(model.state_dict(), MODEL_PATH/checkpoint.format(fold))"
   ]
  },
  {
   "cell_type": "code",
   "execution_count": null,
   "metadata": {},
   "outputs": [],
   "source": []
  }
 ],
 "metadata": {
  "kernelspec": {
   "display_name": "chestxray",
   "language": "python",
   "name": "chestxray"
  },
  "language_info": {
   "codemirror_mode": {
    "name": "ipython",
    "version": 3
   },
   "file_extension": ".py",
   "mimetype": "text/x-python",
   "name": "python",
   "nbconvert_exporter": "python",
   "pygments_lexer": "ipython3",
   "version": "3.7.7"
  },
  "toc-autonumbering": false,
  "toc-showcode": false,
  "toc-showmarkdowntxt": false
 },
 "nbformat": 4,
 "nbformat_minor": 4
}
