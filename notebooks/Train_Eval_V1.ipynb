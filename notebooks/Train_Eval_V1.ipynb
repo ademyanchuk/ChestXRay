{
 "cells": [
  {
   "cell_type": "markdown",
   "metadata": {},
   "source": [
    "### Imports"
   ]
  },
  {
   "cell_type": "code",
   "execution_count": 1,
   "metadata": {},
   "outputs": [],
   "source": [
    "%load_ext autoreload\n",
    "%autoreload 2"
   ]
  },
  {
   "cell_type": "code",
   "execution_count": 2,
   "metadata": {},
   "outputs": [],
   "source": [
    "import random\n",
    "import logging\n",
    "import subprocess\n",
    "import os\n",
    "from datetime import datetime\n",
    "from collections import Counter, OrderedDict\n",
    "import numpy as np\n",
    "import pandas as pd\n",
    "import matplotlib.pyplot as plt\n",
    "from tqdm import tqdm\n",
    "\n",
    "import torch\n",
    "import torch.nn as nn\n",
    "import torch.nn.functional as F\n",
    "from torch.utils.data import DataLoader, Dataset\n",
    "from torch.utils.tensorboard import SummaryWriter\n",
    "from torch.optim.lr_scheduler import ReduceLROnPlateau, OneCycleLR, CosineAnnealingWarmRestarts\n",
    "import torchvision\n",
    "from torchvision import models\n",
    "from apex import amp\n",
    "\n",
    "from torch_lr_finder import LRFinder\n",
    "\n",
    "from albumentations import Compose, Normalize\n",
    "from albumentations.pytorch import ToTensorV2, ToTensor\n",
    "\n",
    "from sklearn.metrics import cohen_kappa_score\n",
    "from sklearn.model_selection import StratifiedKFold\n",
    "from sklearn.metrics import confusion_matrix\n",
    "\n",
    "import cv2\n",
    "import skimage.io\n",
    "import IPython.display as display\n",
    "from PIL import Image\n",
    "\n",
    "plt.ion()\n",
    "%matplotlib inline\n",
    "%config InlineBackend.figure_format='retina'"
   ]
  },
  {
   "cell_type": "markdown",
   "metadata": {},
   "source": [
    "#### Local Imports"
   ]
  },
  {
   "cell_type": "code",
   "execution_count": 3,
   "metadata": {},
   "outputs": [],
   "source": [
    "# Paths\n",
    "from chestxray.config import (PROJ_PATH,\n",
    "                              PANDA_PATH,\n",
    "                              MODEL_PATH,\n",
    "                              PANDA_IMGS,\n",
    "                              PANDA_MASKS,\n",
    "                              TRAIN_CSV)\n",
    "# Competition related config\n",
    "from chestxray.config import CFG\n",
    "\n",
    "# Misc\n",
    "from chestxray.misc import seed_torch\n",
    "\n",
    "# Datasets\n",
    "from chestxray.datasets import get_transforms, TrainDataset, TilesTrainDataset, LazyTilesDataset, PatchTrainDataset, H5PatchDataset, SeqenceRandomSampler\n",
    "\n",
    "# Viz\n",
    "from chestxray.visualize import (show_from_ids, show_batch, imshow, \n",
    "                                 plot_classes_preds, reverse_show_img, \n",
    "                                 plot_confusion_matrix, text_classes_preds)\n",
    "\n",
    "# Nets\n",
    "from chestxray.nets import TinyV2ConvNet, freeze_botom, PatchModel, PatchEnetModel, PatchBiTModel, TilesModel, AttentionModel\n",
    "from chestxray.model_utils import (trainable_params, cce_loss_at_init, \n",
    "                                   init_last_layer_bias)\n",
    "# Losses\n",
    "from chestxray.losses import LabelSmoothSoftmaxCEV1, TopkCrossEntropy, TopkBCEWithLogitsLoss\n",
    "\n",
    "# Optim\n",
    "from chestxray.optimizers import RAdam\n",
    "\n",
    "# Schedulers\n",
    "from chestxray.schedulers import CosineAnnealingWarmUpRestarts\n",
    "\n",
    "# postproc\n",
    "from chestxray.postprocess import OptimizedRounder"
   ]
  },
  {
   "cell_type": "code",
   "execution_count": 4,
   "metadata": {},
   "outputs": [
    {
     "name": "stdout",
     "output_type": "stream",
     "text": [
      "cuda:0\n"
     ]
    }
   ],
   "source": [
    "device = torch.device(\"cuda:0\" if torch.cuda.is_available() else \"cpu\")\n",
    "print(device)"
   ]
  },
  {
   "cell_type": "code",
   "execution_count": 5,
   "metadata": {},
   "outputs": [
    {
     "name": "stdout",
     "output_type": "stream",
     "text": [
      "_CudaDeviceProperties(name='GeForce RTX 2070 SUPER', major=7, minor=5, total_memory=7979MB, multi_processor_count=40)\n"
     ]
    }
   ],
   "source": [
    "print(torch.cuda.get_device_properties(device))"
   ]
  },
  {
   "cell_type": "markdown",
   "metadata": {},
   "source": [
    "### Fix Random Seed"
   ]
  },
  {
   "cell_type": "code",
   "execution_count": 6,
   "metadata": {},
   "outputs": [],
   "source": [
    "seed_torch()"
   ]
  },
  {
   "cell_type": "code",
   "execution_count": 7,
   "metadata": {},
   "outputs": [],
   "source": [
    "# torch.backends.cudnn.benchmark = True"
   ]
  },
  {
   "cell_type": "markdown",
   "metadata": {},
   "source": [
    "### Load Data"
   ]
  },
  {
   "cell_type": "code",
   "execution_count": 8,
   "metadata": {},
   "outputs": [
    {
     "data": {
      "text/html": [
       "<div>\n",
       "<style scoped>\n",
       "    .dataframe tbody tr th:only-of-type {\n",
       "        vertical-align: middle;\n",
       "    }\n",
       "\n",
       "    .dataframe tbody tr th {\n",
       "        vertical-align: top;\n",
       "    }\n",
       "\n",
       "    .dataframe thead th {\n",
       "        text-align: right;\n",
       "    }\n",
       "</style>\n",
       "<table border=\"1\" class=\"dataframe\">\n",
       "  <thead>\n",
       "    <tr style=\"text-align: right;\">\n",
       "      <th></th>\n",
       "      <th>image_id</th>\n",
       "      <th>data_provider</th>\n",
       "      <th>isup_grade</th>\n",
       "      <th>gleason_score</th>\n",
       "    </tr>\n",
       "  </thead>\n",
       "  <tbody>\n",
       "    <tr>\n",
       "      <th>0</th>\n",
       "      <td>0005f7aaab2800f6170c399693a96917</td>\n",
       "      <td>karolinska</td>\n",
       "      <td>0</td>\n",
       "      <td>0+0</td>\n",
       "    </tr>\n",
       "    <tr>\n",
       "      <th>1</th>\n",
       "      <td>000920ad0b612851f8e01bcc880d9b3d</td>\n",
       "      <td>karolinska</td>\n",
       "      <td>0</td>\n",
       "      <td>0+0</td>\n",
       "    </tr>\n",
       "    <tr>\n",
       "      <th>2</th>\n",
       "      <td>0018ae58b01bdadc8e347995b69f99aa</td>\n",
       "      <td>radboud</td>\n",
       "      <td>4</td>\n",
       "      <td>4+4</td>\n",
       "    </tr>\n",
       "    <tr>\n",
       "      <th>3</th>\n",
       "      <td>001c62abd11fa4b57bf7a6c603a11bb9</td>\n",
       "      <td>karolinska</td>\n",
       "      <td>4</td>\n",
       "      <td>4+4</td>\n",
       "    </tr>\n",
       "    <tr>\n",
       "      <th>4</th>\n",
       "      <td>001d865e65ef5d2579c190a0e0350d8f</td>\n",
       "      <td>karolinska</td>\n",
       "      <td>0</td>\n",
       "      <td>0+0</td>\n",
       "    </tr>\n",
       "  </tbody>\n",
       "</table>\n",
       "</div>"
      ],
      "text/plain": [
       "                           image_id data_provider  isup_grade gleason_score\n",
       "0  0005f7aaab2800f6170c399693a96917    karolinska           0           0+0\n",
       "1  000920ad0b612851f8e01bcc880d9b3d    karolinska           0           0+0\n",
       "2  0018ae58b01bdadc8e347995b69f99aa       radboud           4           4+4\n",
       "3  001c62abd11fa4b57bf7a6c603a11bb9    karolinska           4           4+4\n",
       "4  001d865e65ef5d2579c190a0e0350d8f    karolinska           0           0+0"
      ]
     },
     "execution_count": 8,
     "metadata": {},
     "output_type": "execute_result"
    }
   ],
   "source": [
    "TRAIN_DF = pd.read_csv(TRAIN_CSV)\n",
    "TRAIN_DF.head()"
   ]
  },
  {
   "cell_type": "code",
   "execution_count": 9,
   "metadata": {},
   "outputs": [
    {
     "name": "stdout",
     "output_type": "stream",
     "text": [
      "<class 'pandas.core.frame.DataFrame'>\n",
      "RangeIndex: 10616 entries, 0 to 10615\n",
      "Data columns (total 4 columns):\n",
      " #   Column         Non-Null Count  Dtype \n",
      "---  ------         --------------  ----- \n",
      " 0   image_id       10616 non-null  object\n",
      " 1   data_provider  10616 non-null  object\n",
      " 2   isup_grade     10616 non-null  int64 \n",
      " 3   gleason_score  10616 non-null  object\n",
      "dtypes: int64(1), object(3)\n",
      "memory usage: 331.9+ KB\n"
     ]
    }
   ],
   "source": [
    "TRAIN_DF.info()"
   ]
  },
  {
   "cell_type": "code",
   "execution_count": 10,
   "metadata": {},
   "outputs": [
    {
     "data": {
      "image/png": "[encoded data removed]",
      "text/plain": [
       "<Figure size 432x288 with 1 Axes>"
      ]
     },
     "metadata": {
      "image/png": {
       "height": 249,
       "width": 381
      },
      "needs_background": "light"
     },
     "output_type": "display_data"
    }
   ],
   "source": [
    "_ = TRAIN_DF[CFG.target_col].hist()"
   ]
  },
  {
   "cell_type": "markdown",
   "metadata": {},
   "source": [
    "### Define Global Variables"
   ]
  },
  {
   "cell_type": "code",
   "execution_count": 11,
   "metadata": {},
   "outputs": [
    {
     "name": "stdout",
     "output_type": "stream",
     "text": [
      "Start experiment: debug\n"
     ]
    }
   ],
   "source": [
    "if CFG.debug:\n",
    "    EXP_NAME = \"debug\"\n",
    "    writer = SummaryWriter(f\"runs_v1/{EXP_NAME}\")\n",
    "    print(f\"Start experiment: {EXP_NAME}\")\n",
    "else:\n",
    "    if not CFG.resume:\n",
    "        now = datetime.now()\n",
    "        EXP_NAME = now.strftime(\"%d-%m-%Y-%H-%M\")\n",
    "        print(f\"Start experiment: {EXP_NAME}\")\n",
    "\n",
    "        writer = SummaryWriter(f\"runs_v1/{EXP_NAME}\")\n",
    "    else:\n",
    "        # if resume should define from what to start\n",
    "        PREV_NAME = CFG.prev_exp\n",
    "        writer = SummaryWriter(f\"runs_v1/{PREV_NAME}_{CFG.stage}\")"
   ]
  },
  {
   "cell_type": "code",
   "execution_count": 12,
   "metadata": {},
   "outputs": [],
   "source": [
    "# Set logger\n",
    "logger = logging.getLogger()\n",
    "logger.setLevel(logging.INFO)\n",
    "\n",
    "log_format = logging.Formatter('%(message)s')\n",
    "stream_handler = logging.StreamHandler()\n",
    "stream_handler.setFormatter(log_format)\n",
    "logger.handlers = [stream_handler]\n",
    "# add logging handler to save training to the file\n",
    "log_fname = f\"{PROJ_PATH/'logs'}/{EXP_NAME}.log\"\n",
    "file_handler = logging.FileHandler(log_fname, mode=\"a\")\n",
    "file_handler.setFormatter(log_format)\n",
    "logger.handlers.append(file_handler)"
   ]
  },
  {
   "cell_type": "code",
   "execution_count": 13,
   "metadata": {},
   "outputs": [],
   "source": [
    "LOSSES = {\n",
    "    \"cce\" : nn.CrossEntropyLoss(),\n",
    "    \"mse\" : nn.MSELoss(),\n",
    "    \"ls_soft_ce\" : LabelSmoothSoftmaxCEV1(),\n",
    "    \"ohem\" : TopkCrossEntropy(),\n",
    "    \"bce\" : TopkBCEWithLogitsLoss() if CFG.ohem else nn.BCEWithLogitsLoss(),\n",
    "}"
   ]
  },
  {
   "cell_type": "code",
   "execution_count": 14,
   "metadata": {},
   "outputs": [],
   "source": [
    "# key - string, value - tuple(sceduler, if it epoch type)\n",
    "epoch_type = True\n",
    "SCHEDULERS = {\n",
    "    \"reduce_on_plateau\" : (ReduceLROnPlateau, epoch_type),\n",
    "    \"one_cycle\": (OneCycleLR, not epoch_type),\n",
    "    \"cawr\": (CosineAnnealingWarmUpRestarts, not epoch_type),\n",
    "    \"none\": (None, None)\n",
    "}"
   ]
  },
  {
   "cell_type": "code",
   "execution_count": 15,
   "metadata": {},
   "outputs": [],
   "source": [
    "# schedulers\n",
    "def get_scheduler(optimizer,train_dataloader, schedule_type=CFG.schedule_type, resume=False):\n",
    "    assert schedule_type in SCHEDULERS, f\"{schedule_type} not in SCHEDULERS\"\n",
    "    if schedule_type == \"reduce_on_plateau\":\n",
    "        return (SCHEDULERS[schedule_type][0](optimizer, 'min', factor=0.5, patience=CFG.rlopp if not resume else CFG.rlopp + 2, verbose=True), \n",
    "                SCHEDULERS[schedule_type][1])\n",
    "    elif schedule_type == \"one_cycle\":\n",
    "        return (SCHEDULERS[schedule_type][0](optimizer, max_lr=[CFG.lr, CFG.lr*10] if CFG.finetune == \"1stage\" else CFG.lr,\n",
    "                                             steps_per_epoch=int(len(train_dataloader) / CFG.accum_step), epochs=CFG.epoch, pct_start=1/CFG.epoch, \n",
    "                                             cycle_momentum=False, final_div_factor=CFG.oc_final_div_factor),\n",
    "                SCHEDULERS[schedule_type][1])\n",
    "    elif schedule_type == \"cawr\":\n",
    "        return (SCHEDULERS[schedule_type][0](optimizer, T_0=CFG.cawr_T_0, T_mult=CFG.cawr_T_mult, eta_max=CFG.lr, T_up=CFG.cawr_T_up, gamma=CFG.cawr_gamma),\n",
    "                SCHEDULERS[schedule_type][1])\n",
    "    else:\n",
    "        return (SCHEDULERS[schedule_type][0],\n",
    "                SCHEDULERS[schedule_type][1])"
   ]
  },
  {
   "cell_type": "markdown",
   "metadata": {},
   "source": [
    "### Train Eval Loop"
   ]
  },
  {
   "cell_type": "code",
   "execution_count": 16,
   "metadata": {},
   "outputs": [],
   "source": [
    "# Train Eval Loop\n",
    "def train_eval_loop(\n",
    "    train_dataloader,\n",
    "    val_dataloader,\n",
    "    model,\n",
    "    optimizer,\n",
    "    criterion,\n",
    "    accum_step=CFG.accum_step,\n",
    "    checkpoint=False,\n",
    "    num_epochs=CFG.epoch,\n",
    "    device=device,\n",
    "    tb_tag=\"\",\n",
    "    model_name=\"debug\",\n",
    "):\n",
    "    \"\"\"Split it into the set of inner functions to siplify the loop itself\"\"\"\n",
    "    # Inner Functions\n",
    "    # write to TensorBoard helpers\n",
    "    def weights_to_tb(step=0):\n",
    "        conv1_weight = list(model.parameters())[0].data.to(\"cpu\")\n",
    "        img_grid = torchvision.utils.make_grid(conv1_weight.float(), normalize=True)\n",
    "        writer.add_image(\n",
    "            tag=f\"Model conv1 weights {tb_tag}\", img_tensor=img_grid, global_step=step\n",
    "        )\n",
    "\n",
    "    def input_img_to_tb(inputs, step):\n",
    "        img = reverse_show_img(inputs[0], denorm=True)\n",
    "        writer.add_image(\n",
    "            tag=f\"Input Image {tb_tag}\",\n",
    "            img_tensor=img,\n",
    "            global_step=step,\n",
    "            dataformats=\"HWC\",\n",
    "        )\n",
    "        del img\n",
    "\n",
    "    def preds_to_tb(outputs, inputs, labels, step):\n",
    "        figure = plot_classes_preds(\n",
    "            outputs.to(\"cpu\"), inputs.to(\"cpu\"), labels.to(\"cpu\")\n",
    "        )\n",
    "        writer.add_figure(\n",
    "            tag=f\"Actuals vs Predictions {tb_tag}\", figure=figure, global_step=step\n",
    "        )\n",
    "\n",
    "    def text_preds_to_tb(outputs, labels, step):\n",
    "        preds, targs = compute_preds(outputs, labels)\n",
    "        preds_text = f\"targs: {targs}, preds: {preds}\"\n",
    "        writer.add_text(\n",
    "            f\"Actuals vs Predictions {tb_tag}\", preds_text, global_step=step\n",
    "        )\n",
    "\n",
    "    def metrics_to_tb(mode, train_loss, train_score, val_loss, val_score, step):\n",
    "        writer.add_text(\n",
    "            f\"On best {mode} save:\",\n",
    "            f\"tr_loss: {train_loss:.4f}, tr_qwk: {train_score:.4f}, val_loss: {val_loss:.4f}, val_qwk: {val_score:.4f}\",  # noqa\n",
    "            global_step=step,\n",
    "        )\n",
    "\n",
    "    def conf_matrix_to_tb(val_epoch_labels, val_epoch_preds, step):\n",
    "        writer.add_figure(\n",
    "            tag=f\"Confusion matrix {tb_tag}\",\n",
    "            figure=plot_confusion_matrix(\n",
    "                val_epoch_labels, val_epoch_preds, normalize=True\n",
    "            ),\n",
    "            global_step=step,\n",
    "        )\n",
    "        \n",
    "    def attention_to_tb(att, step):\n",
    "        att_arr = att.data.cpu().numpy()[0, 0]\n",
    "        text = f\"{np.around(att_arr, decimals=3)}\"\n",
    "        writer.add_text(f\"Attention Map for Oth Val sample {tb_tag}\", text, global_step=step)\n",
    "        \n",
    "        \n",
    "    def compute_preds(outputs, labels, loss_type=CFG.loss):\n",
    "        if loss_type == \"bce\":\n",
    "            preds = outputs.detach().sigmoid().sum(1).round()\n",
    "            targs = labels.sum(1)\n",
    "        elif loss_type == \"mse\":\n",
    "            preds = outputs.detach().round()\n",
    "            targs = labels\n",
    "        else:\n",
    "            preds = outputs.detach().argmax(1)\n",
    "            targs = labels\n",
    "        return preds.int(), targs.int()\n",
    "        \n",
    "\n",
    "    # Train/Eval Loop\n",
    "    # write first layer weights to TB @ init phase\n",
    "    if not CFG.debug:\n",
    "        weights_to_tb()\n",
    "\n",
    "    # prepare model and optimizer\n",
    "    model.to(device)\n",
    "    if CFG.use_amp:  # automatic mixed precision\n",
    "        model, optimizer = amp.initialize(model, optimizer, opt_level=\"O2\")\n",
    "        \n",
    "    # init scheduler after amp init of optimizer\n",
    "    scheduler, sch_is_epoch_type = get_scheduler(optimizer, train_dataloader, resume=CFG.resume)\n",
    "    \n",
    "    # define epochs numbers to look into input images and predictions,\n",
    "    # no more than 30 times per full training\n",
    "    vis_step = np.ceil(num_epochs / 30).astype(int)\n",
    "    visual_epochs = list(range(0, num_epochs, vis_step))\n",
    "    # metrics to wathch for model checkpointing\n",
    "    best_qwk = -100 if not checkpoint else checkpoint[\"best_qwk\"]\n",
    "    best_val_loss = np.inf if not checkpoint else checkpoint[\"best_val_loss\"]\n",
    "\n",
    "    start_epoch = 0 if not checkpoint else checkpoint[\"epoch\"] + 1\n",
    "    for epoch in range(start_epoch, num_epochs):\n",
    "        logging.info(f\"Epoch {epoch}/{num_epochs - 1}\")\n",
    "        logging.info(\"=\" * 10)\n",
    "\n",
    "        # Training Phase\n",
    "        # Set training mode\n",
    "        model.train()\n",
    "        train_running_loss = 0.0\n",
    "        accum_train_loss = 0.0\n",
    "        train_epoch_preds, train_epoch_labels = [], []\n",
    "\n",
    "        # We accumulate, zero at training epoch begins\n",
    "        optimizer.zero_grad()\n",
    "\n",
    "        # Iterate over train data.\n",
    "        tk_train = tqdm(enumerate(train_dataloader), total=len(train_dataloader))\n",
    "        for i, data in tk_train:\n",
    "            # Calculate global step for TensorBoard\n",
    "            train_global_step = epoch * len(train_dataloader) + i\n",
    "\n",
    "            inputs, labels = data\n",
    "            # Visualize input before model at the middle of epoch:\n",
    "            if epoch in visual_epochs and i == len(train_dataloader) // 2:\n",
    "                input_img_to_tb(inputs, train_global_step)\n",
    "\n",
    "            inputs = inputs.to(device)\n",
    "            labels = labels.to(device)\n",
    "\n",
    "            if CFG.att:\n",
    "                outputs, _ = model(inputs) # don't need att map here\n",
    "            else:\n",
    "                outputs = model(inputs)\n",
    "            \n",
    "            # then usimg accumulated gradients they sum up every loss.backward, we want mean of gradients\n",
    "            # and so pararameter updates will be the same in case of accum_step > 1\n",
    "            loss = criterion(outputs, labels) / accum_step\n",
    "            if CFG.use_amp:\n",
    "                with amp.scale_loss(loss, optimizer) as scaled_loss:\n",
    "                    scaled_loss.backward()\n",
    "            else:\n",
    "                loss.backward()\n",
    "            \n",
    "            accum_train_loss += loss.item()\n",
    "            # we accumulate gradients and make optimization step once per\n",
    "            # # of accum_step\n",
    "            if (i + 1) % accum_step == 0:\n",
    "                optimizer.step()\n",
    "                optimizer.zero_grad()\n",
    "                # Add Batch Type Scheduler step here (update lr only after optimizer step):\n",
    "                if scheduler and not sch_is_epoch_type:\n",
    "                    if CFG.schedule_type == \"cawr\":\n",
    "                        scheduler.step(epoch + i / len(train_dataloader))\n",
    "                    else:\n",
    "                        scheduler.step()\n",
    "\n",
    "                # loss is mean across batch, divide by number of steps in epoch\n",
    "                # (so loss is normalized) + we only update train_running_loss every accum_step\n",
    "                train_running_loss += accum_train_loss / (len(train_dataloader) / accum_step)\n",
    "                # tensorboarding loss\n",
    "                writer.add_scalar(\n",
    "                    tag=f\"Training loss {tb_tag}\",\n",
    "                    scalar_value=accum_train_loss,\n",
    "                    global_step=train_global_step,\n",
    "                )\n",
    "                # zero accum_train_loss \n",
    "                accum_train_loss = 0.\n",
    "\n",
    "            # collect train preds and labels for QWK\n",
    "            preds, targs = compute_preds(outputs, labels)\n",
    "            train_epoch_preds.append(preds)\n",
    "            train_epoch_labels.append(targs)\n",
    "            \n",
    "        # Validation Phase\n",
    "        # Set evaluation mode\n",
    "        model.eval()\n",
    "        val_running_loss = 0.0\n",
    "        val_epoch_preds, val_epoch_labels = [], []\n",
    "        # Iterate over val data\n",
    "        tk_val = tqdm(enumerate(val_dataloader), total=len(val_dataloader))\n",
    "        for j, data in tk_val:\n",
    "            # Calculate global step\n",
    "            val_global_step = epoch * len(val_dataloader) + j\n",
    "            inputs, labels = data\n",
    "            if CFG.aux_tile:\n",
    "                inp_main, inp_aux = inputs\n",
    "                inp_main, inp_aux = inp_main.to(device), inp_aux.to(device)\n",
    "            else:\n",
    "                inputs = inputs.to(device)\n",
    "            \n",
    "            labels = labels.to(device)\n",
    "            with torch.no_grad():\n",
    "                if CFG.aux_tile:\n",
    "                    out_main = model(inp_main)\n",
    "                    out_aux = model(inp_aux)\n",
    "                    outputs = (out_main + out_aux) / 2\n",
    "                else:\n",
    "                    if CFG.att:\n",
    "                        outputs, att = model(inputs)\n",
    "                    else:\n",
    "                        outputs = model(inputs)\n",
    "            if CFG.ohem:\n",
    "                loss = criterion(outputs, labels, valid=True)\n",
    "            else:\n",
    "                loss = criterion(outputs, labels)\n",
    "            \n",
    "            val_running_loss += loss.item() / len(val_dataloader)\n",
    "            # tensorboarding loss\n",
    "            writer.add_scalar(\n",
    "                tag=f\"Validation loss {tb_tag}\",\n",
    "                scalar_value=loss.item(),\n",
    "                global_step=val_global_step,\n",
    "            )\n",
    "\n",
    "            # collect validation preds and labels for QWK\n",
    "            preds, targs = compute_preds(outputs, labels)\n",
    "            val_epoch_preds.append(preds)\n",
    "            val_epoch_labels.append(targs)\n",
    "\n",
    "            # visualise predictions for 0th validation batch\n",
    "            if epoch in visual_epochs and j == 0:\n",
    "                text_preds_to_tb(outputs, labels, val_global_step)\n",
    "                \n",
    "                # look into attention map if use it\n",
    "                if CFG.att:\n",
    "                    attention_to_tb(att, val_global_step)\n",
    "\n",
    "        # Epoch type Schedulers\n",
    "        if scheduler and sch_is_epoch_type:\n",
    "            scheduler.step(val_running_loss)\n",
    "        # Write lr to TBD\n",
    "        if CFG.finetune == \"1stage\":\n",
    "            writer.add_scalar(\n",
    "                tag=f\"lr Interim {tb_tag}:\",\n",
    "                scalar_value=optimizer.param_groups[0][\"lr\"],\n",
    "                global_step=train_global_step,\n",
    "            )\n",
    "            writer.add_scalar(\n",
    "                tag=f\"lr Classifier {tb_tag}:\",\n",
    "                scalar_value=optimizer.param_groups[1][\"lr\"],\n",
    "                global_step=train_global_step,\n",
    "            )\n",
    "\n",
    "        else:\n",
    "            writer.add_scalar(\n",
    "                tag=f\"lr {tb_tag}:\",\n",
    "                scalar_value=optimizer.param_groups[0][\"lr\"],\n",
    "                global_step=train_global_step,\n",
    "            )\n",
    "\n",
    "        # \"End of Epoch\" Phase\n",
    "        logging.info(\n",
    "            f\"Training Loss: {train_running_loss:.4f}\\tValidation Loss: {val_running_loss:.4f}\"  # noqa\n",
    "        )\n",
    "\n",
    "        # Calculate epoch predictions distribution\n",
    "        train_epoch_preds = torch.cat(train_epoch_preds).cpu().numpy()\n",
    "        train_epoch_labels = torch.cat(train_epoch_labels).cpu().numpy()\n",
    "        val_epoch_preds = torch.cat(val_epoch_preds).cpu().numpy()\n",
    "        val_epoch_labels = torch.cat(val_epoch_labels).cpu().numpy()\n",
    "        logging.info(\n",
    "            f\"Counter train preds: {Counter(train_epoch_preds)}\\tCounter val preds: {Counter(val_epoch_preds)}\"  # noqa\n",
    "        )\n",
    "        # Calculate epoch QWK\n",
    "        train_qwk = cohen_kappa_score(\n",
    "            train_epoch_preds, train_epoch_labels, weights=\"quadratic\"\n",
    "        )\n",
    "        val_qwk = cohen_kappa_score(\n",
    "            val_epoch_preds, val_epoch_labels, weights=\"quadratic\"\n",
    "        )\n",
    "        logging.info(f\"Epoch train QWK: {train_qwk:.3f}\\tval QWK: {val_qwk:.3f}\")\n",
    "        writer.add_scalar(\n",
    "            tag=f\"Training QWK {tb_tag}\", scalar_value=train_qwk, global_step=epoch\n",
    "        )\n",
    "        writer.add_scalar(\n",
    "            tag=f\"Validation QWK {tb_tag}\", scalar_value=val_qwk, global_step=epoch\n",
    "        )\n",
    "\n",
    "        # On the best val loss do:\n",
    "        if val_running_loss < best_val_loss:\n",
    "            # update best and save model\n",
    "            best_val_loss = val_running_loss\n",
    "            logging.info(f\"  Epoch {epoch} - Save Best Loss: {best_val_loss:.4f} Model\")\n",
    "            torch.save(\n",
    "                {\n",
    "                    \"epoch\": epoch,\n",
    "                    \"model_state_dict\": model.state_dict(),\n",
    "                    \"optimizer_state_dict\": optimizer.state_dict(),\n",
    "                    \"best_val_loss\": best_val_loss,\n",
    "                    \"best_qwk\": val_qwk,\n",
    "                },\n",
    "                f\"{MODEL_PATH}/{model_name}_{epoch}_loss.pth\",\n",
    "            )\n",
    "            # add losses as text to TB\n",
    "            metrics_to_tb(\n",
    "                \"loss\",\n",
    "                train_running_loss,\n",
    "                train_qwk,\n",
    "                val_running_loss,\n",
    "                val_qwk,\n",
    "                val_global_step,\n",
    "            )\n",
    "            # add image of conv1 weights to TB\n",
    "            if not CFG.debug:\n",
    "                weights_to_tb(val_global_step)\n",
    "            # add confusion matrix to TB\n",
    "            conf_matrix_to_tb(val_epoch_labels, val_epoch_preds, val_global_step)\n",
    "            \n",
    "        # On the best val loss do:\n",
    "        if val_qwk > best_qwk:\n",
    "            # update best and save model\n",
    "            best_qwk = val_qwk\n",
    "            logging.info(f\"  Epoch {epoch} - Save Best QWK: {best_qwk:.4f} Model\")\n",
    "            torch.save(\n",
    "                {\n",
    "                    \"epoch\": epoch,\n",
    "                    \"model_state_dict\": model.state_dict(),\n",
    "                    \"optimizer_state_dict\": optimizer.state_dict(),\n",
    "                    \"best_val_loss\": val_running_loss,\n",
    "                    \"best_qwk\": best_qwk,\n",
    "                },\n",
    "                f\"{MODEL_PATH}/{model_name}_{epoch}_qwk.pth\",\n",
    "            )\n",
    "            # add losses as text to TB\n",
    "            metrics_to_tb(\n",
    "                \"qwk\",\n",
    "                train_running_loss,\n",
    "                train_qwk,\n",
    "                val_running_loss,\n",
    "                val_qwk,\n",
    "                val_global_step,\n",
    "            )\n",
    "            # add image of conv1 weights to TB\n",
    "            if not CFG.debug:\n",
    "                weights_to_tb(val_global_step)\n",
    "            # add confusion matrix to TB\n",
    "            conf_matrix_to_tb(val_epoch_labels, val_epoch_preds, val_global_step)\n",
    "        \n",
    "        # maybe it helps!\n",
    "#         torch.cuda.empty_cache()\n",
    "\n",
    "    # End of loop\n",
    "    return model, best_val_loss, best_qwk"
   ]
  },
  {
   "cell_type": "markdown",
   "metadata": {},
   "source": [
    "### Prepare CV - strategy"
   ]
  },
  {
   "cell_type": "code",
   "execution_count": 17,
   "metadata": {},
   "outputs": [],
   "source": [
    "CFG.debug = True"
   ]
  },
  {
   "cell_type": "code",
   "execution_count": 17,
   "metadata": {},
   "outputs": [],
   "source": [
    "# That for the first time"
   ]
  },
  {
   "cell_type": "code",
   "execution_count": 28,
   "metadata": {},
   "outputs": [],
   "source": [
    "if CFG.debug:\n",
    "    folds_fn = \"folds_db.csv\"\n",
    "    try: \n",
    "        folds = pd.read_csv(PANDA_PATH/folds_fn)\n",
    "    except FileNotFoundError:\n",
    "        folds = TRAIN_DF.sample(n=500, random_state=CFG.seed).reset_index(drop=True).copy()\n",
    "else:\n",
    "    folds_fn = \"folds.csv\"\n",
    "    try:\n",
    "        folds = pd.read_csv(PANDA_PATH/folds_fn)\n",
    "    except FileNotFoundError:\n",
    "        folds = TRAIN_DF.copy()"
   ]
  },
  {
   "cell_type": "code",
   "execution_count": 16,
   "metadata": {
    "collapsed": true,
    "jupyter": {
     "outputs_hidden": true
    }
   },
   "outputs": [
    {
     "ename": "NameError",
     "evalue": "name 'folds_fn' is not defined",
     "output_type": "error",
     "traceback": [
      "\u001b[0;31m---------------------------------------------------------------------------\u001b[0m",
      "\u001b[0;31mNameError\u001b[0m                                 Traceback (most recent call last)",
      "\u001b[0;32m<ipython-input-16-09b993832388>\u001b[0m in \u001b[0;36m<module>\u001b[0;34m\u001b[0m\n\u001b[0;32m----> 1\u001b[0;31m \u001b[0;32mif\u001b[0m \u001b[0;32mnot\u001b[0m \u001b[0;34m(\u001b[0m\u001b[0mPANDA_PATH\u001b[0m\u001b[0;34m/\u001b[0m\u001b[0mfolds_fn\u001b[0m\u001b[0;34m)\u001b[0m\u001b[0;34m.\u001b[0m\u001b[0mexists\u001b[0m\u001b[0;34m(\u001b[0m\u001b[0;34m)\u001b[0m\u001b[0;34m:\u001b[0m\u001b[0;34m\u001b[0m\u001b[0;34m\u001b[0m\u001b[0m\n\u001b[0m\u001b[1;32m      2\u001b[0m     \u001b[0mtrain_labels\u001b[0m \u001b[0;34m=\u001b[0m \u001b[0mfolds\u001b[0m\u001b[0;34m[\u001b[0m\u001b[0mCFG\u001b[0m\u001b[0;34m.\u001b[0m\u001b[0mtarget_col\u001b[0m\u001b[0;34m]\u001b[0m\u001b[0;34m.\u001b[0m\u001b[0mvalues\u001b[0m\u001b[0;34m\u001b[0m\u001b[0;34m\u001b[0m\u001b[0m\n\u001b[1;32m      3\u001b[0m     \u001b[0mkf\u001b[0m \u001b[0;34m=\u001b[0m \u001b[0mStratifiedKFold\u001b[0m\u001b[0;34m(\u001b[0m\u001b[0mn_splits\u001b[0m\u001b[0;34m=\u001b[0m\u001b[0mCFG\u001b[0m\u001b[0;34m.\u001b[0m\u001b[0mn_fold\u001b[0m\u001b[0;34m,\u001b[0m \u001b[0mshuffle\u001b[0m\u001b[0;34m=\u001b[0m\u001b[0;32mTrue\u001b[0m\u001b[0;34m,\u001b[0m \u001b[0mrandom_state\u001b[0m\u001b[0;34m=\u001b[0m\u001b[0mCFG\u001b[0m\u001b[0;34m.\u001b[0m\u001b[0mseed\u001b[0m\u001b[0;34m)\u001b[0m\u001b[0;34m\u001b[0m\u001b[0;34m\u001b[0m\u001b[0m\n\u001b[1;32m      4\u001b[0m     \u001b[0;32mfor\u001b[0m \u001b[0mfold\u001b[0m\u001b[0;34m,\u001b[0m \u001b[0;34m(\u001b[0m\u001b[0mtrain_index\u001b[0m\u001b[0;34m,\u001b[0m \u001b[0mval_index\u001b[0m\u001b[0;34m)\u001b[0m \u001b[0;32min\u001b[0m \u001b[0menumerate\u001b[0m\u001b[0;34m(\u001b[0m\u001b[0mkf\u001b[0m\u001b[0;34m.\u001b[0m\u001b[0msplit\u001b[0m\u001b[0;34m(\u001b[0m\u001b[0mfolds\u001b[0m\u001b[0;34m.\u001b[0m\u001b[0mvalues\u001b[0m\u001b[0;34m,\u001b[0m \u001b[0mtrain_labels\u001b[0m\u001b[0;34m)\u001b[0m\u001b[0;34m)\u001b[0m\u001b[0;34m:\u001b[0m\u001b[0;34m\u001b[0m\u001b[0;34m\u001b[0m\u001b[0m\n\u001b[1;32m      5\u001b[0m         \u001b[0mfolds\u001b[0m\u001b[0;34m.\u001b[0m\u001b[0mloc\u001b[0m\u001b[0;34m[\u001b[0m\u001b[0mval_index\u001b[0m\u001b[0;34m,\u001b[0m \u001b[0;34m'fold'\u001b[0m\u001b[0;34m]\u001b[0m \u001b[0;34m=\u001b[0m \u001b[0mint\u001b[0m\u001b[0;34m(\u001b[0m\u001b[0mfold\u001b[0m\u001b[0;34m)\u001b[0m\u001b[0;34m\u001b[0m\u001b[0;34m\u001b[0m\u001b[0m\n",
      "\u001b[0;31mNameError\u001b[0m: name 'folds_fn' is not defined"
     ]
    }
   ],
   "source": [
    "if not (PANDA_PATH/folds_fn).exists():\n",
    "    train_labels = folds[CFG.target_col].values\n",
    "    kf = StratifiedKFold(n_splits=CFG.n_fold, shuffle=True, random_state=CFG.seed)\n",
    "    for fold, (train_index, val_index) in enumerate(kf.split(folds.values, train_labels)):\n",
    "        folds.loc[val_index, 'fold'] = int(fold)\n",
    "    folds['fold'] = folds['fold'].astype(int)\n",
    "    folds.to_csv(PANDA_PATH/folds_fn, index=None)\n",
    "    folds.head()"
   ]
  },
  {
   "cell_type": "code",
   "execution_count": 17,
   "metadata": {},
   "outputs": [],
   "source": [
    "# Here use existing (folds_dedup is folds_cleaned + dropped duplicates)\n",
    "# See corresponding notebooks: Suspicious_Input for cleaning\n",
    "# and Find_Drop_Duplicates for duplicates"
   ]
  },
  {
   "cell_type": "code",
   "execution_count": 18,
   "metadata": {},
   "outputs": [],
   "source": [
    "if CFG.debug:\n",
    "    folds = pd.read_csv(PANDA_PATH/\"folds_db.csv\")\n",
    "else:\n",
    "    folds = pd.read_csv(PANDA_PATH/\"folds_dedup_v1.csv\")"
   ]
  },
  {
   "cell_type": "code",
   "execution_count": 19,
   "metadata": {},
   "outputs": [
    {
     "name": "stdout",
     "output_type": "stream",
     "text": [
      "<class 'pandas.core.frame.DataFrame'>\n",
      "RangeIndex: 500 entries, 0 to 499\n",
      "Data columns (total 5 columns):\n",
      " #   Column         Non-Null Count  Dtype \n",
      "---  ------         --------------  ----- \n",
      " 0   image_id       500 non-null    object\n",
      " 1   data_provider  500 non-null    object\n",
      " 2   isup_grade     500 non-null    int64 \n",
      " 3   gleason_score  500 non-null    object\n",
      " 4   fold           500 non-null    int64 \n",
      "dtypes: int64(2), object(3)\n",
      "memory usage: 19.7+ KB\n"
     ]
    }
   ],
   "source": [
    "folds.info()"
   ]
  },
  {
   "cell_type": "code",
   "execution_count": 20,
   "metadata": {},
   "outputs": [],
   "source": [
    "folds = folds.sample(20)"
   ]
  },
  {
   "cell_type": "markdown",
   "metadata": {},
   "source": [
    "### Init Data"
   ]
  },
  {
   "cell_type": "code",
   "execution_count": 21,
   "metadata": {},
   "outputs": [],
   "source": [
    "# get folds (all experiments validated on fold 0)\n",
    "train_df = folds[folds[\"fold\"] != 0].copy()\n",
    "val_df = folds[folds[\"fold\"] == 0].copy()\n",
    "\n",
    "# define datasets\n",
    "if CFG.dataset == \"lazy\":\n",
    "    train_ds = LazyTilesDataset(train_df, transform=get_transforms(data=\"train\", aug=CFG.aug_type), debug=False)\n",
    "    val_ds = TilesTrainDataset(val_df, is_train=False, transform=get_transforms(data=\"valid\"), debug=False) # same allways to compare with previous results\n",
    "elif CFG.dataset == \"tiles\":\n",
    "    train_ds = TilesTrainDataset(train_df, transform=get_transforms(data=\"train\", aug=CFG.aug_type), debug=False, aux_tile=CFG.aux_tile, regression=CFG.regression, loss=CFG.loss)\n",
    "    val_ds = TilesTrainDataset(val_df, is_train=False, transform=get_transforms(data=\"valid\"), debug=False, aux_tile=CFG.aux_tile, regression=CFG.regression, loss=CFG.loss)\n",
    "elif CFG.dataset == \"patch\":\n",
    "    train_ds = PatchTrainDataset(train_df, transform=get_transforms(data=\"train\", aug=CFG.aug_type), debug=False)\n",
    "    val_ds = PatchTrainDataset(val_df, is_train=False, debug=False)\n",
    "elif CFG.dataset == \"hdf5\":\n",
    "    train_ds = H5PatchDataset(file_path=PANDA_PATH / \"hdf5\", fnames=[\"patch256x16x1_fold_1.h5\", \"patch256x16x1_fold_2.h5\", \"patch256x16x1_fold_3.h5\"])\n",
    "    val_ds = H5PatchDataset(file_path=PANDA_PATH / \"hdf5\", fnames=[\"patch256x16x1_fold_0.h5\"])\n",
    "else:\n",
    "    print(f\"No such dataset {CFG.dataset}\")\n",
    "    \n",
    "# define a data loader\n",
    "if CFG.dataset == \"hdf5\":\n",
    "    # use specific sampler (so not to load hdf5 files to memory too frequently)\n",
    "    sampler = SeqenceRandomSampler(len(train_ds), train_ds._common_len)\n",
    "    train_dataloader = DataLoader(train_ds, batch_size=CFG.batch_size, sampler=sampler, num_workers=min(CFG.batch_size, 8), pin_memory=True)\n",
    "    val_dataloader = DataLoader(val_ds, batch_size=CFG.batch_size, shuffle=False, num_workers=min(CFG.batch_size, 8), pin_memory=True)\n",
    "else:\n",
    "    train_dataloader = DataLoader(train_ds, batch_size=CFG.batch_size, shuffle=True, num_workers=min(CFG.batch_size+2, 6), pin_memory=True)\n",
    "    val_dataloader = DataLoader(val_ds, batch_size=CFG.batch_size, shuffle=False, num_workers=min(CFG.batch_size+2, 6), pin_memory=False)"
   ]
  },
  {
   "cell_type": "markdown",
   "metadata": {},
   "source": [
    "### Init Functions"
   ]
  },
  {
   "cell_type": "code",
   "execution_count": 22,
   "metadata": {},
   "outputs": [],
   "source": [
    "def init_model(train_df=train_df, arch=CFG.arch, pre_init_fc_bias=CFG.pre_init_fc_bias, pretrained=True):\n",
    "    # For now only torchvision models ok for attention\n",
    "    if CFG.att:\n",
    "        assert arch in [\"resnet50\", \"resnet34\"]\n",
    "    \n",
    "    # MIL variant\n",
    "    if CFG.dataset == \"patch\":\n",
    "        if arch == \"efnet\":\n",
    "            model_ft = PatchEnetModel(backbone=CFG.enet_bone, pretrained=pretrained)\n",
    "        elif arch == \"bitM\":\n",
    "            model_ft = PatchBiTModel(pretrained=pretrained)\n",
    "        else:\n",
    "            if CFG.att:\n",
    "                model_ft = AttentionModel(arch=arch, pretrained=pretrained)\n",
    "            else:\n",
    "                model_ft = PatchModel(arch=arch, pretrained=pretrained)\n",
    "            if pre_init_fc_bias:\n",
    "                if CFG.loss in [\"cce\", \"ls_soft_ce\", \"ohem\"]:\n",
    "                    # initialize bias in the model\n",
    "                    cls_probas = (train_df[CFG.target_col].value_counts() / len(train_df)).values\n",
    "                    model_ft = init_last_layer_bias(model_ft, cls_probas)\n",
    "    # Stitched Tiles variant\n",
    "    elif CFG.dataset == \"tiles\":\n",
    "        if arch in [\"resnet50\", \"resnet34\"]:\n",
    "            model_ft = TilesModel(arch=arch, pretrained=pretrained, loss=CFG.loss, regression=CFG.regression)\n",
    "        else:\n",
    "            print(f\"Tiles model for {arch} is not yet implemented!\")\n",
    "    \n",
    "    return model_ft\n",
    "\n",
    "\n",
    "def init_optimizer(model_ft):\n",
    "    if CFG.finetune == \"1stage\":\n",
    "        freeze_botom(model_ft)\n",
    "        interm_params = [\n",
    "            p[1]\n",
    "            for p in model_ft.named_parameters()\n",
    "            if (not p[0].startswith(\"fc\") and p[1].requires_grad)\n",
    "        ]\n",
    "        if CFG.optim == \"adam\":\n",
    "            optimizer = torch.optim.Adam(\n",
    "                [\n",
    "                    {\"params\": interm_params, \"lr\": CFG.lr},\n",
    "                    {\"params\": model_ft.fc.parameters(), \"lr\": CFG.lr * 10},\n",
    "                ]\n",
    "            )\n",
    "        elif CFG.optim == \"sgd\":\n",
    "            optimizer = torch.optim.SGD(\n",
    "                [\n",
    "                    {\"params\": interm_params, \"lr\": CFG.lr},\n",
    "                    {\"params\": model_ft.fc.parameters(), \"lr\": CFG.lr * 10},\n",
    "                ],\n",
    "                momentum=0.9,\n",
    "                nesterov=True,\n",
    "            )\n",
    "    else:\n",
    "        LR = CFG.lr / 1000 if CFG.schedule_type == \"cawr\" else CFG.lr\n",
    "        if CFG.optim == \"adam\":\n",
    "            optimizer = torch.optim.Adam(\n",
    "                model_ft.parameters(), lr=LR, amsgrad=False\n",
    "            )\n",
    "        elif CFG.optim == \"adamw\":\n",
    "            optimizer = torch.optim.AdamW(model_ft.parameters(), lr=LR, \n",
    "                                          weight_decay=CFG.wd)\n",
    "        elif CFG.optim == \"sgd\":\n",
    "            optimizer = torch.optim.SGD(\n",
    "                model_ft.parameters(), lr=LR, momentum=0.9, nesterov=True\n",
    "            )\n",
    "        elif CFG.optim == \"radam\":\n",
    "            optimizer = RAdam(model_ft.parameters(), lr=LR)\n",
    "\n",
    "    return optimizer\n",
    "\n",
    "criterion = LOSSES[CFG.loss]"
   ]
  },
  {
   "cell_type": "markdown",
   "metadata": {},
   "source": [
    "### Debug Runs"
   ]
  },
  {
   "cell_type": "code",
   "execution_count": 23,
   "metadata": {},
   "outputs": [
    {
     "name": "stdout",
     "output_type": "stream",
     "text": [
      "debug: True seed: 1982 img_height: 224 img_width: 224 target_size: 6 img_id_col: image_id target_col: isup_grade tiff_layer: 1 stoch_sample: True num_tiles: 36 tile_sz: 224 batch_size: 8 accum_step: 1 dataset: tiles aux_tile: False aux_tile_sz: 0 aux_tile_num: 0 aug_type: light regression: True att: False arch: resnet34 enet_bone: efficientnet-b0 finetune: False model_cls: deep pre_init_fc_bias: False ohem: False loss: mse optim: adamw lr: 3e-05 wd: 0.0 schedule_type: none oc_final_div_factor: 10.0 cawr_T_0: 10 cawr_T_mult: 2 cawr_T_up: 3 cawr_gamma: 0.8 rlopp: 1 resume: False prev_exp: None from_epoch: 0 stage: 0 epoch: 45 n_fold: 4 use_amp: True descript: bce-ohem + rn34 + 224x36 tiles + OC + weighted data\n"
     ]
    }
   ],
   "source": [
    "print(\" \".join([f\"{key}: {val}\" for key, val in CFG.__dict__.items() if not key.startswith(\"__\")]))"
   ]
  },
  {
   "cell_type": "code",
   "execution_count": 24,
   "metadata": {},
   "outputs": [
    {
     "name": "stderr",
     "output_type": "stream",
     "text": [
      "Start: 04-07-2020-20-35\n",
      "Epoch 0/34\n",
      "==========\n"
     ]
    },
    {
     "name": "stdout",
     "output_type": "stream",
     "text": [
      "Selected optimization level O2:  FP16 training with FP32 batchnorm and FP32 master weights.\n",
      "\n",
      "Defaults for this optimization level are:\n",
      "enabled                : True\n",
      "opt_level              : O2\n",
      "cast_model_type        : torch.float16\n",
      "patch_torch_functions  : False\n",
      "keep_batchnorm_fp32    : True\n",
      "master_weights         : True\n",
      "loss_scale             : dynamic\n",
      "Processing user overrides (additional kwargs that are not None)...\n",
      "After processing overrides, optimization options are:\n",
      "enabled                : True\n",
      "opt_level              : O2\n",
      "cast_model_type        : torch.float16\n",
      "patch_torch_functions  : False\n",
      "keep_batchnorm_fp32    : True\n",
      "master_weights         : True\n",
      "loss_scale             : dynamic\n",
      "Warning:  multi_tensor_applier fused unscale kernel is unavailable, possibly because apex was installed without --cuda_ext --cpp_ext. Using Python fallback.  Original ImportError was: ModuleNotFoundError(\"No module named 'amp_C'\")\n"
     ]
    },
    {
     "name": "stderr",
     "output_type": "stream",
     "text": [
      " 50%|█████     | 1/2 [00:01<00:01,  1.94s/it]"
     ]
    },
    {
     "name": "stdout",
     "output_type": "stream",
     "text": [
      "Gradient overflow.  Skipping step, loss scaler 0 reducing loss scale to 32768.0\n"
     ]
    },
    {
     "name": "stderr",
     "output_type": "stream",
     "text": [
      "100%|██████████| 2/2 [00:03<00:00,  1.65s/it]"
     ]
    },
    {
     "name": "stdout",
     "output_type": "stream",
     "text": [
      "Gradient overflow.  Skipping step, loss scaler 0 reducing loss scale to 16384.0\n"
     ]
    },
    {
     "name": "stderr",
     "output_type": "stream",
     "text": [
      "\n",
      "100%|██████████| 1/1 [00:00<00:00,  2.04it/s]\n",
      "Training Loss: 3.5146\tValidation Loss: 2.1982\n",
      "Counter train preds: Counter({3: 10, 2: 6})\tCounter val preds: Counter({2: 3, 1: 1})\n",
      "Epoch train QWK: -0.021\tval QWK: 0.385\n",
      "  Epoch 0 - Save Best Loss: 2.1982 Model\n",
      "/home/ademyanchuk/Projects/ChestXRay/chestxray/visualize.py:155: RuntimeWarning: invalid value encountered in true_divide\n",
      "  cm = cm.astype(\"float\") / cm.sum(axis=1)[:, np.newaxis]\n",
      "  Epoch 0 - Save Best QWK: 0.3846 Model\n"
     ]
    },
    {
     "name": "stdout",
     "output_type": "stream",
     "text": [
      "Normalized confusion matrix\n",
      "[[ 0.  1.  0.  0.]\n",
      " [ 0.  0.  1.  0.]\n",
      " [nan nan nan nan]\n",
      " [ 0.  0.  1.  0.]]\n"
     ]
    },
    {
     "name": "stderr",
     "output_type": "stream",
     "text": [
      "Epoch 1/34\n",
      "==========\n"
     ]
    },
    {
     "name": "stdout",
     "output_type": "stream",
     "text": [
      "Normalized confusion matrix\n",
      "[[ 0.  1.  0.  0.]\n",
      " [ 0.  0.  1.  0.]\n",
      " [nan nan nan nan]\n",
      " [ 0.  0.  1.  0.]]\n"
     ]
    },
    {
     "name": "stderr",
     "output_type": "stream",
     "text": [
      "100%|██████████| 2/2 [00:02<00:00,  1.25s/it]\n",
      "100%|██████████| 1/1 [00:00<00:00,  2.01it/s]\n",
      "Training Loss: 3.4604\tValidation Loss: 2.1138\n",
      "Counter train preds: Counter({3: 11, 2: 5})\tCounter val preds: Counter({2: 3, 1: 1})\n",
      "Epoch train QWK: 0.076\tval QWK: 0.385\n",
      "  Epoch 1 - Save Best Loss: 2.1138 Model\n",
      "Epoch 2/34\n",
      "==========\n"
     ]
    },
    {
     "name": "stdout",
     "output_type": "stream",
     "text": [
      "Normalized confusion matrix\n",
      "[[ 0.  1.  0.  0.]\n",
      " [ 0.  0.  1.  0.]\n",
      " [nan nan nan nan]\n",
      " [ 0.  0.  1.  0.]]\n"
     ]
    },
    {
     "name": "stderr",
     "output_type": "stream",
     "text": [
      "100%|██████████| 2/2 [00:03<00:00,  1.53s/it]\n",
      "100%|██████████| 1/1 [00:00<00:00,  1.91it/s]\n",
      "Training Loss: 3.0892\tValidation Loss: 2.0689\n",
      "Counter train preds: Counter({3: 10, 2: 6})\tCounter val preds: Counter({2: 2, 3: 1, 1: 1})\n",
      "Epoch train QWK: 0.113\tval QWK: 0.167\n",
      "  Epoch 2 - Save Best Loss: 2.0689 Model\n",
      "Epoch 3/34\n",
      "==========\n"
     ]
    },
    {
     "name": "stdout",
     "output_type": "stream",
     "text": [
      "Normalized confusion matrix\n",
      "[[0.  1.  0.  0.  0. ]\n",
      " [0.  0.  0.5 0.5 0. ]\n",
      " [nan nan nan nan nan]\n",
      " [nan nan nan nan nan]\n",
      " [0.  0.  1.  0.  0. ]]\n"
     ]
    },
    {
     "name": "stderr",
     "output_type": "stream",
     "text": [
      "100%|██████████| 2/2 [00:02<00:00,  1.38s/it]\n",
      "100%|██████████| 1/1 [00:00<00:00,  1.68it/s]\n",
      "Training Loss: 2.9369\tValidation Loss: 2.0173\n",
      "Counter train preds: Counter({3: 10, 2: 6})\tCounter val preds: Counter({2: 2, 3: 1, 1: 1})\n",
      "Epoch train QWK: 0.314\tval QWK: 0.167\n",
      "  Epoch 3 - Save Best Loss: 2.0173 Model\n",
      "Epoch 4/34\n",
      "==========\n"
     ]
    },
    {
     "name": "stdout",
     "output_type": "stream",
     "text": [
      "Normalized confusion matrix\n",
      "[[0.  1.  0.  0.  0. ]\n",
      " [0.  0.  0.5 0.5 0. ]\n",
      " [nan nan nan nan nan]\n",
      " [nan nan nan nan nan]\n",
      " [0.  0.  1.  0.  0. ]]\n"
     ]
    },
    {
     "name": "stderr",
     "output_type": "stream",
     "text": [
      "100%|██████████| 2/2 [00:03<00:00,  1.62s/it]\n",
      "100%|██████████| 1/1 [00:00<00:00,  2.01it/s]\n",
      "Training Loss: 2.3764\tValidation Loss: 1.9679\n",
      "Counter train preds: Counter({2: 9, 3: 7})\tCounter val preds: Counter({2: 2, 3: 1, 1: 1})\n",
      "Epoch train QWK: 0.405\tval QWK: 0.167\n",
      "  Epoch 4 - Save Best Loss: 1.9679 Model\n",
      "Epoch 5/34\n",
      "==========\n"
     ]
    },
    {
     "name": "stdout",
     "output_type": "stream",
     "text": [
      "Normalized confusion matrix\n",
      "[[0.  1.  0.  0.  0. ]\n",
      " [0.  0.  0.5 0.5 0. ]\n",
      " [nan nan nan nan nan]\n",
      " [nan nan nan nan nan]\n",
      " [0.  0.  1.  0.  0. ]]\n"
     ]
    },
    {
     "name": "stderr",
     "output_type": "stream",
     "text": [
      "100%|██████████| 2/2 [00:02<00:00,  1.16s/it]\n",
      "100%|██████████| 1/1 [00:00<00:00,  1.99it/s]\n",
      "Training Loss: 2.0838\tValidation Loss: 1.7719\n",
      "Counter train preds: Counter({3: 9, 2: 5, 1: 2})\tCounter val preds: Counter({2: 3, 1: 1})\n",
      "Epoch train QWK: 0.411\tval QWK: 0.385\n",
      "  Epoch 5 - Save Best Loss: 1.7719 Model\n",
      "Epoch 6/34\n",
      "==========\n"
     ]
    },
    {
     "name": "stdout",
     "output_type": "stream",
     "text": [
      "Normalized confusion matrix\n",
      "[[ 0.  1.  0.  0.]\n",
      " [ 0.  0.  1.  0.]\n",
      " [nan nan nan nan]\n",
      " [ 0.  0.  1.  0.]]\n"
     ]
    },
    {
     "name": "stderr",
     "output_type": "stream",
     "text": [
      "100%|██████████| 2/2 [00:03<00:00,  1.52s/it]\n",
      "100%|██████████| 1/1 [00:00<00:00,  2.01it/s]\n",
      "Training Loss: 2.2472\tValidation Loss: 1.6648\n",
      "Counter train preds: Counter({3: 9, 2: 5, 1: 1, 4: 1})\tCounter val preds: Counter({2: 3, 1: 1})\n",
      "Epoch train QWK: 0.420\tval QWK: 0.385\n",
      "  Epoch 6 - Save Best Loss: 1.6648 Model\n",
      "Epoch 7/34\n",
      "==========\n"
     ]
    },
    {
     "name": "stdout",
     "output_type": "stream",
     "text": [
      "Normalized confusion matrix\n",
      "[[ 0.  1.  0.  0.]\n",
      " [ 0.  0.  1.  0.]\n",
      " [nan nan nan nan]\n",
      " [ 0.  0.  1.  0.]]\n"
     ]
    },
    {
     "name": "stderr",
     "output_type": "stream",
     "text": [
      "100%|██████████| 2/2 [00:02<00:00,  1.40s/it]\n",
      "100%|██████████| 1/1 [00:00<00:00,  2.04it/s]\n",
      "Training Loss: 1.6982\tValidation Loss: 1.6867\n",
      "Counter train preds: Counter({2: 7, 3: 5, 4: 3, 1: 1})\tCounter val preds: Counter({2: 3, 1: 1})\n",
      "Epoch train QWK: 0.601\tval QWK: 0.385\n",
      "Epoch 8/34\n",
      "==========\n",
      "100%|██████████| 2/2 [00:03<00:00,  1.57s/it]\n",
      "100%|██████████| 1/1 [00:00<00:00,  1.99it/s]\n",
      "Training Loss: 1.6647\tValidation Loss: 1.7778\n",
      "Counter train preds: Counter({2: 7, 3: 6, 4: 2, 1: 1})\tCounter val preds: Counter({2: 2, 3: 1, 1: 1})\n",
      "Epoch train QWK: 0.568\tval QWK: 0.667\n",
      "  Epoch 8 - Save Best QWK: 0.6667 Model\n",
      "Epoch 9/34\n",
      "==========\n"
     ]
    },
    {
     "name": "stdout",
     "output_type": "stream",
     "text": [
      "Normalized confusion matrix\n",
      "[[ 0.  1.  0.  0.  0.]\n",
      " [ 0.  0.  1.  0.  0.]\n",
      " [nan nan nan nan nan]\n",
      " [nan nan nan nan nan]\n",
      " [ 0.  0.  0.  1.  0.]]\n"
     ]
    },
    {
     "name": "stderr",
     "output_type": "stream",
     "text": [
      "100%|██████████| 2/2 [00:02<00:00,  1.13s/it]\n",
      "100%|██████████| 1/1 [00:00<00:00,  2.04it/s]\n",
      "Training Loss: 1.3790\tValidation Loss: 1.7448\n",
      "Counter train preds: Counter({2: 5, 3: 5, 4: 3, 1: 3})\tCounter val preds: Counter({3: 2, 2: 1, 1: 1})\n",
      "Epoch train QWK: 0.643\tval QWK: 0.500\n",
      "Epoch 10/34\n",
      "==========\n",
      "100%|██████████| 2/2 [00:03<00:00,  1.77s/it]\n",
      "100%|██████████| 1/1 [00:00<00:00,  1.86it/s]\n",
      "Training Loss: 1.2459\tValidation Loss: 1.7717\n",
      "Counter train preds: Counter({2: 6, 4: 5, 1: 3, 3: 2})\tCounter val preds: Counter({3: 2, 2: 1, 1: 1})\n",
      "Epoch train QWK: 0.760\tval QWK: 0.500\n",
      "Epoch 11/34\n",
      "==========\n",
      "100%|██████████| 2/2 [00:02<00:00,  1.31s/it]\n",
      "100%|██████████| 1/1 [00:00<00:00,  2.05it/s]\n",
      "Training Loss: 1.1314\tValidation Loss: 1.8888\n",
      "Counter train preds: Counter({2: 8, 4: 3, 3: 3, 5: 1, 0: 1})\tCounter val preds: Counter({3: 2, 2: 1, 1: 1})\n",
      "Epoch train QWK: 0.730\tval QWK: 0.500\n",
      "Epoch 12/34\n",
      "==========\n",
      "100%|██████████| 2/2 [00:03<00:00,  1.52s/it]\n",
      "100%|██████████| 1/1 [00:00<00:00,  1.99it/s]\n",
      "Training Loss: 0.9647\tValidation Loss: 1.9763\n",
      "Counter train preds: Counter({2: 6, 4: 5, 1: 3, 3: 2})\tCounter val preds: Counter({3: 2, 2: 1, 1: 1})\n",
      "Epoch train QWK: 0.786\tval QWK: 0.500\n",
      "Epoch 13/34\n",
      "==========\n",
      "100%|██████████| 2/2 [00:02<00:00,  1.22s/it]\n",
      "100%|██████████| 1/1 [00:00<00:00,  2.00it/s]\n",
      "Training Loss: 0.7431\tValidation Loss: 2.0448\n",
      "Counter train preds: Counter({2: 5, 4: 4, 1: 4, 3: 2, 5: 1})\tCounter val preds: Counter({3: 2, 2: 1, 1: 1})\n",
      "Epoch train QWK: 0.827\tval QWK: 0.500\n",
      "Epoch 14/34\n",
      "==========\n",
      "100%|██████████| 2/2 [00:03<00:00,  1.60s/it]\n",
      "100%|██████████| 1/1 [00:00<00:00,  2.03it/s]\n",
      "Training Loss: 0.6046\tValidation Loss: 2.1140\n",
      "Counter train preds: Counter({1: 6, 2: 3, 4: 3, 3: 3, 5: 1})\tCounter val preds: Counter({3: 2, 2: 1, 1: 1})\n",
      "Epoch train QWK: 0.863\tval QWK: 0.500\n",
      "Epoch 15/34\n",
      "==========\n",
      "100%|██████████| 2/2 [00:02<00:00,  1.32s/it]\n",
      "100%|██████████| 1/1 [00:00<00:00,  1.98it/s]\n",
      "Training Loss: 0.9535\tValidation Loss: 2.1339\n",
      "Counter train preds: Counter({2: 6, 4: 5, 1: 4, 3: 1})\tCounter val preds: Counter({3: 2, 2: 1, 1: 1})\n",
      "Epoch train QWK: 0.760\tval QWK: 0.500\n",
      "Epoch 16/34\n",
      "==========\n",
      "100%|██████████| 2/2 [00:03<00:00,  1.70s/it]\n",
      "100%|██████████| 1/1 [00:00<00:00,  1.99it/s]\n",
      "Training Loss: 0.6885\tValidation Loss: 2.1693\n",
      "Counter train preds: Counter({1: 6, 4: 5, 2: 3, 3: 2})\tCounter val preds: Counter({3: 2, 2: 1, 1: 1})\n",
      "Epoch train QWK: 0.834\tval QWK: 0.500\n",
      "Epoch 17/34\n",
      "==========\n",
      "100%|██████████| 2/2 [00:02<00:00,  1.25s/it]\n",
      "100%|██████████| 1/1 [00:00<00:00,  2.04it/s]\n",
      "Training Loss: 0.8572\tValidation Loss: 2.1607\n",
      "Counter train preds: Counter({1: 7, 4: 5, 3: 3, 2: 1})\tCounter val preds: Counter({3: 2, 2: 1, 1: 1})\n",
      "Epoch train QWK: 0.813\tval QWK: 0.500\n",
      "Epoch 18/34\n",
      "==========\n",
      "100%|██████████| 2/2 [00:03<00:00,  1.64s/it]\n",
      "100%|██████████| 1/1 [00:00<00:00,  1.69it/s]\n",
      "Training Loss: 0.6600\tValidation Loss: 2.2574\n",
      "Counter train preds: Counter({4: 6, 2: 5, 1: 5})\tCounter val preds: Counter({3: 2, 2: 1, 1: 1})\n",
      "Epoch train QWK: 0.848\tval QWK: 0.500\n",
      "Epoch 19/34\n",
      "==========\n",
      "100%|██████████| 2/2 [00:02<00:00,  1.09s/it]\n",
      "100%|██████████| 1/1 [00:00<00:00,  1.98it/s]\n",
      "Training Loss: 0.4608\tValidation Loss: 2.3318\n",
      "Counter train preds: Counter({1: 6, 4: 4, 2: 3, 3: 2, 5: 1})\tCounter val preds: Counter({3: 2, 2: 1, 1: 1})\n",
      "Epoch train QWK: 0.904\tval QWK: 0.500\n",
      "Epoch 20/34\n",
      "==========\n",
      "100%|██████████| 2/2 [00:03<00:00,  1.67s/it]\n",
      "100%|██████████| 1/1 [00:00<00:00,  1.90it/s]\n",
      "Training Loss: 0.4190\tValidation Loss: 2.3311\n",
      "Counter train preds: Counter({1: 5, 2: 5, 4: 4, 5: 1, 3: 1})\tCounter val preds: Counter({3: 2, 2: 1, 1: 1})\n",
      "Epoch train QWK: 0.901\tval QWK: 0.500\n",
      "Epoch 21/34\n",
      "==========\n",
      "100%|██████████| 2/2 [00:02<00:00,  1.21s/it]\n",
      "100%|██████████| 1/1 [00:00<00:00,  2.00it/s]\n",
      "Training Loss: 1.0136\tValidation Loss: 2.3471\n",
      "Counter train preds: Counter({1: 6, 4: 5, 2: 4, 5: 1})\tCounter val preds: Counter({3: 2, 2: 1, 1: 1})\n",
      "Epoch train QWK: 0.789\tval QWK: 0.500\n",
      "Epoch 22/34\n",
      "==========\n",
      "100%|██████████| 2/2 [00:02<00:00,  1.50s/it]\n",
      "100%|██████████| 1/1 [00:00<00:00,  1.99it/s]\n",
      "Training Loss: 0.3189\tValidation Loss: 2.4012\n",
      "Counter train preds: Counter({2: 5, 1: 5, 4: 3, 5: 2, 3: 1})\tCounter val preds: Counter({3: 2, 2: 1, 1: 1})\n",
      "Epoch train QWK: 0.919\tval QWK: 0.500\n",
      "Epoch 23/34\n",
      "==========\n",
      "100%|██████████| 2/2 [00:02<00:00,  1.24s/it]\n",
      "100%|██████████| 1/1 [00:00<00:00,  2.01it/s]\n",
      "Training Loss: 0.5098\tValidation Loss: 2.4403\n",
      "Counter train preds: Counter({1: 5, 2: 5, 4: 4, 3: 1, 5: 1})\tCounter val preds: Counter({3: 2, 2: 1, 1: 1})\n",
      "Epoch train QWK: 0.852\tval QWK: 0.500\n",
      "Epoch 24/34\n",
      "==========\n",
      "100%|██████████| 2/2 [00:03<00:00,  1.59s/it]\n",
      "100%|██████████| 1/1 [00:00<00:00,  2.00it/s]\n",
      "Training Loss: 0.4516\tValidation Loss: 2.3758\n",
      "Counter train preds: Counter({2: 5, 1: 5, 4: 4, 3: 1, 5: 1})\tCounter val preds: Counter({3: 2, 2: 1, 1: 1})\n",
      "Epoch train QWK: 0.877\tval QWK: 0.500\n",
      "Epoch 25/34\n",
      "==========\n",
      "100%|██████████| 2/2 [00:02<00:00,  1.14s/it]\n",
      "100%|██████████| 1/1 [00:00<00:00,  2.01it/s]\n",
      "Training Loss: 1.1535\tValidation Loss: 2.4264\n",
      "Counter train preds: Counter({1: 5, 4: 4, 2: 4, 3: 2, 5: 1})\tCounter val preds: Counter({3: 2, 2: 1, 1: 1})\n",
      "Epoch train QWK: 0.744\tval QWK: 0.500\n",
      "Epoch 26/34\n",
      "==========\n",
      "100%|██████████| 2/2 [00:03<00:00,  1.65s/it]\n",
      "100%|██████████| 1/1 [00:00<00:00,  1.88it/s]\n",
      "Training Loss: 0.4790\tValidation Loss: 2.4223\n",
      "Counter train preds: Counter({1: 6, 4: 5, 2: 4, 5: 1})\tCounter val preds: Counter({3: 2, 2: 1, 1: 1})\n",
      "Epoch train QWK: 0.906\tval QWK: 0.500\n",
      "Epoch 27/34\n",
      "==========\n",
      "100%|██████████| 2/2 [00:02<00:00,  1.34s/it]\n",
      "100%|██████████| 1/1 [00:00<00:00,  2.01it/s]\n",
      "Training Loss: 0.4245\tValidation Loss: 2.4068\n",
      "Counter train preds: Counter({1: 8, 4: 5, 2: 2, 3: 1})\tCounter val preds: Counter({3: 2, 2: 1, 1: 1})\n",
      "Epoch train QWK: 0.874\tval QWK: 0.500\n",
      "Epoch 28/34\n",
      "==========\n",
      "100%|██████████| 2/2 [00:03<00:00,  1.81s/it]\n",
      "100%|██████████| 1/1 [00:00<00:00,  1.96it/s]\n",
      "Training Loss: 0.3057\tValidation Loss: 2.5038\n",
      "Counter train preds: Counter({1: 6, 4: 5, 2: 3, 5: 1, 0: 1})\tCounter val preds: Counter({3: 2, 2: 1, 1: 1})\n",
      "Epoch train QWK: 0.933\tval QWK: 0.500\n",
      "Epoch 29/34\n",
      "==========\n",
      "100%|██████████| 2/2 [00:02<00:00,  1.09s/it]\n",
      "100%|██████████| 1/1 [00:00<00:00,  1.96it/s]\n",
      "Training Loss: 0.6875\tValidation Loss: 2.6144\n",
      "Counter train preds: Counter({1: 5, 4: 4, 2: 3, 3: 2, 0: 1, 5: 1})\tCounter val preds: Counter({3: 2, 2: 1, 1: 1})\n",
      "Epoch train QWK: 0.872\tval QWK: 0.500\n",
      "Epoch 30/34\n",
      "==========\n",
      "100%|██████████| 2/2 [00:03<00:00,  1.55s/it]\n",
      "100%|██████████| 1/1 [00:00<00:00,  2.01it/s]\n",
      "Training Loss: 0.3764\tValidation Loss: 2.6060\n",
      "Counter train preds: Counter({4: 5, 1: 5, 2: 4, 0: 1, 5: 1})\tCounter val preds: Counter({3: 2, 2: 1, 1: 1})\n",
      "Epoch train QWK: 0.921\tval QWK: 0.500\n",
      "Epoch 31/34\n",
      "==========\n",
      "100%|██████████| 2/2 [00:02<00:00,  1.30s/it]\n",
      "100%|██████████| 1/1 [00:00<00:00,  2.00it/s]\n",
      "Training Loss: 0.3730\tValidation Loss: 2.5712\n",
      "Counter train preds: Counter({1: 6, 2: 4, 5: 3, 4: 2, 0: 1})\tCounter val preds: Counter({3: 2, 2: 1, 1: 1})\n",
      "Epoch train QWK: 0.916\tval QWK: 0.500\n",
      "Epoch 32/34\n",
      "==========\n",
      "100%|██████████| 2/2 [00:03<00:00,  1.58s/it]\n",
      "100%|██████████| 1/1 [00:00<00:00,  1.99it/s]\n",
      "Training Loss: 0.2758\tValidation Loss: 2.5752\n",
      "Counter train preds: Counter({4: 5, 1: 5, 2: 4, 0: 1, 5: 1})\tCounter val preds: Counter({3: 2, 2: 1, 1: 1})\n",
      "Epoch train QWK: 0.921\tval QWK: 0.500\n",
      "Epoch 33/34\n",
      "==========\n",
      "100%|██████████| 2/2 [00:02<00:00,  1.15s/it]\n",
      "100%|██████████| 1/1 [00:00<00:00,  2.00it/s]\n",
      "Training Loss: 0.2481\tValidation Loss: 2.5951\n",
      "Counter train preds: Counter({1: 9, 4: 4, 3: 1, 5: 1, 2: 1})\tCounter val preds: Counter({3: 2, 2: 1, 1: 1})\n",
      "Epoch train QWK: 0.930\tval QWK: 0.500\n",
      "Epoch 34/34\n",
      "==========\n",
      "100%|██████████| 2/2 [00:03<00:00,  1.63s/it]\n",
      "100%|██████████| 1/1 [00:00<00:00,  1.99it/s]\n",
      "Training Loss: 0.2029\tValidation Loss: 2.6073\n",
      "Counter train preds: Counter({1: 6, 5: 4, 0: 2, 2: 2, 4: 2})\tCounter val preds: Counter({3: 2, 2: 1, 1: 1})\n",
      "Epoch train QWK: 0.954\tval QWK: 0.500\n",
      "Finish: 04-07-2020-20-37\n"
     ]
    }
   ],
   "source": [
    "logging.info(f'Start: {datetime.now().strftime(\"%d-%m-%Y-%H-%M\")}')\n",
    "model_ft = init_model()\n",
    "optimizer = init_optimizer(model_ft)\n",
    "    \n",
    "scheduler, sch_is_epoch_type = get_scheduler(optimizer, train_dataloader)\n",
    "\n",
    "_ = train_eval_loop(train_dataloader, val_dataloader, model_ft, optimizer, criterion, num_epochs=35)\n",
    "logging.info(f'Finish: {datetime.now().strftime(\"%d-%m-%Y-%H-%M\")}')"
   ]
  },
  {
   "cell_type": "markdown",
   "metadata": {},
   "source": [
    "### Experiment Run"
   ]
  },
  {
   "cell_type": "markdown",
   "metadata": {
    "toc-hr-collapsed": true,
    "toc-nb-collapsed": true
   },
   "source": [
    "#### Learning Rate Finder"
   ]
  },
  {
   "cell_type": "code",
   "execution_count": 17,
   "metadata": {
    "collapsed": true,
    "jupyter": {
     "outputs_hidden": true
    }
   },
   "outputs": [
    {
     "name": "stdout",
     "output_type": "stream",
     "text": [
      "Selected optimization level O1:  Insert automatic casts around Pytorch functions and Tensor methods.\n",
      "\n",
      "Defaults for this optimization level are:\n",
      "enabled                : True\n",
      "opt_level              : O1\n",
      "cast_model_type        : None\n",
      "patch_torch_functions  : True\n",
      "keep_batchnorm_fp32    : None\n",
      "master_weights         : None\n",
      "loss_scale             : dynamic\n",
      "Processing user overrides (additional kwargs that are not None)...\n",
      "After processing overrides, optimization options are:\n",
      "enabled                : True\n",
      "opt_level              : O1\n",
      "cast_model_type        : None\n",
      "patch_torch_functions  : True\n",
      "keep_batchnorm_fp32    : None\n",
      "master_weights         : None\n",
      "loss_scale             : dynamic\n",
      "Warning:  multi_tensor_applier fused unscale kernel is unavailable, possibly because apex was installed without --cuda_ext --cpp_ext. Using Python fallback.  Original ImportError was: ModuleNotFoundError(\"No module named 'amp_C'\")\n"
     ]
    },
    {
     "data": {
      "application/vnd.jupyter.widget-view+json": {
       "model_id": "39527bfec9a5472097e0dcab65b96d62",
       "version_major": 2,
       "version_minor": 0
      },
      "text/plain": [
       "HBox(children=(FloatProgress(value=0.0, max=200.0), HTML(value='')))"
      ]
     },
     "metadata": {},
     "output_type": "display_data"
    },
    {
     "name": "stdout",
     "output_type": "stream",
     "text": [
      "\n",
      "Learning rate search finished. See the graph with {finder_name}.plot()\n"
     ]
    },
    {
     "data": {
      "image/png": "[encoded data removed]",
      "text/plain": [
       "<Figure size 432x288 with 1 Axes>"
      ]
     },
     "metadata": {
      "image/png": {
       "height": 263,
       "width": 401
      },
      "needs_background": "light"
     },
     "output_type": "display_data"
    }
   ],
   "source": [
    "# get folds\n",
    "train_df = folds[folds[\"fold\"] != 0].copy()\n",
    "# define datasets\n",
    "if CFG.dataset == \"lazy\":\n",
    "    train_ds = LazyTilesDataset(train_df, transform=get_transforms(data=\"train\", aug=CFG.aug_type), debug=False)\n",
    "elif CFG.dataset == \"tiles\":\n",
    "    train_ds = TilesTrainDataset(train_df, is_train=CFG.stoch_sample, transform=get_transforms(data=\"train\", aug=CFG.aug_type), debug=False)\n",
    "elif CFG.dataset == \"patch\":\n",
    "    train_ds = PatchTrainDataset(train_df, transform=get_transforms(data=\"train\", aug=CFG.aug_type), debug=False)\n",
    "    \n",
    "# define a data loader\n",
    "train_dataloader = DataLoader(train_ds, batch_size=CFG.batch_size, shuffle=True, num_workers=min(CFG.batch_size, 10), pin_memory=True)\n",
    "\n",
    "model_ft = Model(arch=\"resnet34\")\n",
    "# initialize bias in the model\n",
    "cls_probas = (train_df[CFG.target_col].value_counts() / len(train_df)).values\n",
    "model_ft = init_last_layer_bias(model_ft, cls_probas)\n",
    "model_ft.to(device)\n",
    "\n",
    "criterion = LOSSES[CFG.loss]\n",
    "\n",
    "\n",
    "if CFG.finetune == \"1stage\":\n",
    "    freeze_botom(model_ft)\n",
    "    interm_params = [p[1] for p in model_ft.named_parameters() if (not p[0].startswith('fc') and p[1].requires_grad)]\n",
    "    if CFG.optim == \"adam\":\n",
    "        optimizer = torch.optim.Adam([\n",
    "                    {'params': interm_params, 'lr': CFG.lr},\n",
    "                    {'params': model_ft.fc.parameters(), 'lr': CFG.lr*10}\n",
    "                ])\n",
    "    elif CFG.optim == \"sgd\":\n",
    "        optimizer = torch.optim.SGD([\n",
    "                    {'params': interm_params, 'lr': CFG.lr},\n",
    "                    {'params': model_ft.fc.parameters(), 'lr': CFG.lr*10}\n",
    "            ], momentum=0.9, nesterov=True)\n",
    "else:\n",
    "    if CFG.optim == \"adam\":\n",
    "        optimizer = torch.optim.Adam(model_ft.parameters(), lr=CFG.lr * 1e-4, amsgrad=False)\n",
    "    elif CFG.optim == \"sgd\":\n",
    "        optimizer = torch.optim.SGD(model_ft.parameters(), lr=CFG.lr * 1e-4, momentum=0.9, nesterov=True)\n",
    "    elif CFG.optim == \"radam\":\n",
    "        optimizer = RAdam(model_ft.parameters(), lr=CFG.lr * 1e-4)\n",
    "    \n",
    "if CFG.use_amp:\n",
    "    model_ft, optimizer = amp.initialize(model_ft, optimizer, opt_level='O1')\n",
    "    \n",
    "lr_finder = LRFinder(model_ft, optimizer, criterion, device=device)\n",
    "lr_finder.range_test(train_dataloader, end_lr=1e-2, num_iter=200, step_mode=\"exp\", accumulation_steps=CFG.accum_step)\n",
    "lr_finder.plot()\n",
    "lr_finder.reset()"
   ]
  },
  {
   "cell_type": "markdown",
   "metadata": {},
   "source": [
    "#### Experiment"
   ]
  },
  {
   "cell_type": "code",
   "execution_count": 22,
   "metadata": {},
   "outputs": [
    {
     "name": "stdout",
     "output_type": "stream",
     "text": [
      "debug: False\n",
      " seed: 1982\n",
      " img_height: 224\n",
      " img_width: 224\n",
      " target_size: 6\n",
      " img_id_col: image_id\n",
      " target_col: isup_grade\n",
      " tiff_layer: 1\n",
      " stoch_sample: True\n",
      " num_tiles: 36\n",
      " tile_sz: 224\n",
      " batch_size: 8\n",
      " accum_step: 1\n",
      " dataset: tiles\n",
      " aux_tile: False\n",
      " aux_tile_sz: 0\n",
      " aux_tile_num: 0\n",
      " aug_type: light\n",
      " att: False\n",
      " arch: resnet34\n",
      " enet_bone: efficientnet-b0\n",
      " finetune: False\n",
      " model_cls: one_layer\n",
      " pre_init_fc_bias: False\n",
      " ohem: True\n",
      " loss: bce\n",
      " optim: radam\n",
      " lr: 0.0003\n",
      " wd: 0.01\n",
      " schedule_type: one_cycle\n",
      " oc_final_div_factor: 10.0\n",
      " cawr_T_0: 10\n",
      " cawr_T_mult: 2\n",
      " cawr_T_up: 3\n",
      " cawr_gamma: 0.8\n",
      " rlopp: 1\n",
      " resume: False\n",
      " prev_exp: None\n",
      " from_epoch: 0\n",
      " stage: 0\n",
      " epoch: 45\n",
      " n_fold: 4\n",
      " use_amp: True\n",
      " descript: bce-ohem + rn34 + 224x36 tiles + OC + weighted data\n",
      "\n"
     ]
    }
   ],
   "source": [
    "print(\" \".join([f\"{key}: {val}\\n\" for key, val in CFG.__dict__.items() if not key.startswith(\"__\")]))"
   ]
  },
  {
   "cell_type": "code",
   "execution_count": 23,
   "metadata": {},
   "outputs": [],
   "source": [
    "writer.add_text(\"Experiment Description:\", CFG.descript)"
   ]
  },
  {
   "cell_type": "code",
   "execution_count": 24,
   "metadata": {},
   "outputs": [],
   "source": [
    "model_ft = init_model()\n",
    "optimizer = init_optimizer(model_ft)"
   ]
  },
  {
   "cell_type": "code",
   "execution_count": 25,
   "metadata": {},
   "outputs": [
    {
     "name": "stderr",
     "output_type": "stream",
     "text": [
      "Start: 03-07-2020-20-19\n",
      "Epoch 0/44\n",
      "==========\n"
     ]
    },
    {
     "name": "stdout",
     "output_type": "stream",
     "text": [
      "Selected optimization level O2:  FP16 training with FP32 batchnorm and FP32 master weights.\n",
      "\n",
      "Defaults for this optimization level are:\n",
      "enabled                : True\n",
      "opt_level              : O2\n",
      "cast_model_type        : torch.float16\n",
      "patch_torch_functions  : False\n",
      "keep_batchnorm_fp32    : True\n",
      "master_weights         : True\n",
      "loss_scale             : dynamic\n",
      "Processing user overrides (additional kwargs that are not None)...\n",
      "After processing overrides, optimization options are:\n",
      "enabled                : True\n",
      "opt_level              : O2\n",
      "cast_model_type        : torch.float16\n",
      "patch_torch_functions  : False\n",
      "keep_batchnorm_fp32    : True\n",
      "master_weights         : True\n",
      "loss_scale             : dynamic\n",
      "Warning:  multi_tensor_applier fused unscale kernel is unavailable, possibly because apex was installed without --cuda_ext --cpp_ext. Using Python fallback.  Original ImportError was: ModuleNotFoundError(\"No module named 'amp_C'\")\n"
     ]
    },
    {
     "name": "stderr",
     "output_type": "stream",
     "text": [
      "  0%|          | 0/936 [00:00<?, ?it/s]/home/ademyanchuk/.cache/pypoetry/virtualenvs/chestxray-uNc73CMC-py3.7/lib/python3.7/site-packages/torch/optim/lr_scheduler.py:123: UserWarning: Detected call of `lr_scheduler.step()` before `optimizer.step()`. In PyTorch 1.1.0 and later, you should call them in the opposite order: `optimizer.step()` before `lr_scheduler.step()`.  Failure to do this will result in PyTorch skipping the first value of the learning rate schedule. See more details at https://pytorch.org/docs/stable/optim.html#how-to-adjust-learning-rate\n",
      "  \"https://pytorch.org/docs/stable/optim.html#how-to-adjust-learning-rate\", UserWarning)\n",
      "  0%|          | 1/936 [00:03<1:01:55,  3.97s/it]"
     ]
    },
    {
     "name": "stdout",
     "output_type": "stream",
     "text": [
      "Gradient overflow.  Skipping step, loss scaler 0 reducing loss scale to 32768.0\n"
     ]
    },
    {
     "name": "stderr",
     "output_type": "stream",
     "text": [
      "  0%|          | 2/936 [00:04<46:13,  2.97s/it]  "
     ]
    },
    {
     "name": "stdout",
     "output_type": "stream",
     "text": [
      "Gradient overflow.  Skipping step, loss scaler 0 reducing loss scale to 16384.0\n"
     ]
    },
    {
     "name": "stderr",
     "output_type": "stream",
     "text": [
      "/pytorch/torch/csrc/utils/python_arg_parser.cpp:756: UserWarning: This overload of addcmul_ is deprecated:\n",
      "\taddcmul_(Number value, Tensor tensor1, Tensor tensor2)\n",
      "Consider using one of the following signatures instead:\n",
      "\taddcmul_(Tensor tensor1, Tensor tensor2, *, Number value)\n",
      "100%|██████████| 936/936 [08:37<00:00,  1.81it/s]\n",
      "100%|██████████| 313/313 [02:22<00:00,  2.20it/s]\n",
      "Training Loss: 0.6817\tValidation Loss: 0.3928\n",
      "Counter train preds: Counter({2: 2554, 1: 2166, 3: 1748, 4: 732, 0: 224, 5: 58})\tCounter val preds: Counter({2: 933, 1: 666, 3: 553, 4: 253, 5: 90, 0: 6})\n",
      "Epoch train QWK: 0.440\tval QWK: 0.617\n",
      "  Epoch 0 - Save Best Loss: 0.3928 Model\n",
      "  Epoch 0 - Save Best QWK: 0.6173 Model\n"
     ]
    },
    {
     "name": "stdout",
     "output_type": "stream",
     "text": [
      "Normalized confusion matrix\n",
      "[[0.00842697 0.63483146 0.30898876 0.04353933 0.00280899 0.00140449]\n",
      " [0.         0.24050633 0.63132911 0.125      0.00316456 0.        ]\n",
      " [0.         0.08598726 0.49363057 0.39171975 0.02866242 0.        ]\n",
      " [0.         0.06271777 0.24390244 0.47038328 0.19512195 0.02787456]\n",
      " [0.         0.03146853 0.21328671 0.3951049  0.26223776 0.0979021 ]\n",
      " [0.         0.02962963 0.1037037  0.26666667 0.4037037  0.1962963 ]]\n"
     ]
    },
    {
     "name": "stderr",
     "output_type": "stream",
     "text": [
      "Epoch 1/44\n",
      "==========\n"
     ]
    },
    {
     "name": "stdout",
     "output_type": "stream",
     "text": [
      "Normalized confusion matrix\n",
      "[[0.00842697 0.63483146 0.30898876 0.04353933 0.00280899 0.00140449]\n",
      " [0.         0.24050633 0.63132911 0.125      0.00316456 0.        ]\n",
      " [0.         0.08598726 0.49363057 0.39171975 0.02866242 0.        ]\n",
      " [0.         0.06271777 0.24390244 0.47038328 0.19512195 0.02787456]\n",
      " [0.         0.03146853 0.21328671 0.3951049  0.26223776 0.0979021 ]\n",
      " [0.         0.02962963 0.1037037  0.26666667 0.4037037  0.1962963 ]]\n"
     ]
    },
    {
     "name": "stderr",
     "output_type": "stream",
     "text": [
      "100%|██████████| 936/936 [08:08<00:00,  1.91it/s]\n",
      "100%|██████████| 313/313 [02:21<00:00,  2.21it/s]\n",
      "Training Loss: 0.4935\tValidation Loss: 0.3440\n",
      "Counter train preds: Counter({1: 2740, 2: 1874, 3: 1195, 4: 913, 0: 596, 5: 164})\tCounter val preds: Counter({1: 1172, 0: 404, 2: 392, 3: 263, 4: 174, 5: 96})\n",
      "Epoch train QWK: 0.672\tval QWK: 0.715\n",
      "  Epoch 1 - Save Best Loss: 0.3440 Model\n",
      "  Epoch 1 - Save Best QWK: 0.7151 Model\n"
     ]
    },
    {
     "name": "stdout",
     "output_type": "stream",
     "text": [
      "Normalized confusion matrix\n",
      "[[0.46348315 0.51544944 0.01544944 0.00421348 0.00140449 0.        ]\n",
      " [0.08386076 0.8085443  0.10759494 0.         0.         0.        ]\n",
      " [0.02866242 0.52866242 0.36624204 0.06369427 0.01273885 0.        ]\n",
      " [0.02090592 0.18466899 0.30313589 0.32055749 0.15679443 0.01393728]\n",
      " [0.00699301 0.17132867 0.25174825 0.27272727 0.1958042  0.1013986 ]\n",
      " [0.01481481 0.0962963  0.14444444 0.25925926 0.25185185 0.23333333]]\n"
     ]
    },
    {
     "name": "stderr",
     "output_type": "stream",
     "text": [
      "Epoch 2/44\n",
      "==========\n"
     ]
    },
    {
     "name": "stdout",
     "output_type": "stream",
     "text": [
      "Normalized confusion matrix\n",
      "[[0.46348315 0.51544944 0.01544944 0.00421348 0.00140449 0.        ]\n",
      " [0.08386076 0.8085443  0.10759494 0.         0.         0.        ]\n",
      " [0.02866242 0.52866242 0.36624204 0.06369427 0.01273885 0.        ]\n",
      " [0.02090592 0.18466899 0.30313589 0.32055749 0.15679443 0.01393728]\n",
      " [0.00699301 0.17132867 0.25174825 0.27272727 0.1958042  0.1013986 ]\n",
      " [0.01481481 0.0962963  0.14444444 0.25925926 0.25185185 0.23333333]]\n"
     ]
    },
    {
     "name": "stderr",
     "output_type": "stream",
     "text": [
      " 17%|█▋        | 156/936 [01:23<06:37,  1.96it/s]"
     ]
    },
    {
     "name": "stdout",
     "output_type": "stream",
     "text": [
      "Gradient overflow.  Skipping step, loss scaler 0 reducing loss scale to 16384.0\n"
     ]
    },
    {
     "name": "stderr",
     "output_type": "stream",
     "text": [
      "100%|██████████| 936/936 [08:09<00:00,  1.91it/s]\n",
      "100%|██████████| 313/313 [02:22<00:00,  2.20it/s]\n",
      "Training Loss: 0.4569\tValidation Loss: 0.3572\n",
      "Counter train preds: Counter({1: 2661, 2: 1779, 3: 1145, 4: 909, 0: 774, 5: 214})\tCounter val preds: Counter({1: 1097, 0: 578, 2: 408, 3: 218, 4: 169, 5: 31})\n",
      "Epoch train QWK: 0.715\tval QWK: 0.668\n",
      "Epoch 3/44\n",
      "==========\n",
      "100%|██████████| 936/936 [08:08<00:00,  1.92it/s]\n",
      "100%|██████████| 313/313 [02:22<00:00,  2.20it/s]\n",
      "Training Loss: 0.4275\tValidation Loss: 0.2902\n",
      "Counter train preds: Counter({1: 2634, 2: 1745, 3: 1063, 4: 962, 0: 841, 5: 237})\tCounter val preds: Counter({1: 935, 2: 610, 3: 326, 4: 289, 0: 204, 5: 137})\n",
      "Epoch train QWK: 0.747\tval QWK: 0.761\n",
      "  Epoch 3 - Save Best Loss: 0.2902 Model\n",
      "  Epoch 3 - Save Best QWK: 0.7614 Model\n"
     ]
    },
    {
     "name": "stdout",
     "output_type": "stream",
     "text": [
      "Normalized confusion matrix\n",
      "[[0.26966292 0.60393258 0.10814607 0.01404494 0.00421348 0.        ]\n",
      " [0.01582278 0.59177215 0.35443038 0.03797468 0.         0.        ]\n",
      " [0.         0.2388535  0.51910828 0.18789809 0.05414013 0.        ]\n",
      " [0.         0.09059233 0.26829268 0.37979094 0.23344948 0.02787456]\n",
      " [0.00699301 0.07342657 0.18181818 0.25874126 0.37062937 0.10839161]\n",
      " [0.         0.03333333 0.06296296 0.18518519 0.35555556 0.36296296]]\n"
     ]
    },
    {
     "name": "stderr",
     "output_type": "stream",
     "text": [
      "Epoch 4/44\n",
      "==========\n"
     ]
    },
    {
     "name": "stdout",
     "output_type": "stream",
     "text": [
      "Normalized confusion matrix\n",
      "[[0.26966292 0.60393258 0.10814607 0.01404494 0.00421348 0.        ]\n",
      " [0.01582278 0.59177215 0.35443038 0.03797468 0.         0.        ]\n",
      " [0.         0.2388535  0.51910828 0.18789809 0.05414013 0.        ]\n",
      " [0.         0.09059233 0.26829268 0.37979094 0.23344948 0.02787456]\n",
      " [0.00699301 0.07342657 0.18181818 0.25874126 0.37062937 0.10839161]\n",
      " [0.         0.03333333 0.06296296 0.18518519 0.35555556 0.36296296]]\n"
     ]
    },
    {
     "name": "stderr",
     "output_type": "stream",
     "text": [
      " 47%|████▋     | 439/936 [03:52<04:17,  1.93it/s]"
     ]
    },
    {
     "name": "stdout",
     "output_type": "stream",
     "text": [
      "Gradient overflow.  Skipping step, loss scaler 0 reducing loss scale to 16384.0\n"
     ]
    },
    {
     "name": "stderr",
     "output_type": "stream",
     "text": [
      "100%|██████████| 936/936 [08:10<00:00,  1.91it/s]\n",
      "100%|██████████| 313/313 [02:22<00:00,  2.19it/s]\n",
      "Training Loss: 0.4245\tValidation Loss: 0.2646\n",
      "Counter train preds: Counter({1: 2596, 2: 1658, 3: 1106, 4: 976, 0: 899, 5: 247})\tCounter val preds: Counter({1: 767, 2: 568, 0: 441, 3: 377, 4: 273, 5: 75})\n",
      "Epoch train QWK: 0.747\tval QWK: 0.801\n",
      "  Epoch 4 - Save Best Loss: 0.2646 Model\n",
      "  Epoch 4 - Save Best QWK: 0.8010 Model\n"
     ]
    },
    {
     "name": "stdout",
     "output_type": "stream",
     "text": [
      "Normalized confusion matrix\n",
      "[[0.55617978 0.4002809  0.03511236 0.00702247 0.00140449 0.        ]\n",
      " [0.06012658 0.5806962  0.34335443 0.01582278 0.         0.        ]\n",
      " [0.00636943 0.20063694 0.60509554 0.17834395 0.00955414 0.        ]\n",
      " [0.00696864 0.09407666 0.22299652 0.52264808 0.14982578 0.00348432]\n",
      " [0.0034965  0.05244755 0.17482517 0.31818182 0.38811189 0.06293706]\n",
      " [0.00740741 0.03703704 0.08148148 0.24074074 0.42592593 0.20740741]]\n"
     ]
    },
    {
     "name": "stderr",
     "output_type": "stream",
     "text": [
      "Epoch 5/44\n",
      "==========\n"
     ]
    },
    {
     "name": "stdout",
     "output_type": "stream",
     "text": [
      "Normalized confusion matrix\n",
      "[[0.55617978 0.4002809  0.03511236 0.00702247 0.00140449 0.        ]\n",
      " [0.06012658 0.5806962  0.34335443 0.01582278 0.         0.        ]\n",
      " [0.00636943 0.20063694 0.60509554 0.17834395 0.00955414 0.        ]\n",
      " [0.00696864 0.09407666 0.22299652 0.52264808 0.14982578 0.00348432]\n",
      " [0.0034965  0.05244755 0.17482517 0.31818182 0.38811189 0.06293706]\n",
      " [0.00740741 0.03703704 0.08148148 0.24074074 0.42592593 0.20740741]]\n"
     ]
    },
    {
     "name": "stderr",
     "output_type": "stream",
     "text": [
      "100%|██████████| 936/936 [08:08<00:00,  1.92it/s]\n",
      "100%|██████████| 313/313 [02:22<00:00,  2.20it/s]\n",
      "Training Loss: 0.4008\tValidation Loss: 0.2985\n",
      "Counter train preds: Counter({1: 2505, 2: 1628, 3: 1064, 4: 1024, 0: 1019, 5: 242})\tCounter val preds: Counter({1: 884, 2: 480, 4: 327, 5: 310, 3: 263, 0: 237})\n",
      "Epoch train QWK: 0.773\tval QWK: 0.795\n",
      "Epoch 6/44\n",
      "==========\n",
      "100%|██████████| 936/936 [08:10<00:00,  1.91it/s]"
     ]
    },
    {
     "name": "stdout",
     "output_type": "stream",
     "text": [
      "Gradient overflow.  Skipping step, loss scaler 0 reducing loss scale to 16384.0\n"
     ]
    },
    {
     "name": "stderr",
     "output_type": "stream",
     "text": [
      "\n",
      "100%|██████████| 313/313 [02:22<00:00,  2.19it/s]\n",
      "Training Loss: 0.3879\tValidation Loss: 0.2979\n",
      "Counter train preds: Counter({1: 2520, 2: 1524, 4: 1085, 0: 1055, 3: 1052, 5: 246})\tCounter val preds: Counter({1: 1003, 2: 532, 3: 423, 4: 301, 0: 242})\n",
      "Epoch train QWK: 0.782\tval QWK: 0.758\n",
      "Epoch 7/44\n",
      "==========\n",
      "100%|██████████| 936/936 [08:10<00:00,  1.91it/s]\n",
      "100%|██████████| 313/313 [02:22<00:00,  2.20it/s]\n",
      "Training Loss: 0.3814\tValidation Loss: 0.2740\n",
      "Counter train preds: Counter({1: 2443, 2: 1555, 0: 1161, 4: 1048, 3: 996, 5: 279})\tCounter val preds: Counter({2: 681, 1: 659, 3: 445, 0: 419, 4: 286, 5: 11})\n",
      "Epoch train QWK: 0.796\tval QWK: 0.774\n",
      "Epoch 8/44\n",
      "==========\n",
      "100%|██████████| 936/936 [08:10<00:00,  1.91it/s]\n",
      "100%|██████████| 313/313 [02:22<00:00,  2.19it/s]\n",
      "Training Loss: 0.3718\tValidation Loss: 0.2755\n",
      "Counter train preds: Counter({1: 2405, 2: 1536, 0: 1186, 4: 1069, 3: 997, 5: 289})\tCounter val preds: Counter({1: 798, 2: 569, 0: 508, 3: 353, 4: 262, 5: 11})\n",
      "Epoch train QWK: 0.801\tval QWK: 0.777\n",
      "Epoch 9/44\n",
      "==========\n",
      " 73%|███████▎  | 679/936 [05:56<02:12,  1.94it/s]"
     ]
    },
    {
     "name": "stdout",
     "output_type": "stream",
     "text": [
      "Gradient overflow.  Skipping step, loss scaler 0 reducing loss scale to 16384.0\n"
     ]
    },
    {
     "name": "stderr",
     "output_type": "stream",
     "text": [
      "100%|██████████| 936/936 [08:12<00:00,  1.90it/s]\n",
      "100%|██████████| 313/313 [02:25<00:00,  2.16it/s]\n",
      "Training Loss: 0.3585\tValidation Loss: 0.2572\n",
      "Counter train preds: Counter({1: 2405, 2: 1438, 0: 1249, 4: 1042, 3: 1041, 5: 307})\tCounter val preds: Counter({2: 746, 1: 670, 0: 367, 3: 331, 4: 306, 5: 81})\n",
      "Epoch train QWK: 0.813\tval QWK: 0.793\n",
      "  Epoch 9 - Save Best Loss: 0.2572 Model\n",
      "Epoch 10/44\n",
      "==========\n"
     ]
    },
    {
     "name": "stdout",
     "output_type": "stream",
     "text": [
      "Normalized confusion matrix\n",
      "[[0.48033708 0.48455056 0.03370787 0.00140449 0.         0.        ]\n",
      " [0.0221519  0.38449367 0.58860759 0.00474684 0.         0.        ]\n",
      " [0.00636943 0.09235669 0.70382166 0.18471338 0.01273885 0.        ]\n",
      " [0.02439024 0.08013937 0.21254355 0.48083624 0.19512195 0.00696864]\n",
      " [0.         0.06293706 0.16783217 0.29370629 0.42657343 0.04895105]\n",
      " [0.00740741 0.04444444 0.07407407 0.17407407 0.45925926 0.24074074]]\n"
     ]
    },
    {
     "name": "stderr",
     "output_type": "stream",
     "text": [
      "100%|██████████| 936/936 [08:18<00:00,  1.88it/s]\n",
      "100%|██████████| 313/313 [02:22<00:00,  2.20it/s]\n",
      "Training Loss: 0.3419\tValidation Loss: 0.2704\n",
      "Counter train preds: Counter({1: 2262, 2: 1445, 0: 1395, 4: 1058, 3: 997, 5: 325})\tCounter val preds: Counter({1: 841, 2: 594, 4: 385, 3: 298, 0: 216, 5: 167})\n",
      "Epoch train QWK: 0.828\tval QWK: 0.813\n",
      "  Epoch 10 - Save Best QWK: 0.8132 Model\n",
      "Epoch 11/44\n",
      "==========\n"
     ]
    },
    {
     "name": "stdout",
     "output_type": "stream",
     "text": [
      "Normalized confusion matrix\n",
      "[[0.29213483 0.61516854 0.08567416 0.00280899 0.00421348 0.        ]\n",
      " [0.00791139 0.53322785 0.42721519 0.02848101 0.00316456 0.        ]\n",
      " [0.         0.11464968 0.57006369 0.25477707 0.06050955 0.        ]\n",
      " [0.00696864 0.05923345 0.1533101  0.33797909 0.41114983 0.03135889]\n",
      " [0.         0.02447552 0.08391608 0.25874126 0.5034965  0.12937063]\n",
      " [0.0037037  0.02222222 0.05925926 0.1        0.36666667 0.44814815]]\n"
     ]
    },
    {
     "name": "stderr",
     "output_type": "stream",
     "text": [
      "100%|██████████| 936/936 [08:10<00:00,  1.91it/s]\n",
      "100%|██████████| 313/313 [02:22<00:00,  2.19it/s]\n",
      "Training Loss: 0.3486\tValidation Loss: 0.2982\n",
      "Counter train preds: Counter({1: 2314, 2: 1435, 0: 1363, 4: 1082, 3: 976, 5: 312})\tCounter val preds: Counter({1: 1085, 0: 574, 2: 346, 3: 241, 4: 197, 5: 58})\n",
      "Epoch train QWK: 0.825\tval QWK: 0.767\n",
      "Epoch 12/44\n",
      "==========\n",
      " 37%|███▋      | 346/936 [03:04<05:10,  1.90it/s]"
     ]
    },
    {
     "name": "stdout",
     "output_type": "stream",
     "text": [
      "Gradient overflow.  Skipping step, loss scaler 0 reducing loss scale to 16384.0\n"
     ]
    },
    {
     "name": "stderr",
     "output_type": "stream",
     "text": [
      "100%|██████████| 936/936 [08:12<00:00,  1.90it/s]\n",
      "100%|██████████| 313/313 [02:23<00:00,  2.19it/s]\n",
      "Training Loss: 0.3371\tValidation Loss: 0.2775\n",
      "Counter train preds: Counter({1: 2274, 0: 1438, 2: 1385, 4: 1129, 3: 936, 5: 320})\tCounter val preds: Counter({1: 734, 2: 650, 4: 370, 3: 306, 5: 263, 0: 178})\n",
      "Epoch train QWK: 0.837\tval QWK: 0.796\n",
      "Epoch 13/44\n",
      "==========\n",
      "100%|██████████| 936/936 [08:09<00:00,  1.91it/s]\n",
      "100%|██████████| 313/313 [02:22<00:00,  2.20it/s]\n",
      "Training Loss: 0.3186\tValidation Loss: 0.2750\n",
      "Counter train preds: Counter({1: 2317, 0: 1451, 2: 1313, 4: 1111, 3: 922, 5: 368})\tCounter val preds: Counter({1: 819, 2: 632, 4: 425, 3: 418, 0: 105, 5: 102})\n",
      "Epoch train QWK: 0.851\tval QWK: 0.769\n",
      "Epoch 14/44\n",
      "==========\n",
      "100%|██████████| 936/936 [08:11<00:00,  1.91it/s]\n",
      "100%|██████████| 313/313 [02:22<00:00,  2.19it/s]\n",
      "Training Loss: 0.3165\tValidation Loss: 0.2263\n",
      "Counter train preds: Counter({1: 2225, 0: 1546, 2: 1299, 4: 1093, 3: 937, 5: 382})\tCounter val preds: Counter({1: 863, 0: 537, 2: 380, 4: 341, 3: 280, 5: 100})\n",
      "Epoch train QWK: 0.858\tval QWK: 0.845\n",
      "  Epoch 14 - Save Best Loss: 0.2263 Model\n",
      "  Epoch 14 - Save Best QWK: 0.8454 Model\n"
     ]
    },
    {
     "name": "stdout",
     "output_type": "stream",
     "text": [
      "Normalized confusion matrix\n",
      "[[0.6994382  0.2738764  0.0252809  0.00140449 0.         0.        ]\n",
      " [0.04588608 0.79746835 0.14556962 0.01107595 0.         0.        ]\n",
      " [0.01273885 0.34713376 0.47770701 0.1433121  0.01910828 0.        ]\n",
      " [0.0174216  0.08362369 0.22299652 0.42160279 0.24390244 0.01045296]\n",
      " [0.         0.06293706 0.13286713 0.24825175 0.5034965  0.05244755]\n",
      " [0.0037037  0.04814815 0.06666667 0.12962963 0.44814815 0.3037037 ]]\n"
     ]
    },
    {
     "name": "stderr",
     "output_type": "stream",
     "text": [
      "Epoch 15/44\n",
      "==========\n"
     ]
    },
    {
     "name": "stdout",
     "output_type": "stream",
     "text": [
      "Normalized confusion matrix\n",
      "[[0.6994382  0.2738764  0.0252809  0.00140449 0.         0.        ]\n",
      " [0.04588608 0.79746835 0.14556962 0.01107595 0.         0.        ]\n",
      " [0.01273885 0.34713376 0.47770701 0.1433121  0.01910828 0.        ]\n",
      " [0.0174216  0.08362369 0.22299652 0.42160279 0.24390244 0.01045296]\n",
      " [0.         0.06293706 0.13286713 0.24825175 0.5034965  0.05244755]\n",
      " [0.0037037  0.04814815 0.06666667 0.12962963 0.44814815 0.3037037 ]]\n"
     ]
    },
    {
     "name": "stderr",
     "output_type": "stream",
     "text": [
      "100%|██████████| 936/936 [08:37<00:00,  1.81it/s]\n"
     ]
    },
    {
     "name": "stdout",
     "output_type": "stream",
     "text": [
      "Gradient overflow.  Skipping step, loss scaler 0 reducing loss scale to 16384.0\n"
     ]
    },
    {
     "name": "stderr",
     "output_type": "stream",
     "text": [
      "100%|██████████| 313/313 [02:29<00:00,  2.09it/s]\n",
      "Training Loss: 0.3021\tValidation Loss: 0.2408\n",
      "Counter train preds: Counter({1: 2226, 0: 1590, 2: 1246, 4: 1119, 3: 912, 5: 389})\tCounter val preds: Counter({1: 716, 2: 507, 4: 465, 0: 411, 3: 296, 5: 106})\n",
      "Epoch train QWK: 0.864\tval QWK: 0.834\n",
      "Epoch 16/44\n",
      "==========\n",
      "100%|██████████| 936/936 [09:01<00:00,  1.73it/s]\n",
      "100%|██████████| 313/313 [02:33<00:00,  2.04it/s]\n",
      "Training Loss: 0.2976\tValidation Loss: 0.2265\n",
      "Counter train preds: Counter({1: 2208, 0: 1648, 2: 1222, 4: 1168, 3: 839, 5: 397})\tCounter val preds: Counter({1: 671, 0: 600, 2: 432, 4: 324, 3: 321, 5: 153})\n",
      "Epoch train QWK: 0.871\tval QWK: 0.854\n",
      "  Epoch 16 - Save Best QWK: 0.8541 Model\n",
      "Epoch 17/44\n",
      "==========\n"
     ]
    },
    {
     "name": "stdout",
     "output_type": "stream",
     "text": [
      "Normalized confusion matrix\n",
      "[[0.76264045 0.20365169 0.02668539 0.00702247 0.         0.        ]\n",
      " [0.06170886 0.65348101 0.27056962 0.01424051 0.         0.        ]\n",
      " [0.01273885 0.2133758  0.52547771 0.2133758  0.03184713 0.00318471]\n",
      " [0.02439024 0.08362369 0.1533101  0.45644599 0.26132404 0.02090592]\n",
      " [0.01398601 0.04895105 0.08041958 0.26223776 0.47552448 0.11888112]\n",
      " [0.01111111 0.02962963 0.03703704 0.12592593 0.38148148 0.41481481]]\n"
     ]
    },
    {
     "name": "stderr",
     "output_type": "stream",
     "text": [
      "100%|██████████| 936/936 [08:20<00:00,  1.87it/s]\n",
      "100%|██████████| 313/313 [02:25<00:00,  2.15it/s]\n",
      "Training Loss: 0.2850\tValidation Loss: 0.2197\n",
      "Counter train preds: Counter({1: 2175, 0: 1687, 2: 1198, 4: 1141, 3: 871, 5: 410})\tCounter val preds: Counter({1: 758, 0: 479, 2: 436, 4: 356, 3: 353, 5: 119})\n",
      "Epoch train QWK: 0.878\tval QWK: 0.855\n",
      "  Epoch 17 - Save Best Loss: 0.2197 Model\n",
      "  Epoch 17 - Save Best QWK: 0.8554 Model\n"
     ]
    },
    {
     "name": "stdout",
     "output_type": "stream",
     "text": [
      "Normalized confusion matrix\n",
      "[[0.63764045 0.32303371 0.03511236 0.00280899 0.00140449 0.        ]\n",
      " [0.02531646 0.67721519 0.27689873 0.02056962 0.         0.        ]\n",
      " [0.00636943 0.18152866 0.53503185 0.25477707 0.02229299 0.        ]\n",
      " [0.01045296 0.08013937 0.13937282 0.51567944 0.24390244 0.01045296]\n",
      " [0.01048951 0.03496503 0.07692308 0.25524476 0.55244755 0.06993007]\n",
      " [0.0037037  0.03703704 0.02222222 0.13703704 0.44444444 0.35555556]]\n"
     ]
    },
    {
     "name": "stderr",
     "output_type": "stream",
     "text": [
      "Epoch 18/44\n",
      "==========\n"
     ]
    },
    {
     "name": "stdout",
     "output_type": "stream",
     "text": [
      "Normalized confusion matrix\n",
      "[[0.63764045 0.32303371 0.03511236 0.00280899 0.00140449 0.        ]\n",
      " [0.02531646 0.67721519 0.27689873 0.02056962 0.         0.        ]\n",
      " [0.00636943 0.18152866 0.53503185 0.25477707 0.02229299 0.        ]\n",
      " [0.01045296 0.08013937 0.13937282 0.51567944 0.24390244 0.01045296]\n",
      " [0.01048951 0.03496503 0.07692308 0.25524476 0.55244755 0.06993007]\n",
      " [0.0037037  0.03703704 0.02222222 0.13703704 0.44444444 0.35555556]]\n"
     ]
    },
    {
     "name": "stderr",
     "output_type": "stream",
     "text": [
      "100%|██████████| 936/936 [08:11<00:00,  1.90it/s]\n",
      "100%|██████████| 313/313 [02:26<00:00,  2.14it/s]\n",
      "Training Loss: 0.2735\tValidation Loss: 0.2247\n",
      "Counter train preds: Counter({1: 2119, 0: 1727, 2: 1204, 4: 1110, 3: 886, 5: 436})\tCounter val preds: Counter({1: 666, 0: 641, 4: 437, 2: 286, 3: 244, 5: 227})\n",
      "Epoch train QWK: 0.885\tval QWK: 0.870\n",
      "  Epoch 18 - Save Best QWK: 0.8696 Model\n",
      "Epoch 19/44\n",
      "==========\n"
     ]
    },
    {
     "name": "stdout",
     "output_type": "stream",
     "text": [
      "Normalized confusion matrix\n",
      "[[0.81601124 0.16713483 0.01123596 0.00561798 0.         0.        ]\n",
      " [0.0585443  0.71518987 0.17879747 0.04746835 0.         0.        ]\n",
      " [0.01592357 0.19745223 0.36942675 0.28980892 0.11464968 0.01273885]\n",
      " [0.03832753 0.05574913 0.08013937 0.26132404 0.50522648 0.05923345]\n",
      " [0.01748252 0.03496503 0.06293706 0.10839161 0.60839161 0.16783217]\n",
      " [0.00740741 0.02592593 0.02962963 0.04814815 0.3037037  0.58518519]]\n"
     ]
    },
    {
     "name": "stderr",
     "output_type": "stream",
     "text": [
      "100%|██████████| 936/936 [08:12<00:00,  1.90it/s]\n",
      "100%|██████████| 313/313 [02:25<00:00,  2.15it/s]\n",
      "Training Loss: 0.2701\tValidation Loss: 0.2203\n",
      "Counter train preds: Counter({1: 2105, 0: 1777, 2: 1141, 4: 1125, 3: 892, 5: 442})\tCounter val preds: Counter({1: 735, 0: 676, 2: 376, 4: 302, 3: 276, 5: 136})\n",
      "Epoch train QWK: 0.889\tval QWK: 0.858\n",
      "Epoch 20/44\n",
      "==========\n",
      " 28%|██▊       | 262/936 [02:20<05:47,  1.94it/s]"
     ]
    },
    {
     "name": "stdout",
     "output_type": "stream",
     "text": [
      "Gradient overflow.  Skipping step, loss scaler 0 reducing loss scale to 32768.0\n"
     ]
    },
    {
     "name": "stderr",
     "output_type": "stream",
     "text": [
      "100%|██████████| 936/936 [08:12<00:00,  1.90it/s]"
     ]
    },
    {
     "name": "stdout",
     "output_type": "stream",
     "text": [
      "Gradient overflow.  Skipping step, loss scaler 0 reducing loss scale to 16384.0\n"
     ]
    },
    {
     "name": "stderr",
     "output_type": "stream",
     "text": [
      "\n",
      "100%|██████████| 313/313 [02:25<00:00,  2.16it/s]\n",
      "Training Loss: 0.2566\tValidation Loss: 0.2299\n",
      "Counter train preds: Counter({1: 2064, 0: 1856, 4: 1154, 2: 1115, 3: 840, 5: 453})\tCounter val preds: Counter({1: 902, 0: 584, 4: 309, 2: 303, 3: 250, 5: 153})\n",
      "Epoch train QWK: 0.901\tval QWK: 0.857\n",
      "Epoch 21/44\n",
      "==========\n",
      "100%|██████████| 936/936 [08:10<00:00,  1.91it/s]\n",
      "100%|██████████| 313/313 [02:25<00:00,  2.15it/s]\n",
      "Training Loss: 0.2460\tValidation Loss: 0.2123\n",
      "Counter train preds: Counter({1: 2068, 0: 1851, 4: 1126, 2: 1104, 3: 856, 5: 477})\tCounter val preds: Counter({1: 818, 0: 618, 2: 297, 4: 292, 5: 243, 3: 233})\n",
      "Epoch train QWK: 0.906\tval QWK: 0.872\n",
      "  Epoch 21 - Save Best Loss: 0.2123 Model\n",
      "  Epoch 21 - Save Best QWK: 0.8716 Model\n"
     ]
    },
    {
     "name": "stdout",
     "output_type": "stream",
     "text": [
      "Normalized confusion matrix\n",
      "[[0.78792135 0.18539326 0.01966292 0.00561798 0.00140449 0.        ]\n",
      " [0.06170886 0.81803797 0.10126582 0.01582278 0.00316456 0.        ]\n",
      " [0.01273885 0.39808917 0.41082803 0.13694268 0.03821656 0.00318471]\n",
      " [0.03135889 0.06620209 0.19163763 0.39721254 0.27526132 0.03832753]\n",
      " [0.01048951 0.05594406 0.08041958 0.16083916 0.46153846 0.23076923]\n",
      " [0.00740741 0.03333333 0.04444444 0.05925926 0.24444444 0.61111111]]\n"
     ]
    },
    {
     "name": "stderr",
     "output_type": "stream",
     "text": [
      "Epoch 22/44\n",
      "==========\n"
     ]
    },
    {
     "name": "stdout",
     "output_type": "stream",
     "text": [
      "Normalized confusion matrix\n",
      "[[0.78792135 0.18539326 0.01966292 0.00561798 0.00140449 0.        ]\n",
      " [0.06170886 0.81803797 0.10126582 0.01582278 0.00316456 0.        ]\n",
      " [0.01273885 0.39808917 0.41082803 0.13694268 0.03821656 0.00318471]\n",
      " [0.03135889 0.06620209 0.19163763 0.39721254 0.27526132 0.03832753]\n",
      " [0.01048951 0.05594406 0.08041958 0.16083916 0.46153846 0.23076923]\n",
      " [0.00740741 0.03333333 0.04444444 0.05925926 0.24444444 0.61111111]]\n"
     ]
    },
    {
     "name": "stderr",
     "output_type": "stream",
     "text": [
      "100%|██████████| 936/936 [08:13<00:00,  1.90it/s]\n",
      "100%|██████████| 313/313 [02:24<00:00,  2.16it/s]\n",
      "Training Loss: 0.2364\tValidation Loss: 0.2100\n",
      "Counter train preds: Counter({1: 2066, 0: 1889, 4: 1133, 2: 1052, 3: 856, 5: 486})\tCounter val preds: Counter({1: 768, 0: 681, 4: 318, 2: 264, 3: 258, 5: 212})\n",
      "Epoch train QWK: 0.913\tval QWK: 0.875\n",
      "  Epoch 22 - Save Best Loss: 0.2100 Model\n",
      "  Epoch 22 - Save Best QWK: 0.8748 Model\n"
     ]
    },
    {
     "name": "stdout",
     "output_type": "stream",
     "text": [
      "Normalized confusion matrix\n",
      "[[0.85252809 0.13483146 0.01123596 0.00140449 0.         0.        ]\n",
      " [0.07594937 0.81962025 0.09018987 0.01424051 0.         0.        ]\n",
      " [0.01273885 0.36624204 0.38853503 0.18789809 0.04140127 0.00318471]\n",
      " [0.03832753 0.08013937 0.1358885  0.40418118 0.29965157 0.04181185]\n",
      " [0.02097902 0.03846154 0.08391608 0.1993007  0.48951049 0.16783217]\n",
      " [0.01851852 0.01851852 0.05185185 0.05925926 0.29259259 0.55925926]]\n"
     ]
    },
    {
     "name": "stderr",
     "output_type": "stream",
     "text": [
      "Epoch 23/44\n",
      "==========\n"
     ]
    },
    {
     "name": "stdout",
     "output_type": "stream",
     "text": [
      "Normalized confusion matrix\n",
      "[[0.85252809 0.13483146 0.01123596 0.00140449 0.         0.        ]\n",
      " [0.07594937 0.81962025 0.09018987 0.01424051 0.         0.        ]\n",
      " [0.01273885 0.36624204 0.38853503 0.18789809 0.04140127 0.00318471]\n",
      " [0.03832753 0.08013937 0.1358885  0.40418118 0.29965157 0.04181185]\n",
      " [0.02097902 0.03846154 0.08391608 0.1993007  0.48951049 0.16783217]\n",
      " [0.01851852 0.01851852 0.05185185 0.05925926 0.29259259 0.55925926]]\n"
     ]
    },
    {
     "name": "stderr",
     "output_type": "stream",
     "text": [
      "100%|██████████| 936/936 [08:12<00:00,  1.90it/s]\n",
      "100%|██████████| 313/313 [02:25<00:00,  2.16it/s]\n",
      "Training Loss: 0.2339\tValidation Loss: 0.2235\n",
      "Counter train preds: Counter({1: 2060, 0: 1906, 4: 1110, 2: 1067, 3: 826, 5: 513})\tCounter val preds: Counter({0: 659, 1: 584, 2: 366, 4: 342, 3: 278, 5: 272})\n",
      "Epoch train QWK: 0.914\tval QWK: 0.876\n",
      "  Epoch 23 - Save Best QWK: 0.8760 Model\n",
      "Epoch 24/44\n",
      "==========\n"
     ]
    },
    {
     "name": "stdout",
     "output_type": "stream",
     "text": [
      "Normalized confusion matrix\n",
      "[[0.83707865 0.14466292 0.01123596 0.00702247 0.         0.        ]\n",
      " [0.06170886 0.63924051 0.25791139 0.03481013 0.00632911 0.        ]\n",
      " [0.01273885 0.15923567 0.46496815 0.29936306 0.05414013 0.00955414]\n",
      " [0.03832753 0.04878049 0.08710801 0.36933798 0.40418118 0.05226481]\n",
      " [0.01748252 0.02797203 0.06643357 0.13286713 0.46853147 0.28671329]\n",
      " [0.01481481 0.01851852 0.01851852 0.04814815 0.26296296 0.63703704]]\n"
     ]
    },
    {
     "name": "stderr",
     "output_type": "stream",
     "text": [
      " 88%|████████▊ | 824/936 [07:15<00:57,  1.94it/s]"
     ]
    },
    {
     "name": "stdout",
     "output_type": "stream",
     "text": [
      "Gradient overflow.  Skipping step, loss scaler 0 reducing loss scale to 16384.0\n"
     ]
    },
    {
     "name": "stderr",
     "output_type": "stream",
     "text": [
      "100%|██████████| 936/936 [08:12<00:00,  1.90it/s]\n",
      "100%|██████████| 313/313 [02:24<00:00,  2.16it/s]\n",
      "Training Loss: 0.2169\tValidation Loss: 0.2239\n",
      "Counter train preds: Counter({1: 2034, 0: 1940, 4: 1107, 2: 1021, 3: 852, 5: 528})\tCounter val preds: Counter({1: 761, 0: 569, 2: 436, 3: 357, 4: 317, 5: 61})\n",
      "Epoch train QWK: 0.926\tval QWK: 0.851\n",
      "Epoch 25/44\n",
      "==========\n",
      "100%|██████████| 936/936 [08:11<00:00,  1.90it/s]\n",
      "100%|██████████| 313/313 [02:25<00:00,  2.15it/s]\n",
      "Training Loss: 0.2095\tValidation Loss: 0.2188\n",
      "Counter train preds: Counter({0: 1985, 1: 1979, 4: 1101, 2: 1034, 3: 847, 5: 536})\tCounter val preds: Counter({0: 744, 1: 588, 2: 359, 4: 354, 3: 235, 5: 221})\n",
      "Epoch train QWK: 0.926\tval QWK: 0.871\n",
      "Epoch 26/44\n",
      "==========\n",
      "100%|██████████| 936/936 [08:14<00:00,  1.89it/s]\n",
      "100%|██████████| 313/313 [02:25<00:00,  2.15it/s]\n",
      "Training Loss: 0.2029\tValidation Loss: 0.2164\n",
      "Counter train preds: Counter({1: 2033, 0: 1970, 4: 1075, 2: 1006, 3: 834, 5: 564})\tCounter val preds: Counter({0: 653, 1: 605, 4: 411, 2: 360, 5: 248, 3: 224})\n",
      "Epoch train QWK: 0.934\tval QWK: 0.879\n",
      "  Epoch 26 - Save Best QWK: 0.8791 Model\n",
      "Epoch 27/44\n",
      "==========\n"
     ]
    },
    {
     "name": "stdout",
     "output_type": "stream",
     "text": [
      "Normalized confusion matrix\n",
      "[[0.83146067 0.14185393 0.02247191 0.00421348 0.         0.        ]\n",
      " [0.06329114 0.67088608 0.22626582 0.03322785 0.00632911 0.        ]\n",
      " [0.01592357 0.17515924 0.47133758 0.23566879 0.08598726 0.01592357]\n",
      " [0.03832753 0.04529617 0.09407666 0.28222997 0.48780488 0.05226481]\n",
      " [0.01398601 0.01748252 0.08041958 0.1048951  0.56993007 0.21328671]\n",
      " [0.0037037  0.02592593 0.01111111 0.05555556 0.28518519 0.61851852]]\n"
     ]
    },
    {
     "name": "stderr",
     "output_type": "stream",
     "text": [
      "100%|██████████| 936/936 [08:12<00:00,  1.90it/s]"
     ]
    },
    {
     "name": "stdout",
     "output_type": "stream",
     "text": [
      "Gradient overflow.  Skipping step, loss scaler 0 reducing loss scale to 16384.0\n"
     ]
    },
    {
     "name": "stderr",
     "output_type": "stream",
     "text": [
      "\n",
      "100%|██████████| 313/313 [02:25<00:00,  2.15it/s]\n",
      "Training Loss: 0.1918\tValidation Loss: 0.2164\n",
      "Counter train preds: Counter({0: 2028, 1: 1956, 4: 1062, 2: 1015, 3: 827, 5: 594})\tCounter val preds: Counter({1: 761, 0: 678, 4: 369, 2: 306, 3: 284, 5: 103})\n",
      "Epoch train QWK: 0.938\tval QWK: 0.870\n",
      "Epoch 28/44\n",
      "==========\n",
      "100%|██████████| 936/936 [08:12<00:00,  1.90it/s]\n",
      "100%|██████████| 313/313 [02:25<00:00,  2.15it/s]\n",
      "Training Loss: 0.1806\tValidation Loss: 0.2037\n",
      "Counter train preds: Counter({0: 2035, 1: 1962, 4: 1078, 2: 995, 3: 829, 5: 583})\tCounter val preds: Counter({1: 761, 0: 676, 4: 363, 3: 296, 2: 247, 5: 158})\n",
      "Epoch train QWK: 0.944\tval QWK: 0.887\n",
      "  Epoch 28 - Save Best Loss: 0.2037 Model\n",
      "  Epoch 28 - Save Best QWK: 0.8865 Model\n"
     ]
    },
    {
     "name": "stdout",
     "output_type": "stream",
     "text": [
      "Normalized confusion matrix\n",
      "[[0.86657303 0.11797753 0.00842697 0.00702247 0.         0.        ]\n",
      " [0.0585443  0.8306962  0.09018987 0.01898734 0.00158228 0.        ]\n",
      " [0.01592357 0.38535032 0.37261146 0.18789809 0.03503185 0.00318471]\n",
      " [0.03832753 0.07317073 0.1184669  0.48780488 0.271777   0.01045296]\n",
      " [0.01398601 0.02447552 0.08041958 0.18881119 0.58741259 0.1048951 ]\n",
      " [0.00740741 0.01111111 0.03703704 0.0962963  0.38888889 0.45925926]]\n"
     ]
    },
    {
     "name": "stderr",
     "output_type": "stream",
     "text": [
      "Epoch 29/44\n",
      "==========\n"
     ]
    },
    {
     "name": "stdout",
     "output_type": "stream",
     "text": [
      "Normalized confusion matrix\n",
      "[[0.86657303 0.11797753 0.00842697 0.00702247 0.         0.        ]\n",
      " [0.0585443  0.8306962  0.09018987 0.01898734 0.00158228 0.        ]\n",
      " [0.01592357 0.38535032 0.37261146 0.18789809 0.03503185 0.00318471]\n",
      " [0.03832753 0.07317073 0.1184669  0.48780488 0.271777   0.01045296]\n",
      " [0.01398601 0.02447552 0.08041958 0.18881119 0.58741259 0.1048951 ]\n",
      " [0.00740741 0.01111111 0.03703704 0.0962963  0.38888889 0.45925926]]\n"
     ]
    },
    {
     "name": "stderr",
     "output_type": "stream",
     "text": [
      "100%|██████████| 936/936 [08:11<00:00,  1.91it/s]\n",
      "100%|██████████| 313/313 [02:25<00:00,  2.16it/s]\n",
      "Training Loss: 0.1791\tValidation Loss: 0.2081\n",
      "Counter train preds: Counter({0: 2031, 1: 1992, 4: 1047, 2: 971, 3: 820, 5: 621})\tCounter val preds: Counter({0: 624, 1: 588, 2: 421, 4: 411, 3: 300, 5: 157})\n",
      "Epoch train QWK: 0.944\tval QWK: 0.883\n",
      "Epoch 30/44\n",
      "==========\n",
      "100%|██████████| 936/936 [08:12<00:00,  1.90it/s]\n",
      "100%|██████████| 313/313 [02:25<00:00,  2.15it/s]\n",
      "Training Loss: 0.1671\tValidation Loss: 0.2033\n",
      "Counter train preds: Counter({0: 2067, 1: 1940, 4: 1045, 2: 987, 3: 831, 5: 612})\tCounter val preds: Counter({0: 726, 1: 649, 4: 329, 2: 324, 3: 259, 5: 214})\n",
      "Epoch train QWK: 0.950\tval QWK: 0.885\n",
      "  Epoch 30 - Save Best Loss: 0.2033 Model\n",
      "Epoch 31/44\n",
      "==========\n"
     ]
    },
    {
     "name": "stdout",
     "output_type": "stream",
     "text": [
      "Normalized confusion matrix\n",
      "[[0.91151685 0.0758427  0.01123596 0.         0.00140449 0.        ]\n",
      " [0.07278481 0.76265823 0.14240506 0.02056962 0.00158228 0.        ]\n",
      " [0.02229299 0.27388535 0.49044586 0.15923567 0.04458599 0.00955414]\n",
      " [0.04878049 0.04181185 0.15679443 0.43902439 0.29616725 0.0174216 ]\n",
      " [0.02447552 0.02097902 0.07692308 0.18881119 0.51748252 0.17132867]\n",
      " [0.01111111 0.03333333 0.01851852 0.05925926 0.2962963  0.58148148]]\n"
     ]
    },
    {
     "name": "stderr",
     "output_type": "stream",
     "text": [
      "100%|██████████| 936/936 [08:11<00:00,  1.91it/s]\n",
      "100%|██████████| 313/313 [02:25<00:00,  2.15it/s]\n",
      "Training Loss: 0.1586\tValidation Loss: 0.2113\n",
      "Counter train preds: Counter({0: 2077, 1: 1934, 4: 1034, 2: 977, 3: 820, 5: 640})\tCounter val preds: Counter({0: 668, 1: 619, 4: 398, 2: 352, 3: 319, 5: 145})\n",
      "Epoch train QWK: 0.954\tval QWK: 0.880\n",
      "Epoch 32/44\n",
      "==========\n",
      " 31%|███       | 291/936 [02:35<05:30,  1.95it/s]"
     ]
    },
    {
     "name": "stdout",
     "output_type": "stream",
     "text": [
      "Gradient overflow.  Skipping step, loss scaler 0 reducing loss scale to 32768.0\n"
     ]
    },
    {
     "name": "stderr",
     "output_type": "stream",
     "text": [
      "100%|██████████| 936/936 [08:11<00:00,  1.90it/s]\n",
      "100%|██████████| 313/313 [02:25<00:00,  2.14it/s]\n",
      "Training Loss: 0.1533\tValidation Loss: 0.2124\n",
      "Counter train preds: Counter({0: 2096, 1: 1933, 4: 1034, 2: 969, 3: 797, 5: 653})\tCounter val preds: Counter({1: 660, 0: 640, 2: 390, 4: 313, 3: 288, 5: 210})\n",
      "Epoch train QWK: 0.956\tval QWK: 0.882\n",
      "Epoch 33/44\n",
      "==========\n",
      "100%|██████████| 936/936 [08:11<00:00,  1.91it/s]\n",
      "100%|██████████| 313/313 [02:26<00:00,  2.14it/s]\n",
      "Training Loss: 0.1435\tValidation Loss: 0.2093\n",
      "Counter train preds: Counter({0: 2093, 1: 1950, 4: 1021, 2: 950, 3: 810, 5: 658})\tCounter val preds: Counter({0: 691, 1: 610, 2: 348, 4: 347, 3: 328, 5: 177})\n",
      "Epoch train QWK: 0.960\tval QWK: 0.883\n",
      "Epoch 34/44\n",
      "==========\n",
      " 45%|████▌     | 422/936 [03:43<04:23,  1.95it/s]"
     ]
    },
    {
     "name": "stdout",
     "output_type": "stream",
     "text": [
      "Gradient overflow.  Skipping step, loss scaler 0 reducing loss scale to 32768.0\n"
     ]
    },
    {
     "name": "stderr",
     "output_type": "stream",
     "text": [
      "100%|██████████| 936/936 [08:11<00:00,  1.90it/s]\n",
      "100%|██████████| 313/313 [02:25<00:00,  2.15it/s]\n",
      "Training Loss: 0.1399\tValidation Loss: 0.2114\n",
      "Counter train preds: Counter({0: 2101, 1: 1940, 4: 1005, 2: 950, 3: 806, 5: 680})\tCounter val preds: Counter({1: 695, 0: 692, 4: 326, 3: 320, 2: 299, 5: 169})\n",
      "Epoch train QWK: 0.961\tval QWK: 0.885\n",
      "Epoch 35/44\n",
      "==========\n",
      "100%|██████████| 936/936 [08:11<00:00,  1.90it/s]\n",
      "100%|██████████| 313/313 [02:25<00:00,  2.15it/s]\n",
      "Training Loss: 0.1331\tValidation Loss: 0.2102\n",
      "Counter train preds: Counter({0: 2091, 1: 1925, 2: 972, 4: 964, 3: 835, 5: 695})\tCounter val preds: Counter({0: 717, 1: 705, 4: 347, 2: 275, 3: 258, 5: 199})\n",
      "Epoch train QWK: 0.964\tval QWK: 0.888\n",
      "  Epoch 35 - Save Best QWK: 0.8877 Model\n",
      "Epoch 36/44\n",
      "==========\n"
     ]
    },
    {
     "name": "stdout",
     "output_type": "stream",
     "text": [
      "Normalized confusion matrix\n",
      "[[0.90589888 0.08005618 0.01123596 0.00280899 0.         0.        ]\n",
      " [0.07753165 0.79746835 0.1028481  0.01898734 0.00316456 0.        ]\n",
      " [0.01910828 0.33757962 0.42993631 0.1656051  0.03821656 0.00955414]\n",
      " [0.03484321 0.07317073 0.1358885  0.44947735 0.29268293 0.01393728]\n",
      " [0.01398601 0.03496503 0.06993007 0.15734266 0.58041958 0.14335664]\n",
      " [0.01111111 0.02592593 0.02962963 0.06666667 0.30740741 0.55925926]]\n"
     ]
    },
    {
     "name": "stderr",
     "output_type": "stream",
     "text": [
      " 61%|██████▏   | 574/936 [05:03<03:07,  1.93it/s]"
     ]
    },
    {
     "name": "stdout",
     "output_type": "stream",
     "text": [
      "Gradient overflow.  Skipping step, loss scaler 0 reducing loss scale to 32768.0\n"
     ]
    },
    {
     "name": "stderr",
     "output_type": "stream",
     "text": [
      "100%|██████████| 936/936 [08:13<00:00,  1.90it/s]\n",
      "100%|██████████| 313/313 [02:25<00:00,  2.15it/s]\n",
      "Training Loss: 0.1279\tValidation Loss: 0.2145\n",
      "Counter train preds: Counter({0: 2117, 1: 1923, 4: 991, 2: 938, 3: 821, 5: 692})\tCounter val preds: Counter({1: 752, 0: 689, 3: 297, 2: 297, 4: 277, 5: 189})\n",
      "Epoch train QWK: 0.966\tval QWK: 0.884\n",
      "Epoch 37/44\n",
      "==========\n",
      "100%|██████████| 936/936 [08:11<00:00,  1.90it/s]\n",
      "100%|██████████| 313/313 [02:25<00:00,  2.15it/s]\n",
      "Training Loss: 0.1238\tValidation Loss: 0.2112\n",
      "Counter train preds: Counter({0: 2137, 1: 1926, 4: 986, 2: 907, 3: 833, 5: 693})\tCounter val preds: Counter({0: 681, 1: 638, 4: 340, 2: 336, 3: 286, 5: 220})\n",
      "Epoch train QWK: 0.969\tval QWK: 0.888\n",
      "  Epoch 37 - Save Best QWK: 0.8882 Model\n",
      "Epoch 38/44\n",
      "==========\n"
     ]
    },
    {
     "name": "stdout",
     "output_type": "stream",
     "text": [
      "Normalized confusion matrix\n",
      "[[0.86797753 0.11376404 0.01264045 0.00561798 0.         0.        ]\n",
      " [0.0664557  0.7278481  0.17879747 0.0221519  0.00474684 0.        ]\n",
      " [0.00955414 0.22611465 0.49363057 0.21974522 0.03821656 0.01273885]\n",
      " [0.03832753 0.05226481 0.11498258 0.4738676  0.29268293 0.02787456]\n",
      " [0.01398601 0.02097902 0.06643357 0.16083916 0.56643357 0.17132867]\n",
      " [0.01111111 0.01851852 0.02592593 0.06296296 0.29259259 0.58888889]]\n"
     ]
    },
    {
     "name": "stderr",
     "output_type": "stream",
     "text": [
      " 79%|███████▉  | 744/936 [06:32<01:38,  1.94it/s]"
     ]
    },
    {
     "name": "stdout",
     "output_type": "stream",
     "text": [
      "Gradient overflow.  Skipping step, loss scaler 0 reducing loss scale to 32768.0\n"
     ]
    },
    {
     "name": "stderr",
     "output_type": "stream",
     "text": [
      "100%|██████████| 936/936 [08:12<00:00,  1.90it/s]"
     ]
    },
    {
     "name": "stdout",
     "output_type": "stream",
     "text": [
      "Gradient overflow.  Skipping step, loss scaler 0 reducing loss scale to 16384.0\n"
     ]
    },
    {
     "name": "stderr",
     "output_type": "stream",
     "text": [
      "\n",
      "100%|██████████| 313/313 [02:25<00:00,  2.15it/s]\n",
      "Training Loss: 0.1185\tValidation Loss: 0.2091\n",
      "Counter train preds: Counter({0: 2112, 1: 1916, 4: 969, 2: 961, 3: 807, 5: 717})\tCounter val preds: Counter({0: 691, 1: 675, 4: 343, 2: 329, 3: 276, 5: 187})\n",
      "Epoch train QWK: 0.969\tval QWK: 0.891\n",
      "  Epoch 38 - Save Best QWK: 0.8905 Model\n",
      "Epoch 39/44\n",
      "==========\n"
     ]
    },
    {
     "name": "stdout",
     "output_type": "stream",
     "text": [
      "Normalized confusion matrix\n",
      "[[0.88483146 0.09691011 0.01544944 0.00280899 0.         0.        ]\n",
      " [0.06487342 0.77373418 0.13924051 0.01898734 0.00316456 0.        ]\n",
      " [0.00955414 0.27388535 0.51910828 0.15605096 0.03821656 0.00318471]\n",
      " [0.03484321 0.06271777 0.14285714 0.47735192 0.271777   0.01045296]\n",
      " [0.01398601 0.02797203 0.06643357 0.18181818 0.57342657 0.13636364]\n",
      " [0.01111111 0.01851852 0.02592593 0.08888889 0.32222222 0.53333333]]\n"
     ]
    },
    {
     "name": "stderr",
     "output_type": "stream",
     "text": [
      "100%|██████████| 936/936 [08:13<00:00,  1.90it/s]\n",
      "100%|██████████| 313/313 [02:25<00:00,  2.16it/s]\n",
      "Training Loss: 0.1186\tValidation Loss: 0.2093\n",
      "Counter train preds: Counter({0: 2127, 1: 1910, 4: 983, 2: 947, 3: 816, 5: 699})\tCounter val preds: Counter({1: 688, 0: 670, 4: 327, 2: 317, 3: 289, 5: 210})\n",
      "Epoch train QWK: 0.970\tval QWK: 0.890\n",
      "Epoch 40/44\n",
      "==========\n",
      "100%|██████████| 936/936 [08:12<00:00,  1.90it/s]\n",
      "100%|██████████| 313/313 [02:25<00:00,  2.16it/s]\n",
      "Training Loss: 0.1120\tValidation Loss: 0.2185\n",
      "Counter train preds: Counter({0: 2128, 1: 1915, 4: 962, 2: 934, 3: 819, 5: 724})\tCounter val preds: Counter({1: 707, 0: 683, 2: 332, 3: 307, 4: 297, 5: 175})\n",
      "Epoch train QWK: 0.972\tval QWK: 0.887\n",
      "Epoch 41/44\n",
      "==========\n",
      "100%|██████████| 936/936 [08:11<00:00,  1.90it/s]\n",
      "100%|██████████| 313/313 [02:25<00:00,  2.15it/s]\n",
      "Training Loss: 0.1119\tValidation Loss: 0.2121\n",
      "Counter train preds: Counter({0: 2126, 1: 1916, 4: 971, 2: 944, 3: 821, 5: 704})\tCounter val preds: Counter({0: 694, 1: 658, 4: 336, 2: 322, 3: 273, 5: 218})\n",
      "Epoch train QWK: 0.972\tval QWK: 0.891\n",
      "  Epoch 41 - Save Best QWK: 0.8905 Model\n",
      "Epoch 42/44\n",
      "==========\n"
     ]
    },
    {
     "name": "stdout",
     "output_type": "stream",
     "text": [
      "Normalized confusion matrix\n",
      "[[0.88764045 0.09550562 0.01123596 0.00561798 0.         0.        ]\n",
      " [0.0664557  0.75474684 0.15664557 0.01740506 0.00474684 0.        ]\n",
      " [0.00955414 0.2611465  0.48726115 0.19426752 0.03821656 0.00955414]\n",
      " [0.03484321 0.06271777 0.13240418 0.45296167 0.29616725 0.02090592]\n",
      " [0.01398601 0.02797203 0.06293706 0.16433566 0.55944056 0.17132867]\n",
      " [0.01111111 0.01851852 0.02222222 0.07407407 0.28148148 0.59259259]]\n"
     ]
    },
    {
     "name": "stderr",
     "output_type": "stream",
     "text": [
      "100%|██████████| 936/936 [08:13<00:00,  1.90it/s]\n",
      "100%|██████████| 313/313 [02:25<00:00,  2.16it/s]\n",
      "Training Loss: 0.1106\tValidation Loss: 0.2155\n",
      "Counter train preds: Counter({0: 2116, 1: 1934, 4: 956, 2: 935, 3: 820, 5: 721})\tCounter val preds: Counter({0: 706, 1: 673, 2: 319, 4: 312, 3: 285, 5: 206})\n",
      "Epoch train QWK: 0.972\tval QWK: 0.889\n",
      "Epoch 43/44\n",
      "==========\n",
      " 38%|███▊      | 354/936 [03:07<04:58,  1.95it/s]"
     ]
    },
    {
     "name": "stdout",
     "output_type": "stream",
     "text": [
      "Gradient overflow.  Skipping step, loss scaler 0 reducing loss scale to 32768.0\n"
     ]
    },
    {
     "name": "stderr",
     "output_type": "stream",
     "text": [
      "100%|██████████| 936/936 [08:10<00:00,  1.91it/s]\n",
      "100%|██████████| 313/313 [02:24<00:00,  2.16it/s]\n",
      "Training Loss: 0.1102\tValidation Loss: 0.2130\n",
      "Counter train preds: Counter({0: 2117, 1: 1925, 4: 978, 2: 947, 3: 805, 5: 710})\tCounter val preds: Counter({0: 711, 1: 673, 4: 332, 2: 326, 3: 284, 5: 175})\n",
      "Epoch train QWK: 0.973\tval QWK: 0.889\n",
      "Epoch 44/44\n",
      "==========\n",
      "100%|██████████| 936/936 [08:12<00:00,  1.90it/s]"
     ]
    },
    {
     "name": "stdout",
     "output_type": "stream",
     "text": [
      "Gradient overflow.  Skipping step, loss scaler 0 reducing loss scale to 16384.0\n"
     ]
    },
    {
     "name": "stderr",
     "output_type": "stream",
     "text": [
      "\n",
      "100%|██████████| 313/313 [02:25<00:00,  2.16it/s]\n",
      "Training Loss: 0.1095\tValidation Loss: 0.2120\n",
      "Counter train preds: Counter({0: 2136, 1: 1914, 4: 962, 2: 922, 3: 832, 5: 716})\tCounter val preds: Counter({0: 691, 1: 679, 4: 339, 2: 325, 3: 269, 5: 198})\n",
      "Epoch train QWK: 0.973\tval QWK: 0.891\n",
      "  Epoch 44 - Save Best QWK: 0.8914 Model\n",
      "Finish: 04-07-2020-04-19\n"
     ]
    },
    {
     "name": "stdout",
     "output_type": "stream",
     "text": [
      "Normalized confusion matrix\n",
      "[[0.88202247 0.1011236  0.01264045 0.00280899 0.00140449 0.        ]\n",
      " [0.06803797 0.77373418 0.13924051 0.01582278 0.00316456 0.        ]\n",
      " [0.01273885 0.27388535 0.50636943 0.16242038 0.04140127 0.00318471]\n",
      " [0.03484321 0.06271777 0.14285714 0.48083624 0.26480836 0.01393728]\n",
      " [0.01048951 0.03146853 0.06993007 0.17132867 0.57692308 0.13986014]\n",
      " [0.01111111 0.01851852 0.02962963 0.07037037 0.3037037  0.56666667]]\n"
     ]
    }
   ],
   "source": [
    "logging.info(f'Start: {datetime.now().strftime(\"%d-%m-%Y-%H-%M\")}')\n",
    "# Start Train/Eval Experiment\n",
    "model_ft, best_loss, best_qwk = train_eval_loop(train_dataloader, val_dataloader, model_ft, optimizer, criterion, model_name=EXP_NAME)\n",
    "logging.info(f'Finish: {datetime.now().strftime(\"%d-%m-%Y-%H-%M\")}')"
   ]
  },
  {
   "cell_type": "code",
   "execution_count": 26,
   "metadata": {},
   "outputs": [],
   "source": [
    "# After finish collect hyperparams used, best metrics and write to TensorBoard\n",
    "hparam_dict = {key:val for key, val in CFG.__dict__.items() if not key.startswith(\"__\")}\n",
    "metric_dict = {\"hp/best_loss\": best_loss, \"hp/best_qwk\": best_qwk}\n",
    "writer.add_hparams(hparam_dict=hparam_dict, metric_dict=metric_dict)\n",
    "\n",
    "# Get the current git commit hash to add it in Tensorboard, to know exp code version\n",
    "label = subprocess.check_output([\"git\", \"describe\", \"--always\"]).strip()\n",
    "writer.add_text(\"Git commit hash:\", label.decode())"
   ]
  },
  {
   "cell_type": "code",
   "execution_count": 29,
   "metadata": {},
   "outputs": [],
   "source": [
    "torch.save(\n",
    "            {\n",
    "                \"model_state_dict\": model_ft.state_dict(),\n",
    "                \"optimizer_state_dict\": optimizer.state_dict(),\n",
    "                \"best_val_loss\": best_loss,\n",
    "                \"best_qwk\": best_qwk,\n",
    "            },\n",
    "            f\"{MODEL_PATH}/{EXP_NAME}_last_loss.pth\",\n",
    "            )"
   ]
  },
  {
   "cell_type": "markdown",
   "metadata": {},
   "source": [
    "#### Resume Training"
   ]
  },
  {
   "cell_type": "code",
   "execution_count": 19,
   "metadata": {},
   "outputs": [],
   "source": [
    "checkpoint = torch.load(f\"{MODEL_PATH}/{PREV_NAME}_{CFG.from_epoch}_loss.pth\")\n",
    "\n",
    "model_ft = PatchModel(arch=CFG.arch)\n",
    "model_ft.load_state_dict(checkpoint[\"model_state_dict\"])\n",
    "model_ft.to(device)\n",
    "\n",
    "optimizer = init_optimizer(model_ft)\n",
    "optimizer.load_state_dict(checkpoint[\"optimizer_state_dict\"])\n",
    "\n",
    "# set smaller lr here\n",
    "for param_group in optimizer.param_groups:\n",
    "    param_group[\"lr\"] = CFG.lr"
   ]
  },
  {
   "cell_type": "code",
   "execution_count": 20,
   "metadata": {},
   "outputs": [
    {
     "name": "stdout",
     "output_type": "stream",
     "text": [
      "5e-06\n"
     ]
    }
   ],
   "source": [
    "for param_group in optimizer.param_groups:\n",
    "    print(param_group['lr'])"
   ]
  },
  {
   "cell_type": "code",
   "execution_count": 21,
   "metadata": {
    "collapsed": true,
    "jupyter": {
     "outputs_hidden": true
    }
   },
   "outputs": [
    {
     "name": "stdout",
     "output_type": "stream",
     "text": [
      "Selected optimization level O2:  FP16 training with FP32 batchnorm and FP32 master weights.\n",
      "\n",
      "Defaults for this optimization level are:\n",
      "enabled                : True\n",
      "opt_level              : O2\n",
      "cast_model_type        : torch.float16\n",
      "patch_torch_functions  : False\n",
      "keep_batchnorm_fp32    : True\n",
      "master_weights         : True\n",
      "loss_scale             : dynamic\n",
      "Processing user overrides (additional kwargs that are not None)...\n",
      "After processing overrides, optimization options are:\n",
      "enabled                : True\n",
      "opt_level              : O2\n",
      "cast_model_type        : torch.float16\n",
      "patch_torch_functions  : False\n",
      "keep_batchnorm_fp32    : True\n",
      "master_weights         : True\n",
      "loss_scale             : dynamic\n",
      "Warning:  multi_tensor_applier fused unscale kernel is unavailable, possibly because apex was installed without --cuda_ext --cpp_ext. Using Python fallback.  Original ImportError was: ModuleNotFoundError(\"No module named 'amp_C'\")\n",
      "Epoch 18/29\n",
      "==========\n"
     ]
    },
    {
     "name": "stderr",
     "output_type": "stream",
     "text": [
      "  0%|          | 2/1991 [00:02<47:59,  1.45s/it]  "
     ]
    },
    {
     "name": "stdout",
     "output_type": "stream",
     "text": [
      "Gradient overflow.  Skipping step, loss scaler 0 reducing loss scale to 16384.0\n"
     ]
    },
    {
     "name": "stderr",
     "output_type": "stream",
     "text": [
      "  0%|          | 3/1991 [00:02<36:39,  1.11s/it]/pytorch/torch/csrc/utils/python_arg_parser.cpp:756: UserWarning: This overload of addcmul_ is deprecated:\n",
      "\taddcmul_(Number value, Tensor tensor1, Tensor tensor2)\n",
      "Consider using one of the following signatures instead:\n",
      "\taddcmul_(Tensor tensor1, Tensor tensor2, *, Number value)\n",
      "  1%|          | 20/1991 [00:08<10:34,  3.11it/s]"
     ]
    },
    {
     "name": "stdout",
     "output_type": "stream",
     "text": [
      "Gradient overflow.  Skipping step, loss scaler 0 reducing loss scale to 8192.0\n"
     ]
    },
    {
     "name": "stderr",
     "output_type": "stream",
     "text": [
      "100%|██████████| 1991/1991 [11:42<00:00,  2.83it/s]\n",
      "100%|██████████| 664/664 [02:48<00:00,  3.93it/s]"
     ]
    },
    {
     "name": "stdout",
     "output_type": "stream",
     "text": [
      "Training Loss: 0.7912\tValidation Loss: 1.0411\n",
      "Counter train preds: Counter({0: 2369, 1: 2107, 2: 919, 5: 874, 4: 857, 3: 836})\tCounter val preds: Counter({1: 801, 0: 785, 5: 329, 4: 296, 2: 236, 3: 207})\n",
      "Epoch train QWK: 0.899\tval QWK: 0.824\n",
      "Epoch 19/29\n",
      "==========\n"
     ]
    },
    {
     "name": "stderr",
     "output_type": "stream",
     "text": [
      "\n",
      "  2%|▏         | 30/1991 [00:11<10:15,  3.19it/s]"
     ]
    },
    {
     "name": "stdout",
     "output_type": "stream",
     "text": [
      "Gradient overflow.  Skipping step, loss scaler 0 reducing loss scale to 8192.0\n"
     ]
    },
    {
     "name": "stderr",
     "output_type": "stream",
     "text": [
      " 58%|█████▊    | 1158/1991 [06:40<04:27,  3.12it/s]"
     ]
    },
    {
     "name": "stdout",
     "output_type": "stream",
     "text": [
      "Gradient overflow.  Skipping step, loss scaler 0 reducing loss scale to 4096.0\n"
     ]
    },
    {
     "name": "stderr",
     "output_type": "stream",
     "text": [
      "100%|██████████| 1991/1991 [11:44<00:00,  2.83it/s]\n",
      "100%|██████████| 664/664 [02:52<00:00,  3.85it/s]"
     ]
    },
    {
     "name": "stdout",
     "output_type": "stream",
     "text": [
      "Training Loss: 0.7860\tValidation Loss: 1.0326\n",
      "Counter train preds: Counter({0: 2348, 1: 2076, 2: 946, 5: 895, 4: 865, 3: 832})\tCounter val preds: Counter({0: 810, 1: 757, 2: 311, 4: 276, 5: 261, 3: 239})\n",
      "Epoch train QWK: 0.902\tval QWK: 0.823\n",
      "Epoch 20/29\n",
      "==========\n"
     ]
    },
    {
     "name": "stderr",
     "output_type": "stream",
     "text": [
      "\n",
      " 65%|██████▍   | 1286/1991 [07:04<03:43,  3.15it/s]"
     ]
    },
    {
     "name": "stdout",
     "output_type": "stream",
     "text": [
      "Gradient overflow.  Skipping step, loss scaler 0 reducing loss scale to 4096.0\n"
     ]
    },
    {
     "name": "stderr",
     "output_type": "stream",
     "text": [
      "100%|██████████| 1991/1991 [10:55<00:00,  3.04it/s]\n",
      "100%|██████████| 664/664 [02:49<00:00,  3.91it/s]\n"
     ]
    },
    {
     "name": "stdout",
     "output_type": "stream",
     "text": [
      "Training Loss: 0.7739\tValidation Loss: 1.0376\n",
      "Counter train preds: Counter({0: 2346, 1: 2086, 2: 957, 5: 891, 4: 852, 3: 830})\tCounter val preds: Counter({0: 789, 1: 754, 4: 336, 5: 296, 3: 240, 2: 239})\n",
      "Epoch train QWK: 0.908\tval QWK: 0.832\n",
      "  Epoch 20 - Save Best QWK: 0.8318 Model\n",
      "Normalized confusion matrix\n",
      "[[0.9142462  0.07053942 0.00276625 0.00138313 0.00276625 0.00829876]\n",
      " [0.07507508 0.83333333 0.06306306 0.01651652 0.00900901 0.003003  ]\n",
      " [0.03283582 0.32238806 0.42686567 0.13134328 0.06268657 0.0238806 ]\n",
      " [0.09324759 0.05787781 0.11254019 0.45337621 0.17363344 0.10932476]\n",
      " [0.06389776 0.04792332 0.04792332 0.07348243 0.62939297 0.13738019]\n",
      " [0.05882353 0.02287582 0.00653595 0.06535948 0.18300654 0.66339869]]\n",
      "Epoch 21/29\n",
      "==========\n"
     ]
    },
    {
     "name": "stderr",
     "output_type": "stream",
     "text": [
      " 78%|███████▊  | 1560/1991 [08:07<02:12,  3.26it/s]"
     ]
    },
    {
     "name": "stdout",
     "output_type": "stream",
     "text": [
      "Gradient overflow.  Skipping step, loss scaler 0 reducing loss scale to 4096.0\n"
     ]
    },
    {
     "name": "stderr",
     "output_type": "stream",
     "text": [
      "100%|██████████| 1991/1991 [10:21<00:00,  3.20it/s]\n",
      "100%|██████████| 664/664 [02:46<00:00,  3.98it/s]"
     ]
    },
    {
     "name": "stdout",
     "output_type": "stream",
     "text": [
      "Training Loss: 0.7603\tValidation Loss: 1.0409\n",
      "Counter train preds: Counter({0: 2350, 1: 2056, 2: 916, 4: 881, 3: 881, 5: 878})\tCounter val preds: Counter({1: 823, 0: 772, 4: 322, 5: 297, 2: 238, 3: 202})\n",
      "Epoch train QWK: 0.913\tval QWK: 0.827\n",
      "Epoch 22/29\n",
      "==========\n"
     ]
    },
    {
     "name": "stderr",
     "output_type": "stream",
     "text": [
      "\n",
      "100%|██████████| 1991/1991 [11:03<00:00,  3.00it/s]\n",
      "100%|██████████| 664/664 [02:51<00:00,  3.88it/s]\n"
     ]
    },
    {
     "name": "stdout",
     "output_type": "stream",
     "text": [
      "Training Loss: 0.7578\tValidation Loss: 1.0242\n",
      "Counter train preds: Counter({0: 2364, 1: 2060, 2: 930, 5: 881, 3: 875, 4: 852})\tCounter val preds: Counter({0: 806, 1: 774, 3: 282, 2: 271, 4: 265, 5: 256})\n",
      "Epoch train QWK: 0.905\tval QWK: 0.819\n",
      "  Epoch 22 - Save Best Loss: 1.0242 Model\n",
      "Normalized confusion matrix\n",
      "[[0.91839557 0.06777317 0.00276625 0.00276625 0.00276625 0.0055325 ]\n",
      " [0.08258258 0.84234234 0.05555556 0.01201201 0.003003   0.0045045 ]\n",
      " [0.03283582 0.34925373 0.48358209 0.10447761 0.01791045 0.0119403 ]\n",
      " [0.09967846 0.06430868 0.14790997 0.49839228 0.10289389 0.08681672]\n",
      " [0.08306709 0.06070288 0.0543131  0.15974441 0.5399361  0.10223642]\n",
      " [0.0620915  0.02614379 0.02287582 0.10457516 0.17647059 0.60784314]]\n",
      "Epoch 23/29\n",
      "==========\n"
     ]
    },
    {
     "name": "stderr",
     "output_type": "stream",
     "text": [
      " 27%|██▋       | 532/1991 [02:55<07:40,  3.17it/s]"
     ]
    },
    {
     "name": "stdout",
     "output_type": "stream",
     "text": [
      "Gradient overflow.  Skipping step, loss scaler 0 reducing loss scale to 4096.0\n"
     ]
    },
    {
     "name": "stderr",
     "output_type": "stream",
     "text": [
      "100%|██████████| 1991/1991 [10:51<00:00,  3.06it/s]\n",
      "100%|██████████| 664/664 [02:51<00:00,  3.87it/s]"
     ]
    },
    {
     "name": "stdout",
     "output_type": "stream",
     "text": [
      "Training Loss: 0.7567\tValidation Loss: 1.0275\n",
      "Counter train preds: Counter({0: 2333, 1: 2082, 2: 934, 5: 883, 3: 871, 4: 859})\tCounter val preds: Counter({0: 810, 1: 695, 2: 351, 5: 290, 4: 287, 3: 221})\n",
      "Epoch train QWK: 0.910\tval QWK: 0.825\n",
      "Epoch 24/29\n",
      "==========\n"
     ]
    },
    {
     "name": "stderr",
     "output_type": "stream",
     "text": [
      "\n",
      "100%|██████████| 1991/1991 [11:17<00:00,  2.94it/s]\n",
      "100%|██████████| 664/664 [02:50<00:00,  3.90it/s]"
     ]
    },
    {
     "name": "stdout",
     "output_type": "stream",
     "text": [
      "Training Loss: 0.7417\tValidation Loss: 1.0299\n",
      "Counter train preds: Counter({0: 2346, 1: 2052, 2: 938, 5: 900, 3: 869, 4: 857})\tCounter val preds: Counter({0: 802, 1: 775, 5: 302, 3: 301, 4: 272, 2: 202})\n",
      "Epoch train QWK: 0.918\tval QWK: 0.829\n",
      "Epoch 25/29\n",
      "==========\n"
     ]
    },
    {
     "name": "stderr",
     "output_type": "stream",
     "text": [
      "\n",
      " 28%|██▊       | 552/1991 [02:54<07:19,  3.27it/s]"
     ]
    },
    {
     "name": "stdout",
     "output_type": "stream",
     "text": [
      "Gradient overflow.  Skipping step, loss scaler 0 reducing loss scale to 8192.0\n"
     ]
    },
    {
     "name": "stderr",
     "output_type": "stream",
     "text": [
      " 72%|███████▏  | 1424/1991 [07:37<02:50,  3.33it/s]"
     ]
    },
    {
     "name": "stdout",
     "output_type": "stream",
     "text": [
      "Gradient overflow.  Skipping step, loss scaler 0 reducing loss scale to 4096.0\n"
     ]
    },
    {
     "name": "stderr",
     "output_type": "stream",
     "text": [
      "100%|██████████| 1991/1991 [10:35<00:00,  3.13it/s]\n",
      "100%|██████████| 664/664 [02:47<00:00,  3.97it/s]"
     ]
    },
    {
     "name": "stdout",
     "output_type": "stream",
     "text": [
      "Training Loss: 0.7373\tValidation Loss: 1.0288\n",
      "Counter train preds: Counter({0: 2352, 1: 2050, 2: 920, 5: 899, 3: 876, 4: 865})\tCounter val preds: Counter({0: 794, 1: 760, 5: 304, 3: 277, 2: 275, 4: 244})\n",
      "Epoch train QWK: 0.914\tval QWK: 0.827\n",
      "Epoch 26/29\n",
      "==========\n"
     ]
    },
    {
     "name": "stderr",
     "output_type": "stream",
     "text": [
      "\n",
      " 75%|███████▍  | 1488/1991 [07:48<02:34,  3.26it/s]"
     ]
    },
    {
     "name": "stdout",
     "output_type": "stream",
     "text": [
      "Gradient overflow.  Skipping step, loss scaler 0 reducing loss scale to 4096.0\n"
     ]
    },
    {
     "name": "stderr",
     "output_type": "stream",
     "text": [
      "100%|██████████| 1991/1991 [10:30<00:00,  3.16it/s]\n",
      "100%|██████████| 664/664 [02:53<00:00,  3.83it/s]"
     ]
    },
    {
     "name": "stdout",
     "output_type": "stream",
     "text": [
      "Training Loss: 0.7313\tValidation Loss: 1.0301\n",
      "Counter train preds: Counter({0: 2340, 1: 2038, 2: 941, 5: 896, 3: 889, 4: 858})\tCounter val preds: Counter({0: 795, 1: 761, 4: 295, 5: 290, 3: 276, 2: 237})\n",
      "Epoch train QWK: 0.919\tval QWK: 0.828\n",
      "Epoch 27/29\n",
      "==========\n"
     ]
    },
    {
     "name": "stderr",
     "output_type": "stream",
     "text": [
      "\n",
      " 82%|████████▏ | 1630/1991 [09:15<01:51,  3.25it/s]"
     ]
    },
    {
     "name": "stdout",
     "output_type": "stream",
     "text": [
      "Gradient overflow.  Skipping step, loss scaler 0 reducing loss scale to 4096.0\n"
     ]
    },
    {
     "name": "stderr",
     "output_type": "stream",
     "text": [
      "100%|██████████| 1991/1991 [11:12<00:00,  2.96it/s]\n",
      "100%|██████████| 664/664 [02:48<00:00,  3.94it/s]"
     ]
    },
    {
     "name": "stdout",
     "output_type": "stream",
     "text": [
      "Training Loss: 0.7174\tValidation Loss: 1.0293\n",
      "Counter train preds: Counter({0: 2331, 1: 2038, 2: 968, 5: 887, 4: 876, 3: 862})\tCounter val preds: Counter({0: 806, 1: 744, 4: 304, 5: 297, 2: 271, 3: 232})\n",
      "Epoch train QWK: 0.928\tval QWK: 0.830\n",
      "Epoch 28/29\n",
      "==========\n"
     ]
    },
    {
     "name": "stderr",
     "output_type": "stream",
     "text": [
      "\n",
      " 93%|█████████▎| 1854/1991 [10:05<00:44,  3.11it/s]"
     ]
    },
    {
     "name": "stdout",
     "output_type": "stream",
     "text": [
      "Gradient overflow.  Skipping step, loss scaler 0 reducing loss scale to 4096.0\n"
     ]
    },
    {
     "name": "stderr",
     "output_type": "stream",
     "text": [
      "100%|██████████| 1991/1991 [10:49<00:00,  3.07it/s]\n",
      "100%|██████████| 664/664 [02:45<00:00,  4.01it/s]\n"
     ]
    },
    {
     "name": "stdout",
     "output_type": "stream",
     "text": [
      "Training Loss: 0.7082\tValidation Loss: 1.0334\n",
      "Counter train preds: Counter({0: 2310, 1: 2049, 2: 958, 5: 900, 4: 888, 3: 857})\tCounter val preds: Counter({0: 777, 1: 752, 4: 342, 2: 287, 3: 255, 5: 241})\n",
      "Epoch train QWK: 0.927\tval QWK: 0.836\n",
      "  Epoch 28 - Save Best QWK: 0.8358 Model\n",
      "Normalized confusion matrix\n",
      "[[0.90871369 0.07192254 0.00414938 0.00414938 0.0055325  0.0055325 ]\n",
      " [0.07657658 0.82432432 0.07207207 0.01951952 0.0045045  0.003003  ]\n",
      " [0.02686567 0.33432836 0.48955224 0.09850746 0.03880597 0.0119403 ]\n",
      " [0.08038585 0.06109325 0.15434084 0.45016077 0.17684887 0.07717042]\n",
      " [0.06070288 0.04472843 0.06070288 0.12140575 0.62619808 0.08626198]\n",
      " [0.05228758 0.01960784 0.01633987 0.09150327 0.23202614 0.58823529]]\n",
      "Epoch 29/29\n",
      "==========\n"
     ]
    },
    {
     "name": "stderr",
     "output_type": "stream",
     "text": [
      "100%|██████████| 1991/1991 [11:31<00:00,  2.88it/s]\n",
      "100%|██████████| 664/664 [02:57<00:00,  3.74it/s]"
     ]
    },
    {
     "name": "stdout",
     "output_type": "stream",
     "text": [
      "Training Loss: 0.6978\tValidation Loss: 1.0287\n",
      "Counter train preds: Counter({0: 2313, 1: 2049, 2: 946, 5: 895, 4: 891, 3: 868})\tCounter val preds: Counter({0: 819, 1: 726, 5: 297, 2: 274, 3: 270, 4: 268})\n",
      "Epoch train QWK: 0.932\tval QWK: 0.829\n"
     ]
    },
    {
     "name": "stderr",
     "output_type": "stream",
     "text": [
      "\n"
     ]
    }
   ],
   "source": [
    "# Start Train/Eval Experiment\n",
    "model_ft, best_loss, best_qwk = train_eval_loop(train_dataloader, val_dataloader, model_ft, optimizer, criterion, checkpoint=checkpoint, model_name=PREV_NAME)"
   ]
  },
  {
   "cell_type": "code",
   "execution_count": null,
   "metadata": {},
   "outputs": [],
   "source": [
    "# After finish collect hyperparams used, best metrics and write to TensorBoard\n",
    "hparam_dict = {key:val for key, val in CFG.__dict__.items() if not key.startswith(\"__\")}\n",
    "metric_dict = {\"hp/best_loss\": best_loss, \"hp/best_qwk\": best_qwk}\n",
    "writer.add_hparams(hparam_dict=hparam_dict, metric_dict=metric_dict)\n",
    "\n",
    "# Get the current git commit hash to add it in Tensorboard, to know exp code version\n",
    "label = subprocess.check_output([\"git\", \"describe\", \"--always\"]).strip()\n",
    "writer.add_text(\"Git commit hash:\", label.decode())"
   ]
  },
  {
   "cell_type": "markdown",
   "metadata": {},
   "source": [
    "### Train with CV"
   ]
  },
  {
   "cell_type": "code",
   "execution_count": 34,
   "metadata": {
    "collapsed": true,
    "jupyter": {
     "outputs_hidden": true
    }
   },
   "outputs": [
    {
     "name": "stdout",
     "output_type": "stream",
     "text": [
      "Train with CV, on fold 0\n",
      "Epoch 0/9\n",
      "----------\n"
     ]
    },
    {
     "name": "stderr",
     "output_type": "stream",
     "text": [
      "100%|██████████| 5/5 [00:00<00:00,  7.61it/s]"
     ]
    },
    {
     "name": "stdout",
     "output_type": "stream",
     "text": [
      "Visualising input\n"
     ]
    },
    {
     "name": "stderr",
     "output_type": "stream",
     "text": [
      "\n",
      "100%|██████████| 2/2 [00:00<00:00,  3.84it/s]"
     ]
    },
    {
     "name": "stdout",
     "output_type": "stream",
     "text": [
      "Training Loss: 1.7832\tValidation Loss: 1.6735\n",
      "Counter train preds: Counter({1: 50, 4: 11, 3: 8, 0: 6})\tCounter val preds: Counter({0: 25})\n",
      "Epoch train QWK: 0.193\tval QWK: 0.000\n",
      "Epoch 1/9\n",
      "----------\n"
     ]
    },
    {
     "name": "stderr",
     "output_type": "stream",
     "text": [
      "\n",
      "100%|██████████| 5/5 [00:00<00:00,  7.82it/s]"
     ]
    },
    {
     "name": "stdout",
     "output_type": "stream",
     "text": [
      "Visualising input\n"
     ]
    },
    {
     "name": "stderr",
     "output_type": "stream",
     "text": [
      "\n",
      "100%|██████████| 2/2 [00:00<00:00,  4.13it/s]"
     ]
    },
    {
     "name": "stdout",
     "output_type": "stream",
     "text": [
      "Training Loss: 1.5393\tValidation Loss: 1.6932\n",
      "Counter train preds: Counter({1: 39, 0: 21, 3: 7, 4: 6, 5: 2})\tCounter val preds: Counter({1: 25})\n",
      "Epoch train QWK: 0.236\tval QWK: 0.000\n",
      "Epoch 2/9\n",
      "----------\n"
     ]
    },
    {
     "name": "stderr",
     "output_type": "stream",
     "text": [
      "\n",
      "100%|██████████| 5/5 [00:00<00:00,  7.61it/s]"
     ]
    },
    {
     "name": "stdout",
     "output_type": "stream",
     "text": [
      "Visualising input\n"
     ]
    },
    {
     "name": "stderr",
     "output_type": "stream",
     "text": [
      "\n",
      "100%|██████████| 2/2 [00:00<00:00,  4.02it/s]"
     ]
    },
    {
     "name": "stdout",
     "output_type": "stream",
     "text": [
      "Training Loss: 1.4436\tValidation Loss: 1.7056\n",
      "Counter train preds: Counter({1: 34, 0: 26, 3: 7, 5: 5, 4: 3})\tCounter val preds: Counter({1: 25})\n",
      "Epoch train QWK: 0.321\tval QWK: 0.000\n",
      "Epoch 3/9\n",
      "----------\n"
     ]
    },
    {
     "name": "stderr",
     "output_type": "stream",
     "text": [
      "\n",
      "100%|██████████| 5/5 [00:00<00:00,  5.05it/s]"
     ]
    },
    {
     "name": "stdout",
     "output_type": "stream",
     "text": [
      "Visualising input\n"
     ]
    },
    {
     "name": "stderr",
     "output_type": "stream",
     "text": [
      "100%|██████████| 5/5 [00:00<00:00,  7.88it/s]\n",
      "100%|██████████| 2/2 [00:00<00:00,  2.04it/s]"
     ]
    },
    {
     "name": "stdout",
     "output_type": "stream",
     "text": [
      "Training Loss: 1.4152\tValidation Loss: 1.6723\n",
      "Counter train preds: Counter({0: 33, 1: 31, 3: 5, 4: 5, 5: 1})\tCounter val preds: Counter({1: 25})\n",
      "Epoch train QWK: 0.282\tval QWK: 0.000\n",
      "Epoch 4/9\n",
      "----------\n"
     ]
    },
    {
     "name": "stderr",
     "output_type": "stream",
     "text": [
      "\n",
      " 20%|██        | 1/5 [00:00<00:01,  2.74it/s]"
     ]
    },
    {
     "name": "stdout",
     "output_type": "stream",
     "text": [
      "Visualising input\n"
     ]
    },
    {
     "name": "stderr",
     "output_type": "stream",
     "text": [
      "100%|██████████| 5/5 [00:00<00:00,  7.80it/s]\n",
      "100%|██████████| 2/2 [00:00<00:00,  3.81it/s]"
     ]
    },
    {
     "name": "stdout",
     "output_type": "stream",
     "text": [
      "Training Loss: 1.3904\tValidation Loss: 1.6386\n",
      "Counter train preds: Counter({1: 33, 0: 28, 4: 6, 3: 5, 5: 3})\tCounter val preds: Counter({1: 15, 5: 3, 0: 3, 2: 2, 4: 1, 3: 1})\n",
      "Epoch train QWK: 0.393\tval QWK: 0.186\n",
      "Epoch 5/9\n",
      "----------\n"
     ]
    },
    {
     "name": "stderr",
     "output_type": "stream",
     "text": [
      "\n",
      " 20%|██        | 1/5 [00:00<00:01,  2.53it/s]"
     ]
    },
    {
     "name": "stdout",
     "output_type": "stream",
     "text": [
      "Visualising input\n"
     ]
    },
    {
     "name": "stderr",
     "output_type": "stream",
     "text": [
      "100%|██████████| 5/5 [00:00<00:00,  7.49it/s]\n",
      "100%|██████████| 2/2 [00:00<00:00,  3.79it/s]"
     ]
    },
    {
     "name": "stdout",
     "output_type": "stream",
     "text": [
      "Training Loss: 1.3730\tValidation Loss: 1.6927\n",
      "Counter train preds: Counter({0: 33, 1: 26, 5: 7, 3: 4, 4: 4, 2: 1})\tCounter val preds: Counter({1: 13, 5: 6, 2: 4, 3: 1, 0: 1})\n",
      "Epoch train QWK: 0.517\tval QWK: 0.545\n",
      "Epoch 6/9\n",
      "----------\n"
     ]
    },
    {
     "name": "stderr",
     "output_type": "stream",
     "text": [
      "\n",
      "100%|██████████| 5/5 [00:00<00:00,  4.96it/s]"
     ]
    },
    {
     "name": "stdout",
     "output_type": "stream",
     "text": [
      "Visualising input\n"
     ]
    },
    {
     "name": "stderr",
     "output_type": "stream",
     "text": [
      "100%|██████████| 5/5 [00:00<00:00,  7.91it/s]\n",
      "100%|██████████| 2/2 [00:00<00:00,  3.81it/s]"
     ]
    },
    {
     "name": "stdout",
     "output_type": "stream",
     "text": [
      "Training Loss: 1.3238\tValidation Loss: 1.8837\n",
      "Counter train preds: Counter({0: 30, 1: 29, 5: 6, 3: 6, 4: 4})\tCounter val preds: Counter({1: 9, 5: 7, 2: 6, 3: 3})\n",
      "Epoch train QWK: 0.438\tval QWK: 0.329\n",
      "Epoch 7/9\n",
      "----------\n"
     ]
    },
    {
     "name": "stderr",
     "output_type": "stream",
     "text": [
      "\n",
      "100%|██████████| 5/5 [00:00<00:00,  7.85it/s]"
     ]
    },
    {
     "name": "stdout",
     "output_type": "stream",
     "text": [
      "Visualising input\n"
     ]
    },
    {
     "name": "stderr",
     "output_type": "stream",
     "text": [
      "\n",
      "100%|██████████| 2/2 [00:00<00:00,  3.89it/s]"
     ]
    },
    {
     "name": "stdout",
     "output_type": "stream",
     "text": [
      "Training Loss: 1.3055\tValidation Loss: 2.0990\n",
      "Counter train preds: Counter({1: 34, 0: 22, 5: 8, 3: 7, 4: 2, 2: 2})\tCounter val preds: Counter({2: 12, 5: 5, 3: 5, 1: 2, 4: 1})\n",
      "Epoch train QWK: 0.552\tval QWK: 0.326\n",
      "Epoch 8/9\n",
      "----------\n"
     ]
    },
    {
     "name": "stderr",
     "output_type": "stream",
     "text": [
      "\n",
      " 20%|██        | 1/5 [00:00<00:01,  2.66it/s]"
     ]
    },
    {
     "name": "stdout",
     "output_type": "stream",
     "text": [
      "Visualising input\n"
     ]
    },
    {
     "name": "stderr",
     "output_type": "stream",
     "text": [
      "100%|██████████| 5/5 [00:00<00:00,  7.53it/s]\n",
      "100%|██████████| 2/2 [00:00<00:00,  3.87it/s]"
     ]
    },
    {
     "name": "stdout",
     "output_type": "stream",
     "text": [
      "Training Loss: 1.3063\tValidation Loss: 2.0883\n",
      "Counter train preds: Counter({1: 35, 0: 25, 4: 7, 3: 5, 5: 3})\tCounter val preds: Counter({2: 13, 5: 5, 1: 3, 3: 2, 4: 1, 0: 1})\n",
      "Epoch train QWK: 0.549\tval QWK: 0.199\n",
      "Epoch 9/9\n",
      "----------\n"
     ]
    },
    {
     "name": "stderr",
     "output_type": "stream",
     "text": [
      "\n",
      "100%|██████████| 5/5 [00:00<00:00,  4.77it/s]"
     ]
    },
    {
     "name": "stdout",
     "output_type": "stream",
     "text": [
      "Visualising input\n"
     ]
    },
    {
     "name": "stderr",
     "output_type": "stream",
     "text": [
      "100%|██████████| 5/5 [00:00<00:00,  7.73it/s]\n",
      "100%|██████████| 2/2 [00:00<00:00,  3.86it/s]"
     ]
    },
    {
     "name": "stdout",
     "output_type": "stream",
     "text": [
      "Training Loss: 1.3191\tValidation Loss: 1.8377\n",
      "Counter train preds: Counter({1: 37, 0: 24, 5: 7, 4: 3, 3: 3, 2: 1})\tCounter val preds: Counter({1: 21, 3: 2, 2: 1, 5: 1})\n",
      "Epoch train QWK: 0.435\tval QWK: 0.305\n",
      "Train with CV, on fold 1\n",
      "Epoch 0/9\n",
      "----------\n"
     ]
    },
    {
     "name": "stderr",
     "output_type": "stream",
     "text": [
      "\n",
      "100%|██████████| 5/5 [00:00<00:00,  4.80it/s]"
     ]
    },
    {
     "name": "stdout",
     "output_type": "stream",
     "text": [
      "Visualising input\n"
     ]
    },
    {
     "name": "stderr",
     "output_type": "stream",
     "text": [
      "100%|██████████| 5/5 [00:00<00:00,  7.69it/s]\n",
      "100%|██████████| 2/2 [00:00<00:00,  3.71it/s]"
     ]
    },
    {
     "name": "stdout",
     "output_type": "stream",
     "text": [
      "Training Loss: 1.7209\tValidation Loss: 1.7380\n",
      "Counter train preds: Counter({0: 59, 3: 15, 1: 1})\tCounter val preds: Counter({0: 25})\n",
      "Epoch train QWK: 0.263\tval QWK: 0.000\n",
      "Epoch 1/9\n",
      "----------\n"
     ]
    },
    {
     "name": "stderr",
     "output_type": "stream",
     "text": [
      "\n",
      "100%|██████████| 5/5 [00:00<00:00,  7.81it/s]"
     ]
    },
    {
     "name": "stdout",
     "output_type": "stream",
     "text": [
      "Visualising input\n"
     ]
    },
    {
     "name": "stderr",
     "output_type": "stream",
     "text": [
      "\n",
      "100%|██████████| 2/2 [00:00<00:00,  3.62it/s]"
     ]
    },
    {
     "name": "stdout",
     "output_type": "stream",
     "text": [
      "Training Loss: 1.5459\tValidation Loss: 1.7958\n",
      "Counter train preds: Counter({0: 36, 1: 32, 3: 5, 4: 2})\tCounter val preds: Counter({0: 25})\n",
      "Epoch train QWK: 0.331\tval QWK: 0.000\n",
      "Epoch 2/9\n",
      "----------\n"
     ]
    },
    {
     "name": "stderr",
     "output_type": "stream",
     "text": [
      "\n",
      " 60%|██████    | 3/5 [00:00<00:00,  3.30it/s]"
     ]
    },
    {
     "name": "stdout",
     "output_type": "stream",
     "text": [
      "Visualising input\n"
     ]
    },
    {
     "name": "stderr",
     "output_type": "stream",
     "text": [
      "100%|██████████| 5/5 [00:00<00:00,  7.36it/s]\n",
      "100%|██████████| 2/2 [00:00<00:00,  3.74it/s]"
     ]
    },
    {
     "name": "stdout",
     "output_type": "stream",
     "text": [
      "Training Loss: 1.4606\tValidation Loss: 1.9763\n",
      "Counter train preds: Counter({1: 34, 0: 29, 4: 8, 3: 4})\tCounter val preds: Counter({0: 25})\n",
      "Epoch train QWK: 0.388\tval QWK: 0.000\n",
      "Epoch 3/9\n",
      "----------\n"
     ]
    },
    {
     "name": "stderr",
     "output_type": "stream",
     "text": [
      "\n",
      " 60%|██████    | 3/5 [00:00<00:00,  3.59it/s]"
     ]
    },
    {
     "name": "stdout",
     "output_type": "stream",
     "text": [
      "Visualising input\n"
     ]
    },
    {
     "name": "stderr",
     "output_type": "stream",
     "text": [
      "100%|██████████| 5/5 [00:00<00:00,  7.80it/s]\n",
      "100%|██████████| 2/2 [00:00<00:00,  3.66it/s]"
     ]
    },
    {
     "name": "stdout",
     "output_type": "stream",
     "text": [
      "Training Loss: 1.4206\tValidation Loss: 1.8872\n",
      "Counter train preds: Counter({1: 32, 0: 24, 4: 8, 3: 6, 5: 3, 2: 2})\tCounter val preds: Counter({0: 25})\n",
      "Epoch train QWK: 0.441\tval QWK: 0.000\n",
      "Epoch 4/9\n",
      "----------\n"
     ]
    },
    {
     "name": "stderr",
     "output_type": "stream",
     "text": [
      "\n",
      "100%|██████████| 5/5 [00:00<00:00,  5.28it/s]"
     ]
    },
    {
     "name": "stdout",
     "output_type": "stream",
     "text": [
      "Visualising input\n"
     ]
    },
    {
     "name": "stderr",
     "output_type": "stream",
     "text": [
      "100%|██████████| 5/5 [00:00<00:00,  8.24it/s]\n",
      "100%|██████████| 2/2 [00:00<00:00,  3.60it/s]"
     ]
    },
    {
     "name": "stdout",
     "output_type": "stream",
     "text": [
      "Training Loss: 1.4067\tValidation Loss: 2.2129\n",
      "Counter train preds: Counter({1: 36, 0: 25, 3: 10, 5: 2, 2: 1, 4: 1})\tCounter val preds: Counter({0: 25})\n",
      "Epoch train QWK: 0.388\tval QWK: 0.000\n",
      "Epoch 5/9\n",
      "----------\n"
     ]
    },
    {
     "name": "stderr",
     "output_type": "stream",
     "text": [
      "\n",
      "100%|██████████| 5/5 [00:00<00:00,  8.12it/s]"
     ]
    },
    {
     "name": "stdout",
     "output_type": "stream",
     "text": [
      "Visualising input\n"
     ]
    },
    {
     "name": "stderr",
     "output_type": "stream",
     "text": [
      "\n",
      "100%|██████████| 2/2 [00:00<00:00,  3.64it/s]"
     ]
    },
    {
     "name": "stdout",
     "output_type": "stream",
     "text": [
      "Training Loss: 1.3640\tValidation Loss: 2.9000\n",
      "Counter train preds: Counter({1: 33, 0: 24, 3: 12, 2: 4, 4: 2})\tCounter val preds: Counter({0: 25})\n",
      "Epoch train QWK: 0.364\tval QWK: 0.000\n",
      "Epoch 6/9\n",
      "----------\n"
     ]
    },
    {
     "name": "stderr",
     "output_type": "stream",
     "text": [
      "\n",
      "100%|██████████| 5/5 [00:00<00:00,  4.87it/s]"
     ]
    },
    {
     "name": "stdout",
     "output_type": "stream",
     "text": [
      "Visualising input\n"
     ]
    },
    {
     "name": "stderr",
     "output_type": "stream",
     "text": [
      "100%|██████████| 5/5 [00:00<00:00,  7.86it/s]\n",
      "100%|██████████| 2/2 [00:00<00:00,  3.44it/s]"
     ]
    },
    {
     "name": "stdout",
     "output_type": "stream",
     "text": [
      "Training Loss: 1.3085\tValidation Loss: 2.7819\n",
      "Counter train preds: Counter({1: 33, 0: 20, 3: 11, 2: 4, 4: 4, 5: 3})\tCounter val preds: Counter({0: 25})\n",
      "Epoch train QWK: 0.568\tval QWK: 0.000\n",
      "Epoch 7/9\n",
      "----------\n"
     ]
    },
    {
     "name": "stderr",
     "output_type": "stream",
     "text": [
      "\n",
      "100%|██████████| 5/5 [00:00<00:00,  7.36it/s]"
     ]
    },
    {
     "name": "stdout",
     "output_type": "stream",
     "text": [
      "Visualising input\n"
     ]
    },
    {
     "name": "stderr",
     "output_type": "stream",
     "text": [
      "\n",
      "100%|██████████| 2/2 [00:00<00:00,  2.55it/s]"
     ]
    },
    {
     "name": "stdout",
     "output_type": "stream",
     "text": [
      "Training Loss: 1.3142\tValidation Loss: 2.3783\n",
      "Counter train preds: Counter({1: 36, 0: 21, 3: 9, 2: 5, 5: 3, 4: 1})\tCounter val preds: Counter({0: 18, 1: 5, 2: 2})\n",
      "Epoch train QWK: 0.435\tval QWK: 0.116\n",
      "Epoch 8/9\n",
      "----------\n"
     ]
    },
    {
     "name": "stderr",
     "output_type": "stream",
     "text": [
      "\n",
      "100%|██████████| 5/5 [00:00<00:00,  5.30it/s]"
     ]
    },
    {
     "name": "stdout",
     "output_type": "stream",
     "text": [
      "Visualising input\n"
     ]
    },
    {
     "name": "stderr",
     "output_type": "stream",
     "text": [
      "100%|██████████| 5/5 [00:00<00:00,  8.07it/s]\n",
      "100%|██████████| 2/2 [00:00<00:00,  3.62it/s]"
     ]
    },
    {
     "name": "stdout",
     "output_type": "stream",
     "text": [
      "Training Loss: 1.2917\tValidation Loss: 3.1009\n",
      "Counter train preds: Counter({1: 38, 0: 19, 2: 6, 4: 5, 3: 4, 5: 3})\tCounter val preds: Counter({0: 23, 2: 2})\n",
      "Epoch train QWK: 0.433\tval QWK: 0.009\n",
      "Epoch 9/9\n",
      "----------\n"
     ]
    },
    {
     "name": "stderr",
     "output_type": "stream",
     "text": [
      "\n",
      "100%|██████████| 5/5 [00:00<00:00,  7.24it/s]"
     ]
    },
    {
     "name": "stdout",
     "output_type": "stream",
     "text": [
      "Visualising input\n"
     ]
    },
    {
     "name": "stderr",
     "output_type": "stream",
     "text": [
      "\n",
      "100%|██████████| 2/2 [00:00<00:00,  3.73it/s]"
     ]
    },
    {
     "name": "stdout",
     "output_type": "stream",
     "text": [
      "Training Loss: 1.2545\tValidation Loss: 2.9466\n",
      "Counter train preds: Counter({1: 32, 0: 20, 3: 10, 4: 5, 2: 5, 5: 3})\tCounter val preds: Counter({0: 23, 2: 2})\n",
      "Epoch train QWK: 0.635\tval QWK: 0.009\n",
      "Train with CV, on fold 2\n",
      "Epoch 0/9\n",
      "----------\n"
     ]
    },
    {
     "name": "stderr",
     "output_type": "stream",
     "text": [
      "\n",
      "100%|██████████| 5/5 [00:00<00:00,  7.96it/s]"
     ]
    },
    {
     "name": "stdout",
     "output_type": "stream",
     "text": [
      "Visualising input\n"
     ]
    },
    {
     "name": "stderr",
     "output_type": "stream",
     "text": [
      "\n",
      "100%|██████████| 2/2 [00:00<00:00,  3.70it/s]"
     ]
    },
    {
     "name": "stdout",
     "output_type": "stream",
     "text": [
      "Training Loss: 1.6856\tValidation Loss: 1.8174\n",
      "Counter train preds: Counter({1: 48, 3: 15, 0: 12})\tCounter val preds: Counter({0: 25})\n",
      "Epoch train QWK: 0.208\tval QWK: 0.000\n",
      "Epoch 1/9\n",
      "----------\n"
     ]
    },
    {
     "name": "stderr",
     "output_type": "stream",
     "text": [
      "\n",
      " 60%|██████    | 3/5 [00:00<00:00,  3.45it/s]"
     ]
    },
    {
     "name": "stdout",
     "output_type": "stream",
     "text": [
      "Visualising input\n"
     ]
    },
    {
     "name": "stderr",
     "output_type": "stream",
     "text": [
      "100%|██████████| 5/5 [00:00<00:00,  7.56it/s]\n",
      "100%|██████████| 2/2 [00:00<00:00,  3.71it/s]"
     ]
    },
    {
     "name": "stdout",
     "output_type": "stream",
     "text": [
      "Training Loss: 1.5455\tValidation Loss: 2.4182\n",
      "Counter train preds: Counter({1: 37, 0: 21, 3: 16, 2: 1})\tCounter val preds: Counter({0: 25})\n",
      "Epoch train QWK: 0.313\tval QWK: 0.000\n",
      "Epoch 2/9\n",
      "----------\n"
     ]
    },
    {
     "name": "stderr",
     "output_type": "stream",
     "text": [
      "\n",
      "100%|██████████| 5/5 [00:00<00:00,  8.02it/s]"
     ]
    },
    {
     "name": "stdout",
     "output_type": "stream",
     "text": [
      "Visualising input\n"
     ]
    },
    {
     "name": "stderr",
     "output_type": "stream",
     "text": [
      "\n",
      "100%|██████████| 2/2 [00:00<00:00,  3.73it/s]"
     ]
    },
    {
     "name": "stdout",
     "output_type": "stream",
     "text": [
      "Training Loss: 1.4741\tValidation Loss: 2.2700\n",
      "Counter train preds: Counter({1: 33, 0: 26, 3: 14, 2: 2})\tCounter val preds: Counter({0: 25})\n",
      "Epoch train QWK: 0.287\tval QWK: 0.000\n",
      "Epoch 3/9\n",
      "----------\n"
     ]
    },
    {
     "name": "stderr",
     "output_type": "stream",
     "text": [
      "\n",
      "100%|██████████| 5/5 [00:00<00:00,  7.64it/s]"
     ]
    },
    {
     "name": "stdout",
     "output_type": "stream",
     "text": [
      "Visualising input\n"
     ]
    },
    {
     "name": "stderr",
     "output_type": "stream",
     "text": [
      "\n",
      "100%|██████████| 2/2 [00:00<00:00,  3.60it/s]"
     ]
    },
    {
     "name": "stdout",
     "output_type": "stream",
     "text": [
      "Training Loss: 1.4289\tValidation Loss: 2.4097\n",
      "Counter train preds: Counter({1: 35, 0: 28, 3: 7, 2: 5})\tCounter val preds: Counter({0: 25})\n",
      "Epoch train QWK: 0.247\tval QWK: 0.000\n",
      "Epoch 4/9\n",
      "----------\n"
     ]
    },
    {
     "name": "stderr",
     "output_type": "stream",
     "text": [
      "\n",
      " 20%|██        | 1/5 [00:00<00:01,  2.55it/s]"
     ]
    },
    {
     "name": "stdout",
     "output_type": "stream",
     "text": [
      "Visualising input\n"
     ]
    },
    {
     "name": "stderr",
     "output_type": "stream",
     "text": [
      "100%|██████████| 5/5 [00:00<00:00,  7.52it/s]\n",
      "100%|██████████| 2/2 [00:00<00:00,  3.67it/s]"
     ]
    },
    {
     "name": "stdout",
     "output_type": "stream",
     "text": [
      "Training Loss: 1.3615\tValidation Loss: 2.0392\n",
      "Counter train preds: Counter({1: 39, 0: 25, 3: 7, 2: 4})\tCounter val preds: Counter({0: 24, 2: 1})\n",
      "Epoch train QWK: 0.307\tval QWK: 0.064\n",
      "Epoch 5/9\n",
      "----------\n"
     ]
    },
    {
     "name": "stderr",
     "output_type": "stream",
     "text": [
      "\n",
      "100%|██████████| 5/5 [00:00<00:00,  7.67it/s]"
     ]
    },
    {
     "name": "stdout",
     "output_type": "stream",
     "text": [
      "Visualising input\n"
     ]
    },
    {
     "name": "stderr",
     "output_type": "stream",
     "text": [
      "\n",
      "100%|██████████| 2/2 [00:00<00:00,  3.69it/s]"
     ]
    },
    {
     "name": "stdout",
     "output_type": "stream",
     "text": [
      "Training Loss: 1.4250\tValidation Loss: 1.6867\n",
      "Counter train preds: Counter({1: 41, 0: 26, 3: 8})\tCounter val preds: Counter({0: 20, 2: 3, 1: 2})\n",
      "Epoch train QWK: 0.266\tval QWK: 0.214\n",
      "Epoch 6/9\n",
      "----------\n"
     ]
    },
    {
     "name": "stderr",
     "output_type": "stream",
     "text": [
      "\n",
      "100%|██████████| 5/5 [00:00<00:00,  7.91it/s]"
     ]
    },
    {
     "name": "stdout",
     "output_type": "stream",
     "text": [
      "Visualising input\n"
     ]
    },
    {
     "name": "stderr",
     "output_type": "stream",
     "text": [
      "\n",
      "100%|██████████| 2/2 [00:00<00:00,  3.60it/s]"
     ]
    },
    {
     "name": "stdout",
     "output_type": "stream",
     "text": [
      "Training Loss: 1.3328\tValidation Loss: 1.7360\n",
      "Counter train preds: Counter({1: 34, 0: 24, 3: 12, 2: 4, 5: 1})\tCounter val preds: Counter({0: 18, 1: 5, 2: 2})\n",
      "Epoch train QWK: 0.365\tval QWK: 0.130\n",
      "Epoch 7/9\n",
      "----------\n"
     ]
    },
    {
     "name": "stderr",
     "output_type": "stream",
     "text": [
      "\n",
      " 60%|██████    | 3/5 [00:00<00:00,  3.21it/s]"
     ]
    },
    {
     "name": "stdout",
     "output_type": "stream",
     "text": [
      "Visualising input\n"
     ]
    },
    {
     "name": "stderr",
     "output_type": "stream",
     "text": [
      "100%|██████████| 5/5 [00:00<00:00,  7.17it/s]\n",
      "100%|██████████| 2/2 [00:00<00:00,  3.71it/s]"
     ]
    },
    {
     "name": "stdout",
     "output_type": "stream",
     "text": [
      "Training Loss: 1.3236\tValidation Loss: 1.8248\n",
      "Counter train preds: Counter({1: 33, 0: 21, 2: 13, 3: 6, 5: 2})\tCounter val preds: Counter({0: 17, 1: 5, 2: 3})\n",
      "Epoch train QWK: 0.316\tval QWK: 0.272\n",
      "Epoch 8/9\n",
      "----------\n"
     ]
    },
    {
     "name": "stderr",
     "output_type": "stream",
     "text": [
      "\n",
      "100%|██████████| 5/5 [00:00<00:00,  4.99it/s]"
     ]
    },
    {
     "name": "stdout",
     "output_type": "stream",
     "text": [
      "Visualising input\n"
     ]
    },
    {
     "name": "stderr",
     "output_type": "stream",
     "text": [
      "100%|██████████| 5/5 [00:00<00:00,  7.91it/s]\n",
      "100%|██████████| 2/2 [00:00<00:00,  3.63it/s]"
     ]
    },
    {
     "name": "stdout",
     "output_type": "stream",
     "text": [
      "Training Loss: 1.2498\tValidation Loss: 2.4719\n",
      "Counter train preds: Counter({1: 34, 0: 24, 2: 8, 3: 8, 5: 1})\tCounter val preds: Counter({0: 22, 2: 3})\n",
      "Epoch train QWK: 0.392\tval QWK: 0.259\n",
      "Epoch 9/9\n",
      "----------\n"
     ]
    },
    {
     "name": "stderr",
     "output_type": "stream",
     "text": [
      "\n",
      "100%|██████████| 5/5 [00:00<00:00,  8.02it/s]"
     ]
    },
    {
     "name": "stdout",
     "output_type": "stream",
     "text": [
      "Visualising input\n"
     ]
    },
    {
     "name": "stderr",
     "output_type": "stream",
     "text": [
      "\n",
      "100%|██████████| 2/2 [00:00<00:00,  3.74it/s]"
     ]
    },
    {
     "name": "stdout",
     "output_type": "stream",
     "text": [
      "Training Loss: 1.2657\tValidation Loss: 2.4212\n",
      "Counter train preds: Counter({1: 39, 0: 21, 2: 6, 3: 6, 5: 3})\tCounter val preds: Counter({0: 22, 2: 3})\n",
      "Epoch train QWK: 0.409\tval QWK: 0.259\n",
      "Train with CV, on fold 3\n",
      "Epoch 0/9\n",
      "----------\n"
     ]
    },
    {
     "name": "stderr",
     "output_type": "stream",
     "text": [
      "\n",
      " 60%|██████    | 3/5 [00:00<00:00,  3.76it/s]"
     ]
    },
    {
     "name": "stdout",
     "output_type": "stream",
     "text": [
      "Visualising input\n"
     ]
    },
    {
     "name": "stderr",
     "output_type": "stream",
     "text": [
      "100%|██████████| 5/5 [00:00<00:00,  7.78it/s]\n",
      "100%|██████████| 2/2 [00:00<00:00,  4.08it/s]"
     ]
    },
    {
     "name": "stdout",
     "output_type": "stream",
     "text": [
      "Training Loss: 1.7337\tValidation Loss: 1.6500\n",
      "Counter train preds: Counter({1: 49, 2: 14, 0: 6, 5: 3, 3: 3})\tCounter val preds: Counter({1: 24, 0: 1})\n",
      "Epoch train QWK: 0.123\tval QWK: -0.030\n",
      "Epoch 1/9\n",
      "----------\n"
     ]
    },
    {
     "name": "stderr",
     "output_type": "stream",
     "text": [
      "\n",
      "100%|██████████| 5/5 [00:00<00:00,  7.52it/s]"
     ]
    },
    {
     "name": "stdout",
     "output_type": "stream",
     "text": [
      "Visualising input\n"
     ]
    },
    {
     "name": "stderr",
     "output_type": "stream",
     "text": [
      "\n",
      "100%|██████████| 2/2 [00:00<00:00,  4.29it/s]"
     ]
    },
    {
     "name": "stdout",
     "output_type": "stream",
     "text": [
      "Training Loss: 1.5647\tValidation Loss: 1.7000\n",
      "Counter train preds: Counter({1: 40, 0: 18, 3: 12, 2: 5})\tCounter val preds: Counter({1: 25})\n",
      "Epoch train QWK: 0.232\tval QWK: 0.000\n",
      "Epoch 2/9\n",
      "----------\n"
     ]
    },
    {
     "name": "stderr",
     "output_type": "stream",
     "text": [
      "\n",
      " 60%|██████    | 3/5 [00:00<00:00,  3.84it/s]"
     ]
    },
    {
     "name": "stdout",
     "output_type": "stream",
     "text": [
      "Visualising input\n"
     ]
    },
    {
     "name": "stderr",
     "output_type": "stream",
     "text": [
      "100%|██████████| 5/5 [00:00<00:00,  7.87it/s]\n",
      "100%|██████████| 2/2 [00:00<00:00,  4.09it/s]"
     ]
    },
    {
     "name": "stdout",
     "output_type": "stream",
     "text": [
      "Training Loss: 1.4733\tValidation Loss: 1.6935\n",
      "Counter train preds: Counter({1: 33, 0: 27, 3: 13, 2: 2})\tCounter val preds: Counter({1: 25})\n",
      "Epoch train QWK: 0.337\tval QWK: 0.000\n",
      "Epoch 3/9\n",
      "----------\n"
     ]
    },
    {
     "name": "stderr",
     "output_type": "stream",
     "text": [
      "\n",
      " 60%|██████    | 3/5 [00:00<00:00,  3.67it/s]"
     ]
    },
    {
     "name": "stdout",
     "output_type": "stream",
     "text": [
      "Visualising input\n"
     ]
    },
    {
     "name": "stderr",
     "output_type": "stream",
     "text": [
      "100%|██████████| 5/5 [00:00<00:00,  7.66it/s]\n",
      "100%|██████████| 2/2 [00:00<00:00,  4.01it/s]"
     ]
    },
    {
     "name": "stdout",
     "output_type": "stream",
     "text": [
      "Training Loss: 1.4141\tValidation Loss: 1.6876\n",
      "Counter train preds: Counter({0: 29, 1: 28, 3: 10, 2: 6, 5: 2})\tCounter val preds: Counter({1: 25})\n",
      "Epoch train QWK: 0.475\tval QWK: 0.000\n",
      "Epoch 4/9\n",
      "----------\n"
     ]
    },
    {
     "name": "stderr",
     "output_type": "stream",
     "text": [
      "\n",
      " 60%|██████    | 3/5 [00:00<00:00,  3.46it/s]"
     ]
    },
    {
     "name": "stdout",
     "output_type": "stream",
     "text": [
      "Visualising input\n"
     ]
    },
    {
     "name": "stderr",
     "output_type": "stream",
     "text": [
      "100%|██████████| 5/5 [00:00<00:00,  7.39it/s]\n",
      "100%|██████████| 2/2 [00:00<00:00,  2.65it/s]"
     ]
    },
    {
     "name": "stdout",
     "output_type": "stream",
     "text": [
      "Training Loss: 1.3655\tValidation Loss: 1.6186\n",
      "Counter train preds: Counter({1: 35, 0: 26, 3: 7, 5: 4, 2: 3})\tCounter val preds: Counter({1: 21, 2: 3, 0: 1})\n",
      "Epoch train QWK: 0.395\tval QWK: 0.012\n",
      "Epoch 5/9\n",
      "----------\n"
     ]
    },
    {
     "name": "stderr",
     "output_type": "stream",
     "text": [
      "\n",
      "100%|██████████| 5/5 [00:00<00:00,  4.61it/s]"
     ]
    },
    {
     "name": "stdout",
     "output_type": "stream",
     "text": [
      "Visualising input\n"
     ]
    },
    {
     "name": "stderr",
     "output_type": "stream",
     "text": [
      "100%|██████████| 5/5 [00:00<00:00,  7.47it/s]\n",
      "100%|██████████| 2/2 [00:00<00:00,  3.97it/s]"
     ]
    },
    {
     "name": "stdout",
     "output_type": "stream",
     "text": [
      "Training Loss: 1.3591\tValidation Loss: 1.6763\n",
      "Counter train preds: Counter({1: 32, 0: 23, 3: 11, 2: 8, 5: 1})\tCounter val preds: Counter({2: 17, 0: 6, 1: 2})\n",
      "Epoch train QWK: 0.413\tval QWK: 0.313\n",
      "Epoch 6/9\n",
      "----------\n"
     ]
    },
    {
     "name": "stderr",
     "output_type": "stream",
     "text": [
      "\n",
      "100%|██████████| 5/5 [00:00<00:00,  4.59it/s]"
     ]
    },
    {
     "name": "stdout",
     "output_type": "stream",
     "text": [
      "Visualising input\n"
     ]
    },
    {
     "name": "stderr",
     "output_type": "stream",
     "text": [
      "100%|██████████| 5/5 [00:00<00:00,  7.40it/s]\n",
      "100%|██████████| 2/2 [00:00<00:00,  4.08it/s]"
     ]
    },
    {
     "name": "stdout",
     "output_type": "stream",
     "text": [
      "Training Loss: 1.3191\tValidation Loss: 1.6529\n",
      "Counter train preds: Counter({1: 34, 0: 26, 3: 5, 2: 4, 4: 4, 5: 2})\tCounter val preds: Counter({1: 12, 2: 9, 5: 2, 0: 2})\n",
      "Epoch train QWK: 0.424\tval QWK: 0.269\n",
      "Epoch 7/9\n",
      "----------\n"
     ]
    },
    {
     "name": "stderr",
     "output_type": "stream",
     "text": [
      "\n",
      "100%|██████████| 5/5 [00:00<00:00,  7.96it/s]"
     ]
    },
    {
     "name": "stdout",
     "output_type": "stream",
     "text": [
      "Visualising input\n"
     ]
    },
    {
     "name": "stderr",
     "output_type": "stream",
     "text": [
      "\n",
      "100%|██████████| 2/2 [00:00<00:00,  3.92it/s]"
     ]
    },
    {
     "name": "stdout",
     "output_type": "stream",
     "text": [
      "Training Loss: 1.3050\tValidation Loss: 1.7019\n",
      "Counter train preds: Counter({1: 36, 0: 21, 2: 6, 3: 5, 5: 4, 4: 3})\tCounter val preds: Counter({2: 13, 5: 7, 4: 3, 0: 2})\n",
      "Epoch train QWK: 0.454\tval QWK: 0.364\n",
      "Epoch 8/9\n",
      "----------\n"
     ]
    },
    {
     "name": "stderr",
     "output_type": "stream",
     "text": [
      "\n",
      " 60%|██████    | 3/5 [00:00<00:00,  3.98it/s]"
     ]
    },
    {
     "name": "stdout",
     "output_type": "stream",
     "text": [
      "Visualising input\n"
     ]
    },
    {
     "name": "stderr",
     "output_type": "stream",
     "text": [
      "100%|██████████| 5/5 [00:00<00:00,  7.99it/s]\n",
      "100%|██████████| 2/2 [00:00<00:00,  4.10it/s]"
     ]
    },
    {
     "name": "stdout",
     "output_type": "stream",
     "text": [
      "Training Loss: 1.2645\tValidation Loss: 1.7029\n",
      "Counter train preds: Counter({1: 36, 0: 22, 5: 7, 2: 5, 3: 4, 4: 1})\tCounter val preds: Counter({2: 10, 5: 5, 0: 5, 1: 4, 3: 1})\n",
      "Epoch train QWK: 0.461\tval QWK: 0.309\n",
      "Epoch 9/9\n",
      "----------\n"
     ]
    },
    {
     "name": "stderr",
     "output_type": "stream",
     "text": [
      "\n",
      "100%|██████████| 5/5 [00:00<00:00,  4.60it/s]"
     ]
    },
    {
     "name": "stdout",
     "output_type": "stream",
     "text": [
      "Visualising input\n"
     ]
    },
    {
     "name": "stderr",
     "output_type": "stream",
     "text": [
      "100%|██████████| 5/5 [00:00<00:00,  7.52it/s]\n",
      "100%|██████████| 2/2 [00:00<00:00,  4.03it/s]"
     ]
    },
    {
     "name": "stdout",
     "output_type": "stream",
     "text": [
      "Training Loss: 1.2169\tValidation Loss: 2.0975\n",
      "Counter train preds: Counter({1: 33, 0: 22, 2: 9, 3: 6, 5: 5})\tCounter val preds: Counter({4: 14, 5: 8, 0: 3})\n",
      "Epoch train QWK: 0.530\tval QWK: 0.218\n"
     ]
    },
    {
     "name": "stderr",
     "output_type": "stream",
     "text": [
      "\n"
     ]
    }
   ],
   "source": [
    "checkpoint = \"test_fold_{}.pth\"\n",
    "for fold in range(CFG.n_fold):\n",
    "    train_df = folds[folds[\"fold\"] != fold].copy()\n",
    "    val_df = folds[folds[\"fold\"] == fold].copy()\n",
    "    \n",
    "    train_ds = TrainDataset(train_df, transform=get_transforms(data=\"train\"), debug=False)\n",
    "    val_ds = TrainDataset(val_df, transform=get_transforms(data=\"valid\"), debug=False)\n",
    "    \n",
    "    model = TinyV2ConvNet(CFG.target_size)\n",
    "    # initialize bias in the model\n",
    "    cls_probas = (train_df[CFG.target_col].value_counts() / len(train_df)).values\n",
    "    model = init_last_layer_bias(model, cls_probas)\n",
    "    \n",
    "    criterion = nn.CrossEntropyLoss()\n",
    "    optimizer = torch.optim.Adam(model.parameters(), lr=CFG.lr, amsgrad=False)\n",
    "    print(f\"Train with CV, on fold {fold}\")\n",
    "    model = train_eval_loop(train_ds, val_ds, model, optimizer, criterion, tb_tag=fold)\n",
    "    torch.save(model.state_dict(), MODEL_PATH/checkpoint.format(fold))"
   ]
  },
  {
   "cell_type": "markdown",
   "metadata": {},
   "source": [
    "### Evaluate on Validation Set"
   ]
  },
  {
   "cell_type": "code",
   "execution_count": 77,
   "metadata": {},
   "outputs": [],
   "source": [
    "model_fnames = [\n",
    "#     \"03-07-2020-20-18_44_qwk.pth\",\n",
    "    \"03-07-2020-20-18_30_loss.pth\",\n",
    "]"
   ]
  },
  {
   "cell_type": "code",
   "execution_count": 78,
   "metadata": {},
   "outputs": [],
   "source": [
    "# Load Model/s\n",
    "models = []\n",
    "for name in model_fnames:\n",
    "    model = init_model(pretrained=False)\n",
    "\n",
    "    weights_path = MODEL_PATH/name\n",
    "    checkpoint = torch.load(weights_path, map_location=device)\n",
    "    model.load_state_dict(checkpoint['model_state_dict'])\n",
    "    models.append(model)"
   ]
  },
  {
   "cell_type": "code",
   "execution_count": 79,
   "metadata": {},
   "outputs": [],
   "source": [
    "# models = []\n",
    "# models.append(model_ft)"
   ]
  },
  {
   "cell_type": "code",
   "execution_count": 80,
   "metadata": {},
   "outputs": [
    {
     "data": {
      "text/plain": [
       "1"
      ]
     },
     "execution_count": 80,
     "metadata": {},
     "output_type": "execute_result"
    }
   ],
   "source": [
    "len(models)"
   ]
  },
  {
   "cell_type": "code",
   "execution_count": 81,
   "metadata": {},
   "outputs": [],
   "source": [
    "def threshold(x: float) -> int:\n",
    "    if x < 0.7:\n",
    "        return 0\n",
    "    elif x < 1.6:\n",
    "        return 1\n",
    "    elif x < 2.5:\n",
    "        return 2\n",
    "    elif x < 3.5:\n",
    "        return 3\n",
    "    elif x < 4.4:\n",
    "        return 4\n",
    "    else:\n",
    "        return 5\n",
    "    \n",
    "v_threshold = np.vectorize(threshold)"
   ]
  },
  {
   "cell_type": "code",
   "execution_count": 82,
   "metadata": {},
   "outputs": [],
   "source": [
    "def compute_preds(outputs, loss_type=CFG.loss, custom_th=False):\n",
    "        if loss_type == \"bce\":\n",
    "            raw_preds = outputs.sigmoid().sum(1).data.cpu().numpy()\n",
    "            if custom_th:\n",
    "                preds = v_threshold(raw_preds)\n",
    "            else:\n",
    "                preds = raw_preds.round()\n",
    "        else:\n",
    "            preds = outputs.data.to(\"cpu\").numpy().argmax(1)\n",
    "        return preds.astype(int), raw_preds"
   ]
  },
  {
   "cell_type": "code",
   "execution_count": 83,
   "metadata": {},
   "outputs": [],
   "source": [
    "TARGET_SZ = CFG.target_size\n",
    "\n",
    "if CFG.loss == \"bce\":\n",
    "    TARGET_SZ = CFG.target_size - 1\n",
    "    \n",
    "def inference(models, test_loader, device, *args, **kwargs):\n",
    "    \n",
    "    for model in models:\n",
    "        model.to(device)\n",
    "        model.eval()\n",
    "    \n",
    "    preds = []\n",
    "    raw_preds = []\n",
    "\n",
    "    for i, data in enumerate(test_loader):\n",
    "        images, _ = data\n",
    "        if CFG.aux_tile:\n",
    "            img_main, img_aux = images\n",
    "            img_main, img_aux = img_main.to(device), img_aux.to(device)\n",
    "            y_preds = torch.zeros((len(img_main), TARGET_SZ), device=device)\n",
    "        else:\n",
    "            images = images.to(device)\n",
    "            y_preds = torch.zeros((len(images), TARGET_SZ), device=device)\n",
    "            \n",
    "        with torch.no_grad():\n",
    "            for model in models:\n",
    "                y_preds += model(images)\n",
    "            y_preds = y_preds / len(models)\n",
    "            \n",
    "        pred, raw_pred = compute_preds(y_preds, *args, **kwargs)\n",
    "        preds.append(pred)\n",
    "        raw_preds.append(raw_pred)\n",
    "\n",
    "    preds = np.concatenate(preds)\n",
    "    raw_preds = np.concatenate(raw_preds)\n",
    "    \n",
    "    return preds, raw_preds"
   ]
  },
  {
   "cell_type": "code",
   "execution_count": 84,
   "metadata": {},
   "outputs": [],
   "source": [
    "def submit(sample, test_loader, models, *args, **kwargs):\n",
    "    preds, raw_preds = inference(models, test_loader, device, *args, **kwargs)\n",
    "    sample['isup_pred'] = preds\n",
    "    sample['isup_raw_pred'] = raw_preds\n",
    "    return sample"
   ]
  },
  {
   "cell_type": "code",
   "execution_count": 85,
   "metadata": {},
   "outputs": [],
   "source": [
    "# Use Custom Thresholds\n",
    "CUSTOM_TH = False"
   ]
  },
  {
   "cell_type": "code",
   "execution_count": 86,
   "metadata": {},
   "outputs": [],
   "source": [
    "val_df = submit(val_df, val_dataloader, models, custom_th=CUSTOM_TH)"
   ]
  },
  {
   "cell_type": "code",
   "execution_count": 87,
   "metadata": {},
   "outputs": [
    {
     "data": {
      "text/html": [
       "<div>\n",
       "<style scoped>\n",
       "    .dataframe tbody tr th:only-of-type {\n",
       "        vertical-align: middle;\n",
       "    }\n",
       "\n",
       "    .dataframe tbody tr th {\n",
       "        vertical-align: top;\n",
       "    }\n",
       "\n",
       "    .dataframe thead th {\n",
       "        text-align: right;\n",
       "    }\n",
       "</style>\n",
       "<table border=\"1\" class=\"dataframe\">\n",
       "  <thead>\n",
       "    <tr style=\"text-align: right;\">\n",
       "      <th></th>\n",
       "      <th>image_id</th>\n",
       "      <th>data_provider</th>\n",
       "      <th>isup_grade</th>\n",
       "      <th>gleason_score</th>\n",
       "      <th>fold</th>\n",
       "      <th>class_weight</th>\n",
       "      <th>isup_pred</th>\n",
       "      <th>isup_raw_pred</th>\n",
       "      <th>eval</th>\n",
       "    </tr>\n",
       "  </thead>\n",
       "  <tbody>\n",
       "    <tr>\n",
       "      <th>1</th>\n",
       "      <td>000920ad0b612851f8e01bcc880d9b3d</td>\n",
       "      <td>karolinska</td>\n",
       "      <td>0</td>\n",
       "      <td>0+0</td>\n",
       "      <td>0</td>\n",
       "      <td>1.000000</td>\n",
       "      <td>0</td>\n",
       "      <td>0.031069</td>\n",
       "      <td>1</td>\n",
       "    </tr>\n",
       "    <tr>\n",
       "      <th>3</th>\n",
       "      <td>001c62abd11fa4b57bf7a6c603a11bb9</td>\n",
       "      <td>karolinska</td>\n",
       "      <td>4</td>\n",
       "      <td>4+4</td>\n",
       "      <td>0</td>\n",
       "      <td>2.549582</td>\n",
       "      <td>4</td>\n",
       "      <td>4.178603</td>\n",
       "      <td>0</td>\n",
       "    </tr>\n",
       "    <tr>\n",
       "      <th>11</th>\n",
       "      <td>004391d48d58b18156f811087cd38abf</td>\n",
       "      <td>karolinska</td>\n",
       "      <td>1</td>\n",
       "      <td>3+3</td>\n",
       "      <td>0</td>\n",
       "      <td>1.126121</td>\n",
       "      <td>1</td>\n",
       "      <td>1.186236</td>\n",
       "      <td>0</td>\n",
       "    </tr>\n",
       "    <tr>\n",
       "      <th>15</th>\n",
       "      <td>006f6aa35a78965c92fffd1fbd53a058</td>\n",
       "      <td>radboud</td>\n",
       "      <td>3</td>\n",
       "      <td>4+3</td>\n",
       "      <td>0</td>\n",
       "      <td>2.490082</td>\n",
       "      <td>3</td>\n",
       "      <td>3.245849</td>\n",
       "      <td>1</td>\n",
       "    </tr>\n",
       "    <tr>\n",
       "      <th>17</th>\n",
       "      <td>0076bcb66e46fb485f5ba432b9a1fe8a</td>\n",
       "      <td>radboud</td>\n",
       "      <td>3</td>\n",
       "      <td>4+3</td>\n",
       "      <td>0</td>\n",
       "      <td>2.490082</td>\n",
       "      <td>4</td>\n",
       "      <td>3.824526</td>\n",
       "      <td>1</td>\n",
       "    </tr>\n",
       "  </tbody>\n",
       "</table>\n",
       "</div>"
      ],
      "text/plain": [
       "                            image_id data_provider  isup_grade gleason_score  \\\n",
       "1   000920ad0b612851f8e01bcc880d9b3d    karolinska           0           0+0   \n",
       "3   001c62abd11fa4b57bf7a6c603a11bb9    karolinska           4           4+4   \n",
       "11  004391d48d58b18156f811087cd38abf    karolinska           1           3+3   \n",
       "15  006f6aa35a78965c92fffd1fbd53a058       radboud           3           4+3   \n",
       "17  0076bcb66e46fb485f5ba432b9a1fe8a       radboud           3           4+3   \n",
       "\n",
       "    fold  class_weight  isup_pred  isup_raw_pred  eval  \n",
       "1      0      1.000000          0       0.031069     1  \n",
       "3      0      2.549582          4       4.178603     0  \n",
       "11     0      1.126121          1       1.186236     0  \n",
       "15     0      2.490082          3       3.245849     1  \n",
       "17     0      2.490082          4       3.824526     1  "
      ]
     },
     "execution_count": 87,
     "metadata": {},
     "output_type": "execute_result"
    }
   ],
   "source": [
    "val_df.head()"
   ]
  },
  {
   "cell_type": "code",
   "execution_count": 88,
   "metadata": {},
   "outputs": [
    {
     "name": "stdout",
     "output_type": "stream",
     "text": [
      "Normalized confusion matrix\n",
      "[[0.91011236 0.07724719 0.01123596 0.         0.00140449 0.        ]\n",
      " [0.07278481 0.76265823 0.14240506 0.02056962 0.00158228 0.        ]\n",
      " [0.02229299 0.27388535 0.49044586 0.15923567 0.04458599 0.00955414]\n",
      " [0.04878049 0.04181185 0.15679443 0.43902439 0.29616725 0.0174216 ]\n",
      " [0.02447552 0.02097902 0.07692308 0.18881119 0.51748252 0.17132867]\n",
      " [0.01111111 0.03333333 0.01851852 0.05925926 0.2962963  0.58148148]]\n"
     ]
    },
    {
     "data": {
      "image/png": "[encoded data removed]",
      "text/plain": [
       "<Figure size 432x288 with 2 Axes>"
      ]
     },
     "metadata": {
      "image/png": {
       "height": 279,
       "width": 313
      },
      "needs_background": "light"
     },
     "output_type": "display_data"
    }
   ],
   "source": [
    "_ = plot_confusion_matrix(val_df.isup_grade, val_df.isup_pred, normalize=True)"
   ]
  },
  {
   "cell_type": "code",
   "execution_count": 89,
   "metadata": {},
   "outputs": [
    {
     "name": "stderr",
     "output_type": "stream",
     "text": [
      "Models: ['03-07-2020-20-18_30_loss.pth']\n"
     ]
    }
   ],
   "source": [
    "logging.info(f\"Models: {model_fnames}\")"
   ]
  },
  {
   "cell_type": "code",
   "execution_count": 90,
   "metadata": {},
   "outputs": [],
   "source": [
    "pred_kappa = cohen_kappa_score(val_df.isup_grade, val_df.isup_pred, weights=\"quadratic\")"
   ]
  },
  {
   "cell_type": "code",
   "execution_count": 91,
   "metadata": {},
   "outputs": [
    {
     "name": "stderr",
     "output_type": "stream",
     "text": [
      "Overall kapa: 0.8849877632621721\n"
     ]
    }
   ],
   "source": [
    "logging.info(f\"Overall kapa: {pred_kappa}\")"
   ]
  },
  {
   "cell_type": "code",
   "execution_count": 92,
   "metadata": {},
   "outputs": [
    {
     "name": "stderr",
     "output_type": "stream",
     "text": [
      "Karolinska kapa: 0.8867675070275062\n"
     ]
    }
   ],
   "source": [
    "karol_df = val_df[val_df.data_provider == \"karolinska\"].copy()\n",
    "kapa_karol = cohen_kappa_score(karol_df.isup_grade, karol_df.isup_pred, weights=\"quadratic\")\n",
    "logging.info(f\"Karolinska kapa: {kapa_karol}\")"
   ]
  },
  {
   "cell_type": "code",
   "execution_count": 93,
   "metadata": {},
   "outputs": [
    {
     "name": "stderr",
     "output_type": "stream",
     "text": [
      "Radboud kapa: 0.8577989904242836\n"
     ]
    }
   ],
   "source": [
    "radboud_df = val_df[val_df.data_provider == \"radboud\"].copy()\n",
    "kapa_radboud = cohen_kappa_score(radboud_df.isup_grade, radboud_df.isup_pred, weights=\"quadratic\")\n",
    "logging.info(f\"Radboud kapa: {kapa_radboud}\")"
   ]
  },
  {
   "cell_type": "markdown",
   "metadata": {},
   "source": [
    "#### Optimize Rounding"
   ]
  },
  {
   "cell_type": "code",
   "execution_count": 94,
   "metadata": {},
   "outputs": [],
   "source": [
    "rnd_sample_ids = val_df.sample(frac=0.5).index"
   ]
  },
  {
   "cell_type": "code",
   "execution_count": 95,
   "metadata": {},
   "outputs": [],
   "source": [
    "val_df[\"eval\"] = 0\n",
    "val_df.loc[rnd_sample_ids, \"eval\"] = 1"
   ]
  },
  {
   "cell_type": "code",
   "execution_count": 96,
   "metadata": {},
   "outputs": [],
   "source": [
    "dev_preds = val_df.loc[val_df[\"eval\"] == 0, \"isup_raw_pred\"].values\n",
    "dev_targs = val_df.loc[val_df[\"eval\"] == 0, \"isup_grade\"].values\n",
    "eval_preds = val_df.loc[val_df[\"eval\"] == 1, \"isup_raw_pred\"].values\n",
    "eval_targs = val_df.loc[val_df[\"eval\"] == 1, \"isup_grade\"].values"
   ]
  },
  {
   "cell_type": "code",
   "execution_count": 97,
   "metadata": {},
   "outputs": [],
   "source": [
    "opt_r = OptimizedRounder()\n",
    "opt_r.fit(dev_preds, dev_targs)"
   ]
  },
  {
   "cell_type": "code",
   "execution_count": 98,
   "metadata": {},
   "outputs": [
    {
     "name": "stderr",
     "output_type": "stream",
     "text": [
      "Optimized coefs: [0.50358551 1.55012698 2.55229496 3.51834579 4.50439696]\n"
     ]
    }
   ],
   "source": [
    "coefficients = opt_r.coefficients()\n",
    "logging.info(f\"Optimized coefs: {coefficients}\")"
   ]
  },
  {
   "cell_type": "code",
   "execution_count": 99,
   "metadata": {},
   "outputs": [],
   "source": [
    "eval_preds_round = opt_r.predict(val_df.isup_raw_pred, coefficients)"
   ]
  },
  {
   "cell_type": "code",
   "execution_count": 100,
   "metadata": {},
   "outputs": [],
   "source": [
    "round_opt_kapa = cohen_kappa_score(val_df.isup_grade, eval_preds_round, weights=\"quadratic\")"
   ]
  },
  {
   "cell_type": "code",
   "execution_count": 101,
   "metadata": {},
   "outputs": [
    {
     "name": "stderr",
     "output_type": "stream",
     "text": [
      "Optimized round kapa: 0.8860918416261604\n"
     ]
    }
   ],
   "source": [
    "logging.info(f\"Optimized round kapa: {round_opt_kapa}\")"
   ]
  },
  {
   "cell_type": "markdown",
   "metadata": {},
   "source": [
    "#### Check results with Hard Class Permutation"
   ]
  },
  {
   "cell_type": "code",
   "execution_count": 43,
   "metadata": {},
   "outputs": [],
   "source": [
    "hard_cls_values = val_df.loc[val_df.isup_pred.isin([2,3,4]), \"isup_pred\"].copy().values"
   ]
  },
  {
   "cell_type": "code",
   "execution_count": 44,
   "metadata": {},
   "outputs": [
    {
     "data": {
      "text/plain": [
       "array([4, 3, 4, 2, 3])"
      ]
     },
     "execution_count": 44,
     "metadata": {},
     "output_type": "execute_result"
    }
   ],
   "source": [
    "hard_cls_values[:5]"
   ]
  },
  {
   "cell_type": "code",
   "execution_count": 45,
   "metadata": {},
   "outputs": [],
   "source": [
    "np.random.shuffle(hard_cls_values)"
   ]
  },
  {
   "cell_type": "code",
   "execution_count": 46,
   "metadata": {},
   "outputs": [
    {
     "data": {
      "text/plain": [
       "array([3, 4, 3, 4, 2])"
      ]
     },
     "execution_count": 46,
     "metadata": {},
     "output_type": "execute_result"
    }
   ],
   "source": [
    "hard_cls_values[:5]"
   ]
  },
  {
   "cell_type": "code",
   "execution_count": 47,
   "metadata": {},
   "outputs": [],
   "source": [
    "val_df.loc[val_df.isup_pred.isin([2,3,4]), \"isup_pred\"] = hard_cls_values"
   ]
  },
  {
   "cell_type": "code",
   "execution_count": 48,
   "metadata": {},
   "outputs": [
    {
     "name": "stdout",
     "output_type": "stream",
     "text": [
      "Normalized confusion matrix\n",
      "[[0.94382022 0.03792135 0.00702247 0.00421348 0.00280899 0.00421348]\n",
      " [0.0830721  0.79937304 0.03605016 0.04702194 0.03291536 0.0015674 ]\n",
      " [0.04126984 0.27936508 0.25396825 0.22222222 0.18412698 0.01904762]\n",
      " [0.09310345 0.05862069 0.26896552 0.23793103 0.24482759 0.09655172]\n",
      " [0.0652921  0.03780069 0.26460481 0.25429553 0.2371134  0.14089347]\n",
      " [0.05818182 0.01454545 0.11636364 0.10545455 0.14909091 0.55636364]]\n"
     ]
    },
    {
     "data": {
      "image/png": "[encoded data removed]",
      "text/plain": [
       "<Figure size 432x288 with 2 Axes>"
      ]
     },
     "metadata": {
      "image/png": {
       "height": 279,
       "width": 313
      },
      "needs_background": "light"
     },
     "output_type": "display_data"
    }
   ],
   "source": [
    "_ = plot_confusion_matrix(val_df.isup_grade, val_df.isup_pred, normalize=True)"
   ]
  },
  {
   "cell_type": "code",
   "execution_count": 49,
   "metadata": {},
   "outputs": [
    {
     "data": {
      "text/plain": [
       "0.7659439769237075"
      ]
     },
     "execution_count": 49,
     "metadata": {},
     "output_type": "execute_result"
    }
   ],
   "source": [
    "permute_kapa = cohen_kappa_score(val_df.isup_grade, val_df.isup_pred, weights=\"quadratic\")\n",
    "permute_kapa"
   ]
  },
  {
   "cell_type": "code",
   "execution_count": 50,
   "metadata": {},
   "outputs": [
    {
     "name": "stdout",
     "output_type": "stream",
     "text": [
      "Permutation importance: 0.07017338008015972\n"
     ]
    }
   ],
   "source": [
    "print(f\"Permutation importance: {1 - (permute_kapa/pred_kappa)}\")"
   ]
  },
  {
   "cell_type": "code",
   "execution_count": 34,
   "metadata": {},
   "outputs": [
    {
     "name": "stdout",
     "output_type": "stream",
     "text": [
      "LB Permutation importance: 0.04761904761904756\n"
     ]
    }
   ],
   "source": [
    "# LB\n",
    "print(f\"LB Permutation importance: {1 - (0.80/0.84)}\")"
   ]
  },
  {
   "cell_type": "code",
   "execution_count": null,
   "metadata": {},
   "outputs": [],
   "source": []
  }
 ],
 "metadata": {
  "kernelspec": {
   "display_name": "chestxray",
   "language": "python",
   "name": "chestxray"
  },
  "language_info": {
   "codemirror_mode": {
    "name": "ipython",
    "version": 3
   },
   "file_extension": ".py",
   "mimetype": "text/x-python",
   "name": "python",
   "nbconvert_exporter": "python",
   "pygments_lexer": "ipython3",
   "version": "3.7.7"
  },
  "toc-autonumbering": false,
  "toc-showcode": false,
  "toc-showmarkdowntxt": false
 },
 "nbformat": 4,
 "nbformat_minor": 4
}
