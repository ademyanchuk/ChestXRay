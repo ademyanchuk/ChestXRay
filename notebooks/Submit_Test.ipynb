{
 "cells": [
  {
   "cell_type": "markdown",
   "metadata": {},
   "source": [
    "### Imports"
   ]
  },
  {
   "cell_type": "code",
   "execution_count": 1,
   "metadata": {},
   "outputs": [],
   "source": [
    "local = True"
   ]
  },
  {
   "cell_type": "code",
   "execution_count": 2,
   "metadata": {},
   "outputs": [],
   "source": [
    "import random\n",
    "import sys\n",
    "import os\n",
    "import cv2\n",
    "import skimage.io\n",
    "import numpy as np\n",
    "import pandas as pd\n",
    "import torch\n",
    "from torch.utils.data import Dataset, DataLoader\n",
    "from pathlib import Path\n",
    "\n",
    "import albumentations as A"
   ]
  },
  {
   "cell_type": "code",
   "execution_count": 3,
   "metadata": {},
   "outputs": [],
   "source": [
    "if local:\n",
    "    from chestxray.config import PANDA_PATH, PANDA_IMGS, CFG\n",
    "    \n",
    "    TEST_PATH = PANDA_IMGS\n",
    "    ADD_DIR = Path(\"/home/ademyanchuk/Projects/ChestXRay/submit_panda\")"
   ]
  },
  {
   "cell_type": "code",
   "execution_count": 4,
   "metadata": {},
   "outputs": [],
   "source": [
    "if not local:\n",
    "    class CFG:\n",
    "        # overall\n",
    "        debug = False\n",
    "        seed = 1982\n",
    "        # data\n",
    "        img_height = 1024\n",
    "        img_width = 1024\n",
    "        target_size = 6\n",
    "        img_id_col = \"image_id\"\n",
    "        target_col = \"isup_grade\"\n",
    "        tiff_layer = 1\n",
    "        stoch_sample = True\n",
    "        num_tiles = 16\n",
    "        tile_sz = 256\n",
    "        batch_size = 4\n",
    "        accum_step = 16  # effective batch size will be batch_size * accum_step\n",
    "        dataset = \"hdf5\"  # \"patch\", \"tiles\", \"lazy\", \"hdf5\"\n",
    "        aug_type = \"light\"  # \"light\" or \"heavy\"\n",
    "        # model\n",
    "        finetune = False  # or \"1stage\"\n",
    "        model_cls = \"one_layer\"  # \"one_layer\" or \"deep\"\n",
    "        schedule_type = \"none\"  # \"one_cycle\", \"reduce_on_plateau\" or \"cawr\"\n",
    "        cawr_T = 1\n",
    "        cawr_Tmult = 2\n",
    "        # loss\n",
    "        loss = \"cce\"  # \"cce\" or \"ls_soft_ce\"\n",
    "        # optim\n",
    "        optim = \"adam\"  # \"adam\", \"sgd\" or \"radam\"\n",
    "        lr = 0.001 if optim == \"sgd\" else 3e-4\n",
    "        # schedule\n",
    "        rlopp = 3  # learnig rate on plateu scheduler patience\n",
    "        # training\n",
    "        epoch = 50\n",
    "        n_fold = 4\n",
    "        use_amp = True\n",
    "\n",
    "    PANDA_PATH = Path('../input/prostate-cancer-grade-assessment')\n",
    "    TEST_PATH = Path('../input/prostate-cancer-grade-assessment/test_images')\n",
    "    ADD_DIR = Path(\"../input/panda0\")"
   ]
  },
  {
   "cell_type": "code",
   "execution_count": 5,
   "metadata": {},
   "outputs": [],
   "source": [
    "sys.path.append(str(ADD_DIR))"
   ]
  },
  {
   "cell_type": "code",
   "execution_count": 6,
   "metadata": {},
   "outputs": [],
   "source": [
    "# Imports from dataset\n",
    "from submit_patch import PatchModel"
   ]
  },
  {
   "cell_type": "markdown",
   "metadata": {},
   "source": [
    "### Setup"
   ]
  },
  {
   "cell_type": "code",
   "execution_count": 7,
   "metadata": {},
   "outputs": [
    {
     "data": {
      "text/plain": [
       "device(type='cuda')"
      ]
     },
     "execution_count": 7,
     "metadata": {},
     "output_type": "execute_result"
    }
   ],
   "source": [
    "device = torch.device('cuda' if torch.cuda.is_available() else 'cpu')\n",
    "device"
   ]
  },
  {
   "cell_type": "code",
   "execution_count": 8,
   "metadata": {},
   "outputs": [],
   "source": [
    "def seed_torch(seed=1982):\n",
    "    random.seed(seed)\n",
    "    os.environ['PYTHONHASHSEED'] = str(seed)\n",
    "    np.random.seed(seed)\n",
    "    torch.manual_seed(seed)\n",
    "    torch.cuda.manual_seed(seed)\n",
    "    torch.backends.cudnn.deterministic = True\n",
    "    \n",
    "seed_torch()"
   ]
  },
  {
   "cell_type": "code",
   "execution_count": 9,
   "metadata": {},
   "outputs": [
    {
     "data": {
      "text/plain": [
       "['train_label_masks',\n",
       " 'sample_submission.csv',\n",
       " 'test.csv',\n",
       " 'train_images',\n",
       " 'folds.csv',\n",
       " 'folds_db.csv',\n",
       " 'hdf5',\n",
       " 'train.csv']"
      ]
     },
     "execution_count": 9,
     "metadata": {},
     "output_type": "execute_result"
    }
   ],
   "source": [
    "os.listdir(PANDA_PATH)"
   ]
  },
  {
   "cell_type": "code",
   "execution_count": 10,
   "metadata": {},
   "outputs": [
    {
     "data": {
      "text/plain": [
       "True"
      ]
     },
     "execution_count": 10,
     "metadata": {},
     "output_type": "execute_result"
    }
   ],
   "source": [
    "TEST_PATH.exists()"
   ]
  },
  {
   "cell_type": "markdown",
   "metadata": {},
   "source": [
    "### Data Loading"
   ]
  },
  {
   "cell_type": "code",
   "execution_count": 11,
   "metadata": {},
   "outputs": [],
   "source": [
    "train = pd.read_csv(PANDA_PATH/'train.csv')\n",
    "test = pd.read_csv(PANDA_PATH/'test.csv')\n",
    "sample = pd.read_csv(PANDA_PATH/'sample_submission.csv')"
   ]
  },
  {
   "cell_type": "code",
   "execution_count": 12,
   "metadata": {},
   "outputs": [
    {
     "data": {
      "text/html": [
       "<div>\n",
       "<style scoped>\n",
       "    .dataframe tbody tr th:only-of-type {\n",
       "        vertical-align: middle;\n",
       "    }\n",
       "\n",
       "    .dataframe tbody tr th {\n",
       "        vertical-align: top;\n",
       "    }\n",
       "\n",
       "    .dataframe thead th {\n",
       "        text-align: right;\n",
       "    }\n",
       "</style>\n",
       "<table border=\"1\" class=\"dataframe\">\n",
       "  <thead>\n",
       "    <tr style=\"text-align: right;\">\n",
       "      <th></th>\n",
       "      <th>image_id</th>\n",
       "      <th>data_provider</th>\n",
       "      <th>isup_grade</th>\n",
       "      <th>gleason_score</th>\n",
       "    </tr>\n",
       "  </thead>\n",
       "  <tbody>\n",
       "    <tr>\n",
       "      <th>0</th>\n",
       "      <td>0005f7aaab2800f6170c399693a96917</td>\n",
       "      <td>karolinska</td>\n",
       "      <td>0</td>\n",
       "      <td>0+0</td>\n",
       "    </tr>\n",
       "    <tr>\n",
       "      <th>1</th>\n",
       "      <td>000920ad0b612851f8e01bcc880d9b3d</td>\n",
       "      <td>karolinska</td>\n",
       "      <td>0</td>\n",
       "      <td>0+0</td>\n",
       "    </tr>\n",
       "    <tr>\n",
       "      <th>2</th>\n",
       "      <td>0018ae58b01bdadc8e347995b69f99aa</td>\n",
       "      <td>radboud</td>\n",
       "      <td>4</td>\n",
       "      <td>4+4</td>\n",
       "    </tr>\n",
       "    <tr>\n",
       "      <th>3</th>\n",
       "      <td>001c62abd11fa4b57bf7a6c603a11bb9</td>\n",
       "      <td>karolinska</td>\n",
       "      <td>4</td>\n",
       "      <td>4+4</td>\n",
       "    </tr>\n",
       "    <tr>\n",
       "      <th>4</th>\n",
       "      <td>001d865e65ef5d2579c190a0e0350d8f</td>\n",
       "      <td>karolinska</td>\n",
       "      <td>0</td>\n",
       "      <td>0+0</td>\n",
       "    </tr>\n",
       "  </tbody>\n",
       "</table>\n",
       "</div>"
      ],
      "text/plain": [
       "                           image_id data_provider  isup_grade gleason_score\n",
       "0  0005f7aaab2800f6170c399693a96917    karolinska           0           0+0\n",
       "1  000920ad0b612851f8e01bcc880d9b3d    karolinska           0           0+0\n",
       "2  0018ae58b01bdadc8e347995b69f99aa       radboud           4           4+4\n",
       "3  001c62abd11fa4b57bf7a6c603a11bb9    karolinska           4           4+4\n",
       "4  001d865e65ef5d2579c190a0e0350d8f    karolinska           0           0+0"
      ]
     },
     "execution_count": 12,
     "metadata": {},
     "output_type": "execute_result"
    }
   ],
   "source": [
    "train.head()"
   ]
  },
  {
   "cell_type": "code",
   "execution_count": 13,
   "metadata": {},
   "outputs": [
    {
     "data": {
      "text/html": [
       "<div>\n",
       "<style scoped>\n",
       "    .dataframe tbody tr th:only-of-type {\n",
       "        vertical-align: middle;\n",
       "    }\n",
       "\n",
       "    .dataframe tbody tr th {\n",
       "        vertical-align: top;\n",
       "    }\n",
       "\n",
       "    .dataframe thead th {\n",
       "        text-align: right;\n",
       "    }\n",
       "</style>\n",
       "<table border=\"1\" class=\"dataframe\">\n",
       "  <thead>\n",
       "    <tr style=\"text-align: right;\">\n",
       "      <th></th>\n",
       "      <th>image_id</th>\n",
       "      <th>data_provider</th>\n",
       "    </tr>\n",
       "  </thead>\n",
       "  <tbody>\n",
       "    <tr>\n",
       "      <th>0</th>\n",
       "      <td>005700be7e06878e6605e7a5a39de1b2</td>\n",
       "      <td>radboud</td>\n",
       "    </tr>\n",
       "    <tr>\n",
       "      <th>1</th>\n",
       "      <td>005c6e8877caf724c600fdce5d417d40</td>\n",
       "      <td>karolinska</td>\n",
       "    </tr>\n",
       "    <tr>\n",
       "      <th>2</th>\n",
       "      <td>0104f76634ff89bfff1ef0804a95c380</td>\n",
       "      <td>radboud</td>\n",
       "    </tr>\n",
       "  </tbody>\n",
       "</table>\n",
       "</div>"
      ],
      "text/plain": [
       "                           image_id data_provider\n",
       "0  005700be7e06878e6605e7a5a39de1b2       radboud\n",
       "1  005c6e8877caf724c600fdce5d417d40    karolinska\n",
       "2  0104f76634ff89bfff1ef0804a95c380       radboud"
      ]
     },
     "execution_count": 13,
     "metadata": {},
     "output_type": "execute_result"
    }
   ],
   "source": [
    "test.head()"
   ]
  },
  {
   "cell_type": "code",
   "execution_count": 14,
   "metadata": {},
   "outputs": [
    {
     "data": {
      "text/html": [
       "<div>\n",
       "<style scoped>\n",
       "    .dataframe tbody tr th:only-of-type {\n",
       "        vertical-align: middle;\n",
       "    }\n",
       "\n",
       "    .dataframe tbody tr th {\n",
       "        vertical-align: top;\n",
       "    }\n",
       "\n",
       "    .dataframe thead th {\n",
       "        text-align: right;\n",
       "    }\n",
       "</style>\n",
       "<table border=\"1\" class=\"dataframe\">\n",
       "  <thead>\n",
       "    <tr style=\"text-align: right;\">\n",
       "      <th></th>\n",
       "      <th>image_id</th>\n",
       "      <th>isup_grade</th>\n",
       "    </tr>\n",
       "  </thead>\n",
       "  <tbody>\n",
       "    <tr>\n",
       "      <th>0</th>\n",
       "      <td>005700be7e06878e6605e7a5a39de1b2</td>\n",
       "      <td>0</td>\n",
       "    </tr>\n",
       "    <tr>\n",
       "      <th>1</th>\n",
       "      <td>005c6e8877caf724c600fdce5d417d40</td>\n",
       "      <td>0</td>\n",
       "    </tr>\n",
       "    <tr>\n",
       "      <th>2</th>\n",
       "      <td>0104f76634ff89bfff1ef0804a95c380</td>\n",
       "      <td>0</td>\n",
       "    </tr>\n",
       "  </tbody>\n",
       "</table>\n",
       "</div>"
      ],
      "text/plain": [
       "                           image_id  isup_grade\n",
       "0  005700be7e06878e6605e7a5a39de1b2           0\n",
       "1  005c6e8877caf724c600fdce5d417d40           0\n",
       "2  0104f76634ff89bfff1ef0804a95c380           0"
      ]
     },
     "execution_count": 14,
     "metadata": {},
     "output_type": "execute_result"
    }
   ],
   "source": [
    "sample.head()"
   ]
  },
  {
   "cell_type": "markdown",
   "metadata": {},
   "source": [
    "### Dataset"
   ]
  },
  {
   "cell_type": "code",
   "execution_count": 15,
   "metadata": {},
   "outputs": [],
   "source": [
    "def make_patch(image, patch_size, num_patch):\n",
    "    h, w = image.shape[:2]\n",
    "    s = patch_size\n",
    "\n",
    "    pad_x = int(patch_size * np.ceil(w / patch_size) - w)\n",
    "    pad_y = int(patch_size * np.ceil(h / patch_size) - h)\n",
    "    image = cv2.copyMakeBorder(\n",
    "        image, 0, pad_y, 0, pad_x, borderType=cv2.BORDER_CONSTANT, value=(255, 255, 255)\n",
    "    )\n",
    "    h, w = image.shape[:2]\n",
    "\n",
    "    patch = image.reshape(h // s, s, w // s, s, 3)\n",
    "    patch = patch.transpose(0, 2, 1, 3, 4).reshape(-1, s, s, 3)\n",
    "\n",
    "    n = len(patch)\n",
    "    index = np.argsort(patch.reshape(n, -1).sum(-1))[:num_patch]\n",
    "\n",
    "    y = s * (index // (w // s))\n",
    "    x = s * (index % (w // s))\n",
    "    coord = np.stack([x, y, x + s, y + s]).T\n",
    "\n",
    "    patch = patch[index]\n",
    "    if len(patch) < num_patch:\n",
    "        n = num_patch - len(patch)\n",
    "        patch = np.concatenate(\n",
    "            [patch, np.full((n, patch_size, patch_size, 3), 255, dtype=np.uint8)], 0\n",
    "        )\n",
    "        coord = np.concatenate([coord, np.full((n, 4), -1)], 0)\n",
    "    return patch, coord"
   ]
  },
  {
   "cell_type": "code",
   "execution_count": 16,
   "metadata": {},
   "outputs": [],
   "source": [
    "normalize = A.Compose(\n",
    "    [A.Normalize(mean=[0.485, 0.456, 0.406], std=[0.229, 0.224, 0.225],)]\n",
    ")"
   ]
  },
  {
   "cell_type": "code",
   "execution_count": 17,
   "metadata": {},
   "outputs": [],
   "source": [
    "class PatchTestDataset(Dataset):\n",
    "    def __init__(self, df, transform=None, suffix=\"tiff\"):\n",
    "        self.df = df\n",
    "        self.labels = df[CFG.target_col].values\n",
    "        self.transform = transform\n",
    "        self.suffix = suffix\n",
    "\n",
    "    def __len__(self):\n",
    "        return len(self.df)\n",
    "\n",
    "    def __getitem__(self, idx):\n",
    "        file_id = self.df[CFG.img_id_col].values[idx]\n",
    "        if self.suffix == \"tiff\":\n",
    "            file_path = f\"{TEST_PATH}/{file_id}.{self.suffix}\"\n",
    "            image = skimage.io.MultiImage(file_path)[CFG.tiff_layer]\n",
    "        elif self.suffix == \"jpeg\":\n",
    "            file_path = f\"{TEST_PATH}/{file_id}_1.{self.suffix}\"\n",
    "            image = cv2.imread(str(file_path))\n",
    "            image = cv2.cvtColor(image, cv2.COLOR_BGR2RGB)\n",
    "\n",
    "        patch, coord = make_patch(\n",
    "            image, patch_size=CFG.tile_sz, num_patch=CFG.num_tiles\n",
    "        )\n",
    "        # augment sequence\n",
    "        if self.transform:\n",
    "            for i in range(len(patch)):\n",
    "                augmented = self.transform(image=patch[i])\n",
    "                patch[i] = augmented[\"image\"]\n",
    "\n",
    "        normalized = normalize(image=patch)\n",
    "        patch = normalized[\"image\"]\n",
    "\n",
    "        patch = patch.transpose(0, 3, 1, 2)\n",
    "        patch = np.ascontiguousarray(patch)\n",
    "\n",
    "        return patch"
   ]
  },
  {
   "cell_type": "markdown",
   "metadata": {},
   "source": [
    "### Model"
   ]
  },
  {
   "cell_type": "code",
   "execution_count": 18,
   "metadata": {},
   "outputs": [
    {
     "name": "stdout",
     "output_type": "stream",
     "text": [
      "/home/ademyanchuk/Projects/ChestXRay/submit_panda/24-05-2020-15-51_loss.pth\n"
     ]
    }
   ],
   "source": [
    "ls {ADD_DIR}/24-05-2020-15-51_loss.pth"
   ]
  },
  {
   "cell_type": "code",
   "execution_count": 19,
   "metadata": {},
   "outputs": [
    {
     "data": {
      "text/plain": [
       "<All keys matched successfully>"
      ]
     },
     "execution_count": 19,
     "metadata": {},
     "output_type": "execute_result"
    }
   ],
   "source": [
    "model = PatchModel(pretrained=False)\n",
    "\n",
    "weights_path = ADD_DIR/\"24-05-2020-15-51_loss.pth\"\n",
    "checkpoint = torch.load(weights_path, map_location=device)\n",
    "model.load_state_dict(checkpoint['model_state_dict'])"
   ]
  },
  {
   "cell_type": "markdown",
   "metadata": {},
   "source": [
    "### Inference"
   ]
  },
  {
   "cell_type": "code",
   "execution_count": 20,
   "metadata": {},
   "outputs": [],
   "source": [
    "def inference(model, test_loader, device):\n",
    "    \n",
    "    model.to(device)\n",
    "    model.eval()\n",
    "    \n",
    "    preds = []\n",
    "\n",
    "    for i, images in enumerate(test_loader):\n",
    "            \n",
    "        images = images.to(device)\n",
    "            \n",
    "        with torch.no_grad():\n",
    "            y_preds = model(images)\n",
    "            \n",
    "        preds.append(y_preds.to('cpu').numpy().argmax(1))\n",
    "\n",
    "    preds = np.concatenate(preds)\n",
    "    \n",
    "    return preds"
   ]
  },
  {
   "cell_type": "code",
   "execution_count": 21,
   "metadata": {},
   "outputs": [],
   "source": [
    "def submit(sample):\n",
    "    if TEST_PATH.exists():\n",
    "        test_dataset = PatchTestDataset(sample)\n",
    "        test_loader = DataLoader(test_dataset, batch_size=CFG.batch_size, shuffle=False, num_workers=2)\n",
    "        preds = inference(model, test_loader, device)\n",
    "        sample['isup_grade'] = preds\n",
    "    return sample"
   ]
  },
  {
   "cell_type": "code",
   "execution_count": 22,
   "metadata": {},
   "outputs": [
    {
     "data": {
      "text/html": [
       "<div>\n",
       "<style scoped>\n",
       "    .dataframe tbody tr th:only-of-type {\n",
       "        vertical-align: middle;\n",
       "    }\n",
       "\n",
       "    .dataframe tbody tr th {\n",
       "        vertical-align: top;\n",
       "    }\n",
       "\n",
       "    .dataframe thead th {\n",
       "        text-align: right;\n",
       "    }\n",
       "</style>\n",
       "<table border=\"1\" class=\"dataframe\">\n",
       "  <thead>\n",
       "    <tr style=\"text-align: right;\">\n",
       "      <th></th>\n",
       "      <th>image_id</th>\n",
       "      <th>data_provider</th>\n",
       "      <th>isup_grade</th>\n",
       "      <th>gleason_score</th>\n",
       "    </tr>\n",
       "  </thead>\n",
       "  <tbody>\n",
       "    <tr>\n",
       "      <th>5515</th>\n",
       "      <td>87c639ec5365c2d6d61581be6407c8b6</td>\n",
       "      <td>radboud</td>\n",
       "      <td>5</td>\n",
       "      <td>4+5</td>\n",
       "    </tr>\n",
       "    <tr>\n",
       "      <th>7977</th>\n",
       "      <td>c10eb86a927f359f5d1e573927f19945</td>\n",
       "      <td>radboud</td>\n",
       "      <td>1</td>\n",
       "      <td>3+3</td>\n",
       "    </tr>\n",
       "    <tr>\n",
       "      <th>9742</th>\n",
       "      <td>ec11cdbfe083f766ebc6a851353a1662</td>\n",
       "      <td>karolinska</td>\n",
       "      <td>1</td>\n",
       "      <td>3+4</td>\n",
       "    </tr>\n",
       "    <tr>\n",
       "      <th>611</th>\n",
       "      <td>0f83710916fcc2edf1a7a9a103fd48ac</td>\n",
       "      <td>radboud</td>\n",
       "      <td>2</td>\n",
       "      <td>3+4</td>\n",
       "    </tr>\n",
       "    <tr>\n",
       "      <th>1837</th>\n",
       "      <td>2e53a31a0727921e823b781914782036</td>\n",
       "      <td>karolinska</td>\n",
       "      <td>1</td>\n",
       "      <td>3+3</td>\n",
       "    </tr>\n",
       "  </tbody>\n",
       "</table>\n",
       "</div>"
      ],
      "text/plain": [
       "                              image_id data_provider  isup_grade gleason_score\n",
       "5515  87c639ec5365c2d6d61581be6407c8b6       radboud           5           4+5\n",
       "7977  c10eb86a927f359f5d1e573927f19945       radboud           1           3+3\n",
       "9742  ec11cdbfe083f766ebc6a851353a1662    karolinska           1           3+4\n",
       "611   0f83710916fcc2edf1a7a9a103fd48ac       radboud           2           3+4\n",
       "1837  2e53a31a0727921e823b781914782036    karolinska           1           3+3"
      ]
     },
     "execution_count": 22,
     "metadata": {},
     "output_type": "execute_result"
    }
   ],
   "source": [
    "if local:\n",
    "    sample = train.sample(50)\n",
    "submission = submit(sample)\n",
    "submission['isup_grade'] = submission['isup_grade'].astype(int)\n",
    "submission.head()"
   ]
  },
  {
   "cell_type": "code",
   "execution_count": null,
   "metadata": {},
   "outputs": [],
   "source": [
    "submission.to_csv('submission.csv', index=False)"
   ]
  }
 ],
 "metadata": {
  "kernelspec": {
   "display_name": "chestxray",
   "language": "python",
   "name": "chestxray"
  },
  "language_info": {
   "codemirror_mode": {
    "name": "ipython",
    "version": 3
   },
   "file_extension": ".py",
   "mimetype": "text/x-python",
   "name": "python",
   "nbconvert_exporter": "python",
   "pygments_lexer": "ipython3",
   "version": "3.7.7"
  }
 },
 "nbformat": 4,
 "nbformat_minor": 4
}
